{
 "cells": [
  {
   "cell_type": "code",
   "execution_count": 9,
   "id": "2a82a7dd-bf62-466b-9f8d-f3672afaade2",
   "metadata": {},
   "outputs": [],
   "source": [
    "import altair as alt\n",
    "import persist_ext as PR\n",
    "import pandas as pd"
   ]
  },
  {
   "cell_type": "code",
   "execution_count": 10,
   "id": "141692b1-e2d8-41c8-8a4f-2ec0fc55a40b",
   "metadata": {},
   "outputs": [],
   "source": [
    "df = pd.read_csv(\"avalanche_data.csv\")"
   ]
  },
  {
   "cell_type": "code",
   "execution_count": 11,
   "id": "dad12eed-55ac-4b4d-a691-2cfe8b001c99",
   "metadata": {
    "__GENERATED_DATAFRAMES__": "ᯡࡁ䃼࿀挡場昡氰ন̅ണᠮ☠嬤宭ṅ⢀ڤ¶Ƽ¨Ԗⲝᣐ̀ৠᗡO塰  ",
    "__has_persist_output": true,
    "trrack_graph": "ᯡ࠽䈌ʀ匦㢠⹱⁣¬〻<῀ⴴƬœࡀ୉ƹߊ㲢ᦀƴ䂆䪌媠嘠䙄倡ᙰ䡡劅柤♢媽Ħ♍泘簒ࠣ℠΁䌯≠ኤРᜰ嵐üメ⹁͙㶄ᢠ֨廈n݄V䐠 怰ીǹᐴ瑐卅ྸ䖬晁凅䊑ᔈᩐ汅ΦǢ%欉甌䙨噽ㄠ㔢挥'䦡ဥ儢Ⲏ╘ⱚ៧⤠˸恍⣢ၴᡄኂ扁Čℤ⩡椆⤊࿫㰶⠥笉眶᳈戫Ɋ綎Óڸ堢㰠ຯ杏౑க焢ᒓ峖⨸晠䂂ҷ劢壌ฦ䄁⡔బዃࣤᐠ䌫ࢴహ䄁入ᡲ䚪堹㮥瞘␭఩咙༔溼ᒨ抑㊱ၰ劉◳ᓤ犙ŦɈ䫳љ抅⋑㱽䫂㨉ཛᗫ犥ㅴ哊ೀ䠠ٲ᧞暴 ဩ竟䀵ヹ癠㧧Ċ垗௣琙ŵ䐪Ⅰ塁喣࠰㢏䵇஥䱂侤⋁㴡ͥ䁥⒒坪稌็ቨラвो⏱ప൩戔婛㇇埕ᶎ埃扐ằ岉᭭㎙䧄壌歽ᎁČ笣圂㣬纓匍㨽㩘ౣ!∼ㅪ燘倰℄\"峠⡌痺฾➻我ăଷ䐩΢値ଐ䠢垡䱤㶃⛇䅀Ȉᓋ搬؉珍竵⫺❃攜熾ះ揚澇ޘⅽ̙弩̢墏䔠҂ࡢ䡐䌥⡐亠ㄼള焢ৢ䥔₤怡ߣ⎏戣༩ડₑ඘Ⲁሡ漨ᔚᤀ䈢⢒䩧䤇१⤍掛潐ણ䚝欙㜠࿊ዤ⢼⁀Ⰺᡚܻ粆ᔾ炠縏㡀lፀ欃籈犳⌈帎䄜㴇Ŝ⢸糔圉àį〠㦴扙欷战⛃䅑䋓䊱堾խ爵í䨶㚁栻׭ᩀ䄡嶵⟑₠䜍⻛嘸庯啩⢠㕠䆨㌬ᆴㄵ打䉪Ị⸔ᥪዪ᱐㍡㦗Ҭɔ㍵ᠦ囵ι埵⑑堙ยݔত䄝㪽圑㸠⊌‶΁⠧ө䆺ᚩ兀⤀㡆ᚣᐡЀ㠩Ǡ塖ᆠう↭㱸汭披ኴ䥌圄夿ትʪ偌㒱ㅸ崯␈ᗀ拡㩕㊸悽㓐ි掽ⷛ㟹ݗ㍘∥押珐疡揄瀼惒玽பᵼ⁝旄ᯅᚐ㮾眢ߊ旲岞七㒝璂瞮䚜⃖䤠愶ګ娩ᤡ翅搢籨ଣ㓨䢱碭ՠ硅Еᑅåᑋ̫䩔╁୤燠慂⊠ୢ浉亝┑彏朊ᙇ䵉庒㐒牚㉰⩖㌫樾㊪㆕┥⑗㒻Ậ櫠玑z䭪欨武櫻䐮毺ݳᬥ⊤檺⻻夗呒浻ⱚ泻宎槤䈛䁑䵤䖋㪫⟴㐷ⵕ㵨ۉᛆ᧔暧䄻໘沩᰿Ӄ⠵ىм♥ᣚˊ䐸╡ᥔ▖ॎ≚熩梱䕪ⱺ楿噁ᦖ⧋紾⢋ྍᎈ⾉㞛␼ᓩ彤昛 桹ැỹ㬸ᣧᄔᩧ䷆᤼ऎ嚽ሪ烞椝繘毖ᬥᙾ᪈ԏᱜ撂伂⩷ᯱᕔ㕾㟆娪ₜ೭⳽䵏$⧗ᤑ㌴簼ր所䢉ɱ〪䃀ᴣ囚Ȑᘰ၌Ā巌ₜྩ灠痂䗩㖻䬋㻐䠿ᅬᎀ偡⺍ⅼᑔហ淅⇻ሡ傎曎⫇⸭挠䷲硱ഫ宴ʗ㞕睂❠ˁၢ᭼栴⏤◙⒕⫨篇䤞犊᪬炾⩐ှ怭ႉ⹖㢨㍥ఢ牎䓡恞೰縸㐽ಈ壞⅂☴ଢ۠ᤵℛ⡡䡺၈ᒡਧŅᙶᅁݸ䈏櫮ԍ卶㐨Ẋᛔ㦛࿐➟㉮緈㬕ࡸⴸ夰ᘉ䭕Łᅄ偭燌㿇ᠠ棐䃶灻ᄘ㭘᪼⾂䎞懘ఇڃ䅘㟺ㇱ䈙ᜳ箖ᙖ㐼㋼粋㲤樨䄺ʀӧ氼عㆵᦓᓒՊ㰫᪃᳾Ј嵪㓆昞㛪ⲣ᠂䅇⑌氜孑㎖ルᢱ旓ధḮ㙹篩㉓Ὥ๏↼⨧⺑擜氫Ფ૒⡇ࣱàủ楰a⡔⃰も⭹㙰羉恸੡ᕹ┾䀛Ɲॠࢠы䟾侵尰མ嘣ⷫ孻岾妙ኆ䢃㍬嘶㙁⎸屟ᦍ义၅Ζ➩䂏࿎㼲䓩搳Ⱔነ屆⊒⊰Ⴁݢ儠㹰ᗞᖡ繄⭑౶䊄嗚ᑩ䫴睴ठâ伫ᤖⶽ剶ⓠὰY 䖾㚨ⒸƜᰢ嬝⒜㝱ö倠抚Ġ䴷働㷣汵ჩ㴃䤫ᓼ⥌㖀ઋ⹔㒽̙抑㣈䢪ਭಱ㜍兽毂簯崴㽅ề❏᯷ᘤ⾔ᨥ⧻捑㕏㰺⌘䆱窖᫠䎖䭞⺷㡷柲ヹಿ坢Ή⚃㬃㽭悰⦼቟槤佖狾␫熁៴粲峩榡㮾祃剪⇂橃㸁⍩噼糬˵椥෰䧤Ռ㐶ᅸࢡ牝㧵ⱉ恞Δ攥ᙈᬨࡷႹ嬵䧊䢡㧋ېǕ⚪䀠ˉ尥撣‮歾Ǵœ呬䒡竟⣐庭ଔ䍣哞䌉⦦ᥠ⩈⚅⡫オ渴Ⴜ墂簡䣹峢ፖ໨ፌԶ⡃丽㙔污环悧姢ᖜᘪ䫎ૠ併煶ळ䕋党ᒠ  "
   },
   "outputs": [
    {
     "data": {
      "application/vnd.jupyter.widget-view+json": {
       "model_id": "93162709e1324757befc834b4901d0f4",
       "version_major": 2,
       "version_minor": 1
      },
      "text/plain": [
       "PersistWidget(data_values=[{'__id_column': '1', ';Region': 'Salt Lake', 'Year': 2012, ';Trigger': 'Snowboarder…"
      ]
     },
     "execution_count": 11,
     "metadata": {},
     "output_type": "execute_result"
    }
   ],
   "source": [
    "PR.PersistTable(df, df_name=\"av_cleaned\")"
   ]
  },
  {
   "cell_type": "code",
   "execution_count": 13,
   "id": "f1503d26-a35b-421d-a713-b1a865223bfc",
   "metadata": {},
   "outputs": [
    {
     "data": {
      "text/html": [
       "<div>\n",
       "<style scoped>\n",
       "    .dataframe tbody tr th:only-of-type {\n",
       "        vertical-align: middle;\n",
       "    }\n",
       "\n",
       "    .dataframe tbody tr th {\n",
       "        vertical-align: top;\n",
       "    }\n",
       "\n",
       "    .dataframe thead th {\n",
       "        text-align: right;\n",
       "    }\n",
       "</style>\n",
       "<table border=\"1\" class=\"dataframe\">\n",
       "  <thead>\n",
       "    <tr style=\"text-align: right;\">\n",
       "      <th></th>\n",
       "      <th>;Region</th>\n",
       "      <th>Year</th>\n",
       "      <th>;Trigger</th>\n",
       "      <th>;Weak Layer</th>\n",
       "      <th>Depth_inches</th>\n",
       "      <th>Elevation_feet</th>\n",
       "      <th>Vertical_inches</th>\n",
       "      <th>Coordinates</th>\n",
       "      <th>Month</th>\n",
       "      <th>;Aspect</th>\n",
       "      <th>Day</th>\n",
       "    </tr>\n",
       "  </thead>\n",
       "  <tbody>\n",
       "    <tr>\n",
       "      <th>0</th>\n",
       "      <td>Salt Lake</td>\n",
       "      <td>2012</td>\n",
       "      <td>Snowboarder</td>\n",
       "      <td>New Snow/Old Snow Interface</td>\n",
       "      <td>14.0</td>\n",
       "      <td>10400.0</td>\n",
       "      <td>360.0</td>\n",
       "      <td>40.577977000000, -111.595817000000</td>\n",
       "      <td>11</td>\n",
       "      <td>North</td>\n",
       "      <td>9</td>\n",
       "    </tr>\n",
       "    <tr>\n",
       "      <th>1</th>\n",
       "      <td>Salt Lake</td>\n",
       "      <td>2012</td>\n",
       "      <td>Skier</td>\n",
       "      <td>New Snow/Old Snow Interface</td>\n",
       "      <td>30.0</td>\n",
       "      <td>9700.0</td>\n",
       "      <td>1200.0</td>\n",
       "      <td>40.592619000000, -111.616099000000</td>\n",
       "      <td>11</td>\n",
       "      <td>North</td>\n",
       "      <td>11</td>\n",
       "    </tr>\n",
       "    <tr>\n",
       "      <th>2</th>\n",
       "      <td>Salt Lake</td>\n",
       "      <td>2012</td>\n",
       "      <td>Skier</td>\n",
       "      <td>Facets</td>\n",
       "      <td>36.0</td>\n",
       "      <td>10200.0</td>\n",
       "      <td>5400.0</td>\n",
       "      <td>40.599291000000, -111.642315000000</td>\n",
       "      <td>11</td>\n",
       "      <td>North</td>\n",
       "      <td>11</td>\n",
       "    </tr>\n",
       "    <tr>\n",
       "      <th>3</th>\n",
       "      <td>Salt Lake</td>\n",
       "      <td>2012</td>\n",
       "      <td>Skier</td>\n",
       "      <td>Facets</td>\n",
       "      <td>42.0</td>\n",
       "      <td>10400.0</td>\n",
       "      <td>9600.0</td>\n",
       "      <td>40.578590000000, -111.595087000000</td>\n",
       "      <td>11</td>\n",
       "      <td>North</td>\n",
       "      <td>11</td>\n",
       "    </tr>\n",
       "    <tr>\n",
       "      <th>4</th>\n",
       "      <td>Salt Lake</td>\n",
       "      <td>2012</td>\n",
       "      <td>Skier</td>\n",
       "      <td>New Snow/Old Snow Interface</td>\n",
       "      <td>24.0</td>\n",
       "      <td>10000.0</td>\n",
       "      <td>1800.0</td>\n",
       "      <td>40.591275000000, -111.612425000000</td>\n",
       "      <td>11</td>\n",
       "      <td>North</td>\n",
       "      <td>10</td>\n",
       "    </tr>\n",
       "  </tbody>\n",
       "</table>\n",
       "</div>"
      ],
      "text/plain": [
       "     ;Region  Year     ;Trigger                  ;Weak Layer  Depth_inches  \\\n",
       "0  Salt Lake  2012  Snowboarder  New Snow/Old Snow Interface          14.0   \n",
       "1  Salt Lake  2012        Skier  New Snow/Old Snow Interface          30.0   \n",
       "2  Salt Lake  2012        Skier                       Facets          36.0   \n",
       "3  Salt Lake  2012        Skier                       Facets          42.0   \n",
       "4  Salt Lake  2012        Skier  New Snow/Old Snow Interface          24.0   \n",
       "\n",
       "   Elevation_feet  Vertical_inches                         Coordinates  Month  \\\n",
       "0         10400.0            360.0  40.577977000000, -111.595817000000     11   \n",
       "1          9700.0           1200.0  40.592619000000, -111.616099000000     11   \n",
       "2         10200.0           5400.0  40.599291000000, -111.642315000000     11   \n",
       "3         10400.0           9600.0  40.578590000000, -111.595087000000     11   \n",
       "4         10000.0           1800.0  40.591275000000, -111.612425000000     11   \n",
       "\n",
       "  ;Aspect  Day  \n",
       "0   North    9  \n",
       "1   North   11  \n",
       "2   North   11  \n",
       "3   North   11  \n",
       "4   North   10  "
      ]
     },
     "execution_count": 13,
     "metadata": {},
     "output_type": "execute_result"
    }
   ],
   "source": [
    "av_cleaned.head()"
   ]
  },
  {
   "cell_type": "code",
   "execution_count": 6,
   "id": "b8d9577c-7e87-4201-a031-df0ac6e278e0",
   "metadata": {},
   "outputs": [
    {
     "data": {
      "text/plain": [
       ";Region            string[python]\n",
       "Year                        Int64\n",
       ";Trigger           string[python]\n",
       ";Weak Layer        string[python]\n",
       "Depth_inches              Float64\n",
       "Elevation_feet            Float64\n",
       "Vertical_inches           Float64\n",
       "Coordinates        string[python]\n",
       "Month                       Int64\n",
       ";Aspect            string[python]\n",
       "Day                         Int64\n",
       "dtype: object"
      ]
     },
     "execution_count": 6,
     "metadata": {},
     "output_type": "execute_result"
    }
   ],
   "source": [
    "av_cleaned.dtypes"
   ]
  },
  {
   "cell_type": "code",
   "execution_count": 15,
   "id": "733ead7e-413c-4675-8b8f-bedbdf43768d",
   "metadata": {
    "__GENERATED_DATAFRAMES__": "ᯡࡁ䃼࿀❐ᶡ春ᥠ㌢Ⱑ癠♀ת᝔ǩ䀶況燃䓊䲗怭Ь͘İਏኬæ䈠⹐Ž䠢糅  ",
    "__has_persist_output": true,
    "trrack_graph": "ᯡ࠽䈌ʀ匦㢠⹰ڀ⬠ⱐ࣠両墀ୢ䙈Qࣻì䨠玶䁆ᄢᨉ卬簓⛝ୄ倡ᙰ䡣冃摂♲媽ᅦᜍᷚ簔ຂ&䈠۠჻ء䒠┨ࠠ⺚₀ǘ憣屢֖绠ㆠ֨䆴)挄䀦梠ガČ棈ᑗ䔨䒃͂僁ೱ䩔ౖप᜺᳤㐳ダ傔Ú紣Ꮉ䤼俍焪᣹䠡犀⑖㑻ἣμ惧懑簔Öᠻᇐ䐨昩ڹ墨⃛ࢁ檰㙕䀺湔㈩澦⨡㼚Ѕ䚗䛡໙客Ⳣ暌¾'ᐛ俦ฃ官䂩⺛ᇤ㎹䠰ౡᐔᒒᎤ䠬ぼભ玘偂ᜭ熁䤴Ա䀴ᢈ岭烱癷䐁ፔぶ䨂㫳穈噏੅䥴䴷䚅奼彈⬵▒䝮٣渦⹀䥄⥔嶵䪐崒䞲⧀攪廬㊸悰,卐纍ᐠ@ť㔰㦊堡竄ᓯ⠠⣸㑔⚧ᄕᬤߋ凨འ५刊1భ燒粆恛玠浮䯏⿣ᢾ綮刧岐㛚爓粡࡭ォ壬⤥ߣ㳤ణ櫪猘̠㋫㳔ఢ剐勘⣤ӹ帧஭撲じĸ䕀⡴ⴡ䊂堼ᜧ䐀Ѣ፥嗶㫽⽿吸ㄔଃ¹♓㡞㑺婋ᚓ㛸ₛǨ珙亓ၲ牓⻗ۿ⎡䑐ǜ凶滀ᐢٛ琠⮸Ȟᷯϭ▾㯩硠⮃ㄜおע⠡þҢࣾㆨ⸌л灄/⍄佞䄤ٗ猣䧍╬朼ࡣ渲ॣ㢘ඈᢛ䓣ႾഥѤ䑵優ڨ琲ᛠ䘦΄⍞Ɂ塐愽搰柍㥑ⓤ‹ड灤䉑焺ூ增ඃ䱡ങ‱劑㯙哔游⏔ໃ➔Ệ栕ǐ㔭㹜ܩന怠瓑ᇰ笎⏯ᄘᔃ䤪㷢⨂ὧⅸⰢᢳᨪ椲ᢩ樰ࡅ䧚Წ⧪⡍⤬∅䕔㵬粁ᐥ繂ϗ塈ѣᡰ⃥᜕぀䣚⓳渶啃塭៦漕ᷠ>剴ٸ磜咵प攦წƦ㓹埊ឣ垲眢择䶫᛾捞橚崼枰檬ፙ坓斍簷⋍厴灅祂䗬擖䔦ⱛĤ濮̦᱂ᛑ眰৔₿ӭ䛇爜u恸嫢Ⅸ滶∖԰㭈懭↮䴲㤈珸棕㘼礆㳠夶ዪ䈔૦䅶᫮塖⛰⮨眱໶撈䌶☭ྶ攲夰櫻䄃䑩壴ጥ咘ᠼだ朿⭥殬䈊糍䱀紡ᢖ⋀捝㓠ጤ傽゠爠䋤爦ͤ∦䌲ᨪ䀬⑯䘶∹䈐ᨨ挀縿ϰ㈹壅䳣墪♼⫒璣䣪㲮⤴թ⤈槪䫮㖧刔ƣĬ⎟ð痺㋬淶搉緿∾揰瀡玲碨⮦熞အ章柴䃾妿秼`窞㏾穜ၒ㖽⡓⛡⏑דຆ䜥ْ睽寓圙揄Ꮣ朥➽㓅梤滚幱嬋峅ἄʁ僜ᗗᬓ忷哜㶅ȏ撠⩚积㈛ڕ䵁癨¼⽯∙׏漞䞯♄ɏ⾱ᄧ㈽ⷰ↣⾀斛ǐ⌯Ⴔ稵糀ⰷႂ☘琥਒慈İႭ㢛侔恢ǟ໠乆掜⿧籇刚ᐧ穽䍁㶾‧ॠ吨珈㤂桁Ʀ㪦Ӭຘ狿5䥸喺墋ഢ欬Ƕ㶆䀦撌栤泭弸␥հ狕⭎ρش戚梍䛴洢僣᧚冊व橣♔䤇⩶䶉ᆵ椕圣桗刚ൻហ࣬瓎䗤熨ⶼᅑ厪さࠣ硩㓬炩၈䍠Է储ᩃ瀨䥰Ƃঙ㉨氯⃾ൄ㐤泸û䷍੻Ң᎜懶㊊ⴈ敭ᣦ䷑壂熻Ęഀ璏ぼ㾌悮䡩തņᑙ㜢恧⧂䝍䗸綧๥憘垻ᴓ䵚὆㫞ດ᝛愠快主ࠤ◼ऎ巠₥㡿షⱤ刾娄Ĭ∢恜吟䛙࿊ય⨔澒⛾≉㈓ᢝ呪㋯䉦⾨ǐ᳕怲䄸撬愑ա㠧ᆲᩀ㱪ƙ㷇ₜ懀⠫䁻ኔቁ尷䖪㋏曬㕴⣣႒崮凱Ԅ栲撔⛩ڽ䫾⍢ᐨ⢔Ὀ㫫栣䭄ᓢ倆⊲㉸汰純⭚ᖾ䬝滒嗯ᐪ彡઩⦵⼕疗Х犴其᠁⍢⇺彠٧䀯㕌喗ࠊ᡼᪭⛫渼㕙㏉⚻梬嚷䵦䌥ࡶ媨壕㭲刖䄚㺎暁᎑嵓⏚㉸竎̠⽦Ԁ㸊ၷ棸ਫ℉Ȍ㤯沪љ⨴㡔ʓ㑜⨸प›ݜᱬ⓮ឰ湃掦ᯣ㲅ܘ羬Ԁ䴩⸾烞唃Ԡ᯼⌢㱨㟂ᢎन滜₹绁ᓬ檲憧垻㦼䠓㣤ଧ͑ᆇ幦兌ᦺⱚ㗐⊛䄐慆儞ྲྀ఩囩ࣣ䐹䍸ⱥ䶧孲ᐣ乤Ȗ䗯皪䍡䰭䁣厒䁘㥌Ь㒸盉口椩潲⧱右䨐弣⟞㭬汎䩝庼̝ᅋ旣Ջ䲆ު稶曎檶睄畱溕槊Ⓠ䥱㷘ὦᑑ┒缑保䦷絟ᤵ⿀ᢖ㐮嚖ᔏ⣗澏桹⡔╸⺜ݟȐᜡ籴廕噊߀梣抒潠䐶đ֣ᡏ஀Ḡዳ圙䱃ᥚ䄣竞⒀⩴ႇ歀濵䜔෕₍䆮垢ჵ檨⛂㶂ᵁ⾋Ķ㹘ٸᄋ⃩氐㈹嵳⎞ၢ㚧కӺ煩劻⇃䑓⁅㍴㓬ৢ  "
   },
   "outputs": [
    {
     "data": {
      "application/vnd.jupyter.widget-view+json": {
       "model_id": "d3a2d9d10ea2484eb8ebc7946ab5a641",
       "version_major": 2,
       "version_minor": 1
      },
      "text/plain": [
       "PersistWidget(data_values=[{'__id_column': '1', ';Region': 'Salt Lake', 'Year': 2012, ';Trigger': 'Snowboarder…"
      ]
     },
     "execution_count": 15,
     "metadata": {},
     "output_type": "execute_result"
    }
   ],
   "source": [
    "PR.plot.scatterplot(av_cleaned, x=\"Elevation_feet:Q\", y=\"Depth_inches:Q\", df_name=\"av_range_fixed\")"
   ]
  },
  {
   "cell_type": "code",
   "execution_count": null,
   "id": "037a5d33-8cf5-4089-9943-82b8ac4f8f94",
   "metadata": {},
   "outputs": [],
   "source": [
    "av_range_fixed.head()"
   ]
  },
  {
   "cell_type": "code",
   "execution_count": null,
   "id": "2e708869-980f-4061-82cf-844406294c15",
   "metadata": {},
   "outputs": [],
   "source": [
    "av_range_fixed[\"Elevation_feet\"].describe()"
   ]
  },
  {
   "cell_type": "code",
   "execution_count": null,
   "id": "49352409-3578-4e6c-90d5-aa7001843703",
   "metadata": {
    "__GENERATED_DATAFRAMES__": "ᯡࡁ䃼࿀ܧ堹怷ᐤ怣¬璠⹰Őڀ๬ÖŬ箭Ẅ榃䀺ࠢⰰɀᏠᶥ㘡䚘䠡ᰢ嵈̙┠ ",
    "__has_persist_output": true,
    "trrack_graph": "ᯡ࠽䈌ʀ匦㢠⹰Ӣ吨メᰣᠱ䁍6ఢ堣タ圹ހ࣠㌵ਠ猋嬠೹◡寎ተ¶⡨⃲㄀ᅎ╸䚽⌶䌍Კ砪ठ͢&憡䙁撠┨ࠠ⼚₀ǘ憣屢֖绠ㆠ׈憴)挄䀦桙᣸ᡰ☴㝁ᾶɠއ掂ࡑ廘㉢㪎ԣ䅥Â旐䀡㨦䍇ᦲᮠ渂࣡壡‡犀⒜ᩥᢩ䷬Ⅹ➂ਬÖᠻب䐣ةڹ媨⃛ࢁ⪰͕䀺湑䈩澤⨡㸦Ѕ渶⛡໙客Ⳣ暌¾'ᐛ俦ฃ官䊩⺛ᇡ䎹䠰ᱩၰ⤦ʭ䄔⡢᯦⎐倲ܤ℀奢Հၐ婒̦懐撛ᘁ穨䴸ׄ碼璣إࣤ焤䥇ℭ楬孋䰅ռᣊ⮙斐㈾牓典幈䬁䤮⍅䤄祜ྰᖵ皃ᓦҠᦧ疉†Ġ্┥ڠʾᐺൖа滗〠╝䭲ϼ㠾布夺罀∳ⱂ♗䓠ऩᕌ亩ᔨ梬Ꭻᆨ఺⊰凉㘪॰᣾Ϋ䜂䧰ⰾѥᅈ橍སㅸื௧焤慃⳰᭚滏⿴೸湞P䳆᧘ὔⱺᗀ㧖汀㶡撓峮㦰⦖嶎ඡ䜧ࢀH厯国⁈Ȭ㠸wᠯ㹚术൙瞚㹀㚆搓ǀ硴¡庲࡭癓㱯ᚅ嘒␠Ẽ䤞ဤਸ䏦窚᪻梠㎥秞眣禞၎簞眠٢̬ѡ䤶ଐ㈦Ɛ䈭Ǥሰ≂إǄ⑻成永䇐冥஘塏⏡䤦ၨ忦懁ဠށ၀⛬占玤歸䈈歬䉩渻䁰ᥛ䃄Ս䁉水燡ဵ碑⠫䛾㿰֠ల㉞灒֚㭨ዑ癝抑笵ءޢ¤ፇߌ倸窨㳾挀儬慠◴ę㽒₩䭗樮㪽怠དྷ⶚⒕欦㘡ᓙ䊑Ⴧ┋⽇ⵅᶈ哧ⅲ乳䛦㒤ᝐ瓛ῇ傦вམఀ〲犏⁊梢ᠸ䮝࿧砡⮡ㄨ播ᄫᲢⴴ㊡⳴ڣⷔ㶊抬ⵦؐⴌൣ̮จ⒈䷃Ⲁ戃⊌䵳ᅁ䱥Ү灶墁䁃ḥೈ໷媳ཨ㯳㫂ㅂ䞣ǦЬ炭ᐿ哺⇉牞䈠於㯂憦檜ῌॢᷫ簣Ẏᖹᓆ敲❀咙㋄⡪᫈淉㎆墚㸧栦̻戂⾍ᦆℋㆧ⫠㳖⻯央ᨎ㨇⢥㧝ጏ㣷✋⇙泪㸁䠬㶥䛮㴾ᘁ◼Ḁ糐吆牪簁竞䨹⬘畻⨺危勔戺垼ճ戼䖻▪绒b⟴㟘漰̬熷坪痖垭緔Ꮍ䫙糒㫒㟰印坬撡ہ埐㚝砎眠昺͡⮲ǜ⹋⎄滿悀ٯ樐≇䂸ᴩ䈒ث䁲ㄭ悸೮໪溿㏰吪ၢ㟂ᶺ撡įᶢ㥖㟫稞⭿殤㮤ᮄㆀ僫઩ⷴ㖅儋⺫ᲊ㎦Ѱ㵅㟌Ẉẫ㲪Ⲵ㦊僋⚫ⲔΈ伯ၨ䝄㧶孎䛽㫖淴䶖䩠䰾䪆䱓৤  "
   },
   "outputs": [],
   "source": [
    "PR.plot.barchart(av_range_fixed, x=\"Year:O\", y=\"count()\", selection_type=\"interval\", df_name=\"av_post_2010\")"
   ]
  },
  {
   "cell_type": "code",
   "execution_count": null,
   "id": "8551c1ea-119c-426c-a6e7-e0ef78a23368",
   "metadata": {},
   "outputs": [],
   "source": [
    "av_post_2010.head()"
   ]
  },
  {
   "cell_type": "code",
   "execution_count": null,
   "id": "0cbb7581-2d9a-4524-877c-57e3e4da6860",
   "metadata": {},
   "outputs": [],
   "source": [
    "av_post_2010[\"Year\"].min()"
   ]
  },
  {
   "cell_type": "code",
   "execution_count": null,
   "id": "e62ce52d-d6f4-4d73-aa12-34f6a069ee10",
   "metadata": {
    "__GENERATED_DATAFRAMES__": "ᯡࡁ䃼࿀朥ᦦϸރࠥ攠☣ᠮ☠孙ᮭṥ⯀ڤ¶ᠡࠩ煸紣൐̀ৠᗮO塰  ",
    "__has_persist_output": true,
    "trrack_graph": "ᯡ࠽䈌ʀ匦㢠⹰ૠ̠ᰤ〽䁣ੈ׃⁑䘼䐢怬恓ൂʒ䥲婰僪㹕〩䏩ᐠ▴ሰ瓹礨䮴嗀泵巇㝾Ţ†洐ĸ挈䠤傡%戧☠ᮬᢋ䑁曌沥အㄻ唠ৱ撠۱ā樘ᢈ̣ḩઠ۠仂㏳ᡰば∴㼪ᒩ䷣⁁悀䀡㩚嶛ㆲധ⩨௤媄Ȅ恨屌ɵɁ䗱䇡栢沁ᚘ愰Ḹሬ㦂Ⴇ㙃Ɋ…ଠ㖰漿滒ୈ̘痖獥剫Ȳ斎୓¼堢㰠໗ត౉ᶑ焢ነ秹灬搨ـ䠲ᰡ䂲㆐縱ૠ燈㰴ᑤ⌐刱Ρ傂☺ӡℐదʠ砾枤䃱䂺寞浩槢䣔⬷䒲ᒺ⮬旒峞⡶ᕪ⁨ጃ勂ᢼ⚤▲⩊❧◹Ჾ⁲䂪㙉⥴ᢊᜠࡅŠ\"ᠦ#巕剅ဧᡡ纛孰γ喖?…⡲瀥䫱獵㽷哾㟼ẏ០त䬰ᾯ䁄ᠺܦ䑄堺୅⏜㒄₀㄰ᡜإװ吨⨤㎴㩧守獙ቬᜠ⌰搪᪯≐ⱖҦ儐硞ၣ䈛ආ䨦梔㡎䟏恐ऴଢ䌭⎑䠵ᣬ䶙册夈欨ᎍ嬍ᝣ劏炽⤓侃几戸*ᇀ椏Ἀઠℛ䠠֓Ǐ㷆綔匎➫戢ᝌ漿怩ՠШ硄⁨稔㤡營ឡဠ㴩ᗘ㩟旰矇癕䴹僔⁁搣䁫䔣恢ଜ䵔ঐとᑢª୅ᄵфұʠ砯ۀो፠栴埤ᰴʀऽϡ儭ˢ娮ࢰ䲘䑍䒌෽玿癢⽈䦑执䎡␰ൣ廆࿉᪏僵皳叠⻛⛄⬻愘弯擑☬Ȳ⸴䃍㉕ば痒䒌᰷ƌ涰䓼唣䐤塆甬硘㒭凌㞭৒㜤榦㋬㦢⏬ઐᜰ⸰⤪冱Ƭ燕ҫ磔⽭ᦶۭ㧞ㅴ䙀ᄡ᪮叵ڰஸ୕傔捖狕嫅䂠䚮仕㛃嚕⻛傑ệ䇲纯䐑Ģ焠琽̽汽٩悾ʴ৉ˠ槛拁吷Ҥ琡䖁⑞⁌䑤浍ʣᄴ披ኴ沶▴岢刅ᶥᜍ㷂ԉ嵏⇤栮₼挤憼嘼灹㟒畼㭓牙宨䕙ែ無ߌ՝枹惙″瓘㨣睧䬫燙濉ᆑ忏烃Ð⑲⁞൥Ѵາ杜熣⪚䮲呫䏋㊖ठ䁸䫵ၴ䵂㉢憢洐᥆⳨ʋ䝐佇ᓤಳᘩठ摤䤠䡸嶩潔桁否ơవˠ吺ᘂॣࣀ値❁墻ˣ♷䞙ὗ抑嚍䭍剅㎰㗂䟌⨳ㄒᩛ㘲穕␥籆皻㍧ࡻㅒ澘歮嵁᭵ۺ䱎濻ݿᅪ卬潡ሚᚮ㦊潺৶棠㭾毩ݹ⭵ᕶ嗴ۖ嘶恕倡㊂ਢ响㷌瘈⟶瘚⿋囤ළ䴩䀸㟷咃ご䷌≕ばر儚楒值⹀ᡸᑲၐؠ␧⚢カ簰ᡧ⣑ᴲൈ䘹⭈䗄॓旉䃋䕅クኴ䟔ⴏゑ䶸ᶭ絳䨠öㆄ䌺嘦憌㡐湨ㇼᒋ㰨折枢祱䐣ㆪ憃ฆ䄘㏦⁯Ȳѭ偤䰠厺炥ᣠᠲ卾㞶媏⪀э༶䎹吒家兴ᓑႰᝁɅK擌䱂⃃஘㈴Ǎ⩣瀤⋶̡೤๡〯łᬡʭ奯㷐奇㇒य㉒չ父墴ǒ吿嫖⚠瘿ᘮ␧₻䝜㐡㲷䖛⡚礰✖潽矾簄㻁䌰ጿ䡠᫦汱͏Ⲁ㤞ኑ⸉嫎ႜṄ籜ὣ䪤䅵ᶕ唦ྼ歬㲯䧼ᵬ㱇俚竁䰕ㄑᙒ℺⨀ళ∱ሧણ砸ፄಁᐩเ㰡䑐䩠ᆣŨਠ〽ðɡ䁂ⅸ琈⥎฼㧾㔓䦈஼㢍ও᝔犀⟁经⸝㴫Ðሠࠝ㓤ͦଡ傉ȋ䎬ず඗́憢Ճ㈨䱔೦䟩䇧ᶢ澷ɟἥᩑᣋ䀂ⲉ㌁䨷ᛜ၌瑑帘◡劘䂓ᝓ慿䶶≍⇄⹥὞⑄à碶ʰ⹢〴䇠Ԩ⒴ޡح㑰ઠ䩙灤ڀ暅ഐ㮎㊮斄ᩎ旫᭤㷓䰈俗㦕ّĆ㆞⒠吳㣸ૄ橮Ǵ渠恦乤ᚻԍ᧳嵗吚㯦㎠坴浬敱⼵暳⃍ᵊ嵇匚⢱⮥⥚ᕣᱬ䛴最夒淈\"䗜浣吤\"⠦墇懑䁾⣵ᓀ攨̯惄౴ᄳᘆ兙⠶奐⢂䪞Ҭᰢ䁰ಈ堠惰ᲂڑㄭᾩ䛛਩㘂৮Ḳ篲Ꭿ䯧樷㋔᠗瘯刼㇬ᖔד厧㉠㠻癤׎ђ湸ඦ⮤㱷ᜢ垡珰㼄宋獔㹔縢ல戹քᑐအ悘⚧妨䢐呈傸⧆則䇂樘瀭櫮ᶤ❬孳ὔ⬤⵶信扞坡␭ᥠ冕ǰ㒋♨擺㐭核Ͳ〷ᙂ瞉݉㿭䄳椥倮㕮ɥ䄫㳔ආ℟<э纾㠝剆ɐ⃕殭㷋簯瞓㋕⻥㛘獨⊠㸓瞬dᓐ㰭¨ㆢ䂓䴠⩓⌲ȧ告㲇᫘'墲庈ᙲ䨏ᴐᯈ⡐ႅܡ㩇〖憏и㾣幘̐㭮嶨噍ᙦȜप⥹䡛▶㭭ಅ瞄犚Ḍ湹娝寪⩙䙀ਤ渿Ⱅ᳠ගⷱ吤ᮨ౗䈱ɦ癉䛘桭䀼䫨尋细़硖䎘㒙咎秜ޭ䓳৊䅵檮įӱᮯ⠹ᆶ媩㛼ݷ㗺䗚ᢔ毨昡آ4僲撿ℕ燅畀ນɣ৏⍃掕ĀሕӊӺ慰䴩䝠㤸䨲ഘ厉ㅊ僉દ䤭ⶁ啺占ᵇ⬅㽶㱑㚟ᾀ๵䧠僥䁕吢痈షրຓ㖀燥ᴎ棙仴䇽嚭㷎狰㜻ẈȀ慗㳢౥燺↡՚㏑ܵ䙭擢一尼烯塝㡿䎸㕩抝瞪窔䈏݁樼ψ⸧姺⊠㢮摙㮁瘩ᔑ༭ྔ憔㿽ᒔ㷪殯ᇜ䫚浑栢印Ẅ偆̭㢬઼ڠ㎍劘徣ヲ䡁咻亱㙳Ⓛ፩㉀⦅⓴䂸䢃މ㹝楪堎㲾桚ప⸫៌Ө呭ᔉ絍㬧ᇱ侂爦ᰌ᳋敬⋬禂D✃喣Ҭ班䠿媹䓍块䏏儢⎕䰥瘞ࠋձჶ箏ඁ湺秼෇⿛棄篞帵㣗ॊ緛嶬橍⯣⵶̅崢㫒嵌糞畅ᵷ፲ᄯ䭳梪㤚盕ດ䞓刪抈喚篲勐ႌ⾫䋹偼ۇᤋマ玾㴻㇚វ熄廉㛍䖈ద㫻䦣宛ᜬފ̾㤌懙撖扐巫招寡䄣厢ྛ䞁␄㓩ฎ瑚緾䀆㪌ڤ紪复㭾⎔⑖㴎䘜搂㰁尒灜௶ᠡ᭑㹦嬾䗤ጥ≒∇䟲巃偉㣏◮䦡玾ಀ䠦堖Ʋ㱢৖縢栽ƀ椮᱖㿜Შ楤䷷䟙兀᥆ᠨᇀ⁡♬剗ᆤ䅈浦㼣凍Ⲉᦼ晑㷗䃸慴乑桃池ಘ幕悟ධ᪡ᅗ永䷩䑡䏱䅏渄棆ᰐத䅴滆翢ࡦ巔滂គ梡䶔☌坄ᣑ屬⠼彃⨮Ģ䄸␂璸呫挨婇៎ᅋ浾䯵㣝㶝檴挪ឹ䎖䆁䉥ࢻÅվ㸣塽㱟⌾欄◒⵲潎೒媫׻䌠᳒睝簳摶ዖ㫙ⶪ╪佴䴶9櫔䡦廗梐ࢼᰤ⽓Ńસ磳摐⧾ب別ὒ㒻歶嶁宣⸍泶➒搫峣戎⾑箱㖾䉺ᗗᚤ⁘䙘爖Î污䓺娓ো㑮滺ϧ᷒᥷檢毕ᇍ氯מဤ炈璨₞⢖⏗淤ᭆ䤨Φʱ挮树ၤᲞ⯑ᐔ⭖̀ሖ厫決ᶮᆮ渳汮ᶐᑲᦓ岅綿沚ྮ㞱⡒ഺ毷瀸㓶䛜昃☢∘Ӯ慱✬㇉掂≧⏈䍡挤䁲ǂ畆౎冐Ṙ嵟ప榗ཅⴔ䮲⍀硒屠ऱ㘷⮵ᕴ⭪嵐㊻夼䇁Γ㋉䵙⺆ℇᮦŗƱᘢ琳ᛠ粬ᒊ⇂䩱捣璵㳃જഀ䡟ዒᑉሡ੫⳥ᱱ∤䪙⊅ᕱ䂬᫜㵭ⓡ歲偎ⰲƾဠ稶㸃敶ᨇᒱ⣉䨞䷂灑凈ѴⲤሥ疁ຌ⬒廌p̸䜑㪡㱬᱾㜫ះ䊌ᰁ嬓Ƞ⏚ᓒ∗璟Ƕ⊠櫱(愞䭺姢俞淦ᒒ䦯侹昀❑殱盚縛▢䇲┦掾晚涪Σ揎ẩ㐖ᥓ抩朑椭掼⏞ᔞ㶫籲ᒴ䵔縤篑ᗒΰ䱰䩃ࣳ¼⚲䙆䁐因屶፱ᯢ㠩䡰Ⴘሰ⨢桘瀲ມᄮ䁸䎎ᬞ瑐帡ɱᢙ㑯ᱹ͠Ę䨩㡕ʈ条ٓ砳ര᫦榠熷౅淡䔨௟෗ᯙ䄮࢒獏ᵆί綧㐞ᰨ✣⦦䴟ᗆ㔳勊䐔择綕㊩䲬⊎㴬妳ęῤ爤㪖⁚✰綆厺びᚨ亰庢↝ῲï䩫䈍ᡥ̢㩩୽ṥཪ冗厈妰穈㞡嘂⎩傫ባ⣍☪ᢨ甼〉泰䒬柇掩ᗄ咫柍炦⑔䕬ઐ匒ᛉᡧ੩∬ٱ楬咉礃ᡞ㺩罗岳䧒㓬乖擓ᨢ樕晫㐫᪖☔⃜扰⮒断皽沧⌒ঔ沋洋ኑ搑䁤䍀婨ఒ岑ϡ渑棊Ṫಷᢞ磋≳択⏹䛯㲟㌑棅彤㿋挻៹ㆆኹǂ揌沣偛ჷ䌠嵋摇ॱॲ᪶ᨳ桡か珂巷ቁ態ள᥹䲲纐嗆३Ặ纔剸ᓐ䂥橶⢒ଔ泩㶑㋑䷔ᨄ崮犺僗䍨઀塐浰僕⍒桱屶值窣幟䆊᳥ᠢᆓ卨圉ੌ窕ઝ៥罨㟞悠  "
   },
   "outputs": [],
   "source": [
    "selection = alt.selection_interval(name=\"selector\", encodings=[\"x\"])\n",
    "\n",
    "chart = alt.Chart(av_post_2010, height=400, width=500).mark_bar().encode(\n",
    "    x=\"Month:O\",\n",
    "    y=\"count()\",\n",
    "    color=alt.condition(selection, alt.value(\"steelblue\"), alt.value(\"gray\")),\n",
    "    opacity=alt.condition(selection, alt.value(1), alt.value(0.4)),\n",
    ").add_params(\n",
    "    selection\n",
    ")\n",
    "\n",
    "PR.PersistChart(chart, df_name=\"av_seasons\")"
   ]
  },
  {
   "cell_type": "code",
   "execution_count": null,
   "id": "5f2b5efe-b66b-4eb7-a79d-38ac426fde92",
   "metadata": {},
   "outputs": [],
   "source": [
    "av_seasons.head()"
   ]
  },
  {
   "cell_type": "code",
   "execution_count": null,
   "id": "41717b3c-5387-4435-8a57-06bc08fb7ccc",
   "metadata": {},
   "outputs": [],
   "source": [
    "av_seasons[\"Av_Season\"].value_counts()"
   ]
  },
  {
   "cell_type": "code",
   "execution_count": null,
   "id": "25e36b65-db3a-42d8-98c4-dee675005597",
   "metadata": {},
   "outputs": [],
   "source": [
    "chart = alt.Chart(av_seasons, width=300).mark_bar().encode(\n",
    "    x=\"Trigger:N\",\n",
    "    y=\"count():Q\",\n",
    "    color=alt.Color(\"Av_Season:N\").sort([\"Start\", \"Middle\", \"End\"]),\n",
    "    column=alt.Column(\"Av_Season:N\").sort([\"Start\", \"Middle\", \"End\"]),\n",
    "    tooltip=\"count():Q\"\n",
    ")\n",
    "\n",
    "chart"
   ]
  }
 ],
 "metadata": {
  "__persist_keys_record": [
   "__GENERATED_DATAFRAMES__",
   "__persist_nb_uuid__",
   "trrack_graph"
  ],
  "__persist_nb_uuid__": "c621ebc0-a8f4-47be-9476-72a721e6e00c",
  "kernelspec": {
   "display_name": "Python 3 (ipykernel)",
   "language": "python",
   "name": "python3"
  },
  "language_info": {
   "codemirror_mode": {
    "name": "ipython",
    "version": 3
   },
   "file_extension": ".py",
   "mimetype": "text/x-python",
   "name": "python",
   "nbconvert_exporter": "python",
   "pygments_lexer": "ipython3",
   "version": "3.12.3"
  }
 },
 "nbformat": 4,
 "nbformat_minor": 5
}
