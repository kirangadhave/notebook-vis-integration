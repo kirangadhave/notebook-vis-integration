{
 "cells": [
  {
   "cell_type": "markdown",
   "id": "a2473582-d960-4069-8b94-73f911b2c380",
   "metadata": {},
   "source": [
    "# "
   ]
  },
  {
   "cell_type": "code",
   "execution_count": 1,
   "id": "2594b5d1-f285-46e7-bb20-55c0d04f9037",
   "metadata": {
    "trrack_graph": "໢尭䲠 "
   },
   "outputs": [],
   "source": [
    "import pandas as pd\n",
    "import persist_ext as PR\n",
    "import altair as alt\n",
    "from vega_datasets import data"
   ]
  },
  {
   "cell_type": "code",
   "execution_count": 2,
   "id": "0e6b86f1-5a66-4312-98b7-bb6550ac2bc2",
   "metadata": {
    "trrack_graph": "ᯡ࠽䈌ʀ匦㢠⹰Ҁ଴Ă䃌Ő倶䁛ԡᱥ几㍆䍑呠䌵ᬳ䷜禰තዀŌ傰䏂无≼劭ᴦ櫭ⷺ㮓焠͢&拦ᮈ䁅ШN䵀〡岁䎼ℬ㚂恑䀥傖吠❻␡娠嵍㛕彩 拱㬙ᥬばᠲ1䏦ⓦ儂厈撄扬ᚠᛦ઄怱ő䅁旆䄨ંࡋ⊢〦嬵᧝洡䂠⾶寞倦㊁㪸ᆻ䅀㡚䱅㓠਀ⱛ岀⼍ᖨ₽䋪擠㙡̪䓙ᤱ帾⅒䦰䚦╭☳ẘ⎯Ṵ䩊⦧ʣ恼㐤ↆ⳶儬⌣䐶纼ᡑǜ፝䙀懐簱੠儾㥝ࣤၸ㘧౤巴梠଍猘ܧᱮ䕨壹ᚧ䙈ԅᢺ⠑絀  "
   },
   "outputs": [
    {
     "data": {
      "text/html": [
       "<div>\n",
       "<style scoped>\n",
       "    .dataframe tbody tr th:only-of-type {\n",
       "        vertical-align: middle;\n",
       "    }\n",
       "\n",
       "    .dataframe tbody tr th {\n",
       "        vertical-align: top;\n",
       "    }\n",
       "\n",
       "    .dataframe thead th {\n",
       "        text-align: right;\n",
       "    }\n",
       "</style>\n",
       "<table border=\"1\" class=\"dataframe\">\n",
       "  <thead>\n",
       "    <tr style=\"text-align: right;\">\n",
       "      <th></th>\n",
       "      <th>Name</th>\n",
       "      <th>Miles_per_Gallon</th>\n",
       "      <th>Cylinders</th>\n",
       "      <th>Displacement</th>\n",
       "      <th>Horsepower</th>\n",
       "      <th>Weight_in_lbs</th>\n",
       "      <th>Acceleration</th>\n",
       "      <th>Year</th>\n",
       "      <th>Origin</th>\n",
       "    </tr>\n",
       "  </thead>\n",
       "  <tbody>\n",
       "    <tr>\n",
       "      <th>0</th>\n",
       "      <td>chevrolet chevelle malibu</td>\n",
       "      <td>18.0</td>\n",
       "      <td>8</td>\n",
       "      <td>307.0</td>\n",
       "      <td>130.0</td>\n",
       "      <td>3504</td>\n",
       "      <td>12.0</td>\n",
       "      <td>1970-01-01</td>\n",
       "      <td>USA</td>\n",
       "    </tr>\n",
       "    <tr>\n",
       "      <th>1</th>\n",
       "      <td>buick skylark 320</td>\n",
       "      <td>15.0</td>\n",
       "      <td>8</td>\n",
       "      <td>350.0</td>\n",
       "      <td>165.0</td>\n",
       "      <td>3693</td>\n",
       "      <td>11.5</td>\n",
       "      <td>1970-01-01</td>\n",
       "      <td>USA</td>\n",
       "    </tr>\n",
       "    <tr>\n",
       "      <th>2</th>\n",
       "      <td>plymouth satellite</td>\n",
       "      <td>18.0</td>\n",
       "      <td>8</td>\n",
       "      <td>318.0</td>\n",
       "      <td>150.0</td>\n",
       "      <td>3436</td>\n",
       "      <td>11.0</td>\n",
       "      <td>1970-01-01</td>\n",
       "      <td>USA</td>\n",
       "    </tr>\n",
       "    <tr>\n",
       "      <th>3</th>\n",
       "      <td>amc rebel sst</td>\n",
       "      <td>16.0</td>\n",
       "      <td>8</td>\n",
       "      <td>304.0</td>\n",
       "      <td>150.0</td>\n",
       "      <td>3433</td>\n",
       "      <td>12.0</td>\n",
       "      <td>1970-01-01</td>\n",
       "      <td>USA</td>\n",
       "    </tr>\n",
       "    <tr>\n",
       "      <th>4</th>\n",
       "      <td>ford torino</td>\n",
       "      <td>17.0</td>\n",
       "      <td>8</td>\n",
       "      <td>302.0</td>\n",
       "      <td>140.0</td>\n",
       "      <td>3449</td>\n",
       "      <td>10.5</td>\n",
       "      <td>1970-01-01</td>\n",
       "      <td>USA</td>\n",
       "    </tr>\n",
       "  </tbody>\n",
       "</table>\n",
       "</div>"
      ],
      "text/plain": [
       "                        Name  Miles_per_Gallon  Cylinders  Displacement  \\\n",
       "0  chevrolet chevelle malibu              18.0          8         307.0   \n",
       "1          buick skylark 320              15.0          8         350.0   \n",
       "2         plymouth satellite              18.0          8         318.0   \n",
       "3              amc rebel sst              16.0          8         304.0   \n",
       "4                ford torino              17.0          8         302.0   \n",
       "\n",
       "   Horsepower  Weight_in_lbs  Acceleration       Year Origin  \n",
       "0       130.0           3504          12.0 1970-01-01    USA  \n",
       "1       165.0           3693          11.5 1970-01-01    USA  \n",
       "2       150.0           3436          11.0 1970-01-01    USA  \n",
       "3       150.0           3433          12.0 1970-01-01    USA  \n",
       "4       140.0           3449          10.5 1970-01-01    USA  "
      ]
     },
     "execution_count": 2,
     "metadata": {},
     "output_type": "execute_result"
    }
   ],
   "source": [
    "cars = data.cars()\n",
    "cars.head()"
   ]
  },
  {
   "cell_type": "code",
   "execution_count": 6,
   "id": "7ea56cd8-7c40-45a8-b448-3b08857d8283",
   "metadata": {
    "__GENERATED_DATAFRAMES__": "ᯢ粠 ",
    "trrack_graph": "ᯡ࠽䈌ʀ匦㢠⹰ৠܠ氤ᠱ䁓L¬˰ʀಅଲЬ捀⬩㕐歹ᠠ㉖亴㤉炂┠অҤᵖ㺂牴㘉ᣓㄍ毿傐䠠ᨰVⱤ〭␢⡠䀢珲̠෦్戰䭖癈y䐺䀢㭙အ娠嶝ǃ哩ׯ僂փⲀ倠祐ሮ̽ݠނ琑冒⢬素ⶬ᫫ੂˣɡ⯌戰೤㢞䢪怭㍊急㭢愠徝έ⼫ŭっ㑤䄁൐ᬋG䀡擖爑䁱㫶ႂ᝛ζ೹ȡኲ䄑⁆ౄᡒᐥΥல⋥新灨碜㈢ᬤ⁰՚໪墌判䘤䥌䎘⒂$噷ᩩ䌁Ѳክ⋰ಆᖡ䏐Ѯާ怨䈱Ṁ˘ɡᇭ憰㈒㙉⏦咤窴䫰⥀შ  "
   },
   "outputs": [
    {
     "data": {
      "application/vnd.jupyter.widget-view+json": {
       "model_id": "ceef747c7fd2458ab3a6e3da0d43e45e",
       "version_major": 2,
       "version_minor": 0
      },
      "text/plain": [
       "OutputWithTrrackWidget(body_widget=InteractiveTableWidget(df_column_dtypes={'Name': 'string', 'Miles_per_Gallo…"
      ]
     },
     "execution_count": 6,
     "metadata": {},
     "output_type": "execute_result"
    }
   ],
   "source": [
    "PR.vis.interactive_table(cars)"
   ]
  },
  {
   "cell_type": "code",
   "execution_count": null,
   "id": "8d310e42-976a-4679-94a4-25579cfd0802",
   "metadata": {
    "trrack_graph": "ᯡ࠽䈌ʀ匦㢠⹰Ǡㆠ䘥〥䂖ᘢᠥ倨㊠ጠ暂㢃S㈕ⅇ᩸㟋極穴E䨲࢔洘䓪⣳和挵嚧᜸ẜ呠ð䀡媷嗺ဩ™+孨ఠ㜸シࡢ䱺孠ƈᯊ3廲V䀷⏋嗑䄺ဠౚ㑟⥙兠ཆɤအ堡᱈⩂แፂ䔹䧰˸懭␢ၲᡄዜ桁լ⌤瑐映歲椯叐ᐰؑ欖ᨹ⒈猤⭨␮óۏᠢ㰠ຫ✯఺Ꮥㄨ႒壺䥂䉂✪Ֆ㣝Ẽ慣抲楓ф᠔匮ᵐ䆨╄灰格੅ネ歱ใEୡ嘼ᢠ㹓ᇦኁ㠢Ү⍱㒚ঢ懐⪎̫搑ㄠᗧ搒๮㢭લ㇒แ≳墼⅘䳲٠  "
   },
   "outputs": [],
   "source": []
  },
  {
   "cell_type": "code",
   "execution_count": null,
   "id": "571fd284-e51e-4c2a-9035-7dd46de3ce2b",
   "metadata": {
    "trrack_graph": "ᯡ࠽䈌ʀ匦㢠⹰ࢂ䂬ހΠ䘠ᦐ୩䁖㻅ࠥ䶴璨৩崡䱧盿⡼斎᜸⩩•ⳁႣ⋧䡤峅൚䛬汛㬗琼ሠڤ-䌬⇉j࠰}穠怣㣣ט䈲曽䂃+ᣣ⠠Ꮣ䤠වװᨺᵬ䤘͏な᫦Ԡ޳ł煨೸ᘠ⭎a䩣䁐˸懌⣂楐⑕㫬℩䱠䐻僌ö犴⁷ⱜါ灓畕㡰延і摨ั匫⻐ʘ<䮎弸ិⶂق珐㣁䶰′⤠ጵ睟ɹ❦技凈೘抗椷᪴䮮䗠儙㨪猑⤘ᶵヹ⒩హቹڨ䣤ЩⳎ㒣Ǡࣤᤢ䛂椔ጵ䞂㡜ἠ∰䐩5栶Ү㜬䖯䦑┡᫆ቔ㊖䥩¦† "
   },
   "outputs": [],
   "source": [
    " "
   ]
  },
  {
   "cell_type": "code",
   "execution_count": 4,
   "id": "b7eb00ef-ddc2-4848-a747-97049cfac0f8",
   "metadata": {
    "__GENERATED_DATAFRAMES__": "ᯢ粠 ",
    "editable": true,
    "slideshow": {
     "slide_type": ""
    },
    "tags": [],
    "trrack_graph": "ᯡ࠽䈌ʀ匦㢠⹰Ǡጠ䘦ㆀ㘢堧〫‸怹䬡೤Ƃ嗙扒徳峔ᆠ䍷㠠旁䔩ᐠ▨戰瓸碩䩱埈泵巇ཞ䇢†桠û㢁䁔䈠ॢȠா䠸ᢀ盅⻿嵀Ɔႊ)挄䀦栢瘔ٮ卄㽞咨ᷣㆢ䀣擠䡴尠❚Ⴛᵭ䱄琈ƌざ湱ࡗలॳ㌰䂆ᇣ稸欠㗉㮠᧺ନ̛疛ค湲ජᗂሧ䍴氡Ḡݥ咯䘴䧺墣૛洽岆搰ә咶信䗦熁↨矗㩈㚞ᢻ乫䊂抳ӈᑖ▗㴶紪滔崲撨ࡓ䎦ဠⶃ㧄䰮a၈樽âへ㘳懅爐İ䉇䐠圠䡈㥨㊔㹥䕉㣵±憑䓲❨ᤠ "
   },
   "outputs": [],
   "source": [
    "# url = \"./notebooks/avalanche/avalanches_cleaned.csv\"\n",
    "# data = pd.read_csv(url)\n",
    "# vis = PR.vis.scatterplot(data, y=\"Vertical_inches:Q\", x=\"Elevation_feet:Q\")\n",
    "# vis.body_widget._chart.encoding.opacity = alt.value(0.5)\n",
    "# vis"
   ]
  },
  {
   "cell_type": "code",
   "execution_count": 5,
   "id": "b94fc3ba-e87b-4c26-a296-6cf158b170bd",
   "metadata": {
    "trrack_graph": "ᯡ࠽䈌ʀ匦㢠⹰Ǡ↡ಊ䴡〡䁍F౉෷ㆊॠ㌠㙽㜁䂖ۥ▞䁦╠ɹ⅁ݥ䎠䒹Պᬔ䱻媖烧戠ڤ-䵏಍儠䨰ဠ嵔䃠Α䌡㢤ԙ斠挠ୡ浰¼皰ǔÚⶍඡ䤿׊琓↸惀Ēいأ3你փ⒃焉㠬ⴠⶬ೭Bͣɣ䫭Ȱᓤぶ垴怭㙋ℛ嬢䄠彍㞝‬暪獐⍔䉠炕ᡪ妠ᏠĀ岐磢巺⬰䆛◕䴰沢ص৐䝽磎㔬⅚↿ຸ◥⡝⇳䒤̶᳝㬉科⹫ᦆ媨ㄸเ尕メ䐣犸๑ጭ䈀䑲Ც秩㑦ᦢ䋐ᱎާ␑儠ᗧ搐ຮ㢭લ㇒㔷౰৪ㅍ╄䄝ဠ "
   },
   "outputs": [
    {
     "data": {
      "text/plain": [
       "'{\"Name\":\"string\",\"Miles_per_Gallon\":\"Float64\",\"Cylinders\":\"Int64\",\"Displacement\":\"Float64\",\"Horsepower\":\"Int64\",\"Weight_in_lbs\":\"Int64\",\"Acceleration\":\"Float64\",\"Year\":\"datetime64[ns]\",\"Origin\":\"string\"}'"
      ]
     },
     "execution_count": 5,
     "metadata": {},
     "output_type": "execute_result"
    }
   ],
   "source": [
    "cars.convert_dtypes().dtypes.to_json(default_handler=str)"
   ]
  },
  {
   "cell_type": "code",
   "execution_count": null,
   "id": "3a63410e-e9eb-4f34-88a0-4a25f4810dc2",
   "metadata": {
    "trrack_graph": "ᯡ࠽䈌ʀ匦㢠⹰ˠᦡ䰤᧍ʐĀ୦䀦ᩑॠጠ噲䖀ヂϐٖ柕ഫ殛ተ¶⡨⇳㌁㍁╮䆳ମ⹜簤䀡傠ǒ怤ㆣ幀ॢȠஶ䠸ᢀ地䆼廞怢汇⨠Ꭳ删᭠்凳夹ᅩ嬌罌֬ਠཆɠɐùиⲢ㔪ᖣƭ倥壠Ⳑ䉀ⱐ␥⋸K䱡ދ痬öዌ⾧⡘ါ盱瑕僑氶ж桨฾匥⣐ʘ<௮伸㬧▂ై盕妃ධ⃂煈⥍ਬㆭ≁䍱⇹犘噦⭕ൄ䁧㥠搹汲࣍㍌殑ᙃϤଡ嘴ᢡ㺓ৡኀ㢜᢫ተ㒚ᆬ挰⩌᮫捐ᨸ䀪瘓簧㎲⍤攄ᙁ◧ᒼ⅍ⅆУဠ "
   },
   "outputs": [],
   "source": []
  }
 ],
 "metadata": {
  "__CATEGORIES__": "{\"categories\":{\"AB\":{\"name\":\"AB\",\"options\":{\"_None\":{\"name\":\"None\"},\"A\":{\"name\":\"A\"},\"B\":{\"name\":\"B\"}}},\"SS\":{\"name\":\"SS\",\"options\":{\"_None\":{\"name\":\"None\"}}}},\"activeCategoryName\":\"AB\"}",
  "__persist_nb_uuid__": "15b6440c-b112-4dd1-bff1-41461f6ea5c3",
  "kernelspec": {
   "display_name": "Python 3 (ipykernel)",
   "language": "python",
   "name": "python3"
  },
  "language_info": {
   "codemirror_mode": {
    "name": "ipython",
    "version": 3
   },
   "file_extension": ".py",
   "mimetype": "text/x-python",
   "name": "python",
   "nbconvert_exporter": "python",
   "pygments_lexer": "ipython3",
   "version": "3.8.16"
  }
 },
 "nbformat": 4,
 "nbformat_minor": 5
}
