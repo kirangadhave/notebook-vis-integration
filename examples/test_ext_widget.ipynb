{
 "cells": [
  {
   "cell_type": "code",
   "execution_count": 1,
   "id": "2594b5d1-f285-46e7-bb20-55c0d04f9037",
   "metadata": {
    "trrack_graph": "໢尭䲠 "
   },
   "outputs": [],
   "source": [
    "from vega_datasets import data\n",
    "import persist_ext as PR\n",
    "import altair as alt"
   ]
  },
  {
   "cell_type": "code",
   "execution_count": 2,
   "id": "b7eb00ef-ddc2-4848-a747-97049cfac0f8",
   "metadata": {
    "__GENERATED_DATAFRAMES__": "ᯢ粠 ",
    "trrack_graph": "ᯡ࠽䈌ʀ匦㢠⹰ڀᬡఢᠵ䁆ᑸ׀àᶣᥤƆ噩∤ᧂ㢴塶䋒㠩慪ैk⃤ᄉ娒શ燇⃹喱㭮溜ɠð䀡婒憫咤2䈤7㚰ᠠ湐懏䞺姐ಀƌᯊ3凩-儣懀X⤎ኊ͕༫༃⍃捱࣑焸ᨸ੘ⴽ攨⛂悰䀡㩚嶛ᆲҧ⼀಄壡‡犀␬ᩏ಼ာ昀䘁燢ᡚ{౅冨∨挤䍮ⶤွ䑀䕨ଢ怭㜼㈘瞢攠弽Ȓ攱伉で⺍悶ビ䬠➠ǹ繅熧㤏幀愳䎃夸捒ȥ࡬䘪ޥ燼㈪ְ恨ᰵൢ䇈ᠱื怸㈬⃨߱樿⊩憸ᬻ樑ᠺᠳⴑᲹᴸ⤶䖂ᨢ⒳兲瓆ⶵ昒䊦≵䳁煋ᔱ䔂⺒⯨攐Ⲷᡈᒪ内₁呼禠຃ Ґᆷ発圚䐡搐᭭䵶Ϥₓ⠆嵭ໝ⸅砢㖨↦僰౶WⓀ瘭ɠ䒸䙃ޢィ㈺֥灐ᠩߵᕖ瞡椆㡄䱎fᇨ䩜佢へ㘧׷⨘䅝⣶㓺㖷⏷甦帿ⵧ׈঴捐䐆䖳⋑策涤ߐᲮ箹杓祎坽懑椀儬%ࣀ⠳⼊Šႃ䝠˙䄛燶㲘᥏߫無㎶ឤଧˀн煐̏㺽暘甗枤怠窊Ⱈ䁰⯁ཻ撉⨻䈡乷漛䑯渚䄟搥ℽฦ₳޳稴߲焵௠㈺଩ₔ伂ᠦƠ缲ะ挲ɣ尠朥㐤ᴪ਻ڧ䑠ᖦ䃞᭓䙵䦂㰠࿅Ï㫡䅛⼬ⴐ⌰勔㒳䅈㔨ᠴ挴匚ส◈ṁ卮㰲ÿܷⴏ፠ʘ堨慆ᐁˀ燃㡀ᾪ揸碨慘态㊠揬琘塍䏶⠢㶤⺇ㆤఠǽ≦ǐ⠤⸐䯊j戨Ȳ丸䢳䴧䔑ζ儠'䪱幆ᶓ䆻ྪ⹡ᩫ⦒⍫哪㕯⤺⭩榽彨⦅ᔆ甾堇粠䧥ᡙӤ䠥䙦ᜈ䅧ᛪᕦ嚴࣓ͤ䫀㤀䌥亞䁔ს䬥ۤᙄ䛱䙓䚝Œ♉䵕ᐰ山;ざ淛㱐ᷱ噐ᡇㅖ⛉嵑多ყʆᇡ夦巠䀰㲃Ě䭈᪶Ƞ䎖䇠㪰䧡䁎䜁๙⟧碡ᶂ汐墩⨁ࢢ䂘Çٸᆧ⑼ܢး௃፸॑⁊⼡壁壁ተु౐൅䑐؋擜ࢢ災࿀獄߇包௮站剷㉒元䪉Ų⩙ཅ⩂哇圔凗㒽ᯅ琣ầ䥄埖䳓႒壣善ṻជ沧ᴗᴓ塢屗ঐ㲋厖漎皃἗ᤕḧ䚑⹯ᬑ匂ἔ㺸㨒צㄩ!ࡨ㡼㯩燞⁅㨑搑䃩甫❀ီ姖⣩ᥨ㝘嬙摪Ģ㓘⟨㬂垶ベƖが✠犅ৠ琸璕杚纭畞坜⌫ġ㜕ڬᝩ恩Ếቔ¯ᏜܢᎤ締━ឦ偈௕୹泛䲾㳩ྥ縀ԁ∢Ẑ&ࢣ⏬ఠ㥠㛾⟋濿崃緦ௐԵ濾紝㙦Ḍ䓢ᛆ愜ῠɇ∺ᐢᬙ䵀䖮ↈ೑ᑅ㇈㳵噶Ᏸ檮Ҙ୘擥đ䌠঱ᢳⱣጪ㈀檋☦ì䳬⥲䂥ࡩܳ㤷ᄒ㋠䪍↩䭣簾䉕᠈䰰欷ၗ彐㟴琋磢༑ⅺ淡娸①⏘㒫䌼慐❬䛎䚬ảෝ᛹㌬墸ⷲ浡ㇺワ娤梔⽾᧾崉㻖塒ᎇ歶扖ఫ愒⚠替奠ዹᘺᠧ᷐丧㚼ණ᰷଍ஶ海ᘣ㶮爛ゖ⸰Ŝ羊ু楅‵嵃䧃⏘箢ၣ㤮琾Ῥử摼翬⋠ဧ粨٧ኩ⢯瑉ᑂ⥠⥃៺縟䈚⩫笠箔䤅঱㼳㘭ჽ䕋敯倩䞠䮨ㄯ灤晈∣䃽ӈ␠您ႁ灖ፑὧ㢗Šሯ䊤䯡敷啀₊Ⱜנ咤ᙹŌ搸倵䋀喸ⲘጥᚮՀὥ乶㄀౩朁෭憯䲸yׇʫ㑠䮏ತ响稌栒×丙寂䅨妫⑎絭␚愸ܚ䏽ᵟ⦺ᲃ幈䮬၀ኸ〠䅵ࡦല䚎京庫ౢՀ戧䯢˨怼Ψ綾⌔⟰紥Ⅹޡ棏Ï↢䮓ᑑ榿璗⪂ར拃ऊ廉條װ砦憈㶈䁍䢌㴠ㅦ༡㱥塌ᗗ加似䧨癁杘ஷ氢㩄㜶燤䑁⓭䙩Һ㢉ᶴႳቯ䝇䂫率㦒ᓆ爢怉਽ᔝ嵗ᏻ䪷٬¦獩煶䥸皱⥵ᬜ☰䮩㒵箻द捪ད䵉䦱Ṇϕ⢷熦ᒡ‽ࣰ⋪倣͠⪁恐Ρᶽ咀ᕓ๨`罶䄁地净䅗ᥔ⡁玆娄ᚶݍᛄ粽ƅ樦敩˄峜ᠤܲᡟᘪ䧲狍猵⾢჉⣛䯃䫷㙀㝿ᐪ漕溱⡝౸ᅎ৽≗屁岴↬愈㷅智⫱ᮃ冬合․䂩唲≌㏳㪄⽐䇤眩ࡊ௰圸䥣أጤ吸媯ࡸ⸙∥晜扠䃑䁡㡹偘ឫń绾棵✽唦書㰫䅨棴ܩ嘬椁栫⸩➃㔱ឋु殂⻵眧嘧⯈幐爕ዅ䤯䀥䁐ᬯ䒆䍵䮴䀮䛉䤠ी㼕悺䵘婺⌚厍篆媻ᛌ᫳ȋ升扺晽❐ᥓ䉄␂♀૚Ԍ㖲敤ී湍Ʃ䪪愺Ė徊䃡吽㳥㨃⒢卵̾㴤庆䇜䫲₊ּၟቘว椨ᤂ࿀愘⇡䨠⇨䆤㈢䎈㖕⥵ᛠ瘲㋴າ⹿既婣ዝ岈ぃ祴憕ó₩傮㧄娻⋔橳絨杫婗孝ጹāȸ᪅⚙ڬᨦ䁍ະ⤠囨ᆠ埁Ⅰᨡ淴⎪⻽劘߰栨䁗䖘栮櫦⣠ᇁ㔶唡䤐䍭梛ᠱ䔕⁛ᛎ睌廍滝ⅷ巂厡拁掕姑検⊪燻ၞ䚃Ἲ排ᮍᲊ㧘籅巍慤埒㫁ᣳᅔ䥡淧ុ橒⩭綌伄精槜牭 厽ᆻ燒伔祔೵礹檹វ桳ᵔ⵶㐥ⷧ刼䘫ⱜ㙆捜ᝲ槉恘娘⣒椽扖㥂ㅆ由穥⼼弨痛恐ޱ暓糬尚碹㠓悶६堌櫏教㋡畡嘙㵌㫂䭩ķ㜉⁒晠⤾⟎ר屬承㫳䣙ͨ篊㰢഍⦡⾳㤔ᑬ᱉⋈䭓ວ䕃ʠⓁ၉⊁楤◤劭㰾⨝ᅱ桿⭊Ꭱ⨳敵༒濍替㓎Ꮹ㵲楇㽬墠㋽Ȿ❟婢瘥ޜݼ䓵᚛䦺➳ⴑ㥱潑ఇ槇槭洠⸟♻ว䂋㇗⯰傖斠瀣ڠ攝䷘䉽犇 ⃞䰓㝷瞌㟻⸝#घ㏄ᩧᒌ絪૙悠忞ඦ秱羛厭溪㊰߀㓤⑚Ăਡ罁㬵ᇌ幁෌恮愙䒠⢯ࢇ奪堭₎䮊婡孍疏΂ℵ夬ⶋ઀㪊吽ⶮܾ䇠⟐楧沃⤮೵ै䝋⫄䞭⤁瘵悃䟸椂甼㯚弼ኄ✨炳仩攃並㤓嵙僩亚㩷ᡜ≃圮猨㽽㗡枍᢫䑢ⷢ⩃㤮䜝䣣ქᬧ屽淧劄戰䲡䐥∬⃰Րӫ恈Ჩ砫硉ˠ᮹ㅨཏ熛䨡䈤冚⯈㣨䞤ថઘ࿉䆎㥰嬮䟝ᆎᴡ童媔অ呔ˮᮑү䂃媽丰哬⡕獽嬱⒋媃׉ᷠ侎⬱倽䥂➆㭔䙽䜰⢥䣛墐ȍ礿䃝ʂ䓠-ግ㯡濰⹍ҟⅈ忶悏睱ࣺ㿡䪳㟱௺猲囈ࢣᙻ⃤皙㋠戻૴嘭௄⎩㕧⫽䝬ᰤⷦຓΧഥ䜾汨盕ਗ਼≾櫌ຕズ涫䇶假∈䀷橱敇掳互ଗ⢛㑂屉攷㟛姠剩撰俤ᑟ煼甹ધ­⅑嗜㱲琹梿๰给瑖磍䈓♂挣ࡰ畂र᳨Ť旊គࠨ偒ਯ࿧屓憃㝳၂ˠᇇွ➙䋬㒨ᗙᑸ❰㸸ᘿ㘪ዱࡽ⌳祷㱴ܨࠧㄸ儀໾ḡ⁔䜞䞲㰧ᦰ刂ࠟ㽅H⧀ഴ噣䕒⥐঴䱣揱冯卐❸㩇嚆䓎㗂洵纸㑦ࠚ冿竿琣⣥ၚ㙳痿ⴙᛰ绋㉀ۘ埻㚇睵໒࡙拝̌ӄ咶⑛ฑ㱛䵰爔ക⌦也䜇૧⯊䓣欂㝩㷧ৱ焢ঘ䕚Ŝ঄乔庈䅁ॾ琇ᑄ䰯湢瑰䖻㧱ॖ㕓〹匯⒄͌㴑皨盪憵ጡ㜨⦜戬ቃ⠸䧎༹³呔9畗だ檠ᢄޑᶘ檶␴׏ϛ㒩呶甊ᯘ୤䨀亰瞦⭙摣䴗㣨㹝ℱ焪ᡰ⊺ᐭ౯≲ͦ秉₼嚘犷Ṇ߯څ硈幅矒ᦘ恎䂓䦊̅檠׋䥄㍲㪥弞న姨⹫弁㊄夋篭ʓ⎫⋰䟫䦄ڄ⊐ⰷᣁࢫ㍄≉ճ員㵡༯恨౴怦՘⦀ུ搥〉⧐ප就  "
   },
   "outputs": [
    {
     "data": {
      "application/vnd.jupyter.widget-view+json": {
       "model_id": "9919de71406a44958c5ea46f65455087",
       "version_major": 2,
       "version_minor": 0
      },
      "text/plain": [
       "OutputWithTrrackWidget(body_widget=VegaLiteChartWidget(debounce_wait=250.0, df_columns=['date', 'precipitation…"
      ]
     },
     "execution_count": 2,
     "metadata": {},
     "output_type": "execute_result"
    }
   ],
   "source": [
    "source = data.seattle_weather()\n",
    "brush = alt.selection_interval(name=\"selector\", encodings=['x'])\n",
    "\n",
    "bars = alt.Chart().mark_bar().encode(\n",
    "    x='month(date):O',\n",
    "    y='mean(precipitation):Q',\n",
    "    opacity=alt.condition(brush, alt.OpacityValue(1), alt.OpacityValue(0.7)),\n",
    ").add_params(\n",
    "    brush\n",
    ")\n",
    "\n",
    "line = alt.Chart().mark_rule(color='firebrick').encode(\n",
    "    y='mean(precipitation):Q',\n",
    "    size=alt.SizeValue(3)\n",
    ").transform_filter(\n",
    "    brush\n",
    ")\n",
    "\n",
    "vis = PR.vis.TrrackableChart(alt.layer(bars, line, data=source))\n",
    "vis"
   ]
  },
  {
   "cell_type": "code",
   "execution_count": 3,
   "id": "72e2fda1-daad-448f-bec1-f698b48ccd52",
   "metadata": {
    "trrack_graph": "ᯡ࠽䈌ʀ匦㢠⹰ڀ↡ధ〳䊡堦〫Ⅰᆠ捍䐢捥૤熥熄〣䙴ภ㈲䎠ᖣैkᑄᄉ夑઴囇⃩䖬᭮溜Φ䐡傠Ǔ⍃Қ′䈤7ࡣᠠ湐戎Ⴆ寐爢䀥屨攠ʕ㥀ǔÚ䍃㏙䤷䢁┫⋸惀Ēいٞܫ$懁吃烐ᠸ䉣M䘶暦ᄣ↢∋㜂ࢌ戴レ䎀ۖ嗃Кᆱ⇐緝ūて睤䄀浐䛻G䀡曑砑䁳竖ᄂ㜿Ꮊ˹ȩᚲ䈰焩㱢紂╰垶䚨℃㇁Ъ戡⡡঒హ௠䎘὆揖䦲ᡊ⛗౱䦨ఱ姼᥆஠ၨ爵ؕ⦸噛ס爘䄨䐀倠垀呆㢙㉼Ⅰ❉瑦ұ决婪⽢ά䀠 "
   },
   "outputs": [
    {
     "data": {
      "application/vnd.jupyter.widget-view+json": {
       "model_id": "8d52c7d7ef5c449daa1240cd9c8f1132",
       "version_major": 2,
       "version_minor": 0
      },
      "text/plain": [
       "Output(layout=Layout(border_bottom='1px solid black', border_left='1px solid black', border_right='1px solid b…"
      ]
     },
     "metadata": {},
     "output_type": "display_data"
    }
   ],
   "source": [
    "PR.Out().clear_logs()\n",
    "PR.Out().show_logs()"
   ]
  },
  {
   "cell_type": "code",
   "execution_count": 4,
   "id": "4bad6f96-60a4-4a27-9c15-1fdad2109d72",
   "metadata": {
    "__GENERATED_DATAFRAMES__": "ᯡࡓ䁼ࢁӐㆠ≒䂆ř⁻Ŭ愠⺀̘ǁ)䁯氶⴦洔፠圠㚿ਠ ",
    "trrack_graph": "ᯡ࠽䈌ʀ匦㢠⹰໣Ÿ栻,͐׀ಀ֤䂼ɨ࣯䂡ء䱨Ҁ㪸坼侙ୱ㉪2攩к☸岥⑉⫴ኊ滫䞿㨡⅀†済壤ᲰӁĠ׿␬W౐㮨⃎濺အ㔸㔠ʑ㥀ǔ₼F㴶Ꮃ䆬⒪ᅡ⨃栤ᚊ㕝«ޮ䒬䓂㧩ᇐ稰N䃰攆㉡怹ণ瑖ᡈ\\䰩൥䐂恳獘夈ሣM䘦慼䄧冢⇆㛂ࢎ扈㫄˭〦宯椢㮁䪠⾡䄙㣯≁塃坖火ᠱ࠭䀳怠皟㬘您㬿д▓沮㴼斻䒲ḥ䇢ᡐܥऍᔫۂ∬㤾䇢牄⑤䅠炱ଫʢㄖ㯫璳ᩐ⭹煚ᤦᑦᎨቤብᅁ刹ᙧᏨ੥६叄幰箥䶨礼牵ၪ㋹⹿ᑋૅ㥾晒䰰䞾〣䲀!ฦ㈝䭵䃱͙Ġຶ濑橀箸ஊ˷᧛劉簡ね㜪㡰㤵䉀傌फ͡⡥♜䝠悸朰䦃䢬㔳䝣冼ᕠ愘๎᮪⃣ゔʲ䇁棊ᬣ䜂礜₸⊈媍❭㘋窣⸧۰♳೴޺ᛍ૷泻㘰Ỡ牛溇ᳰᓙ嶗۠掣䑐4⣧䊎㯈Ԡ䆮̠ଆ̏䞉爏ⓜ唏䐣䳹㹰㰶ઠု剬࢝䘴㻫㴙ሠẪ硞䌠签捶僼ာ獞埽揞俹玆嚷篘㿪࠸へݾ∯ΰ⠧İ∲䊖๪䏰ᐨ䀰擱䏄㰲ᏆⰦ̲硥䂰䡏⍡䤾䅠ऱӸ摄Ȟౄԡ慖〠न࠳ൠ‣岀⁦ৈⴹ堠ⳟ䞠^䰄к‧஢䌵ㆤ婚检䶱戸!␪ᶇ惇噰ŅⒸେ撾䭤ౕ᭱恍ὅ璣ᒆဳአ乳䓨㤗פ碻撧罐ར☱ᨤ䴻䥅墨坓㤏欴僧䥄Ⴐч㹰䨡ཱྺᱱ̠播ᤳ汦մȥ樠᫓Ń屇ᵄ⁙჆㶞潳尠ȉ╞㘊已䠪樢⒥獔皿猬↱瑠⾯毕ᯢᯉ㮮᭢稾Ѡ䌄卂Ậ୮᧹甞C㊌֣ĸ⒭Ⴋ㲦Ⅻ㊠憸▁傋㚧⳸冧⡁㔭ḝ₂憣⢎ಀ⒂䇃ⲏള㊊䷳⪆ᗺ䑠ಣࢆ䑃㹃݈屐″࢈䛳ځ呬ó哠㻄㑲篁㓍ⷍ㘍㎨瑠㏏ዽᄍ烝ၢ৶᛬ᡨ⌣恲㔢䁅唨揃⸾䧥䨫䁸ভ⃀⌧⭖຃瘓Ⓠ旲೅撙ˏ斵჆啥·Ⓕᝣ椚˞沐ᅂ䇛㓢稛ⶨᴢ挅妖㻨㥯㧫ᵤᗥ帗ࠬ嶀㬉嶎௢㸎∌㴗ᔄ岾☊᭄⸏㴖䑂⩠ఉ拒漿挟Ṽट㔤䩾ᥱ⫊䵷⨬ᓵƺ擸櫱杲珚宷樶╜ᨬ‽婆䎓᯴便ᰔ拴㋛堩♖徖丧滸Ⱆ簨又㨧儈塾掓䰹䯂倏粪悵㏎怉ያ䖞ፄ坳檚ᬙ牧澳叧勴䄈硳怓缓䨤创᭧徱㽵䃞ⴊጏ淜秲ᐫ䙉磁筏 㝷ᐨဴ庸➝株՟嘨峜அⰩ⅔ᕡ兂ÔຠѯôŹ′Ⴐᐦ慢㟀㈸♘ס䰩ᅂ༣੄ઌ⿧籠⚔寏㬎क㈸塾䥣䬧毈㖂栽ذ槫⣮ĩᄺ㡸ࡸ䗚ƫӑ儉㓂妎怲棍䫵ⴊ刱冺䐬ڪ棩ㅀ崾ℚὌ䙓ၬ㲹㕅䈊⇃ų∼ڏቬ括禲⁙嗰湗᪚㾣玁摢ⶉ၀榬ყೃἹ捁ᡃઅጴブ穬汖曹搯Ǳቂ穓嬖᳠ⲗ㞔儊ᴃ䠌䧦㤇љ掸㣎⒕᪍愠夅癧䧳✹ᱏᚃ箬ڇ⨪㹌௾㰴⹅挠羮岨㰂䪸ε⒤喊嗊竂湭摜ᵺ緻圙➯㪍ᣴ༶瘾潄縫⬝筝㔮㉠盙䭏̇ၦ䉉⸁䩱⅒灓֯嫫ᴹ筀泪ᔷ䑡༏㉯ᄜ杌㰢䶁੧穠磬ᝯ䤢㿯缇ᐢ怦㍏䘴₎篜䉉⅃瘥ề䗀Ḑ体́⸫⸡⠿Į䕠⾐╅拃ऱఠ䅛༡㥉ጂ०屢ㅤƮ桃Ǩᔱ㶘⬈ѽ桝ↅइ呰㋢偲ᕹᨶ妔ŤƲȀፁ`䛐糢ᆒౡ扞⯾䵡ᖗ槨瞠Ṡ䆩眡㇢橌ن挌⇦౮ŋ㎫⭨ሠ  "
   },
   "outputs": [],
   "source": [
    "# source = data.cars()\n",
    "\n",
    "# brush = alt.selection_point(name=\"selector\", encodings=[\"x\", \"y\"])\n",
    "\n",
    "# points = alt.Chart(source).mark_point().encode(\n",
    "#     x='Horsepower:Q',\n",
    "#     y='Miles_per_Gallon:Q',\n",
    "#     opacity=alt.condition(brush, alt.value(1), alt.value(0.3))\n",
    "# ).add_params(\n",
    "#     brush\n",
    "# )\n",
    "\n",
    "# bars = alt.Chart(source).mark_bar().encode(\n",
    "#     y='Origin:N',\n",
    "#     color='Origin:N',\n",
    "#     x='count(Origin):Q'\n",
    "# ).transform_filter(\n",
    "#     brush\n",
    "# )\n",
    "\n",
    "# vis2 = PR.vis.TrrackableChart(points & bars)\n",
    "# vis2"
   ]
  },
  {
   "cell_type": "code",
   "execution_count": 5,
   "id": "ec8d222a-07ac-4ace-be38-b0330ca01adf",
   "metadata": {
    "trrack_graph": "ᯡ࠽䈌ʀ匦㢠⹰ˠᆬ͐ᶻː΀ୠঠㆡƸ䓀β䂼⎈嵺岆欹ᕑⶲ⠠䭈⑁棒爵ᖃ⽩䖵ᆖ沽嶛碠ǁ#〨ル噀ॢȠ௖䠸ᢀ地䆼廖•摗⨠Ꭳ删᭠௃嗳壣ര,ᵒ㿞䋦Ԡ޳ŀĸЬ氢㘣£ᥧ䛡℈ƌ〶絡࡞䰲൱㈰䏆ၢ㪈猠㗙㽷淴ศ̘瘛䶸絒֢ᷔሧʉ䋴ⰡḠޅ珇䘬䷾墢ਜ਼ⶍ穱慱㏅ഺᦣì焱➲㒥ቇ䍞婈䁢䅇獤⑔¥µ噕历Ꮴつ妌ᯣ⌰៮ㅙ戬ܯ䌱摅ຨ捑㈵൫墈ɘ䀪瘓糧㎢⃧⓸男ࡰ़᜸䰀ӣဠ "
   },
   "outputs": [],
   "source": [
    "# PR.df.get(\"test\")"
   ]
  },
  {
   "cell_type": "code",
   "execution_count": null,
   "id": "66dfd617-9901-4981-9acd-d236972ca64d",
   "metadata": {
    "trrack_graph": "ᯡ࠽䈌ʀ匦㢠⹰࣠✡氣〣䁆ᘠᠥ値ㅠᦥ戡ぺ㪡أ൩឴ᔓ掺䜛懄䨠ዪन㪌籤敋⧰㙂書䎷ཞŢ†洺䣧械ӁĠפཬW౐ᮨ⁏⻹ڀƂῊ)攄䀦栢甕種ፄℾ妨ᣥㆢ䀣擠䡈ⱬภᦧʡ䅣擱琡㙐⭦エᆬथ⫑ࡠ㌱憚剫U䳑䀵洫Т純絭ਸ਼ᖢෂሧ҉䃵ⰡḠݥ殯䘹䗺墡୚㸍ೆ搰ᢤ冢䞦䚀恰冨⢤vٍਦ䌬⇡㸀䡐ᡎⅠ悈峓挔バ伪滐䠲ᠲ⣒౱ᆨ4塼䥆஠ၨ爵୧傸噛০熘繃ࡄ禸K䁄਽⹉᜻ဲં㥪◉擭ળ┬䀠 "
   },
   "outputs": [],
   "source": []
  },
  {
   "cell_type": "code",
   "execution_count": null,
   "id": "c03e5329-f936-4c91-8701-cfb98233b6fb",
   "metadata": {
    "trrack_graph": "ᯡ࠽䈌ʀ匦㢠⹰ӣƬ΀೻ɒ〶䔠瘠ఠ㤨ˣC¼䌎榠晢Ⱥ㥎䃌瑱ᢃ⥣㉪2攩кᙼ˥擊橖㖁混䁰䣑ဠ㑀ᴈ悽䠤傡%撄ؠᮬᡧ䑁㘽῀Ô䢹†伎␠㚠᝸把瓒↳෰憼笸ᐠṬҠ₁ၱ塈碌ئਲ␠ஃߔ灨䅘悰㬛⒤ݑ഼㏃堣ⳋ᱁㻨呠៸摖滤珃氰嵑ၘ⭬Ǟ怩瀠㧍㰢ᢝⶨ⒧䧥槥㙡ͪ教塈ڔफ़Ⴏ٧慁兢椨ᒜૢңǑ堲᪦懜籮ጤ犌㭹ՃǄ歑唱ᢠ⅛Ꮷႀ㢜ࢪ≰㒚ঢ提尾ᾨጩ⊑᥀˘䊁⧫枱煪⅕⅄㔄皪䯲楀ᣨ  "
   },
   "outputs": [],
   "source": []
  },
  {
   "cell_type": "code",
   "execution_count": 6,
   "id": "cde89602-e6a6-497f-b042-82e1fcaffc75",
   "metadata": {
    "trrack_graph": "ᯡ࠽䈌ʀ匦㢠⹰ڀ⬠䱰怼͑‶䆠ᘡ䘡യ၃પP΁桠䍕榳✲㣥䒴E䨲࢔Ⳙ֫䥵埌櫣䮯ἡㄠ㑀汈意ࠤ傡%戻☠ᮬᡫ䑁♍ⲣအ㘳唠৾椠ව׶椊洬䠬浒㾻᳦Ԡ޳ŀ梸¼ᙩƦ䳪⍦栢沁暌ℰᬸሢ庌Ⴅ♀䏔ᒆॻ៣吼ࠥ箈稺⢌㊓ȫ㑄ܯ⦢垸Ŝ.ׇ➬ಣ勑ذ㧘泸䛨ၱ㢦✫ư⏤ሀ惰䳴సځ܄䕠惣ゅℒ㉅ԓ㦶㗘䬱䈂֠欪ౠ弹䤀䥐汞ѥᅈ橗ࣁㇸ为෥爘䄬‥㬙縣䧩ᇂ㉬㹣䘱౜╨◈ⓑ  "
   },
   "outputs": [],
   "source": [
    "# import sys\n",
    "# from sys import getsizeof\n",
    "# import pandas as pd\n",
    "# from vega_datasets import data\n",
    "\n",
    "# source = data.cars()\n",
    "\n",
    "# def mul_and_compare_size(df, n=1, c=1):\n",
    "#     compression = [\"snappy\", \"gzip\", \"brotli\", \"lz4\", \"zstd\", None]\n",
    "\n",
    "#     df = df.copy(deep=True)\n",
    "#     ddf = pd.concat([df]*c, axis=1)\n",
    "#     ddf.columns = [f\"{x}_{i}\" for i, x in enumerate(ddf.columns)]\n",
    "#     ddf = pd.concat([ddf.sample(frac=1)]*n)\n",
    "#     orig_size = getsizeof(ddf)\n",
    "        \n",
    "#     print(f\"---- size for shape{ddf.shape} = {round(orig_size/1000000)}mb ({orig_size} bytes) ------\")\n",
    "#     for c in compression:\n",
    "#         s = ddf.to_parquet(compression=c)\n",
    "#         s = getsizeof(s)\n",
    "#         print()\n",
    "#         print(\"Compression style:\", \"None\" if c is None else c)\n",
    "#         print(f\"Size: {s}b\")\n",
    "#         print(f\"Size: {round(s/1000)}kb\")\n",
    "#         print(f\"Size: {round(s/1000000)}mb\")\n",
    "#         print(\"% compressed:\", f\"{round(((orig_size-s)/ orig_size)*100, 2)}% \") \n",
    "#         print()\n",
    "#         print(\"####\")\n",
    "   \n",
    "\n",
    "# mul_and_compare_size(source, 50, 2)"
   ]
  },
  {
   "cell_type": "code",
   "execution_count": null,
   "id": "1d32218c-9f53-4386-83ef-06520c7da8b6",
   "metadata": {
    "trrack_graph": "ᯡ࠽䈌ʀ匦㢠⹲恮ƬʀჳP׀˥ੵ䐬憠ᆡ氣ㄳÈƺ廠⌠຋囔⫻䥈kᑄႈ妒ࢳᓃ❱妻ܾ㸢䉠ð䀡宆冯奀ॢȠ௎䠸ᢀ㜰䁾州䀢機⨠Ꮃ䤠ව׳氈ᱬ䢘㶔ₖ૦Ԡ޳ł㨉⠠皎ᅞᮢ佯┃栢沀囸ᄰ㘸ሪ喊Ⴇ♁䌕咶ᦖΎ刺ࠥ稉窺ᴈ⬤ᮘ␮ࣳǊ堢㰠ຫ垏ౚ௕ㄪᚕ寻ㅭ䡀煩㙋ጣය攀ኑ瀡⳹扈ጡ᮹羠⛩䁱Ⲍ䢡⅝伦ᛢ寍ኘ䘨䩌䍤⒂Йᘷ੣㡿幮₢䨦ᐆ冑㲞ၬᇤw㾰ᑚ峲㙎╁煴ⴰ䵳塄暼䤡٠  "
   },
   "outputs": [],
   "source": []
  },
  {
   "cell_type": "code",
   "execution_count": 7,
   "id": "d493cf03-6c94-45a6-a45b-866515d04e68",
   "metadata": {
    "trrack_graph": "ᯡ࠽䈌ʀ匦㢠⹰ૠጬҀƠ捬ڀ୩䔠ⳙୀ䄌Ĭ䐤㍛ᩤ栳䀹䙦ǒ玁哠Ǩ撴E䨲࢔ⲙѫ䩶埄拭厯㽡憂†桠ù橑䅛ဩ™+䣨ఠ㜸クࡢ汚㷠Ɖᅒ䀡᷼䠠洠⻑䓵榄䛦ᬁ䌉癐⠠㲸ळߡ懁঳䢈ш亃M䘾条ᄣ冢↋皲࠼扔㣱䞀۔嗰䎛ᅱ㇀痋䝫䟐⊔扠灍ᢚ綠ᏠĊ嬐Ӣ熛ᬰ䤯Ꭻ亪沢ڵ䣲㤈Ჸ尸ᄪᜣ䔥⍃ኁࡤ墿㘤⛡桔ᜮ煡灂Ꭳ㛺摉భᕺ䙈磤ĩ沾Უǣ烤⤢䋂栬㌵䞃㣜¨┳䓩5戳ծ⽜䮪⠩啑ᇃᏔ䩾䍩Ŧ† "
   },
   "outputs": [],
   "source": [
    "# import sys\n",
    "# from sys import getsizeof\n",
    "# import string\n",
    "# import random\n",
    "\n",
    "\n",
    "# def gen_and_compare_size(n=1):\n",
    "#     compression = [\"snappy\", \"gzip\", \"brotli\", \"lz4\", \"zstd\", None]\n",
    "\n",
    "#     # using random.choices()\n",
    "#     # generating random strings\n",
    "#     res = ''.join(random.choices(string.ascii_uppercase +\n",
    "#                                  string.digits, k=n))\n",
    "#     orig_size = getsizeof(res)\n",
    "        \n",
    "#     print(f\"---- size of string with length {len(res)} = {round(orig_size/1000000)}mb ({orig_size} bytes) ------\")\n",
    "#     for c in compression:\n",
    "#         s = compress(res)\n",
    "#         s = getsizeof(s)\n",
    "#         print()\n",
    "#         print(\"Compression style:\", \"None\" if c is None else c)\n",
    "#         print(f\"Size: {s}b\")\n",
    "#         print(f\"Size: {round(s/1000)}kb\")\n",
    "#         print(f\"Size: {round(s/1000000)}mb\")\n",
    "#         print(\"% compressed:\", f\"{round(((orig_size-s)/ orig_size)*100, 2)}% \") \n",
    "#         print()\n",
    "#         print(\"####\")\n",
    "   \n",
    "\n",
    "# gen_and_compare_size(source, 5)"
   ]
  },
  {
   "cell_type": "code",
   "execution_count": null,
   "id": "852eb879-de7f-4ef6-abc8-8a3cd9529f7c",
   "metadata": {
    "trrack_graph": "ᯡ࠽䈌ʀ匦㢠⹰Ҁ✠氧ㅫɐୠᖭढನˣჂダ㌱఩ၑ䆠暈਑၄䨠ዪन㪌崔效槶ኊ滳䟟⃾慀†汈僤᪰ӁĠ׿␬W౐㮨⃎濺瀡㌸㔠ʑ㥀ǔÚͣᎹ䤠䂅昨僸惀ĒいḦഫí⃡Ⴓ⠨棴̠ⶬۢ䩂Ãɠ檌戰䳤ѡ䔺怭ト判竣愠弣ë㞢䗣だ癤䄁䵐㪻G䀡拞瘑䆐穖ႂ垛⎥᳹ȡኲ憁偈梘⸸⤷പͭ⛃扑桟Ȥԫ؂滢༾杹㙲≦٨噃Ɍㄢ˶ᮺⓠ焘ㄡ⋂椔⪭䄃㢜¨ℰሠ⯀ⰱ᷼᥆὇ᆑ敃೤ቔኖ䯁ಠ  "
   },
   "outputs": [],
   "source": []
  },
  {
   "cell_type": "code",
   "execution_count": null,
   "id": "bb068791-889b-4a0b-856b-867c6092d059",
   "metadata": {
    "trrack_graph": "ᯡ࠽䈌ʀ匦㢠⹰ೠ⬠氢〸恮ᘠ㠥包Sㄠ壗Ⱡ⌡آᣖၛሒᨈ⍦嗹瀠ㅅ)㊤䈽᭞ᅲᰵ喉偑㎉混忀䢰Tဠ㚭璃ཨɰ䂠̈㈦;䘸Ϥၗ眼瀠宫ೀn㝄V䀷⒌㆐奃Ҭ㣁䙛ఴ>☤䚁珒ࣈᠸ瘾ᨪ࣠ஃϔㆨ䄸悰᫛㢤᭑Դ㟅堣ⱋೡẨ摠៨恒潄㄁氰ᷱၘ㍬໎怩瀠㣎㸜じậ䑘己洈擖₢◅汢䙜㌮ظ䚯䊦共⦹䒤ᢆ㰐䡦स癙ஓ↤᱁इⳖ楒⌥⑶ᆪᙑƢ嬧䍄憐ȩ٤傈㨳ૠ烘ḿB।⒠ଌત❯ᙫ䑈ҵᢱ决婪⽪Ⴌ䀠 "
   },
   "outputs": [],
   "source": []
  },
  {
   "cell_type": "code",
   "execution_count": null,
   "id": "f537cc24-65f8-4575-a9df-4c35b006116f",
   "metadata": {
    "trrack_graph": "ᯡ࠽䈌ʀ匦㢠⹰怦⪃ƸƂ惔吣〬ㇿมಀ໯䁣ഢ㡯怹䁆Ì勔圓ፎⓀŌ傰䇀曧䡴岵⴦曍Ი䨐઄ሠڤ-廕⇩j࠰}竄ǘ憥屢আ滩+⣣⠠乮␠㚠ᝠ梃ғᩂ倬⒡窋ఴ>☤䀤ㄱᢈ<ᱜ暎ᢣ䂀ב䍻桤℔と㖕呢Ƹ䌨ᩱⰡ圅窟㝨㑀ఀ㠎㗓桩嘨眐䠼৆୽〤砠ᶷ⻾ᠲ㞚戴ⴇ㟗僥䑅⹔暚ፆ⒦ྥ慂ㅠ⢐㢹籜䱆⸕޵ℸĭץ⁨㲽䛔浄ҬҶⶦ⒈戧磌᜴交憐ɑ٠凈㩃˧㇘幟ࡆਂK忨ଽ⺉ᬷሃ੢╢⟉攍ᝬᤠ "
   },
   "outputs": [],
   "source": []
  }
 ],
 "metadata": {
  "__CATEGORIES__": "{\"categories\":{\"coolness_factor\":{\"name\":\"coolness_factor\",\"options\":{\"_None\":{\"name\":\"None\"},\"cool\":{\"name\":\"cool\"},\"not cool\":{\"name\":\"not cool\"},\"alright\":{\"name\":\"alright\"}}}},\"activeCategoryName\":\"coolness_factor\"}",
  "__persist_nb_uuid__": "15b6440c-b112-4dd1-bff1-41461f6ea5c3",
  "kernelspec": {
   "display_name": "Python 3 (ipykernel)",
   "language": "python",
   "name": "python3"
  },
  "language_info": {
   "codemirror_mode": {
    "name": "ipython",
    "version": 3
   },
   "file_extension": ".py",
   "mimetype": "text/x-python",
   "name": "python",
   "nbconvert_exporter": "python",
   "pygments_lexer": "ipython3",
   "version": "3.8.16"
  }
 },
 "nbformat": 4,
 "nbformat_minor": 5
}
