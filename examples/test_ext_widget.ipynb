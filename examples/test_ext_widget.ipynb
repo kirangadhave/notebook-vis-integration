{
 "cells": [
  {
   "cell_type": "code",
   "execution_count": 1,
   "id": "9c930f8c-7612-4e28-bc80-439c3cfcd7b4",
   "metadata": {
    "trrack_graph": "໢尭䲠 "
   },
   "outputs": [],
   "source": [
    "##### import pandas as pd\n",
    "import persist_ext as PR\n",
    "import altair as alt\n",
    "from vega_datasets import data"
   ]
  },
  {
   "cell_type": "code",
   "execution_count": 2,
   "id": "0e6b86f1-5a66-4312-98b7-bb6550ac2bc2",
   "metadata": {
    "trrack_graph": "ᯡ࠽䈌ʀ匦㢠⹰Ҁ଴Ă䃌Ő倶䁛ԡᱥ几㍆䍑呠䌵ᬳ䷜禰තዀŌ傰䏂无≼劭ᴦ櫭ⷺ㮓焠͢&拦ᮈ䁅ШN䵀〡岁䎼ℬ㚂恑䀥傖吠❻␡娠嵍㛕彩 拱㬙ᥬばᠲ1䏦ⓦ儂厈撄扬ᚠᛦ઄怱ő䅁旆䄨ંࡋ⊢〦嬵᧝洡䂠⾶寞倦㊁㪸ᆻ䅀㡚䱅㓠਀ⱛ岀⼍ᖨ₽䋪擠㙡̪䓙ᤱ帾⅒䦰䚦╭☳ẘ⎯Ṵ䩊⦧ʣ恼㐤ↆ⳶儬⌣䐶纼ᡑǜ፝䙀懐簱੠儾㥝ࣤၸ㘧౤巴梠଍猘ܧᱮ䕨壹ᚧ䙈ԅᢺ⠑絀  "
   },
   "outputs": [
    {
     "data": {
      "text/html": [
       "<div>\n",
       "<style scoped>\n",
       "    .dataframe tbody tr th:only-of-type {\n",
       "        vertical-align: middle;\n",
       "    }\n",
       "\n",
       "    .dataframe tbody tr th {\n",
       "        vertical-align: top;\n",
       "    }\n",
       "\n",
       "    .dataframe thead th {\n",
       "        text-align: right;\n",
       "    }\n",
       "</style>\n",
       "<table border=\"1\" class=\"dataframe\">\n",
       "  <thead>\n",
       "    <tr style=\"text-align: right;\">\n",
       "      <th></th>\n",
       "      <th>Name</th>\n",
       "      <th>Miles_per_Gallon</th>\n",
       "      <th>Cylinders</th>\n",
       "      <th>Displacement</th>\n",
       "      <th>Horsepower</th>\n",
       "      <th>Weight_in_lbs</th>\n",
       "      <th>Acceleration</th>\n",
       "      <th>Year</th>\n",
       "      <th>Origin</th>\n",
       "    </tr>\n",
       "  </thead>\n",
       "  <tbody>\n",
       "    <tr>\n",
       "      <th>0</th>\n",
       "      <td>chevrolet chevelle malibu</td>\n",
       "      <td>18.0</td>\n",
       "      <td>8</td>\n",
       "      <td>307.0</td>\n",
       "      <td>130.0</td>\n",
       "      <td>3504</td>\n",
       "      <td>12.0</td>\n",
       "      <td>1970-01-01</td>\n",
       "      <td>USA</td>\n",
       "    </tr>\n",
       "    <tr>\n",
       "      <th>1</th>\n",
       "      <td>buick skylark 320</td>\n",
       "      <td>15.0</td>\n",
       "      <td>8</td>\n",
       "      <td>350.0</td>\n",
       "      <td>165.0</td>\n",
       "      <td>3693</td>\n",
       "      <td>11.5</td>\n",
       "      <td>1970-01-01</td>\n",
       "      <td>USA</td>\n",
       "    </tr>\n",
       "    <tr>\n",
       "      <th>2</th>\n",
       "      <td>plymouth satellite</td>\n",
       "      <td>18.0</td>\n",
       "      <td>8</td>\n",
       "      <td>318.0</td>\n",
       "      <td>150.0</td>\n",
       "      <td>3436</td>\n",
       "      <td>11.0</td>\n",
       "      <td>1970-01-01</td>\n",
       "      <td>USA</td>\n",
       "    </tr>\n",
       "    <tr>\n",
       "      <th>3</th>\n",
       "      <td>amc rebel sst</td>\n",
       "      <td>16.0</td>\n",
       "      <td>8</td>\n",
       "      <td>304.0</td>\n",
       "      <td>150.0</td>\n",
       "      <td>3433</td>\n",
       "      <td>12.0</td>\n",
       "      <td>1970-01-01</td>\n",
       "      <td>USA</td>\n",
       "    </tr>\n",
       "    <tr>\n",
       "      <th>4</th>\n",
       "      <td>ford torino</td>\n",
       "      <td>17.0</td>\n",
       "      <td>8</td>\n",
       "      <td>302.0</td>\n",
       "      <td>140.0</td>\n",
       "      <td>3449</td>\n",
       "      <td>10.5</td>\n",
       "      <td>1970-01-01</td>\n",
       "      <td>USA</td>\n",
       "    </tr>\n",
       "  </tbody>\n",
       "</table>\n",
       "</div>"
      ],
      "text/plain": [
       "                        Name  Miles_per_Gallon  Cylinders  Displacement  \\\n",
       "0  chevrolet chevelle malibu              18.0          8         307.0   \n",
       "1          buick skylark 320              15.0          8         350.0   \n",
       "2         plymouth satellite              18.0          8         318.0   \n",
       "3              amc rebel sst              16.0          8         304.0   \n",
       "4                ford torino              17.0          8         302.0   \n",
       "\n",
       "   Horsepower  Weight_in_lbs  Acceleration       Year Origin  \n",
       "0       130.0           3504          12.0 1970-01-01    USA  \n",
       "1       165.0           3693          11.5 1970-01-01    USA  \n",
       "2       150.0           3436          11.0 1970-01-01    USA  \n",
       "3       150.0           3433          12.0 1970-01-01    USA  \n",
       "4       140.0           3449          10.5 1970-01-01    USA  "
      ]
     },
     "execution_count": 2,
     "metadata": {},
     "output_type": "execute_result"
    }
   ],
   "source": [
    "cars = data.cars()\n",
    "cars.head()"
   ]
  },
  {
   "cell_type": "code",
   "execution_count": 11,
   "id": "7ea56cd8-7c40-45a8-b448-3b08857d8283",
   "metadata": {
    "__GENERATED_DATAFRAMES__": "ᯢ粠 ",
    "trrack_graph": "ᯡ࠽䈌ʀ匦㢠⹰҂䀸ѐᶽᠹ䁍S⠠爰ִ縢ᤨ徖䴬橪⠦᭵Ԡ嘸䳴䥠ɹ⅁ͥ䮠䓙ᕺ٬⳸㦕砄ቄ-Рෆਸ⏲´၀Øಡ䀦熦ྑѕ嶧渠ᜂ䙰G⮲;‫呒᭛䲱梦渰晍䘪/ጢ⏲䠡ᰴ劊㕎㴷ဤ旭昸ƌブ䱑ࡆలཻ㜰䆆ᅃوᬠ㗕㌨῾ࢨ̚ට淤䲎ⶢᯊሧΉ䉖氡Ḡޕ䞿䘻俽墧৘Ჽᠶ搰ⓔ咾䊡ⓧ凬樉㍔扼癛κ䡧冤⡎⌠偈䨥ʠ㣖巔䒶ॲၘ抬䱠₭企䡐᰾ѣᅈᨽࣦㅸ癇ϣ焤慈䢰ż䄰崁狩㢥¼匲橒㍩┈㔄⠠ "
   },
   "outputs": [
    {
     "data": {
      "application/vnd.jupyter.widget-view+json": {
       "model_id": "e504bd93a7134ed7a44dbce7b4c5ba82",
       "version_major": 2,
       "version_minor": 0
      },
      "text/plain": [
       "OutputWithTrrackWidget(body_widget=InteractiveTableWidget(df_column_dtypes={'__id_column': 'string', 'Name': '…"
      ]
     },
     "execution_count": 11,
     "metadata": {},
     "output_type": "execute_result"
    }
   ],
   "source": [
    "vis = PR.vis.interactive_table(cars)\n",
    "# vis = PR.vis.scatterplot(cars, y=\"Vertical_inches:Q\", x=\"Elevation_feet:Q\")\n",
    "vis"
   ]
  },
  {
   "cell_type": "code",
   "execution_count": 10,
   "id": "b7eb00ef-ddc2-4848-a747-97049cfac0f8",
   "metadata": {
    "__GENERATED_DATAFRAMES__": "ᯢ粠 ",
    "editable": true,
    "slideshow": {
     "slide_type": ""
    },
    "tags": [],
    "trrack_graph": "ᯡ࠽䈌ʀ匦㢠⹰Ǡጠ䘦ㆀ㘢堧〫‸怹䬡೤Ƃ嗙扒徳峔ᆠ䍷㠠旁䔩ᐠ▨戰瓸碩䩱埈泵巇ཞ䇢†桠û㢁䁔䈠ॢȠா䠸ᢀ盅⻿嵀Ɔႊ)挄䀦栢瘔ٮ卄㽞咨ᷣㆢ䀣擠䡴尠❚Ⴛᵭ䱄琈ƌざ湱ࡗలॳ㌰䂆ᇣ稸欠㗉㮠᧺ନ̛疛ค湲ජᗂሧ䍴氡Ḡݥ咯䘴䧺墣૛洽岆搰ә咶信䗦熁↨矗㩈㚞ᢻ乫䊂抳ӈᑖ▗㴶紪滔崲撨ࡓ䎦ဠⶃ㧄䰮a၈樽âへ㘳懅爐İ䉇䐠圠䡈㥨㊔㹥䕉㣵±憑䓲❨ᤠ "
   },
   "outputs": [
    {
     "data": {
      "application/vnd.jupyter.widget-view+json": {
       "model_id": "bbdb6bc45da44e2e9cb944a79d76d9d8",
       "version_major": 2,
       "version_minor": 0
      },
      "text/plain": [
       "OutputWithTrrackWidget(body_widget=VegaLiteChartWidget(debounce_wait=250.0, df_column_dtypes={'__id_column': '…"
      ]
     },
     "execution_count": 10,
     "metadata": {},
     "output_type": "execute_result"
    }
   ],
   "source": [
    "import pandas as pd\n",
    "url = \"./notebooks/avalanche/avalanches_cleaned.csv\"\n",
    "data = pd.read_csv(url)\n",
    "vis = PR.vis.scatterplot(data, y=\"Vertical_inches:Q\", x=\"Elevation_feet:Q\")\n",
    "a = vis.body_widget.chart\n",
    "vis"
   ]
  },
  {
   "cell_type": "code",
   "execution_count": 9,
   "id": "1f1740ba-d686-45d2-a651-699f5d572dfe",
   "metadata": {
    "__GENERATED_DATAFRAMES__": "ᯢ粠 ",
    "trrack_graph": "ᯡ࠽䈌ʀ匦㢠⹰۠⌠䘡ム挡ᣀ୯䴸ϑૠ⬠晔䐨〣䗎∣ᣀᎷߛ䪷ᗃҴE䨲࢔沙ѩ䩱埄櫽䯏㽡㓣∠桠úᢁ䉝ဩ™+䑁䰠㜸ㄗࡣⷸ㤫䀢湄㊠Ś岰ú}↱姼撠ᬂ䌹㙐⠠㲸भϬ慢懃ᨐ৬犒↠ᛦஈ挱ɑ䅀痖焨ຂ੐憣〦奶ᦢ紱䢠⿁䢍凨日塁㯂ₐ囱㈨ᛠ਀⼙紐緻࢑ᮯ䧱䆎岶䧒᧘ᠩ婪㜶ņը敒㎲燘䓘ᐱ䄂ࡰتϫ⡞ᛷ㚰剐ᩴ⌻ᄳ࠸ᇓ屒☧CࣄԪ䏀ᡌᬳ䈁砢Ⴄ−瀠⯐⨳ᱜ央Ⴧ掴≺䩬桉ᴾ䈣ಠ  "
   },
   "outputs": [],
   "source": [
    "# PR.vis.TrrackableChart(a | a | a | a)"
   ]
  },
  {
   "cell_type": "code",
   "execution_count": 6,
   "id": "b94fc3ba-e87b-4c26-a296-6cf158b170bd",
   "metadata": {
    "trrack_graph": "ᯡ࠽䈌ʀ匦㢠⹰Ǡ↡ಊ䴡〡䁍F౉෷ㆊॠ㌠㙽㜁䂖ۥ▞䁦╠ɹ⅁ݥ䎠䒹Պᬔ䱻媖烧戠ڤ-䵏಍儠䨰ဠ嵔䃠Α䌡㢤ԙ斠挠ୡ浰¼皰ǔÚⶍඡ䤿׊琓↸惀Ēいأ3你փ⒃焉㠬ⴠⶬ೭Bͣɣ䫭Ȱᓤぶ垴怭㙋ℛ嬢䄠彍㞝‬暪獐⍔䉠炕ᡪ妠ᏠĀ岐磢巺⬰䆛◕䴰沢ص৐䝽磎㔬⅚↿ຸ◥⡝⇳䒤̶᳝㬉科⹫ᦆ媨ㄸเ尕メ䐣犸๑ጭ䈀䑲Ც秩㑦ᦢ䋐ᱎާ␑儠ᗧ搐ຮ㢭લ㇒㔷౰৪ㅍ╄䄝ဠ "
   },
   "outputs": [
    {
     "ename": "SyntaxError",
     "evalue": "invalid syntax (632097798.py, line 8)",
     "output_type": "error",
     "traceback": [
      "\u001b[0;36m  Cell \u001b[0;32mIn[6], line 8\u001b[0;36m\u001b[0m\n\u001b[0;31m    ---\u001b[0m\n\u001b[0m       ^\u001b[0m\n\u001b[0;31mSyntaxError\u001b[0m\u001b[0;31m:\u001b[0m invalid syntax\n"
     ]
    }
   ],
   "source": [
    "# cars[\"s\"] = False\n",
    "# cars[\"index\"] = cars.index + 1\n",
    "# cars.loc[cars.sample(n=30).index, \"s\"] = True\n",
    "# c = cars.set_index(\"index\")\n",
    "# c = c[c.s]\n",
    "# c.s.to_dict()\n",
    "\n",
    "---"
   ]
  },
  {
   "cell_type": "code",
   "execution_count": null,
   "id": "1910dea8-9472-42f5-9ca0-548f06c1e4ce",
   "metadata": {
    "trrack_graph": "ᯡ࠽䈌ʀ匦㢠⹰Ҁ㬡ᰣ〣䂆æⰥ僣䃉䐢怬梑Ĭӂ墠䲉〵䚬ĸ8⠥〪┠অҤᵖ㹂包ᖋ楑㞉揿䡨墠ᨰVوガ搢⡠䀢焨㌠෦ౝ戰殖๠ࠠ塩ೀn坄V䀷⢄㚗᥀ԬӁٻఴ>☤䐂悀烈唘㘬☶რஃא㎨䀸悰᫻Ҥ᭑Ըㅡ堣ⱊೡẨ摠៰恒槂㋸ၛ兀㢆䰽㛠਀ⲛ粀ѝ疨һ䟩惡㙡Ũ攪Ҍؼᬻ᢫̦䌆偑碉䐸ᩈ┾থ攨垭Ρ傜㗆捆⒀哒扔⋦ၐ⎇㦄㊢䉣၈樽dㆸ嘧෥焤慈䐀ဠ垀呌㢘牼Ⴍ䝈磕ࢹ劲㨪Ɫᤠ "
   },
   "outputs": [],
   "source": [
    "import pandas as pd\n",
    "\n",
    "data = {\n",
    "    'int_column': [1, 2, 3, 4, 5],\n",
    "    'float_column': [1.1, 2.2, 3.3, 4.4, 5.5],\n",
    "    'string_column': ['A', 'B', 'C', 'D', 'E'],\n",
    "    'bool_column': [True, False, True, False, True],\n",
    "    'date_column': pd.to_datetime(['2023-01-01', '2023-01-02', '2023-01-03', '2023-01-04', '2023-01-05']),\n",
    "}\n",
    "\n",
    "df = pd.DataFrame(data)\n",
    "\n",
    "df = df.convert_dtypes()\n",
    "import json\n",
    "json.loads(df.dtypes.to_json(default_handler=str)).values()"
   ]
  },
  {
   "cell_type": "code",
   "execution_count": null,
   "id": "c2d2160b-a9a9-42df-80f4-c77901ede8cc",
   "metadata": {
    "trrack_graph": "ᯡ࠽䈌ʀ匦㢠⹰۠ጡⱳ❰ᚠᆠ㍌砢怰摠癜ᐬヅṤ⻂吤倳䙹8ᒲ䀤奢℮䖧൞ㅲ䩔画᫗㔃柰␠ന;Ԣᤚሡᑀ‡㬉Ơ܃ئ焨؋尔L␕•㥙အ娠嵝㺣䓩࿧埄ѱⲀ倠祐ሠᆧ䀡搆搣ᣨ᣼紌庠ᛦքᙡq䅁啶ᄨ㪂౏⁩〦宴⨝嵁傠⾾忙嫯⋐⏗䉠灭ᢁ࠵䀳怠牽㮘戉帋࠱㏍廢䪋⬰䨓棰ᓹᱜਬ᪣๡⃪ሃ㢨儘紊㜫៫棯ᄻቂ沋⛢➨悩ዸ㑦䙀㾲憒Ⓒ㘷р䤘⊶䂁ᡌᬣ䌂砢Ⴎဢ帜䃑欂䣑央Ⴢ倩ᕑểዔ⅐搠 "
   },
   "outputs": [],
   "source": [
    "import json\n",
    "\n",
    "possible_dtypes = [\"Int64\", \"Float64\", \"string\", \"boolean\", \"datetime64[ns]\"]\n",
    "\n",
    "cars = data.cars()\n",
    "\n",
    "\n",
    "col_map = dict()\n",
    "c = cars.convert_dtypes()\n",
    "c[\"Test\"] = False\n",
    "c = c.convert_dtypes()\n",
    "\n",
    "\n",
    "for column in c:\n",
    "\n",
    "    col = c[column]\n",
    "    current_dtype = col.dtype\n",
    "    \n",
    "    if current_dtype not in possible_dtypes:\n",
    "        continue\n",
    "    for new_dtype in possible_dtypes:\n",
    "        try:\n",
    "            cc = col.astype(new_dtype)\n",
    "            if str(current_dtype) not in col_map:\n",
    "                col_map[str(current_dtype)] = set()\n",
    "            col_map[str(current_dtype)].add(new_dtype)\n",
    "            print()\n",
    "            print(column, \"----------->\", current_dtype)\n",
    "\n",
    "            print(cc.head())\n",
    "            print()\n",
    "        except:\n",
    "            # print(\"Cannot convert\", column, current_dtype, new_dtype)\n",
    "            continue\n",
    "    print(\"--\")\n",
    "\n",
    "print(json.dumps({k: list(v) for (k,v) in col_map.items()}, indent=2))"
   ]
  },
  {
   "cell_type": "code",
   "execution_count": null,
   "id": "c8941c33-ebc1-465d-a73d-20e03070c0d8",
   "metadata": {
    "trrack_graph": "ᯡ࠽䈌ʀ匦㢠⹰ࢀ㌡䚈ᖣᐽ䁍n᪈҄ါ&㸡夨Ǡি᪤妾绹ὀೣڴCተ¶⡨⇱㌀ᅆ⥶䇓ᬮ⹜紧֩#℠΂䩆Ԍ䁅ШN⍀〡岁䉜Åㄉ挠ׄ䓪$瞒‣㐡㫦፷▲ڸ憦१壡‡犀⒒㵑প䶢懣⋑⦬Öᢛਤ乬फ⿔䡠猱処兛U勅ȳ沪䐢綬͍Ĵٝ䄣匲Φ㓣氌¾'૷䁆ƣ棸䉨㲼⹈⮄ࡔ噴⩅ʀ掱ᣁшᘺ⫖ᑣɪេ㽜㠬༃΀㑆ڤ珌孹ՃǄ⬱䤶ᢠ⅛Ꮷኀ䃅ᒡ⍰瑦ᖮ抑屾ᾤႩ抄䀪焩䉇ើ⛥ࣘ檠䣳৺᥏Ⓞ䁃ဠ "
   },
   "outputs": [],
   "source": []
  },
  {
   "cell_type": "code",
   "execution_count": null,
   "id": "ecfb347a-ce87-4d57-851c-63667af869e3",
   "metadata": {
    "trrack_graph": "ᯡ࠽䈌ʀ匦㢠⹰ೠଡ汰ᣠ嘠㡰୫䁦l拱䊴∤瀠柿ᅱ倰澙༻⩠ᦠ᭙ተ¶⡨⇱㈄ᅁ╦亳ୖ份㸛ڨǁ#㄀࢚҃′䈤7ࠣᠠ湐戎Ⴆ寐爻%屰攠ʕ㥀ǔÚͣ㏙䤱䂍䔨狸惀Ēい⤰庿ګ䝇揱ఉ琦{్䎬∡挤䋶淤ჹ䑈䆩䛠ඉ⤆ܔ⍂Þ͡歠䎻஀䔎䒡恺ㄕ嬠➠ǵ㈏熦挖㙁抎὇ܥ夤्ᅑᥣ燑┘㨮㥃ᒨ䡲㛠スԈឪ஦戎ᡎ೤゜ූ浆⒀哊橖⏦ၐ⎇㢄䰮fშ䨷拀ㆸ噛ס焘䄨䐆怠垀告㢙㈼Ⅿ䝉㒂㵦▉ᓽЪᤠ "
   },
   "outputs": [],
   "source": [
    "cars.Year.astype(str)"
   ]
  },
  {
   "cell_type": "code",
   "execution_count": null,
   "id": "926117f3-cd93-4899-84c8-be934805ed20",
   "metadata": {
    "trrack_graph": "ᯡ࠽䈌ʀ匦㢠⹰ࢀ̺Ҁֳ⠹䁍ഠ䲈ބᶺŹᨲ䔌ƺࠨ榥㐣㊉宠捬物•ⳁႧ⋫䁸䳅㕚٭ⱙ㬗爲ဦ䈠ۥඬǉj࠰|∔怣㣣ט䈲曽䠡6ㄦ倠➇ሠ᭠௏偔㪹ჱ稢悴㖬ਠཆɧ瀢㠠᳸᪌⹭᲻ᝯ倥壣ⱱ⋲とඕ䱢স䂯槑Ⱑ嘵ᑠ睸㱀ఏ堎㝐倥嘨盨䠼৆ݽ〤砠ᶶ滞ᠡ㞚戬⌅炑↻ၠቲƎਭඥ䷨⅄ଅ⧒傏㙦᭓粦ড䆪ᨬɢ䆸⼺槖岲ᒨ౐⍦၀▅㧄మޢᅨਵ୧儸ᙛ১႘㹀䱂砤K偌଼渹ጿᄂ䪜㕤⒉Ⓧʲጬ䀠 "
   },
   "outputs": [],
   "source": [
    "cars.astype(str)"
   ]
  },
  {
   "cell_type": "code",
   "execution_count": null,
   "id": "64b6c264-13c9-4ac1-9826-00bb2c1cd651",
   "metadata": {
    "trrack_graph": "ᯡ࠽䈌ʀ匦㢠⹰໥ìԀᖦ͐倶䀧༠氠夨屹¹Ф㛧℣తᠨ怡䝥㬉壻ㆲ┠অҤശ⸢ጄ咋楑㛮淯䁰䣑Tဠ㘽ಃ೨ɰ䂠̂҆;䘸Ϥၗ眼䇐Ð䬹†于␠㚠ᝨ沂烒ℑ೸愼㬸ᐠṬҥ捄挰⧐ᒸ䱜⼽࣠ஃϐ玨䁘悰㫛Ҥݑഴ㒅堣Ⳋ᱁㻨呠៨摖潠燑氰嵑ၘ⭬ǎ怩瀠㧎㰢れ㻍䐤巷洁擖₡⒄沄ຌ⌥ᴬ䡧⍃㌳⥐僿䘮ຨ揜⠸ண̱塼ມ䌙ᬽ伊䯄⁑唱ᢠⅻϫႀ㢜ࢪ≱呺Ƭ拑ᰪ坬ኩ㹖*焩䊇➮⏦ᒤ䪤佳䧺㼰⛅䒃ဠ "
   },
   "outputs": [],
   "source": [
    "cars = data.cars()\n",
    "cars"
   ]
  },
  {
   "cell_type": "code",
   "execution_count": null,
   "id": "1bcfb8db-8e3a-4d38-94bf-29874f339b63",
   "metadata": {
    "trrack_graph": "ᯡ࠽䈌ʀ匦㢠⹰à㬠䙐ᣠ䍼倶䊦x䚰ᦲ榦烤愢㠠煓⁦Ì取懪ተ¶⡨⇱㈀ᙆⅺ囝⍶盅嶛稨ǁ#㟃௜′䈤7࠽ᠠ湐慎Ⴅᣕ㈻%墎吠➛␠㚠ᝧ⯋㑒⃀痑绘猸ᐠṬҡ怣㋓剱ᐼๆ݅)䏀ב䎺炤⃘と▙塢સ䄩梁䰡囅屿❰㡀ః嘌㐡䶑夆Ѷ桨ม匭⽐ʘ<䭮似❺戸℆燕愻ၡ⌂ᐴ↎É䱣̻∲䥨格䈶طᬳ熭䆡ᢃ≥ɉ₈᮵・䓑ాቺڨ烤ؑ䲮ҳǣ灤़䆘ᒔ̣ځ墼༯䀱峸5氇礮❄䖩䦑礭࡮⥩㕙ᧁĦ† "
   },
   "outputs": [],
   "source": [
    "cars[\"Miles_per_Gallon\"] = cars[\"Miles_per_Gallon\"].astype(str)\n",
    "cars"
   ]
  },
  {
   "cell_type": "code",
   "execution_count": null,
   "id": "e077a38f-acad-4dcd-a150-a2c9ea99f598",
   "metadata": {
    "trrack_graph": "ᯡ࠽䈌ʀ匦㢠⹰ӥXހᖳÑ瀶䟚øƻࠡ䦠⍢ʒ䵀㍁璂啙ᗰ灑䘴ተ¶憨⃱㌀ᙆ⥯۝፶皽嶘ԩ#℠΀ࢋ⌠椨EШN㵀〡岁䏼仗ㄟ䀥呡吠৵撠۰̋琭了⑊㻟ᡈ殄ဧ䦡အೄْᔫፅ䊢拇䒠ƌブ⌱࠱䰲ൻ㔰䂆၃竔ᬠ㗙⣰᷶༨̛瘛丄⎞ⶢ᷒ሧʉ䋶氡Ḡޅ擏䘿䷾墥৘᲼䜆搰㢥哐咀擨㈱⢁撸扜♆㶶䶯朜ࡑ摁દ䊀๕厁㉄や妌ᯣ⌰၃㏘刬ܯ䄰␪ᪧ≑䱖Υ愐籽䝠䠡⺡へ璳␸岻౳ᔘ媨䳲䦢ジ㈠ "
   },
   "outputs": [],
   "source": [
    "cars.dtypes"
   ]
  }
 ],
 "metadata": {
  "__CATEGORIES__": "{\"categories\":{\"AB\":{\"name\":\"AB\",\"options\":{\"_None\":{\"name\":\"None\"},\"A\":{\"name\":\"A\"},\"B\":{\"name\":\"B\"}}},\"SS\":{\"name\":\"SS\",\"options\":{\"_None\":{\"name\":\"None\"}}}},\"activeCategoryName\":\"AB\"}",
  "__persist_nb_uuid__": "15b6440c-b112-4dd1-bff1-41461f6ea5c3",
  "kernelspec": {
   "display_name": "Python 3 (ipykernel)",
   "language": "python",
   "name": "python3"
  },
  "language_info": {
   "codemirror_mode": {
    "name": "ipython",
    "version": 3
   },
   "file_extension": ".py",
   "mimetype": "text/x-python",
   "name": "python",
   "nbconvert_exporter": "python",
   "pygments_lexer": "ipython3",
   "version": "3.8.16"
  }
 },
 "nbformat": 4,
 "nbformat_minor": 5
}
