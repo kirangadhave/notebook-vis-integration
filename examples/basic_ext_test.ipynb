{
 "cells": [
  {
   "cell_type": "code",
   "execution_count": 1,
   "id": "d800660a-06e3-4ea8-800e-1cc9c1d06c01",
   "metadata": {
    "tags": [],
    "trrack_graph": {
     "current": "4f7f3ab6-e47c-4569-bba8-f4e968825a69",
     "nodes": {
      "4f7f3ab6-e47c-4569-bba8-f4e968825a69": {
       "artifacts": [],
       "children": [],
       "createdOn": 1681857647923,
       "event": "Root",
       "id": "4f7f3ab6-e47c-4569-bba8-f4e968825a69",
       "label": "Root",
       "level": 0,
       "meta": {
        "annotation": [],
        "bookmark": []
       },
       "state": {
        "type": "checkpoint",
        "val": {
         "interactions": []
        }
       }
      }
     },
     "root": "4f7f3ab6-e47c-4569-bba8-f4e968825a69"
    }
   },
   "outputs": [
    {
     "name": "stdout",
     "output_type": "stream",
     "text": [
      "Loaded InteractiveDE extension version 1.0.1a0\n",
      "Extension enabled for altair\n"
     ]
    }
   ],
   "source": [
    "import altair as alt\n",
    "import pandas as pd\n",
    "\n",
    "import interactivede.ide as IDE # Our library\n",
    "\n",
    "IDE.enable('altair') # Call this to enable integration with altair"
   ]
  },
  {
   "cell_type": "code",
   "execution_count": 2,
   "id": "71cf56e8-5ac0-40b4-be11-8529784a5007",
   "metadata": {
    "tags": [],
    "trrack_graph": {
     "current": "4e6f79c7-6334-492e-ab7a-8982fd3f0597",
     "nodes": {
      "4e6f79c7-6334-492e-ab7a-8982fd3f0597": {
       "artifacts": [],
       "children": [],
       "createdOn": 1681857747818,
       "event": "Root",
       "id": "4e6f79c7-6334-492e-ab7a-8982fd3f0597",
       "label": "Root",
       "level": 0,
       "meta": {
        "annotation": [],
        "bookmark": []
       },
       "state": {
        "type": "checkpoint",
        "val": {
         "interactions": []
        }
       }
      }
     },
     "root": "4e6f79c7-6334-492e-ab7a-8982fd3f0597"
    }
   },
   "outputs": [
    {
     "data": {
      "text/html": [
       "<div>\n",
       "<style scoped>\n",
       "    .dataframe tbody tr th:only-of-type {\n",
       "        vertical-align: middle;\n",
       "    }\n",
       "\n",
       "    .dataframe tbody tr th {\n",
       "        vertical-align: top;\n",
       "    }\n",
       "\n",
       "    .dataframe thead th {\n",
       "        text-align: right;\n",
       "    }\n",
       "</style>\n",
       "<table border=\"1\" class=\"dataframe\">\n",
       "  <thead>\n",
       "    <tr style=\"text-align: right;\">\n",
       "      <th></th>\n",
       "      <th>Species</th>\n",
       "      <th>Island</th>\n",
       "      <th>Beak Length (mm)</th>\n",
       "      <th>Beak Depth (mm)</th>\n",
       "      <th>Flipper Length (mm)</th>\n",
       "      <th>Body Mass (g)</th>\n",
       "      <th>Sex</th>\n",
       "    </tr>\n",
       "  </thead>\n",
       "  <tbody>\n",
       "    <tr>\n",
       "      <th>0</th>\n",
       "      <td>Adelie</td>\n",
       "      <td>Torgersen</td>\n",
       "      <td>39.1</td>\n",
       "      <td>18.7</td>\n",
       "      <td>181.0</td>\n",
       "      <td>3750.0</td>\n",
       "      <td>MALE</td>\n",
       "    </tr>\n",
       "    <tr>\n",
       "      <th>1</th>\n",
       "      <td>Adelie</td>\n",
       "      <td>Torgersen</td>\n",
       "      <td>39.5</td>\n",
       "      <td>17.4</td>\n",
       "      <td>186.0</td>\n",
       "      <td>3800.0</td>\n",
       "      <td>FEMALE</td>\n",
       "    </tr>\n",
       "    <tr>\n",
       "      <th>2</th>\n",
       "      <td>Adelie</td>\n",
       "      <td>Torgersen</td>\n",
       "      <td>40.3</td>\n",
       "      <td>18.0</td>\n",
       "      <td>195.0</td>\n",
       "      <td>3250.0</td>\n",
       "      <td>FEMALE</td>\n",
       "    </tr>\n",
       "    <tr>\n",
       "      <th>3</th>\n",
       "      <td>Adelie</td>\n",
       "      <td>Torgersen</td>\n",
       "      <td>NaN</td>\n",
       "      <td>NaN</td>\n",
       "      <td>NaN</td>\n",
       "      <td>NaN</td>\n",
       "      <td>None</td>\n",
       "    </tr>\n",
       "    <tr>\n",
       "      <th>4</th>\n",
       "      <td>Adelie</td>\n",
       "      <td>Torgersen</td>\n",
       "      <td>36.7</td>\n",
       "      <td>19.3</td>\n",
       "      <td>193.0</td>\n",
       "      <td>3450.0</td>\n",
       "      <td>FEMALE</td>\n",
       "    </tr>\n",
       "    <tr>\n",
       "      <th>...</th>\n",
       "      <td>...</td>\n",
       "      <td>...</td>\n",
       "      <td>...</td>\n",
       "      <td>...</td>\n",
       "      <td>...</td>\n",
       "      <td>...</td>\n",
       "      <td>...</td>\n",
       "    </tr>\n",
       "    <tr>\n",
       "      <th>339</th>\n",
       "      <td>Gentoo</td>\n",
       "      <td>Biscoe</td>\n",
       "      <td>NaN</td>\n",
       "      <td>NaN</td>\n",
       "      <td>NaN</td>\n",
       "      <td>NaN</td>\n",
       "      <td>None</td>\n",
       "    </tr>\n",
       "    <tr>\n",
       "      <th>340</th>\n",
       "      <td>Gentoo</td>\n",
       "      <td>Biscoe</td>\n",
       "      <td>46.8</td>\n",
       "      <td>14.3</td>\n",
       "      <td>215.0</td>\n",
       "      <td>4850.0</td>\n",
       "      <td>FEMALE</td>\n",
       "    </tr>\n",
       "    <tr>\n",
       "      <th>341</th>\n",
       "      <td>Gentoo</td>\n",
       "      <td>Biscoe</td>\n",
       "      <td>50.4</td>\n",
       "      <td>15.7</td>\n",
       "      <td>222.0</td>\n",
       "      <td>5750.0</td>\n",
       "      <td>MALE</td>\n",
       "    </tr>\n",
       "    <tr>\n",
       "      <th>342</th>\n",
       "      <td>Gentoo</td>\n",
       "      <td>Biscoe</td>\n",
       "      <td>45.2</td>\n",
       "      <td>14.8</td>\n",
       "      <td>212.0</td>\n",
       "      <td>5200.0</td>\n",
       "      <td>FEMALE</td>\n",
       "    </tr>\n",
       "    <tr>\n",
       "      <th>343</th>\n",
       "      <td>Gentoo</td>\n",
       "      <td>Biscoe</td>\n",
       "      <td>49.9</td>\n",
       "      <td>16.1</td>\n",
       "      <td>213.0</td>\n",
       "      <td>5400.0</td>\n",
       "      <td>MALE</td>\n",
       "    </tr>\n",
       "  </tbody>\n",
       "</table>\n",
       "<p>344 rows × 7 columns</p>\n",
       "</div>"
      ],
      "text/plain": [
       "    Species     Island  Beak Length (mm)  Beak Depth (mm)  \\\n",
       "0    Adelie  Torgersen              39.1             18.7   \n",
       "1    Adelie  Torgersen              39.5             17.4   \n",
       "2    Adelie  Torgersen              40.3             18.0   \n",
       "3    Adelie  Torgersen               NaN              NaN   \n",
       "4    Adelie  Torgersen              36.7             19.3   \n",
       "..      ...        ...               ...              ...   \n",
       "339  Gentoo     Biscoe               NaN              NaN   \n",
       "340  Gentoo     Biscoe              46.8             14.3   \n",
       "341  Gentoo     Biscoe              50.4             15.7   \n",
       "342  Gentoo     Biscoe              45.2             14.8   \n",
       "343  Gentoo     Biscoe              49.9             16.1   \n",
       "\n",
       "     Flipper Length (mm)  Body Mass (g)     Sex  \n",
       "0                  181.0         3750.0    MALE  \n",
       "1                  186.0         3800.0  FEMALE  \n",
       "2                  195.0         3250.0  FEMALE  \n",
       "3                    NaN            NaN    None  \n",
       "4                  193.0         3450.0  FEMALE  \n",
       "..                   ...            ...     ...  \n",
       "339                  NaN            NaN    None  \n",
       "340                215.0         4850.0  FEMALE  \n",
       "341                222.0         5750.0    MALE  \n",
       "342                212.0         5200.0  FEMALE  \n",
       "343                213.0         5400.0    MALE  \n",
       "\n",
       "[344 rows x 7 columns]"
      ]
     },
     "execution_count": 2,
     "metadata": {
      "cellId": "71cf56e8-5ac0-40b4-be11-8529784a5007"
     },
     "output_type": "execute_result"
    }
   ],
   "source": [
    "penguins_url = \"https://raw.githubusercontent.com/vega/vega/master/docs/data/penguins.json\"\n",
    "pd.read_json(penguins_url)"
   ]
  },
  {
   "cell_type": "code",
   "execution_count": 10,
   "id": "57ea3b21-3fc6-4991-bb04-cfb5c6cc5cf2",
   "metadata": {
    "tags": [],
    "trrack_execution_spec": {
     "$schema": "https://vega.github.io/schema/vega-lite/v4.17.0.json",
     "config": {
      "view": {
       "continuousHeight": 300,
       "continuousWidth": 400
      }
     },
     "data": {
      "url": "https://raw.githubusercontent.com/vega/vega/master/docs/data/penguins.json"
     },
     "encoding": {
      "color": {
       "field": "Species",
       "type": "nominal"
      },
      "size": {
       "condition": {
        "selection": "brush",
        "value": 200
       },
       "value": 50
      },
      "x": {
       "field": "Beak Length (mm)",
       "scale": {
        "zero": false
       },
       "type": "quantitative"
      },
      "y": {
       "field": "Beak Depth (mm)",
       "scale": {
        "zero": false
       },
       "type": "quantitative"
      }
     },
     "height": 400,
     "mark": "circle",
     "selection": {
      "brush": {
       "type": "interval"
      }
     },
     "width": 400
    },
    "trrack_graph": {
     "current": "440e2fcf-0034-4429-b59e-af04e5af22db",
     "nodes": {
      "3695b695-0c89-498c-9ab5-766143e39803": {
       "artifacts": [],
       "children": [
        "440e2fcf-0034-4429-b59e-af04e5af22db"
       ],
       "createdOn": 1682102018180,
       "event": "interaction",
       "id": "3695b695-0c89-498c-9ab5-766143e39803",
       "label": "Brush selection",
       "level": 2,
       "meta": {
        "annotation": [],
        "bookmark": []
       },
       "parent": "db69b11b-7321-44b2-8fcc-1bff74af55ba",
       "sideEffects": {
        "do": [],
        "undo": []
       },
       "state": {
        "type": "checkpoint",
        "val": {
         "interactions": [
          {
           "id": "abd46cd7-4061-451b-ba1c-9c3f22422281",
           "name": "brush",
           "params": {
            "x": {
             "field": "Beak Length (mm)",
             "range": [
              39.63,
              52.86
             ]
            },
            "y": {
             "field": "Beak Depth (mm)",
             "range": [
              13.571499862670898,
              15.573999862670899
             ]
            }
           },
           "path": "/selection/brush",
           "type": "selection_interval"
          },
          {
           "id": "0568f381-0679-4795-9f78-0d0a3169e09c",
           "name": "brush",
           "params": {
            "x": {
             "field": "Beak Length (mm)",
             "range": [
              41.730000000000004,
              54.959999999999994
             ]
            },
            "y": {
             "field": "Beak Depth (mm)",
             "range": [
              15.7314998626709,
              17.7339998626709
             ]
            }
           },
           "path": "/selection/brush",
           "type": "selection_interval"
          }
         ]
        }
       }
      },
      "440e2fcf-0034-4429-b59e-af04e5af22db": {
       "artifacts": [],
       "children": [],
       "createdOn": 1682102019127,
       "event": "interaction",
       "id": "440e2fcf-0034-4429-b59e-af04e5af22db",
       "label": "Filter",
       "level": 3,
       "meta": {
        "annotation": [],
        "bookmark": []
       },
       "parent": "3695b695-0c89-498c-9ab5-766143e39803",
       "sideEffects": {
        "do": [],
        "undo": []
       },
       "state": {
        "type": "checkpoint",
        "val": {
         "interactions": [
          {
           "id": "abd46cd7-4061-451b-ba1c-9c3f22422281",
           "name": "brush",
           "params": {
            "x": {
             "field": "Beak Length (mm)",
             "range": [
              39.63,
              52.86
             ]
            },
            "y": {
             "field": "Beak Depth (mm)",
             "range": [
              13.571499862670898,
              15.573999862670899
             ]
            }
           },
           "path": "/selection/brush",
           "type": "selection_interval"
          },
          {
           "id": "0568f381-0679-4795-9f78-0d0a3169e09c",
           "name": "brush",
           "params": {
            "x": {
             "field": "Beak Length (mm)",
             "range": [
              41.730000000000004,
              54.959999999999994
             ]
            },
            "y": {
             "field": "Beak Depth (mm)",
             "range": [
              15.7314998626709,
              17.7339998626709
             ]
            }
           },
           "path": "/selection/brush",
           "type": "selection_interval"
          },
          {
           "id": "45177888-d576-46c7-a8c7-f9133e792f37",
           "type": "filter"
          }
         ]
        }
       }
      },
      "469276b1-fc90-480b-b961-12747d7ef7c0": {
       "artifacts": [],
       "children": [
        "db69b11b-7321-44b2-8fcc-1bff74af55ba"
       ],
       "createdOn": 1681968594109,
       "event": "Root",
       "id": "469276b1-fc90-480b-b961-12747d7ef7c0",
       "label": "Root",
       "level": 0,
       "meta": {
        "annotation": [],
        "bookmark": []
       },
       "state": {
        "type": "checkpoint",
        "val": {
         "interactions": []
        }
       }
      },
      "db69b11b-7321-44b2-8fcc-1bff74af55ba": {
       "artifacts": [],
       "children": [
        "3695b695-0c89-498c-9ab5-766143e39803"
       ],
       "createdOn": 1682102017112,
       "event": "interaction",
       "id": "db69b11b-7321-44b2-8fcc-1bff74af55ba",
       "label": "Brush selection",
       "level": 1,
       "meta": {
        "annotation": [],
        "bookmark": []
       },
       "parent": "469276b1-fc90-480b-b961-12747d7ef7c0",
       "sideEffects": {
        "do": [],
        "undo": []
       },
       "state": {
        "type": "checkpoint",
        "val": {
         "interactions": [
          {
           "id": "abd46cd7-4061-451b-ba1c-9c3f22422281",
           "name": "brush",
           "params": {
            "x": {
             "field": "Beak Length (mm)",
             "range": [
              39.63,
              52.86
             ]
            },
            "y": {
             "field": "Beak Depth (mm)",
             "range": [
              13.571499862670898,
              15.573999862670899
             ]
            }
           },
           "path": "/selection/brush",
           "type": "selection_interval"
          }
         ]
        }
       }
      }
     },
     "root": "469276b1-fc90-480b-b961-12747d7ef7c0"
    }
   },
   "outputs": [
    {
     "data": {
      "application/vnd.vegalite.v4+json": {
       "$schema": "https://vega.github.io/schema/vega-lite/v4.17.0.json",
       "config": {
        "view": {
         "continuousHeight": 300,
         "continuousWidth": 400
        }
       },
       "data": {
        "url": "https://raw.githubusercontent.com/vega/vega/master/docs/data/penguins.json"
       },
       "encoding": {
        "color": {
         "field": "Species",
         "type": "nominal"
        },
        "size": {
         "condition": {
          "selection": "brush",
          "value": 200
         },
         "value": 50
        },
        "x": {
         "field": "Beak Length (mm)",
         "scale": {
          "zero": false
         },
         "type": "quantitative"
        },
        "y": {
         "field": "Beak Depth (mm)",
         "scale": {
          "zero": false
         },
         "type": "quantitative"
        }
       },
       "height": 400,
       "mark": "circle",
       "selection": {
        "brush": {
         "type": "interval"
        }
       },
       "transform": [
        {
         "filter": {
          "not": {
           "and": [
            {
             "field": "Beak Length (mm)",
             "range": [
              41.730000000000004,
              54.959999999999994
             ]
            },
            {
             "field": "Beak Depth (mm)",
             "range": [
              15.7314998626709,
              17.7339998626709
             ]
            }
           ]
          }
         }
        }
       ],
       "usermeta": {
        "__ide__": {
         "id": "0568f381-0679-4795-9f78-0d0a3169e09c",
         "name": "brush",
         "params": {
          "x": {
           "field": "Beak Length (mm)",
           "range": [
            41.730000000000004,
            54.959999999999994
           ]
          },
          "y": {
           "field": "Beak Depth (mm)",
           "range": [
            15.7314998626709,
            17.7339998626709
           ]
          }
         },
         "path": "/selection/brush",
         "type": "selection_interval"
        }
       },
       "width": 400
      },
      "image/png": "[encoded data removed]"
     },
     "execution_count": 10,
     "metadata": {
      "cellId": "57ea3b21-3fc6-4991-bb04-cfb5c6cc5cf2"
     },
     "output_type": "execute_result"
    }
   ],
   "source": [
    "# All of the code here is pure altair. The library does not need any custom syntax\n",
    "\n",
    "brush = alt.selection_interval(name='brush') # define a type of selection\n",
    "\n",
    "# create a scatterplot\n",
    "chart = alt.Chart(penguins_url).mark_circle().encode(\n",
    "    x=alt.X('Beak Length (mm):Q', scale=alt.Scale(zero=False)),\n",
    "    y=alt.Y('Beak Depth (mm):Q', scale=alt.Scale(zero=False)),\n",
    "    color=\"Species:N\",\n",
    "    size=alt.condition(brush, alt.value(200), alt.value(50))\n",
    ").properties(\n",
    "    width=400,\n",
    "    height=400\n",
    ").add_selection(\n",
    "    brush # Connect the brush selection to scatterplot\n",
    ")\n",
    "\n",
    "chart"
   ]
  },
  {
   "cell_type": "code",
   "execution_count": null,
   "id": "fa6ab70a-0d21-46e8-8df9-83f0c01cbb04",
   "metadata": {
    "trrack_graph": {
     "current": "1262063b-1b60-44fd-96d6-c1e36fdb4966",
     "nodes": {
      "1262063b-1b60-44fd-96d6-c1e36fdb4966": {
       "artifacts": [],
       "children": [],
       "createdOn": 1681936856025,
       "event": "Root",
       "id": "1262063b-1b60-44fd-96d6-c1e36fdb4966",
       "label": "Root",
       "level": 0,
       "meta": {
        "annotation": [],
        "bookmark": []
       },
       "state": {
        "type": "checkpoint",
        "val": {
         "interactions": []
        }
       }
      }
     },
     "root": "1262063b-1b60-44fd-96d6-c1e36fdb4966"
    }
   },
   "outputs": [],
   "source": []
  }
 ],
 "metadata": {
  "NB_UUID": "56ee9583-b360-4fc8-993c-4a68765003a0",
  "kernelspec": {
   "display_name": "Python 3 (ipykernel)",
   "language": "python",
   "name": "python3"
  },
  "language_info": {
   "codemirror_mode": {
    "name": "ipython",
    "version": 3
   },
   "file_extension": ".py",
   "mimetype": "text/x-python",
   "name": "python",
   "nbconvert_exporter": "python",
   "pygments_lexer": "ipython3",
   "version": "3.8.16"
  },
  "toc-autonumbering": false,
  "toc-showtags": false
 },
 "nbformat": 4,
 "nbformat_minor": 5
}
