{
 "cells": [
  {
   "cell_type": "code",
   "execution_count": 1,
   "id": "0221fabc-37b3-401e-b082-ffff4eed5f74",
   "metadata": {
    "__GENERATED_DATAFRAMES__": "ᯢ粠 ",
    "__has_persist_output": true,
    "trrack_graph": "ᯡ࠽䈌ʀ匦㢠⹰ࢀ㌠ᰠヶĸ׀૦䁓ؤƄ偑䔢ᤰᶠፑ☤メ槔稃ʫैkᑄᄉ妐戱ᝅ⭾凋㭎ẜʤ䀡傠Ǒ‰㥀ॢȠா䠸ᢀ㜰䁾巓•橀樠Ꮃ䤠ව׷核ᲁ⚨ⲝീ┪殠޳ŀ硘䩌┫֧ᓤ⟰˸惌⡂⥐⑅⫴℮䱣ࠉ煌ö労㾧⑔ါ矱瑖䡰㑶ж硨฾匭⫐ʘ<௎漸ധ▂ੌ痗壀拤ዎ渺⤧ദ䍠抠悑⢓␤nㆺḏֲ晒ㆄなȋ㍌歩ňፄ‡嘴ᢡ繫ץኀ㢜ᢦⁱ呚Ƭ懑䰭ឯ戩䊘䀪砒ȧ⮺⍥搸抻ॱ爊㜨仳Уဠ "
   },
   "outputs": [
    {
     "name": "stdout",
     "output_type": "stream",
     "text": [
      "Persist extension loaded!\n",
      "Dev mode enabled!\n"
     ]
    },
    {
     "data": {
      "application/vnd.jupyter.widget-view+json": {
       "model_id": "45de200cce45489dbee484aae6ef1036",
       "version_major": 2,
       "version_minor": 1
      },
      "text/plain": [
       "PersistWidget(data_values=[{'__id_column': '1', ';Region': 'Salt Lake', 'Year': 2012, ';Trigger': 'Snowboarder…"
      ]
     },
     "execution_count": 1,
     "metadata": {},
     "output_type": "execute_result"
    }
   ],
   "source": [
    "import pandas as pd\n",
    "import altair as alt\n",
    "import persist_ext as PR\n",
    "PR.enable_dev_mode()\n",
    "\n",
    "data = pd.read_csv(\"avalanches_data.csv\")\n",
    "data.head()\n",
    "\n",
    "PR.PersistTable(data)"
   ]
  },
  {
   "cell_type": "code",
   "execution_count": 6,
   "id": "f2be88d8-4e58-4903-862e-e0549e996a6b",
   "metadata": {},
   "outputs": [
    {
     "data": {
      "text/plain": [
       ";Region             object\n",
       "Year                 int64\n",
       ";Trigger            object\n",
       ";Weak Layer         object\n",
       "Depth_inches        object\n",
       ";Aspect             object\n",
       "Day                  int64\n",
       "Elevation_feet     float64\n",
       "Vertical_inches    float64\n",
       "Month                int64\n",
       "dtype: object"
      ]
     },
     "execution_count": 6,
     "metadata": {},
     "output_type": "execute_result"
    }
   ],
   "source": [
    "data.dtypes"
   ]
  },
  {
   "cell_type": "code",
   "execution_count": null,
   "id": "cdd70eba-1855-4d60-8e83-5e9d409a8eac",
   "metadata": {},
   "outputs": [],
   "source": []
  }
 ],
 "metadata": {
  "__persist_keys_record": [
   "__GENERATED_DATAFRAMES__",
   "__persist_nb_uuid__",
   "trrack_graph"
  ],
  "__persist_nb_uuid__": "747414a8-b617-4746-b620-527f7a62720d",
  "kernelspec": {
   "display_name": "Python 3 (ipykernel)",
   "language": "python",
   "name": "python3"
  },
  "language_info": {
   "codemirror_mode": {
    "name": "ipython",
    "version": 3
   },
   "file_extension": ".py",
   "mimetype": "text/x-python",
   "name": "python",
   "nbconvert_exporter": "python",
   "pygments_lexer": "ipython3",
   "version": "3.12.3"
  }
 },
 "nbformat": 4,
 "nbformat_minor": 5
}
