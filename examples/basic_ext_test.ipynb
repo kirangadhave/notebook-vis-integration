{
 "cells": [
  {
   "cell_type": "code",
   "execution_count": 1,
   "id": "9992eeb6-4642-47ab-b365-162385d0362e",
   "metadata": {
    "trrack_graph": {
     "current": "16365eaf-61dc-4d1e-af4a-88727c13d4f9",
     "nodes": {
      "16365eaf-61dc-4d1e-af4a-88727c13d4f9": {
       "artifacts": [],
       "children": [],
       "createdOn": 1680750958567,
       "event": "Root",
       "id": "16365eaf-61dc-4d1e-af4a-88727c13d4f9",
       "label": "Root",
       "level": 0,
       "meta": {
        "annotation": [],
        "bookmark": []
       },
       "state": {
        "type": "checkpoint",
        "val": {
         "interactions": []
        }
       }
      }
     },
     "root": "16365eaf-61dc-4d1e-af4a-88727c13d4f9"
    }
   },
   "outputs": [
    {
     "name": "stdout",
     "output_type": "stream",
     "text": [
      "Loaded InteractiveDE extension version 1.0.1a0\n",
      "Extension enabled for altair\n",
      "Test\n"
     ]
    }
   ],
   "source": [
    "import altair as alt\n",
    "import pandas as pd\n",
    "\n",
    "import interactivede.ide as IDE # Our library\n",
    "\n",
    "IDE.enable('altair') # Call this to enable integration with altair\n",
    "print(\"Test\")"
   ]
  },
  {
   "cell_type": "code",
   "execution_count": 2,
   "id": "adc9a6fd-e1c2-4ca7-a977-12ad210eadeb",
   "metadata": {
    "trrack_graph": {
     "current": "cbd78920-67b8-4628-974d-550222e3e93b",
     "nodes": {
      "cbd78920-67b8-4628-974d-550222e3e93b": {
       "artifacts": [],
       "children": [],
       "createdOn": 1680750953361,
       "event": "Root",
       "id": "cbd78920-67b8-4628-974d-550222e3e93b",
       "label": "Root",
       "level": 0,
       "meta": {
        "annotation": [],
        "bookmark": []
       },
       "state": {
        "type": "checkpoint",
        "val": {
         "interactions": []
        }
       }
      }
     },
     "root": "cbd78920-67b8-4628-974d-550222e3e93b"
    }
   },
   "outputs": [],
   "source": [
    "penguins_url = \"https://raw.githubusercontent.com/vega/vega/master/docs/data/penguins.json\""
   ]
  },
  {
   "cell_type": "code",
   "execution_count": null,
   "id": "5c4dab84-882e-4d87-90fe-6e0608ca8f25",
   "metadata": {
    "trrack_graph": {
     "current": "c9b4429c-312e-4fd8-8268-eef605f85339",
     "nodes": {
      "c9b4429c-312e-4fd8-8268-eef605f85339": {
       "artifacts": [],
       "children": [],
       "createdOn": 1681319904201,
       "event": "Root",
       "id": "c9b4429c-312e-4fd8-8268-eef605f85339",
       "label": "Root",
       "level": 0,
       "meta": {
        "annotation": [],
        "bookmark": []
       },
       "state": {
        "type": "checkpoint",
        "val": {
         "interactions": []
        }
       }
      }
     },
     "root": "c9b4429c-312e-4fd8-8268-eef605f85339"
    }
   },
   "outputs": [],
   "source": [
    "# All of the code here is pure altair. The library does not need any custom syntax\n",
    "\n",
    "brush = alt.selection_interval(name='brush') # define a type of selection\n",
    "\n",
    "# create a scatterplot\n",
    "chart = alt.Chart(penguins_url).mark_point().encode(\n",
    "    x=alt.X('Beak Length (mm):Q', scale=alt.Scale(zero=False)),\n",
    "    y=alt.Y('Beak Depth (mm):Q', scale=alt.Scale(zero=False)),\n",
    "    color=alt.condition(brush, 'Species:N', alt.value('lightgray'))\n",
    ").properties(\n",
    "    width=400,\n",
    "    height=400\n",
    ").add_selection(\n",
    "    brush # Connect the brush selection to scatterplot\n",
    ")\n",
    "\n",
    "chart"
   ]
  }
 ],
 "metadata": {
  "NB_UUID": "56ee9583-b360-4fc8-993c-4a68765003a0",
  "kernelspec": {
   "display_name": "Python 3 (ipykernel)",
   "language": "python",
   "name": "python3"
  },
  "language_info": {
   "codemirror_mode": {
    "name": "ipython",
    "version": 3
   },
   "file_extension": ".py",
   "mimetype": "text/x-python",
   "name": "python",
   "nbconvert_exporter": "python",
   "pygments_lexer": "ipython3",
   "version": "3.8.16"
  },
  "toc-autonumbering": false,
  "toc-showtags": false
 },
 "nbformat": 4,
 "nbformat_minor": 5
}
