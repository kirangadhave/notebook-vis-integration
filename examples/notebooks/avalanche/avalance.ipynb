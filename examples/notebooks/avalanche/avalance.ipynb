{
 "cells": [
  {
   "cell_type": "code",
   "execution_count": 1,
   "id": "99116130-945f-4893-a8c3-0d040525966f",
   "metadata": {
    "trrack_graph": "ᯡ࠽䈌ʀ匦㢠⹱⁆ŸހᎠ㘣ద〫 澠䍵䐢怣䃹í␨晋⫈⪐坔P慅)㊤䈭ାᅒ䫵町䣗㔍毿䡨:ࠠᬪ剑筄ň⁠ƕ椣-挬܂ࠫ毗砠ⵧ畠ʒ㥀ǔÚ㶝Ω䤠⟏䐨典惀Ēい⭎ᬧপ怷⋂㆒稠嬸ᖥѤŦҠ啺䑁榨ポ⥅䀺扱⠐璦䈡㺚Ầ匥Ἢ悢漩ǣ殥䡀⬠➠ǡ㈭熧悖噁⋮宛Չ农⥏䆢ㅒ炉㠴扈⅞㚿ጬ⛥ㆯऩ䨔瑼ᴧⅡ塲ᛢ富ᜤ䥂,烁䐯牸⹉̣䀰⒒ફ⁐璆ඡ技尾ྪ䈩䉘䀪砒ʧ⮺❥摸抷࿥呤䚴但慠  "
   },
   "outputs": [],
   "source": [
    "import altair as alt # Load altair for charting\n",
    "\n",
    "alt.data_transformers.disable_max_rows() # Disable altair's max row limit.\n",
    "\n",
    "import pandas as pd # Load pandas for data processing\n",
    "\n",
    "import persist_ext as PR # Import the extension\n"
   ]
  },
  {
   "cell_type": "code",
   "execution_count": 2,
   "id": "b59d08be-a502-4640-96ec-56926fd0614d",
   "metadata": {
    "trrack_graph": "ᯡ࠽䈌ʀ匦㢠⹰ૠᬠ䘤熀䌬͐ୢ䂖ᘠᢨ˧䀮ᇙ㛀⌱ᡑ〳̪⥭❣ਲ⠠䬱䑁槑爱ᝅ⭷Ƴ⮖乜簥Ҩǁ#㟣ࢉРኤРᜰ͐üメ浪巟㈠ᣠˬリ$熒‣㐡㨦䍇⦲ʠ渂෡壡‡犀␶ᨶᲴ䋧挅ኰ倬Öᠻ⹈䐷ةۉ妨⃓ࢱ̬㖠᫼室༏ѤƜܝ暢⹗䛡໵ण䅔憊㘠传ϒ橯挭眏ⱡ䕼庮屓㈨ɼ渃@ᇃ⣱㡤⠠㌿گ䌤⋡㉭ॾ㓀亡℈⠶Ƣ磶䷕沵①懂ᩑ¢欻䵄悐籑٤傈穃ೣじ湏࿤ত⽗䀥㤤Ↄ䩣ᆃ牼⥠◉䓭ಳ剳䍀  "
   },
   "outputs": [
    {
     "data": {
      "text/html": [
       "<div>\n",
       "<style scoped>\n",
       "    .dataframe tbody tr th:only-of-type {\n",
       "        vertical-align: middle;\n",
       "    }\n",
       "\n",
       "    .dataframe tbody tr th {\n",
       "        vertical-align: top;\n",
       "    }\n",
       "\n",
       "    .dataframe thead th {\n",
       "        text-align: right;\n",
       "    }\n",
       "</style>\n",
       "<table border=\"1\" class=\"dataframe\">\n",
       "  <thead>\n",
       "    <tr style=\"text-align: right;\">\n",
       "      <th></th>\n",
       "      <th>Date</th>\n",
       "      <th>;Region</th>\n",
       "      <th>Place</th>\n",
       "      <th>;Trigger</th>\n",
       "      <th>;Weak Layer</th>\n",
       "      <th>Depth_inches</th>\n",
       "      <th>Width_inches</th>\n",
       "      <th>Vertical_inches</th>\n",
       "      <th>Aspect</th>\n",
       "      <th>Elevation_feet</th>\n",
       "      <th>Coordinates</th>\n",
       "      <th>Comments 1</th>\n",
       "    </tr>\n",
       "  </thead>\n",
       "  <tbody>\n",
       "    <tr>\n",
       "      <th>0</th>\n",
       "      <td>2012-11-09</td>\n",
       "      <td>Salt Lake</td>\n",
       "      <td>Sunset Peak</td>\n",
       "      <td>Snowboarder</td>\n",
       "      <td>New Snow/Old Snow Interface</td>\n",
       "      <td>14.0</td>\n",
       "      <td>960.0</td>\n",
       "      <td>360.0</td>\n",
       "      <td>North</td>\n",
       "      <td>10400.0</td>\n",
       "      <td>40.577977000000, -111.595817000000</td>\n",
       "      <td>While it was a small avalanche that was I caug...</td>\n",
       "    </tr>\n",
       "    <tr>\n",
       "      <th>1</th>\n",
       "      <td>2012-11-11</td>\n",
       "      <td>Salt Lake</td>\n",
       "      <td>Patsy Marly</td>\n",
       "      <td>Skier</td>\n",
       "      <td>New Snow/Old Snow Interface</td>\n",
       "      <td>30.0</td>\n",
       "      <td>1200.0</td>\n",
       "      <td>1200.0</td>\n",
       "      <td>North</td>\n",
       "      <td>9700.0</td>\n",
       "      <td>40.592619000000, -111.616099000000</td>\n",
       "      <td>A North facing aspect with an exposed ridge in...</td>\n",
       "    </tr>\n",
       "    <tr>\n",
       "      <th>2</th>\n",
       "      <td>2012-11-11</td>\n",
       "      <td>Salt Lake</td>\n",
       "      <td>Two Dogs</td>\n",
       "      <td>Skier</td>\n",
       "      <td>Facets</td>\n",
       "      <td>36.0</td>\n",
       "      <td>840.0</td>\n",
       "      <td>5400.0</td>\n",
       "      <td>North</td>\n",
       "      <td>10200.0</td>\n",
       "      <td>40.599291000000, -111.642315000000</td>\n",
       "      <td>Remotely triggered all the new storm snow (abo...</td>\n",
       "    </tr>\n",
       "    <tr>\n",
       "      <th>3</th>\n",
       "      <td>2012-11-11</td>\n",
       "      <td>Salt Lake</td>\n",
       "      <td>Emma Ridges</td>\n",
       "      <td>Skier</td>\n",
       "      <td>New Snow</td>\n",
       "      <td>18.0</td>\n",
       "      <td>600.0</td>\n",
       "      <td>6000.0</td>\n",
       "      <td>Southeast</td>\n",
       "      <td>10200.0</td>\n",
       "      <td>40.598313000000, -111.628304000000</td>\n",
       "      <td>Impressive fast powder cloud ran in front of t...</td>\n",
       "    </tr>\n",
       "    <tr>\n",
       "      <th>4</th>\n",
       "      <td>2012-11-11</td>\n",
       "      <td>Salt Lake</td>\n",
       "      <td>Sunset Peak</td>\n",
       "      <td>Skier</td>\n",
       "      <td>Facets</td>\n",
       "      <td>42.0</td>\n",
       "      <td>18000.0</td>\n",
       "      <td>9600.0</td>\n",
       "      <td>North</td>\n",
       "      <td>10400.0</td>\n",
       "      <td>40.578590000000, -111.595087000000</td>\n",
       "      <td>Three of us toured from Brighton to low saddle...</td>\n",
       "    </tr>\n",
       "  </tbody>\n",
       "</table>\n",
       "</div>"
      ],
      "text/plain": [
       "         Date    ;Region        Place     ;Trigger  \\\n",
       "0  2012-11-09  Salt Lake  Sunset Peak  Snowboarder   \n",
       "1  2012-11-11  Salt Lake  Patsy Marly        Skier   \n",
       "2  2012-11-11  Salt Lake     Two Dogs        Skier   \n",
       "3  2012-11-11  Salt Lake  Emma Ridges        Skier   \n",
       "4  2012-11-11  Salt Lake  Sunset Peak        Skier   \n",
       "\n",
       "                   ;Weak Layer  Depth_inches  Width_inches  Vertical_inches  \\\n",
       "0  New Snow/Old Snow Interface          14.0         960.0            360.0   \n",
       "1  New Snow/Old Snow Interface          30.0        1200.0           1200.0   \n",
       "2                       Facets          36.0         840.0           5400.0   \n",
       "3                     New Snow          18.0         600.0           6000.0   \n",
       "4                       Facets          42.0       18000.0           9600.0   \n",
       "\n",
       "      Aspect  Elevation_feet                         Coordinates  \\\n",
       "0      North         10400.0  40.577977000000, -111.595817000000   \n",
       "1      North          9700.0  40.592619000000, -111.616099000000   \n",
       "2      North         10200.0  40.599291000000, -111.642315000000   \n",
       "3  Southeast         10200.0  40.598313000000, -111.628304000000   \n",
       "4      North         10400.0  40.578590000000, -111.595087000000   \n",
       "\n",
       "                                          Comments 1  \n",
       "0  While it was a small avalanche that was I caug...  \n",
       "1  A North facing aspect with an exposed ridge in...  \n",
       "2  Remotely triggered all the new storm snow (abo...  \n",
       "3  Impressive fast powder cloud ran in front of t...  \n",
       "4  Three of us toured from Brighton to low saddle...  "
      ]
     },
     "execution_count": 2,
     "metadata": {},
     "output_type": "execute_result"
    }
   ],
   "source": [
    "df = pd.read_csv('./avalanches_cleaned.csv')\n",
    "df = df.rename(columns={\";Date\": \"Date\"})\n",
    "df.head()"
   ]
  },
  {
   "cell_type": "code",
   "execution_count": 3,
   "id": "87ceb40f-50b0-46f9-873b-495b16b82ddf",
   "metadata": {
    "__GENERATED_DATAFRAMES__": "ᯡࡀ䐫䨢こȔϐრ嬢䳎ࠣℬŝ⧀ዠㆴ㡰΀᧣㸡ᰧ壐ס⥓㎣Čì䄠䰡Აƈ爘催䠢怤〪恹ᓌⱬۑ¬ㅊ炴儨ă愮‵擩䌲❄ᙐᣘ穡ΠㆦѥӇ咰䠠ᣣਦଵ⢙३⥎⠇瀤惤تᕐ䇕咹憤慧Ꮢ䡸䢔⠠㛈ᮻ๡䎥硈౱ቐ䅐汢䯃਷囄䨫簴ㄦᔫ㩲嫽䡠掛䤼⤌Ⱐ⿎ᛋ戢䜻ް෨劢ବ≫Ⅿ哀㉰奅慮笄ᅐ墨偮͟ᱹP桐ዕ䀣㫱㙥吨₀⡆Ġª嚫ᕤ֙甜⒬ᄪㄠસ⿤䁂ɸ‣偤愠୤\"瘐恭 ⣑禖ਪÐ䲊刽ۢࣕ嬪䟃᢬⽫䠃Ҩ咱ੳ歊㶉墠⑿怈ߑ洋ສ噙Ჰᛤ䊰ⴏ᫧ʰᠺة⩠㔿Ӷ㞀傸㸸䝹搠˥ɡ჆瘠Ė簶氠ੂë㓐⌡㕴穱呦冲擹㙵墠疏զ㐐ἣݣň੡ᅣÈح᭎䓉Ἠ䱮∈箞૯䋭缏ᥴڦ㒐㖲Ϻ㳇㋵౸ㆾ乖ఁ⼱଱Ẫ䓂㉱❳㒦⦼犖櫫⮰眓ஞ炜ᶥᮕ柗枘掩硵ᾪⓒ㩻៫ଌי埋᫄㐫堋塃⛾㞋䛳➍湚㹿˚睳棰Ὧ欜⃤ᢠ偽宦檻㢨壸㩆埯⠺ဳ稞̞ࣴ孻怡䷹槚ཫ殘彡夜䃸ᣲ塌ᡦ䌭犬Ԩ㯦᥿㭆ᶸ傀ㄢ抸箩⊼䢹⁸Ⴗ᧠ㄲ₨⎺䁈㴤⃼䞲ܐ刦䇌๿à刱悴㊩΀ᘶ惒๝ㄠ  ",
    "trrack_graph": "ᯡ࠽䈌ʀ匦㢠⹰ڃǸڄ恬ʐ倶䋚Ĭ㨰֠ᆠ噫ݷ佉฀ᆠᬾ婶婶.ተ¶⡨⃱㌀ᙆⅦ庻ୖ⹜簦㌨ǁ#㕍⌿㉠ኤРᜰ㵐üム湁Ý㮄Q䀥咞吠৩撠۱Ţ⤥ᑐ⽪⥁ᴶ䎮䋂☪३ᑘ੺❍ئ୭唀Q牠Ú㶝Ω䤴埅瘭ᅸ惀Ēい㫚༽໮⥯⊑琡㙐⭲ࢨᒬथ᫕ࡣ㬱⇵ႊ■᫬㩨໻ٴƜ笛▴⤷䫡ۑ室Ⳡ曌¾'ᐋ埶ᷖ碥୙ẛᒪ㍀ₑብ烠⠴Ꭹ⊐ैጮ⥱攸Ⴁ扽Ѭ᷅ਅ㑡ਧ䍱ṷ䐉Ӕ洰ᤃ☉ᆈ噏੅䥴劮䪅奼彈⬵ɒ䋆ѣ⺚♇ࡄ䤴䵀⒒㥢ἳ撵敮Ꮸ㌹⃗຀θ怠ļʅ䒶ᖮ儤㤢=ዹ燵÷6樤坃㯄樘ƀ喎ঙ᜼ᓀ፰狜ὅ⍱┬媩䏑⥿㎳䍣ᅮጥ⨈澝䧢煨ᢌἤ₱搰祤拈䲕ឯ愩Ẇ䘪比崾宧栭╀紨ቔ 䪃᧬୶妉璌嬨ត娼睳嚈ࡼ任嶇凡戸*ᆦ෗⠪¡ບ5昤溮ৣ捾㷾侨઺妜⁨ᘵ@㟄䰳㴬⢇䦙祄]಴稉䄝ϛ依⭳⺊⏃潧欃ί栘⽶䨚屏愫缰␦⑲ྲ䩏ৣ㶌⡀怠漨扦ৣ⠬下㒖؂絜΢〴ฦ€ᔠ␴悧㼠Ầ僠ᨒ䀷䵺Ƞ࿀d➺愡㺴㑁╛Ƴ氠ŵᔈᄥᓅᕭᔆ䵭ᐠ୹ᢠ笿†֟䮋潠䞘䀡ῒ䔑᥆擴䭇擅ዅ咭ᗅ哝Ა乺⳦屲૧弮ᒥ䁲Ő潾᥀䃣℠ⳳ䠆晠廥Ɽሡ㼧䬵惎ᨒ䉰ߚ䐬樀偱ʁ⁹檠䪠䥃ⴁᙅ⥷⏻橷 㵩ᨉႷ㕁姒洎惂ⸯ⇔皲㡦毃礞㷆㇁⒭ᇓᲧ䴴ᴠ悫⬢ⷘᦅ冤ԋ⤼⡎恇㟎ℝ㨠ඈႋ⁣ᢈ慃㒊⦃㲏ҳ⃁პ࿌㭮秹㯣෸₃๧౰ʄ䲊ᆤ橕ᠭ唕Ǎ㨛৆㕍㧍㔼ⷎּన璁䫩⳽ၢࡄ汎梐ᆧረ᪵⅘₡㬐ឭ‣ឮ䇰ᐣ䂩᱋Ⅺ㋁女߁䱥⍎ᑹᓁ䣒ⳏᒪ⋁⢺╋⵶⽯槸⃧㭐⣡浆㓦қ㖧泑巧傧ऀ㤯᧥ᵤ◭㦇㷨屷ᨦ㚆ȃ噠ἇ㟶ለ祯㥊煏㘃捌䐂拸簲䯟ټࣟ㬡௰塏䬪庬⭪祵ᅊ䯵㌤涿⯜ྨ毵⭷冟ݵ檘倻櫪ḥै┤᭪ྱɠ⿝ʀఅ㤀䠉拰䰥紬䦿㓟Ⱶ絪᠃⭳噺溚㽳䄦䖟ઋ吸䰝玔䏒箜㍬喭漢⢞༘犓㌊程璐Ჴ玄䮱叼皵獇涒掔ଣ級瀛䪓徛䜒ἤþ⹇疙㸢洜૲䌐྇献̋廅࿝特斴䔙咧䬉ጲ佇柎塋㻉ⲥ绻ᕄᚣ䭝ઐ⬢䂊Ӏ䰥⁰ޱభ䵲ᣀ债䭳㬤慶柮甎᫫敕౵憆噢猢䀶㋶ふ儀痉倵䷔甴࢐ʐ঳ᬳن僲䝆䪁䑔杬೩䱹务姒卝೴灢㚱劇ሐ䃃哶䴨Ẻ᧓ᤦ㪯㌵┦畠缠瑰樤洪È怸恀ᶦ⌬柔璄甝䶭縷ధᶫ㧄ᇝ㿄ڀ懀⯁ೲ⠔㤡申ዑ◇⃫΃䭡䟾㩎ᣊ淹猳ⶽᮒ㘮戌Ǘใ㚼ᮏ㘫䬠园㦍䮓淃壔珗乷㌤崁盍،ٶ磶ŋȸ抺᎗羔勐䳀䆷扒捕ϟᑋ䊥筯ᳬ㠥俞䣂奨ჼ澹ᓰ㝚䁬橘穑䳵乡ᰏ姿䊤͒ᘜ䨱灀䈐㟳㘰搰㥈ⅈޡ㽷Վኣ堮Ͱ✡⁄曹罄䨡暢倴↢ጸ嵍摧එ渻ܒ㇅烟ˣ卽䋓Ꭷ摞ㅈ⼮ᘡࣰ狭儀₁≉Őᚱ⿅䂆ܩ晜ⱺ䋧憊ࡃⓗ⇜ޒȤ⟐亪䤊ņ夿ᅴ擃♅≌㖻ⲑ愠  "
   },
   "outputs": [
    {
     "data": {
      "application/vnd.jupyter.widget-view+json": {
       "model_id": "38ff21a0dc4a468cb33dc4a0cc0535f1",
       "version_major": 2,
       "version_minor": 0
      },
      "text/plain": [
       "OutputWithTrrackWidget(body_widget=VegaLiteChartWidget(debounce_wait=250.0, df_columns=['Date', ';Region', 'Pl…"
      ]
     },
     "execution_count": 3,
     "metadata": {},
     "output_type": "execute_result"
    }
   ],
   "source": [
    "selection = alt.selection_point(\"selector\", encodings=[\"x\"])\n",
    "\n",
    "c = alt.Chart(df).mark_bar().encode(x=\"year(Date):N\", y=\"count()\", color=alt.condition(selection, alt.value(\"steelblue\"), alt.value(\"gray\"))).add_params(selection)\n",
    "PR.vis.TrrackableChart(c)"
   ]
  },
  {
   "cell_type": "code",
   "execution_count": 4,
   "id": "e0f2a0be-96f6-458d-ab2a-1d276977082c",
   "metadata": {
    "trrack_graph": "ᯡ࠽䈌ʀ匦㢠⹰໢䂬Ԁᆠยఢ〫‭䦠噉䐢怬怣㇚瀸滑ᕐ㮥癱沉᪰剪2攩кᙜ⊅ᗋ歕ㄅ揯䁰䣑ဠ㑀称悽䠤傡%撄ؠᮬᡧ䑁㘽ῐÔ䢹†伎␠㚠᝸把瓒⁓෸战笸ᐠṬҭ䝁烃〸㡈尺ㆠᛦྏ䂱Ё䅀㘖䤨ຂᩘ溧〦塷灢㶱⢠⿑䂅坯䞇塀㪂ₐ暸ᶝ䀳怠煺砤懸㴻ࡩ޳䗿֌䄦䫫墀璔刺⥞ᢪӠ情傜憨㡳扆̓␐扼਩䏀井䮃㫅椰҈䖬‰仩燨ᠼ¢⎰呺ᆢ懑᲎ឯ戩䉱ᱬ䠡⹁ᡤ猓摸劷൰ऺㅛ⍅璴䉈  "
   },
   "outputs": [
    {
     "data": {
      "text/html": [
       "\n",
       "                        <div style=\"padding:1em;background-color:rgba(250,176,5,0.3);border:1px solid rgb(250,176,5)\">\n",
       "                            <strong>Error!</strong> No dataframe named <strong>'A'</strong>. Run the cell where the dataframe was generated to create it!\n",
       "                        </div>\n",
       "                    "
      ],
      "text/plain": [
       "<IPython.core.display.HTML object>"
      ]
     },
     "metadata": {},
     "output_type": "display_data"
    }
   ],
   "source": [
    "A = PR.df.get(\"A\")\n",
    "A"
   ]
  },
  {
   "cell_type": "code",
   "execution_count": null,
   "id": "5bc3e980-0f7c-480e-b073-dc5d898e6595",
   "metadata": {
    "trrack_graph": "ᯡ࠽䈌ʀ匦㢠⹰ڂ䂬ʀᶠ䘠堥〫‰抠ห䠅ᾝ䐩憪㍼᧞䛀ê怹䌴䥈kᑄႈ夑঴囋⽩䗛⥮滜Φ䐡傠ǕᝣҚ′䈤7ࡣᠠ湐戎Ⴆ寐爠ᣠ˼⒅\"㫙အ娠嵣ᇓ峩ߨ㘓ڲ汸Ēい⹋ᆻྻ䗬㐂契ؠ嬸ⷈ夤੦ҡ囻䑁妨棣㨭䀺慺℩癥∡㺦ƶ䩉៶悡榩ǣ᪀所嬠➠ǥ㈀থ礖㙁抎὇⤥仒ⵋ䐰厀恪僤ᑦ⤿ڶ࣬❤㋐ᡈ㑎ఇ怤䰪তႜූ流⑤璨ɖ⋦ဨ⎇㢄మaᇨ⩇櫆ヸืϧ炤ᄯ䰀ż⅐唁狨㢥Ἴ凰ಂ⍥厳㩊⒄  "
   },
   "outputs": [],
   "source": []
  }
 ],
 "metadata": {
  "__CATEGORIES_META__": "{\"categories\":{},\"activeCategoryName\":\"\"}",
  "__CATEGORIES__": "{\"categories\":{},\"activeCategoryName\":\"\"}",
  "__persist_nb_uuid__": "24244faa-e25b-4eca-831f-97b980e17e65",
  "kernelspec": {
   "display_name": "Python 3 (ipykernel)",
   "language": "python",
   "name": "python3"
  },
  "language_info": {
   "codemirror_mode": {
    "name": "ipython",
    "version": 3
   },
   "file_extension": ".py",
   "mimetype": "text/x-python",
   "name": "python",
   "nbconvert_exporter": "python",
   "pygments_lexer": "ipython3",
   "version": "3.8.16"
  }
 },
 "nbformat": 4,
 "nbformat_minor": 5
}
