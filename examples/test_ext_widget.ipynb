{
 "cells": [
  {
   "cell_type": "code",
   "execution_count": 1,
   "id": "2594b5d1-f285-46e7-bb20-55c0d04f9037",
   "metadata": {
    "trrack_graph": "໢尭䲠 "
   },
   "outputs": [],
   "source": [
    "from vega_datasets import data\n",
    "import persist_ext as PR\n",
    "import altair as alt"
   ]
  },
  {
   "cell_type": "code",
   "execution_count": 2,
   "id": "654024a0-4a13-4609-bfa7-65810997ae3c",
   "metadata": {
    "trrack_graph": "໢尭䲠 "
   },
   "outputs": [
    {
     "data": {
      "text/html": [
       "<div>\n",
       "<style scoped>\n",
       "    .dataframe tbody tr th:only-of-type {\n",
       "        vertical-align: middle;\n",
       "    }\n",
       "\n",
       "    .dataframe tbody tr th {\n",
       "        vertical-align: top;\n",
       "    }\n",
       "\n",
       "    .dataframe thead th {\n",
       "        text-align: right;\n",
       "    }\n",
       "</style>\n",
       "<table border=\"1\" class=\"dataframe\">\n",
       "  <thead>\n",
       "    <tr style=\"text-align: right;\">\n",
       "      <th></th>\n",
       "      <th>Name</th>\n",
       "      <th>Miles_per_Gallon</th>\n",
       "      <th>Cylinders</th>\n",
       "      <th>Displacement</th>\n",
       "      <th>Horsepower</th>\n",
       "      <th>Weight_in_lbs</th>\n",
       "      <th>Acceleration</th>\n",
       "      <th>Year</th>\n",
       "      <th>Origin</th>\n",
       "      <th>__id_column</th>\n",
       "    </tr>\n",
       "  </thead>\n",
       "  <tbody>\n",
       "    <tr>\n",
       "      <th>0</th>\n",
       "      <td>chevrolet chevelle malibu</td>\n",
       "      <td>18.0</td>\n",
       "      <td>8</td>\n",
       "      <td>307.0</td>\n",
       "      <td>130.0</td>\n",
       "      <td>3504</td>\n",
       "      <td>12.0</td>\n",
       "      <td>1970-01-01</td>\n",
       "      <td>USA</td>\n",
       "      <td>1</td>\n",
       "    </tr>\n",
       "    <tr>\n",
       "      <th>1</th>\n",
       "      <td>buick skylark 320</td>\n",
       "      <td>15.0</td>\n",
       "      <td>8</td>\n",
       "      <td>350.0</td>\n",
       "      <td>165.0</td>\n",
       "      <td>3693</td>\n",
       "      <td>11.5</td>\n",
       "      <td>1970-01-01</td>\n",
       "      <td>USA</td>\n",
       "      <td>2</td>\n",
       "    </tr>\n",
       "    <tr>\n",
       "      <th>2</th>\n",
       "      <td>plymouth satellite</td>\n",
       "      <td>18.0</td>\n",
       "      <td>8</td>\n",
       "      <td>318.0</td>\n",
       "      <td>150.0</td>\n",
       "      <td>3436</td>\n",
       "      <td>11.0</td>\n",
       "      <td>1970-01-01</td>\n",
       "      <td>USA</td>\n",
       "      <td>3</td>\n",
       "    </tr>\n",
       "    <tr>\n",
       "      <th>3</th>\n",
       "      <td>amc rebel sst</td>\n",
       "      <td>16.0</td>\n",
       "      <td>8</td>\n",
       "      <td>304.0</td>\n",
       "      <td>150.0</td>\n",
       "      <td>3433</td>\n",
       "      <td>12.0</td>\n",
       "      <td>1970-01-01</td>\n",
       "      <td>USA</td>\n",
       "      <td>4</td>\n",
       "    </tr>\n",
       "    <tr>\n",
       "      <th>4</th>\n",
       "      <td>ford torino</td>\n",
       "      <td>17.0</td>\n",
       "      <td>8</td>\n",
       "      <td>302.0</td>\n",
       "      <td>140.0</td>\n",
       "      <td>3449</td>\n",
       "      <td>10.5</td>\n",
       "      <td>1970-01-01</td>\n",
       "      <td>USA</td>\n",
       "      <td>5</td>\n",
       "    </tr>\n",
       "  </tbody>\n",
       "</table>\n",
       "</div>"
      ],
      "text/plain": [
       "                        Name  Miles_per_Gallon  Cylinders  Displacement  \\\n",
       "0  chevrolet chevelle malibu              18.0          8         307.0   \n",
       "1          buick skylark 320              15.0          8         350.0   \n",
       "2         plymouth satellite              18.0          8         318.0   \n",
       "3              amc rebel sst              16.0          8         304.0   \n",
       "4                ford torino              17.0          8         302.0   \n",
       "\n",
       "   Horsepower  Weight_in_lbs  Acceleration       Year Origin  __id_column  \n",
       "0       130.0           3504          12.0 1970-01-01    USA            1  \n",
       "1       165.0           3693          11.5 1970-01-01    USA            2  \n",
       "2       150.0           3436          11.0 1970-01-01    USA            3  \n",
       "3       150.0           3433          12.0 1970-01-01    USA            4  \n",
       "4       140.0           3449          10.5 1970-01-01    USA            5  "
      ]
     },
     "execution_count": 2,
     "metadata": {},
     "output_type": "execute_result"
    }
   ],
   "source": [
    "cars = data.cars()\n",
    "df = PR.data.prepare(cars)\n",
    "df.head()"
   ]
  },
  {
   "cell_type": "code",
   "execution_count": 3,
   "id": "3eb40f4e-bbae-4e41-a40b-abc0e5c2cb7a",
   "metadata": {
    "__GENERATED_DATAFRAMES__": "ᯡࡓ䁼ࢁӐㆠ≒䂆ř⁻Ŭ愠⺀̘ǁ)䁯氶⴦洔፠圠㚿ਠ ",
    "trrack_graph": "ᯡ࠽䈌ʀ匦㢠⹱⁦ᐤ〫,ᲀ⴬X妀⬭䐬぀↬Ⱕ〺䂖ì㙪䵬ᴈǑአӒ䉢ڳ᝞ᅲ犴㘊ᣗ㌃柠㡠ന;ᴬᤛሡᑀ‡㢣榠܃ئ焨؋孁吠ⵧ畠řᲰúီ9䣦)拠䐰戠䳈⒪❑ᅋ䔠⋆ᥐ㤤䱬ᱨ䠠ᝯ⿀煒℁痈䆔⬸ᐠṬҪ䐱䗐熫䑬癌₾䀶挥㏁ࢡ棡ၳ⭱чㄤᥲä堣⳦琡淰祠៯⿔媮典ჶᮐ䖸೵䀳怠璝㤘應寏ࡱ㎳柑棆㈤ܲ⒔ᬣа烴ᬮ䁁塸㨢䉪抩㔩፩墌ѭ䕠托ㄣ䑋ࢾ௽璲ᩐ㍱癘ᦚ⑺Ꭸዩ⩽ᄂ㉑㙷ᙃ犥ㅴ储昰殹乒妩੭ዠ㉹ᬧᏨ急ᅤ卉⫱⡍掸Ćᠠg¹彅䖀㑡ภ䀧◖㱕⁕怤娡ᴪ発㨭⾿截嚁ቯՠ㢘℺䕢瀴ᑥ䆪॑ĩ䛁ᡢባۂӿቢ史弛Ꭵ抳僸࢞⍀⡴ⴡ䚂墼㜸䘃硢➦䯇嫋㝷堉ᢣܫ幃䚳㓬ஸ᛭߈珱㘰⻿㑚滇Ⳡკ巷㤄Σ䑐4ℰ䕭᮪ĥ⸠坐ਨ㷮窛亴秜ἰݕㄘ䂰㑊a⽩ࡊ稸籯ȝ牨>䥪ṝఫ瑃枛ඊ䖐䁳䜘㽷ؘ罰ᾛᨠᬂ¨☤䅨ᵪі֩歡a午ɥぎⓋࡖ঳䣌┠ᅦౠ戱⼤䂗椩 ර僀ḥ炼ᄤ㹰\"攜㰠ȕ漠⒲X䐷桋ᑂ⑸᫳ぬݠ灑᫲〻'⣠儷⮘⬲␢䥟₀ᮤዀ⻵ͺ商ፙ᝕昖剸䅄嵄珑乕懰湏稑䱌ǰহ笩䤺ںࠠᇡᴡ֑ṍոౄȡ箶ᛁŃ炤値窨糳恤儤慠᭔µ㋒⎩檮ͩᠶ⑉紩⚚⼻挮媵怠༪⮛䲘奶䬟ूഃ᪇䳐ইⳆ懷晎刣Ṟ啪屓ܤ㘼厄䉵Ệ㔍Ḅ琰䈅㳭ជࠧᔆ峋屣䨳䞕㶏䰓纇ڀ怱⬃⑂杀䡲擀⭵൸㑚旂ᮙ浲ᱰ⪣朠採΂昸⎘䝣⍸漺ᎄ檻卌⩈⑷̭懙¬灨沮ቴス፡ʹ匬樂ಃ෉䱝⢋⌗⺊ⵦ宋⶛⤂ᶐⴂᬅ晙㵟࠳ɕ䈣ㄨ䆠ˡŦ䤸າ慤䲲ࡲ≓㸨亸抏䱵቎ݡ桌ڱ•䭊哬䝢।⇡ゞ̱ಂౢї▹僿⾸╸伳┮❉㤥ⵤՕⱉᭆ䋲孎䏱窂䌱੻㩐䀩䕐暁涂䞅ᮐ✽䟐ใ佛乱ঐ坌盘㞍毙⺝敃侕䟀体澾⼧䎘嚴唙ӷ懦Ⴐಥ嵴’ì吲¼ࠦ㛠᪢➨垦း㛢瓿ᏽ篿毦勁疁㋱繞焘फ़䞹爑㦂⯕៯挣㾞琷埬ᱜ悍煝䟴࢝ႀ涉⦲䞡䀏玡こ璤⾪୿ᩰ敭焾㈈縧摅㏮旍کᡟ笗‪录無᳈ʃ⊄晢擌丣⟔ԿㄡἭᑡᘀỡ⺵桓Ɇ䜧ⲴҠ๲ₙ瑾Ӎ漇榝⯥ᓰ㞚Í⥩ಷ䥥ᅸ簰懛欜㠽粲ᐘ翗稟⬫祄ँ爳㺴Ꮲ籞吤㧊嫝ِ戥䄘ു搹憣榥塴⍂吀䙑ᆐⴣ嘿㗠㱠⁔ɰвႣ̢㡓䧪㔧ⴧ刘㾬瓏⼔֦↫ࠊᑙトᖇ⡺柌洯ਦͱ₩ᇁ䥃◌寫ܤ⭙♶杂䳎Ⴝ᫻ⶕ䰱䕄姄䳗ᅬ仩㘫䧊恲᫺䃕噂痆偓⒠Qᾡ㩃⅔⮪栦䡴〬〰໢秞㍚⃓㍖刐冋瓁ȡ㢪ƨ乘ࡒ攔ԧᅖ⏀⒦愑䢌⒧傛Ձᠻ夆ߔ䢜㘬䊎೤撬⣹擱劻⦶᪆ͧݶ䄈⤁泑懄氨䨛ՙݜ揇ᧃ稭䒼槧丷䃘䮪嵷ᶒ急㨎೤㝲炎嬂㣭涘悤ՄȐ㯙䖗ʪё䄆怱幹⡔汀˩㇠⥨⦥㵇䤅瘹牺䈜♃ى∹㵉煡٨ॷ样⛅ቴ㇪ሢ晗≠ড穞။ቂび㍤ረ䣉䛍⒦ᅳكࠤ⃤㔠䡤ࠪ擂㈉┡∨ᇆ☚尤ľඦᰭ䌘缼究гሳ疄Ⴃ䉹㍈▃⠺擰۬ႀ撳⿾㡂ὸᄱ墻᧓≌Ӗ殊熖掠໪䆽嗺䪎ᢠ҈ᮈ歹壼㜑彡৖渍击卯䗔䋰ఠ彾䦢ई᥍ɒ㳯᥄ኆ崵咫࿇୚瞖盷䚡䶓↶物䈅挥ᢃൖ掗䷄अ禚ᴽ素䕲ᤲ㒲㠮⪑˥䌼匉י歙欠崷ࣛᜭ䧼㦑渴⬤㑿洸哼殥嶑㿊尡ᐡ➓Ɽ嗅癵憴吱⋕䬉≵È⮥↮Ǿ⧾䣍敠ᇫ᡿䯬㚛㎗♕‿ヘᰝ匼䫲咰ㄩ䃄㘰䢲ムԴ౤↨䙉䢣෠ᠦऩࢦ൫ᕅᐿ᫫⬥歿曞ỵའቾ下嶁㊚䦀䓿⠦ᢸฑሺწᬔ঄噩ௌ岂恍䱨ᶷ奩䝡݇䠨滨燄䏩礵ⳅ᳹䄭姛ῒ媐傔攅榶厸Ꭲ㊣⛀ࠡʃؠڽ∺䧉ѧ亏➸%Ჳ㛞㔍↌剝噍惗䑎⼸⩦⑰ˉ攂㏩൸槭Ꮝᗋ恞㉙ᝯ搱ܧふᐥ䇪毛᧿娯⚒ᾁ㬷،幋泎ጀ㳧䪙ᣞ㣏ׂ宽珞䑶ዀḝ卸ʌ㪈掶ٰ⬭禟⠪䀫ƸҲ᝖玽ŗ䙂䋐䜭䑧梐ᙁ⚓偀扣嚱䆠᰷ჀἮሶͰ㽅⁞ޭᏞ䐞⠵炝ᕾࡃ汒愾ᰠ⮺ẗᠠ㥆ⴃ⽙凞㤗㌹盆瀩䀬 㯏潍偟չ夠兄௼㔊佰ሤ搉Ӹ⑈࿏綈䠭悄ഩḬ嵯縇Bⱞ゚䅝絨䰕䂋ी毀帨砢ᙎᚂ偉嫮㮅ᵳށ㎺㷇䝏➮ࠠ "
   },
   "outputs": [],
   "source": [
    "# w = PR.vis.scatterplot(df, x=\"Miles_per_Gallon:Q\", y=\"Weight_in_lbs:Q\")\n",
    "# w"
   ]
  },
  {
   "cell_type": "code",
   "execution_count": 4,
   "id": "7f18eac5-1542-4494-959a-ecf0276afdb0",
   "metadata": {
    "trrack_graph": "ᯡ࠽䈌ʀ匦㢠⹰ܴ࣠րᶠ☹倶䀻੼⨰֠↠ڍЩ撀ᧆ䉶ᦠ掃巍攠࣪ᬲ⠠䭈⑁棑瀱ፁ⍾䧋㭮ẜΦ䒠ǁ#㛄ጸ晠ኤРᝣၐüムṁǟ㤛䀥䉸攠ʓ㥀ǔ丠暂ⴴ⩑仦䗂䌱⡳౬ᑪ⚗๗Ԫ以劂べ๐㚊ᜨ傻̩⍬厓㇉Ѣ⣁ⴽ㪲䔶䗤僓ゥ㱀}ᇑ䗢撫≖犧⤌ばᠲᎱ䱽䞬匃ࡱ㡦{ఽ媼∭⌤䉽汄Ⴛ䒐擨ࡶ怭㕞匥㹂熠ఄ㈝༶᪭懸ࡷ帇\\る仠ʘ.䒇倁䇘⿊ᄠ䧼䝓䵤妰ဴ䍁懘䘴⥦慈䈺ˢঐ⨠䦲स慁ٳ劤㐴⦢䇈沃䊯⊄䖬೔⊡㥱䌡䔂Ҳ⊲㑒Ⲯ⡣擂ʱ≳ᗎઇ䣍䘂䓃ᛏⓀ䳃ඵ昒䋑౵ᗪ⦹䭔磌宠຃ Ґֻಛ἞䐵昨ᣥ⬄፜ɪ水䍣䶢怲բោⷤ傀婚ϐ炀墵Ա‸㐪ࣦ璉擓ˡᒤ䨺Œᥱ㾻䈅䡐ᱞѥᇨ⨽ä㝔⹏࿤ࡤㄢ擑ⷶ៖毕厲屎དǮ䯕殗嶶➮㼔籀᾿怭䉡ᯐ⸭⚁㞱䜢䢀H䖢悦ヰਡȢ䘠ଆƟ⁍㸁ೄ䓱قśᶯ炩ुॠЪ䒄⡪䕬㜨䑛㋧炄/✵塨م䘠ຢ䇔护 ᙣ⢇䝣ᢑජ碇䟢ᒱ䕃摬䈱吪ʨ粍Ɓ媫͠䈵܁呋ᒀ框ʈ⠤ᆉ時嘴㑡䏂㉕щหࡂ岑࿳圠°䃡ࡓ戠̤ᷦࢥ˰㐠惀ᰪᬰ瞠˪ʘ#痱づ爠㢩ᙑ位䷠冡晈˜⚫兩搸凃סᅬ⥫㡐ᗂ‪ೳ婮௑ⱨߢ恕ݘࡹࣃ䆴ᕒ橦䴐媔䗫禞ྥ♡䥅岋攠䁤䈍两䆠ᙷ䥡หЊ䄣甠⍥䚱ḩ䭒ぅ仓㸿䟽Ẩ Ẃ䨮壵␤䵡٠秳ม秶⁊Ձ⍑ⷄ䐦⊻≲穔㸇椯屃央⧮恎㊇ԑㅎ╉㙌㦁≏夠癏ೠ券書圷挎૤呒๧皪࢑⣃嵣〼ኑ桓彦廳ᗥቈᬓ春䣐えᓖ璝ዔ㉕仗瓔ᇖ㛍䣶䵀಼ᚈᣒ厅嚺嘬榢㍌猡㚍巷᣷‣ਤ擰ᡵ䗿殕ᠴ灀վᤖ⓺曆⏩㘤Ⴌዢᱛᤖ卹⡺撵፺孾殊䝿⫚弡㫌ණ㌰ᶾ䇎氻ʐ㎢煼㉿㯸䏤᜻ྻ猜羴ڢ寢≉桿碠柶Ϟ俪ஞဤާ⁛ᷜぁ੡篆݌硓䙁໓៱ဴኼࣹ䜁ə嚤᷋ᑑ喞崉䜍䔵ዃᗗᬃ廘⼏ᘉ㛖⯉⬍߭♄㹕≔埕巎⹍缚幑䡡庯㙃䒱爒⥤ᒪǀĽ僖ᔳ˰ٱថ噪´ȥ䍲䷥䍨㘛៵ጛ㰵⠢⊤⡯ⷫ䳈搤!΢ʗ䋤ᱧ䑩䂭攳憱䅢ݒ䂮ᪧຌ㛰槧傂l㌴䦐ᬒ⩆ʹᣒ䁚䂈⚢梍ǰ崧儚ب憬᥆ᩇˈ᪦∕ࣰት出Ꮓ㩋⏰惦౱䙀䜪ひ涀游吣ᮠ‹઼ᠧ穕䘨ण琤倈瘢ƴ⹓㬬䎋઀«唆䳨㛧䊌穁̛थᑐ狈ᤀ栬઼崫ᳮ浉஭洰֑㷆öⱦ悟㗼ℇ㡁暸䧴积ᩙ⽌㧾ڒ✴玜࿥糷޽漷ᴟᩇᏁ㦲̔硸ፎ㸊━͵ϣ՗亘ࢢ礠化昹଒㤰冻༝淬勐䋄矇稹➢䑴䁲氭摸⊝斠┹ÀᡑàḢ㽿ໄ努滵杵浀啱ᑂ竈נ&௨䀴⢠α䣥皢ᔶ儤佒Ῡ㌪忉㚃⠌䥶哃䲚梍Ɛ枀灉෌ₒ沚ᧀ措梇௦ᰵᢘᗑ犦嶌ߒႇ旃⨨㣌㐙岍䇞%䄴沄ࢤ䢍←攭為࠱庯棢ᓢ扈ࢠ  "
   },
   "outputs": [
    {
     "data": {
      "application/vnd.jupyter.widget-view+json": {
       "model_id": "81da3e1326ad47aab4986af8cc840bcb",
       "version_major": 2,
       "version_minor": 0
      },
      "text/plain": [
       "OutputWithTrrackWidget(body_widget=VegaLiteChartWidget(debounce_wait=200.0, df_columns=['Name', 'Miles_per_Gal…"
      ]
     },
     "execution_count": 4,
     "metadata": {},
     "output_type": "execute_result"
    }
   ],
   "source": [
    "brush = alt.selection_interval(name=\"selector\", encodings=[\"x\", \"y\"])\n",
    "\n",
    "points = alt.Chart(df).mark_point().encode(\n",
    "    x='Horsepower:Q',\n",
    "    y='Miles_per_Gallon:Q',\n",
    "    color=alt.condition(brush, 'Origin:N', alt.value('lightgray'))\n",
    ").add_params(\n",
    "    brush\n",
    ")\n",
    "\n",
    "bars = alt.Chart(df).mark_bar().encode(\n",
    "    y='Origin:N',\n",
    "    color='Origin:N',\n",
    "    x='count(Origin):Q'\n",
    ").transform_filter(\n",
    "    brush\n",
    ")\n",
    "\n",
    "PR.vis.TrrackableChart(points & bars)"
   ]
  }
 ],
 "metadata": {
  "__CATEGORIES__": "{\"categories\":{\"A\":{\"name\":\"A\",\"options\":{\"_None\":{\"name\":\"None\"},\"VC\":{\"name\":\"VC\"},\"ASD\":{\"name\":\"ASD\"}}},\"B\":{\"name\":\"B\",\"options\":{\"_None\":{\"name\":\"None\"}}}},\"activeCategoryName\":\"A\"}",
  "__persist_nb_uuid__": "15b6440c-b112-4dd1-bff1-41461f6ea5c3",
  "kernelspec": {
   "display_name": "Python 3 (ipykernel)",
   "language": "python",
   "name": "python3"
  },
  "language_info": {
   "codemirror_mode": {
    "name": "ipython",
    "version": 3
   },
   "file_extension": ".py",
   "mimetype": "text/x-python",
   "name": "python",
   "nbconvert_exporter": "python",
   "pygments_lexer": "ipython3",
   "version": "3.8.16"
  }
 },
 "nbformat": 4,
 "nbformat_minor": 5
}
