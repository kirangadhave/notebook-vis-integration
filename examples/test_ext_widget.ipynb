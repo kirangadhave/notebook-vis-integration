{
 "cells": [
  {
   "cell_type": "code",
   "execution_count": 1,
   "id": "2594b5d1-f285-46e7-bb20-55c0d04f9037",
   "metadata": {
    "trrack_graph": "໢尭䲠 "
   },
   "outputs": [],
   "source": [
    "from vega_datasets import data\n",
    "import persist_ext as PR\n",
    "import altair as alt"
   ]
  },
  {
   "cell_type": "code",
   "execution_count": 12,
   "id": "b7eb00ef-ddc2-4848-a747-97049cfac0f8",
   "metadata": {
    "__GENERATED_DATAFRAMES__": "ᯢ粠 ",
    "trrack_graph": "ᯡ࠽䈌ʀ匦㢠⹰ࢀ㇚⠻f׃抮ƸТ慠ᦠآ⠨撆┴ʅ။ᒼ櫶䀽䡉ᐠ▴ሰ䰹㤫঴减ⓥ䷇ཞǢ†桠ø䣠᪰ӁĠׯ␬W౐ᮨ⁏⻻‡㌰㔠৩撠۰̋琬ๆ⑺㺺၅փʠϩ䂱౸n₾ၢ䞮惄঑㈔Öᡋੈ婬भ⫓ࡣ匰戚ᱫU峅စ椭Т縔絭檔ᖢොሧ҉䋵ⰡḠݥ毗䘭׺墣୚渌⣆搰Ҵ䮦ޥ什ᝰৈ僯䩜⥛§ጨ恇ム䫾䅓ʡℶ紪滒䨂ᡂ⣒กᆨင塼椦େ您቙գ倸晋Š燘幟сंK忨਽⸹ᬩ䑈㤅ἶ儲ᩲ㭢ᄬ䀠 "
   },
   "outputs": [
    {
     "data": {
      "application/vnd.jupyter.widget-view+json": {
       "model_id": "016e0a19c8b747beb03a864823834aa4",
       "version_major": 2,
       "version_minor": 0
      },
      "text/plain": [
       "OutputWithTrrackWidget(body_widget=VegaLiteChartWidget(debounce_wait=250.0, df_columns=['date', 'precipitation…"
      ]
     },
     "execution_count": 12,
     "metadata": {},
     "output_type": "execute_result"
    }
   ],
   "source": [
    "source = data.seattle_weather()\n",
    "brush = alt.selection_interval(name=\"selector\", encodings=['x'])\n",
    "\n",
    "bars = alt.Chart().mark_bar().encode(\n",
    "    x='month(date):O',\n",
    "    y='mean(precipitation):Q',\n",
    "    opacity=alt.condition(brush, alt.OpacityValue(1), alt.OpacityValue(0.7)),\n",
    ").add_params(\n",
    "    brush\n",
    ")\n",
    "\n",
    "line = alt.Chart().mark_rule(color='firebrick').encode(\n",
    "    y='mean(precipitation):Q',\n",
    "    size=alt.SizeValue(3)\n",
    ").transform_filter(\n",
    "    brush\n",
    ")\n",
    "\n",
    "vis = PR.vis.TrrackableChart(alt.layer(bars, line, data=source))\n",
    "vis"
   ]
  },
  {
   "cell_type": "code",
   "execution_count": 4,
   "id": "72e2fda1-daad-448f-bec1-f698b48ccd52",
   "metadata": {
    "trrack_graph": "ᯡ࠽䈌ʀ匦㢠⹰ڀ↡ధ〳䊡堦〫Ⅰᆠ捍䐢捥૤熥熄〣䙴ภ㈲䎠ᖣैkᑄᄉ夑઴囇⃩䖬᭮溜Φ䐡傠Ǔ⍃Қ′䈤7ࡣᠠ湐戎Ⴆ寐爢䀥屨攠ʕ㥀ǔÚ䍃㏙䤷䢁┫⋸惀Ēいٞܫ$懁吃烐ᠸ䉣M䘶暦ᄣ↢∋㜂ࢌ戴レ䎀ۖ嗃Кᆱ⇐緝ūて睤䄀浐䛻G䀡曑砑䁳竖ᄂ㜿Ꮊ˹ȩᚲ䈰焩㱢紂╰垶䚨℃㇁Ъ戡⡡঒హ௠䎘὆揖䦲ᡊ⛗౱䦨ఱ姼᥆஠ၨ爵ؕ⦸噛ס爘䄨䐀倠垀呆㢙㉼Ⅰ❉瑦ұ决婪⽢ά䀠 "
   },
   "outputs": [
    {
     "data": {
      "application/vnd.jupyter.widget-view+json": {
       "model_id": "f4e1ea3696b44544b7cb4210bd3a6289",
       "version_major": 2,
       "version_minor": 0
      },
      "text/plain": [
       "Output(layout=Layout(border_bottom='1px solid black', border_left='1px solid black', border_right='1px solid b…"
      ]
     },
     "metadata": {},
     "output_type": "display_data"
    }
   ],
   "source": [
    "PR.Out().clear_logs()\n",
    "PR.Out().show_logs()"
   ]
  },
  {
   "cell_type": "code",
   "execution_count": 5,
   "id": "4bad6f96-60a4-4a27-9c15-1fdad2109d72",
   "metadata": {
    "__GENERATED_DATAFRAMES__": "ᯡࡓ䁼ࢁӐㆠ≒䂆ř⁻Ŭ愠⺀̘ǁ)䁯氶⴦洔፠圠㚿ਠ ",
    "trrack_graph": "ᯡ࠽䈌ʀ匦㢠⹰໣Ÿ栻,͐׀ಀ֤䂼ɨ࣯䂡ء䱨Ҁ㪸坼侙ୱ㉪2攩к☸岥⑉⫴ኊ滫䞿㨡⅀†済壤ᲰӁĠ׿␬W౐㮨⃎濺အ㔸㔠ʑ㥀ǔ₼F㴶Ꮃ䆬⒪ᅡ⨃栤ᚊ㕝«ޮ䒬䓂㧩ᇐ稰N䃰攆㉡怹ণ瑖ᡈ\\䰩൥䐂恳獘夈ሣM䘦慼䄧冢⇆㛂ࢎ扈㫄˭〦宯椢㮁䪠⾡䄙㣯≁塃坖火ᠱ࠭䀳怠皟㬘您㬿д▓沮㴼斻䒲ḥ䇢ᡐܥऍᔫۂ∬㤾䇢牄⑤䅠炱ଫʢㄖ㯫璳ᩐ⭹煚ᤦᑦᎨቤብᅁ刹ᙧᏨ੥६叄幰箥䶨礼牵ၪ㋹⹿ᑋૅ㥾晒䰰䞾〣䲀!ฦ㈝䭵䃱͙Ġຶ濑橀箸ஊ˷᧛劉簡ね㜪㡰㤵䉀傌फ͡⡥♜䝠悸朰䦃䢬㔳䝣冼ᕠ愘๎᮪⃣ゔʲ䇁棊ᬣ䜂礜₸⊈媍❭㘋窣⸧۰♳೴޺ᛍ૷泻㘰Ỡ牛溇ᳰᓙ嶗۠掣䑐4⣧䊎㯈Ԡ䆮̠ଆ̏䞉爏ⓜ唏䐣䳹㹰㰶ઠု剬࢝䘴㻫㴙ሠẪ硞䌠签捶僼ာ獞埽揞俹玆嚷篘㿪࠸へݾ∯ΰ⠧İ∲䊖๪䏰ᐨ䀰擱䏄㰲ᏆⰦ̲硥䂰䡏⍡䤾䅠ऱӸ摄Ȟౄԡ慖〠न࠳ൠ‣岀⁦ৈⴹ堠ⳟ䞠^䰄к‧஢䌵ㆤ婚检䶱戸!␪ᶇ惇噰ŅⒸେ撾䭤ౕ᭱恍ὅ璣ᒆဳአ乳䓨㤗פ碻撧罐ར☱ᨤ䴻䥅墨坓㤏欴僧䥄Ⴐч㹰䨡ཱྺᱱ̠播ᤳ汦մȥ樠᫓Ń屇ᵄ⁙჆㶞潳尠ȉ╞㘊已䠪樢⒥獔皿猬↱瑠⾯毕ᯢᯉ㮮᭢稾Ѡ䌄卂Ậ୮᧹甞C㊌֣ĸ⒭Ⴋ㲦Ⅻ㊠憸▁傋㚧⳸冧⡁㔭ḝ₂憣⢎ಀ⒂䇃ⲏള㊊䷳⪆ᗺ䑠ಣࢆ䑃㹃݈屐″࢈䛳ځ呬ó哠㻄㑲篁㓍ⷍ㘍㎨瑠㏏ዽᄍ烝ၢ৶᛬ᡨ⌣恲㔢䁅唨揃⸾䧥䨫䁸ভ⃀⌧⭖຃瘓Ⓠ旲೅撙ˏ斵჆啥·Ⓕᝣ椚˞沐ᅂ䇛㓢稛ⶨᴢ挅妖㻨㥯㧫ᵤᗥ帗ࠬ嶀㬉嶎௢㸎∌㴗ᔄ岾☊᭄⸏㴖䑂⩠ఉ拒漿挟Ṽट㔤䩾ᥱ⫊䵷⨬ᓵƺ擸櫱杲珚宷樶╜ᨬ‽婆䎓᯴便ᰔ拴㋛堩♖徖丧滸Ⱆ簨又㨧儈塾掓䰹䯂倏粪悵㏎怉ያ䖞ፄ坳檚ᬙ牧澳叧勴䄈硳怓缓䨤创᭧徱㽵䃞ⴊጏ淜秲ᐫ䙉磁筏 㝷ᐨဴ庸➝株՟嘨峜அⰩ⅔ᕡ兂ÔຠѯôŹ′Ⴐᐦ慢㟀㈸♘ס䰩ᅂ༣੄ઌ⿧籠⚔寏㬎क㈸塾䥣䬧毈㖂栽ذ槫⣮ĩᄺ㡸ࡸ䗚ƫӑ儉㓂妎怲棍䫵ⴊ刱冺䐬ڪ棩ㅀ崾ℚὌ䙓ၬ㲹㕅䈊⇃ų∼ڏቬ括禲⁙嗰湗᪚㾣玁摢ⶉ၀榬ყೃἹ捁ᡃઅጴブ穬汖曹搯Ǳቂ穓嬖᳠ⲗ㞔儊ᴃ䠌䧦㤇љ掸㣎⒕᪍愠夅癧䧳✹ᱏᚃ箬ڇ⨪㹌௾㰴⹅挠羮岨㰂䪸ε⒤喊嗊竂湭摜ᵺ緻圙➯㪍ᣴ༶瘾潄縫⬝筝㔮㉠盙䭏̇ၦ䉉⸁䩱⅒灓֯嫫ᴹ筀泪ᔷ䑡༏㉯ᄜ杌㰢䶁੧穠磬ᝯ䤢㿯缇ᐢ怦㍏䘴₎篜䉉⅃瘥ề䗀Ḑ体́⸫⸡⠿Į䕠⾐╅拃ऱఠ䅛༡㥉ጂ०屢ㅤƮ桃Ǩᔱ㶘⬈ѽ桝ↅइ呰㋢偲ᕹᨶ妔ŤƲȀፁ`䛐糢ᆒౡ扞⯾䵡ᖗ槨瞠Ṡ䆩眡㇢橌ن挌⇦౮ŋ㎫⭨ሠ  "
   },
   "outputs": [],
   "source": [
    "# source = data.cars()\n",
    "\n",
    "# brush = alt.selection_point(name=\"selector\", encodings=[\"x\", \"y\"])\n",
    "\n",
    "# points = alt.Chart(source).mark_point().encode(\n",
    "#     x='Horsepower:Q',\n",
    "#     y='Miles_per_Gallon:Q',\n",
    "#     opacity=alt.condition(brush, alt.value(1), alt.value(0.3))\n",
    "# ).add_params(\n",
    "#     brush\n",
    "# )\n",
    "\n",
    "# bars = alt.Chart(source).mark_bar().encode(\n",
    "#     y='Origin:N',\n",
    "#     color='Origin:N',\n",
    "#     x='count(Origin):Q'\n",
    "# ).transform_filter(\n",
    "#     brush\n",
    "# )\n",
    "\n",
    "# vis2 = PR.vis.TrrackableChart(points & bars)\n",
    "# vis2"
   ]
  },
  {
   "cell_type": "code",
   "execution_count": 6,
   "id": "cde89602-e6a6-497f-b042-82e1fcaffc75",
   "metadata": {
    "trrack_graph": "ᯡ࠽䈌ʀ匦㢠⹰ڀ⬠䱰怼͑‶䆠ᘡ䘡യ၃પP΁桠䍕榳✲㣥䒴E䨲࢔Ⳙ֫䥵埌櫣䮯ἡㄠ㑀汈意ࠤ傡%戻☠ᮬᡫ䑁♍ⲣအ㘳唠৾椠ව׶椊洬䠬浒㾻᳦Ԡ޳ŀ梸¼ᙩƦ䳪⍦栢沁暌ℰᬸሢ庌Ⴅ♀䏔ᒆॻ៣吼ࠥ箈稺⢌㊓ȫ㑄ܯ⦢垸Ŝ.ׇ➬ಣ勑ذ㧘泸䛨ၱ㢦✫ư⏤ሀ惰䳴సځ܄䕠惣ゅℒ㉅ԓ㦶㗘䬱䈂֠欪ౠ弹䤀䥐汞ѥᅈ橗ࣁㇸ为෥爘䄬‥㬙縣䧩ᇂ㉬㹣䘱౜╨◈ⓑ  "
   },
   "outputs": [],
   "source": [
    "# import sys\n",
    "# from sys import getsizeof\n",
    "# import pandas as pd\n",
    "# from vega_datasets import data\n",
    "\n",
    "# source = data.cars()\n",
    "\n",
    "# def mul_and_compare_size(df, n=1, c=1):\n",
    "#     compression = [\"snappy\", \"gzip\", \"brotli\", \"lz4\", \"zstd\", None]\n",
    "\n",
    "#     df = df.copy(deep=True)\n",
    "#     ddf = pd.concat([df]*c, axis=1)\n",
    "#     ddf.columns = [f\"{x}_{i}\" for i, x in enumerate(ddf.columns)]\n",
    "#     ddf = pd.concat([ddf.sample(frac=1)]*n)\n",
    "#     orig_size = getsizeof(ddf)\n",
    "        \n",
    "#     print(f\"---- size for shape{ddf.shape} = {round(orig_size/1000000)}mb ({orig_size} bytes) ------\")\n",
    "#     for c in compression:\n",
    "#         s = ddf.to_parquet(compression=c)\n",
    "#         s = getsizeof(s)\n",
    "#         print()\n",
    "#         print(\"Compression style:\", \"None\" if c is None else c)\n",
    "#         print(f\"Size: {s}b\")\n",
    "#         print(f\"Size: {round(s/1000)}kb\")\n",
    "#         print(f\"Size: {round(s/1000000)}mb\")\n",
    "#         print(\"% compressed:\", f\"{round(((orig_size-s)/ orig_size)*100, 2)}% \") \n",
    "#         print()\n",
    "#         print(\"####\")\n",
    "   \n",
    "\n",
    "# mul_and_compare_size(source, 50, 2)"
   ]
  },
  {
   "cell_type": "code",
   "execution_count": null,
   "id": "1d32218c-9f53-4386-83ef-06520c7da8b6",
   "metadata": {
    "trrack_graph": "ᯡ࠽䈌ʀ匦㢠⹲恮ƬʀჳP׀˥ੵ䐬憠ᆡ氣ㄳÈƺ廠⌠຋囔⫻䥈kᑄႈ妒ࢳᓃ❱妻ܾ㸢䉠ð䀡宆冯奀ॢȠ௎䠸ᢀ㜰䁾州䀢機⨠Ꮃ䤠ව׳氈ᱬ䢘㶔ₖ૦Ԡ޳ł㨉⠠皎ᅞᮢ佯┃栢沀囸ᄰ㘸ሪ喊Ⴇ♁䌕咶ᦖΎ刺ࠥ稉窺ᴈ⬤ᮘ␮ࣳǊ堢㰠ຫ垏ౚ௕ㄪᚕ寻ㅭ䡀煩㙋ጣය攀ኑ瀡⳹扈ጡ᮹羠⛩䁱Ⲍ䢡⅝伦ᛢ寍ኘ䘨䩌䍤⒂Йᘷ੣㡿幮₢䨦ᐆ冑㲞ၬᇤw㾰ᑚ峲㙎╁煴ⴰ䵳塄暼䤡٠  "
   },
   "outputs": [],
   "source": []
  },
  {
   "cell_type": "code",
   "execution_count": 7,
   "id": "d493cf03-6c94-45a6-a45b-866515d04e68",
   "metadata": {
    "trrack_graph": "ᯡ࠽䈌ʀ匦㢠⹰ૠጬҀƠ捬ڀ୩䔠ⳙୀ䄌Ĭ䐤㍛ᩤ栳䀹䙦ǒ玁哠Ǩ撴E䨲࢔ⲙѫ䩶埄拭厯㽡憂†桠ù橑䅛ဩ™+䣨ఠ㜸クࡢ汚㷠Ɖᅒ䀡᷼䠠洠⻑䓵榄䛦ᬁ䌉癐⠠㲸ळߡ懁঳䢈ш亃M䘾条ᄣ冢↋皲࠼扔㣱䞀۔嗰䎛ᅱ㇀痋䝫䟐⊔扠灍ᢚ綠ᏠĊ嬐Ӣ熛ᬰ䤯Ꭻ亪沢ڵ䣲㤈Ჸ尸ᄪᜣ䔥⍃ኁࡤ墿㘤⛡桔ᜮ煡灂Ꭳ㛺摉భᕺ䙈磤ĩ沾Უǣ烤⤢䋂栬㌵䞃㣜¨┳䓩5戳ծ⽜䮪⠩啑ᇃᏔ䩾䍩Ŧ† "
   },
   "outputs": [],
   "source": [
    "# import sys\n",
    "# from sys import getsizeof\n",
    "# import string\n",
    "# import random\n",
    "\n",
    "\n",
    "# def gen_and_compare_size(n=1):\n",
    "#     compression = [\"snappy\", \"gzip\", \"brotli\", \"lz4\", \"zstd\", None]\n",
    "\n",
    "#     # using random.choices()\n",
    "#     # generating random strings\n",
    "#     res = ''.join(random.choices(string.ascii_uppercase +\n",
    "#                                  string.digits, k=n))\n",
    "#     orig_size = getsizeof(res)\n",
    "        \n",
    "#     print(f\"---- size of string with length {len(res)} = {round(orig_size/1000000)}mb ({orig_size} bytes) ------\")\n",
    "#     for c in compression:\n",
    "#         s = compress(res)\n",
    "#         s = getsizeof(s)\n",
    "#         print()\n",
    "#         print(\"Compression style:\", \"None\" if c is None else c)\n",
    "#         print(f\"Size: {s}b\")\n",
    "#         print(f\"Size: {round(s/1000)}kb\")\n",
    "#         print(f\"Size: {round(s/1000000)}mb\")\n",
    "#         print(\"% compressed:\", f\"{round(((orig_size-s)/ orig_size)*100, 2)}% \") \n",
    "#         print()\n",
    "#         print(\"####\")\n",
    "   \n",
    "\n",
    "# gen_and_compare_size(source, 5)"
   ]
  },
  {
   "cell_type": "code",
   "execution_count": null,
   "id": "852eb879-de7f-4ef6-abc8-8a3cd9529f7c",
   "metadata": {
    "trrack_graph": "ᯡ࠽䈌ʀ匦㢠⹰Ҁ✠氧ㅫɐୠᖭढನˣჂダ㌱఩ၑ䆠暈਑၄䨠ዪन㪌崔效槶ኊ滳䟟⃾慀†汈僤᪰ӁĠ׿␬W౐㮨⃎濺瀡㌸㔠ʑ㥀ǔÚͣᎹ䤠䂅昨僸惀ĒいḦഫí⃡Ⴓ⠨棴̠ⶬۢ䩂Ãɠ檌戰䳤ѡ䔺怭ト判竣愠弣ë㞢䗣だ癤䄁䵐㪻G䀡拞瘑䆐穖ႂ垛⎥᳹ȡኲ憁偈梘⸸⤷പͭ⛃扑桟Ȥԫ؂滢༾杹㙲≦٨噃Ɍㄢ˶ᮺⓠ焘ㄡ⋂椔⪭䄃㢜¨ℰሠ⯀ⰱ᷼᥆὇ᆑ敃೤ቔኖ䯁ಠ  "
   },
   "outputs": [],
   "source": []
  },
  {
   "cell_type": "code",
   "execution_count": null,
   "id": "bb068791-889b-4a0b-856b-867c6092d059",
   "metadata": {
    "trrack_graph": "ᯡ࠽䈌ʀ匦㢠⹰ೠ⬠氢〸恮ᘠ㠥包Sㄠ壗Ⱡ⌡آᣖၛሒᨈ⍦嗹瀠ㅅ)㊤䈽᭞ᅲᰵ喉偑㎉混忀䢰Tဠ㚭璃ཨɰ䂠̈㈦;䘸Ϥၗ眼瀠宫ೀn㝄V䀷⒌㆐奃Ҭ㣁䙛ఴ>☤䚁珒ࣈᠸ瘾ᨪ࣠ஃϔㆨ䄸悰᫛㢤᭑Դ㟅堣ⱋೡẨ摠៨恒潄㄁氰ᷱၘ㍬໎怩瀠㣎㸜じậ䑘己洈擖₢◅汢䙜㌮ظ䚯䊦共⦹䒤ᢆ㰐䡦स癙ஓ↤᱁इⳖ楒⌥⑶ᆪᙑƢ嬧䍄憐ȩ٤傈㨳ૠ烘ḿB।⒠ଌત❯ᙫ䑈ҵᢱ决婪⽪Ⴌ䀠 "
   },
   "outputs": [],
   "source": []
  },
  {
   "cell_type": "code",
   "execution_count": null,
   "id": "f537cc24-65f8-4575-a9df-4c35b006116f",
   "metadata": {
    "trrack_graph": "ᯡ࠽䈌ʀ匦㢠⹰怦⪃ƸƂ惔吣〬ㇿมಀ໯䁣ഢ㡯怹䁆Ì勔圓ፎⓀŌ傰䇀曧䡴岵⴦曍Ი䨐઄ሠڤ-廕⇩j࠰}竄ǘ憥屢আ滩+⣣⠠乮␠㚠ᝠ梃ғᩂ倬⒡窋ఴ>☤䀤ㄱᢈ<ᱜ暎ᢣ䂀ב䍻桤℔と㖕呢Ƹ䌨ᩱⰡ圅窟㝨㑀ఀ㠎㗓桩嘨眐䠼৆୽〤砠ᶷ⻾ᠲ㞚戴ⴇ㟗僥䑅⹔暚ፆ⒦ྥ慂ㅠ⢐㢹籜䱆⸕޵ℸĭץ⁨㲽䛔浄ҬҶⶦ⒈戧磌᜴交憐ɑ٠凈㩃˧㇘幟ࡆਂK忨ଽ⺉ᬷሃ੢╢⟉攍ᝬᤠ "
   },
   "outputs": [],
   "source": []
  }
 ],
 "metadata": {
  "__CATEGORIES__": "{\"categories\":{\"coolness_factor\":{\"name\":\"coolness_factor\",\"options\":{\"_None\":{\"name\":\"None\"},\"cool\":{\"name\":\"cool\"},\"not cool\":{\"name\":\"not cool\"},\"alright\":{\"name\":\"alright\"}}}},\"activeCategoryName\":\"coolness_factor\"}",
  "__persist_nb_uuid__": "15b6440c-b112-4dd1-bff1-41461f6ea5c3",
  "kernelspec": {
   "display_name": "Python 3 (ipykernel)",
   "language": "python",
   "name": "python3"
  },
  "language_info": {
   "codemirror_mode": {
    "name": "ipython",
    "version": 3
   },
   "file_extension": ".py",
   "mimetype": "text/x-python",
   "name": "python",
   "nbconvert_exporter": "python",
   "pygments_lexer": "ipython3",
   "version": "3.8.16"
  }
 },
 "nbformat": 4,
 "nbformat_minor": 5
}
