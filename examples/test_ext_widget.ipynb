{
 "cells": [
  {
   "cell_type": "code",
   "execution_count": 1,
   "id": "9c930f8c-7612-4e28-bc80-439c3cfcd7b4",
   "metadata": {
    "trrack_graph": "໢尭䲠 "
   },
   "outputs": [],
   "source": [
    "##### import pandas as pd\n",
    "import persist_ext as PR\n",
    "from persist_ext import plot\n",
    "import altair as alt\n",
    "from vega_datasets import data\n",
    "import pandas as pd\n",
    "\n",
    "PR.dev.DEV = True "
   ]
  },
  {
   "cell_type": "code",
   "execution_count": 2,
   "id": "82f9dab1-06be-481e-9147-845bf7bed257",
   "metadata": {
    "__GENERATED_DATAFRAMES__": "ᯡࠣ䅬Ԁ朤壠ᜣ琢〹夤゠⹰〮⁁䁻қ䚾ኊ㇠നСࠩ瀮晼Ƭ穅5愠៤⠠ ",
    "__has_persist_output": true,
    "trrack_graph": "ᯡ࠽䈌ʀ匦㢠⹰Ҁ⌠ᰣュర恍ㄣᠢ㈰֠❞嬩‹䙦Q䬘䩰㗂墦ተ¶⡨⇳㌀ᅎ╮䆳⬮⺄㴘ԩ#℠Ώ䊦Ą䁅ШN㵀〡岁䋼℩㎎恑䀥呡吠৹撠۰̋琭ໆ⒖㺷塟ඃʠϩ䂰桸婺㔶ଠ૫➄燃琡㙐殜ࢨἬण⻕ࡢ㌰ሚᑋU䋟࠳欯Т縔͍暜៕䄣夲Φ㓡毌¾'ૻ埦؃棸䊨崌༘㎄ࡘ剽䌦⌓ცॹ硤橔ᩑႣť䍤ደ幀┢䐀ᒊਨ⯐皕䮉ቄや䖂ᣂ挰၅㋘剬ܧ䄱⑪گ≐ⱖႩ掑㲞ၬ၄w⁸ᅙ峲⹎⁆ᓤ䪬䣄㑴皸ℹ  "
   },
   "outputs": [
    {
     "data": {
      "application/vnd.jupyter.widget-view+json": {
       "model_id": "1c711799bc8644a480e9eb18a51e03b8",
       "version_major": 2,
       "version_minor": 0
      },
      "text/plain": [
       "PersistWidget(data_values=[{'__id_column': '1', 'Name': 'chevrolet chevelle malibu', 'Miles_per_Gallon': 18.0,…"
      ]
     },
     "execution_count": 2,
     "metadata": {},
     "output_type": "execute_result"
    }
   ],
   "source": [
    "a = PR.PersistTable(data.cars())\n",
    "a"
   ]
  },
  {
   "cell_type": "code",
   "execution_count": 8,
   "id": "6a435cfb-9c8f-4f7b-b775-f5ed8f762850",
   "metadata": {
    "trrack_graph": "ᯡ࠽䈌ʀ匦㢠⹰Ӣ䅸ɗ㴦ᠭ䁍cČíᨰֿ㗚ࠣ䱶䊀ৢ䩬ɓ往ƥ`㌲⠠䭈⑀棐瀱Ⴥ⭾䦫ᔮ⻝粦䒠ǁ#㙉䌸晠ኤРᝣၐüムṁǟ㤗%䉸攠ʓ㥀ǔÚ⎃஥䤠⒋䔮ᇸ惀Ēいཞᾶ侢䠄獱డ㙐㮂㢨᢬थ⯐䡣㌰兦䱻U䳘䰵梬䐢粬絭犂⸽䄭崲Τ㓠欌¾'ጇ忦஥歸䁫崽令䮄࠴䙠⌢ᗡ੓炁Ԅᢂㄭާ䩤慧愒৸尰ᦤ憨ᑕԧ․䝊懑䦲垺∢౱ᆨవ塜夦ඣ您㉅ͣ倸晋׆焘䅐䙂␠垀呄㪘牼ㅠⓉ䔕ಹ恳㪊㤴  "
   },
   "outputs": [
    {
     "ename": "NameError",
     "evalue": "name 'C' is not defined",
     "output_type": "error",
     "traceback": [
      "\u001b[0;31m---------------------------------------------------------------------------\u001b[0m",
      "\u001b[0;31mNameError\u001b[0m                                 Traceback (most recent call last)",
      "Cell \u001b[0;32mIn[8], line 1\u001b[0m\n\u001b[0;32m----> 1\u001b[0m \u001b[43mC\u001b[49m\n",
      "\u001b[0;31mNameError\u001b[0m: name 'C' is not defined"
     ]
    }
   ],
   "source": []
  },
  {
   "cell_type": "code",
   "execution_count": null,
   "id": "fbf9df2a-6f61-48b9-97d3-71ca7bdf4448",
   "metadata": {
    "trrack_graph": "ᯡ࠽䈌ʀ匦㢠⹰ৠବ倻Č⠱䁍.Ƭ˒ࣧ㔢ద㉓傠౐擌宋୾䨲⠠䭁䑁楒瀱Ⴭ⭡始ݎẜʤð䀡寰ɑ䗴䈠ॢȠநຸᢀ㙄⽽央•扗⨠Ꮃ䤠වױ欈ᶬ䢌ᶒ₝૳/ጢ␁ぱ桸Ⲝ੆ⶥπב䅻榤℔と㥵䑢ڸ䌩栺Ⱑ囥窟㭨㑀ః圏嚳槨嘨朐䠼ໆॵ〤砠Ḇዾᢒ㮒戤ⴁ矗傻ၠ拆๦㥃᢫̨╁䏳梉礘嚂3ᝐ䊮␘ᠹ琯䴥ɰ氯ঊ媹照䥂Д࣡䐯牸⹩̭䈀䑒ણ⃠瑢ঢ揑᲎ᒫ搑ȯᲠ˛粡㻢⊲㇒แ⟥ᓤ檬䣆㔐倠 "
   },
   "outputs": [],
   "source": [
    "A.head()"
   ]
  },
  {
   "cell_type": "code",
   "execution_count": null,
   "id": "969052a8-acab-4a58-8177-2c9ef62ae521",
   "metadata": {
    "trrack_graph": "ᯡ࠽䈌ʀ匦㢠⹰ˠ⌴栣Ìǐ͐ୢ䔢㢰ჯČ∢ᠬ恘呚⿦䁬X㠩挃ҴE䨲࢔䳙ѩ䡱⛇ⓥ䢻ݺ帢䉠ð䀡婷冨㥀ॢȠ௞䠸ᢀ眰䅽忐ಀƊᢅ\"㣙အ娠崣↳䳩֠㜑ٰ沀倠祐ሺ༿俢䏧怶ᦐؠ嬸ළѤ०Ң哺䑀妨䢣㵕䀺晹∪瞤∡㸦㻆䅅᯦悦檩Ǣᮥ䡀ᬠ➠ǩ㈧熦禗噁⋎筧╙妜⥅䆤㎚ᢘ硐∢౅ኤ䚦䏁熑烰䔜㞨࿃梴ᜥ΁ㄖ᫳㒱ዏ⩤Ȼᅃࠨᛑ屲ػߣࣄ㤪䗀ᣬ⬽䔃㒢ケဢ岢ბ漆䢑㥞ᣆ⦩㔦乫煉⑰  "
   },
   "outputs": [],
   "source": [
    "E.head()"
   ]
  },
  {
   "cell_type": "code",
   "execution_count": null,
   "id": "d096bc85-ec23-44ee-bd5c-2792731a2937",
   "metadata": {
    "trrack_graph": "ᯡ࠽䈌ʀ匦㢠⹰ಅŸހ֠ยฐ୮䂆㸠᢮怹䁦♤ɒ㩠㙃ᠩ旻ⴡᡱᡲ矤䨠ዪनᩌ㲤◩⫰㚊懻垠傱ㄠ㑀碸愹䠤傡%戰映ᮬᢛ䑁圌ỨÐ䩒䀡ᵼ䠠洠⻁䣹溄䃄ᣀ䐑㙐⠠㲸म䛥挆懓價Ⓒ屼ɨ6挫㌶₣烡ვ嬩жㄲᢄ懐ͺⰐ䇝炨䁏僰㫳⟡⋸ᅚ兀㠶䱘䐶怩瀠㫌㱱㹐ᑾ囤ɭ搄矠寵⒄ᑐ刴⥎ඦѣ↤⮁棵㤜㙚ࢥ惀₶Ἧ掀ᠪߩ夌㉄吊䢡⌴㲂Ĥ㚗ᙡ䄀҂಩⍱瑦֮抐㱞ڨጩ∿Ԡ˙Ɂ㧯㇤ᔘ犨䭲䦺Շ⇅䓃ဠ "
   },
   "outputs": [],
   "source": [
    "D.head()"
   ]
  },
  {
   "cell_type": "code",
   "execution_count": null,
   "id": "dc4392b5-b799-4e48-9823-4b3647f6dbe6",
   "metadata": {
    "trrack_graph": "ᯡ࠽䈌ʀ匦㢠⹰à㬠春ㅠᘣᡰୣԡ೦瀸暴∤ᧀᎣᇚ㊟⸸㋊ᐠᱩ•ⳁႧ⛧䡤峅൚䙌汙㤓琲&䈠۾䀱䘾䒠┨ࠠ⹚₀ǘ憡屢ƚ盵+ࣝ⠠乮␠㚠᝷⟀煒⃂瓉Ȕ⬸ᐠṬҦ‣ㅑᦑ᥸屆ᨹഠ⯀ב䅻榤℔と㕵䑢ຸ䌭樺Ⱑ圅窟㝨㑀ఋ堎㒃棈嘨眐䠼৆୵〤砠ᶷ⻾ᡊ㞚戤ⴋ㟗劻ၠ戲ᐸ㸵ἠ⦳ɀ惣樈沄ዂ ঳ᙢႸ⨨ᢄᨈ忎Ԣ恰嬺槐䨂㞲∦ೱ冨င塼䥆Πᆨ別ۤ⠸晋໠慘湏࿢ंK忨ଽ⹉Ἳᄲ੺ಲ剳咭຺䔠 "
   },
   "outputs": [],
   "source": [
    "TEst.head()"
   ]
  },
  {
   "cell_type": "code",
   "execution_count": null,
   "id": "c3cddbc4-a619-4f9b-a27b-ecbeec3bd7d4",
   "metadata": {
    "trrack_graph": "ᯡ࠽䈌ʀ匦㢠⹰怶ƹ桃¼吵䁍ܡء堣ᨰ₃f䈠炳૦ϐ晴ሢ㏁䇮撴E䨲ࡔ䳘֫䥵傌櫩䮯ὡ懂†汩棤ẰӁĠפìW౐㮨⃎濹ǀƎᢅ\"㣙အ娠崣↳䳩ৠ㇁Ұ沀倠祐ሯܯٯ䃣ᆁ㈐ؠ嬸ඩ౤ɦҢ哻䑀妨䢣ᵕ䀺晲∪瞤∡㸦㻆䔩ڦ悦檩Ǣ᪀㕖o#䦝栃ǂ痌⇥⻾䜲㧒вⵉ憧⃳儸摐䈪఩Һ䱾抇焷ࢉ羔ᴠ╡℘✻數㛲ት畨䁣Ʉㄡ˶ᮦ⃣゘ᄴ䓃⤘㴩䆁墺⼠∰䓾ഠ֒Ѣ⏛䭄戴Გ侭⢩ൗ੩桉↰  "
   },
   "outputs": [],
   "source": [
    "A.head()"
   ]
  }
 ],
 "metadata": {
  "__CATEGORIES__": "{\"categories\":{\"A\":{\"name\":\"A\",\"options\":{\"1\":{\"name\":\"1\"},\"2\":{\"name\":\"2\"},\"3\":{\"name\":\"3\"},\"_None\":{\"name\":\"None\"}}}},\"activeCategoryName\":\"A\"}",
  "__USER_ADDED_CATEGORIES__": "{\"__version\":\"1\",\"categories\":[],\"activeCategoryName\":\"\"}",
  "__persist_nb_uuid__": "15b6440c-b112-4dd1-bff1-41461f6ea5c3",
  "kernelspec": {
   "display_name": "Python 3 (ipykernel)",
   "language": "python",
   "name": "python3"
  },
  "language_info": {
   "codemirror_mode": {
    "name": "ipython",
    "version": 3
   },
   "file_extension": ".py",
   "mimetype": "text/x-python",
   "name": "python",
   "nbconvert_exporter": "python",
   "pygments_lexer": "ipython3",
   "version": "3.8.16"
  }
 },
 "nbformat": 4,
 "nbformat_minor": 5
}
