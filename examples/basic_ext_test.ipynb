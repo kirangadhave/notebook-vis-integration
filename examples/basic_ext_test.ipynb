{
 "cells": [
  {
   "cell_type": "code",
   "execution_count": 13,
   "id": "1088dc38-d4cc-422b-8e55-7967c5fb15e5",
   "metadata": {
    "trrack_graph": {
     "current": "d8ab023e-f434-43cc-89b4-a82a0e0f1fb4",
     "nodes": {
      "d8ab023e-f434-43cc-89b4-a82a0e0f1fb4": {
       "artifacts": [],
       "children": [],
       "createdOn": 1680551193339,
       "event": "Root",
       "id": "d8ab023e-f434-43cc-89b4-a82a0e0f1fb4",
       "label": "Root",
       "level": 0,
       "meta": {
        "annotation": [],
        "bookmark": []
       },
       "state": {
        "type": "checkpoint",
        "val": {
         "interactions": []
        }
       }
      }
     },
     "root": "d8ab023e-f434-43cc-89b4-a82a0e0f1fb4"
    }
   },
   "outputs": [
    {
     "name": "stdout",
     "output_type": "stream",
     "text": [
      "Loaded InteractiveDE extension version 1.0.1a0\n",
      "Extension enabled for altair\n"
     ]
    }
   ],
   "source": [
    "import altair as alt\n",
    "import pandas as pd\n",
    "\n",
    "import interactivede.ide as IDE # Our library\n",
    "\n",
    "IDE.enable('altair') # Call this to enable integration with altair"
   ]
  },
  {
   "cell_type": "code",
   "execution_count": 14,
   "id": "eb7f681b-cd56-4846-8ff6-88a4813aa48b",
   "metadata": {
    "trrack_graph": {
     "current": "672e2c47-d773-4720-a61e-48a51aeac67e",
     "nodes": {
      "672e2c47-d773-4720-a61e-48a51aeac67e": {
       "artifacts": [],
       "children": [],
       "createdOn": 1680551244719,
       "event": "Root",
       "id": "672e2c47-d773-4720-a61e-48a51aeac67e",
       "label": "Root",
       "level": 0,
       "meta": {
        "annotation": [],
        "bookmark": []
       },
       "state": {
        "type": "checkpoint",
        "val": {
         "interactions": []
        }
       }
      }
     },
     "root": "672e2c47-d773-4720-a61e-48a51aeac67e"
    }
   },
   "outputs": [],
   "source": [
    "penguins_url = \"https://raw.githubusercontent.com/vega/vega/master/docs/data/penguins.json\""
   ]
  },
  {
   "cell_type": "code",
   "execution_count": 15,
   "id": "162272bd-88a2-43fe-86c2-f14c4c1cd2f3",
   "metadata": {
    "tags": [],
    "trrack_execution_spec": {
     "$schema": "https://vega.github.io/schema/vega-lite/v4.17.0.json",
     "config": {
      "view": {
       "continuousHeight": 300,
       "continuousWidth": 400
      }
     },
     "data": {
      "url": "https://raw.githubusercontent.com/vega/vega/master/docs/data/penguins.json"
     },
     "encoding": {
      "color": {
       "condition": {
        "field": "Species",
        "selection": "brush",
        "type": "nominal"
       },
       "value": "lightgray"
      },
      "x": {
       "field": "Beak Length (mm)",
       "scale": {
        "zero": false
       },
       "type": "quantitative"
      },
      "y": {
       "field": "Beak Depth (mm)",
       "scale": {
        "zero": false
       },
       "type": "quantitative"
      }
     },
     "height": 400,
     "mark": "point",
     "selection": {
      "brush": {
       "type": "interval"
      }
     },
     "width": 400
    },
    "trrack_graph": {
     "current": "5a488dcb-328c-4115-b63e-e3692ffb70b9",
     "nodes": {
      "5a488dcb-328c-4115-b63e-e3692ffb70b9": {
       "artifacts": [],
       "children": [],
       "createdOn": 1680558150583,
       "event": "interaction",
       "id": "5a488dcb-328c-4115-b63e-e3692ffb70b9",
       "label": "filter",
       "level": 2,
       "meta": {
        "annotation": [],
        "bookmark": [],
        "df_name": [
         {
          "createdOn": 1680558150592,
          "id": "0dcb479c-fd9e-44eb-8738-9651555c8ca1",
          "type": "df_name",
          "val": "data_filter_5a488dcb"
         }
        ]
       },
       "parent": "ff55ec47-8c81-4048-9955-5c1ad6938915",
       "sideEffects": {
        "do": [],
        "undo": []
       },
       "state": {
        "type": "checkpoint",
        "val": {
         "interactions": [
          {
           "id": "5fe8354f-4fe2-436a-bb68-a110b0304281",
           "name": "brush",
           "params": {
            "selection": {
             "Beak Depth (mm)": [
              14.057500000000001,
              15.700000000000001
             ],
             "Beak Length (mm)": [
              41.38,
              48.379999999999995
             ]
            },
            "x": [
             134,
             234
            ],
            "y": [
             280,
             353
            ]
           },
           "path": "/selection/brush",
           "type": "selection_interval"
          },
          {
           "id": "3ef219c3-d7c0-4007-8912-3f47e348abd2",
           "path": "",
           "type": "filter"
          }
         ]
        }
       }
      },
      "5f57f23c-493b-43c6-a514-2854baba8efd": {
       "artifacts": [],
       "children": [
        "ff55ec47-8c81-4048-9955-5c1ad6938915"
       ],
       "createdOn": 1680558135726,
       "event": "Root",
       "id": "5f57f23c-493b-43c6-a514-2854baba8efd",
       "label": "Root",
       "level": 0,
       "meta": {
        "annotation": [],
        "bookmark": [],
        "df_name": [
         {
          "createdOn": 1680558135743,
          "id": "ffa892e8-5f74-4972-b570-b65ee0e43568",
          "type": "df_name",
          "val": "data_root_5f57f23c"
         }
        ]
       },
       "state": {
        "type": "checkpoint",
        "val": {
         "interactions": []
        }
       }
      },
      "ff55ec47-8c81-4048-9955-5c1ad6938915": {
       "artifacts": [],
       "children": [
        "5a488dcb-328c-4115-b63e-e3692ffb70b9"
       ],
       "createdOn": 1680558146267,
       "event": "interaction",
       "id": "ff55ec47-8c81-4048-9955-5c1ad6938915",
       "label": "selection_interval",
       "level": 1,
       "meta": {
        "annotation": [],
        "bookmark": [],
        "df_name": [
         {
          "createdOn": 1680558146282,
          "id": "8ab5f8ef-9813-4d4a-9d3a-fa75c0f35941",
          "type": "df_name",
          "val": "data_selection_ff55ec47"
         }
        ]
       },
       "parent": "5f57f23c-493b-43c6-a514-2854baba8efd",
       "sideEffects": {
        "do": [],
        "undo": []
       },
       "state": {
        "type": "checkpoint",
        "val": {
         "interactions": [
          {
           "id": "5fe8354f-4fe2-436a-bb68-a110b0304281",
           "name": "brush",
           "params": {
            "selection": {
             "Beak Depth (mm)": [
              14.057500000000001,
              15.700000000000001
             ],
             "Beak Length (mm)": [
              41.38,
              48.379999999999995
             ]
            },
            "x": [
             134,
             234
            ],
            "y": [
             280,
             353
            ]
           },
           "path": "/selection/brush",
           "type": "selection_interval"
          }
         ]
        }
       }
      }
     },
     "root": "5f57f23c-493b-43c6-a514-2854baba8efd"
    }
   },
   "outputs": [
    {
     "data": {
      "application/vnd.trrack+json": {
       "application/vnd.trrack.graph+json": "162272bd-88a2-43fe-86c2-f14c4c1cd2f3",
       "application/vnd.vegalite.v4+json": {
        "$schema": "https://vega.github.io/schema/vega-lite/v4.17.0.json",
        "config": {
         "view": {
          "continuousHeight": 300,
          "continuousWidth": 400
         }
        },
        "data": {
         "url": "https://raw.githubusercontent.com/vega/vega/master/docs/data/penguins.json"
        },
        "encoding": {
         "color": {
          "condition": {
           "field": "Species",
           "selection": "brush",
           "type": "nominal"
          },
          "value": "lightgray"
         },
         "x": {
          "field": "Beak Length (mm)",
          "scale": {
           "zero": false
          },
          "type": "quantitative"
         },
         "y": {
          "field": "Beak Depth (mm)",
          "scale": {
           "zero": false
          },
          "type": "quantitative"
         }
        },
        "height": 400,
        "mark": "point",
        "selection": {
         "brush": {
          "type": "interval"
         }
        },
        "transform": [
         {
          "filter": {
           "and": [
            {
             "not": {
              "and": [
               {
                "field": "Beak Depth (mm)",
                "range": [
                 14.057500000000001,
                 15.700000000000001
                ]
               },
               {
                "field": "Beak Length (mm)",
                "range": [
                 41.38,
                 48.379999999999995
                ]
               }
              ]
             }
            }
           ]
          }
         }
        ],
        "width": 400
       }
      }
     },
     "execution_count": 15,
     "metadata": {},
     "output_type": "execute_result"
    }
   ],
   "source": [
    "# All of the code here is pure altair. The library does not need any custom syntax\n",
    "\n",
    "brush = alt.selection_interval(name='brush') # define a type of selection\n",
    "\n",
    "# create a scatterplot\n",
    "chart = alt.Chart(penguins_url).mark_point().encode(\n",
    "    x=alt.X('Beak Length (mm):Q', scale=alt.Scale(zero=False)),\n",
    "    y=alt.Y('Beak Depth (mm):Q', scale=alt.Scale(zero=False)),\n",
    "    color=alt.condition(brush, 'Species:N', alt.value('lightgray'))\n",
    ").properties(\n",
    "    width=400,\n",
    "    height=400\n",
    ").add_selection(\n",
    "    brush # Connect the brush selection to scatterplot\n",
    ")\n",
    "\n",
    "chart"
   ]
  },
  {
   "cell_type": "code",
   "execution_count": 26,
   "id": "2979bc8c-bea5-48c8-a152-59b34eafbf34",
   "metadata": {
    "tags": [],
    "trrack_graph": {
     "current": "a11e193e-a876-4d7c-bf8f-fdaf129bc0ff",
     "nodes": {
      "a11e193e-a876-4d7c-bf8f-fdaf129bc0ff": {
       "artifacts": [],
       "children": [],
       "createdOn": 1680559200446,
       "event": "Root",
       "id": "a11e193e-a876-4d7c-bf8f-fdaf129bc0ff",
       "label": "Root",
       "level": 0,
       "meta": {
        "annotation": [],
        "bookmark": []
       },
       "state": {
        "type": "checkpoint",
        "val": {
         "interactions": []
        }
       }
      }
     },
     "root": "a11e193e-a876-4d7c-bf8f-fdaf129bc0ff"
    }
   },
   "outputs": [
    {
     "data": {
      "application/vnd.trrack+json": {
       "application/vnd.trrack.graph+json": "2979bc8c-bea5-48c8-a152-59b34eafbf34",
       "text/html": "<div>\n<style scoped>\n    .dataframe tbody tr th:only-of-type {\n        vertical-align: middle;\n    }\n\n    .dataframe tbody tr th {\n        vertical-align: top;\n    }\n\n    .dataframe thead th {\n        text-align: right;\n    }\n</style>\n<table border=\"1\" class=\"dataframe\">\n  <thead>\n    <tr style=\"text-align: right;\">\n      <th></th>\n      <th>Species</th>\n      <th>Island</th>\n      <th>Beak Length (mm)</th>\n      <th>Beak Depth (mm)</th>\n      <th>Flipper Length (mm)</th>\n      <th>Body Mass (g)</th>\n      <th>Sex</th>\n    </tr>\n  </thead>\n  <tbody>\n    <tr>\n      <th>0</th>\n      <td>Adelie</td>\n      <td>Torgersen</td>\n      <td>39.1</td>\n      <td>18.7</td>\n      <td>181</td>\n      <td>3750</td>\n      <td>MALE</td>\n    </tr>\n    <tr>\n      <th>1</th>\n      <td>Adelie</td>\n      <td>Torgersen</td>\n      <td>39.5</td>\n      <td>17.4</td>\n      <td>186</td>\n      <td>3800</td>\n      <td>FEMALE</td>\n    </tr>\n    <tr>\n      <th>2</th>\n      <td>Adelie</td>\n      <td>Torgersen</td>\n      <td>40.3</td>\n      <td>18.0</td>\n      <td>195</td>\n      <td>3250</td>\n      <td>FEMALE</td>\n    </tr>\n    <tr>\n      <th>3</th>\n      <td>Adelie</td>\n      <td>Torgersen</td>\n      <td>36.7</td>\n      <td>19.3</td>\n      <td>193</td>\n      <td>3450</td>\n      <td>FEMALE</td>\n    </tr>\n    <tr>\n      <th>4</th>\n      <td>Adelie</td>\n      <td>Torgersen</td>\n      <td>39.3</td>\n      <td>20.6</td>\n      <td>190</td>\n      <td>3650</td>\n      <td>MALE</td>\n    </tr>\n    <tr>\n      <th>...</th>\n      <td>...</td>\n      <td>...</td>\n      <td>...</td>\n      <td>...</td>\n      <td>...</td>\n      <td>...</td>\n      <td>...</td>\n    </tr>\n    <tr>\n      <th>337</th>\n      <td>Gentoo</td>\n      <td>Biscoe</td>\n      <td>47.2</td>\n      <td>13.7</td>\n      <td>214</td>\n      <td>4925</td>\n      <td>FEMALE</td>\n    </tr>\n    <tr>\n      <th>338</th>\n      <td>Gentoo</td>\n      <td>Biscoe</td>\n      <td>46.8</td>\n      <td>14.3</td>\n      <td>215</td>\n      <td>4850</td>\n      <td>FEMALE</td>\n    </tr>\n    <tr>\n      <th>339</th>\n      <td>Gentoo</td>\n      <td>Biscoe</td>\n      <td>50.4</td>\n      <td>15.7</td>\n      <td>222</td>\n      <td>5750</td>\n      <td>MALE</td>\n    </tr>\n    <tr>\n      <th>340</th>\n      <td>Gentoo</td>\n      <td>Biscoe</td>\n      <td>45.2</td>\n      <td>14.8</td>\n      <td>212</td>\n      <td>5200</td>\n      <td>FEMALE</td>\n    </tr>\n    <tr>\n      <th>341</th>\n      <td>Gentoo</td>\n      <td>Biscoe</td>\n      <td>49.9</td>\n      <td>16.1</td>\n      <td>213</td>\n      <td>5400</td>\n      <td>MALE</td>\n    </tr>\n  </tbody>\n</table>\n<p>342 rows × 7 columns</p>\n</div>",
       "text/plain": "    Species     Island  Beak Length (mm)  Beak Depth (mm)  \\\n0    Adelie  Torgersen              39.1             18.7   \n1    Adelie  Torgersen              39.5             17.4   \n2    Adelie  Torgersen              40.3             18.0   \n3    Adelie  Torgersen              36.7             19.3   \n4    Adelie  Torgersen              39.3             20.6   \n..      ...        ...               ...              ...   \n337  Gentoo     Biscoe              47.2             13.7   \n338  Gentoo     Biscoe              46.8             14.3   \n339  Gentoo     Biscoe              50.4             15.7   \n340  Gentoo     Biscoe              45.2             14.8   \n341  Gentoo     Biscoe              49.9             16.1   \n\n     Flipper Length (mm)  Body Mass (g)     Sex  \n0                    181           3750    MALE  \n1                    186           3800  FEMALE  \n2                    195           3250  FEMALE  \n3                    193           3450  FEMALE  \n4                    190           3650    MALE  \n..                   ...            ...     ...  \n337                  214           4925  FEMALE  \n338                  215           4850  FEMALE  \n339                  222           5750    MALE  \n340                  212           5200  FEMALE  \n341                  213           5400    MALE  \n\n[342 rows x 7 columns]"
      }
     },
     "execution_count": 26,
     "metadata": {},
     "output_type": "execute_result"
    }
   ],
   "source": [
    "IDE.DataFrameStorage.get(\"data_filter_5a488dcb\")"
   ]
  },
  {
   "cell_type": "code",
   "execution_count": 27,
   "id": "f7b00e6d-36fe-4c70-9c69-3080c2d7f554",
   "metadata": {
    "tags": [],
    "trrack_graph": {
     "current": "3234fc87-9ad9-49eb-87cb-5646a7ae63a1",
     "nodes": {
      "3234fc87-9ad9-49eb-87cb-5646a7ae63a1": {
       "artifacts": [],
       "children": [],
       "createdOn": 1680560086859,
       "event": "Root",
       "id": "3234fc87-9ad9-49eb-87cb-5646a7ae63a1",
       "label": "Root",
       "level": 0,
       "meta": {
        "annotation": [],
        "bookmark": []
       },
       "state": {
        "type": "checkpoint",
        "val": {
         "interactions": []
        }
       }
      }
     },
     "root": "3234fc87-9ad9-49eb-87cb-5646a7ae63a1"
    }
   },
   "outputs": [
    {
     "data": {
      "application/vnd.trrack+json": {
       "application/vnd.trrack.graph+json": "f7b00e6d-36fe-4c70-9c69-3080c2d7f554",
       "text/html": "<div>\n<style scoped>\n    .dataframe tbody tr th:only-of-type {\n        vertical-align: middle;\n    }\n\n    .dataframe tbody tr th {\n        vertical-align: top;\n    }\n\n    .dataframe thead th {\n        text-align: right;\n    }\n</style>\n<table border=\"1\" class=\"dataframe\">\n  <thead>\n    <tr style=\"text-align: right;\">\n      <th></th>\n      <th>Species</th>\n      <th>Island</th>\n      <th>Beak Length (mm)</th>\n      <th>Beak Depth (mm)</th>\n      <th>Flipper Length (mm)</th>\n      <th>Body Mass (g)</th>\n      <th>Sex</th>\n    </tr>\n  </thead>\n  <tbody>\n    <tr>\n      <th>0</th>\n      <td>Adelie</td>\n      <td>Torgersen</td>\n      <td>39.1</td>\n      <td>18.7</td>\n      <td>181</td>\n      <td>3750</td>\n      <td>MALE</td>\n    </tr>\n    <tr>\n      <th>1</th>\n      <td>Adelie</td>\n      <td>Torgersen</td>\n      <td>39.5</td>\n      <td>17.4</td>\n      <td>186</td>\n      <td>3800</td>\n      <td>FEMALE</td>\n    </tr>\n    <tr>\n      <th>2</th>\n      <td>Adelie</td>\n      <td>Torgersen</td>\n      <td>40.3</td>\n      <td>18.0</td>\n      <td>195</td>\n      <td>3250</td>\n      <td>FEMALE</td>\n    </tr>\n    <tr>\n      <th>3</th>\n      <td>Adelie</td>\n      <td>Torgersen</td>\n      <td>36.7</td>\n      <td>19.3</td>\n      <td>193</td>\n      <td>3450</td>\n      <td>FEMALE</td>\n    </tr>\n    <tr>\n      <th>4</th>\n      <td>Adelie</td>\n      <td>Torgersen</td>\n      <td>39.3</td>\n      <td>20.6</td>\n      <td>190</td>\n      <td>3650</td>\n      <td>MALE</td>\n    </tr>\n    <tr>\n      <th>...</th>\n      <td>...</td>\n      <td>...</td>\n      <td>...</td>\n      <td>...</td>\n      <td>...</td>\n      <td>...</td>\n      <td>...</td>\n    </tr>\n    <tr>\n      <th>292</th>\n      <td>Gentoo</td>\n      <td>Biscoe</td>\n      <td>55.1</td>\n      <td>16.0</td>\n      <td>230</td>\n      <td>5850</td>\n      <td>MALE</td>\n    </tr>\n    <tr>\n      <th>293</th>\n      <td>Gentoo</td>\n      <td>Biscoe</td>\n      <td>48.8</td>\n      <td>16.2</td>\n      <td>222</td>\n      <td>6000</td>\n      <td>MALE</td>\n    </tr>\n    <tr>\n      <th>294</th>\n      <td>Gentoo</td>\n      <td>Biscoe</td>\n      <td>47.2</td>\n      <td>13.7</td>\n      <td>214</td>\n      <td>4925</td>\n      <td>FEMALE</td>\n    </tr>\n    <tr>\n      <th>295</th>\n      <td>Gentoo</td>\n      <td>Biscoe</td>\n      <td>50.4</td>\n      <td>15.7</td>\n      <td>222</td>\n      <td>5750</td>\n      <td>MALE</td>\n    </tr>\n    <tr>\n      <th>296</th>\n      <td>Gentoo</td>\n      <td>Biscoe</td>\n      <td>49.9</td>\n      <td>16.1</td>\n      <td>213</td>\n      <td>5400</td>\n      <td>MALE</td>\n    </tr>\n  </tbody>\n</table>\n<p>297 rows × 7 columns</p>\n</div>",
       "text/plain": "    Species     Island  Beak Length (mm)  Beak Depth (mm)  \\\n0    Adelie  Torgersen              39.1             18.7   \n1    Adelie  Torgersen              39.5             17.4   \n2    Adelie  Torgersen              40.3             18.0   \n3    Adelie  Torgersen              36.7             19.3   \n4    Adelie  Torgersen              39.3             20.6   \n..      ...        ...               ...              ...   \n292  Gentoo     Biscoe              55.1             16.0   \n293  Gentoo     Biscoe              48.8             16.2   \n294  Gentoo     Biscoe              47.2             13.7   \n295  Gentoo     Biscoe              50.4             15.7   \n296  Gentoo     Biscoe              49.9             16.1   \n\n     Flipper Length (mm)  Body Mass (g)     Sex  \n0                    181           3750    MALE  \n1                    186           3800  FEMALE  \n2                    195           3250  FEMALE  \n3                    193           3450  FEMALE  \n4                    190           3650    MALE  \n..                   ...            ...     ...  \n292                  230           5850    MALE  \n293                  222           6000    MALE  \n294                  214           4925  FEMALE  \n295                  222           5750    MALE  \n296                  213           5400    MALE  \n\n[297 rows x 7 columns]"
      }
     },
     "execution_count": 27,
     "metadata": {},
     "output_type": "execute_result"
    }
   ],
   "source": [
    "IDE.DataFrameStorage.get(\"data_selection_ff55ec47\")"
   ]
  },
  {
   "cell_type": "code",
   "execution_count": null,
   "id": "d2fedee2-574a-4e22-a8ff-4e3dbbcc4258",
   "metadata": {
    "trrack_graph": {
     "current": "0b9d0ec3-dac0-4fcd-9769-f39144b1ef3f",
     "nodes": {
      "0b9d0ec3-dac0-4fcd-9769-f39144b1ef3f": {
       "artifacts": [],
       "children": [],
       "createdOn": 1680560091084,
       "event": "Root",
       "id": "0b9d0ec3-dac0-4fcd-9769-f39144b1ef3f",
       "label": "Root",
       "level": 0,
       "meta": {
        "annotation": [],
        "bookmark": []
       },
       "state": {
        "type": "checkpoint",
        "val": {
         "interactions": []
        }
       }
      }
     },
     "root": "0b9d0ec3-dac0-4fcd-9769-f39144b1ef3f"
    }
   },
   "outputs": [],
   "source": []
  }
 ],
 "metadata": {
  "NB_UUID": "56ee9583-b360-4fc8-993c-4a68765003a0",
  "kernelspec": {
   "display_name": "Python 3 (ipykernel)",
   "language": "python",
   "name": "python3"
  },
  "language_info": {
   "codemirror_mode": {
    "name": "ipython",
    "version": 3
   },
   "file_extension": ".py",
   "mimetype": "text/x-python",
   "name": "python",
   "nbconvert_exporter": "python",
   "pygments_lexer": "ipython3",
   "version": "3.8.16"
  },
  "toc-autonumbering": false,
  "toc-showtags": false
 },
 "nbformat": 4,
 "nbformat_minor": 5
}
