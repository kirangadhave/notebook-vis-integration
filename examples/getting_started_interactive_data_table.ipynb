{
 "cells": [
  {
   "cell_type": "code",
   "execution_count": 1,
   "id": "4d39d0b5-5fe4-4bb9-8e55-83f5deb7f471",
   "metadata": {
    "__GENERATED_DATAFRAMES__": "ᯡࠣ䅬Ԁ朤壠ᜣ琢〹夤゠⹰〮⁁䁻қ䚾ኊ㇠നСࠩ瀮晼Ƭ穅5愠៤⠠ ",
    "__has_persist_output": true,
    "trrack_graph": "ᯡ࠽䈌ʀ匦㢠⹰࣠଺ރ‬⥠ⴺ¸〡扅Ìᰨ০₆¦ȣダࣣ熉䪳䙆ተ¶⡨⇱㌇扊Ⅽ̶ᫍ發㴘ԩ#℠Ό桀牠ኤР᝝ၐüム湁Ý㮀ᣠ˴⃴3䧩-倥氈఼テ䐼㻇䡙䖃ʠϩ䂰⢸ᑖኵণۨ柰˸惍䱂ႆᡄዊ橁Ӭ⎧留ᘠ歲猠㏔ᘰؗ欖ᨠ曬佋ɋ≄ܠ榦啸Ŝ.◷ྫྷᏳ囑Զ㫻涹ㆂॷ㌵ળ䊨挽剒䤈䒾䙔œا૩䒃ᄀ捒ລ⇀瑮૏勌᭩ᅃ̈́䭡䤼ᢠūץႁ塜Ⴂ⎱ᐺẤ拐᲎ԫ搑ʁŀ˘ɡᇵ暳㆒ṑ♱ঊ⥓Ⓞ璣ဠ "
   },
   "outputs": [
    {
     "data": {
      "application/vnd.jupyter.widget-view+json": {
       "model_id": "53ca73d4743e45d1af22a63b750840a8",
       "version_major": 2,
       "version_minor": 1
      },
      "text/plain": [
       "PersistWidget(data_values=[{'__id_column': '1', 'Name': 'chevrolet chevelle malibu', 'Miles_per_Gallon': 18.0,…"
      ]
     },
     "execution_count": 1,
     "metadata": {},
     "output_type": "execute_result"
    }
   ],
   "source": [
    "from vega_datasets import data # Load vega_datasets\n",
    "import persist_ext as PR # Load Persist Extension\n",
    "\n",
    "cars_df = data.cars() # Get the cars dataset as Pandas dataframe\n",
    "\n",
    "PR.PersistTable(cars_df) # Display cars dataset with interactive table"
   ]
  },
  {
   "cell_type": "code",
   "execution_count": null,
   "id": "7021283b-5e75-45a1-a3b1-38f5099a1230",
   "metadata": {},
   "outputs": [],
   "source": []
  }
 ],
 "metadata": {
  "__persist_keys_record": [
   "__GENERATED_DATAFRAMES__",
   "__persist_nb_uuid__",
   "trrack_graph"
  ],
  "__persist_nb_uuid__": "71bbd9f0-dd59-46c9-9e0f-7194b6f50588",
  "kernelspec": {
   "display_name": "Python 3 (ipykernel)",
   "language": "python",
   "name": "python3"
  },
  "language_info": {
   "codemirror_mode": {
    "name": "ipython",
    "version": 3
   },
   "file_extension": ".py",
   "mimetype": "text/x-python",
   "name": "python",
   "nbconvert_exporter": "python",
   "pygments_lexer": "ipython3",
   "version": "3.12.3"
  }
 },
 "nbformat": 4,
 "nbformat_minor": 5
}
