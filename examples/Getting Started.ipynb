{
 "cells": [
  {
   "cell_type": "code",
   "execution_count": 2,
   "id": "4d39d0b5-5fe4-4bb9-8e55-83f5deb7f471",
   "metadata": {},
   "outputs": [],
   "source": [
    "from vega_datasets import data # Load vega_datasets\n",
    "import persist_ext as PR # Load Persist Extension\n",
    "\n",
    "cars_df = data.cars() # Get the cars dataset as Pandas dataframe\n",
    "\n",
    "PR.PersistTable(cars_df) # Display cars dataset as a "
   ]
  }
 ],
 "metadata": {
  "__persist_keys_record": [
   "__GENERATED_DATAFRAMES__",
   "__persist_nb_uuid__",
   "trrack_graph"
  ],
  "__persist_nb_uuid__": "71bbd9f0-dd59-46c9-9e0f-7194b6f50588",
  "kernelspec": {
   "display_name": "Python 3 (ipykernel)",
   "language": "python",
   "name": "python3"
  },
  "language_info": {
   "codemirror_mode": {
    "name": "ipython",
    "version": 3
   },
   "file_extension": ".py",
   "mimetype": "text/x-python",
   "name": "python",
   "nbconvert_exporter": "python",
   "pygments_lexer": "ipython3",
   "version": "3.12.3"
  }
 },
 "nbformat": 4,
 "nbformat_minor": 5
}
