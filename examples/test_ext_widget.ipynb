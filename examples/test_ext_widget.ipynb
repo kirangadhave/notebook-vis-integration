{
 "cells": [
  {
   "cell_type": "code",
   "execution_count": 1,
   "id": "2594b5d1-f285-46e7-bb20-55c0d04f9037",
   "metadata": {
    "trrack_graph": "໢尭䲠 "
   },
   "outputs": [],
   "source": [
    "from vega_datasets import data\n",
    "import persist_ext as PR\n",
    "import altair as alt"
   ]
  },
  {
   "cell_type": "code",
   "execution_count": 2,
   "id": "b7eb00ef-ddc2-4848-a747-97049cfac0f8",
   "metadata": {
    "__GENERATED_DATAFRAMES__": "ᯡࡀ䐫䨢こȔϐრ嬢䳎ࠣℬŝ⧀ዠㆴ㡰΀᧣㸡ᰧ壐ס⥓㎠⌬ἠᘠ⌠㘠丠娠♞<祲䉵թࠬ杆ᕀᖷ㹤绞牑昄䘁݀଄擣ेሶᠸ岚₧琺ᥖⅩ⫆哶樈ಭ㩆㌫ᗉৣӢ䝇㊰墰瑰⡗ᬯ䟡䆰ᣨ僄,୒僙Ჭ⅁厡䥩戅簠瘹Ⴘ䌬⹱዗㈰<塾爧ਜ਼ଠఀױ倁䀰䑨⡸∩ಜ˜⋕⿀⣁汬᭦ࡋΣ毠ᘷ୩攵䫊畍ໞ僸檎㓗揧⚲ᒺ↶搶ᦰ  ",
    "trrack_graph": "ᯡ࠽䈌ʀ匦㢠⹰ڀ⌴栫fǐԀୠভ<犪捶⊐ೠᣯᄢ壿ၧ㒺䔙ไ倡ᙰ䡣劅摊Ⅺ嚽⌶皽峺簔ठ͢&怰掦ὤ䁅ШN嵀〡岁䋼℩㎎榠֨终G㎲;∥䎂䂰8⑬ق㒅ჺ䊧䊂Ꮂడ汉崌孚⼭䮴憡\"甕窮卄㑾䦨ᢍㆢ䀣擠䢈䊌社ƭڭࢂ恑琡㙐正エწणốࡡ㬰ⅵြᖠ᫢㢀෽ѴƜ窧ᖴ↳᫡Ǖ宦⾷ၡ嘠传Ϋ搧挤旺㸰ࢥ提Ღᦵ猰④త䔀䡉ቧũぬጮ䁀ᡈन䅣䤈㙤䋡灐Ḻ၁氿㟢⊈恍㥴犅琱ᑶឪዩ⩽ᓨ犙๰冀䩗௴✱峌䱮ၩቹ㝃ዪ牤㹰⹊䬅㕸揉崆ˠݑ䀠ɘᓯ磌正∤瀤Z᷎旊䆎ࡕ倨漆坱嘓籡㫬ᑐᣱวۨᡉᬦ̃⡸㑣ᄭば㋉ᑤ恈ጧڨڵẳ瑛᳎⒣ۣ烤ᤲ䚬椔㌵䄁㡜ἠ∲᫭⭣坸稤Ὠ侤᣹ಒ㚺曏˩ㆊ嚞囧ィ皧㇡睛昡ᗽ濚㚚ᰬ↠Âᐪڏ嵠⠤ʓ栠坐ऒ㡎伦⺍┝㨋ߦѣⅰȩ硨䅯䣦⧹ဏŀ㸂縔⨃硭൫㡠㧮絟ᮭ綟ۂ 瀽Ԕ㡎ʞ࣡Ⓚᐠ憨㽭䥸ʄ惸㴥pฤ⇩㑭ࡨ䤨ෂᔻʔ㰱ᄬ㸿籺‶炠嘱ˠ傺硆᫭㇜/务㞦捡⌾ˡ夡Ʃ璝ৱ牶@౺ղ橦䢀ᨿ぀瑺䭘灨ĝᲗ৭㲐ଡش昳ႉ嗘ဠ⎂ᱻ䌃才䢳䁳枒⢀䦘ⅈݜ∡ゐ∬!溲ⴣ塈ُ磋唡☂䐣ॎ੩䧍௦硃孱 Ϫ䦜ᾫ㫡ⶤᛎႳ♉敏⟉䵛➄嵍ⓕ䍍̹卞䑴㎰㖚羰ଢ᜼拆प⌶夬塈娪壈嫽⊈䛭䐸媲ীנᤦწᯐ䣸䃰壾䈖䓻ፆ䌵ᯆ䳡䇬桻昦惴ᮦ⏚᪽磢畽ᯃᦆ䵤扢ဠƩ籷Ⲋ島梊⊸Őၝईଷ⌡嵻乘૟࠳ȭ佐䳽潧ࢎàቌ௠ᖒ༩ࢌҳ㡼䛢睪◒獿⁺▖⍉㥌ڰᕞⳈՂ䱉羆潪孮䷲窒ѩ炒Ǡ䨡捑昱掁䝕䊛㙝䂑๋憑ᜱඒ湵椒㜽柘ෙ䦘ṓ憛ྙ滛ṛ慴⑧洚ヷ懑㲰б䓇ϧ紞ᠵɯᦄჯ㬭ⴴᚧ碧ᔄⳋᢥ䎿㠅碰D⅁ᬼ䏄ቊ縄爦᷷㶥⛐㊭Ϙ稼羌璿僿ሠ䊩à攔擄⣒۠棅်㉖綱࠻䔣灌伨䡸੼䎿ᎿÈɁɔ㫌றᦆ佻ઑ㙟䀩ķ⅔偉呸摲潀⭅ൺ呚懀ᮍØ橇न䠽垬倢㑡ল㙮㈪ㅧ⧚杬ᦧ妶ಛ礝俺䅿劢⧇竳↧匴ӄ⫚䘠ڢව䏲ⵕ出ව㩇ʔာ䛈戈ᣧ槑忱ᡒ㏩ྒྷ⨪ጆ☣渤Ρ偊䵃ᨤ䡁̉᜶晴Ꮼ氻婏ₔᆪᡮ乓亲び㗳♟埚憀撍乍ᶲⱨᲣ≖ǀᬧ䭁攠▌夈榍櫺㥕互㘮欋㻓展ー堢㜛二㛭㡠ᴐⶡ䗻ⲵp᎐枈ȥ朙䇫砳䉙泟९ഗ悬眑଄ᘼ᠌⧴؇䗫ႈ碤爰侞ტ嬆乘ⵤ栠䁰Ⴋ栮²㔡怮⇠㘤剤áᆭ¢瓙଴屮礻ᜩ崇⻱ᝑ奢◄噫櫑ᣫ₁䙮偒劋勤䧴ള␸ťረ搹ㅭౖڊ梮㌌☃畆嵃䕛⏐⫄䒢䅓➒㪿ᠭᛒ䁠ᵖホ巍䖠⑰䢈厪ӄ䨹⚵ሣᑄෆ狍熚ᅲ͒台ᜲu⋝兎嘄岅塏╬暲లع纶ᤳᅓ穾⒆≃晠棏M粏ĺฎ᪳✁卯㴄᳒ᑂ棶ᪧ噍Ȱ䰉婨à㭤䉉䲦梩≰媁僚เર⑊⋣ࢼ⣥Ꭻ楹̖ፈᑴ䛁⠎攬ᗫ䱊厙⻡ీᡨ$ఁ⇀梵㔔笥䅨挀⣽槱䯲㇏凋㍗普အ੤绀匝梭糠♑㿄ԟ⒭஖悶≠刃ᶡ⩑ⴶ᥻炖䕮ം死㑼旦㛺ᚃ宷㥌㘃汶懸疫ᱧ࿪垫禎ᘥṌ峝屚ቪ㢼绩曤璉筈犬䓓姇挓㕚ௐ⟧⡭碨䯮ᩢ槾⠋目寫䅅⮲⓷ᶓ㡱䟂栴愁䂸⠿ᐞ៙灞ਂ㹂౽技Ȩよ俓揧孂☠䫍䋖䠢⪠Ȱ⬌᳟८㩥ᆂ櫺ᶫ娄⒃䡖ς嬕൭痥䋭၅䡫獲妴ᒶ俊桿㕦勤ˠ晩癶y磃笆儘䥩磍㨒㙿䕜¢昢婣䋂䋥⶷梇ᕐ佋ン䈠  "
   },
   "outputs": [
    {
     "data": {
      "application/vnd.jupyter.widget-view+json": {
       "model_id": "3747a73ea4a642928cb6dee79518d311",
       "version_major": 2,
       "version_minor": 0
      },
      "text/plain": [
       "OutputWithTrrackWidget(body_widget=VegaLiteChartWidget(debounce_wait=250.0, df_columns=['date', 'precipitation…"
      ]
     },
     "execution_count": 2,
     "metadata": {},
     "output_type": "execute_result"
    }
   ],
   "source": [
    "source = data.seattle_weather()\n",
    "brush = alt.selection_interval(name=\"selector\", encodings=['x'])\n",
    "\n",
    "bars = alt.Chart().mark_bar().encode(\n",
    "    x='month(date):O',\n",
    "    y='mean(precipitation):Q',\n",
    "    opacity=alt.condition(brush, alt.OpacityValue(1), alt.OpacityValue(0.7)),\n",
    ").add_params(\n",
    "    brush\n",
    ")\n",
    "\n",
    "line = alt.Chart().mark_rule(color='firebrick').encode(\n",
    "    y='mean(precipitation):Q',\n",
    "    size=alt.SizeValue(3)\n",
    ").transform_filter(\n",
    "    brush\n",
    ")\n",
    "\n",
    "vis = PR.vis.TrrackableChart(alt.layer(bars, line, data=source))\n",
    "vis"
   ]
  },
  {
   "cell_type": "code",
   "execution_count": 7,
   "id": "ec8d222a-07ac-4ace-be38-b0330ca01adf",
   "metadata": {
    "trrack_graph": "ᯡ࠽䈌ʀ匦㢠⹰ˠᆬ͐ᶻː΀ୠঠㆡƸ䓀β䂼⎈嵺岆欹ᕑⶲ⠠䭈⑁棒爵ᖃ⽩䖵ᆖ沽嶛碠ǁ#〨ル噀ॢȠ௖䠸ᢀ地䆼廖•摗⨠Ꭳ删᭠௃嗳壣ര,ᵒ㿞䋦Ԡ޳ŀĸЬ氢㘣£ᥧ䛡℈ƌ〶絡࡞䰲൱㈰䏆ၢ㪈猠㗙㽷淴ศ̘瘛䶸絒֢ᷔሧʉ䋴ⰡḠޅ珇䘬䷾墢ਜ਼ⶍ穱慱㏅ഺᦣì焱➲㒥ቇ䍞婈䁢䅇獤⑔¥µ噕历Ꮴつ妌ᯣ⌰៮ㅙ戬ܯ䌱摅ຨ捑㈵൫墈ɘ䀪瘓糧㎢⃧⓸男ࡰ़᜸䰀ӣဠ "
   },
   "outputs": [
    {
     "data": {
      "text/html": [
       "<div>\n",
       "<style scoped>\n",
       "    .dataframe tbody tr th:only-of-type {\n",
       "        vertical-align: middle;\n",
       "    }\n",
       "\n",
       "    .dataframe tbody tr th {\n",
       "        vertical-align: top;\n",
       "    }\n",
       "\n",
       "    .dataframe thead th {\n",
       "        text-align: right;\n",
       "    }\n",
       "</style>\n",
       "<table border=\"1\" class=\"dataframe\">\n",
       "  <thead>\n",
       "    <tr style=\"text-align: right;\">\n",
       "      <th></th>\n",
       "      <th>date</th>\n",
       "      <th>precipitation</th>\n",
       "      <th>temp_max</th>\n",
       "      <th>temp_min</th>\n",
       "      <th>wind</th>\n",
       "      <th>weather</th>\n",
       "      <th>__annotations</th>\n",
       "    </tr>\n",
       "  </thead>\n",
       "  <tbody>\n",
       "    <tr>\n",
       "      <th>0</th>\n",
       "      <td>2012-01-01</td>\n",
       "      <td>0.0</td>\n",
       "      <td>12.8</td>\n",
       "      <td>5.0</td>\n",
       "      <td>4.7</td>\n",
       "      <td>drizzle</td>\n",
       "      <td>No Annotation</td>\n",
       "    </tr>\n",
       "    <tr>\n",
       "      <th>1</th>\n",
       "      <td>2012-01-02</td>\n",
       "      <td>10.9</td>\n",
       "      <td>10.6</td>\n",
       "      <td>2.8</td>\n",
       "      <td>4.5</td>\n",
       "      <td>rain</td>\n",
       "      <td>No Annotation</td>\n",
       "    </tr>\n",
       "    <tr>\n",
       "      <th>2</th>\n",
       "      <td>2012-01-03</td>\n",
       "      <td>0.8</td>\n",
       "      <td>11.7</td>\n",
       "      <td>7.2</td>\n",
       "      <td>2.3</td>\n",
       "      <td>rain</td>\n",
       "      <td>No Annotation</td>\n",
       "    </tr>\n",
       "    <tr>\n",
       "      <th>3</th>\n",
       "      <td>2012-01-04</td>\n",
       "      <td>20.3</td>\n",
       "      <td>12.2</td>\n",
       "      <td>5.6</td>\n",
       "      <td>4.7</td>\n",
       "      <td>rain</td>\n",
       "      <td>No Annotation</td>\n",
       "    </tr>\n",
       "    <tr>\n",
       "      <th>4</th>\n",
       "      <td>2012-01-05</td>\n",
       "      <td>1.3</td>\n",
       "      <td>8.9</td>\n",
       "      <td>2.8</td>\n",
       "      <td>6.1</td>\n",
       "      <td>rain</td>\n",
       "      <td>No Annotation</td>\n",
       "    </tr>\n",
       "    <tr>\n",
       "      <th>...</th>\n",
       "      <td>...</td>\n",
       "      <td>...</td>\n",
       "      <td>...</td>\n",
       "      <td>...</td>\n",
       "      <td>...</td>\n",
       "      <td>...</td>\n",
       "      <td>...</td>\n",
       "    </tr>\n",
       "    <tr>\n",
       "      <th>1092</th>\n",
       "      <td>2015-12-27</td>\n",
       "      <td>8.6</td>\n",
       "      <td>4.4</td>\n",
       "      <td>1.7</td>\n",
       "      <td>2.9</td>\n",
       "      <td>fog</td>\n",
       "      <td>21-10-23 (01:20) - ABC</td>\n",
       "    </tr>\n",
       "    <tr>\n",
       "      <th>1093</th>\n",
       "      <td>2015-12-28</td>\n",
       "      <td>1.5</td>\n",
       "      <td>5.0</td>\n",
       "      <td>1.7</td>\n",
       "      <td>1.3</td>\n",
       "      <td>fog</td>\n",
       "      <td>21-10-23 (01:20) - ABC</td>\n",
       "    </tr>\n",
       "    <tr>\n",
       "      <th>1094</th>\n",
       "      <td>2015-12-29</td>\n",
       "      <td>0.0</td>\n",
       "      <td>7.2</td>\n",
       "      <td>0.6</td>\n",
       "      <td>2.6</td>\n",
       "      <td>fog</td>\n",
       "      <td>21-10-23 (01:20) - ABC</td>\n",
       "    </tr>\n",
       "    <tr>\n",
       "      <th>1095</th>\n",
       "      <td>2015-12-30</td>\n",
       "      <td>0.0</td>\n",
       "      <td>5.6</td>\n",
       "      <td>-1.0</td>\n",
       "      <td>3.4</td>\n",
       "      <td>sun</td>\n",
       "      <td>21-10-23 (01:20) - ABC</td>\n",
       "    </tr>\n",
       "    <tr>\n",
       "      <th>1096</th>\n",
       "      <td>2015-12-31</td>\n",
       "      <td>0.0</td>\n",
       "      <td>5.6</td>\n",
       "      <td>-2.1</td>\n",
       "      <td>3.5</td>\n",
       "      <td>sun</td>\n",
       "      <td>21-10-23 (01:20) - ABC</td>\n",
       "    </tr>\n",
       "  </tbody>\n",
       "</table>\n",
       "<p>1097 rows × 7 columns</p>\n",
       "</div>"
      ],
      "text/plain": [
       "           date  precipitation  temp_max  temp_min  wind  weather  \\\n",
       "0    2012-01-01            0.0      12.8       5.0   4.7  drizzle   \n",
       "1    2012-01-02           10.9      10.6       2.8   4.5     rain   \n",
       "2    2012-01-03            0.8      11.7       7.2   2.3     rain   \n",
       "3    2012-01-04           20.3      12.2       5.6   4.7     rain   \n",
       "4    2012-01-05            1.3       8.9       2.8   6.1     rain   \n",
       "...         ...            ...       ...       ...   ...      ...   \n",
       "1092 2015-12-27            8.6       4.4       1.7   2.9      fog   \n",
       "1093 2015-12-28            1.5       5.0       1.7   1.3      fog   \n",
       "1094 2015-12-29            0.0       7.2       0.6   2.6      fog   \n",
       "1095 2015-12-30            0.0       5.6      -1.0   3.4      sun   \n",
       "1096 2015-12-31            0.0       5.6      -2.1   3.5      sun   \n",
       "\n",
       "               __annotations  \n",
       "0              No Annotation  \n",
       "1              No Annotation  \n",
       "2              No Annotation  \n",
       "3              No Annotation  \n",
       "4              No Annotation  \n",
       "...                      ...  \n",
       "1092  21-10-23 (01:20) - ABC  \n",
       "1093  21-10-23 (01:20) - ABC  \n",
       "1094  21-10-23 (01:20) - ABC  \n",
       "1095  21-10-23 (01:20) - ABC  \n",
       "1096  21-10-23 (01:20) - ABC  \n",
       "\n",
       "[1097 rows x 7 columns]"
      ]
     },
     "execution_count": 7,
     "metadata": {},
     "output_type": "execute_result"
    }
   ],
   "source": [
    "PR.df.get(\"A_dyn\")"
   ]
  },
  {
   "cell_type": "code",
   "execution_count": null,
   "id": "feafc152-42f2-493e-ab32-fe6aef1ae1ed",
   "metadata": {
    "trrack_graph": "ᯡ࠽䈌ʀ匦㢠⹰Ǡᆪހᦠ㌡堠〫 䁋ٽ䐢慿㻥埪૦থ݈倱䩠ㆠ❞ተ¶⡨⇱㈂ፉ⵮䆳ୖ滼紤䒠ǁ#〨㍣࢚′䈤7㺰ᠠ湐戎Ⴆ寐灀˼リ$疒‣㐡㨦䎇㦲Ⴀ恂๕壡‡犀⑾㸰匫੭䝆ᚳ瀬Ö᡻ㆸ䐸昩ۍ宨⃓ࢱ͔ච᫼岄༏ѤƜܝ曼ㆠ囡໵ण䅔憋㘠传ϒ揯挠ᜏⱣ䓼๮挫㈨ቺ⊮⛥ᜑ↵㱳娼Ⴓᡤ乥қ⊲炤ℭͦⰬ㗆浂⒀ᓒ汓䍦ူ⎇㢄మa၈⩍ཤㆸ噛ৢ樘慈䢰ż䄰夁狩梥଼匂樢㍩掉⒰ᢄ  "
   },
   "outputs": [],
   "source": [
    "vis.header_widget.ge"
   ]
  },
  {
   "cell_type": "code",
   "execution_count": null,
   "id": "72e2fda1-daad-448f-bec1-f698b48ccd52",
   "metadata": {
    "trrack_graph": "ᯡ࠽䈌ʀ匦㢠⹰ڀ↡ధ〳䊡堦〫Ⅰᆠ捍䐢捥૤熥熄〣䙴ภ㈲䎠ᖣैkᑄᄉ夑઴囇⃩䖬᭮溜Φ䐡傠Ǔ⍃Қ′䈤7ࡣᠠ湐戎Ⴆ寐爢䀥屨攠ʕ㥀ǔÚ䍃㏙䤷䢁┫⋸惀Ēいٞܫ$懁吃烐ᠸ䉣M䘶暦ᄣ↢∋㜂ࢌ戴レ䎀ۖ嗃Кᆱ⇐緝ūて睤䄀浐䛻G䀡曑砑䁳竖ᄂ㜿Ꮊ˹ȩᚲ䈰焩㱢紂╰垶䚨℃㇁Ъ戡⡡঒హ௠䎘὆揖䦲ᡊ⛗౱䦨ఱ姼᥆஠ၨ爵ؕ⦸噛ס爘䄨䐀倠垀呆㢙㉼Ⅰ❉瑦ұ决婪⽢ά䀠 "
   },
   "outputs": [],
   "source": [
    "PR.Out().clear_logs()\n",
    "PR.Out().show_logs()"
   ]
  },
  {
   "cell_type": "code",
   "execution_count": null,
   "id": "4bad6f96-60a4-4a27-9c15-1fdad2109d72",
   "metadata": {
    "__GENERATED_DATAFRAMES__": "ᯡࡓ䁼ࢁӐㆠ≒䂆ř⁻Ŭ愠⺀̘ǁ)䁯氶⴦洔፠圠㚿ਠ ",
    "trrack_graph": "ᯡ࠽䈌ʀ匦㢠⹰໣Ÿ栻,͐׀ಀ֤䂼ɨ࣯䂡ء䱨Ҁ㪸坼侙ୱ㉪2攩к☸岥⑉⫴ኊ滫䞿㨡⅀†済壤ᲰӁĠ׿␬W౐㮨⃎濺အ㔸㔠ʑ㥀ǔ₼F㴶Ꮃ䆬⒪ᅡ⨃栤ᚊ㕝«ޮ䒬䓂㧩ᇐ稰N䃰攆㉡怹ণ瑖ᡈ\\䰩൥䐂恳獘夈ሣM䘦慼䄧冢⇆㛂ࢎ扈㫄˭〦宯椢㮁䪠⾡䄙㣯≁塃坖火ᠱ࠭䀳怠皟㬘您㬿д▓沮㴼斻䒲ḥ䇢ᡐܥऍᔫۂ∬㤾䇢牄⑤䅠炱ଫʢㄖ㯫璳ᩐ⭹煚ᤦᑦᎨቤብᅁ刹ᙧᏨ੥६叄幰箥䶨礼牵ၪ㋹⹿ᑋૅ㥾晒䰰䞾〣䲀!ฦ㈝䭵䃱͙Ġຶ濑橀箸ஊ˷᧛劉簡ね㜪㡰㤵䉀傌फ͡⡥♜䝠悸朰䦃䢬㔳䝣冼ᕠ愘๎᮪⃣ゔʲ䇁棊ᬣ䜂礜₸⊈媍❭㘋窣⸧۰♳೴޺ᛍ૷泻㘰Ỡ牛溇ᳰᓙ嶗۠掣䑐4⣧䊎㯈Ԡ䆮̠ଆ̏䞉爏ⓜ唏䐣䳹㹰㰶ઠု剬࢝䘴㻫㴙ሠẪ硞䌠签捶僼ာ獞埽揞俹玆嚷篘㿪࠸へݾ∯ΰ⠧İ∲䊖๪䏰ᐨ䀰擱䏄㰲ᏆⰦ̲硥䂰䡏⍡䤾䅠ऱӸ摄Ȟౄԡ慖〠न࠳ൠ‣岀⁦ৈⴹ堠ⳟ䞠^䰄к‧஢䌵ㆤ婚检䶱戸!␪ᶇ惇噰ŅⒸେ撾䭤ౕ᭱恍ὅ璣ᒆဳአ乳䓨㤗פ碻撧罐ར☱ᨤ䴻䥅墨坓㤏欴僧䥄Ⴐч㹰䨡ཱྺᱱ̠播ᤳ汦մȥ樠᫓Ń屇ᵄ⁙჆㶞潳尠ȉ╞㘊已䠪樢⒥獔皿猬↱瑠⾯毕ᯢᯉ㮮᭢稾Ѡ䌄卂Ậ୮᧹甞C㊌֣ĸ⒭Ⴋ㲦Ⅻ㊠憸▁傋㚧⳸冧⡁㔭ḝ₂憣⢎ಀ⒂䇃ⲏള㊊䷳⪆ᗺ䑠ಣࢆ䑃㹃݈屐″࢈䛳ځ呬ó哠㻄㑲篁㓍ⷍ㘍㎨瑠㏏ዽᄍ烝ၢ৶᛬ᡨ⌣恲㔢䁅唨揃⸾䧥䨫䁸ভ⃀⌧⭖຃瘓Ⓠ旲೅撙ˏ斵჆啥·Ⓕᝣ椚˞沐ᅂ䇛㓢稛ⶨᴢ挅妖㻨㥯㧫ᵤᗥ帗ࠬ嶀㬉嶎௢㸎∌㴗ᔄ岾☊᭄⸏㴖䑂⩠ఉ拒漿挟Ṽट㔤䩾ᥱ⫊䵷⨬ᓵƺ擸櫱杲珚宷樶╜ᨬ‽婆䎓᯴便ᰔ拴㋛堩♖徖丧滸Ⱆ簨又㨧儈塾掓䰹䯂倏粪悵㏎怉ያ䖞ፄ坳檚ᬙ牧澳叧勴䄈硳怓缓䨤创᭧徱㽵䃞ⴊጏ淜秲ᐫ䙉磁筏 㝷ᐨဴ庸➝株՟嘨峜அⰩ⅔ᕡ兂ÔຠѯôŹ′Ⴐᐦ慢㟀㈸♘ס䰩ᅂ༣੄ઌ⿧籠⚔寏㬎क㈸塾䥣䬧毈㖂栽ذ槫⣮ĩᄺ㡸ࡸ䗚ƫӑ儉㓂妎怲棍䫵ⴊ刱冺䐬ڪ棩ㅀ崾ℚὌ䙓ၬ㲹㕅䈊⇃ų∼ڏቬ括禲⁙嗰湗᪚㾣玁摢ⶉ၀榬ყೃἹ捁ᡃઅጴブ穬汖曹搯Ǳቂ穓嬖᳠ⲗ㞔儊ᴃ䠌䧦㤇љ掸㣎⒕᪍愠夅癧䧳✹ᱏᚃ箬ڇ⨪㹌௾㰴⹅挠羮岨㰂䪸ε⒤喊嗊竂湭摜ᵺ緻圙➯㪍ᣴ༶瘾潄縫⬝筝㔮㉠盙䭏̇ၦ䉉⸁䩱⅒灓֯嫫ᴹ筀泪ᔷ䑡༏㉯ᄜ杌㰢䶁੧穠磬ᝯ䤢㿯缇ᐢ怦㍏䘴₎篜䉉⅃瘥ề䗀Ḑ体́⸫⸡⠿Į䕠⾐╅拃ऱఠ䅛༡㥉ጂ०屢ㅤƮ桃Ǩᔱ㶘⬈ѽ桝ↅइ呰㋢偲ᕹᨶ妔ŤƲȀፁ`䛐糢ᆒౡ扞⯾䵡ᖗ槨瞠Ṡ䆩眡㇢橌ن挌⇦౮ŋ㎫⭨ሠ  "
   },
   "outputs": [],
   "source": [
    "# source = data.cars()\n",
    "\n",
    "# brush = alt.selection_point(name=\"selector\", encodings=[\"x\", \"y\"])\n",
    "\n",
    "# points = alt.Chart(source).mark_point().encode(\n",
    "#     x='Horsepower:Q',\n",
    "#     y='Miles_per_Gallon:Q',\n",
    "#     opacity=alt.condition(brush, alt.value(1), alt.value(0.3))\n",
    "# ).add_params(\n",
    "#     brush\n",
    "# )\n",
    "\n",
    "# bars = alt.Chart(source).mark_bar().encode(\n",
    "#     y='Origin:N',\n",
    "#     color='Origin:N',\n",
    "#     x='count(Origin):Q'\n",
    "# ).transform_filter(\n",
    "#     brush\n",
    "# )\n",
    "\n",
    "# vis2 = PR.vis.TrrackableChart(points & bars)\n",
    "# vis2"
   ]
  },
  {
   "cell_type": "code",
   "execution_count": null,
   "id": "cde89602-e6a6-497f-b042-82e1fcaffc75",
   "metadata": {
    "trrack_graph": "ᯡ࠽䈌ʀ匦㢠⹰ڀ⬠䱰怼͑‶䆠ᘡ䘡യ၃પP΁桠䍕榳✲㣥䒴E䨲࢔Ⳙ֫䥵埌櫣䮯ἡㄠ㑀汈意ࠤ傡%戻☠ᮬᡫ䑁♍ⲣအ㘳唠৾椠ව׶椊洬䠬浒㾻᳦Ԡ޳ŀ梸¼ᙩƦ䳪⍦栢沁暌ℰᬸሢ庌Ⴅ♀䏔ᒆॻ៣吼ࠥ箈稺⢌㊓ȫ㑄ܯ⦢垸Ŝ.ׇ➬ಣ勑ذ㧘泸䛨ၱ㢦✫ư⏤ሀ惰䳴సځ܄䕠惣ゅℒ㉅ԓ㦶㗘䬱䈂֠欪ౠ弹䤀䥐汞ѥᅈ橗ࣁㇸ为෥爘䄬‥㬙縣䧩ᇂ㉬㹣䘱౜╨◈ⓑ  "
   },
   "outputs": [],
   "source": [
    "# import sys\n",
    "# from sys import getsizeof\n",
    "# import pandas as pd\n",
    "# from vega_datasets import data\n",
    "\n",
    "# source = data.cars()\n",
    "\n",
    "# def mul_and_compare_size(df, n=1, c=1):\n",
    "#     compression = [\"snappy\", \"gzip\", \"brotli\", \"lz4\", \"zstd\", None]\n",
    "\n",
    "#     df = df.copy(deep=True)\n",
    "#     ddf = pd.concat([df]*c, axis=1)\n",
    "#     ddf.columns = [f\"{x}_{i}\" for i, x in enumerate(ddf.columns)]\n",
    "#     ddf = pd.concat([ddf.sample(frac=1)]*n)\n",
    "#     orig_size = getsizeof(ddf)\n",
    "        \n",
    "#     print(f\"---- size for shape{ddf.shape} = {round(orig_size/1000000)}mb ({orig_size} bytes) ------\")\n",
    "#     for c in compression:\n",
    "#         s = ddf.to_parquet(compression=c)\n",
    "#         s = getsizeof(s)\n",
    "#         print()\n",
    "#         print(\"Compression style:\", \"None\" if c is None else c)\n",
    "#         print(f\"Size: {s}b\")\n",
    "#         print(f\"Size: {round(s/1000)}kb\")\n",
    "#         print(f\"Size: {round(s/1000000)}mb\")\n",
    "#         print(\"% compressed:\", f\"{round(((orig_size-s)/ orig_size)*100, 2)}% \") \n",
    "#         print()\n",
    "#         print(\"####\")\n",
    "   \n",
    "\n",
    "# mul_and_compare_size(source, 50, 2)"
   ]
  },
  {
   "cell_type": "code",
   "execution_count": null,
   "id": "1d32218c-9f53-4386-83ef-06520c7da8b6",
   "metadata": {
    "trrack_graph": "ᯡ࠽䈌ʀ匦㢠⹲恮ƬʀჳP׀˥ੵ䐬憠ᆡ氣ㄳÈƺ廠⌠຋囔⫻䥈kᑄႈ妒ࢳᓃ❱妻ܾ㸢䉠ð䀡宆冯奀ॢȠ௎䠸ᢀ㜰䁾州䀢機⨠Ꮃ䤠ව׳氈ᱬ䢘㶔ₖ૦Ԡ޳ł㨉⠠皎ᅞᮢ佯┃栢沀囸ᄰ㘸ሪ喊Ⴇ♁䌕咶ᦖΎ刺ࠥ稉窺ᴈ⬤ᮘ␮ࣳǊ堢㰠ຫ垏ౚ௕ㄪᚕ寻ㅭ䡀煩㙋ጣය攀ኑ瀡⳹扈ጡ᮹羠⛩䁱Ⲍ䢡⅝伦ᛢ寍ኘ䘨䩌䍤⒂Йᘷ੣㡿幮₢䨦ᐆ冑㲞ၬᇤw㾰ᑚ峲㙎╁煴ⴰ䵳塄暼䤡٠  "
   },
   "outputs": [],
   "source": []
  },
  {
   "cell_type": "code",
   "execution_count": null,
   "id": "d493cf03-6c94-45a6-a45b-866515d04e68",
   "metadata": {
    "trrack_graph": "ᯡ࠽䈌ʀ匦㢠⹰ૠጬҀƠ捬ڀ୩䔠ⳙୀ䄌Ĭ䐤㍛ᩤ栳䀹䙦ǒ玁哠Ǩ撴E䨲࢔ⲙѫ䩶埄拭厯㽡憂†桠ù橑䅛ဩ™+䣨ఠ㜸クࡢ汚㷠Ɖᅒ䀡᷼䠠洠⻑䓵榄䛦ᬁ䌉癐⠠㲸ळߡ懁঳䢈ш亃M䘾条ᄣ冢↋皲࠼扔㣱䞀۔嗰䎛ᅱ㇀痋䝫䟐⊔扠灍ᢚ綠ᏠĊ嬐Ӣ熛ᬰ䤯Ꭻ亪沢ڵ䣲㤈Ჸ尸ᄪᜣ䔥⍃ኁࡤ墿㘤⛡桔ᜮ煡灂Ꭳ㛺摉భᕺ䙈磤ĩ沾Უǣ烤⤢䋂栬㌵䞃㣜¨┳䓩5戳ծ⽜䮪⠩啑ᇃᏔ䩾䍩Ŧ† "
   },
   "outputs": [],
   "source": [
    "# import sys\n",
    "# from sys import getsizeof\n",
    "# import string\n",
    "# import random\n",
    "\n",
    "\n",
    "# def gen_and_compare_size(n=1):\n",
    "#     compression = [\"snappy\", \"gzip\", \"brotli\", \"lz4\", \"zstd\", None]\n",
    "\n",
    "#     # using random.choices()\n",
    "#     # generating random strings\n",
    "#     res = ''.join(random.choices(string.ascii_uppercase +\n",
    "#                                  string.digits, k=n))\n",
    "#     orig_size = getsizeof(res)\n",
    "        \n",
    "#     print(f\"---- size of string with length {len(res)} = {round(orig_size/1000000)}mb ({orig_size} bytes) ------\")\n",
    "#     for c in compression:\n",
    "#         s = compress(res)\n",
    "#         s = getsizeof(s)\n",
    "#         print()\n",
    "#         print(\"Compression style:\", \"None\" if c is None else c)\n",
    "#         print(f\"Size: {s}b\")\n",
    "#         print(f\"Size: {round(s/1000)}kb\")\n",
    "#         print(f\"Size: {round(s/1000000)}mb\")\n",
    "#         print(\"% compressed:\", f\"{round(((orig_size-s)/ orig_size)*100, 2)}% \") \n",
    "#         print()\n",
    "#         print(\"####\")\n",
    "   \n",
    "\n",
    "# gen_and_compare_size(source, 5)"
   ]
  },
  {
   "cell_type": "code",
   "execution_count": null,
   "id": "852eb879-de7f-4ef6-abc8-8a3cd9529f7c",
   "metadata": {
    "trrack_graph": "ᯡ࠽䈌ʀ匦㢠⹰Ҁ✠氧ㅫɐୠᖭढನˣჂダ㌱఩ၑ䆠暈਑၄䨠ዪन㪌崔效槶ኊ滳䟟⃾慀†汈僤᪰ӁĠ׿␬W౐㮨⃎濺瀡㌸㔠ʑ㥀ǔÚͣᎹ䤠䂅昨僸惀ĒいḦഫí⃡Ⴓ⠨棴̠ⶬۢ䩂Ãɠ檌戰䳤ѡ䔺怭ト判竣愠弣ë㞢䗣だ癤䄁䵐㪻G䀡拞瘑䆐穖ႂ垛⎥᳹ȡኲ憁偈梘⸸⤷പͭ⛃扑桟Ȥԫ؂滢༾杹㙲≦٨噃Ɍㄢ˶ᮺⓠ焘ㄡ⋂椔⪭䄃㢜¨ℰሠ⯀ⰱ᷼᥆὇ᆑ敃೤ቔኖ䯁ಠ  "
   },
   "outputs": [],
   "source": []
  },
  {
   "cell_type": "code",
   "execution_count": null,
   "id": "bb068791-889b-4a0b-856b-867c6092d059",
   "metadata": {
    "trrack_graph": "ᯡ࠽䈌ʀ匦㢠⹰ೠ⬠氢〸恮ᘠ㠥包Sㄠ壗Ⱡ⌡آᣖၛሒᨈ⍦嗹瀠ㅅ)㊤䈽᭞ᅲᰵ喉偑㎉混忀䢰Tဠ㚭璃ཨɰ䂠̈㈦;䘸Ϥၗ眼瀠宫ೀn㝄V䀷⒌㆐奃Ҭ㣁䙛ఴ>☤䚁珒ࣈᠸ瘾ᨪ࣠ஃϔㆨ䄸悰᫛㢤᭑Դ㟅堣ⱋೡẨ摠៨恒潄㄁氰ᷱၘ㍬໎怩瀠㣎㸜じậ䑘己洈擖₢◅汢䙜㌮ظ䚯䊦共⦹䒤ᢆ㰐䡦स癙ஓ↤᱁इⳖ楒⌥⑶ᆪᙑƢ嬧䍄憐ȩ٤傈㨳ૠ烘ḿB।⒠ଌત❯ᙫ䑈ҵᢱ决婪⽪Ⴌ䀠 "
   },
   "outputs": [],
   "source": []
  },
  {
   "cell_type": "code",
   "execution_count": null,
   "id": "f537cc24-65f8-4575-a9df-4c35b006116f",
   "metadata": {
    "trrack_graph": "ᯡ࠽䈌ʀ匦㢠⹰怦⪃ƸƂ惔吣〬ㇿมಀ໯䁣ഢ㡯怹䁆Ì勔圓ፎⓀŌ傰䇀曧䡴岵⴦曍Ი䨐઄ሠڤ-廕⇩j࠰}竄ǘ憥屢আ滩+⣣⠠乮␠㚠ᝠ梃ғᩂ倬⒡窋ఴ>☤䀤ㄱᢈ<ᱜ暎ᢣ䂀ב䍻桤℔と㖕呢Ƹ䌨ᩱⰡ圅窟㝨㑀ఀ㠎㗓桩嘨眐䠼৆୽〤砠ᶷ⻾ᠲ㞚戴ⴇ㟗僥䑅⹔暚ፆ⒦ྥ慂ㅠ⢐㢹籜䱆⸕޵ℸĭץ⁨㲽䛔浄ҬҶⶦ⒈戧磌᜴交憐ɑ٠凈㩃˧㇘幟ࡆਂK忨ଽ⺉ᬷሃ੢╢⟉攍ᝬᤠ "
   },
   "outputs": [],
   "source": []
  }
 ],
 "metadata": {
  "__CATEGORIES__": "{\"categories\":{\"coolness_factor\":{\"name\":\"coolness_factor\",\"options\":{\"_None\":{\"name\":\"None\"},\"cool\":{\"name\":\"cool\"},\"not cool\":{\"name\":\"not cool\"},\"alright\":{\"name\":\"alright\"}}}},\"activeCategoryName\":\"coolness_factor\"}",
  "__persist_nb_uuid__": "15b6440c-b112-4dd1-bff1-41461f6ea5c3",
  "kernelspec": {
   "display_name": "Python 3 (ipykernel)",
   "language": "python",
   "name": "python3"
  },
  "language_info": {
   "codemirror_mode": {
    "name": "ipython",
    "version": 3
   },
   "file_extension": ".py",
   "mimetype": "text/x-python",
   "name": "python",
   "nbconvert_exporter": "python",
   "pygments_lexer": "ipython3",
   "version": "3.8.16"
  }
 },
 "nbformat": 4,
 "nbformat_minor": 5
}
