{
 "cells": [
  {
   "cell_type": "code",
   "execution_count": 1,
   "id": "37a5727b-97aa-4fce-b236-9b88564eefbd",
   "metadata": {},
   "outputs": [],
   "source": [
    "import pandas as pd\n",
    "import persist_ext as PR"
   ]
  },
  {
   "cell_type": "code",
   "execution_count": 2,
   "id": "75e6f1f9-ed26-411f-a8fb-d5cd15029274",
   "metadata": {},
   "outputs": [],
   "source": [
    "# df = pd.read_csv(\"avalanches_cleaned.csv\")\n",
    "\n",
    "import pandas as pd\n",
    "import numpy as np\n",
    "\n",
    "# Create a DataFrame with various data types\n",
    "data = {\n",
    "    'Integer': pd.Series([1, 2, 3, 2, 3, 2, 3], dtype='int'),\n",
    "    'Float': pd.Series([1.1, 2.2, 3.3, 2.2, 3.3, 2.2, 3.3], dtype='float'),\n",
    "    'Boolean': pd.Series([True, False, True, True, False, True, False], dtype='bool'),\n",
    "    'Categorical': pd.Series(['apple', 'banana', 'cherry', 'banana', 'banana', 'banana', 'cherry'], dtype='category'),\n",
    "    'Datetime': pd.to_datetime(['2021-01-01', '2021-01-02', '2021-01-03', '2021-01-02', '2021-01-03', '2021-01-02', '2021-01-03']),\n",
    "    'Timedelta': pd.to_timedelta(['1 days', '2 days', '3 days', '2 days', '3 days', '2 days', '3 days']),\n",
    "    'String': pd.Series(['text', 'more text', 'even more text', 'even moree text', 'even morddddddddde text', 'even more tefffxt', 'even moasdfre text'], dtype='object')\n",
    "}\n",
    "\n",
    "df = pd.DataFrame(data)"
   ]
  },
  {
   "cell_type": "code",
   "execution_count": 3,
   "id": "481f3dcc-8eac-453e-9666-7f174f71038e",
   "metadata": {
    "__GENERATED_DATAFRAMES__": "ᯡࠣ䅬Ԁ朤壠ᜣ琢〹夢゠⹰〮⁁䁻қ䚾ኊ㇠നСࠩ瀮晼Ƭ穅5愠៤⠠ ",
    "__has_persist_output": true,
    "trrack_graph": "ᯡ࠽䈌ʀ匦㢠⹰ૣਬ〫ČǐѐୠƠ✠♜䖇䌪䐵ʠ䙔ㅏౘ惠䥰撲䀤奢Ω䦷჉▊嬕ඹ妀猃柠⡠ന;Ķᤚሡᑀ‡㢣榠܃ئ焨؋孀ᠠⱧ畠řᲰú䤲'«ʢ捂ၰìⓤ娴ㄫұᛡ䇡抑⃀㠠暂周7⟏傑᥀䤔ᡡɋఴ>☤䀤㄃㬐ᇥ溴⃪ય‫ㆢ堳ѠҀ䠹喨䈫墢ૉÒⰡ嘳Ƞ漈⋀ఇ呙⹄ࡐ嘨෍屒昮㖀ԐX彼㻜嶯䐤⚒㴖Ĵ晠䂂Ҥ䟀࠴ؽɃଙئ䇠∬Ѫ۩࠱⽤兡⁦ᜤ䔓广ҩ冠婏⧮䯰傱㑶ឩ቉യݩࢹ๗៩炥६喸ⅰ殱䪨抑ɹᕪ㤹ᙧᏨ੥⥼囉ಕ⮠ְ䄼⠠a䁡稠ᗢ㌠ഠ㤠ौ烠ఠዔളọ偕ⰰǀ஠䑋᫺湉ⶾ⵸එȰv(Ě捹册碜㽀ⰰ池撬ˡ憀抱ࢰ偈ᐺၡ愸ᠬɦ猐㱂⌦瑸溤⧦ᕊ㴧梒㡼䥚ට憨爵Ǫ⢸噛০熘繀䊾㕺໚毷甦抬⻙်ဴ捓䰶▫⫗ⵖ㴮愧洮掣溗䰢⮭枑ᴔ羌%੄෻弊Šႇ搥᪀ထ᳗䨁勏ᐆ籀௒塞гˁᐠ䀿ɢпრ⊾ᘮ砲'厲ឯ⊢㍺զ᣹框፼榔玹ہ䣦ᮨ䓡ᚷۘ㱊଱ぴ歡ᠸ勤治冀①⯤娳䬂㢻儰㰥䀰抠剖≱Ⴀ㩄Áऩ䎨份䠁䓦䑀Ṕ䚤ီ᧦ㄪ䕆⺯†㆝Ġ婯!Ռൠ奜᷊梽i瀠キ႕冨䐁☾䀠≔䖂䲾!⢨⦶Ј㷯†敋1ħ⨀%ᦧఠ⃂曐䞺擉✶昘ᡟ搥丹䆠檘堌㈰瞱⎣ܽ⩚䚼娼痜㕃䜥嵍盭㧞㑍䗉㗡旅㛍㗝㒍䷋㏡淈圱⸸毬ʄ楌斥぀喭ㆀ疣㊌ⶻ㔑ّ䜤⁎埴䛕ࣕ嚢⩪☬斕溣漕㺤ࠕǅ勔↸㒐ᆨ݃㇕䧂⧏䠐䄩焠尾ٌ㡂⃌ᡗ⃦㐶́焹ʨᄱߠᐴƩ祑≈㠧㎃焏サ䳔厄犷ሄ䫟ᐴ櫌撈஻┈㴿‹殮ˠᄾߩፔ愵‡畊àཝឱ攢᝝焱块瀣⾬Ĝ徳炤⁣揰䁡峸悓撢ᓋ䖣灩䩣ᩣ༦䲆ං㡡䪚怼Ϣ砢൓⸴ⶈㆍᇱ瑺ખⲖ࿳ᲁ䣕ỪȖ籤䐪㹨⬫檐㿗∓ૢ穵䄂‾ຮỾૡ爔༓໓卮∃૮⼄㿯؇後♢㶑⽻➛㌦䫲㘓墯㨞༂ ඏ獒≲携ᵀ洴ǀᅑ䒀㠪ԳҤ⑩ⶶѨᣩ㝲喗䐘°ዐ൳Ⰽ剀现⏂䔊⩄烰㏖䍮ٍ✤ᑍ牦⣴磦壶Ǧ磡ᩆ撊♈๭ᓮュᄸ恒ᡰ⩗⍬㖲怋䙤ྫྷа䶩堦䁾ⅽ⛅嶟ᜐ֤璦䡼⽱ᑛ䕈ࡋ刱េ穋⊘Ⳇ.䨸瘴ඛკ捁ࡆ㸨ヶᕬ㢁䳇䍬㶢⃖䊉ା棭ǲᴥ博旉㫼浩ய䴰ָ֒憰メ₂䂶㷡ђ泑䞾ⴖāᖭ烋Ѐ正ㄠⶃ囜ߍ㾿祌㣸Ᲊ壞㧐䉢Ⴐ残䋖懑嗱泞付޴㯛Ȧ眧㝢㼃亙恤側嵉᷻塴ઐ䄪ݟࢩ焅ণ毅䏷䗀壃⬱ダᤥू䎈ᨯ䧅䋡珶☇䖠⠲䬴⹐ਬˎഊ灚⿽児帝䂡抴ହ๭筰ގ擃净ȃ⸮䏒嵩椾砿ᵶὦ傰⤠᳒ౘਮ䂏䊑吴犈ⴂࠡ冞␬⤔中ᘮ䱺䌛噧⭈㛩畝䲞䚪㐡୬ሣ粀Ⱋ悖᥀䨫⃀୆ሡ♸᪐䀠 "
   },
   "outputs": [
    {
     "data": {
      "application/vnd.jupyter.widget-view+json": {
       "model_id": "cb0e708204f84e71a2f344477c2cc0d8",
       "version_major": 2,
       "version_minor": 1
      },
      "text/plain": [
       "PersistWidget(data_values=[{'__id_column': '1', 'Integer': 1, 'Float': 1.1, 'Boolean': True, 'Categorical': 'a…"
      ]
     },
     "execution_count": 3,
     "metadata": {},
     "output_type": "execute_result"
    }
   ],
   "source": [
    "PR.PersistTable(df)"
   ]
  }
 ],
 "metadata": {
  "__persist_keys_record": [
   "__GENERATED_DATAFRAMES__",
   "__persist_nb_uuid__",
   "trrack_graph"
  ],
  "__persist_nb_uuid__": "ec1343cc-2ed0-4b18-81e8-86c201eb6db0",
  "kernelspec": {
   "display_name": "Python 3 (ipykernel)",
   "language": "python",
   "name": "python3"
  },
  "language_info": {
   "codemirror_mode": {
    "name": "ipython",
    "version": 3
   },
   "file_extension": ".py",
   "mimetype": "text/x-python",
   "name": "python",
   "nbconvert_exporter": "python",
   "pygments_lexer": "ipython3",
   "version": "3.12.3"
  }
 },
 "nbformat": 4,
 "nbformat_minor": 5
}
