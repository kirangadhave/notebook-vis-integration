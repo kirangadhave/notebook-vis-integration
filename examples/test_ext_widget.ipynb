{
 "cells": [
  {
   "cell_type": "code",
   "execution_count": 1,
   "id": "2594b5d1-f285-46e7-bb20-55c0d04f9037",
   "metadata": {
    "trrack_graph": "໢尭䲠 "
   },
   "outputs": [],
   "source": [
    "from vega_datasets import data\n",
    "import persist_ext as PR\n",
    "import altair as alt"
   ]
  },
  {
   "cell_type": "code",
   "execution_count": 2,
   "id": "654024a0-4a13-4609-bfa7-65810997ae3c",
   "metadata": {
    "trrack_graph": "໢尭䲠 "
   },
   "outputs": [
    {
     "data": {
      "text/html": [
       "<div>\n",
       "<style scoped>\n",
       "    .dataframe tbody tr th:only-of-type {\n",
       "        vertical-align: middle;\n",
       "    }\n",
       "\n",
       "    .dataframe tbody tr th {\n",
       "        vertical-align: top;\n",
       "    }\n",
       "\n",
       "    .dataframe thead th {\n",
       "        text-align: right;\n",
       "    }\n",
       "</style>\n",
       "<table border=\"1\" class=\"dataframe\">\n",
       "  <thead>\n",
       "    <tr style=\"text-align: right;\">\n",
       "      <th></th>\n",
       "      <th>index</th>\n",
       "      <th>Name</th>\n",
       "      <th>Miles_per_Gallon</th>\n",
       "      <th>Cylinders</th>\n",
       "      <th>Displacement</th>\n",
       "      <th>Horsepower</th>\n",
       "      <th>Weight_in_lbs</th>\n",
       "      <th>Acceleration</th>\n",
       "      <th>Year</th>\n",
       "      <th>Origin</th>\n",
       "    </tr>\n",
       "  </thead>\n",
       "  <tbody>\n",
       "    <tr>\n",
       "      <th>0</th>\n",
       "      <td>1</td>\n",
       "      <td>chevrolet chevelle malibu</td>\n",
       "      <td>18.0</td>\n",
       "      <td>8</td>\n",
       "      <td>307.0</td>\n",
       "      <td>130.0</td>\n",
       "      <td>3504</td>\n",
       "      <td>12.0</td>\n",
       "      <td>1970-01-01</td>\n",
       "      <td>USA</td>\n",
       "    </tr>\n",
       "    <tr>\n",
       "      <th>1</th>\n",
       "      <td>2</td>\n",
       "      <td>buick skylark 320</td>\n",
       "      <td>15.0</td>\n",
       "      <td>8</td>\n",
       "      <td>350.0</td>\n",
       "      <td>165.0</td>\n",
       "      <td>3693</td>\n",
       "      <td>11.5</td>\n",
       "      <td>1970-01-01</td>\n",
       "      <td>USA</td>\n",
       "    </tr>\n",
       "    <tr>\n",
       "      <th>2</th>\n",
       "      <td>3</td>\n",
       "      <td>plymouth satellite</td>\n",
       "      <td>18.0</td>\n",
       "      <td>8</td>\n",
       "      <td>318.0</td>\n",
       "      <td>150.0</td>\n",
       "      <td>3436</td>\n",
       "      <td>11.0</td>\n",
       "      <td>1970-01-01</td>\n",
       "      <td>USA</td>\n",
       "    </tr>\n",
       "    <tr>\n",
       "      <th>3</th>\n",
       "      <td>4</td>\n",
       "      <td>amc rebel sst</td>\n",
       "      <td>16.0</td>\n",
       "      <td>8</td>\n",
       "      <td>304.0</td>\n",
       "      <td>150.0</td>\n",
       "      <td>3433</td>\n",
       "      <td>12.0</td>\n",
       "      <td>1970-01-01</td>\n",
       "      <td>USA</td>\n",
       "    </tr>\n",
       "    <tr>\n",
       "      <th>4</th>\n",
       "      <td>5</td>\n",
       "      <td>ford torino</td>\n",
       "      <td>17.0</td>\n",
       "      <td>8</td>\n",
       "      <td>302.0</td>\n",
       "      <td>140.0</td>\n",
       "      <td>3449</td>\n",
       "      <td>10.5</td>\n",
       "      <td>1970-01-01</td>\n",
       "      <td>USA</td>\n",
       "    </tr>\n",
       "  </tbody>\n",
       "</table>\n",
       "</div>"
      ],
      "text/plain": [
       "   index                       Name  Miles_per_Gallon  Cylinders  \\\n",
       "0      1  chevrolet chevelle malibu              18.0          8   \n",
       "1      2          buick skylark 320              15.0          8   \n",
       "2      3         plymouth satellite              18.0          8   \n",
       "3      4              amc rebel sst              16.0          8   \n",
       "4      5                ford torino              17.0          8   \n",
       "\n",
       "   Displacement  Horsepower  Weight_in_lbs  Acceleration       Year Origin  \n",
       "0         307.0       130.0           3504          12.0 1970-01-01    USA  \n",
       "1         350.0       165.0           3693          11.5 1970-01-01    USA  \n",
       "2         318.0       150.0           3436          11.0 1970-01-01    USA  \n",
       "3         304.0       150.0           3433          12.0 1970-01-01    USA  \n",
       "4         302.0       140.0           3449          10.5 1970-01-01    USA  "
      ]
     },
     "execution_count": 2,
     "metadata": {},
     "output_type": "execute_result"
    }
   ],
   "source": [
    "cars = data.cars()\n",
    "df = PR.data.prepare(cars)\n",
    "df.head()"
   ]
  },
  {
   "cell_type": "code",
   "execution_count": 3,
   "id": "1ec2ad73-abd2-4836-a3a0-38525ee6c7d9",
   "metadata": {
    "__GENERATED_DATAFRAMES__": "ᯡࡓ䁼ࢁӐㆠ≒䂆ř⁻Ŭ愠⺀̘ǁ)䁯氶⴦洔፠圠㚿ਠ ",
    "trrack_graph": "ᯡ࠽䈌ʀ匦㢠⹰໠✡Ⱐ〣䊠壐ୠ೫ਡಯ攠☲䐨㋠㌠䙂包䴲滰ಀۡ䉩ᐠ▴ሰ瓸礪䮲减⓵䎷฾㺢⋤ð䀡婐冬㍀ॢȠநᆸᢀ༰䃿岒@ˢⲅ\"㧙အ娠嵃ㆫ䋩֤〳ّ沀倠祐ሻ࡭ʥ䉊૰べ㡦{ఽ冼∨挤䋵汄ၙ䒈冥ᛠඉⲁܖ⋂Þ⍡歩ᆠ➀䔉䒡恺ㄕ㬠➠ǵ㨀ঠଖ㙀ጎ徇⍅夤Ճ៽兡⁈椘≖㸫ഺ䆦懢ヲ㹨㉞ୢ恨⡁೥硖涬䊱䃲嗈撯ౠჍ䈅䥐尡ౣᅈ樽æㇸ乗௧熤兏䁀ż⅐唉燩壥༲刳樲⭣偳稰ᒄ  "
   },
   "outputs": [
    {
     "data": {
      "application/vnd.jupyter.widget-view+json": {
       "model_id": "6edbc09130664c27b74b425ffb2dc0be",
       "version_major": 2,
       "version_minor": 0
      },
      "text/plain": [
       "TrrackableOutputWidget(body_widget=VegaLiteChartWidget(debounce_wait=200.0, df_columns=['Name', 'Miles_per_Gal…"
      ]
     },
     "execution_count": 3,
     "metadata": {},
     "output_type": "execute_result"
    }
   ],
   "source": [
    "w = PR.vis.scatterplot(df, x=\"Miles_per_Gallon:Q\", y=\"Weight_in_lbs:Q\")\n",
    "# # w = PR.vis.barchart(df, x=\"Origin\", y=\"mean(Miles_per_Gallon)\")\n",
    "# w\n",
    "# w = PR.vis.interactive_table(df)A\n",
    "w"
   ]
  },
  {
   "cell_type": "code",
   "execution_count": 4,
   "id": "9c876b5a-a7b8-41ab-9835-0ca5d053bcfd",
   "metadata": {
    "__GENERATED_DATAFRAMES__": "ᯡࡓ䁼ࢁӐㆠ≒䂆ř⁻Ŭ愠⺀̘ǁ)䁯氶⴦洔፠圠㚿ਠ ",
    "trrack_graph": "ᯡ࠽䈌ʀ匦㢠⹰ೠ㬺Ԃ䗘ᚠᬠภ䰡䴐ˠშ䆛⠱䛃㰢᪁燪⣠ᖬ䂠̲⠠䭈⑁棐理ᝅ⭾䦫㭮䳽㰧Ҡǁ#㛆挰橠ኤРឝၐüメ湁˛㾀ᣠˬリ$熒‣㐡㨦䍇ᦲࡠ渂ແ壡‡犀⑦ņന⁰⅃ℒᠬÖᠻ㕈䐺䘩ۉ妨⃓ࢱ͖㖠᫼嵤༏ѤƜܝ曒㕗䛡໵ण䅔憊㘠传ϒ緯挭眏ⱡ䕽皮檓㈨ɪ⯒⊢䂒⤐媸⩞⌱Ʋ䔢筃ᄪ⡨ℹԤ傤樨䂃ⵖ⤲⌡▶懂ᩑ¢欻䵀懐尪ࡥ၈ᨽæㅸืϧ焤ࡨ฀ż䄰夎烨夙༴刳⨲⍥偳㪁䠠 "
   },
   "outputs": [
    {
     "data": {
      "application/vnd.jupyter.widget-view+json": {
       "model_id": "c06f731fc88e4c35939480584afc76ab",
       "version_major": 2,
       "version_minor": 0
      },
      "text/plain": [
       "TrrackableOutputWidget(body_widget=InteractiveTableWidget(df_columns_all=['index', 'Name', 'Miles_per_Gallon',…"
      ]
     },
     "execution_count": 4,
     "metadata": {},
     "output_type": "execute_result"
    }
   ],
   "source": [
    "PR.vis.interactive_table(df)"
   ]
  },
  {
   "cell_type": "code",
   "execution_count": null,
   "id": "458c7505-23c3-4aa9-9ebb-5460ad99a01b",
   "metadata": {
    "trrack_graph": "ᯡ࠽䈌ʀ匦㢠⹰àᬡⰦᠨ悖<¸˰Ɓ抮爤ᤍ❈倬慃ؤ栳䀹䕌峘棂┠অҤᵖ㺂犵哩桒㖎槷忀炰Tဠ㚔ㄭ␢⡠䀢矲̠෦్戰䭖盐y䘺䀢㭙အ娠崣⇃哩ʠ㋢ӳⲀ倠祐ሠᆭף䬃ᄰㆸ碘ణM䘺捪ᄡ冢⇋嚂ࠬ托⃧րۗᓰϛↁǟ㧇䍥䛐⏔≠灭᡺疠ᏠČ宑磡㇛欰ㄷᶣ䚬沢²䪇॒㓬సष¥ٮ⏣⇀䢐䑤Ḳፂ䍐䐼أ䆀㑂ਦ⇸歭䩠䣠䦅墆䚬†䫪獩᡼Ⴊ⁰呺ả秈氮ᮧ怨䈱Ṁ˘ɡ㇭憳爒ᅉⅱ䥌Փ⛄瑂ヨ  "
   },
   "outputs": [],
   "source": []
  }
 ],
 "metadata": {
  "__CATEGORIES__": "{\"categories\":{\"A\":{\"name\":\"A\",\"options\":{\"_None\":{\"name\":\"None\"},\"VC\":{\"name\":\"VC\"},\"ASD\":{\"name\":\"ASD\"}}},\"B\":{\"name\":\"B\",\"options\":{\"_None\":{\"name\":\"None\"}}}},\"activeCategoryName\":\"A\"}",
  "__persist_nb_uuid__": "15b6440c-b112-4dd1-bff1-41461f6ea5c3",
  "kernelspec": {
   "display_name": "Python 3 (ipykernel)",
   "language": "python",
   "name": "python3"
  },
  "language_info": {
   "codemirror_mode": {
    "name": "ipython",
    "version": 3
   },
   "file_extension": ".py",
   "mimetype": "text/x-python",
   "name": "python",
   "nbconvert_exporter": "python",
   "pygments_lexer": "ipython3",
   "version": "3.8.16"
  }
 },
 "nbformat": 4,
 "nbformat_minor": 5
}
