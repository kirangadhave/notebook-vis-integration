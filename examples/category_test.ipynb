{
 "cells": [
  {
   "cell_type": "code",
   "execution_count": 1,
   "id": "6b920a81-d153-48e1-a4dc-7d89c08605b0",
   "metadata": {
    "editable": true,
    "slideshow": {
     "slide_type": ""
    },
    "tags": [],
    "trrack_graph": {
     "current": "0cfbe4c3-e9a0-4fa1-8519-e234e7102cf0",
     "nodes": {
      "0cfbe4c3-e9a0-4fa1-8519-e234e7102cf0": {
       "artifacts": [],
       "children": [],
       "createdOn": 1690466361534,
       "event": "Root",
       "id": "0cfbe4c3-e9a0-4fa1-8519-e234e7102cf0",
       "label": "Root",
       "level": 0,
       "meta": {
        "annotation": [],
        "bookmark": []
       },
       "state": {
        "type": "checkpoint",
        "val": {
         "id": "2d4b879c-2c61-4da5-851e-da73fbc7089e",
         "type": "create"
        }
       }
      }
     },
     "root": "0cfbe4c3-e9a0-4fa1-8519-e234e7102cf0"
    }
   },
   "outputs": [
    {
     "name": "stdout",
     "output_type": "stream",
     "text": [
      "Loaded PersIst extension version 1.1.0\n",
      "Extension enabled for altair\n"
     ]
    }
   ],
   "source": [
    "# Test\n",
    "import altair as alt\n",
    "from vega_datasets import data\n",
    "import numpy as np\n",
    "import pandas as pd\n",
    " \n",
    "import persist_ext as PR # Our library\n",
    "\n",
    "PR.enable('altair')\n",
    "\n",
    "# IDE.enable('altair') # Call this to enable integration with altair"
   ]
  },
  {
   "cell_type": "code",
   "execution_count": 10,
   "id": "4a82eac2-24aa-44c8-9bd5-9bd563cd6ece",
   "metadata": {
    "active_category_name": null,
    "defined_categories": {},
    "trrack_execution_spec": {
     "$schema": "https://vega.github.io/schema/vega-lite/v5.8.0.json",
     "config": {
      "view": {
       "continuousHeight": 300,
       "continuousWidth": 300
      }
     },
     "data": {
      "name": "data-f02450ab61490a1363517a0190416235"
     },
     "datasets": {
      "data-f02450ab61490a1363517a0190416235": [
       {
        "Acceleration": 12,
        "Cylinders": 8,
        "Displacement": 307,
        "Horsepower": 130,
        "Miles_per_Gallon": 18,
        "Name": "chevrolet chevelle malibu",
        "Origin": "USA",
        "Weight_in_lbs": 3504,
        "Year": "1970-01-01T00:00:00"
       },
       {
        "Acceleration": 11.5,
        "Cylinders": 8,
        "Displacement": 350,
        "Horsepower": 165,
        "Miles_per_Gallon": 15,
        "Name": "buick skylark 320",
        "Origin": "USA",
        "Weight_in_lbs": 3693,
        "Year": "1970-01-01T00:00:00"
       },
       {
        "Acceleration": 11,
        "Cylinders": 8,
        "Displacement": 318,
        "Horsepower": 150,
        "Miles_per_Gallon": 18,
        "Name": "plymouth satellite",
        "Origin": "USA",
        "Weight_in_lbs": 3436,
        "Year": "1970-01-01T00:00:00"
       },
       {
        "Acceleration": 12,
        "Cylinders": 8,
        "Displacement": 304,
        "Horsepower": 150,
        "Miles_per_Gallon": 16,
        "Name": "amc rebel sst",
        "Origin": "USA",
        "Weight_in_lbs": 3433,
        "Year": "1970-01-01T00:00:00"
       },
       {
        "Acceleration": 10.5,
        "Cylinders": 8,
        "Displacement": 302,
        "Horsepower": 140,
        "Miles_per_Gallon": 17,
        "Name": "ford torino",
        "Origin": "USA",
        "Weight_in_lbs": 3449,
        "Year": "1970-01-01T00:00:00"
       },
       {
        "Acceleration": 10,
        "Cylinders": 8,
        "Displacement": 429,
        "Horsepower": 198,
        "Miles_per_Gallon": 15,
        "Name": "ford galaxie 500",
        "Origin": "USA",
        "Weight_in_lbs": 4341,
        "Year": "1970-01-01T00:00:00"
       },
       {
        "Acceleration": 9,
        "Cylinders": 8,
        "Displacement": 454,
        "Horsepower": 220,
        "Miles_per_Gallon": 14,
        "Name": "chevrolet impala",
        "Origin": "USA",
        "Weight_in_lbs": 4354,
        "Year": "1970-01-01T00:00:00"
       },
       {
        "Acceleration": 8.5,
        "Cylinders": 8,
        "Displacement": 440,
        "Horsepower": 215,
        "Miles_per_Gallon": 14,
        "Name": "plymouth fury iii",
        "Origin": "USA",
        "Weight_in_lbs": 4312,
        "Year": "1970-01-01T00:00:00"
       },
       {
        "Acceleration": 10,
        "Cylinders": 8,
        "Displacement": 455,
        "Horsepower": 225,
        "Miles_per_Gallon": 14,
        "Name": "pontiac catalina",
        "Origin": "USA",
        "Weight_in_lbs": 4425,
        "Year": "1970-01-01T00:00:00"
       },
       {
        "Acceleration": 8.5,
        "Cylinders": 8,
        "Displacement": 390,
        "Horsepower": 190,
        "Miles_per_Gallon": 15,
        "Name": "amc ambassador dpl",
        "Origin": "USA",
        "Weight_in_lbs": 3850,
        "Year": "1970-01-01T00:00:00"
       },
       {
        "Acceleration": 17.5,
        "Cylinders": 4,
        "Displacement": 133,
        "Horsepower": 115,
        "Miles_per_Gallon": null,
        "Name": "citroen ds-21 pallas",
        "Origin": "Europe",
        "Weight_in_lbs": 3090,
        "Year": "1970-01-01T00:00:00"
       },
       {
        "Acceleration": 11.5,
        "Cylinders": 8,
        "Displacement": 350,
        "Horsepower": 165,
        "Miles_per_Gallon": null,
        "Name": "chevrolet chevelle concours (sw)",
        "Origin": "USA",
        "Weight_in_lbs": 4142,
        "Year": "1970-01-01T00:00:00"
       },
       {
        "Acceleration": 11,
        "Cylinders": 8,
        "Displacement": 351,
        "Horsepower": 153,
        "Miles_per_Gallon": null,
        "Name": "ford torino (sw)",
        "Origin": "USA",
        "Weight_in_lbs": 4034,
        "Year": "1970-01-01T00:00:00"
       },
       {
        "Acceleration": 10.5,
        "Cylinders": 8,
        "Displacement": 383,
        "Horsepower": 175,
        "Miles_per_Gallon": null,
        "Name": "plymouth satellite (sw)",
        "Origin": "USA",
        "Weight_in_lbs": 4166,
        "Year": "1970-01-01T00:00:00"
       },
       {
        "Acceleration": 11,
        "Cylinders": 8,
        "Displacement": 360,
        "Horsepower": 175,
        "Miles_per_Gallon": null,
        "Name": "amc rebel sst (sw)",
        "Origin": "USA",
        "Weight_in_lbs": 3850,
        "Year": "1970-01-01T00:00:00"
       },
       {
        "Acceleration": 10,
        "Cylinders": 8,
        "Displacement": 383,
        "Horsepower": 170,
        "Miles_per_Gallon": 15,
        "Name": "dodge challenger se",
        "Origin": "USA",
        "Weight_in_lbs": 3563,
        "Year": "1970-01-01T00:00:00"
       },
       {
        "Acceleration": 8,
        "Cylinders": 8,
        "Displacement": 340,
        "Horsepower": 160,
        "Miles_per_Gallon": 14,
        "Name": "plymouth 'cuda 340",
        "Origin": "USA",
        "Weight_in_lbs": 3609,
        "Year": "1970-01-01T00:00:00"
       },
       {
        "Acceleration": 8,
        "Cylinders": 8,
        "Displacement": 302,
        "Horsepower": 140,
        "Miles_per_Gallon": null,
        "Name": "ford mustang boss 302",
        "Origin": "USA",
        "Weight_in_lbs": 3353,
        "Year": "1970-01-01T00:00:00"
       },
       {
        "Acceleration": 9.5,
        "Cylinders": 8,
        "Displacement": 400,
        "Horsepower": 150,
        "Miles_per_Gallon": 15,
        "Name": "chevrolet monte carlo",
        "Origin": "USA",
        "Weight_in_lbs": 3761,
        "Year": "1970-01-01T00:00:00"
       },
       {
        "Acceleration": 10,
        "Cylinders": 8,
        "Displacement": 455,
        "Horsepower": 225,
        "Miles_per_Gallon": 14,
        "Name": "buick estate wagon (sw)",
        "Origin": "USA",
        "Weight_in_lbs": 3086,
        "Year": "1970-01-01T00:00:00"
       },
       {
        "Acceleration": 15,
        "Cylinders": 4,
        "Displacement": 113,
        "Horsepower": 95,
        "Miles_per_Gallon": 24,
        "Name": "toyota corona mark ii",
        "Origin": "Japan",
        "Weight_in_lbs": 2372,
        "Year": "1970-01-01T00:00:00"
       },
       {
        "Acceleration": 15.5,
        "Cylinders": 6,
        "Displacement": 198,
        "Horsepower": 95,
        "Miles_per_Gallon": 22,
        "Name": "plymouth duster",
        "Origin": "USA",
        "Weight_in_lbs": 2833,
        "Year": "1970-01-01T00:00:00"
       },
       {
        "Acceleration": 15.5,
        "Cylinders": 6,
        "Displacement": 199,
        "Horsepower": 97,
        "Miles_per_Gallon": 18,
        "Name": "amc hornet",
        "Origin": "USA",
        "Weight_in_lbs": 2774,
        "Year": "1970-01-01T00:00:00"
       },
       {
        "Acceleration": 16,
        "Cylinders": 6,
        "Displacement": 200,
        "Horsepower": 85,
        "Miles_per_Gallon": 21,
        "Name": "ford maverick",
        "Origin": "USA",
        "Weight_in_lbs": 2587,
        "Year": "1970-01-01T00:00:00"
       },
       {
        "Acceleration": 14.5,
        "Cylinders": 4,
        "Displacement": 97,
        "Horsepower": 88,
        "Miles_per_Gallon": 27,
        "Name": "datsun pl510",
        "Origin": "Japan",
        "Weight_in_lbs": 2130,
        "Year": "1970-01-01T00:00:00"
       },
       {
        "Acceleration": 20.5,
        "Cylinders": 4,
        "Displacement": 97,
        "Horsepower": 46,
        "Miles_per_Gallon": 26,
        "Name": "volkswagen 1131 deluxe sedan",
        "Origin": "Europe",
        "Weight_in_lbs": 1835,
        "Year": "1970-01-01T00:00:00"
       },
       {
        "Acceleration": 17.5,
        "Cylinders": 4,
        "Displacement": 110,
        "Horsepower": 87,
        "Miles_per_Gallon": 25,
        "Name": "peugeot 504",
        "Origin": "Europe",
        "Weight_in_lbs": 2672,
        "Year": "1970-01-01T00:00:00"
       },
       {
        "Acceleration": 14.5,
        "Cylinders": 4,
        "Displacement": 107,
        "Horsepower": 90,
        "Miles_per_Gallon": 24,
        "Name": "audi 100 ls",
        "Origin": "Europe",
        "Weight_in_lbs": 2430,
        "Year": "1970-01-01T00:00:00"
       },
       {
        "Acceleration": 17.5,
        "Cylinders": 4,
        "Displacement": 104,
        "Horsepower": 95,
        "Miles_per_Gallon": 25,
        "Name": "saab 99e",
        "Origin": "Europe",
        "Weight_in_lbs": 2375,
        "Year": "1970-01-01T00:00:00"
       },
       {
        "Acceleration": 12.5,
        "Cylinders": 4,
        "Displacement": 121,
        "Horsepower": 113,
        "Miles_per_Gallon": 26,
        "Name": "bmw 2002",
        "Origin": "Europe",
        "Weight_in_lbs": 2234,
        "Year": "1970-01-01T00:00:00"
       },
       {
        "Acceleration": 15,
        "Cylinders": 6,
        "Displacement": 199,
        "Horsepower": 90,
        "Miles_per_Gallon": 21,
        "Name": "amc gremlin",
        "Origin": "USA",
        "Weight_in_lbs": 2648,
        "Year": "1970-01-01T00:00:00"
       },
       {
        "Acceleration": 14,
        "Cylinders": 8,
        "Displacement": 360,
        "Horsepower": 215,
        "Miles_per_Gallon": 10,
        "Name": "ford f250",
        "Origin": "USA",
        "Weight_in_lbs": 4615,
        "Year": "1970-01-01T00:00:00"
       },
       {
        "Acceleration": 15,
        "Cylinders": 8,
        "Displacement": 307,
        "Horsepower": 200,
        "Miles_per_Gallon": 10,
        "Name": "chevy c20",
        "Origin": "USA",
        "Weight_in_lbs": 4376,
        "Year": "1970-01-01T00:00:00"
       },
       {
        "Acceleration": 13.5,
        "Cylinders": 8,
        "Displacement": 318,
        "Horsepower": 210,
        "Miles_per_Gallon": 11,
        "Name": "dodge d200",
        "Origin": "USA",
        "Weight_in_lbs": 4382,
        "Year": "1970-01-01T00:00:00"
       },
       {
        "Acceleration": 18.5,
        "Cylinders": 8,
        "Displacement": 304,
        "Horsepower": 193,
        "Miles_per_Gallon": 9,
        "Name": "hi 1200d",
        "Origin": "USA",
        "Weight_in_lbs": 4732,
        "Year": "1970-01-01T00:00:00"
       },
       {
        "Acceleration": 14.5,
        "Cylinders": 4,
        "Displacement": 97,
        "Horsepower": 88,
        "Miles_per_Gallon": 27,
        "Name": "datsun pl510",
        "Origin": "Japan",
        "Weight_in_lbs": 2130,
        "Year": "1971-01-01T00:00:00"
       },
       {
        "Acceleration": 15.5,
        "Cylinders": 4,
        "Displacement": 140,
        "Horsepower": 90,
        "Miles_per_Gallon": 28,
        "Name": "chevrolet vega 2300",
        "Origin": "USA",
        "Weight_in_lbs": 2264,
        "Year": "1971-01-01T00:00:00"
       },
       {
        "Acceleration": 14,
        "Cylinders": 4,
        "Displacement": 113,
        "Horsepower": 95,
        "Miles_per_Gallon": 25,
        "Name": "toyota corona",
        "Origin": "Japan",
        "Weight_in_lbs": 2228,
        "Year": "1971-01-01T00:00:00"
       },
       {
        "Acceleration": 19,
        "Cylinders": 4,
        "Displacement": 98,
        "Horsepower": null,
        "Miles_per_Gallon": 25,
        "Name": "ford pinto",
        "Origin": "USA",
        "Weight_in_lbs": 2046,
        "Year": "1971-01-01T00:00:00"
       },
       {
        "Acceleration": 20,
        "Cylinders": 4,
        "Displacement": 97,
        "Horsepower": 48,
        "Miles_per_Gallon": null,
        "Name": "volkswagen super beetle 117",
        "Origin": "Europe",
        "Weight_in_lbs": 1978,
        "Year": "1971-01-01T00:00:00"
       },
       {
        "Acceleration": 13,
        "Cylinders": 6,
        "Displacement": 232,
        "Horsepower": 100,
        "Miles_per_Gallon": 19,
        "Name": "amc gremlin",
        "Origin": "USA",
        "Weight_in_lbs": 2634,
        "Year": "1971-01-01T00:00:00"
       },
       {
        "Acceleration": 15.5,
        "Cylinders": 6,
        "Displacement": 225,
        "Horsepower": 105,
        "Miles_per_Gallon": 16,
        "Name": "plymouth satellite custom",
        "Origin": "USA",
        "Weight_in_lbs": 3439,
        "Year": "1971-01-01T00:00:00"
       },
       {
        "Acceleration": 15.5,
        "Cylinders": 6,
        "Displacement": 250,
        "Horsepower": 100,
        "Miles_per_Gallon": 17,
        "Name": "chevrolet chevelle malibu",
        "Origin": "USA",
        "Weight_in_lbs": 3329,
        "Year": "1971-01-01T00:00:00"
       },
       {
        "Acceleration": 15.5,
        "Cylinders": 6,
        "Displacement": 250,
        "Horsepower": 88,
        "Miles_per_Gallon": 19,
        "Name": "ford torino 500",
        "Origin": "USA",
        "Weight_in_lbs": 3302,
        "Year": "1971-01-01T00:00:00"
       },
       {
        "Acceleration": 15.5,
        "Cylinders": 6,
        "Displacement": 232,
        "Horsepower": 100,
        "Miles_per_Gallon": 18,
        "Name": "amc matador",
        "Origin": "USA",
        "Weight_in_lbs": 3288,
        "Year": "1971-01-01T00:00:00"
       },
       {
        "Acceleration": 12,
        "Cylinders": 8,
        "Displacement": 350,
        "Horsepower": 165,
        "Miles_per_Gallon": 14,
        "Name": "chevrolet impala",
        "Origin": "USA",
        "Weight_in_lbs": 4209,
        "Year": "1971-01-01T00:00:00"
       },
       {
        "Acceleration": 11.5,
        "Cylinders": 8,
        "Displacement": 400,
        "Horsepower": 175,
        "Miles_per_Gallon": 14,
        "Name": "pontiac catalina brougham",
        "Origin": "USA",
        "Weight_in_lbs": 4464,
        "Year": "1971-01-01T00:00:00"
       },
       {
        "Acceleration": 13.5,
        "Cylinders": 8,
        "Displacement": 351,
        "Horsepower": 153,
        "Miles_per_Gallon": 14,
        "Name": "ford galaxie 500",
        "Origin": "USA",
        "Weight_in_lbs": 4154,
        "Year": "1971-01-01T00:00:00"
       },
       {
        "Acceleration": 13,
        "Cylinders": 8,
        "Displacement": 318,
        "Horsepower": 150,
        "Miles_per_Gallon": 14,
        "Name": "plymouth fury iii",
        "Origin": "USA",
        "Weight_in_lbs": 4096,
        "Year": "1971-01-01T00:00:00"
       },
       {
        "Acceleration": 11.5,
        "Cylinders": 8,
        "Displacement": 383,
        "Horsepower": 180,
        "Miles_per_Gallon": 12,
        "Name": "dodge monaco (sw)",
        "Origin": "USA",
        "Weight_in_lbs": 4955,
        "Year": "1971-01-01T00:00:00"
       },
       {
        "Acceleration": 12,
        "Cylinders": 8,
        "Displacement": 400,
        "Horsepower": 170,
        "Miles_per_Gallon": 13,
        "Name": "ford country squire (sw)",
        "Origin": "USA",
        "Weight_in_lbs": 4746,
        "Year": "1971-01-01T00:00:00"
       },
       {
        "Acceleration": 12,
        "Cylinders": 8,
        "Displacement": 400,
        "Horsepower": 175,
        "Miles_per_Gallon": 13,
        "Name": "pontiac safari (sw)",
        "Origin": "USA",
        "Weight_in_lbs": 5140,
        "Year": "1971-01-01T00:00:00"
       },
       {
        "Acceleration": 13.5,
        "Cylinders": 6,
        "Displacement": 258,
        "Horsepower": 110,
        "Miles_per_Gallon": 18,
        "Name": "amc hornet sportabout (sw)",
        "Origin": "USA",
        "Weight_in_lbs": 2962,
        "Year": "1971-01-01T00:00:00"
       },
       {
        "Acceleration": 19,
        "Cylinders": 4,
        "Displacement": 140,
        "Horsepower": 72,
        "Miles_per_Gallon": 22,
        "Name": "chevrolet vega (sw)",
        "Origin": "USA",
        "Weight_in_lbs": 2408,
        "Year": "1971-01-01T00:00:00"
       },
       {
        "Acceleration": 15,
        "Cylinders": 6,
        "Displacement": 250,
        "Horsepower": 100,
        "Miles_per_Gallon": 19,
        "Name": "pontiac firebird",
        "Origin": "USA",
        "Weight_in_lbs": 3282,
        "Year": "1971-01-01T00:00:00"
       },
       {
        "Acceleration": 14.5,
        "Cylinders": 6,
        "Displacement": 250,
        "Horsepower": 88,
        "Miles_per_Gallon": 18,
        "Name": "ford mustang",
        "Origin": "USA",
        "Weight_in_lbs": 3139,
        "Year": "1971-01-01T00:00:00"
       },
       {
        "Acceleration": 14,
        "Cylinders": 4,
        "Displacement": 122,
        "Horsepower": 86,
        "Miles_per_Gallon": 23,
        "Name": "mercury capri 2000",
        "Origin": "USA",
        "Weight_in_lbs": 2220,
        "Year": "1971-01-01T00:00:00"
       },
       {
        "Acceleration": 14,
        "Cylinders": 4,
        "Displacement": 116,
        "Horsepower": 90,
        "Miles_per_Gallon": 28,
        "Name": "opel 1900",
        "Origin": "Europe",
        "Weight_in_lbs": 2123,
        "Year": "1971-01-01T00:00:00"
       },
       {
        "Acceleration": 19.5,
        "Cylinders": 4,
        "Displacement": 79,
        "Horsepower": 70,
        "Miles_per_Gallon": 30,
        "Name": "peugeot 304",
        "Origin": "Europe",
        "Weight_in_lbs": 2074,
        "Year": "1971-01-01T00:00:00"
       },
       {
        "Acceleration": 14.5,
        "Cylinders": 4,
        "Displacement": 88,
        "Horsepower": 76,
        "Miles_per_Gallon": 30,
        "Name": "fiat 124b",
        "Origin": "Europe",
        "Weight_in_lbs": 2065,
        "Year": "1971-01-01T00:00:00"
       },
       {
        "Acceleration": 19,
        "Cylinders": 4,
        "Displacement": 71,
        "Horsepower": 65,
        "Miles_per_Gallon": 31,
        "Name": "toyota corolla 1200",
        "Origin": "Japan",
        "Weight_in_lbs": 1773,
        "Year": "1971-01-01T00:00:00"
       },
       {
        "Acceleration": 18,
        "Cylinders": 4,
        "Displacement": 72,
        "Horsepower": 69,
        "Miles_per_Gallon": 35,
        "Name": "datsun 1200",
        "Origin": "Japan",
        "Weight_in_lbs": 1613,
        "Year": "1971-01-01T00:00:00"
       },
       {
        "Acceleration": 19,
        "Cylinders": 4,
        "Displacement": 97,
        "Horsepower": 60,
        "Miles_per_Gallon": 27,
        "Name": "volkswagen model 111",
        "Origin": "Europe",
        "Weight_in_lbs": 1834,
        "Year": "1971-01-01T00:00:00"
       },
       {
        "Acceleration": 20.5,
        "Cylinders": 4,
        "Displacement": 91,
        "Horsepower": 70,
        "Miles_per_Gallon": 26,
        "Name": "plymouth cricket",
        "Origin": "USA",
        "Weight_in_lbs": 1955,
        "Year": "1971-01-01T00:00:00"
       },
       {
        "Acceleration": 15.5,
        "Cylinders": 4,
        "Displacement": 113,
        "Horsepower": 95,
        "Miles_per_Gallon": 24,
        "Name": "toyota corona hardtop",
        "Origin": "Japan",
        "Weight_in_lbs": 2278,
        "Year": "1972-01-01T00:00:00"
       },
       {
        "Acceleration": 17,
        "Cylinders": 4,
        "Displacement": 97.5,
        "Horsepower": 80,
        "Miles_per_Gallon": 25,
        "Name": "dodge colt hardtop",
        "Origin": "USA",
        "Weight_in_lbs": 2126,
        "Year": "1972-01-01T00:00:00"
       },
       {
        "Acceleration": 23.5,
        "Cylinders": 4,
        "Displacement": 97,
        "Horsepower": 54,
        "Miles_per_Gallon": 23,
        "Name": "volkswagen type 3",
        "Origin": "Europe",
        "Weight_in_lbs": 2254,
        "Year": "1972-01-01T00:00:00"
       },
       {
        "Acceleration": 19.5,
        "Cylinders": 4,
        "Displacement": 140,
        "Horsepower": 90,
        "Miles_per_Gallon": 20,
        "Name": "chevrolet vega",
        "Origin": "USA",
        "Weight_in_lbs": 2408,
        "Year": "1972-01-01T00:00:00"
       },
       {
        "Acceleration": 16.5,
        "Cylinders": 4,
        "Displacement": 122,
        "Horsepower": 86,
        "Miles_per_Gallon": 21,
        "Name": "ford pinto runabout",
        "Origin": "USA",
        "Weight_in_lbs": 2226,
        "Year": "1972-01-01T00:00:00"
       },
       {
        "Acceleration": 12,
        "Cylinders": 8,
        "Displacement": 350,
        "Horsepower": 165,
        "Miles_per_Gallon": 13,
        "Name": "chevrolet impala",
        "Origin": "USA",
        "Weight_in_lbs": 4274,
        "Year": "1972-01-01T00:00:00"
       },
       {
        "Acceleration": 12,
        "Cylinders": 8,
        "Displacement": 400,
        "Horsepower": 175,
        "Miles_per_Gallon": 14,
        "Name": "pontiac catalina",
        "Origin": "USA",
        "Weight_in_lbs": 4385,
        "Year": "1972-01-01T00:00:00"
       },
       {
        "Acceleration": 13.5,
        "Cylinders": 8,
        "Displacement": 318,
        "Horsepower": 150,
        "Miles_per_Gallon": 15,
        "Name": "plymouth fury iii",
        "Origin": "USA",
        "Weight_in_lbs": 4135,
        "Year": "1972-01-01T00:00:00"
       },
       {
        "Acceleration": 13,
        "Cylinders": 8,
        "Displacement": 351,
        "Horsepower": 153,
        "Miles_per_Gallon": 14,
        "Name": "ford galaxie 500",
        "Origin": "USA",
        "Weight_in_lbs": 4129,
        "Year": "1972-01-01T00:00:00"
       },
       {
        "Acceleration": 11.5,
        "Cylinders": 8,
        "Displacement": 304,
        "Horsepower": 150,
        "Miles_per_Gallon": 17,
        "Name": "amc ambassador sst",
        "Origin": "USA",
        "Weight_in_lbs": 3672,
        "Year": "1972-01-01T00:00:00"
       },
       {
        "Acceleration": 11,
        "Cylinders": 8,
        "Displacement": 429,
        "Horsepower": 208,
        "Miles_per_Gallon": 11,
        "Name": "mercury marquis",
        "Origin": "USA",
        "Weight_in_lbs": 4633,
        "Year": "1972-01-01T00:00:00"
       },
       {
        "Acceleration": 13.5,
        "Cylinders": 8,
        "Displacement": 350,
        "Horsepower": 155,
        "Miles_per_Gallon": 13,
        "Name": "buick lesabre custom",
        "Origin": "USA",
        "Weight_in_lbs": 4502,
        "Year": "1972-01-01T00:00:00"
       },
       {
        "Acceleration": 13.5,
        "Cylinders": 8,
        "Displacement": 350,
        "Horsepower": 160,
        "Miles_per_Gallon": 12,
        "Name": "oldsmobile delta 88 royale",
        "Origin": "USA",
        "Weight_in_lbs": 4456,
        "Year": "1972-01-01T00:00:00"
       },
       {
        "Acceleration": 12.5,
        "Cylinders": 8,
        "Displacement": 400,
        "Horsepower": 190,
        "Miles_per_Gallon": 13,
        "Name": "chrysler newport royal",
        "Origin": "USA",
        "Weight_in_lbs": 4422,
        "Year": "1972-01-01T00:00:00"
       },
       {
        "Acceleration": 13.5,
        "Cylinders": 3,
        "Displacement": 70,
        "Horsepower": 97,
        "Miles_per_Gallon": 19,
        "Name": "mazda rx2 coupe",
        "Origin": "Japan",
        "Weight_in_lbs": 2330,
        "Year": "1972-01-01T00:00:00"
       },
       {
        "Acceleration": 12.5,
        "Cylinders": 8,
        "Displacement": 304,
        "Horsepower": 150,
        "Miles_per_Gallon": 15,
        "Name": "amc matador (sw)",
        "Origin": "USA",
        "Weight_in_lbs": 3892,
        "Year": "1972-01-01T00:00:00"
       },
       {
        "Acceleration": 14,
        "Cylinders": 8,
        "Displacement": 307,
        "Horsepower": 130,
        "Miles_per_Gallon": 13,
        "Name": "chevrolet chevelle concours (sw)",
        "Origin": "USA",
        "Weight_in_lbs": 4098,
        "Year": "1972-01-01T00:00:00"
       },
       {
        "Acceleration": 16,
        "Cylinders": 8,
        "Displacement": 302,
        "Horsepower": 140,
        "Miles_per_Gallon": 13,
        "Name": "ford gran torino (sw)",
        "Origin": "USA",
        "Weight_in_lbs": 4294,
        "Year": "1972-01-01T00:00:00"
       },
       {
        "Acceleration": 14,
        "Cylinders": 8,
        "Displacement": 318,
        "Horsepower": 150,
        "Miles_per_Gallon": 14,
        "Name": "plymouth satellite custom (sw)",
        "Origin": "USA",
        "Weight_in_lbs": 4077,
        "Year": "1972-01-01T00:00:00"
       },
       {
        "Acceleration": 14.5,
        "Cylinders": 4,
        "Displacement": 121,
        "Horsepower": 112,
        "Miles_per_Gallon": 18,
        "Name": "volvo 145e (sw)",
        "Origin": "Europe",
        "Weight_in_lbs": 2933,
        "Year": "1972-01-01T00:00:00"
       },
       {
        "Acceleration": 18,
        "Cylinders": 4,
        "Displacement": 121,
        "Horsepower": 76,
        "Miles_per_Gallon": 22,
        "Name": "volkswagen 411 (sw)",
        "Origin": "Europe",
        "Weight_in_lbs": 2511,
        "Year": "1972-01-01T00:00:00"
       },
       {
        "Acceleration": 19.5,
        "Cylinders": 4,
        "Displacement": 120,
        "Horsepower": 87,
        "Miles_per_Gallon": 21,
        "Name": "peugeot 504 (sw)",
        "Origin": "Europe",
        "Weight_in_lbs": 2979,
        "Year": "1972-01-01T00:00:00"
       },
       {
        "Acceleration": 18,
        "Cylinders": 4,
        "Displacement": 96,
        "Horsepower": 69,
        "Miles_per_Gallon": 26,
        "Name": "renault 12 (sw)",
        "Origin": "Europe",
        "Weight_in_lbs": 2189,
        "Year": "1972-01-01T00:00:00"
       },
       {
        "Acceleration": 16,
        "Cylinders": 4,
        "Displacement": 122,
        "Horsepower": 86,
        "Miles_per_Gallon": 22,
        "Name": "ford pinto (sw)",
        "Origin": "USA",
        "Weight_in_lbs": 2395,
        "Year": "1972-01-01T00:00:00"
       },
       {
        "Acceleration": 17,
        "Cylinders": 4,
        "Displacement": 97,
        "Horsepower": 92,
        "Miles_per_Gallon": 28,
        "Name": "datsun 510 (sw)",
        "Origin": "Japan",
        "Weight_in_lbs": 2288,
        "Year": "1972-01-01T00:00:00"
       },
       {
        "Acceleration": 14.5,
        "Cylinders": 4,
        "Displacement": 120,
        "Horsepower": 97,
        "Miles_per_Gallon": 23,
        "Name": "toyouta corona mark ii (sw)",
        "Origin": "Japan",
        "Weight_in_lbs": 2506,
        "Year": "1972-01-01T00:00:00"
       },
       {
        "Acceleration": 15,
        "Cylinders": 4,
        "Displacement": 98,
        "Horsepower": 80,
        "Miles_per_Gallon": 28,
        "Name": "dodge colt (sw)",
        "Origin": "USA",
        "Weight_in_lbs": 2164,
        "Year": "1972-01-01T00:00:00"
       },
       {
        "Acceleration": 16.5,
        "Cylinders": 4,
        "Displacement": 97,
        "Horsepower": 88,
        "Miles_per_Gallon": 27,
        "Name": "toyota corolla 1600 (sw)",
        "Origin": "Japan",
        "Weight_in_lbs": 2100,
        "Year": "1972-01-01T00:00:00"
       },
       {
        "Acceleration": 13,
        "Cylinders": 8,
        "Displacement": 350,
        "Horsepower": 175,
        "Miles_per_Gallon": 13,
        "Name": "buick century 350",
        "Origin": "USA",
        "Weight_in_lbs": 4100,
        "Year": "1973-01-01T00:00:00"
       },
       {
        "Acceleration": 11.5,
        "Cylinders": 8,
        "Displacement": 304,
        "Horsepower": 150,
        "Miles_per_Gallon": 14,
        "Name": "amc matador",
        "Origin": "USA",
        "Weight_in_lbs": 3672,
        "Year": "1973-01-01T00:00:00"
       },
       {
        "Acceleration": 13,
        "Cylinders": 8,
        "Displacement": 350,
        "Horsepower": 145,
        "Miles_per_Gallon": 13,
        "Name": "chevrolet malibu",
        "Origin": "USA",
        "Weight_in_lbs": 3988,
        "Year": "1973-01-01T00:00:00"
       },
       {
        "Acceleration": 14.5,
        "Cylinders": 8,
        "Displacement": 302,
        "Horsepower": 137,
        "Miles_per_Gallon": 14,
        "Name": "ford gran torino",
        "Origin": "USA",
        "Weight_in_lbs": 4042,
        "Year": "1973-01-01T00:00:00"
       },
       {
        "Acceleration": 12.5,
        "Cylinders": 8,
        "Displacement": 318,
        "Horsepower": 150,
        "Miles_per_Gallon": 15,
        "Name": "dodge coronet custom",
        "Origin": "USA",
        "Weight_in_lbs": 3777,
        "Year": "1973-01-01T00:00:00"
       },
       {
        "Acceleration": 11.5,
        "Cylinders": 8,
        "Displacement": 429,
        "Horsepower": 198,
        "Miles_per_Gallon": 12,
        "Name": "mercury marquis brougham",
        "Origin": "USA",
        "Weight_in_lbs": 4952,
        "Year": "1973-01-01T00:00:00"
       },
       {
        "Acceleration": 12,
        "Cylinders": 8,
        "Displacement": 400,
        "Horsepower": 150,
        "Miles_per_Gallon": 13,
        "Name": "chevrolet caprice classic",
        "Origin": "USA",
        "Weight_in_lbs": 4464,
        "Year": "1973-01-01T00:00:00"
       },
       {
        "Acceleration": 13,
        "Cylinders": 8,
        "Displacement": 351,
        "Horsepower": 158,
        "Miles_per_Gallon": 13,
        "Name": "ford ltd",
        "Origin": "USA",
        "Weight_in_lbs": 4363,
        "Year": "1973-01-01T00:00:00"
       },
       {
        "Acceleration": 14.5,
        "Cylinders": 8,
        "Displacement": 318,
        "Horsepower": 150,
        "Miles_per_Gallon": 14,
        "Name": "plymouth fury gran sedan",
        "Origin": "USA",
        "Weight_in_lbs": 4237,
        "Year": "1973-01-01T00:00:00"
       },
       {
        "Acceleration": 11,
        "Cylinders": 8,
        "Displacement": 440,
        "Horsepower": 215,
        "Miles_per_Gallon": 13,
        "Name": "chrysler new yorker brougham",
        "Origin": "USA",
        "Weight_in_lbs": 4735,
        "Year": "1973-01-01T00:00:00"
       },
       {
        "Acceleration": 11,
        "Cylinders": 8,
        "Displacement": 455,
        "Horsepower": 225,
        "Miles_per_Gallon": 12,
        "Name": "buick electra 225 custom",
        "Origin": "USA",
        "Weight_in_lbs": 4951,
        "Year": "1973-01-01T00:00:00"
       },
       {
        "Acceleration": 11,
        "Cylinders": 8,
        "Displacement": 360,
        "Horsepower": 175,
        "Miles_per_Gallon": 13,
        "Name": "amc ambassador brougham",
        "Origin": "USA",
        "Weight_in_lbs": 3821,
        "Year": "1973-01-01T00:00:00"
       },
       {
        "Acceleration": 16.5,
        "Cylinders": 6,
        "Displacement": 225,
        "Horsepower": 105,
        "Miles_per_Gallon": 18,
        "Name": "plymouth valiant",
        "Origin": "USA",
        "Weight_in_lbs": 3121,
        "Year": "1973-01-01T00:00:00"
       },
       {
        "Acceleration": 18,
        "Cylinders": 6,
        "Displacement": 250,
        "Horsepower": 100,
        "Miles_per_Gallon": 16,
        "Name": "chevrolet nova custom",
        "Origin": "USA",
        "Weight_in_lbs": 3278,
        "Year": "1973-01-01T00:00:00"
       },
       {
        "Acceleration": 16,
        "Cylinders": 6,
        "Displacement": 232,
        "Horsepower": 100,
        "Miles_per_Gallon": 18,
        "Name": "amc hornet",
        "Origin": "USA",
        "Weight_in_lbs": 2945,
        "Year": "1973-01-01T00:00:00"
       },
       {
        "Acceleration": 16.5,
        "Cylinders": 6,
        "Displacement": 250,
        "Horsepower": 88,
        "Miles_per_Gallon": 18,
        "Name": "ford maverick",
        "Origin": "USA",
        "Weight_in_lbs": 3021,
        "Year": "1973-01-01T00:00:00"
       },
       {
        "Acceleration": 16,
        "Cylinders": 6,
        "Displacement": 198,
        "Horsepower": 95,
        "Miles_per_Gallon": 23,
        "Name": "plymouth duster",
        "Origin": "USA",
        "Weight_in_lbs": 2904,
        "Year": "1973-01-01T00:00:00"
       },
       {
        "Acceleration": 21,
        "Cylinders": 4,
        "Displacement": 97,
        "Horsepower": 46,
        "Miles_per_Gallon": 26,
        "Name": "volkswagen super beetle",
        "Origin": "Europe",
        "Weight_in_lbs": 1950,
        "Year": "1973-01-01T00:00:00"
       },
       {
        "Acceleration": 14,
        "Cylinders": 8,
        "Displacement": 400,
        "Horsepower": 150,
        "Miles_per_Gallon": 11,
        "Name": "chevrolet impala",
        "Origin": "USA",
        "Weight_in_lbs": 4997,
        "Year": "1973-01-01T00:00:00"
       },
       {
        "Acceleration": 12.5,
        "Cylinders": 8,
        "Displacement": 400,
        "Horsepower": 167,
        "Miles_per_Gallon": 12,
        "Name": "ford country",
        "Origin": "USA",
        "Weight_in_lbs": 4906,
        "Year": "1973-01-01T00:00:00"
       },
       {
        "Acceleration": 13,
        "Cylinders": 8,
        "Displacement": 360,
        "Horsepower": 170,
        "Miles_per_Gallon": 13,
        "Name": "plymouth custom suburb",
        "Origin": "USA",
        "Weight_in_lbs": 4654,
        "Year": "1973-01-01T00:00:00"
       },
       {
        "Acceleration": 12.5,
        "Cylinders": 8,
        "Displacement": 350,
        "Horsepower": 180,
        "Miles_per_Gallon": 12,
        "Name": "oldsmobile vista cruiser",
        "Origin": "USA",
        "Weight_in_lbs": 4499,
        "Year": "1973-01-01T00:00:00"
       },
       {
        "Acceleration": 15,
        "Cylinders": 6,
        "Displacement": 232,
        "Horsepower": 100,
        "Miles_per_Gallon": 18,
        "Name": "amc gremlin",
        "Origin": "USA",
        "Weight_in_lbs": 2789,
        "Year": "1973-01-01T00:00:00"
       },
       {
        "Acceleration": 19,
        "Cylinders": 4,
        "Displacement": 97,
        "Horsepower": 88,
        "Miles_per_Gallon": 20,
        "Name": "toyota carina",
        "Origin": "Japan",
        "Weight_in_lbs": 2279,
        "Year": "1973-01-01T00:00:00"
       },
       {
        "Acceleration": 19.5,
        "Cylinders": 4,
        "Displacement": 140,
        "Horsepower": 72,
        "Miles_per_Gallon": 21,
        "Name": "chevrolet vega",
        "Origin": "USA",
        "Weight_in_lbs": 2401,
        "Year": "1973-01-01T00:00:00"
       },
       {
        "Acceleration": 16.5,
        "Cylinders": 4,
        "Displacement": 108,
        "Horsepower": 94,
        "Miles_per_Gallon": 22,
        "Name": "datsun 610",
        "Origin": "Japan",
        "Weight_in_lbs": 2379,
        "Year": "1973-01-01T00:00:00"
       },
       {
        "Acceleration": 13.5,
        "Cylinders": 3,
        "Displacement": 70,
        "Horsepower": 90,
        "Miles_per_Gallon": 18,
        "Name": "maxda rx3",
        "Origin": "Japan",
        "Weight_in_lbs": 2124,
        "Year": "1973-01-01T00:00:00"
       },
       {
        "Acceleration": 18.5,
        "Cylinders": 4,
        "Displacement": 122,
        "Horsepower": 85,
        "Miles_per_Gallon": 19,
        "Name": "ford pinto",
        "Origin": "USA",
        "Weight_in_lbs": 2310,
        "Year": "1973-01-01T00:00:00"
       },
       {
        "Acceleration": 14,
        "Cylinders": 6,
        "Displacement": 155,
        "Horsepower": 107,
        "Miles_per_Gallon": 21,
        "Name": "mercury capri v6",
        "Origin": "USA",
        "Weight_in_lbs": 2472,
        "Year": "1973-01-01T00:00:00"
       },
       {
        "Acceleration": 15.5,
        "Cylinders": 4,
        "Displacement": 98,
        "Horsepower": 90,
        "Miles_per_Gallon": 26,
        "Name": "fiat 124 sport coupe",
        "Origin": "Europe",
        "Weight_in_lbs": 2265,
        "Year": "1973-01-01T00:00:00"
       },
       {
        "Acceleration": 13,
        "Cylinders": 8,
        "Displacement": 350,
        "Horsepower": 145,
        "Miles_per_Gallon": 15,
        "Name": "chevrolet monte carlo s",
        "Origin": "USA",
        "Weight_in_lbs": 4082,
        "Year": "1973-01-01T00:00:00"
       },
       {
        "Acceleration": 9.5,
        "Cylinders": 8,
        "Displacement": 400,
        "Horsepower": 230,
        "Miles_per_Gallon": 16,
        "Name": "pontiac grand prix",
        "Origin": "USA",
        "Weight_in_lbs": 4278,
        "Year": "1973-01-01T00:00:00"
       },
       {
        "Acceleration": 19.5,
        "Cylinders": 4,
        "Displacement": 68,
        "Horsepower": 49,
        "Miles_per_Gallon": 29,
        "Name": "fiat 128",
        "Origin": "Europe",
        "Weight_in_lbs": 1867,
        "Year": "1973-01-01T00:00:00"
       },
       {
        "Acceleration": 15.5,
        "Cylinders": 4,
        "Displacement": 116,
        "Horsepower": 75,
        "Miles_per_Gallon": 24,
        "Name": "opel manta",
        "Origin": "Europe",
        "Weight_in_lbs": 2158,
        "Year": "1973-01-01T00:00:00"
       },
       {
        "Acceleration": 14,
        "Cylinders": 4,
        "Displacement": 114,
        "Horsepower": 91,
        "Miles_per_Gallon": 20,
        "Name": "audi 100ls",
        "Origin": "Europe",
        "Weight_in_lbs": 2582,
        "Year": "1973-01-01T00:00:00"
       },
       {
        "Acceleration": 15.5,
        "Cylinders": 4,
        "Displacement": 121,
        "Horsepower": 112,
        "Miles_per_Gallon": 19,
        "Name": "volvo 144ea",
        "Origin": "Europe",
        "Weight_in_lbs": 2868,
        "Year": "1973-01-01T00:00:00"
       },
       {
        "Acceleration": 11,
        "Cylinders": 8,
        "Displacement": 318,
        "Horsepower": 150,
        "Miles_per_Gallon": 15,
        "Name": "dodge dart custom",
        "Origin": "USA",
        "Weight_in_lbs": 3399,
        "Year": "1973-01-01T00:00:00"
       },
       {
        "Acceleration": 14,
        "Cylinders": 4,
        "Displacement": 121,
        "Horsepower": 110,
        "Miles_per_Gallon": 24,
        "Name": "saab 99le",
        "Origin": "Europe",
        "Weight_in_lbs": 2660,
        "Year": "1973-01-01T00:00:00"
       },
       {
        "Acceleration": 13.5,
        "Cylinders": 6,
        "Displacement": 156,
        "Horsepower": 122,
        "Miles_per_Gallon": 20,
        "Name": "toyota mark ii",
        "Origin": "Japan",
        "Weight_in_lbs": 2807,
        "Year": "1973-01-01T00:00:00"
       },
       {
        "Acceleration": 11,
        "Cylinders": 8,
        "Displacement": 350,
        "Horsepower": 180,
        "Miles_per_Gallon": 11,
        "Name": "oldsmobile omega",
        "Origin": "USA",
        "Weight_in_lbs": 3664,
        "Year": "1973-01-01T00:00:00"
       },
       {
        "Acceleration": 16.5,
        "Cylinders": 6,
        "Displacement": 198,
        "Horsepower": 95,
        "Miles_per_Gallon": 20,
        "Name": "plymouth duster",
        "Origin": "USA",
        "Weight_in_lbs": 3102,
        "Year": "1974-01-01T00:00:00"
       },
       {
        "Acceleration": 17,
        "Cylinders": 6,
        "Displacement": 200,
        "Horsepower": null,
        "Miles_per_Gallon": 21,
        "Name": "ford maverick",
        "Origin": "USA",
        "Weight_in_lbs": 2875,
        "Year": "1974-01-01T00:00:00"
       },
       {
        "Acceleration": 16,
        "Cylinders": 6,
        "Displacement": 232,
        "Horsepower": 100,
        "Miles_per_Gallon": 19,
        "Name": "amc hornet",
        "Origin": "USA",
        "Weight_in_lbs": 2901,
        "Year": "1974-01-01T00:00:00"
       },
       {
        "Acceleration": 17,
        "Cylinders": 6,
        "Displacement": 250,
        "Horsepower": 100,
        "Miles_per_Gallon": 15,
        "Name": "chevrolet nova",
        "Origin": "USA",
        "Weight_in_lbs": 3336,
        "Year": "1974-01-01T00:00:00"
       },
       {
        "Acceleration": 19,
        "Cylinders": 4,
        "Displacement": 79,
        "Horsepower": 67,
        "Miles_per_Gallon": 31,
        "Name": "datsun b210",
        "Origin": "Japan",
        "Weight_in_lbs": 1950,
        "Year": "1974-01-01T00:00:00"
       },
       {
        "Acceleration": 16.5,
        "Cylinders": 4,
        "Displacement": 122,
        "Horsepower": 80,
        "Miles_per_Gallon": 26,
        "Name": "ford pinto",
        "Origin": "USA",
        "Weight_in_lbs": 2451,
        "Year": "1974-01-01T00:00:00"
       },
       {
        "Acceleration": 21,
        "Cylinders": 4,
        "Displacement": 71,
        "Horsepower": 65,
        "Miles_per_Gallon": 32,
        "Name": "toyota corolla 1200",
        "Origin": "Japan",
        "Weight_in_lbs": 1836,
        "Year": "1974-01-01T00:00:00"
       },
       {
        "Acceleration": 17,
        "Cylinders": 4,
        "Displacement": 140,
        "Horsepower": 75,
        "Miles_per_Gallon": 25,
        "Name": "chevrolet vega",
        "Origin": "USA",
        "Weight_in_lbs": 2542,
        "Year": "1974-01-01T00:00:00"
       },
       {
        "Acceleration": 17,
        "Cylinders": 6,
        "Displacement": 250,
        "Horsepower": 100,
        "Miles_per_Gallon": 16,
        "Name": "chevrolet chevelle malibu classic",
        "Origin": "USA",
        "Weight_in_lbs": 3781,
        "Year": "1974-01-01T00:00:00"
       },
       {
        "Acceleration": 18,
        "Cylinders": 6,
        "Displacement": 258,
        "Horsepower": 110,
        "Miles_per_Gallon": 16,
        "Name": "amc matador",
        "Origin": "USA",
        "Weight_in_lbs": 3632,
        "Year": "1974-01-01T00:00:00"
       },
       {
        "Acceleration": 16.5,
        "Cylinders": 6,
        "Displacement": 225,
        "Horsepower": 105,
        "Miles_per_Gallon": 18,
        "Name": "plymouth satellite sebring",
        "Origin": "USA",
        "Weight_in_lbs": 3613,
        "Year": "1974-01-01T00:00:00"
       },
       {
        "Acceleration": 14,
        "Cylinders": 8,
        "Displacement": 302,
        "Horsepower": 140,
        "Miles_per_Gallon": 16,
        "Name": "ford gran torino",
        "Origin": "USA",
        "Weight_in_lbs": 4141,
        "Year": "1974-01-01T00:00:00"
       },
       {
        "Acceleration": 14.5,
        "Cylinders": 8,
        "Displacement": 350,
        "Horsepower": 150,
        "Miles_per_Gallon": 13,
        "Name": "buick century luxus (sw)",
        "Origin": "USA",
        "Weight_in_lbs": 4699,
        "Year": "1974-01-01T00:00:00"
       },
       {
        "Acceleration": 13.5,
        "Cylinders": 8,
        "Displacement": 318,
        "Horsepower": 150,
        "Miles_per_Gallon": 14,
        "Name": "dodge coronet custom (sw)",
        "Origin": "USA",
        "Weight_in_lbs": 4457,
        "Year": "1974-01-01T00:00:00"
       },
       {
        "Acceleration": 16,
        "Cylinders": 8,
        "Displacement": 302,
        "Horsepower": 140,
        "Miles_per_Gallon": 14,
        "Name": "ford gran torino (sw)",
        "Origin": "USA",
        "Weight_in_lbs": 4638,
        "Year": "1974-01-01T00:00:00"
       },
       {
        "Acceleration": 15.5,
        "Cylinders": 8,
        "Displacement": 304,
        "Horsepower": 150,
        "Miles_per_Gallon": 14,
        "Name": "amc matador (sw)",
        "Origin": "USA",
        "Weight_in_lbs": 4257,
        "Year": "1974-01-01T00:00:00"
       },
       {
        "Acceleration": 16.5,
        "Cylinders": 4,
        "Displacement": 98,
        "Horsepower": 83,
        "Miles_per_Gallon": 29,
        "Name": "audi fox",
        "Origin": "Europe",
        "Weight_in_lbs": 2219,
        "Year": "1974-01-01T00:00:00"
       },
       {
        "Acceleration": 15.5,
        "Cylinders": 4,
        "Displacement": 79,
        "Horsepower": 67,
        "Miles_per_Gallon": 26,
        "Name": "volkswagen dasher",
        "Origin": "Europe",
        "Weight_in_lbs": 1963,
        "Year": "1974-01-01T00:00:00"
       },
       {
        "Acceleration": 14.5,
        "Cylinders": 4,
        "Displacement": 97,
        "Horsepower": 78,
        "Miles_per_Gallon": 26,
        "Name": "opel manta",
        "Origin": "Europe",
        "Weight_in_lbs": 2300,
        "Year": "1974-01-01T00:00:00"
       },
       {
        "Acceleration": 16.5,
        "Cylinders": 4,
        "Displacement": 76,
        "Horsepower": 52,
        "Miles_per_Gallon": 31,
        "Name": "toyota corona",
        "Origin": "Japan",
        "Weight_in_lbs": 1649,
        "Year": "1974-01-01T00:00:00"
       },
       {
        "Acceleration": 19,
        "Cylinders": 4,
        "Displacement": 83,
        "Horsepower": 61,
        "Miles_per_Gallon": 32,
        "Name": "datsun 710",
        "Origin": "Japan",
        "Weight_in_lbs": 2003,
        "Year": "1974-01-01T00:00:00"
       },
       {
        "Acceleration": 14.5,
        "Cylinders": 4,
        "Displacement": 90,
        "Horsepower": 75,
        "Miles_per_Gallon": 28,
        "Name": "dodge colt",
        "Origin": "USA",
        "Weight_in_lbs": 2125,
        "Year": "1974-01-01T00:00:00"
       },
       {
        "Acceleration": 15.5,
        "Cylinders": 4,
        "Displacement": 90,
        "Horsepower": 75,
        "Miles_per_Gallon": 24,
        "Name": "fiat 128",
        "Origin": "Europe",
        "Weight_in_lbs": 2108,
        "Year": "1974-01-01T00:00:00"
       },
       {
        "Acceleration": 14,
        "Cylinders": 4,
        "Displacement": 116,
        "Horsepower": 75,
        "Miles_per_Gallon": 26,
        "Name": "fiat 124 tc",
        "Origin": "Europe",
        "Weight_in_lbs": 2246,
        "Year": "1974-01-01T00:00:00"
       },
       {
        "Acceleration": 15,
        "Cylinders": 4,
        "Displacement": 120,
        "Horsepower": 97,
        "Miles_per_Gallon": 24,
        "Name": "honda civic",
        "Origin": "Japan",
        "Weight_in_lbs": 2489,
        "Year": "1974-01-01T00:00:00"
       },
       {
        "Acceleration": 15.5,
        "Cylinders": 4,
        "Displacement": 108,
        "Horsepower": 93,
        "Miles_per_Gallon": 26,
        "Name": "subaru",
        "Origin": "Japan",
        "Weight_in_lbs": 2391,
        "Year": "1974-01-01T00:00:00"
       },
       {
        "Acceleration": 16,
        "Cylinders": 4,
        "Displacement": 79,
        "Horsepower": 67,
        "Miles_per_Gallon": 31,
        "Name": "fiat x1.9",
        "Origin": "Europe",
        "Weight_in_lbs": 2000,
        "Year": "1974-01-01T00:00:00"
       },
       {
        "Acceleration": 16,
        "Cylinders": 6,
        "Displacement": 225,
        "Horsepower": 95,
        "Miles_per_Gallon": 19,
        "Name": "plymouth valiant custom",
        "Origin": "USA",
        "Weight_in_lbs": 3264,
        "Year": "1975-01-01T00:00:00"
       },
       {
        "Acceleration": 16,
        "Cylinders": 6,
        "Displacement": 250,
        "Horsepower": 105,
        "Miles_per_Gallon": 18,
        "Name": "chevrolet nova",
        "Origin": "USA",
        "Weight_in_lbs": 3459,
        "Year": "1975-01-01T00:00:00"
       },
       {
        "Acceleration": 21,
        "Cylinders": 6,
        "Displacement": 250,
        "Horsepower": 72,
        "Miles_per_Gallon": 15,
        "Name": "mercury monarch",
        "Origin": "USA",
        "Weight_in_lbs": 3432,
        "Year": "1975-01-01T00:00:00"
       },
       {
        "Acceleration": 19.5,
        "Cylinders": 6,
        "Displacement": 250,
        "Horsepower": 72,
        "Miles_per_Gallon": 15,
        "Name": "ford maverick",
        "Origin": "USA",
        "Weight_in_lbs": 3158,
        "Year": "1975-01-01T00:00:00"
       },
       {
        "Acceleration": 11.5,
        "Cylinders": 8,
        "Displacement": 400,
        "Horsepower": 170,
        "Miles_per_Gallon": 16,
        "Name": "pontiac catalina",
        "Origin": "USA",
        "Weight_in_lbs": 4668,
        "Year": "1975-01-01T00:00:00"
       },
       {
        "Acceleration": 14,
        "Cylinders": 8,
        "Displacement": 350,
        "Horsepower": 145,
        "Miles_per_Gallon": 15,
        "Name": "chevrolet bel air",
        "Origin": "USA",
        "Weight_in_lbs": 4440,
        "Year": "1975-01-01T00:00:00"
       },
       {
        "Acceleration": 14.5,
        "Cylinders": 8,
        "Displacement": 318,
        "Horsepower": 150,
        "Miles_per_Gallon": 16,
        "Name": "plymouth grand fury",
        "Origin": "USA",
        "Weight_in_lbs": 4498,
        "Year": "1975-01-01T00:00:00"
       },
       {
        "Acceleration": 13.5,
        "Cylinders": 8,
        "Displacement": 351,
        "Horsepower": 148,
        "Miles_per_Gallon": 14,
        "Name": "ford ltd",
        "Origin": "USA",
        "Weight_in_lbs": 4657,
        "Year": "1975-01-01T00:00:00"
       },
       {
        "Acceleration": 21,
        "Cylinders": 6,
        "Displacement": 231,
        "Horsepower": 110,
        "Miles_per_Gallon": 17,
        "Name": "buick century",
        "Origin": "USA",
        "Weight_in_lbs": 3907,
        "Year": "1975-01-01T00:00:00"
       },
       {
        "Acceleration": 18.5,
        "Cylinders": 6,
        "Displacement": 250,
        "Horsepower": 105,
        "Miles_per_Gallon": 16,
        "Name": "chevroelt chevelle malibu",
        "Origin": "USA",
        "Weight_in_lbs": 3897,
        "Year": "1975-01-01T00:00:00"
       },
       {
        "Acceleration": 19,
        "Cylinders": 6,
        "Displacement": 258,
        "Horsepower": 110,
        "Miles_per_Gallon": 15,
        "Name": "amc matador",
        "Origin": "USA",
        "Weight_in_lbs": 3730,
        "Year": "1975-01-01T00:00:00"
       },
       {
        "Acceleration": 19,
        "Cylinders": 6,
        "Displacement": 225,
        "Horsepower": 95,
        "Miles_per_Gallon": 18,
        "Name": "plymouth fury",
        "Origin": "USA",
        "Weight_in_lbs": 3785,
        "Year": "1975-01-01T00:00:00"
       },
       {
        "Acceleration": 15,
        "Cylinders": 6,
        "Displacement": 231,
        "Horsepower": 110,
        "Miles_per_Gallon": 21,
        "Name": "buick skyhawk",
        "Origin": "USA",
        "Weight_in_lbs": 3039,
        "Year": "1975-01-01T00:00:00"
       },
       {
        "Acceleration": 13.5,
        "Cylinders": 8,
        "Displacement": 262,
        "Horsepower": 110,
        "Miles_per_Gallon": 20,
        "Name": "chevrolet monza 2+2",
        "Origin": "USA",
        "Weight_in_lbs": 3221,
        "Year": "1975-01-01T00:00:00"
       },
       {
        "Acceleration": 12,
        "Cylinders": 8,
        "Displacement": 302,
        "Horsepower": 129,
        "Miles_per_Gallon": 13,
        "Name": "ford mustang ii",
        "Origin": "USA",
        "Weight_in_lbs": 3169,
        "Year": "1975-01-01T00:00:00"
       },
       {
        "Acceleration": 16,
        "Cylinders": 4,
        "Displacement": 97,
        "Horsepower": 75,
        "Miles_per_Gallon": 29,
        "Name": "toyota corolla",
        "Origin": "Japan",
        "Weight_in_lbs": 2171,
        "Year": "1975-01-01T00:00:00"
       },
       {
        "Acceleration": 17,
        "Cylinders": 4,
        "Displacement": 140,
        "Horsepower": 83,
        "Miles_per_Gallon": 23,
        "Name": "ford pinto",
        "Origin": "USA",
        "Weight_in_lbs": 2639,
        "Year": "1975-01-01T00:00:00"
       },
       {
        "Acceleration": 16,
        "Cylinders": 6,
        "Displacement": 232,
        "Horsepower": 100,
        "Miles_per_Gallon": 20,
        "Name": "amc gremlin",
        "Origin": "USA",
        "Weight_in_lbs": 2914,
        "Year": "1975-01-01T00:00:00"
       },
       {
        "Acceleration": 18.5,
        "Cylinders": 4,
        "Displacement": 140,
        "Horsepower": 78,
        "Miles_per_Gallon": 23,
        "Name": "pontiac astro",
        "Origin": "USA",
        "Weight_in_lbs": 2592,
        "Year": "1975-01-01T00:00:00"
       },
       {
        "Acceleration": 13.5,
        "Cylinders": 4,
        "Displacement": 134,
        "Horsepower": 96,
        "Miles_per_Gallon": 24,
        "Name": "toyota corona",
        "Origin": "Japan",
        "Weight_in_lbs": 2702,
        "Year": "1975-01-01T00:00:00"
       },
       {
        "Acceleration": 16.5,
        "Cylinders": 4,
        "Displacement": 90,
        "Horsepower": 71,
        "Miles_per_Gallon": 25,
        "Name": "volkswagen dasher",
        "Origin": "Europe",
        "Weight_in_lbs": 2223,
        "Year": "1975-01-01T00:00:00"
       },
       {
        "Acceleration": 17,
        "Cylinders": 4,
        "Displacement": 119,
        "Horsepower": 97,
        "Miles_per_Gallon": 24,
        "Name": "datsun 710",
        "Origin": "Japan",
        "Weight_in_lbs": 2545,
        "Year": "1975-01-01T00:00:00"
       },
       {
        "Acceleration": 14.5,
        "Cylinders": 6,
        "Displacement": 171,
        "Horsepower": 97,
        "Miles_per_Gallon": 18,
        "Name": "ford pinto",
        "Origin": "USA",
        "Weight_in_lbs": 2984,
        "Year": "1975-01-01T00:00:00"
       },
       {
        "Acceleration": 14,
        "Cylinders": 4,
        "Displacement": 90,
        "Horsepower": 70,
        "Miles_per_Gallon": 29,
        "Name": "volkswagen rabbit",
        "Origin": "Europe",
        "Weight_in_lbs": 1937,
        "Year": "1975-01-01T00:00:00"
       },
       {
        "Acceleration": 17,
        "Cylinders": 6,
        "Displacement": 232,
        "Horsepower": 90,
        "Miles_per_Gallon": 19,
        "Name": "amc pacer",
        "Origin": "USA",
        "Weight_in_lbs": 3211,
        "Year": "1975-01-01T00:00:00"
       },
       {
        "Acceleration": 15,
        "Cylinders": 4,
        "Displacement": 115,
        "Horsepower": 95,
        "Miles_per_Gallon": 23,
        "Name": "audi 100ls",
        "Origin": "Europe",
        "Weight_in_lbs": 2694,
        "Year": "1975-01-01T00:00:00"
       },
       {
        "Acceleration": 17,
        "Cylinders": 4,
        "Displacement": 120,
        "Horsepower": 88,
        "Miles_per_Gallon": 23,
        "Name": "peugeot 504",
        "Origin": "Europe",
        "Weight_in_lbs": 2957,
        "Year": "1975-01-01T00:00:00"
       },
       {
        "Acceleration": 14.5,
        "Cylinders": 4,
        "Displacement": 121,
        "Horsepower": 98,
        "Miles_per_Gallon": 22,
        "Name": "volvo 244dl",
        "Origin": "Europe",
        "Weight_in_lbs": 2945,
        "Year": "1975-01-01T00:00:00"
       },
       {
        "Acceleration": 13.5,
        "Cylinders": 4,
        "Displacement": 121,
        "Horsepower": 115,
        "Miles_per_Gallon": 25,
        "Name": "saab 99le",
        "Origin": "Europe",
        "Weight_in_lbs": 2671,
        "Year": "1975-01-01T00:00:00"
       },
       {
        "Acceleration": 17.5,
        "Cylinders": 4,
        "Displacement": 91,
        "Horsepower": 53,
        "Miles_per_Gallon": 33,
        "Name": "honda civic cvcc",
        "Origin": "Japan",
        "Weight_in_lbs": 1795,
        "Year": "1975-01-01T00:00:00"
       },
       {
        "Acceleration": 15.5,
        "Cylinders": 4,
        "Displacement": 107,
        "Horsepower": 86,
        "Miles_per_Gallon": 28,
        "Name": "fiat 131",
        "Origin": "Europe",
        "Weight_in_lbs": 2464,
        "Year": "1976-01-01T00:00:00"
       },
       {
        "Acceleration": 16.9,
        "Cylinders": 4,
        "Displacement": 116,
        "Horsepower": 81,
        "Miles_per_Gallon": 25,
        "Name": "opel 1900",
        "Origin": "Europe",
        "Weight_in_lbs": 2220,
        "Year": "1976-01-01T00:00:00"
       },
       {
        "Acceleration": 14.9,
        "Cylinders": 4,
        "Displacement": 140,
        "Horsepower": 92,
        "Miles_per_Gallon": 25,
        "Name": "capri ii",
        "Origin": "USA",
        "Weight_in_lbs": 2572,
        "Year": "1976-01-01T00:00:00"
       },
       {
        "Acceleration": 17.7,
        "Cylinders": 4,
        "Displacement": 98,
        "Horsepower": 79,
        "Miles_per_Gallon": 26,
        "Name": "dodge colt",
        "Origin": "USA",
        "Weight_in_lbs": 2255,
        "Year": "1976-01-01T00:00:00"
       },
       {
        "Acceleration": 15.3,
        "Cylinders": 4,
        "Displacement": 101,
        "Horsepower": 83,
        "Miles_per_Gallon": 27,
        "Name": "renault 12tl",
        "Origin": "Europe",
        "Weight_in_lbs": 2202,
        "Year": "1976-01-01T00:00:00"
       },
       {
        "Acceleration": 13,
        "Cylinders": 8,
        "Displacement": 305,
        "Horsepower": 140,
        "Miles_per_Gallon": 17.5,
        "Name": "chevrolet chevelle malibu classic",
        "Origin": "USA",
        "Weight_in_lbs": 4215,
        "Year": "1976-01-01T00:00:00"
       },
       {
        "Acceleration": 13,
        "Cylinders": 8,
        "Displacement": 318,
        "Horsepower": 150,
        "Miles_per_Gallon": 16,
        "Name": "dodge coronet brougham",
        "Origin": "USA",
        "Weight_in_lbs": 4190,
        "Year": "1976-01-01T00:00:00"
       },
       {
        "Acceleration": 13.9,
        "Cylinders": 8,
        "Displacement": 304,
        "Horsepower": 120,
        "Miles_per_Gallon": 15.5,
        "Name": "amc matador",
        "Origin": "USA",
        "Weight_in_lbs": 3962,
        "Year": "1976-01-01T00:00:00"
       },
       {
        "Acceleration": 12.8,
        "Cylinders": 8,
        "Displacement": 351,
        "Horsepower": 152,
        "Miles_per_Gallon": 14.5,
        "Name": "ford gran torino",
        "Origin": "USA",
        "Weight_in_lbs": 4215,
        "Year": "1976-01-01T00:00:00"
       },
       {
        "Acceleration": 15.4,
        "Cylinders": 6,
        "Displacement": 225,
        "Horsepower": 100,
        "Miles_per_Gallon": 22,
        "Name": "plymouth valiant",
        "Origin": "USA",
        "Weight_in_lbs": 3233,
        "Year": "1976-01-01T00:00:00"
       },
       {
        "Acceleration": 14.5,
        "Cylinders": 6,
        "Displacement": 250,
        "Horsepower": 105,
        "Miles_per_Gallon": 22,
        "Name": "chevrolet nova",
        "Origin": "USA",
        "Weight_in_lbs": 3353,
        "Year": "1976-01-01T00:00:00"
       },
       {
        "Acceleration": 17.6,
        "Cylinders": 6,
        "Displacement": 200,
        "Horsepower": 81,
        "Miles_per_Gallon": 24,
        "Name": "ford maverick",
        "Origin": "USA",
        "Weight_in_lbs": 3012,
        "Year": "1976-01-01T00:00:00"
       },
       {
        "Acceleration": 17.6,
        "Cylinders": 6,
        "Displacement": 232,
        "Horsepower": 90,
        "Miles_per_Gallon": 22.5,
        "Name": "amc hornet",
        "Origin": "USA",
        "Weight_in_lbs": 3085,
        "Year": "1976-01-01T00:00:00"
       },
       {
        "Acceleration": 22.2,
        "Cylinders": 4,
        "Displacement": 85,
        "Horsepower": 52,
        "Miles_per_Gallon": 29,
        "Name": "chevrolet chevette",
        "Origin": "USA",
        "Weight_in_lbs": 2035,
        "Year": "1976-01-01T00:00:00"
       },
       {
        "Acceleration": 22.1,
        "Cylinders": 4,
        "Displacement": 98,
        "Horsepower": 60,
        "Miles_per_Gallon": 24.5,
        "Name": "chevrolet woody",
        "Origin": "USA",
        "Weight_in_lbs": 2164,
        "Year": "1976-01-01T00:00:00"
       },
       {
        "Acceleration": 14.2,
        "Cylinders": 4,
        "Displacement": 90,
        "Horsepower": 70,
        "Miles_per_Gallon": 29,
        "Name": "vw rabbit",
        "Origin": "Europe",
        "Weight_in_lbs": 1937,
        "Year": "1976-01-01T00:00:00"
       },
       {
        "Acceleration": 17.4,
        "Cylinders": 4,
        "Displacement": 91,
        "Horsepower": 53,
        "Miles_per_Gallon": 33,
        "Name": "honda civic",
        "Origin": "Japan",
        "Weight_in_lbs": 1795,
        "Year": "1976-01-01T00:00:00"
       },
       {
        "Acceleration": 17.7,
        "Cylinders": 6,
        "Displacement": 225,
        "Horsepower": 100,
        "Miles_per_Gallon": 20,
        "Name": "dodge aspen se",
        "Origin": "USA",
        "Weight_in_lbs": 3651,
        "Year": "1976-01-01T00:00:00"
       },
       {
        "Acceleration": 21,
        "Cylinders": 6,
        "Displacement": 250,
        "Horsepower": 78,
        "Miles_per_Gallon": 18,
        "Name": "ford granada ghia",
        "Origin": "USA",
        "Weight_in_lbs": 3574,
        "Year": "1976-01-01T00:00:00"
       },
       {
        "Acceleration": 16.2,
        "Cylinders": 6,
        "Displacement": 250,
        "Horsepower": 110,
        "Miles_per_Gallon": 18.5,
        "Name": "pontiac ventura sj",
        "Origin": "USA",
        "Weight_in_lbs": 3645,
        "Year": "1976-01-01T00:00:00"
       },
       {
        "Acceleration": 17.8,
        "Cylinders": 6,
        "Displacement": 258,
        "Horsepower": 95,
        "Miles_per_Gallon": 17.5,
        "Name": "amc pacer d/l",
        "Origin": "USA",
        "Weight_in_lbs": 3193,
        "Year": "1976-01-01T00:00:00"
       },
       {
        "Acceleration": 12.2,
        "Cylinders": 4,
        "Displacement": 97,
        "Horsepower": 71,
        "Miles_per_Gallon": 29.5,
        "Name": "volkswagen rabbit",
        "Origin": "Europe",
        "Weight_in_lbs": 1825,
        "Year": "1976-01-01T00:00:00"
       },
       {
        "Acceleration": 17,
        "Cylinders": 4,
        "Displacement": 85,
        "Horsepower": 70,
        "Miles_per_Gallon": 32,
        "Name": "datsun b-210",
        "Origin": "Japan",
        "Weight_in_lbs": 1990,
        "Year": "1976-01-01T00:00:00"
       },
       {
        "Acceleration": 16.4,
        "Cylinders": 4,
        "Displacement": 97,
        "Horsepower": 75,
        "Miles_per_Gallon": 28,
        "Name": "toyota corolla",
        "Origin": "Japan",
        "Weight_in_lbs": 2155,
        "Year": "1976-01-01T00:00:00"
       },
       {
        "Acceleration": 13.6,
        "Cylinders": 4,
        "Displacement": 140,
        "Horsepower": 72,
        "Miles_per_Gallon": 26.5,
        "Name": "ford pinto",
        "Origin": "USA",
        "Weight_in_lbs": 2565,
        "Year": "1976-01-01T00:00:00"
       },
       {
        "Acceleration": 15.7,
        "Cylinders": 4,
        "Displacement": 130,
        "Horsepower": 102,
        "Miles_per_Gallon": 20,
        "Name": "volvo 245",
        "Origin": "Europe",
        "Weight_in_lbs": 3150,
        "Year": "1976-01-01T00:00:00"
       },
       {
        "Acceleration": 13.2,
        "Cylinders": 8,
        "Displacement": 318,
        "Horsepower": 150,
        "Miles_per_Gallon": 13,
        "Name": "plymouth volare premier v8",
        "Origin": "USA",
        "Weight_in_lbs": 3940,
        "Year": "1976-01-01T00:00:00"
       },
       {
        "Acceleration": 21.9,
        "Cylinders": 4,
        "Displacement": 120,
        "Horsepower": 88,
        "Miles_per_Gallon": 19,
        "Name": "peugeot 504",
        "Origin": "Europe",
        "Weight_in_lbs": 3270,
        "Year": "1976-01-01T00:00:00"
       },
       {
        "Acceleration": 15.5,
        "Cylinders": 6,
        "Displacement": 156,
        "Horsepower": 108,
        "Miles_per_Gallon": 19,
        "Name": "toyota mark ii",
        "Origin": "Japan",
        "Weight_in_lbs": 2930,
        "Year": "1976-01-01T00:00:00"
       },
       {
        "Acceleration": 16.7,
        "Cylinders": 6,
        "Displacement": 168,
        "Horsepower": 120,
        "Miles_per_Gallon": 16.5,
        "Name": "mercedes-benz 280s",
        "Origin": "Europe",
        "Weight_in_lbs": 3820,
        "Year": "1976-01-01T00:00:00"
       },
       {
        "Acceleration": 12.1,
        "Cylinders": 8,
        "Displacement": 350,
        "Horsepower": 180,
        "Miles_per_Gallon": 16.5,
        "Name": "cadillac seville",
        "Origin": "USA",
        "Weight_in_lbs": 4380,
        "Year": "1976-01-01T00:00:00"
       },
       {
        "Acceleration": 12,
        "Cylinders": 8,
        "Displacement": 350,
        "Horsepower": 145,
        "Miles_per_Gallon": 13,
        "Name": "chevy c10",
        "Origin": "USA",
        "Weight_in_lbs": 4055,
        "Year": "1976-01-01T00:00:00"
       },
       {
        "Acceleration": 15,
        "Cylinders": 8,
        "Displacement": 302,
        "Horsepower": 130,
        "Miles_per_Gallon": 13,
        "Name": "ford f108",
        "Origin": "USA",
        "Weight_in_lbs": 3870,
        "Year": "1976-01-01T00:00:00"
       },
       {
        "Acceleration": 14,
        "Cylinders": 8,
        "Displacement": 318,
        "Horsepower": 150,
        "Miles_per_Gallon": 13,
        "Name": "dodge d100",
        "Origin": "USA",
        "Weight_in_lbs": 3755,
        "Year": "1976-01-01T00:00:00"
       },
       {
        "Acceleration": 18.5,
        "Cylinders": 4,
        "Displacement": 98,
        "Horsepower": 68,
        "Miles_per_Gallon": 31.5,
        "Name": "honda Accelerationord cvcc",
        "Origin": "Japan",
        "Weight_in_lbs": 2045,
        "Year": "1977-01-01T00:00:00"
       },
       {
        "Acceleration": 14.8,
        "Cylinders": 4,
        "Displacement": 111,
        "Horsepower": 80,
        "Miles_per_Gallon": 30,
        "Name": "buick opel isuzu deluxe",
        "Origin": "USA",
        "Weight_in_lbs": 2155,
        "Year": "1977-01-01T00:00:00"
       },
       {
        "Acceleration": 18.6,
        "Cylinders": 4,
        "Displacement": 79,
        "Horsepower": 58,
        "Miles_per_Gallon": 36,
        "Name": "renault 5 gtl",
        "Origin": "Europe",
        "Weight_in_lbs": 1825,
        "Year": "1977-01-01T00:00:00"
       },
       {
        "Acceleration": 15.5,
        "Cylinders": 4,
        "Displacement": 122,
        "Horsepower": 96,
        "Miles_per_Gallon": 25.5,
        "Name": "plymouth arrow gs",
        "Origin": "USA",
        "Weight_in_lbs": 2300,
        "Year": "1977-01-01T00:00:00"
       },
       {
        "Acceleration": 16.8,
        "Cylinders": 4,
        "Displacement": 85,
        "Horsepower": 70,
        "Miles_per_Gallon": 33.5,
        "Name": "datsun f-10 hatchback",
        "Origin": "Japan",
        "Weight_in_lbs": 1945,
        "Year": "1977-01-01T00:00:00"
       },
       {
        "Acceleration": 12.5,
        "Cylinders": 8,
        "Displacement": 305,
        "Horsepower": 145,
        "Miles_per_Gallon": 17.5,
        "Name": "chevrolet caprice classic",
        "Origin": "USA",
        "Weight_in_lbs": 3880,
        "Year": "1977-01-01T00:00:00"
       },
       {
        "Acceleration": 19,
        "Cylinders": 8,
        "Displacement": 260,
        "Horsepower": 110,
        "Miles_per_Gallon": 17,
        "Name": "oldsmobile cutlass supreme",
        "Origin": "USA",
        "Weight_in_lbs": 4060,
        "Year": "1977-01-01T00:00:00"
       },
       {
        "Acceleration": 13.7,
        "Cylinders": 8,
        "Displacement": 318,
        "Horsepower": 145,
        "Miles_per_Gallon": 15.5,
        "Name": "dodge monaco brougham",
        "Origin": "USA",
        "Weight_in_lbs": 4140,
        "Year": "1977-01-01T00:00:00"
       },
       {
        "Acceleration": 14.9,
        "Cylinders": 8,
        "Displacement": 302,
        "Horsepower": 130,
        "Miles_per_Gallon": 15,
        "Name": "mercury cougar brougham",
        "Origin": "USA",
        "Weight_in_lbs": 4295,
        "Year": "1977-01-01T00:00:00"
       },
       {
        "Acceleration": 16.4,
        "Cylinders": 6,
        "Displacement": 250,
        "Horsepower": 110,
        "Miles_per_Gallon": 17.5,
        "Name": "chevrolet concours",
        "Origin": "USA",
        "Weight_in_lbs": 3520,
        "Year": "1977-01-01T00:00:00"
       },
       {
        "Acceleration": 16.9,
        "Cylinders": 6,
        "Displacement": 231,
        "Horsepower": 105,
        "Miles_per_Gallon": 20.5,
        "Name": "buick skylark",
        "Origin": "USA",
        "Weight_in_lbs": 3425,
        "Year": "1977-01-01T00:00:00"
       },
       {
        "Acceleration": 17.7,
        "Cylinders": 6,
        "Displacement": 225,
        "Horsepower": 100,
        "Miles_per_Gallon": 19,
        "Name": "plymouth volare custom",
        "Origin": "USA",
        "Weight_in_lbs": 3630,
        "Year": "1977-01-01T00:00:00"
       },
       {
        "Acceleration": 19,
        "Cylinders": 6,
        "Displacement": 250,
        "Horsepower": 98,
        "Miles_per_Gallon": 18.5,
        "Name": "ford granada",
        "Origin": "USA",
        "Weight_in_lbs": 3525,
        "Year": "1977-01-01T00:00:00"
       },
       {
        "Acceleration": 11.1,
        "Cylinders": 8,
        "Displacement": 400,
        "Horsepower": 180,
        "Miles_per_Gallon": 16,
        "Name": "pontiac grand prix lj",
        "Origin": "USA",
        "Weight_in_lbs": 4220,
        "Year": "1977-01-01T00:00:00"
       },
       {
        "Acceleration": 11.4,
        "Cylinders": 8,
        "Displacement": 350,
        "Horsepower": 170,
        "Miles_per_Gallon": 15.5,
        "Name": "chevrolet monte carlo landau",
        "Origin": "USA",
        "Weight_in_lbs": 4165,
        "Year": "1977-01-01T00:00:00"
       },
       {
        "Acceleration": 12.2,
        "Cylinders": 8,
        "Displacement": 400,
        "Horsepower": 190,
        "Miles_per_Gallon": 15.5,
        "Name": "chrysler cordoba",
        "Origin": "USA",
        "Weight_in_lbs": 4325,
        "Year": "1977-01-01T00:00:00"
       },
       {
        "Acceleration": 14.5,
        "Cylinders": 8,
        "Displacement": 351,
        "Horsepower": 149,
        "Miles_per_Gallon": 16,
        "Name": "ford thunderbird",
        "Origin": "USA",
        "Weight_in_lbs": 4335,
        "Year": "1977-01-01T00:00:00"
       },
       {
        "Acceleration": 14.5,
        "Cylinders": 4,
        "Displacement": 97,
        "Horsepower": 78,
        "Miles_per_Gallon": 29,
        "Name": "volkswagen rabbit custom",
        "Origin": "Europe",
        "Weight_in_lbs": 1940,
        "Year": "1977-01-01T00:00:00"
       },
       {
        "Acceleration": 16,
        "Cylinders": 4,
        "Displacement": 151,
        "Horsepower": 88,
        "Miles_per_Gallon": 24.5,
        "Name": "pontiac sunbird coupe",
        "Origin": "USA",
        "Weight_in_lbs": 2740,
        "Year": "1977-01-01T00:00:00"
       },
       {
        "Acceleration": 18.2,
        "Cylinders": 4,
        "Displacement": 97,
        "Horsepower": 75,
        "Miles_per_Gallon": 26,
        "Name": "toyota corolla liftback",
        "Origin": "Japan",
        "Weight_in_lbs": 2265,
        "Year": "1977-01-01T00:00:00"
       },
       {
        "Acceleration": 15.8,
        "Cylinders": 4,
        "Displacement": 140,
        "Horsepower": 89,
        "Miles_per_Gallon": 25.5,
        "Name": "ford mustang ii 2+2",
        "Origin": "USA",
        "Weight_in_lbs": 2755,
        "Year": "1977-01-01T00:00:00"
       },
       {
        "Acceleration": 17,
        "Cylinders": 4,
        "Displacement": 98,
        "Horsepower": 63,
        "Miles_per_Gallon": 30.5,
        "Name": "chevrolet chevette",
        "Origin": "USA",
        "Weight_in_lbs": 2051,
        "Year": "1977-01-01T00:00:00"
       },
       {
        "Acceleration": 15.9,
        "Cylinders": 4,
        "Displacement": 98,
        "Horsepower": 83,
        "Miles_per_Gallon": 33.5,
        "Name": "dodge colt m/m",
        "Origin": "USA",
        "Weight_in_lbs": 2075,
        "Year": "1977-01-01T00:00:00"
       },
       {
        "Acceleration": 16.4,
        "Cylinders": 4,
        "Displacement": 97,
        "Horsepower": 67,
        "Miles_per_Gallon": 30,
        "Name": "subaru dl",
        "Origin": "Japan",
        "Weight_in_lbs": 1985,
        "Year": "1977-01-01T00:00:00"
       },
       {
        "Acceleration": 14.1,
        "Cylinders": 4,
        "Displacement": 97,
        "Horsepower": 78,
        "Miles_per_Gallon": 30.5,
        "Name": "volkswagen dasher",
        "Origin": "Europe",
        "Weight_in_lbs": 2190,
        "Year": "1977-01-01T00:00:00"
       },
       {
        "Acceleration": 14.5,
        "Cylinders": 6,
        "Displacement": 146,
        "Horsepower": 97,
        "Miles_per_Gallon": 22,
        "Name": "datsun 810",
        "Origin": "Japan",
        "Weight_in_lbs": 2815,
        "Year": "1977-01-01T00:00:00"
       },
       {
        "Acceleration": 12.8,
        "Cylinders": 4,
        "Displacement": 121,
        "Horsepower": 110,
        "Miles_per_Gallon": 21.5,
        "Name": "bmw 320i",
        "Origin": "Europe",
        "Weight_in_lbs": 2600,
        "Year": "1977-01-01T00:00:00"
       },
       {
        "Acceleration": 13.5,
        "Cylinders": 3,
        "Displacement": 80,
        "Horsepower": 110,
        "Miles_per_Gallon": 21.5,
        "Name": "mazda rx-4",
        "Origin": "Japan",
        "Weight_in_lbs": 2720,
        "Year": "1977-01-01T00:00:00"
       },
       {
        "Acceleration": 21.5,
        "Cylinders": 4,
        "Displacement": 90,
        "Horsepower": 48,
        "Miles_per_Gallon": 43.1,
        "Name": "volkswagen rabbit custom diesel",
        "Origin": "Europe",
        "Weight_in_lbs": 1985,
        "Year": "1978-01-01T00:00:00"
       },
       {
        "Acceleration": 14.4,
        "Cylinders": 4,
        "Displacement": 98,
        "Horsepower": 66,
        "Miles_per_Gallon": 36.1,
        "Name": "ford fiesta",
        "Origin": "USA",
        "Weight_in_lbs": 1800,
        "Year": "1978-01-01T00:00:00"
       },
       {
        "Acceleration": 19.4,
        "Cylinders": 4,
        "Displacement": 78,
        "Horsepower": 52,
        "Miles_per_Gallon": 32.8,
        "Name": "mazda glc deluxe",
        "Origin": "Japan",
        "Weight_in_lbs": 1985,
        "Year": "1978-01-01T00:00:00"
       },
       {
        "Acceleration": 18.6,
        "Cylinders": 4,
        "Displacement": 85,
        "Horsepower": 70,
        "Miles_per_Gallon": 39.4,
        "Name": "datsun b210 gx",
        "Origin": "Japan",
        "Weight_in_lbs": 2070,
        "Year": "1978-01-01T00:00:00"
       },
       {
        "Acceleration": 16.4,
        "Cylinders": 4,
        "Displacement": 91,
        "Horsepower": 60,
        "Miles_per_Gallon": 36.1,
        "Name": "honda civic cvcc",
        "Origin": "Japan",
        "Weight_in_lbs": 1800,
        "Year": "1978-01-01T00:00:00"
       },
       {
        "Acceleration": 15.5,
        "Cylinders": 8,
        "Displacement": 260,
        "Horsepower": 110,
        "Miles_per_Gallon": 19.9,
        "Name": "oldsmobile cutlass salon brougham",
        "Origin": "USA",
        "Weight_in_lbs": 3365,
        "Year": "1978-01-01T00:00:00"
       },
       {
        "Acceleration": 13.2,
        "Cylinders": 8,
        "Displacement": 318,
        "Horsepower": 140,
        "Miles_per_Gallon": 19.4,
        "Name": "dodge diplomat",
        "Origin": "USA",
        "Weight_in_lbs": 3735,
        "Year": "1978-01-01T00:00:00"
       },
       {
        "Acceleration": 12.8,
        "Cylinders": 8,
        "Displacement": 302,
        "Horsepower": 139,
        "Miles_per_Gallon": 20.2,
        "Name": "mercury monarch ghia",
        "Origin": "USA",
        "Weight_in_lbs": 3570,
        "Year": "1978-01-01T00:00:00"
       },
       {
        "Acceleration": 19.2,
        "Cylinders": 6,
        "Displacement": 231,
        "Horsepower": 105,
        "Miles_per_Gallon": 19.2,
        "Name": "pontiac phoenix lj",
        "Origin": "USA",
        "Weight_in_lbs": 3535,
        "Year": "1978-01-01T00:00:00"
       },
       {
        "Acceleration": 18.2,
        "Cylinders": 6,
        "Displacement": 200,
        "Horsepower": 95,
        "Miles_per_Gallon": 20.5,
        "Name": "chevrolet malibu",
        "Origin": "USA",
        "Weight_in_lbs": 3155,
        "Year": "1978-01-01T00:00:00"
       },
       {
        "Acceleration": 15.8,
        "Cylinders": 6,
        "Displacement": 200,
        "Horsepower": 85,
        "Miles_per_Gallon": 20.2,
        "Name": "ford fairmont (auto)",
        "Origin": "USA",
        "Weight_in_lbs": 2965,
        "Year": "1978-01-01T00:00:00"
       },
       {
        "Acceleration": 15.4,
        "Cylinders": 4,
        "Displacement": 140,
        "Horsepower": 88,
        "Miles_per_Gallon": 25.1,
        "Name": "ford fairmont (man)",
        "Origin": "USA",
        "Weight_in_lbs": 2720,
        "Year": "1978-01-01T00:00:00"
       },
       {
        "Acceleration": 17.2,
        "Cylinders": 6,
        "Displacement": 225,
        "Horsepower": 100,
        "Miles_per_Gallon": 20.5,
        "Name": "plymouth volare",
        "Origin": "USA",
        "Weight_in_lbs": 3430,
        "Year": "1978-01-01T00:00:00"
       },
       {
        "Acceleration": 17.2,
        "Cylinders": 6,
        "Displacement": 232,
        "Horsepower": 90,
        "Miles_per_Gallon": 19.4,
        "Name": "amc concord",
        "Origin": "USA",
        "Weight_in_lbs": 3210,
        "Year": "1978-01-01T00:00:00"
       },
       {
        "Acceleration": 15.8,
        "Cylinders": 6,
        "Displacement": 231,
        "Horsepower": 105,
        "Miles_per_Gallon": 20.6,
        "Name": "buick century special",
        "Origin": "USA",
        "Weight_in_lbs": 3380,
        "Year": "1978-01-01T00:00:00"
       },
       {
        "Acceleration": 16.7,
        "Cylinders": 6,
        "Displacement": 200,
        "Horsepower": 85,
        "Miles_per_Gallon": 20.8,
        "Name": "mercury zephyr",
        "Origin": "USA",
        "Weight_in_lbs": 3070,
        "Year": "1978-01-01T00:00:00"
       },
       {
        "Acceleration": 18.7,
        "Cylinders": 6,
        "Displacement": 225,
        "Horsepower": 110,
        "Miles_per_Gallon": 18.6,
        "Name": "dodge aspen",
        "Origin": "USA",
        "Weight_in_lbs": 3620,
        "Year": "1978-01-01T00:00:00"
       },
       {
        "Acceleration": 15.1,
        "Cylinders": 6,
        "Displacement": 258,
        "Horsepower": 120,
        "Miles_per_Gallon": 18.1,
        "Name": "amc concord d/l",
        "Origin": "USA",
        "Weight_in_lbs": 3410,
        "Year": "1978-01-01T00:00:00"
       },
       {
        "Acceleration": 13.2,
        "Cylinders": 8,
        "Displacement": 305,
        "Horsepower": 145,
        "Miles_per_Gallon": 19.2,
        "Name": "chevrolet monte carlo landau",
        "Origin": "USA",
        "Weight_in_lbs": 3425,
        "Year": "1978-01-01T00:00:00"
       },
       {
        "Acceleration": 13.4,
        "Cylinders": 6,
        "Displacement": 231,
        "Horsepower": 165,
        "Miles_per_Gallon": 17.7,
        "Name": "buick regal sport coupe (turbo)",
        "Origin": "USA",
        "Weight_in_lbs": 3445,
        "Year": "1978-01-01T00:00:00"
       },
       {
        "Acceleration": 11.2,
        "Cylinders": 8,
        "Displacement": 302,
        "Horsepower": 139,
        "Miles_per_Gallon": 18.1,
        "Name": "ford futura",
        "Origin": "USA",
        "Weight_in_lbs": 3205,
        "Year": "1978-01-01T00:00:00"
       },
       {
        "Acceleration": 13.7,
        "Cylinders": 8,
        "Displacement": 318,
        "Horsepower": 140,
        "Miles_per_Gallon": 17.5,
        "Name": "dodge magnum xe",
        "Origin": "USA",
        "Weight_in_lbs": 4080,
        "Year": "1978-01-01T00:00:00"
       },
       {
        "Acceleration": 16.5,
        "Cylinders": 4,
        "Displacement": 98,
        "Horsepower": 68,
        "Miles_per_Gallon": 30,
        "Name": "chevrolet chevette",
        "Origin": "USA",
        "Weight_in_lbs": 2155,
        "Year": "1978-01-01T00:00:00"
       },
       {
        "Acceleration": 14.2,
        "Cylinders": 4,
        "Displacement": 134,
        "Horsepower": 95,
        "Miles_per_Gallon": 27.5,
        "Name": "toyota corona",
        "Origin": "Japan",
        "Weight_in_lbs": 2560,
        "Year": "1978-01-01T00:00:00"
       },
       {
        "Acceleration": 14.7,
        "Cylinders": 4,
        "Displacement": 119,
        "Horsepower": 97,
        "Miles_per_Gallon": 27.2,
        "Name": "datsun 510",
        "Origin": "Japan",
        "Weight_in_lbs": 2300,
        "Year": "1978-01-01T00:00:00"
       },
       {
        "Acceleration": 14.5,
        "Cylinders": 4,
        "Displacement": 105,
        "Horsepower": 75,
        "Miles_per_Gallon": 30.9,
        "Name": "dodge omni",
        "Origin": "USA",
        "Weight_in_lbs": 2230,
        "Year": "1978-01-01T00:00:00"
       },
       {
        "Acceleration": 14.8,
        "Cylinders": 4,
        "Displacement": 134,
        "Horsepower": 95,
        "Miles_per_Gallon": 21.1,
        "Name": "toyota celica gt liftback",
        "Origin": "Japan",
        "Weight_in_lbs": 2515,
        "Year": "1978-01-01T00:00:00"
       },
       {
        "Acceleration": 16.7,
        "Cylinders": 4,
        "Displacement": 156,
        "Horsepower": 105,
        "Miles_per_Gallon": 23.2,
        "Name": "plymouth sapporo",
        "Origin": "USA",
        "Weight_in_lbs": 2745,
        "Year": "1978-01-01T00:00:00"
       },
       {
        "Acceleration": 17.6,
        "Cylinders": 4,
        "Displacement": 151,
        "Horsepower": 85,
        "Miles_per_Gallon": 23.8,
        "Name": "oldsmobile starfire sx",
        "Origin": "USA",
        "Weight_in_lbs": 2855,
        "Year": "1978-01-01T00:00:00"
       },
       {
        "Acceleration": 14.9,
        "Cylinders": 4,
        "Displacement": 119,
        "Horsepower": 97,
        "Miles_per_Gallon": 23.9,
        "Name": "datsun 200-sx",
        "Origin": "Japan",
        "Weight_in_lbs": 2405,
        "Year": "1978-01-01T00:00:00"
       },
       {
        "Acceleration": 15.9,
        "Cylinders": 5,
        "Displacement": 131,
        "Horsepower": 103,
        "Miles_per_Gallon": 20.3,
        "Name": "audi 5000",
        "Origin": "Europe",
        "Weight_in_lbs": 2830,
        "Year": "1978-01-01T00:00:00"
       },
       {
        "Acceleration": 13.6,
        "Cylinders": 6,
        "Displacement": 163,
        "Horsepower": 125,
        "Miles_per_Gallon": 17,
        "Name": "volvo 264gl",
        "Origin": "Europe",
        "Weight_in_lbs": 3140,
        "Year": "1978-01-01T00:00:00"
       },
       {
        "Acceleration": 15.7,
        "Cylinders": 4,
        "Displacement": 121,
        "Horsepower": 115,
        "Miles_per_Gallon": 21.6,
        "Name": "saab 99gle",
        "Origin": "Europe",
        "Weight_in_lbs": 2795,
        "Year": "1978-01-01T00:00:00"
       },
       {
        "Acceleration": 15.8,
        "Cylinders": 6,
        "Displacement": 163,
        "Horsepower": 133,
        "Miles_per_Gallon": 16.2,
        "Name": "peugeot 604sl",
        "Origin": "Europe",
        "Weight_in_lbs": 3410,
        "Year": "1978-01-01T00:00:00"
       },
       {
        "Acceleration": 14.9,
        "Cylinders": 4,
        "Displacement": 89,
        "Horsepower": 71,
        "Miles_per_Gallon": 31.5,
        "Name": "volkswagen scirocco",
        "Origin": "Europe",
        "Weight_in_lbs": 1990,
        "Year": "1978-01-01T00:00:00"
       },
       {
        "Acceleration": 16.6,
        "Cylinders": 4,
        "Displacement": 98,
        "Horsepower": 68,
        "Miles_per_Gallon": 29.5,
        "Name": "honda Accelerationord lx",
        "Origin": "Japan",
        "Weight_in_lbs": 2135,
        "Year": "1978-01-01T00:00:00"
       },
       {
        "Acceleration": 15.4,
        "Cylinders": 6,
        "Displacement": 231,
        "Horsepower": 115,
        "Miles_per_Gallon": 21.5,
        "Name": "pontiac lemans v6",
        "Origin": "USA",
        "Weight_in_lbs": 3245,
        "Year": "1979-01-01T00:00:00"
       },
       {
        "Acceleration": 18.2,
        "Cylinders": 6,
        "Displacement": 200,
        "Horsepower": 85,
        "Miles_per_Gallon": 19.8,
        "Name": "mercury zephyr 6",
        "Origin": "USA",
        "Weight_in_lbs": 2990,
        "Year": "1979-01-01T00:00:00"
       },
       {
        "Acceleration": 17.3,
        "Cylinders": 4,
        "Displacement": 140,
        "Horsepower": 88,
        "Miles_per_Gallon": 22.3,
        "Name": "ford fairmont 4",
        "Origin": "USA",
        "Weight_in_lbs": 2890,
        "Year": "1979-01-01T00:00:00"
       },
       {
        "Acceleration": 18.2,
        "Cylinders": 6,
        "Displacement": 232,
        "Horsepower": 90,
        "Miles_per_Gallon": 20.2,
        "Name": "amc concord dl 6",
        "Origin": "USA",
        "Weight_in_lbs": 3265,
        "Year": "1979-01-01T00:00:00"
       },
       {
        "Acceleration": 16.6,
        "Cylinders": 6,
        "Displacement": 225,
        "Horsepower": 110,
        "Miles_per_Gallon": 20.6,
        "Name": "dodge aspen 6",
        "Origin": "USA",
        "Weight_in_lbs": 3360,
        "Year": "1979-01-01T00:00:00"
       },
       {
        "Acceleration": 15.4,
        "Cylinders": 8,
        "Displacement": 305,
        "Horsepower": 130,
        "Miles_per_Gallon": 17,
        "Name": "chevrolet caprice classic",
        "Origin": "USA",
        "Weight_in_lbs": 3840,
        "Year": "1979-01-01T00:00:00"
       },
       {
        "Acceleration": 13.4,
        "Cylinders": 8,
        "Displacement": 302,
        "Horsepower": 129,
        "Miles_per_Gallon": 17.6,
        "Name": "ford ltd landau",
        "Origin": "USA",
        "Weight_in_lbs": 3725,
        "Year": "1979-01-01T00:00:00"
       },
       {
        "Acceleration": 13.2,
        "Cylinders": 8,
        "Displacement": 351,
        "Horsepower": 138,
        "Miles_per_Gallon": 16.5,
        "Name": "mercury grand marquis",
        "Origin": "USA",
        "Weight_in_lbs": 3955,
        "Year": "1979-01-01T00:00:00"
       },
       {
        "Acceleration": 15.2,
        "Cylinders": 8,
        "Displacement": 318,
        "Horsepower": 135,
        "Miles_per_Gallon": 18.2,
        "Name": "dodge st. regis",
        "Origin": "USA",
        "Weight_in_lbs": 3830,
        "Year": "1979-01-01T00:00:00"
       },
       {
        "Acceleration": 14.9,
        "Cylinders": 8,
        "Displacement": 350,
        "Horsepower": 155,
        "Miles_per_Gallon": 16.9,
        "Name": "buick estate wagon (sw)",
        "Origin": "USA",
        "Weight_in_lbs": 4360,
        "Year": "1979-01-01T00:00:00"
       },
       {
        "Acceleration": 14.3,
        "Cylinders": 8,
        "Displacement": 351,
        "Horsepower": 142,
        "Miles_per_Gallon": 15.5,
        "Name": "ford country squire (sw)",
        "Origin": "USA",
        "Weight_in_lbs": 4054,
        "Year": "1979-01-01T00:00:00"
       },
       {
        "Acceleration": 15,
        "Cylinders": 8,
        "Displacement": 267,
        "Horsepower": 125,
        "Miles_per_Gallon": 19.2,
        "Name": "chevrolet malibu classic (sw)",
        "Origin": "USA",
        "Weight_in_lbs": 3605,
        "Year": "1979-01-01T00:00:00"
       },
       {
        "Acceleration": 13,
        "Cylinders": 8,
        "Displacement": 360,
        "Horsepower": 150,
        "Miles_per_Gallon": 18.5,
        "Name": "chrysler lebaron town @ country (sw)",
        "Origin": "USA",
        "Weight_in_lbs": 3940,
        "Year": "1979-01-01T00:00:00"
       },
       {
        "Acceleration": 14,
        "Cylinders": 4,
        "Displacement": 89,
        "Horsepower": 71,
        "Miles_per_Gallon": 31.9,
        "Name": "vw rabbit custom",
        "Origin": "Europe",
        "Weight_in_lbs": 1925,
        "Year": "1979-01-01T00:00:00"
       },
       {
        "Acceleration": 15.2,
        "Cylinders": 4,
        "Displacement": 86,
        "Horsepower": 65,
        "Miles_per_Gallon": 34.1,
        "Name": "maxda glc deluxe",
        "Origin": "Japan",
        "Weight_in_lbs": 1975,
        "Year": "1979-01-01T00:00:00"
       },
       {
        "Acceleration": 14.4,
        "Cylinders": 4,
        "Displacement": 98,
        "Horsepower": 80,
        "Miles_per_Gallon": 35.7,
        "Name": "dodge colt hatchback custom",
        "Origin": "USA",
        "Weight_in_lbs": 1915,
        "Year": "1979-01-01T00:00:00"
       },
       {
        "Acceleration": 15,
        "Cylinders": 4,
        "Displacement": 121,
        "Horsepower": 80,
        "Miles_per_Gallon": 27.4,
        "Name": "amc spirit dl",
        "Origin": "USA",
        "Weight_in_lbs": 2670,
        "Year": "1979-01-01T00:00:00"
       },
       {
        "Acceleration": 20.1,
        "Cylinders": 5,
        "Displacement": 183,
        "Horsepower": 77,
        "Miles_per_Gallon": 25.4,
        "Name": "mercedes benz 300d",
        "Origin": "Europe",
        "Weight_in_lbs": 3530,
        "Year": "1979-01-01T00:00:00"
       },
       {
        "Acceleration": 17.4,
        "Cylinders": 8,
        "Displacement": 350,
        "Horsepower": 125,
        "Miles_per_Gallon": 23,
        "Name": "cadillac eldorado",
        "Origin": "USA",
        "Weight_in_lbs": 3900,
        "Year": "1979-01-01T00:00:00"
       },
       {
        "Acceleration": 24.8,
        "Cylinders": 4,
        "Displacement": 141,
        "Horsepower": 71,
        "Miles_per_Gallon": 27.2,
        "Name": "peugeot 504",
        "Origin": "Europe",
        "Weight_in_lbs": 3190,
        "Year": "1979-01-01T00:00:00"
       },
       {
        "Acceleration": 22.2,
        "Cylinders": 8,
        "Displacement": 260,
        "Horsepower": 90,
        "Miles_per_Gallon": 23.9,
        "Name": "oldsmobile cutlass salon brougham",
        "Origin": "USA",
        "Weight_in_lbs": 3420,
        "Year": "1979-01-01T00:00:00"
       },
       {
        "Acceleration": 13.2,
        "Cylinders": 4,
        "Displacement": 105,
        "Horsepower": 70,
        "Miles_per_Gallon": 34.2,
        "Name": "plymouth horizon",
        "Origin": "USA",
        "Weight_in_lbs": 2200,
        "Year": "1979-01-01T00:00:00"
       },
       {
        "Acceleration": 14.9,
        "Cylinders": 4,
        "Displacement": 105,
        "Horsepower": 70,
        "Miles_per_Gallon": 34.5,
        "Name": "plymouth horizon tc3",
        "Origin": "USA",
        "Weight_in_lbs": 2150,
        "Year": "1979-01-01T00:00:00"
       },
       {
        "Acceleration": 19.2,
        "Cylinders": 4,
        "Displacement": 85,
        "Horsepower": 65,
        "Miles_per_Gallon": 31.8,
        "Name": "datsun 210",
        "Origin": "Japan",
        "Weight_in_lbs": 2020,
        "Year": "1979-01-01T00:00:00"
       },
       {
        "Acceleration": 14.7,
        "Cylinders": 4,
        "Displacement": 91,
        "Horsepower": 69,
        "Miles_per_Gallon": 37.3,
        "Name": "fiat strada custom",
        "Origin": "Europe",
        "Weight_in_lbs": 2130,
        "Year": "1979-01-01T00:00:00"
       },
       {
        "Acceleration": 16,
        "Cylinders": 4,
        "Displacement": 151,
        "Horsepower": 90,
        "Miles_per_Gallon": 28.4,
        "Name": "buick skylark limited",
        "Origin": "USA",
        "Weight_in_lbs": 2670,
        "Year": "1979-01-01T00:00:00"
       },
       {
        "Acceleration": 11.3,
        "Cylinders": 6,
        "Displacement": 173,
        "Horsepower": 115,
        "Miles_per_Gallon": 28.8,
        "Name": "chevrolet citation",
        "Origin": "USA",
        "Weight_in_lbs": 2595,
        "Year": "1979-01-01T00:00:00"
       },
       {
        "Acceleration": 12.9,
        "Cylinders": 6,
        "Displacement": 173,
        "Horsepower": 115,
        "Miles_per_Gallon": 26.8,
        "Name": "oldsmobile omega brougham",
        "Origin": "USA",
        "Weight_in_lbs": 2700,
        "Year": "1979-01-01T00:00:00"
       },
       {
        "Acceleration": 13.2,
        "Cylinders": 4,
        "Displacement": 151,
        "Horsepower": 90,
        "Miles_per_Gallon": 33.5,
        "Name": "pontiac phoenix",
        "Origin": "USA",
        "Weight_in_lbs": 2556,
        "Year": "1979-01-01T00:00:00"
       },
       {
        "Acceleration": 14.7,
        "Cylinders": 4,
        "Displacement": 98,
        "Horsepower": 76,
        "Miles_per_Gallon": 41.5,
        "Name": "vw rabbit",
        "Origin": "Europe",
        "Weight_in_lbs": 2144,
        "Year": "1980-01-01T00:00:00"
       },
       {
        "Acceleration": 18.8,
        "Cylinders": 4,
        "Displacement": 89,
        "Horsepower": 60,
        "Miles_per_Gallon": 38.1,
        "Name": "toyota corolla tercel",
        "Origin": "Japan",
        "Weight_in_lbs": 1968,
        "Year": "1980-01-01T00:00:00"
       },
       {
        "Acceleration": 15.5,
        "Cylinders": 4,
        "Displacement": 98,
        "Horsepower": 70,
        "Miles_per_Gallon": 32.1,
        "Name": "chevrolet chevette",
        "Origin": "USA",
        "Weight_in_lbs": 2120,
        "Year": "1980-01-01T00:00:00"
       },
       {
        "Acceleration": 16.4,
        "Cylinders": 4,
        "Displacement": 86,
        "Horsepower": 65,
        "Miles_per_Gallon": 37.2,
        "Name": "datsun 310",
        "Origin": "Japan",
        "Weight_in_lbs": 2019,
        "Year": "1980-01-01T00:00:00"
       },
       {
        "Acceleration": 16.5,
        "Cylinders": 4,
        "Displacement": 151,
        "Horsepower": 90,
        "Miles_per_Gallon": 28,
        "Name": "chevrolet citation",
        "Origin": "USA",
        "Weight_in_lbs": 2678,
        "Year": "1980-01-01T00:00:00"
       },
       {
        "Acceleration": 18.1,
        "Cylinders": 4,
        "Displacement": 140,
        "Horsepower": 88,
        "Miles_per_Gallon": 26.4,
        "Name": "ford fairmont",
        "Origin": "USA",
        "Weight_in_lbs": 2870,
        "Year": "1980-01-01T00:00:00"
       },
       {
        "Acceleration": 20.1,
        "Cylinders": 4,
        "Displacement": 151,
        "Horsepower": 90,
        "Miles_per_Gallon": 24.3,
        "Name": "amc concord",
        "Origin": "USA",
        "Weight_in_lbs": 3003,
        "Year": "1980-01-01T00:00:00"
       },
       {
        "Acceleration": 18.7,
        "Cylinders": 6,
        "Displacement": 225,
        "Horsepower": 90,
        "Miles_per_Gallon": 19.1,
        "Name": "dodge aspen",
        "Origin": "USA",
        "Weight_in_lbs": 3381,
        "Year": "1980-01-01T00:00:00"
       },
       {
        "Acceleration": 15.8,
        "Cylinders": 4,
        "Displacement": 97,
        "Horsepower": 78,
        "Miles_per_Gallon": 34.3,
        "Name": "audi 4000",
        "Origin": "Europe",
        "Weight_in_lbs": 2188,
        "Year": "1980-01-01T00:00:00"
       },
       {
        "Acceleration": 15.5,
        "Cylinders": 4,
        "Displacement": 134,
        "Horsepower": 90,
        "Miles_per_Gallon": 29.8,
        "Name": "toyota corona liftback",
        "Origin": "Japan",
        "Weight_in_lbs": 2711,
        "Year": "1980-01-01T00:00:00"
       },
       {
        "Acceleration": 17.5,
        "Cylinders": 4,
        "Displacement": 120,
        "Horsepower": 75,
        "Miles_per_Gallon": 31.3,
        "Name": "mazda 626",
        "Origin": "Japan",
        "Weight_in_lbs": 2542,
        "Year": "1980-01-01T00:00:00"
       },
       {
        "Acceleration": 15,
        "Cylinders": 4,
        "Displacement": 119,
        "Horsepower": 92,
        "Miles_per_Gallon": 37,
        "Name": "datsun 510 hatchback",
        "Origin": "Japan",
        "Weight_in_lbs": 2434,
        "Year": "1980-01-01T00:00:00"
       },
       {
        "Acceleration": 15.2,
        "Cylinders": 4,
        "Displacement": 108,
        "Horsepower": 75,
        "Miles_per_Gallon": 32.2,
        "Name": "toyota corolla",
        "Origin": "Japan",
        "Weight_in_lbs": 2265,
        "Year": "1980-01-01T00:00:00"
       },
       {
        "Acceleration": 17.9,
        "Cylinders": 4,
        "Displacement": 86,
        "Horsepower": 65,
        "Miles_per_Gallon": 46.6,
        "Name": "mazda glc",
        "Origin": "Japan",
        "Weight_in_lbs": 2110,
        "Year": "1980-01-01T00:00:00"
       },
       {
        "Acceleration": 14.4,
        "Cylinders": 4,
        "Displacement": 156,
        "Horsepower": 105,
        "Miles_per_Gallon": 27.9,
        "Name": "dodge colt",
        "Origin": "USA",
        "Weight_in_lbs": 2800,
        "Year": "1980-01-01T00:00:00"
       },
       {
        "Acceleration": 19.2,
        "Cylinders": 4,
        "Displacement": 85,
        "Horsepower": 65,
        "Miles_per_Gallon": 40.8,
        "Name": "datsun 210",
        "Origin": "Japan",
        "Weight_in_lbs": 2110,
        "Year": "1980-01-01T00:00:00"
       },
       {
        "Acceleration": 21.7,
        "Cylinders": 4,
        "Displacement": 90,
        "Horsepower": 48,
        "Miles_per_Gallon": 44.3,
        "Name": "vw rabbit c (diesel)",
        "Origin": "Europe",
        "Weight_in_lbs": 2085,
        "Year": "1980-01-01T00:00:00"
       },
       {
        "Acceleration": 23.7,
        "Cylinders": 4,
        "Displacement": 90,
        "Horsepower": 48,
        "Miles_per_Gallon": 43.4,
        "Name": "vw dasher (diesel)",
        "Origin": "Europe",
        "Weight_in_lbs": 2335,
        "Year": "1980-01-01T00:00:00"
       },
       {
        "Acceleration": 19.9,
        "Cylinders": 5,
        "Displacement": 121,
        "Horsepower": 67,
        "Miles_per_Gallon": 36.4,
        "Name": "audi 5000s (diesel)",
        "Origin": "Europe",
        "Weight_in_lbs": 2950,
        "Year": "1980-01-01T00:00:00"
       },
       {
        "Acceleration": 21.8,
        "Cylinders": 4,
        "Displacement": 146,
        "Horsepower": 67,
        "Miles_per_Gallon": 30,
        "Name": "mercedes-benz 240d",
        "Origin": "Europe",
        "Weight_in_lbs": 3250,
        "Year": "1980-01-01T00:00:00"
       },
       {
        "Acceleration": 13.8,
        "Cylinders": 4,
        "Displacement": 91,
        "Horsepower": 67,
        "Miles_per_Gallon": 44.6,
        "Name": "honda civic 1500 gl",
        "Origin": "Japan",
        "Weight_in_lbs": 1850,
        "Year": "1980-01-01T00:00:00"
       },
       {
        "Acceleration": 17.3,
        "Cylinders": 4,
        "Displacement": 85,
        "Horsepower": null,
        "Miles_per_Gallon": 40.9,
        "Name": "renault lecar deluxe",
        "Origin": "Europe",
        "Weight_in_lbs": 1835,
        "Year": "1980-01-01T00:00:00"
       },
       {
        "Acceleration": 18,
        "Cylinders": 4,
        "Displacement": 97,
        "Horsepower": 67,
        "Miles_per_Gallon": 33.8,
        "Name": "subaru dl",
        "Origin": "Japan",
        "Weight_in_lbs": 2145,
        "Year": "1980-01-01T00:00:00"
       },
       {
        "Acceleration": 15.3,
        "Cylinders": 4,
        "Displacement": 89,
        "Horsepower": 62,
        "Miles_per_Gallon": 29.8,
        "Name": "vokswagen rabbit",
        "Origin": "Europe",
        "Weight_in_lbs": 1845,
        "Year": "1980-01-01T00:00:00"
       },
       {
        "Acceleration": 11.4,
        "Cylinders": 6,
        "Displacement": 168,
        "Horsepower": 132,
        "Miles_per_Gallon": 32.7,
        "Name": "datsun 280-zx",
        "Origin": "Japan",
        "Weight_in_lbs": 2910,
        "Year": "1980-01-01T00:00:00"
       },
       {
        "Acceleration": 12.5,
        "Cylinders": 3,
        "Displacement": 70,
        "Horsepower": 100,
        "Miles_per_Gallon": 23.7,
        "Name": "mazda rx-7 gs",
        "Origin": "Japan",
        "Weight_in_lbs": 2420,
        "Year": "1980-01-01T00:00:00"
       },
       {
        "Acceleration": 15.1,
        "Cylinders": 4,
        "Displacement": 122,
        "Horsepower": 88,
        "Miles_per_Gallon": 35,
        "Name": "triumph tr7 coupe",
        "Origin": "Europe",
        "Weight_in_lbs": 2500,
        "Year": "1980-01-01T00:00:00"
       },
       {
        "Acceleration": 14.3,
        "Cylinders": 4,
        "Displacement": 140,
        "Horsepower": null,
        "Miles_per_Gallon": 23.6,
        "Name": "ford mustang cobra",
        "Origin": "USA",
        "Weight_in_lbs": 2905,
        "Year": "1980-01-01T00:00:00"
       },
       {
        "Acceleration": 17,
        "Cylinders": 4,
        "Displacement": 107,
        "Horsepower": 72,
        "Miles_per_Gallon": 32.4,
        "Name": "honda Accelerationord",
        "Origin": "Japan",
        "Weight_in_lbs": 2290,
        "Year": "1980-01-01T00:00:00"
       },
       {
        "Acceleration": 15.7,
        "Cylinders": 4,
        "Displacement": 135,
        "Horsepower": 84,
        "Miles_per_Gallon": 27.2,
        "Name": "plymouth reliant",
        "Origin": "USA",
        "Weight_in_lbs": 2490,
        "Year": "1982-01-01T00:00:00"
       },
       {
        "Acceleration": 16.4,
        "Cylinders": 4,
        "Displacement": 151,
        "Horsepower": 84,
        "Miles_per_Gallon": 26.6,
        "Name": "buick skylark",
        "Origin": "USA",
        "Weight_in_lbs": 2635,
        "Year": "1982-01-01T00:00:00"
       },
       {
        "Acceleration": 14.4,
        "Cylinders": 4,
        "Displacement": 156,
        "Horsepower": 92,
        "Miles_per_Gallon": 25.8,
        "Name": "dodge aries wagon (sw)",
        "Origin": "USA",
        "Weight_in_lbs": 2620,
        "Year": "1982-01-01T00:00:00"
       },
       {
        "Acceleration": 12.6,
        "Cylinders": 6,
        "Displacement": 173,
        "Horsepower": 110,
        "Miles_per_Gallon": 23.5,
        "Name": "chevrolet citation",
        "Origin": "USA",
        "Weight_in_lbs": 2725,
        "Year": "1982-01-01T00:00:00"
       },
       {
        "Acceleration": 12.9,
        "Cylinders": 4,
        "Displacement": 135,
        "Horsepower": 84,
        "Miles_per_Gallon": 30,
        "Name": "plymouth reliant",
        "Origin": "USA",
        "Weight_in_lbs": 2385,
        "Year": "1982-01-01T00:00:00"
       },
       {
        "Acceleration": 16.9,
        "Cylinders": 4,
        "Displacement": 79,
        "Horsepower": 58,
        "Miles_per_Gallon": 39.1,
        "Name": "toyota starlet",
        "Origin": "Japan",
        "Weight_in_lbs": 1755,
        "Year": "1982-01-01T00:00:00"
       },
       {
        "Acceleration": 16.4,
        "Cylinders": 4,
        "Displacement": 86,
        "Horsepower": 64,
        "Miles_per_Gallon": 39,
        "Name": "plymouth champ",
        "Origin": "USA",
        "Weight_in_lbs": 1875,
        "Year": "1982-01-01T00:00:00"
       },
       {
        "Acceleration": 16.1,
        "Cylinders": 4,
        "Displacement": 81,
        "Horsepower": 60,
        "Miles_per_Gallon": 35.1,
        "Name": "honda civic 1300",
        "Origin": "Japan",
        "Weight_in_lbs": 1760,
        "Year": "1982-01-01T00:00:00"
       },
       {
        "Acceleration": 17.8,
        "Cylinders": 4,
        "Displacement": 97,
        "Horsepower": 67,
        "Miles_per_Gallon": 32.3,
        "Name": "subaru",
        "Origin": "Japan",
        "Weight_in_lbs": 2065,
        "Year": "1982-01-01T00:00:00"
       },
       {
        "Acceleration": 19.4,
        "Cylinders": 4,
        "Displacement": 85,
        "Horsepower": 65,
        "Miles_per_Gallon": 37,
        "Name": "datsun 210",
        "Origin": "Japan",
        "Weight_in_lbs": 1975,
        "Year": "1982-01-01T00:00:00"
       },
       {
        "Acceleration": 17.3,
        "Cylinders": 4,
        "Displacement": 89,
        "Horsepower": 62,
        "Miles_per_Gallon": 37.7,
        "Name": "toyota tercel",
        "Origin": "Japan",
        "Weight_in_lbs": 2050,
        "Year": "1982-01-01T00:00:00"
       },
       {
        "Acceleration": 16,
        "Cylinders": 4,
        "Displacement": 91,
        "Horsepower": 68,
        "Miles_per_Gallon": 34.1,
        "Name": "mazda glc 4",
        "Origin": "Japan",
        "Weight_in_lbs": 1985,
        "Year": "1982-01-01T00:00:00"
       },
       {
        "Acceleration": 14.9,
        "Cylinders": 4,
        "Displacement": 105,
        "Horsepower": 63,
        "Miles_per_Gallon": 34.7,
        "Name": "plymouth horizon 4",
        "Origin": "USA",
        "Weight_in_lbs": 2215,
        "Year": "1982-01-01T00:00:00"
       },
       {
        "Acceleration": 16.2,
        "Cylinders": 4,
        "Displacement": 98,
        "Horsepower": 65,
        "Miles_per_Gallon": 34.4,
        "Name": "ford escort 4w",
        "Origin": "USA",
        "Weight_in_lbs": 2045,
        "Year": "1982-01-01T00:00:00"
       },
       {
        "Acceleration": 20.7,
        "Cylinders": 4,
        "Displacement": 98,
        "Horsepower": 65,
        "Miles_per_Gallon": 29.9,
        "Name": "ford escort 2h",
        "Origin": "USA",
        "Weight_in_lbs": 2380,
        "Year": "1982-01-01T00:00:00"
       },
       {
        "Acceleration": 14.2,
        "Cylinders": 4,
        "Displacement": 105,
        "Horsepower": 74,
        "Miles_per_Gallon": 33,
        "Name": "volkswagen jetta",
        "Origin": "Europe",
        "Weight_in_lbs": 2190,
        "Year": "1982-01-01T00:00:00"
       },
       {
        "Acceleration": 15.8,
        "Cylinders": 4,
        "Displacement": 100,
        "Horsepower": null,
        "Miles_per_Gallon": 34.5,
        "Name": "renault 18i",
        "Origin": "Europe",
        "Weight_in_lbs": 2320,
        "Year": "1982-01-01T00:00:00"
       },
       {
        "Acceleration": 14.4,
        "Cylinders": 4,
        "Displacement": 107,
        "Horsepower": 75,
        "Miles_per_Gallon": 33.7,
        "Name": "honda prelude",
        "Origin": "Japan",
        "Weight_in_lbs": 2210,
        "Year": "1982-01-01T00:00:00"
       },
       {
        "Acceleration": 16.8,
        "Cylinders": 4,
        "Displacement": 108,
        "Horsepower": 75,
        "Miles_per_Gallon": 32.4,
        "Name": "toyota corolla",
        "Origin": "Japan",
        "Weight_in_lbs": 2350,
        "Year": "1982-01-01T00:00:00"
       },
       {
        "Acceleration": 14.8,
        "Cylinders": 4,
        "Displacement": 119,
        "Horsepower": 100,
        "Miles_per_Gallon": 32.9,
        "Name": "datsun 200sx",
        "Origin": "Japan",
        "Weight_in_lbs": 2615,
        "Year": "1982-01-01T00:00:00"
       },
       {
        "Acceleration": 18.3,
        "Cylinders": 4,
        "Displacement": 120,
        "Horsepower": 74,
        "Miles_per_Gallon": 31.6,
        "Name": "mazda 626",
        "Origin": "Japan",
        "Weight_in_lbs": 2635,
        "Year": "1982-01-01T00:00:00"
       },
       {
        "Acceleration": 20.4,
        "Cylinders": 4,
        "Displacement": 141,
        "Horsepower": 80,
        "Miles_per_Gallon": 28.1,
        "Name": "peugeot 505s turbo diesel",
        "Origin": "Europe",
        "Weight_in_lbs": 3230,
        "Year": "1982-01-01T00:00:00"
       },
       {
        "Acceleration": 15.4,
        "Cylinders": 4,
        "Displacement": 121,
        "Horsepower": 110,
        "Miles_per_Gallon": null,
        "Name": "saab 900s",
        "Origin": "Europe",
        "Weight_in_lbs": 2800,
        "Year": "1982-01-01T00:00:00"
       },
       {
        "Acceleration": 19.6,
        "Cylinders": 6,
        "Displacement": 145,
        "Horsepower": 76,
        "Miles_per_Gallon": 30.7,
        "Name": "volvo diesel",
        "Origin": "Europe",
        "Weight_in_lbs": 3160,
        "Year": "1982-01-01T00:00:00"
       },
       {
        "Acceleration": 12.6,
        "Cylinders": 6,
        "Displacement": 168,
        "Horsepower": 116,
        "Miles_per_Gallon": 25.4,
        "Name": "toyota cressida",
        "Origin": "Japan",
        "Weight_in_lbs": 2900,
        "Year": "1982-01-01T00:00:00"
       },
       {
        "Acceleration": 13.8,
        "Cylinders": 6,
        "Displacement": 146,
        "Horsepower": 120,
        "Miles_per_Gallon": 24.2,
        "Name": "datsun 810 maxima",
        "Origin": "Japan",
        "Weight_in_lbs": 2930,
        "Year": "1982-01-01T00:00:00"
       },
       {
        "Acceleration": 15.8,
        "Cylinders": 6,
        "Displacement": 231,
        "Horsepower": 110,
        "Miles_per_Gallon": 22.4,
        "Name": "buick century",
        "Origin": "USA",
        "Weight_in_lbs": 3415,
        "Year": "1982-01-01T00:00:00"
       },
       {
        "Acceleration": 19,
        "Cylinders": 8,
        "Displacement": 350,
        "Horsepower": 105,
        "Miles_per_Gallon": 26.6,
        "Name": "oldsmobile cutlass ls",
        "Origin": "USA",
        "Weight_in_lbs": 3725,
        "Year": "1982-01-01T00:00:00"
       },
       {
        "Acceleration": 17.1,
        "Cylinders": 6,
        "Displacement": 200,
        "Horsepower": 88,
        "Miles_per_Gallon": 20.2,
        "Name": "ford granada gl",
        "Origin": "USA",
        "Weight_in_lbs": 3060,
        "Year": "1982-01-01T00:00:00"
       },
       {
        "Acceleration": 16.6,
        "Cylinders": 6,
        "Displacement": 225,
        "Horsepower": 85,
        "Miles_per_Gallon": 17.6,
        "Name": "chrysler lebaron salon",
        "Origin": "USA",
        "Weight_in_lbs": 3465,
        "Year": "1982-01-01T00:00:00"
       },
       {
        "Acceleration": 19.6,
        "Cylinders": 4,
        "Displacement": 112,
        "Horsepower": 88,
        "Miles_per_Gallon": 28,
        "Name": "chevrolet cavalier",
        "Origin": "USA",
        "Weight_in_lbs": 2605,
        "Year": "1982-01-01T00:00:00"
       },
       {
        "Acceleration": 18.6,
        "Cylinders": 4,
        "Displacement": 112,
        "Horsepower": 88,
        "Miles_per_Gallon": 27,
        "Name": "chevrolet cavalier wagon",
        "Origin": "USA",
        "Weight_in_lbs": 2640,
        "Year": "1982-01-01T00:00:00"
       },
       {
        "Acceleration": 18,
        "Cylinders": 4,
        "Displacement": 112,
        "Horsepower": 88,
        "Miles_per_Gallon": 34,
        "Name": "chevrolet cavalier 2-door",
        "Origin": "USA",
        "Weight_in_lbs": 2395,
        "Year": "1982-01-01T00:00:00"
       },
       {
        "Acceleration": 16.2,
        "Cylinders": 4,
        "Displacement": 112,
        "Horsepower": 85,
        "Miles_per_Gallon": 31,
        "Name": "pontiac j2000 se hatchback",
        "Origin": "USA",
        "Weight_in_lbs": 2575,
        "Year": "1982-01-01T00:00:00"
       },
       {
        "Acceleration": 16,
        "Cylinders": 4,
        "Displacement": 135,
        "Horsepower": 84,
        "Miles_per_Gallon": 29,
        "Name": "dodge aries se",
        "Origin": "USA",
        "Weight_in_lbs": 2525,
        "Year": "1982-01-01T00:00:00"
       },
       {
        "Acceleration": 18,
        "Cylinders": 4,
        "Displacement": 151,
        "Horsepower": 90,
        "Miles_per_Gallon": 27,
        "Name": "pontiac phoenix",
        "Origin": "USA",
        "Weight_in_lbs": 2735,
        "Year": "1982-01-01T00:00:00"
       },
       {
        "Acceleration": 16.4,
        "Cylinders": 4,
        "Displacement": 140,
        "Horsepower": 92,
        "Miles_per_Gallon": 24,
        "Name": "ford fairmont futura",
        "Origin": "USA",
        "Weight_in_lbs": 2865,
        "Year": "1982-01-01T00:00:00"
       },
       {
        "Acceleration": 20.5,
        "Cylinders": 4,
        "Displacement": 151,
        "Horsepower": null,
        "Miles_per_Gallon": 23,
        "Name": "amc concord dl",
        "Origin": "USA",
        "Weight_in_lbs": 3035,
        "Year": "1982-01-01T00:00:00"
       },
       {
        "Acceleration": 15.3,
        "Cylinders": 4,
        "Displacement": 105,
        "Horsepower": 74,
        "Miles_per_Gallon": 36,
        "Name": "volkswagen rabbit l",
        "Origin": "Europe",
        "Weight_in_lbs": 1980,
        "Year": "1982-01-01T00:00:00"
       },
       {
        "Acceleration": 18.2,
        "Cylinders": 4,
        "Displacement": 91,
        "Horsepower": 68,
        "Miles_per_Gallon": 37,
        "Name": "mazda glc custom l",
        "Origin": "Japan",
        "Weight_in_lbs": 2025,
        "Year": "1982-01-01T00:00:00"
       },
       {
        "Acceleration": 17.6,
        "Cylinders": 4,
        "Displacement": 91,
        "Horsepower": 68,
        "Miles_per_Gallon": 31,
        "Name": "mazda glc custom",
        "Origin": "Japan",
        "Weight_in_lbs": 1970,
        "Year": "1982-01-01T00:00:00"
       },
       {
        "Acceleration": 14.7,
        "Cylinders": 4,
        "Displacement": 105,
        "Horsepower": 63,
        "Miles_per_Gallon": 38,
        "Name": "plymouth horizon miser",
        "Origin": "USA",
        "Weight_in_lbs": 2125,
        "Year": "1982-01-01T00:00:00"
       },
       {
        "Acceleration": 17.3,
        "Cylinders": 4,
        "Displacement": 98,
        "Horsepower": 70,
        "Miles_per_Gallon": 36,
        "Name": "mercury lynx l",
        "Origin": "USA",
        "Weight_in_lbs": 2125,
        "Year": "1982-01-01T00:00:00"
       },
       {
        "Acceleration": 14.5,
        "Cylinders": 4,
        "Displacement": 120,
        "Horsepower": 88,
        "Miles_per_Gallon": 36,
        "Name": "nissan stanza xe",
        "Origin": "Japan",
        "Weight_in_lbs": 2160,
        "Year": "1982-01-01T00:00:00"
       },
       {
        "Acceleration": 14.5,
        "Cylinders": 4,
        "Displacement": 107,
        "Horsepower": 75,
        "Miles_per_Gallon": 36,
        "Name": "honda Accelerationord",
        "Origin": "Japan",
        "Weight_in_lbs": 2205,
        "Year": "1982-01-01T00:00:00"
       },
       {
        "Acceleration": 16.9,
        "Cylinders": 4,
        "Displacement": 108,
        "Horsepower": 70,
        "Miles_per_Gallon": 34,
        "Name": "toyota corolla",
        "Origin": "Japan",
        "Weight_in_lbs": 2245,
        "Year": "1982-01-01T00:00:00"
       },
       {
        "Acceleration": 15,
        "Cylinders": 4,
        "Displacement": 91,
        "Horsepower": 67,
        "Miles_per_Gallon": 38,
        "Name": "honda civic",
        "Origin": "Japan",
        "Weight_in_lbs": 1965,
        "Year": "1982-01-01T00:00:00"
       },
       {
        "Acceleration": 15.7,
        "Cylinders": 4,
        "Displacement": 91,
        "Horsepower": 67,
        "Miles_per_Gallon": 32,
        "Name": "honda civic (auto)",
        "Origin": "Japan",
        "Weight_in_lbs": 1965,
        "Year": "1982-01-01T00:00:00"
       },
       {
        "Acceleration": 16.2,
        "Cylinders": 4,
        "Displacement": 91,
        "Horsepower": 67,
        "Miles_per_Gallon": 38,
        "Name": "datsun 310 gx",
        "Origin": "Japan",
        "Weight_in_lbs": 1995,
        "Year": "1982-01-01T00:00:00"
       },
       {
        "Acceleration": 16.4,
        "Cylinders": 6,
        "Displacement": 181,
        "Horsepower": 110,
        "Miles_per_Gallon": 25,
        "Name": "buick century limited",
        "Origin": "USA",
        "Weight_in_lbs": 2945,
        "Year": "1982-01-01T00:00:00"
       },
       {
        "Acceleration": 17,
        "Cylinders": 6,
        "Displacement": 262,
        "Horsepower": 85,
        "Miles_per_Gallon": 38,
        "Name": "oldsmobile cutlass ciera (diesel)",
        "Origin": "USA",
        "Weight_in_lbs": 3015,
        "Year": "1982-01-01T00:00:00"
       },
       {
        "Acceleration": 14.5,
        "Cylinders": 4,
        "Displacement": 156,
        "Horsepower": 92,
        "Miles_per_Gallon": 26,
        "Name": "chrysler lebaron medallion",
        "Origin": "USA",
        "Weight_in_lbs": 2585,
        "Year": "1982-01-01T00:00:00"
       },
       {
        "Acceleration": 14.7,
        "Cylinders": 6,
        "Displacement": 232,
        "Horsepower": 112,
        "Miles_per_Gallon": 22,
        "Name": "ford granada l",
        "Origin": "USA",
        "Weight_in_lbs": 2835,
        "Year": "1982-01-01T00:00:00"
       },
       {
        "Acceleration": 13.9,
        "Cylinders": 4,
        "Displacement": 144,
        "Horsepower": 96,
        "Miles_per_Gallon": 32,
        "Name": "toyota celica gt",
        "Origin": "Japan",
        "Weight_in_lbs": 2665,
        "Year": "1982-01-01T00:00:00"
       },
       {
        "Acceleration": 13,
        "Cylinders": 4,
        "Displacement": 135,
        "Horsepower": 84,
        "Miles_per_Gallon": 36,
        "Name": "dodge charger 2.2",
        "Origin": "USA",
        "Weight_in_lbs": 2370,
        "Year": "1982-01-01T00:00:00"
       },
       {
        "Acceleration": 17.3,
        "Cylinders": 4,
        "Displacement": 151,
        "Horsepower": 90,
        "Miles_per_Gallon": 27,
        "Name": "chevrolet camaro",
        "Origin": "USA",
        "Weight_in_lbs": 2950,
        "Year": "1982-01-01T00:00:00"
       },
       {
        "Acceleration": 15.6,
        "Cylinders": 4,
        "Displacement": 140,
        "Horsepower": 86,
        "Miles_per_Gallon": 27,
        "Name": "ford mustang gl",
        "Origin": "USA",
        "Weight_in_lbs": 2790,
        "Year": "1982-01-01T00:00:00"
       },
       {
        "Acceleration": 24.6,
        "Cylinders": 4,
        "Displacement": 97,
        "Horsepower": 52,
        "Miles_per_Gallon": 44,
        "Name": "vw pickup",
        "Origin": "Europe",
        "Weight_in_lbs": 2130,
        "Year": "1982-01-01T00:00:00"
       },
       {
        "Acceleration": 11.6,
        "Cylinders": 4,
        "Displacement": 135,
        "Horsepower": 84,
        "Miles_per_Gallon": 32,
        "Name": "dodge rampage",
        "Origin": "USA",
        "Weight_in_lbs": 2295,
        "Year": "1982-01-01T00:00:00"
       },
       {
        "Acceleration": 18.6,
        "Cylinders": 4,
        "Displacement": 120,
        "Horsepower": 79,
        "Miles_per_Gallon": 28,
        "Name": "ford ranger",
        "Origin": "USA",
        "Weight_in_lbs": 2625,
        "Year": "1982-01-01T00:00:00"
       },
       {
        "Acceleration": 19.4,
        "Cylinders": 4,
        "Displacement": 119,
        "Horsepower": 82,
        "Miles_per_Gallon": 31,
        "Name": "chevy s-10",
        "Origin": "USA",
        "Weight_in_lbs": 2720,
        "Year": "1982-01-01T00:00:00"
       }
      ]
     },
     "encoding": {
      "color": {
       "condition": {
        "field": "Cylinders",
        "param": "brush",
        "type": "ordinal"
       },
       "value": "grey"
      },
      "x": {
       "field": "Horsepower",
       "type": "quantitative"
      },
      "y": {
       "field": "Miles_per_Gallon",
       "type": "quantitative"
      }
     },
     "mark": {
      "type": "point"
     },
     "name": "sp",
     "params": [
      {
       "name": "brush",
       "select": {
        "type": "interval"
       }
      }
     ]
    },
    "trrack_graph": {
     "current": "3cae2339-bebe-4a54-99cd-bf9beb0355fa",
     "nodes": {
      "080e935c-7a5a-4bc9-b142-bfb3f9a508ac": {
       "artifacts": [],
       "children": [
        "833cc954-9d2d-4c14-a786-a941f388ef59"
       ],
       "createdOn": 1691092104847,
       "event": "interaction",
       "id": "080e935c-7a5a-4bc9-b142-bfb3f9a508ac",
       "label": "Filter",
       "level": 2,
       "meta": {
        "annotation": [],
        "bookmark": []
       },
       "parent": "cded1b8a-cd38-4d58-ad04-29063bc829f5",
       "sideEffects": {
        "do": [],
        "undo": []
       },
       "state": {
        "checkpointRef": "d4f103b9-393b-416a-9de0-83b5cc2f2789",
        "type": "patch",
        "val": [
         {
          "op": "remove",
          "path": "/value"
         },
         {
          "op": "remove",
          "path": "/views"
         },
         {
          "op": "remove",
          "path": "/select"
         },
         {
          "op": "remove",
          "path": "/name"
         },
         {
          "op": "replace",
          "path": "/type",
          "value": "filter"
         },
         {
          "op": "replace",
          "path": "/id",
          "value": "8a7e7677-7d91-40ea-9f57-dfbb0ad49d9e"
         },
         {
          "op": "add",
          "path": "/direction",
          "value": "out"
         }
        ]
       }
      },
      "3cae2339-bebe-4a54-99cd-bf9beb0355fa": {
       "artifacts": [],
       "children": [],
       "createdOn": 1691103247125,
       "event": "interaction",
       "id": "3cae2339-bebe-4a54-99cd-bf9beb0355fa",
       "label": "Categorize",
       "level": 6,
       "meta": {
        "DATAFRAME_VARIABLE_NAME ": [
         {
          "createdOn": 1691106097287,
          "id": "bd1552ad-9c4b-442c-9b0c-7bff325a047d",
          "type": "DATAFRAME_VARIABLE_NAME ",
          "val": "Test"
         },
         {
          "createdOn": 1691106268799,
          "id": "39eee5c0-5663-41a3-92bf-5b9cebc74b43",
          "type": "DATAFRAME_VARIABLE_NAME ",
          "val": "Tes"
         },
         {
          "createdOn": 1691109522941,
          "id": "bffa9782-b70b-421a-a759-8250479f16fc",
          "type": "DATAFRAME_VARIABLE_NAME ",
          "val": "Test"
         }
        ],
        "annotation": [],
        "bookmark": []
       },
       "parent": "576bd53e-45df-4601-9fce-55d9d4b5a28f",
       "sideEffects": {
        "do": [],
        "undo": []
       },
       "state": {
        "checkpointRef": "d4f103b9-393b-416a-9de0-83b5cc2f2789",
        "type": "patch",
        "val": [
         {
          "op": "remove",
          "path": "/value"
         },
         {
          "op": "remove",
          "path": "/views"
         },
         {
          "op": "remove",
          "path": "/select"
         },
         {
          "op": "remove",
          "path": "/name"
         },
         {
          "op": "replace",
          "path": "/type",
          "value": "categorize"
         },
         {
          "op": "replace",
          "path": "/id",
          "value": "33b33b9f-3b93-4ab7-ac14-085e882e4ddb"
         },
         {
          "op": "add",
          "path": "/categoryName",
          "value": "TestCategory"
         },
         {
          "op": "add",
          "path": "/selectedOption",
          "value": "A"
         }
        ]
       }
      },
      "576bd53e-45df-4601-9fce-55d9d4b5a28f": {
       "artifacts": [],
       "children": [
        "3cae2339-bebe-4a54-99cd-bf9beb0355fa"
       ],
       "createdOn": 1691103243910,
       "event": "selection",
       "id": "576bd53e-45df-4601-9fce-55d9d4b5a28f",
       "label": "Brush selection",
       "level": 5,
       "meta": {
        "annotation": [],
        "bookmark": []
       },
       "parent": "5da71dcd-ddf2-45bb-949f-c7119e3d598f",
       "sideEffects": {
        "do": [],
        "undo": []
       },
       "state": {
        "checkpointRef": "d4f103b9-393b-416a-9de0-83b5cc2f2789",
        "type": "patch",
        "val": [
         {
          "op": "remove",
          "path": "/selectedOption"
         },
         {
          "op": "remove",
          "path": "/categoryName"
         },
         {
          "op": "replace",
          "path": "/type",
          "value": "selection"
         },
         {
          "op": "replace",
          "path": "/id",
          "value": "0a16ca58-5cbe-4564-831d-1f1bb1617e61"
         },
         {
          "op": "add",
          "path": "/name",
          "value": "brush"
         },
         {
          "op": "add",
          "path": "/select",
          "value": {
           "type": "interval"
          }
         },
         {
          "op": "add",
          "path": "/views",
          "value": [
           "sp"
          ]
         },
         {
          "op": "add",
          "path": "/value",
          "value": {
           "Horsepower": [
            160.8,
            208
           ],
           "Miles_per_Gallon": [
            11.48958333333333,
            21.15625
           ]
          }
         }
        ]
       }
      },
      "5da71dcd-ddf2-45bb-949f-c7119e3d598f": {
       "artifacts": [],
       "children": [
        "576bd53e-45df-4601-9fce-55d9d4b5a28f"
       ],
       "createdOn": 1691089225922,
       "event": "interaction",
       "id": "5da71dcd-ddf2-45bb-949f-c7119e3d598f",
       "label": "Categorize",
       "level": 4,
       "meta": {
        "annotation": [],
        "bookmark": []
       },
       "parent": "d76b64a6-234d-4cb7-8230-17a4cdbc1e7a",
       "sideEffects": {
        "do": [],
        "undo": []
       },
       "state": {
        "checkpointRef": "d4f103b9-393b-416a-9de0-83b5cc2f2789",
        "type": "patch",
        "val": [
         {
          "op": "remove",
          "path": "/value"
         },
         {
          "op": "remove",
          "path": "/views"
         },
         {
          "op": "remove",
          "path": "/select"
         },
         {
          "op": "remove",
          "path": "/name"
         },
         {
          "op": "replace",
          "path": "/type",
          "value": "categorize"
         },
         {
          "op": "replace",
          "path": "/id",
          "value": "1a5b393b-3a5f-464a-a145-062a10292beb"
         },
         {
          "op": "add",
          "path": "/categoryName",
          "value": "Coolness"
         },
         {
          "op": "add",
          "path": "/selectedOption",
          "value": "Uncool"
         }
        ]
       }
      },
      "6583cd20-8156-4fbf-b899-61a71a9c1bff": {
       "artifacts": [],
       "children": [
        "d76b64a6-234d-4cb7-8230-17a4cdbc1e7a"
       ],
       "createdOn": 1691089208146,
       "event": "interaction",
       "id": "6583cd20-8156-4fbf-b899-61a71a9c1bff",
       "label": "Categorize",
       "level": 2,
       "meta": {
        "annotation": [],
        "bookmark": []
       },
       "parent": "cded1b8a-cd38-4d58-ad04-29063bc829f5",
       "sideEffects": {
        "do": [],
        "undo": []
       },
       "state": {
        "checkpointRef": "d4f103b9-393b-416a-9de0-83b5cc2f2789",
        "type": "patch",
        "val": [
         {
          "op": "remove",
          "path": "/value"
         },
         {
          "op": "remove",
          "path": "/views"
         },
         {
          "op": "remove",
          "path": "/select"
         },
         {
          "op": "remove",
          "path": "/name"
         },
         {
          "op": "replace",
          "path": "/type",
          "value": "categorize"
         },
         {
          "op": "replace",
          "path": "/id",
          "value": "18fc6518-4ec4-411f-af81-d2d55d69e00c"
         },
         {
          "op": "add",
          "path": "/categoryName",
          "value": "Coolness"
         },
         {
          "op": "add",
          "path": "/selectedOption",
          "value": "Very Cool"
         }
        ]
       }
      },
      "68602291-a7be-4d34-83af-5f88309d4597": {
       "artifacts": [],
       "children": [],
       "createdOn": 1691092110626,
       "event": "interaction",
       "id": "68602291-a7be-4d34-83af-5f88309d4597",
       "label": "Filter",
       "level": 4,
       "meta": {
        "annotation": [],
        "bookmark": []
       },
       "parent": "833cc954-9d2d-4c14-a786-a941f388ef59",
       "sideEffects": {
        "do": [],
        "undo": []
       },
       "state": {
        "checkpointRef": "d4f103b9-393b-416a-9de0-83b5cc2f2789",
        "type": "patch",
        "val": [
         {
          "op": "remove",
          "path": "/value"
         },
         {
          "op": "remove",
          "path": "/views"
         },
         {
          "op": "remove",
          "path": "/select"
         },
         {
          "op": "remove",
          "path": "/name"
         },
         {
          "op": "replace",
          "path": "/type",
          "value": "filter"
         },
         {
          "op": "replace",
          "path": "/id",
          "value": "93af4150-4bb6-417f-b578-2380d62afdd8"
         },
         {
          "op": "add",
          "path": "/direction",
          "value": "out"
         }
        ]
       }
      },
      "833cc954-9d2d-4c14-a786-a941f388ef59": {
       "artifacts": [],
       "children": [
        "68602291-a7be-4d34-83af-5f88309d4597"
       ],
       "createdOn": 1691092108217,
       "event": "selection",
       "id": "833cc954-9d2d-4c14-a786-a941f388ef59",
       "label": "Brush selection",
       "level": 3,
       "meta": {
        "annotation": [],
        "bookmark": []
       },
       "parent": "080e935c-7a5a-4bc9-b142-bfb3f9a508ac",
       "sideEffects": {
        "do": [],
        "undo": []
       },
       "state": {
        "checkpointRef": "d4f103b9-393b-416a-9de0-83b5cc2f2789",
        "type": "patch",
        "val": [
         {
          "op": "remove",
          "path": "/direction"
         },
         {
          "op": "replace",
          "path": "/type",
          "value": "selection"
         },
         {
          "op": "replace",
          "path": "/id",
          "value": "b9810e21-033d-4782-91e0-d991a8a692d0"
         },
         {
          "op": "add",
          "path": "/name",
          "value": "brush"
         },
         {
          "op": "add",
          "path": "/select",
          "value": {
           "type": "interval"
          }
         },
         {
          "op": "add",
          "path": "/views",
          "value": [
           "sp"
          ]
         },
         {
          "op": "add",
          "path": "/value",
          "value": {
           "Horsepower": [
            103.2,
            163.20000000000002
           ],
           "Miles_per_Gallon": [
            14.989583333333334,
            25.322916666666668
           ]
          }
         }
        ]
       }
      },
      "cded1b8a-cd38-4d58-ad04-29063bc829f5": {
       "artifacts": [],
       "children": [
        "6583cd20-8156-4fbf-b899-61a71a9c1bff",
        "080e935c-7a5a-4bc9-b142-bfb3f9a508ac"
       ],
       "createdOn": 1691089127308,
       "event": "selection",
       "id": "cded1b8a-cd38-4d58-ad04-29063bc829f5",
       "label": "Brush selection",
       "level": 1,
       "meta": {
        "annotation": [],
        "bookmark": []
       },
       "parent": "d4f103b9-393b-416a-9de0-83b5cc2f2789",
       "sideEffects": {
        "do": [],
        "undo": []
       },
       "state": {
        "checkpointRef": "d4f103b9-393b-416a-9de0-83b5cc2f2789",
        "type": "patch",
        "val": [
         {
          "op": "replace",
          "path": "/type",
          "value": "selection"
         },
         {
          "op": "replace",
          "path": "/id",
          "value": "8f748c0e-bc42-4fc9-868f-1e64b956302d"
         },
         {
          "op": "add",
          "path": "/name",
          "value": "brush"
         },
         {
          "op": "add",
          "path": "/select",
          "value": {
           "type": "interval"
          }
         },
         {
          "op": "add",
          "path": "/views",
          "value": [
           "sp"
          ]
         },
         {
          "op": "add",
          "path": "/value",
          "value": {
           "Horsepower": [
            44,
            135.20000000000002
           ],
           "Miles_per_Gallon": [
            32.15625,
            42.322916666666664
           ]
          }
         }
        ]
       }
      },
      "d4f103b9-393b-416a-9de0-83b5cc2f2789": {
       "artifacts": [],
       "children": [
        "cded1b8a-cd38-4d58-ad04-29063bc829f5"
       ],
       "createdOn": 1691088897308,
       "event": "Root",
       "id": "d4f103b9-393b-416a-9de0-83b5cc2f2789",
       "label": "Root",
       "level": 0,
       "meta": {
        "annotation": [],
        "bookmark": []
       },
       "state": {
        "type": "checkpoint",
        "val": {
         "id": "edc0a262-681a-461a-a542-23806f1189c3",
         "type": "create"
        }
       }
      },
      "d76b64a6-234d-4cb7-8230-17a4cdbc1e7a": {
       "artifacts": [],
       "children": [
        "5da71dcd-ddf2-45bb-949f-c7119e3d598f",
        "fa36a4d1-07d8-4910-8599-632a909fe782"
       ],
       "createdOn": 1691089218633,
       "event": "selection",
       "id": "d76b64a6-234d-4cb7-8230-17a4cdbc1e7a",
       "label": "Brush selection",
       "level": 3,
       "meta": {
        "annotation": [],
        "bookmark": []
       },
       "parent": "6583cd20-8156-4fbf-b899-61a71a9c1bff",
       "sideEffects": {
        "do": [],
        "undo": []
       },
       "state": {
        "checkpointRef": "d4f103b9-393b-416a-9de0-83b5cc2f2789",
        "type": "patch",
        "val": [
         {
          "op": "remove",
          "path": "/selectedOption"
         },
         {
          "op": "remove",
          "path": "/categoryName"
         },
         {
          "op": "replace",
          "path": "/type",
          "value": "selection"
         },
         {
          "op": "replace",
          "path": "/id",
          "value": "3ccdacc8-1bae-45da-b4f0-6821b27141d6"
         },
         {
          "op": "add",
          "path": "/name",
          "value": "brush"
         },
         {
          "op": "add",
          "path": "/select",
          "value": {
           "type": "interval"
          }
         },
         {
          "op": "add",
          "path": "/views",
          "value": [
           "sp"
          ]
         },
         {
          "op": "add",
          "path": "/value",
          "value": {
           "Horsepower": [
            76,
            153.6
           ],
           "Miles_per_Gallon": [
            22.489583333333336,
            37.98958333333333
           ]
          }
         }
        ]
       }
      },
      "fa36a4d1-07d8-4910-8599-632a909fe782": {
       "artifacts": [],
       "children": [],
       "createdOn": 1691090607871,
       "event": "interaction",
       "id": "fa36a4d1-07d8-4910-8599-632a909fe782",
       "label": "Filter",
       "level": 4,
       "meta": {
        "annotation": [],
        "bookmark": []
       },
       "parent": "d76b64a6-234d-4cb7-8230-17a4cdbc1e7a",
       "sideEffects": {
        "do": [],
        "undo": []
       },
       "state": {
        "checkpointRef": "d4f103b9-393b-416a-9de0-83b5cc2f2789",
        "type": "patch",
        "val": [
         {
          "op": "remove",
          "path": "/value"
         },
         {
          "op": "remove",
          "path": "/views"
         },
         {
          "op": "remove",
          "path": "/select"
         },
         {
          "op": "remove",
          "path": "/name"
         },
         {
          "op": "replace",
          "path": "/type",
          "value": "filter"
         },
         {
          "op": "replace",
          "path": "/id",
          "value": "28ce443e-83a5-4782-a020-94f6deb569be"
         },
         {
          "op": "add",
          "path": "/direction",
          "value": "out"
         }
        ]
       }
      }
     },
     "root": "d4f103b9-393b-416a-9de0-83b5cc2f2789"
    }
   },
   "outputs": [
    {
     "data": {
      "application/vnd.vegalite.v5+json": {
       "$schema": "https://vega.github.io/schema/vega-lite/v5.8.0.json",
       "config": {
        "view": {
         "continuousHeight": 300,
         "continuousWidth": 300
        }
       },
       "data": {
        "name": "data-f02450ab61490a1363517a0190416235"
       },
       "datasets": {
        "data-f02450ab61490a1363517a0190416235": [
         {
          "Acceleration": 12,
          "Cylinders": 8,
          "Displacement": 307,
          "Horsepower": 130,
          "Miles_per_Gallon": 18,
          "Name": "chevrolet chevelle malibu",
          "Origin": "USA",
          "Weight_in_lbs": 3504,
          "Year": "1970-01-01T00:00:00"
         },
         {
          "Acceleration": 11.5,
          "Cylinders": 8,
          "Displacement": 350,
          "Horsepower": 165,
          "Miles_per_Gallon": 15,
          "Name": "buick skylark 320",
          "Origin": "USA",
          "Weight_in_lbs": 3693,
          "Year": "1970-01-01T00:00:00"
         },
         {
          "Acceleration": 11,
          "Cylinders": 8,
          "Displacement": 318,
          "Horsepower": 150,
          "Miles_per_Gallon": 18,
          "Name": "plymouth satellite",
          "Origin": "USA",
          "Weight_in_lbs": 3436,
          "Year": "1970-01-01T00:00:00"
         },
         {
          "Acceleration": 12,
          "Cylinders": 8,
          "Displacement": 304,
          "Horsepower": 150,
          "Miles_per_Gallon": 16,
          "Name": "amc rebel sst",
          "Origin": "USA",
          "Weight_in_lbs": 3433,
          "Year": "1970-01-01T00:00:00"
         },
         {
          "Acceleration": 10.5,
          "Cylinders": 8,
          "Displacement": 302,
          "Horsepower": 140,
          "Miles_per_Gallon": 17,
          "Name": "ford torino",
          "Origin": "USA",
          "Weight_in_lbs": 3449,
          "Year": "1970-01-01T00:00:00"
         },
         {
          "Acceleration": 10,
          "Cylinders": 8,
          "Displacement": 429,
          "Horsepower": 198,
          "Miles_per_Gallon": 15,
          "Name": "ford galaxie 500",
          "Origin": "USA",
          "Weight_in_lbs": 4341,
          "Year": "1970-01-01T00:00:00"
         },
         {
          "Acceleration": 9,
          "Cylinders": 8,
          "Displacement": 454,
          "Horsepower": 220,
          "Miles_per_Gallon": 14,
          "Name": "chevrolet impala",
          "Origin": "USA",
          "Weight_in_lbs": 4354,
          "Year": "1970-01-01T00:00:00"
         },
         {
          "Acceleration": 8.5,
          "Cylinders": 8,
          "Displacement": 440,
          "Horsepower": 215,
          "Miles_per_Gallon": 14,
          "Name": "plymouth fury iii",
          "Origin": "USA",
          "Weight_in_lbs": 4312,
          "Year": "1970-01-01T00:00:00"
         },
         {
          "Acceleration": 10,
          "Cylinders": 8,
          "Displacement": 455,
          "Horsepower": 225,
          "Miles_per_Gallon": 14,
          "Name": "pontiac catalina",
          "Origin": "USA",
          "Weight_in_lbs": 4425,
          "Year": "1970-01-01T00:00:00"
         },
         {
          "Acceleration": 8.5,
          "Cylinders": 8,
          "Displacement": 390,
          "Horsepower": 190,
          "Miles_per_Gallon": 15,
          "Name": "amc ambassador dpl",
          "Origin": "USA",
          "Weight_in_lbs": 3850,
          "Year": "1970-01-01T00:00:00"
         },
         {
          "Acceleration": 17.5,
          "Cylinders": 4,
          "Displacement": 133,
          "Horsepower": 115,
          "Miles_per_Gallon": null,
          "Name": "citroen ds-21 pallas",
          "Origin": "Europe",
          "Weight_in_lbs": 3090,
          "Year": "1970-01-01T00:00:00"
         },
         {
          "Acceleration": 11.5,
          "Cylinders": 8,
          "Displacement": 350,
          "Horsepower": 165,
          "Miles_per_Gallon": null,
          "Name": "chevrolet chevelle concours (sw)",
          "Origin": "USA",
          "Weight_in_lbs": 4142,
          "Year": "1970-01-01T00:00:00"
         },
         {
          "Acceleration": 11,
          "Cylinders": 8,
          "Displacement": 351,
          "Horsepower": 153,
          "Miles_per_Gallon": null,
          "Name": "ford torino (sw)",
          "Origin": "USA",
          "Weight_in_lbs": 4034,
          "Year": "1970-01-01T00:00:00"
         },
         {
          "Acceleration": 10.5,
          "Cylinders": 8,
          "Displacement": 383,
          "Horsepower": 175,
          "Miles_per_Gallon": null,
          "Name": "plymouth satellite (sw)",
          "Origin": "USA",
          "Weight_in_lbs": 4166,
          "Year": "1970-01-01T00:00:00"
         },
         {
          "Acceleration": 11,
          "Cylinders": 8,
          "Displacement": 360,
          "Horsepower": 175,
          "Miles_per_Gallon": null,
          "Name": "amc rebel sst (sw)",
          "Origin": "USA",
          "Weight_in_lbs": 3850,
          "Year": "1970-01-01T00:00:00"
         },
         {
          "Acceleration": 10,
          "Cylinders": 8,
          "Displacement": 383,
          "Horsepower": 170,
          "Miles_per_Gallon": 15,
          "Name": "dodge challenger se",
          "Origin": "USA",
          "Weight_in_lbs": 3563,
          "Year": "1970-01-01T00:00:00"
         },
         {
          "Acceleration": 8,
          "Cylinders": 8,
          "Displacement": 340,
          "Horsepower": 160,
          "Miles_per_Gallon": 14,
          "Name": "plymouth 'cuda 340",
          "Origin": "USA",
          "Weight_in_lbs": 3609,
          "Year": "1970-01-01T00:00:00"
         },
         {
          "Acceleration": 8,
          "Cylinders": 8,
          "Displacement": 302,
          "Horsepower": 140,
          "Miles_per_Gallon": null,
          "Name": "ford mustang boss 302",
          "Origin": "USA",
          "Weight_in_lbs": 3353,
          "Year": "1970-01-01T00:00:00"
         },
         {
          "Acceleration": 9.5,
          "Cylinders": 8,
          "Displacement": 400,
          "Horsepower": 150,
          "Miles_per_Gallon": 15,
          "Name": "chevrolet monte carlo",
          "Origin": "USA",
          "Weight_in_lbs": 3761,
          "Year": "1970-01-01T00:00:00"
         },
         {
          "Acceleration": 10,
          "Cylinders": 8,
          "Displacement": 455,
          "Horsepower": 225,
          "Miles_per_Gallon": 14,
          "Name": "buick estate wagon (sw)",
          "Origin": "USA",
          "Weight_in_lbs": 3086,
          "Year": "1970-01-01T00:00:00"
         },
         {
          "Acceleration": 15,
          "Cylinders": 4,
          "Displacement": 113,
          "Horsepower": 95,
          "Miles_per_Gallon": 24,
          "Name": "toyota corona mark ii",
          "Origin": "Japan",
          "Weight_in_lbs": 2372,
          "Year": "1970-01-01T00:00:00"
         },
         {
          "Acceleration": 15.5,
          "Cylinders": 6,
          "Displacement": 198,
          "Horsepower": 95,
          "Miles_per_Gallon": 22,
          "Name": "plymouth duster",
          "Origin": "USA",
          "Weight_in_lbs": 2833,
          "Year": "1970-01-01T00:00:00"
         },
         {
          "Acceleration": 15.5,
          "Cylinders": 6,
          "Displacement": 199,
          "Horsepower": 97,
          "Miles_per_Gallon": 18,
          "Name": "amc hornet",
          "Origin": "USA",
          "Weight_in_lbs": 2774,
          "Year": "1970-01-01T00:00:00"
         },
         {
          "Acceleration": 16,
          "Cylinders": 6,
          "Displacement": 200,
          "Horsepower": 85,
          "Miles_per_Gallon": 21,
          "Name": "ford maverick",
          "Origin": "USA",
          "Weight_in_lbs": 2587,
          "Year": "1970-01-01T00:00:00"
         },
         {
          "Acceleration": 14.5,
          "Cylinders": 4,
          "Displacement": 97,
          "Horsepower": 88,
          "Miles_per_Gallon": 27,
          "Name": "datsun pl510",
          "Origin": "Japan",
          "Weight_in_lbs": 2130,
          "Year": "1970-01-01T00:00:00"
         },
         {
          "Acceleration": 20.5,
          "Cylinders": 4,
          "Displacement": 97,
          "Horsepower": 46,
          "Miles_per_Gallon": 26,
          "Name": "volkswagen 1131 deluxe sedan",
          "Origin": "Europe",
          "Weight_in_lbs": 1835,
          "Year": "1970-01-01T00:00:00"
         },
         {
          "Acceleration": 17.5,
          "Cylinders": 4,
          "Displacement": 110,
          "Horsepower": 87,
          "Miles_per_Gallon": 25,
          "Name": "peugeot 504",
          "Origin": "Europe",
          "Weight_in_lbs": 2672,
          "Year": "1970-01-01T00:00:00"
         },
         {
          "Acceleration": 14.5,
          "Cylinders": 4,
          "Displacement": 107,
          "Horsepower": 90,
          "Miles_per_Gallon": 24,
          "Name": "audi 100 ls",
          "Origin": "Europe",
          "Weight_in_lbs": 2430,
          "Year": "1970-01-01T00:00:00"
         },
         {
          "Acceleration": 17.5,
          "Cylinders": 4,
          "Displacement": 104,
          "Horsepower": 95,
          "Miles_per_Gallon": 25,
          "Name": "saab 99e",
          "Origin": "Europe",
          "Weight_in_lbs": 2375,
          "Year": "1970-01-01T00:00:00"
         },
         {
          "Acceleration": 12.5,
          "Cylinders": 4,
          "Displacement": 121,
          "Horsepower": 113,
          "Miles_per_Gallon": 26,
          "Name": "bmw 2002",
          "Origin": "Europe",
          "Weight_in_lbs": 2234,
          "Year": "1970-01-01T00:00:00"
         },
         {
          "Acceleration": 15,
          "Cylinders": 6,
          "Displacement": 199,
          "Horsepower": 90,
          "Miles_per_Gallon": 21,
          "Name": "amc gremlin",
          "Origin": "USA",
          "Weight_in_lbs": 2648,
          "Year": "1970-01-01T00:00:00"
         },
         {
          "Acceleration": 14,
          "Cylinders": 8,
          "Displacement": 360,
          "Horsepower": 215,
          "Miles_per_Gallon": 10,
          "Name": "ford f250",
          "Origin": "USA",
          "Weight_in_lbs": 4615,
          "Year": "1970-01-01T00:00:00"
         },
         {
          "Acceleration": 15,
          "Cylinders": 8,
          "Displacement": 307,
          "Horsepower": 200,
          "Miles_per_Gallon": 10,
          "Name": "chevy c20",
          "Origin": "USA",
          "Weight_in_lbs": 4376,
          "Year": "1970-01-01T00:00:00"
         },
         {
          "Acceleration": 13.5,
          "Cylinders": 8,
          "Displacement": 318,
          "Horsepower": 210,
          "Miles_per_Gallon": 11,
          "Name": "dodge d200",
          "Origin": "USA",
          "Weight_in_lbs": 4382,
          "Year": "1970-01-01T00:00:00"
         },
         {
          "Acceleration": 18.5,
          "Cylinders": 8,
          "Displacement": 304,
          "Horsepower": 193,
          "Miles_per_Gallon": 9,
          "Name": "hi 1200d",
          "Origin": "USA",
          "Weight_in_lbs": 4732,
          "Year": "1970-01-01T00:00:00"
         },
         {
          "Acceleration": 14.5,
          "Cylinders": 4,
          "Displacement": 97,
          "Horsepower": 88,
          "Miles_per_Gallon": 27,
          "Name": "datsun pl510",
          "Origin": "Japan",
          "Weight_in_lbs": 2130,
          "Year": "1971-01-01T00:00:00"
         },
         {
          "Acceleration": 15.5,
          "Cylinders": 4,
          "Displacement": 140,
          "Horsepower": 90,
          "Miles_per_Gallon": 28,
          "Name": "chevrolet vega 2300",
          "Origin": "USA",
          "Weight_in_lbs": 2264,
          "Year": "1971-01-01T00:00:00"
         },
         {
          "Acceleration": 14,
          "Cylinders": 4,
          "Displacement": 113,
          "Horsepower": 95,
          "Miles_per_Gallon": 25,
          "Name": "toyota corona",
          "Origin": "Japan",
          "Weight_in_lbs": 2228,
          "Year": "1971-01-01T00:00:00"
         },
         {
          "Acceleration": 19,
          "Cylinders": 4,
          "Displacement": 98,
          "Horsepower": null,
          "Miles_per_Gallon": 25,
          "Name": "ford pinto",
          "Origin": "USA",
          "Weight_in_lbs": 2046,
          "Year": "1971-01-01T00:00:00"
         },
         {
          "Acceleration": 20,
          "Cylinders": 4,
          "Displacement": 97,
          "Horsepower": 48,
          "Miles_per_Gallon": null,
          "Name": "volkswagen super beetle 117",
          "Origin": "Europe",
          "Weight_in_lbs": 1978,
          "Year": "1971-01-01T00:00:00"
         },
         {
          "Acceleration": 13,
          "Cylinders": 6,
          "Displacement": 232,
          "Horsepower": 100,
          "Miles_per_Gallon": 19,
          "Name": "amc gremlin",
          "Origin": "USA",
          "Weight_in_lbs": 2634,
          "Year": "1971-01-01T00:00:00"
         },
         {
          "Acceleration": 15.5,
          "Cylinders": 6,
          "Displacement": 225,
          "Horsepower": 105,
          "Miles_per_Gallon": 16,
          "Name": "plymouth satellite custom",
          "Origin": "USA",
          "Weight_in_lbs": 3439,
          "Year": "1971-01-01T00:00:00"
         },
         {
          "Acceleration": 15.5,
          "Cylinders": 6,
          "Displacement": 250,
          "Horsepower": 100,
          "Miles_per_Gallon": 17,
          "Name": "chevrolet chevelle malibu",
          "Origin": "USA",
          "Weight_in_lbs": 3329,
          "Year": "1971-01-01T00:00:00"
         },
         {
          "Acceleration": 15.5,
          "Cylinders": 6,
          "Displacement": 250,
          "Horsepower": 88,
          "Miles_per_Gallon": 19,
          "Name": "ford torino 500",
          "Origin": "USA",
          "Weight_in_lbs": 3302,
          "Year": "1971-01-01T00:00:00"
         },
         {
          "Acceleration": 15.5,
          "Cylinders": 6,
          "Displacement": 232,
          "Horsepower": 100,
          "Miles_per_Gallon": 18,
          "Name": "amc matador",
          "Origin": "USA",
          "Weight_in_lbs": 3288,
          "Year": "1971-01-01T00:00:00"
         },
         {
          "Acceleration": 12,
          "Cylinders": 8,
          "Displacement": 350,
          "Horsepower": 165,
          "Miles_per_Gallon": 14,
          "Name": "chevrolet impala",
          "Origin": "USA",
          "Weight_in_lbs": 4209,
          "Year": "1971-01-01T00:00:00"
         },
         {
          "Acceleration": 11.5,
          "Cylinders": 8,
          "Displacement": 400,
          "Horsepower": 175,
          "Miles_per_Gallon": 14,
          "Name": "pontiac catalina brougham",
          "Origin": "USA",
          "Weight_in_lbs": 4464,
          "Year": "1971-01-01T00:00:00"
         },
         {
          "Acceleration": 13.5,
          "Cylinders": 8,
          "Displacement": 351,
          "Horsepower": 153,
          "Miles_per_Gallon": 14,
          "Name": "ford galaxie 500",
          "Origin": "USA",
          "Weight_in_lbs": 4154,
          "Year": "1971-01-01T00:00:00"
         },
         {
          "Acceleration": 13,
          "Cylinders": 8,
          "Displacement": 318,
          "Horsepower": 150,
          "Miles_per_Gallon": 14,
          "Name": "plymouth fury iii",
          "Origin": "USA",
          "Weight_in_lbs": 4096,
          "Year": "1971-01-01T00:00:00"
         },
         {
          "Acceleration": 11.5,
          "Cylinders": 8,
          "Displacement": 383,
          "Horsepower": 180,
          "Miles_per_Gallon": 12,
          "Name": "dodge monaco (sw)",
          "Origin": "USA",
          "Weight_in_lbs": 4955,
          "Year": "1971-01-01T00:00:00"
         },
         {
          "Acceleration": 12,
          "Cylinders": 8,
          "Displacement": 400,
          "Horsepower": 170,
          "Miles_per_Gallon": 13,
          "Name": "ford country squire (sw)",
          "Origin": "USA",
          "Weight_in_lbs": 4746,
          "Year": "1971-01-01T00:00:00"
         },
         {
          "Acceleration": 12,
          "Cylinders": 8,
          "Displacement": 400,
          "Horsepower": 175,
          "Miles_per_Gallon": 13,
          "Name": "pontiac safari (sw)",
          "Origin": "USA",
          "Weight_in_lbs": 5140,
          "Year": "1971-01-01T00:00:00"
         },
         {
          "Acceleration": 13.5,
          "Cylinders": 6,
          "Displacement": 258,
          "Horsepower": 110,
          "Miles_per_Gallon": 18,
          "Name": "amc hornet sportabout (sw)",
          "Origin": "USA",
          "Weight_in_lbs": 2962,
          "Year": "1971-01-01T00:00:00"
         },
         {
          "Acceleration": 19,
          "Cylinders": 4,
          "Displacement": 140,
          "Horsepower": 72,
          "Miles_per_Gallon": 22,
          "Name": "chevrolet vega (sw)",
          "Origin": "USA",
          "Weight_in_lbs": 2408,
          "Year": "1971-01-01T00:00:00"
         },
         {
          "Acceleration": 15,
          "Cylinders": 6,
          "Displacement": 250,
          "Horsepower": 100,
          "Miles_per_Gallon": 19,
          "Name": "pontiac firebird",
          "Origin": "USA",
          "Weight_in_lbs": 3282,
          "Year": "1971-01-01T00:00:00"
         },
         {
          "Acceleration": 14.5,
          "Cylinders": 6,
          "Displacement": 250,
          "Horsepower": 88,
          "Miles_per_Gallon": 18,
          "Name": "ford mustang",
          "Origin": "USA",
          "Weight_in_lbs": 3139,
          "Year": "1971-01-01T00:00:00"
         },
         {
          "Acceleration": 14,
          "Cylinders": 4,
          "Displacement": 122,
          "Horsepower": 86,
          "Miles_per_Gallon": 23,
          "Name": "mercury capri 2000",
          "Origin": "USA",
          "Weight_in_lbs": 2220,
          "Year": "1971-01-01T00:00:00"
         },
         {
          "Acceleration": 14,
          "Cylinders": 4,
          "Displacement": 116,
          "Horsepower": 90,
          "Miles_per_Gallon": 28,
          "Name": "opel 1900",
          "Origin": "Europe",
          "Weight_in_lbs": 2123,
          "Year": "1971-01-01T00:00:00"
         },
         {
          "Acceleration": 19.5,
          "Cylinders": 4,
          "Displacement": 79,
          "Horsepower": 70,
          "Miles_per_Gallon": 30,
          "Name": "peugeot 304",
          "Origin": "Europe",
          "Weight_in_lbs": 2074,
          "Year": "1971-01-01T00:00:00"
         },
         {
          "Acceleration": 14.5,
          "Cylinders": 4,
          "Displacement": 88,
          "Horsepower": 76,
          "Miles_per_Gallon": 30,
          "Name": "fiat 124b",
          "Origin": "Europe",
          "Weight_in_lbs": 2065,
          "Year": "1971-01-01T00:00:00"
         },
         {
          "Acceleration": 19,
          "Cylinders": 4,
          "Displacement": 71,
          "Horsepower": 65,
          "Miles_per_Gallon": 31,
          "Name": "toyota corolla 1200",
          "Origin": "Japan",
          "Weight_in_lbs": 1773,
          "Year": "1971-01-01T00:00:00"
         },
         {
          "Acceleration": 18,
          "Cylinders": 4,
          "Displacement": 72,
          "Horsepower": 69,
          "Miles_per_Gallon": 35,
          "Name": "datsun 1200",
          "Origin": "Japan",
          "Weight_in_lbs": 1613,
          "Year": "1971-01-01T00:00:00"
         },
         {
          "Acceleration": 19,
          "Cylinders": 4,
          "Displacement": 97,
          "Horsepower": 60,
          "Miles_per_Gallon": 27,
          "Name": "volkswagen model 111",
          "Origin": "Europe",
          "Weight_in_lbs": 1834,
          "Year": "1971-01-01T00:00:00"
         },
         {
          "Acceleration": 20.5,
          "Cylinders": 4,
          "Displacement": 91,
          "Horsepower": 70,
          "Miles_per_Gallon": 26,
          "Name": "plymouth cricket",
          "Origin": "USA",
          "Weight_in_lbs": 1955,
          "Year": "1971-01-01T00:00:00"
         },
         {
          "Acceleration": 15.5,
          "Cylinders": 4,
          "Displacement": 113,
          "Horsepower": 95,
          "Miles_per_Gallon": 24,
          "Name": "toyota corona hardtop",
          "Origin": "Japan",
          "Weight_in_lbs": 2278,
          "Year": "1972-01-01T00:00:00"
         },
         {
          "Acceleration": 17,
          "Cylinders": 4,
          "Displacement": 97.5,
          "Horsepower": 80,
          "Miles_per_Gallon": 25,
          "Name": "dodge colt hardtop",
          "Origin": "USA",
          "Weight_in_lbs": 2126,
          "Year": "1972-01-01T00:00:00"
         },
         {
          "Acceleration": 23.5,
          "Cylinders": 4,
          "Displacement": 97,
          "Horsepower": 54,
          "Miles_per_Gallon": 23,
          "Name": "volkswagen type 3",
          "Origin": "Europe",
          "Weight_in_lbs": 2254,
          "Year": "1972-01-01T00:00:00"
         },
         {
          "Acceleration": 19.5,
          "Cylinders": 4,
          "Displacement": 140,
          "Horsepower": 90,
          "Miles_per_Gallon": 20,
          "Name": "chevrolet vega",
          "Origin": "USA",
          "Weight_in_lbs": 2408,
          "Year": "1972-01-01T00:00:00"
         },
         {
          "Acceleration": 16.5,
          "Cylinders": 4,
          "Displacement": 122,
          "Horsepower": 86,
          "Miles_per_Gallon": 21,
          "Name": "ford pinto runabout",
          "Origin": "USA",
          "Weight_in_lbs": 2226,
          "Year": "1972-01-01T00:00:00"
         },
         {
          "Acceleration": 12,
          "Cylinders": 8,
          "Displacement": 350,
          "Horsepower": 165,
          "Miles_per_Gallon": 13,
          "Name": "chevrolet impala",
          "Origin": "USA",
          "Weight_in_lbs": 4274,
          "Year": "1972-01-01T00:00:00"
         },
         {
          "Acceleration": 12,
          "Cylinders": 8,
          "Displacement": 400,
          "Horsepower": 175,
          "Miles_per_Gallon": 14,
          "Name": "pontiac catalina",
          "Origin": "USA",
          "Weight_in_lbs": 4385,
          "Year": "1972-01-01T00:00:00"
         },
         {
          "Acceleration": 13.5,
          "Cylinders": 8,
          "Displacement": 318,
          "Horsepower": 150,
          "Miles_per_Gallon": 15,
          "Name": "plymouth fury iii",
          "Origin": "USA",
          "Weight_in_lbs": 4135,
          "Year": "1972-01-01T00:00:00"
         },
         {
          "Acceleration": 13,
          "Cylinders": 8,
          "Displacement": 351,
          "Horsepower": 153,
          "Miles_per_Gallon": 14,
          "Name": "ford galaxie 500",
          "Origin": "USA",
          "Weight_in_lbs": 4129,
          "Year": "1972-01-01T00:00:00"
         },
         {
          "Acceleration": 11.5,
          "Cylinders": 8,
          "Displacement": 304,
          "Horsepower": 150,
          "Miles_per_Gallon": 17,
          "Name": "amc ambassador sst",
          "Origin": "USA",
          "Weight_in_lbs": 3672,
          "Year": "1972-01-01T00:00:00"
         },
         {
          "Acceleration": 11,
          "Cylinders": 8,
          "Displacement": 429,
          "Horsepower": 208,
          "Miles_per_Gallon": 11,
          "Name": "mercury marquis",
          "Origin": "USA",
          "Weight_in_lbs": 4633,
          "Year": "1972-01-01T00:00:00"
         },
         {
          "Acceleration": 13.5,
          "Cylinders": 8,
          "Displacement": 350,
          "Horsepower": 155,
          "Miles_per_Gallon": 13,
          "Name": "buick lesabre custom",
          "Origin": "USA",
          "Weight_in_lbs": 4502,
          "Year": "1972-01-01T00:00:00"
         },
         {
          "Acceleration": 13.5,
          "Cylinders": 8,
          "Displacement": 350,
          "Horsepower": 160,
          "Miles_per_Gallon": 12,
          "Name": "oldsmobile delta 88 royale",
          "Origin": "USA",
          "Weight_in_lbs": 4456,
          "Year": "1972-01-01T00:00:00"
         },
         {
          "Acceleration": 12.5,
          "Cylinders": 8,
          "Displacement": 400,
          "Horsepower": 190,
          "Miles_per_Gallon": 13,
          "Name": "chrysler newport royal",
          "Origin": "USA",
          "Weight_in_lbs": 4422,
          "Year": "1972-01-01T00:00:00"
         },
         {
          "Acceleration": 13.5,
          "Cylinders": 3,
          "Displacement": 70,
          "Horsepower": 97,
          "Miles_per_Gallon": 19,
          "Name": "mazda rx2 coupe",
          "Origin": "Japan",
          "Weight_in_lbs": 2330,
          "Year": "1972-01-01T00:00:00"
         },
         {
          "Acceleration": 12.5,
          "Cylinders": 8,
          "Displacement": 304,
          "Horsepower": 150,
          "Miles_per_Gallon": 15,
          "Name": "amc matador (sw)",
          "Origin": "USA",
          "Weight_in_lbs": 3892,
          "Year": "1972-01-01T00:00:00"
         },
         {
          "Acceleration": 14,
          "Cylinders": 8,
          "Displacement": 307,
          "Horsepower": 130,
          "Miles_per_Gallon": 13,
          "Name": "chevrolet chevelle concours (sw)",
          "Origin": "USA",
          "Weight_in_lbs": 4098,
          "Year": "1972-01-01T00:00:00"
         },
         {
          "Acceleration": 16,
          "Cylinders": 8,
          "Displacement": 302,
          "Horsepower": 140,
          "Miles_per_Gallon": 13,
          "Name": "ford gran torino (sw)",
          "Origin": "USA",
          "Weight_in_lbs": 4294,
          "Year": "1972-01-01T00:00:00"
         },
         {
          "Acceleration": 14,
          "Cylinders": 8,
          "Displacement": 318,
          "Horsepower": 150,
          "Miles_per_Gallon": 14,
          "Name": "plymouth satellite custom (sw)",
          "Origin": "USA",
          "Weight_in_lbs": 4077,
          "Year": "1972-01-01T00:00:00"
         },
         {
          "Acceleration": 14.5,
          "Cylinders": 4,
          "Displacement": 121,
          "Horsepower": 112,
          "Miles_per_Gallon": 18,
          "Name": "volvo 145e (sw)",
          "Origin": "Europe",
          "Weight_in_lbs": 2933,
          "Year": "1972-01-01T00:00:00"
         },
         {
          "Acceleration": 18,
          "Cylinders": 4,
          "Displacement": 121,
          "Horsepower": 76,
          "Miles_per_Gallon": 22,
          "Name": "volkswagen 411 (sw)",
          "Origin": "Europe",
          "Weight_in_lbs": 2511,
          "Year": "1972-01-01T00:00:00"
         },
         {
          "Acceleration": 19.5,
          "Cylinders": 4,
          "Displacement": 120,
          "Horsepower": 87,
          "Miles_per_Gallon": 21,
          "Name": "peugeot 504 (sw)",
          "Origin": "Europe",
          "Weight_in_lbs": 2979,
          "Year": "1972-01-01T00:00:00"
         },
         {
          "Acceleration": 18,
          "Cylinders": 4,
          "Displacement": 96,
          "Horsepower": 69,
          "Miles_per_Gallon": 26,
          "Name": "renault 12 (sw)",
          "Origin": "Europe",
          "Weight_in_lbs": 2189,
          "Year": "1972-01-01T00:00:00"
         },
         {
          "Acceleration": 16,
          "Cylinders": 4,
          "Displacement": 122,
          "Horsepower": 86,
          "Miles_per_Gallon": 22,
          "Name": "ford pinto (sw)",
          "Origin": "USA",
          "Weight_in_lbs": 2395,
          "Year": "1972-01-01T00:00:00"
         },
         {
          "Acceleration": 17,
          "Cylinders": 4,
          "Displacement": 97,
          "Horsepower": 92,
          "Miles_per_Gallon": 28,
          "Name": "datsun 510 (sw)",
          "Origin": "Japan",
          "Weight_in_lbs": 2288,
          "Year": "1972-01-01T00:00:00"
         },
         {
          "Acceleration": 14.5,
          "Cylinders": 4,
          "Displacement": 120,
          "Horsepower": 97,
          "Miles_per_Gallon": 23,
          "Name": "toyouta corona mark ii (sw)",
          "Origin": "Japan",
          "Weight_in_lbs": 2506,
          "Year": "1972-01-01T00:00:00"
         },
         {
          "Acceleration": 15,
          "Cylinders": 4,
          "Displacement": 98,
          "Horsepower": 80,
          "Miles_per_Gallon": 28,
          "Name": "dodge colt (sw)",
          "Origin": "USA",
          "Weight_in_lbs": 2164,
          "Year": "1972-01-01T00:00:00"
         },
         {
          "Acceleration": 16.5,
          "Cylinders": 4,
          "Displacement": 97,
          "Horsepower": 88,
          "Miles_per_Gallon": 27,
          "Name": "toyota corolla 1600 (sw)",
          "Origin": "Japan",
          "Weight_in_lbs": 2100,
          "Year": "1972-01-01T00:00:00"
         },
         {
          "Acceleration": 13,
          "Cylinders": 8,
          "Displacement": 350,
          "Horsepower": 175,
          "Miles_per_Gallon": 13,
          "Name": "buick century 350",
          "Origin": "USA",
          "Weight_in_lbs": 4100,
          "Year": "1973-01-01T00:00:00"
         },
         {
          "Acceleration": 11.5,
          "Cylinders": 8,
          "Displacement": 304,
          "Horsepower": 150,
          "Miles_per_Gallon": 14,
          "Name": "amc matador",
          "Origin": "USA",
          "Weight_in_lbs": 3672,
          "Year": "1973-01-01T00:00:00"
         },
         {
          "Acceleration": 13,
          "Cylinders": 8,
          "Displacement": 350,
          "Horsepower": 145,
          "Miles_per_Gallon": 13,
          "Name": "chevrolet malibu",
          "Origin": "USA",
          "Weight_in_lbs": 3988,
          "Year": "1973-01-01T00:00:00"
         },
         {
          "Acceleration": 14.5,
          "Cylinders": 8,
          "Displacement": 302,
          "Horsepower": 137,
          "Miles_per_Gallon": 14,
          "Name": "ford gran torino",
          "Origin": "USA",
          "Weight_in_lbs": 4042,
          "Year": "1973-01-01T00:00:00"
         },
         {
          "Acceleration": 12.5,
          "Cylinders": 8,
          "Displacement": 318,
          "Horsepower": 150,
          "Miles_per_Gallon": 15,
          "Name": "dodge coronet custom",
          "Origin": "USA",
          "Weight_in_lbs": 3777,
          "Year": "1973-01-01T00:00:00"
         },
         {
          "Acceleration": 11.5,
          "Cylinders": 8,
          "Displacement": 429,
          "Horsepower": 198,
          "Miles_per_Gallon": 12,
          "Name": "mercury marquis brougham",
          "Origin": "USA",
          "Weight_in_lbs": 4952,
          "Year": "1973-01-01T00:00:00"
         },
         {
          "Acceleration": 12,
          "Cylinders": 8,
          "Displacement": 400,
          "Horsepower": 150,
          "Miles_per_Gallon": 13,
          "Name": "chevrolet caprice classic",
          "Origin": "USA",
          "Weight_in_lbs": 4464,
          "Year": "1973-01-01T00:00:00"
         },
         {
          "Acceleration": 13,
          "Cylinders": 8,
          "Displacement": 351,
          "Horsepower": 158,
          "Miles_per_Gallon": 13,
          "Name": "ford ltd",
          "Origin": "USA",
          "Weight_in_lbs": 4363,
          "Year": "1973-01-01T00:00:00"
         },
         {
          "Acceleration": 14.5,
          "Cylinders": 8,
          "Displacement": 318,
          "Horsepower": 150,
          "Miles_per_Gallon": 14,
          "Name": "plymouth fury gran sedan",
          "Origin": "USA",
          "Weight_in_lbs": 4237,
          "Year": "1973-01-01T00:00:00"
         },
         {
          "Acceleration": 11,
          "Cylinders": 8,
          "Displacement": 440,
          "Horsepower": 215,
          "Miles_per_Gallon": 13,
          "Name": "chrysler new yorker brougham",
          "Origin": "USA",
          "Weight_in_lbs": 4735,
          "Year": "1973-01-01T00:00:00"
         },
         {
          "Acceleration": 11,
          "Cylinders": 8,
          "Displacement": 455,
          "Horsepower": 225,
          "Miles_per_Gallon": 12,
          "Name": "buick electra 225 custom",
          "Origin": "USA",
          "Weight_in_lbs": 4951,
          "Year": "1973-01-01T00:00:00"
         },
         {
          "Acceleration": 11,
          "Cylinders": 8,
          "Displacement": 360,
          "Horsepower": 175,
          "Miles_per_Gallon": 13,
          "Name": "amc ambassador brougham",
          "Origin": "USA",
          "Weight_in_lbs": 3821,
          "Year": "1973-01-01T00:00:00"
         },
         {
          "Acceleration": 16.5,
          "Cylinders": 6,
          "Displacement": 225,
          "Horsepower": 105,
          "Miles_per_Gallon": 18,
          "Name": "plymouth valiant",
          "Origin": "USA",
          "Weight_in_lbs": 3121,
          "Year": "1973-01-01T00:00:00"
         },
         {
          "Acceleration": 18,
          "Cylinders": 6,
          "Displacement": 250,
          "Horsepower": 100,
          "Miles_per_Gallon": 16,
          "Name": "chevrolet nova custom",
          "Origin": "USA",
          "Weight_in_lbs": 3278,
          "Year": "1973-01-01T00:00:00"
         },
         {
          "Acceleration": 16,
          "Cylinders": 6,
          "Displacement": 232,
          "Horsepower": 100,
          "Miles_per_Gallon": 18,
          "Name": "amc hornet",
          "Origin": "USA",
          "Weight_in_lbs": 2945,
          "Year": "1973-01-01T00:00:00"
         },
         {
          "Acceleration": 16.5,
          "Cylinders": 6,
          "Displacement": 250,
          "Horsepower": 88,
          "Miles_per_Gallon": 18,
          "Name": "ford maverick",
          "Origin": "USA",
          "Weight_in_lbs": 3021,
          "Year": "1973-01-01T00:00:00"
         },
         {
          "Acceleration": 16,
          "Cylinders": 6,
          "Displacement": 198,
          "Horsepower": 95,
          "Miles_per_Gallon": 23,
          "Name": "plymouth duster",
          "Origin": "USA",
          "Weight_in_lbs": 2904,
          "Year": "1973-01-01T00:00:00"
         },
         {
          "Acceleration": 21,
          "Cylinders": 4,
          "Displacement": 97,
          "Horsepower": 46,
          "Miles_per_Gallon": 26,
          "Name": "volkswagen super beetle",
          "Origin": "Europe",
          "Weight_in_lbs": 1950,
          "Year": "1973-01-01T00:00:00"
         },
         {
          "Acceleration": 14,
          "Cylinders": 8,
          "Displacement": 400,
          "Horsepower": 150,
          "Miles_per_Gallon": 11,
          "Name": "chevrolet impala",
          "Origin": "USA",
          "Weight_in_lbs": 4997,
          "Year": "1973-01-01T00:00:00"
         },
         {
          "Acceleration": 12.5,
          "Cylinders": 8,
          "Displacement": 400,
          "Horsepower": 167,
          "Miles_per_Gallon": 12,
          "Name": "ford country",
          "Origin": "USA",
          "Weight_in_lbs": 4906,
          "Year": "1973-01-01T00:00:00"
         },
         {
          "Acceleration": 13,
          "Cylinders": 8,
          "Displacement": 360,
          "Horsepower": 170,
          "Miles_per_Gallon": 13,
          "Name": "plymouth custom suburb",
          "Origin": "USA",
          "Weight_in_lbs": 4654,
          "Year": "1973-01-01T00:00:00"
         },
         {
          "Acceleration": 12.5,
          "Cylinders": 8,
          "Displacement": 350,
          "Horsepower": 180,
          "Miles_per_Gallon": 12,
          "Name": "oldsmobile vista cruiser",
          "Origin": "USA",
          "Weight_in_lbs": 4499,
          "Year": "1973-01-01T00:00:00"
         },
         {
          "Acceleration": 15,
          "Cylinders": 6,
          "Displacement": 232,
          "Horsepower": 100,
          "Miles_per_Gallon": 18,
          "Name": "amc gremlin",
          "Origin": "USA",
          "Weight_in_lbs": 2789,
          "Year": "1973-01-01T00:00:00"
         },
         {
          "Acceleration": 19,
          "Cylinders": 4,
          "Displacement": 97,
          "Horsepower": 88,
          "Miles_per_Gallon": 20,
          "Name": "toyota carina",
          "Origin": "Japan",
          "Weight_in_lbs": 2279,
          "Year": "1973-01-01T00:00:00"
         },
         {
          "Acceleration": 19.5,
          "Cylinders": 4,
          "Displacement": 140,
          "Horsepower": 72,
          "Miles_per_Gallon": 21,
          "Name": "chevrolet vega",
          "Origin": "USA",
          "Weight_in_lbs": 2401,
          "Year": "1973-01-01T00:00:00"
         },
         {
          "Acceleration": 16.5,
          "Cylinders": 4,
          "Displacement": 108,
          "Horsepower": 94,
          "Miles_per_Gallon": 22,
          "Name": "datsun 610",
          "Origin": "Japan",
          "Weight_in_lbs": 2379,
          "Year": "1973-01-01T00:00:00"
         },
         {
          "Acceleration": 13.5,
          "Cylinders": 3,
          "Displacement": 70,
          "Horsepower": 90,
          "Miles_per_Gallon": 18,
          "Name": "maxda rx3",
          "Origin": "Japan",
          "Weight_in_lbs": 2124,
          "Year": "1973-01-01T00:00:00"
         },
         {
          "Acceleration": 18.5,
          "Cylinders": 4,
          "Displacement": 122,
          "Horsepower": 85,
          "Miles_per_Gallon": 19,
          "Name": "ford pinto",
          "Origin": "USA",
          "Weight_in_lbs": 2310,
          "Year": "1973-01-01T00:00:00"
         },
         {
          "Acceleration": 14,
          "Cylinders": 6,
          "Displacement": 155,
          "Horsepower": 107,
          "Miles_per_Gallon": 21,
          "Name": "mercury capri v6",
          "Origin": "USA",
          "Weight_in_lbs": 2472,
          "Year": "1973-01-01T00:00:00"
         },
         {
          "Acceleration": 15.5,
          "Cylinders": 4,
          "Displacement": 98,
          "Horsepower": 90,
          "Miles_per_Gallon": 26,
          "Name": "fiat 124 sport coupe",
          "Origin": "Europe",
          "Weight_in_lbs": 2265,
          "Year": "1973-01-01T00:00:00"
         },
         {
          "Acceleration": 13,
          "Cylinders": 8,
          "Displacement": 350,
          "Horsepower": 145,
          "Miles_per_Gallon": 15,
          "Name": "chevrolet monte carlo s",
          "Origin": "USA",
          "Weight_in_lbs": 4082,
          "Year": "1973-01-01T00:00:00"
         },
         {
          "Acceleration": 9.5,
          "Cylinders": 8,
          "Displacement": 400,
          "Horsepower": 230,
          "Miles_per_Gallon": 16,
          "Name": "pontiac grand prix",
          "Origin": "USA",
          "Weight_in_lbs": 4278,
          "Year": "1973-01-01T00:00:00"
         },
         {
          "Acceleration": 19.5,
          "Cylinders": 4,
          "Displacement": 68,
          "Horsepower": 49,
          "Miles_per_Gallon": 29,
          "Name": "fiat 128",
          "Origin": "Europe",
          "Weight_in_lbs": 1867,
          "Year": "1973-01-01T00:00:00"
         },
         {
          "Acceleration": 15.5,
          "Cylinders": 4,
          "Displacement": 116,
          "Horsepower": 75,
          "Miles_per_Gallon": 24,
          "Name": "opel manta",
          "Origin": "Europe",
          "Weight_in_lbs": 2158,
          "Year": "1973-01-01T00:00:00"
         },
         {
          "Acceleration": 14,
          "Cylinders": 4,
          "Displacement": 114,
          "Horsepower": 91,
          "Miles_per_Gallon": 20,
          "Name": "audi 100ls",
          "Origin": "Europe",
          "Weight_in_lbs": 2582,
          "Year": "1973-01-01T00:00:00"
         },
         {
          "Acceleration": 15.5,
          "Cylinders": 4,
          "Displacement": 121,
          "Horsepower": 112,
          "Miles_per_Gallon": 19,
          "Name": "volvo 144ea",
          "Origin": "Europe",
          "Weight_in_lbs": 2868,
          "Year": "1973-01-01T00:00:00"
         },
         {
          "Acceleration": 11,
          "Cylinders": 8,
          "Displacement": 318,
          "Horsepower": 150,
          "Miles_per_Gallon": 15,
          "Name": "dodge dart custom",
          "Origin": "USA",
          "Weight_in_lbs": 3399,
          "Year": "1973-01-01T00:00:00"
         },
         {
          "Acceleration": 14,
          "Cylinders": 4,
          "Displacement": 121,
          "Horsepower": 110,
          "Miles_per_Gallon": 24,
          "Name": "saab 99le",
          "Origin": "Europe",
          "Weight_in_lbs": 2660,
          "Year": "1973-01-01T00:00:00"
         },
         {
          "Acceleration": 13.5,
          "Cylinders": 6,
          "Displacement": 156,
          "Horsepower": 122,
          "Miles_per_Gallon": 20,
          "Name": "toyota mark ii",
          "Origin": "Japan",
          "Weight_in_lbs": 2807,
          "Year": "1973-01-01T00:00:00"
         },
         {
          "Acceleration": 11,
          "Cylinders": 8,
          "Displacement": 350,
          "Horsepower": 180,
          "Miles_per_Gallon": 11,
          "Name": "oldsmobile omega",
          "Origin": "USA",
          "Weight_in_lbs": 3664,
          "Year": "1973-01-01T00:00:00"
         },
         {
          "Acceleration": 16.5,
          "Cylinders": 6,
          "Displacement": 198,
          "Horsepower": 95,
          "Miles_per_Gallon": 20,
          "Name": "plymouth duster",
          "Origin": "USA",
          "Weight_in_lbs": 3102,
          "Year": "1974-01-01T00:00:00"
         },
         {
          "Acceleration": 17,
          "Cylinders": 6,
          "Displacement": 200,
          "Horsepower": null,
          "Miles_per_Gallon": 21,
          "Name": "ford maverick",
          "Origin": "USA",
          "Weight_in_lbs": 2875,
          "Year": "1974-01-01T00:00:00"
         },
         {
          "Acceleration": 16,
          "Cylinders": 6,
          "Displacement": 232,
          "Horsepower": 100,
          "Miles_per_Gallon": 19,
          "Name": "amc hornet",
          "Origin": "USA",
          "Weight_in_lbs": 2901,
          "Year": "1974-01-01T00:00:00"
         },
         {
          "Acceleration": 17,
          "Cylinders": 6,
          "Displacement": 250,
          "Horsepower": 100,
          "Miles_per_Gallon": 15,
          "Name": "chevrolet nova",
          "Origin": "USA",
          "Weight_in_lbs": 3336,
          "Year": "1974-01-01T00:00:00"
         },
         {
          "Acceleration": 19,
          "Cylinders": 4,
          "Displacement": 79,
          "Horsepower": 67,
          "Miles_per_Gallon": 31,
          "Name": "datsun b210",
          "Origin": "Japan",
          "Weight_in_lbs": 1950,
          "Year": "1974-01-01T00:00:00"
         },
         {
          "Acceleration": 16.5,
          "Cylinders": 4,
          "Displacement": 122,
          "Horsepower": 80,
          "Miles_per_Gallon": 26,
          "Name": "ford pinto",
          "Origin": "USA",
          "Weight_in_lbs": 2451,
          "Year": "1974-01-01T00:00:00"
         },
         {
          "Acceleration": 21,
          "Cylinders": 4,
          "Displacement": 71,
          "Horsepower": 65,
          "Miles_per_Gallon": 32,
          "Name": "toyota corolla 1200",
          "Origin": "Japan",
          "Weight_in_lbs": 1836,
          "Year": "1974-01-01T00:00:00"
         },
         {
          "Acceleration": 17,
          "Cylinders": 4,
          "Displacement": 140,
          "Horsepower": 75,
          "Miles_per_Gallon": 25,
          "Name": "chevrolet vega",
          "Origin": "USA",
          "Weight_in_lbs": 2542,
          "Year": "1974-01-01T00:00:00"
         },
         {
          "Acceleration": 17,
          "Cylinders": 6,
          "Displacement": 250,
          "Horsepower": 100,
          "Miles_per_Gallon": 16,
          "Name": "chevrolet chevelle malibu classic",
          "Origin": "USA",
          "Weight_in_lbs": 3781,
          "Year": "1974-01-01T00:00:00"
         },
         {
          "Acceleration": 18,
          "Cylinders": 6,
          "Displacement": 258,
          "Horsepower": 110,
          "Miles_per_Gallon": 16,
          "Name": "amc matador",
          "Origin": "USA",
          "Weight_in_lbs": 3632,
          "Year": "1974-01-01T00:00:00"
         },
         {
          "Acceleration": 16.5,
          "Cylinders": 6,
          "Displacement": 225,
          "Horsepower": 105,
          "Miles_per_Gallon": 18,
          "Name": "plymouth satellite sebring",
          "Origin": "USA",
          "Weight_in_lbs": 3613,
          "Year": "1974-01-01T00:00:00"
         },
         {
          "Acceleration": 14,
          "Cylinders": 8,
          "Displacement": 302,
          "Horsepower": 140,
          "Miles_per_Gallon": 16,
          "Name": "ford gran torino",
          "Origin": "USA",
          "Weight_in_lbs": 4141,
          "Year": "1974-01-01T00:00:00"
         },
         {
          "Acceleration": 14.5,
          "Cylinders": 8,
          "Displacement": 350,
          "Horsepower": 150,
          "Miles_per_Gallon": 13,
          "Name": "buick century luxus (sw)",
          "Origin": "USA",
          "Weight_in_lbs": 4699,
          "Year": "1974-01-01T00:00:00"
         },
         {
          "Acceleration": 13.5,
          "Cylinders": 8,
          "Displacement": 318,
          "Horsepower": 150,
          "Miles_per_Gallon": 14,
          "Name": "dodge coronet custom (sw)",
          "Origin": "USA",
          "Weight_in_lbs": 4457,
          "Year": "1974-01-01T00:00:00"
         },
         {
          "Acceleration": 16,
          "Cylinders": 8,
          "Displacement": 302,
          "Horsepower": 140,
          "Miles_per_Gallon": 14,
          "Name": "ford gran torino (sw)",
          "Origin": "USA",
          "Weight_in_lbs": 4638,
          "Year": "1974-01-01T00:00:00"
         },
         {
          "Acceleration": 15.5,
          "Cylinders": 8,
          "Displacement": 304,
          "Horsepower": 150,
          "Miles_per_Gallon": 14,
          "Name": "amc matador (sw)",
          "Origin": "USA",
          "Weight_in_lbs": 4257,
          "Year": "1974-01-01T00:00:00"
         },
         {
          "Acceleration": 16.5,
          "Cylinders": 4,
          "Displacement": 98,
          "Horsepower": 83,
          "Miles_per_Gallon": 29,
          "Name": "audi fox",
          "Origin": "Europe",
          "Weight_in_lbs": 2219,
          "Year": "1974-01-01T00:00:00"
         },
         {
          "Acceleration": 15.5,
          "Cylinders": 4,
          "Displacement": 79,
          "Horsepower": 67,
          "Miles_per_Gallon": 26,
          "Name": "volkswagen dasher",
          "Origin": "Europe",
          "Weight_in_lbs": 1963,
          "Year": "1974-01-01T00:00:00"
         },
         {
          "Acceleration": 14.5,
          "Cylinders": 4,
          "Displacement": 97,
          "Horsepower": 78,
          "Miles_per_Gallon": 26,
          "Name": "opel manta",
          "Origin": "Europe",
          "Weight_in_lbs": 2300,
          "Year": "1974-01-01T00:00:00"
         },
         {
          "Acceleration": 16.5,
          "Cylinders": 4,
          "Displacement": 76,
          "Horsepower": 52,
          "Miles_per_Gallon": 31,
          "Name": "toyota corona",
          "Origin": "Japan",
          "Weight_in_lbs": 1649,
          "Year": "1974-01-01T00:00:00"
         },
         {
          "Acceleration": 19,
          "Cylinders": 4,
          "Displacement": 83,
          "Horsepower": 61,
          "Miles_per_Gallon": 32,
          "Name": "datsun 710",
          "Origin": "Japan",
          "Weight_in_lbs": 2003,
          "Year": "1974-01-01T00:00:00"
         },
         {
          "Acceleration": 14.5,
          "Cylinders": 4,
          "Displacement": 90,
          "Horsepower": 75,
          "Miles_per_Gallon": 28,
          "Name": "dodge colt",
          "Origin": "USA",
          "Weight_in_lbs": 2125,
          "Year": "1974-01-01T00:00:00"
         },
         {
          "Acceleration": 15.5,
          "Cylinders": 4,
          "Displacement": 90,
          "Horsepower": 75,
          "Miles_per_Gallon": 24,
          "Name": "fiat 128",
          "Origin": "Europe",
          "Weight_in_lbs": 2108,
          "Year": "1974-01-01T00:00:00"
         },
         {
          "Acceleration": 14,
          "Cylinders": 4,
          "Displacement": 116,
          "Horsepower": 75,
          "Miles_per_Gallon": 26,
          "Name": "fiat 124 tc",
          "Origin": "Europe",
          "Weight_in_lbs": 2246,
          "Year": "1974-01-01T00:00:00"
         },
         {
          "Acceleration": 15,
          "Cylinders": 4,
          "Displacement": 120,
          "Horsepower": 97,
          "Miles_per_Gallon": 24,
          "Name": "honda civic",
          "Origin": "Japan",
          "Weight_in_lbs": 2489,
          "Year": "1974-01-01T00:00:00"
         },
         {
          "Acceleration": 15.5,
          "Cylinders": 4,
          "Displacement": 108,
          "Horsepower": 93,
          "Miles_per_Gallon": 26,
          "Name": "subaru",
          "Origin": "Japan",
          "Weight_in_lbs": 2391,
          "Year": "1974-01-01T00:00:00"
         },
         {
          "Acceleration": 16,
          "Cylinders": 4,
          "Displacement": 79,
          "Horsepower": 67,
          "Miles_per_Gallon": 31,
          "Name": "fiat x1.9",
          "Origin": "Europe",
          "Weight_in_lbs": 2000,
          "Year": "1974-01-01T00:00:00"
         },
         {
          "Acceleration": 16,
          "Cylinders": 6,
          "Displacement": 225,
          "Horsepower": 95,
          "Miles_per_Gallon": 19,
          "Name": "plymouth valiant custom",
          "Origin": "USA",
          "Weight_in_lbs": 3264,
          "Year": "1975-01-01T00:00:00"
         },
         {
          "Acceleration": 16,
          "Cylinders": 6,
          "Displacement": 250,
          "Horsepower": 105,
          "Miles_per_Gallon": 18,
          "Name": "chevrolet nova",
          "Origin": "USA",
          "Weight_in_lbs": 3459,
          "Year": "1975-01-01T00:00:00"
         },
         {
          "Acceleration": 21,
          "Cylinders": 6,
          "Displacement": 250,
          "Horsepower": 72,
          "Miles_per_Gallon": 15,
          "Name": "mercury monarch",
          "Origin": "USA",
          "Weight_in_lbs": 3432,
          "Year": "1975-01-01T00:00:00"
         },
         {
          "Acceleration": 19.5,
          "Cylinders": 6,
          "Displacement": 250,
          "Horsepower": 72,
          "Miles_per_Gallon": 15,
          "Name": "ford maverick",
          "Origin": "USA",
          "Weight_in_lbs": 3158,
          "Year": "1975-01-01T00:00:00"
         },
         {
          "Acceleration": 11.5,
          "Cylinders": 8,
          "Displacement": 400,
          "Horsepower": 170,
          "Miles_per_Gallon": 16,
          "Name": "pontiac catalina",
          "Origin": "USA",
          "Weight_in_lbs": 4668,
          "Year": "1975-01-01T00:00:00"
         },
         {
          "Acceleration": 14,
          "Cylinders": 8,
          "Displacement": 350,
          "Horsepower": 145,
          "Miles_per_Gallon": 15,
          "Name": "chevrolet bel air",
          "Origin": "USA",
          "Weight_in_lbs": 4440,
          "Year": "1975-01-01T00:00:00"
         },
         {
          "Acceleration": 14.5,
          "Cylinders": 8,
          "Displacement": 318,
          "Horsepower": 150,
          "Miles_per_Gallon": 16,
          "Name": "plymouth grand fury",
          "Origin": "USA",
          "Weight_in_lbs": 4498,
          "Year": "1975-01-01T00:00:00"
         },
         {
          "Acceleration": 13.5,
          "Cylinders": 8,
          "Displacement": 351,
          "Horsepower": 148,
          "Miles_per_Gallon": 14,
          "Name": "ford ltd",
          "Origin": "USA",
          "Weight_in_lbs": 4657,
          "Year": "1975-01-01T00:00:00"
         },
         {
          "Acceleration": 21,
          "Cylinders": 6,
          "Displacement": 231,
          "Horsepower": 110,
          "Miles_per_Gallon": 17,
          "Name": "buick century",
          "Origin": "USA",
          "Weight_in_lbs": 3907,
          "Year": "1975-01-01T00:00:00"
         },
         {
          "Acceleration": 18.5,
          "Cylinders": 6,
          "Displacement": 250,
          "Horsepower": 105,
          "Miles_per_Gallon": 16,
          "Name": "chevroelt chevelle malibu",
          "Origin": "USA",
          "Weight_in_lbs": 3897,
          "Year": "1975-01-01T00:00:00"
         },
         {
          "Acceleration": 19,
          "Cylinders": 6,
          "Displacement": 258,
          "Horsepower": 110,
          "Miles_per_Gallon": 15,
          "Name": "amc matador",
          "Origin": "USA",
          "Weight_in_lbs": 3730,
          "Year": "1975-01-01T00:00:00"
         },
         {
          "Acceleration": 19,
          "Cylinders": 6,
          "Displacement": 225,
          "Horsepower": 95,
          "Miles_per_Gallon": 18,
          "Name": "plymouth fury",
          "Origin": "USA",
          "Weight_in_lbs": 3785,
          "Year": "1975-01-01T00:00:00"
         },
         {
          "Acceleration": 15,
          "Cylinders": 6,
          "Displacement": 231,
          "Horsepower": 110,
          "Miles_per_Gallon": 21,
          "Name": "buick skyhawk",
          "Origin": "USA",
          "Weight_in_lbs": 3039,
          "Year": "1975-01-01T00:00:00"
         },
         {
          "Acceleration": 13.5,
          "Cylinders": 8,
          "Displacement": 262,
          "Horsepower": 110,
          "Miles_per_Gallon": 20,
          "Name": "chevrolet monza 2+2",
          "Origin": "USA",
          "Weight_in_lbs": 3221,
          "Year": "1975-01-01T00:00:00"
         },
         {
          "Acceleration": 12,
          "Cylinders": 8,
          "Displacement": 302,
          "Horsepower": 129,
          "Miles_per_Gallon": 13,
          "Name": "ford mustang ii",
          "Origin": "USA",
          "Weight_in_lbs": 3169,
          "Year": "1975-01-01T00:00:00"
         },
         {
          "Acceleration": 16,
          "Cylinders": 4,
          "Displacement": 97,
          "Horsepower": 75,
          "Miles_per_Gallon": 29,
          "Name": "toyota corolla",
          "Origin": "Japan",
          "Weight_in_lbs": 2171,
          "Year": "1975-01-01T00:00:00"
         },
         {
          "Acceleration": 17,
          "Cylinders": 4,
          "Displacement": 140,
          "Horsepower": 83,
          "Miles_per_Gallon": 23,
          "Name": "ford pinto",
          "Origin": "USA",
          "Weight_in_lbs": 2639,
          "Year": "1975-01-01T00:00:00"
         },
         {
          "Acceleration": 16,
          "Cylinders": 6,
          "Displacement": 232,
          "Horsepower": 100,
          "Miles_per_Gallon": 20,
          "Name": "amc gremlin",
          "Origin": "USA",
          "Weight_in_lbs": 2914,
          "Year": "1975-01-01T00:00:00"
         },
         {
          "Acceleration": 18.5,
          "Cylinders": 4,
          "Displacement": 140,
          "Horsepower": 78,
          "Miles_per_Gallon": 23,
          "Name": "pontiac astro",
          "Origin": "USA",
          "Weight_in_lbs": 2592,
          "Year": "1975-01-01T00:00:00"
         },
         {
          "Acceleration": 13.5,
          "Cylinders": 4,
          "Displacement": 134,
          "Horsepower": 96,
          "Miles_per_Gallon": 24,
          "Name": "toyota corona",
          "Origin": "Japan",
          "Weight_in_lbs": 2702,
          "Year": "1975-01-01T00:00:00"
         },
         {
          "Acceleration": 16.5,
          "Cylinders": 4,
          "Displacement": 90,
          "Horsepower": 71,
          "Miles_per_Gallon": 25,
          "Name": "volkswagen dasher",
          "Origin": "Europe",
          "Weight_in_lbs": 2223,
          "Year": "1975-01-01T00:00:00"
         },
         {
          "Acceleration": 17,
          "Cylinders": 4,
          "Displacement": 119,
          "Horsepower": 97,
          "Miles_per_Gallon": 24,
          "Name": "datsun 710",
          "Origin": "Japan",
          "Weight_in_lbs": 2545,
          "Year": "1975-01-01T00:00:00"
         },
         {
          "Acceleration": 14.5,
          "Cylinders": 6,
          "Displacement": 171,
          "Horsepower": 97,
          "Miles_per_Gallon": 18,
          "Name": "ford pinto",
          "Origin": "USA",
          "Weight_in_lbs": 2984,
          "Year": "1975-01-01T00:00:00"
         },
         {
          "Acceleration": 14,
          "Cylinders": 4,
          "Displacement": 90,
          "Horsepower": 70,
          "Miles_per_Gallon": 29,
          "Name": "volkswagen rabbit",
          "Origin": "Europe",
          "Weight_in_lbs": 1937,
          "Year": "1975-01-01T00:00:00"
         },
         {
          "Acceleration": 17,
          "Cylinders": 6,
          "Displacement": 232,
          "Horsepower": 90,
          "Miles_per_Gallon": 19,
          "Name": "amc pacer",
          "Origin": "USA",
          "Weight_in_lbs": 3211,
          "Year": "1975-01-01T00:00:00"
         },
         {
          "Acceleration": 15,
          "Cylinders": 4,
          "Displacement": 115,
          "Horsepower": 95,
          "Miles_per_Gallon": 23,
          "Name": "audi 100ls",
          "Origin": "Europe",
          "Weight_in_lbs": 2694,
          "Year": "1975-01-01T00:00:00"
         },
         {
          "Acceleration": 17,
          "Cylinders": 4,
          "Displacement": 120,
          "Horsepower": 88,
          "Miles_per_Gallon": 23,
          "Name": "peugeot 504",
          "Origin": "Europe",
          "Weight_in_lbs": 2957,
          "Year": "1975-01-01T00:00:00"
         },
         {
          "Acceleration": 14.5,
          "Cylinders": 4,
          "Displacement": 121,
          "Horsepower": 98,
          "Miles_per_Gallon": 22,
          "Name": "volvo 244dl",
          "Origin": "Europe",
          "Weight_in_lbs": 2945,
          "Year": "1975-01-01T00:00:00"
         },
         {
          "Acceleration": 13.5,
          "Cylinders": 4,
          "Displacement": 121,
          "Horsepower": 115,
          "Miles_per_Gallon": 25,
          "Name": "saab 99le",
          "Origin": "Europe",
          "Weight_in_lbs": 2671,
          "Year": "1975-01-01T00:00:00"
         },
         {
          "Acceleration": 17.5,
          "Cylinders": 4,
          "Displacement": 91,
          "Horsepower": 53,
          "Miles_per_Gallon": 33,
          "Name": "honda civic cvcc",
          "Origin": "Japan",
          "Weight_in_lbs": 1795,
          "Year": "1975-01-01T00:00:00"
         },
         {
          "Acceleration": 15.5,
          "Cylinders": 4,
          "Displacement": 107,
          "Horsepower": 86,
          "Miles_per_Gallon": 28,
          "Name": "fiat 131",
          "Origin": "Europe",
          "Weight_in_lbs": 2464,
          "Year": "1976-01-01T00:00:00"
         },
         {
          "Acceleration": 16.9,
          "Cylinders": 4,
          "Displacement": 116,
          "Horsepower": 81,
          "Miles_per_Gallon": 25,
          "Name": "opel 1900",
          "Origin": "Europe",
          "Weight_in_lbs": 2220,
          "Year": "1976-01-01T00:00:00"
         },
         {
          "Acceleration": 14.9,
          "Cylinders": 4,
          "Displacement": 140,
          "Horsepower": 92,
          "Miles_per_Gallon": 25,
          "Name": "capri ii",
          "Origin": "USA",
          "Weight_in_lbs": 2572,
          "Year": "1976-01-01T00:00:00"
         },
         {
          "Acceleration": 17.7,
          "Cylinders": 4,
          "Displacement": 98,
          "Horsepower": 79,
          "Miles_per_Gallon": 26,
          "Name": "dodge colt",
          "Origin": "USA",
          "Weight_in_lbs": 2255,
          "Year": "1976-01-01T00:00:00"
         },
         {
          "Acceleration": 15.3,
          "Cylinders": 4,
          "Displacement": 101,
          "Horsepower": 83,
          "Miles_per_Gallon": 27,
          "Name": "renault 12tl",
          "Origin": "Europe",
          "Weight_in_lbs": 2202,
          "Year": "1976-01-01T00:00:00"
         },
         {
          "Acceleration": 13,
          "Cylinders": 8,
          "Displacement": 305,
          "Horsepower": 140,
          "Miles_per_Gallon": 17.5,
          "Name": "chevrolet chevelle malibu classic",
          "Origin": "USA",
          "Weight_in_lbs": 4215,
          "Year": "1976-01-01T00:00:00"
         },
         {
          "Acceleration": 13,
          "Cylinders": 8,
          "Displacement": 318,
          "Horsepower": 150,
          "Miles_per_Gallon": 16,
          "Name": "dodge coronet brougham",
          "Origin": "USA",
          "Weight_in_lbs": 4190,
          "Year": "1976-01-01T00:00:00"
         },
         {
          "Acceleration": 13.9,
          "Cylinders": 8,
          "Displacement": 304,
          "Horsepower": 120,
          "Miles_per_Gallon": 15.5,
          "Name": "amc matador",
          "Origin": "USA",
          "Weight_in_lbs": 3962,
          "Year": "1976-01-01T00:00:00"
         },
         {
          "Acceleration": 12.8,
          "Cylinders": 8,
          "Displacement": 351,
          "Horsepower": 152,
          "Miles_per_Gallon": 14.5,
          "Name": "ford gran torino",
          "Origin": "USA",
          "Weight_in_lbs": 4215,
          "Year": "1976-01-01T00:00:00"
         },
         {
          "Acceleration": 15.4,
          "Cylinders": 6,
          "Displacement": 225,
          "Horsepower": 100,
          "Miles_per_Gallon": 22,
          "Name": "plymouth valiant",
          "Origin": "USA",
          "Weight_in_lbs": 3233,
          "Year": "1976-01-01T00:00:00"
         },
         {
          "Acceleration": 14.5,
          "Cylinders": 6,
          "Displacement": 250,
          "Horsepower": 105,
          "Miles_per_Gallon": 22,
          "Name": "chevrolet nova",
          "Origin": "USA",
          "Weight_in_lbs": 3353,
          "Year": "1976-01-01T00:00:00"
         },
         {
          "Acceleration": 17.6,
          "Cylinders": 6,
          "Displacement": 200,
          "Horsepower": 81,
          "Miles_per_Gallon": 24,
          "Name": "ford maverick",
          "Origin": "USA",
          "Weight_in_lbs": 3012,
          "Year": "1976-01-01T00:00:00"
         },
         {
          "Acceleration": 17.6,
          "Cylinders": 6,
          "Displacement": 232,
          "Horsepower": 90,
          "Miles_per_Gallon": 22.5,
          "Name": "amc hornet",
          "Origin": "USA",
          "Weight_in_lbs": 3085,
          "Year": "1976-01-01T00:00:00"
         },
         {
          "Acceleration": 22.2,
          "Cylinders": 4,
          "Displacement": 85,
          "Horsepower": 52,
          "Miles_per_Gallon": 29,
          "Name": "chevrolet chevette",
          "Origin": "USA",
          "Weight_in_lbs": 2035,
          "Year": "1976-01-01T00:00:00"
         },
         {
          "Acceleration": 22.1,
          "Cylinders": 4,
          "Displacement": 98,
          "Horsepower": 60,
          "Miles_per_Gallon": 24.5,
          "Name": "chevrolet woody",
          "Origin": "USA",
          "Weight_in_lbs": 2164,
          "Year": "1976-01-01T00:00:00"
         },
         {
          "Acceleration": 14.2,
          "Cylinders": 4,
          "Displacement": 90,
          "Horsepower": 70,
          "Miles_per_Gallon": 29,
          "Name": "vw rabbit",
          "Origin": "Europe",
          "Weight_in_lbs": 1937,
          "Year": "1976-01-01T00:00:00"
         },
         {
          "Acceleration": 17.4,
          "Cylinders": 4,
          "Displacement": 91,
          "Horsepower": 53,
          "Miles_per_Gallon": 33,
          "Name": "honda civic",
          "Origin": "Japan",
          "Weight_in_lbs": 1795,
          "Year": "1976-01-01T00:00:00"
         },
         {
          "Acceleration": 17.7,
          "Cylinders": 6,
          "Displacement": 225,
          "Horsepower": 100,
          "Miles_per_Gallon": 20,
          "Name": "dodge aspen se",
          "Origin": "USA",
          "Weight_in_lbs": 3651,
          "Year": "1976-01-01T00:00:00"
         },
         {
          "Acceleration": 21,
          "Cylinders": 6,
          "Displacement": 250,
          "Horsepower": 78,
          "Miles_per_Gallon": 18,
          "Name": "ford granada ghia",
          "Origin": "USA",
          "Weight_in_lbs": 3574,
          "Year": "1976-01-01T00:00:00"
         },
         {
          "Acceleration": 16.2,
          "Cylinders": 6,
          "Displacement": 250,
          "Horsepower": 110,
          "Miles_per_Gallon": 18.5,
          "Name": "pontiac ventura sj",
          "Origin": "USA",
          "Weight_in_lbs": 3645,
          "Year": "1976-01-01T00:00:00"
         },
         {
          "Acceleration": 17.8,
          "Cylinders": 6,
          "Displacement": 258,
          "Horsepower": 95,
          "Miles_per_Gallon": 17.5,
          "Name": "amc pacer d/l",
          "Origin": "USA",
          "Weight_in_lbs": 3193,
          "Year": "1976-01-01T00:00:00"
         },
         {
          "Acceleration": 12.2,
          "Cylinders": 4,
          "Displacement": 97,
          "Horsepower": 71,
          "Miles_per_Gallon": 29.5,
          "Name": "volkswagen rabbit",
          "Origin": "Europe",
          "Weight_in_lbs": 1825,
          "Year": "1976-01-01T00:00:00"
         },
         {
          "Acceleration": 17,
          "Cylinders": 4,
          "Displacement": 85,
          "Horsepower": 70,
          "Miles_per_Gallon": 32,
          "Name": "datsun b-210",
          "Origin": "Japan",
          "Weight_in_lbs": 1990,
          "Year": "1976-01-01T00:00:00"
         },
         {
          "Acceleration": 16.4,
          "Cylinders": 4,
          "Displacement": 97,
          "Horsepower": 75,
          "Miles_per_Gallon": 28,
          "Name": "toyota corolla",
          "Origin": "Japan",
          "Weight_in_lbs": 2155,
          "Year": "1976-01-01T00:00:00"
         },
         {
          "Acceleration": 13.6,
          "Cylinders": 4,
          "Displacement": 140,
          "Horsepower": 72,
          "Miles_per_Gallon": 26.5,
          "Name": "ford pinto",
          "Origin": "USA",
          "Weight_in_lbs": 2565,
          "Year": "1976-01-01T00:00:00"
         },
         {
          "Acceleration": 15.7,
          "Cylinders": 4,
          "Displacement": 130,
          "Horsepower": 102,
          "Miles_per_Gallon": 20,
          "Name": "volvo 245",
          "Origin": "Europe",
          "Weight_in_lbs": 3150,
          "Year": "1976-01-01T00:00:00"
         },
         {
          "Acceleration": 13.2,
          "Cylinders": 8,
          "Displacement": 318,
          "Horsepower": 150,
          "Miles_per_Gallon": 13,
          "Name": "plymouth volare premier v8",
          "Origin": "USA",
          "Weight_in_lbs": 3940,
          "Year": "1976-01-01T00:00:00"
         },
         {
          "Acceleration": 21.9,
          "Cylinders": 4,
          "Displacement": 120,
          "Horsepower": 88,
          "Miles_per_Gallon": 19,
          "Name": "peugeot 504",
          "Origin": "Europe",
          "Weight_in_lbs": 3270,
          "Year": "1976-01-01T00:00:00"
         },
         {
          "Acceleration": 15.5,
          "Cylinders": 6,
          "Displacement": 156,
          "Horsepower": 108,
          "Miles_per_Gallon": 19,
          "Name": "toyota mark ii",
          "Origin": "Japan",
          "Weight_in_lbs": 2930,
          "Year": "1976-01-01T00:00:00"
         },
         {
          "Acceleration": 16.7,
          "Cylinders": 6,
          "Displacement": 168,
          "Horsepower": 120,
          "Miles_per_Gallon": 16.5,
          "Name": "mercedes-benz 280s",
          "Origin": "Europe",
          "Weight_in_lbs": 3820,
          "Year": "1976-01-01T00:00:00"
         },
         {
          "Acceleration": 12.1,
          "Cylinders": 8,
          "Displacement": 350,
          "Horsepower": 180,
          "Miles_per_Gallon": 16.5,
          "Name": "cadillac seville",
          "Origin": "USA",
          "Weight_in_lbs": 4380,
          "Year": "1976-01-01T00:00:00"
         },
         {
          "Acceleration": 12,
          "Cylinders": 8,
          "Displacement": 350,
          "Horsepower": 145,
          "Miles_per_Gallon": 13,
          "Name": "chevy c10",
          "Origin": "USA",
          "Weight_in_lbs": 4055,
          "Year": "1976-01-01T00:00:00"
         },
         {
          "Acceleration": 15,
          "Cylinders": 8,
          "Displacement": 302,
          "Horsepower": 130,
          "Miles_per_Gallon": 13,
          "Name": "ford f108",
          "Origin": "USA",
          "Weight_in_lbs": 3870,
          "Year": "1976-01-01T00:00:00"
         },
         {
          "Acceleration": 14,
          "Cylinders": 8,
          "Displacement": 318,
          "Horsepower": 150,
          "Miles_per_Gallon": 13,
          "Name": "dodge d100",
          "Origin": "USA",
          "Weight_in_lbs": 3755,
          "Year": "1976-01-01T00:00:00"
         },
         {
          "Acceleration": 18.5,
          "Cylinders": 4,
          "Displacement": 98,
          "Horsepower": 68,
          "Miles_per_Gallon": 31.5,
          "Name": "honda Accelerationord cvcc",
          "Origin": "Japan",
          "Weight_in_lbs": 2045,
          "Year": "1977-01-01T00:00:00"
         },
         {
          "Acceleration": 14.8,
          "Cylinders": 4,
          "Displacement": 111,
          "Horsepower": 80,
          "Miles_per_Gallon": 30,
          "Name": "buick opel isuzu deluxe",
          "Origin": "USA",
          "Weight_in_lbs": 2155,
          "Year": "1977-01-01T00:00:00"
         },
         {
          "Acceleration": 18.6,
          "Cylinders": 4,
          "Displacement": 79,
          "Horsepower": 58,
          "Miles_per_Gallon": 36,
          "Name": "renault 5 gtl",
          "Origin": "Europe",
          "Weight_in_lbs": 1825,
          "Year": "1977-01-01T00:00:00"
         },
         {
          "Acceleration": 15.5,
          "Cylinders": 4,
          "Displacement": 122,
          "Horsepower": 96,
          "Miles_per_Gallon": 25.5,
          "Name": "plymouth arrow gs",
          "Origin": "USA",
          "Weight_in_lbs": 2300,
          "Year": "1977-01-01T00:00:00"
         },
         {
          "Acceleration": 16.8,
          "Cylinders": 4,
          "Displacement": 85,
          "Horsepower": 70,
          "Miles_per_Gallon": 33.5,
          "Name": "datsun f-10 hatchback",
          "Origin": "Japan",
          "Weight_in_lbs": 1945,
          "Year": "1977-01-01T00:00:00"
         },
         {
          "Acceleration": 12.5,
          "Cylinders": 8,
          "Displacement": 305,
          "Horsepower": 145,
          "Miles_per_Gallon": 17.5,
          "Name": "chevrolet caprice classic",
          "Origin": "USA",
          "Weight_in_lbs": 3880,
          "Year": "1977-01-01T00:00:00"
         },
         {
          "Acceleration": 19,
          "Cylinders": 8,
          "Displacement": 260,
          "Horsepower": 110,
          "Miles_per_Gallon": 17,
          "Name": "oldsmobile cutlass supreme",
          "Origin": "USA",
          "Weight_in_lbs": 4060,
          "Year": "1977-01-01T00:00:00"
         },
         {
          "Acceleration": 13.7,
          "Cylinders": 8,
          "Displacement": 318,
          "Horsepower": 145,
          "Miles_per_Gallon": 15.5,
          "Name": "dodge monaco brougham",
          "Origin": "USA",
          "Weight_in_lbs": 4140,
          "Year": "1977-01-01T00:00:00"
         },
         {
          "Acceleration": 14.9,
          "Cylinders": 8,
          "Displacement": 302,
          "Horsepower": 130,
          "Miles_per_Gallon": 15,
          "Name": "mercury cougar brougham",
          "Origin": "USA",
          "Weight_in_lbs": 4295,
          "Year": "1977-01-01T00:00:00"
         },
         {
          "Acceleration": 16.4,
          "Cylinders": 6,
          "Displacement": 250,
          "Horsepower": 110,
          "Miles_per_Gallon": 17.5,
          "Name": "chevrolet concours",
          "Origin": "USA",
          "Weight_in_lbs": 3520,
          "Year": "1977-01-01T00:00:00"
         },
         {
          "Acceleration": 16.9,
          "Cylinders": 6,
          "Displacement": 231,
          "Horsepower": 105,
          "Miles_per_Gallon": 20.5,
          "Name": "buick skylark",
          "Origin": "USA",
          "Weight_in_lbs": 3425,
          "Year": "1977-01-01T00:00:00"
         },
         {
          "Acceleration": 17.7,
          "Cylinders": 6,
          "Displacement": 225,
          "Horsepower": 100,
          "Miles_per_Gallon": 19,
          "Name": "plymouth volare custom",
          "Origin": "USA",
          "Weight_in_lbs": 3630,
          "Year": "1977-01-01T00:00:00"
         },
         {
          "Acceleration": 19,
          "Cylinders": 6,
          "Displacement": 250,
          "Horsepower": 98,
          "Miles_per_Gallon": 18.5,
          "Name": "ford granada",
          "Origin": "USA",
          "Weight_in_lbs": 3525,
          "Year": "1977-01-01T00:00:00"
         },
         {
          "Acceleration": 11.1,
          "Cylinders": 8,
          "Displacement": 400,
          "Horsepower": 180,
          "Miles_per_Gallon": 16,
          "Name": "pontiac grand prix lj",
          "Origin": "USA",
          "Weight_in_lbs": 4220,
          "Year": "1977-01-01T00:00:00"
         },
         {
          "Acceleration": 11.4,
          "Cylinders": 8,
          "Displacement": 350,
          "Horsepower": 170,
          "Miles_per_Gallon": 15.5,
          "Name": "chevrolet monte carlo landau",
          "Origin": "USA",
          "Weight_in_lbs": 4165,
          "Year": "1977-01-01T00:00:00"
         },
         {
          "Acceleration": 12.2,
          "Cylinders": 8,
          "Displacement": 400,
          "Horsepower": 190,
          "Miles_per_Gallon": 15.5,
          "Name": "chrysler cordoba",
          "Origin": "USA",
          "Weight_in_lbs": 4325,
          "Year": "1977-01-01T00:00:00"
         },
         {
          "Acceleration": 14.5,
          "Cylinders": 8,
          "Displacement": 351,
          "Horsepower": 149,
          "Miles_per_Gallon": 16,
          "Name": "ford thunderbird",
          "Origin": "USA",
          "Weight_in_lbs": 4335,
          "Year": "1977-01-01T00:00:00"
         },
         {
          "Acceleration": 14.5,
          "Cylinders": 4,
          "Displacement": 97,
          "Horsepower": 78,
          "Miles_per_Gallon": 29,
          "Name": "volkswagen rabbit custom",
          "Origin": "Europe",
          "Weight_in_lbs": 1940,
          "Year": "1977-01-01T00:00:00"
         },
         {
          "Acceleration": 16,
          "Cylinders": 4,
          "Displacement": 151,
          "Horsepower": 88,
          "Miles_per_Gallon": 24.5,
          "Name": "pontiac sunbird coupe",
          "Origin": "USA",
          "Weight_in_lbs": 2740,
          "Year": "1977-01-01T00:00:00"
         },
         {
          "Acceleration": 18.2,
          "Cylinders": 4,
          "Displacement": 97,
          "Horsepower": 75,
          "Miles_per_Gallon": 26,
          "Name": "toyota corolla liftback",
          "Origin": "Japan",
          "Weight_in_lbs": 2265,
          "Year": "1977-01-01T00:00:00"
         },
         {
          "Acceleration": 15.8,
          "Cylinders": 4,
          "Displacement": 140,
          "Horsepower": 89,
          "Miles_per_Gallon": 25.5,
          "Name": "ford mustang ii 2+2",
          "Origin": "USA",
          "Weight_in_lbs": 2755,
          "Year": "1977-01-01T00:00:00"
         },
         {
          "Acceleration": 17,
          "Cylinders": 4,
          "Displacement": 98,
          "Horsepower": 63,
          "Miles_per_Gallon": 30.5,
          "Name": "chevrolet chevette",
          "Origin": "USA",
          "Weight_in_lbs": 2051,
          "Year": "1977-01-01T00:00:00"
         },
         {
          "Acceleration": 15.9,
          "Cylinders": 4,
          "Displacement": 98,
          "Horsepower": 83,
          "Miles_per_Gallon": 33.5,
          "Name": "dodge colt m/m",
          "Origin": "USA",
          "Weight_in_lbs": 2075,
          "Year": "1977-01-01T00:00:00"
         },
         {
          "Acceleration": 16.4,
          "Cylinders": 4,
          "Displacement": 97,
          "Horsepower": 67,
          "Miles_per_Gallon": 30,
          "Name": "subaru dl",
          "Origin": "Japan",
          "Weight_in_lbs": 1985,
          "Year": "1977-01-01T00:00:00"
         },
         {
          "Acceleration": 14.1,
          "Cylinders": 4,
          "Displacement": 97,
          "Horsepower": 78,
          "Miles_per_Gallon": 30.5,
          "Name": "volkswagen dasher",
          "Origin": "Europe",
          "Weight_in_lbs": 2190,
          "Year": "1977-01-01T00:00:00"
         },
         {
          "Acceleration": 14.5,
          "Cylinders": 6,
          "Displacement": 146,
          "Horsepower": 97,
          "Miles_per_Gallon": 22,
          "Name": "datsun 810",
          "Origin": "Japan",
          "Weight_in_lbs": 2815,
          "Year": "1977-01-01T00:00:00"
         },
         {
          "Acceleration": 12.8,
          "Cylinders": 4,
          "Displacement": 121,
          "Horsepower": 110,
          "Miles_per_Gallon": 21.5,
          "Name": "bmw 320i",
          "Origin": "Europe",
          "Weight_in_lbs": 2600,
          "Year": "1977-01-01T00:00:00"
         },
         {
          "Acceleration": 13.5,
          "Cylinders": 3,
          "Displacement": 80,
          "Horsepower": 110,
          "Miles_per_Gallon": 21.5,
          "Name": "mazda rx-4",
          "Origin": "Japan",
          "Weight_in_lbs": 2720,
          "Year": "1977-01-01T00:00:00"
         },
         {
          "Acceleration": 21.5,
          "Cylinders": 4,
          "Displacement": 90,
          "Horsepower": 48,
          "Miles_per_Gallon": 43.1,
          "Name": "volkswagen rabbit custom diesel",
          "Origin": "Europe",
          "Weight_in_lbs": 1985,
          "Year": "1978-01-01T00:00:00"
         },
         {
          "Acceleration": 14.4,
          "Cylinders": 4,
          "Displacement": 98,
          "Horsepower": 66,
          "Miles_per_Gallon": 36.1,
          "Name": "ford fiesta",
          "Origin": "USA",
          "Weight_in_lbs": 1800,
          "Year": "1978-01-01T00:00:00"
         },
         {
          "Acceleration": 19.4,
          "Cylinders": 4,
          "Displacement": 78,
          "Horsepower": 52,
          "Miles_per_Gallon": 32.8,
          "Name": "mazda glc deluxe",
          "Origin": "Japan",
          "Weight_in_lbs": 1985,
          "Year": "1978-01-01T00:00:00"
         },
         {
          "Acceleration": 18.6,
          "Cylinders": 4,
          "Displacement": 85,
          "Horsepower": 70,
          "Miles_per_Gallon": 39.4,
          "Name": "datsun b210 gx",
          "Origin": "Japan",
          "Weight_in_lbs": 2070,
          "Year": "1978-01-01T00:00:00"
         },
         {
          "Acceleration": 16.4,
          "Cylinders": 4,
          "Displacement": 91,
          "Horsepower": 60,
          "Miles_per_Gallon": 36.1,
          "Name": "honda civic cvcc",
          "Origin": "Japan",
          "Weight_in_lbs": 1800,
          "Year": "1978-01-01T00:00:00"
         },
         {
          "Acceleration": 15.5,
          "Cylinders": 8,
          "Displacement": 260,
          "Horsepower": 110,
          "Miles_per_Gallon": 19.9,
          "Name": "oldsmobile cutlass salon brougham",
          "Origin": "USA",
          "Weight_in_lbs": 3365,
          "Year": "1978-01-01T00:00:00"
         },
         {
          "Acceleration": 13.2,
          "Cylinders": 8,
          "Displacement": 318,
          "Horsepower": 140,
          "Miles_per_Gallon": 19.4,
          "Name": "dodge diplomat",
          "Origin": "USA",
          "Weight_in_lbs": 3735,
          "Year": "1978-01-01T00:00:00"
         },
         {
          "Acceleration": 12.8,
          "Cylinders": 8,
          "Displacement": 302,
          "Horsepower": 139,
          "Miles_per_Gallon": 20.2,
          "Name": "mercury monarch ghia",
          "Origin": "USA",
          "Weight_in_lbs": 3570,
          "Year": "1978-01-01T00:00:00"
         },
         {
          "Acceleration": 19.2,
          "Cylinders": 6,
          "Displacement": 231,
          "Horsepower": 105,
          "Miles_per_Gallon": 19.2,
          "Name": "pontiac phoenix lj",
          "Origin": "USA",
          "Weight_in_lbs": 3535,
          "Year": "1978-01-01T00:00:00"
         },
         {
          "Acceleration": 18.2,
          "Cylinders": 6,
          "Displacement": 200,
          "Horsepower": 95,
          "Miles_per_Gallon": 20.5,
          "Name": "chevrolet malibu",
          "Origin": "USA",
          "Weight_in_lbs": 3155,
          "Year": "1978-01-01T00:00:00"
         },
         {
          "Acceleration": 15.8,
          "Cylinders": 6,
          "Displacement": 200,
          "Horsepower": 85,
          "Miles_per_Gallon": 20.2,
          "Name": "ford fairmont (auto)",
          "Origin": "USA",
          "Weight_in_lbs": 2965,
          "Year": "1978-01-01T00:00:00"
         },
         {
          "Acceleration": 15.4,
          "Cylinders": 4,
          "Displacement": 140,
          "Horsepower": 88,
          "Miles_per_Gallon": 25.1,
          "Name": "ford fairmont (man)",
          "Origin": "USA",
          "Weight_in_lbs": 2720,
          "Year": "1978-01-01T00:00:00"
         },
         {
          "Acceleration": 17.2,
          "Cylinders": 6,
          "Displacement": 225,
          "Horsepower": 100,
          "Miles_per_Gallon": 20.5,
          "Name": "plymouth volare",
          "Origin": "USA",
          "Weight_in_lbs": 3430,
          "Year": "1978-01-01T00:00:00"
         },
         {
          "Acceleration": 17.2,
          "Cylinders": 6,
          "Displacement": 232,
          "Horsepower": 90,
          "Miles_per_Gallon": 19.4,
          "Name": "amc concord",
          "Origin": "USA",
          "Weight_in_lbs": 3210,
          "Year": "1978-01-01T00:00:00"
         },
         {
          "Acceleration": 15.8,
          "Cylinders": 6,
          "Displacement": 231,
          "Horsepower": 105,
          "Miles_per_Gallon": 20.6,
          "Name": "buick century special",
          "Origin": "USA",
          "Weight_in_lbs": 3380,
          "Year": "1978-01-01T00:00:00"
         },
         {
          "Acceleration": 16.7,
          "Cylinders": 6,
          "Displacement": 200,
          "Horsepower": 85,
          "Miles_per_Gallon": 20.8,
          "Name": "mercury zephyr",
          "Origin": "USA",
          "Weight_in_lbs": 3070,
          "Year": "1978-01-01T00:00:00"
         },
         {
          "Acceleration": 18.7,
          "Cylinders": 6,
          "Displacement": 225,
          "Horsepower": 110,
          "Miles_per_Gallon": 18.6,
          "Name": "dodge aspen",
          "Origin": "USA",
          "Weight_in_lbs": 3620,
          "Year": "1978-01-01T00:00:00"
         },
         {
          "Acceleration": 15.1,
          "Cylinders": 6,
          "Displacement": 258,
          "Horsepower": 120,
          "Miles_per_Gallon": 18.1,
          "Name": "amc concord d/l",
          "Origin": "USA",
          "Weight_in_lbs": 3410,
          "Year": "1978-01-01T00:00:00"
         },
         {
          "Acceleration": 13.2,
          "Cylinders": 8,
          "Displacement": 305,
          "Horsepower": 145,
          "Miles_per_Gallon": 19.2,
          "Name": "chevrolet monte carlo landau",
          "Origin": "USA",
          "Weight_in_lbs": 3425,
          "Year": "1978-01-01T00:00:00"
         },
         {
          "Acceleration": 13.4,
          "Cylinders": 6,
          "Displacement": 231,
          "Horsepower": 165,
          "Miles_per_Gallon": 17.7,
          "Name": "buick regal sport coupe (turbo)",
          "Origin": "USA",
          "Weight_in_lbs": 3445,
          "Year": "1978-01-01T00:00:00"
         },
         {
          "Acceleration": 11.2,
          "Cylinders": 8,
          "Displacement": 302,
          "Horsepower": 139,
          "Miles_per_Gallon": 18.1,
          "Name": "ford futura",
          "Origin": "USA",
          "Weight_in_lbs": 3205,
          "Year": "1978-01-01T00:00:00"
         },
         {
          "Acceleration": 13.7,
          "Cylinders": 8,
          "Displacement": 318,
          "Horsepower": 140,
          "Miles_per_Gallon": 17.5,
          "Name": "dodge magnum xe",
          "Origin": "USA",
          "Weight_in_lbs": 4080,
          "Year": "1978-01-01T00:00:00"
         },
         {
          "Acceleration": 16.5,
          "Cylinders": 4,
          "Displacement": 98,
          "Horsepower": 68,
          "Miles_per_Gallon": 30,
          "Name": "chevrolet chevette",
          "Origin": "USA",
          "Weight_in_lbs": 2155,
          "Year": "1978-01-01T00:00:00"
         },
         {
          "Acceleration": 14.2,
          "Cylinders": 4,
          "Displacement": 134,
          "Horsepower": 95,
          "Miles_per_Gallon": 27.5,
          "Name": "toyota corona",
          "Origin": "Japan",
          "Weight_in_lbs": 2560,
          "Year": "1978-01-01T00:00:00"
         },
         {
          "Acceleration": 14.7,
          "Cylinders": 4,
          "Displacement": 119,
          "Horsepower": 97,
          "Miles_per_Gallon": 27.2,
          "Name": "datsun 510",
          "Origin": "Japan",
          "Weight_in_lbs": 2300,
          "Year": "1978-01-01T00:00:00"
         },
         {
          "Acceleration": 14.5,
          "Cylinders": 4,
          "Displacement": 105,
          "Horsepower": 75,
          "Miles_per_Gallon": 30.9,
          "Name": "dodge omni",
          "Origin": "USA",
          "Weight_in_lbs": 2230,
          "Year": "1978-01-01T00:00:00"
         },
         {
          "Acceleration": 14.8,
          "Cylinders": 4,
          "Displacement": 134,
          "Horsepower": 95,
          "Miles_per_Gallon": 21.1,
          "Name": "toyota celica gt liftback",
          "Origin": "Japan",
          "Weight_in_lbs": 2515,
          "Year": "1978-01-01T00:00:00"
         },
         {
          "Acceleration": 16.7,
          "Cylinders": 4,
          "Displacement": 156,
          "Horsepower": 105,
          "Miles_per_Gallon": 23.2,
          "Name": "plymouth sapporo",
          "Origin": "USA",
          "Weight_in_lbs": 2745,
          "Year": "1978-01-01T00:00:00"
         },
         {
          "Acceleration": 17.6,
          "Cylinders": 4,
          "Displacement": 151,
          "Horsepower": 85,
          "Miles_per_Gallon": 23.8,
          "Name": "oldsmobile starfire sx",
          "Origin": "USA",
          "Weight_in_lbs": 2855,
          "Year": "1978-01-01T00:00:00"
         },
         {
          "Acceleration": 14.9,
          "Cylinders": 4,
          "Displacement": 119,
          "Horsepower": 97,
          "Miles_per_Gallon": 23.9,
          "Name": "datsun 200-sx",
          "Origin": "Japan",
          "Weight_in_lbs": 2405,
          "Year": "1978-01-01T00:00:00"
         },
         {
          "Acceleration": 15.9,
          "Cylinders": 5,
          "Displacement": 131,
          "Horsepower": 103,
          "Miles_per_Gallon": 20.3,
          "Name": "audi 5000",
          "Origin": "Europe",
          "Weight_in_lbs": 2830,
          "Year": "1978-01-01T00:00:00"
         },
         {
          "Acceleration": 13.6,
          "Cylinders": 6,
          "Displacement": 163,
          "Horsepower": 125,
          "Miles_per_Gallon": 17,
          "Name": "volvo 264gl",
          "Origin": "Europe",
          "Weight_in_lbs": 3140,
          "Year": "1978-01-01T00:00:00"
         },
         {
          "Acceleration": 15.7,
          "Cylinders": 4,
          "Displacement": 121,
          "Horsepower": 115,
          "Miles_per_Gallon": 21.6,
          "Name": "saab 99gle",
          "Origin": "Europe",
          "Weight_in_lbs": 2795,
          "Year": "1978-01-01T00:00:00"
         },
         {
          "Acceleration": 15.8,
          "Cylinders": 6,
          "Displacement": 163,
          "Horsepower": 133,
          "Miles_per_Gallon": 16.2,
          "Name": "peugeot 604sl",
          "Origin": "Europe",
          "Weight_in_lbs": 3410,
          "Year": "1978-01-01T00:00:00"
         },
         {
          "Acceleration": 14.9,
          "Cylinders": 4,
          "Displacement": 89,
          "Horsepower": 71,
          "Miles_per_Gallon": 31.5,
          "Name": "volkswagen scirocco",
          "Origin": "Europe",
          "Weight_in_lbs": 1990,
          "Year": "1978-01-01T00:00:00"
         },
         {
          "Acceleration": 16.6,
          "Cylinders": 4,
          "Displacement": 98,
          "Horsepower": 68,
          "Miles_per_Gallon": 29.5,
          "Name": "honda Accelerationord lx",
          "Origin": "Japan",
          "Weight_in_lbs": 2135,
          "Year": "1978-01-01T00:00:00"
         },
         {
          "Acceleration": 15.4,
          "Cylinders": 6,
          "Displacement": 231,
          "Horsepower": 115,
          "Miles_per_Gallon": 21.5,
          "Name": "pontiac lemans v6",
          "Origin": "USA",
          "Weight_in_lbs": 3245,
          "Year": "1979-01-01T00:00:00"
         },
         {
          "Acceleration": 18.2,
          "Cylinders": 6,
          "Displacement": 200,
          "Horsepower": 85,
          "Miles_per_Gallon": 19.8,
          "Name": "mercury zephyr 6",
          "Origin": "USA",
          "Weight_in_lbs": 2990,
          "Year": "1979-01-01T00:00:00"
         },
         {
          "Acceleration": 17.3,
          "Cylinders": 4,
          "Displacement": 140,
          "Horsepower": 88,
          "Miles_per_Gallon": 22.3,
          "Name": "ford fairmont 4",
          "Origin": "USA",
          "Weight_in_lbs": 2890,
          "Year": "1979-01-01T00:00:00"
         },
         {
          "Acceleration": 18.2,
          "Cylinders": 6,
          "Displacement": 232,
          "Horsepower": 90,
          "Miles_per_Gallon": 20.2,
          "Name": "amc concord dl 6",
          "Origin": "USA",
          "Weight_in_lbs": 3265,
          "Year": "1979-01-01T00:00:00"
         },
         {
          "Acceleration": 16.6,
          "Cylinders": 6,
          "Displacement": 225,
          "Horsepower": 110,
          "Miles_per_Gallon": 20.6,
          "Name": "dodge aspen 6",
          "Origin": "USA",
          "Weight_in_lbs": 3360,
          "Year": "1979-01-01T00:00:00"
         },
         {
          "Acceleration": 15.4,
          "Cylinders": 8,
          "Displacement": 305,
          "Horsepower": 130,
          "Miles_per_Gallon": 17,
          "Name": "chevrolet caprice classic",
          "Origin": "USA",
          "Weight_in_lbs": 3840,
          "Year": "1979-01-01T00:00:00"
         },
         {
          "Acceleration": 13.4,
          "Cylinders": 8,
          "Displacement": 302,
          "Horsepower": 129,
          "Miles_per_Gallon": 17.6,
          "Name": "ford ltd landau",
          "Origin": "USA",
          "Weight_in_lbs": 3725,
          "Year": "1979-01-01T00:00:00"
         },
         {
          "Acceleration": 13.2,
          "Cylinders": 8,
          "Displacement": 351,
          "Horsepower": 138,
          "Miles_per_Gallon": 16.5,
          "Name": "mercury grand marquis",
          "Origin": "USA",
          "Weight_in_lbs": 3955,
          "Year": "1979-01-01T00:00:00"
         },
         {
          "Acceleration": 15.2,
          "Cylinders": 8,
          "Displacement": 318,
          "Horsepower": 135,
          "Miles_per_Gallon": 18.2,
          "Name": "dodge st. regis",
          "Origin": "USA",
          "Weight_in_lbs": 3830,
          "Year": "1979-01-01T00:00:00"
         },
         {
          "Acceleration": 14.9,
          "Cylinders": 8,
          "Displacement": 350,
          "Horsepower": 155,
          "Miles_per_Gallon": 16.9,
          "Name": "buick estate wagon (sw)",
          "Origin": "USA",
          "Weight_in_lbs": 4360,
          "Year": "1979-01-01T00:00:00"
         },
         {
          "Acceleration": 14.3,
          "Cylinders": 8,
          "Displacement": 351,
          "Horsepower": 142,
          "Miles_per_Gallon": 15.5,
          "Name": "ford country squire (sw)",
          "Origin": "USA",
          "Weight_in_lbs": 4054,
          "Year": "1979-01-01T00:00:00"
         },
         {
          "Acceleration": 15,
          "Cylinders": 8,
          "Displacement": 267,
          "Horsepower": 125,
          "Miles_per_Gallon": 19.2,
          "Name": "chevrolet malibu classic (sw)",
          "Origin": "USA",
          "Weight_in_lbs": 3605,
          "Year": "1979-01-01T00:00:00"
         },
         {
          "Acceleration": 13,
          "Cylinders": 8,
          "Displacement": 360,
          "Horsepower": 150,
          "Miles_per_Gallon": 18.5,
          "Name": "chrysler lebaron town @ country (sw)",
          "Origin": "USA",
          "Weight_in_lbs": 3940,
          "Year": "1979-01-01T00:00:00"
         },
         {
          "Acceleration": 14,
          "Cylinders": 4,
          "Displacement": 89,
          "Horsepower": 71,
          "Miles_per_Gallon": 31.9,
          "Name": "vw rabbit custom",
          "Origin": "Europe",
          "Weight_in_lbs": 1925,
          "Year": "1979-01-01T00:00:00"
         },
         {
          "Acceleration": 15.2,
          "Cylinders": 4,
          "Displacement": 86,
          "Horsepower": 65,
          "Miles_per_Gallon": 34.1,
          "Name": "maxda glc deluxe",
          "Origin": "Japan",
          "Weight_in_lbs": 1975,
          "Year": "1979-01-01T00:00:00"
         },
         {
          "Acceleration": 14.4,
          "Cylinders": 4,
          "Displacement": 98,
          "Horsepower": 80,
          "Miles_per_Gallon": 35.7,
          "Name": "dodge colt hatchback custom",
          "Origin": "USA",
          "Weight_in_lbs": 1915,
          "Year": "1979-01-01T00:00:00"
         },
         {
          "Acceleration": 15,
          "Cylinders": 4,
          "Displacement": 121,
          "Horsepower": 80,
          "Miles_per_Gallon": 27.4,
          "Name": "amc spirit dl",
          "Origin": "USA",
          "Weight_in_lbs": 2670,
          "Year": "1979-01-01T00:00:00"
         },
         {
          "Acceleration": 20.1,
          "Cylinders": 5,
          "Displacement": 183,
          "Horsepower": 77,
          "Miles_per_Gallon": 25.4,
          "Name": "mercedes benz 300d",
          "Origin": "Europe",
          "Weight_in_lbs": 3530,
          "Year": "1979-01-01T00:00:00"
         },
         {
          "Acceleration": 17.4,
          "Cylinders": 8,
          "Displacement": 350,
          "Horsepower": 125,
          "Miles_per_Gallon": 23,
          "Name": "cadillac eldorado",
          "Origin": "USA",
          "Weight_in_lbs": 3900,
          "Year": "1979-01-01T00:00:00"
         },
         {
          "Acceleration": 24.8,
          "Cylinders": 4,
          "Displacement": 141,
          "Horsepower": 71,
          "Miles_per_Gallon": 27.2,
          "Name": "peugeot 504",
          "Origin": "Europe",
          "Weight_in_lbs": 3190,
          "Year": "1979-01-01T00:00:00"
         },
         {
          "Acceleration": 22.2,
          "Cylinders": 8,
          "Displacement": 260,
          "Horsepower": 90,
          "Miles_per_Gallon": 23.9,
          "Name": "oldsmobile cutlass salon brougham",
          "Origin": "USA",
          "Weight_in_lbs": 3420,
          "Year": "1979-01-01T00:00:00"
         },
         {
          "Acceleration": 13.2,
          "Cylinders": 4,
          "Displacement": 105,
          "Horsepower": 70,
          "Miles_per_Gallon": 34.2,
          "Name": "plymouth horizon",
          "Origin": "USA",
          "Weight_in_lbs": 2200,
          "Year": "1979-01-01T00:00:00"
         },
         {
          "Acceleration": 14.9,
          "Cylinders": 4,
          "Displacement": 105,
          "Horsepower": 70,
          "Miles_per_Gallon": 34.5,
          "Name": "plymouth horizon tc3",
          "Origin": "USA",
          "Weight_in_lbs": 2150,
          "Year": "1979-01-01T00:00:00"
         },
         {
          "Acceleration": 19.2,
          "Cylinders": 4,
          "Displacement": 85,
          "Horsepower": 65,
          "Miles_per_Gallon": 31.8,
          "Name": "datsun 210",
          "Origin": "Japan",
          "Weight_in_lbs": 2020,
          "Year": "1979-01-01T00:00:00"
         },
         {
          "Acceleration": 14.7,
          "Cylinders": 4,
          "Displacement": 91,
          "Horsepower": 69,
          "Miles_per_Gallon": 37.3,
          "Name": "fiat strada custom",
          "Origin": "Europe",
          "Weight_in_lbs": 2130,
          "Year": "1979-01-01T00:00:00"
         },
         {
          "Acceleration": 16,
          "Cylinders": 4,
          "Displacement": 151,
          "Horsepower": 90,
          "Miles_per_Gallon": 28.4,
          "Name": "buick skylark limited",
          "Origin": "USA",
          "Weight_in_lbs": 2670,
          "Year": "1979-01-01T00:00:00"
         },
         {
          "Acceleration": 11.3,
          "Cylinders": 6,
          "Displacement": 173,
          "Horsepower": 115,
          "Miles_per_Gallon": 28.8,
          "Name": "chevrolet citation",
          "Origin": "USA",
          "Weight_in_lbs": 2595,
          "Year": "1979-01-01T00:00:00"
         },
         {
          "Acceleration": 12.9,
          "Cylinders": 6,
          "Displacement": 173,
          "Horsepower": 115,
          "Miles_per_Gallon": 26.8,
          "Name": "oldsmobile omega brougham",
          "Origin": "USA",
          "Weight_in_lbs": 2700,
          "Year": "1979-01-01T00:00:00"
         },
         {
          "Acceleration": 13.2,
          "Cylinders": 4,
          "Displacement": 151,
          "Horsepower": 90,
          "Miles_per_Gallon": 33.5,
          "Name": "pontiac phoenix",
          "Origin": "USA",
          "Weight_in_lbs": 2556,
          "Year": "1979-01-01T00:00:00"
         },
         {
          "Acceleration": 14.7,
          "Cylinders": 4,
          "Displacement": 98,
          "Horsepower": 76,
          "Miles_per_Gallon": 41.5,
          "Name": "vw rabbit",
          "Origin": "Europe",
          "Weight_in_lbs": 2144,
          "Year": "1980-01-01T00:00:00"
         },
         {
          "Acceleration": 18.8,
          "Cylinders": 4,
          "Displacement": 89,
          "Horsepower": 60,
          "Miles_per_Gallon": 38.1,
          "Name": "toyota corolla tercel",
          "Origin": "Japan",
          "Weight_in_lbs": 1968,
          "Year": "1980-01-01T00:00:00"
         },
         {
          "Acceleration": 15.5,
          "Cylinders": 4,
          "Displacement": 98,
          "Horsepower": 70,
          "Miles_per_Gallon": 32.1,
          "Name": "chevrolet chevette",
          "Origin": "USA",
          "Weight_in_lbs": 2120,
          "Year": "1980-01-01T00:00:00"
         },
         {
          "Acceleration": 16.4,
          "Cylinders": 4,
          "Displacement": 86,
          "Horsepower": 65,
          "Miles_per_Gallon": 37.2,
          "Name": "datsun 310",
          "Origin": "Japan",
          "Weight_in_lbs": 2019,
          "Year": "1980-01-01T00:00:00"
         },
         {
          "Acceleration": 16.5,
          "Cylinders": 4,
          "Displacement": 151,
          "Horsepower": 90,
          "Miles_per_Gallon": 28,
          "Name": "chevrolet citation",
          "Origin": "USA",
          "Weight_in_lbs": 2678,
          "Year": "1980-01-01T00:00:00"
         },
         {
          "Acceleration": 18.1,
          "Cylinders": 4,
          "Displacement": 140,
          "Horsepower": 88,
          "Miles_per_Gallon": 26.4,
          "Name": "ford fairmont",
          "Origin": "USA",
          "Weight_in_lbs": 2870,
          "Year": "1980-01-01T00:00:00"
         },
         {
          "Acceleration": 20.1,
          "Cylinders": 4,
          "Displacement": 151,
          "Horsepower": 90,
          "Miles_per_Gallon": 24.3,
          "Name": "amc concord",
          "Origin": "USA",
          "Weight_in_lbs": 3003,
          "Year": "1980-01-01T00:00:00"
         },
         {
          "Acceleration": 18.7,
          "Cylinders": 6,
          "Displacement": 225,
          "Horsepower": 90,
          "Miles_per_Gallon": 19.1,
          "Name": "dodge aspen",
          "Origin": "USA",
          "Weight_in_lbs": 3381,
          "Year": "1980-01-01T00:00:00"
         },
         {
          "Acceleration": 15.8,
          "Cylinders": 4,
          "Displacement": 97,
          "Horsepower": 78,
          "Miles_per_Gallon": 34.3,
          "Name": "audi 4000",
          "Origin": "Europe",
          "Weight_in_lbs": 2188,
          "Year": "1980-01-01T00:00:00"
         },
         {
          "Acceleration": 15.5,
          "Cylinders": 4,
          "Displacement": 134,
          "Horsepower": 90,
          "Miles_per_Gallon": 29.8,
          "Name": "toyota corona liftback",
          "Origin": "Japan",
          "Weight_in_lbs": 2711,
          "Year": "1980-01-01T00:00:00"
         },
         {
          "Acceleration": 17.5,
          "Cylinders": 4,
          "Displacement": 120,
          "Horsepower": 75,
          "Miles_per_Gallon": 31.3,
          "Name": "mazda 626",
          "Origin": "Japan",
          "Weight_in_lbs": 2542,
          "Year": "1980-01-01T00:00:00"
         },
         {
          "Acceleration": 15,
          "Cylinders": 4,
          "Displacement": 119,
          "Horsepower": 92,
          "Miles_per_Gallon": 37,
          "Name": "datsun 510 hatchback",
          "Origin": "Japan",
          "Weight_in_lbs": 2434,
          "Year": "1980-01-01T00:00:00"
         },
         {
          "Acceleration": 15.2,
          "Cylinders": 4,
          "Displacement": 108,
          "Horsepower": 75,
          "Miles_per_Gallon": 32.2,
          "Name": "toyota corolla",
          "Origin": "Japan",
          "Weight_in_lbs": 2265,
          "Year": "1980-01-01T00:00:00"
         },
         {
          "Acceleration": 17.9,
          "Cylinders": 4,
          "Displacement": 86,
          "Horsepower": 65,
          "Miles_per_Gallon": 46.6,
          "Name": "mazda glc",
          "Origin": "Japan",
          "Weight_in_lbs": 2110,
          "Year": "1980-01-01T00:00:00"
         },
         {
          "Acceleration": 14.4,
          "Cylinders": 4,
          "Displacement": 156,
          "Horsepower": 105,
          "Miles_per_Gallon": 27.9,
          "Name": "dodge colt",
          "Origin": "USA",
          "Weight_in_lbs": 2800,
          "Year": "1980-01-01T00:00:00"
         },
         {
          "Acceleration": 19.2,
          "Cylinders": 4,
          "Displacement": 85,
          "Horsepower": 65,
          "Miles_per_Gallon": 40.8,
          "Name": "datsun 210",
          "Origin": "Japan",
          "Weight_in_lbs": 2110,
          "Year": "1980-01-01T00:00:00"
         },
         {
          "Acceleration": 21.7,
          "Cylinders": 4,
          "Displacement": 90,
          "Horsepower": 48,
          "Miles_per_Gallon": 44.3,
          "Name": "vw rabbit c (diesel)",
          "Origin": "Europe",
          "Weight_in_lbs": 2085,
          "Year": "1980-01-01T00:00:00"
         },
         {
          "Acceleration": 23.7,
          "Cylinders": 4,
          "Displacement": 90,
          "Horsepower": 48,
          "Miles_per_Gallon": 43.4,
          "Name": "vw dasher (diesel)",
          "Origin": "Europe",
          "Weight_in_lbs": 2335,
          "Year": "1980-01-01T00:00:00"
         },
         {
          "Acceleration": 19.9,
          "Cylinders": 5,
          "Displacement": 121,
          "Horsepower": 67,
          "Miles_per_Gallon": 36.4,
          "Name": "audi 5000s (diesel)",
          "Origin": "Europe",
          "Weight_in_lbs": 2950,
          "Year": "1980-01-01T00:00:00"
         },
         {
          "Acceleration": 21.8,
          "Cylinders": 4,
          "Displacement": 146,
          "Horsepower": 67,
          "Miles_per_Gallon": 30,
          "Name": "mercedes-benz 240d",
          "Origin": "Europe",
          "Weight_in_lbs": 3250,
          "Year": "1980-01-01T00:00:00"
         },
         {
          "Acceleration": 13.8,
          "Cylinders": 4,
          "Displacement": 91,
          "Horsepower": 67,
          "Miles_per_Gallon": 44.6,
          "Name": "honda civic 1500 gl",
          "Origin": "Japan",
          "Weight_in_lbs": 1850,
          "Year": "1980-01-01T00:00:00"
         },
         {
          "Acceleration": 17.3,
          "Cylinders": 4,
          "Displacement": 85,
          "Horsepower": null,
          "Miles_per_Gallon": 40.9,
          "Name": "renault lecar deluxe",
          "Origin": "Europe",
          "Weight_in_lbs": 1835,
          "Year": "1980-01-01T00:00:00"
         },
         {
          "Acceleration": 18,
          "Cylinders": 4,
          "Displacement": 97,
          "Horsepower": 67,
          "Miles_per_Gallon": 33.8,
          "Name": "subaru dl",
          "Origin": "Japan",
          "Weight_in_lbs": 2145,
          "Year": "1980-01-01T00:00:00"
         },
         {
          "Acceleration": 15.3,
          "Cylinders": 4,
          "Displacement": 89,
          "Horsepower": 62,
          "Miles_per_Gallon": 29.8,
          "Name": "vokswagen rabbit",
          "Origin": "Europe",
          "Weight_in_lbs": 1845,
          "Year": "1980-01-01T00:00:00"
         },
         {
          "Acceleration": 11.4,
          "Cylinders": 6,
          "Displacement": 168,
          "Horsepower": 132,
          "Miles_per_Gallon": 32.7,
          "Name": "datsun 280-zx",
          "Origin": "Japan",
          "Weight_in_lbs": 2910,
          "Year": "1980-01-01T00:00:00"
         },
         {
          "Acceleration": 12.5,
          "Cylinders": 3,
          "Displacement": 70,
          "Horsepower": 100,
          "Miles_per_Gallon": 23.7,
          "Name": "mazda rx-7 gs",
          "Origin": "Japan",
          "Weight_in_lbs": 2420,
          "Year": "1980-01-01T00:00:00"
         },
         {
          "Acceleration": 15.1,
          "Cylinders": 4,
          "Displacement": 122,
          "Horsepower": 88,
          "Miles_per_Gallon": 35,
          "Name": "triumph tr7 coupe",
          "Origin": "Europe",
          "Weight_in_lbs": 2500,
          "Year": "1980-01-01T00:00:00"
         },
         {
          "Acceleration": 14.3,
          "Cylinders": 4,
          "Displacement": 140,
          "Horsepower": null,
          "Miles_per_Gallon": 23.6,
          "Name": "ford mustang cobra",
          "Origin": "USA",
          "Weight_in_lbs": 2905,
          "Year": "1980-01-01T00:00:00"
         },
         {
          "Acceleration": 17,
          "Cylinders": 4,
          "Displacement": 107,
          "Horsepower": 72,
          "Miles_per_Gallon": 32.4,
          "Name": "honda Accelerationord",
          "Origin": "Japan",
          "Weight_in_lbs": 2290,
          "Year": "1980-01-01T00:00:00"
         },
         {
          "Acceleration": 15.7,
          "Cylinders": 4,
          "Displacement": 135,
          "Horsepower": 84,
          "Miles_per_Gallon": 27.2,
          "Name": "plymouth reliant",
          "Origin": "USA",
          "Weight_in_lbs": 2490,
          "Year": "1982-01-01T00:00:00"
         },
         {
          "Acceleration": 16.4,
          "Cylinders": 4,
          "Displacement": 151,
          "Horsepower": 84,
          "Miles_per_Gallon": 26.6,
          "Name": "buick skylark",
          "Origin": "USA",
          "Weight_in_lbs": 2635,
          "Year": "1982-01-01T00:00:00"
         },
         {
          "Acceleration": 14.4,
          "Cylinders": 4,
          "Displacement": 156,
          "Horsepower": 92,
          "Miles_per_Gallon": 25.8,
          "Name": "dodge aries wagon (sw)",
          "Origin": "USA",
          "Weight_in_lbs": 2620,
          "Year": "1982-01-01T00:00:00"
         },
         {
          "Acceleration": 12.6,
          "Cylinders": 6,
          "Displacement": 173,
          "Horsepower": 110,
          "Miles_per_Gallon": 23.5,
          "Name": "chevrolet citation",
          "Origin": "USA",
          "Weight_in_lbs": 2725,
          "Year": "1982-01-01T00:00:00"
         },
         {
          "Acceleration": 12.9,
          "Cylinders": 4,
          "Displacement": 135,
          "Horsepower": 84,
          "Miles_per_Gallon": 30,
          "Name": "plymouth reliant",
          "Origin": "USA",
          "Weight_in_lbs": 2385,
          "Year": "1982-01-01T00:00:00"
         },
         {
          "Acceleration": 16.9,
          "Cylinders": 4,
          "Displacement": 79,
          "Horsepower": 58,
          "Miles_per_Gallon": 39.1,
          "Name": "toyota starlet",
          "Origin": "Japan",
          "Weight_in_lbs": 1755,
          "Year": "1982-01-01T00:00:00"
         },
         {
          "Acceleration": 16.4,
          "Cylinders": 4,
          "Displacement": 86,
          "Horsepower": 64,
          "Miles_per_Gallon": 39,
          "Name": "plymouth champ",
          "Origin": "USA",
          "Weight_in_lbs": 1875,
          "Year": "1982-01-01T00:00:00"
         },
         {
          "Acceleration": 16.1,
          "Cylinders": 4,
          "Displacement": 81,
          "Horsepower": 60,
          "Miles_per_Gallon": 35.1,
          "Name": "honda civic 1300",
          "Origin": "Japan",
          "Weight_in_lbs": 1760,
          "Year": "1982-01-01T00:00:00"
         },
         {
          "Acceleration": 17.8,
          "Cylinders": 4,
          "Displacement": 97,
          "Horsepower": 67,
          "Miles_per_Gallon": 32.3,
          "Name": "subaru",
          "Origin": "Japan",
          "Weight_in_lbs": 2065,
          "Year": "1982-01-01T00:00:00"
         },
         {
          "Acceleration": 19.4,
          "Cylinders": 4,
          "Displacement": 85,
          "Horsepower": 65,
          "Miles_per_Gallon": 37,
          "Name": "datsun 210",
          "Origin": "Japan",
          "Weight_in_lbs": 1975,
          "Year": "1982-01-01T00:00:00"
         },
         {
          "Acceleration": 17.3,
          "Cylinders": 4,
          "Displacement": 89,
          "Horsepower": 62,
          "Miles_per_Gallon": 37.7,
          "Name": "toyota tercel",
          "Origin": "Japan",
          "Weight_in_lbs": 2050,
          "Year": "1982-01-01T00:00:00"
         },
         {
          "Acceleration": 16,
          "Cylinders": 4,
          "Displacement": 91,
          "Horsepower": 68,
          "Miles_per_Gallon": 34.1,
          "Name": "mazda glc 4",
          "Origin": "Japan",
          "Weight_in_lbs": 1985,
          "Year": "1982-01-01T00:00:00"
         },
         {
          "Acceleration": 14.9,
          "Cylinders": 4,
          "Displacement": 105,
          "Horsepower": 63,
          "Miles_per_Gallon": 34.7,
          "Name": "plymouth horizon 4",
          "Origin": "USA",
          "Weight_in_lbs": 2215,
          "Year": "1982-01-01T00:00:00"
         },
         {
          "Acceleration": 16.2,
          "Cylinders": 4,
          "Displacement": 98,
          "Horsepower": 65,
          "Miles_per_Gallon": 34.4,
          "Name": "ford escort 4w",
          "Origin": "USA",
          "Weight_in_lbs": 2045,
          "Year": "1982-01-01T00:00:00"
         },
         {
          "Acceleration": 20.7,
          "Cylinders": 4,
          "Displacement": 98,
          "Horsepower": 65,
          "Miles_per_Gallon": 29.9,
          "Name": "ford escort 2h",
          "Origin": "USA",
          "Weight_in_lbs": 2380,
          "Year": "1982-01-01T00:00:00"
         },
         {
          "Acceleration": 14.2,
          "Cylinders": 4,
          "Displacement": 105,
          "Horsepower": 74,
          "Miles_per_Gallon": 33,
          "Name": "volkswagen jetta",
          "Origin": "Europe",
          "Weight_in_lbs": 2190,
          "Year": "1982-01-01T00:00:00"
         },
         {
          "Acceleration": 15.8,
          "Cylinders": 4,
          "Displacement": 100,
          "Horsepower": null,
          "Miles_per_Gallon": 34.5,
          "Name": "renault 18i",
          "Origin": "Europe",
          "Weight_in_lbs": 2320,
          "Year": "1982-01-01T00:00:00"
         },
         {
          "Acceleration": 14.4,
          "Cylinders": 4,
          "Displacement": 107,
          "Horsepower": 75,
          "Miles_per_Gallon": 33.7,
          "Name": "honda prelude",
          "Origin": "Japan",
          "Weight_in_lbs": 2210,
          "Year": "1982-01-01T00:00:00"
         },
         {
          "Acceleration": 16.8,
          "Cylinders": 4,
          "Displacement": 108,
          "Horsepower": 75,
          "Miles_per_Gallon": 32.4,
          "Name": "toyota corolla",
          "Origin": "Japan",
          "Weight_in_lbs": 2350,
          "Year": "1982-01-01T00:00:00"
         },
         {
          "Acceleration": 14.8,
          "Cylinders": 4,
          "Displacement": 119,
          "Horsepower": 100,
          "Miles_per_Gallon": 32.9,
          "Name": "datsun 200sx",
          "Origin": "Japan",
          "Weight_in_lbs": 2615,
          "Year": "1982-01-01T00:00:00"
         },
         {
          "Acceleration": 18.3,
          "Cylinders": 4,
          "Displacement": 120,
          "Horsepower": 74,
          "Miles_per_Gallon": 31.6,
          "Name": "mazda 626",
          "Origin": "Japan",
          "Weight_in_lbs": 2635,
          "Year": "1982-01-01T00:00:00"
         },
         {
          "Acceleration": 20.4,
          "Cylinders": 4,
          "Displacement": 141,
          "Horsepower": 80,
          "Miles_per_Gallon": 28.1,
          "Name": "peugeot 505s turbo diesel",
          "Origin": "Europe",
          "Weight_in_lbs": 3230,
          "Year": "1982-01-01T00:00:00"
         },
         {
          "Acceleration": 15.4,
          "Cylinders": 4,
          "Displacement": 121,
          "Horsepower": 110,
          "Miles_per_Gallon": null,
          "Name": "saab 900s",
          "Origin": "Europe",
          "Weight_in_lbs": 2800,
          "Year": "1982-01-01T00:00:00"
         },
         {
          "Acceleration": 19.6,
          "Cylinders": 6,
          "Displacement": 145,
          "Horsepower": 76,
          "Miles_per_Gallon": 30.7,
          "Name": "volvo diesel",
          "Origin": "Europe",
          "Weight_in_lbs": 3160,
          "Year": "1982-01-01T00:00:00"
         },
         {
          "Acceleration": 12.6,
          "Cylinders": 6,
          "Displacement": 168,
          "Horsepower": 116,
          "Miles_per_Gallon": 25.4,
          "Name": "toyota cressida",
          "Origin": "Japan",
          "Weight_in_lbs": 2900,
          "Year": "1982-01-01T00:00:00"
         },
         {
          "Acceleration": 13.8,
          "Cylinders": 6,
          "Displacement": 146,
          "Horsepower": 120,
          "Miles_per_Gallon": 24.2,
          "Name": "datsun 810 maxima",
          "Origin": "Japan",
          "Weight_in_lbs": 2930,
          "Year": "1982-01-01T00:00:00"
         },
         {
          "Acceleration": 15.8,
          "Cylinders": 6,
          "Displacement": 231,
          "Horsepower": 110,
          "Miles_per_Gallon": 22.4,
          "Name": "buick century",
          "Origin": "USA",
          "Weight_in_lbs": 3415,
          "Year": "1982-01-01T00:00:00"
         },
         {
          "Acceleration": 19,
          "Cylinders": 8,
          "Displacement": 350,
          "Horsepower": 105,
          "Miles_per_Gallon": 26.6,
          "Name": "oldsmobile cutlass ls",
          "Origin": "USA",
          "Weight_in_lbs": 3725,
          "Year": "1982-01-01T00:00:00"
         },
         {
          "Acceleration": 17.1,
          "Cylinders": 6,
          "Displacement": 200,
          "Horsepower": 88,
          "Miles_per_Gallon": 20.2,
          "Name": "ford granada gl",
          "Origin": "USA",
          "Weight_in_lbs": 3060,
          "Year": "1982-01-01T00:00:00"
         },
         {
          "Acceleration": 16.6,
          "Cylinders": 6,
          "Displacement": 225,
          "Horsepower": 85,
          "Miles_per_Gallon": 17.6,
          "Name": "chrysler lebaron salon",
          "Origin": "USA",
          "Weight_in_lbs": 3465,
          "Year": "1982-01-01T00:00:00"
         },
         {
          "Acceleration": 19.6,
          "Cylinders": 4,
          "Displacement": 112,
          "Horsepower": 88,
          "Miles_per_Gallon": 28,
          "Name": "chevrolet cavalier",
          "Origin": "USA",
          "Weight_in_lbs": 2605,
          "Year": "1982-01-01T00:00:00"
         },
         {
          "Acceleration": 18.6,
          "Cylinders": 4,
          "Displacement": 112,
          "Horsepower": 88,
          "Miles_per_Gallon": 27,
          "Name": "chevrolet cavalier wagon",
          "Origin": "USA",
          "Weight_in_lbs": 2640,
          "Year": "1982-01-01T00:00:00"
         },
         {
          "Acceleration": 18,
          "Cylinders": 4,
          "Displacement": 112,
          "Horsepower": 88,
          "Miles_per_Gallon": 34,
          "Name": "chevrolet cavalier 2-door",
          "Origin": "USA",
          "Weight_in_lbs": 2395,
          "Year": "1982-01-01T00:00:00"
         },
         {
          "Acceleration": 16.2,
          "Cylinders": 4,
          "Displacement": 112,
          "Horsepower": 85,
          "Miles_per_Gallon": 31,
          "Name": "pontiac j2000 se hatchback",
          "Origin": "USA",
          "Weight_in_lbs": 2575,
          "Year": "1982-01-01T00:00:00"
         },
         {
          "Acceleration": 16,
          "Cylinders": 4,
          "Displacement": 135,
          "Horsepower": 84,
          "Miles_per_Gallon": 29,
          "Name": "dodge aries se",
          "Origin": "USA",
          "Weight_in_lbs": 2525,
          "Year": "1982-01-01T00:00:00"
         },
         {
          "Acceleration": 18,
          "Cylinders": 4,
          "Displacement": 151,
          "Horsepower": 90,
          "Miles_per_Gallon": 27,
          "Name": "pontiac phoenix",
          "Origin": "USA",
          "Weight_in_lbs": 2735,
          "Year": "1982-01-01T00:00:00"
         },
         {
          "Acceleration": 16.4,
          "Cylinders": 4,
          "Displacement": 140,
          "Horsepower": 92,
          "Miles_per_Gallon": 24,
          "Name": "ford fairmont futura",
          "Origin": "USA",
          "Weight_in_lbs": 2865,
          "Year": "1982-01-01T00:00:00"
         },
         {
          "Acceleration": 20.5,
          "Cylinders": 4,
          "Displacement": 151,
          "Horsepower": null,
          "Miles_per_Gallon": 23,
          "Name": "amc concord dl",
          "Origin": "USA",
          "Weight_in_lbs": 3035,
          "Year": "1982-01-01T00:00:00"
         },
         {
          "Acceleration": 15.3,
          "Cylinders": 4,
          "Displacement": 105,
          "Horsepower": 74,
          "Miles_per_Gallon": 36,
          "Name": "volkswagen rabbit l",
          "Origin": "Europe",
          "Weight_in_lbs": 1980,
          "Year": "1982-01-01T00:00:00"
         },
         {
          "Acceleration": 18.2,
          "Cylinders": 4,
          "Displacement": 91,
          "Horsepower": 68,
          "Miles_per_Gallon": 37,
          "Name": "mazda glc custom l",
          "Origin": "Japan",
          "Weight_in_lbs": 2025,
          "Year": "1982-01-01T00:00:00"
         },
         {
          "Acceleration": 17.6,
          "Cylinders": 4,
          "Displacement": 91,
          "Horsepower": 68,
          "Miles_per_Gallon": 31,
          "Name": "mazda glc custom",
          "Origin": "Japan",
          "Weight_in_lbs": 1970,
          "Year": "1982-01-01T00:00:00"
         },
         {
          "Acceleration": 14.7,
          "Cylinders": 4,
          "Displacement": 105,
          "Horsepower": 63,
          "Miles_per_Gallon": 38,
          "Name": "plymouth horizon miser",
          "Origin": "USA",
          "Weight_in_lbs": 2125,
          "Year": "1982-01-01T00:00:00"
         },
         {
          "Acceleration": 17.3,
          "Cylinders": 4,
          "Displacement": 98,
          "Horsepower": 70,
          "Miles_per_Gallon": 36,
          "Name": "mercury lynx l",
          "Origin": "USA",
          "Weight_in_lbs": 2125,
          "Year": "1982-01-01T00:00:00"
         },
         {
          "Acceleration": 14.5,
          "Cylinders": 4,
          "Displacement": 120,
          "Horsepower": 88,
          "Miles_per_Gallon": 36,
          "Name": "nissan stanza xe",
          "Origin": "Japan",
          "Weight_in_lbs": 2160,
          "Year": "1982-01-01T00:00:00"
         },
         {
          "Acceleration": 14.5,
          "Cylinders": 4,
          "Displacement": 107,
          "Horsepower": 75,
          "Miles_per_Gallon": 36,
          "Name": "honda Accelerationord",
          "Origin": "Japan",
          "Weight_in_lbs": 2205,
          "Year": "1982-01-01T00:00:00"
         },
         {
          "Acceleration": 16.9,
          "Cylinders": 4,
          "Displacement": 108,
          "Horsepower": 70,
          "Miles_per_Gallon": 34,
          "Name": "toyota corolla",
          "Origin": "Japan",
          "Weight_in_lbs": 2245,
          "Year": "1982-01-01T00:00:00"
         },
         {
          "Acceleration": 15,
          "Cylinders": 4,
          "Displacement": 91,
          "Horsepower": 67,
          "Miles_per_Gallon": 38,
          "Name": "honda civic",
          "Origin": "Japan",
          "Weight_in_lbs": 1965,
          "Year": "1982-01-01T00:00:00"
         },
         {
          "Acceleration": 15.7,
          "Cylinders": 4,
          "Displacement": 91,
          "Horsepower": 67,
          "Miles_per_Gallon": 32,
          "Name": "honda civic (auto)",
          "Origin": "Japan",
          "Weight_in_lbs": 1965,
          "Year": "1982-01-01T00:00:00"
         },
         {
          "Acceleration": 16.2,
          "Cylinders": 4,
          "Displacement": 91,
          "Horsepower": 67,
          "Miles_per_Gallon": 38,
          "Name": "datsun 310 gx",
          "Origin": "Japan",
          "Weight_in_lbs": 1995,
          "Year": "1982-01-01T00:00:00"
         },
         {
          "Acceleration": 16.4,
          "Cylinders": 6,
          "Displacement": 181,
          "Horsepower": 110,
          "Miles_per_Gallon": 25,
          "Name": "buick century limited",
          "Origin": "USA",
          "Weight_in_lbs": 2945,
          "Year": "1982-01-01T00:00:00"
         },
         {
          "Acceleration": 17,
          "Cylinders": 6,
          "Displacement": 262,
          "Horsepower": 85,
          "Miles_per_Gallon": 38,
          "Name": "oldsmobile cutlass ciera (diesel)",
          "Origin": "USA",
          "Weight_in_lbs": 3015,
          "Year": "1982-01-01T00:00:00"
         },
         {
          "Acceleration": 14.5,
          "Cylinders": 4,
          "Displacement": 156,
          "Horsepower": 92,
          "Miles_per_Gallon": 26,
          "Name": "chrysler lebaron medallion",
          "Origin": "USA",
          "Weight_in_lbs": 2585,
          "Year": "1982-01-01T00:00:00"
         },
         {
          "Acceleration": 14.7,
          "Cylinders": 6,
          "Displacement": 232,
          "Horsepower": 112,
          "Miles_per_Gallon": 22,
          "Name": "ford granada l",
          "Origin": "USA",
          "Weight_in_lbs": 2835,
          "Year": "1982-01-01T00:00:00"
         },
         {
          "Acceleration": 13.9,
          "Cylinders": 4,
          "Displacement": 144,
          "Horsepower": 96,
          "Miles_per_Gallon": 32,
          "Name": "toyota celica gt",
          "Origin": "Japan",
          "Weight_in_lbs": 2665,
          "Year": "1982-01-01T00:00:00"
         },
         {
          "Acceleration": 13,
          "Cylinders": 4,
          "Displacement": 135,
          "Horsepower": 84,
          "Miles_per_Gallon": 36,
          "Name": "dodge charger 2.2",
          "Origin": "USA",
          "Weight_in_lbs": 2370,
          "Year": "1982-01-01T00:00:00"
         },
         {
          "Acceleration": 17.3,
          "Cylinders": 4,
          "Displacement": 151,
          "Horsepower": 90,
          "Miles_per_Gallon": 27,
          "Name": "chevrolet camaro",
          "Origin": "USA",
          "Weight_in_lbs": 2950,
          "Year": "1982-01-01T00:00:00"
         },
         {
          "Acceleration": 15.6,
          "Cylinders": 4,
          "Displacement": 140,
          "Horsepower": 86,
          "Miles_per_Gallon": 27,
          "Name": "ford mustang gl",
          "Origin": "USA",
          "Weight_in_lbs": 2790,
          "Year": "1982-01-01T00:00:00"
         },
         {
          "Acceleration": 24.6,
          "Cylinders": 4,
          "Displacement": 97,
          "Horsepower": 52,
          "Miles_per_Gallon": 44,
          "Name": "vw pickup",
          "Origin": "Europe",
          "Weight_in_lbs": 2130,
          "Year": "1982-01-01T00:00:00"
         },
         {
          "Acceleration": 11.6,
          "Cylinders": 4,
          "Displacement": 135,
          "Horsepower": 84,
          "Miles_per_Gallon": 32,
          "Name": "dodge rampage",
          "Origin": "USA",
          "Weight_in_lbs": 2295,
          "Year": "1982-01-01T00:00:00"
         },
         {
          "Acceleration": 18.6,
          "Cylinders": 4,
          "Displacement": 120,
          "Horsepower": 79,
          "Miles_per_Gallon": 28,
          "Name": "ford ranger",
          "Origin": "USA",
          "Weight_in_lbs": 2625,
          "Year": "1982-01-01T00:00:00"
         },
         {
          "Acceleration": 19.4,
          "Cylinders": 4,
          "Displacement": 119,
          "Horsepower": 82,
          "Miles_per_Gallon": 31,
          "Name": "chevy s-10",
          "Origin": "USA",
          "Weight_in_lbs": 2720,
          "Year": "1982-01-01T00:00:00"
         }
        ]
       },
       "encoding": {
        "color": {
         "condition": {
          "field": "Cylinders",
          "param": "brush",
          "type": "ordinal"
         },
         "value": "grey"
        },
        "x": {
         "field": "Horsepower",
         "type": "quantitative"
        },
        "y": {
         "field": "Miles_per_Gallon",
         "type": "quantitative"
        }
       },
       "mark": {
        "type": "point"
       },
       "name": "sp",
       "params": [
        {
         "name": "brush",
         "select": {
          "type": "interval"
         }
        }
       ]
      },
      "text/plain": [
       "<VegaLite 5 object>\n",
       "\n",
       "If you see this message, it means the renderer has not been properly enabled\n",
       "for the frontend that you are using. For more information, see\n",
       "https://altair-viz.github.io/user_guide/display_frontends.html#troubleshooting\n"
      ]
     },
     "execution_count": 10,
     "metadata": {},
     "output_type": "execute_result"
    }
   ],
   "source": [
    "##### %%script echo skipping\n",
    "\n",
    "source = data.cars()\n",
    "brush = alt.selection_interval(name=\"brush\")\n",
    "\n",
    "alt.Chart(source, name=\"sp\").mark_point().encode(\n",
    "    x='Horsepower:Q',\n",
    "    y='Miles_per_Gallon:Q',\n",
    "    color=alt.condition(brush, 'Cylinders:O', alt.value('grey')),\n",
    ").add_params(brush)"
   ]
  },
  {
   "cell_type": "code",
   "execution_count": 11,
   "id": "237ba6dc-9464-4056-950f-d4e2864dddf1",
   "metadata": {
    "trrack_graph": {
     "current": "06c7825a-6f8b-46ef-b46f-edc57e2fe812",
     "nodes": {
      "06c7825a-6f8b-46ef-b46f-edc57e2fe812": {
       "artifacts": [],
       "children": [],
       "createdOn": 1691103200292,
       "event": "Root",
       "id": "06c7825a-6f8b-46ef-b46f-edc57e2fe812",
       "label": "Root",
       "level": 0,
       "meta": {
        "annotation": [],
        "bookmark": []
       },
       "state": {
        "type": "checkpoint",
        "val": {
         "id": "e78b4896-a9be-426f-8a1d-4382e8e9e269",
         "type": "create"
        }
       }
      }
     },
     "root": "06c7825a-6f8b-46ef-b46f-edc57e2fe812"
    }
   },
   "outputs": [
    {
     "data": {
      "text/html": [
       "<div>\n",
       "<style scoped>\n",
       "    .dataframe tbody tr th:only-of-type {\n",
       "        vertical-align: middle;\n",
       "    }\n",
       "\n",
       "    .dataframe tbody tr th {\n",
       "        vertical-align: top;\n",
       "    }\n",
       "\n",
       "    .dataframe thead th {\n",
       "        text-align: right;\n",
       "    }\n",
       "</style>\n",
       "<table border=\"1\" class=\"dataframe\">\n",
       "  <thead>\n",
       "    <tr style=\"text-align: right;\">\n",
       "      <th></th>\n",
       "      <th>Acceleration</th>\n",
       "      <th>Cylinders</th>\n",
       "      <th>Displacement</th>\n",
       "      <th>Horsepower</th>\n",
       "      <th>Miles_per_Gallon</th>\n",
       "      <th>Name</th>\n",
       "      <th>Origin</th>\n",
       "      <th>Weight_in_lbs</th>\n",
       "      <th>Year</th>\n",
       "      <th>Coolness</th>\n",
       "      <th>TestCategory</th>\n",
       "    </tr>\n",
       "  </thead>\n",
       "  <tbody>\n",
       "    <tr>\n",
       "      <th>0</th>\n",
       "      <td>12.0</td>\n",
       "      <td>8</td>\n",
       "      <td>307.0</td>\n",
       "      <td>130.0</td>\n",
       "      <td>18.0</td>\n",
       "      <td>chevrolet chevelle malibu</td>\n",
       "      <td>USA</td>\n",
       "      <td>3504</td>\n",
       "      <td>1970-01-01T00:00:00</td>\n",
       "      <td>None</td>\n",
       "      <td>A</td>\n",
       "    </tr>\n",
       "    <tr>\n",
       "      <th>1</th>\n",
       "      <td>11.5</td>\n",
       "      <td>8</td>\n",
       "      <td>350.0</td>\n",
       "      <td>165.0</td>\n",
       "      <td>15.0</td>\n",
       "      <td>buick skylark 320</td>\n",
       "      <td>USA</td>\n",
       "      <td>3693</td>\n",
       "      <td>1970-01-01T00:00:00</td>\n",
       "      <td>None</td>\n",
       "      <td>A</td>\n",
       "    </tr>\n",
       "    <tr>\n",
       "      <th>2</th>\n",
       "      <td>11.0</td>\n",
       "      <td>8</td>\n",
       "      <td>318.0</td>\n",
       "      <td>150.0</td>\n",
       "      <td>18.0</td>\n",
       "      <td>plymouth satellite</td>\n",
       "      <td>USA</td>\n",
       "      <td>3436</td>\n",
       "      <td>1970-01-01T00:00:00</td>\n",
       "      <td>None</td>\n",
       "      <td>A</td>\n",
       "    </tr>\n",
       "    <tr>\n",
       "      <th>3</th>\n",
       "      <td>12.0</td>\n",
       "      <td>8</td>\n",
       "      <td>304.0</td>\n",
       "      <td>150.0</td>\n",
       "      <td>16.0</td>\n",
       "      <td>amc rebel sst</td>\n",
       "      <td>USA</td>\n",
       "      <td>3433</td>\n",
       "      <td>1970-01-01T00:00:00</td>\n",
       "      <td>None</td>\n",
       "      <td>A</td>\n",
       "    </tr>\n",
       "    <tr>\n",
       "      <th>4</th>\n",
       "      <td>10.5</td>\n",
       "      <td>8</td>\n",
       "      <td>302.0</td>\n",
       "      <td>140.0</td>\n",
       "      <td>17.0</td>\n",
       "      <td>ford torino</td>\n",
       "      <td>USA</td>\n",
       "      <td>3449</td>\n",
       "      <td>1970-01-01T00:00:00</td>\n",
       "      <td>None</td>\n",
       "      <td>A</td>\n",
       "    </tr>\n",
       "    <tr>\n",
       "      <th>...</th>\n",
       "      <td>...</td>\n",
       "      <td>...</td>\n",
       "      <td>...</td>\n",
       "      <td>...</td>\n",
       "      <td>...</td>\n",
       "      <td>...</td>\n",
       "      <td>...</td>\n",
       "      <td>...</td>\n",
       "      <td>...</td>\n",
       "      <td>...</td>\n",
       "      <td>...</td>\n",
       "    </tr>\n",
       "    <tr>\n",
       "      <th>401</th>\n",
       "      <td>15.6</td>\n",
       "      <td>4</td>\n",
       "      <td>140.0</td>\n",
       "      <td>86.0</td>\n",
       "      <td>27.0</td>\n",
       "      <td>ford mustang gl</td>\n",
       "      <td>USA</td>\n",
       "      <td>2790</td>\n",
       "      <td>1982-01-01T00:00:00</td>\n",
       "      <td>Uncool</td>\n",
       "      <td>None</td>\n",
       "    </tr>\n",
       "    <tr>\n",
       "      <th>402</th>\n",
       "      <td>24.6</td>\n",
       "      <td>4</td>\n",
       "      <td>97.0</td>\n",
       "      <td>52.0</td>\n",
       "      <td>44.0</td>\n",
       "      <td>vw pickup</td>\n",
       "      <td>Europe</td>\n",
       "      <td>2130</td>\n",
       "      <td>1982-01-01T00:00:00</td>\n",
       "      <td>None</td>\n",
       "      <td>None</td>\n",
       "    </tr>\n",
       "    <tr>\n",
       "      <th>403</th>\n",
       "      <td>11.6</td>\n",
       "      <td>4</td>\n",
       "      <td>135.0</td>\n",
       "      <td>84.0</td>\n",
       "      <td>32.0</td>\n",
       "      <td>dodge rampage</td>\n",
       "      <td>USA</td>\n",
       "      <td>2295</td>\n",
       "      <td>1982-01-01T00:00:00</td>\n",
       "      <td>Uncool</td>\n",
       "      <td>None</td>\n",
       "    </tr>\n",
       "    <tr>\n",
       "      <th>404</th>\n",
       "      <td>18.6</td>\n",
       "      <td>4</td>\n",
       "      <td>120.0</td>\n",
       "      <td>79.0</td>\n",
       "      <td>28.0</td>\n",
       "      <td>ford ranger</td>\n",
       "      <td>USA</td>\n",
       "      <td>2625</td>\n",
       "      <td>1982-01-01T00:00:00</td>\n",
       "      <td>Uncool</td>\n",
       "      <td>None</td>\n",
       "    </tr>\n",
       "    <tr>\n",
       "      <th>405</th>\n",
       "      <td>19.4</td>\n",
       "      <td>4</td>\n",
       "      <td>119.0</td>\n",
       "      <td>82.0</td>\n",
       "      <td>31.0</td>\n",
       "      <td>chevy s-10</td>\n",
       "      <td>USA</td>\n",
       "      <td>2720</td>\n",
       "      <td>1982-01-01T00:00:00</td>\n",
       "      <td>Uncool</td>\n",
       "      <td>None</td>\n",
       "    </tr>\n",
       "  </tbody>\n",
       "</table>\n",
       "<p>406 rows × 11 columns</p>\n",
       "</div>"
      ],
      "text/plain": [
       "     Acceleration  Cylinders  Displacement  Horsepower  Miles_per_Gallon  \\\n",
       "0            12.0          8         307.0       130.0              18.0   \n",
       "1            11.5          8         350.0       165.0              15.0   \n",
       "2            11.0          8         318.0       150.0              18.0   \n",
       "3            12.0          8         304.0       150.0              16.0   \n",
       "4            10.5          8         302.0       140.0              17.0   \n",
       "..            ...        ...           ...         ...               ...   \n",
       "401          15.6          4         140.0        86.0              27.0   \n",
       "402          24.6          4          97.0        52.0              44.0   \n",
       "403          11.6          4         135.0        84.0              32.0   \n",
       "404          18.6          4         120.0        79.0              28.0   \n",
       "405          19.4          4         119.0        82.0              31.0   \n",
       "\n",
       "                          Name  Origin  Weight_in_lbs                 Year  \\\n",
       "0    chevrolet chevelle malibu     USA           3504  1970-01-01T00:00:00   \n",
       "1            buick skylark 320     USA           3693  1970-01-01T00:00:00   \n",
       "2           plymouth satellite     USA           3436  1970-01-01T00:00:00   \n",
       "3                amc rebel sst     USA           3433  1970-01-01T00:00:00   \n",
       "4                  ford torino     USA           3449  1970-01-01T00:00:00   \n",
       "..                         ...     ...            ...                  ...   \n",
       "401            ford mustang gl     USA           2790  1982-01-01T00:00:00   \n",
       "402                  vw pickup  Europe           2130  1982-01-01T00:00:00   \n",
       "403              dodge rampage     USA           2295  1982-01-01T00:00:00   \n",
       "404                ford ranger     USA           2625  1982-01-01T00:00:00   \n",
       "405                 chevy s-10     USA           2720  1982-01-01T00:00:00   \n",
       "\n",
       "    Coolness TestCategory  \n",
       "0       None            A  \n",
       "1       None            A  \n",
       "2       None            A  \n",
       "3       None            A  \n",
       "4       None            A  \n",
       "..       ...          ...  \n",
       "401   Uncool         None  \n",
       "402     None         None  \n",
       "403   Uncool         None  \n",
       "404   Uncool         None  \n",
       "405   Uncool         None  \n",
       "\n",
       "[406 rows x 11 columns]"
      ]
     },
     "execution_count": 11,
     "metadata": {},
     "output_type": "execute_result"
    }
   ],
   "source": [
    "Test"
   ]
  },
  {
   "cell_type": "code",
   "execution_count": 8,
   "id": "554c0bba-31b0-4b94-a559-0afe3e70a001",
   "metadata": {
    "trrack_graph": {
     "current": "49e5b0fc-368e-4651-bc59-e5042616b7f4",
     "nodes": {
      "49e5b0fc-368e-4651-bc59-e5042616b7f4": {
       "artifacts": [],
       "children": [],
       "createdOn": 1691103204137,
       "event": "Root",
       "id": "49e5b0fc-368e-4651-bc59-e5042616b7f4",
       "label": "Root",
       "level": 0,
       "meta": {
        "annotation": [],
        "bookmark": []
       },
       "state": {
        "type": "checkpoint",
        "val": {
         "id": "f83ab269-e52d-40e4-a461-0eb1994493c3",
         "type": "create"
        }
       }
      }
     },
     "root": "49e5b0fc-368e-4651-bc59-e5042616b7f4"
    }
   },
   "outputs": [
    {
     "data": {
      "text/html": [
       "<div>\n",
       "<style scoped>\n",
       "    .dataframe tbody tr th:only-of-type {\n",
       "        vertical-align: middle;\n",
       "    }\n",
       "\n",
       "    .dataframe tbody tr th {\n",
       "        vertical-align: top;\n",
       "    }\n",
       "\n",
       "    .dataframe thead tr th {\n",
       "        text-align: left;\n",
       "    }\n",
       "\n",
       "    .dataframe thead tr:last-of-type th {\n",
       "        text-align: right;\n",
       "    }\n",
       "</style>\n",
       "<table border=\"1\" class=\"dataframe\">\n",
       "  <thead>\n",
       "    <tr>\n",
       "      <th></th>\n",
       "      <th colspan=\"8\" halign=\"left\">Acceleration</th>\n",
       "      <th colspan=\"2\" halign=\"left\">Cylinders</th>\n",
       "      <th>...</th>\n",
       "      <th colspan=\"2\" halign=\"left\">Miles_per_Gallon</th>\n",
       "      <th colspan=\"8\" halign=\"left\">Weight_in_lbs</th>\n",
       "    </tr>\n",
       "    <tr>\n",
       "      <th></th>\n",
       "      <th>count</th>\n",
       "      <th>mean</th>\n",
       "      <th>std</th>\n",
       "      <th>min</th>\n",
       "      <th>25%</th>\n",
       "      <th>50%</th>\n",
       "      <th>75%</th>\n",
       "      <th>max</th>\n",
       "      <th>count</th>\n",
       "      <th>mean</th>\n",
       "      <th>...</th>\n",
       "      <th>75%</th>\n",
       "      <th>max</th>\n",
       "      <th>count</th>\n",
       "      <th>mean</th>\n",
       "      <th>std</th>\n",
       "      <th>min</th>\n",
       "      <th>25%</th>\n",
       "      <th>50%</th>\n",
       "      <th>75%</th>\n",
       "      <th>max</th>\n",
       "    </tr>\n",
       "    <tr>\n",
       "      <th>Coolness</th>\n",
       "      <th></th>\n",
       "      <th></th>\n",
       "      <th></th>\n",
       "      <th></th>\n",
       "      <th></th>\n",
       "      <th></th>\n",
       "      <th></th>\n",
       "      <th></th>\n",
       "      <th></th>\n",
       "      <th></th>\n",
       "      <th></th>\n",
       "      <th></th>\n",
       "      <th></th>\n",
       "      <th></th>\n",
       "      <th></th>\n",
       "      <th></th>\n",
       "      <th></th>\n",
       "      <th></th>\n",
       "      <th></th>\n",
       "      <th></th>\n",
       "      <th></th>\n",
       "    </tr>\n",
       "  </thead>\n",
       "  <tbody>\n",
       "    <tr>\n",
       "      <th>None</th>\n",
       "      <td>210.0</td>\n",
       "      <td>14.696667</td>\n",
       "      <td>2.956841</td>\n",
       "      <td>8.0</td>\n",
       "      <td>12.8</td>\n",
       "      <td>14.5</td>\n",
       "      <td>16.50</td>\n",
       "      <td>24.6</td>\n",
       "      <td>210.0</td>\n",
       "      <td>6.676190</td>\n",
       "      <td>...</td>\n",
       "      <td>19.975</td>\n",
       "      <td>46.6</td>\n",
       "      <td>210.0</td>\n",
       "      <td>3568.080952</td>\n",
       "      <td>718.479367</td>\n",
       "      <td>1850.0</td>\n",
       "      <td>3074.0</td>\n",
       "      <td>3566.5</td>\n",
       "      <td>4140.75</td>\n",
       "      <td>5140.0</td>\n",
       "    </tr>\n",
       "    <tr>\n",
       "      <th>Uncool</th>\n",
       "      <td>185.0</td>\n",
       "      <td>16.377838</td>\n",
       "      <td>2.369598</td>\n",
       "      <td>11.3</td>\n",
       "      <td>14.5</td>\n",
       "      <td>16.0</td>\n",
       "      <td>17.60</td>\n",
       "      <td>24.8</td>\n",
       "      <td>185.0</td>\n",
       "      <td>4.189189</td>\n",
       "      <td>...</td>\n",
       "      <td>32.000</td>\n",
       "      <td>37.7</td>\n",
       "      <td>185.0</td>\n",
       "      <td>2364.800000</td>\n",
       "      <td>403.439894</td>\n",
       "      <td>1613.0</td>\n",
       "      <td>2065.0</td>\n",
       "      <td>2265.0</td>\n",
       "      <td>2635.00</td>\n",
       "      <td>3900.0</td>\n",
       "    </tr>\n",
       "    <tr>\n",
       "      <th>Very Cool</th>\n",
       "      <td>11.0</td>\n",
       "      <td>16.800000</td>\n",
       "      <td>1.608726</td>\n",
       "      <td>14.7</td>\n",
       "      <td>15.6</td>\n",
       "      <td>16.9</td>\n",
       "      <td>17.95</td>\n",
       "      <td>19.2</td>\n",
       "      <td>11.0</td>\n",
       "      <td>4.181818</td>\n",
       "      <td>...</td>\n",
       "      <td>40.100</td>\n",
       "      <td>41.5</td>\n",
       "      <td>11.0</td>\n",
       "      <td>2077.909091</td>\n",
       "      <td>334.957745</td>\n",
       "      <td>1755.0</td>\n",
       "      <td>1920.0</td>\n",
       "      <td>1995.0</td>\n",
       "      <td>2117.50</td>\n",
       "      <td>3015.0</td>\n",
       "    </tr>\n",
       "  </tbody>\n",
       "</table>\n",
       "<p>3 rows × 48 columns</p>\n",
       "</div>"
      ],
      "text/plain": [
       "          Acceleration                                                      \\\n",
       "                 count       mean       std   min   25%   50%    75%   max   \n",
       "Coolness                                                                     \n",
       "None             210.0  14.696667  2.956841   8.0  12.8  14.5  16.50  24.6   \n",
       "Uncool           185.0  16.377838  2.369598  11.3  14.5  16.0  17.60  24.8   \n",
       "Very Cool         11.0  16.800000  1.608726  14.7  15.6  16.9  17.95  19.2   \n",
       "\n",
       "          Cylinders            ... Miles_per_Gallon       Weight_in_lbs  \\\n",
       "              count      mean  ...              75%   max         count   \n",
       "Coolness                       ...                                        \n",
       "None          210.0  6.676190  ...           19.975  46.6         210.0   \n",
       "Uncool        185.0  4.189189  ...           32.000  37.7         185.0   \n",
       "Very Cool      11.0  4.181818  ...           40.100  41.5          11.0   \n",
       "\n",
       "                                                                             \n",
       "                  mean         std     min     25%     50%      75%     max  \n",
       "Coolness                                                                     \n",
       "None       3568.080952  718.479367  1850.0  3074.0  3566.5  4140.75  5140.0  \n",
       "Uncool     2364.800000  403.439894  1613.0  2065.0  2265.0  2635.00  3900.0  \n",
       "Very Cool  2077.909091  334.957745  1755.0  1920.0  1995.0  2117.50  3015.0  \n",
       "\n",
       "[3 rows x 48 columns]"
      ]
     },
     "execution_count": 8,
     "metadata": {},
     "output_type": "execute_result"
    }
   ],
   "source": [
    "df_3cae2.groupby('Coolness').describe()"
   ]
  },
  {
   "cell_type": "code",
   "execution_count": 9,
   "id": "ec415d34-da5f-48e6-a35a-8fd6c79f86bd",
   "metadata": {
    "trrack_graph": {
     "current": "67725c7d-cc8d-458a-a542-22813dbebefe",
     "nodes": {
      "67725c7d-cc8d-458a-a542-22813dbebefe": {
       "artifacts": [],
       "children": [],
       "createdOn": 1691103264317,
       "event": "Root",
       "id": "67725c7d-cc8d-458a-a542-22813dbebefe",
       "label": "Root",
       "level": 0,
       "meta": {
        "annotation": [],
        "bookmark": []
       },
       "state": {
        "type": "checkpoint",
        "val": {
         "id": "b262828d-a928-41cf-9b3a-5071aad3d70a",
         "type": "create"
        }
       }
      }
     },
     "root": "67725c7d-cc8d-458a-a542-22813dbebefe"
    }
   },
   "outputs": [
    {
     "data": {
      "text/html": [
       "<div>\n",
       "<style scoped>\n",
       "    .dataframe tbody tr th:only-of-type {\n",
       "        vertical-align: middle;\n",
       "    }\n",
       "\n",
       "    .dataframe tbody tr th {\n",
       "        vertical-align: top;\n",
       "    }\n",
       "\n",
       "    .dataframe thead tr th {\n",
       "        text-align: left;\n",
       "    }\n",
       "\n",
       "    .dataframe thead tr:last-of-type th {\n",
       "        text-align: right;\n",
       "    }\n",
       "</style>\n",
       "<table border=\"1\" class=\"dataframe\">\n",
       "  <thead>\n",
       "    <tr>\n",
       "      <th></th>\n",
       "      <th colspan=\"8\" halign=\"left\">Acceleration</th>\n",
       "      <th colspan=\"2\" halign=\"left\">Cylinders</th>\n",
       "      <th>...</th>\n",
       "      <th colspan=\"2\" halign=\"left\">Miles_per_Gallon</th>\n",
       "      <th colspan=\"8\" halign=\"left\">Weight_in_lbs</th>\n",
       "    </tr>\n",
       "    <tr>\n",
       "      <th></th>\n",
       "      <th>count</th>\n",
       "      <th>mean</th>\n",
       "      <th>std</th>\n",
       "      <th>min</th>\n",
       "      <th>25%</th>\n",
       "      <th>50%</th>\n",
       "      <th>75%</th>\n",
       "      <th>max</th>\n",
       "      <th>count</th>\n",
       "      <th>mean</th>\n",
       "      <th>...</th>\n",
       "      <th>75%</th>\n",
       "      <th>max</th>\n",
       "      <th>count</th>\n",
       "      <th>mean</th>\n",
       "      <th>std</th>\n",
       "      <th>min</th>\n",
       "      <th>25%</th>\n",
       "      <th>50%</th>\n",
       "      <th>75%</th>\n",
       "      <th>max</th>\n",
       "    </tr>\n",
       "    <tr>\n",
       "      <th>TestCategory</th>\n",
       "      <th></th>\n",
       "      <th></th>\n",
       "      <th></th>\n",
       "      <th></th>\n",
       "      <th></th>\n",
       "      <th></th>\n",
       "      <th></th>\n",
       "      <th></th>\n",
       "      <th></th>\n",
       "      <th></th>\n",
       "      <th></th>\n",
       "      <th></th>\n",
       "      <th></th>\n",
       "      <th></th>\n",
       "      <th></th>\n",
       "      <th></th>\n",
       "      <th></th>\n",
       "      <th></th>\n",
       "      <th></th>\n",
       "      <th></th>\n",
       "      <th></th>\n",
       "    </tr>\n",
       "  </thead>\n",
       "  <tbody>\n",
       "    <tr>\n",
       "      <th>A</th>\n",
       "      <td>173.0</td>\n",
       "      <td>14.520809</td>\n",
       "      <td>2.754959</td>\n",
       "      <td>8.0</td>\n",
       "      <td>12.5</td>\n",
       "      <td>14.5</td>\n",
       "      <td>16.4</td>\n",
       "      <td>21.9</td>\n",
       "      <td>173.0</td>\n",
       "      <td>6.895954</td>\n",
       "      <td>...</td>\n",
       "      <td>19.0</td>\n",
       "      <td>21.1</td>\n",
       "      <td>173.0</td>\n",
       "      <td>3656.751445</td>\n",
       "      <td>644.935666</td>\n",
       "      <td>2124.0</td>\n",
       "      <td>3205.0</td>\n",
       "      <td>3632.0</td>\n",
       "      <td>4154.0</td>\n",
       "      <td>5140.0</td>\n",
       "    </tr>\n",
       "    <tr>\n",
       "      <th>None</th>\n",
       "      <td>233.0</td>\n",
       "      <td>16.261373</td>\n",
       "      <td>2.606848</td>\n",
       "      <td>8.0</td>\n",
       "      <td>14.5</td>\n",
       "      <td>16.0</td>\n",
       "      <td>17.6</td>\n",
       "      <td>24.8</td>\n",
       "      <td>233.0</td>\n",
       "      <td>4.420601</td>\n",
       "      <td>...</td>\n",
       "      <td>32.7</td>\n",
       "      <td>46.6</td>\n",
       "      <td>233.0</td>\n",
       "      <td>2476.497854</td>\n",
       "      <td>589.820853</td>\n",
       "      <td>1613.0</td>\n",
       "      <td>2074.0</td>\n",
       "      <td>2300.0</td>\n",
       "      <td>2720.0</td>\n",
       "      <td>4997.0</td>\n",
       "    </tr>\n",
       "  </tbody>\n",
       "</table>\n",
       "<p>2 rows × 48 columns</p>\n",
       "</div>"
      ],
      "text/plain": [
       "             Acceleration                                                    \\\n",
       "                    count       mean       std  min   25%   50%   75%   max   \n",
       "TestCategory                                                                  \n",
       "A                   173.0  14.520809  2.754959  8.0  12.5  14.5  16.4  21.9   \n",
       "None                233.0  16.261373  2.606848  8.0  14.5  16.0  17.6  24.8   \n",
       "\n",
       "             Cylinders            ... Miles_per_Gallon       Weight_in_lbs  \\\n",
       "                 count      mean  ...              75%   max         count   \n",
       "TestCategory                      ...                                        \n",
       "A                173.0  6.895954  ...             19.0  21.1         173.0   \n",
       "None             233.0  4.420601  ...             32.7  46.6         233.0   \n",
       "\n",
       "                                                                               \n",
       "                     mean         std     min     25%     50%     75%     max  \n",
       "TestCategory                                                                   \n",
       "A             3656.751445  644.935666  2124.0  3205.0  3632.0  4154.0  5140.0  \n",
       "None          2476.497854  589.820853  1613.0  2074.0  2300.0  2720.0  4997.0  \n",
       "\n",
       "[2 rows x 48 columns]"
      ]
     },
     "execution_count": 9,
     "metadata": {},
     "output_type": "execute_result"
    }
   ],
   "source": [
    "df_3cae2.groupby('TestCategory').describe()"
   ]
  },
  {
   "cell_type": "code",
   "execution_count": null,
   "id": "30bb797c-343d-4075-bac1-d60569e7aff5",
   "metadata": {
    "trrack_graph": {
     "current": "d3a9181e-02d0-4f8b-a24d-4b7721af5a6e",
     "nodes": {
      "d3a9181e-02d0-4f8b-a24d-4b7721af5a6e": {
       "artifacts": [],
       "children": [],
       "createdOn": 1691103297583,
       "event": "Root",
       "id": "d3a9181e-02d0-4f8b-a24d-4b7721af5a6e",
       "label": "Root",
       "level": 0,
       "meta": {
        "annotation": [],
        "bookmark": []
       },
       "state": {
        "type": "checkpoint",
        "val": {
         "id": "8bc9b74e-2358-46cb-97e9-5449aa149f5c",
         "type": "create"
        }
       }
      }
     },
     "root": "d3a9181e-02d0-4f8b-a24d-4b7721af5a6e"
    }
   },
   "outputs": [],
   "source": []
  }
 ],
 "metadata": {
  "NB_UUID": "10ce59cf-4944-43d8-afc1-03dbc02403b3",
  "__ACTIVE_CATEGORY__": "TestCategory",
  "__CATEGORIES__": {
   "Coolness": {
    "name": "Coolness",
    "options": {
     "Uncool": {
      "name": "Uncool"
     },
     "Very Cool": {
      "name": "Very Cool"
     },
     "_None": {
      "name": "None"
     }
    }
   },
   "TestCategory": {
    "name": "TestCategory",
    "options": {
     "A": {
      "name": "A"
     },
     "B": {
      "name": "B"
     },
     "_None": {
      "name": "None"
     }
    }
   }
  },
  "kernelspec": {
   "display_name": "Python 3 (ipykernel)",
   "language": "python",
   "name": "python3"
  },
  "language_info": {
   "codemirror_mode": {
    "name": "ipython",
    "version": 3
   },
   "file_extension": ".py",
   "mimetype": "text/x-python",
   "name": "python",
   "nbconvert_exporter": "python",
   "pygments_lexer": "ipython3",
   "version": "3.8.16"
  }
 },
 "nbformat": 4,
 "nbformat_minor": 5
}
