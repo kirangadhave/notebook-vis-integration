{
 "cells": [
  {
   "cell_type": "code",
   "execution_count": 1,
   "id": "d800660a-06e3-4ea8-800e-1cc9c1d06c01",
   "metadata": {
    "tags": [],
    "trrack_graph": {
     "current": "4f7f3ab6-e47c-4569-bba8-f4e968825a69",
     "nodes": {
      "4f7f3ab6-e47c-4569-bba8-f4e968825a69": {
       "artifacts": [],
       "children": [],
       "createdOn": 1681857647923,
       "event": "Root",
       "id": "4f7f3ab6-e47c-4569-bba8-f4e968825a69",
       "label": "Root",
       "level": 0,
       "meta": {
        "annotation": [],
        "bookmark": []
       },
       "state": {
        "type": "checkpoint",
        "val": {
         "interactions": []
        }
       }
      }
     },
     "root": "4f7f3ab6-e47c-4569-bba8-f4e968825a69"
    }
   },
   "outputs": [
    {
     "name": "stdout",
     "output_type": "stream",
     "text": [
      "Loaded InteractiveDE extension version 1.0.1a0\n",
      "Extension enabled for altair\n"
     ]
    }
   ],
   "source": [
    "import altair as alt\n",
    "import pandas as pd\n",
    "\n",
    "import interactivede.ide as IDE # Our library\n",
    "\n",
    "IDE.enable('altair') # Call this to enable integration with altair"
   ]
  },
  {
   "cell_type": "code",
   "execution_count": 2,
   "id": "71cf56e8-5ac0-40b4-be11-8529784a5007",
   "metadata": {
    "tags": [],
    "trrack_graph": {
     "current": "4e6f79c7-6334-492e-ab7a-8982fd3f0597",
     "nodes": {
      "4e6f79c7-6334-492e-ab7a-8982fd3f0597": {
       "artifacts": [],
       "children": [],
       "createdOn": 1681857747818,
       "event": "Root",
       "id": "4e6f79c7-6334-492e-ab7a-8982fd3f0597",
       "label": "Root",
       "level": 0,
       "meta": {
        "annotation": [],
        "bookmark": []
       },
       "state": {
        "type": "checkpoint",
        "val": {
         "interactions": []
        }
       }
      }
     },
     "root": "4e6f79c7-6334-492e-ab7a-8982fd3f0597"
    }
   },
   "outputs": [
    {
     "data": {
      "text/html": [
       "<div>\n",
       "<style scoped>\n",
       "    .dataframe tbody tr th:only-of-type {\n",
       "        vertical-align: middle;\n",
       "    }\n",
       "\n",
       "    .dataframe tbody tr th {\n",
       "        vertical-align: top;\n",
       "    }\n",
       "\n",
       "    .dataframe thead th {\n",
       "        text-align: right;\n",
       "    }\n",
       "</style>\n",
       "<table border=\"1\" class=\"dataframe\">\n",
       "  <thead>\n",
       "    <tr style=\"text-align: right;\">\n",
       "      <th></th>\n",
       "      <th>Species</th>\n",
       "      <th>Island</th>\n",
       "      <th>Beak Length (mm)</th>\n",
       "      <th>Beak Depth (mm)</th>\n",
       "      <th>Flipper Length (mm)</th>\n",
       "      <th>Body Mass (g)</th>\n",
       "      <th>Sex</th>\n",
       "    </tr>\n",
       "  </thead>\n",
       "  <tbody>\n",
       "    <tr>\n",
       "      <th>0</th>\n",
       "      <td>Adelie</td>\n",
       "      <td>Torgersen</td>\n",
       "      <td>39.1</td>\n",
       "      <td>18.7</td>\n",
       "      <td>181.0</td>\n",
       "      <td>3750.0</td>\n",
       "      <td>MALE</td>\n",
       "    </tr>\n",
       "    <tr>\n",
       "      <th>1</th>\n",
       "      <td>Adelie</td>\n",
       "      <td>Torgersen</td>\n",
       "      <td>39.5</td>\n",
       "      <td>17.4</td>\n",
       "      <td>186.0</td>\n",
       "      <td>3800.0</td>\n",
       "      <td>FEMALE</td>\n",
       "    </tr>\n",
       "    <tr>\n",
       "      <th>2</th>\n",
       "      <td>Adelie</td>\n",
       "      <td>Torgersen</td>\n",
       "      <td>40.3</td>\n",
       "      <td>18.0</td>\n",
       "      <td>195.0</td>\n",
       "      <td>3250.0</td>\n",
       "      <td>FEMALE</td>\n",
       "    </tr>\n",
       "    <tr>\n",
       "      <th>3</th>\n",
       "      <td>Adelie</td>\n",
       "      <td>Torgersen</td>\n",
       "      <td>NaN</td>\n",
       "      <td>NaN</td>\n",
       "      <td>NaN</td>\n",
       "      <td>NaN</td>\n",
       "      <td>None</td>\n",
       "    </tr>\n",
       "    <tr>\n",
       "      <th>4</th>\n",
       "      <td>Adelie</td>\n",
       "      <td>Torgersen</td>\n",
       "      <td>36.7</td>\n",
       "      <td>19.3</td>\n",
       "      <td>193.0</td>\n",
       "      <td>3450.0</td>\n",
       "      <td>FEMALE</td>\n",
       "    </tr>\n",
       "    <tr>\n",
       "      <th>...</th>\n",
       "      <td>...</td>\n",
       "      <td>...</td>\n",
       "      <td>...</td>\n",
       "      <td>...</td>\n",
       "      <td>...</td>\n",
       "      <td>...</td>\n",
       "      <td>...</td>\n",
       "    </tr>\n",
       "    <tr>\n",
       "      <th>339</th>\n",
       "      <td>Gentoo</td>\n",
       "      <td>Biscoe</td>\n",
       "      <td>NaN</td>\n",
       "      <td>NaN</td>\n",
       "      <td>NaN</td>\n",
       "      <td>NaN</td>\n",
       "      <td>None</td>\n",
       "    </tr>\n",
       "    <tr>\n",
       "      <th>340</th>\n",
       "      <td>Gentoo</td>\n",
       "      <td>Biscoe</td>\n",
       "      <td>46.8</td>\n",
       "      <td>14.3</td>\n",
       "      <td>215.0</td>\n",
       "      <td>4850.0</td>\n",
       "      <td>FEMALE</td>\n",
       "    </tr>\n",
       "    <tr>\n",
       "      <th>341</th>\n",
       "      <td>Gentoo</td>\n",
       "      <td>Biscoe</td>\n",
       "      <td>50.4</td>\n",
       "      <td>15.7</td>\n",
       "      <td>222.0</td>\n",
       "      <td>5750.0</td>\n",
       "      <td>MALE</td>\n",
       "    </tr>\n",
       "    <tr>\n",
       "      <th>342</th>\n",
       "      <td>Gentoo</td>\n",
       "      <td>Biscoe</td>\n",
       "      <td>45.2</td>\n",
       "      <td>14.8</td>\n",
       "      <td>212.0</td>\n",
       "      <td>5200.0</td>\n",
       "      <td>FEMALE</td>\n",
       "    </tr>\n",
       "    <tr>\n",
       "      <th>343</th>\n",
       "      <td>Gentoo</td>\n",
       "      <td>Biscoe</td>\n",
       "      <td>49.9</td>\n",
       "      <td>16.1</td>\n",
       "      <td>213.0</td>\n",
       "      <td>5400.0</td>\n",
       "      <td>MALE</td>\n",
       "    </tr>\n",
       "  </tbody>\n",
       "</table>\n",
       "<p>344 rows × 7 columns</p>\n",
       "</div>"
      ],
      "text/plain": [
       "    Species     Island  Beak Length (mm)  Beak Depth (mm)  \\\n",
       "0    Adelie  Torgersen              39.1             18.7   \n",
       "1    Adelie  Torgersen              39.5             17.4   \n",
       "2    Adelie  Torgersen              40.3             18.0   \n",
       "3    Adelie  Torgersen               NaN              NaN   \n",
       "4    Adelie  Torgersen              36.7             19.3   \n",
       "..      ...        ...               ...              ...   \n",
       "339  Gentoo     Biscoe               NaN              NaN   \n",
       "340  Gentoo     Biscoe              46.8             14.3   \n",
       "341  Gentoo     Biscoe              50.4             15.7   \n",
       "342  Gentoo     Biscoe              45.2             14.8   \n",
       "343  Gentoo     Biscoe              49.9             16.1   \n",
       "\n",
       "     Flipper Length (mm)  Body Mass (g)     Sex  \n",
       "0                  181.0         3750.0    MALE  \n",
       "1                  186.0         3800.0  FEMALE  \n",
       "2                  195.0         3250.0  FEMALE  \n",
       "3                    NaN            NaN    None  \n",
       "4                  193.0         3450.0  FEMALE  \n",
       "..                   ...            ...     ...  \n",
       "339                  NaN            NaN    None  \n",
       "340                215.0         4850.0  FEMALE  \n",
       "341                222.0         5750.0    MALE  \n",
       "342                212.0         5200.0  FEMALE  \n",
       "343                213.0         5400.0    MALE  \n",
       "\n",
       "[344 rows x 7 columns]"
      ]
     },
     "execution_count": 2,
     "metadata": {
      "cellId": "71cf56e8-5ac0-40b4-be11-8529784a5007"
     },
     "output_type": "execute_result"
    }
   ],
   "source": [
    "penguins_url = \"https://raw.githubusercontent.com/vega/vega/master/docs/data/penguins.json\"\n",
    "pd.read_json(penguins_url)"
   ]
  },
  {
   "cell_type": "code",
   "execution_count": 3,
   "id": "57ea3b21-3fc6-4991-bb04-cfb5c6cc5cf2",
   "metadata": {
    "tags": [],
    "trrack_execution_spec": {
     "$schema": "https://vega.github.io/schema/vega-lite/v4.17.0.json",
     "config": {
      "view": {
       "continuousHeight": 300,
       "continuousWidth": 400
      }
     },
     "data": {
      "url": "https://raw.githubusercontent.com/vega/vega/master/docs/data/penguins.json"
     },
     "encoding": {
      "color": {
       "field": "Species",
       "type": "nominal"
      },
      "size": {
       "value": 100
      },
      "x": {
       "field": "Beak Length (mm)",
       "scale": {
        "zero": false
       },
       "type": "quantitative"
      },
      "y": {
       "field": "Beak Depth (mm)",
       "scale": {
        "zero": false
       },
       "type": "quantitative"
      }
     },
     "height": 400,
     "mark": "circle",
     "selection": {
      "brush": {
       "type": "interval"
      }
     },
     "width": 400
    },
    "trrack_graph": {
     "current": "e592d9d0-d833-4e34-9d73-c40360751f56",
     "nodes": {
      "2b67a6ca-d653-4393-93cb-3a7263753212": {
       "artifacts": [],
       "children": [
        "a9124112-4523-41ee-87bb-8c84d7fbdaf8"
       ],
       "createdOn": 1683569408099,
       "event": "Root",
       "id": "2b67a6ca-d653-4393-93cb-3a7263753212",
       "label": "Root",
       "level": 0,
       "meta": {
        "annotation": [],
        "bookmark": []
       },
       "state": {
        "type": "checkpoint",
        "val": {
         "interactions": []
        }
       }
      },
      "a9124112-4523-41ee-87bb-8c84d7fbdaf8": {
       "artifacts": [],
       "children": [
        "e592d9d0-d833-4e34-9d73-c40360751f56"
       ],
       "createdOn": 1683569409471,
       "event": "interaction",
       "id": "a9124112-4523-41ee-87bb-8c84d7fbdaf8",
       "label": "Brush selection",
       "level": 1,
       "meta": {
        "annotation": [],
        "bookmark": []
       },
       "parent": "2b67a6ca-d653-4393-93cb-3a7263753212",
       "sideEffects": {
        "do": [],
        "undo": []
       },
       "state": {
        "type": "checkpoint",
        "val": {
         "interactions": [
          {
           "id": "1613c0ff-d296-4ae6-9434-693b9058d627",
           "name": "brush",
           "params": {
            "x": {
             "field": "Beak Length (mm)",
             "range": [
              47.33,
              53.7
             ]
            },
            "y": {
             "field": "Beak Depth (mm)",
             "range": [
              18.4312890625,
              20.2987890625
             ]
            }
           },
           "path": "/selection/brush",
           "type": "selection_interval"
          }
         ]
        }
       }
      },
      "e592d9d0-d833-4e34-9d73-c40360751f56": {
       "artifacts": [],
       "children": [],
       "createdOn": 1683569410314,
       "event": "interaction",
       "id": "e592d9d0-d833-4e34-9d73-c40360751f56",
       "label": "Aggregate",
       "level": 2,
       "meta": {
        "annotation": [],
        "bookmark": []
       },
       "parent": "a9124112-4523-41ee-87bb-8c84d7fbdaf8",
       "sideEffects": {
        "do": [],
        "undo": []
       },
       "state": {
        "type": "checkpoint",
        "val": {
         "interactions": [
          {
           "id": "1613c0ff-d296-4ae6-9434-693b9058d627",
           "name": "brush",
           "params": {
            "x": {
             "field": "Beak Length (mm)",
             "range": [
              47.33,
              53.7
             ]
            },
            "y": {
             "field": "Beak Depth (mm)",
             "range": [
              18.4312890625,
              20.2987890625
             ]
            }
           },
           "path": "/selection/brush",
           "type": "selection_interval"
          },
          {
           "id": "96281170-0111-4a4e-81d7-9fd4589e34b1",
           "type": "aggregate"
          }
         ]
        }
       }
      }
     },
     "root": "2b67a6ca-d653-4393-93cb-3a7263753212"
    }
   },
   "outputs": [
    {
     "data": {
      "application/vnd.vegalite.v4+json": {
       "$schema": "https://vega.github.io/schema/vega-lite/v4.17.0.json",
       "config": {
        "view": {
         "continuousHeight": 300,
         "continuousWidth": 400
        }
       },
       "data": {
        "url": "https://raw.githubusercontent.com/vega/vega/master/docs/data/penguins.json"
       },
       "height": 400,
       "layer": [
        {
         "encoding": {
          "color": {
           "value": "green"
          },
          "size": {
           "value": 200
          },
          "x": {
           "field": "Beak Length (mm)_a",
           "scale": {
            "zero": false
           },
           "type": "quantitative"
          },
          "y": {
           "field": "Beak Depth (mm)_a",
           "scale": {
            "zero": false
           },
           "type": "quantitative"
          }
         },
         "mark": "circle",
         "transform": [
          {
           "filter": {
            "and": [
             {
              "field": "Beak Length (mm)",
              "range": [
               47.33,
               53.7
              ]
             },
             {
              "field": "Beak Depth (mm)",
              "range": [
               18.4312890625,
               20.2987890625
              ]
             }
            ]
           }
          },
          {
           "aggregate": [
            {
             "as": "Beak Length (mm)_a",
             "field": "Beak Length (mm)",
             "op": "mean"
            },
            {
             "as": "Beak Depth (mm)_a",
             "field": "Beak Depth (mm)",
             "op": "mean"
            }
           ]
          }
         ]
        },
        {
         "$schema": "https://vega.github.io/schema/vega-lite/v4.17.0.json",
         "config": {
          "view": {
           "continuousHeight": 300,
           "continuousWidth": 400
          }
         },
         "data": {
          "url": "https://raw.githubusercontent.com/vega/vega/master/docs/data/penguins.json"
         },
         "encoding": {
          "color": {
           "field": "Species",
           "type": "nominal"
          },
          "opacity": {
           "condition": {
            "test": {
             "not": {
              "and": [
               {
                "not": {
                 "and": [
                  {
                   "field": "Beak Length (mm)",
                   "range": [
                    47.33,
                    53.7
                   ]
                  },
                  {
                   "field": "Beak Depth (mm)",
                   "range": [
                    18.4312890625,
                    20.2987890625
                   ]
                  }
                 ]
                }
               }
              ]
             }
            },
            "value": 0.2
           },
           "value": 0.7
          },
          "size": {
           "value": 100
          },
          "x": {
           "field": "Beak Length (mm)",
           "scale": {
            "zero": false
           },
           "type": "quantitative"
          },
          "y": {
           "field": "Beak Depth (mm)",
           "scale": {
            "zero": false
           },
           "type": "quantitative"
          }
         },
         "height": 400,
         "mark": "circle",
         "selection": {
          "brush": {
           "type": "interval"
          }
         },
         "transform": [],
         "usermeta": {
          "__ide__": {
           "id": "1613c0ff-d296-4ae6-9434-693b9058d627",
           "name": "brush",
           "params": {
            "x": {
             "field": "Beak Length (mm)",
             "range": [
              47.33,
              53.7
             ]
            },
            "y": {
             "field": "Beak Depth (mm)",
             "range": [
              18.4312890625,
              20.2987890625
             ]
            }
           },
           "path": "/selection/brush",
           "type": "selection_interval"
          }
         },
         "width": 400
        }
       ],
       "usermeta": {
        "__ide__": {
         "id": "1613c0ff-d296-4ae6-9434-693b9058d627",
         "name": "brush",
         "params": {
          "x": {
           "field": "Beak Length (mm)",
           "range": [
            47.33,
            53.7
           ]
          },
          "y": {
           "field": "Beak Depth (mm)",
           "range": [
            18.4312890625,
            20.2987890625
           ]
          }
         },
         "path": "/selection/brush",
         "type": "selection_interval"
        }
       },
       "width": 400
      },
      "image/png": "[encoded data removed]"
     },
     "execution_count": 3,
     "metadata": {
      "cellId": "57ea3b21-3fc6-4991-bb04-cfb5c6cc5cf2"
     },
     "output_type": "execute_result"
    }
   ],
   "source": [
    "# All of the code here is pure altair. The library does not need any custom syntax\n",
    "\n",
    "brush = alt.selection_interval(name='brush') # define a type of selection\n",
    "# brush = alt.selection_interval(name='brush', encodings=['x']) # define a type of selection\n",
    "# brush = alt.selection_interval(name='brush', encodings=['y']) # define a type of selection\n",
    "\n",
    "# create a scatterplot\n",
    "chart = alt.Chart(penguins_url).mark_circle().encode(\n",
    "    x=alt.X('Beak Length (mm):Q', scale=alt.Scale(zero=False)),\n",
    "    y=alt.Y('Beak Depth (mm):Q', scale=alt.Scale(zero=False)),\n",
    "    color=\"Species:N\",\n",
    "    size=alt.value(100)\n",
    ").properties(\n",
    "    width=400,\n",
    "    height=400\n",
    ").add_selection(\n",
    "    brush # Connect the brush selection to scatterplot\n",
    ")\n",
    "\n",
    "chart"
   ]
  },
  {
   "cell_type": "code",
   "execution_count": null,
   "id": "8edbecc2-70e4-4a72-b019-89ceffd01d99",
   "metadata": {
    "trrack_graph": {
     "current": "0ffebeee-5807-4458-af08-87be80386608",
     "nodes": {
      "0ffebeee-5807-4458-af08-87be80386608": {
       "artifacts": [],
       "children": [],
       "createdOn": 1683042269141,
       "event": "Root",
       "id": "0ffebeee-5807-4458-af08-87be80386608",
       "label": "Root",
       "level": 0,
       "meta": {
        "annotation": [],
        "bookmark": []
       },
       "state": {
        "type": "checkpoint",
        "val": {
         "interactions": []
        }
       }
      }
     },
     "root": "0ffebeee-5807-4458-af08-87be80386608"
    }
   },
   "outputs": [],
   "source": []
  }
 ],
 "metadata": {
  "NB_UUID": "56ee9583-b360-4fc8-993c-4a68765003a0",
  "kernelspec": {
   "display_name": "Python 3 (ipykernel)",
   "language": "python",
   "name": "python3"
  },
  "language_info": {
   "codemirror_mode": {
    "name": "ipython",
    "version": 3
   },
   "file_extension": ".py",
   "mimetype": "text/x-python",
   "name": "python",
   "nbconvert_exporter": "python",
   "pygments_lexer": "ipython3",
   "version": "3.8.16"
  },
  "toc-autonumbering": false,
  "toc-showtags": false
 },
 "nbformat": 4,
 "nbformat_minor": 5
}
