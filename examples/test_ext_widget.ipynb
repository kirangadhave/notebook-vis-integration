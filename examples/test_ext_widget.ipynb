{
 "cells": [
  {
   "cell_type": "code",
   "execution_count": 1,
   "id": "2594b5d1-f285-46e7-bb20-55c0d04f9037",
   "metadata": {
    "trrack_graph": "໢尭䲠 "
   },
   "outputs": [],
   "source": [
    "from vega_datasets import data\n",
    "import persist_ext as PR\n",
    "import altair as alt"
   ]
  },
  {
   "cell_type": "code",
   "execution_count": 2,
   "id": "1f157780-d9d6-4cdb-9710-5a89a4c97325",
   "metadata": {
    "__GENERATED_DATAFRAMES__": "ᯡࡓ䁼ࢁӐㆠ≒䂆ř⁻Ŭ愠⺀̘ǁ)䁯氶⴦洔፠圠㚿ਠ ",
    "trrack_graph": "ᯡ࠽䈌ʀ匦㢠⹰࣠ܠ䰥〳䁣æȥ倰ᦧ᧤Ƈ≾㐢ᢊ⃌〦㛋㔹Ⅳैkᑄᄉ娑ર勋⚾䦫ᆖ⹜簤䀡傠Ǔ撃ߜ′䈤7ະᠠ湐懎Ⴇ᫓だ˸⽴G⎲;‫嗳毻ರ,崢~ዦԠ޳ŀ倠汘ئ᪻ᦱ䇤月ƌザ㱁࠾ల൹㘰䏆ᅣ㪬ଠ㗙⼯淼न̚瘛䴼䉫ɛⱄܤ榥噸Ŝ.▷ឬ»囑ز㣹洐⛨ၱ㢾κᔥǭ挰狰⠼ᨬܻ熠䱼⓮刁兦ፉ䣠梖౫勌ᮑṃɄ䮁䤺ᢠ縫᧡ኁ㡢Ү≰㑚ᢠ捑ⱕ᮫搑ɘ䀪琐ɧல⛤撘粰乄和✼䳲ӣဠ "
   },
   "outputs": [],
   "source": [
    "# # source = data.seattle_weather()\n",
    "# brush = alt.selection_interval(name=\"selector\", encodings=['x'])\n",
    "\n",
    "# bars = alt.Chart().mark_bar().encode(\n",
    "#     x='month(date):O',\n",
    "#     y='mean(precipitation):Q',\n",
    "#     opacity=alt.condition(brush, alt.OpacityValue(1), alt.OpacityValue(0.7)),\n",
    "# ).add_params(\n",
    "#     brush\n",
    "# )\n",
    "\n",
    "# line = alt.Chart().mark_rule(color='firebrick').encode(\n",
    "#     y='mean(precipitation):Q',\n",
    "#     size=alt.SizeValue(3)\n",
    "# ).transform_filter(\n",
    "#     brush\n",
    "# )\n",
    "\n",
    "# vis = PR.vis.TrrackableChart(alt.layer(bars, line, data=source))\n",
    "# vis"
   ]
  },
  {
   "cell_type": "code",
   "execution_count": 3,
   "id": "4bad6f96-60a4-4a27-9c15-1fdad2109d72",
   "metadata": {
    "__GENERATED_DATAFRAMES__": "ᯡࡓ䁼ࢁӐㆠ≒䂆ř⁻Ŭ愠⺀̘ǁ)䁯氶⴦洔፠圠㚿ਠ ",
    "trrack_graph": "ᯡ࠽䈌ʀ匦㢠⹰ڀᬠఠ燋ĸƀ୥䁦lᢨṠ乔䐨㏫æ⌓⮍⤻➾⤴ɩ•ⳁႧ⛫䡤䊵ක♍浛㬗琼ሠڤ-妬⇉j࠰}穠怣㣣ט䈲曽欠୑䍰n杄V䐼䖠և瀰ば᰸ᠬ㕃̽↠⊢ዒ㈨磼㰠㬴ᖲሠװᨺᵬ䠸Ͷႃ᫦Ԡ޳ł䣙؄Ƞ㌡ᚣᯰ〥壣ⴹ≀䙐␴竬℩污ٴ䄐嘠歑挠㮔Ṱؐᰍᙱೌ欤᫦渱㌣Ốʘ<侎Ἰ⭖渂ف㤌݃چ⁠ऴ䣡⁐⠴ࡴ䖈≁♧䒈ᑜ➥ヰ爱ڠᅲ为̢䕺㭋戒䤺ᡓ┖ḉ̤ⴴᄂҲ⊳␲䳖⮷斈⊩♷́㜳ጵ㌐䓒⁬獅湮┣搪拉➆ᤐ媻亃䰠猸 ⎢䱟ዥ㟴⁮`ρ嬌᪰ᜄɺµ檌琺彟䐵Ⳣᑦơ㌸∪ܨ〦ᠵ౗熣䋑ᩥ⑩㡾Ű᣾緓䬆䥐ᱞౣᅈ樽æヸืϣ瀤ℨ䃲㑺益淵冚ư湥ᅂ剘楖䷡㦢泶ⲝබ愥渖䎽檕䰢ோ宗Ⱜ㠤䌠Ťᢳ㜊Š၃䃠˙䁛出㢚槯㯳無叶ྸദ䋀Э犱ʏㆵ䊚叭㞪‣桉᠂a↯峏ᇍ⧎ࠪ㢿ఆ烿ࠄʏ〆焟⑀だ堵ሚᐠൂ≆䑐㤦న☤∙ⴥ䂨⑤ᤐ㽫楂ҁ嗀庫ˁ᱇ㆰ耉䊠伳ᠠҤ(䛟怡湐EҔ૳ₚᒧ瓔૷ျ%䨘砠Ј㸠䇄⡈ぶᒱ䂄瑮⅂ắ楂ᗅ䇨ᴭ棰⎴猼䄢㢀䠬緸播緌ਲğᠨ恆㸊Ϡ燍㢤䬶拼⌡抜德簾Ⴛ捡ᘶ奠∆ᅓΦႀ⢱卨ᶢ䆒羠嵰ॹჼ₼ኀᢱዜ㞯浕ࠠ]擅烐冔䃊刺仈瀶䢲穡䩒ẳ⬤‫枋ᒶ嚢ᬯࡼ⅔䶳犂乲稨⋒㙽䷀ຓ䪒о䝀♺͓ᅙ⅙ᝧ刘缠ᆑ昬Š刬䇭牞㉰䗊䕌ᨥ㛱喫੐㔸ᕁ县倭㄰ㄬ倸㠈ᇙ࣡冪֬ぜ㑨堲ㆸ⊨̧ǐ㔭呌ᲬࣾƬ熢㝦偒㋈☤校ʐ彷癖႕ถৠ㨰䗠䧎䢐㖞၆ҋХピɓ炬ન၈ၦ僔Ԥ䑄ᗀ⮬ቅばϐ惐牆䭉嬗☼汱㊸䩰猉ṵ狪偲碕嗀瑽߃璣ᚥᇭ寒䱓়Ⳝ漀ᣃ岐᱇䴅亂ጆ尫弁⼋䔤湓ᤑ筀ᄓ䠋ᔔ㰷䚋毗堐愯嵈禐␢҃˲⅟怒╡ௌ稐☢ᝮᎭៈぎ؎⫘᝕磟埞㮭▔喫柏囌↽慌Łⵍ䴓ᦹ㒵罘ⅷӚ矈㴮ŝ橢怡关⁰Ṅ䑸䒸၄幂惉ῇᆔᦡ℆⹹୓毮ဟ䗁㗖᭝ղᚽ彑⹈朩㪵刭䲜籆憌➂皈ಐᬻ熞 ᴣ楝ᮡ㵙Ϭ䔨ⱊɹ樼壔૒瑔獴Ꭳʒڼᆆᚈō吺⵨ᙻ旂奠㋕⮕㒨䶃ú油䊲喥呸椩٫㤬傥㋠▄悔ᇌ嫧ⷉ䍰⛖冠Ễ᪐厔獩㑖䖈皽䵓৳㧕挓߇玏⏼㶍璹䎬ჯශ䂹憴コቓፔユ嫣┕䞍ࠨ̚ࢃ∦姛⾅oㆆ懫癛ߐǪ㢣云䏎䝎Ⱒ䜸眤━墩毙ńï᪛䅈秘ฃ帷璜缍⻕惜㿦渟䗚柛㧷㱰㼸ʞဆ漏佝矵է䘛䞤ࢺ╫佯旉罌府☐᪳Ⲓऱ偁⍛੠ሲҀᠬ 䞠┰䇗嚢塒㈴帕ᓴᐂڹ磀൴≢Ǥ剩噁⊰ኲᶒࠈ╏璇Ẓ杝㑠࿊㓖䬭↤᤿╀ο桛⟕筱敌䄆⣍ɤᘧ琠Ⱕ䁼刬䴵㌫糘凙ʪ⫟ᮢ㒨咲䖹绾⸜旺憲䀦㊆⮅⹷敢偐拊ばٵ嵨䫄ᎆ櫖柵᣷䲆厊̢䨎׵ӟ憚嵨ڽ栉ϭ㌿ܺ⤥ᨬ凵㍼˶ㆋ皁旹৮ᴫ䦵痉嫿ᖡ㽟犡⠷䠼䣜寨紇ლ瀲ᗢ渀㝺Ў刋Ỗ㉀䊠ᚅٌ㔦Ⲻॸ㨤ₐ⠹ၟ⁒ƒ塬恡峡㔿⪢㛇畐⇵㱞瀤㺪刮༶渳ᙣգ籆䌤⵻ѳԋ㇢  "
   },
   "outputs": [
    {
     "data": {
      "application/vnd.jupyter.widget-view+json": {
       "model_id": "f5a263b1856f4365a92c2af67e86faf5",
       "version_major": 2,
       "version_minor": 0
      },
      "text/plain": [
       "OutputWithTrrackWidget(body_widget=VegaLiteChartWidget(debounce_wait=200.0, df_columns=['Name', 'Miles_per_Gal…"
      ]
     },
     "execution_count": 3,
     "metadata": {},
     "output_type": "execute_result"
    }
   ],
   "source": [
    "source = data.cars()\n",
    "\n",
    "brush = alt.selection_interval(name=\"selector\")\n",
    "\n",
    "points = alt.Chart(source).mark_point().encode(\n",
    "    x='Horsepower:Q',\n",
    "    y='Miles_per_Gallon:Q',\n",
    "    opacity=alt.condition(brush, alt.value(1), alt.value(0.3))\n",
    ").add_params(\n",
    "    brush\n",
    ")\n",
    "\n",
    "bars = alt.Chart(source).mark_bar().encode(\n",
    "    y='Origin:N',\n",
    "    color='Origin:N',\n",
    "    x='count(Origin):Q'\n",
    ").transform_filter(\n",
    "    brush\n",
    ")\n",
    "\n",
    "vis = PR.vis.TrrackableChart(points & bars)\n",
    "vis"
   ]
  },
  {
   "cell_type": "code",
   "execution_count": 4,
   "id": "72e2fda1-daad-448f-bec1-f698b48ccd52",
   "metadata": {
    "trrack_graph": "ᯡ࠽䈌ʀ匦㢠⹰ڀ↡ధ〳䊡堦〫Ⅰᆠ捍䐢捥૤熥熄〣䙴ภ㈲䎠ᖣैkᑄᄉ夑઴囇⃩䖬᭮溜Φ䐡傠Ǔ⍃Қ′䈤7ࡣᠠ湐戎Ⴆ寐爢䀥屨攠ʕ㥀ǔÚ䍃㏙䤷䢁┫⋸惀Ēいٞܫ$懁吃烐ᠸ䉣M䘶暦ᄣ↢∋㜂ࢌ戴レ䎀ۖ嗃Кᆱ⇐緝ūて睤䄀浐䛻G䀡曑砑䁳竖ᄂ㜿Ꮊ˹ȩᚲ䈰焩㱢紂╰垶䚨℃㇁Ъ戡⡡঒హ௠䎘὆揖䦲ᡊ⛗౱䦨ఱ姼᥆஠ၨ爵ؕ⦸噛ס爘䄨䐀倠垀呆㢙㉼Ⅰ❉瑦ұ决婪⽢ά䀠 "
   },
   "outputs": [
    {
     "data": {
      "application/vnd.jupyter.widget-view+json": {
       "model_id": "5a64ea46ed264c18a623eeaeb79d24ca",
       "version_major": 2,
       "version_minor": 0
      },
      "text/plain": [
       "Output(layout=Layout(border_bottom='1px solid black', border_left='1px solid black', border_right='1px solid b…"
      ]
     },
     "metadata": {},
     "output_type": "display_data"
    }
   ],
   "source": [
    "PR.Out().show_logs()"
   ]
  }
 ],
 "metadata": {
  "__CATEGORIES__": "{\"categories\":{\"coolness_factor\":{\"name\":\"coolness_factor\",\"options\":{\"_None\":{\"name\":\"None\"},\"cool\":{\"name\":\"cool\"},\"not cool\":{\"name\":\"not cool\"},\"alright\":{\"name\":\"alright\"}}}},\"activeCategoryName\":\"coolness_factor\"}",
  "__persist_nb_uuid__": "15b6440c-b112-4dd1-bff1-41461f6ea5c3",
  "kernelspec": {
   "display_name": "Python 3 (ipykernel)",
   "language": "python",
   "name": "python3"
  },
  "language_info": {
   "codemirror_mode": {
    "name": "ipython",
    "version": 3
   },
   "file_extension": ".py",
   "mimetype": "text/x-python",
   "name": "python",
   "nbconvert_exporter": "python",
   "pygments_lexer": "ipython3",
   "version": "3.8.16"
  }
 },
 "nbformat": 4,
 "nbformat_minor": 5
}
