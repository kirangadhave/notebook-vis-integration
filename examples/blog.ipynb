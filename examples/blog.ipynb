{
 "cells": [
  {
   "cell_type": "code",
   "execution_count": 17,
   "id": "49396fb9-cf64-4243-ab80-04291b95cadd",
   "metadata": {},
   "outputs": [
    {
     "data": {
      "text/html": [
       "<div>\n",
       "<style scoped>\n",
       "    .dataframe tbody tr th:only-of-type {\n",
       "        vertical-align: middle;\n",
       "    }\n",
       "\n",
       "    .dataframe tbody tr th {\n",
       "        vertical-align: top;\n",
       "    }\n",
       "\n",
       "    .dataframe thead th {\n",
       "        text-align: right;\n",
       "    }\n",
       "</style>\n",
       "<table border=\"1\" class=\"dataframe\">\n",
       "  <thead>\n",
       "    <tr style=\"text-align: right;\">\n",
       "      <th></th>\n",
       "      <th>;Region</th>\n",
       "      <th>;Trigger</th>\n",
       "      <th>;Weak Layer</th>\n",
       "      <th>;Aspect</th>\n",
       "      <th>Depth_inches</th>\n",
       "      <th>Elevation_feet</th>\n",
       "      <th>Day</th>\n",
       "      <th>Month</th>\n",
       "      <th>Year</th>\n",
       "      <th>Coordinates</th>\n",
       "      <th>Comments 1</th>\n",
       "    </tr>\n",
       "  </thead>\n",
       "  <tbody>\n",
       "    <tr>\n",
       "      <th>0</th>\n",
       "      <td>Salt Lake</td>\n",
       "      <td>Snowboarder</td>\n",
       "      <td>New Snow/Old Snow Interface</td>\n",
       "      <td>North</td>\n",
       "      <td>14</td>\n",
       "      <td>10400.0</td>\n",
       "      <td>9</td>\n",
       "      <td>11</td>\n",
       "      <td>2012</td>\n",
       "      <td>40.577977000000, -111.595817000000</td>\n",
       "      <td>While it was a small avalanche that was I caug...</td>\n",
       "    </tr>\n",
       "    <tr>\n",
       "      <th>1</th>\n",
       "      <td>Salt Lake</td>\n",
       "      <td>Skier</td>\n",
       "      <td>New Snow/Old Snow Interface</td>\n",
       "      <td>North</td>\n",
       "      <td>30</td>\n",
       "      <td>9700.0</td>\n",
       "      <td>11</td>\n",
       "      <td>11</td>\n",
       "      <td>2012</td>\n",
       "      <td>40.592619000000, -111.616099000000</td>\n",
       "      <td>A North facing aspect with an exposed ridge in...</td>\n",
       "    </tr>\n",
       "    <tr>\n",
       "      <th>2</th>\n",
       "      <td>Salt Lake</td>\n",
       "      <td>Skier</td>\n",
       "      <td>Facets</td>\n",
       "      <td>North</td>\n",
       "      <td>36</td>\n",
       "      <td>10200.0</td>\n",
       "      <td>11</td>\n",
       "      <td>11</td>\n",
       "      <td>2012</td>\n",
       "      <td>40.599291000000, -111.642315000000</td>\n",
       "      <td>Remotely triggered all the new storm snow (abo...</td>\n",
       "    </tr>\n",
       "    <tr>\n",
       "      <th>3</th>\n",
       "      <td>Salt Lake</td>\n",
       "      <td>Skier</td>\n",
       "      <td>New Snow</td>\n",
       "      <td>Southeast</td>\n",
       "      <td>18</td>\n",
       "      <td>10200.0</td>\n",
       "      <td>11</td>\n",
       "      <td>11</td>\n",
       "      <td>2012</td>\n",
       "      <td>40.598313000000, -111.628304000000</td>\n",
       "      <td>Impressive fast powder cloud ran in front of t...</td>\n",
       "    </tr>\n",
       "    <tr>\n",
       "      <th>4</th>\n",
       "      <td>Salt Lake</td>\n",
       "      <td>Skier</td>\n",
       "      <td>Facets</td>\n",
       "      <td>North</td>\n",
       "      <td>42</td>\n",
       "      <td>10400.0</td>\n",
       "      <td>11</td>\n",
       "      <td>11</td>\n",
       "      <td>2012</td>\n",
       "      <td>40.578590000000, -111.595087000000</td>\n",
       "      <td>Three of us toured from Brighton to low saddle...</td>\n",
       "    </tr>\n",
       "  </tbody>\n",
       "</table>\n",
       "</div>"
      ],
      "text/plain": [
       "     ;Region     ;Trigger                  ;Weak Layer    ;Aspect  \\\n",
       "0  Salt Lake  Snowboarder  New Snow/Old Snow Interface      North   \n",
       "1  Salt Lake        Skier  New Snow/Old Snow Interface      North   \n",
       "2  Salt Lake        Skier                       Facets      North   \n",
       "3  Salt Lake        Skier                     New Snow  Southeast   \n",
       "4  Salt Lake        Skier                       Facets      North   \n",
       "\n",
       "  Depth_inches  Elevation_feet  Day  Month  Year  \\\n",
       "0           14         10400.0    9     11  2012   \n",
       "1           30          9700.0   11     11  2012   \n",
       "2           36         10200.0   11     11  2012   \n",
       "3           18         10200.0   11     11  2012   \n",
       "4           42         10400.0   11     11  2012   \n",
       "\n",
       "                          Coordinates  \\\n",
       "0  40.577977000000, -111.595817000000   \n",
       "1  40.592619000000, -111.616099000000   \n",
       "2  40.599291000000, -111.642315000000   \n",
       "3  40.598313000000, -111.628304000000   \n",
       "4  40.578590000000, -111.595087000000   \n",
       "\n",
       "                                          Comments 1  \n",
       "0  While it was a small avalanche that was I caug...  \n",
       "1  A North facing aspect with an exposed ridge in...  \n",
       "2  Remotely triggered all the new storm snow (abo...  \n",
       "3  Impressive fast powder cloud ran in front of t...  \n",
       "4  Three of us toured from Brighton to low saddle...  "
      ]
     },
     "execution_count": 17,
     "metadata": {},
     "output_type": "execute_result"
    }
   ],
   "source": [
    "import pandas as pd\n",
    "import altair as alt\n",
    "import persist_ext as PR # Load the extension\n",
    "\n",
    "av_ut = pd.read_csv(\"avalanches_ut.csv\") # load the csv\n",
    "av_ut.head()"
   ]
  },
  {
   "cell_type": "code",
   "execution_count": 16,
   "id": "2c2a70b5-f93a-4b74-a35c-74ec2a5c882b",
   "metadata": {},
   "outputs": [
    {
     "data": {
      "text/html": [
       "<div>\n",
       "<style scoped>\n",
       "    .dataframe tbody tr th:only-of-type {\n",
       "        vertical-align: middle;\n",
       "    }\n",
       "\n",
       "    .dataframe tbody tr th {\n",
       "        vertical-align: top;\n",
       "    }\n",
       "\n",
       "    .dataframe thead th {\n",
       "        text-align: right;\n",
       "    }\n",
       "</style>\n",
       "<table border=\"1\" class=\"dataframe\">\n",
       "  <thead>\n",
       "    <tr style=\"text-align: right;\">\n",
       "      <th></th>\n",
       "      <th>Region</th>\n",
       "      <th>Trigger</th>\n",
       "      <th>Weak Layer</th>\n",
       "      <th>Aspect</th>\n",
       "      <th>Depth_inches</th>\n",
       "      <th>Elevation_feet</th>\n",
       "      <th>Day</th>\n",
       "      <th>Month</th>\n",
       "      <th>Year</th>\n",
       "    </tr>\n",
       "  </thead>\n",
       "  <tbody>\n",
       "    <tr>\n",
       "      <th>0</th>\n",
       "      <td>Salt Lake</td>\n",
       "      <td>Snowboarder</td>\n",
       "      <td>New Snow/Old Snow Interface</td>\n",
       "      <td>North</td>\n",
       "      <td>14.0</td>\n",
       "      <td>10400.0</td>\n",
       "      <td>9</td>\n",
       "      <td>11</td>\n",
       "      <td>2012</td>\n",
       "    </tr>\n",
       "    <tr>\n",
       "      <th>1</th>\n",
       "      <td>Salt Lake</td>\n",
       "      <td>Skier</td>\n",
       "      <td>New Snow/Old Snow Interface</td>\n",
       "      <td>North</td>\n",
       "      <td>30.0</td>\n",
       "      <td>9700.0</td>\n",
       "      <td>11</td>\n",
       "      <td>11</td>\n",
       "      <td>2012</td>\n",
       "    </tr>\n",
       "    <tr>\n",
       "      <th>2</th>\n",
       "      <td>Salt Lake</td>\n",
       "      <td>Skier</td>\n",
       "      <td>Facets</td>\n",
       "      <td>North</td>\n",
       "      <td>36.0</td>\n",
       "      <td>10200.0</td>\n",
       "      <td>11</td>\n",
       "      <td>11</td>\n",
       "      <td>2012</td>\n",
       "    </tr>\n",
       "    <tr>\n",
       "      <th>3</th>\n",
       "      <td>Salt Lake</td>\n",
       "      <td>Skier</td>\n",
       "      <td>New Snow</td>\n",
       "      <td>Southeast</td>\n",
       "      <td>18.0</td>\n",
       "      <td>10200.0</td>\n",
       "      <td>11</td>\n",
       "      <td>11</td>\n",
       "      <td>2012</td>\n",
       "    </tr>\n",
       "    <tr>\n",
       "      <th>4</th>\n",
       "      <td>Salt Lake</td>\n",
       "      <td>Skier</td>\n",
       "      <td>Facets</td>\n",
       "      <td>North</td>\n",
       "      <td>42.0</td>\n",
       "      <td>10400.0</td>\n",
       "      <td>11</td>\n",
       "      <td>11</td>\n",
       "      <td>2012</td>\n",
       "    </tr>\n",
       "  </tbody>\n",
       "</table>\n",
       "</div>"
      ],
      "text/plain": [
       "      Region      Trigger                   Weak Layer     Aspect  \\\n",
       "0  Salt Lake  Snowboarder  New Snow/Old Snow Interface      North   \n",
       "1  Salt Lake        Skier  New Snow/Old Snow Interface      North   \n",
       "2  Salt Lake        Skier                       Facets      North   \n",
       "3  Salt Lake        Skier                     New Snow  Southeast   \n",
       "4  Salt Lake        Skier                       Facets      North   \n",
       "\n",
       "   Depth_inches  Elevation_feet  Day  Month  Year  \n",
       "0          14.0         10400.0    9     11  2012  \n",
       "1          30.0          9700.0   11     11  2012  \n",
       "2          36.0         10200.0   11     11  2012  \n",
       "3          18.0         10200.0   11     11  2012  \n",
       "4          42.0         10400.0   11     11  2012  "
      ]
     },
     "execution_count": 16,
     "metadata": {},
     "output_type": "execute_result"
    }
   ],
   "source": [
    "# Remove leading `;` from column names\n",
    "av_ut1 = av_ut.rename(\n",
    "    columns={col: col.replace(\";\", \"\") for col in av_ut.columns}\n",
    ")\n",
    "\n",
    "# Drop two columns\n",
    "av_ut1 = av_ut1.drop(columns=[\"Coordinates\", \"Comments 1\"])\n",
    "\n",
    "# Replace trailing `\"` from Depth_inches\n",
    "av_ut1[\"Depth_inches\"] = av_ut1[\"Depth_inches\"].apply(lambda x: x.replace('\"', ''))\n",
    "# Cast Depth_inches to float\n",
    "av_ut1[\"Depth_inches\"] = av_ut1[\"Depth_inches\"].astype(float)\n",
    "\n",
    "av_ut1.head()"
   ]
  },
  {
   "cell_type": "code",
   "execution_count": 4,
   "id": "04aa2544-f503-4c77-bd4e-7f2b1fe3ee0d",
   "metadata": {
    "__GENERATED_DATAFRAMES__": "ᯡࡁ䃼࿀圡㠱䈡㥠ঠ昣䦠嬢䱷൜␡傠ዠ㎠ᄡḡ洔偑䕘Ř柠⿏† ",
    "__has_persist_output": true,
    "trrack_graph": "ᯡ࠽䈌ʀ匦㢠⹰ࢋĸّ⃌⠶䔴xœ癀❆丕楠ห␠憳ۀډ㒦ⓀŌ傰䇁䋫䁨䲥㕺穬擺㮓瀲&䈠ۥ1䘾碠┨ࠠ⹚₀ǘ憡屢ƚ眆+ポ⠠乮␠㚨ଠ໥ѓ㋪ᑈ刁簦ܪؿˢ䂆┑ುᡜᠰN坯ℂ㉡㌊ㄢ⡶ᡈ\\䰩ຮའ牰Ƹ嵹ᙎ啎䀶挥ㅢࡩ䅀捶愨ஂᡄ刨㓐͹ٱ纋Ⴢ䁏坫㭓䳢塂ា灓䌄࠵䀳怠燙Λ壷༰憇ⷝ䔴殕৤帴ॡ瀸⻙ʥ⒐ੁ䥡㈐䩁仳儬ᰮ੡⑘戬ืඔߓ湁咀㫁⟔厔ࢴ⌴ᄂ戢⒱⓲ಶ⇡攬㲡⅒ͼ᪔⃷劈碪᳭◲䳖⮷攪励䅵㣬✪ɐ)ᠨའ˙ڀᫀ܆⨠獙彵だ檳⳻㎴㽷၆ˊ〠έ⧵疾ྯ撔䉀┷䕂䈈┩ᎋ䣤̲䖤ᤈ఩䓁䤰坥䌇傘ㅷ⒙㙮஢⃣゘ℤ䂭拪㌭⌂礜₺嗋橭˭儋㫝̼ገ㤈ヴ㜺湈ᓺ揈洷⺵゠㙻໢灘┞㇥՛乫⺮԰怠⢯r⹆⠤௕槕ぞ篕从牤摩㷓⭗䰗籢値गढ䞡䦣䩠寷乀ȉ垣燴⽃嚔溶嗴ⴡ暝⾣冠ῂ眝㾠ਥ㨿愣戬Ǡ⢱ȁ摔㇠᱓̉栲ᇡ栳ᥚ㋠倫Հ㰸䆢‫眰核䋬甿疑羸सP别樠ᙥ˞瑟玊᮴ĺᠴ毬猾⓺䩹㇜䰣熜朹⤐癀壨拾ⅰᅼ嫈瘪媈䄶㦴䜠ீ姠ᰁ惴᫦炢ᥦᣮᡆⓧ勆⠽ᦨ䁰᠚䃹斦㝂䂙ヾ᥂ὅᧆ೾⬸m惊畽楡䍠Ë粁ಋസခ唫⛈狜偷类⤃洰࿦崬娋⪏‱ɥ䈡㭾ࢂ焜̠㠸ࢀ⡬װࡣఄ笐䂩⁎䮠㡲ඦ㌿掸檡❪䄱⣩䖄䅉妉◪敯ླྀ᪆䫳婮䁐Ѩ橣㬰ɑ䘩䁛⚁棆䜵仒㚍䚚ນ汀乓䢘䁕次㜽栖湳挗ྐ㓓例䖙ḻ杳潩ါɸ᜘恁䄢ᱻʦ磚呄㵐نẟ杄ᔈ᷁凷Ǥ爎ဧ爁ᑯ䓲㙷狢尧┑૬⪰˥夘ᢥ㽺㖀碰မ傰Ʀ㧷̣࢔ല⢜⾠瀼䬫࠶ൡᅲၢ䡊ফ嬴Ϡㅲ௭哏༒㺏䖀瓝ᕂ୹ɸᐳᎢᠪ溄㐺毮䪒䀪䡹懴硎夰竞偗ࡁ剕䛜⥗⛂᝔灾ⰴπ灢笞塗ܜ੔厑匼朘简಄哅ᶔ壮ഠໆ⓶ᫀ⡝摋䖅勎⠭㿏ฅⷰ皾㏊ႁᬕ㸫⡹Kㆡ␰む㰶㼨〺♁欙٩ᐪߡ桚壃ᡘⅩ␥ࡻ姃叭๰㓀⇘⾓凔⼓᥏䡫᲋摛ඩ榍枒繀崯㏛緀熸⎪疚Ꮍ症ᨹ㺢猎௴ͭ曼瘪ۀԭ䬲యڒ坌᫼ဵ㡻扦䦈粫խ㕣೑天榾ᧅఠፈᙆᚋ䪌楴糮ؓἚ熸塓⅔傣▎眀漌沭勤X⻙㢍ٳ⬷儗攜∲ᛈ⾜勥灰ᢈ怣ਕԥᅺـᰥṩʨ䰶㒀ర灘ℐ⳰ぬՖ⛁㙺ⶌ〷◉彩଼䊶㏕㭓ᝰ櫥僶␌䠫冇ಘ➴䩃伪Ѿ晢庋懜ᄧ㴗䡋䐯䙯㔐ԙ瘩昊弋拡᯻㱰ល偁㡊੶⩲熠൮⸦䀡ʐ഑✹峵ೄ⩭䎗㕵睲ဎ⡈Ṟ䫵⏢㒘֢̰〮㸠爦޾หṨ䵠椿攄㉃偀㮤ㆧ潅召攍檉昼ᇫ᳃䊈場氇㳳噒₌揈䃭䚔搪᥯墢㾿㋀ဒ㴱癸燩᰿Ⲣ玬͡怚ₐᣠ秣䃄သ䐹稠檣‽̶休罒ᥞࢯ⍬㛦⹉ᅄၳ摔▹嶧⮠䚗៓悺㎥冇拄ᒪ䳤䵪㳄恧ᣜ൭ዚས䆁ᇘ兌㉜℃᱘匿䠀☧炂ᙀ䌵≈ˠ摸㑘Ẩ㠪ኂ㡡び඘玁劶淄噖淄໦᷑䥈௑⡶ޖ圵㋾殄䠸䇜㏇㪏⠔硂ಱ䳀ㆸ℈॓繦㌆㩆尷›佫璡䵕㒮㕿䦋囚㉱຅ዂ傠!ఘంᓢ㍴⅄ᡃഀ瀭⧒㻆獐Ⴆ揦㓝⁠⛄Ở䛴డ㴣僠ᠠ毢㴰傜⑤䓢ᓓ⃤簱㠸ᨲ瓒怿⊈㫖ؑ缻ẩფⅅᏢ⮚⊜㑟㻪ᵆ敚溮纜庠̲琎䜆晓氟Ϫ ⩘Ὲ岏ᦑ殳珠⠇统杜䘇员㙄స䜀嶢⣯̢ض榝ᰂ捖፬⪥Ǝᇢ殪䁧䉾@彊㖠Ȣ勇橢៵ᆄ幁䐼ᆽ⾵窔数ၨ扚è㺸モ庠Ⱗ䃚ᆠ灟⡞罐ムḂۃ締㛵ᇚ᫮๗ਾ憻㦪嬻㇑㮀㌖ᔌ⫉揵◦ⲷ專ެ‼ּᳵ敽⁺姠ᤱᐮ禌⡶欤ㄵ瓠嫸㚩湁㲏ᨤ棗ԉ㖩洤囩᧍㫳䧥欁䇔ᰐ扖ⱟ䅠㟧ኔ毐ڴ䵿徦᚛慓㷄䁖礰㜤竸Ӡ࣯丄ྻ租ƕ巂∼榞ᑧ䳣熩❴㗎兡䍝橍⊆ᵭ圚砅ኒ⊞⎲ᴣऋ㫲䁘ગ㿃櫮巫๗劼◽竟ⳙ毈ව⮔䁜Ծਅ紝䅡䯦䈐湁ᡔ穐刷ヸ䐡么Ż“煾縂фဤ曬绂羐䜕䈶㺡市穵ሿ徨ԯŷ䞠ះᖔᜓ偘矠ḩ䃀㢧㠷䯰᭄⣹䝪䖩刜揃䕴㊅䫊滵䝝巤疂ⴆ㧟௨熾悾メ庀媸῭娴ĥ䍤ᡙᶐ忚猠爆炸໓吽紈ౣ呙؟⥪*咘⠪䮁妴<䠺ࡤⱽᰁ帼³皣⩱ ཕ✨⪲❉䉮啩嬌ᓭⰻ傸⦠曖䤾罠⢬ࢧ䑥渔⊡捁㘺嬕殘厾慸ㄕ嗤憕怴羮୰䲶梿᜕ᢳ櫽ᏺ㟓⦐玮㊣ࡇ⏁事昋䡋䀏㥅㔒⁅牷㰧幦瓵氫嗆墋砳ۍ㰫涘竡㠨笈䐰汍˼ⷓⱕཔ宦拭端㞤ᩐ䈓堃桳Н簴侫㙍䮓ռᆩⲒ౮剦䧞䬅⠬≶矖ទ䥡᣸戢㸉⌮ბ㟣'ᚔ䉔ഴ瘀唌緜沇㿢冚䁦㠿炮὘㡿羡䭦秔▚䪉㔻䫺ᡵބ箮ᛋᖣ泼㭶ᕘ⁙ᣘᚮҷ棨䢒溽儧刵沗౏⦕㖩ࢀ匤崵㽗絏砎⹯睠⋚匹⼏燳ҫ怣䁊ᐣ৯⢊䍇ᄘ䟦乄癊㱑姠㴠䀽ₑ৮ӱ啞౽඘㝦䁸*䫲戇絃㒊伮翔၀ᶱ戮彗πⷸമτ຺ⵍ樦ᘣⓉĵ侎䦤㮼疽栢勖㳒瑊瀔ྱ篗攝揚䛐˞璄䞐儕ʶך殢䟷悵疳泞ᗐ⿅用₁⚖ᢔ㷏➦䚃瞨恌ၾ夐Ŋ㰹⬀戭႗䂀ᅨ委➢洼ᓖ椲ᢋ䃚⌠Ŷ䈺禖曌喗㫑䆨䯜戤ᡜ⏐Ǩ刧侾㷑⠁演㍀㔊ʠⳇ䌥䱼ᨠ犔㱅᷉溌ԩ˖ΐᖀᱥ獊䧎槞奶壝涗梄ܲ㇁籕⛦࿔⨣É୴䬣晄䅺ღ敷淓ಯ槊伦機䁕橎‐䯒妏捎ࠗ䯐ɿ昡喕猰  "
   },
   "outputs": [
    {
     "data": {
      "application/vnd.jupyter.widget-view+json": {
       "model_id": "fb71c26ce60a4b56ac4ec4fb02c2661b",
       "version_major": 2,
       "version_minor": 1
      },
      "text/plain": [
       "PersistWidget(data_values=[{'__id_column': '1', ';Region': 'Salt Lake', ';Trigger': 'Snowboarder', ';Weak Laye…"
      ]
     },
     "execution_count": 4,
     "metadata": {},
     "output_type": "execute_result"
    }
   ],
   "source": [
    "PR.PersistTable(av_ut, df_name=\"av_ut1\")"
   ]
  },
  {
   "cell_type": "code",
   "execution_count": 21,
   "id": "18a5c250-28b4-4e80-b8ba-055a18f82f8f",
   "metadata": {},
   "outputs": [
    {
     "data": {
      "text/html": [
       "<div>\n",
       "<style scoped>\n",
       "    .dataframe tbody tr th:only-of-type {\n",
       "        vertical-align: middle;\n",
       "    }\n",
       "\n",
       "    .dataframe tbody tr th {\n",
       "        vertical-align: top;\n",
       "    }\n",
       "\n",
       "    .dataframe thead th {\n",
       "        text-align: right;\n",
       "    }\n",
       "</style>\n",
       "<table border=\"1\" class=\"dataframe\">\n",
       "  <thead>\n",
       "    <tr style=\"text-align: right;\">\n",
       "      <th></th>\n",
       "      <th>Region</th>\n",
       "      <th>Trigger</th>\n",
       "      <th>Weak Layer</th>\n",
       "      <th>Aspect</th>\n",
       "      <th>Depth_inches</th>\n",
       "      <th>Elevation_feet</th>\n",
       "      <th>Day</th>\n",
       "      <th>Month</th>\n",
       "      <th>Year</th>\n",
       "    </tr>\n",
       "  </thead>\n",
       "  <tbody>\n",
       "    <tr>\n",
       "      <th>0</th>\n",
       "      <td>Salt Lake</td>\n",
       "      <td>Snowboarder</td>\n",
       "      <td>New Snow/Old Snow Interface</td>\n",
       "      <td>North</td>\n",
       "      <td>14.0</td>\n",
       "      <td>10400.0</td>\n",
       "      <td>9</td>\n",
       "      <td>11</td>\n",
       "      <td>2012</td>\n",
       "    </tr>\n",
       "    <tr>\n",
       "      <th>1</th>\n",
       "      <td>Salt Lake</td>\n",
       "      <td>Skier</td>\n",
       "      <td>New Snow/Old Snow Interface</td>\n",
       "      <td>North</td>\n",
       "      <td>30.0</td>\n",
       "      <td>9700.0</td>\n",
       "      <td>11</td>\n",
       "      <td>11</td>\n",
       "      <td>2012</td>\n",
       "    </tr>\n",
       "    <tr>\n",
       "      <th>2</th>\n",
       "      <td>Salt Lake</td>\n",
       "      <td>Skier</td>\n",
       "      <td>Facets</td>\n",
       "      <td>North</td>\n",
       "      <td>36.0</td>\n",
       "      <td>10200.0</td>\n",
       "      <td>11</td>\n",
       "      <td>11</td>\n",
       "      <td>2012</td>\n",
       "    </tr>\n",
       "    <tr>\n",
       "      <th>3</th>\n",
       "      <td>Salt Lake</td>\n",
       "      <td>Skier</td>\n",
       "      <td>New Snow</td>\n",
       "      <td>Southeast</td>\n",
       "      <td>18.0</td>\n",
       "      <td>10200.0</td>\n",
       "      <td>11</td>\n",
       "      <td>11</td>\n",
       "      <td>2012</td>\n",
       "    </tr>\n",
       "    <tr>\n",
       "      <th>4</th>\n",
       "      <td>Salt Lake</td>\n",
       "      <td>Skier</td>\n",
       "      <td>Facets</td>\n",
       "      <td>North</td>\n",
       "      <td>42.0</td>\n",
       "      <td>10400.0</td>\n",
       "      <td>11</td>\n",
       "      <td>11</td>\n",
       "      <td>2012</td>\n",
       "    </tr>\n",
       "  </tbody>\n",
       "</table>\n",
       "</div>"
      ],
      "text/plain": [
       "      Region      Trigger                   Weak Layer     Aspect  \\\n",
       "0  Salt Lake  Snowboarder  New Snow/Old Snow Interface      North   \n",
       "1  Salt Lake        Skier  New Snow/Old Snow Interface      North   \n",
       "2  Salt Lake        Skier                       Facets      North   \n",
       "3  Salt Lake        Skier                     New Snow  Southeast   \n",
       "4  Salt Lake        Skier                       Facets      North   \n",
       "\n",
       "   Depth_inches  Elevation_feet  Day  Month  Year  \n",
       "0          14.0         10400.0    9     11  2012  \n",
       "1          30.0          9700.0   11     11  2012  \n",
       "2          36.0         10200.0   11     11  2012  \n",
       "3          18.0         10200.0   11     11  2012  \n",
       "4          42.0         10400.0   11     11  2012  "
      ]
     },
     "execution_count": 21,
     "metadata": {},
     "output_type": "execute_result"
    }
   ],
   "source": [
    "av_ut1.head()"
   ]
  },
  {
   "cell_type": "code",
   "execution_count": 22,
   "id": "8a359f54-849f-4ef9-b4b3-e87178b7e99a",
   "metadata": {},
   "outputs": [
    {
     "data": {
      "text/plain": [
       "Region            string[python]\n",
       "Trigger           string[python]\n",
       "Weak Layer        string[python]\n",
       "Aspect            string[python]\n",
       "Depth_inches             Float64\n",
       "Elevation_feet           Float64\n",
       "Day                        Int64\n",
       "Month                      Int64\n",
       "Year                       Int64\n",
       "dtype: object"
      ]
     },
     "execution_count": 22,
     "metadata": {},
     "output_type": "execute_result"
    }
   ],
   "source": [
    "av_ut1.dtypes"
   ]
  },
  {
   "cell_type": "code",
   "execution_count": 25,
   "id": "71bef7e9-3f34-4a63-b75b-8830201b7e5b",
   "metadata": {},
   "outputs": [
    {
     "data": {
      "text/plain": [
       "count         2372.0\n",
       "mean     9507.293423\n",
       "std      1104.926246\n",
       "min           5100.0\n",
       "25%           9000.0\n",
       "50%           9700.0\n",
       "75%          10200.0\n",
       "max          12200.0\n",
       "Name: Elevation_feet, dtype: Float64"
      ]
     },
     "execution_count": 25,
     "metadata": {},
     "output_type": "execute_result"
    }
   ],
   "source": [
    "av_ut2 = av_ut1[av_ut1[\"Elevation_feet\"].between(4000, 15000)]\n",
    "\n",
    "av_ut2[\"Elevation_feet\"].describe()"
   ]
  },
  {
   "cell_type": "code",
   "execution_count": 23,
   "id": "179b65ff-392b-489c-8813-6a50c64a4a0f",
   "metadata": {
    "__GENERATED_DATAFRAMES__": "ᯡࡁ䃼࿀圡㠩䈡㥠ঠ昣䦠嬢䱷൜␡傠ዠ㎠ᄡḡ洔偑䕘Ř柠⿏† ",
    "__has_persist_output": true,
    "trrack_graph": "ᯡ࠽䈌ʀ匦㢠⹰ࢀ✠ఢ〥䁖ׁ่┦挨挱㐦〦〱䑴¬̹咀⬶X籓壂┠অҤᵖ㹢ኄᑱ⣰㚆槧忀炰Tဠ㙉Ⲃ൨ɰ䂠̏刦;䘸ᷤၷ㠏堠妬᪠Ř岰ú楞[̯ю所懂声䑘ై⑱ྦष扃戃㦉Ⳇ㓈ᩝРீ㑒㦹ၐ܌悴ඬਠཆɤ㉦ᤐ桘䣺ἶ̱䣠〥壠汥䣲と㳭䱢ϸ䔩咢姌ö榴₞汊倫灖᷏桱汖э仼ᖆੂǐʘ<瀎弸ᶯ宜ၑᗯ㉘⢓ᆁᅨ゚଩ॡ汜ṍ我瑺ᕅ䃡呶Ⴏℱ䥜ျ℀偈ᚥƁ癏堅ეざ与㫒坈䙇ࡄ䤴䳉䮅㦜僌⪵椪帋ߘ⠮㙎揥঄啎䰒㥜䃄⢴げ屻⢸඗,卒ȍᐠ@Ť畨ⶁ堡笔⹆捔4䘮ࢩ惭ᬤڍ偐æ$刈暠Ѧܘ汞᷌ࠥ惎䘻渖⊈႞柋䈎᰸濛㲞xᓻ䊱⬯ࠃᒙص䠊剘⼤䅈灹㴧πヱᅧ׃⨦㟸熑峲☷Cࣄ㤵ᙳ⢔ጥ䄁㣜¨ℳᫍ⧛嘋窣ム咩ㄞ䳮ぺ僫ⶭ坻୛Ợћ໇Ᏺ皲ɗᷡ獘ಐҦ×梮緱犠⠢ဠ˙䂀ᚑἷ䳫幚⠐䂞掂簨┩䉰ģ㹉ళ㺃໡幞曰籉#栰娸ム戳䴊ẉ㥐瘾熐縸⊰然⎁Ʃӈ戳䅸ᘤ懸ⴧ䂩᳊Ꮹج沋ࢲ惸㜣䄸㱆䇘♂8䠥䋄⤩Ⴈ璆⊘甹⊬拥㒼؏㔽᳦৽⟀ĉ㐠捩旗ϱ绀ㇸᆴㆬ熯䞠愳◨皎⒩尥惲婴僅癒ृ湉ଠ⡌晒㒎㈕Ś䯱ಖ亪穼⤡⑫悡䄪⣣恸̰䏝䟀戹䊡཈┠㕽⪰晭哜ຳ埬⡒柴†ĕ剟ᄨ墹⧍唡੢秱噓đ寍痰䐤籣㺷㣃㴁沦㿪況᛬䑘Ǫ㥑ଥ㨎⁑品ࡉ׎⌢吷̂斺⦮䣙㶯樑㖤Ҁ⸡䘴㮪䉆␣̍၁爊➀ɠ䐱̶Ḷ楃乧ສઑ⣓嵠⹺ᦕ桯嫷檬ਕᜅ侤嘩ۖじỒ悭弱㚍忴的䟑䊲ᷢጵ䌢圄滐㙆ᚸ挔提恽䟕櫆ঋ䏳Ȧ㤆嚩ᨽ೴啐᪀…ፒ๕ュЙ忢с஁Čܣ烼೓₹ᚡ䂬ᪿዒ┣峼ࢦ烐ᡤ䑈ا⌔ᖥ県⣒໲婅䬒䞲⨹୅⩢䍵ଅዃ⹬䎔沝ಱྒྷ瀣ग䴏߉ⰶ⬐ᡗ休ᳰ⬁㺂ᜀǀⰕ䃟怗㺫ਪ㰦Ȭ㟻ح㴐㢊䣨㔨ϰ凎㵘㥾䮌㙋ᅿ⠋絽扉㷡੾㡑⎯䕥Ⓣ佣纝ཫ惌◩⶞㇣憛攦〹㉯㉉L⼄漿⃏絀ᮊ䢺筻漷牕ㆫ朝ᅼ㼙ὲᦔㄔචᓴ甒ኻ塕ᢐߒ႘⟌㸩怮椱ᔥ粔䐛狉ॠᢦқ䓜勎瀰ؤ瘳㖺࿫⇈ዘ᱔呉⑦㇠傳䥠㎭∇፡ᜮ䂨⹗咈⋠⟤㙆暌ᛪ沍劲䓝寐⏖㭠Ⅰ㞁瘸丌ⳡ䦭哺ٟݻ⩢ࢲ➂皲Ἅỻ泥俉ഽ઺◆婜甊㦨䳩䚈堯Âѓ䍄ロ⾷䁫ਔ㍠⤉䛍丫ᡠ๹獑܋ᆃаǤ勩曒⭠栫⥲ẠЩĐ繣␲䌀䈫⃼ɀ㬿夝䩣妩᪓ᥕ噪㘆⛧✍䣭嶻懷ς㝂Ň༅❡䘶ᰩ乇䓑㧶樓垀ั挷␅᝷擎✋燿䭼⚰Ѡᗘ瘫㢡Ὥ碮瑸੎灝扤緬嗯亘䟊ֱت悮䬺䈏庘▜孞ᔏ䈛㌺Ⰼ竫㾃䩞磍缇ሠ羳⤸᳹࠲ቚ⪫ᙌ䄸䲤䣼༢㖯ǅڳၻ榯㱰㽞煒倦檆ᖄ渴Ⴚۥ砾ǹἣⓚԪ佈煞❔繡咺Ⴡ没Ⅴᮃ‪ⳅ੾ઇ挔⡎珗䥉壃昘穲峚⼥⸈⬉Ⳬ㿫ㅠȪ⪴䍵ӷ啒嚊䧎炐凳晎憨❙竀核⋨碝䢵嚂ó➫獾⬶䩠囒喗㫰䎈⧺傤䖚ʪ棃௘ଵ䊾䊤ㅍኣ勅坷傗℔惗◾䴤⟏槺᧫猀㖐ᠦ܈④ۤ䎡ತ氥уⲡ傩扰㒈愺ࣙ娥㥒䣠㡲˰ᐅӶܩ光ৱᎡㅏᄎ᣺ን㍄㯁⁔䶉䥢ख़ࡺᣘ嫂㧑䭼♶嫂⓺浩璿ユํᘠ簵喴ᖲ壋چ碭㠐涀থ俍嬨䗒䀀ᑿ԰◑⣻㘱ാᇎ揂㉒吃嫆Ꮦ烇Ḧ䑨争ါ᡹棐㧼礖⢆ய⑞ᮗ甒玜ی硃᠘捝煆㧚€暞峫䄥䩕矋湟濽奿㱗䔄િ啯㵁㼭䱞ὶ≋檜࢕粰憴ኳ្笔泂ᢞ౓㤤ⲧ摫嵭㈛枈㚱懯㽂ᢙ⃷惐ୡ氱䈒㑤硖ᐓ⢬搸ʲŏₘá㠩Ή❋㵤ᐵ໩ᨼࢃ㰰ⅆ夻ºᮁ帹⡢㟨ኍ⌦஼㓵䛌ᖺ磺࢐ධ⿕䐛㔬ᦴ㟁唪㎸拣᧙僠偁垓㖤宊溮榩滰䤤ͺ⥞嬧㴁  "
   },
   "outputs": [
    {
     "data": {
      "application/vnd.jupyter.widget-view+json": {
       "model_id": "898cceb229464070ac7ac00359b4b8f4",
       "version_major": 2,
       "version_minor": 1
      },
      "text/plain": [
       "PersistWidget(data_values=[{'__id_column': '1', 'Region': 'Salt Lake', 'Trigger': 'Snowboarder', 'Weak Layer':…"
      ]
     },
     "execution_count": 23,
     "metadata": {},
     "output_type": "execute_result"
    }
   ],
   "source": [
    "PR.plot.scatterplot(av_ut1, x=\"Elevation_feet:Q\", y=\"Depth_inches:Q\", df_name=\"av_ut2\")"
   ]
  },
  {
   "cell_type": "code",
   "execution_count": 26,
   "id": "ca54ec20-262b-45fd-b23f-bb226018fa66",
   "metadata": {},
   "outputs": [
    {
     "data": {
      "text/html": [
       "<div>\n",
       "<style scoped>\n",
       "    .dataframe tbody tr th:only-of-type {\n",
       "        vertical-align: middle;\n",
       "    }\n",
       "\n",
       "    .dataframe tbody tr th {\n",
       "        vertical-align: top;\n",
       "    }\n",
       "\n",
       "    .dataframe thead th {\n",
       "        text-align: right;\n",
       "    }\n",
       "</style>\n",
       "<table border=\"1\" class=\"dataframe\">\n",
       "  <thead>\n",
       "    <tr style=\"text-align: right;\">\n",
       "      <th></th>\n",
       "      <th>Region</th>\n",
       "      <th>Trigger</th>\n",
       "      <th>Weak Layer</th>\n",
       "      <th>Aspect</th>\n",
       "      <th>Depth_inches</th>\n",
       "      <th>Elevation_feet</th>\n",
       "      <th>Day</th>\n",
       "      <th>Month</th>\n",
       "      <th>Year</th>\n",
       "    </tr>\n",
       "  </thead>\n",
       "  <tbody>\n",
       "    <tr>\n",
       "      <th>0</th>\n",
       "      <td>Salt Lake</td>\n",
       "      <td>Snowboarder</td>\n",
       "      <td>New Snow/Old Snow Interface</td>\n",
       "      <td>North</td>\n",
       "      <td>14</td>\n",
       "      <td>10400.0</td>\n",
       "      <td>9</td>\n",
       "      <td>11</td>\n",
       "      <td>2012</td>\n",
       "    </tr>\n",
       "    <tr>\n",
       "      <th>1</th>\n",
       "      <td>Salt Lake</td>\n",
       "      <td>Skier</td>\n",
       "      <td>New Snow/Old Snow Interface</td>\n",
       "      <td>North</td>\n",
       "      <td>30</td>\n",
       "      <td>9700.0</td>\n",
       "      <td>11</td>\n",
       "      <td>11</td>\n",
       "      <td>2012</td>\n",
       "    </tr>\n",
       "    <tr>\n",
       "      <th>2</th>\n",
       "      <td>Salt Lake</td>\n",
       "      <td>Skier</td>\n",
       "      <td>Facets</td>\n",
       "      <td>North</td>\n",
       "      <td>36</td>\n",
       "      <td>10200.0</td>\n",
       "      <td>11</td>\n",
       "      <td>11</td>\n",
       "      <td>2012</td>\n",
       "    </tr>\n",
       "    <tr>\n",
       "      <th>3</th>\n",
       "      <td>Salt Lake</td>\n",
       "      <td>Skier</td>\n",
       "      <td>New Snow</td>\n",
       "      <td>Southeast</td>\n",
       "      <td>18</td>\n",
       "      <td>10200.0</td>\n",
       "      <td>11</td>\n",
       "      <td>11</td>\n",
       "      <td>2012</td>\n",
       "    </tr>\n",
       "    <tr>\n",
       "      <th>4</th>\n",
       "      <td>Salt Lake</td>\n",
       "      <td>Skier</td>\n",
       "      <td>Facets</td>\n",
       "      <td>North</td>\n",
       "      <td>42</td>\n",
       "      <td>10400.0</td>\n",
       "      <td>11</td>\n",
       "      <td>11</td>\n",
       "      <td>2012</td>\n",
       "    </tr>\n",
       "  </tbody>\n",
       "</table>\n",
       "</div>"
      ],
      "text/plain": [
       "      Region      Trigger                   Weak Layer     Aspect  \\\n",
       "0  Salt Lake  Snowboarder  New Snow/Old Snow Interface      North   \n",
       "1  Salt Lake        Skier  New Snow/Old Snow Interface      North   \n",
       "2  Salt Lake        Skier                       Facets      North   \n",
       "3  Salt Lake        Skier                     New Snow  Southeast   \n",
       "4  Salt Lake        Skier                       Facets      North   \n",
       "\n",
       "   Depth_inches  Elevation_feet  Day  Month  Year  \n",
       "0            14         10400.0    9     11  2012  \n",
       "1            30          9700.0   11     11  2012  \n",
       "2            36         10200.0   11     11  2012  \n",
       "3            18         10200.0   11     11  2012  \n",
       "4            42         10400.0   11     11  2012  "
      ]
     },
     "execution_count": 26,
     "metadata": {},
     "output_type": "execute_result"
    }
   ],
   "source": [
    "av_ut2.head()"
   ]
  },
  {
   "cell_type": "code",
   "execution_count": 27,
   "id": "2bce347e-167e-4a9c-9893-4b1002fada25",
   "metadata": {},
   "outputs": [
    {
     "data": {
      "text/plain": [
       "count         2372.0\n",
       "mean     9507.293423\n",
       "std      1104.926246\n",
       "min           5100.0\n",
       "25%           9000.0\n",
       "50%           9700.0\n",
       "75%          10200.0\n",
       "max          12200.0\n",
       "Name: Elevation_feet, dtype: Float64"
      ]
     },
     "execution_count": 27,
     "metadata": {},
     "output_type": "execute_result"
    }
   ],
   "source": [
    "av_ut2[\"Elevation_feet\"].describe()"
   ]
  },
  {
   "cell_type": "code",
   "execution_count": 30,
   "id": "3b0198c2-572d-4d38-8fff-335d160a248c",
   "metadata": {},
   "outputs": [
    {
     "data": {
      "text/plain": [
       "2010"
      ]
     },
     "execution_count": 30,
     "metadata": {},
     "output_type": "execute_result"
    }
   ],
   "source": [
    "av_ut3 = av_ut2[av_ut2[\"Year\"] >= 2010]\n",
    "\n",
    "av_ut3[\"Year\"].min()"
   ]
  },
  {
   "cell_type": "code",
   "execution_count": 28,
   "id": "7f51677c-e30a-485f-8819-bb40be0bd316",
   "metadata": {
    "__GENERATED_DATAFRAMES__": "ᯡࡁ䃼࿀圡㠹䈡㥠ঠ昣䦠嬢䱷൜␡傠ዠ㎠ᄡḡ洔偑䕘Ř柠⿏† ",
    "__has_persist_output": true,
    "trrack_graph": "ᯡ࠽䈌ʀ匦㢠⹰ࢀᬠᰠ〽䊣೰ୣὉ䐢敊ᅈڂ東ĸ倪懿l㮿柞ተ¶⡨⇳〮ᛉ⵶䆳⬮滝簨䀡傠Ǒ․ㆣ幀ॢȠஶ䠸ᢀ地䆼廟䀢汇⨠Ꭳ删᭤گ匫‡䳸つಝƱʴᛤ⟲䏤䢐ᇸ⹐猽Τ+囱槹ರ壺粟ਥ䘪/ጢ⍐熸栠个ๆഭ䛩滰˸恌⡢ॐ⑘拸™汤Ҵ䈕映殁䩏嶈ᑰؖ殍時жх䫼ᚆ॑〤砠ᶏ亾劕揤ᡱ涋ㅦᭀⁱᱣd尼ਨ␀䑖̡ॐᑎأఈᐴɊ䪔桲ມⅠ做ਥ捸྇屣⣠畻徃➉←䩃৤ॄ形䧄ᤸୃ䨄Լኌݙ甝ቍ૥熝ᅌ䫅椴ፍ䦁㦝Ὀ⪴ت姠͉ೄ㵪 ࠠ䵪㟯吠ᑼᘫÃ甶пⳕソ2䶇ᒞ朼Ϗ惌檷䐇礶惇⌦䑰久ݣ㌲ᠡ⪵䙲ᰮݤ瓐昬ೡ⁐昦౶椾涣䔀䥐尡̓ᄄ㈢䣡ㇸ丯ߠৼ媾峵㗺⺯⎠恐䭰戥෦䦪ൔ夊禰㋓ⱀ䷖比崮ॏ䊓ᱎ旖䜥ࢀH䉁ଊᝰਡȍ娠ᗬŝ癫痪䯙ṏࠠ壒㳟㿨ᔠ₯㢿撙甘ᜇ暕ϧࠠẴ䤡ု焈珩禚㊧梠䎫礞术砡⡅窡本ܢ洦ס焷䂀ਸ਼ী昨䆐簳冐䒮䆐న䊔簳ᤰ❭䡤昫䂐ᐳ冨ᑄΞ焥Ђ欻ޡ䉊թ䦸殌₱桰䴱槐敊槀㕗ʉళ⚔ΰ✩朴▨恂愁ာ֠ᐴ㏞塞ޚ㭷捁䴵ҩㅔ枹ず灠缶攱▴ɾ愸學ࢸℸ⠽㪠ヂឨ㥉昚凬ဠ䥧湀瞄ዑ┕栲ᓭ᫆ᴭᤈ炍ᯅਣ䂐峁ᚤ⒗ᴘ䄐ῂ粓朠㰠࿉̜名稊⾣ʒ忎神㽲ㅡࢺⷄऩⲃ㖏↋㊠泴㎄峪㶠ָጂೣҏ⏃ᔧബᲄ䱳᪁䳓຀ᓤ㎫孉㻱⃃੤㯹ʄ⃮檎䵓㚋䳵↠Ѽబᡀ㶠㐰滀樕ぼذ㚮疫ᡳ倦箯甜i㦠悌ⶥ⣄摅ᓍౙ᳅搵ዂ嘙㕪氺㮈䃺ݭ梳ت䴸䣦ᡆ⁄䯧᳠壯⫡壖໣㲮ଌᅮ࿎峎㜇尯ә᧏♒ŏ˜妏෠糩㎢糿ı簢嵻綡桕䎺渺毺坳樬絿灡綮፭䖽玜痘㜍䧖㏠喳㍽稴㠍䞹ᐞᄻ癠ذ⁝枳殕嶾Ⴑ䩚࿣怰睝渿䏀炔紈ᨭ⍉ᝄℨସ䦸ᘤ摈ຄ⃘穨んᘡࢲ㎺犬捱᎐听ሜ࿉ᶚ碡ǯᖯ塶ᯯ䁞៨灆䑥᫄㦋ᯨ㳳ℶ劯⵴ᎁ凶祠Әⵆ࿬ㆉძÅị̘儋ન淴₭⧯⾭䟤㷾യ司㯾䧸䶳៹㮞爴  "
   },
   "outputs": [
    {
     "data": {
      "application/vnd.jupyter.widget-view+json": {
       "model_id": "82dc78ae92ef4830a3b4508ea409bf8a",
       "version_major": 2,
       "version_minor": 1
      },
      "text/plain": [
       "PersistWidget(data_values=[{'__id_column': '1', 'Region': 'Salt Lake', 'Trigger': 'Snowboarder', 'Weak Layer':…"
      ]
     },
     "execution_count": 28,
     "metadata": {},
     "output_type": "execute_result"
    }
   ],
   "source": [
    "PR.plot.barchart(av_ut2, x=\"Year:O\", y=\"count()\", df_name=\"av_ut3\", selection_type=\"interval\")"
   ]
  },
  {
   "cell_type": "code",
   "execution_count": 31,
   "id": "3b84f725-82f4-42ba-b13b-7d7fe76ee83e",
   "metadata": {},
   "outputs": [
    {
     "data": {
      "text/html": [
       "<div>\n",
       "<style scoped>\n",
       "    .dataframe tbody tr th:only-of-type {\n",
       "        vertical-align: middle;\n",
       "    }\n",
       "\n",
       "    .dataframe tbody tr th {\n",
       "        vertical-align: top;\n",
       "    }\n",
       "\n",
       "    .dataframe thead th {\n",
       "        text-align: right;\n",
       "    }\n",
       "</style>\n",
       "<table border=\"1\" class=\"dataframe\">\n",
       "  <thead>\n",
       "    <tr style=\"text-align: right;\">\n",
       "      <th></th>\n",
       "      <th>Region</th>\n",
       "      <th>Trigger</th>\n",
       "      <th>Weak Layer</th>\n",
       "      <th>Aspect</th>\n",
       "      <th>Depth_inches</th>\n",
       "      <th>Elevation_feet</th>\n",
       "      <th>Day</th>\n",
       "      <th>Month</th>\n",
       "      <th>Year</th>\n",
       "    </tr>\n",
       "  </thead>\n",
       "  <tbody>\n",
       "    <tr>\n",
       "      <th>0</th>\n",
       "      <td>Salt Lake</td>\n",
       "      <td>Snowboarder</td>\n",
       "      <td>New Snow/Old Snow Interface</td>\n",
       "      <td>North</td>\n",
       "      <td>14</td>\n",
       "      <td>10400</td>\n",
       "      <td>9</td>\n",
       "      <td>11</td>\n",
       "      <td>2012</td>\n",
       "    </tr>\n",
       "    <tr>\n",
       "      <th>1</th>\n",
       "      <td>Salt Lake</td>\n",
       "      <td>Skier</td>\n",
       "      <td>New Snow/Old Snow Interface</td>\n",
       "      <td>North</td>\n",
       "      <td>30</td>\n",
       "      <td>9700</td>\n",
       "      <td>11</td>\n",
       "      <td>11</td>\n",
       "      <td>2012</td>\n",
       "    </tr>\n",
       "    <tr>\n",
       "      <th>2</th>\n",
       "      <td>Salt Lake</td>\n",
       "      <td>Skier</td>\n",
       "      <td>Facets</td>\n",
       "      <td>North</td>\n",
       "      <td>36</td>\n",
       "      <td>10200</td>\n",
       "      <td>11</td>\n",
       "      <td>11</td>\n",
       "      <td>2012</td>\n",
       "    </tr>\n",
       "    <tr>\n",
       "      <th>3</th>\n",
       "      <td>Salt Lake</td>\n",
       "      <td>Skier</td>\n",
       "      <td>New Snow</td>\n",
       "      <td>Southeast</td>\n",
       "      <td>18</td>\n",
       "      <td>10200</td>\n",
       "      <td>11</td>\n",
       "      <td>11</td>\n",
       "      <td>2012</td>\n",
       "    </tr>\n",
       "    <tr>\n",
       "      <th>4</th>\n",
       "      <td>Salt Lake</td>\n",
       "      <td>Skier</td>\n",
       "      <td>Facets</td>\n",
       "      <td>North</td>\n",
       "      <td>42</td>\n",
       "      <td>10400</td>\n",
       "      <td>11</td>\n",
       "      <td>11</td>\n",
       "      <td>2012</td>\n",
       "    </tr>\n",
       "  </tbody>\n",
       "</table>\n",
       "</div>"
      ],
      "text/plain": [
       "      Region      Trigger                   Weak Layer     Aspect  \\\n",
       "0  Salt Lake  Snowboarder  New Snow/Old Snow Interface      North   \n",
       "1  Salt Lake        Skier  New Snow/Old Snow Interface      North   \n",
       "2  Salt Lake        Skier                       Facets      North   \n",
       "3  Salt Lake        Skier                     New Snow  Southeast   \n",
       "4  Salt Lake        Skier                       Facets      North   \n",
       "\n",
       "   Depth_inches  Elevation_feet  Day  Month  Year  \n",
       "0            14           10400    9     11  2012  \n",
       "1            30            9700   11     11  2012  \n",
       "2            36           10200   11     11  2012  \n",
       "3            18           10200   11     11  2012  \n",
       "4            42           10400   11     11  2012  "
      ]
     },
     "execution_count": 31,
     "metadata": {},
     "output_type": "execute_result"
    }
   ],
   "source": [
    "av_ut3.head()"
   ]
  },
  {
   "cell_type": "code",
   "execution_count": 32,
   "id": "9812882e-1afd-41c8-8c73-0c71d0fbeb5f",
   "metadata": {},
   "outputs": [
    {
     "data": {
      "text/plain": [
       "2010"
      ]
     },
     "execution_count": 32,
     "metadata": {},
     "output_type": "execute_result"
    }
   ],
   "source": [
    "av_ut3[\"Year\"].min()"
   ]
  },
  {
   "cell_type": "code",
   "execution_count": 37,
   "id": "1bdb40d9-5e06-406d-816d-48b7d7bcf5e7",
   "metadata": {},
   "outputs": [
    {
     "data": {
      "text/plain": [
       "Av_Season\n",
       "Middle    1581\n",
       "Start      522\n",
       "End        222\n",
       "Name: count, dtype: int64"
      ]
     },
     "execution_count": 37,
     "metadata": {},
     "output_type": "execute_result"
    }
   ],
   "source": [
    "av_ut4 = av_ut3.copy()\n",
    "\n",
    "# Create a new column and set all values as `End`\n",
    "av_ut4[\"Av_Season\"] = \"End\"\n",
    "\n",
    "# Assign `Start` to records for months 10, 11, 12\n",
    "av_ut4.loc[av_ut4[\"Month\"] >= 10, \"Av_Season\"] = \"Start\"\n",
    "\n",
    "# Assign `Start` to records for months 10, 11, 12\n",
    "av_ut4.loc[av_ut4[\"Month\"] <= 3, \"Av_Season\"] = \"Middle\"\n",
    "\n",
    "av_ut4[\"Av_Season\"].value_counts()"
   ]
  },
  {
   "cell_type": "code",
   "execution_count": 33,
   "id": "25e794cf-35ee-4972-8ba8-1d3b8778253b",
   "metadata": {
    "__GENERATED_DATAFRAMES__": "ᯡࡁ䃼࿀圡㠥䈡㥠ঠ昣䦠嬢䱷൜␡傠ዠ㎠ᄡḡ洔偑䕘Ř柠⿏† ",
    "__has_persist_output": true,
    "trrack_graph": "ᯡ࠽䈌ʀ匦㢠⹰Ǡㆠ昧〩䔠ᠣ〫⍰縢妨ˣ䜡䳤兠ᆫ᫻恁僌綏䒴E䨲࢔沘䕫䥵傄櫽嫇ᐾ縢†桠ù㣑䏾ဩ™+䝨ఠ㜸ヷࡣ䵹孠ƌ៊3凩-傱∳梑Р临ഴảͣ͢䜱㣃呼⚚ᜦࢪဨ慡惑偠Ú嵝㷑䤿ெ䀪牸惀ĒいŶÚᵥ䅧愀఑畀{౅䮨∥挤䍮ⶤႽ䑀敨֢怭㜺爘瞣攠彽Ȓ挫䚩で⺍悶ビ䬠➠ǹ猅癩濜↤✭䞂灬搨ੇࢀమ֢䃨㑑š⁐䙍̡䆨ᙆ⢱ヂ䉒⽦僀碴Ρ壾俘䣱䆺枩惭榸烄⌳䐲⒪⚰擒ᐮ➶䒪ኹ⸬䉼晤ⴵ䖩ຕವ◲䳖⮷撥劭䂂ᣡဠࡂ␠Ҁఠޗ櫰㩠ກș⾝‮⇵氠㺠ೋ◡⭛⛣⤣彫㫺碙广F墤ై䊥惀ᐢ墯⁰儵ਠ⤀䱜乗ذⱌ筒怴㍭帀㩙丩ጫ䀰⑒ኣ⇱ಆඡ惑屾ᾨၔ䴶巆宕㴬傏䐬սኍ᫭獥姂妧ᮍ䈧堼䞛䴇ᨙឋ圌㬈灱ؠʨ〸㉫㼥‰㜄\"峠琑櫜㴉ឧ昑ƫ䬷䰭΢値༗ࠢ㯠ヰ㏫凿➮ဠ㵅ᔢ Ᏸ埋睔ⴵ凔‹昝羫䐣䂌༢傄ᗱ炂༰㡞რ栶͠吥ۀ犽ぉ⤪Ơ儺぀՝ˠ䞥̃凚໱ᢘ䌀⒭䟢⹄೼㎷灢彀䦑䉸䇼栿牣纺࢈檀㆑໋垕⭚ख़ᬯ捠缠ኑ♔ᜱቅㆰ㗜䟌䨳㕰ⷚ䎌籀䕽唣䌤Պ炬冬㎬ল㎩⧚㟡ᦴۭ㦻M㌸儡纔㖭燂㙬慪Ⴋ䐶㇬兾㎪啁䗉婡剕⚿癹⭝冕博珕竅䂠曆俔㩻匀Ẹ̕㨯卍䡬գƣ☭繀❸‶ơ⦼ፅ䐴ل⩇૩┸⎻瑁˘㡈撨ԦÈ恩㘕Åኵ泂⎴峂嘅糊噉櫇㗅嶧⌈㴿Ⅰ⍞ݺ㡈犸㍘ᒼ噔石睎䞽ு柝杚瘰圭揘ᬮ珽ߑ玧㌽焧埍烜⮮犙侵ᆑ濇牃忚掲‮໘碓₣抄䵹ၼٲ咩ᦳ戥⪲ᡨМ䉨䡛ᙍᤠቭ憽ၧῳ⳩ঐ㕥栃攅ᤣ≭ᡃ੼ത勨͠倴⚭ⱴ۪ԥѥ吪́吺⑀尶⌃硆áХơᛶݢ䚇䘙罀ᓐᙾ漴ᗔ䛌爽㑱ඪ䍰ᩛ㠃稭⌤㡊璻卩ᎂ୭ɺ墺ջ焦欀孰摁㮜⬰⸢㶤䧼楯吺㥺␶㳻实㯻ն地窴є⛞圶恝倡㋂ਦ唕㇎㕈⁕㗮巌痽㛠㡧㿌ൡ䟥ඁ䐦傤ܤ㮘ଧ䛊᣹ప丷がἣィᜥ浈׺ᚧⳒ□㕉פ䍈曹⩍斤Ὁ䰯⺱癏㿑ᭃ௱琥岓红戣╵买㗸綡٘曘᮵౑垒恒ᢾᷥて䲍䇇஬侼ࢀ屡ত૓ဆ獌჆ᠤɴ擌˪؉䰡䗛慠環歞煄檧ᚴဤ㑗؈ぺ⃁ো᭑㢜ʨప⡘ഹ␵䗮寂ᡁ⁰द␼Ģर၈࿱⻸㑝䳫㷅䨛ᒢ噹׌Ԡ泪೹ⶳ⁜䫀掲ϰ⬃⼭熠⸃廅͡篭ᄯ䬰侫ƿム恫瑎焢熻攡寨䥜㪣㱷̘爕ᾜݞ悲癭汵㪴呛䯛浞狾ᄒ㖙猾ݡẚ◵庶㴚卪ឨㆭࡦ䈬׀Ĩ怴ྠ尳अብᠬϰ⌦Ẍ⊨㔵㛉俔澦緤Ә曒㥠⋲悅僮ᬎ媕枼׻精埒庠炬̦棰చ倠٫Մᣬഀ㦐㙊灼౔溘゘⒄㰸ᚭ壧ʏ༤Ἶᤰ䰁ᄆ䙆儱⅜涥籎䐙䡥ᡫא擕㹜䬰⺀״᭣૤ੵ嶦彝Ð༣儼Ѩ溢儼ݒ椺࣒੒≕૑ᜢ䚊ױ䶎癆⨍晨揫Ӧ沰㡸掳ܷႮ睅๾Ⱶ吵㠺⧆㺲ᇔ䝩ㅤ䚂庼ℝᵡ͍⮠䚈儷ⶢṡ⦉ᅴ䡽ᅊ絆&⢄ᖙᏄ盃㪊䇘嚯呝櫐˿⠠ʤ〺䧊匠ɰ⪉㎨ᰦᠳ應昌ࡀɑ㤫Ƕ匳瀹磰⹢傔䍠玁⁙䌡吪ᠣ㚲䚑㊦ᦇӗ಩༷帲ᐂ㍏抲╄䉺曔㏴⁞掚ᆨ₋浠筂㡀⤇Ʈڼ匄䍤໙搳䇈႘ཙː㨆㙋栖篬ჰف䊃禄᠒擷䌡㲀‣䈨挩஝ᖥ⨰围惣扸䍁㷶㵭愐屏⻥漲ᄼ⋏䒌嗓瑭墠瀬Ȭഢ၊èࢪ⁀☱琨僀ऐ巊眓⫓ु㍝ᑻᢶ唁㓨ၦ᭠ਨ狆⧥缙ᐆㆹ嵢映尲ㆠ无㶉嗐簻䱤ᠣ䚈模Ʀ䄴ᡡ䬭䂀ウᡈަ倭⏔㹁₁䎦劐㉠⤷擘㼂勓澦࡟⣰㔦㠼兮ἧ䦢䬾僑た˜㠩灮䷛≃ⳝ䘡籜ॲ熵᥏㈖⭏盆ច䇲押屙岶䊙ά‪ռ罽䁡屠⇙ዣ⌠⍴Ⅶ剅䜘櫖氤䵪幁皐ᨩ৮䍮Ꮩ枹䛩刓䓵缚ѵ媧⤀ថⵗ㧕ᥭ媹㝼❰瘚䖦➼橈昣䘢ĕ╮劊为☊ೞ徠〧儩㙃ᣚƘ歩磺၅ᘡ䄑ް㰭厳㲄尠团Ⴭ㔖䳵煳楚埊狘㌭㍹㬩㒌耗㶄䠸⢫⸀ᕘ汄玀◔ၵ曣⨄眛䥦叧涷䡛ⷑ硺Ἲ彉ݩ㿫⼂徽෴ᆒテ䪘䎐恁杢畂碴㲋⟄Ńᷴ᠖澊հ紬绫瀝刺ࣀᶧѹݻ嘒㯏楧䴫ᇠ䐣僕ἕ㖜厊榤෌␭䆠⚣ॊ≦ᭇₜʪ箃䣑គ功޵亻ជ₃咾☁իᬤ晊⻭ⱊ⑔䬽㓎労䝰䭪৻ဥ䯶è滿⌔憷Ⲡ㦸綱݋ຒᬹ๶㸄䠰䅷໌᫵慕帋潖復ໞ楽㏶浜䈖∳ᕹ尴⍾璶嶩ᮕ䂖篋嶁Ⴝ翍඘䂺䅻㜶ᴐ孰⣙㽠⻌国㌭瞕䅵浩⽒ᓂᣠ皓⍃竭㱢斠∺ሴŤ䒢䇬ˬ磷檻ƍ刼摏ᴖ箥睄䘏ᡭ㽗୔䐝◜嫖≧ቦ汬⿳圍幙⛷尐ᆒ僩ή漅偯㞽䠣惽˛г㯒∠揉ޞ⭯➁痣橚୆࡝柒䝒㴥椕❿὏睮ἢ䉞⊬㢰竘癳⦩炾ዣ㼶ٚ槶Ⅱ恆↼撀吓纥粠揮ဢ䟐⁧ด稣䇈ᴁⵆ㲔䅔ᶀ䐦攖懇ᤰᕢ搬㿀Შ溡䊐僙ൈ毀䙕硝ౠš敶䁻శ০湐ጨĘ梄䡴ৌϔ༡ॕ憾Ȩ或䕖⦵籐ᄨ✠榶䳸ᵪ喗勏夹⎄䄇ᢣ䥣䶂坅壗ᗌ斠㽀禠恴╠㉦भ_䦨⌔⠬嗀湾䬗㓈⑼াᴩ柞䐓撁ⱦឭū憁Ả墈㷔䟮哗橚ⲅ淼᭴炠碀ζ戅志㈕Ѷዕ㪼祊浪櫓哒緕䰢ਤ㒳䋀殢ὖ䕑à簥⠱₁Š怰෍㷤⽶ྐ宷巍澠盗᭝崣毶析硂涟䙺䶰¨憠∢戓¡昋␬栲汄緮⾢㛲᷍攱䃞㏔惒縛⫞Ⲇ嶧敧⏦Ḕ亾絨昮忕㶥簤ᘖ⾵䎤ᱏ搮扒᲎扰ᚡ倭亥搐ᠦ戯忂ᔎᦞᚆ徥ⱅ涑硵揓戩時䓆ౚ稂⃱稦克䌉朂⃀⑌Ⴝ俰ᣴ勏Ϲ沦憀䊻握ҡἮ玨¥泡⼀硕◔䵎仁塎ቼఱ渶⮾䖉₂絖ᣜ䋕抆㙱⢇ᕌ澂⎔‪ŷɨ⢥⒚⍭䉰ン‮␈侱䊩∦祪ံᜢ牯Ꮽ䟩Ⲭ੶ᆒ᎚稠ᒞュቱᐠ樢ⳣ抾獲䟍嗈ஶ䈠➬碳斩ᔖ窭ⷦ仔Ṃ឵㗒䖪ັ⁀擲ନ䘠经Ѡ揤䴵砮乱䓆梖㴔ើ䌬ឫ䋬ᙾẤ墌৛滒䀀囔ఽ䡠䷐౸紻❘冭㛁沎⦘⻷⃏㘆ᦖ▯⾪拗曑ߗპ綾沑ᐩῃ抯挑∫籤⍞ᒚᐭ籦墳ڪⱴᑑ䈶ὕ䑌⡟泤汤☺硑͐ѯ级Ḏ᛬䠮䂚悋Ⅰ洤ဢ˹歙⑪岓籂ᶡ䷩ᲁɨ晦〠凘䃈捦䨨傭θ斊䧲硛෕צ崦濋͖F悢Ъ狷Ṇ䍁乾搄桁ᕑ࢚䵔渘䤩榽ᔬ⭁ඒᦫᒴᯎ獓⢁嶪䔰嗡婶čẌ尦ḭƽᦨᴄۜ㆚॔潯嗝ⷌሠొ慣厐劌ᝬᆛ剨嘉෇ᅺ☂泼漩►⴩ᕴ᭶䊸⊺䄱䋑㐬⌳朱ྫ➯呑䊺㍮䩬㆙ᦱŪ੾≵ᩉ抭ᒑ㗺៾⺫ᄧ畳ᝐ䆩涤簷ڒ泮䍄挓᪖䞳Ḣ掐⑚ȵ巇斸᥹⧲污綋ᴑ綪ࡵᇮἮɕᱨḅ䢞ఒ屿䬻ᒮᰫ烙籰ᰥ戬掠栣۹⁲㱡൛ᒤ㉁䛄㒸ǔ玁戣⌎俹䞇ဴ∁ި墴籿̇Ჩ㆕⊏ᷘ塎暅㹎Ꮵ梵㑀኎䠢ᱩ冖̫Ώᖒ剺岀墆晴⡮峬懪୓壔㣹ቐ䙠匥䃫ଥ㇎毉䷹⿎⹰㐵焜9橏ⵖଽឥً㪑ଢ଼ᙥ彯ℰ  "
   },
   "outputs": [
    {
     "data": {
      "application/vnd.jupyter.widget-view+json": {
       "model_id": "44ee38430e88469bb93c78975d8818d8",
       "version_major": 2,
       "version_minor": 1
      },
      "text/plain": [
       "PersistWidget(data_values=[{'__id_column': '1', 'Region': 'Salt Lake', 'Trigger': 'Snowboarder', 'Weak Layer':…"
      ]
     },
     "execution_count": 33,
     "metadata": {},
     "output_type": "execute_result"
    }
   ],
   "source": [
    "selection = alt.selection_interval(name=\"selection\", encodings=[\"x\"])\n",
    "\n",
    "chart = alt.Chart(av_ut3).mark_bar().encode(\n",
    "    x=alt.X(\"Month:O\").sort([10]),\n",
    "    y=\"count()\",\n",
    "    opacity=alt.condition(selection, alt.value(1), alt.value(0.2)),\n",
    ").add_params(\n",
    "    selection\n",
    ").properties(\n",
    "    width=500\n",
    ")\n",
    "\n",
    "PR.PersistChart(chart, df_name=\"av_ut4\")"
   ]
  },
  {
   "cell_type": "code",
   "execution_count": 34,
   "id": "bc1847b2-c694-4ae8-9e84-bfb35aebd05e",
   "metadata": {},
   "outputs": [
    {
     "data": {
      "text/html": [
       "<div>\n",
       "<style scoped>\n",
       "    .dataframe tbody tr th:only-of-type {\n",
       "        vertical-align: middle;\n",
       "    }\n",
       "\n",
       "    .dataframe tbody tr th {\n",
       "        vertical-align: top;\n",
       "    }\n",
       "\n",
       "    .dataframe thead th {\n",
       "        text-align: right;\n",
       "    }\n",
       "</style>\n",
       "<table border=\"1\" class=\"dataframe\">\n",
       "  <thead>\n",
       "    <tr style=\"text-align: right;\">\n",
       "      <th></th>\n",
       "      <th>Av_Season</th>\n",
       "      <th>Region</th>\n",
       "      <th>Trigger</th>\n",
       "      <th>Weak Layer</th>\n",
       "      <th>Aspect</th>\n",
       "      <th>Depth_inches</th>\n",
       "      <th>Elevation_feet</th>\n",
       "      <th>Day</th>\n",
       "      <th>Month</th>\n",
       "      <th>Year</th>\n",
       "    </tr>\n",
       "  </thead>\n",
       "  <tbody>\n",
       "    <tr>\n",
       "      <th>0</th>\n",
       "      <td>Start</td>\n",
       "      <td>Salt Lake</td>\n",
       "      <td>Snowboarder</td>\n",
       "      <td>New Snow/Old Snow Interface</td>\n",
       "      <td>North</td>\n",
       "      <td>14</td>\n",
       "      <td>10400</td>\n",
       "      <td>9</td>\n",
       "      <td>11</td>\n",
       "      <td>2012</td>\n",
       "    </tr>\n",
       "    <tr>\n",
       "      <th>1</th>\n",
       "      <td>Start</td>\n",
       "      <td>Salt Lake</td>\n",
       "      <td>Skier</td>\n",
       "      <td>New Snow/Old Snow Interface</td>\n",
       "      <td>North</td>\n",
       "      <td>30</td>\n",
       "      <td>9700</td>\n",
       "      <td>11</td>\n",
       "      <td>11</td>\n",
       "      <td>2012</td>\n",
       "    </tr>\n",
       "    <tr>\n",
       "      <th>2</th>\n",
       "      <td>Start</td>\n",
       "      <td>Salt Lake</td>\n",
       "      <td>Skier</td>\n",
       "      <td>Facets</td>\n",
       "      <td>North</td>\n",
       "      <td>36</td>\n",
       "      <td>10200</td>\n",
       "      <td>11</td>\n",
       "      <td>11</td>\n",
       "      <td>2012</td>\n",
       "    </tr>\n",
       "    <tr>\n",
       "      <th>3</th>\n",
       "      <td>Start</td>\n",
       "      <td>Salt Lake</td>\n",
       "      <td>Skier</td>\n",
       "      <td>New Snow</td>\n",
       "      <td>Southeast</td>\n",
       "      <td>18</td>\n",
       "      <td>10200</td>\n",
       "      <td>11</td>\n",
       "      <td>11</td>\n",
       "      <td>2012</td>\n",
       "    </tr>\n",
       "    <tr>\n",
       "      <th>4</th>\n",
       "      <td>Start</td>\n",
       "      <td>Salt Lake</td>\n",
       "      <td>Skier</td>\n",
       "      <td>Facets</td>\n",
       "      <td>North</td>\n",
       "      <td>42</td>\n",
       "      <td>10400</td>\n",
       "      <td>11</td>\n",
       "      <td>11</td>\n",
       "      <td>2012</td>\n",
       "    </tr>\n",
       "  </tbody>\n",
       "</table>\n",
       "</div>"
      ],
      "text/plain": [
       "  Av_Season     Region      Trigger                   Weak Layer     Aspect  \\\n",
       "0     Start  Salt Lake  Snowboarder  New Snow/Old Snow Interface      North   \n",
       "1     Start  Salt Lake        Skier  New Snow/Old Snow Interface      North   \n",
       "2     Start  Salt Lake        Skier                       Facets      North   \n",
       "3     Start  Salt Lake        Skier                     New Snow  Southeast   \n",
       "4     Start  Salt Lake        Skier                       Facets      North   \n",
       "\n",
       "   Depth_inches  Elevation_feet  Day  Month  Year  \n",
       "0            14           10400    9     11  2012  \n",
       "1            30            9700   11     11  2012  \n",
       "2            36           10200   11     11  2012  \n",
       "3            18           10200   11     11  2012  \n",
       "4            42           10400   11     11  2012  "
      ]
     },
     "execution_count": 34,
     "metadata": {},
     "output_type": "execute_result"
    }
   ],
   "source": [
    "av_ut4.head()"
   ]
  },
  {
   "cell_type": "code",
   "execution_count": 35,
   "id": "5dfed583-f6fd-42f2-9c50-366342ccbe0c",
   "metadata": {},
   "outputs": [
    {
     "data": {
      "text/plain": [
       "Av_Season\n",
       "Middle           1581\n",
       "Start             522\n",
       "End               222\n",
       "No Assignment       0\n",
       "Name: count, dtype: int64"
      ]
     },
     "execution_count": 35,
     "metadata": {},
     "output_type": "execute_result"
    }
   ],
   "source": [
    "av_ut4[\"Av_Season\"].value_counts()"
   ]
  }
 ],
 "metadata": {
  "__persist_keys_record": [
   "__GENERATED_DATAFRAMES__",
   "__persist_nb_uuid__",
   "trrack_graph"
  ],
  "__persist_nb_uuid__": "eeee9574-c43c-443a-9442-4301689df2f3",
  "kernelspec": {
   "display_name": "Python 3 (ipykernel)",
   "language": "python",
   "name": "python3"
  },
  "language_info": {
   "codemirror_mode": {
    "name": "ipython",
    "version": 3
   },
   "file_extension": ".py",
   "mimetype": "text/x-python",
   "name": "python",
   "nbconvert_exporter": "python",
   "pygments_lexer": "ipython3",
   "version": "3.12.3"
  }
 },
 "nbformat": 4,
 "nbformat_minor": 5
}
