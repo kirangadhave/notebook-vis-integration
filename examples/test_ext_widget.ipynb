{
 "cells": [
  {
   "cell_type": "code",
   "execution_count": 1,
   "id": "58a571e7-b16b-4335-95c3-95ffc70177b2",
   "metadata": {},
   "outputs": [],
   "source": [
    "import persist_ext as PR"
   ]
  },
  {
   "cell_type": "code",
   "execution_count": 2,
   "id": "d4d17ed3-fca2-4c0f-afdc-3d0be9946f50",
   "metadata": {
    "trrack_graph": "\"\\\"{\\\\\\\"nodes\\\\\\\":{\\\\\\\"b270ac3a-1a78-461d-b24d-5f86be390600\\\\\\\":{\\\\\\\"id\\\\\\\":\\\\\\\"b270ac3a-1a78-461d-b24d-5f86be390600\\\\\\\",\\\\\\\"label\\\\\\\":\\\\\\\"Root\\\\\\\",\\\\\\\"event\\\\\\\":\\\\\\\"Root\\\\\\\",\\\\\\\"children\\\\\\\":[],\\\\\\\"level\\\\\\\":0,\\\\\\\"createdOn\\\\\\\":1693885431000,\\\\\\\"meta\\\\\\\":{\\\\\\\"annotation\\\\\\\":[],\\\\\\\"bookmark\\\\\\\":[]},\\\\\\\"artifacts\\\\\\\":[],\\\\\\\"state\\\\\\\":{\\\\\\\"type\\\\\\\":\\\\\\\"checkpoint\\\\\\\",\\\\\\\"val\\\\\\\":{\\\\\\\"interaction\\\\\\\":\\\\\\\"hello\\\\\\\"}}}},\\\\\\\"root\\\\\\\":\\\\\\\"b270ac3a-1a78-461d-b24d-5f86be390600\\\\\\\",\\\\\\\"current\\\\\\\":\\\\\\\"b270ac3a-1a78-461d-b24d-5f86be390600\\\\\\\"}\\\"\""
   },
   "outputs": [
    {
     "data": {
      "application/vnd.jupyter.widget-view+json": {
       "model_id": "e7c3fde9b75146a486ac97fe25872529",
       "version_major": 2,
       "version_minor": 0
      },
      "text/plain": [
       "VBox(children=(HeaderWidget(), HBox(children=(BodyWidget(), TrrackWidget()), layout=Layout(justify_content='sp…"
      ]
     },
     "execution_count": 2,
     "metadata": {},
     "output_type": "execute_result"
    }
   ],
   "source": [
    "PR.TrrackableOutput()"
   ]
  }
 ],
 "metadata": {
  "kernelspec": {
   "display_name": "Python 3 (ipykernel)",
   "language": "python",
   "name": "python3"
  },
  "language_info": {
   "codemirror_mode": {
    "name": "ipython",
    "version": 3
   },
   "file_extension": ".py",
   "mimetype": "text/x-python",
   "name": "python",
   "nbconvert_exporter": "python",
   "pygments_lexer": "ipython3",
   "version": "3.8.16"
  }
 },
 "nbformat": 4,
 "nbformat_minor": 5
}
