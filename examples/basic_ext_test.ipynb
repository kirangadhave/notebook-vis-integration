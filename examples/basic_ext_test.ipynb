{
 "cells": [
  {
   "cell_type": "code",
   "execution_count": 2,
   "id": "9992eeb6-4642-47ab-b365-162385d0362e",
   "metadata": {
    "trrack_graph": {
     "current": "16365eaf-61dc-4d1e-af4a-88727c13d4f9",
     "nodes": {
      "16365eaf-61dc-4d1e-af4a-88727c13d4f9": {
       "artifacts": [],
       "children": [],
       "createdOn": 1680750958567,
       "event": "Root",
       "id": "16365eaf-61dc-4d1e-af4a-88727c13d4f9",
       "label": "Root",
       "level": 0,
       "meta": {
        "annotation": [],
        "bookmark": []
       },
       "state": {
        "type": "checkpoint",
        "val": {
         "interactions": []
        }
       }
      }
     },
     "root": "16365eaf-61dc-4d1e-af4a-88727c13d4f9"
    }
   },
   "outputs": [
    {
     "name": "stdout",
     "output_type": "stream",
     "text": [
      "Loaded InteractiveDE extension version 1.0.1a0\n",
      "Extension enabled for altair\n",
      "Test\n"
     ]
    }
   ],
   "source": [
    "import altair as alt\n",
    "import pandas as pd\n",
    "\n",
    "import interactivede.ide as IDE # Our library\n",
    "\n",
    "IDE.enable('altair') # Call this to enable integration with altair\n",
    "print(\"Test\")"
   ]
  },
  {
   "cell_type": "code",
   "execution_count": 3,
   "id": "adc9a6fd-e1c2-4ca7-a977-12ad210eadeb",
   "metadata": {
    "trrack_graph": {
     "current": "cbd78920-67b8-4628-974d-550222e3e93b",
     "nodes": {
      "cbd78920-67b8-4628-974d-550222e3e93b": {
       "artifacts": [],
       "children": [],
       "createdOn": 1680750953361,
       "event": "Root",
       "id": "cbd78920-67b8-4628-974d-550222e3e93b",
       "label": "Root",
       "level": 0,
       "meta": {
        "annotation": [],
        "bookmark": []
       },
       "state": {
        "type": "checkpoint",
        "val": {
         "interactions": []
        }
       }
      }
     },
     "root": "cbd78920-67b8-4628-974d-550222e3e93b"
    }
   },
   "outputs": [],
   "source": [
    "penguins_url = \"https://raw.githubusercontent.com/vega/vega/master/docs/data/penguins.json\""
   ]
  },
  {
   "cell_type": "code",
   "execution_count": 6,
   "id": "a4c18109-c2f2-451b-98cb-2e08bd4317af",
   "metadata": {
    "tags": [],
    "trrack_execution_spec": {
     "$schema": "https://vega.github.io/schema/vega-lite/v4.17.0.json",
     "config": {
      "view": {
       "continuousHeight": 300,
       "continuousWidth": 400
      }
     },
     "data": {
      "url": "https://raw.githubusercontent.com/vega/vega/master/docs/data/penguins.json"
     },
     "encoding": {
      "color": {
       "condition": {
        "field": "Species",
        "selection": "brush",
        "type": "nominal"
       },
       "value": "lightgray"
      },
      "x": {
       "field": "Beak Length (mm)",
       "scale": {
        "zero": false
       },
       "type": "quantitative"
      },
      "y": {
       "field": "Beak Depth (mm)",
       "scale": {
        "zero": false
       },
       "type": "quantitative"
      }
     },
     "height": 400,
     "mark": "point",
     "selection": {
      "brush": {
       "type": "interval"
      }
     },
     "width": 400
    },
    "trrack_graph": {
     "current": "cd5f4689-b98f-4176-aabe-f50320f90351",
     "nodes": {
      "1f1dcee9-0e52-49e1-9718-904217d67c4d": {
       "artifacts": [],
       "children": [],
       "createdOn": 1681159893642,
       "event": "interaction",
       "id": "1f1dcee9-0e52-49e1-9718-904217d67c4d",
       "label": "Filter",
       "level": 5,
       "meta": {
        "annotation": [],
        "bookmark": []
       },
       "parent": "2384a4e8-65cd-4802-a15a-287dedd381d0",
       "sideEffects": {
        "do": [],
        "undo": []
       },
       "state": {
        "type": "checkpoint",
        "val": {
         "interactions": [
          {
           "id": "3dc8eae5-2243-468d-b1f2-9cca63927d5a",
           "name": "brush",
           "params": {
            "selection": {
             "Beak Depth (mm)": [
              14.8225,
              16.487499999999997
             ],
             "Beak Length (mm)": [
              41.45,
              49.709999999999994
             ]
            },
            "x": [
             135,
             253
            ],
            "y": [
             245,
             319
            ]
           },
           "path": "/selection/brush",
           "type": "selection_interval"
          },
          {
           "id": "cdacdb8b-f5de-401c-884b-d7a1f4eca7cf",
           "name": "brush",
           "params": {
            "selection": {
             "Beak Depth (mm)": [
              17.8825,
              19.547499999999996
             ],
             "Beak Length (mm)": [
              48.52,
              56.77999999999999
             ]
            },
            "x": [
             236.00000000000003,
             353.9999999999999
            ],
            "y": [
             109.00000000000011,
             183
            ]
           },
           "path": "/selection/brush",
           "type": "selection_interval"
          },
          {
           "id": "ff049d99-65a4-4d04-ae9e-9862a971d73c",
           "name": "brush",
           "params": {
            "selection": {
             "Beak Depth (mm)": [
              14.8225,
              16.487499999999997
             ],
             "Beak Length (mm)": [
              38.510000000000005,
              46.76999999999998
             ]
            },
            "x": [
             93.00000000000003,
             210.99999999999983
            ],
            "y": [
             245.00000000000017,
             319
            ]
           },
           "path": "/selection/brush",
           "type": "selection_interval"
          },
          {
           "id": "f9d781d9-8aba-4125-a808-d08a6db1452e",
           "name": "brush",
           "params": {
            "selection": {
             "Beak Depth (mm)": [
              13.3375,
              19.4575
             ],
             "Beak Length (mm)": [
              37.39,
              56.15
             ]
            },
            "x": [
             345,
             77
            ],
            "y": [
             385,
             113
            ]
           },
           "path": "/selection/brush",
           "type": "selection_interval"
          },
          {
           "id": "6a3d9c38-98e6-4530-8088-cfae83146f51",
           "path": "",
           "type": "filter"
          }
         ]
        }
       }
      },
      "2384a4e8-65cd-4802-a15a-287dedd381d0": {
       "artifacts": [],
       "children": [
        "1f1dcee9-0e52-49e1-9718-904217d67c4d"
       ],
       "createdOn": 1681159891950,
       "event": "interaction",
       "id": "2384a4e8-65cd-4802-a15a-287dedd381d0",
       "label": "Brush selection",
       "level": 4,
       "meta": {
        "annotation": [],
        "bookmark": []
       },
       "parent": "75b50aa8-53ba-489d-8dfd-ef42547f2e75",
       "sideEffects": {
        "do": [],
        "undo": []
       },
       "state": {
        "type": "checkpoint",
        "val": {
         "interactions": [
          {
           "id": "3dc8eae5-2243-468d-b1f2-9cca63927d5a",
           "name": "brush",
           "params": {
            "selection": {
             "Beak Depth (mm)": [
              14.8225,
              16.487499999999997
             ],
             "Beak Length (mm)": [
              41.45,
              49.709999999999994
             ]
            },
            "x": [
             135,
             253
            ],
            "y": [
             245,
             319
            ]
           },
           "path": "/selection/brush",
           "type": "selection_interval"
          },
          {
           "id": "cdacdb8b-f5de-401c-884b-d7a1f4eca7cf",
           "name": "brush",
           "params": {
            "selection": {
             "Beak Depth (mm)": [
              17.8825,
              19.547499999999996
             ],
             "Beak Length (mm)": [
              48.52,
              56.77999999999999
             ]
            },
            "x": [
             236.00000000000003,
             353.9999999999999
            ],
            "y": [
             109.00000000000011,
             183
            ]
           },
           "path": "/selection/brush",
           "type": "selection_interval"
          },
          {
           "id": "ff049d99-65a4-4d04-ae9e-9862a971d73c",
           "name": "brush",
           "params": {
            "selection": {
             "Beak Depth (mm)": [
              14.8225,
              16.487499999999997
             ],
             "Beak Length (mm)": [
              38.510000000000005,
              46.76999999999998
             ]
            },
            "x": [
             93.00000000000003,
             210.99999999999983
            ],
            "y": [
             245.00000000000017,
             319
            ]
           },
           "path": "/selection/brush",
           "type": "selection_interval"
          },
          {
           "id": "f9d781d9-8aba-4125-a808-d08a6db1452e",
           "name": "brush",
           "params": {
            "selection": {
             "Beak Depth (mm)": [
              13.3375,
              19.4575
             ],
             "Beak Length (mm)": [
              37.39,
              56.15
             ]
            },
            "x": [
             345,
             77
            ],
            "y": [
             385,
             113
            ]
           },
           "path": "/selection/brush",
           "type": "selection_interval"
          }
         ]
        }
       }
      },
      "32c0ad39-12c3-48f9-ad11-fe0b7cb148dd": {
       "artifacts": [],
       "children": [
        "81d28ea7-3f03-4cfd-bafc-e58fd439eec5"
       ],
       "createdOn": 1681159857735,
       "event": "interaction",
       "id": "32c0ad39-12c3-48f9-ad11-fe0b7cb148dd",
       "label": "Brush selection",
       "level": 1,
       "meta": {
        "annotation": [],
        "bookmark": []
       },
       "parent": "b4b34481-464f-4d50-816d-857a73f3f240",
       "sideEffects": {
        "do": [],
        "undo": []
       },
       "state": {
        "type": "checkpoint",
        "val": {
         "interactions": [
          {
           "id": "3dc8eae5-2243-468d-b1f2-9cca63927d5a",
           "name": "brush",
           "params": {
            "selection": {
             "Beak Depth (mm)": [
              14.8225,
              16.487499999999997
             ],
             "Beak Length (mm)": [
              41.45,
              49.709999999999994
             ]
            },
            "x": [
             135,
             253
            ],
            "y": [
             245,
             319
            ]
           },
           "path": "/selection/brush",
           "type": "selection_interval"
          }
         ]
        }
       }
      },
      "75b50aa8-53ba-489d-8dfd-ef42547f2e75": {
       "artifacts": [],
       "children": [
        "2384a4e8-65cd-4802-a15a-287dedd381d0"
       ],
       "createdOn": 1681159867012,
       "event": "interaction",
       "id": "75b50aa8-53ba-489d-8dfd-ef42547f2e75",
       "label": "Brush selection",
       "level": 3,
       "meta": {
        "annotation": [],
        "bookmark": []
       },
       "parent": "81d28ea7-3f03-4cfd-bafc-e58fd439eec5",
       "sideEffects": {
        "do": [],
        "undo": []
       },
       "state": {
        "type": "checkpoint",
        "val": {
         "interactions": [
          {
           "id": "3dc8eae5-2243-468d-b1f2-9cca63927d5a",
           "name": "brush",
           "params": {
            "selection": {
             "Beak Depth (mm)": [
              14.8225,
              16.487499999999997
             ],
             "Beak Length (mm)": [
              41.45,
              49.709999999999994
             ]
            },
            "x": [
             135,
             253
            ],
            "y": [
             245,
             319
            ]
           },
           "path": "/selection/brush",
           "type": "selection_interval"
          },
          {
           "id": "cdacdb8b-f5de-401c-884b-d7a1f4eca7cf",
           "name": "brush",
           "params": {
            "selection": {
             "Beak Depth (mm)": [
              17.8825,
              19.547499999999996
             ],
             "Beak Length (mm)": [
              48.52,
              56.77999999999999
             ]
            },
            "x": [
             236.00000000000003,
             353.9999999999999
            ],
            "y": [
             109.00000000000011,
             183
            ]
           },
           "path": "/selection/brush",
           "type": "selection_interval"
          },
          {
           "id": "ff049d99-65a4-4d04-ae9e-9862a971d73c",
           "name": "brush",
           "params": {
            "selection": {
             "Beak Depth (mm)": [
              14.8225,
              16.487499999999997
             ],
             "Beak Length (mm)": [
              38.510000000000005,
              46.76999999999998
             ]
            },
            "x": [
             93.00000000000003,
             210.99999999999983
            ],
            "y": [
             245.00000000000017,
             319
            ]
           },
           "path": "/selection/brush",
           "type": "selection_interval"
          }
         ]
        }
       }
      },
      "81d28ea7-3f03-4cfd-bafc-e58fd439eec5": {
       "artifacts": [],
       "children": [
        "cd5f4689-b98f-4176-aabe-f50320f90351",
        "75b50aa8-53ba-489d-8dfd-ef42547f2e75"
       ],
       "createdOn": 1681159859161,
       "event": "interaction",
       "id": "81d28ea7-3f03-4cfd-bafc-e58fd439eec5",
       "label": "Brush selection",
       "level": 2,
       "meta": {
        "annotation": [],
        "bookmark": []
       },
       "parent": "32c0ad39-12c3-48f9-ad11-fe0b7cb148dd",
       "sideEffects": {
        "do": [],
        "undo": []
       },
       "state": {
        "type": "checkpoint",
        "val": {
         "interactions": [
          {
           "id": "3dc8eae5-2243-468d-b1f2-9cca63927d5a",
           "name": "brush",
           "params": {
            "selection": {
             "Beak Depth (mm)": [
              14.8225,
              16.487499999999997
             ],
             "Beak Length (mm)": [
              41.45,
              49.709999999999994
             ]
            },
            "x": [
             135,
             253
            ],
            "y": [
             245,
             319
            ]
           },
           "path": "/selection/brush",
           "type": "selection_interval"
          },
          {
           "id": "cdacdb8b-f5de-401c-884b-d7a1f4eca7cf",
           "name": "brush",
           "params": {
            "selection": {
             "Beak Depth (mm)": [
              17.8825,
              19.547499999999996
             ],
             "Beak Length (mm)": [
              48.52,
              56.77999999999999
             ]
            },
            "x": [
             236.00000000000003,
             353.9999999999999
            ],
            "y": [
             109.00000000000011,
             183
            ]
           },
           "path": "/selection/brush",
           "type": "selection_interval"
          }
         ]
        }
       }
      },
      "b4b34481-464f-4d50-816d-857a73f3f240": {
       "artifacts": [],
       "children": [
        "32c0ad39-12c3-48f9-ad11-fe0b7cb148dd"
       ],
       "createdOn": 1681159509064,
       "event": "Root",
       "id": "b4b34481-464f-4d50-816d-857a73f3f240",
       "label": "Root",
       "level": 0,
       "meta": {
        "annotation": [],
        "bookmark": []
       },
       "state": {
        "type": "checkpoint",
        "val": {
         "interactions": []
        }
       }
      },
      "c0d4b096-beb7-4e60-94bb-15af9ae63399": {
       "artifacts": [],
       "children": [],
       "createdOn": 1681159863019,
       "event": "interaction",
       "id": "c0d4b096-beb7-4e60-94bb-15af9ae63399",
       "label": "Filter",
       "level": 4,
       "meta": {
        "annotation": [],
        "bookmark": []
       },
       "parent": "cd5f4689-b98f-4176-aabe-f50320f90351",
       "sideEffects": {
        "do": [],
        "undo": []
       },
       "state": {
        "type": "checkpoint",
        "val": {
         "interactions": [
          {
           "id": "3dc8eae5-2243-468d-b1f2-9cca63927d5a",
           "name": "brush",
           "params": {
            "selection": {
             "Beak Depth (mm)": [
              14.8225,
              16.487499999999997
             ],
             "Beak Length (mm)": [
              41.45,
              49.709999999999994
             ]
            },
            "x": [
             135,
             253
            ],
            "y": [
             245,
             319
            ]
           },
           "path": "/selection/brush",
           "type": "selection_interval"
          },
          {
           "id": "cdacdb8b-f5de-401c-884b-d7a1f4eca7cf",
           "name": "brush",
           "params": {
            "selection": {
             "Beak Depth (mm)": [
              17.8825,
              19.547499999999996
             ],
             "Beak Length (mm)": [
              48.52,
              56.77999999999999
             ]
            },
            "x": [
             236.00000000000003,
             353.9999999999999
            ],
            "y": [
             109.00000000000011,
             183
            ]
           },
           "path": "/selection/brush",
           "type": "selection_interval"
          },
          {
           "id": "9f567d53-7085-42a7-981d-e9798fef1132",
           "name": "brush",
           "params": {
            "selection": {
             "Beak Depth (mm)": [
              17.904999999999998,
              19.569999999999993
             ],
             "Beak Length (mm)": [
              33.33,
              41.58999999999999
             ]
            },
            "x": [
             19.00000000000003,
             136.99999999999983
            ],
            "y": [
             108.00000000000017,
             182
            ]
           },
           "path": "/selection/brush",
           "type": "selection_interval"
          },
          {
           "id": "a3f1821f-0969-444d-9582-0eb3e4a0b99f",
           "path": "",
           "type": "filter"
          }
         ]
        }
       }
      },
      "cd5f4689-b98f-4176-aabe-f50320f90351": {
       "artifacts": [],
       "children": [
        "c0d4b096-beb7-4e60-94bb-15af9ae63399"
       ],
       "createdOn": 1681159860861,
       "event": "interaction",
       "id": "cd5f4689-b98f-4176-aabe-f50320f90351",
       "label": "Brush selection",
       "level": 3,
       "meta": {
        "annotation": [],
        "bookmark": []
       },
       "parent": "81d28ea7-3f03-4cfd-bafc-e58fd439eec5",
       "sideEffects": {
        "do": [],
        "undo": []
       },
       "state": {
        "type": "checkpoint",
        "val": {
         "interactions": [
          {
           "id": "3dc8eae5-2243-468d-b1f2-9cca63927d5a",
           "name": "brush",
           "params": {
            "selection": {
             "Beak Depth (mm)": [
              14.8225,
              16.487499999999997
             ],
             "Beak Length (mm)": [
              41.45,
              49.709999999999994
             ]
            },
            "x": [
             135,
             253
            ],
            "y": [
             245,
             319
            ]
           },
           "path": "/selection/brush",
           "type": "selection_interval"
          },
          {
           "id": "cdacdb8b-f5de-401c-884b-d7a1f4eca7cf",
           "name": "brush",
           "params": {
            "selection": {
             "Beak Depth (mm)": [
              17.8825,
              19.547499999999996
             ],
             "Beak Length (mm)": [
              48.52,
              56.77999999999999
             ]
            },
            "x": [
             236.00000000000003,
             353.9999999999999
            ],
            "y": [
             109.00000000000011,
             183
            ]
           },
           "path": "/selection/brush",
           "type": "selection_interval"
          },
          {
           "id": "9f567d53-7085-42a7-981d-e9798fef1132",
           "name": "brush",
           "params": {
            "selection": {
             "Beak Depth (mm)": [
              17.904999999999998,
              19.569999999999993
             ],
             "Beak Length (mm)": [
              33.33,
              41.58999999999999
             ]
            },
            "x": [
             19.00000000000003,
             136.99999999999983
            ],
            "y": [
             108.00000000000017,
             182
            ]
           },
           "path": "/selection/brush",
           "type": "selection_interval"
          }
         ]
        }
       }
      }
     },
     "root": "b4b34481-464f-4d50-816d-857a73f3f240"
    }
   },
   "outputs": [
    {
     "data": {
      "application/vnd.vegalite.v4+json": {
       "$schema": "https://vega.github.io/schema/vega-lite/v4.17.0.json",
       "config": {
        "view": {
         "continuousHeight": 300,
         "continuousWidth": 400
        }
       },
       "data": {
        "url": "https://raw.githubusercontent.com/vega/vega/master/docs/data/penguins.json"
       },
       "encoding": {
        "color": {
         "condition": {
          "field": "Species",
          "selection": "brush",
          "type": "nominal"
         },
         "value": "lightgray"
        },
        "x": {
         "field": "Beak Length (mm)",
         "scale": {
          "zero": false
         },
         "type": "quantitative"
        },
        "y": {
         "field": "Beak Depth (mm)",
         "scale": {
          "zero": false
         },
         "type": "quantitative"
        }
       },
       "height": 400,
       "mark": "point",
       "selection": {
        "brush": {
         "init": {
          "Beak Depth (mm)": [
           17.904999999999998,
           19.569999999999993
          ],
          "Beak Length (mm)": [
           33.33,
           41.58999999999999
          ]
         },
         "type": "interval"
        }
       },
       "width": 400
      },
      "image/png": "[encoded data removed]"
     },
     "execution_count": 6,
     "metadata": {
      "cellId": "a4c18109-c2f2-451b-98cb-2e08bd4317af",
      "trigger": "traversal"
     },
     "output_type": "execute_result"
    }
   ],
   "source": [
    "# All of the code here is pure altair. The library does not need any custom syntax\n",
    "\n",
    "brush = alt.selection_interval(name='brush') # define a type of selection\n",
    "\n",
    "# create a scatterplot\n",
    "chart = alt.Chart(penguins_url).mark_point().encode(\n",
    "    x=alt.X('Beak Length (mm):Q', scale=alt.Scale(zero=False)),\n",
    "    y=alt.Y('Beak Depth (mm):Q', scale=alt.Scale(zero=False)),\n",
    "    color=alt.condition(brush, 'Species:N', alt.value('lightgray'))\n",
    ").properties(\n",
    "    width=400,\n",
    "    height=400\n",
    ").add_selection(\n",
    "    brush # Connect the brush selection to scatterplot\n",
    ")\n",
    "\n",
    "chart"
   ]
  }
 ],
 "metadata": {
  "NB_UUID": "56ee9583-b360-4fc8-993c-4a68765003a0",
  "kernelspec": {
   "display_name": "Python 3 (ipykernel)",
   "language": "python",
   "name": "python3"
  },
  "language_info": {
   "codemirror_mode": {
    "name": "ipython",
    "version": 3
   },
   "file_extension": ".py",
   "mimetype": "text/x-python",
   "name": "python",
   "nbconvert_exporter": "python",
   "pygments_lexer": "ipython3",
   "version": "3.8.16"
  },
  "toc-autonumbering": false,
  "toc-showtags": false
 },
 "nbformat": 4,
 "nbformat_minor": 5
}
