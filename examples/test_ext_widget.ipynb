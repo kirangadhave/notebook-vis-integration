{
 "cells": [
  {
   "cell_type": "code",
   "execution_count": 1,
   "id": "2594b5d1-f285-46e7-bb20-55c0d04f9037",
   "metadata": {
    "trrack_graph": "໢尭䲠 "
   },
   "outputs": [],
   "source": [
    "from vega_datasets import data\n",
    "import persist_ext as PR\n",
    "import altair as alt"
   ]
  },
  {
   "cell_type": "code",
   "execution_count": 2,
   "id": "b7eb00ef-ddc2-4848-a747-97049cfac0f8",
   "metadata": {
    "__GENERATED_DATAFRAMES__": "ᯡࡀ䂤ూ̅l͐ὠ㬢ఫぉ伆䈠ᨰࠩ瓫¶Ƭ煁䀻îᱨԀỳ䁎ᓈ⟡䍸⌠ᬠᆠܠⴴ䘩ìᤠⰸ䠠ᢄ〤ㄉ敲倩䣀ᖱ≭ںČᯤ₈˛寑捧暳䄮㽡壄礩મɢ⍀Ԃ⮤吰㓒ृᇘ⛴溃傩妨㑴ᩨ݊ޮᶸ⏥┃⍑怡嫀Ɯ⦮੢ᒢ劲⃩ေ巊⥥ᇄ⛧σቑ担窌稸౜यಠć䀩凘゘砠彂ᶟ䐴捖ࣱ榋ⱄ࣊ᱥࣴ䥒癊㉥声瑄ᨲⲧ̒缵䣣䃰㰧&犁᱋⠫È砠֪ 汶檮䣁⤴⤦䇄拑ⱱ઩⣤ᔭ䄲ᦑ㱡ᄰ棆㊙ဥ椌⁪ւН¾Ꭾ恙䰮ⷣ⪠乔બФ⃊ܠϘ偦Ωܶᠨᕶ׈䂒両⿣ℾ㱑೸᱔ⱃ͡儊縠Ė粶ᙠੂƌ璲స恢䬊䔶䒂墼㜿䗂䒲㚳癳咽ၕ䗲ದ㞂ϴį䍥ऀ⨨䙣ㄹൣԍ儈⨺უ灥༭ᲃ効᛿䁇ᙑ᭎⒠䅰湀㳆䐁᱇ᠳ娍硉ۤ䄀㌽ౣቝ緵۠䍉牲畘偁☳ᡃ储ኒ斶獒⠺Ꭼ疀ⶲᆆ熪渆ਭ嵙㮠๻Ƅྠ唱㘴㛭䎤梶佛娪緣瀧巊ᤠ ܢၴ೫灠ᄃ䡪ୣ框ૠ㢎ߢ挰ੀ䑩ୁʅۂ㒌濂ళຂⲋރ男໚㲏ఃႤа䉐䤳≵ܰቄ䊱刻䦳㉼侰䡢䍺䪆欉㬠䣳᩶仲㪎䦑媞䡓ٱ乒䱩䵒晵澡嚞柊㬸濒ล༒丹ຓ┋䮓溁攐幗䈑㺙䖉纕⻪䆐⤨䁍✨ᅄ⍰९ⶫ䤭ఊং⩫糠啨榟’䂠䛩Ůⷪ禄⁉Ա∡䕩ⵊ料⣋祵ⶶ㔸⏉㲲ള⣣䵕ဲ涛⤈峷⼋儼⸈⥟ⰵ䌠尸⌚⤻㔄Ἲᎄ檻匣˂爱䯂玜探୳౹♒构⭜嵻੨჻妇怱嬮活Ⴞ柸݁托け慙摽઀杙惘呅惁⪰໛⽭暚眧ஙཇʙ廯涘罦澚ὒ䅰彩⼛佟帘ɿ澊ᥐ­䀤Ⅳòਧ纠䢭ᇈᤤ⢌̦怾໠ℤᯡ籁Ɂ儉ƕᑵແ㑽ޥ䚢ᆁⱻྂ磂䉱ᬪ䬈᥍䐠 ",
    "trrack_graph": "ᯡ࠽䈌ʀ匦㢠⹰ࢀ㇚⠻f׃抮ƸТ慠ᦠآ⠨撆┴ʅ။ᒼ櫶䀽䡉ᐠ▴ሰ䰹㤫঴减ⓥ䷇ཞǢ†桠ø䣠᪰ӁĠׯ␬W౐ᮨ⁏⻻‡㌰㔠৩撠۱ʰ愑̌䄸⌡ਢ䔥䓅倢㢐Ӊ橌䄮ஶ䍡⃃惢硰†嶝ƣ䓩୯卤ӁⲀ倠祐ቃଵᡉ๏ひӘ多{వ峙െҦ䵹䑀嶨惊䠮ዠඎᥧ箌䉊Þ綝匕ᴪ悦壻䉌慤⁶o#刕渃ͦ淜⃤杍侁Ⅼ妤䕂灂ⳑⵠᇈ⡂ᥣ慨癆⌳䗸ᠨ抬সᐪग楾ྴ䓱䁺䟑浯槢䣔⬷䔲撥ڰ擒Ჾ⁶傪ኹ┐䍼㩴↪㊲ᓚ⦶攁⺁Ⱶᒐ狕ⲃ˼ᐸ'ᣠ\"ᰤ戙ᙋ㛂ғ簠ᴥ宅咡址᫷磎斷⣱礜䃊樲煲⹕ࡅᄝȯ➡㌸瘺ѡ瑰ɟڢ慹⡍ť䞈嬹Σ稪焊┦僱਷࣢䞨ᐥb灦剃ࡆ儵ᰥࣤ嘔㟞攁㧄ౌ侢ၨ爵ݠㆸ嘱⇅炃ᵃ⳵㑚喯⟵▪婟娺灆⦬檧䷌ᚳ咗棖ࡎ濔ᶎ叔倀峎ᯚ濃䁄ᠠ੍⍰ڻ吥a㮰*猣彧⨞牲➤䪜္奸漸ઢႴ`㞪∤㞨懀≬Ӕ⼪†稰ᔤ౏樥町䚠汳䬧惷ࢧჴḤヷত↝ȩ烰ᗠ़΢桦འмԢ⡲䜱炖໡磌Љє࣠㤔斠䁲ሡ惉ʢᅻͥテᾦ热᭓䘵䖁㰠࿅ 嫨慨Ԫℐ⴫⃌疽㎔ᦱ℃₪䧸ᶿ㌼橫ℑᮾ牮㲸卼㊹Ⴛ㨵䋠਩ᣔ䄿喨䐯焄溦⊴䪺ఔ嘿㨂樱卞なᢦ渌ᢣ 㮡侁㙕Ŋ縵甡啩䒱⹎云ڑ䶉ḷ䝴怽▐'囡懎ἓ䤻݊廡ᇬ姶㛫央㳮㧎㷨㒾㯭۫⋁ᱻ◱粟6㢆ئ偪⏖恽䅥盪⣣宥໺ѥṕᇣʬᔒ穞俰١䑓ر䬢䙑乕倩䥒恉尲㕀Ѝ笞岡綴ᑗژቖ䘢ᠽϩ团ᡘ់⪺䝴ᄦ䧶᫆䋳᩶凡婀໱䀮墩湎埠ѡᜅ؎䷖ਬ乀│喴䨼䙷撒侴⪾ና㒽ᯅ瑎㣂愀熢㧋媂㳽⮔ᨾ䎇溧䄇纇ᴓࢷᢪ店༔㻯壺㲟䶾统䐑ṗ䈆ȏᐯưㆮ䆋᥈児य⃴ⱋ冹い懔ጯශ猬唾禮瓄ṟ㄀禍倡㲩´㿽⦡搤懡昤䜱汘㙑筫ᧄᚢ炘஥禖㕘⇞檪栉⡚塹⃝̘⸤䝉䓜粆㶢奎⥝坩Ⅻ⟡⧝兙潟㟬⯛߄ᩋ䟼૙坃篾䣉⴮㟳痙ށ烜愴জ₅櫟៌巫坡⮛⥍淘Ἵ縤䝼Ԝ㧬ᡬ怋沙╁㮚俙柝秱紇剚擏㧧ֵ她囒氎中榼楠ʇ䱘ભ䁠殦ᕒ偒䘇Ĺ报ᏽⒿ匨嫞䤹╂䝗瞮呬ṷ橝ž̝䂥ၱݑफ楖僁挂YⳜᗵ㶶伤႓ࠟ⬯憖ඊ爺棁敢ϻ敲ᚤ叝ޯ⸖析癁刹懲ᣜᡌ嵋嫛Ꮌѯଫ儼傱㈾欙沝㩞ᷯ兒Ғ䜟ℭ᢭ँ⤿仏掃疴ᢦǤ㟑䚨䮫ロྑ䱎Ŝᔝၚ㒌俤羯奐䂑澚ᐞ帺烉ڠ疦Ǹጂ牖⟰ᔡ灼䠆䃦䁂⊡椪嵦Փฦ掜⿧籛⑚揄ે❁嶱ℛբݚ䇽ᚢࡧ囈媦Ԍઘ榣᧰ፀ猾〶ᆀቲ杌ḥⱕ䉡疠⣁䲇䮤枆⺄倹伌ዦⰵ䓓㖵㎵᜺唠ƪ籝匊Ⱳ亍⑊ᠮᠨ࿁嚭妉庸㗇⭓㯁аʠԡ⁐໥᤭᥈ਡ偁Āグ搱䑹㺮ی䲔ᬹ塙䩡㧈匓ୃ㉉┄憃攒俨Ꭲ䣇੺侬寮も悈䐔斎岓Ñ宥ㅟ᭹癎塛ᨀ幫㇖寫Ć挘图淏᛻ⷚ怡Ꮥ䱁图瞁ঀ䞴煞Δ凣᲎禅≰潠䉵䒰ı┴䉋⩵㵦掰䑄應愬ठ櫀ㄖ今૟ϕ⬨ᣌ垉ࠥ倮ᝨᠡ⃉`優ࣸᎨܲ㇐Ⱐ⤜䛤䘪繦᫂䥊ä၀᧓ᑺ䐢縲ᗉ⼫娭႔䝤畐හ⺲䐖⪢ฮ؉㇠ᦦђ䠤㐔4嚐្ᡌ⑨ⷩ瘫ռ༫ȱஈᧇ䐴᫶晩̔䘀灼淰嫺㻝孋ķ沑榼幔ᵽ⧴㐡⹐总⣾ṕ䐻戵ፏ⻶烽ӊ祴漓丮䴽ᅔ䁗䄜歖૴ⶌ⤡妹䥒㭟ᤫᾇ晱杶৮焒Ⓞ槭ᚓ䝍㴫䑈ຶ嗆牌༁孶⩜㶉斦榙ᾷ䨿ਐ֌抪䛡繬ἵፊr圌ᡦᲀ仵ṩ做崵䜘欙፸湆Ꮍ曙歠已⊬9㌍⻎䗃䐸ख़攋⥄łᨐय‰ᢰ剪а⠮⃤ĺ㻔䃀᫚硝むล媦ࠩ㰃亻儁䬫礀#ѷⰑ坠Ǫ壩禡ᜉ滈ẅ⣷繺㦤㵴咬环䳴⡺服ഽ埉緅ねᎻᶾₛÕ㩭梶暣ᛤ働ោ䃄ͩ槲惻١仐Ⲕ嗲ᚾ䲫߉灿倀棕悁䰋憶̦≓紴〦㒋഑䢸壸炠  "
   },
   "outputs": [
    {
     "data": {
      "application/vnd.jupyter.widget-view+json": {
       "model_id": "31a17d8114f04008ad1e9fb02d6c5b16",
       "version_major": 2,
       "version_minor": 0
      },
      "text/plain": [
       "OutputWithTrrackWidget(body_widget=VegaLiteChartWidget(debounce_wait=250.0, df_columns=['date', 'precipitation…"
      ]
     },
     "execution_count": 2,
     "metadata": {},
     "output_type": "execute_result"
    }
   ],
   "source": [
    "source = data.seattle_weather()\n",
    "brush = alt.selection_interval(name=\"selector\", encodings=['x'])\n",
    "\n",
    "bars = alt.Chart().mark_bar().encode(\n",
    "    x='month(date):O',\n",
    "    y='mean(precipitation):Q',\n",
    "    opacity=alt.condition(brush, alt.OpacityValue(1), alt.OpacityValue(0.7)),\n",
    ").add_params(\n",
    "    brush\n",
    ")\n",
    "\n",
    "line = alt.Chart().mark_rule(color='firebrick').encode(\n",
    "    y='mean(precipitation):Q',\n",
    "    size=alt.SizeValue(3)\n",
    ").transform_filter(\n",
    "    brush\n",
    ")\n",
    "\n",
    "vis = PR.vis.TrrackableChart(alt.layer(bars, line, data=source))\n",
    "vis"
   ]
  },
  {
   "cell_type": "code",
   "execution_count": 5,
   "id": "72e2fda1-daad-448f-bec1-f698b48ccd52",
   "metadata": {
    "trrack_graph": "ᯡ࠽䈌ʀ匦㢠⹰ڀ↡ధ〳䊡堦〫Ⅰᆠ捍䐢捥૤熥熄〣䙴ภ㈲䎠ᖣैkᑄᄉ夑઴囇⃩䖬᭮溜Φ䐡傠Ǔ⍃Қ′䈤7ࡣᠠ湐戎Ⴆ寐爢䀥屨攠ʕ㥀ǔÚ䍃㏙䤷䢁┫⋸惀Ēいٞܫ$懁吃烐ᠸ䉣M䘶暦ᄣ↢∋㜂ࢌ戴レ䎀ۖ嗃Кᆱ⇐緝ūて睤䄀浐䛻G䀡曑砑䁳竖ᄂ㜿Ꮊ˹ȩᚲ䈰焩㱢紂╰垶䚨℃㇁Ъ戡⡡঒హ௠䎘὆揖䦲ᡊ⛗౱䦨ఱ姼᥆஠ၨ爵ؕ⦸噛ס爘䄨䐀倠垀呆㢙㉼Ⅰ❉瑦ұ决婪⽢ά䀠 "
   },
   "outputs": [
    {
     "data": {
      "application/vnd.jupyter.widget-view+json": {
       "model_id": "d33954cd3afc4139813b7fd1159a0d42",
       "version_major": 2,
       "version_minor": 0
      },
      "text/plain": [
       "Output(layout=Layout(border_bottom='1px solid black', border_left='1px solid black', border_right='1px solid b…"
      ]
     },
     "metadata": {},
     "output_type": "display_data"
    }
   ],
   "source": [
    "PR.Out().clear_logs()\n",
    "PR.Out().show_logs()"
   ]
  },
  {
   "cell_type": "code",
   "execution_count": 6,
   "id": "4bad6f96-60a4-4a27-9c15-1fdad2109d72",
   "metadata": {
    "__GENERATED_DATAFRAMES__": "ᯡࡓ䁼ࢁӐㆠ≒䂆ř⁻Ŭ愠⺀̘ǁ)䁯氶⴦洔፠圠㚿ਠ ",
    "trrack_graph": "ᯡ࠽䈌ʀ匦㢠⹰໣Ÿ栻,͐׀ಀ֤䂼ɨ࣯䂡ء䱨Ҁ㪸坼侙ୱ㉪2攩к☸岥⑉⫴ኊ滫䞿㨡⅀†済壤ᲰӁĠ׿␬W౐㮨⃎濺အ㔸㔠ʑ㥀ǔ₼F㴶Ꮃ䆬⒪ᅡ⨃栤ᚊ㕝«ޮ䒬䓂㧩ᇐ稰N䃰攆㉡怹ণ瑖ᡈ\\䰩൥䐂恳獘夈ሣM䘦慼䄧冢⇆㛂ࢎ扈㫄˭〦宯椢㮁䪠⾡䄙㣯≁塃坖火ᠱ࠭䀳怠皟㬘您㬿д▓沮㴼斻䒲ḥ䇢ᡐܥऍᔫۂ∬㤾䇢牄⑤䅠炱ଫʢㄖ㯫璳ᩐ⭹煚ᤦᑦᎨቤብᅁ刹ᙧᏨ੥६叄幰箥䶨礼牵ၪ㋹⹿ᑋૅ㥾晒䰰䞾〣䲀!ฦ㈝䭵䃱͙Ġຶ濑橀箸ஊ˷᧛劉簡ね㜪㡰㤵䉀傌फ͡⡥♜䝠悸朰䦃䢬㔳䝣冼ᕠ愘๎᮪⃣ゔʲ䇁棊ᬣ䜂礜₸⊈媍❭㘋窣⸧۰♳೴޺ᛍ૷泻㘰Ỡ牛溇ᳰᓙ嶗۠掣䑐4⣧䊎㯈Ԡ䆮̠ଆ̏䞉爏ⓜ唏䐣䳹㹰㰶ઠု剬࢝䘴㻫㴙ሠẪ硞䌠签捶僼ာ獞埽揞俹玆嚷篘㿪࠸へݾ∯ΰ⠧İ∲䊖๪䏰ᐨ䀰擱䏄㰲ᏆⰦ̲硥䂰䡏⍡䤾䅠ऱӸ摄Ȟౄԡ慖〠न࠳ൠ‣岀⁦ৈⴹ堠ⳟ䞠^䰄к‧஢䌵ㆤ婚检䶱戸!␪ᶇ惇噰ŅⒸେ撾䭤ౕ᭱恍ὅ璣ᒆဳአ乳䓨㤗פ碻撧罐ར☱ᨤ䴻䥅墨坓㤏欴僧䥄Ⴐч㹰䨡ཱྺᱱ̠播ᤳ汦մȥ樠᫓Ń屇ᵄ⁙჆㶞潳尠ȉ╞㘊已䠪樢⒥獔皿猬↱瑠⾯毕ᯢᯉ㮮᭢稾Ѡ䌄卂Ậ୮᧹甞C㊌֣ĸ⒭Ⴋ㲦Ⅻ㊠憸▁傋㚧⳸冧⡁㔭ḝ₂憣⢎ಀ⒂䇃ⲏള㊊䷳⪆ᗺ䑠ಣࢆ䑃㹃݈屐″࢈䛳ځ呬ó哠㻄㑲篁㓍ⷍ㘍㎨瑠㏏ዽᄍ烝ၢ৶᛬ᡨ⌣恲㔢䁅唨揃⸾䧥䨫䁸ভ⃀⌧⭖຃瘓Ⓠ旲೅撙ˏ斵჆啥·Ⓕᝣ椚˞沐ᅂ䇛㓢稛ⶨᴢ挅妖㻨㥯㧫ᵤᗥ帗ࠬ嶀㬉嶎௢㸎∌㴗ᔄ岾☊᭄⸏㴖䑂⩠ఉ拒漿挟Ṽट㔤䩾ᥱ⫊䵷⨬ᓵƺ擸櫱杲珚宷樶╜ᨬ‽婆䎓᯴便ᰔ拴㋛堩♖徖丧滸Ⱆ簨又㨧儈塾掓䰹䯂倏粪悵㏎怉ያ䖞ፄ坳檚ᬙ牧澳叧勴䄈硳怓缓䨤创᭧徱㽵䃞ⴊጏ淜秲ᐫ䙉磁筏 㝷ᐨဴ庸➝株՟嘨峜அⰩ⅔ᕡ兂ÔຠѯôŹ′Ⴐᐦ慢㟀㈸♘ס䰩ᅂ༣੄ઌ⿧籠⚔寏㬎क㈸塾䥣䬧毈㖂栽ذ槫⣮ĩᄺ㡸ࡸ䗚ƫӑ儉㓂妎怲棍䫵ⴊ刱冺䐬ڪ棩ㅀ崾ℚὌ䙓ၬ㲹㕅䈊⇃ų∼ڏቬ括禲⁙嗰湗᪚㾣玁摢ⶉ၀榬ყೃἹ捁ᡃઅጴブ穬汖曹搯Ǳቂ穓嬖᳠ⲗ㞔儊ᴃ䠌䧦㤇љ掸㣎⒕᪍愠夅癧䧳✹ᱏᚃ箬ڇ⨪㹌௾㰴⹅挠羮岨㰂䪸ε⒤喊嗊竂湭摜ᵺ緻圙➯㪍ᣴ༶瘾潄縫⬝筝㔮㉠盙䭏̇ၦ䉉⸁䩱⅒灓֯嫫ᴹ筀泪ᔷ䑡༏㉯ᄜ杌㰢䶁੧穠磬ᝯ䤢㿯缇ᐢ怦㍏䘴₎篜䉉⅃瘥ề䗀Ḑ体́⸫⸡⠿Į䕠⾐╅拃ऱఠ䅛༡㥉ጂ०屢ㅤƮ桃Ǩᔱ㶘⬈ѽ桝ↅइ呰㋢偲ᕹᨶ妔ŤƲȀፁ`䛐糢ᆒౡ扞⯾䵡ᖗ槨瞠Ṡ䆩眡㇢橌ن挌⇦౮ŋ㎫⭨ሠ  "
   },
   "outputs": [],
   "source": [
    "# source = data.cars()\n",
    "\n",
    "# brush = alt.selection_point(name=\"selector\", encodings=[\"x\", \"y\"])\n",
    "\n",
    "# points = alt.Chart(source).mark_point().encode(\n",
    "#     x='Horsepower:Q',\n",
    "#     y='Miles_per_Gallon:Q',\n",
    "#     opacity=alt.condition(brush, alt.value(1), alt.value(0.3))\n",
    "# ).add_params(\n",
    "#     brush\n",
    "# )\n",
    "\n",
    "# bars = alt.Chart(source).mark_bar().encode(\n",
    "#     y='Origin:N',\n",
    "#     color='Origin:N',\n",
    "#     x='count(Origin):Q'\n",
    "# ).transform_filter(\n",
    "#     brush\n",
    "# )\n",
    "\n",
    "# vis2 = PR.vis.TrrackableChart(points & bars)\n",
    "# vis2"
   ]
  },
  {
   "cell_type": "code",
   "execution_count": 7,
   "id": "cde89602-e6a6-497f-b042-82e1fcaffc75",
   "metadata": {
    "trrack_graph": "ᯡ࠽䈌ʀ匦㢠⹰ڀ⬠䱰怼͑‶䆠ᘡ䘡യ၃પP΁桠䍕榳✲㣥䒴E䨲࢔Ⳙ֫䥵埌櫣䮯ἡㄠ㑀汈意ࠤ傡%戻☠ᮬᡫ䑁♍ⲣအ㘳唠৾椠ව׶椊洬䠬浒㾻᳦Ԡ޳ŀ梸¼ᙩƦ䳪⍦栢沁暌ℰᬸሢ庌Ⴅ♀䏔ᒆॻ៣吼ࠥ箈稺⢌㊓ȫ㑄ܯ⦢垸Ŝ.ׇ➬ಣ勑ذ㧘泸䛨ၱ㢦✫ư⏤ሀ惰䳴సځ܄䕠惣ゅℒ㉅ԓ㦶㗘䬱䈂֠欪ౠ弹䤀䥐汞ѥᅈ橗ࣁㇸ为෥爘䄬‥㬙縣䧩ᇂ㉬㹣䘱౜╨◈ⓑ  "
   },
   "outputs": [],
   "source": [
    "# import sys\n",
    "# from sys import getsizeof\n",
    "# import pandas as pd\n",
    "# from vega_datasets import data\n",
    "\n",
    "# source = data.cars()\n",
    "\n",
    "# def mul_and_compare_size(df, n=1, c=1):\n",
    "#     compression = [\"snappy\", \"gzip\", \"brotli\", \"lz4\", \"zstd\", None]\n",
    "\n",
    "#     df = df.copy(deep=True)\n",
    "#     ddf = pd.concat([df]*c, axis=1)\n",
    "#     ddf.columns = [f\"{x}_{i}\" for i, x in enumerate(ddf.columns)]\n",
    "#     ddf = pd.concat([ddf.sample(frac=1)]*n)\n",
    "#     orig_size = getsizeof(ddf)\n",
    "        \n",
    "#     print(f\"---- size for shape{ddf.shape} = {round(orig_size/1000000)}mb ({orig_size} bytes) ------\")\n",
    "#     for c in compression:\n",
    "#         s = ddf.to_parquet(compression=c)\n",
    "#         s = getsizeof(s)\n",
    "#         print()\n",
    "#         print(\"Compression style:\", \"None\" if c is None else c)\n",
    "#         print(f\"Size: {s}b\")\n",
    "#         print(f\"Size: {round(s/1000)}kb\")\n",
    "#         print(f\"Size: {round(s/1000000)}mb\")\n",
    "#         print(\"% compressed:\", f\"{round(((orig_size-s)/ orig_size)*100, 2)}% \") \n",
    "#         print()\n",
    "#         print(\"####\")\n",
    "   \n",
    "\n",
    "# mul_and_compare_size(source, 50, 2)"
   ]
  },
  {
   "cell_type": "code",
   "execution_count": null,
   "id": "1d32218c-9f53-4386-83ef-06520c7da8b6",
   "metadata": {
    "trrack_graph": "ᯡ࠽䈌ʀ匦㢠⹲恮ƬʀჳP׀˥ੵ䐬憠ᆡ氣ㄳÈƺ廠⌠຋囔⫻䥈kᑄႈ妒ࢳᓃ❱妻ܾ㸢䉠ð䀡宆冯奀ॢȠ௎䠸ᢀ㜰䁾州䀢機⨠Ꮃ䤠ව׳氈ᱬ䢘㶔ₖ૦Ԡ޳ł㨉⠠皎ᅞᮢ佯┃栢沀囸ᄰ㘸ሪ喊Ⴇ♁䌕咶ᦖΎ刺ࠥ稉窺ᴈ⬤ᮘ␮ࣳǊ堢㰠ຫ垏ౚ௕ㄪᚕ寻ㅭ䡀煩㙋ጣය攀ኑ瀡⳹扈ጡ᮹羠⛩䁱Ⲍ䢡⅝伦ᛢ寍ኘ䘨䩌䍤⒂Йᘷ੣㡿幮₢䨦ᐆ冑㲞ၬᇤw㾰ᑚ峲㙎╁煴ⴰ䵳塄暼䤡٠  "
   },
   "outputs": [],
   "source": []
  },
  {
   "cell_type": "code",
   "execution_count": 8,
   "id": "d493cf03-6c94-45a6-a45b-866515d04e68",
   "metadata": {
    "trrack_graph": "ᯡ࠽䈌ʀ匦㢠⹰ૠጬҀƠ捬ڀ୩䔠ⳙୀ䄌Ĭ䐤㍛ᩤ栳䀹䙦ǒ玁哠Ǩ撴E䨲࢔ⲙѫ䩶埄拭厯㽡憂†桠ù橑䅛ဩ™+䣨ఠ㜸クࡢ汚㷠Ɖᅒ䀡᷼䠠洠⻑䓵榄䛦ᬁ䌉癐⠠㲸ळߡ懁঳䢈ш亃M䘾条ᄣ冢↋皲࠼扔㣱䞀۔嗰䎛ᅱ㇀痋䝫䟐⊔扠灍ᢚ綠ᏠĊ嬐Ӣ熛ᬰ䤯Ꭻ亪沢ڵ䣲㤈Ჸ尸ᄪᜣ䔥⍃ኁࡤ墿㘤⛡桔ᜮ煡灂Ꭳ㛺摉భᕺ䙈磤ĩ沾Უǣ烤⤢䋂栬㌵䞃㣜¨┳䓩5戳ծ⽜䮪⠩啑ᇃᏔ䩾䍩Ŧ† "
   },
   "outputs": [],
   "source": [
    "# import sys\n",
    "# from sys import getsizeof\n",
    "# import string\n",
    "# import random\n",
    "\n",
    "\n",
    "# def gen_and_compare_size(n=1):\n",
    "#     compression = [\"snappy\", \"gzip\", \"brotli\", \"lz4\", \"zstd\", None]\n",
    "\n",
    "#     # using random.choices()\n",
    "#     # generating random strings\n",
    "#     res = ''.join(random.choices(string.ascii_uppercase +\n",
    "#                                  string.digits, k=n))\n",
    "#     orig_size = getsizeof(res)\n",
    "        \n",
    "#     print(f\"---- size of string with length {len(res)} = {round(orig_size/1000000)}mb ({orig_size} bytes) ------\")\n",
    "#     for c in compression:\n",
    "#         s = compress(res)\n",
    "#         s = getsizeof(s)\n",
    "#         print()\n",
    "#         print(\"Compression style:\", \"None\" if c is None else c)\n",
    "#         print(f\"Size: {s}b\")\n",
    "#         print(f\"Size: {round(s/1000)}kb\")\n",
    "#         print(f\"Size: {round(s/1000000)}mb\")\n",
    "#         print(\"% compressed:\", f\"{round(((orig_size-s)/ orig_size)*100, 2)}% \") \n",
    "#         print()\n",
    "#         print(\"####\")\n",
    "   \n",
    "\n",
    "# gen_and_compare_size(source, 5)"
   ]
  },
  {
   "cell_type": "code",
   "execution_count": null,
   "id": "852eb879-de7f-4ef6-abc8-8a3cd9529f7c",
   "metadata": {
    "trrack_graph": "ᯡ࠽䈌ʀ匦㢠⹰Ҁ✠氧ㅫɐୠᖭढನˣჂダ㌱఩ၑ䆠暈਑၄䨠ዪन㪌崔效槶ኊ滳䟟⃾慀†汈僤᪰ӁĠ׿␬W౐㮨⃎濺瀡㌸㔠ʑ㥀ǔÚͣᎹ䤠䂅昨僸惀ĒいḦഫí⃡Ⴓ⠨棴̠ⶬۢ䩂Ãɠ檌戰䳤ѡ䔺怭ト判竣愠弣ë㞢䗣だ癤䄁䵐㪻G䀡拞瘑䆐穖ႂ垛⎥᳹ȡኲ憁偈梘⸸⤷പͭ⛃扑桟Ȥԫ؂滢༾杹㙲≦٨噃Ɍㄢ˶ᮺⓠ焘ㄡ⋂椔⪭䄃㢜¨ℰሠ⯀ⰱ᷼᥆὇ᆑ敃೤ቔኖ䯁ಠ  "
   },
   "outputs": [],
   "source": []
  },
  {
   "cell_type": "code",
   "execution_count": null,
   "id": "bb068791-889b-4a0b-856b-867c6092d059",
   "metadata": {
    "trrack_graph": "ᯡ࠽䈌ʀ匦㢠⹰ೠ⬠氢〸恮ᘠ㠥包Sㄠ壗Ⱡ⌡آᣖၛሒᨈ⍦嗹瀠ㅅ)㊤䈽᭞ᅲᰵ喉偑㎉混忀䢰Tဠ㚭璃ཨɰ䂠̈㈦;䘸Ϥၗ眼瀠宫ೀn㝄V䀷⒌㆐奃Ҭ㣁䙛ఴ>☤䚁珒ࣈᠸ瘾ᨪ࣠ஃϔㆨ䄸悰᫛㢤᭑Դ㟅堣ⱋೡẨ摠៨恒潄㄁氰ᷱၘ㍬໎怩瀠㣎㸜じậ䑘己洈擖₢◅汢䙜㌮ظ䚯䊦共⦹䒤ᢆ㰐䡦स癙ஓ↤᱁इⳖ楒⌥⑶ᆪᙑƢ嬧䍄憐ȩ٤傈㨳ૠ烘ḿB।⒠ଌત❯ᙫ䑈ҵᢱ决婪⽪Ⴌ䀠 "
   },
   "outputs": [],
   "source": []
  },
  {
   "cell_type": "code",
   "execution_count": null,
   "id": "f537cc24-65f8-4575-a9df-4c35b006116f",
   "metadata": {
    "trrack_graph": "ᯡ࠽䈌ʀ匦㢠⹰怦⪃ƸƂ惔吣〬ㇿมಀ໯䁣ഢ㡯怹䁆Ì勔圓ፎⓀŌ傰䇀曧䡴岵⴦曍Ი䨐઄ሠڤ-廕⇩j࠰}竄ǘ憥屢আ滩+⣣⠠乮␠㚠ᝠ梃ғᩂ倬⒡窋ఴ>☤䀤ㄱᢈ<ᱜ暎ᢣ䂀ב䍻桤℔と㖕呢Ƹ䌨ᩱⰡ圅窟㝨㑀ఀ㠎㗓桩嘨眐䠼৆୽〤砠ᶷ⻾ᠲ㞚戴ⴇ㟗僥䑅⹔暚ፆ⒦ྥ慂ㅠ⢐㢹籜䱆⸕޵ℸĭץ⁨㲽䛔浄ҬҶⶦ⒈戧磌᜴交憐ɑ٠凈㩃˧㇘幟ࡆਂK忨ଽ⺉ᬷሃ੢╢⟉攍ᝬᤠ "
   },
   "outputs": [],
   "source": []
  }
 ],
 "metadata": {
  "__CATEGORIES__": "{\"categories\":{\"coolness_factor\":{\"name\":\"coolness_factor\",\"options\":{\"_None\":{\"name\":\"None\"},\"cool\":{\"name\":\"cool\"},\"not cool\":{\"name\":\"not cool\"},\"alright\":{\"name\":\"alright\"}}}},\"activeCategoryName\":\"coolness_factor\"}",
  "__persist_nb_uuid__": "15b6440c-b112-4dd1-bff1-41461f6ea5c3",
  "kernelspec": {
   "display_name": "Python 3 (ipykernel)",
   "language": "python",
   "name": "python3"
  },
  "language_info": {
   "codemirror_mode": {
    "name": "ipython",
    "version": 3
   },
   "file_extension": ".py",
   "mimetype": "text/x-python",
   "name": "python",
   "nbconvert_exporter": "python",
   "pygments_lexer": "ipython3",
   "version": "3.8.16"
  }
 },
 "nbformat": 4,
 "nbformat_minor": 5
}
