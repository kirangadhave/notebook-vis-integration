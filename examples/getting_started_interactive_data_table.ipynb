{
 "cells": [
  {
   "cell_type": "code",
   "execution_count": 4,
   "id": "59b8e7f7-7eec-4ced-acff-09e4aed6c79c",
   "metadata": {
    "__GENERATED_DATAFRAMES__": "ᯡࠣ䅬Ԁ朤壠ᜣ琢〹夤゠⹰〮⁁䁻қ䚾ኊ㇠നСࠩ瀮晼Ƭ穅5愠៤⠠ ",
    "__has_persist_output": true,
    "trrack_graph": "ᯡ࠽䈌ʀ匦㢠⹰҃Řև₦Ƹހୠᣠଠ䘪䖰Ơ瘈⦠ᬱᣄ性᭎斕歯ैkᑄႈ妒઴囇⃨䧋㭮Ἀ簥Ҡǁ#㇦䢒′䈤7㺰ᠠ湐憎Ⴄ姗㉠˴ヴ3姩-倥栺഼ゆ䑺Ʃࡇඁ性䦡၈ౌ㈠፟ʻŮ䁐˸懌㡂ြᡄዚ橁ì⎤౰嘠歲丠㏔ᘰؐᬖᬐ㡄欤⭤␮óێ堢㰠ຫ㜿఩Ꮥㄪᆓ塘熂戲㝎ଠᦰ⋧䓢ᆄ碈ぢ∴ṓᒥவʥ擀ɋ嬧ネ歩ᅃͅୡ嘼ᢠŋᗥႁ墜᢮ⅰ㒚ᆬ懐᲎ឯ戩䈤䀪瀩ʧᮺ⍥撸抧ॱ爊⅋♆璣ဠ "
   },
   "outputs": [
    {
     "data": {
      "application/vnd.jupyter.widget-view+json": {
       "model_id": "c4929915e5a04a5ea01814dd05142457",
       "version_major": 2,
       "version_minor": 1
      },
      "text/plain": [
       "PersistWidget(data_values=[{'__id_column': '1', 'Name': 'chevrolet chevelle malibu', 'Miles_per_Gallon': 18.0,…"
      ]
     },
     "execution_count": 4,
     "metadata": {},
     "output_type": "execute_result"
    }
   ],
   "source": [
    "from vega_datasets import data # Load vega_datasets\n",
    "import persist_ext as PR # Load Persist Extension\n",
    "PR.dev.DEV = True\n",
    "cars_df = data.cars() # Get the cars dataset as Pandas dataframe\n",
    "\n",
    "PR.PersistTable(cars_df) # Display cars dataset with interactive table"
   ]
  }
 ],
 "metadata": {
  "__persist_keys_record": [
   "__GENERATED_DATAFRAMES__",
   "__persist_nb_uuid__",
   "trrack_graph"
  ],
  "__persist_nb_uuid__": "71bbd9f0-dd59-46c9-9e0f-7194b6f50588",
  "kernelspec": {
   "display_name": "Python 3 (ipykernel)",
   "language": "python",
   "name": "python3"
  },
  "language_info": {
   "codemirror_mode": {
    "name": "ipython",
    "version": 3
   },
   "file_extension": ".py",
   "mimetype": "text/x-python",
   "name": "python",
   "nbconvert_exporter": "python",
   "pygments_lexer": "ipython3",
   "version": "3.12.3"
  }
 },
 "nbformat": 4,
 "nbformat_minor": 5
}
