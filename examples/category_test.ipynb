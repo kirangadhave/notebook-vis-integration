{
 "cells": [
  {
   "cell_type": "code",
   "execution_count": 1,
   "id": "8a8532ff-7aeb-4756-9472-e913e963b5c3",
   "metadata": {
    "trrack_graph": "ᯡ࠽䈌ʀ匦㢠⹰࣠ᬠ晒䀬ᒀⴠ嘠䱤偀଴ⰨҀΦæˀ㴓᱐暠瘸ተ䥠ɻفݥ䮿ᢹ֊媬⳸㦑砈᱀ڤ-䁁京㻄ဠ䨰ဠ屡瓠Α䌧㥊眝䢆6刚倠✷ሠ᭠ே埲㪹႐竬惣ූ>☤䝠ʐ倡䲜ᰦ㼿Ï‫ㆡ娸䑡ڀ䡊䷈䈣ᢡ௳卸ǌ斦䃎墘‷柇檈戻ᢌࢍ䢰᱃☦厀ԐYᝅ㹌⻕䑈嗫椈㍖₣䗬妦቞ᐿ̫ၥ䫝敲ನ䑯∼ᨡഫᔦㄈ㑅ڣ先岶★ⱖ獂⌦Ⓐ⇒ቑĢ欻䕄懐㱁੧჈ᨬརㅸ癇෥瀤ℷ䳠Žƀ儉፨㣙Ἰ儲⓵Ჱ关娰ࢄ  "
   },
   "outputs": [
    {
     "name": "stdout",
     "output_type": "stream",
     "text": [
      "Loaded PersIst extension version 1.1.0\n",
      "Extension enabled for altair\n"
     ]
    }
   ],
   "source": [
    "import altair as alt\n",
    "from vega_datasets import data\n",
    "import persist_ext as PR\n",
    "from intent_inference import compute_predictions\n",
    "\n",
    "PR.enable('altair')"
   ]
  },
  {
   "cell_type": "code",
   "execution_count": 2,
   "id": "fe4d6117-4974-4984-881a-b515222f4797",
   "metadata": {
    "trrack_execution_spec": {
     "$schema": "https://vega.github.io/schema/vega-lite/v5.8.0.json",
     "config": {
      "view": {
       "continuousHeight": 300,
       "continuousWidth": 300
      }
     },
     "data": {
      "name": "data-f02450ab61490a1363517a0190416235"
     },
     "datasets": {
      "data-f02450ab61490a1363517a0190416235": [
       {
        "Acceleration": 12,
        "Cylinders": 8,
        "Displacement": 307,
        "Horsepower": 130,
        "Miles_per_Gallon": 18,
        "Name": "chevrolet chevelle malibu",
        "Origin": "USA",
        "Weight_in_lbs": 3504,
        "Year": "1970-01-01T00:00:00"
       },
       {
        "Acceleration": 11.5,
        "Cylinders": 8,
        "Displacement": 350,
        "Horsepower": 165,
        "Miles_per_Gallon": 15,
        "Name": "buick skylark 320",
        "Origin": "USA",
        "Weight_in_lbs": 3693,
        "Year": "1970-01-01T00:00:00"
       },
       {
        "Acceleration": 11,
        "Cylinders": 8,
        "Displacement": 318,
        "Horsepower": 150,
        "Miles_per_Gallon": 18,
        "Name": "plymouth satellite",
        "Origin": "USA",
        "Weight_in_lbs": 3436,
        "Year": "1970-01-01T00:00:00"
       },
       {
        "Acceleration": 12,
        "Cylinders": 8,
        "Displacement": 304,
        "Horsepower": 150,
        "Miles_per_Gallon": 16,
        "Name": "amc rebel sst",
        "Origin": "USA",
        "Weight_in_lbs": 3433,
        "Year": "1970-01-01T00:00:00"
       },
       {
        "Acceleration": 10.5,
        "Cylinders": 8,
        "Displacement": 302,
        "Horsepower": 140,
        "Miles_per_Gallon": 17,
        "Name": "ford torino",
        "Origin": "USA",
        "Weight_in_lbs": 3449,
        "Year": "1970-01-01T00:00:00"
       },
       {
        "Acceleration": 10,
        "Cylinders": 8,
        "Displacement": 429,
        "Horsepower": 198,
        "Miles_per_Gallon": 15,
        "Name": "ford galaxie 500",
        "Origin": "USA",
        "Weight_in_lbs": 4341,
        "Year": "1970-01-01T00:00:00"
       },
       {
        "Acceleration": 9,
        "Cylinders": 8,
        "Displacement": 454,
        "Horsepower": 220,
        "Miles_per_Gallon": 14,
        "Name": "chevrolet impala",
        "Origin": "USA",
        "Weight_in_lbs": 4354,
        "Year": "1970-01-01T00:00:00"
       },
       {
        "Acceleration": 8.5,
        "Cylinders": 8,
        "Displacement": 440,
        "Horsepower": 215,
        "Miles_per_Gallon": 14,
        "Name": "plymouth fury iii",
        "Origin": "USA",
        "Weight_in_lbs": 4312,
        "Year": "1970-01-01T00:00:00"
       },
       {
        "Acceleration": 10,
        "Cylinders": 8,
        "Displacement": 455,
        "Horsepower": 225,
        "Miles_per_Gallon": 14,
        "Name": "pontiac catalina",
        "Origin": "USA",
        "Weight_in_lbs": 4425,
        "Year": "1970-01-01T00:00:00"
       },
       {
        "Acceleration": 8.5,
        "Cylinders": 8,
        "Displacement": 390,
        "Horsepower": 190,
        "Miles_per_Gallon": 15,
        "Name": "amc ambassador dpl",
        "Origin": "USA",
        "Weight_in_lbs": 3850,
        "Year": "1970-01-01T00:00:00"
       },
       {
        "Acceleration": 17.5,
        "Cylinders": 4,
        "Displacement": 133,
        "Horsepower": 115,
        "Miles_per_Gallon": null,
        "Name": "citroen ds-21 pallas",
        "Origin": "Europe",
        "Weight_in_lbs": 3090,
        "Year": "1970-01-01T00:00:00"
       },
       {
        "Acceleration": 11.5,
        "Cylinders": 8,
        "Displacement": 350,
        "Horsepower": 165,
        "Miles_per_Gallon": null,
        "Name": "chevrolet chevelle concours (sw)",
        "Origin": "USA",
        "Weight_in_lbs": 4142,
        "Year": "1970-01-01T00:00:00"
       },
       {
        "Acceleration": 11,
        "Cylinders": 8,
        "Displacement": 351,
        "Horsepower": 153,
        "Miles_per_Gallon": null,
        "Name": "ford torino (sw)",
        "Origin": "USA",
        "Weight_in_lbs": 4034,
        "Year": "1970-01-01T00:00:00"
       },
       {
        "Acceleration": 10.5,
        "Cylinders": 8,
        "Displacement": 383,
        "Horsepower": 175,
        "Miles_per_Gallon": null,
        "Name": "plymouth satellite (sw)",
        "Origin": "USA",
        "Weight_in_lbs": 4166,
        "Year": "1970-01-01T00:00:00"
       },
       {
        "Acceleration": 11,
        "Cylinders": 8,
        "Displacement": 360,
        "Horsepower": 175,
        "Miles_per_Gallon": null,
        "Name": "amc rebel sst (sw)",
        "Origin": "USA",
        "Weight_in_lbs": 3850,
        "Year": "1970-01-01T00:00:00"
       },
       {
        "Acceleration": 10,
        "Cylinders": 8,
        "Displacement": 383,
        "Horsepower": 170,
        "Miles_per_Gallon": 15,
        "Name": "dodge challenger se",
        "Origin": "USA",
        "Weight_in_lbs": 3563,
        "Year": "1970-01-01T00:00:00"
       },
       {
        "Acceleration": 8,
        "Cylinders": 8,
        "Displacement": 340,
        "Horsepower": 160,
        "Miles_per_Gallon": 14,
        "Name": "plymouth 'cuda 340",
        "Origin": "USA",
        "Weight_in_lbs": 3609,
        "Year": "1970-01-01T00:00:00"
       },
       {
        "Acceleration": 8,
        "Cylinders": 8,
        "Displacement": 302,
        "Horsepower": 140,
        "Miles_per_Gallon": null,
        "Name": "ford mustang boss 302",
        "Origin": "USA",
        "Weight_in_lbs": 3353,
        "Year": "1970-01-01T00:00:00"
       },
       {
        "Acceleration": 9.5,
        "Cylinders": 8,
        "Displacement": 400,
        "Horsepower": 150,
        "Miles_per_Gallon": 15,
        "Name": "chevrolet monte carlo",
        "Origin": "USA",
        "Weight_in_lbs": 3761,
        "Year": "1970-01-01T00:00:00"
       },
       {
        "Acceleration": 10,
        "Cylinders": 8,
        "Displacement": 455,
        "Horsepower": 225,
        "Miles_per_Gallon": 14,
        "Name": "buick estate wagon (sw)",
        "Origin": "USA",
        "Weight_in_lbs": 3086,
        "Year": "1970-01-01T00:00:00"
       },
       {
        "Acceleration": 15,
        "Cylinders": 4,
        "Displacement": 113,
        "Horsepower": 95,
        "Miles_per_Gallon": 24,
        "Name": "toyota corona mark ii",
        "Origin": "Japan",
        "Weight_in_lbs": 2372,
        "Year": "1970-01-01T00:00:00"
       },
       {
        "Acceleration": 15.5,
        "Cylinders": 6,
        "Displacement": 198,
        "Horsepower": 95,
        "Miles_per_Gallon": 22,
        "Name": "plymouth duster",
        "Origin": "USA",
        "Weight_in_lbs": 2833,
        "Year": "1970-01-01T00:00:00"
       },
       {
        "Acceleration": 15.5,
        "Cylinders": 6,
        "Displacement": 199,
        "Horsepower": 97,
        "Miles_per_Gallon": 18,
        "Name": "amc hornet",
        "Origin": "USA",
        "Weight_in_lbs": 2774,
        "Year": "1970-01-01T00:00:00"
       },
       {
        "Acceleration": 16,
        "Cylinders": 6,
        "Displacement": 200,
        "Horsepower": 85,
        "Miles_per_Gallon": 21,
        "Name": "ford maverick",
        "Origin": "USA",
        "Weight_in_lbs": 2587,
        "Year": "1970-01-01T00:00:00"
       },
       {
        "Acceleration": 14.5,
        "Cylinders": 4,
        "Displacement": 97,
        "Horsepower": 88,
        "Miles_per_Gallon": 27,
        "Name": "datsun pl510",
        "Origin": "Japan",
        "Weight_in_lbs": 2130,
        "Year": "1970-01-01T00:00:00"
       },
       {
        "Acceleration": 20.5,
        "Cylinders": 4,
        "Displacement": 97,
        "Horsepower": 46,
        "Miles_per_Gallon": 26,
        "Name": "volkswagen 1131 deluxe sedan",
        "Origin": "Europe",
        "Weight_in_lbs": 1835,
        "Year": "1970-01-01T00:00:00"
       },
       {
        "Acceleration": 17.5,
        "Cylinders": 4,
        "Displacement": 110,
        "Horsepower": 87,
        "Miles_per_Gallon": 25,
        "Name": "peugeot 504",
        "Origin": "Europe",
        "Weight_in_lbs": 2672,
        "Year": "1970-01-01T00:00:00"
       },
       {
        "Acceleration": 14.5,
        "Cylinders": 4,
        "Displacement": 107,
        "Horsepower": 90,
        "Miles_per_Gallon": 24,
        "Name": "audi 100 ls",
        "Origin": "Europe",
        "Weight_in_lbs": 2430,
        "Year": "1970-01-01T00:00:00"
       },
       {
        "Acceleration": 17.5,
        "Cylinders": 4,
        "Displacement": 104,
        "Horsepower": 95,
        "Miles_per_Gallon": 25,
        "Name": "saab 99e",
        "Origin": "Europe",
        "Weight_in_lbs": 2375,
        "Year": "1970-01-01T00:00:00"
       },
       {
        "Acceleration": 12.5,
        "Cylinders": 4,
        "Displacement": 121,
        "Horsepower": 113,
        "Miles_per_Gallon": 26,
        "Name": "bmw 2002",
        "Origin": "Europe",
        "Weight_in_lbs": 2234,
        "Year": "1970-01-01T00:00:00"
       },
       {
        "Acceleration": 15,
        "Cylinders": 6,
        "Displacement": 199,
        "Horsepower": 90,
        "Miles_per_Gallon": 21,
        "Name": "amc gremlin",
        "Origin": "USA",
        "Weight_in_lbs": 2648,
        "Year": "1970-01-01T00:00:00"
       },
       {
        "Acceleration": 14,
        "Cylinders": 8,
        "Displacement": 360,
        "Horsepower": 215,
        "Miles_per_Gallon": 10,
        "Name": "ford f250",
        "Origin": "USA",
        "Weight_in_lbs": 4615,
        "Year": "1970-01-01T00:00:00"
       },
       {
        "Acceleration": 15,
        "Cylinders": 8,
        "Displacement": 307,
        "Horsepower": 200,
        "Miles_per_Gallon": 10,
        "Name": "chevy c20",
        "Origin": "USA",
        "Weight_in_lbs": 4376,
        "Year": "1970-01-01T00:00:00"
       },
       {
        "Acceleration": 13.5,
        "Cylinders": 8,
        "Displacement": 318,
        "Horsepower": 210,
        "Miles_per_Gallon": 11,
        "Name": "dodge d200",
        "Origin": "USA",
        "Weight_in_lbs": 4382,
        "Year": "1970-01-01T00:00:00"
       },
       {
        "Acceleration": 18.5,
        "Cylinders": 8,
        "Displacement": 304,
        "Horsepower": 193,
        "Miles_per_Gallon": 9,
        "Name": "hi 1200d",
        "Origin": "USA",
        "Weight_in_lbs": 4732,
        "Year": "1970-01-01T00:00:00"
       },
       {
        "Acceleration": 14.5,
        "Cylinders": 4,
        "Displacement": 97,
        "Horsepower": 88,
        "Miles_per_Gallon": 27,
        "Name": "datsun pl510",
        "Origin": "Japan",
        "Weight_in_lbs": 2130,
        "Year": "1971-01-01T00:00:00"
       },
       {
        "Acceleration": 15.5,
        "Cylinders": 4,
        "Displacement": 140,
        "Horsepower": 90,
        "Miles_per_Gallon": 28,
        "Name": "chevrolet vega 2300",
        "Origin": "USA",
        "Weight_in_lbs": 2264,
        "Year": "1971-01-01T00:00:00"
       },
       {
        "Acceleration": 14,
        "Cylinders": 4,
        "Displacement": 113,
        "Horsepower": 95,
        "Miles_per_Gallon": 25,
        "Name": "toyota corona",
        "Origin": "Japan",
        "Weight_in_lbs": 2228,
        "Year": "1971-01-01T00:00:00"
       },
       {
        "Acceleration": 19,
        "Cylinders": 4,
        "Displacement": 98,
        "Horsepower": null,
        "Miles_per_Gallon": 25,
        "Name": "ford pinto",
        "Origin": "USA",
        "Weight_in_lbs": 2046,
        "Year": "1971-01-01T00:00:00"
       },
       {
        "Acceleration": 20,
        "Cylinders": 4,
        "Displacement": 97,
        "Horsepower": 48,
        "Miles_per_Gallon": null,
        "Name": "volkswagen super beetle 117",
        "Origin": "Europe",
        "Weight_in_lbs": 1978,
        "Year": "1971-01-01T00:00:00"
       },
       {
        "Acceleration": 13,
        "Cylinders": 6,
        "Displacement": 232,
        "Horsepower": 100,
        "Miles_per_Gallon": 19,
        "Name": "amc gremlin",
        "Origin": "USA",
        "Weight_in_lbs": 2634,
        "Year": "1971-01-01T00:00:00"
       },
       {
        "Acceleration": 15.5,
        "Cylinders": 6,
        "Displacement": 225,
        "Horsepower": 105,
        "Miles_per_Gallon": 16,
        "Name": "plymouth satellite custom",
        "Origin": "USA",
        "Weight_in_lbs": 3439,
        "Year": "1971-01-01T00:00:00"
       },
       {
        "Acceleration": 15.5,
        "Cylinders": 6,
        "Displacement": 250,
        "Horsepower": 100,
        "Miles_per_Gallon": 17,
        "Name": "chevrolet chevelle malibu",
        "Origin": "USA",
        "Weight_in_lbs": 3329,
        "Year": "1971-01-01T00:00:00"
       },
       {
        "Acceleration": 15.5,
        "Cylinders": 6,
        "Displacement": 250,
        "Horsepower": 88,
        "Miles_per_Gallon": 19,
        "Name": "ford torino 500",
        "Origin": "USA",
        "Weight_in_lbs": 3302,
        "Year": "1971-01-01T00:00:00"
       },
       {
        "Acceleration": 15.5,
        "Cylinders": 6,
        "Displacement": 232,
        "Horsepower": 100,
        "Miles_per_Gallon": 18,
        "Name": "amc matador",
        "Origin": "USA",
        "Weight_in_lbs": 3288,
        "Year": "1971-01-01T00:00:00"
       },
       {
        "Acceleration": 12,
        "Cylinders": 8,
        "Displacement": 350,
        "Horsepower": 165,
        "Miles_per_Gallon": 14,
        "Name": "chevrolet impala",
        "Origin": "USA",
        "Weight_in_lbs": 4209,
        "Year": "1971-01-01T00:00:00"
       },
       {
        "Acceleration": 11.5,
        "Cylinders": 8,
        "Displacement": 400,
        "Horsepower": 175,
        "Miles_per_Gallon": 14,
        "Name": "pontiac catalina brougham",
        "Origin": "USA",
        "Weight_in_lbs": 4464,
        "Year": "1971-01-01T00:00:00"
       },
       {
        "Acceleration": 13.5,
        "Cylinders": 8,
        "Displacement": 351,
        "Horsepower": 153,
        "Miles_per_Gallon": 14,
        "Name": "ford galaxie 500",
        "Origin": "USA",
        "Weight_in_lbs": 4154,
        "Year": "1971-01-01T00:00:00"
       },
       {
        "Acceleration": 13,
        "Cylinders": 8,
        "Displacement": 318,
        "Horsepower": 150,
        "Miles_per_Gallon": 14,
        "Name": "plymouth fury iii",
        "Origin": "USA",
        "Weight_in_lbs": 4096,
        "Year": "1971-01-01T00:00:00"
       },
       {
        "Acceleration": 11.5,
        "Cylinders": 8,
        "Displacement": 383,
        "Horsepower": 180,
        "Miles_per_Gallon": 12,
        "Name": "dodge monaco (sw)",
        "Origin": "USA",
        "Weight_in_lbs": 4955,
        "Year": "1971-01-01T00:00:00"
       },
       {
        "Acceleration": 12,
        "Cylinders": 8,
        "Displacement": 400,
        "Horsepower": 170,
        "Miles_per_Gallon": 13,
        "Name": "ford country squire (sw)",
        "Origin": "USA",
        "Weight_in_lbs": 4746,
        "Year": "1971-01-01T00:00:00"
       },
       {
        "Acceleration": 12,
        "Cylinders": 8,
        "Displacement": 400,
        "Horsepower": 175,
        "Miles_per_Gallon": 13,
        "Name": "pontiac safari (sw)",
        "Origin": "USA",
        "Weight_in_lbs": 5140,
        "Year": "1971-01-01T00:00:00"
       },
       {
        "Acceleration": 13.5,
        "Cylinders": 6,
        "Displacement": 258,
        "Horsepower": 110,
        "Miles_per_Gallon": 18,
        "Name": "amc hornet sportabout (sw)",
        "Origin": "USA",
        "Weight_in_lbs": 2962,
        "Year": "1971-01-01T00:00:00"
       },
       {
        "Acceleration": 19,
        "Cylinders": 4,
        "Displacement": 140,
        "Horsepower": 72,
        "Miles_per_Gallon": 22,
        "Name": "chevrolet vega (sw)",
        "Origin": "USA",
        "Weight_in_lbs": 2408,
        "Year": "1971-01-01T00:00:00"
       },
       {
        "Acceleration": 15,
        "Cylinders": 6,
        "Displacement": 250,
        "Horsepower": 100,
        "Miles_per_Gallon": 19,
        "Name": "pontiac firebird",
        "Origin": "USA",
        "Weight_in_lbs": 3282,
        "Year": "1971-01-01T00:00:00"
       },
       {
        "Acceleration": 14.5,
        "Cylinders": 6,
        "Displacement": 250,
        "Horsepower": 88,
        "Miles_per_Gallon": 18,
        "Name": "ford mustang",
        "Origin": "USA",
        "Weight_in_lbs": 3139,
        "Year": "1971-01-01T00:00:00"
       },
       {
        "Acceleration": 14,
        "Cylinders": 4,
        "Displacement": 122,
        "Horsepower": 86,
        "Miles_per_Gallon": 23,
        "Name": "mercury capri 2000",
        "Origin": "USA",
        "Weight_in_lbs": 2220,
        "Year": "1971-01-01T00:00:00"
       },
       {
        "Acceleration": 14,
        "Cylinders": 4,
        "Displacement": 116,
        "Horsepower": 90,
        "Miles_per_Gallon": 28,
        "Name": "opel 1900",
        "Origin": "Europe",
        "Weight_in_lbs": 2123,
        "Year": "1971-01-01T00:00:00"
       },
       {
        "Acceleration": 19.5,
        "Cylinders": 4,
        "Displacement": 79,
        "Horsepower": 70,
        "Miles_per_Gallon": 30,
        "Name": "peugeot 304",
        "Origin": "Europe",
        "Weight_in_lbs": 2074,
        "Year": "1971-01-01T00:00:00"
       },
       {
        "Acceleration": 14.5,
        "Cylinders": 4,
        "Displacement": 88,
        "Horsepower": 76,
        "Miles_per_Gallon": 30,
        "Name": "fiat 124b",
        "Origin": "Europe",
        "Weight_in_lbs": 2065,
        "Year": "1971-01-01T00:00:00"
       },
       {
        "Acceleration": 19,
        "Cylinders": 4,
        "Displacement": 71,
        "Horsepower": 65,
        "Miles_per_Gallon": 31,
        "Name": "toyota corolla 1200",
        "Origin": "Japan",
        "Weight_in_lbs": 1773,
        "Year": "1971-01-01T00:00:00"
       },
       {
        "Acceleration": 18,
        "Cylinders": 4,
        "Displacement": 72,
        "Horsepower": 69,
        "Miles_per_Gallon": 35,
        "Name": "datsun 1200",
        "Origin": "Japan",
        "Weight_in_lbs": 1613,
        "Year": "1971-01-01T00:00:00"
       },
       {
        "Acceleration": 19,
        "Cylinders": 4,
        "Displacement": 97,
        "Horsepower": 60,
        "Miles_per_Gallon": 27,
        "Name": "volkswagen model 111",
        "Origin": "Europe",
        "Weight_in_lbs": 1834,
        "Year": "1971-01-01T00:00:00"
       },
       {
        "Acceleration": 20.5,
        "Cylinders": 4,
        "Displacement": 91,
        "Horsepower": 70,
        "Miles_per_Gallon": 26,
        "Name": "plymouth cricket",
        "Origin": "USA",
        "Weight_in_lbs": 1955,
        "Year": "1971-01-01T00:00:00"
       },
       {
        "Acceleration": 15.5,
        "Cylinders": 4,
        "Displacement": 113,
        "Horsepower": 95,
        "Miles_per_Gallon": 24,
        "Name": "toyota corona hardtop",
        "Origin": "Japan",
        "Weight_in_lbs": 2278,
        "Year": "1972-01-01T00:00:00"
       },
       {
        "Acceleration": 17,
        "Cylinders": 4,
        "Displacement": 97.5,
        "Horsepower": 80,
        "Miles_per_Gallon": 25,
        "Name": "dodge colt hardtop",
        "Origin": "USA",
        "Weight_in_lbs": 2126,
        "Year": "1972-01-01T00:00:00"
       },
       {
        "Acceleration": 23.5,
        "Cylinders": 4,
        "Displacement": 97,
        "Horsepower": 54,
        "Miles_per_Gallon": 23,
        "Name": "volkswagen type 3",
        "Origin": "Europe",
        "Weight_in_lbs": 2254,
        "Year": "1972-01-01T00:00:00"
       },
       {
        "Acceleration": 19.5,
        "Cylinders": 4,
        "Displacement": 140,
        "Horsepower": 90,
        "Miles_per_Gallon": 20,
        "Name": "chevrolet vega",
        "Origin": "USA",
        "Weight_in_lbs": 2408,
        "Year": "1972-01-01T00:00:00"
       },
       {
        "Acceleration": 16.5,
        "Cylinders": 4,
        "Displacement": 122,
        "Horsepower": 86,
        "Miles_per_Gallon": 21,
        "Name": "ford pinto runabout",
        "Origin": "USA",
        "Weight_in_lbs": 2226,
        "Year": "1972-01-01T00:00:00"
       },
       {
        "Acceleration": 12,
        "Cylinders": 8,
        "Displacement": 350,
        "Horsepower": 165,
        "Miles_per_Gallon": 13,
        "Name": "chevrolet impala",
        "Origin": "USA",
        "Weight_in_lbs": 4274,
        "Year": "1972-01-01T00:00:00"
       },
       {
        "Acceleration": 12,
        "Cylinders": 8,
        "Displacement": 400,
        "Horsepower": 175,
        "Miles_per_Gallon": 14,
        "Name": "pontiac catalina",
        "Origin": "USA",
        "Weight_in_lbs": 4385,
        "Year": "1972-01-01T00:00:00"
       },
       {
        "Acceleration": 13.5,
        "Cylinders": 8,
        "Displacement": 318,
        "Horsepower": 150,
        "Miles_per_Gallon": 15,
        "Name": "plymouth fury iii",
        "Origin": "USA",
        "Weight_in_lbs": 4135,
        "Year": "1972-01-01T00:00:00"
       },
       {
        "Acceleration": 13,
        "Cylinders": 8,
        "Displacement": 351,
        "Horsepower": 153,
        "Miles_per_Gallon": 14,
        "Name": "ford galaxie 500",
        "Origin": "USA",
        "Weight_in_lbs": 4129,
        "Year": "1972-01-01T00:00:00"
       },
       {
        "Acceleration": 11.5,
        "Cylinders": 8,
        "Displacement": 304,
        "Horsepower": 150,
        "Miles_per_Gallon": 17,
        "Name": "amc ambassador sst",
        "Origin": "USA",
        "Weight_in_lbs": 3672,
        "Year": "1972-01-01T00:00:00"
       },
       {
        "Acceleration": 11,
        "Cylinders": 8,
        "Displacement": 429,
        "Horsepower": 208,
        "Miles_per_Gallon": 11,
        "Name": "mercury marquis",
        "Origin": "USA",
        "Weight_in_lbs": 4633,
        "Year": "1972-01-01T00:00:00"
       },
       {
        "Acceleration": 13.5,
        "Cylinders": 8,
        "Displacement": 350,
        "Horsepower": 155,
        "Miles_per_Gallon": 13,
        "Name": "buick lesabre custom",
        "Origin": "USA",
        "Weight_in_lbs": 4502,
        "Year": "1972-01-01T00:00:00"
       },
       {
        "Acceleration": 13.5,
        "Cylinders": 8,
        "Displacement": 350,
        "Horsepower": 160,
        "Miles_per_Gallon": 12,
        "Name": "oldsmobile delta 88 royale",
        "Origin": "USA",
        "Weight_in_lbs": 4456,
        "Year": "1972-01-01T00:00:00"
       },
       {
        "Acceleration": 12.5,
        "Cylinders": 8,
        "Displacement": 400,
        "Horsepower": 190,
        "Miles_per_Gallon": 13,
        "Name": "chrysler newport royal",
        "Origin": "USA",
        "Weight_in_lbs": 4422,
        "Year": "1972-01-01T00:00:00"
       },
       {
        "Acceleration": 13.5,
        "Cylinders": 3,
        "Displacement": 70,
        "Horsepower": 97,
        "Miles_per_Gallon": 19,
        "Name": "mazda rx2 coupe",
        "Origin": "Japan",
        "Weight_in_lbs": 2330,
        "Year": "1972-01-01T00:00:00"
       },
       {
        "Acceleration": 12.5,
        "Cylinders": 8,
        "Displacement": 304,
        "Horsepower": 150,
        "Miles_per_Gallon": 15,
        "Name": "amc matador (sw)",
        "Origin": "USA",
        "Weight_in_lbs": 3892,
        "Year": "1972-01-01T00:00:00"
       },
       {
        "Acceleration": 14,
        "Cylinders": 8,
        "Displacement": 307,
        "Horsepower": 130,
        "Miles_per_Gallon": 13,
        "Name": "chevrolet chevelle concours (sw)",
        "Origin": "USA",
        "Weight_in_lbs": 4098,
        "Year": "1972-01-01T00:00:00"
       },
       {
        "Acceleration": 16,
        "Cylinders": 8,
        "Displacement": 302,
        "Horsepower": 140,
        "Miles_per_Gallon": 13,
        "Name": "ford gran torino (sw)",
        "Origin": "USA",
        "Weight_in_lbs": 4294,
        "Year": "1972-01-01T00:00:00"
       },
       {
        "Acceleration": 14,
        "Cylinders": 8,
        "Displacement": 318,
        "Horsepower": 150,
        "Miles_per_Gallon": 14,
        "Name": "plymouth satellite custom (sw)",
        "Origin": "USA",
        "Weight_in_lbs": 4077,
        "Year": "1972-01-01T00:00:00"
       },
       {
        "Acceleration": 14.5,
        "Cylinders": 4,
        "Displacement": 121,
        "Horsepower": 112,
        "Miles_per_Gallon": 18,
        "Name": "volvo 145e (sw)",
        "Origin": "Europe",
        "Weight_in_lbs": 2933,
        "Year": "1972-01-01T00:00:00"
       },
       {
        "Acceleration": 18,
        "Cylinders": 4,
        "Displacement": 121,
        "Horsepower": 76,
        "Miles_per_Gallon": 22,
        "Name": "volkswagen 411 (sw)",
        "Origin": "Europe",
        "Weight_in_lbs": 2511,
        "Year": "1972-01-01T00:00:00"
       },
       {
        "Acceleration": 19.5,
        "Cylinders": 4,
        "Displacement": 120,
        "Horsepower": 87,
        "Miles_per_Gallon": 21,
        "Name": "peugeot 504 (sw)",
        "Origin": "Europe",
        "Weight_in_lbs": 2979,
        "Year": "1972-01-01T00:00:00"
       },
       {
        "Acceleration": 18,
        "Cylinders": 4,
        "Displacement": 96,
        "Horsepower": 69,
        "Miles_per_Gallon": 26,
        "Name": "renault 12 (sw)",
        "Origin": "Europe",
        "Weight_in_lbs": 2189,
        "Year": "1972-01-01T00:00:00"
       },
       {
        "Acceleration": 16,
        "Cylinders": 4,
        "Displacement": 122,
        "Horsepower": 86,
        "Miles_per_Gallon": 22,
        "Name": "ford pinto (sw)",
        "Origin": "USA",
        "Weight_in_lbs": 2395,
        "Year": "1972-01-01T00:00:00"
       },
       {
        "Acceleration": 17,
        "Cylinders": 4,
        "Displacement": 97,
        "Horsepower": 92,
        "Miles_per_Gallon": 28,
        "Name": "datsun 510 (sw)",
        "Origin": "Japan",
        "Weight_in_lbs": 2288,
        "Year": "1972-01-01T00:00:00"
       },
       {
        "Acceleration": 14.5,
        "Cylinders": 4,
        "Displacement": 120,
        "Horsepower": 97,
        "Miles_per_Gallon": 23,
        "Name": "toyouta corona mark ii (sw)",
        "Origin": "Japan",
        "Weight_in_lbs": 2506,
        "Year": "1972-01-01T00:00:00"
       },
       {
        "Acceleration": 15,
        "Cylinders": 4,
        "Displacement": 98,
        "Horsepower": 80,
        "Miles_per_Gallon": 28,
        "Name": "dodge colt (sw)",
        "Origin": "USA",
        "Weight_in_lbs": 2164,
        "Year": "1972-01-01T00:00:00"
       },
       {
        "Acceleration": 16.5,
        "Cylinders": 4,
        "Displacement": 97,
        "Horsepower": 88,
        "Miles_per_Gallon": 27,
        "Name": "toyota corolla 1600 (sw)",
        "Origin": "Japan",
        "Weight_in_lbs": 2100,
        "Year": "1972-01-01T00:00:00"
       },
       {
        "Acceleration": 13,
        "Cylinders": 8,
        "Displacement": 350,
        "Horsepower": 175,
        "Miles_per_Gallon": 13,
        "Name": "buick century 350",
        "Origin": "USA",
        "Weight_in_lbs": 4100,
        "Year": "1973-01-01T00:00:00"
       },
       {
        "Acceleration": 11.5,
        "Cylinders": 8,
        "Displacement": 304,
        "Horsepower": 150,
        "Miles_per_Gallon": 14,
        "Name": "amc matador",
        "Origin": "USA",
        "Weight_in_lbs": 3672,
        "Year": "1973-01-01T00:00:00"
       },
       {
        "Acceleration": 13,
        "Cylinders": 8,
        "Displacement": 350,
        "Horsepower": 145,
        "Miles_per_Gallon": 13,
        "Name": "chevrolet malibu",
        "Origin": "USA",
        "Weight_in_lbs": 3988,
        "Year": "1973-01-01T00:00:00"
       },
       {
        "Acceleration": 14.5,
        "Cylinders": 8,
        "Displacement": 302,
        "Horsepower": 137,
        "Miles_per_Gallon": 14,
        "Name": "ford gran torino",
        "Origin": "USA",
        "Weight_in_lbs": 4042,
        "Year": "1973-01-01T00:00:00"
       },
       {
        "Acceleration": 12.5,
        "Cylinders": 8,
        "Displacement": 318,
        "Horsepower": 150,
        "Miles_per_Gallon": 15,
        "Name": "dodge coronet custom",
        "Origin": "USA",
        "Weight_in_lbs": 3777,
        "Year": "1973-01-01T00:00:00"
       },
       {
        "Acceleration": 11.5,
        "Cylinders": 8,
        "Displacement": 429,
        "Horsepower": 198,
        "Miles_per_Gallon": 12,
        "Name": "mercury marquis brougham",
        "Origin": "USA",
        "Weight_in_lbs": 4952,
        "Year": "1973-01-01T00:00:00"
       },
       {
        "Acceleration": 12,
        "Cylinders": 8,
        "Displacement": 400,
        "Horsepower": 150,
        "Miles_per_Gallon": 13,
        "Name": "chevrolet caprice classic",
        "Origin": "USA",
        "Weight_in_lbs": 4464,
        "Year": "1973-01-01T00:00:00"
       },
       {
        "Acceleration": 13,
        "Cylinders": 8,
        "Displacement": 351,
        "Horsepower": 158,
        "Miles_per_Gallon": 13,
        "Name": "ford ltd",
        "Origin": "USA",
        "Weight_in_lbs": 4363,
        "Year": "1973-01-01T00:00:00"
       },
       {
        "Acceleration": 14.5,
        "Cylinders": 8,
        "Displacement": 318,
        "Horsepower": 150,
        "Miles_per_Gallon": 14,
        "Name": "plymouth fury gran sedan",
        "Origin": "USA",
        "Weight_in_lbs": 4237,
        "Year": "1973-01-01T00:00:00"
       },
       {
        "Acceleration": 11,
        "Cylinders": 8,
        "Displacement": 440,
        "Horsepower": 215,
        "Miles_per_Gallon": 13,
        "Name": "chrysler new yorker brougham",
        "Origin": "USA",
        "Weight_in_lbs": 4735,
        "Year": "1973-01-01T00:00:00"
       },
       {
        "Acceleration": 11,
        "Cylinders": 8,
        "Displacement": 455,
        "Horsepower": 225,
        "Miles_per_Gallon": 12,
        "Name": "buick electra 225 custom",
        "Origin": "USA",
        "Weight_in_lbs": 4951,
        "Year": "1973-01-01T00:00:00"
       },
       {
        "Acceleration": 11,
        "Cylinders": 8,
        "Displacement": 360,
        "Horsepower": 175,
        "Miles_per_Gallon": 13,
        "Name": "amc ambassador brougham",
        "Origin": "USA",
        "Weight_in_lbs": 3821,
        "Year": "1973-01-01T00:00:00"
       },
       {
        "Acceleration": 16.5,
        "Cylinders": 6,
        "Displacement": 225,
        "Horsepower": 105,
        "Miles_per_Gallon": 18,
        "Name": "plymouth valiant",
        "Origin": "USA",
        "Weight_in_lbs": 3121,
        "Year": "1973-01-01T00:00:00"
       },
       {
        "Acceleration": 18,
        "Cylinders": 6,
        "Displacement": 250,
        "Horsepower": 100,
        "Miles_per_Gallon": 16,
        "Name": "chevrolet nova custom",
        "Origin": "USA",
        "Weight_in_lbs": 3278,
        "Year": "1973-01-01T00:00:00"
       },
       {
        "Acceleration": 16,
        "Cylinders": 6,
        "Displacement": 232,
        "Horsepower": 100,
        "Miles_per_Gallon": 18,
        "Name": "amc hornet",
        "Origin": "USA",
        "Weight_in_lbs": 2945,
        "Year": "1973-01-01T00:00:00"
       },
       {
        "Acceleration": 16.5,
        "Cylinders": 6,
        "Displacement": 250,
        "Horsepower": 88,
        "Miles_per_Gallon": 18,
        "Name": "ford maverick",
        "Origin": "USA",
        "Weight_in_lbs": 3021,
        "Year": "1973-01-01T00:00:00"
       },
       {
        "Acceleration": 16,
        "Cylinders": 6,
        "Displacement": 198,
        "Horsepower": 95,
        "Miles_per_Gallon": 23,
        "Name": "plymouth duster",
        "Origin": "USA",
        "Weight_in_lbs": 2904,
        "Year": "1973-01-01T00:00:00"
       },
       {
        "Acceleration": 21,
        "Cylinders": 4,
        "Displacement": 97,
        "Horsepower": 46,
        "Miles_per_Gallon": 26,
        "Name": "volkswagen super beetle",
        "Origin": "Europe",
        "Weight_in_lbs": 1950,
        "Year": "1973-01-01T00:00:00"
       },
       {
        "Acceleration": 14,
        "Cylinders": 8,
        "Displacement": 400,
        "Horsepower": 150,
        "Miles_per_Gallon": 11,
        "Name": "chevrolet impala",
        "Origin": "USA",
        "Weight_in_lbs": 4997,
        "Year": "1973-01-01T00:00:00"
       },
       {
        "Acceleration": 12.5,
        "Cylinders": 8,
        "Displacement": 400,
        "Horsepower": 167,
        "Miles_per_Gallon": 12,
        "Name": "ford country",
        "Origin": "USA",
        "Weight_in_lbs": 4906,
        "Year": "1973-01-01T00:00:00"
       },
       {
        "Acceleration": 13,
        "Cylinders": 8,
        "Displacement": 360,
        "Horsepower": 170,
        "Miles_per_Gallon": 13,
        "Name": "plymouth custom suburb",
        "Origin": "USA",
        "Weight_in_lbs": 4654,
        "Year": "1973-01-01T00:00:00"
       },
       {
        "Acceleration": 12.5,
        "Cylinders": 8,
        "Displacement": 350,
        "Horsepower": 180,
        "Miles_per_Gallon": 12,
        "Name": "oldsmobile vista cruiser",
        "Origin": "USA",
        "Weight_in_lbs": 4499,
        "Year": "1973-01-01T00:00:00"
       },
       {
        "Acceleration": 15,
        "Cylinders": 6,
        "Displacement": 232,
        "Horsepower": 100,
        "Miles_per_Gallon": 18,
        "Name": "amc gremlin",
        "Origin": "USA",
        "Weight_in_lbs": 2789,
        "Year": "1973-01-01T00:00:00"
       },
       {
        "Acceleration": 19,
        "Cylinders": 4,
        "Displacement": 97,
        "Horsepower": 88,
        "Miles_per_Gallon": 20,
        "Name": "toyota carina",
        "Origin": "Japan",
        "Weight_in_lbs": 2279,
        "Year": "1973-01-01T00:00:00"
       },
       {
        "Acceleration": 19.5,
        "Cylinders": 4,
        "Displacement": 140,
        "Horsepower": 72,
        "Miles_per_Gallon": 21,
        "Name": "chevrolet vega",
        "Origin": "USA",
        "Weight_in_lbs": 2401,
        "Year": "1973-01-01T00:00:00"
       },
       {
        "Acceleration": 16.5,
        "Cylinders": 4,
        "Displacement": 108,
        "Horsepower": 94,
        "Miles_per_Gallon": 22,
        "Name": "datsun 610",
        "Origin": "Japan",
        "Weight_in_lbs": 2379,
        "Year": "1973-01-01T00:00:00"
       },
       {
        "Acceleration": 13.5,
        "Cylinders": 3,
        "Displacement": 70,
        "Horsepower": 90,
        "Miles_per_Gallon": 18,
        "Name": "maxda rx3",
        "Origin": "Japan",
        "Weight_in_lbs": 2124,
        "Year": "1973-01-01T00:00:00"
       },
       {
        "Acceleration": 18.5,
        "Cylinders": 4,
        "Displacement": 122,
        "Horsepower": 85,
        "Miles_per_Gallon": 19,
        "Name": "ford pinto",
        "Origin": "USA",
        "Weight_in_lbs": 2310,
        "Year": "1973-01-01T00:00:00"
       },
       {
        "Acceleration": 14,
        "Cylinders": 6,
        "Displacement": 155,
        "Horsepower": 107,
        "Miles_per_Gallon": 21,
        "Name": "mercury capri v6",
        "Origin": "USA",
        "Weight_in_lbs": 2472,
        "Year": "1973-01-01T00:00:00"
       },
       {
        "Acceleration": 15.5,
        "Cylinders": 4,
        "Displacement": 98,
        "Horsepower": 90,
        "Miles_per_Gallon": 26,
        "Name": "fiat 124 sport coupe",
        "Origin": "Europe",
        "Weight_in_lbs": 2265,
        "Year": "1973-01-01T00:00:00"
       },
       {
        "Acceleration": 13,
        "Cylinders": 8,
        "Displacement": 350,
        "Horsepower": 145,
        "Miles_per_Gallon": 15,
        "Name": "chevrolet monte carlo s",
        "Origin": "USA",
        "Weight_in_lbs": 4082,
        "Year": "1973-01-01T00:00:00"
       },
       {
        "Acceleration": 9.5,
        "Cylinders": 8,
        "Displacement": 400,
        "Horsepower": 230,
        "Miles_per_Gallon": 16,
        "Name": "pontiac grand prix",
        "Origin": "USA",
        "Weight_in_lbs": 4278,
        "Year": "1973-01-01T00:00:00"
       },
       {
        "Acceleration": 19.5,
        "Cylinders": 4,
        "Displacement": 68,
        "Horsepower": 49,
        "Miles_per_Gallon": 29,
        "Name": "fiat 128",
        "Origin": "Europe",
        "Weight_in_lbs": 1867,
        "Year": "1973-01-01T00:00:00"
       },
       {
        "Acceleration": 15.5,
        "Cylinders": 4,
        "Displacement": 116,
        "Horsepower": 75,
        "Miles_per_Gallon": 24,
        "Name": "opel manta",
        "Origin": "Europe",
        "Weight_in_lbs": 2158,
        "Year": "1973-01-01T00:00:00"
       },
       {
        "Acceleration": 14,
        "Cylinders": 4,
        "Displacement": 114,
        "Horsepower": 91,
        "Miles_per_Gallon": 20,
        "Name": "audi 100ls",
        "Origin": "Europe",
        "Weight_in_lbs": 2582,
        "Year": "1973-01-01T00:00:00"
       },
       {
        "Acceleration": 15.5,
        "Cylinders": 4,
        "Displacement": 121,
        "Horsepower": 112,
        "Miles_per_Gallon": 19,
        "Name": "volvo 144ea",
        "Origin": "Europe",
        "Weight_in_lbs": 2868,
        "Year": "1973-01-01T00:00:00"
       },
       {
        "Acceleration": 11,
        "Cylinders": 8,
        "Displacement": 318,
        "Horsepower": 150,
        "Miles_per_Gallon": 15,
        "Name": "dodge dart custom",
        "Origin": "USA",
        "Weight_in_lbs": 3399,
        "Year": "1973-01-01T00:00:00"
       },
       {
        "Acceleration": 14,
        "Cylinders": 4,
        "Displacement": 121,
        "Horsepower": 110,
        "Miles_per_Gallon": 24,
        "Name": "saab 99le",
        "Origin": "Europe",
        "Weight_in_lbs": 2660,
        "Year": "1973-01-01T00:00:00"
       },
       {
        "Acceleration": 13.5,
        "Cylinders": 6,
        "Displacement": 156,
        "Horsepower": 122,
        "Miles_per_Gallon": 20,
        "Name": "toyota mark ii",
        "Origin": "Japan",
        "Weight_in_lbs": 2807,
        "Year": "1973-01-01T00:00:00"
       },
       {
        "Acceleration": 11,
        "Cylinders": 8,
        "Displacement": 350,
        "Horsepower": 180,
        "Miles_per_Gallon": 11,
        "Name": "oldsmobile omega",
        "Origin": "USA",
        "Weight_in_lbs": 3664,
        "Year": "1973-01-01T00:00:00"
       },
       {
        "Acceleration": 16.5,
        "Cylinders": 6,
        "Displacement": 198,
        "Horsepower": 95,
        "Miles_per_Gallon": 20,
        "Name": "plymouth duster",
        "Origin": "USA",
        "Weight_in_lbs": 3102,
        "Year": "1974-01-01T00:00:00"
       },
       {
        "Acceleration": 17,
        "Cylinders": 6,
        "Displacement": 200,
        "Horsepower": null,
        "Miles_per_Gallon": 21,
        "Name": "ford maverick",
        "Origin": "USA",
        "Weight_in_lbs": 2875,
        "Year": "1974-01-01T00:00:00"
       },
       {
        "Acceleration": 16,
        "Cylinders": 6,
        "Displacement": 232,
        "Horsepower": 100,
        "Miles_per_Gallon": 19,
        "Name": "amc hornet",
        "Origin": "USA",
        "Weight_in_lbs": 2901,
        "Year": "1974-01-01T00:00:00"
       },
       {
        "Acceleration": 17,
        "Cylinders": 6,
        "Displacement": 250,
        "Horsepower": 100,
        "Miles_per_Gallon": 15,
        "Name": "chevrolet nova",
        "Origin": "USA",
        "Weight_in_lbs": 3336,
        "Year": "1974-01-01T00:00:00"
       },
       {
        "Acceleration": 19,
        "Cylinders": 4,
        "Displacement": 79,
        "Horsepower": 67,
        "Miles_per_Gallon": 31,
        "Name": "datsun b210",
        "Origin": "Japan",
        "Weight_in_lbs": 1950,
        "Year": "1974-01-01T00:00:00"
       },
       {
        "Acceleration": 16.5,
        "Cylinders": 4,
        "Displacement": 122,
        "Horsepower": 80,
        "Miles_per_Gallon": 26,
        "Name": "ford pinto",
        "Origin": "USA",
        "Weight_in_lbs": 2451,
        "Year": "1974-01-01T00:00:00"
       },
       {
        "Acceleration": 21,
        "Cylinders": 4,
        "Displacement": 71,
        "Horsepower": 65,
        "Miles_per_Gallon": 32,
        "Name": "toyota corolla 1200",
        "Origin": "Japan",
        "Weight_in_lbs": 1836,
        "Year": "1974-01-01T00:00:00"
       },
       {
        "Acceleration": 17,
        "Cylinders": 4,
        "Displacement": 140,
        "Horsepower": 75,
        "Miles_per_Gallon": 25,
        "Name": "chevrolet vega",
        "Origin": "USA",
        "Weight_in_lbs": 2542,
        "Year": "1974-01-01T00:00:00"
       },
       {
        "Acceleration": 17,
        "Cylinders": 6,
        "Displacement": 250,
        "Horsepower": 100,
        "Miles_per_Gallon": 16,
        "Name": "chevrolet chevelle malibu classic",
        "Origin": "USA",
        "Weight_in_lbs": 3781,
        "Year": "1974-01-01T00:00:00"
       },
       {
        "Acceleration": 18,
        "Cylinders": 6,
        "Displacement": 258,
        "Horsepower": 110,
        "Miles_per_Gallon": 16,
        "Name": "amc matador",
        "Origin": "USA",
        "Weight_in_lbs": 3632,
        "Year": "1974-01-01T00:00:00"
       },
       {
        "Acceleration": 16.5,
        "Cylinders": 6,
        "Displacement": 225,
        "Horsepower": 105,
        "Miles_per_Gallon": 18,
        "Name": "plymouth satellite sebring",
        "Origin": "USA",
        "Weight_in_lbs": 3613,
        "Year": "1974-01-01T00:00:00"
       },
       {
        "Acceleration": 14,
        "Cylinders": 8,
        "Displacement": 302,
        "Horsepower": 140,
        "Miles_per_Gallon": 16,
        "Name": "ford gran torino",
        "Origin": "USA",
        "Weight_in_lbs": 4141,
        "Year": "1974-01-01T00:00:00"
       },
       {
        "Acceleration": 14.5,
        "Cylinders": 8,
        "Displacement": 350,
        "Horsepower": 150,
        "Miles_per_Gallon": 13,
        "Name": "buick century luxus (sw)",
        "Origin": "USA",
        "Weight_in_lbs": 4699,
        "Year": "1974-01-01T00:00:00"
       },
       {
        "Acceleration": 13.5,
        "Cylinders": 8,
        "Displacement": 318,
        "Horsepower": 150,
        "Miles_per_Gallon": 14,
        "Name": "dodge coronet custom (sw)",
        "Origin": "USA",
        "Weight_in_lbs": 4457,
        "Year": "1974-01-01T00:00:00"
       },
       {
        "Acceleration": 16,
        "Cylinders": 8,
        "Displacement": 302,
        "Horsepower": 140,
        "Miles_per_Gallon": 14,
        "Name": "ford gran torino (sw)",
        "Origin": "USA",
        "Weight_in_lbs": 4638,
        "Year": "1974-01-01T00:00:00"
       },
       {
        "Acceleration": 15.5,
        "Cylinders": 8,
        "Displacement": 304,
        "Horsepower": 150,
        "Miles_per_Gallon": 14,
        "Name": "amc matador (sw)",
        "Origin": "USA",
        "Weight_in_lbs": 4257,
        "Year": "1974-01-01T00:00:00"
       },
       {
        "Acceleration": 16.5,
        "Cylinders": 4,
        "Displacement": 98,
        "Horsepower": 83,
        "Miles_per_Gallon": 29,
        "Name": "audi fox",
        "Origin": "Europe",
        "Weight_in_lbs": 2219,
        "Year": "1974-01-01T00:00:00"
       },
       {
        "Acceleration": 15.5,
        "Cylinders": 4,
        "Displacement": 79,
        "Horsepower": 67,
        "Miles_per_Gallon": 26,
        "Name": "volkswagen dasher",
        "Origin": "Europe",
        "Weight_in_lbs": 1963,
        "Year": "1974-01-01T00:00:00"
       },
       {
        "Acceleration": 14.5,
        "Cylinders": 4,
        "Displacement": 97,
        "Horsepower": 78,
        "Miles_per_Gallon": 26,
        "Name": "opel manta",
        "Origin": "Europe",
        "Weight_in_lbs": 2300,
        "Year": "1974-01-01T00:00:00"
       },
       {
        "Acceleration": 16.5,
        "Cylinders": 4,
        "Displacement": 76,
        "Horsepower": 52,
        "Miles_per_Gallon": 31,
        "Name": "toyota corona",
        "Origin": "Japan",
        "Weight_in_lbs": 1649,
        "Year": "1974-01-01T00:00:00"
       },
       {
        "Acceleration": 19,
        "Cylinders": 4,
        "Displacement": 83,
        "Horsepower": 61,
        "Miles_per_Gallon": 32,
        "Name": "datsun 710",
        "Origin": "Japan",
        "Weight_in_lbs": 2003,
        "Year": "1974-01-01T00:00:00"
       },
       {
        "Acceleration": 14.5,
        "Cylinders": 4,
        "Displacement": 90,
        "Horsepower": 75,
        "Miles_per_Gallon": 28,
        "Name": "dodge colt",
        "Origin": "USA",
        "Weight_in_lbs": 2125,
        "Year": "1974-01-01T00:00:00"
       },
       {
        "Acceleration": 15.5,
        "Cylinders": 4,
        "Displacement": 90,
        "Horsepower": 75,
        "Miles_per_Gallon": 24,
        "Name": "fiat 128",
        "Origin": "Europe",
        "Weight_in_lbs": 2108,
        "Year": "1974-01-01T00:00:00"
       },
       {
        "Acceleration": 14,
        "Cylinders": 4,
        "Displacement": 116,
        "Horsepower": 75,
        "Miles_per_Gallon": 26,
        "Name": "fiat 124 tc",
        "Origin": "Europe",
        "Weight_in_lbs": 2246,
        "Year": "1974-01-01T00:00:00"
       },
       {
        "Acceleration": 15,
        "Cylinders": 4,
        "Displacement": 120,
        "Horsepower": 97,
        "Miles_per_Gallon": 24,
        "Name": "honda civic",
        "Origin": "Japan",
        "Weight_in_lbs": 2489,
        "Year": "1974-01-01T00:00:00"
       },
       {
        "Acceleration": 15.5,
        "Cylinders": 4,
        "Displacement": 108,
        "Horsepower": 93,
        "Miles_per_Gallon": 26,
        "Name": "subaru",
        "Origin": "Japan",
        "Weight_in_lbs": 2391,
        "Year": "1974-01-01T00:00:00"
       },
       {
        "Acceleration": 16,
        "Cylinders": 4,
        "Displacement": 79,
        "Horsepower": 67,
        "Miles_per_Gallon": 31,
        "Name": "fiat x1.9",
        "Origin": "Europe",
        "Weight_in_lbs": 2000,
        "Year": "1974-01-01T00:00:00"
       },
       {
        "Acceleration": 16,
        "Cylinders": 6,
        "Displacement": 225,
        "Horsepower": 95,
        "Miles_per_Gallon": 19,
        "Name": "plymouth valiant custom",
        "Origin": "USA",
        "Weight_in_lbs": 3264,
        "Year": "1975-01-01T00:00:00"
       },
       {
        "Acceleration": 16,
        "Cylinders": 6,
        "Displacement": 250,
        "Horsepower": 105,
        "Miles_per_Gallon": 18,
        "Name": "chevrolet nova",
        "Origin": "USA",
        "Weight_in_lbs": 3459,
        "Year": "1975-01-01T00:00:00"
       },
       {
        "Acceleration": 21,
        "Cylinders": 6,
        "Displacement": 250,
        "Horsepower": 72,
        "Miles_per_Gallon": 15,
        "Name": "mercury monarch",
        "Origin": "USA",
        "Weight_in_lbs": 3432,
        "Year": "1975-01-01T00:00:00"
       },
       {
        "Acceleration": 19.5,
        "Cylinders": 6,
        "Displacement": 250,
        "Horsepower": 72,
        "Miles_per_Gallon": 15,
        "Name": "ford maverick",
        "Origin": "USA",
        "Weight_in_lbs": 3158,
        "Year": "1975-01-01T00:00:00"
       },
       {
        "Acceleration": 11.5,
        "Cylinders": 8,
        "Displacement": 400,
        "Horsepower": 170,
        "Miles_per_Gallon": 16,
        "Name": "pontiac catalina",
        "Origin": "USA",
        "Weight_in_lbs": 4668,
        "Year": "1975-01-01T00:00:00"
       },
       {
        "Acceleration": 14,
        "Cylinders": 8,
        "Displacement": 350,
        "Horsepower": 145,
        "Miles_per_Gallon": 15,
        "Name": "chevrolet bel air",
        "Origin": "USA",
        "Weight_in_lbs": 4440,
        "Year": "1975-01-01T00:00:00"
       },
       {
        "Acceleration": 14.5,
        "Cylinders": 8,
        "Displacement": 318,
        "Horsepower": 150,
        "Miles_per_Gallon": 16,
        "Name": "plymouth grand fury",
        "Origin": "USA",
        "Weight_in_lbs": 4498,
        "Year": "1975-01-01T00:00:00"
       },
       {
        "Acceleration": 13.5,
        "Cylinders": 8,
        "Displacement": 351,
        "Horsepower": 148,
        "Miles_per_Gallon": 14,
        "Name": "ford ltd",
        "Origin": "USA",
        "Weight_in_lbs": 4657,
        "Year": "1975-01-01T00:00:00"
       },
       {
        "Acceleration": 21,
        "Cylinders": 6,
        "Displacement": 231,
        "Horsepower": 110,
        "Miles_per_Gallon": 17,
        "Name": "buick century",
        "Origin": "USA",
        "Weight_in_lbs": 3907,
        "Year": "1975-01-01T00:00:00"
       },
       {
        "Acceleration": 18.5,
        "Cylinders": 6,
        "Displacement": 250,
        "Horsepower": 105,
        "Miles_per_Gallon": 16,
        "Name": "chevroelt chevelle malibu",
        "Origin": "USA",
        "Weight_in_lbs": 3897,
        "Year": "1975-01-01T00:00:00"
       },
       {
        "Acceleration": 19,
        "Cylinders": 6,
        "Displacement": 258,
        "Horsepower": 110,
        "Miles_per_Gallon": 15,
        "Name": "amc matador",
        "Origin": "USA",
        "Weight_in_lbs": 3730,
        "Year": "1975-01-01T00:00:00"
       },
       {
        "Acceleration": 19,
        "Cylinders": 6,
        "Displacement": 225,
        "Horsepower": 95,
        "Miles_per_Gallon": 18,
        "Name": "plymouth fury",
        "Origin": "USA",
        "Weight_in_lbs": 3785,
        "Year": "1975-01-01T00:00:00"
       },
       {
        "Acceleration": 15,
        "Cylinders": 6,
        "Displacement": 231,
        "Horsepower": 110,
        "Miles_per_Gallon": 21,
        "Name": "buick skyhawk",
        "Origin": "USA",
        "Weight_in_lbs": 3039,
        "Year": "1975-01-01T00:00:00"
       },
       {
        "Acceleration": 13.5,
        "Cylinders": 8,
        "Displacement": 262,
        "Horsepower": 110,
        "Miles_per_Gallon": 20,
        "Name": "chevrolet monza 2+2",
        "Origin": "USA",
        "Weight_in_lbs": 3221,
        "Year": "1975-01-01T00:00:00"
       },
       {
        "Acceleration": 12,
        "Cylinders": 8,
        "Displacement": 302,
        "Horsepower": 129,
        "Miles_per_Gallon": 13,
        "Name": "ford mustang ii",
        "Origin": "USA",
        "Weight_in_lbs": 3169,
        "Year": "1975-01-01T00:00:00"
       },
       {
        "Acceleration": 16,
        "Cylinders": 4,
        "Displacement": 97,
        "Horsepower": 75,
        "Miles_per_Gallon": 29,
        "Name": "toyota corolla",
        "Origin": "Japan",
        "Weight_in_lbs": 2171,
        "Year": "1975-01-01T00:00:00"
       },
       {
        "Acceleration": 17,
        "Cylinders": 4,
        "Displacement": 140,
        "Horsepower": 83,
        "Miles_per_Gallon": 23,
        "Name": "ford pinto",
        "Origin": "USA",
        "Weight_in_lbs": 2639,
        "Year": "1975-01-01T00:00:00"
       },
       {
        "Acceleration": 16,
        "Cylinders": 6,
        "Displacement": 232,
        "Horsepower": 100,
        "Miles_per_Gallon": 20,
        "Name": "amc gremlin",
        "Origin": "USA",
        "Weight_in_lbs": 2914,
        "Year": "1975-01-01T00:00:00"
       },
       {
        "Acceleration": 18.5,
        "Cylinders": 4,
        "Displacement": 140,
        "Horsepower": 78,
        "Miles_per_Gallon": 23,
        "Name": "pontiac astro",
        "Origin": "USA",
        "Weight_in_lbs": 2592,
        "Year": "1975-01-01T00:00:00"
       },
       {
        "Acceleration": 13.5,
        "Cylinders": 4,
        "Displacement": 134,
        "Horsepower": 96,
        "Miles_per_Gallon": 24,
        "Name": "toyota corona",
        "Origin": "Japan",
        "Weight_in_lbs": 2702,
        "Year": "1975-01-01T00:00:00"
       },
       {
        "Acceleration": 16.5,
        "Cylinders": 4,
        "Displacement": 90,
        "Horsepower": 71,
        "Miles_per_Gallon": 25,
        "Name": "volkswagen dasher",
        "Origin": "Europe",
        "Weight_in_lbs": 2223,
        "Year": "1975-01-01T00:00:00"
       },
       {
        "Acceleration": 17,
        "Cylinders": 4,
        "Displacement": 119,
        "Horsepower": 97,
        "Miles_per_Gallon": 24,
        "Name": "datsun 710",
        "Origin": "Japan",
        "Weight_in_lbs": 2545,
        "Year": "1975-01-01T00:00:00"
       },
       {
        "Acceleration": 14.5,
        "Cylinders": 6,
        "Displacement": 171,
        "Horsepower": 97,
        "Miles_per_Gallon": 18,
        "Name": "ford pinto",
        "Origin": "USA",
        "Weight_in_lbs": 2984,
        "Year": "1975-01-01T00:00:00"
       },
       {
        "Acceleration": 14,
        "Cylinders": 4,
        "Displacement": 90,
        "Horsepower": 70,
        "Miles_per_Gallon": 29,
        "Name": "volkswagen rabbit",
        "Origin": "Europe",
        "Weight_in_lbs": 1937,
        "Year": "1975-01-01T00:00:00"
       },
       {
        "Acceleration": 17,
        "Cylinders": 6,
        "Displacement": 232,
        "Horsepower": 90,
        "Miles_per_Gallon": 19,
        "Name": "amc pacer",
        "Origin": "USA",
        "Weight_in_lbs": 3211,
        "Year": "1975-01-01T00:00:00"
       },
       {
        "Acceleration": 15,
        "Cylinders": 4,
        "Displacement": 115,
        "Horsepower": 95,
        "Miles_per_Gallon": 23,
        "Name": "audi 100ls",
        "Origin": "Europe",
        "Weight_in_lbs": 2694,
        "Year": "1975-01-01T00:00:00"
       },
       {
        "Acceleration": 17,
        "Cylinders": 4,
        "Displacement": 120,
        "Horsepower": 88,
        "Miles_per_Gallon": 23,
        "Name": "peugeot 504",
        "Origin": "Europe",
        "Weight_in_lbs": 2957,
        "Year": "1975-01-01T00:00:00"
       },
       {
        "Acceleration": 14.5,
        "Cylinders": 4,
        "Displacement": 121,
        "Horsepower": 98,
        "Miles_per_Gallon": 22,
        "Name": "volvo 244dl",
        "Origin": "Europe",
        "Weight_in_lbs": 2945,
        "Year": "1975-01-01T00:00:00"
       },
       {
        "Acceleration": 13.5,
        "Cylinders": 4,
        "Displacement": 121,
        "Horsepower": 115,
        "Miles_per_Gallon": 25,
        "Name": "saab 99le",
        "Origin": "Europe",
        "Weight_in_lbs": 2671,
        "Year": "1975-01-01T00:00:00"
       },
       {
        "Acceleration": 17.5,
        "Cylinders": 4,
        "Displacement": 91,
        "Horsepower": 53,
        "Miles_per_Gallon": 33,
        "Name": "honda civic cvcc",
        "Origin": "Japan",
        "Weight_in_lbs": 1795,
        "Year": "1975-01-01T00:00:00"
       },
       {
        "Acceleration": 15.5,
        "Cylinders": 4,
        "Displacement": 107,
        "Horsepower": 86,
        "Miles_per_Gallon": 28,
        "Name": "fiat 131",
        "Origin": "Europe",
        "Weight_in_lbs": 2464,
        "Year": "1976-01-01T00:00:00"
       },
       {
        "Acceleration": 16.9,
        "Cylinders": 4,
        "Displacement": 116,
        "Horsepower": 81,
        "Miles_per_Gallon": 25,
        "Name": "opel 1900",
        "Origin": "Europe",
        "Weight_in_lbs": 2220,
        "Year": "1976-01-01T00:00:00"
       },
       {
        "Acceleration": 14.9,
        "Cylinders": 4,
        "Displacement": 140,
        "Horsepower": 92,
        "Miles_per_Gallon": 25,
        "Name": "capri ii",
        "Origin": "USA",
        "Weight_in_lbs": 2572,
        "Year": "1976-01-01T00:00:00"
       },
       {
        "Acceleration": 17.7,
        "Cylinders": 4,
        "Displacement": 98,
        "Horsepower": 79,
        "Miles_per_Gallon": 26,
        "Name": "dodge colt",
        "Origin": "USA",
        "Weight_in_lbs": 2255,
        "Year": "1976-01-01T00:00:00"
       },
       {
        "Acceleration": 15.3,
        "Cylinders": 4,
        "Displacement": 101,
        "Horsepower": 83,
        "Miles_per_Gallon": 27,
        "Name": "renault 12tl",
        "Origin": "Europe",
        "Weight_in_lbs": 2202,
        "Year": "1976-01-01T00:00:00"
       },
       {
        "Acceleration": 13,
        "Cylinders": 8,
        "Displacement": 305,
        "Horsepower": 140,
        "Miles_per_Gallon": 17.5,
        "Name": "chevrolet chevelle malibu classic",
        "Origin": "USA",
        "Weight_in_lbs": 4215,
        "Year": "1976-01-01T00:00:00"
       },
       {
        "Acceleration": 13,
        "Cylinders": 8,
        "Displacement": 318,
        "Horsepower": 150,
        "Miles_per_Gallon": 16,
        "Name": "dodge coronet brougham",
        "Origin": "USA",
        "Weight_in_lbs": 4190,
        "Year": "1976-01-01T00:00:00"
       },
       {
        "Acceleration": 13.9,
        "Cylinders": 8,
        "Displacement": 304,
        "Horsepower": 120,
        "Miles_per_Gallon": 15.5,
        "Name": "amc matador",
        "Origin": "USA",
        "Weight_in_lbs": 3962,
        "Year": "1976-01-01T00:00:00"
       },
       {
        "Acceleration": 12.8,
        "Cylinders": 8,
        "Displacement": 351,
        "Horsepower": 152,
        "Miles_per_Gallon": 14.5,
        "Name": "ford gran torino",
        "Origin": "USA",
        "Weight_in_lbs": 4215,
        "Year": "1976-01-01T00:00:00"
       },
       {
        "Acceleration": 15.4,
        "Cylinders": 6,
        "Displacement": 225,
        "Horsepower": 100,
        "Miles_per_Gallon": 22,
        "Name": "plymouth valiant",
        "Origin": "USA",
        "Weight_in_lbs": 3233,
        "Year": "1976-01-01T00:00:00"
       },
       {
        "Acceleration": 14.5,
        "Cylinders": 6,
        "Displacement": 250,
        "Horsepower": 105,
        "Miles_per_Gallon": 22,
        "Name": "chevrolet nova",
        "Origin": "USA",
        "Weight_in_lbs": 3353,
        "Year": "1976-01-01T00:00:00"
       },
       {
        "Acceleration": 17.6,
        "Cylinders": 6,
        "Displacement": 200,
        "Horsepower": 81,
        "Miles_per_Gallon": 24,
        "Name": "ford maverick",
        "Origin": "USA",
        "Weight_in_lbs": 3012,
        "Year": "1976-01-01T00:00:00"
       },
       {
        "Acceleration": 17.6,
        "Cylinders": 6,
        "Displacement": 232,
        "Horsepower": 90,
        "Miles_per_Gallon": 22.5,
        "Name": "amc hornet",
        "Origin": "USA",
        "Weight_in_lbs": 3085,
        "Year": "1976-01-01T00:00:00"
       },
       {
        "Acceleration": 22.2,
        "Cylinders": 4,
        "Displacement": 85,
        "Horsepower": 52,
        "Miles_per_Gallon": 29,
        "Name": "chevrolet chevette",
        "Origin": "USA",
        "Weight_in_lbs": 2035,
        "Year": "1976-01-01T00:00:00"
       },
       {
        "Acceleration": 22.1,
        "Cylinders": 4,
        "Displacement": 98,
        "Horsepower": 60,
        "Miles_per_Gallon": 24.5,
        "Name": "chevrolet woody",
        "Origin": "USA",
        "Weight_in_lbs": 2164,
        "Year": "1976-01-01T00:00:00"
       },
       {
        "Acceleration": 14.2,
        "Cylinders": 4,
        "Displacement": 90,
        "Horsepower": 70,
        "Miles_per_Gallon": 29,
        "Name": "vw rabbit",
        "Origin": "Europe",
        "Weight_in_lbs": 1937,
        "Year": "1976-01-01T00:00:00"
       },
       {
        "Acceleration": 17.4,
        "Cylinders": 4,
        "Displacement": 91,
        "Horsepower": 53,
        "Miles_per_Gallon": 33,
        "Name": "honda civic",
        "Origin": "Japan",
        "Weight_in_lbs": 1795,
        "Year": "1976-01-01T00:00:00"
       },
       {
        "Acceleration": 17.7,
        "Cylinders": 6,
        "Displacement": 225,
        "Horsepower": 100,
        "Miles_per_Gallon": 20,
        "Name": "dodge aspen se",
        "Origin": "USA",
        "Weight_in_lbs": 3651,
        "Year": "1976-01-01T00:00:00"
       },
       {
        "Acceleration": 21,
        "Cylinders": 6,
        "Displacement": 250,
        "Horsepower": 78,
        "Miles_per_Gallon": 18,
        "Name": "ford granada ghia",
        "Origin": "USA",
        "Weight_in_lbs": 3574,
        "Year": "1976-01-01T00:00:00"
       },
       {
        "Acceleration": 16.2,
        "Cylinders": 6,
        "Displacement": 250,
        "Horsepower": 110,
        "Miles_per_Gallon": 18.5,
        "Name": "pontiac ventura sj",
        "Origin": "USA",
        "Weight_in_lbs": 3645,
        "Year": "1976-01-01T00:00:00"
       },
       {
        "Acceleration": 17.8,
        "Cylinders": 6,
        "Displacement": 258,
        "Horsepower": 95,
        "Miles_per_Gallon": 17.5,
        "Name": "amc pacer d/l",
        "Origin": "USA",
        "Weight_in_lbs": 3193,
        "Year": "1976-01-01T00:00:00"
       },
       {
        "Acceleration": 12.2,
        "Cylinders": 4,
        "Displacement": 97,
        "Horsepower": 71,
        "Miles_per_Gallon": 29.5,
        "Name": "volkswagen rabbit",
        "Origin": "Europe",
        "Weight_in_lbs": 1825,
        "Year": "1976-01-01T00:00:00"
       },
       {
        "Acceleration": 17,
        "Cylinders": 4,
        "Displacement": 85,
        "Horsepower": 70,
        "Miles_per_Gallon": 32,
        "Name": "datsun b-210",
        "Origin": "Japan",
        "Weight_in_lbs": 1990,
        "Year": "1976-01-01T00:00:00"
       },
       {
        "Acceleration": 16.4,
        "Cylinders": 4,
        "Displacement": 97,
        "Horsepower": 75,
        "Miles_per_Gallon": 28,
        "Name": "toyota corolla",
        "Origin": "Japan",
        "Weight_in_lbs": 2155,
        "Year": "1976-01-01T00:00:00"
       },
       {
        "Acceleration": 13.6,
        "Cylinders": 4,
        "Displacement": 140,
        "Horsepower": 72,
        "Miles_per_Gallon": 26.5,
        "Name": "ford pinto",
        "Origin": "USA",
        "Weight_in_lbs": 2565,
        "Year": "1976-01-01T00:00:00"
       },
       {
        "Acceleration": 15.7,
        "Cylinders": 4,
        "Displacement": 130,
        "Horsepower": 102,
        "Miles_per_Gallon": 20,
        "Name": "volvo 245",
        "Origin": "Europe",
        "Weight_in_lbs": 3150,
        "Year": "1976-01-01T00:00:00"
       },
       {
        "Acceleration": 13.2,
        "Cylinders": 8,
        "Displacement": 318,
        "Horsepower": 150,
        "Miles_per_Gallon": 13,
        "Name": "plymouth volare premier v8",
        "Origin": "USA",
        "Weight_in_lbs": 3940,
        "Year": "1976-01-01T00:00:00"
       },
       {
        "Acceleration": 21.9,
        "Cylinders": 4,
        "Displacement": 120,
        "Horsepower": 88,
        "Miles_per_Gallon": 19,
        "Name": "peugeot 504",
        "Origin": "Europe",
        "Weight_in_lbs": 3270,
        "Year": "1976-01-01T00:00:00"
       },
       {
        "Acceleration": 15.5,
        "Cylinders": 6,
        "Displacement": 156,
        "Horsepower": 108,
        "Miles_per_Gallon": 19,
        "Name": "toyota mark ii",
        "Origin": "Japan",
        "Weight_in_lbs": 2930,
        "Year": "1976-01-01T00:00:00"
       },
       {
        "Acceleration": 16.7,
        "Cylinders": 6,
        "Displacement": 168,
        "Horsepower": 120,
        "Miles_per_Gallon": 16.5,
        "Name": "mercedes-benz 280s",
        "Origin": "Europe",
        "Weight_in_lbs": 3820,
        "Year": "1976-01-01T00:00:00"
       },
       {
        "Acceleration": 12.1,
        "Cylinders": 8,
        "Displacement": 350,
        "Horsepower": 180,
        "Miles_per_Gallon": 16.5,
        "Name": "cadillac seville",
        "Origin": "USA",
        "Weight_in_lbs": 4380,
        "Year": "1976-01-01T00:00:00"
       },
       {
        "Acceleration": 12,
        "Cylinders": 8,
        "Displacement": 350,
        "Horsepower": 145,
        "Miles_per_Gallon": 13,
        "Name": "chevy c10",
        "Origin": "USA",
        "Weight_in_lbs": 4055,
        "Year": "1976-01-01T00:00:00"
       },
       {
        "Acceleration": 15,
        "Cylinders": 8,
        "Displacement": 302,
        "Horsepower": 130,
        "Miles_per_Gallon": 13,
        "Name": "ford f108",
        "Origin": "USA",
        "Weight_in_lbs": 3870,
        "Year": "1976-01-01T00:00:00"
       },
       {
        "Acceleration": 14,
        "Cylinders": 8,
        "Displacement": 318,
        "Horsepower": 150,
        "Miles_per_Gallon": 13,
        "Name": "dodge d100",
        "Origin": "USA",
        "Weight_in_lbs": 3755,
        "Year": "1976-01-01T00:00:00"
       },
       {
        "Acceleration": 18.5,
        "Cylinders": 4,
        "Displacement": 98,
        "Horsepower": 68,
        "Miles_per_Gallon": 31.5,
        "Name": "honda Accelerationord cvcc",
        "Origin": "Japan",
        "Weight_in_lbs": 2045,
        "Year": "1977-01-01T00:00:00"
       },
       {
        "Acceleration": 14.8,
        "Cylinders": 4,
        "Displacement": 111,
        "Horsepower": 80,
        "Miles_per_Gallon": 30,
        "Name": "buick opel isuzu deluxe",
        "Origin": "USA",
        "Weight_in_lbs": 2155,
        "Year": "1977-01-01T00:00:00"
       },
       {
        "Acceleration": 18.6,
        "Cylinders": 4,
        "Displacement": 79,
        "Horsepower": 58,
        "Miles_per_Gallon": 36,
        "Name": "renault 5 gtl",
        "Origin": "Europe",
        "Weight_in_lbs": 1825,
        "Year": "1977-01-01T00:00:00"
       },
       {
        "Acceleration": 15.5,
        "Cylinders": 4,
        "Displacement": 122,
        "Horsepower": 96,
        "Miles_per_Gallon": 25.5,
        "Name": "plymouth arrow gs",
        "Origin": "USA",
        "Weight_in_lbs": 2300,
        "Year": "1977-01-01T00:00:00"
       },
       {
        "Acceleration": 16.8,
        "Cylinders": 4,
        "Displacement": 85,
        "Horsepower": 70,
        "Miles_per_Gallon": 33.5,
        "Name": "datsun f-10 hatchback",
        "Origin": "Japan",
        "Weight_in_lbs": 1945,
        "Year": "1977-01-01T00:00:00"
       },
       {
        "Acceleration": 12.5,
        "Cylinders": 8,
        "Displacement": 305,
        "Horsepower": 145,
        "Miles_per_Gallon": 17.5,
        "Name": "chevrolet caprice classic",
        "Origin": "USA",
        "Weight_in_lbs": 3880,
        "Year": "1977-01-01T00:00:00"
       },
       {
        "Acceleration": 19,
        "Cylinders": 8,
        "Displacement": 260,
        "Horsepower": 110,
        "Miles_per_Gallon": 17,
        "Name": "oldsmobile cutlass supreme",
        "Origin": "USA",
        "Weight_in_lbs": 4060,
        "Year": "1977-01-01T00:00:00"
       },
       {
        "Acceleration": 13.7,
        "Cylinders": 8,
        "Displacement": 318,
        "Horsepower": 145,
        "Miles_per_Gallon": 15.5,
        "Name": "dodge monaco brougham",
        "Origin": "USA",
        "Weight_in_lbs": 4140,
        "Year": "1977-01-01T00:00:00"
       },
       {
        "Acceleration": 14.9,
        "Cylinders": 8,
        "Displacement": 302,
        "Horsepower": 130,
        "Miles_per_Gallon": 15,
        "Name": "mercury cougar brougham",
        "Origin": "USA",
        "Weight_in_lbs": 4295,
        "Year": "1977-01-01T00:00:00"
       },
       {
        "Acceleration": 16.4,
        "Cylinders": 6,
        "Displacement": 250,
        "Horsepower": 110,
        "Miles_per_Gallon": 17.5,
        "Name": "chevrolet concours",
        "Origin": "USA",
        "Weight_in_lbs": 3520,
        "Year": "1977-01-01T00:00:00"
       },
       {
        "Acceleration": 16.9,
        "Cylinders": 6,
        "Displacement": 231,
        "Horsepower": 105,
        "Miles_per_Gallon": 20.5,
        "Name": "buick skylark",
        "Origin": "USA",
        "Weight_in_lbs": 3425,
        "Year": "1977-01-01T00:00:00"
       },
       {
        "Acceleration": 17.7,
        "Cylinders": 6,
        "Displacement": 225,
        "Horsepower": 100,
        "Miles_per_Gallon": 19,
        "Name": "plymouth volare custom",
        "Origin": "USA",
        "Weight_in_lbs": 3630,
        "Year": "1977-01-01T00:00:00"
       },
       {
        "Acceleration": 19,
        "Cylinders": 6,
        "Displacement": 250,
        "Horsepower": 98,
        "Miles_per_Gallon": 18.5,
        "Name": "ford granada",
        "Origin": "USA",
        "Weight_in_lbs": 3525,
        "Year": "1977-01-01T00:00:00"
       },
       {
        "Acceleration": 11.1,
        "Cylinders": 8,
        "Displacement": 400,
        "Horsepower": 180,
        "Miles_per_Gallon": 16,
        "Name": "pontiac grand prix lj",
        "Origin": "USA",
        "Weight_in_lbs": 4220,
        "Year": "1977-01-01T00:00:00"
       },
       {
        "Acceleration": 11.4,
        "Cylinders": 8,
        "Displacement": 350,
        "Horsepower": 170,
        "Miles_per_Gallon": 15.5,
        "Name": "chevrolet monte carlo landau",
        "Origin": "USA",
        "Weight_in_lbs": 4165,
        "Year": "1977-01-01T00:00:00"
       },
       {
        "Acceleration": 12.2,
        "Cylinders": 8,
        "Displacement": 400,
        "Horsepower": 190,
        "Miles_per_Gallon": 15.5,
        "Name": "chrysler cordoba",
        "Origin": "USA",
        "Weight_in_lbs": 4325,
        "Year": "1977-01-01T00:00:00"
       },
       {
        "Acceleration": 14.5,
        "Cylinders": 8,
        "Displacement": 351,
        "Horsepower": 149,
        "Miles_per_Gallon": 16,
        "Name": "ford thunderbird",
        "Origin": "USA",
        "Weight_in_lbs": 4335,
        "Year": "1977-01-01T00:00:00"
       },
       {
        "Acceleration": 14.5,
        "Cylinders": 4,
        "Displacement": 97,
        "Horsepower": 78,
        "Miles_per_Gallon": 29,
        "Name": "volkswagen rabbit custom",
        "Origin": "Europe",
        "Weight_in_lbs": 1940,
        "Year": "1977-01-01T00:00:00"
       },
       {
        "Acceleration": 16,
        "Cylinders": 4,
        "Displacement": 151,
        "Horsepower": 88,
        "Miles_per_Gallon": 24.5,
        "Name": "pontiac sunbird coupe",
        "Origin": "USA",
        "Weight_in_lbs": 2740,
        "Year": "1977-01-01T00:00:00"
       },
       {
        "Acceleration": 18.2,
        "Cylinders": 4,
        "Displacement": 97,
        "Horsepower": 75,
        "Miles_per_Gallon": 26,
        "Name": "toyota corolla liftback",
        "Origin": "Japan",
        "Weight_in_lbs": 2265,
        "Year": "1977-01-01T00:00:00"
       },
       {
        "Acceleration": 15.8,
        "Cylinders": 4,
        "Displacement": 140,
        "Horsepower": 89,
        "Miles_per_Gallon": 25.5,
        "Name": "ford mustang ii 2+2",
        "Origin": "USA",
        "Weight_in_lbs": 2755,
        "Year": "1977-01-01T00:00:00"
       },
       {
        "Acceleration": 17,
        "Cylinders": 4,
        "Displacement": 98,
        "Horsepower": 63,
        "Miles_per_Gallon": 30.5,
        "Name": "chevrolet chevette",
        "Origin": "USA",
        "Weight_in_lbs": 2051,
        "Year": "1977-01-01T00:00:00"
       },
       {
        "Acceleration": 15.9,
        "Cylinders": 4,
        "Displacement": 98,
        "Horsepower": 83,
        "Miles_per_Gallon": 33.5,
        "Name": "dodge colt m/m",
        "Origin": "USA",
        "Weight_in_lbs": 2075,
        "Year": "1977-01-01T00:00:00"
       },
       {
        "Acceleration": 16.4,
        "Cylinders": 4,
        "Displacement": 97,
        "Horsepower": 67,
        "Miles_per_Gallon": 30,
        "Name": "subaru dl",
        "Origin": "Japan",
        "Weight_in_lbs": 1985,
        "Year": "1977-01-01T00:00:00"
       },
       {
        "Acceleration": 14.1,
        "Cylinders": 4,
        "Displacement": 97,
        "Horsepower": 78,
        "Miles_per_Gallon": 30.5,
        "Name": "volkswagen dasher",
        "Origin": "Europe",
        "Weight_in_lbs": 2190,
        "Year": "1977-01-01T00:00:00"
       },
       {
        "Acceleration": 14.5,
        "Cylinders": 6,
        "Displacement": 146,
        "Horsepower": 97,
        "Miles_per_Gallon": 22,
        "Name": "datsun 810",
        "Origin": "Japan",
        "Weight_in_lbs": 2815,
        "Year": "1977-01-01T00:00:00"
       },
       {
        "Acceleration": 12.8,
        "Cylinders": 4,
        "Displacement": 121,
        "Horsepower": 110,
        "Miles_per_Gallon": 21.5,
        "Name": "bmw 320i",
        "Origin": "Europe",
        "Weight_in_lbs": 2600,
        "Year": "1977-01-01T00:00:00"
       },
       {
        "Acceleration": 13.5,
        "Cylinders": 3,
        "Displacement": 80,
        "Horsepower": 110,
        "Miles_per_Gallon": 21.5,
        "Name": "mazda rx-4",
        "Origin": "Japan",
        "Weight_in_lbs": 2720,
        "Year": "1977-01-01T00:00:00"
       },
       {
        "Acceleration": 21.5,
        "Cylinders": 4,
        "Displacement": 90,
        "Horsepower": 48,
        "Miles_per_Gallon": 43.1,
        "Name": "volkswagen rabbit custom diesel",
        "Origin": "Europe",
        "Weight_in_lbs": 1985,
        "Year": "1978-01-01T00:00:00"
       },
       {
        "Acceleration": 14.4,
        "Cylinders": 4,
        "Displacement": 98,
        "Horsepower": 66,
        "Miles_per_Gallon": 36.1,
        "Name": "ford fiesta",
        "Origin": "USA",
        "Weight_in_lbs": 1800,
        "Year": "1978-01-01T00:00:00"
       },
       {
        "Acceleration": 19.4,
        "Cylinders": 4,
        "Displacement": 78,
        "Horsepower": 52,
        "Miles_per_Gallon": 32.8,
        "Name": "mazda glc deluxe",
        "Origin": "Japan",
        "Weight_in_lbs": 1985,
        "Year": "1978-01-01T00:00:00"
       },
       {
        "Acceleration": 18.6,
        "Cylinders": 4,
        "Displacement": 85,
        "Horsepower": 70,
        "Miles_per_Gallon": 39.4,
        "Name": "datsun b210 gx",
        "Origin": "Japan",
        "Weight_in_lbs": 2070,
        "Year": "1978-01-01T00:00:00"
       },
       {
        "Acceleration": 16.4,
        "Cylinders": 4,
        "Displacement": 91,
        "Horsepower": 60,
        "Miles_per_Gallon": 36.1,
        "Name": "honda civic cvcc",
        "Origin": "Japan",
        "Weight_in_lbs": 1800,
        "Year": "1978-01-01T00:00:00"
       },
       {
        "Acceleration": 15.5,
        "Cylinders": 8,
        "Displacement": 260,
        "Horsepower": 110,
        "Miles_per_Gallon": 19.9,
        "Name": "oldsmobile cutlass salon brougham",
        "Origin": "USA",
        "Weight_in_lbs": 3365,
        "Year": "1978-01-01T00:00:00"
       },
       {
        "Acceleration": 13.2,
        "Cylinders": 8,
        "Displacement": 318,
        "Horsepower": 140,
        "Miles_per_Gallon": 19.4,
        "Name": "dodge diplomat",
        "Origin": "USA",
        "Weight_in_lbs": 3735,
        "Year": "1978-01-01T00:00:00"
       },
       {
        "Acceleration": 12.8,
        "Cylinders": 8,
        "Displacement": 302,
        "Horsepower": 139,
        "Miles_per_Gallon": 20.2,
        "Name": "mercury monarch ghia",
        "Origin": "USA",
        "Weight_in_lbs": 3570,
        "Year": "1978-01-01T00:00:00"
       },
       {
        "Acceleration": 19.2,
        "Cylinders": 6,
        "Displacement": 231,
        "Horsepower": 105,
        "Miles_per_Gallon": 19.2,
        "Name": "pontiac phoenix lj",
        "Origin": "USA",
        "Weight_in_lbs": 3535,
        "Year": "1978-01-01T00:00:00"
       },
       {
        "Acceleration": 18.2,
        "Cylinders": 6,
        "Displacement": 200,
        "Horsepower": 95,
        "Miles_per_Gallon": 20.5,
        "Name": "chevrolet malibu",
        "Origin": "USA",
        "Weight_in_lbs": 3155,
        "Year": "1978-01-01T00:00:00"
       },
       {
        "Acceleration": 15.8,
        "Cylinders": 6,
        "Displacement": 200,
        "Horsepower": 85,
        "Miles_per_Gallon": 20.2,
        "Name": "ford fairmont (auto)",
        "Origin": "USA",
        "Weight_in_lbs": 2965,
        "Year": "1978-01-01T00:00:00"
       },
       {
        "Acceleration": 15.4,
        "Cylinders": 4,
        "Displacement": 140,
        "Horsepower": 88,
        "Miles_per_Gallon": 25.1,
        "Name": "ford fairmont (man)",
        "Origin": "USA",
        "Weight_in_lbs": 2720,
        "Year": "1978-01-01T00:00:00"
       },
       {
        "Acceleration": 17.2,
        "Cylinders": 6,
        "Displacement": 225,
        "Horsepower": 100,
        "Miles_per_Gallon": 20.5,
        "Name": "plymouth volare",
        "Origin": "USA",
        "Weight_in_lbs": 3430,
        "Year": "1978-01-01T00:00:00"
       },
       {
        "Acceleration": 17.2,
        "Cylinders": 6,
        "Displacement": 232,
        "Horsepower": 90,
        "Miles_per_Gallon": 19.4,
        "Name": "amc concord",
        "Origin": "USA",
        "Weight_in_lbs": 3210,
        "Year": "1978-01-01T00:00:00"
       },
       {
        "Acceleration": 15.8,
        "Cylinders": 6,
        "Displacement": 231,
        "Horsepower": 105,
        "Miles_per_Gallon": 20.6,
        "Name": "buick century special",
        "Origin": "USA",
        "Weight_in_lbs": 3380,
        "Year": "1978-01-01T00:00:00"
       },
       {
        "Acceleration": 16.7,
        "Cylinders": 6,
        "Displacement": 200,
        "Horsepower": 85,
        "Miles_per_Gallon": 20.8,
        "Name": "mercury zephyr",
        "Origin": "USA",
        "Weight_in_lbs": 3070,
        "Year": "1978-01-01T00:00:00"
       },
       {
        "Acceleration": 18.7,
        "Cylinders": 6,
        "Displacement": 225,
        "Horsepower": 110,
        "Miles_per_Gallon": 18.6,
        "Name": "dodge aspen",
        "Origin": "USA",
        "Weight_in_lbs": 3620,
        "Year": "1978-01-01T00:00:00"
       },
       {
        "Acceleration": 15.1,
        "Cylinders": 6,
        "Displacement": 258,
        "Horsepower": 120,
        "Miles_per_Gallon": 18.1,
        "Name": "amc concord d/l",
        "Origin": "USA",
        "Weight_in_lbs": 3410,
        "Year": "1978-01-01T00:00:00"
       },
       {
        "Acceleration": 13.2,
        "Cylinders": 8,
        "Displacement": 305,
        "Horsepower": 145,
        "Miles_per_Gallon": 19.2,
        "Name": "chevrolet monte carlo landau",
        "Origin": "USA",
        "Weight_in_lbs": 3425,
        "Year": "1978-01-01T00:00:00"
       },
       {
        "Acceleration": 13.4,
        "Cylinders": 6,
        "Displacement": 231,
        "Horsepower": 165,
        "Miles_per_Gallon": 17.7,
        "Name": "buick regal sport coupe (turbo)",
        "Origin": "USA",
        "Weight_in_lbs": 3445,
        "Year": "1978-01-01T00:00:00"
       },
       {
        "Acceleration": 11.2,
        "Cylinders": 8,
        "Displacement": 302,
        "Horsepower": 139,
        "Miles_per_Gallon": 18.1,
        "Name": "ford futura",
        "Origin": "USA",
        "Weight_in_lbs": 3205,
        "Year": "1978-01-01T00:00:00"
       },
       {
        "Acceleration": 13.7,
        "Cylinders": 8,
        "Displacement": 318,
        "Horsepower": 140,
        "Miles_per_Gallon": 17.5,
        "Name": "dodge magnum xe",
        "Origin": "USA",
        "Weight_in_lbs": 4080,
        "Year": "1978-01-01T00:00:00"
       },
       {
        "Acceleration": 16.5,
        "Cylinders": 4,
        "Displacement": 98,
        "Horsepower": 68,
        "Miles_per_Gallon": 30,
        "Name": "chevrolet chevette",
        "Origin": "USA",
        "Weight_in_lbs": 2155,
        "Year": "1978-01-01T00:00:00"
       },
       {
        "Acceleration": 14.2,
        "Cylinders": 4,
        "Displacement": 134,
        "Horsepower": 95,
        "Miles_per_Gallon": 27.5,
        "Name": "toyota corona",
        "Origin": "Japan",
        "Weight_in_lbs": 2560,
        "Year": "1978-01-01T00:00:00"
       },
       {
        "Acceleration": 14.7,
        "Cylinders": 4,
        "Displacement": 119,
        "Horsepower": 97,
        "Miles_per_Gallon": 27.2,
        "Name": "datsun 510",
        "Origin": "Japan",
        "Weight_in_lbs": 2300,
        "Year": "1978-01-01T00:00:00"
       },
       {
        "Acceleration": 14.5,
        "Cylinders": 4,
        "Displacement": 105,
        "Horsepower": 75,
        "Miles_per_Gallon": 30.9,
        "Name": "dodge omni",
        "Origin": "USA",
        "Weight_in_lbs": 2230,
        "Year": "1978-01-01T00:00:00"
       },
       {
        "Acceleration": 14.8,
        "Cylinders": 4,
        "Displacement": 134,
        "Horsepower": 95,
        "Miles_per_Gallon": 21.1,
        "Name": "toyota celica gt liftback",
        "Origin": "Japan",
        "Weight_in_lbs": 2515,
        "Year": "1978-01-01T00:00:00"
       },
       {
        "Acceleration": 16.7,
        "Cylinders": 4,
        "Displacement": 156,
        "Horsepower": 105,
        "Miles_per_Gallon": 23.2,
        "Name": "plymouth sapporo",
        "Origin": "USA",
        "Weight_in_lbs": 2745,
        "Year": "1978-01-01T00:00:00"
       },
       {
        "Acceleration": 17.6,
        "Cylinders": 4,
        "Displacement": 151,
        "Horsepower": 85,
        "Miles_per_Gallon": 23.8,
        "Name": "oldsmobile starfire sx",
        "Origin": "USA",
        "Weight_in_lbs": 2855,
        "Year": "1978-01-01T00:00:00"
       },
       {
        "Acceleration": 14.9,
        "Cylinders": 4,
        "Displacement": 119,
        "Horsepower": 97,
        "Miles_per_Gallon": 23.9,
        "Name": "datsun 200-sx",
        "Origin": "Japan",
        "Weight_in_lbs": 2405,
        "Year": "1978-01-01T00:00:00"
       },
       {
        "Acceleration": 15.9,
        "Cylinders": 5,
        "Displacement": 131,
        "Horsepower": 103,
        "Miles_per_Gallon": 20.3,
        "Name": "audi 5000",
        "Origin": "Europe",
        "Weight_in_lbs": 2830,
        "Year": "1978-01-01T00:00:00"
       },
       {
        "Acceleration": 13.6,
        "Cylinders": 6,
        "Displacement": 163,
        "Horsepower": 125,
        "Miles_per_Gallon": 17,
        "Name": "volvo 264gl",
        "Origin": "Europe",
        "Weight_in_lbs": 3140,
        "Year": "1978-01-01T00:00:00"
       },
       {
        "Acceleration": 15.7,
        "Cylinders": 4,
        "Displacement": 121,
        "Horsepower": 115,
        "Miles_per_Gallon": 21.6,
        "Name": "saab 99gle",
        "Origin": "Europe",
        "Weight_in_lbs": 2795,
        "Year": "1978-01-01T00:00:00"
       },
       {
        "Acceleration": 15.8,
        "Cylinders": 6,
        "Displacement": 163,
        "Horsepower": 133,
        "Miles_per_Gallon": 16.2,
        "Name": "peugeot 604sl",
        "Origin": "Europe",
        "Weight_in_lbs": 3410,
        "Year": "1978-01-01T00:00:00"
       },
       {
        "Acceleration": 14.9,
        "Cylinders": 4,
        "Displacement": 89,
        "Horsepower": 71,
        "Miles_per_Gallon": 31.5,
        "Name": "volkswagen scirocco",
        "Origin": "Europe",
        "Weight_in_lbs": 1990,
        "Year": "1978-01-01T00:00:00"
       },
       {
        "Acceleration": 16.6,
        "Cylinders": 4,
        "Displacement": 98,
        "Horsepower": 68,
        "Miles_per_Gallon": 29.5,
        "Name": "honda Accelerationord lx",
        "Origin": "Japan",
        "Weight_in_lbs": 2135,
        "Year": "1978-01-01T00:00:00"
       },
       {
        "Acceleration": 15.4,
        "Cylinders": 6,
        "Displacement": 231,
        "Horsepower": 115,
        "Miles_per_Gallon": 21.5,
        "Name": "pontiac lemans v6",
        "Origin": "USA",
        "Weight_in_lbs": 3245,
        "Year": "1979-01-01T00:00:00"
       },
       {
        "Acceleration": 18.2,
        "Cylinders": 6,
        "Displacement": 200,
        "Horsepower": 85,
        "Miles_per_Gallon": 19.8,
        "Name": "mercury zephyr 6",
        "Origin": "USA",
        "Weight_in_lbs": 2990,
        "Year": "1979-01-01T00:00:00"
       },
       {
        "Acceleration": 17.3,
        "Cylinders": 4,
        "Displacement": 140,
        "Horsepower": 88,
        "Miles_per_Gallon": 22.3,
        "Name": "ford fairmont 4",
        "Origin": "USA",
        "Weight_in_lbs": 2890,
        "Year": "1979-01-01T00:00:00"
       },
       {
        "Acceleration": 18.2,
        "Cylinders": 6,
        "Displacement": 232,
        "Horsepower": 90,
        "Miles_per_Gallon": 20.2,
        "Name": "amc concord dl 6",
        "Origin": "USA",
        "Weight_in_lbs": 3265,
        "Year": "1979-01-01T00:00:00"
       },
       {
        "Acceleration": 16.6,
        "Cylinders": 6,
        "Displacement": 225,
        "Horsepower": 110,
        "Miles_per_Gallon": 20.6,
        "Name": "dodge aspen 6",
        "Origin": "USA",
        "Weight_in_lbs": 3360,
        "Year": "1979-01-01T00:00:00"
       },
       {
        "Acceleration": 15.4,
        "Cylinders": 8,
        "Displacement": 305,
        "Horsepower": 130,
        "Miles_per_Gallon": 17,
        "Name": "chevrolet caprice classic",
        "Origin": "USA",
        "Weight_in_lbs": 3840,
        "Year": "1979-01-01T00:00:00"
       },
       {
        "Acceleration": 13.4,
        "Cylinders": 8,
        "Displacement": 302,
        "Horsepower": 129,
        "Miles_per_Gallon": 17.6,
        "Name": "ford ltd landau",
        "Origin": "USA",
        "Weight_in_lbs": 3725,
        "Year": "1979-01-01T00:00:00"
       },
       {
        "Acceleration": 13.2,
        "Cylinders": 8,
        "Displacement": 351,
        "Horsepower": 138,
        "Miles_per_Gallon": 16.5,
        "Name": "mercury grand marquis",
        "Origin": "USA",
        "Weight_in_lbs": 3955,
        "Year": "1979-01-01T00:00:00"
       },
       {
        "Acceleration": 15.2,
        "Cylinders": 8,
        "Displacement": 318,
        "Horsepower": 135,
        "Miles_per_Gallon": 18.2,
        "Name": "dodge st. regis",
        "Origin": "USA",
        "Weight_in_lbs": 3830,
        "Year": "1979-01-01T00:00:00"
       },
       {
        "Acceleration": 14.9,
        "Cylinders": 8,
        "Displacement": 350,
        "Horsepower": 155,
        "Miles_per_Gallon": 16.9,
        "Name": "buick estate wagon (sw)",
        "Origin": "USA",
        "Weight_in_lbs": 4360,
        "Year": "1979-01-01T00:00:00"
       },
       {
        "Acceleration": 14.3,
        "Cylinders": 8,
        "Displacement": 351,
        "Horsepower": 142,
        "Miles_per_Gallon": 15.5,
        "Name": "ford country squire (sw)",
        "Origin": "USA",
        "Weight_in_lbs": 4054,
        "Year": "1979-01-01T00:00:00"
       },
       {
        "Acceleration": 15,
        "Cylinders": 8,
        "Displacement": 267,
        "Horsepower": 125,
        "Miles_per_Gallon": 19.2,
        "Name": "chevrolet malibu classic (sw)",
        "Origin": "USA",
        "Weight_in_lbs": 3605,
        "Year": "1979-01-01T00:00:00"
       },
       {
        "Acceleration": 13,
        "Cylinders": 8,
        "Displacement": 360,
        "Horsepower": 150,
        "Miles_per_Gallon": 18.5,
        "Name": "chrysler lebaron town @ country (sw)",
        "Origin": "USA",
        "Weight_in_lbs": 3940,
        "Year": "1979-01-01T00:00:00"
       },
       {
        "Acceleration": 14,
        "Cylinders": 4,
        "Displacement": 89,
        "Horsepower": 71,
        "Miles_per_Gallon": 31.9,
        "Name": "vw rabbit custom",
        "Origin": "Europe",
        "Weight_in_lbs": 1925,
        "Year": "1979-01-01T00:00:00"
       },
       {
        "Acceleration": 15.2,
        "Cylinders": 4,
        "Displacement": 86,
        "Horsepower": 65,
        "Miles_per_Gallon": 34.1,
        "Name": "maxda glc deluxe",
        "Origin": "Japan",
        "Weight_in_lbs": 1975,
        "Year": "1979-01-01T00:00:00"
       },
       {
        "Acceleration": 14.4,
        "Cylinders": 4,
        "Displacement": 98,
        "Horsepower": 80,
        "Miles_per_Gallon": 35.7,
        "Name": "dodge colt hatchback custom",
        "Origin": "USA",
        "Weight_in_lbs": 1915,
        "Year": "1979-01-01T00:00:00"
       },
       {
        "Acceleration": 15,
        "Cylinders": 4,
        "Displacement": 121,
        "Horsepower": 80,
        "Miles_per_Gallon": 27.4,
        "Name": "amc spirit dl",
        "Origin": "USA",
        "Weight_in_lbs": 2670,
        "Year": "1979-01-01T00:00:00"
       },
       {
        "Acceleration": 20.1,
        "Cylinders": 5,
        "Displacement": 183,
        "Horsepower": 77,
        "Miles_per_Gallon": 25.4,
        "Name": "mercedes benz 300d",
        "Origin": "Europe",
        "Weight_in_lbs": 3530,
        "Year": "1979-01-01T00:00:00"
       },
       {
        "Acceleration": 17.4,
        "Cylinders": 8,
        "Displacement": 350,
        "Horsepower": 125,
        "Miles_per_Gallon": 23,
        "Name": "cadillac eldorado",
        "Origin": "USA",
        "Weight_in_lbs": 3900,
        "Year": "1979-01-01T00:00:00"
       },
       {
        "Acceleration": 24.8,
        "Cylinders": 4,
        "Displacement": 141,
        "Horsepower": 71,
        "Miles_per_Gallon": 27.2,
        "Name": "peugeot 504",
        "Origin": "Europe",
        "Weight_in_lbs": 3190,
        "Year": "1979-01-01T00:00:00"
       },
       {
        "Acceleration": 22.2,
        "Cylinders": 8,
        "Displacement": 260,
        "Horsepower": 90,
        "Miles_per_Gallon": 23.9,
        "Name": "oldsmobile cutlass salon brougham",
        "Origin": "USA",
        "Weight_in_lbs": 3420,
        "Year": "1979-01-01T00:00:00"
       },
       {
        "Acceleration": 13.2,
        "Cylinders": 4,
        "Displacement": 105,
        "Horsepower": 70,
        "Miles_per_Gallon": 34.2,
        "Name": "plymouth horizon",
        "Origin": "USA",
        "Weight_in_lbs": 2200,
        "Year": "1979-01-01T00:00:00"
       },
       {
        "Acceleration": 14.9,
        "Cylinders": 4,
        "Displacement": 105,
        "Horsepower": 70,
        "Miles_per_Gallon": 34.5,
        "Name": "plymouth horizon tc3",
        "Origin": "USA",
        "Weight_in_lbs": 2150,
        "Year": "1979-01-01T00:00:00"
       },
       {
        "Acceleration": 19.2,
        "Cylinders": 4,
        "Displacement": 85,
        "Horsepower": 65,
        "Miles_per_Gallon": 31.8,
        "Name": "datsun 210",
        "Origin": "Japan",
        "Weight_in_lbs": 2020,
        "Year": "1979-01-01T00:00:00"
       },
       {
        "Acceleration": 14.7,
        "Cylinders": 4,
        "Displacement": 91,
        "Horsepower": 69,
        "Miles_per_Gallon": 37.3,
        "Name": "fiat strada custom",
        "Origin": "Europe",
        "Weight_in_lbs": 2130,
        "Year": "1979-01-01T00:00:00"
       },
       {
        "Acceleration": 16,
        "Cylinders": 4,
        "Displacement": 151,
        "Horsepower": 90,
        "Miles_per_Gallon": 28.4,
        "Name": "buick skylark limited",
        "Origin": "USA",
        "Weight_in_lbs": 2670,
        "Year": "1979-01-01T00:00:00"
       },
       {
        "Acceleration": 11.3,
        "Cylinders": 6,
        "Displacement": 173,
        "Horsepower": 115,
        "Miles_per_Gallon": 28.8,
        "Name": "chevrolet citation",
        "Origin": "USA",
        "Weight_in_lbs": 2595,
        "Year": "1979-01-01T00:00:00"
       },
       {
        "Acceleration": 12.9,
        "Cylinders": 6,
        "Displacement": 173,
        "Horsepower": 115,
        "Miles_per_Gallon": 26.8,
        "Name": "oldsmobile omega brougham",
        "Origin": "USA",
        "Weight_in_lbs": 2700,
        "Year": "1979-01-01T00:00:00"
       },
       {
        "Acceleration": 13.2,
        "Cylinders": 4,
        "Displacement": 151,
        "Horsepower": 90,
        "Miles_per_Gallon": 33.5,
        "Name": "pontiac phoenix",
        "Origin": "USA",
        "Weight_in_lbs": 2556,
        "Year": "1979-01-01T00:00:00"
       },
       {
        "Acceleration": 14.7,
        "Cylinders": 4,
        "Displacement": 98,
        "Horsepower": 76,
        "Miles_per_Gallon": 41.5,
        "Name": "vw rabbit",
        "Origin": "Europe",
        "Weight_in_lbs": 2144,
        "Year": "1980-01-01T00:00:00"
       },
       {
        "Acceleration": 18.8,
        "Cylinders": 4,
        "Displacement": 89,
        "Horsepower": 60,
        "Miles_per_Gallon": 38.1,
        "Name": "toyota corolla tercel",
        "Origin": "Japan",
        "Weight_in_lbs": 1968,
        "Year": "1980-01-01T00:00:00"
       },
       {
        "Acceleration": 15.5,
        "Cylinders": 4,
        "Displacement": 98,
        "Horsepower": 70,
        "Miles_per_Gallon": 32.1,
        "Name": "chevrolet chevette",
        "Origin": "USA",
        "Weight_in_lbs": 2120,
        "Year": "1980-01-01T00:00:00"
       },
       {
        "Acceleration": 16.4,
        "Cylinders": 4,
        "Displacement": 86,
        "Horsepower": 65,
        "Miles_per_Gallon": 37.2,
        "Name": "datsun 310",
        "Origin": "Japan",
        "Weight_in_lbs": 2019,
        "Year": "1980-01-01T00:00:00"
       },
       {
        "Acceleration": 16.5,
        "Cylinders": 4,
        "Displacement": 151,
        "Horsepower": 90,
        "Miles_per_Gallon": 28,
        "Name": "chevrolet citation",
        "Origin": "USA",
        "Weight_in_lbs": 2678,
        "Year": "1980-01-01T00:00:00"
       },
       {
        "Acceleration": 18.1,
        "Cylinders": 4,
        "Displacement": 140,
        "Horsepower": 88,
        "Miles_per_Gallon": 26.4,
        "Name": "ford fairmont",
        "Origin": "USA",
        "Weight_in_lbs": 2870,
        "Year": "1980-01-01T00:00:00"
       },
       {
        "Acceleration": 20.1,
        "Cylinders": 4,
        "Displacement": 151,
        "Horsepower": 90,
        "Miles_per_Gallon": 24.3,
        "Name": "amc concord",
        "Origin": "USA",
        "Weight_in_lbs": 3003,
        "Year": "1980-01-01T00:00:00"
       },
       {
        "Acceleration": 18.7,
        "Cylinders": 6,
        "Displacement": 225,
        "Horsepower": 90,
        "Miles_per_Gallon": 19.1,
        "Name": "dodge aspen",
        "Origin": "USA",
        "Weight_in_lbs": 3381,
        "Year": "1980-01-01T00:00:00"
       },
       {
        "Acceleration": 15.8,
        "Cylinders": 4,
        "Displacement": 97,
        "Horsepower": 78,
        "Miles_per_Gallon": 34.3,
        "Name": "audi 4000",
        "Origin": "Europe",
        "Weight_in_lbs": 2188,
        "Year": "1980-01-01T00:00:00"
       },
       {
        "Acceleration": 15.5,
        "Cylinders": 4,
        "Displacement": 134,
        "Horsepower": 90,
        "Miles_per_Gallon": 29.8,
        "Name": "toyota corona liftback",
        "Origin": "Japan",
        "Weight_in_lbs": 2711,
        "Year": "1980-01-01T00:00:00"
       },
       {
        "Acceleration": 17.5,
        "Cylinders": 4,
        "Displacement": 120,
        "Horsepower": 75,
        "Miles_per_Gallon": 31.3,
        "Name": "mazda 626",
        "Origin": "Japan",
        "Weight_in_lbs": 2542,
        "Year": "1980-01-01T00:00:00"
       },
       {
        "Acceleration": 15,
        "Cylinders": 4,
        "Displacement": 119,
        "Horsepower": 92,
        "Miles_per_Gallon": 37,
        "Name": "datsun 510 hatchback",
        "Origin": "Japan",
        "Weight_in_lbs": 2434,
        "Year": "1980-01-01T00:00:00"
       },
       {
        "Acceleration": 15.2,
        "Cylinders": 4,
        "Displacement": 108,
        "Horsepower": 75,
        "Miles_per_Gallon": 32.2,
        "Name": "toyota corolla",
        "Origin": "Japan",
        "Weight_in_lbs": 2265,
        "Year": "1980-01-01T00:00:00"
       },
       {
        "Acceleration": 17.9,
        "Cylinders": 4,
        "Displacement": 86,
        "Horsepower": 65,
        "Miles_per_Gallon": 46.6,
        "Name": "mazda glc",
        "Origin": "Japan",
        "Weight_in_lbs": 2110,
        "Year": "1980-01-01T00:00:00"
       },
       {
        "Acceleration": 14.4,
        "Cylinders": 4,
        "Displacement": 156,
        "Horsepower": 105,
        "Miles_per_Gallon": 27.9,
        "Name": "dodge colt",
        "Origin": "USA",
        "Weight_in_lbs": 2800,
        "Year": "1980-01-01T00:00:00"
       },
       {
        "Acceleration": 19.2,
        "Cylinders": 4,
        "Displacement": 85,
        "Horsepower": 65,
        "Miles_per_Gallon": 40.8,
        "Name": "datsun 210",
        "Origin": "Japan",
        "Weight_in_lbs": 2110,
        "Year": "1980-01-01T00:00:00"
       },
       {
        "Acceleration": 21.7,
        "Cylinders": 4,
        "Displacement": 90,
        "Horsepower": 48,
        "Miles_per_Gallon": 44.3,
        "Name": "vw rabbit c (diesel)",
        "Origin": "Europe",
        "Weight_in_lbs": 2085,
        "Year": "1980-01-01T00:00:00"
       },
       {
        "Acceleration": 23.7,
        "Cylinders": 4,
        "Displacement": 90,
        "Horsepower": 48,
        "Miles_per_Gallon": 43.4,
        "Name": "vw dasher (diesel)",
        "Origin": "Europe",
        "Weight_in_lbs": 2335,
        "Year": "1980-01-01T00:00:00"
       },
       {
        "Acceleration": 19.9,
        "Cylinders": 5,
        "Displacement": 121,
        "Horsepower": 67,
        "Miles_per_Gallon": 36.4,
        "Name": "audi 5000s (diesel)",
        "Origin": "Europe",
        "Weight_in_lbs": 2950,
        "Year": "1980-01-01T00:00:00"
       },
       {
        "Acceleration": 21.8,
        "Cylinders": 4,
        "Displacement": 146,
        "Horsepower": 67,
        "Miles_per_Gallon": 30,
        "Name": "mercedes-benz 240d",
        "Origin": "Europe",
        "Weight_in_lbs": 3250,
        "Year": "1980-01-01T00:00:00"
       },
       {
        "Acceleration": 13.8,
        "Cylinders": 4,
        "Displacement": 91,
        "Horsepower": 67,
        "Miles_per_Gallon": 44.6,
        "Name": "honda civic 1500 gl",
        "Origin": "Japan",
        "Weight_in_lbs": 1850,
        "Year": "1980-01-01T00:00:00"
       },
       {
        "Acceleration": 17.3,
        "Cylinders": 4,
        "Displacement": 85,
        "Horsepower": null,
        "Miles_per_Gallon": 40.9,
        "Name": "renault lecar deluxe",
        "Origin": "Europe",
        "Weight_in_lbs": 1835,
        "Year": "1980-01-01T00:00:00"
       },
       {
        "Acceleration": 18,
        "Cylinders": 4,
        "Displacement": 97,
        "Horsepower": 67,
        "Miles_per_Gallon": 33.8,
        "Name": "subaru dl",
        "Origin": "Japan",
        "Weight_in_lbs": 2145,
        "Year": "1980-01-01T00:00:00"
       },
       {
        "Acceleration": 15.3,
        "Cylinders": 4,
        "Displacement": 89,
        "Horsepower": 62,
        "Miles_per_Gallon": 29.8,
        "Name": "vokswagen rabbit",
        "Origin": "Europe",
        "Weight_in_lbs": 1845,
        "Year": "1980-01-01T00:00:00"
       },
       {
        "Acceleration": 11.4,
        "Cylinders": 6,
        "Displacement": 168,
        "Horsepower": 132,
        "Miles_per_Gallon": 32.7,
        "Name": "datsun 280-zx",
        "Origin": "Japan",
        "Weight_in_lbs": 2910,
        "Year": "1980-01-01T00:00:00"
       },
       {
        "Acceleration": 12.5,
        "Cylinders": 3,
        "Displacement": 70,
        "Horsepower": 100,
        "Miles_per_Gallon": 23.7,
        "Name": "mazda rx-7 gs",
        "Origin": "Japan",
        "Weight_in_lbs": 2420,
        "Year": "1980-01-01T00:00:00"
       },
       {
        "Acceleration": 15.1,
        "Cylinders": 4,
        "Displacement": 122,
        "Horsepower": 88,
        "Miles_per_Gallon": 35,
        "Name": "triumph tr7 coupe",
        "Origin": "Europe",
        "Weight_in_lbs": 2500,
        "Year": "1980-01-01T00:00:00"
       },
       {
        "Acceleration": 14.3,
        "Cylinders": 4,
        "Displacement": 140,
        "Horsepower": null,
        "Miles_per_Gallon": 23.6,
        "Name": "ford mustang cobra",
        "Origin": "USA",
        "Weight_in_lbs": 2905,
        "Year": "1980-01-01T00:00:00"
       },
       {
        "Acceleration": 17,
        "Cylinders": 4,
        "Displacement": 107,
        "Horsepower": 72,
        "Miles_per_Gallon": 32.4,
        "Name": "honda Accelerationord",
        "Origin": "Japan",
        "Weight_in_lbs": 2290,
        "Year": "1980-01-01T00:00:00"
       },
       {
        "Acceleration": 15.7,
        "Cylinders": 4,
        "Displacement": 135,
        "Horsepower": 84,
        "Miles_per_Gallon": 27.2,
        "Name": "plymouth reliant",
        "Origin": "USA",
        "Weight_in_lbs": 2490,
        "Year": "1982-01-01T00:00:00"
       },
       {
        "Acceleration": 16.4,
        "Cylinders": 4,
        "Displacement": 151,
        "Horsepower": 84,
        "Miles_per_Gallon": 26.6,
        "Name": "buick skylark",
        "Origin": "USA",
        "Weight_in_lbs": 2635,
        "Year": "1982-01-01T00:00:00"
       },
       {
        "Acceleration": 14.4,
        "Cylinders": 4,
        "Displacement": 156,
        "Horsepower": 92,
        "Miles_per_Gallon": 25.8,
        "Name": "dodge aries wagon (sw)",
        "Origin": "USA",
        "Weight_in_lbs": 2620,
        "Year": "1982-01-01T00:00:00"
       },
       {
        "Acceleration": 12.6,
        "Cylinders": 6,
        "Displacement": 173,
        "Horsepower": 110,
        "Miles_per_Gallon": 23.5,
        "Name": "chevrolet citation",
        "Origin": "USA",
        "Weight_in_lbs": 2725,
        "Year": "1982-01-01T00:00:00"
       },
       {
        "Acceleration": 12.9,
        "Cylinders": 4,
        "Displacement": 135,
        "Horsepower": 84,
        "Miles_per_Gallon": 30,
        "Name": "plymouth reliant",
        "Origin": "USA",
        "Weight_in_lbs": 2385,
        "Year": "1982-01-01T00:00:00"
       },
       {
        "Acceleration": 16.9,
        "Cylinders": 4,
        "Displacement": 79,
        "Horsepower": 58,
        "Miles_per_Gallon": 39.1,
        "Name": "toyota starlet",
        "Origin": "Japan",
        "Weight_in_lbs": 1755,
        "Year": "1982-01-01T00:00:00"
       },
       {
        "Acceleration": 16.4,
        "Cylinders": 4,
        "Displacement": 86,
        "Horsepower": 64,
        "Miles_per_Gallon": 39,
        "Name": "plymouth champ",
        "Origin": "USA",
        "Weight_in_lbs": 1875,
        "Year": "1982-01-01T00:00:00"
       },
       {
        "Acceleration": 16.1,
        "Cylinders": 4,
        "Displacement": 81,
        "Horsepower": 60,
        "Miles_per_Gallon": 35.1,
        "Name": "honda civic 1300",
        "Origin": "Japan",
        "Weight_in_lbs": 1760,
        "Year": "1982-01-01T00:00:00"
       },
       {
        "Acceleration": 17.8,
        "Cylinders": 4,
        "Displacement": 97,
        "Horsepower": 67,
        "Miles_per_Gallon": 32.3,
        "Name": "subaru",
        "Origin": "Japan",
        "Weight_in_lbs": 2065,
        "Year": "1982-01-01T00:00:00"
       },
       {
        "Acceleration": 19.4,
        "Cylinders": 4,
        "Displacement": 85,
        "Horsepower": 65,
        "Miles_per_Gallon": 37,
        "Name": "datsun 210",
        "Origin": "Japan",
        "Weight_in_lbs": 1975,
        "Year": "1982-01-01T00:00:00"
       },
       {
        "Acceleration": 17.3,
        "Cylinders": 4,
        "Displacement": 89,
        "Horsepower": 62,
        "Miles_per_Gallon": 37.7,
        "Name": "toyota tercel",
        "Origin": "Japan",
        "Weight_in_lbs": 2050,
        "Year": "1982-01-01T00:00:00"
       },
       {
        "Acceleration": 16,
        "Cylinders": 4,
        "Displacement": 91,
        "Horsepower": 68,
        "Miles_per_Gallon": 34.1,
        "Name": "mazda glc 4",
        "Origin": "Japan",
        "Weight_in_lbs": 1985,
        "Year": "1982-01-01T00:00:00"
       },
       {
        "Acceleration": 14.9,
        "Cylinders": 4,
        "Displacement": 105,
        "Horsepower": 63,
        "Miles_per_Gallon": 34.7,
        "Name": "plymouth horizon 4",
        "Origin": "USA",
        "Weight_in_lbs": 2215,
        "Year": "1982-01-01T00:00:00"
       },
       {
        "Acceleration": 16.2,
        "Cylinders": 4,
        "Displacement": 98,
        "Horsepower": 65,
        "Miles_per_Gallon": 34.4,
        "Name": "ford escort 4w",
        "Origin": "USA",
        "Weight_in_lbs": 2045,
        "Year": "1982-01-01T00:00:00"
       },
       {
        "Acceleration": 20.7,
        "Cylinders": 4,
        "Displacement": 98,
        "Horsepower": 65,
        "Miles_per_Gallon": 29.9,
        "Name": "ford escort 2h",
        "Origin": "USA",
        "Weight_in_lbs": 2380,
        "Year": "1982-01-01T00:00:00"
       },
       {
        "Acceleration": 14.2,
        "Cylinders": 4,
        "Displacement": 105,
        "Horsepower": 74,
        "Miles_per_Gallon": 33,
        "Name": "volkswagen jetta",
        "Origin": "Europe",
        "Weight_in_lbs": 2190,
        "Year": "1982-01-01T00:00:00"
       },
       {
        "Acceleration": 15.8,
        "Cylinders": 4,
        "Displacement": 100,
        "Horsepower": null,
        "Miles_per_Gallon": 34.5,
        "Name": "renault 18i",
        "Origin": "Europe",
        "Weight_in_lbs": 2320,
        "Year": "1982-01-01T00:00:00"
       },
       {
        "Acceleration": 14.4,
        "Cylinders": 4,
        "Displacement": 107,
        "Horsepower": 75,
        "Miles_per_Gallon": 33.7,
        "Name": "honda prelude",
        "Origin": "Japan",
        "Weight_in_lbs": 2210,
        "Year": "1982-01-01T00:00:00"
       },
       {
        "Acceleration": 16.8,
        "Cylinders": 4,
        "Displacement": 108,
        "Horsepower": 75,
        "Miles_per_Gallon": 32.4,
        "Name": "toyota corolla",
        "Origin": "Japan",
        "Weight_in_lbs": 2350,
        "Year": "1982-01-01T00:00:00"
       },
       {
        "Acceleration": 14.8,
        "Cylinders": 4,
        "Displacement": 119,
        "Horsepower": 100,
        "Miles_per_Gallon": 32.9,
        "Name": "datsun 200sx",
        "Origin": "Japan",
        "Weight_in_lbs": 2615,
        "Year": "1982-01-01T00:00:00"
       },
       {
        "Acceleration": 18.3,
        "Cylinders": 4,
        "Displacement": 120,
        "Horsepower": 74,
        "Miles_per_Gallon": 31.6,
        "Name": "mazda 626",
        "Origin": "Japan",
        "Weight_in_lbs": 2635,
        "Year": "1982-01-01T00:00:00"
       },
       {
        "Acceleration": 20.4,
        "Cylinders": 4,
        "Displacement": 141,
        "Horsepower": 80,
        "Miles_per_Gallon": 28.1,
        "Name": "peugeot 505s turbo diesel",
        "Origin": "Europe",
        "Weight_in_lbs": 3230,
        "Year": "1982-01-01T00:00:00"
       },
       {
        "Acceleration": 15.4,
        "Cylinders": 4,
        "Displacement": 121,
        "Horsepower": 110,
        "Miles_per_Gallon": null,
        "Name": "saab 900s",
        "Origin": "Europe",
        "Weight_in_lbs": 2800,
        "Year": "1982-01-01T00:00:00"
       },
       {
        "Acceleration": 19.6,
        "Cylinders": 6,
        "Displacement": 145,
        "Horsepower": 76,
        "Miles_per_Gallon": 30.7,
        "Name": "volvo diesel",
        "Origin": "Europe",
        "Weight_in_lbs": 3160,
        "Year": "1982-01-01T00:00:00"
       },
       {
        "Acceleration": 12.6,
        "Cylinders": 6,
        "Displacement": 168,
        "Horsepower": 116,
        "Miles_per_Gallon": 25.4,
        "Name": "toyota cressida",
        "Origin": "Japan",
        "Weight_in_lbs": 2900,
        "Year": "1982-01-01T00:00:00"
       },
       {
        "Acceleration": 13.8,
        "Cylinders": 6,
        "Displacement": 146,
        "Horsepower": 120,
        "Miles_per_Gallon": 24.2,
        "Name": "datsun 810 maxima",
        "Origin": "Japan",
        "Weight_in_lbs": 2930,
        "Year": "1982-01-01T00:00:00"
       },
       {
        "Acceleration": 15.8,
        "Cylinders": 6,
        "Displacement": 231,
        "Horsepower": 110,
        "Miles_per_Gallon": 22.4,
        "Name": "buick century",
        "Origin": "USA",
        "Weight_in_lbs": 3415,
        "Year": "1982-01-01T00:00:00"
       },
       {
        "Acceleration": 19,
        "Cylinders": 8,
        "Displacement": 350,
        "Horsepower": 105,
        "Miles_per_Gallon": 26.6,
        "Name": "oldsmobile cutlass ls",
        "Origin": "USA",
        "Weight_in_lbs": 3725,
        "Year": "1982-01-01T00:00:00"
       },
       {
        "Acceleration": 17.1,
        "Cylinders": 6,
        "Displacement": 200,
        "Horsepower": 88,
        "Miles_per_Gallon": 20.2,
        "Name": "ford granada gl",
        "Origin": "USA",
        "Weight_in_lbs": 3060,
        "Year": "1982-01-01T00:00:00"
       },
       {
        "Acceleration": 16.6,
        "Cylinders": 6,
        "Displacement": 225,
        "Horsepower": 85,
        "Miles_per_Gallon": 17.6,
        "Name": "chrysler lebaron salon",
        "Origin": "USA",
        "Weight_in_lbs": 3465,
        "Year": "1982-01-01T00:00:00"
       },
       {
        "Acceleration": 19.6,
        "Cylinders": 4,
        "Displacement": 112,
        "Horsepower": 88,
        "Miles_per_Gallon": 28,
        "Name": "chevrolet cavalier",
        "Origin": "USA",
        "Weight_in_lbs": 2605,
        "Year": "1982-01-01T00:00:00"
       },
       {
        "Acceleration": 18.6,
        "Cylinders": 4,
        "Displacement": 112,
        "Horsepower": 88,
        "Miles_per_Gallon": 27,
        "Name": "chevrolet cavalier wagon",
        "Origin": "USA",
        "Weight_in_lbs": 2640,
        "Year": "1982-01-01T00:00:00"
       },
       {
        "Acceleration": 18,
        "Cylinders": 4,
        "Displacement": 112,
        "Horsepower": 88,
        "Miles_per_Gallon": 34,
        "Name": "chevrolet cavalier 2-door",
        "Origin": "USA",
        "Weight_in_lbs": 2395,
        "Year": "1982-01-01T00:00:00"
       },
       {
        "Acceleration": 16.2,
        "Cylinders": 4,
        "Displacement": 112,
        "Horsepower": 85,
        "Miles_per_Gallon": 31,
        "Name": "pontiac j2000 se hatchback",
        "Origin": "USA",
        "Weight_in_lbs": 2575,
        "Year": "1982-01-01T00:00:00"
       },
       {
        "Acceleration": 16,
        "Cylinders": 4,
        "Displacement": 135,
        "Horsepower": 84,
        "Miles_per_Gallon": 29,
        "Name": "dodge aries se",
        "Origin": "USA",
        "Weight_in_lbs": 2525,
        "Year": "1982-01-01T00:00:00"
       },
       {
        "Acceleration": 18,
        "Cylinders": 4,
        "Displacement": 151,
        "Horsepower": 90,
        "Miles_per_Gallon": 27,
        "Name": "pontiac phoenix",
        "Origin": "USA",
        "Weight_in_lbs": 2735,
        "Year": "1982-01-01T00:00:00"
       },
       {
        "Acceleration": 16.4,
        "Cylinders": 4,
        "Displacement": 140,
        "Horsepower": 92,
        "Miles_per_Gallon": 24,
        "Name": "ford fairmont futura",
        "Origin": "USA",
        "Weight_in_lbs": 2865,
        "Year": "1982-01-01T00:00:00"
       },
       {
        "Acceleration": 20.5,
        "Cylinders": 4,
        "Displacement": 151,
        "Horsepower": null,
        "Miles_per_Gallon": 23,
        "Name": "amc concord dl",
        "Origin": "USA",
        "Weight_in_lbs": 3035,
        "Year": "1982-01-01T00:00:00"
       },
       {
        "Acceleration": 15.3,
        "Cylinders": 4,
        "Displacement": 105,
        "Horsepower": 74,
        "Miles_per_Gallon": 36,
        "Name": "volkswagen rabbit l",
        "Origin": "Europe",
        "Weight_in_lbs": 1980,
        "Year": "1982-01-01T00:00:00"
       },
       {
        "Acceleration": 18.2,
        "Cylinders": 4,
        "Displacement": 91,
        "Horsepower": 68,
        "Miles_per_Gallon": 37,
        "Name": "mazda glc custom l",
        "Origin": "Japan",
        "Weight_in_lbs": 2025,
        "Year": "1982-01-01T00:00:00"
       },
       {
        "Acceleration": 17.6,
        "Cylinders": 4,
        "Displacement": 91,
        "Horsepower": 68,
        "Miles_per_Gallon": 31,
        "Name": "mazda glc custom",
        "Origin": "Japan",
        "Weight_in_lbs": 1970,
        "Year": "1982-01-01T00:00:00"
       },
       {
        "Acceleration": 14.7,
        "Cylinders": 4,
        "Displacement": 105,
        "Horsepower": 63,
        "Miles_per_Gallon": 38,
        "Name": "plymouth horizon miser",
        "Origin": "USA",
        "Weight_in_lbs": 2125,
        "Year": "1982-01-01T00:00:00"
       },
       {
        "Acceleration": 17.3,
        "Cylinders": 4,
        "Displacement": 98,
        "Horsepower": 70,
        "Miles_per_Gallon": 36,
        "Name": "mercury lynx l",
        "Origin": "USA",
        "Weight_in_lbs": 2125,
        "Year": "1982-01-01T00:00:00"
       },
       {
        "Acceleration": 14.5,
        "Cylinders": 4,
        "Displacement": 120,
        "Horsepower": 88,
        "Miles_per_Gallon": 36,
        "Name": "nissan stanza xe",
        "Origin": "Japan",
        "Weight_in_lbs": 2160,
        "Year": "1982-01-01T00:00:00"
       },
       {
        "Acceleration": 14.5,
        "Cylinders": 4,
        "Displacement": 107,
        "Horsepower": 75,
        "Miles_per_Gallon": 36,
        "Name": "honda Accelerationord",
        "Origin": "Japan",
        "Weight_in_lbs": 2205,
        "Year": "1982-01-01T00:00:00"
       },
       {
        "Acceleration": 16.9,
        "Cylinders": 4,
        "Displacement": 108,
        "Horsepower": 70,
        "Miles_per_Gallon": 34,
        "Name": "toyota corolla",
        "Origin": "Japan",
        "Weight_in_lbs": 2245,
        "Year": "1982-01-01T00:00:00"
       },
       {
        "Acceleration": 15,
        "Cylinders": 4,
        "Displacement": 91,
        "Horsepower": 67,
        "Miles_per_Gallon": 38,
        "Name": "honda civic",
        "Origin": "Japan",
        "Weight_in_lbs": 1965,
        "Year": "1982-01-01T00:00:00"
       },
       {
        "Acceleration": 15.7,
        "Cylinders": 4,
        "Displacement": 91,
        "Horsepower": 67,
        "Miles_per_Gallon": 32,
        "Name": "honda civic (auto)",
        "Origin": "Japan",
        "Weight_in_lbs": 1965,
        "Year": "1982-01-01T00:00:00"
       },
       {
        "Acceleration": 16.2,
        "Cylinders": 4,
        "Displacement": 91,
        "Horsepower": 67,
        "Miles_per_Gallon": 38,
        "Name": "datsun 310 gx",
        "Origin": "Japan",
        "Weight_in_lbs": 1995,
        "Year": "1982-01-01T00:00:00"
       },
       {
        "Acceleration": 16.4,
        "Cylinders": 6,
        "Displacement": 181,
        "Horsepower": 110,
        "Miles_per_Gallon": 25,
        "Name": "buick century limited",
        "Origin": "USA",
        "Weight_in_lbs": 2945,
        "Year": "1982-01-01T00:00:00"
       },
       {
        "Acceleration": 17,
        "Cylinders": 6,
        "Displacement": 262,
        "Horsepower": 85,
        "Miles_per_Gallon": 38,
        "Name": "oldsmobile cutlass ciera (diesel)",
        "Origin": "USA",
        "Weight_in_lbs": 3015,
        "Year": "1982-01-01T00:00:00"
       },
       {
        "Acceleration": 14.5,
        "Cylinders": 4,
        "Displacement": 156,
        "Horsepower": 92,
        "Miles_per_Gallon": 26,
        "Name": "chrysler lebaron medallion",
        "Origin": "USA",
        "Weight_in_lbs": 2585,
        "Year": "1982-01-01T00:00:00"
       },
       {
        "Acceleration": 14.7,
        "Cylinders": 6,
        "Displacement": 232,
        "Horsepower": 112,
        "Miles_per_Gallon": 22,
        "Name": "ford granada l",
        "Origin": "USA",
        "Weight_in_lbs": 2835,
        "Year": "1982-01-01T00:00:00"
       },
       {
        "Acceleration": 13.9,
        "Cylinders": 4,
        "Displacement": 144,
        "Horsepower": 96,
        "Miles_per_Gallon": 32,
        "Name": "toyota celica gt",
        "Origin": "Japan",
        "Weight_in_lbs": 2665,
        "Year": "1982-01-01T00:00:00"
       },
       {
        "Acceleration": 13,
        "Cylinders": 4,
        "Displacement": 135,
        "Horsepower": 84,
        "Miles_per_Gallon": 36,
        "Name": "dodge charger 2.2",
        "Origin": "USA",
        "Weight_in_lbs": 2370,
        "Year": "1982-01-01T00:00:00"
       },
       {
        "Acceleration": 17.3,
        "Cylinders": 4,
        "Displacement": 151,
        "Horsepower": 90,
        "Miles_per_Gallon": 27,
        "Name": "chevrolet camaro",
        "Origin": "USA",
        "Weight_in_lbs": 2950,
        "Year": "1982-01-01T00:00:00"
       },
       {
        "Acceleration": 15.6,
        "Cylinders": 4,
        "Displacement": 140,
        "Horsepower": 86,
        "Miles_per_Gallon": 27,
        "Name": "ford mustang gl",
        "Origin": "USA",
        "Weight_in_lbs": 2790,
        "Year": "1982-01-01T00:00:00"
       },
       {
        "Acceleration": 24.6,
        "Cylinders": 4,
        "Displacement": 97,
        "Horsepower": 52,
        "Miles_per_Gallon": 44,
        "Name": "vw pickup",
        "Origin": "Europe",
        "Weight_in_lbs": 2130,
        "Year": "1982-01-01T00:00:00"
       },
       {
        "Acceleration": 11.6,
        "Cylinders": 4,
        "Displacement": 135,
        "Horsepower": 84,
        "Miles_per_Gallon": 32,
        "Name": "dodge rampage",
        "Origin": "USA",
        "Weight_in_lbs": 2295,
        "Year": "1982-01-01T00:00:00"
       },
       {
        "Acceleration": 18.6,
        "Cylinders": 4,
        "Displacement": 120,
        "Horsepower": 79,
        "Miles_per_Gallon": 28,
        "Name": "ford ranger",
        "Origin": "USA",
        "Weight_in_lbs": 2625,
        "Year": "1982-01-01T00:00:00"
       },
       {
        "Acceleration": 19.4,
        "Cylinders": 4,
        "Displacement": 119,
        "Horsepower": 82,
        "Miles_per_Gallon": 31,
        "Name": "chevy s-10",
        "Origin": "USA",
        "Weight_in_lbs": 2720,
        "Year": "1982-01-01T00:00:00"
       }
      ]
     },
     "encoding": {
      "color": {
       "condition": {
        "field": "Cylinders",
        "param": "brush",
        "type": "ordinal"
       },
       "value": "grey"
      },
      "x": {
       "field": "Horsepower",
       "type": "quantitative"
      },
      "y": {
       "field": "Miles_per_Gallon",
       "type": "quantitative"
      }
     },
     "mark": {
      "type": "point"
     },
     "name": "sp",
     "params": [
      {
       "name": "brush",
       "select": {
        "type": "interval"
       }
      }
     ]
    },
    "trrack_graph": "ᯡ࠽䈌ʀ匦㢠⹰ǥᐢ怳ìȸୡ䝬␦〸攱㰢ᠼ⁦ᘵ燠❇Ź㶏⒴E䨲ࡔ䳙ѩ䢄凇⣥䶧㝞Ḣ†桠øᣣ漰ӁĠק␬W౐⮨⃮⽺倡㘷唠ৡ椠ෂۧ倣壑ᲘペḶؤ䀦悂Ᏸㅨ䒩乊Ĥ✪䧪搰̊甔癦␢⺵`ƃʠϩ䂱䱹显ᝯᅔ䏭⤠˸恌硢ၜᡄᒂ汁֌∦䩡甆⃾៭㐼⠥笉㞇汴ତ⌒渦㌮ᣐʘ<㟮伸ᔺ戂ై盕娃ධ၈乂䂐ᰶޠ儲੆■愐ሡբ储䊹Ѣ傀オش၈ᑖƦ娎⟘䭱䈊ᮾ浭楢ࢴ⌳愂Ҧಷ兲璮শ斒尡⑷ඡ朽ᤶ䖂碲⊳⑒Ⲯ➷狔㋁䀩 ⅿ*玠㰠ļ҃㶆秕䅱綼継⪓䵺᪷䐇砶惇Š吐ᐪᾱ‱ృৢ႑積i爈䢪৤㑈ਨ೐㳖ܳ䅇⇐籑੧ၐ橍âエ噛ץ爘䄭❰㖺כ⡶甲ハ⁡↔懈湔䷆竕寕楶ࠦ旑汎Τ氆ᴐ叙擕椀儬%१ܓ吥`嶰ͶÏ㭁欉⛽྇䐧౹ṿ怄ઠဧ屯灜٬㫬㲙戠Ấ䧚璟ảⱜⶦ枀牾毹拾篣社窹筘៸ઞ羧箨Ȭ㭐稽䁄稹ᆀ䨬Ꮢ稯ΰ㫠䆀Ẫ䇤偺ᨡဪ箨籌⌈⟵禠㰸ㆾ濰篰䵻⢠䩚䝘婑穡埯窼噁آ矼⎜ڷ憞湇䜡ঽ)ପҠ៶挨ᠠϘၘᛥȰܣ⾝䷁ºᓇ棡ᴥ㼤ៅ䓰 ⑀⾯啞ᚳƜၡ䄻✢䀠ᵁ㜀䆐⼁䬠ֶ礐'楜弪ᐠ熟䟃൥丩粢΢堾වゆຶ㌂ῑ皅䬓幯䕄䰸഻ᱩʸ撔潂㍥θ吢滃எᙰ⨠ⳡއ⬉炗③㶏Ⰻ紼ᐸ〰昸⍈ԺՑഃ窮ࡔ㵊؈䡑债✉将朙哋桪䴃啍⯋Ӄ⎈沛ڊಣ▋ൻ⸁簠䣐汌ന偤䏠偂ݖ䌲֡‾઱⫌Ꮱ⡀㾫抜੠捫ᄊጱ⃫䔶⛨㤹⏫敢䣈䂒⥨⭖䇰止䊣ᡦ摐䙑䠩孫Ǹ勩拓噭䷓㝣䉛г䚑垉欣朷⹛䙍憒琭汍ᘽ涓睲ⴃཱི柄⽊჆䃑渤ᤋἤ怷愷䩘̴㲤咷昷波䔇䚴㋌彄漸ޚ嘅᫇哭㷎⋝㬶ෝವ䀷恡䷄ண狶Ơ䌀墳ⶰᮍ䂧㬘泍㔄峻ㄣ峿ʍ緤ೠᮐ爠喧榄咸紏揷ᒼ㲿㚼硐䠅砰爼が玽嗋ᛆ悰ି䐴̠怴ী纬⼈䇶♚儢ԡム桗倪ز㐪كૻ✐㹏䤂⬊咹⑴歀㍌擂玜曁୭ࡁޒ侀Ōј怯徫㻿怕ㄌమ䆪ฮ⇙加懜ܮŁ⼖㻻研ᐠി䐹ຫ礰ђ䌯熠境䃶䝥⥮孱畝橽ু嵤惚令笖䬕䄥Øಓ㈢⊱Ĥ⑹Ԁ⹩愄᭡琧Ű䪠⡓γġ䁮ަࡈ䜂೔溭㑖䟰࠿厍㿂䵰揺䣭೅䅩斥傩嫑㩇ƀᡠ朼ʌ⪊汳ݭ桄ⲹ埐妠火㭕๡㗱庇ᰫ䪃䮵㦔ⱸ汱䘹ᓗण朰㦌簪棐晢ᴍ坘⃞㢋ᬱ㭽㟶㣈䪾沍⛮旭厢ϑ௷⒗孜璖处ৱ⼌態泫䩅ီ0Ⱪ炘䨑䜏熊⊲䗱ᶳ啛㊚㩄㾱⁢䪮⒰⺡Ṳ湴嶝嫄墟䧷⦲⬻㉉植ɍ曽丹⊓ੀ愦͂ῆކ̄㐨偨⮴㐢ᡛ䔣ྩ⢘⌗ᔵ狊県䳲ڸ爡⇓ᥡ獊䈶ڢ栳眊ᲴᲤᔰԳࡑႠ⢉Ű焔⑚ࢁ樬懌Ợ୽岨⨆䢋晰甭僴䈙☵榌ᇣݸ瓵Ꭻ人Ԁ痰⚑ۡ䟇䚖䌕ຶᨃᜉ⿟笗㸔͇猡堅ƿ札剀䴄⛄ᑿѦޕঌ᪅兓৹㩇夛ᖺݑ䚓ᤆ獓়纈屢澃䬮拹凥睓䓫ᾯ䭶睜伷槾ᣲ繙Ꮍ䝹剡墄䑫➏ဪ庣窀䆋ᛌᶚ㞫㎢✘竕ᓽⶖႱ皹ᇳ⫟┰ᢩ粷業ℬ嫋⢉䒽嗭ᐘ⾵剫䕚⊇喩㌢䵟ᛕ⼷㔣ᓲŜᭃ㋄㵨既⿎ڧ⪎ᡇ⋑墘す⏒ʣ搰ݐୂ恨䕨䒥⁵嘔濧桰಺቗ઌ目⼫վ綱引Ⲓ䵴猗䌇媱窕㺥峤ώ⇫焆ࢹ㕰狗凈瞫⮼孴ὼ㋀൫烼፵䃄䉾㲧䆇果挫粴Υ湄  "
   },
   "outputs": [
    {
     "data": {
      "application/vnd.vegalite.v5+json": {
       "$schema": "https://vega.github.io/schema/vega-lite/v5.8.0.json",
       "config": {
        "view": {
         "continuousHeight": 300,
         "continuousWidth": 300
        }
       },
       "data": {
        "name": "data-f02450ab61490a1363517a0190416235"
       },
       "datasets": {
        "data-f02450ab61490a1363517a0190416235": [
         {
          "Acceleration": 12,
          "Cylinders": 8,
          "Displacement": 307,
          "Horsepower": 130,
          "Miles_per_Gallon": 18,
          "Name": "chevrolet chevelle malibu",
          "Origin": "USA",
          "Weight_in_lbs": 3504,
          "Year": "1970-01-01T00:00:00"
         },
         {
          "Acceleration": 11.5,
          "Cylinders": 8,
          "Displacement": 350,
          "Horsepower": 165,
          "Miles_per_Gallon": 15,
          "Name": "buick skylark 320",
          "Origin": "USA",
          "Weight_in_lbs": 3693,
          "Year": "1970-01-01T00:00:00"
         },
         {
          "Acceleration": 11,
          "Cylinders": 8,
          "Displacement": 318,
          "Horsepower": 150,
          "Miles_per_Gallon": 18,
          "Name": "plymouth satellite",
          "Origin": "USA",
          "Weight_in_lbs": 3436,
          "Year": "1970-01-01T00:00:00"
         },
         {
          "Acceleration": 12,
          "Cylinders": 8,
          "Displacement": 304,
          "Horsepower": 150,
          "Miles_per_Gallon": 16,
          "Name": "amc rebel sst",
          "Origin": "USA",
          "Weight_in_lbs": 3433,
          "Year": "1970-01-01T00:00:00"
         },
         {
          "Acceleration": 10.5,
          "Cylinders": 8,
          "Displacement": 302,
          "Horsepower": 140,
          "Miles_per_Gallon": 17,
          "Name": "ford torino",
          "Origin": "USA",
          "Weight_in_lbs": 3449,
          "Year": "1970-01-01T00:00:00"
         },
         {
          "Acceleration": 10,
          "Cylinders": 8,
          "Displacement": 429,
          "Horsepower": 198,
          "Miles_per_Gallon": 15,
          "Name": "ford galaxie 500",
          "Origin": "USA",
          "Weight_in_lbs": 4341,
          "Year": "1970-01-01T00:00:00"
         },
         {
          "Acceleration": 9,
          "Cylinders": 8,
          "Displacement": 454,
          "Horsepower": 220,
          "Miles_per_Gallon": 14,
          "Name": "chevrolet impala",
          "Origin": "USA",
          "Weight_in_lbs": 4354,
          "Year": "1970-01-01T00:00:00"
         },
         {
          "Acceleration": 8.5,
          "Cylinders": 8,
          "Displacement": 440,
          "Horsepower": 215,
          "Miles_per_Gallon": 14,
          "Name": "plymouth fury iii",
          "Origin": "USA",
          "Weight_in_lbs": 4312,
          "Year": "1970-01-01T00:00:00"
         },
         {
          "Acceleration": 10,
          "Cylinders": 8,
          "Displacement": 455,
          "Horsepower": 225,
          "Miles_per_Gallon": 14,
          "Name": "pontiac catalina",
          "Origin": "USA",
          "Weight_in_lbs": 4425,
          "Year": "1970-01-01T00:00:00"
         },
         {
          "Acceleration": 8.5,
          "Cylinders": 8,
          "Displacement": 390,
          "Horsepower": 190,
          "Miles_per_Gallon": 15,
          "Name": "amc ambassador dpl",
          "Origin": "USA",
          "Weight_in_lbs": 3850,
          "Year": "1970-01-01T00:00:00"
         },
         {
          "Acceleration": 17.5,
          "Cylinders": 4,
          "Displacement": 133,
          "Horsepower": 115,
          "Miles_per_Gallon": null,
          "Name": "citroen ds-21 pallas",
          "Origin": "Europe",
          "Weight_in_lbs": 3090,
          "Year": "1970-01-01T00:00:00"
         },
         {
          "Acceleration": 11.5,
          "Cylinders": 8,
          "Displacement": 350,
          "Horsepower": 165,
          "Miles_per_Gallon": null,
          "Name": "chevrolet chevelle concours (sw)",
          "Origin": "USA",
          "Weight_in_lbs": 4142,
          "Year": "1970-01-01T00:00:00"
         },
         {
          "Acceleration": 11,
          "Cylinders": 8,
          "Displacement": 351,
          "Horsepower": 153,
          "Miles_per_Gallon": null,
          "Name": "ford torino (sw)",
          "Origin": "USA",
          "Weight_in_lbs": 4034,
          "Year": "1970-01-01T00:00:00"
         },
         {
          "Acceleration": 10.5,
          "Cylinders": 8,
          "Displacement": 383,
          "Horsepower": 175,
          "Miles_per_Gallon": null,
          "Name": "plymouth satellite (sw)",
          "Origin": "USA",
          "Weight_in_lbs": 4166,
          "Year": "1970-01-01T00:00:00"
         },
         {
          "Acceleration": 11,
          "Cylinders": 8,
          "Displacement": 360,
          "Horsepower": 175,
          "Miles_per_Gallon": null,
          "Name": "amc rebel sst (sw)",
          "Origin": "USA",
          "Weight_in_lbs": 3850,
          "Year": "1970-01-01T00:00:00"
         },
         {
          "Acceleration": 10,
          "Cylinders": 8,
          "Displacement": 383,
          "Horsepower": 170,
          "Miles_per_Gallon": 15,
          "Name": "dodge challenger se",
          "Origin": "USA",
          "Weight_in_lbs": 3563,
          "Year": "1970-01-01T00:00:00"
         },
         {
          "Acceleration": 8,
          "Cylinders": 8,
          "Displacement": 340,
          "Horsepower": 160,
          "Miles_per_Gallon": 14,
          "Name": "plymouth 'cuda 340",
          "Origin": "USA",
          "Weight_in_lbs": 3609,
          "Year": "1970-01-01T00:00:00"
         },
         {
          "Acceleration": 8,
          "Cylinders": 8,
          "Displacement": 302,
          "Horsepower": 140,
          "Miles_per_Gallon": null,
          "Name": "ford mustang boss 302",
          "Origin": "USA",
          "Weight_in_lbs": 3353,
          "Year": "1970-01-01T00:00:00"
         },
         {
          "Acceleration": 9.5,
          "Cylinders": 8,
          "Displacement": 400,
          "Horsepower": 150,
          "Miles_per_Gallon": 15,
          "Name": "chevrolet monte carlo",
          "Origin": "USA",
          "Weight_in_lbs": 3761,
          "Year": "1970-01-01T00:00:00"
         },
         {
          "Acceleration": 10,
          "Cylinders": 8,
          "Displacement": 455,
          "Horsepower": 225,
          "Miles_per_Gallon": 14,
          "Name": "buick estate wagon (sw)",
          "Origin": "USA",
          "Weight_in_lbs": 3086,
          "Year": "1970-01-01T00:00:00"
         },
         {
          "Acceleration": 15,
          "Cylinders": 4,
          "Displacement": 113,
          "Horsepower": 95,
          "Miles_per_Gallon": 24,
          "Name": "toyota corona mark ii",
          "Origin": "Japan",
          "Weight_in_lbs": 2372,
          "Year": "1970-01-01T00:00:00"
         },
         {
          "Acceleration": 15.5,
          "Cylinders": 6,
          "Displacement": 198,
          "Horsepower": 95,
          "Miles_per_Gallon": 22,
          "Name": "plymouth duster",
          "Origin": "USA",
          "Weight_in_lbs": 2833,
          "Year": "1970-01-01T00:00:00"
         },
         {
          "Acceleration": 15.5,
          "Cylinders": 6,
          "Displacement": 199,
          "Horsepower": 97,
          "Miles_per_Gallon": 18,
          "Name": "amc hornet",
          "Origin": "USA",
          "Weight_in_lbs": 2774,
          "Year": "1970-01-01T00:00:00"
         },
         {
          "Acceleration": 16,
          "Cylinders": 6,
          "Displacement": 200,
          "Horsepower": 85,
          "Miles_per_Gallon": 21,
          "Name": "ford maverick",
          "Origin": "USA",
          "Weight_in_lbs": 2587,
          "Year": "1970-01-01T00:00:00"
         },
         {
          "Acceleration": 14.5,
          "Cylinders": 4,
          "Displacement": 97,
          "Horsepower": 88,
          "Miles_per_Gallon": 27,
          "Name": "datsun pl510",
          "Origin": "Japan",
          "Weight_in_lbs": 2130,
          "Year": "1970-01-01T00:00:00"
         },
         {
          "Acceleration": 20.5,
          "Cylinders": 4,
          "Displacement": 97,
          "Horsepower": 46,
          "Miles_per_Gallon": 26,
          "Name": "volkswagen 1131 deluxe sedan",
          "Origin": "Europe",
          "Weight_in_lbs": 1835,
          "Year": "1970-01-01T00:00:00"
         },
         {
          "Acceleration": 17.5,
          "Cylinders": 4,
          "Displacement": 110,
          "Horsepower": 87,
          "Miles_per_Gallon": 25,
          "Name": "peugeot 504",
          "Origin": "Europe",
          "Weight_in_lbs": 2672,
          "Year": "1970-01-01T00:00:00"
         },
         {
          "Acceleration": 14.5,
          "Cylinders": 4,
          "Displacement": 107,
          "Horsepower": 90,
          "Miles_per_Gallon": 24,
          "Name": "audi 100 ls",
          "Origin": "Europe",
          "Weight_in_lbs": 2430,
          "Year": "1970-01-01T00:00:00"
         },
         {
          "Acceleration": 17.5,
          "Cylinders": 4,
          "Displacement": 104,
          "Horsepower": 95,
          "Miles_per_Gallon": 25,
          "Name": "saab 99e",
          "Origin": "Europe",
          "Weight_in_lbs": 2375,
          "Year": "1970-01-01T00:00:00"
         },
         {
          "Acceleration": 12.5,
          "Cylinders": 4,
          "Displacement": 121,
          "Horsepower": 113,
          "Miles_per_Gallon": 26,
          "Name": "bmw 2002",
          "Origin": "Europe",
          "Weight_in_lbs": 2234,
          "Year": "1970-01-01T00:00:00"
         },
         {
          "Acceleration": 15,
          "Cylinders": 6,
          "Displacement": 199,
          "Horsepower": 90,
          "Miles_per_Gallon": 21,
          "Name": "amc gremlin",
          "Origin": "USA",
          "Weight_in_lbs": 2648,
          "Year": "1970-01-01T00:00:00"
         },
         {
          "Acceleration": 14,
          "Cylinders": 8,
          "Displacement": 360,
          "Horsepower": 215,
          "Miles_per_Gallon": 10,
          "Name": "ford f250",
          "Origin": "USA",
          "Weight_in_lbs": 4615,
          "Year": "1970-01-01T00:00:00"
         },
         {
          "Acceleration": 15,
          "Cylinders": 8,
          "Displacement": 307,
          "Horsepower": 200,
          "Miles_per_Gallon": 10,
          "Name": "chevy c20",
          "Origin": "USA",
          "Weight_in_lbs": 4376,
          "Year": "1970-01-01T00:00:00"
         },
         {
          "Acceleration": 13.5,
          "Cylinders": 8,
          "Displacement": 318,
          "Horsepower": 210,
          "Miles_per_Gallon": 11,
          "Name": "dodge d200",
          "Origin": "USA",
          "Weight_in_lbs": 4382,
          "Year": "1970-01-01T00:00:00"
         },
         {
          "Acceleration": 18.5,
          "Cylinders": 8,
          "Displacement": 304,
          "Horsepower": 193,
          "Miles_per_Gallon": 9,
          "Name": "hi 1200d",
          "Origin": "USA",
          "Weight_in_lbs": 4732,
          "Year": "1970-01-01T00:00:00"
         },
         {
          "Acceleration": 14.5,
          "Cylinders": 4,
          "Displacement": 97,
          "Horsepower": 88,
          "Miles_per_Gallon": 27,
          "Name": "datsun pl510",
          "Origin": "Japan",
          "Weight_in_lbs": 2130,
          "Year": "1971-01-01T00:00:00"
         },
         {
          "Acceleration": 15.5,
          "Cylinders": 4,
          "Displacement": 140,
          "Horsepower": 90,
          "Miles_per_Gallon": 28,
          "Name": "chevrolet vega 2300",
          "Origin": "USA",
          "Weight_in_lbs": 2264,
          "Year": "1971-01-01T00:00:00"
         },
         {
          "Acceleration": 14,
          "Cylinders": 4,
          "Displacement": 113,
          "Horsepower": 95,
          "Miles_per_Gallon": 25,
          "Name": "toyota corona",
          "Origin": "Japan",
          "Weight_in_lbs": 2228,
          "Year": "1971-01-01T00:00:00"
         },
         {
          "Acceleration": 19,
          "Cylinders": 4,
          "Displacement": 98,
          "Horsepower": null,
          "Miles_per_Gallon": 25,
          "Name": "ford pinto",
          "Origin": "USA",
          "Weight_in_lbs": 2046,
          "Year": "1971-01-01T00:00:00"
         },
         {
          "Acceleration": 20,
          "Cylinders": 4,
          "Displacement": 97,
          "Horsepower": 48,
          "Miles_per_Gallon": null,
          "Name": "volkswagen super beetle 117",
          "Origin": "Europe",
          "Weight_in_lbs": 1978,
          "Year": "1971-01-01T00:00:00"
         },
         {
          "Acceleration": 13,
          "Cylinders": 6,
          "Displacement": 232,
          "Horsepower": 100,
          "Miles_per_Gallon": 19,
          "Name": "amc gremlin",
          "Origin": "USA",
          "Weight_in_lbs": 2634,
          "Year": "1971-01-01T00:00:00"
         },
         {
          "Acceleration": 15.5,
          "Cylinders": 6,
          "Displacement": 225,
          "Horsepower": 105,
          "Miles_per_Gallon": 16,
          "Name": "plymouth satellite custom",
          "Origin": "USA",
          "Weight_in_lbs": 3439,
          "Year": "1971-01-01T00:00:00"
         },
         {
          "Acceleration": 15.5,
          "Cylinders": 6,
          "Displacement": 250,
          "Horsepower": 100,
          "Miles_per_Gallon": 17,
          "Name": "chevrolet chevelle malibu",
          "Origin": "USA",
          "Weight_in_lbs": 3329,
          "Year": "1971-01-01T00:00:00"
         },
         {
          "Acceleration": 15.5,
          "Cylinders": 6,
          "Displacement": 250,
          "Horsepower": 88,
          "Miles_per_Gallon": 19,
          "Name": "ford torino 500",
          "Origin": "USA",
          "Weight_in_lbs": 3302,
          "Year": "1971-01-01T00:00:00"
         },
         {
          "Acceleration": 15.5,
          "Cylinders": 6,
          "Displacement": 232,
          "Horsepower": 100,
          "Miles_per_Gallon": 18,
          "Name": "amc matador",
          "Origin": "USA",
          "Weight_in_lbs": 3288,
          "Year": "1971-01-01T00:00:00"
         },
         {
          "Acceleration": 12,
          "Cylinders": 8,
          "Displacement": 350,
          "Horsepower": 165,
          "Miles_per_Gallon": 14,
          "Name": "chevrolet impala",
          "Origin": "USA",
          "Weight_in_lbs": 4209,
          "Year": "1971-01-01T00:00:00"
         },
         {
          "Acceleration": 11.5,
          "Cylinders": 8,
          "Displacement": 400,
          "Horsepower": 175,
          "Miles_per_Gallon": 14,
          "Name": "pontiac catalina brougham",
          "Origin": "USA",
          "Weight_in_lbs": 4464,
          "Year": "1971-01-01T00:00:00"
         },
         {
          "Acceleration": 13.5,
          "Cylinders": 8,
          "Displacement": 351,
          "Horsepower": 153,
          "Miles_per_Gallon": 14,
          "Name": "ford galaxie 500",
          "Origin": "USA",
          "Weight_in_lbs": 4154,
          "Year": "1971-01-01T00:00:00"
         },
         {
          "Acceleration": 13,
          "Cylinders": 8,
          "Displacement": 318,
          "Horsepower": 150,
          "Miles_per_Gallon": 14,
          "Name": "plymouth fury iii",
          "Origin": "USA",
          "Weight_in_lbs": 4096,
          "Year": "1971-01-01T00:00:00"
         },
         {
          "Acceleration": 11.5,
          "Cylinders": 8,
          "Displacement": 383,
          "Horsepower": 180,
          "Miles_per_Gallon": 12,
          "Name": "dodge monaco (sw)",
          "Origin": "USA",
          "Weight_in_lbs": 4955,
          "Year": "1971-01-01T00:00:00"
         },
         {
          "Acceleration": 12,
          "Cylinders": 8,
          "Displacement": 400,
          "Horsepower": 170,
          "Miles_per_Gallon": 13,
          "Name": "ford country squire (sw)",
          "Origin": "USA",
          "Weight_in_lbs": 4746,
          "Year": "1971-01-01T00:00:00"
         },
         {
          "Acceleration": 12,
          "Cylinders": 8,
          "Displacement": 400,
          "Horsepower": 175,
          "Miles_per_Gallon": 13,
          "Name": "pontiac safari (sw)",
          "Origin": "USA",
          "Weight_in_lbs": 5140,
          "Year": "1971-01-01T00:00:00"
         },
         {
          "Acceleration": 13.5,
          "Cylinders": 6,
          "Displacement": 258,
          "Horsepower": 110,
          "Miles_per_Gallon": 18,
          "Name": "amc hornet sportabout (sw)",
          "Origin": "USA",
          "Weight_in_lbs": 2962,
          "Year": "1971-01-01T00:00:00"
         },
         {
          "Acceleration": 19,
          "Cylinders": 4,
          "Displacement": 140,
          "Horsepower": 72,
          "Miles_per_Gallon": 22,
          "Name": "chevrolet vega (sw)",
          "Origin": "USA",
          "Weight_in_lbs": 2408,
          "Year": "1971-01-01T00:00:00"
         },
         {
          "Acceleration": 15,
          "Cylinders": 6,
          "Displacement": 250,
          "Horsepower": 100,
          "Miles_per_Gallon": 19,
          "Name": "pontiac firebird",
          "Origin": "USA",
          "Weight_in_lbs": 3282,
          "Year": "1971-01-01T00:00:00"
         },
         {
          "Acceleration": 14.5,
          "Cylinders": 6,
          "Displacement": 250,
          "Horsepower": 88,
          "Miles_per_Gallon": 18,
          "Name": "ford mustang",
          "Origin": "USA",
          "Weight_in_lbs": 3139,
          "Year": "1971-01-01T00:00:00"
         },
         {
          "Acceleration": 14,
          "Cylinders": 4,
          "Displacement": 122,
          "Horsepower": 86,
          "Miles_per_Gallon": 23,
          "Name": "mercury capri 2000",
          "Origin": "USA",
          "Weight_in_lbs": 2220,
          "Year": "1971-01-01T00:00:00"
         },
         {
          "Acceleration": 14,
          "Cylinders": 4,
          "Displacement": 116,
          "Horsepower": 90,
          "Miles_per_Gallon": 28,
          "Name": "opel 1900",
          "Origin": "Europe",
          "Weight_in_lbs": 2123,
          "Year": "1971-01-01T00:00:00"
         },
         {
          "Acceleration": 19.5,
          "Cylinders": 4,
          "Displacement": 79,
          "Horsepower": 70,
          "Miles_per_Gallon": 30,
          "Name": "peugeot 304",
          "Origin": "Europe",
          "Weight_in_lbs": 2074,
          "Year": "1971-01-01T00:00:00"
         },
         {
          "Acceleration": 14.5,
          "Cylinders": 4,
          "Displacement": 88,
          "Horsepower": 76,
          "Miles_per_Gallon": 30,
          "Name": "fiat 124b",
          "Origin": "Europe",
          "Weight_in_lbs": 2065,
          "Year": "1971-01-01T00:00:00"
         },
         {
          "Acceleration": 19,
          "Cylinders": 4,
          "Displacement": 71,
          "Horsepower": 65,
          "Miles_per_Gallon": 31,
          "Name": "toyota corolla 1200",
          "Origin": "Japan",
          "Weight_in_lbs": 1773,
          "Year": "1971-01-01T00:00:00"
         },
         {
          "Acceleration": 18,
          "Cylinders": 4,
          "Displacement": 72,
          "Horsepower": 69,
          "Miles_per_Gallon": 35,
          "Name": "datsun 1200",
          "Origin": "Japan",
          "Weight_in_lbs": 1613,
          "Year": "1971-01-01T00:00:00"
         },
         {
          "Acceleration": 19,
          "Cylinders": 4,
          "Displacement": 97,
          "Horsepower": 60,
          "Miles_per_Gallon": 27,
          "Name": "volkswagen model 111",
          "Origin": "Europe",
          "Weight_in_lbs": 1834,
          "Year": "1971-01-01T00:00:00"
         },
         {
          "Acceleration": 20.5,
          "Cylinders": 4,
          "Displacement": 91,
          "Horsepower": 70,
          "Miles_per_Gallon": 26,
          "Name": "plymouth cricket",
          "Origin": "USA",
          "Weight_in_lbs": 1955,
          "Year": "1971-01-01T00:00:00"
         },
         {
          "Acceleration": 15.5,
          "Cylinders": 4,
          "Displacement": 113,
          "Horsepower": 95,
          "Miles_per_Gallon": 24,
          "Name": "toyota corona hardtop",
          "Origin": "Japan",
          "Weight_in_lbs": 2278,
          "Year": "1972-01-01T00:00:00"
         },
         {
          "Acceleration": 17,
          "Cylinders": 4,
          "Displacement": 97.5,
          "Horsepower": 80,
          "Miles_per_Gallon": 25,
          "Name": "dodge colt hardtop",
          "Origin": "USA",
          "Weight_in_lbs": 2126,
          "Year": "1972-01-01T00:00:00"
         },
         {
          "Acceleration": 23.5,
          "Cylinders": 4,
          "Displacement": 97,
          "Horsepower": 54,
          "Miles_per_Gallon": 23,
          "Name": "volkswagen type 3",
          "Origin": "Europe",
          "Weight_in_lbs": 2254,
          "Year": "1972-01-01T00:00:00"
         },
         {
          "Acceleration": 19.5,
          "Cylinders": 4,
          "Displacement": 140,
          "Horsepower": 90,
          "Miles_per_Gallon": 20,
          "Name": "chevrolet vega",
          "Origin": "USA",
          "Weight_in_lbs": 2408,
          "Year": "1972-01-01T00:00:00"
         },
         {
          "Acceleration": 16.5,
          "Cylinders": 4,
          "Displacement": 122,
          "Horsepower": 86,
          "Miles_per_Gallon": 21,
          "Name": "ford pinto runabout",
          "Origin": "USA",
          "Weight_in_lbs": 2226,
          "Year": "1972-01-01T00:00:00"
         },
         {
          "Acceleration": 12,
          "Cylinders": 8,
          "Displacement": 350,
          "Horsepower": 165,
          "Miles_per_Gallon": 13,
          "Name": "chevrolet impala",
          "Origin": "USA",
          "Weight_in_lbs": 4274,
          "Year": "1972-01-01T00:00:00"
         },
         {
          "Acceleration": 12,
          "Cylinders": 8,
          "Displacement": 400,
          "Horsepower": 175,
          "Miles_per_Gallon": 14,
          "Name": "pontiac catalina",
          "Origin": "USA",
          "Weight_in_lbs": 4385,
          "Year": "1972-01-01T00:00:00"
         },
         {
          "Acceleration": 13.5,
          "Cylinders": 8,
          "Displacement": 318,
          "Horsepower": 150,
          "Miles_per_Gallon": 15,
          "Name": "plymouth fury iii",
          "Origin": "USA",
          "Weight_in_lbs": 4135,
          "Year": "1972-01-01T00:00:00"
         },
         {
          "Acceleration": 13,
          "Cylinders": 8,
          "Displacement": 351,
          "Horsepower": 153,
          "Miles_per_Gallon": 14,
          "Name": "ford galaxie 500",
          "Origin": "USA",
          "Weight_in_lbs": 4129,
          "Year": "1972-01-01T00:00:00"
         },
         {
          "Acceleration": 11.5,
          "Cylinders": 8,
          "Displacement": 304,
          "Horsepower": 150,
          "Miles_per_Gallon": 17,
          "Name": "amc ambassador sst",
          "Origin": "USA",
          "Weight_in_lbs": 3672,
          "Year": "1972-01-01T00:00:00"
         },
         {
          "Acceleration": 11,
          "Cylinders": 8,
          "Displacement": 429,
          "Horsepower": 208,
          "Miles_per_Gallon": 11,
          "Name": "mercury marquis",
          "Origin": "USA",
          "Weight_in_lbs": 4633,
          "Year": "1972-01-01T00:00:00"
         },
         {
          "Acceleration": 13.5,
          "Cylinders": 8,
          "Displacement": 350,
          "Horsepower": 155,
          "Miles_per_Gallon": 13,
          "Name": "buick lesabre custom",
          "Origin": "USA",
          "Weight_in_lbs": 4502,
          "Year": "1972-01-01T00:00:00"
         },
         {
          "Acceleration": 13.5,
          "Cylinders": 8,
          "Displacement": 350,
          "Horsepower": 160,
          "Miles_per_Gallon": 12,
          "Name": "oldsmobile delta 88 royale",
          "Origin": "USA",
          "Weight_in_lbs": 4456,
          "Year": "1972-01-01T00:00:00"
         },
         {
          "Acceleration": 12.5,
          "Cylinders": 8,
          "Displacement": 400,
          "Horsepower": 190,
          "Miles_per_Gallon": 13,
          "Name": "chrysler newport royal",
          "Origin": "USA",
          "Weight_in_lbs": 4422,
          "Year": "1972-01-01T00:00:00"
         },
         {
          "Acceleration": 13.5,
          "Cylinders": 3,
          "Displacement": 70,
          "Horsepower": 97,
          "Miles_per_Gallon": 19,
          "Name": "mazda rx2 coupe",
          "Origin": "Japan",
          "Weight_in_lbs": 2330,
          "Year": "1972-01-01T00:00:00"
         },
         {
          "Acceleration": 12.5,
          "Cylinders": 8,
          "Displacement": 304,
          "Horsepower": 150,
          "Miles_per_Gallon": 15,
          "Name": "amc matador (sw)",
          "Origin": "USA",
          "Weight_in_lbs": 3892,
          "Year": "1972-01-01T00:00:00"
         },
         {
          "Acceleration": 14,
          "Cylinders": 8,
          "Displacement": 307,
          "Horsepower": 130,
          "Miles_per_Gallon": 13,
          "Name": "chevrolet chevelle concours (sw)",
          "Origin": "USA",
          "Weight_in_lbs": 4098,
          "Year": "1972-01-01T00:00:00"
         },
         {
          "Acceleration": 16,
          "Cylinders": 8,
          "Displacement": 302,
          "Horsepower": 140,
          "Miles_per_Gallon": 13,
          "Name": "ford gran torino (sw)",
          "Origin": "USA",
          "Weight_in_lbs": 4294,
          "Year": "1972-01-01T00:00:00"
         },
         {
          "Acceleration": 14,
          "Cylinders": 8,
          "Displacement": 318,
          "Horsepower": 150,
          "Miles_per_Gallon": 14,
          "Name": "plymouth satellite custom (sw)",
          "Origin": "USA",
          "Weight_in_lbs": 4077,
          "Year": "1972-01-01T00:00:00"
         },
         {
          "Acceleration": 14.5,
          "Cylinders": 4,
          "Displacement": 121,
          "Horsepower": 112,
          "Miles_per_Gallon": 18,
          "Name": "volvo 145e (sw)",
          "Origin": "Europe",
          "Weight_in_lbs": 2933,
          "Year": "1972-01-01T00:00:00"
         },
         {
          "Acceleration": 18,
          "Cylinders": 4,
          "Displacement": 121,
          "Horsepower": 76,
          "Miles_per_Gallon": 22,
          "Name": "volkswagen 411 (sw)",
          "Origin": "Europe",
          "Weight_in_lbs": 2511,
          "Year": "1972-01-01T00:00:00"
         },
         {
          "Acceleration": 19.5,
          "Cylinders": 4,
          "Displacement": 120,
          "Horsepower": 87,
          "Miles_per_Gallon": 21,
          "Name": "peugeot 504 (sw)",
          "Origin": "Europe",
          "Weight_in_lbs": 2979,
          "Year": "1972-01-01T00:00:00"
         },
         {
          "Acceleration": 18,
          "Cylinders": 4,
          "Displacement": 96,
          "Horsepower": 69,
          "Miles_per_Gallon": 26,
          "Name": "renault 12 (sw)",
          "Origin": "Europe",
          "Weight_in_lbs": 2189,
          "Year": "1972-01-01T00:00:00"
         },
         {
          "Acceleration": 16,
          "Cylinders": 4,
          "Displacement": 122,
          "Horsepower": 86,
          "Miles_per_Gallon": 22,
          "Name": "ford pinto (sw)",
          "Origin": "USA",
          "Weight_in_lbs": 2395,
          "Year": "1972-01-01T00:00:00"
         },
         {
          "Acceleration": 17,
          "Cylinders": 4,
          "Displacement": 97,
          "Horsepower": 92,
          "Miles_per_Gallon": 28,
          "Name": "datsun 510 (sw)",
          "Origin": "Japan",
          "Weight_in_lbs": 2288,
          "Year": "1972-01-01T00:00:00"
         },
         {
          "Acceleration": 14.5,
          "Cylinders": 4,
          "Displacement": 120,
          "Horsepower": 97,
          "Miles_per_Gallon": 23,
          "Name": "toyouta corona mark ii (sw)",
          "Origin": "Japan",
          "Weight_in_lbs": 2506,
          "Year": "1972-01-01T00:00:00"
         },
         {
          "Acceleration": 15,
          "Cylinders": 4,
          "Displacement": 98,
          "Horsepower": 80,
          "Miles_per_Gallon": 28,
          "Name": "dodge colt (sw)",
          "Origin": "USA",
          "Weight_in_lbs": 2164,
          "Year": "1972-01-01T00:00:00"
         },
         {
          "Acceleration": 16.5,
          "Cylinders": 4,
          "Displacement": 97,
          "Horsepower": 88,
          "Miles_per_Gallon": 27,
          "Name": "toyota corolla 1600 (sw)",
          "Origin": "Japan",
          "Weight_in_lbs": 2100,
          "Year": "1972-01-01T00:00:00"
         },
         {
          "Acceleration": 13,
          "Cylinders": 8,
          "Displacement": 350,
          "Horsepower": 175,
          "Miles_per_Gallon": 13,
          "Name": "buick century 350",
          "Origin": "USA",
          "Weight_in_lbs": 4100,
          "Year": "1973-01-01T00:00:00"
         },
         {
          "Acceleration": 11.5,
          "Cylinders": 8,
          "Displacement": 304,
          "Horsepower": 150,
          "Miles_per_Gallon": 14,
          "Name": "amc matador",
          "Origin": "USA",
          "Weight_in_lbs": 3672,
          "Year": "1973-01-01T00:00:00"
         },
         {
          "Acceleration": 13,
          "Cylinders": 8,
          "Displacement": 350,
          "Horsepower": 145,
          "Miles_per_Gallon": 13,
          "Name": "chevrolet malibu",
          "Origin": "USA",
          "Weight_in_lbs": 3988,
          "Year": "1973-01-01T00:00:00"
         },
         {
          "Acceleration": 14.5,
          "Cylinders": 8,
          "Displacement": 302,
          "Horsepower": 137,
          "Miles_per_Gallon": 14,
          "Name": "ford gran torino",
          "Origin": "USA",
          "Weight_in_lbs": 4042,
          "Year": "1973-01-01T00:00:00"
         },
         {
          "Acceleration": 12.5,
          "Cylinders": 8,
          "Displacement": 318,
          "Horsepower": 150,
          "Miles_per_Gallon": 15,
          "Name": "dodge coronet custom",
          "Origin": "USA",
          "Weight_in_lbs": 3777,
          "Year": "1973-01-01T00:00:00"
         },
         {
          "Acceleration": 11.5,
          "Cylinders": 8,
          "Displacement": 429,
          "Horsepower": 198,
          "Miles_per_Gallon": 12,
          "Name": "mercury marquis brougham",
          "Origin": "USA",
          "Weight_in_lbs": 4952,
          "Year": "1973-01-01T00:00:00"
         },
         {
          "Acceleration": 12,
          "Cylinders": 8,
          "Displacement": 400,
          "Horsepower": 150,
          "Miles_per_Gallon": 13,
          "Name": "chevrolet caprice classic",
          "Origin": "USA",
          "Weight_in_lbs": 4464,
          "Year": "1973-01-01T00:00:00"
         },
         {
          "Acceleration": 13,
          "Cylinders": 8,
          "Displacement": 351,
          "Horsepower": 158,
          "Miles_per_Gallon": 13,
          "Name": "ford ltd",
          "Origin": "USA",
          "Weight_in_lbs": 4363,
          "Year": "1973-01-01T00:00:00"
         },
         {
          "Acceleration": 14.5,
          "Cylinders": 8,
          "Displacement": 318,
          "Horsepower": 150,
          "Miles_per_Gallon": 14,
          "Name": "plymouth fury gran sedan",
          "Origin": "USA",
          "Weight_in_lbs": 4237,
          "Year": "1973-01-01T00:00:00"
         },
         {
          "Acceleration": 11,
          "Cylinders": 8,
          "Displacement": 440,
          "Horsepower": 215,
          "Miles_per_Gallon": 13,
          "Name": "chrysler new yorker brougham",
          "Origin": "USA",
          "Weight_in_lbs": 4735,
          "Year": "1973-01-01T00:00:00"
         },
         {
          "Acceleration": 11,
          "Cylinders": 8,
          "Displacement": 455,
          "Horsepower": 225,
          "Miles_per_Gallon": 12,
          "Name": "buick electra 225 custom",
          "Origin": "USA",
          "Weight_in_lbs": 4951,
          "Year": "1973-01-01T00:00:00"
         },
         {
          "Acceleration": 11,
          "Cylinders": 8,
          "Displacement": 360,
          "Horsepower": 175,
          "Miles_per_Gallon": 13,
          "Name": "amc ambassador brougham",
          "Origin": "USA",
          "Weight_in_lbs": 3821,
          "Year": "1973-01-01T00:00:00"
         },
         {
          "Acceleration": 16.5,
          "Cylinders": 6,
          "Displacement": 225,
          "Horsepower": 105,
          "Miles_per_Gallon": 18,
          "Name": "plymouth valiant",
          "Origin": "USA",
          "Weight_in_lbs": 3121,
          "Year": "1973-01-01T00:00:00"
         },
         {
          "Acceleration": 18,
          "Cylinders": 6,
          "Displacement": 250,
          "Horsepower": 100,
          "Miles_per_Gallon": 16,
          "Name": "chevrolet nova custom",
          "Origin": "USA",
          "Weight_in_lbs": 3278,
          "Year": "1973-01-01T00:00:00"
         },
         {
          "Acceleration": 16,
          "Cylinders": 6,
          "Displacement": 232,
          "Horsepower": 100,
          "Miles_per_Gallon": 18,
          "Name": "amc hornet",
          "Origin": "USA",
          "Weight_in_lbs": 2945,
          "Year": "1973-01-01T00:00:00"
         },
         {
          "Acceleration": 16.5,
          "Cylinders": 6,
          "Displacement": 250,
          "Horsepower": 88,
          "Miles_per_Gallon": 18,
          "Name": "ford maverick",
          "Origin": "USA",
          "Weight_in_lbs": 3021,
          "Year": "1973-01-01T00:00:00"
         },
         {
          "Acceleration": 16,
          "Cylinders": 6,
          "Displacement": 198,
          "Horsepower": 95,
          "Miles_per_Gallon": 23,
          "Name": "plymouth duster",
          "Origin": "USA",
          "Weight_in_lbs": 2904,
          "Year": "1973-01-01T00:00:00"
         },
         {
          "Acceleration": 21,
          "Cylinders": 4,
          "Displacement": 97,
          "Horsepower": 46,
          "Miles_per_Gallon": 26,
          "Name": "volkswagen super beetle",
          "Origin": "Europe",
          "Weight_in_lbs": 1950,
          "Year": "1973-01-01T00:00:00"
         },
         {
          "Acceleration": 14,
          "Cylinders": 8,
          "Displacement": 400,
          "Horsepower": 150,
          "Miles_per_Gallon": 11,
          "Name": "chevrolet impala",
          "Origin": "USA",
          "Weight_in_lbs": 4997,
          "Year": "1973-01-01T00:00:00"
         },
         {
          "Acceleration": 12.5,
          "Cylinders": 8,
          "Displacement": 400,
          "Horsepower": 167,
          "Miles_per_Gallon": 12,
          "Name": "ford country",
          "Origin": "USA",
          "Weight_in_lbs": 4906,
          "Year": "1973-01-01T00:00:00"
         },
         {
          "Acceleration": 13,
          "Cylinders": 8,
          "Displacement": 360,
          "Horsepower": 170,
          "Miles_per_Gallon": 13,
          "Name": "plymouth custom suburb",
          "Origin": "USA",
          "Weight_in_lbs": 4654,
          "Year": "1973-01-01T00:00:00"
         },
         {
          "Acceleration": 12.5,
          "Cylinders": 8,
          "Displacement": 350,
          "Horsepower": 180,
          "Miles_per_Gallon": 12,
          "Name": "oldsmobile vista cruiser",
          "Origin": "USA",
          "Weight_in_lbs": 4499,
          "Year": "1973-01-01T00:00:00"
         },
         {
          "Acceleration": 15,
          "Cylinders": 6,
          "Displacement": 232,
          "Horsepower": 100,
          "Miles_per_Gallon": 18,
          "Name": "amc gremlin",
          "Origin": "USA",
          "Weight_in_lbs": 2789,
          "Year": "1973-01-01T00:00:00"
         },
         {
          "Acceleration": 19,
          "Cylinders": 4,
          "Displacement": 97,
          "Horsepower": 88,
          "Miles_per_Gallon": 20,
          "Name": "toyota carina",
          "Origin": "Japan",
          "Weight_in_lbs": 2279,
          "Year": "1973-01-01T00:00:00"
         },
         {
          "Acceleration": 19.5,
          "Cylinders": 4,
          "Displacement": 140,
          "Horsepower": 72,
          "Miles_per_Gallon": 21,
          "Name": "chevrolet vega",
          "Origin": "USA",
          "Weight_in_lbs": 2401,
          "Year": "1973-01-01T00:00:00"
         },
         {
          "Acceleration": 16.5,
          "Cylinders": 4,
          "Displacement": 108,
          "Horsepower": 94,
          "Miles_per_Gallon": 22,
          "Name": "datsun 610",
          "Origin": "Japan",
          "Weight_in_lbs": 2379,
          "Year": "1973-01-01T00:00:00"
         },
         {
          "Acceleration": 13.5,
          "Cylinders": 3,
          "Displacement": 70,
          "Horsepower": 90,
          "Miles_per_Gallon": 18,
          "Name": "maxda rx3",
          "Origin": "Japan",
          "Weight_in_lbs": 2124,
          "Year": "1973-01-01T00:00:00"
         },
         {
          "Acceleration": 18.5,
          "Cylinders": 4,
          "Displacement": 122,
          "Horsepower": 85,
          "Miles_per_Gallon": 19,
          "Name": "ford pinto",
          "Origin": "USA",
          "Weight_in_lbs": 2310,
          "Year": "1973-01-01T00:00:00"
         },
         {
          "Acceleration": 14,
          "Cylinders": 6,
          "Displacement": 155,
          "Horsepower": 107,
          "Miles_per_Gallon": 21,
          "Name": "mercury capri v6",
          "Origin": "USA",
          "Weight_in_lbs": 2472,
          "Year": "1973-01-01T00:00:00"
         },
         {
          "Acceleration": 15.5,
          "Cylinders": 4,
          "Displacement": 98,
          "Horsepower": 90,
          "Miles_per_Gallon": 26,
          "Name": "fiat 124 sport coupe",
          "Origin": "Europe",
          "Weight_in_lbs": 2265,
          "Year": "1973-01-01T00:00:00"
         },
         {
          "Acceleration": 13,
          "Cylinders": 8,
          "Displacement": 350,
          "Horsepower": 145,
          "Miles_per_Gallon": 15,
          "Name": "chevrolet monte carlo s",
          "Origin": "USA",
          "Weight_in_lbs": 4082,
          "Year": "1973-01-01T00:00:00"
         },
         {
          "Acceleration": 9.5,
          "Cylinders": 8,
          "Displacement": 400,
          "Horsepower": 230,
          "Miles_per_Gallon": 16,
          "Name": "pontiac grand prix",
          "Origin": "USA",
          "Weight_in_lbs": 4278,
          "Year": "1973-01-01T00:00:00"
         },
         {
          "Acceleration": 19.5,
          "Cylinders": 4,
          "Displacement": 68,
          "Horsepower": 49,
          "Miles_per_Gallon": 29,
          "Name": "fiat 128",
          "Origin": "Europe",
          "Weight_in_lbs": 1867,
          "Year": "1973-01-01T00:00:00"
         },
         {
          "Acceleration": 15.5,
          "Cylinders": 4,
          "Displacement": 116,
          "Horsepower": 75,
          "Miles_per_Gallon": 24,
          "Name": "opel manta",
          "Origin": "Europe",
          "Weight_in_lbs": 2158,
          "Year": "1973-01-01T00:00:00"
         },
         {
          "Acceleration": 14,
          "Cylinders": 4,
          "Displacement": 114,
          "Horsepower": 91,
          "Miles_per_Gallon": 20,
          "Name": "audi 100ls",
          "Origin": "Europe",
          "Weight_in_lbs": 2582,
          "Year": "1973-01-01T00:00:00"
         },
         {
          "Acceleration": 15.5,
          "Cylinders": 4,
          "Displacement": 121,
          "Horsepower": 112,
          "Miles_per_Gallon": 19,
          "Name": "volvo 144ea",
          "Origin": "Europe",
          "Weight_in_lbs": 2868,
          "Year": "1973-01-01T00:00:00"
         },
         {
          "Acceleration": 11,
          "Cylinders": 8,
          "Displacement": 318,
          "Horsepower": 150,
          "Miles_per_Gallon": 15,
          "Name": "dodge dart custom",
          "Origin": "USA",
          "Weight_in_lbs": 3399,
          "Year": "1973-01-01T00:00:00"
         },
         {
          "Acceleration": 14,
          "Cylinders": 4,
          "Displacement": 121,
          "Horsepower": 110,
          "Miles_per_Gallon": 24,
          "Name": "saab 99le",
          "Origin": "Europe",
          "Weight_in_lbs": 2660,
          "Year": "1973-01-01T00:00:00"
         },
         {
          "Acceleration": 13.5,
          "Cylinders": 6,
          "Displacement": 156,
          "Horsepower": 122,
          "Miles_per_Gallon": 20,
          "Name": "toyota mark ii",
          "Origin": "Japan",
          "Weight_in_lbs": 2807,
          "Year": "1973-01-01T00:00:00"
         },
         {
          "Acceleration": 11,
          "Cylinders": 8,
          "Displacement": 350,
          "Horsepower": 180,
          "Miles_per_Gallon": 11,
          "Name": "oldsmobile omega",
          "Origin": "USA",
          "Weight_in_lbs": 3664,
          "Year": "1973-01-01T00:00:00"
         },
         {
          "Acceleration": 16.5,
          "Cylinders": 6,
          "Displacement": 198,
          "Horsepower": 95,
          "Miles_per_Gallon": 20,
          "Name": "plymouth duster",
          "Origin": "USA",
          "Weight_in_lbs": 3102,
          "Year": "1974-01-01T00:00:00"
         },
         {
          "Acceleration": 17,
          "Cylinders": 6,
          "Displacement": 200,
          "Horsepower": null,
          "Miles_per_Gallon": 21,
          "Name": "ford maverick",
          "Origin": "USA",
          "Weight_in_lbs": 2875,
          "Year": "1974-01-01T00:00:00"
         },
         {
          "Acceleration": 16,
          "Cylinders": 6,
          "Displacement": 232,
          "Horsepower": 100,
          "Miles_per_Gallon": 19,
          "Name": "amc hornet",
          "Origin": "USA",
          "Weight_in_lbs": 2901,
          "Year": "1974-01-01T00:00:00"
         },
         {
          "Acceleration": 17,
          "Cylinders": 6,
          "Displacement": 250,
          "Horsepower": 100,
          "Miles_per_Gallon": 15,
          "Name": "chevrolet nova",
          "Origin": "USA",
          "Weight_in_lbs": 3336,
          "Year": "1974-01-01T00:00:00"
         },
         {
          "Acceleration": 19,
          "Cylinders": 4,
          "Displacement": 79,
          "Horsepower": 67,
          "Miles_per_Gallon": 31,
          "Name": "datsun b210",
          "Origin": "Japan",
          "Weight_in_lbs": 1950,
          "Year": "1974-01-01T00:00:00"
         },
         {
          "Acceleration": 16.5,
          "Cylinders": 4,
          "Displacement": 122,
          "Horsepower": 80,
          "Miles_per_Gallon": 26,
          "Name": "ford pinto",
          "Origin": "USA",
          "Weight_in_lbs": 2451,
          "Year": "1974-01-01T00:00:00"
         },
         {
          "Acceleration": 21,
          "Cylinders": 4,
          "Displacement": 71,
          "Horsepower": 65,
          "Miles_per_Gallon": 32,
          "Name": "toyota corolla 1200",
          "Origin": "Japan",
          "Weight_in_lbs": 1836,
          "Year": "1974-01-01T00:00:00"
         },
         {
          "Acceleration": 17,
          "Cylinders": 4,
          "Displacement": 140,
          "Horsepower": 75,
          "Miles_per_Gallon": 25,
          "Name": "chevrolet vega",
          "Origin": "USA",
          "Weight_in_lbs": 2542,
          "Year": "1974-01-01T00:00:00"
         },
         {
          "Acceleration": 17,
          "Cylinders": 6,
          "Displacement": 250,
          "Horsepower": 100,
          "Miles_per_Gallon": 16,
          "Name": "chevrolet chevelle malibu classic",
          "Origin": "USA",
          "Weight_in_lbs": 3781,
          "Year": "1974-01-01T00:00:00"
         },
         {
          "Acceleration": 18,
          "Cylinders": 6,
          "Displacement": 258,
          "Horsepower": 110,
          "Miles_per_Gallon": 16,
          "Name": "amc matador",
          "Origin": "USA",
          "Weight_in_lbs": 3632,
          "Year": "1974-01-01T00:00:00"
         },
         {
          "Acceleration": 16.5,
          "Cylinders": 6,
          "Displacement": 225,
          "Horsepower": 105,
          "Miles_per_Gallon": 18,
          "Name": "plymouth satellite sebring",
          "Origin": "USA",
          "Weight_in_lbs": 3613,
          "Year": "1974-01-01T00:00:00"
         },
         {
          "Acceleration": 14,
          "Cylinders": 8,
          "Displacement": 302,
          "Horsepower": 140,
          "Miles_per_Gallon": 16,
          "Name": "ford gran torino",
          "Origin": "USA",
          "Weight_in_lbs": 4141,
          "Year": "1974-01-01T00:00:00"
         },
         {
          "Acceleration": 14.5,
          "Cylinders": 8,
          "Displacement": 350,
          "Horsepower": 150,
          "Miles_per_Gallon": 13,
          "Name": "buick century luxus (sw)",
          "Origin": "USA",
          "Weight_in_lbs": 4699,
          "Year": "1974-01-01T00:00:00"
         },
         {
          "Acceleration": 13.5,
          "Cylinders": 8,
          "Displacement": 318,
          "Horsepower": 150,
          "Miles_per_Gallon": 14,
          "Name": "dodge coronet custom (sw)",
          "Origin": "USA",
          "Weight_in_lbs": 4457,
          "Year": "1974-01-01T00:00:00"
         },
         {
          "Acceleration": 16,
          "Cylinders": 8,
          "Displacement": 302,
          "Horsepower": 140,
          "Miles_per_Gallon": 14,
          "Name": "ford gran torino (sw)",
          "Origin": "USA",
          "Weight_in_lbs": 4638,
          "Year": "1974-01-01T00:00:00"
         },
         {
          "Acceleration": 15.5,
          "Cylinders": 8,
          "Displacement": 304,
          "Horsepower": 150,
          "Miles_per_Gallon": 14,
          "Name": "amc matador (sw)",
          "Origin": "USA",
          "Weight_in_lbs": 4257,
          "Year": "1974-01-01T00:00:00"
         },
         {
          "Acceleration": 16.5,
          "Cylinders": 4,
          "Displacement": 98,
          "Horsepower": 83,
          "Miles_per_Gallon": 29,
          "Name": "audi fox",
          "Origin": "Europe",
          "Weight_in_lbs": 2219,
          "Year": "1974-01-01T00:00:00"
         },
         {
          "Acceleration": 15.5,
          "Cylinders": 4,
          "Displacement": 79,
          "Horsepower": 67,
          "Miles_per_Gallon": 26,
          "Name": "volkswagen dasher",
          "Origin": "Europe",
          "Weight_in_lbs": 1963,
          "Year": "1974-01-01T00:00:00"
         },
         {
          "Acceleration": 14.5,
          "Cylinders": 4,
          "Displacement": 97,
          "Horsepower": 78,
          "Miles_per_Gallon": 26,
          "Name": "opel manta",
          "Origin": "Europe",
          "Weight_in_lbs": 2300,
          "Year": "1974-01-01T00:00:00"
         },
         {
          "Acceleration": 16.5,
          "Cylinders": 4,
          "Displacement": 76,
          "Horsepower": 52,
          "Miles_per_Gallon": 31,
          "Name": "toyota corona",
          "Origin": "Japan",
          "Weight_in_lbs": 1649,
          "Year": "1974-01-01T00:00:00"
         },
         {
          "Acceleration": 19,
          "Cylinders": 4,
          "Displacement": 83,
          "Horsepower": 61,
          "Miles_per_Gallon": 32,
          "Name": "datsun 710",
          "Origin": "Japan",
          "Weight_in_lbs": 2003,
          "Year": "1974-01-01T00:00:00"
         },
         {
          "Acceleration": 14.5,
          "Cylinders": 4,
          "Displacement": 90,
          "Horsepower": 75,
          "Miles_per_Gallon": 28,
          "Name": "dodge colt",
          "Origin": "USA",
          "Weight_in_lbs": 2125,
          "Year": "1974-01-01T00:00:00"
         },
         {
          "Acceleration": 15.5,
          "Cylinders": 4,
          "Displacement": 90,
          "Horsepower": 75,
          "Miles_per_Gallon": 24,
          "Name": "fiat 128",
          "Origin": "Europe",
          "Weight_in_lbs": 2108,
          "Year": "1974-01-01T00:00:00"
         },
         {
          "Acceleration": 14,
          "Cylinders": 4,
          "Displacement": 116,
          "Horsepower": 75,
          "Miles_per_Gallon": 26,
          "Name": "fiat 124 tc",
          "Origin": "Europe",
          "Weight_in_lbs": 2246,
          "Year": "1974-01-01T00:00:00"
         },
         {
          "Acceleration": 15,
          "Cylinders": 4,
          "Displacement": 120,
          "Horsepower": 97,
          "Miles_per_Gallon": 24,
          "Name": "honda civic",
          "Origin": "Japan",
          "Weight_in_lbs": 2489,
          "Year": "1974-01-01T00:00:00"
         },
         {
          "Acceleration": 15.5,
          "Cylinders": 4,
          "Displacement": 108,
          "Horsepower": 93,
          "Miles_per_Gallon": 26,
          "Name": "subaru",
          "Origin": "Japan",
          "Weight_in_lbs": 2391,
          "Year": "1974-01-01T00:00:00"
         },
         {
          "Acceleration": 16,
          "Cylinders": 4,
          "Displacement": 79,
          "Horsepower": 67,
          "Miles_per_Gallon": 31,
          "Name": "fiat x1.9",
          "Origin": "Europe",
          "Weight_in_lbs": 2000,
          "Year": "1974-01-01T00:00:00"
         },
         {
          "Acceleration": 16,
          "Cylinders": 6,
          "Displacement": 225,
          "Horsepower": 95,
          "Miles_per_Gallon": 19,
          "Name": "plymouth valiant custom",
          "Origin": "USA",
          "Weight_in_lbs": 3264,
          "Year": "1975-01-01T00:00:00"
         },
         {
          "Acceleration": 16,
          "Cylinders": 6,
          "Displacement": 250,
          "Horsepower": 105,
          "Miles_per_Gallon": 18,
          "Name": "chevrolet nova",
          "Origin": "USA",
          "Weight_in_lbs": 3459,
          "Year": "1975-01-01T00:00:00"
         },
         {
          "Acceleration": 21,
          "Cylinders": 6,
          "Displacement": 250,
          "Horsepower": 72,
          "Miles_per_Gallon": 15,
          "Name": "mercury monarch",
          "Origin": "USA",
          "Weight_in_lbs": 3432,
          "Year": "1975-01-01T00:00:00"
         },
         {
          "Acceleration": 19.5,
          "Cylinders": 6,
          "Displacement": 250,
          "Horsepower": 72,
          "Miles_per_Gallon": 15,
          "Name": "ford maverick",
          "Origin": "USA",
          "Weight_in_lbs": 3158,
          "Year": "1975-01-01T00:00:00"
         },
         {
          "Acceleration": 11.5,
          "Cylinders": 8,
          "Displacement": 400,
          "Horsepower": 170,
          "Miles_per_Gallon": 16,
          "Name": "pontiac catalina",
          "Origin": "USA",
          "Weight_in_lbs": 4668,
          "Year": "1975-01-01T00:00:00"
         },
         {
          "Acceleration": 14,
          "Cylinders": 8,
          "Displacement": 350,
          "Horsepower": 145,
          "Miles_per_Gallon": 15,
          "Name": "chevrolet bel air",
          "Origin": "USA",
          "Weight_in_lbs": 4440,
          "Year": "1975-01-01T00:00:00"
         },
         {
          "Acceleration": 14.5,
          "Cylinders": 8,
          "Displacement": 318,
          "Horsepower": 150,
          "Miles_per_Gallon": 16,
          "Name": "plymouth grand fury",
          "Origin": "USA",
          "Weight_in_lbs": 4498,
          "Year": "1975-01-01T00:00:00"
         },
         {
          "Acceleration": 13.5,
          "Cylinders": 8,
          "Displacement": 351,
          "Horsepower": 148,
          "Miles_per_Gallon": 14,
          "Name": "ford ltd",
          "Origin": "USA",
          "Weight_in_lbs": 4657,
          "Year": "1975-01-01T00:00:00"
         },
         {
          "Acceleration": 21,
          "Cylinders": 6,
          "Displacement": 231,
          "Horsepower": 110,
          "Miles_per_Gallon": 17,
          "Name": "buick century",
          "Origin": "USA",
          "Weight_in_lbs": 3907,
          "Year": "1975-01-01T00:00:00"
         },
         {
          "Acceleration": 18.5,
          "Cylinders": 6,
          "Displacement": 250,
          "Horsepower": 105,
          "Miles_per_Gallon": 16,
          "Name": "chevroelt chevelle malibu",
          "Origin": "USA",
          "Weight_in_lbs": 3897,
          "Year": "1975-01-01T00:00:00"
         },
         {
          "Acceleration": 19,
          "Cylinders": 6,
          "Displacement": 258,
          "Horsepower": 110,
          "Miles_per_Gallon": 15,
          "Name": "amc matador",
          "Origin": "USA",
          "Weight_in_lbs": 3730,
          "Year": "1975-01-01T00:00:00"
         },
         {
          "Acceleration": 19,
          "Cylinders": 6,
          "Displacement": 225,
          "Horsepower": 95,
          "Miles_per_Gallon": 18,
          "Name": "plymouth fury",
          "Origin": "USA",
          "Weight_in_lbs": 3785,
          "Year": "1975-01-01T00:00:00"
         },
         {
          "Acceleration": 15,
          "Cylinders": 6,
          "Displacement": 231,
          "Horsepower": 110,
          "Miles_per_Gallon": 21,
          "Name": "buick skyhawk",
          "Origin": "USA",
          "Weight_in_lbs": 3039,
          "Year": "1975-01-01T00:00:00"
         },
         {
          "Acceleration": 13.5,
          "Cylinders": 8,
          "Displacement": 262,
          "Horsepower": 110,
          "Miles_per_Gallon": 20,
          "Name": "chevrolet monza 2+2",
          "Origin": "USA",
          "Weight_in_lbs": 3221,
          "Year": "1975-01-01T00:00:00"
         },
         {
          "Acceleration": 12,
          "Cylinders": 8,
          "Displacement": 302,
          "Horsepower": 129,
          "Miles_per_Gallon": 13,
          "Name": "ford mustang ii",
          "Origin": "USA",
          "Weight_in_lbs": 3169,
          "Year": "1975-01-01T00:00:00"
         },
         {
          "Acceleration": 16,
          "Cylinders": 4,
          "Displacement": 97,
          "Horsepower": 75,
          "Miles_per_Gallon": 29,
          "Name": "toyota corolla",
          "Origin": "Japan",
          "Weight_in_lbs": 2171,
          "Year": "1975-01-01T00:00:00"
         },
         {
          "Acceleration": 17,
          "Cylinders": 4,
          "Displacement": 140,
          "Horsepower": 83,
          "Miles_per_Gallon": 23,
          "Name": "ford pinto",
          "Origin": "USA",
          "Weight_in_lbs": 2639,
          "Year": "1975-01-01T00:00:00"
         },
         {
          "Acceleration": 16,
          "Cylinders": 6,
          "Displacement": 232,
          "Horsepower": 100,
          "Miles_per_Gallon": 20,
          "Name": "amc gremlin",
          "Origin": "USA",
          "Weight_in_lbs": 2914,
          "Year": "1975-01-01T00:00:00"
         },
         {
          "Acceleration": 18.5,
          "Cylinders": 4,
          "Displacement": 140,
          "Horsepower": 78,
          "Miles_per_Gallon": 23,
          "Name": "pontiac astro",
          "Origin": "USA",
          "Weight_in_lbs": 2592,
          "Year": "1975-01-01T00:00:00"
         },
         {
          "Acceleration": 13.5,
          "Cylinders": 4,
          "Displacement": 134,
          "Horsepower": 96,
          "Miles_per_Gallon": 24,
          "Name": "toyota corona",
          "Origin": "Japan",
          "Weight_in_lbs": 2702,
          "Year": "1975-01-01T00:00:00"
         },
         {
          "Acceleration": 16.5,
          "Cylinders": 4,
          "Displacement": 90,
          "Horsepower": 71,
          "Miles_per_Gallon": 25,
          "Name": "volkswagen dasher",
          "Origin": "Europe",
          "Weight_in_lbs": 2223,
          "Year": "1975-01-01T00:00:00"
         },
         {
          "Acceleration": 17,
          "Cylinders": 4,
          "Displacement": 119,
          "Horsepower": 97,
          "Miles_per_Gallon": 24,
          "Name": "datsun 710",
          "Origin": "Japan",
          "Weight_in_lbs": 2545,
          "Year": "1975-01-01T00:00:00"
         },
         {
          "Acceleration": 14.5,
          "Cylinders": 6,
          "Displacement": 171,
          "Horsepower": 97,
          "Miles_per_Gallon": 18,
          "Name": "ford pinto",
          "Origin": "USA",
          "Weight_in_lbs": 2984,
          "Year": "1975-01-01T00:00:00"
         },
         {
          "Acceleration": 14,
          "Cylinders": 4,
          "Displacement": 90,
          "Horsepower": 70,
          "Miles_per_Gallon": 29,
          "Name": "volkswagen rabbit",
          "Origin": "Europe",
          "Weight_in_lbs": 1937,
          "Year": "1975-01-01T00:00:00"
         },
         {
          "Acceleration": 17,
          "Cylinders": 6,
          "Displacement": 232,
          "Horsepower": 90,
          "Miles_per_Gallon": 19,
          "Name": "amc pacer",
          "Origin": "USA",
          "Weight_in_lbs": 3211,
          "Year": "1975-01-01T00:00:00"
         },
         {
          "Acceleration": 15,
          "Cylinders": 4,
          "Displacement": 115,
          "Horsepower": 95,
          "Miles_per_Gallon": 23,
          "Name": "audi 100ls",
          "Origin": "Europe",
          "Weight_in_lbs": 2694,
          "Year": "1975-01-01T00:00:00"
         },
         {
          "Acceleration": 17,
          "Cylinders": 4,
          "Displacement": 120,
          "Horsepower": 88,
          "Miles_per_Gallon": 23,
          "Name": "peugeot 504",
          "Origin": "Europe",
          "Weight_in_lbs": 2957,
          "Year": "1975-01-01T00:00:00"
         },
         {
          "Acceleration": 14.5,
          "Cylinders": 4,
          "Displacement": 121,
          "Horsepower": 98,
          "Miles_per_Gallon": 22,
          "Name": "volvo 244dl",
          "Origin": "Europe",
          "Weight_in_lbs": 2945,
          "Year": "1975-01-01T00:00:00"
         },
         {
          "Acceleration": 13.5,
          "Cylinders": 4,
          "Displacement": 121,
          "Horsepower": 115,
          "Miles_per_Gallon": 25,
          "Name": "saab 99le",
          "Origin": "Europe",
          "Weight_in_lbs": 2671,
          "Year": "1975-01-01T00:00:00"
         },
         {
          "Acceleration": 17.5,
          "Cylinders": 4,
          "Displacement": 91,
          "Horsepower": 53,
          "Miles_per_Gallon": 33,
          "Name": "honda civic cvcc",
          "Origin": "Japan",
          "Weight_in_lbs": 1795,
          "Year": "1975-01-01T00:00:00"
         },
         {
          "Acceleration": 15.5,
          "Cylinders": 4,
          "Displacement": 107,
          "Horsepower": 86,
          "Miles_per_Gallon": 28,
          "Name": "fiat 131",
          "Origin": "Europe",
          "Weight_in_lbs": 2464,
          "Year": "1976-01-01T00:00:00"
         },
         {
          "Acceleration": 16.9,
          "Cylinders": 4,
          "Displacement": 116,
          "Horsepower": 81,
          "Miles_per_Gallon": 25,
          "Name": "opel 1900",
          "Origin": "Europe",
          "Weight_in_lbs": 2220,
          "Year": "1976-01-01T00:00:00"
         },
         {
          "Acceleration": 14.9,
          "Cylinders": 4,
          "Displacement": 140,
          "Horsepower": 92,
          "Miles_per_Gallon": 25,
          "Name": "capri ii",
          "Origin": "USA",
          "Weight_in_lbs": 2572,
          "Year": "1976-01-01T00:00:00"
         },
         {
          "Acceleration": 17.7,
          "Cylinders": 4,
          "Displacement": 98,
          "Horsepower": 79,
          "Miles_per_Gallon": 26,
          "Name": "dodge colt",
          "Origin": "USA",
          "Weight_in_lbs": 2255,
          "Year": "1976-01-01T00:00:00"
         },
         {
          "Acceleration": 15.3,
          "Cylinders": 4,
          "Displacement": 101,
          "Horsepower": 83,
          "Miles_per_Gallon": 27,
          "Name": "renault 12tl",
          "Origin": "Europe",
          "Weight_in_lbs": 2202,
          "Year": "1976-01-01T00:00:00"
         },
         {
          "Acceleration": 13,
          "Cylinders": 8,
          "Displacement": 305,
          "Horsepower": 140,
          "Miles_per_Gallon": 17.5,
          "Name": "chevrolet chevelle malibu classic",
          "Origin": "USA",
          "Weight_in_lbs": 4215,
          "Year": "1976-01-01T00:00:00"
         },
         {
          "Acceleration": 13,
          "Cylinders": 8,
          "Displacement": 318,
          "Horsepower": 150,
          "Miles_per_Gallon": 16,
          "Name": "dodge coronet brougham",
          "Origin": "USA",
          "Weight_in_lbs": 4190,
          "Year": "1976-01-01T00:00:00"
         },
         {
          "Acceleration": 13.9,
          "Cylinders": 8,
          "Displacement": 304,
          "Horsepower": 120,
          "Miles_per_Gallon": 15.5,
          "Name": "amc matador",
          "Origin": "USA",
          "Weight_in_lbs": 3962,
          "Year": "1976-01-01T00:00:00"
         },
         {
          "Acceleration": 12.8,
          "Cylinders": 8,
          "Displacement": 351,
          "Horsepower": 152,
          "Miles_per_Gallon": 14.5,
          "Name": "ford gran torino",
          "Origin": "USA",
          "Weight_in_lbs": 4215,
          "Year": "1976-01-01T00:00:00"
         },
         {
          "Acceleration": 15.4,
          "Cylinders": 6,
          "Displacement": 225,
          "Horsepower": 100,
          "Miles_per_Gallon": 22,
          "Name": "plymouth valiant",
          "Origin": "USA",
          "Weight_in_lbs": 3233,
          "Year": "1976-01-01T00:00:00"
         },
         {
          "Acceleration": 14.5,
          "Cylinders": 6,
          "Displacement": 250,
          "Horsepower": 105,
          "Miles_per_Gallon": 22,
          "Name": "chevrolet nova",
          "Origin": "USA",
          "Weight_in_lbs": 3353,
          "Year": "1976-01-01T00:00:00"
         },
         {
          "Acceleration": 17.6,
          "Cylinders": 6,
          "Displacement": 200,
          "Horsepower": 81,
          "Miles_per_Gallon": 24,
          "Name": "ford maverick",
          "Origin": "USA",
          "Weight_in_lbs": 3012,
          "Year": "1976-01-01T00:00:00"
         },
         {
          "Acceleration": 17.6,
          "Cylinders": 6,
          "Displacement": 232,
          "Horsepower": 90,
          "Miles_per_Gallon": 22.5,
          "Name": "amc hornet",
          "Origin": "USA",
          "Weight_in_lbs": 3085,
          "Year": "1976-01-01T00:00:00"
         },
         {
          "Acceleration": 22.2,
          "Cylinders": 4,
          "Displacement": 85,
          "Horsepower": 52,
          "Miles_per_Gallon": 29,
          "Name": "chevrolet chevette",
          "Origin": "USA",
          "Weight_in_lbs": 2035,
          "Year": "1976-01-01T00:00:00"
         },
         {
          "Acceleration": 22.1,
          "Cylinders": 4,
          "Displacement": 98,
          "Horsepower": 60,
          "Miles_per_Gallon": 24.5,
          "Name": "chevrolet woody",
          "Origin": "USA",
          "Weight_in_lbs": 2164,
          "Year": "1976-01-01T00:00:00"
         },
         {
          "Acceleration": 14.2,
          "Cylinders": 4,
          "Displacement": 90,
          "Horsepower": 70,
          "Miles_per_Gallon": 29,
          "Name": "vw rabbit",
          "Origin": "Europe",
          "Weight_in_lbs": 1937,
          "Year": "1976-01-01T00:00:00"
         },
         {
          "Acceleration": 17.4,
          "Cylinders": 4,
          "Displacement": 91,
          "Horsepower": 53,
          "Miles_per_Gallon": 33,
          "Name": "honda civic",
          "Origin": "Japan",
          "Weight_in_lbs": 1795,
          "Year": "1976-01-01T00:00:00"
         },
         {
          "Acceleration": 17.7,
          "Cylinders": 6,
          "Displacement": 225,
          "Horsepower": 100,
          "Miles_per_Gallon": 20,
          "Name": "dodge aspen se",
          "Origin": "USA",
          "Weight_in_lbs": 3651,
          "Year": "1976-01-01T00:00:00"
         },
         {
          "Acceleration": 21,
          "Cylinders": 6,
          "Displacement": 250,
          "Horsepower": 78,
          "Miles_per_Gallon": 18,
          "Name": "ford granada ghia",
          "Origin": "USA",
          "Weight_in_lbs": 3574,
          "Year": "1976-01-01T00:00:00"
         },
         {
          "Acceleration": 16.2,
          "Cylinders": 6,
          "Displacement": 250,
          "Horsepower": 110,
          "Miles_per_Gallon": 18.5,
          "Name": "pontiac ventura sj",
          "Origin": "USA",
          "Weight_in_lbs": 3645,
          "Year": "1976-01-01T00:00:00"
         },
         {
          "Acceleration": 17.8,
          "Cylinders": 6,
          "Displacement": 258,
          "Horsepower": 95,
          "Miles_per_Gallon": 17.5,
          "Name": "amc pacer d/l",
          "Origin": "USA",
          "Weight_in_lbs": 3193,
          "Year": "1976-01-01T00:00:00"
         },
         {
          "Acceleration": 12.2,
          "Cylinders": 4,
          "Displacement": 97,
          "Horsepower": 71,
          "Miles_per_Gallon": 29.5,
          "Name": "volkswagen rabbit",
          "Origin": "Europe",
          "Weight_in_lbs": 1825,
          "Year": "1976-01-01T00:00:00"
         },
         {
          "Acceleration": 17,
          "Cylinders": 4,
          "Displacement": 85,
          "Horsepower": 70,
          "Miles_per_Gallon": 32,
          "Name": "datsun b-210",
          "Origin": "Japan",
          "Weight_in_lbs": 1990,
          "Year": "1976-01-01T00:00:00"
         },
         {
          "Acceleration": 16.4,
          "Cylinders": 4,
          "Displacement": 97,
          "Horsepower": 75,
          "Miles_per_Gallon": 28,
          "Name": "toyota corolla",
          "Origin": "Japan",
          "Weight_in_lbs": 2155,
          "Year": "1976-01-01T00:00:00"
         },
         {
          "Acceleration": 13.6,
          "Cylinders": 4,
          "Displacement": 140,
          "Horsepower": 72,
          "Miles_per_Gallon": 26.5,
          "Name": "ford pinto",
          "Origin": "USA",
          "Weight_in_lbs": 2565,
          "Year": "1976-01-01T00:00:00"
         },
         {
          "Acceleration": 15.7,
          "Cylinders": 4,
          "Displacement": 130,
          "Horsepower": 102,
          "Miles_per_Gallon": 20,
          "Name": "volvo 245",
          "Origin": "Europe",
          "Weight_in_lbs": 3150,
          "Year": "1976-01-01T00:00:00"
         },
         {
          "Acceleration": 13.2,
          "Cylinders": 8,
          "Displacement": 318,
          "Horsepower": 150,
          "Miles_per_Gallon": 13,
          "Name": "plymouth volare premier v8",
          "Origin": "USA",
          "Weight_in_lbs": 3940,
          "Year": "1976-01-01T00:00:00"
         },
         {
          "Acceleration": 21.9,
          "Cylinders": 4,
          "Displacement": 120,
          "Horsepower": 88,
          "Miles_per_Gallon": 19,
          "Name": "peugeot 504",
          "Origin": "Europe",
          "Weight_in_lbs": 3270,
          "Year": "1976-01-01T00:00:00"
         },
         {
          "Acceleration": 15.5,
          "Cylinders": 6,
          "Displacement": 156,
          "Horsepower": 108,
          "Miles_per_Gallon": 19,
          "Name": "toyota mark ii",
          "Origin": "Japan",
          "Weight_in_lbs": 2930,
          "Year": "1976-01-01T00:00:00"
         },
         {
          "Acceleration": 16.7,
          "Cylinders": 6,
          "Displacement": 168,
          "Horsepower": 120,
          "Miles_per_Gallon": 16.5,
          "Name": "mercedes-benz 280s",
          "Origin": "Europe",
          "Weight_in_lbs": 3820,
          "Year": "1976-01-01T00:00:00"
         },
         {
          "Acceleration": 12.1,
          "Cylinders": 8,
          "Displacement": 350,
          "Horsepower": 180,
          "Miles_per_Gallon": 16.5,
          "Name": "cadillac seville",
          "Origin": "USA",
          "Weight_in_lbs": 4380,
          "Year": "1976-01-01T00:00:00"
         },
         {
          "Acceleration": 12,
          "Cylinders": 8,
          "Displacement": 350,
          "Horsepower": 145,
          "Miles_per_Gallon": 13,
          "Name": "chevy c10",
          "Origin": "USA",
          "Weight_in_lbs": 4055,
          "Year": "1976-01-01T00:00:00"
         },
         {
          "Acceleration": 15,
          "Cylinders": 8,
          "Displacement": 302,
          "Horsepower": 130,
          "Miles_per_Gallon": 13,
          "Name": "ford f108",
          "Origin": "USA",
          "Weight_in_lbs": 3870,
          "Year": "1976-01-01T00:00:00"
         },
         {
          "Acceleration": 14,
          "Cylinders": 8,
          "Displacement": 318,
          "Horsepower": 150,
          "Miles_per_Gallon": 13,
          "Name": "dodge d100",
          "Origin": "USA",
          "Weight_in_lbs": 3755,
          "Year": "1976-01-01T00:00:00"
         },
         {
          "Acceleration": 18.5,
          "Cylinders": 4,
          "Displacement": 98,
          "Horsepower": 68,
          "Miles_per_Gallon": 31.5,
          "Name": "honda Accelerationord cvcc",
          "Origin": "Japan",
          "Weight_in_lbs": 2045,
          "Year": "1977-01-01T00:00:00"
         },
         {
          "Acceleration": 14.8,
          "Cylinders": 4,
          "Displacement": 111,
          "Horsepower": 80,
          "Miles_per_Gallon": 30,
          "Name": "buick opel isuzu deluxe",
          "Origin": "USA",
          "Weight_in_lbs": 2155,
          "Year": "1977-01-01T00:00:00"
         },
         {
          "Acceleration": 18.6,
          "Cylinders": 4,
          "Displacement": 79,
          "Horsepower": 58,
          "Miles_per_Gallon": 36,
          "Name": "renault 5 gtl",
          "Origin": "Europe",
          "Weight_in_lbs": 1825,
          "Year": "1977-01-01T00:00:00"
         },
         {
          "Acceleration": 15.5,
          "Cylinders": 4,
          "Displacement": 122,
          "Horsepower": 96,
          "Miles_per_Gallon": 25.5,
          "Name": "plymouth arrow gs",
          "Origin": "USA",
          "Weight_in_lbs": 2300,
          "Year": "1977-01-01T00:00:00"
         },
         {
          "Acceleration": 16.8,
          "Cylinders": 4,
          "Displacement": 85,
          "Horsepower": 70,
          "Miles_per_Gallon": 33.5,
          "Name": "datsun f-10 hatchback",
          "Origin": "Japan",
          "Weight_in_lbs": 1945,
          "Year": "1977-01-01T00:00:00"
         },
         {
          "Acceleration": 12.5,
          "Cylinders": 8,
          "Displacement": 305,
          "Horsepower": 145,
          "Miles_per_Gallon": 17.5,
          "Name": "chevrolet caprice classic",
          "Origin": "USA",
          "Weight_in_lbs": 3880,
          "Year": "1977-01-01T00:00:00"
         },
         {
          "Acceleration": 19,
          "Cylinders": 8,
          "Displacement": 260,
          "Horsepower": 110,
          "Miles_per_Gallon": 17,
          "Name": "oldsmobile cutlass supreme",
          "Origin": "USA",
          "Weight_in_lbs": 4060,
          "Year": "1977-01-01T00:00:00"
         },
         {
          "Acceleration": 13.7,
          "Cylinders": 8,
          "Displacement": 318,
          "Horsepower": 145,
          "Miles_per_Gallon": 15.5,
          "Name": "dodge monaco brougham",
          "Origin": "USA",
          "Weight_in_lbs": 4140,
          "Year": "1977-01-01T00:00:00"
         },
         {
          "Acceleration": 14.9,
          "Cylinders": 8,
          "Displacement": 302,
          "Horsepower": 130,
          "Miles_per_Gallon": 15,
          "Name": "mercury cougar brougham",
          "Origin": "USA",
          "Weight_in_lbs": 4295,
          "Year": "1977-01-01T00:00:00"
         },
         {
          "Acceleration": 16.4,
          "Cylinders": 6,
          "Displacement": 250,
          "Horsepower": 110,
          "Miles_per_Gallon": 17.5,
          "Name": "chevrolet concours",
          "Origin": "USA",
          "Weight_in_lbs": 3520,
          "Year": "1977-01-01T00:00:00"
         },
         {
          "Acceleration": 16.9,
          "Cylinders": 6,
          "Displacement": 231,
          "Horsepower": 105,
          "Miles_per_Gallon": 20.5,
          "Name": "buick skylark",
          "Origin": "USA",
          "Weight_in_lbs": 3425,
          "Year": "1977-01-01T00:00:00"
         },
         {
          "Acceleration": 17.7,
          "Cylinders": 6,
          "Displacement": 225,
          "Horsepower": 100,
          "Miles_per_Gallon": 19,
          "Name": "plymouth volare custom",
          "Origin": "USA",
          "Weight_in_lbs": 3630,
          "Year": "1977-01-01T00:00:00"
         },
         {
          "Acceleration": 19,
          "Cylinders": 6,
          "Displacement": 250,
          "Horsepower": 98,
          "Miles_per_Gallon": 18.5,
          "Name": "ford granada",
          "Origin": "USA",
          "Weight_in_lbs": 3525,
          "Year": "1977-01-01T00:00:00"
         },
         {
          "Acceleration": 11.1,
          "Cylinders": 8,
          "Displacement": 400,
          "Horsepower": 180,
          "Miles_per_Gallon": 16,
          "Name": "pontiac grand prix lj",
          "Origin": "USA",
          "Weight_in_lbs": 4220,
          "Year": "1977-01-01T00:00:00"
         },
         {
          "Acceleration": 11.4,
          "Cylinders": 8,
          "Displacement": 350,
          "Horsepower": 170,
          "Miles_per_Gallon": 15.5,
          "Name": "chevrolet monte carlo landau",
          "Origin": "USA",
          "Weight_in_lbs": 4165,
          "Year": "1977-01-01T00:00:00"
         },
         {
          "Acceleration": 12.2,
          "Cylinders": 8,
          "Displacement": 400,
          "Horsepower": 190,
          "Miles_per_Gallon": 15.5,
          "Name": "chrysler cordoba",
          "Origin": "USA",
          "Weight_in_lbs": 4325,
          "Year": "1977-01-01T00:00:00"
         },
         {
          "Acceleration": 14.5,
          "Cylinders": 8,
          "Displacement": 351,
          "Horsepower": 149,
          "Miles_per_Gallon": 16,
          "Name": "ford thunderbird",
          "Origin": "USA",
          "Weight_in_lbs": 4335,
          "Year": "1977-01-01T00:00:00"
         },
         {
          "Acceleration": 14.5,
          "Cylinders": 4,
          "Displacement": 97,
          "Horsepower": 78,
          "Miles_per_Gallon": 29,
          "Name": "volkswagen rabbit custom",
          "Origin": "Europe",
          "Weight_in_lbs": 1940,
          "Year": "1977-01-01T00:00:00"
         },
         {
          "Acceleration": 16,
          "Cylinders": 4,
          "Displacement": 151,
          "Horsepower": 88,
          "Miles_per_Gallon": 24.5,
          "Name": "pontiac sunbird coupe",
          "Origin": "USA",
          "Weight_in_lbs": 2740,
          "Year": "1977-01-01T00:00:00"
         },
         {
          "Acceleration": 18.2,
          "Cylinders": 4,
          "Displacement": 97,
          "Horsepower": 75,
          "Miles_per_Gallon": 26,
          "Name": "toyota corolla liftback",
          "Origin": "Japan",
          "Weight_in_lbs": 2265,
          "Year": "1977-01-01T00:00:00"
         },
         {
          "Acceleration": 15.8,
          "Cylinders": 4,
          "Displacement": 140,
          "Horsepower": 89,
          "Miles_per_Gallon": 25.5,
          "Name": "ford mustang ii 2+2",
          "Origin": "USA",
          "Weight_in_lbs": 2755,
          "Year": "1977-01-01T00:00:00"
         },
         {
          "Acceleration": 17,
          "Cylinders": 4,
          "Displacement": 98,
          "Horsepower": 63,
          "Miles_per_Gallon": 30.5,
          "Name": "chevrolet chevette",
          "Origin": "USA",
          "Weight_in_lbs": 2051,
          "Year": "1977-01-01T00:00:00"
         },
         {
          "Acceleration": 15.9,
          "Cylinders": 4,
          "Displacement": 98,
          "Horsepower": 83,
          "Miles_per_Gallon": 33.5,
          "Name": "dodge colt m/m",
          "Origin": "USA",
          "Weight_in_lbs": 2075,
          "Year": "1977-01-01T00:00:00"
         },
         {
          "Acceleration": 16.4,
          "Cylinders": 4,
          "Displacement": 97,
          "Horsepower": 67,
          "Miles_per_Gallon": 30,
          "Name": "subaru dl",
          "Origin": "Japan",
          "Weight_in_lbs": 1985,
          "Year": "1977-01-01T00:00:00"
         },
         {
          "Acceleration": 14.1,
          "Cylinders": 4,
          "Displacement": 97,
          "Horsepower": 78,
          "Miles_per_Gallon": 30.5,
          "Name": "volkswagen dasher",
          "Origin": "Europe",
          "Weight_in_lbs": 2190,
          "Year": "1977-01-01T00:00:00"
         },
         {
          "Acceleration": 14.5,
          "Cylinders": 6,
          "Displacement": 146,
          "Horsepower": 97,
          "Miles_per_Gallon": 22,
          "Name": "datsun 810",
          "Origin": "Japan",
          "Weight_in_lbs": 2815,
          "Year": "1977-01-01T00:00:00"
         },
         {
          "Acceleration": 12.8,
          "Cylinders": 4,
          "Displacement": 121,
          "Horsepower": 110,
          "Miles_per_Gallon": 21.5,
          "Name": "bmw 320i",
          "Origin": "Europe",
          "Weight_in_lbs": 2600,
          "Year": "1977-01-01T00:00:00"
         },
         {
          "Acceleration": 13.5,
          "Cylinders": 3,
          "Displacement": 80,
          "Horsepower": 110,
          "Miles_per_Gallon": 21.5,
          "Name": "mazda rx-4",
          "Origin": "Japan",
          "Weight_in_lbs": 2720,
          "Year": "1977-01-01T00:00:00"
         },
         {
          "Acceleration": 21.5,
          "Cylinders": 4,
          "Displacement": 90,
          "Horsepower": 48,
          "Miles_per_Gallon": 43.1,
          "Name": "volkswagen rabbit custom diesel",
          "Origin": "Europe",
          "Weight_in_lbs": 1985,
          "Year": "1978-01-01T00:00:00"
         },
         {
          "Acceleration": 14.4,
          "Cylinders": 4,
          "Displacement": 98,
          "Horsepower": 66,
          "Miles_per_Gallon": 36.1,
          "Name": "ford fiesta",
          "Origin": "USA",
          "Weight_in_lbs": 1800,
          "Year": "1978-01-01T00:00:00"
         },
         {
          "Acceleration": 19.4,
          "Cylinders": 4,
          "Displacement": 78,
          "Horsepower": 52,
          "Miles_per_Gallon": 32.8,
          "Name": "mazda glc deluxe",
          "Origin": "Japan",
          "Weight_in_lbs": 1985,
          "Year": "1978-01-01T00:00:00"
         },
         {
          "Acceleration": 18.6,
          "Cylinders": 4,
          "Displacement": 85,
          "Horsepower": 70,
          "Miles_per_Gallon": 39.4,
          "Name": "datsun b210 gx",
          "Origin": "Japan",
          "Weight_in_lbs": 2070,
          "Year": "1978-01-01T00:00:00"
         },
         {
          "Acceleration": 16.4,
          "Cylinders": 4,
          "Displacement": 91,
          "Horsepower": 60,
          "Miles_per_Gallon": 36.1,
          "Name": "honda civic cvcc",
          "Origin": "Japan",
          "Weight_in_lbs": 1800,
          "Year": "1978-01-01T00:00:00"
         },
         {
          "Acceleration": 15.5,
          "Cylinders": 8,
          "Displacement": 260,
          "Horsepower": 110,
          "Miles_per_Gallon": 19.9,
          "Name": "oldsmobile cutlass salon brougham",
          "Origin": "USA",
          "Weight_in_lbs": 3365,
          "Year": "1978-01-01T00:00:00"
         },
         {
          "Acceleration": 13.2,
          "Cylinders": 8,
          "Displacement": 318,
          "Horsepower": 140,
          "Miles_per_Gallon": 19.4,
          "Name": "dodge diplomat",
          "Origin": "USA",
          "Weight_in_lbs": 3735,
          "Year": "1978-01-01T00:00:00"
         },
         {
          "Acceleration": 12.8,
          "Cylinders": 8,
          "Displacement": 302,
          "Horsepower": 139,
          "Miles_per_Gallon": 20.2,
          "Name": "mercury monarch ghia",
          "Origin": "USA",
          "Weight_in_lbs": 3570,
          "Year": "1978-01-01T00:00:00"
         },
         {
          "Acceleration": 19.2,
          "Cylinders": 6,
          "Displacement": 231,
          "Horsepower": 105,
          "Miles_per_Gallon": 19.2,
          "Name": "pontiac phoenix lj",
          "Origin": "USA",
          "Weight_in_lbs": 3535,
          "Year": "1978-01-01T00:00:00"
         },
         {
          "Acceleration": 18.2,
          "Cylinders": 6,
          "Displacement": 200,
          "Horsepower": 95,
          "Miles_per_Gallon": 20.5,
          "Name": "chevrolet malibu",
          "Origin": "USA",
          "Weight_in_lbs": 3155,
          "Year": "1978-01-01T00:00:00"
         },
         {
          "Acceleration": 15.8,
          "Cylinders": 6,
          "Displacement": 200,
          "Horsepower": 85,
          "Miles_per_Gallon": 20.2,
          "Name": "ford fairmont (auto)",
          "Origin": "USA",
          "Weight_in_lbs": 2965,
          "Year": "1978-01-01T00:00:00"
         },
         {
          "Acceleration": 15.4,
          "Cylinders": 4,
          "Displacement": 140,
          "Horsepower": 88,
          "Miles_per_Gallon": 25.1,
          "Name": "ford fairmont (man)",
          "Origin": "USA",
          "Weight_in_lbs": 2720,
          "Year": "1978-01-01T00:00:00"
         },
         {
          "Acceleration": 17.2,
          "Cylinders": 6,
          "Displacement": 225,
          "Horsepower": 100,
          "Miles_per_Gallon": 20.5,
          "Name": "plymouth volare",
          "Origin": "USA",
          "Weight_in_lbs": 3430,
          "Year": "1978-01-01T00:00:00"
         },
         {
          "Acceleration": 17.2,
          "Cylinders": 6,
          "Displacement": 232,
          "Horsepower": 90,
          "Miles_per_Gallon": 19.4,
          "Name": "amc concord",
          "Origin": "USA",
          "Weight_in_lbs": 3210,
          "Year": "1978-01-01T00:00:00"
         },
         {
          "Acceleration": 15.8,
          "Cylinders": 6,
          "Displacement": 231,
          "Horsepower": 105,
          "Miles_per_Gallon": 20.6,
          "Name": "buick century special",
          "Origin": "USA",
          "Weight_in_lbs": 3380,
          "Year": "1978-01-01T00:00:00"
         },
         {
          "Acceleration": 16.7,
          "Cylinders": 6,
          "Displacement": 200,
          "Horsepower": 85,
          "Miles_per_Gallon": 20.8,
          "Name": "mercury zephyr",
          "Origin": "USA",
          "Weight_in_lbs": 3070,
          "Year": "1978-01-01T00:00:00"
         },
         {
          "Acceleration": 18.7,
          "Cylinders": 6,
          "Displacement": 225,
          "Horsepower": 110,
          "Miles_per_Gallon": 18.6,
          "Name": "dodge aspen",
          "Origin": "USA",
          "Weight_in_lbs": 3620,
          "Year": "1978-01-01T00:00:00"
         },
         {
          "Acceleration": 15.1,
          "Cylinders": 6,
          "Displacement": 258,
          "Horsepower": 120,
          "Miles_per_Gallon": 18.1,
          "Name": "amc concord d/l",
          "Origin": "USA",
          "Weight_in_lbs": 3410,
          "Year": "1978-01-01T00:00:00"
         },
         {
          "Acceleration": 13.2,
          "Cylinders": 8,
          "Displacement": 305,
          "Horsepower": 145,
          "Miles_per_Gallon": 19.2,
          "Name": "chevrolet monte carlo landau",
          "Origin": "USA",
          "Weight_in_lbs": 3425,
          "Year": "1978-01-01T00:00:00"
         },
         {
          "Acceleration": 13.4,
          "Cylinders": 6,
          "Displacement": 231,
          "Horsepower": 165,
          "Miles_per_Gallon": 17.7,
          "Name": "buick regal sport coupe (turbo)",
          "Origin": "USA",
          "Weight_in_lbs": 3445,
          "Year": "1978-01-01T00:00:00"
         },
         {
          "Acceleration": 11.2,
          "Cylinders": 8,
          "Displacement": 302,
          "Horsepower": 139,
          "Miles_per_Gallon": 18.1,
          "Name": "ford futura",
          "Origin": "USA",
          "Weight_in_lbs": 3205,
          "Year": "1978-01-01T00:00:00"
         },
         {
          "Acceleration": 13.7,
          "Cylinders": 8,
          "Displacement": 318,
          "Horsepower": 140,
          "Miles_per_Gallon": 17.5,
          "Name": "dodge magnum xe",
          "Origin": "USA",
          "Weight_in_lbs": 4080,
          "Year": "1978-01-01T00:00:00"
         },
         {
          "Acceleration": 16.5,
          "Cylinders": 4,
          "Displacement": 98,
          "Horsepower": 68,
          "Miles_per_Gallon": 30,
          "Name": "chevrolet chevette",
          "Origin": "USA",
          "Weight_in_lbs": 2155,
          "Year": "1978-01-01T00:00:00"
         },
         {
          "Acceleration": 14.2,
          "Cylinders": 4,
          "Displacement": 134,
          "Horsepower": 95,
          "Miles_per_Gallon": 27.5,
          "Name": "toyota corona",
          "Origin": "Japan",
          "Weight_in_lbs": 2560,
          "Year": "1978-01-01T00:00:00"
         },
         {
          "Acceleration": 14.7,
          "Cylinders": 4,
          "Displacement": 119,
          "Horsepower": 97,
          "Miles_per_Gallon": 27.2,
          "Name": "datsun 510",
          "Origin": "Japan",
          "Weight_in_lbs": 2300,
          "Year": "1978-01-01T00:00:00"
         },
         {
          "Acceleration": 14.5,
          "Cylinders": 4,
          "Displacement": 105,
          "Horsepower": 75,
          "Miles_per_Gallon": 30.9,
          "Name": "dodge omni",
          "Origin": "USA",
          "Weight_in_lbs": 2230,
          "Year": "1978-01-01T00:00:00"
         },
         {
          "Acceleration": 14.8,
          "Cylinders": 4,
          "Displacement": 134,
          "Horsepower": 95,
          "Miles_per_Gallon": 21.1,
          "Name": "toyota celica gt liftback",
          "Origin": "Japan",
          "Weight_in_lbs": 2515,
          "Year": "1978-01-01T00:00:00"
         },
         {
          "Acceleration": 16.7,
          "Cylinders": 4,
          "Displacement": 156,
          "Horsepower": 105,
          "Miles_per_Gallon": 23.2,
          "Name": "plymouth sapporo",
          "Origin": "USA",
          "Weight_in_lbs": 2745,
          "Year": "1978-01-01T00:00:00"
         },
         {
          "Acceleration": 17.6,
          "Cylinders": 4,
          "Displacement": 151,
          "Horsepower": 85,
          "Miles_per_Gallon": 23.8,
          "Name": "oldsmobile starfire sx",
          "Origin": "USA",
          "Weight_in_lbs": 2855,
          "Year": "1978-01-01T00:00:00"
         },
         {
          "Acceleration": 14.9,
          "Cylinders": 4,
          "Displacement": 119,
          "Horsepower": 97,
          "Miles_per_Gallon": 23.9,
          "Name": "datsun 200-sx",
          "Origin": "Japan",
          "Weight_in_lbs": 2405,
          "Year": "1978-01-01T00:00:00"
         },
         {
          "Acceleration": 15.9,
          "Cylinders": 5,
          "Displacement": 131,
          "Horsepower": 103,
          "Miles_per_Gallon": 20.3,
          "Name": "audi 5000",
          "Origin": "Europe",
          "Weight_in_lbs": 2830,
          "Year": "1978-01-01T00:00:00"
         },
         {
          "Acceleration": 13.6,
          "Cylinders": 6,
          "Displacement": 163,
          "Horsepower": 125,
          "Miles_per_Gallon": 17,
          "Name": "volvo 264gl",
          "Origin": "Europe",
          "Weight_in_lbs": 3140,
          "Year": "1978-01-01T00:00:00"
         },
         {
          "Acceleration": 15.7,
          "Cylinders": 4,
          "Displacement": 121,
          "Horsepower": 115,
          "Miles_per_Gallon": 21.6,
          "Name": "saab 99gle",
          "Origin": "Europe",
          "Weight_in_lbs": 2795,
          "Year": "1978-01-01T00:00:00"
         },
         {
          "Acceleration": 15.8,
          "Cylinders": 6,
          "Displacement": 163,
          "Horsepower": 133,
          "Miles_per_Gallon": 16.2,
          "Name": "peugeot 604sl",
          "Origin": "Europe",
          "Weight_in_lbs": 3410,
          "Year": "1978-01-01T00:00:00"
         },
         {
          "Acceleration": 14.9,
          "Cylinders": 4,
          "Displacement": 89,
          "Horsepower": 71,
          "Miles_per_Gallon": 31.5,
          "Name": "volkswagen scirocco",
          "Origin": "Europe",
          "Weight_in_lbs": 1990,
          "Year": "1978-01-01T00:00:00"
         },
         {
          "Acceleration": 16.6,
          "Cylinders": 4,
          "Displacement": 98,
          "Horsepower": 68,
          "Miles_per_Gallon": 29.5,
          "Name": "honda Accelerationord lx",
          "Origin": "Japan",
          "Weight_in_lbs": 2135,
          "Year": "1978-01-01T00:00:00"
         },
         {
          "Acceleration": 15.4,
          "Cylinders": 6,
          "Displacement": 231,
          "Horsepower": 115,
          "Miles_per_Gallon": 21.5,
          "Name": "pontiac lemans v6",
          "Origin": "USA",
          "Weight_in_lbs": 3245,
          "Year": "1979-01-01T00:00:00"
         },
         {
          "Acceleration": 18.2,
          "Cylinders": 6,
          "Displacement": 200,
          "Horsepower": 85,
          "Miles_per_Gallon": 19.8,
          "Name": "mercury zephyr 6",
          "Origin": "USA",
          "Weight_in_lbs": 2990,
          "Year": "1979-01-01T00:00:00"
         },
         {
          "Acceleration": 17.3,
          "Cylinders": 4,
          "Displacement": 140,
          "Horsepower": 88,
          "Miles_per_Gallon": 22.3,
          "Name": "ford fairmont 4",
          "Origin": "USA",
          "Weight_in_lbs": 2890,
          "Year": "1979-01-01T00:00:00"
         },
         {
          "Acceleration": 18.2,
          "Cylinders": 6,
          "Displacement": 232,
          "Horsepower": 90,
          "Miles_per_Gallon": 20.2,
          "Name": "amc concord dl 6",
          "Origin": "USA",
          "Weight_in_lbs": 3265,
          "Year": "1979-01-01T00:00:00"
         },
         {
          "Acceleration": 16.6,
          "Cylinders": 6,
          "Displacement": 225,
          "Horsepower": 110,
          "Miles_per_Gallon": 20.6,
          "Name": "dodge aspen 6",
          "Origin": "USA",
          "Weight_in_lbs": 3360,
          "Year": "1979-01-01T00:00:00"
         },
         {
          "Acceleration": 15.4,
          "Cylinders": 8,
          "Displacement": 305,
          "Horsepower": 130,
          "Miles_per_Gallon": 17,
          "Name": "chevrolet caprice classic",
          "Origin": "USA",
          "Weight_in_lbs": 3840,
          "Year": "1979-01-01T00:00:00"
         },
         {
          "Acceleration": 13.4,
          "Cylinders": 8,
          "Displacement": 302,
          "Horsepower": 129,
          "Miles_per_Gallon": 17.6,
          "Name": "ford ltd landau",
          "Origin": "USA",
          "Weight_in_lbs": 3725,
          "Year": "1979-01-01T00:00:00"
         },
         {
          "Acceleration": 13.2,
          "Cylinders": 8,
          "Displacement": 351,
          "Horsepower": 138,
          "Miles_per_Gallon": 16.5,
          "Name": "mercury grand marquis",
          "Origin": "USA",
          "Weight_in_lbs": 3955,
          "Year": "1979-01-01T00:00:00"
         },
         {
          "Acceleration": 15.2,
          "Cylinders": 8,
          "Displacement": 318,
          "Horsepower": 135,
          "Miles_per_Gallon": 18.2,
          "Name": "dodge st. regis",
          "Origin": "USA",
          "Weight_in_lbs": 3830,
          "Year": "1979-01-01T00:00:00"
         },
         {
          "Acceleration": 14.9,
          "Cylinders": 8,
          "Displacement": 350,
          "Horsepower": 155,
          "Miles_per_Gallon": 16.9,
          "Name": "buick estate wagon (sw)",
          "Origin": "USA",
          "Weight_in_lbs": 4360,
          "Year": "1979-01-01T00:00:00"
         },
         {
          "Acceleration": 14.3,
          "Cylinders": 8,
          "Displacement": 351,
          "Horsepower": 142,
          "Miles_per_Gallon": 15.5,
          "Name": "ford country squire (sw)",
          "Origin": "USA",
          "Weight_in_lbs": 4054,
          "Year": "1979-01-01T00:00:00"
         },
         {
          "Acceleration": 15,
          "Cylinders": 8,
          "Displacement": 267,
          "Horsepower": 125,
          "Miles_per_Gallon": 19.2,
          "Name": "chevrolet malibu classic (sw)",
          "Origin": "USA",
          "Weight_in_lbs": 3605,
          "Year": "1979-01-01T00:00:00"
         },
         {
          "Acceleration": 13,
          "Cylinders": 8,
          "Displacement": 360,
          "Horsepower": 150,
          "Miles_per_Gallon": 18.5,
          "Name": "chrysler lebaron town @ country (sw)",
          "Origin": "USA",
          "Weight_in_lbs": 3940,
          "Year": "1979-01-01T00:00:00"
         },
         {
          "Acceleration": 14,
          "Cylinders": 4,
          "Displacement": 89,
          "Horsepower": 71,
          "Miles_per_Gallon": 31.9,
          "Name": "vw rabbit custom",
          "Origin": "Europe",
          "Weight_in_lbs": 1925,
          "Year": "1979-01-01T00:00:00"
         },
         {
          "Acceleration": 15.2,
          "Cylinders": 4,
          "Displacement": 86,
          "Horsepower": 65,
          "Miles_per_Gallon": 34.1,
          "Name": "maxda glc deluxe",
          "Origin": "Japan",
          "Weight_in_lbs": 1975,
          "Year": "1979-01-01T00:00:00"
         },
         {
          "Acceleration": 14.4,
          "Cylinders": 4,
          "Displacement": 98,
          "Horsepower": 80,
          "Miles_per_Gallon": 35.7,
          "Name": "dodge colt hatchback custom",
          "Origin": "USA",
          "Weight_in_lbs": 1915,
          "Year": "1979-01-01T00:00:00"
         },
         {
          "Acceleration": 15,
          "Cylinders": 4,
          "Displacement": 121,
          "Horsepower": 80,
          "Miles_per_Gallon": 27.4,
          "Name": "amc spirit dl",
          "Origin": "USA",
          "Weight_in_lbs": 2670,
          "Year": "1979-01-01T00:00:00"
         },
         {
          "Acceleration": 20.1,
          "Cylinders": 5,
          "Displacement": 183,
          "Horsepower": 77,
          "Miles_per_Gallon": 25.4,
          "Name": "mercedes benz 300d",
          "Origin": "Europe",
          "Weight_in_lbs": 3530,
          "Year": "1979-01-01T00:00:00"
         },
         {
          "Acceleration": 17.4,
          "Cylinders": 8,
          "Displacement": 350,
          "Horsepower": 125,
          "Miles_per_Gallon": 23,
          "Name": "cadillac eldorado",
          "Origin": "USA",
          "Weight_in_lbs": 3900,
          "Year": "1979-01-01T00:00:00"
         },
         {
          "Acceleration": 24.8,
          "Cylinders": 4,
          "Displacement": 141,
          "Horsepower": 71,
          "Miles_per_Gallon": 27.2,
          "Name": "peugeot 504",
          "Origin": "Europe",
          "Weight_in_lbs": 3190,
          "Year": "1979-01-01T00:00:00"
         },
         {
          "Acceleration": 22.2,
          "Cylinders": 8,
          "Displacement": 260,
          "Horsepower": 90,
          "Miles_per_Gallon": 23.9,
          "Name": "oldsmobile cutlass salon brougham",
          "Origin": "USA",
          "Weight_in_lbs": 3420,
          "Year": "1979-01-01T00:00:00"
         },
         {
          "Acceleration": 13.2,
          "Cylinders": 4,
          "Displacement": 105,
          "Horsepower": 70,
          "Miles_per_Gallon": 34.2,
          "Name": "plymouth horizon",
          "Origin": "USA",
          "Weight_in_lbs": 2200,
          "Year": "1979-01-01T00:00:00"
         },
         {
          "Acceleration": 14.9,
          "Cylinders": 4,
          "Displacement": 105,
          "Horsepower": 70,
          "Miles_per_Gallon": 34.5,
          "Name": "plymouth horizon tc3",
          "Origin": "USA",
          "Weight_in_lbs": 2150,
          "Year": "1979-01-01T00:00:00"
         },
         {
          "Acceleration": 19.2,
          "Cylinders": 4,
          "Displacement": 85,
          "Horsepower": 65,
          "Miles_per_Gallon": 31.8,
          "Name": "datsun 210",
          "Origin": "Japan",
          "Weight_in_lbs": 2020,
          "Year": "1979-01-01T00:00:00"
         },
         {
          "Acceleration": 14.7,
          "Cylinders": 4,
          "Displacement": 91,
          "Horsepower": 69,
          "Miles_per_Gallon": 37.3,
          "Name": "fiat strada custom",
          "Origin": "Europe",
          "Weight_in_lbs": 2130,
          "Year": "1979-01-01T00:00:00"
         },
         {
          "Acceleration": 16,
          "Cylinders": 4,
          "Displacement": 151,
          "Horsepower": 90,
          "Miles_per_Gallon": 28.4,
          "Name": "buick skylark limited",
          "Origin": "USA",
          "Weight_in_lbs": 2670,
          "Year": "1979-01-01T00:00:00"
         },
         {
          "Acceleration": 11.3,
          "Cylinders": 6,
          "Displacement": 173,
          "Horsepower": 115,
          "Miles_per_Gallon": 28.8,
          "Name": "chevrolet citation",
          "Origin": "USA",
          "Weight_in_lbs": 2595,
          "Year": "1979-01-01T00:00:00"
         },
         {
          "Acceleration": 12.9,
          "Cylinders": 6,
          "Displacement": 173,
          "Horsepower": 115,
          "Miles_per_Gallon": 26.8,
          "Name": "oldsmobile omega brougham",
          "Origin": "USA",
          "Weight_in_lbs": 2700,
          "Year": "1979-01-01T00:00:00"
         },
         {
          "Acceleration": 13.2,
          "Cylinders": 4,
          "Displacement": 151,
          "Horsepower": 90,
          "Miles_per_Gallon": 33.5,
          "Name": "pontiac phoenix",
          "Origin": "USA",
          "Weight_in_lbs": 2556,
          "Year": "1979-01-01T00:00:00"
         },
         {
          "Acceleration": 14.7,
          "Cylinders": 4,
          "Displacement": 98,
          "Horsepower": 76,
          "Miles_per_Gallon": 41.5,
          "Name": "vw rabbit",
          "Origin": "Europe",
          "Weight_in_lbs": 2144,
          "Year": "1980-01-01T00:00:00"
         },
         {
          "Acceleration": 18.8,
          "Cylinders": 4,
          "Displacement": 89,
          "Horsepower": 60,
          "Miles_per_Gallon": 38.1,
          "Name": "toyota corolla tercel",
          "Origin": "Japan",
          "Weight_in_lbs": 1968,
          "Year": "1980-01-01T00:00:00"
         },
         {
          "Acceleration": 15.5,
          "Cylinders": 4,
          "Displacement": 98,
          "Horsepower": 70,
          "Miles_per_Gallon": 32.1,
          "Name": "chevrolet chevette",
          "Origin": "USA",
          "Weight_in_lbs": 2120,
          "Year": "1980-01-01T00:00:00"
         },
         {
          "Acceleration": 16.4,
          "Cylinders": 4,
          "Displacement": 86,
          "Horsepower": 65,
          "Miles_per_Gallon": 37.2,
          "Name": "datsun 310",
          "Origin": "Japan",
          "Weight_in_lbs": 2019,
          "Year": "1980-01-01T00:00:00"
         },
         {
          "Acceleration": 16.5,
          "Cylinders": 4,
          "Displacement": 151,
          "Horsepower": 90,
          "Miles_per_Gallon": 28,
          "Name": "chevrolet citation",
          "Origin": "USA",
          "Weight_in_lbs": 2678,
          "Year": "1980-01-01T00:00:00"
         },
         {
          "Acceleration": 18.1,
          "Cylinders": 4,
          "Displacement": 140,
          "Horsepower": 88,
          "Miles_per_Gallon": 26.4,
          "Name": "ford fairmont",
          "Origin": "USA",
          "Weight_in_lbs": 2870,
          "Year": "1980-01-01T00:00:00"
         },
         {
          "Acceleration": 20.1,
          "Cylinders": 4,
          "Displacement": 151,
          "Horsepower": 90,
          "Miles_per_Gallon": 24.3,
          "Name": "amc concord",
          "Origin": "USA",
          "Weight_in_lbs": 3003,
          "Year": "1980-01-01T00:00:00"
         },
         {
          "Acceleration": 18.7,
          "Cylinders": 6,
          "Displacement": 225,
          "Horsepower": 90,
          "Miles_per_Gallon": 19.1,
          "Name": "dodge aspen",
          "Origin": "USA",
          "Weight_in_lbs": 3381,
          "Year": "1980-01-01T00:00:00"
         },
         {
          "Acceleration": 15.8,
          "Cylinders": 4,
          "Displacement": 97,
          "Horsepower": 78,
          "Miles_per_Gallon": 34.3,
          "Name": "audi 4000",
          "Origin": "Europe",
          "Weight_in_lbs": 2188,
          "Year": "1980-01-01T00:00:00"
         },
         {
          "Acceleration": 15.5,
          "Cylinders": 4,
          "Displacement": 134,
          "Horsepower": 90,
          "Miles_per_Gallon": 29.8,
          "Name": "toyota corona liftback",
          "Origin": "Japan",
          "Weight_in_lbs": 2711,
          "Year": "1980-01-01T00:00:00"
         },
         {
          "Acceleration": 17.5,
          "Cylinders": 4,
          "Displacement": 120,
          "Horsepower": 75,
          "Miles_per_Gallon": 31.3,
          "Name": "mazda 626",
          "Origin": "Japan",
          "Weight_in_lbs": 2542,
          "Year": "1980-01-01T00:00:00"
         },
         {
          "Acceleration": 15,
          "Cylinders": 4,
          "Displacement": 119,
          "Horsepower": 92,
          "Miles_per_Gallon": 37,
          "Name": "datsun 510 hatchback",
          "Origin": "Japan",
          "Weight_in_lbs": 2434,
          "Year": "1980-01-01T00:00:00"
         },
         {
          "Acceleration": 15.2,
          "Cylinders": 4,
          "Displacement": 108,
          "Horsepower": 75,
          "Miles_per_Gallon": 32.2,
          "Name": "toyota corolla",
          "Origin": "Japan",
          "Weight_in_lbs": 2265,
          "Year": "1980-01-01T00:00:00"
         },
         {
          "Acceleration": 17.9,
          "Cylinders": 4,
          "Displacement": 86,
          "Horsepower": 65,
          "Miles_per_Gallon": 46.6,
          "Name": "mazda glc",
          "Origin": "Japan",
          "Weight_in_lbs": 2110,
          "Year": "1980-01-01T00:00:00"
         },
         {
          "Acceleration": 14.4,
          "Cylinders": 4,
          "Displacement": 156,
          "Horsepower": 105,
          "Miles_per_Gallon": 27.9,
          "Name": "dodge colt",
          "Origin": "USA",
          "Weight_in_lbs": 2800,
          "Year": "1980-01-01T00:00:00"
         },
         {
          "Acceleration": 19.2,
          "Cylinders": 4,
          "Displacement": 85,
          "Horsepower": 65,
          "Miles_per_Gallon": 40.8,
          "Name": "datsun 210",
          "Origin": "Japan",
          "Weight_in_lbs": 2110,
          "Year": "1980-01-01T00:00:00"
         },
         {
          "Acceleration": 21.7,
          "Cylinders": 4,
          "Displacement": 90,
          "Horsepower": 48,
          "Miles_per_Gallon": 44.3,
          "Name": "vw rabbit c (diesel)",
          "Origin": "Europe",
          "Weight_in_lbs": 2085,
          "Year": "1980-01-01T00:00:00"
         },
         {
          "Acceleration": 23.7,
          "Cylinders": 4,
          "Displacement": 90,
          "Horsepower": 48,
          "Miles_per_Gallon": 43.4,
          "Name": "vw dasher (diesel)",
          "Origin": "Europe",
          "Weight_in_lbs": 2335,
          "Year": "1980-01-01T00:00:00"
         },
         {
          "Acceleration": 19.9,
          "Cylinders": 5,
          "Displacement": 121,
          "Horsepower": 67,
          "Miles_per_Gallon": 36.4,
          "Name": "audi 5000s (diesel)",
          "Origin": "Europe",
          "Weight_in_lbs": 2950,
          "Year": "1980-01-01T00:00:00"
         },
         {
          "Acceleration": 21.8,
          "Cylinders": 4,
          "Displacement": 146,
          "Horsepower": 67,
          "Miles_per_Gallon": 30,
          "Name": "mercedes-benz 240d",
          "Origin": "Europe",
          "Weight_in_lbs": 3250,
          "Year": "1980-01-01T00:00:00"
         },
         {
          "Acceleration": 13.8,
          "Cylinders": 4,
          "Displacement": 91,
          "Horsepower": 67,
          "Miles_per_Gallon": 44.6,
          "Name": "honda civic 1500 gl",
          "Origin": "Japan",
          "Weight_in_lbs": 1850,
          "Year": "1980-01-01T00:00:00"
         },
         {
          "Acceleration": 17.3,
          "Cylinders": 4,
          "Displacement": 85,
          "Horsepower": null,
          "Miles_per_Gallon": 40.9,
          "Name": "renault lecar deluxe",
          "Origin": "Europe",
          "Weight_in_lbs": 1835,
          "Year": "1980-01-01T00:00:00"
         },
         {
          "Acceleration": 18,
          "Cylinders": 4,
          "Displacement": 97,
          "Horsepower": 67,
          "Miles_per_Gallon": 33.8,
          "Name": "subaru dl",
          "Origin": "Japan",
          "Weight_in_lbs": 2145,
          "Year": "1980-01-01T00:00:00"
         },
         {
          "Acceleration": 15.3,
          "Cylinders": 4,
          "Displacement": 89,
          "Horsepower": 62,
          "Miles_per_Gallon": 29.8,
          "Name": "vokswagen rabbit",
          "Origin": "Europe",
          "Weight_in_lbs": 1845,
          "Year": "1980-01-01T00:00:00"
         },
         {
          "Acceleration": 11.4,
          "Cylinders": 6,
          "Displacement": 168,
          "Horsepower": 132,
          "Miles_per_Gallon": 32.7,
          "Name": "datsun 280-zx",
          "Origin": "Japan",
          "Weight_in_lbs": 2910,
          "Year": "1980-01-01T00:00:00"
         },
         {
          "Acceleration": 12.5,
          "Cylinders": 3,
          "Displacement": 70,
          "Horsepower": 100,
          "Miles_per_Gallon": 23.7,
          "Name": "mazda rx-7 gs",
          "Origin": "Japan",
          "Weight_in_lbs": 2420,
          "Year": "1980-01-01T00:00:00"
         },
         {
          "Acceleration": 15.1,
          "Cylinders": 4,
          "Displacement": 122,
          "Horsepower": 88,
          "Miles_per_Gallon": 35,
          "Name": "triumph tr7 coupe",
          "Origin": "Europe",
          "Weight_in_lbs": 2500,
          "Year": "1980-01-01T00:00:00"
         },
         {
          "Acceleration": 14.3,
          "Cylinders": 4,
          "Displacement": 140,
          "Horsepower": null,
          "Miles_per_Gallon": 23.6,
          "Name": "ford mustang cobra",
          "Origin": "USA",
          "Weight_in_lbs": 2905,
          "Year": "1980-01-01T00:00:00"
         },
         {
          "Acceleration": 17,
          "Cylinders": 4,
          "Displacement": 107,
          "Horsepower": 72,
          "Miles_per_Gallon": 32.4,
          "Name": "honda Accelerationord",
          "Origin": "Japan",
          "Weight_in_lbs": 2290,
          "Year": "1980-01-01T00:00:00"
         },
         {
          "Acceleration": 15.7,
          "Cylinders": 4,
          "Displacement": 135,
          "Horsepower": 84,
          "Miles_per_Gallon": 27.2,
          "Name": "plymouth reliant",
          "Origin": "USA",
          "Weight_in_lbs": 2490,
          "Year": "1982-01-01T00:00:00"
         },
         {
          "Acceleration": 16.4,
          "Cylinders": 4,
          "Displacement": 151,
          "Horsepower": 84,
          "Miles_per_Gallon": 26.6,
          "Name": "buick skylark",
          "Origin": "USA",
          "Weight_in_lbs": 2635,
          "Year": "1982-01-01T00:00:00"
         },
         {
          "Acceleration": 14.4,
          "Cylinders": 4,
          "Displacement": 156,
          "Horsepower": 92,
          "Miles_per_Gallon": 25.8,
          "Name": "dodge aries wagon (sw)",
          "Origin": "USA",
          "Weight_in_lbs": 2620,
          "Year": "1982-01-01T00:00:00"
         },
         {
          "Acceleration": 12.6,
          "Cylinders": 6,
          "Displacement": 173,
          "Horsepower": 110,
          "Miles_per_Gallon": 23.5,
          "Name": "chevrolet citation",
          "Origin": "USA",
          "Weight_in_lbs": 2725,
          "Year": "1982-01-01T00:00:00"
         },
         {
          "Acceleration": 12.9,
          "Cylinders": 4,
          "Displacement": 135,
          "Horsepower": 84,
          "Miles_per_Gallon": 30,
          "Name": "plymouth reliant",
          "Origin": "USA",
          "Weight_in_lbs": 2385,
          "Year": "1982-01-01T00:00:00"
         },
         {
          "Acceleration": 16.9,
          "Cylinders": 4,
          "Displacement": 79,
          "Horsepower": 58,
          "Miles_per_Gallon": 39.1,
          "Name": "toyota starlet",
          "Origin": "Japan",
          "Weight_in_lbs": 1755,
          "Year": "1982-01-01T00:00:00"
         },
         {
          "Acceleration": 16.4,
          "Cylinders": 4,
          "Displacement": 86,
          "Horsepower": 64,
          "Miles_per_Gallon": 39,
          "Name": "plymouth champ",
          "Origin": "USA",
          "Weight_in_lbs": 1875,
          "Year": "1982-01-01T00:00:00"
         },
         {
          "Acceleration": 16.1,
          "Cylinders": 4,
          "Displacement": 81,
          "Horsepower": 60,
          "Miles_per_Gallon": 35.1,
          "Name": "honda civic 1300",
          "Origin": "Japan",
          "Weight_in_lbs": 1760,
          "Year": "1982-01-01T00:00:00"
         },
         {
          "Acceleration": 17.8,
          "Cylinders": 4,
          "Displacement": 97,
          "Horsepower": 67,
          "Miles_per_Gallon": 32.3,
          "Name": "subaru",
          "Origin": "Japan",
          "Weight_in_lbs": 2065,
          "Year": "1982-01-01T00:00:00"
         },
         {
          "Acceleration": 19.4,
          "Cylinders": 4,
          "Displacement": 85,
          "Horsepower": 65,
          "Miles_per_Gallon": 37,
          "Name": "datsun 210",
          "Origin": "Japan",
          "Weight_in_lbs": 1975,
          "Year": "1982-01-01T00:00:00"
         },
         {
          "Acceleration": 17.3,
          "Cylinders": 4,
          "Displacement": 89,
          "Horsepower": 62,
          "Miles_per_Gallon": 37.7,
          "Name": "toyota tercel",
          "Origin": "Japan",
          "Weight_in_lbs": 2050,
          "Year": "1982-01-01T00:00:00"
         },
         {
          "Acceleration": 16,
          "Cylinders": 4,
          "Displacement": 91,
          "Horsepower": 68,
          "Miles_per_Gallon": 34.1,
          "Name": "mazda glc 4",
          "Origin": "Japan",
          "Weight_in_lbs": 1985,
          "Year": "1982-01-01T00:00:00"
         },
         {
          "Acceleration": 14.9,
          "Cylinders": 4,
          "Displacement": 105,
          "Horsepower": 63,
          "Miles_per_Gallon": 34.7,
          "Name": "plymouth horizon 4",
          "Origin": "USA",
          "Weight_in_lbs": 2215,
          "Year": "1982-01-01T00:00:00"
         },
         {
          "Acceleration": 16.2,
          "Cylinders": 4,
          "Displacement": 98,
          "Horsepower": 65,
          "Miles_per_Gallon": 34.4,
          "Name": "ford escort 4w",
          "Origin": "USA",
          "Weight_in_lbs": 2045,
          "Year": "1982-01-01T00:00:00"
         },
         {
          "Acceleration": 20.7,
          "Cylinders": 4,
          "Displacement": 98,
          "Horsepower": 65,
          "Miles_per_Gallon": 29.9,
          "Name": "ford escort 2h",
          "Origin": "USA",
          "Weight_in_lbs": 2380,
          "Year": "1982-01-01T00:00:00"
         },
         {
          "Acceleration": 14.2,
          "Cylinders": 4,
          "Displacement": 105,
          "Horsepower": 74,
          "Miles_per_Gallon": 33,
          "Name": "volkswagen jetta",
          "Origin": "Europe",
          "Weight_in_lbs": 2190,
          "Year": "1982-01-01T00:00:00"
         },
         {
          "Acceleration": 15.8,
          "Cylinders": 4,
          "Displacement": 100,
          "Horsepower": null,
          "Miles_per_Gallon": 34.5,
          "Name": "renault 18i",
          "Origin": "Europe",
          "Weight_in_lbs": 2320,
          "Year": "1982-01-01T00:00:00"
         },
         {
          "Acceleration": 14.4,
          "Cylinders": 4,
          "Displacement": 107,
          "Horsepower": 75,
          "Miles_per_Gallon": 33.7,
          "Name": "honda prelude",
          "Origin": "Japan",
          "Weight_in_lbs": 2210,
          "Year": "1982-01-01T00:00:00"
         },
         {
          "Acceleration": 16.8,
          "Cylinders": 4,
          "Displacement": 108,
          "Horsepower": 75,
          "Miles_per_Gallon": 32.4,
          "Name": "toyota corolla",
          "Origin": "Japan",
          "Weight_in_lbs": 2350,
          "Year": "1982-01-01T00:00:00"
         },
         {
          "Acceleration": 14.8,
          "Cylinders": 4,
          "Displacement": 119,
          "Horsepower": 100,
          "Miles_per_Gallon": 32.9,
          "Name": "datsun 200sx",
          "Origin": "Japan",
          "Weight_in_lbs": 2615,
          "Year": "1982-01-01T00:00:00"
         },
         {
          "Acceleration": 18.3,
          "Cylinders": 4,
          "Displacement": 120,
          "Horsepower": 74,
          "Miles_per_Gallon": 31.6,
          "Name": "mazda 626",
          "Origin": "Japan",
          "Weight_in_lbs": 2635,
          "Year": "1982-01-01T00:00:00"
         },
         {
          "Acceleration": 20.4,
          "Cylinders": 4,
          "Displacement": 141,
          "Horsepower": 80,
          "Miles_per_Gallon": 28.1,
          "Name": "peugeot 505s turbo diesel",
          "Origin": "Europe",
          "Weight_in_lbs": 3230,
          "Year": "1982-01-01T00:00:00"
         },
         {
          "Acceleration": 15.4,
          "Cylinders": 4,
          "Displacement": 121,
          "Horsepower": 110,
          "Miles_per_Gallon": null,
          "Name": "saab 900s",
          "Origin": "Europe",
          "Weight_in_lbs": 2800,
          "Year": "1982-01-01T00:00:00"
         },
         {
          "Acceleration": 19.6,
          "Cylinders": 6,
          "Displacement": 145,
          "Horsepower": 76,
          "Miles_per_Gallon": 30.7,
          "Name": "volvo diesel",
          "Origin": "Europe",
          "Weight_in_lbs": 3160,
          "Year": "1982-01-01T00:00:00"
         },
         {
          "Acceleration": 12.6,
          "Cylinders": 6,
          "Displacement": 168,
          "Horsepower": 116,
          "Miles_per_Gallon": 25.4,
          "Name": "toyota cressida",
          "Origin": "Japan",
          "Weight_in_lbs": 2900,
          "Year": "1982-01-01T00:00:00"
         },
         {
          "Acceleration": 13.8,
          "Cylinders": 6,
          "Displacement": 146,
          "Horsepower": 120,
          "Miles_per_Gallon": 24.2,
          "Name": "datsun 810 maxima",
          "Origin": "Japan",
          "Weight_in_lbs": 2930,
          "Year": "1982-01-01T00:00:00"
         },
         {
          "Acceleration": 15.8,
          "Cylinders": 6,
          "Displacement": 231,
          "Horsepower": 110,
          "Miles_per_Gallon": 22.4,
          "Name": "buick century",
          "Origin": "USA",
          "Weight_in_lbs": 3415,
          "Year": "1982-01-01T00:00:00"
         },
         {
          "Acceleration": 19,
          "Cylinders": 8,
          "Displacement": 350,
          "Horsepower": 105,
          "Miles_per_Gallon": 26.6,
          "Name": "oldsmobile cutlass ls",
          "Origin": "USA",
          "Weight_in_lbs": 3725,
          "Year": "1982-01-01T00:00:00"
         },
         {
          "Acceleration": 17.1,
          "Cylinders": 6,
          "Displacement": 200,
          "Horsepower": 88,
          "Miles_per_Gallon": 20.2,
          "Name": "ford granada gl",
          "Origin": "USA",
          "Weight_in_lbs": 3060,
          "Year": "1982-01-01T00:00:00"
         },
         {
          "Acceleration": 16.6,
          "Cylinders": 6,
          "Displacement": 225,
          "Horsepower": 85,
          "Miles_per_Gallon": 17.6,
          "Name": "chrysler lebaron salon",
          "Origin": "USA",
          "Weight_in_lbs": 3465,
          "Year": "1982-01-01T00:00:00"
         },
         {
          "Acceleration": 19.6,
          "Cylinders": 4,
          "Displacement": 112,
          "Horsepower": 88,
          "Miles_per_Gallon": 28,
          "Name": "chevrolet cavalier",
          "Origin": "USA",
          "Weight_in_lbs": 2605,
          "Year": "1982-01-01T00:00:00"
         },
         {
          "Acceleration": 18.6,
          "Cylinders": 4,
          "Displacement": 112,
          "Horsepower": 88,
          "Miles_per_Gallon": 27,
          "Name": "chevrolet cavalier wagon",
          "Origin": "USA",
          "Weight_in_lbs": 2640,
          "Year": "1982-01-01T00:00:00"
         },
         {
          "Acceleration": 18,
          "Cylinders": 4,
          "Displacement": 112,
          "Horsepower": 88,
          "Miles_per_Gallon": 34,
          "Name": "chevrolet cavalier 2-door",
          "Origin": "USA",
          "Weight_in_lbs": 2395,
          "Year": "1982-01-01T00:00:00"
         },
         {
          "Acceleration": 16.2,
          "Cylinders": 4,
          "Displacement": 112,
          "Horsepower": 85,
          "Miles_per_Gallon": 31,
          "Name": "pontiac j2000 se hatchback",
          "Origin": "USA",
          "Weight_in_lbs": 2575,
          "Year": "1982-01-01T00:00:00"
         },
         {
          "Acceleration": 16,
          "Cylinders": 4,
          "Displacement": 135,
          "Horsepower": 84,
          "Miles_per_Gallon": 29,
          "Name": "dodge aries se",
          "Origin": "USA",
          "Weight_in_lbs": 2525,
          "Year": "1982-01-01T00:00:00"
         },
         {
          "Acceleration": 18,
          "Cylinders": 4,
          "Displacement": 151,
          "Horsepower": 90,
          "Miles_per_Gallon": 27,
          "Name": "pontiac phoenix",
          "Origin": "USA",
          "Weight_in_lbs": 2735,
          "Year": "1982-01-01T00:00:00"
         },
         {
          "Acceleration": 16.4,
          "Cylinders": 4,
          "Displacement": 140,
          "Horsepower": 92,
          "Miles_per_Gallon": 24,
          "Name": "ford fairmont futura",
          "Origin": "USA",
          "Weight_in_lbs": 2865,
          "Year": "1982-01-01T00:00:00"
         },
         {
          "Acceleration": 20.5,
          "Cylinders": 4,
          "Displacement": 151,
          "Horsepower": null,
          "Miles_per_Gallon": 23,
          "Name": "amc concord dl",
          "Origin": "USA",
          "Weight_in_lbs": 3035,
          "Year": "1982-01-01T00:00:00"
         },
         {
          "Acceleration": 15.3,
          "Cylinders": 4,
          "Displacement": 105,
          "Horsepower": 74,
          "Miles_per_Gallon": 36,
          "Name": "volkswagen rabbit l",
          "Origin": "Europe",
          "Weight_in_lbs": 1980,
          "Year": "1982-01-01T00:00:00"
         },
         {
          "Acceleration": 18.2,
          "Cylinders": 4,
          "Displacement": 91,
          "Horsepower": 68,
          "Miles_per_Gallon": 37,
          "Name": "mazda glc custom l",
          "Origin": "Japan",
          "Weight_in_lbs": 2025,
          "Year": "1982-01-01T00:00:00"
         },
         {
          "Acceleration": 17.6,
          "Cylinders": 4,
          "Displacement": 91,
          "Horsepower": 68,
          "Miles_per_Gallon": 31,
          "Name": "mazda glc custom",
          "Origin": "Japan",
          "Weight_in_lbs": 1970,
          "Year": "1982-01-01T00:00:00"
         },
         {
          "Acceleration": 14.7,
          "Cylinders": 4,
          "Displacement": 105,
          "Horsepower": 63,
          "Miles_per_Gallon": 38,
          "Name": "plymouth horizon miser",
          "Origin": "USA",
          "Weight_in_lbs": 2125,
          "Year": "1982-01-01T00:00:00"
         },
         {
          "Acceleration": 17.3,
          "Cylinders": 4,
          "Displacement": 98,
          "Horsepower": 70,
          "Miles_per_Gallon": 36,
          "Name": "mercury lynx l",
          "Origin": "USA",
          "Weight_in_lbs": 2125,
          "Year": "1982-01-01T00:00:00"
         },
         {
          "Acceleration": 14.5,
          "Cylinders": 4,
          "Displacement": 120,
          "Horsepower": 88,
          "Miles_per_Gallon": 36,
          "Name": "nissan stanza xe",
          "Origin": "Japan",
          "Weight_in_lbs": 2160,
          "Year": "1982-01-01T00:00:00"
         },
         {
          "Acceleration": 14.5,
          "Cylinders": 4,
          "Displacement": 107,
          "Horsepower": 75,
          "Miles_per_Gallon": 36,
          "Name": "honda Accelerationord",
          "Origin": "Japan",
          "Weight_in_lbs": 2205,
          "Year": "1982-01-01T00:00:00"
         },
         {
          "Acceleration": 16.9,
          "Cylinders": 4,
          "Displacement": 108,
          "Horsepower": 70,
          "Miles_per_Gallon": 34,
          "Name": "toyota corolla",
          "Origin": "Japan",
          "Weight_in_lbs": 2245,
          "Year": "1982-01-01T00:00:00"
         },
         {
          "Acceleration": 15,
          "Cylinders": 4,
          "Displacement": 91,
          "Horsepower": 67,
          "Miles_per_Gallon": 38,
          "Name": "honda civic",
          "Origin": "Japan",
          "Weight_in_lbs": 1965,
          "Year": "1982-01-01T00:00:00"
         },
         {
          "Acceleration": 15.7,
          "Cylinders": 4,
          "Displacement": 91,
          "Horsepower": 67,
          "Miles_per_Gallon": 32,
          "Name": "honda civic (auto)",
          "Origin": "Japan",
          "Weight_in_lbs": 1965,
          "Year": "1982-01-01T00:00:00"
         },
         {
          "Acceleration": 16.2,
          "Cylinders": 4,
          "Displacement": 91,
          "Horsepower": 67,
          "Miles_per_Gallon": 38,
          "Name": "datsun 310 gx",
          "Origin": "Japan",
          "Weight_in_lbs": 1995,
          "Year": "1982-01-01T00:00:00"
         },
         {
          "Acceleration": 16.4,
          "Cylinders": 6,
          "Displacement": 181,
          "Horsepower": 110,
          "Miles_per_Gallon": 25,
          "Name": "buick century limited",
          "Origin": "USA",
          "Weight_in_lbs": 2945,
          "Year": "1982-01-01T00:00:00"
         },
         {
          "Acceleration": 17,
          "Cylinders": 6,
          "Displacement": 262,
          "Horsepower": 85,
          "Miles_per_Gallon": 38,
          "Name": "oldsmobile cutlass ciera (diesel)",
          "Origin": "USA",
          "Weight_in_lbs": 3015,
          "Year": "1982-01-01T00:00:00"
         },
         {
          "Acceleration": 14.5,
          "Cylinders": 4,
          "Displacement": 156,
          "Horsepower": 92,
          "Miles_per_Gallon": 26,
          "Name": "chrysler lebaron medallion",
          "Origin": "USA",
          "Weight_in_lbs": 2585,
          "Year": "1982-01-01T00:00:00"
         },
         {
          "Acceleration": 14.7,
          "Cylinders": 6,
          "Displacement": 232,
          "Horsepower": 112,
          "Miles_per_Gallon": 22,
          "Name": "ford granada l",
          "Origin": "USA",
          "Weight_in_lbs": 2835,
          "Year": "1982-01-01T00:00:00"
         },
         {
          "Acceleration": 13.9,
          "Cylinders": 4,
          "Displacement": 144,
          "Horsepower": 96,
          "Miles_per_Gallon": 32,
          "Name": "toyota celica gt",
          "Origin": "Japan",
          "Weight_in_lbs": 2665,
          "Year": "1982-01-01T00:00:00"
         },
         {
          "Acceleration": 13,
          "Cylinders": 4,
          "Displacement": 135,
          "Horsepower": 84,
          "Miles_per_Gallon": 36,
          "Name": "dodge charger 2.2",
          "Origin": "USA",
          "Weight_in_lbs": 2370,
          "Year": "1982-01-01T00:00:00"
         },
         {
          "Acceleration": 17.3,
          "Cylinders": 4,
          "Displacement": 151,
          "Horsepower": 90,
          "Miles_per_Gallon": 27,
          "Name": "chevrolet camaro",
          "Origin": "USA",
          "Weight_in_lbs": 2950,
          "Year": "1982-01-01T00:00:00"
         },
         {
          "Acceleration": 15.6,
          "Cylinders": 4,
          "Displacement": 140,
          "Horsepower": 86,
          "Miles_per_Gallon": 27,
          "Name": "ford mustang gl",
          "Origin": "USA",
          "Weight_in_lbs": 2790,
          "Year": "1982-01-01T00:00:00"
         },
         {
          "Acceleration": 24.6,
          "Cylinders": 4,
          "Displacement": 97,
          "Horsepower": 52,
          "Miles_per_Gallon": 44,
          "Name": "vw pickup",
          "Origin": "Europe",
          "Weight_in_lbs": 2130,
          "Year": "1982-01-01T00:00:00"
         },
         {
          "Acceleration": 11.6,
          "Cylinders": 4,
          "Displacement": 135,
          "Horsepower": 84,
          "Miles_per_Gallon": 32,
          "Name": "dodge rampage",
          "Origin": "USA",
          "Weight_in_lbs": 2295,
          "Year": "1982-01-01T00:00:00"
         },
         {
          "Acceleration": 18.6,
          "Cylinders": 4,
          "Displacement": 120,
          "Horsepower": 79,
          "Miles_per_Gallon": 28,
          "Name": "ford ranger",
          "Origin": "USA",
          "Weight_in_lbs": 2625,
          "Year": "1982-01-01T00:00:00"
         },
         {
          "Acceleration": 19.4,
          "Cylinders": 4,
          "Displacement": 119,
          "Horsepower": 82,
          "Miles_per_Gallon": 31,
          "Name": "chevy s-10",
          "Origin": "USA",
          "Weight_in_lbs": 2720,
          "Year": "1982-01-01T00:00:00"
         }
        ]
       },
       "encoding": {
        "color": {
         "condition": {
          "field": "Cylinders",
          "param": "brush",
          "type": "ordinal"
         },
         "value": "grey"
        },
        "x": {
         "field": "Horsepower",
         "type": "quantitative"
        },
        "y": {
         "field": "Miles_per_Gallon",
         "type": "quantitative"
        }
       },
       "mark": {
        "type": "point"
       },
       "name": "sp",
       "params": [
        {
         "name": "brush",
         "select": {
          "type": "interval"
         }
        }
       ]
      },
      "text/plain": [
       "<VegaLite 5 object>\n",
       "\n",
       "If you see this message, it means the renderer has not been properly enabled\n",
       "for the frontend that you are using. For more information, see\n",
       "https://altair-viz.github.io/user_guide/display_frontends.html#troubleshooting\n"
      ]
     },
     "execution_count": 2,
     "metadata": {},
     "output_type": "execute_result"
    }
   ],
   "source": [
    "# %%script echo skipping\n",
    "\n",
    "source = data.cars()\n",
    "\n",
    "brush = alt.selection_interval(name=\"brush\")\n",
    "\n",
    "alt.Chart(source, name=\"sp\").mark_point().encode(\n",
    "    x='Horsepower:Q',\n",
    "    y='Miles_per_Gallon:Q',\n",
    "    color=alt.condition(brush, 'Cylinders:O', alt.value('grey')),\n",
    ").add_params(brush)"
   ]
  },
  {
   "cell_type": "code",
   "execution_count": 3,
   "id": "2d5316b7-0b8e-41cd-8fe9-e9da663fb370",
   "metadata": {
    "trrack_graph": "ᯡ࠽䈌ʀ匦㢠⹰Ҁᦡ䚸֦ː׀性཈ލ䂖Ψà恣Ģ㡶暳⢈憬㙄倡ᙰ䡣冀旨≬䋕ᵦᜍᷘᬗ琲&䈠۹䔬Ʃj࠰|穠怣㣣ט䈲曽䘠଱Ͱn杄V䀷⿀㒕᥀ᨔᡡ暋ఴ>☤䀤ヱ奓ᒘ㘦ᔾ9䀤柰˸懍䳢ႆᡄᛚ扁ì⎧瑰嘠歪猠㟔ᘰؗ樮嫱䰸欤❤␮˳ߎ堢㰠໋㜿ద៓ㄢᆓ塛ᣭ䡀ㄩാፍɽ䏣ᐲ㊁ᦤ汌͝ᦦちᥒ戦ԣᑐ晍ƣ塖涤䂱䂲嗈抯ౠµ䬄䥐ᱞѥᇨ䩍རㅸืϣ瀤⅜‥㠤䅳䷥ጂ爢ㅬⓈ攕ኽ儩⍀  "
   },
   "outputs": [
    {
     "data": {
      "text/html": [
       "<div>\n",
       "<style scoped>\n",
       "    .dataframe tbody tr th:only-of-type {\n",
       "        vertical-align: middle;\n",
       "    }\n",
       "\n",
       "    .dataframe tbody tr th {\n",
       "        vertical-align: top;\n",
       "    }\n",
       "\n",
       "    .dataframe thead th {\n",
       "        text-align: right;\n",
       "    }\n",
       "</style>\n",
       "<table border=\"1\" class=\"dataframe\">\n",
       "  <thead>\n",
       "    <tr style=\"text-align: right;\">\n",
       "      <th></th>\n",
       "      <th>date</th>\n",
       "      <th>precipitation</th>\n",
       "      <th>temp_max</th>\n",
       "      <th>temp_min</th>\n",
       "      <th>wind</th>\n",
       "      <th>weather</th>\n",
       "    </tr>\n",
       "  </thead>\n",
       "  <tbody>\n",
       "    <tr>\n",
       "      <th>0</th>\n",
       "      <td>2012-01-01</td>\n",
       "      <td>0.0</td>\n",
       "      <td>12.8</td>\n",
       "      <td>5.0</td>\n",
       "      <td>4.7</td>\n",
       "      <td>drizzle</td>\n",
       "    </tr>\n",
       "    <tr>\n",
       "      <th>1</th>\n",
       "      <td>2012-01-02</td>\n",
       "      <td>10.9</td>\n",
       "      <td>10.6</td>\n",
       "      <td>2.8</td>\n",
       "      <td>4.5</td>\n",
       "      <td>rain</td>\n",
       "    </tr>\n",
       "    <tr>\n",
       "      <th>2</th>\n",
       "      <td>2012-01-03</td>\n",
       "      <td>0.8</td>\n",
       "      <td>11.7</td>\n",
       "      <td>7.2</td>\n",
       "      <td>2.3</td>\n",
       "      <td>rain</td>\n",
       "    </tr>\n",
       "    <tr>\n",
       "      <th>3</th>\n",
       "      <td>2012-01-04</td>\n",
       "      <td>20.3</td>\n",
       "      <td>12.2</td>\n",
       "      <td>5.6</td>\n",
       "      <td>4.7</td>\n",
       "      <td>rain</td>\n",
       "    </tr>\n",
       "    <tr>\n",
       "      <th>4</th>\n",
       "      <td>2012-01-05</td>\n",
       "      <td>1.3</td>\n",
       "      <td>8.9</td>\n",
       "      <td>2.8</td>\n",
       "      <td>6.1</td>\n",
       "      <td>rain</td>\n",
       "    </tr>\n",
       "    <tr>\n",
       "      <th>...</th>\n",
       "      <td>...</td>\n",
       "      <td>...</td>\n",
       "      <td>...</td>\n",
       "      <td>...</td>\n",
       "      <td>...</td>\n",
       "      <td>...</td>\n",
       "    </tr>\n",
       "    <tr>\n",
       "      <th>1456</th>\n",
       "      <td>2015-12-27</td>\n",
       "      <td>8.6</td>\n",
       "      <td>4.4</td>\n",
       "      <td>1.7</td>\n",
       "      <td>2.9</td>\n",
       "      <td>fog</td>\n",
       "    </tr>\n",
       "    <tr>\n",
       "      <th>1457</th>\n",
       "      <td>2015-12-28</td>\n",
       "      <td>1.5</td>\n",
       "      <td>5.0</td>\n",
       "      <td>1.7</td>\n",
       "      <td>1.3</td>\n",
       "      <td>fog</td>\n",
       "    </tr>\n",
       "    <tr>\n",
       "      <th>1458</th>\n",
       "      <td>2015-12-29</td>\n",
       "      <td>0.0</td>\n",
       "      <td>7.2</td>\n",
       "      <td>0.6</td>\n",
       "      <td>2.6</td>\n",
       "      <td>fog</td>\n",
       "    </tr>\n",
       "    <tr>\n",
       "      <th>1459</th>\n",
       "      <td>2015-12-30</td>\n",
       "      <td>0.0</td>\n",
       "      <td>5.6</td>\n",
       "      <td>-1.0</td>\n",
       "      <td>3.4</td>\n",
       "      <td>sun</td>\n",
       "    </tr>\n",
       "    <tr>\n",
       "      <th>1460</th>\n",
       "      <td>2015-12-31</td>\n",
       "      <td>0.0</td>\n",
       "      <td>5.6</td>\n",
       "      <td>-2.1</td>\n",
       "      <td>3.5</td>\n",
       "      <td>sun</td>\n",
       "    </tr>\n",
       "  </tbody>\n",
       "</table>\n",
       "<p>1461 rows × 6 columns</p>\n",
       "</div>"
      ],
      "text/plain": [
       "           date  precipitation  temp_max  temp_min  wind  weather\n",
       "0    2012-01-01            0.0      12.8       5.0   4.7  drizzle\n",
       "1    2012-01-02           10.9      10.6       2.8   4.5     rain\n",
       "2    2012-01-03            0.8      11.7       7.2   2.3     rain\n",
       "3    2012-01-04           20.3      12.2       5.6   4.7     rain\n",
       "4    2012-01-05            1.3       8.9       2.8   6.1     rain\n",
       "...         ...            ...       ...       ...   ...      ...\n",
       "1456 2015-12-27            8.6       4.4       1.7   2.9      fog\n",
       "1457 2015-12-28            1.5       5.0       1.7   1.3      fog\n",
       "1458 2015-12-29            0.0       7.2       0.6   2.6      fog\n",
       "1459 2015-12-30            0.0       5.6      -1.0   3.4      sun\n",
       "1460 2015-12-31            0.0       5.6      -2.1   3.5      sun\n",
       "\n",
       "[1461 rows x 6 columns]"
      ]
     },
     "execution_count": 3,
     "metadata": {},
     "output_type": "execute_result"
    }
   ],
   "source": [
    "weather = data.seattle_weather()\n",
    "weather"
   ]
  },
  {
   "cell_type": "code",
   "execution_count": 4,
   "id": "2a8edfed-4043-4d26-bdde-654e594aed5b",
   "metadata": {
    "trrack_execution_spec": {
     "$schema": "https://vega.github.io/schema/vega-lite/v5.8.0.json",
     "config": {
      "view": {
       "continuousHeight": 300,
       "continuousWidth": 300
      }
     },
     "data": {
      "name": "data-830c39fec90146253fb06a06c26374ef"
     },
     "datasets": {
      "data-830c39fec90146253fb06a06c26374ef": [
       {
        "date": "2012-01-01T00:00:00",
        "precipitation": 0,
        "temp_max": 12.8,
        "temp_min": 5,
        "weather": "drizzle",
        "wind": 4.7
       },
       {
        "date": "2012-01-02T00:00:00",
        "precipitation": 10.9,
        "temp_max": 10.6,
        "temp_min": 2.8,
        "weather": "rain",
        "wind": 4.5
       },
       {
        "date": "2012-01-03T00:00:00",
        "precipitation": 0.8,
        "temp_max": 11.7,
        "temp_min": 7.2,
        "weather": "rain",
        "wind": 2.3
       },
       {
        "date": "2012-01-04T00:00:00",
        "precipitation": 20.3,
        "temp_max": 12.2,
        "temp_min": 5.6,
        "weather": "rain",
        "wind": 4.7
       },
       {
        "date": "2012-01-05T00:00:00",
        "precipitation": 1.3,
        "temp_max": 8.9,
        "temp_min": 2.8,
        "weather": "rain",
        "wind": 6.1
       },
       {
        "date": "2012-01-06T00:00:00",
        "precipitation": 2.5,
        "temp_max": 4.4,
        "temp_min": 2.2,
        "weather": "rain",
        "wind": 2.2
       },
       {
        "date": "2012-01-07T00:00:00",
        "precipitation": 0,
        "temp_max": 7.2,
        "temp_min": 2.8,
        "weather": "rain",
        "wind": 2.3
       },
       {
        "date": "2012-01-08T00:00:00",
        "precipitation": 0,
        "temp_max": 10,
        "temp_min": 2.8,
        "weather": "sun",
        "wind": 2
       },
       {
        "date": "2012-01-09T00:00:00",
        "precipitation": 4.3,
        "temp_max": 9.4,
        "temp_min": 5,
        "weather": "rain",
        "wind": 3.4
       },
       {
        "date": "2012-01-10T00:00:00",
        "precipitation": 1,
        "temp_max": 6.1,
        "temp_min": 0.6,
        "weather": "rain",
        "wind": 3.4
       },
       {
        "date": "2012-01-11T00:00:00",
        "precipitation": 0,
        "temp_max": 6.1,
        "temp_min": -1.1,
        "weather": "sun",
        "wind": 5.1
       },
       {
        "date": "2012-01-12T00:00:00",
        "precipitation": 0,
        "temp_max": 6.1,
        "temp_min": -1.7,
        "weather": "sun",
        "wind": 1.9
       },
       {
        "date": "2012-01-13T00:00:00",
        "precipitation": 0,
        "temp_max": 5,
        "temp_min": -2.8,
        "weather": "sun",
        "wind": 1.3
       },
       {
        "date": "2012-01-14T00:00:00",
        "precipitation": 4.1,
        "temp_max": 4.4,
        "temp_min": 0.6,
        "weather": "snow",
        "wind": 5.3
       },
       {
        "date": "2012-01-15T00:00:00",
        "precipitation": 5.3,
        "temp_max": 1.1,
        "temp_min": -3.3,
        "weather": "snow",
        "wind": 3.2
       },
       {
        "date": "2012-01-16T00:00:00",
        "precipitation": 2.5,
        "temp_max": 1.7,
        "temp_min": -2.8,
        "weather": "snow",
        "wind": 5
       },
       {
        "date": "2012-01-17T00:00:00",
        "precipitation": 8.1,
        "temp_max": 3.3,
        "temp_min": 0,
        "weather": "snow",
        "wind": 5.6
       },
       {
        "date": "2012-01-18T00:00:00",
        "precipitation": 19.8,
        "temp_max": 0,
        "temp_min": -2.8,
        "weather": "snow",
        "wind": 5
       },
       {
        "date": "2012-01-19T00:00:00",
        "precipitation": 15.2,
        "temp_max": -1.1,
        "temp_min": -2.8,
        "weather": "snow",
        "wind": 1.6
       },
       {
        "date": "2012-01-20T00:00:00",
        "precipitation": 13.5,
        "temp_max": 7.2,
        "temp_min": -1.1,
        "weather": "snow",
        "wind": 2.3
       },
       {
        "date": "2012-01-21T00:00:00",
        "precipitation": 3,
        "temp_max": 8.3,
        "temp_min": 3.3,
        "weather": "rain",
        "wind": 8.2
       },
       {
        "date": "2012-01-22T00:00:00",
        "precipitation": 6.1,
        "temp_max": 6.7,
        "temp_min": 2.2,
        "weather": "rain",
        "wind": 4.8
       },
       {
        "date": "2012-01-23T00:00:00",
        "precipitation": 0,
        "temp_max": 8.3,
        "temp_min": 1.1,
        "weather": "rain",
        "wind": 3.6
       },
       {
        "date": "2012-01-24T00:00:00",
        "precipitation": 8.6,
        "temp_max": 10,
        "temp_min": 2.2,
        "weather": "rain",
        "wind": 5.1
       },
       {
        "date": "2012-01-25T00:00:00",
        "precipitation": 8.1,
        "temp_max": 8.9,
        "temp_min": 4.4,
        "weather": "rain",
        "wind": 5.4
       },
       {
        "date": "2012-01-26T00:00:00",
        "precipitation": 4.8,
        "temp_max": 8.9,
        "temp_min": 1.1,
        "weather": "rain",
        "wind": 4.8
       },
       {
        "date": "2012-01-27T00:00:00",
        "precipitation": 0,
        "temp_max": 6.7,
        "temp_min": -2.2,
        "weather": "drizzle",
        "wind": 1.4
       },
       {
        "date": "2012-01-28T00:00:00",
        "precipitation": 0,
        "temp_max": 6.7,
        "temp_min": 0.6,
        "weather": "rain",
        "wind": 2.2
       },
       {
        "date": "2012-01-29T00:00:00",
        "precipitation": 27.7,
        "temp_max": 9.4,
        "temp_min": 3.9,
        "weather": "rain",
        "wind": 4.5
       },
       {
        "date": "2012-01-30T00:00:00",
        "precipitation": 3.6,
        "temp_max": 8.3,
        "temp_min": 6.1,
        "weather": "rain",
        "wind": 5.1
       },
       {
        "date": "2012-01-31T00:00:00",
        "precipitation": 1.8,
        "temp_max": 9.4,
        "temp_min": 6.1,
        "weather": "rain",
        "wind": 3.9
       },
       {
        "date": "2012-02-01T00:00:00",
        "precipitation": 13.5,
        "temp_max": 8.9,
        "temp_min": 3.3,
        "weather": "rain",
        "wind": 2.7
       },
       {
        "date": "2012-02-02T00:00:00",
        "precipitation": 0,
        "temp_max": 8.3,
        "temp_min": 1.7,
        "weather": "sun",
        "wind": 2.6
       },
       {
        "date": "2012-02-03T00:00:00",
        "precipitation": 0,
        "temp_max": 14.4,
        "temp_min": 2.2,
        "weather": "sun",
        "wind": 5.3
       },
       {
        "date": "2012-02-04T00:00:00",
        "precipitation": 0,
        "temp_max": 15.6,
        "temp_min": 5,
        "weather": "sun",
        "wind": 4.3
       },
       {
        "date": "2012-02-05T00:00:00",
        "precipitation": 0,
        "temp_max": 13.9,
        "temp_min": 1.7,
        "weather": "sun",
        "wind": 2.9
       },
       {
        "date": "2012-02-06T00:00:00",
        "precipitation": 0,
        "temp_max": 16.1,
        "temp_min": 1.7,
        "weather": "sun",
        "wind": 5
       },
       {
        "date": "2012-02-07T00:00:00",
        "precipitation": 0.3,
        "temp_max": 15.6,
        "temp_min": 7.8,
        "weather": "rain",
        "wind": 5.3
       },
       {
        "date": "2012-02-08T00:00:00",
        "precipitation": 2.8,
        "temp_max": 10,
        "temp_min": 5,
        "weather": "rain",
        "wind": 2.7
       },
       {
        "date": "2012-02-09T00:00:00",
        "precipitation": 2.5,
        "temp_max": 11.1,
        "temp_min": 7.8,
        "weather": "rain",
        "wind": 2.4
       },
       {
        "date": "2012-02-10T00:00:00",
        "precipitation": 2.5,
        "temp_max": 12.8,
        "temp_min": 6.7,
        "weather": "rain",
        "wind": 3
       },
       {
        "date": "2012-02-11T00:00:00",
        "precipitation": 0.8,
        "temp_max": 8.9,
        "temp_min": 5.6,
        "weather": "rain",
        "wind": 3.4
       },
       {
        "date": "2012-02-12T00:00:00",
        "precipitation": 1,
        "temp_max": 8.3,
        "temp_min": 5,
        "weather": "rain",
        "wind": 1.3
       },
       {
        "date": "2012-02-13T00:00:00",
        "precipitation": 11.4,
        "temp_max": 7.2,
        "temp_min": 4.4,
        "weather": "rain",
        "wind": 1.4
       },
       {
        "date": "2012-02-14T00:00:00",
        "precipitation": 2.5,
        "temp_max": 6.7,
        "temp_min": 1.1,
        "weather": "rain",
        "wind": 3.1
       },
       {
        "date": "2012-02-15T00:00:00",
        "precipitation": 0,
        "temp_max": 7.2,
        "temp_min": 0.6,
        "weather": "drizzle",
        "wind": 1.8
       },
       {
        "date": "2012-02-16T00:00:00",
        "precipitation": 1.8,
        "temp_max": 7.2,
        "temp_min": 3.3,
        "weather": "rain",
        "wind": 2.1
       },
       {
        "date": "2012-02-17T00:00:00",
        "precipitation": 17.3,
        "temp_max": 10,
        "temp_min": 4.4,
        "weather": "rain",
        "wind": 3.4
       },
       {
        "date": "2012-02-18T00:00:00",
        "precipitation": 6.4,
        "temp_max": 6.7,
        "temp_min": 3.9,
        "weather": "rain",
        "wind": 8.1
       },
       {
        "date": "2012-02-19T00:00:00",
        "precipitation": 0,
        "temp_max": 6.7,
        "temp_min": 2.2,
        "weather": "sun",
        "wind": 4.7
       },
       {
        "date": "2012-02-20T00:00:00",
        "precipitation": 3,
        "temp_max": 7.8,
        "temp_min": 1.7,
        "weather": "rain",
        "wind": 2.9
       },
       {
        "date": "2012-02-21T00:00:00",
        "precipitation": 0.8,
        "temp_max": 10,
        "temp_min": 7.8,
        "weather": "rain",
        "wind": 7.5
       },
       {
        "date": "2012-02-22T00:00:00",
        "precipitation": 8.6,
        "temp_max": 10,
        "temp_min": 2.8,
        "weather": "rain",
        "wind": 5.9
       },
       {
        "date": "2012-02-23T00:00:00",
        "precipitation": 0,
        "temp_max": 8.3,
        "temp_min": 2.8,
        "weather": "sun",
        "wind": 3.9
       },
       {
        "date": "2012-02-24T00:00:00",
        "precipitation": 11.4,
        "temp_max": 6.7,
        "temp_min": 4.4,
        "weather": "rain",
        "wind": 3.5
       },
       {
        "date": "2012-02-25T00:00:00",
        "precipitation": 0,
        "temp_max": 7.2,
        "temp_min": 2.8,
        "weather": "rain",
        "wind": 6.4
       },
       {
        "date": "2012-02-26T00:00:00",
        "precipitation": 1.3,
        "temp_max": 5,
        "temp_min": -1.1,
        "weather": "snow",
        "wind": 3.4
       },
       {
        "date": "2012-02-27T00:00:00",
        "precipitation": 0,
        "temp_max": 6.7,
        "temp_min": -2.2,
        "weather": "sun",
        "wind": 3
       },
       {
        "date": "2012-02-28T00:00:00",
        "precipitation": 3.6,
        "temp_max": 6.7,
        "temp_min": -0.6,
        "weather": "snow",
        "wind": 4.2
       },
       {
        "date": "2012-02-29T00:00:00",
        "precipitation": 0.8,
        "temp_max": 5,
        "temp_min": 1.1,
        "weather": "snow",
        "wind": 7
       },
       {
        "date": "2012-03-01T00:00:00",
        "precipitation": 0,
        "temp_max": 6.1,
        "temp_min": 1.1,
        "weather": "sun",
        "wind": 3.1
       },
       {
        "date": "2012-03-02T00:00:00",
        "precipitation": 2,
        "temp_max": 6.7,
        "temp_min": 3.9,
        "weather": "rain",
        "wind": 5.1
       },
       {
        "date": "2012-03-03T00:00:00",
        "precipitation": 0,
        "temp_max": 12.2,
        "temp_min": 6.7,
        "weather": "sun",
        "wind": 7
       },
       {
        "date": "2012-03-04T00:00:00",
        "precipitation": 0,
        "temp_max": 10.6,
        "temp_min": 6.7,
        "weather": "rain",
        "wind": 5.6
       },
       {
        "date": "2012-03-05T00:00:00",
        "precipitation": 6.9,
        "temp_max": 7.8,
        "temp_min": 1.1,
        "weather": "rain",
        "wind": 6.2
       },
       {
        "date": "2012-03-06T00:00:00",
        "precipitation": 0.5,
        "temp_max": 6.7,
        "temp_min": 0,
        "weather": "snow",
        "wind": 2.7
       },
       {
        "date": "2012-03-07T00:00:00",
        "precipitation": 0,
        "temp_max": 8.9,
        "temp_min": -1.7,
        "weather": "sun",
        "wind": 2.7
       },
       {
        "date": "2012-03-08T00:00:00",
        "precipitation": 0,
        "temp_max": 15.6,
        "temp_min": 0.6,
        "weather": "sun",
        "wind": 2.5
       },
       {
        "date": "2012-03-09T00:00:00",
        "precipitation": 3.6,
        "temp_max": 9.4,
        "temp_min": 5,
        "weather": "rain",
        "wind": 2.8
       },
       {
        "date": "2012-03-10T00:00:00",
        "precipitation": 10.4,
        "temp_max": 7.2,
        "temp_min": 6.1,
        "weather": "rain",
        "wind": 3.4
       },
       {
        "date": "2012-03-11T00:00:00",
        "precipitation": 13.7,
        "temp_max": 6.7,
        "temp_min": 2.8,
        "weather": "rain",
        "wind": 5.8
       },
       {
        "date": "2012-03-12T00:00:00",
        "precipitation": 19.3,
        "temp_max": 8.3,
        "temp_min": 0.6,
        "weather": "snow",
        "wind": 6.2
       },
       {
        "date": "2012-03-13T00:00:00",
        "precipitation": 9.4,
        "temp_max": 5.6,
        "temp_min": 0.6,
        "weather": "snow",
        "wind": 5.3
       },
       {
        "date": "2012-03-14T00:00:00",
        "precipitation": 8.6,
        "temp_max": 7.8,
        "temp_min": 1.1,
        "weather": "rain",
        "wind": 4.7
       },
       {
        "date": "2012-03-15T00:00:00",
        "precipitation": 23.9,
        "temp_max": 11.1,
        "temp_min": 5.6,
        "weather": "snow",
        "wind": 5.8
       },
       {
        "date": "2012-03-16T00:00:00",
        "precipitation": 8.4,
        "temp_max": 8.9,
        "temp_min": 3.9,
        "weather": "rain",
        "wind": 5.1
       },
       {
        "date": "2012-03-17T00:00:00",
        "precipitation": 9.4,
        "temp_max": 10,
        "temp_min": 0.6,
        "weather": "snow",
        "wind": 3.8
       },
       {
        "date": "2012-03-18T00:00:00",
        "precipitation": 3.6,
        "temp_max": 5,
        "temp_min": -0.6,
        "weather": "rain",
        "wind": 2.7
       },
       {
        "date": "2012-03-19T00:00:00",
        "precipitation": 2,
        "temp_max": 7.2,
        "temp_min": -1.1,
        "weather": "rain",
        "wind": 3
       },
       {
        "date": "2012-03-20T00:00:00",
        "precipitation": 3.6,
        "temp_max": 7.8,
        "temp_min": 2.2,
        "weather": "rain",
        "wind": 6.4
       },
       {
        "date": "2012-03-21T00:00:00",
        "precipitation": 1.3,
        "temp_max": 8.9,
        "temp_min": 1.1,
        "weather": "rain",
        "wind": 2.5
       },
       {
        "date": "2012-03-22T00:00:00",
        "precipitation": 4.1,
        "temp_max": 10,
        "temp_min": 1.7,
        "weather": "rain",
        "wind": 2.1
       },
       {
        "date": "2012-03-23T00:00:00",
        "precipitation": 0,
        "temp_max": 12.2,
        "temp_min": 0.6,
        "weather": "sun",
        "wind": 2.8
       },
       {
        "date": "2012-03-24T00:00:00",
        "precipitation": 0,
        "temp_max": 15,
        "temp_min": 3.3,
        "weather": "sun",
        "wind": 5.2
       },
       {
        "date": "2012-03-25T00:00:00",
        "precipitation": 0,
        "temp_max": 13.3,
        "temp_min": 2.2,
        "weather": "rain",
        "wind": 2.7
       },
       {
        "date": "2012-03-26T00:00:00",
        "precipitation": 0,
        "temp_max": 12.8,
        "temp_min": 6.1,
        "weather": "drizzle",
        "wind": 4.3
       },
       {
        "date": "2012-03-27T00:00:00",
        "precipitation": 4.8,
        "temp_max": 14.4,
        "temp_min": 6.7,
        "weather": "rain",
        "wind": 3.8
       },
       {
        "date": "2012-03-28T00:00:00",
        "precipitation": 1.3,
        "temp_max": 10.6,
        "temp_min": 7.2,
        "weather": "rain",
        "wind": 5.9
       },
       {
        "date": "2012-03-29T00:00:00",
        "precipitation": 27.4,
        "temp_max": 10,
        "temp_min": 6.1,
        "weather": "rain",
        "wind": 4.4
       },
       {
        "date": "2012-03-30T00:00:00",
        "precipitation": 5.6,
        "temp_max": 9.4,
        "temp_min": 5,
        "weather": "rain",
        "wind": 4.7
       },
       {
        "date": "2012-03-31T00:00:00",
        "precipitation": 13.2,
        "temp_max": 10,
        "temp_min": 2.8,
        "weather": "rain",
        "wind": 3.4
       },
       {
        "date": "2012-04-01T00:00:00",
        "precipitation": 1.5,
        "temp_max": 8.9,
        "temp_min": 4.4,
        "weather": "rain",
        "wind": 6.8
       },
       {
        "date": "2012-04-02T00:00:00",
        "precipitation": 0,
        "temp_max": 16.7,
        "temp_min": 4.4,
        "weather": "sun",
        "wind": 3.1
       },
       {
        "date": "2012-04-03T00:00:00",
        "precipitation": 1.5,
        "temp_max": 11.7,
        "temp_min": 3.3,
        "weather": "rain",
        "wind": 3.1
       },
       {
        "date": "2012-04-04T00:00:00",
        "precipitation": 0,
        "temp_max": 10.6,
        "temp_min": 2.8,
        "weather": "sun",
        "wind": 2.1
       },
       {
        "date": "2012-04-05T00:00:00",
        "precipitation": 4.6,
        "temp_max": 9.4,
        "temp_min": 2.8,
        "weather": "snow",
        "wind": 1.8
       },
       {
        "date": "2012-04-06T00:00:00",
        "precipitation": 0.3,
        "temp_max": 11.1,
        "temp_min": 3.3,
        "weather": "rain",
        "wind": 2.6
       },
       {
        "date": "2012-04-07T00:00:00",
        "precipitation": 0,
        "temp_max": 16.1,
        "temp_min": 1.7,
        "weather": "sun",
        "wind": 4.3
       },
       {
        "date": "2012-04-08T00:00:00",
        "precipitation": 0,
        "temp_max": 21.1,
        "temp_min": 7.2,
        "weather": "sun",
        "wind": 4.1
       },
       {
        "date": "2012-04-09T00:00:00",
        "precipitation": 0,
        "temp_max": 20,
        "temp_min": 6.1,
        "weather": "sun",
        "wind": 2.1
       },
       {
        "date": "2012-04-10T00:00:00",
        "precipitation": 0,
        "temp_max": 17.8,
        "temp_min": 8.9,
        "weather": "rain",
        "wind": 3.2
       },
       {
        "date": "2012-04-11T00:00:00",
        "precipitation": 2.3,
        "temp_max": 11.1,
        "temp_min": 7.2,
        "weather": "rain",
        "wind": 2.6
       },
       {
        "date": "2012-04-12T00:00:00",
        "precipitation": 0.5,
        "temp_max": 13.9,
        "temp_min": 5.6,
        "weather": "rain",
        "wind": 2.6
       },
       {
        "date": "2012-04-13T00:00:00",
        "precipitation": 0,
        "temp_max": 15,
        "temp_min": 3.9,
        "weather": "drizzle",
        "wind": 4
       },
       {
        "date": "2012-04-14T00:00:00",
        "precipitation": 0,
        "temp_max": 15.6,
        "temp_min": 3.3,
        "weather": "sun",
        "wind": 3
       },
       {
        "date": "2012-04-15T00:00:00",
        "precipitation": 0,
        "temp_max": 16.1,
        "temp_min": 7.2,
        "weather": "rain",
        "wind": 2.9
       },
       {
        "date": "2012-04-16T00:00:00",
        "precipitation": 8.1,
        "temp_max": 13.3,
        "temp_min": 6.7,
        "weather": "rain",
        "wind": 5.8
       },
       {
        "date": "2012-04-17T00:00:00",
        "precipitation": 1.8,
        "temp_max": 10,
        "temp_min": 4.4,
        "weather": "rain",
        "wind": 2
       },
       {
        "date": "2012-04-18T00:00:00",
        "precipitation": 1.8,
        "temp_max": 13.3,
        "temp_min": 7.2,
        "weather": "rain",
        "wind": 3.9
       },
       {
        "date": "2012-04-19T00:00:00",
        "precipitation": 10.9,
        "temp_max": 13.9,
        "temp_min": 5,
        "weather": "rain",
        "wind": 2.6
       },
       {
        "date": "2012-04-20T00:00:00",
        "precipitation": 6.6,
        "temp_max": 13.3,
        "temp_min": 6.7,
        "weather": "rain",
        "wind": 2.7
       },
       {
        "date": "2012-04-21T00:00:00",
        "precipitation": 0,
        "temp_max": 20,
        "temp_min": 4.4,
        "weather": "sun",
        "wind": 2.3
       },
       {
        "date": "2012-04-22T00:00:00",
        "precipitation": 0,
        "temp_max": 23.3,
        "temp_min": 8.3,
        "weather": "rain",
        "wind": 2.6
       },
       {
        "date": "2012-04-23T00:00:00",
        "precipitation": 0,
        "temp_max": 21.7,
        "temp_min": 8.9,
        "weather": "sun",
        "wind": 3.5
       },
       {
        "date": "2012-04-24T00:00:00",
        "precipitation": 4.3,
        "temp_max": 13.9,
        "temp_min": 10,
        "weather": "rain",
        "wind": 2.8
       },
       {
        "date": "2012-04-25T00:00:00",
        "precipitation": 10.7,
        "temp_max": 16.7,
        "temp_min": 8.9,
        "weather": "rain",
        "wind": 2.6
       },
       {
        "date": "2012-04-26T00:00:00",
        "precipitation": 3.8,
        "temp_max": 13.9,
        "temp_min": 6.7,
        "weather": "rain",
        "wind": 5.2
       },
       {
        "date": "2012-04-27T00:00:00",
        "precipitation": 0.8,
        "temp_max": 13.3,
        "temp_min": 6.1,
        "weather": "rain",
        "wind": 4.8
       },
       {
        "date": "2012-04-28T00:00:00",
        "precipitation": 0,
        "temp_max": 16.1,
        "temp_min": 8.3,
        "weather": "drizzle",
        "wind": 2.5
       },
       {
        "date": "2012-04-29T00:00:00",
        "precipitation": 4.3,
        "temp_max": 15.6,
        "temp_min": 8.9,
        "weather": "rain",
        "wind": 1.6
       },
       {
        "date": "2012-04-30T00:00:00",
        "precipitation": 4.3,
        "temp_max": 12.8,
        "temp_min": 7.2,
        "weather": "rain",
        "wind": 8
       },
       {
        "date": "2012-05-01T00:00:00",
        "precipitation": 0.5,
        "temp_max": 11.7,
        "temp_min": 6.1,
        "weather": "rain",
        "wind": 6.4
       },
       {
        "date": "2012-05-02T00:00:00",
        "precipitation": 0.5,
        "temp_max": 13.3,
        "temp_min": 5.6,
        "weather": "rain",
        "wind": 2.5
       },
       {
        "date": "2012-05-03T00:00:00",
        "precipitation": 18.5,
        "temp_max": 11.1,
        "temp_min": 7.2,
        "weather": "rain",
        "wind": 3.4
       },
       {
        "date": "2012-05-04T00:00:00",
        "precipitation": 1.8,
        "temp_max": 12.2,
        "temp_min": 6.1,
        "weather": "rain",
        "wind": 4.6
       },
       {
        "date": "2012-05-05T00:00:00",
        "precipitation": 0,
        "temp_max": 13.3,
        "temp_min": 5,
        "weather": "sun",
        "wind": 2.3
       },
       {
        "date": "2012-05-06T00:00:00",
        "precipitation": 0,
        "temp_max": 17.8,
        "temp_min": 5,
        "weather": "sun",
        "wind": 2.4
       },
       {
        "date": "2012-05-07T00:00:00",
        "precipitation": 0,
        "temp_max": 23.9,
        "temp_min": 6.1,
        "weather": "sun",
        "wind": 2.2
       },
       {
        "date": "2012-05-08T00:00:00",
        "precipitation": 0,
        "temp_max": 18.3,
        "temp_min": 9.4,
        "weather": "sun",
        "wind": 3
       },
       {
        "date": "2012-05-09T00:00:00",
        "precipitation": 0,
        "temp_max": 13.3,
        "temp_min": 6.7,
        "weather": "rain",
        "wind": 3.9
       },
       {
        "date": "2012-05-10T00:00:00",
        "precipitation": 0,
        "temp_max": 14.4,
        "temp_min": 3.9,
        "weather": "sun",
        "wind": 3
       },
       {
        "date": "2012-05-11T00:00:00",
        "precipitation": 0,
        "temp_max": 18.3,
        "temp_min": 4.4,
        "weather": "sun",
        "wind": 4.3
       },
       {
        "date": "2012-05-12T00:00:00",
        "precipitation": 0,
        "temp_max": 24.4,
        "temp_min": 6.7,
        "weather": "sun",
        "wind": 3.4
       },
       {
        "date": "2012-05-13T00:00:00",
        "precipitation": 0,
        "temp_max": 25.6,
        "temp_min": 9.4,
        "weather": "sun",
        "wind": 4.2
       },
       {
        "date": "2012-05-14T00:00:00",
        "precipitation": 0,
        "temp_max": 26.7,
        "temp_min": 12.8,
        "weather": "sun",
        "wind": 3.8
       },
       {
        "date": "2012-05-15T00:00:00",
        "precipitation": 0,
        "temp_max": 24.4,
        "temp_min": 9.4,
        "weather": "drizzle",
        "wind": 4.1
       },
       {
        "date": "2012-05-16T00:00:00",
        "precipitation": 0,
        "temp_max": 19.4,
        "temp_min": 9.4,
        "weather": "sun",
        "wind": 3.5
       },
       {
        "date": "2012-05-17T00:00:00",
        "precipitation": 0,
        "temp_max": 17.8,
        "temp_min": 6.7,
        "weather": "rain",
        "wind": 2.9
       },
       {
        "date": "2012-05-18T00:00:00",
        "precipitation": 0,
        "temp_max": 15.6,
        "temp_min": 7.8,
        "weather": "rain",
        "wind": 3.1
       },
       {
        "date": "2012-05-19T00:00:00",
        "precipitation": 0,
        "temp_max": 19.4,
        "temp_min": 7.2,
        "weather": "sun",
        "wind": 1.5
       },
       {
        "date": "2012-05-20T00:00:00",
        "precipitation": 6.4,
        "temp_max": 14.4,
        "temp_min": 11.7,
        "weather": "rain",
        "wind": 1.3
       },
       {
        "date": "2012-05-21T00:00:00",
        "precipitation": 14,
        "temp_max": 16.7,
        "temp_min": 10,
        "weather": "rain",
        "wind": 4
       },
       {
        "date": "2012-05-22T00:00:00",
        "precipitation": 6.1,
        "temp_max": 12.8,
        "temp_min": 8.9,
        "weather": "rain",
        "wind": 4.8
       },
       {
        "date": "2012-05-23T00:00:00",
        "precipitation": 0.3,
        "temp_max": 14.4,
        "temp_min": 8.9,
        "weather": "rain",
        "wind": 6.3
       },
       {
        "date": "2012-05-24T00:00:00",
        "precipitation": 0,
        "temp_max": 17.2,
        "temp_min": 8.9,
        "weather": "rain",
        "wind": 3.3
       },
       {
        "date": "2012-05-25T00:00:00",
        "precipitation": 0,
        "temp_max": 22.2,
        "temp_min": 8.9,
        "weather": "rain",
        "wind": 3.1
       },
       {
        "date": "2012-05-26T00:00:00",
        "precipitation": 0,
        "temp_max": 22.2,
        "temp_min": 8.9,
        "weather": "sun",
        "wind": 3.6
       },
       {
        "date": "2012-05-27T00:00:00",
        "precipitation": 0,
        "temp_max": 17.2,
        "temp_min": 11.7,
        "weather": "sun",
        "wind": 3.7
       },
       {
        "date": "2012-05-28T00:00:00",
        "precipitation": 0,
        "temp_max": 16.7,
        "temp_min": 10,
        "weather": "rain",
        "wind": 3.4
       },
       {
        "date": "2012-05-29T00:00:00",
        "precipitation": 0,
        "temp_max": 16.1,
        "temp_min": 7.8,
        "weather": "sun",
        "wind": 1.8
       },
       {
        "date": "2012-05-30T00:00:00",
        "precipitation": 0.3,
        "temp_max": 18.9,
        "temp_min": 11.1,
        "weather": "rain",
        "wind": 1.5
       },
       {
        "date": "2012-05-31T00:00:00",
        "precipitation": 3.8,
        "temp_max": 17.8,
        "temp_min": 12.2,
        "weather": "rain",
        "wind": 2.7
       },
       {
        "date": "2012-06-01T00:00:00",
        "precipitation": 6.6,
        "temp_max": 20,
        "temp_min": 12.8,
        "weather": "rain",
        "wind": 3.7
       },
       {
        "date": "2012-06-02T00:00:00",
        "precipitation": 0.3,
        "temp_max": 18.9,
        "temp_min": 10.6,
        "weather": "rain",
        "wind": 3.7
       },
       {
        "date": "2012-06-03T00:00:00",
        "precipitation": 0,
        "temp_max": 17.2,
        "temp_min": 9.4,
        "weather": "sun",
        "wind": 2.9
       },
       {
        "date": "2012-06-04T00:00:00",
        "precipitation": 1.3,
        "temp_max": 12.8,
        "temp_min": 8.9,
        "weather": "rain",
        "wind": 3.1
       },
       {
        "date": "2012-06-05T00:00:00",
        "precipitation": 16,
        "temp_max": 13.3,
        "temp_min": 8.3,
        "weather": "rain",
        "wind": 3.3
       },
       {
        "date": "2012-06-06T00:00:00",
        "precipitation": 0,
        "temp_max": 16.1,
        "temp_min": 6.1,
        "weather": "sun",
        "wind": 3.4
       },
       {
        "date": "2012-06-07T00:00:00",
        "precipitation": 16.5,
        "temp_max": 16.1,
        "temp_min": 8.9,
        "weather": "rain",
        "wind": 3.5
       },
       {
        "date": "2012-06-08T00:00:00",
        "precipitation": 1.5,
        "temp_max": 15,
        "temp_min": 8.3,
        "weather": "rain",
        "wind": 3
       },
       {
        "date": "2012-06-09T00:00:00",
        "precipitation": 0,
        "temp_max": 17.2,
        "temp_min": 8.3,
        "weather": "rain",
        "wind": 4.7
       },
       {
        "date": "2012-06-10T00:00:00",
        "precipitation": 0,
        "temp_max": 18.9,
        "temp_min": 10,
        "weather": "sun",
        "wind": 2.9
       },
       {
        "date": "2012-06-11T00:00:00",
        "precipitation": 0,
        "temp_max": 23.3,
        "temp_min": 10,
        "weather": "rain",
        "wind": 1.8
       },
       {
        "date": "2012-06-12T00:00:00",
        "precipitation": 0.8,
        "temp_max": 18.3,
        "temp_min": 12.8,
        "weather": "rain",
        "wind": 3.9
       },
       {
        "date": "2012-06-13T00:00:00",
        "precipitation": 0,
        "temp_max": 16.1,
        "temp_min": 11.1,
        "weather": "sun",
        "wind": 4.3
       },
       {
        "date": "2012-06-14T00:00:00",
        "precipitation": 0,
        "temp_max": 17.2,
        "temp_min": 10,
        "weather": "sun",
        "wind": 2.7
       },
       {
        "date": "2012-06-15T00:00:00",
        "precipitation": 0,
        "temp_max": 22.2,
        "temp_min": 9.4,
        "weather": "sun",
        "wind": 1.7
       },
       {
        "date": "2012-06-16T00:00:00",
        "precipitation": 0,
        "temp_max": 21.1,
        "temp_min": 15,
        "weather": "rain",
        "wind": 4.1
       },
       {
        "date": "2012-06-17T00:00:00",
        "precipitation": 0,
        "temp_max": 18.9,
        "temp_min": 11.7,
        "weather": "sun",
        "wind": 6.4
       },
       {
        "date": "2012-06-18T00:00:00",
        "precipitation": 3,
        "temp_max": 17.2,
        "temp_min": 10,
        "weather": "rain",
        "wind": 3.8
       },
       {
        "date": "2012-06-19T00:00:00",
        "precipitation": 1,
        "temp_max": 19.4,
        "temp_min": 10,
        "weather": "rain",
        "wind": 3
       },
       {
        "date": "2012-06-20T00:00:00",
        "precipitation": 0,
        "temp_max": 24.4,
        "temp_min": 10,
        "weather": "sun",
        "wind": 3
       },
       {
        "date": "2012-06-21T00:00:00",
        "precipitation": 0,
        "temp_max": 23.9,
        "temp_min": 11.7,
        "weather": "sun",
        "wind": 2.1
       },
       {
        "date": "2012-06-22T00:00:00",
        "precipitation": 15.7,
        "temp_max": 13.9,
        "temp_min": 11.7,
        "weather": "rain",
        "wind": 1.9
       },
       {
        "date": "2012-06-23T00:00:00",
        "precipitation": 8.6,
        "temp_max": 15.6,
        "temp_min": 9.4,
        "weather": "rain",
        "wind": 2.5
       },
       {
        "date": "2012-06-24T00:00:00",
        "precipitation": 0,
        "temp_max": 19.4,
        "temp_min": 9.4,
        "weather": "drizzle",
        "wind": 2
       },
       {
        "date": "2012-06-25T00:00:00",
        "precipitation": 0.5,
        "temp_max": 19.4,
        "temp_min": 11.1,
        "weather": "rain",
        "wind": 3.1
       },
       {
        "date": "2012-06-26T00:00:00",
        "precipitation": 0,
        "temp_max": 18.3,
        "temp_min": 10.6,
        "weather": "rain",
        "wind": 3.4
       },
       {
        "date": "2012-06-27T00:00:00",
        "precipitation": 0,
        "temp_max": 22.8,
        "temp_min": 8.9,
        "weather": "sun",
        "wind": 1.8
       },
       {
        "date": "2012-06-28T00:00:00",
        "precipitation": 0,
        "temp_max": 22.2,
        "temp_min": 11.7,
        "weather": "rain",
        "wind": 2.5
       },
       {
        "date": "2012-06-29T00:00:00",
        "precipitation": 0.3,
        "temp_max": 21.7,
        "temp_min": 15,
        "weather": "rain",
        "wind": 1.9
       },
       {
        "date": "2012-06-30T00:00:00",
        "precipitation": 3,
        "temp_max": 20,
        "temp_min": 13.3,
        "weather": "rain",
        "wind": 2.4
       },
       {
        "date": "2012-07-01T00:00:00",
        "precipitation": 0,
        "temp_max": 20,
        "temp_min": 12.2,
        "weather": "rain",
        "wind": 2.3
       },
       {
        "date": "2012-07-02T00:00:00",
        "precipitation": 2,
        "temp_max": 18.9,
        "temp_min": 11.7,
        "weather": "rain",
        "wind": 2.1
       },
       {
        "date": "2012-07-03T00:00:00",
        "precipitation": 5.8,
        "temp_max": 18.3,
        "temp_min": 10.6,
        "weather": "rain",
        "wind": 6
       },
       {
        "date": "2012-07-04T00:00:00",
        "precipitation": 0,
        "temp_max": 20.6,
        "temp_min": 9.4,
        "weather": "sun",
        "wind": 3.8
       },
       {
        "date": "2012-07-05T00:00:00",
        "precipitation": 0,
        "temp_max": 24.4,
        "temp_min": 10.6,
        "weather": "drizzle",
        "wind": 3.1
       },
       {
        "date": "2012-07-06T00:00:00",
        "precipitation": 0,
        "temp_max": 25,
        "temp_min": 11.1,
        "weather": "sun",
        "wind": 2.1
       },
       {
        "date": "2012-07-07T00:00:00",
        "precipitation": 0,
        "temp_max": 26.7,
        "temp_min": 12.8,
        "weather": "sun",
        "wind": 3.8
       },
       {
        "date": "2012-07-08T00:00:00",
        "precipitation": 0,
        "temp_max": 28.3,
        "temp_min": 14.4,
        "weather": "rain",
        "wind": 2.8
       },
       {
        "date": "2012-07-09T00:00:00",
        "precipitation": 1.5,
        "temp_max": 25,
        "temp_min": 12.8,
        "weather": "rain",
        "wind": 2
       },
       {
        "date": "2012-07-10T00:00:00",
        "precipitation": 0,
        "temp_max": 23.9,
        "temp_min": 11.1,
        "weather": "drizzle",
        "wind": 2.3
       },
       {
        "date": "2012-07-11T00:00:00",
        "precipitation": 0,
        "temp_max": 27.8,
        "temp_min": 13.3,
        "weather": "fog",
        "wind": 2.9
       },
       {
        "date": "2012-07-12T00:00:00",
        "precipitation": 0,
        "temp_max": 25.6,
        "temp_min": 13.3,
        "weather": "drizzle",
        "wind": 2.7
       },
       {
        "date": "2012-07-13T00:00:00",
        "precipitation": 0.5,
        "temp_max": 23.3,
        "temp_min": 13.9,
        "weather": "rain",
        "wind": 2.2
       },
       {
        "date": "2012-07-14T00:00:00",
        "precipitation": 0,
        "temp_max": 25,
        "temp_min": 15,
        "weather": "rain",
        "wind": 2.2
       },
       {
        "date": "2012-07-15T00:00:00",
        "precipitation": 0,
        "temp_max": 18.9,
        "temp_min": 13.3,
        "weather": "rain",
        "wind": 3.8
       },
       {
        "date": "2012-07-16T00:00:00",
        "precipitation": 0.3,
        "temp_max": 26.1,
        "temp_min": 13.3,
        "weather": "rain",
        "wind": 2.5
       },
       {
        "date": "2012-07-17T00:00:00",
        "precipitation": 0,
        "temp_max": 21.7,
        "temp_min": 15,
        "weather": "sun",
        "wind": 2.6
       },
       {
        "date": "2012-07-18T00:00:00",
        "precipitation": 0,
        "temp_max": 21.1,
        "temp_min": 14.4,
        "weather": "sun",
        "wind": 2.9
       },
       {
        "date": "2012-07-19T00:00:00",
        "precipitation": 0,
        "temp_max": 25,
        "temp_min": 14.4,
        "weather": "sun",
        "wind": 2.2
       },
       {
        "date": "2012-07-20T00:00:00",
        "precipitation": 15.2,
        "temp_max": 19.4,
        "temp_min": 13.9,
        "weather": "rain",
        "wind": 4
       },
       {
        "date": "2012-07-21T00:00:00",
        "precipitation": 0,
        "temp_max": 23.9,
        "temp_min": 13.9,
        "weather": "sun",
        "wind": 2.3
       },
       {
        "date": "2012-07-22T00:00:00",
        "precipitation": 1,
        "temp_max": 20.6,
        "temp_min": 12.2,
        "weather": "rain",
        "wind": 3.9
       },
       {
        "date": "2012-07-23T00:00:00",
        "precipitation": 0,
        "temp_max": 18.9,
        "temp_min": 11.1,
        "weather": "rain",
        "wind": 3.3
       },
       {
        "date": "2012-07-24T00:00:00",
        "precipitation": 0,
        "temp_max": 23.3,
        "temp_min": 12.2,
        "weather": "sun",
        "wind": 4.3
       },
       {
        "date": "2012-07-25T00:00:00",
        "precipitation": 0,
        "temp_max": 26.7,
        "temp_min": 12.8,
        "weather": "sun",
        "wind": 2.6
       },
       {
        "date": "2012-07-26T00:00:00",
        "precipitation": 0,
        "temp_max": 25.6,
        "temp_min": 12.8,
        "weather": "drizzle",
        "wind": 2.2
       },
       {
        "date": "2012-07-27T00:00:00",
        "precipitation": 0,
        "temp_max": 18.9,
        "temp_min": 13.9,
        "weather": "drizzle",
        "wind": 2.8
       },
       {
        "date": "2012-07-28T00:00:00",
        "precipitation": 0,
        "temp_max": 22.2,
        "temp_min": 13.3,
        "weather": "drizzle",
        "wind": 1.7
       },
       {
        "date": "2012-07-29T00:00:00",
        "precipitation": 0,
        "temp_max": 22.8,
        "temp_min": 15,
        "weather": "sun",
        "wind": 2
       },
       {
        "date": "2012-07-30T00:00:00",
        "precipitation": 0,
        "temp_max": 19.4,
        "temp_min": 13.3,
        "weather": "sun",
        "wind": 3
       },
       {
        "date": "2012-07-31T00:00:00",
        "precipitation": 0,
        "temp_max": 22.8,
        "temp_min": 13.9,
        "weather": "sun",
        "wind": 2.8
       },
       {
        "date": "2012-08-01T00:00:00",
        "precipitation": 0,
        "temp_max": 23.9,
        "temp_min": 13.3,
        "weather": "drizzle",
        "wind": 2.2
       },
       {
        "date": "2012-08-02T00:00:00",
        "precipitation": 0,
        "temp_max": 23.3,
        "temp_min": 12.2,
        "weather": "sun",
        "wind": 2.5
       },
       {
        "date": "2012-08-03T00:00:00",
        "precipitation": 0,
        "temp_max": 27.2,
        "temp_min": 12.8,
        "weather": "sun",
        "wind": 3.9
       },
       {
        "date": "2012-08-04T00:00:00",
        "precipitation": 0,
        "temp_max": 33.9,
        "temp_min": 16.7,
        "weather": "sun",
        "wind": 3.7
       },
       {
        "date": "2012-08-05T00:00:00",
        "precipitation": 0,
        "temp_max": 33.9,
        "temp_min": 17.8,
        "weather": "sun",
        "wind": 1.9
       },
       {
        "date": "2012-08-06T00:00:00",
        "precipitation": 0,
        "temp_max": 28.3,
        "temp_min": 15.6,
        "weather": "rain",
        "wind": 2.5
       },
       {
        "date": "2012-08-07T00:00:00",
        "precipitation": 0,
        "temp_max": 21.1,
        "temp_min": 15,
        "weather": "drizzle",
        "wind": 2.6
       },
       {
        "date": "2012-08-08T00:00:00",
        "precipitation": 0,
        "temp_max": 22.2,
        "temp_min": 15,
        "weather": "sun",
        "wind": 3.1
       },
       {
        "date": "2012-08-09T00:00:00",
        "precipitation": 0,
        "temp_max": 24.4,
        "temp_min": 14.4,
        "weather": "drizzle",
        "wind": 3.8
       },
       {
        "date": "2012-08-10T00:00:00",
        "precipitation": 0,
        "temp_max": 25.6,
        "temp_min": 12.2,
        "weather": "sun",
        "wind": 2.3
       },
       {
        "date": "2012-08-11T00:00:00",
        "precipitation": 0,
        "temp_max": 28.3,
        "temp_min": 13.3,
        "weather": "sun",
        "wind": 2.5
       },
       {
        "date": "2012-08-12T00:00:00",
        "precipitation": 0,
        "temp_max": 30.6,
        "temp_min": 15,
        "weather": "sun",
        "wind": 3
       },
       {
        "date": "2012-08-13T00:00:00",
        "precipitation": 0,
        "temp_max": 30.6,
        "temp_min": 15,
        "weather": "sun",
        "wind": 2.8
       },
       {
        "date": "2012-08-14T00:00:00",
        "precipitation": 0,
        "temp_max": 28.9,
        "temp_min": 13.9,
        "weather": "sun",
        "wind": 2.8
       },
       {
        "date": "2012-08-15T00:00:00",
        "precipitation": 0,
        "temp_max": 31.1,
        "temp_min": 16.7,
        "weather": "sun",
        "wind": 4.7
       },
       {
        "date": "2012-08-16T00:00:00",
        "precipitation": 0,
        "temp_max": 34.4,
        "temp_min": 18.3,
        "weather": "sun",
        "wind": 2.8
       },
       {
        "date": "2012-08-17T00:00:00",
        "precipitation": 0,
        "temp_max": 32.8,
        "temp_min": 16.1,
        "weather": "sun",
        "wind": 1.8
       },
       {
        "date": "2012-08-18T00:00:00",
        "precipitation": 0,
        "temp_max": 21.7,
        "temp_min": 14.4,
        "weather": "drizzle",
        "wind": 3
       },
       {
        "date": "2012-08-19T00:00:00",
        "precipitation": 0,
        "temp_max": 23.3,
        "temp_min": 15,
        "weather": "drizzle",
        "wind": 2.7
       },
       {
        "date": "2012-08-20T00:00:00",
        "precipitation": 0,
        "temp_max": 25.6,
        "temp_min": 15,
        "weather": "sun",
        "wind": 1.9
       },
       {
        "date": "2012-08-21T00:00:00",
        "precipitation": 0,
        "temp_max": 23.3,
        "temp_min": 13.3,
        "weather": "rain",
        "wind": 3
       },
       {
        "date": "2012-08-22T00:00:00",
        "precipitation": 0,
        "temp_max": 22.2,
        "temp_min": 13.3,
        "weather": "sun",
        "wind": 2.3
       },
       {
        "date": "2012-08-23T00:00:00",
        "precipitation": 0,
        "temp_max": 21.1,
        "temp_min": 13.9,
        "weather": "sun",
        "wind": 3.8
       },
       {
        "date": "2012-08-24T00:00:00",
        "precipitation": 0,
        "temp_max": 22.2,
        "temp_min": 10,
        "weather": "sun",
        "wind": 3.3
       },
       {
        "date": "2012-08-25T00:00:00",
        "precipitation": 0,
        "temp_max": 26.1,
        "temp_min": 11.7,
        "weather": "sun",
        "wind": 3.2
       },
       {
        "date": "2012-08-26T00:00:00",
        "precipitation": 0,
        "temp_max": 21.1,
        "temp_min": 12.2,
        "weather": "sun",
        "wind": 3.4
       },
       {
        "date": "2012-08-27T00:00:00",
        "precipitation": 0,
        "temp_max": 23.9,
        "temp_min": 13.3,
        "weather": "sun",
        "wind": 1.8
       },
       {
        "date": "2012-08-28T00:00:00",
        "precipitation": 0,
        "temp_max": 22.8,
        "temp_min": 12.2,
        "weather": "sun",
        "wind": 3.2
       },
       {
        "date": "2012-08-29T00:00:00",
        "precipitation": 0,
        "temp_max": 22.8,
        "temp_min": 13.3,
        "weather": "sun",
        "wind": 2.4
       },
       {
        "date": "2012-08-30T00:00:00",
        "precipitation": 0,
        "temp_max": 22.8,
        "temp_min": 12.8,
        "weather": "sun",
        "wind": 1.9
       },
       {
        "date": "2012-08-31T00:00:00",
        "precipitation": 0,
        "temp_max": 22.2,
        "temp_min": 10.6,
        "weather": "sun",
        "wind": 2.9
       },
       {
        "date": "2012-09-01T00:00:00",
        "precipitation": 0,
        "temp_max": 21.7,
        "temp_min": 10.6,
        "weather": "sun",
        "wind": 2.1
       },
       {
        "date": "2012-09-02T00:00:00",
        "precipitation": 0,
        "temp_max": 21.1,
        "temp_min": 10,
        "weather": "sun",
        "wind": 2
       },
       {
        "date": "2012-09-03T00:00:00",
        "precipitation": 0,
        "temp_max": 22.8,
        "temp_min": 12.8,
        "weather": "sun",
        "wind": 3.3
       },
       {
        "date": "2012-09-04T00:00:00",
        "precipitation": 0,
        "temp_max": 24.4,
        "temp_min": 11.1,
        "weather": "sun",
        "wind": 3.1
       },
       {
        "date": "2012-09-05T00:00:00",
        "precipitation": 0,
        "temp_max": 26.1,
        "temp_min": 11.7,
        "weather": "sun",
        "wind": 2.6
       },
       {
        "date": "2012-09-06T00:00:00",
        "precipitation": 0,
        "temp_max": 28.3,
        "temp_min": 14.4,
        "weather": "sun",
        "wind": 4.2
       },
       {
        "date": "2012-09-07T00:00:00",
        "precipitation": 0,
        "temp_max": 32.2,
        "temp_min": 13.3,
        "weather": "sun",
        "wind": 3.1
       },
       {
        "date": "2012-09-08T00:00:00",
        "precipitation": 0,
        "temp_max": 25,
        "temp_min": 13.3,
        "weather": "sun",
        "wind": 3
       },
       {
        "date": "2012-09-09T00:00:00",
        "precipitation": 0.3,
        "temp_max": 18.9,
        "temp_min": 13.9,
        "weather": "rain",
        "wind": 5
       },
       {
        "date": "2012-09-10T00:00:00",
        "precipitation": 0.3,
        "temp_max": 20,
        "temp_min": 11.7,
        "weather": "rain",
        "wind": 3.9
       },
       {
        "date": "2012-09-11T00:00:00",
        "precipitation": 0,
        "temp_max": 20,
        "temp_min": 8.9,
        "weather": "sun",
        "wind": 4.2
       },
       {
        "date": "2012-09-12T00:00:00",
        "precipitation": 0,
        "temp_max": 22.2,
        "temp_min": 10,
        "weather": "sun",
        "wind": 5.6
       },
       {
        "date": "2012-09-13T00:00:00",
        "precipitation": 0,
        "temp_max": 27.8,
        "temp_min": 11.7,
        "weather": "sun",
        "wind": 3.6
       },
       {
        "date": "2012-09-14T00:00:00",
        "precipitation": 0,
        "temp_max": 26.1,
        "temp_min": 11.1,
        "weather": "sun",
        "wind": 1.5
       },
       {
        "date": "2012-09-15T00:00:00",
        "precipitation": 0,
        "temp_max": 22.2,
        "temp_min": 11.1,
        "weather": "sun",
        "wind": 1.9
       },
       {
        "date": "2012-09-16T00:00:00",
        "precipitation": 0,
        "temp_max": 24.4,
        "temp_min": 9.4,
        "weather": "sun",
        "wind": 2.3
       },
       {
        "date": "2012-09-17T00:00:00",
        "precipitation": 0,
        "temp_max": 27.8,
        "temp_min": 11.7,
        "weather": "fog",
        "wind": 2.2
       },
       {
        "date": "2012-09-18T00:00:00",
        "precipitation": 0,
        "temp_max": 27.8,
        "temp_min": 11.7,
        "weather": "sun",
        "wind": 1.4
       },
       {
        "date": "2012-09-19T00:00:00",
        "precipitation": 0,
        "temp_max": 23.9,
        "temp_min": 11.7,
        "weather": "drizzle",
        "wind": 1.9
       },
       {
        "date": "2012-09-20T00:00:00",
        "precipitation": 0,
        "temp_max": 19.4,
        "temp_min": 10,
        "weather": "drizzle",
        "wind": 2.5
       },
       {
        "date": "2012-09-21T00:00:00",
        "precipitation": 0,
        "temp_max": 16.1,
        "temp_min": 12.8,
        "weather": "drizzle",
        "wind": 2.1
       },
       {
        "date": "2012-09-22T00:00:00",
        "precipitation": 0.3,
        "temp_max": 19.4,
        "temp_min": 11.7,
        "weather": "rain",
        "wind": 1.1
       },
       {
        "date": "2012-09-23T00:00:00",
        "precipitation": 0,
        "temp_max": 19.4,
        "temp_min": 10,
        "weather": "fog",
        "wind": 1.4
       },
       {
        "date": "2012-09-24T00:00:00",
        "precipitation": 0,
        "temp_max": 21.1,
        "temp_min": 10,
        "weather": "fog",
        "wind": 1.8
       },
       {
        "date": "2012-09-25T00:00:00",
        "precipitation": 0,
        "temp_max": 19.4,
        "temp_min": 11.1,
        "weather": "sun",
        "wind": 1.7
       },
       {
        "date": "2012-09-26T00:00:00",
        "precipitation": 0,
        "temp_max": 19.4,
        "temp_min": 9.4,
        "weather": "drizzle",
        "wind": 1.7
       },
       {
        "date": "2012-09-27T00:00:00",
        "precipitation": 0,
        "temp_max": 22.8,
        "temp_min": 10,
        "weather": "drizzle",
        "wind": 1.7
       },
       {
        "date": "2012-09-28T00:00:00",
        "precipitation": 0,
        "temp_max": 25,
        "temp_min": 12.2,
        "weather": "rain",
        "wind": 1.1
       },
       {
        "date": "2012-09-29T00:00:00",
        "precipitation": 0,
        "temp_max": 20.6,
        "temp_min": 12.2,
        "weather": "sun",
        "wind": 4.3
       },
       {
        "date": "2012-09-30T00:00:00",
        "precipitation": 0,
        "temp_max": 21.1,
        "temp_min": 7.8,
        "weather": "sun",
        "wind": 3.1
       },
       {
        "date": "2012-10-01T00:00:00",
        "precipitation": 0,
        "temp_max": 23.3,
        "temp_min": 8.9,
        "weather": "sun",
        "wind": 3
       },
       {
        "date": "2012-10-02T00:00:00",
        "precipitation": 0,
        "temp_max": 17.8,
        "temp_min": 10,
        "weather": "sun",
        "wind": 4.1
       },
       {
        "date": "2012-10-03T00:00:00",
        "precipitation": 0,
        "temp_max": 18.9,
        "temp_min": 7.8,
        "weather": "sun",
        "wind": 7.3
       },
       {
        "date": "2012-10-04T00:00:00",
        "precipitation": 0,
        "temp_max": 18.9,
        "temp_min": 8.3,
        "weather": "sun",
        "wind": 6.5
       },
       {
        "date": "2012-10-05T00:00:00",
        "precipitation": 0,
        "temp_max": 21.7,
        "temp_min": 8.9,
        "weather": "sun",
        "wind": 5.7
       },
       {
        "date": "2012-10-06T00:00:00",
        "precipitation": 0,
        "temp_max": 23.9,
        "temp_min": 7.8,
        "weather": "sun",
        "wind": 5.1
       },
       {
        "date": "2012-10-07T00:00:00",
        "precipitation": 0,
        "temp_max": 23.9,
        "temp_min": 7.8,
        "weather": "sun",
        "wind": 1.3
       },
       {
        "date": "2012-10-08T00:00:00",
        "precipitation": 0,
        "temp_max": 21.1,
        "temp_min": 7.8,
        "weather": "sun",
        "wind": 1.9
       },
       {
        "date": "2012-10-09T00:00:00",
        "precipitation": 0,
        "temp_max": 16.1,
        "temp_min": 8.9,
        "weather": "drizzle",
        "wind": 1.6
       },
       {
        "date": "2012-10-10T00:00:00",
        "precipitation": 0,
        "temp_max": 12.2,
        "temp_min": 8.3,
        "weather": "drizzle",
        "wind": 1.4
       },
       {
        "date": "2012-10-11T00:00:00",
        "precipitation": 0,
        "temp_max": 13.9,
        "temp_min": 7.2,
        "weather": "drizzle",
        "wind": 1.3
       },
       {
        "date": "2012-10-12T00:00:00",
        "precipitation": 2,
        "temp_max": 13.9,
        "temp_min": 8.9,
        "weather": "rain",
        "wind": 4.6
       },
       {
        "date": "2012-10-13T00:00:00",
        "precipitation": 4.8,
        "temp_max": 15.6,
        "temp_min": 12.2,
        "weather": "rain",
        "wind": 3.9
       },
       {
        "date": "2012-10-14T00:00:00",
        "precipitation": 16.5,
        "temp_max": 17.8,
        "temp_min": 13.3,
        "weather": "rain",
        "wind": 3.4
       },
       {
        "date": "2012-10-15T00:00:00",
        "precipitation": 7.9,
        "temp_max": 17.2,
        "temp_min": 11.1,
        "weather": "rain",
        "wind": 4.6
       },
       {
        "date": "2012-10-16T00:00:00",
        "precipitation": 0,
        "temp_max": 16.1,
        "temp_min": 8.3,
        "weather": "sun",
        "wind": 5.5
       },
       {
        "date": "2012-10-17T00:00:00",
        "precipitation": 0,
        "temp_max": 14.4,
        "temp_min": 6.1,
        "weather": "sun",
        "wind": 1.6
       },
       {
        "date": "2012-10-18T00:00:00",
        "precipitation": 20.8,
        "temp_max": 17.8,
        "temp_min": 6.7,
        "weather": "rain",
        "wind": 2
       },
       {
        "date": "2012-10-19T00:00:00",
        "precipitation": 4.8,
        "temp_max": 15,
        "temp_min": 9.4,
        "weather": "rain",
        "wind": 5.3
       },
       {
        "date": "2012-10-20T00:00:00",
        "precipitation": 0.5,
        "temp_max": 11.1,
        "temp_min": 6.1,
        "weather": "rain",
        "wind": 5.7
       },
       {
        "date": "2012-10-21T00:00:00",
        "precipitation": 6.4,
        "temp_max": 11.7,
        "temp_min": 4.4,
        "weather": "rain",
        "wind": 2.7
       },
       {
        "date": "2012-10-22T00:00:00",
        "precipitation": 8.9,
        "temp_max": 7.8,
        "temp_min": 3.3,
        "weather": "rain",
        "wind": 2.6
       },
       {
        "date": "2012-10-23T00:00:00",
        "precipitation": 0,
        "temp_max": 11.1,
        "temp_min": 5.6,
        "weather": "rain",
        "wind": 3
       },
       {
        "date": "2012-10-24T00:00:00",
        "precipitation": 7.1,
        "temp_max": 11.7,
        "temp_min": 6.1,
        "weather": "rain",
        "wind": 2.1
       },
       {
        "date": "2012-10-25T00:00:00",
        "precipitation": 0,
        "temp_max": 11.7,
        "temp_min": 6.7,
        "weather": "sun",
        "wind": 1.5
       },
       {
        "date": "2012-10-26T00:00:00",
        "precipitation": 1.5,
        "temp_max": 11.1,
        "temp_min": 7.2,
        "weather": "rain",
        "wind": 2.5
       },
       {
        "date": "2012-10-27T00:00:00",
        "precipitation": 23.1,
        "temp_max": 14.4,
        "temp_min": 9.4,
        "weather": "rain",
        "wind": 5.1
       },
       {
        "date": "2012-10-28T00:00:00",
        "precipitation": 6.1,
        "temp_max": 14.4,
        "temp_min": 10,
        "weather": "rain",
        "wind": 3.8
       },
       {
        "date": "2012-10-29T00:00:00",
        "precipitation": 10.9,
        "temp_max": 15.6,
        "temp_min": 10,
        "weather": "rain",
        "wind": 4.9
       },
       {
        "date": "2012-10-30T00:00:00",
        "precipitation": 34.5,
        "temp_max": 15,
        "temp_min": 12.2,
        "weather": "rain",
        "wind": 2.8
       },
       {
        "date": "2012-10-31T00:00:00",
        "precipitation": 14.5,
        "temp_max": 15.6,
        "temp_min": 11.1,
        "weather": "rain",
        "wind": 2.7
       },
       {
        "date": "2012-11-01T00:00:00",
        "precipitation": 9.7,
        "temp_max": 15,
        "temp_min": 10.6,
        "weather": "rain",
        "wind": 3
       },
       {
        "date": "2012-11-02T00:00:00",
        "precipitation": 5.6,
        "temp_max": 15,
        "temp_min": 10.6,
        "weather": "rain",
        "wind": 1
       },
       {
        "date": "2012-11-03T00:00:00",
        "precipitation": 0.5,
        "temp_max": 15.6,
        "temp_min": 11.1,
        "weather": "rain",
        "wind": 3.6
       },
       {
        "date": "2012-11-04T00:00:00",
        "precipitation": 8.1,
        "temp_max": 17.8,
        "temp_min": 12.8,
        "weather": "rain",
        "wind": 3.8
       },
       {
        "date": "2012-11-05T00:00:00",
        "precipitation": 0.8,
        "temp_max": 15,
        "temp_min": 7.8,
        "weather": "rain",
        "wind": 4
       },
       {
        "date": "2012-11-06T00:00:00",
        "precipitation": 0.3,
        "temp_max": 12.8,
        "temp_min": 6.7,
        "weather": "rain",
        "wind": 3.5
       },
       {
        "date": "2012-11-07T00:00:00",
        "precipitation": 0,
        "temp_max": 12.2,
        "temp_min": 3.9,
        "weather": "rain",
        "wind": 3.4
       },
       {
        "date": "2012-11-08T00:00:00",
        "precipitation": 0,
        "temp_max": 10,
        "temp_min": 1.1,
        "weather": "rain",
        "wind": 3.4
       },
       {
        "date": "2012-11-09T00:00:00",
        "precipitation": 0,
        "temp_max": 8.9,
        "temp_min": 1.1,
        "weather": "rain",
        "wind": 2
       },
       {
        "date": "2012-11-10T00:00:00",
        "precipitation": 0,
        "temp_max": 7.8,
        "temp_min": -0.6,
        "weather": "sun",
        "wind": 2.2
       },
       {
        "date": "2012-11-11T00:00:00",
        "precipitation": 15.2,
        "temp_max": 8.9,
        "temp_min": 1.1,
        "weather": "rain",
        "wind": 3
       },
       {
        "date": "2012-11-12T00:00:00",
        "precipitation": 3.6,
        "temp_max": 12.8,
        "temp_min": 6.1,
        "weather": "rain",
        "wind": 3
       },
       {
        "date": "2012-11-13T00:00:00",
        "precipitation": 5.3,
        "temp_max": 11.1,
        "temp_min": 7.8,
        "weather": "rain",
        "wind": 2.5
       },
       {
        "date": "2012-11-14T00:00:00",
        "precipitation": 0.8,
        "temp_max": 11.1,
        "temp_min": 5,
        "weather": "rain",
        "wind": 2.6
       },
       {
        "date": "2012-11-15T00:00:00",
        "precipitation": 0,
        "temp_max": 9.4,
        "temp_min": 2.8,
        "weather": "drizzle",
        "wind": 2.4
       },
       {
        "date": "2012-11-16T00:00:00",
        "precipitation": 5.6,
        "temp_max": 9.4,
        "temp_min": 2.2,
        "weather": "rain",
        "wind": 1.6
       },
       {
        "date": "2012-11-17T00:00:00",
        "precipitation": 6.1,
        "temp_max": 12.2,
        "temp_min": 6.1,
        "weather": "rain",
        "wind": 5.3
       },
       {
        "date": "2012-11-18T00:00:00",
        "precipitation": 7.9,
        "temp_max": 10,
        "temp_min": 6.1,
        "weather": "rain",
        "wind": 4.9
       },
       {
        "date": "2012-11-19T00:00:00",
        "precipitation": 54.1,
        "temp_max": 13.3,
        "temp_min": 8.3,
        "weather": "rain",
        "wind": 6
       },
       {
        "date": "2012-11-20T00:00:00",
        "precipitation": 3.8,
        "temp_max": 11.1,
        "temp_min": 7.2,
        "weather": "rain",
        "wind": 4.2
       },
       {
        "date": "2012-11-21T00:00:00",
        "precipitation": 11.2,
        "temp_max": 8.3,
        "temp_min": 3.9,
        "weather": "rain",
        "wind": 5.5
       },
       {
        "date": "2012-11-22T00:00:00",
        "precipitation": 0,
        "temp_max": 8.9,
        "temp_min": 2.8,
        "weather": "rain",
        "wind": 1.5
       },
       {
        "date": "2012-11-23T00:00:00",
        "precipitation": 32,
        "temp_max": 9.4,
        "temp_min": 6.1,
        "weather": "rain",
        "wind": 2.4
       },
       {
        "date": "2012-11-24T00:00:00",
        "precipitation": 0,
        "temp_max": 8.9,
        "temp_min": 3.9,
        "weather": "rain",
        "wind": 1.2
       },
       {
        "date": "2012-11-25T00:00:00",
        "precipitation": 0,
        "temp_max": 8.3,
        "temp_min": 1.1,
        "weather": "drizzle",
        "wind": 3.6
       },
       {
        "date": "2012-11-26T00:00:00",
        "precipitation": 0,
        "temp_max": 9.4,
        "temp_min": 1.7,
        "weather": "fog",
        "wind": 3.8
       },
       {
        "date": "2012-11-27T00:00:00",
        "precipitation": 0,
        "temp_max": 10,
        "temp_min": 1.7,
        "weather": "sun",
        "wind": 1.5
       },
       {
        "date": "2012-11-28T00:00:00",
        "precipitation": 2.8,
        "temp_max": 9.4,
        "temp_min": 2.2,
        "weather": "rain",
        "wind": 2.9
       },
       {
        "date": "2012-11-29T00:00:00",
        "precipitation": 1.5,
        "temp_max": 12.8,
        "temp_min": 7.8,
        "weather": "rain",
        "wind": 4.2
       },
       {
        "date": "2012-11-30T00:00:00",
        "precipitation": 35.6,
        "temp_max": 15,
        "temp_min": 7.8,
        "weather": "rain",
        "wind": 4.6
       },
       {
        "date": "2012-12-01T00:00:00",
        "precipitation": 4.1,
        "temp_max": 13.3,
        "temp_min": 8.3,
        "weather": "rain",
        "wind": 5.5
       },
       {
        "date": "2012-12-02T00:00:00",
        "precipitation": 19.6,
        "temp_max": 8.3,
        "temp_min": 7.2,
        "weather": "rain",
        "wind": 6.2
       },
       {
        "date": "2012-12-03T00:00:00",
        "precipitation": 13,
        "temp_max": 9.4,
        "temp_min": 7.2,
        "weather": "rain",
        "wind": 4.4
       },
       {
        "date": "2012-12-04T00:00:00",
        "precipitation": 14.2,
        "temp_max": 11.7,
        "temp_min": 7.2,
        "weather": "rain",
        "wind": 6.2
       },
       {
        "date": "2012-12-05T00:00:00",
        "precipitation": 1.5,
        "temp_max": 8.9,
        "temp_min": 4.4,
        "weather": "rain",
        "wind": 5
       },
       {
        "date": "2012-12-06T00:00:00",
        "precipitation": 1.5,
        "temp_max": 7.2,
        "temp_min": 6.1,
        "weather": "rain",
        "wind": 5.1
       },
       {
        "date": "2012-12-07T00:00:00",
        "precipitation": 1,
        "temp_max": 7.8,
        "temp_min": 3.3,
        "weather": "rain",
        "wind": 4.6
       },
       {
        "date": "2012-12-08T00:00:00",
        "precipitation": 0,
        "temp_max": 6.7,
        "temp_min": 3.3,
        "weather": "sun",
        "wind": 2
       },
       {
        "date": "2012-12-09T00:00:00",
        "precipitation": 1.5,
        "temp_max": 6.7,
        "temp_min": 2.8,
        "weather": "rain",
        "wind": 2.1
       },
       {
        "date": "2012-12-10T00:00:00",
        "precipitation": 0.5,
        "temp_max": 7.2,
        "temp_min": 5.6,
        "weather": "rain",
        "wind": 1.8
       },
       {
        "date": "2012-12-11T00:00:00",
        "precipitation": 3,
        "temp_max": 7.8,
        "temp_min": 5.6,
        "weather": "rain",
        "wind": 4.5
       },
       {
        "date": "2012-12-12T00:00:00",
        "precipitation": 8.1,
        "temp_max": 6.7,
        "temp_min": 4.4,
        "weather": "rain",
        "wind": 2
       },
       {
        "date": "2012-12-13T00:00:00",
        "precipitation": 2.3,
        "temp_max": 7.2,
        "temp_min": 3.3,
        "weather": "rain",
        "wind": 2.8
       },
       {
        "date": "2012-12-14T00:00:00",
        "precipitation": 7.9,
        "temp_max": 6.1,
        "temp_min": 1.1,
        "weather": "rain",
        "wind": 1.7
       },
       {
        "date": "2012-12-15T00:00:00",
        "precipitation": 5.3,
        "temp_max": 4.4,
        "temp_min": 0.6,
        "weather": "snow",
        "wind": 5.1
       },
       {
        "date": "2012-12-16T00:00:00",
        "precipitation": 22.6,
        "temp_max": 6.7,
        "temp_min": 3.3,
        "weather": "snow",
        "wind": 5.5
       },
       {
        "date": "2012-12-17T00:00:00",
        "precipitation": 2,
        "temp_max": 8.3,
        "temp_min": 1.7,
        "weather": "rain",
        "wind": 9.5
       },
       {
        "date": "2012-12-18T00:00:00",
        "precipitation": 3.3,
        "temp_max": 3.9,
        "temp_min": 0.6,
        "weather": "snow",
        "wind": 5.3
       },
       {
        "date": "2012-12-19T00:00:00",
        "precipitation": 13.7,
        "temp_max": 8.3,
        "temp_min": 1.7,
        "weather": "snow",
        "wind": 5.8
       },
       {
        "date": "2012-12-20T00:00:00",
        "precipitation": 13.2,
        "temp_max": 7.2,
        "temp_min": 0.6,
        "weather": "rain",
        "wind": 3.7
       },
       {
        "date": "2012-12-21T00:00:00",
        "precipitation": 1.8,
        "temp_max": 8.3,
        "temp_min": -1.7,
        "weather": "rain",
        "wind": 1.7
       },
       {
        "date": "2012-12-22T00:00:00",
        "precipitation": 3.3,
        "temp_max": 8.3,
        "temp_min": 3.9,
        "weather": "rain",
        "wind": 3.5
       },
       {
        "date": "2012-12-23T00:00:00",
        "precipitation": 6.6,
        "temp_max": 7.2,
        "temp_min": 3.3,
        "weather": "rain",
        "wind": 2.5
       },
       {
        "date": "2012-12-24T00:00:00",
        "precipitation": 0.3,
        "temp_max": 5.6,
        "temp_min": 2.8,
        "weather": "rain",
        "wind": 2.8
       },
       {
        "date": "2012-12-25T00:00:00",
        "precipitation": 13.5,
        "temp_max": 5.6,
        "temp_min": 2.8,
        "weather": "snow",
        "wind": 4.2
       },
       {
        "date": "2012-12-26T00:00:00",
        "precipitation": 4.6,
        "temp_max": 6.7,
        "temp_min": 3.3,
        "weather": "rain",
        "wind": 4.9
       },
       {
        "date": "2012-12-27T00:00:00",
        "precipitation": 4.1,
        "temp_max": 7.8,
        "temp_min": 3.3,
        "weather": "rain",
        "wind": 3.2
       },
       {
        "date": "2012-12-28T00:00:00",
        "precipitation": 0,
        "temp_max": 8.3,
        "temp_min": 3.9,
        "weather": "rain",
        "wind": 1.7
       },
       {
        "date": "2012-12-29T00:00:00",
        "precipitation": 1.5,
        "temp_max": 5,
        "temp_min": 3.3,
        "weather": "rain",
        "wind": 1.7
       },
       {
        "date": "2012-12-30T00:00:00",
        "precipitation": 0,
        "temp_max": 4.4,
        "temp_min": 0,
        "weather": "drizzle",
        "wind": 1.8
       },
       {
        "date": "2012-12-31T00:00:00",
        "precipitation": 0,
        "temp_max": 3.3,
        "temp_min": -1.1,
        "weather": "drizzle",
        "wind": 2
       },
       {
        "date": "2013-01-01T00:00:00",
        "precipitation": 0,
        "temp_max": 5,
        "temp_min": -2.8,
        "weather": "sun",
        "wind": 2.7
       },
       {
        "date": "2013-01-02T00:00:00",
        "precipitation": 0,
        "temp_max": 6.1,
        "temp_min": -1.1,
        "weather": "sun",
        "wind": 3.2
       },
       {
        "date": "2013-01-03T00:00:00",
        "precipitation": 4.1,
        "temp_max": 6.7,
        "temp_min": -1.7,
        "weather": "rain",
        "wind": 3
       },
       {
        "date": "2013-01-04T00:00:00",
        "precipitation": 2.5,
        "temp_max": 10,
        "temp_min": 2.2,
        "weather": "rain",
        "wind": 2.8
       },
       {
        "date": "2013-01-05T00:00:00",
        "precipitation": 3,
        "temp_max": 6.7,
        "temp_min": 4.4,
        "weather": "rain",
        "wind": 3.1
       },
       {
        "date": "2013-01-06T00:00:00",
        "precipitation": 2,
        "temp_max": 7.2,
        "temp_min": 2.8,
        "weather": "rain",
        "wind": 3
       },
       {
        "date": "2013-01-07T00:00:00",
        "precipitation": 2.3,
        "temp_max": 10,
        "temp_min": 4.4,
        "weather": "rain",
        "wind": 7.3
       },
       {
        "date": "2013-01-08T00:00:00",
        "precipitation": 16.3,
        "temp_max": 11.7,
        "temp_min": 5.6,
        "weather": "rain",
        "wind": 6.3
       },
       {
        "date": "2013-01-09T00:00:00",
        "precipitation": 38.4,
        "temp_max": 10,
        "temp_min": 1.7,
        "weather": "rain",
        "wind": 5.1
       },
       {
        "date": "2013-01-10T00:00:00",
        "precipitation": 0.3,
        "temp_max": 3.3,
        "temp_min": -0.6,
        "weather": "snow",
        "wind": 2.1
       },
       {
        "date": "2013-01-11T00:00:00",
        "precipitation": 0,
        "temp_max": 2.8,
        "temp_min": -2.8,
        "weather": "drizzle",
        "wind": 1.9
       },
       {
        "date": "2013-01-12T00:00:00",
        "precipitation": 0,
        "temp_max": 2.8,
        "temp_min": -3.9,
        "weather": "sun",
        "wind": 2
       },
       {
        "date": "2013-01-13T00:00:00",
        "precipitation": 0,
        "temp_max": 2.2,
        "temp_min": -4.4,
        "weather": "sun",
        "wind": 1.5
       },
       {
        "date": "2013-01-14T00:00:00",
        "precipitation": 0,
        "temp_max": 3.3,
        "temp_min": -2.2,
        "weather": "sun",
        "wind": 1.3
       },
       {
        "date": "2013-01-15T00:00:00",
        "precipitation": 0,
        "temp_max": 6.7,
        "temp_min": -0.6,
        "weather": "sun",
        "wind": 2.3
       },
       {
        "date": "2013-01-16T00:00:00",
        "precipitation": 0,
        "temp_max": 6.1,
        "temp_min": -3.9,
        "weather": "drizzle",
        "wind": 1.8
       },
       {
        "date": "2013-01-17T00:00:00",
        "precipitation": 0,
        "temp_max": 3.9,
        "temp_min": -2.8,
        "weather": "drizzle",
        "wind": 1
       },
       {
        "date": "2013-01-18T00:00:00",
        "precipitation": 0,
        "temp_max": 3.3,
        "temp_min": -1.1,
        "weather": "drizzle",
        "wind": 1.3
       },
       {
        "date": "2013-01-19T00:00:00",
        "precipitation": 0,
        "temp_max": 1.1,
        "temp_min": -0.6,
        "weather": "drizzle",
        "wind": 1.9
       },
       {
        "date": "2013-01-20T00:00:00",
        "precipitation": 0,
        "temp_max": 3.3,
        "temp_min": -0.6,
        "weather": "drizzle",
        "wind": 2.1
       },
       {
        "date": "2013-01-21T00:00:00",
        "precipitation": 0,
        "temp_max": 2.2,
        "temp_min": -1.7,
        "weather": "drizzle",
        "wind": 1.1
       },
       {
        "date": "2013-01-22T00:00:00",
        "precipitation": 0,
        "temp_max": 3.3,
        "temp_min": -1.7,
        "weather": "drizzle",
        "wind": 0.6
       },
       {
        "date": "2013-01-23T00:00:00",
        "precipitation": 5.1,
        "temp_max": 7.2,
        "temp_min": 2.2,
        "weather": "rain",
        "wind": 3.1
       },
       {
        "date": "2013-01-24T00:00:00",
        "precipitation": 5.8,
        "temp_max": 7.2,
        "temp_min": 1.1,
        "weather": "rain",
        "wind": 2.6
       },
       {
        "date": "2013-01-25T00:00:00",
        "precipitation": 3,
        "temp_max": 10.6,
        "temp_min": 2.8,
        "weather": "rain",
        "wind": 2.1
       },
       {
        "date": "2013-01-26T00:00:00",
        "precipitation": 2.3,
        "temp_max": 8.3,
        "temp_min": 3.9,
        "weather": "rain",
        "wind": 4.5
       },
       {
        "date": "2013-01-27T00:00:00",
        "precipitation": 1.8,
        "temp_max": 5.6,
        "temp_min": 3.9,
        "weather": "rain",
        "wind": 4.5
       },
       {
        "date": "2013-01-28T00:00:00",
        "precipitation": 7.9,
        "temp_max": 6.1,
        "temp_min": 3.3,
        "weather": "rain",
        "wind": 3.2
       },
       {
        "date": "2013-01-29T00:00:00",
        "precipitation": 4.3,
        "temp_max": 8.3,
        "temp_min": 5,
        "weather": "rain",
        "wind": 3.9
       },
       {
        "date": "2013-01-30T00:00:00",
        "precipitation": 3.6,
        "temp_max": 8.9,
        "temp_min": 6.7,
        "weather": "rain",
        "wind": 3.9
       },
       {
        "date": "2013-01-31T00:00:00",
        "precipitation": 3,
        "temp_max": 9.4,
        "temp_min": 7.2,
        "weather": "rain",
        "wind": 4
       },
       {
        "date": "2013-02-01T00:00:00",
        "precipitation": 0.3,
        "temp_max": 11.7,
        "temp_min": 5,
        "weather": "rain",
        "wind": 2.9
       },
       {
        "date": "2013-02-02T00:00:00",
        "precipitation": 0,
        "temp_max": 6.1,
        "temp_min": 2.8,
        "weather": "drizzle",
        "wind": 2
       },
       {
        "date": "2013-02-03T00:00:00",
        "precipitation": 2.3,
        "temp_max": 8.9,
        "temp_min": 2.8,
        "weather": "rain",
        "wind": 2.9
       },
       {
        "date": "2013-02-04T00:00:00",
        "precipitation": 0,
        "temp_max": 10.6,
        "temp_min": 6.7,
        "weather": "rain",
        "wind": 2.6
       },
       {
        "date": "2013-02-05T00:00:00",
        "precipitation": 3.3,
        "temp_max": 10,
        "temp_min": 6.7,
        "weather": "rain",
        "wind": 5.1
       },
       {
        "date": "2013-02-06T00:00:00",
        "precipitation": 1,
        "temp_max": 10.6,
        "temp_min": 6.1,
        "weather": "rain",
        "wind": 4.5
       },
       {
        "date": "2013-02-07T00:00:00",
        "precipitation": 1.3,
        "temp_max": 9.4,
        "temp_min": 3.3,
        "weather": "rain",
        "wind": 4.1
       },
       {
        "date": "2013-02-08T00:00:00",
        "precipitation": 0,
        "temp_max": 7.8,
        "temp_min": 2.2,
        "weather": "sun",
        "wind": 1.3
       },
       {
        "date": "2013-02-09T00:00:00",
        "precipitation": 0.3,
        "temp_max": 8.3,
        "temp_min": 4.4,
        "weather": "rain",
        "wind": 1.3
       },
       {
        "date": "2013-02-10T00:00:00",
        "precipitation": 0,
        "temp_max": 8.9,
        "temp_min": 1.7,
        "weather": "drizzle",
        "wind": 2
       },
       {
        "date": "2013-02-11T00:00:00",
        "precipitation": 0.3,
        "temp_max": 8.3,
        "temp_min": 4.4,
        "weather": "rain",
        "wind": 1.4
       },
       {
        "date": "2013-02-12T00:00:00",
        "precipitation": 1,
        "temp_max": 11.1,
        "temp_min": 7.2,
        "weather": "rain",
        "wind": 5.6
       },
       {
        "date": "2013-02-13T00:00:00",
        "precipitation": 2.3,
        "temp_max": 9.4,
        "temp_min": 7.2,
        "weather": "rain",
        "wind": 4.1
       },
       {
        "date": "2013-02-14T00:00:00",
        "precipitation": 1,
        "temp_max": 9.4,
        "temp_min": 5.6,
        "weather": "rain",
        "wind": 2.2
       },
       {
        "date": "2013-02-15T00:00:00",
        "precipitation": 0,
        "temp_max": 13.3,
        "temp_min": 5,
        "weather": "drizzle",
        "wind": 2.4
       },
       {
        "date": "2013-02-16T00:00:00",
        "precipitation": 0,
        "temp_max": 11.1,
        "temp_min": 3.9,
        "weather": "rain",
        "wind": 5.6
       },
       {
        "date": "2013-02-17T00:00:00",
        "precipitation": 0,
        "temp_max": 9.4,
        "temp_min": 4.4,
        "weather": "rain",
        "wind": 3.4
       },
       {
        "date": "2013-02-18T00:00:00",
        "precipitation": 0,
        "temp_max": 7.8,
        "temp_min": 3.9,
        "weather": "rain",
        "wind": 1.9
       },
       {
        "date": "2013-02-19T00:00:00",
        "precipitation": 0,
        "temp_max": 10.6,
        "temp_min": 1.7,
        "weather": "sun",
        "wind": 3.4
       },
       {
        "date": "2013-02-20T00:00:00",
        "precipitation": 1.5,
        "temp_max": 7.8,
        "temp_min": 1.1,
        "weather": "rain",
        "wind": 2.1
       },
       {
        "date": "2013-02-21T00:00:00",
        "precipitation": 0.5,
        "temp_max": 6.7,
        "temp_min": 3.9,
        "weather": "rain",
        "wind": 6.2
       },
       {
        "date": "2013-02-22T00:00:00",
        "precipitation": 9.4,
        "temp_max": 7.8,
        "temp_min": 3.9,
        "weather": "rain",
        "wind": 8.1
       },
       {
        "date": "2013-02-23T00:00:00",
        "precipitation": 0.3,
        "temp_max": 10,
        "temp_min": 3.9,
        "weather": "rain",
        "wind": 4.6
       },
       {
        "date": "2013-02-24T00:00:00",
        "precipitation": 0,
        "temp_max": 8.9,
        "temp_min": 5,
        "weather": "rain",
        "wind": 5.5
       },
       {
        "date": "2013-02-25T00:00:00",
        "precipitation": 2.3,
        "temp_max": 10.6,
        "temp_min": 3.3,
        "weather": "rain",
        "wind": 7.1
       },
       {
        "date": "2013-02-26T00:00:00",
        "precipitation": 0.5,
        "temp_max": 8.9,
        "temp_min": 3.9,
        "weather": "rain",
        "wind": 3.8
       },
       {
        "date": "2013-02-27T00:00:00",
        "precipitation": 4.6,
        "temp_max": 10,
        "temp_min": 4.4,
        "weather": "rain",
        "wind": 1.8
       },
       {
        "date": "2013-02-28T00:00:00",
        "precipitation": 8.1,
        "temp_max": 11.7,
        "temp_min": 6.7,
        "weather": "rain",
        "wind": 3.8
       },
       {
        "date": "2013-03-01T00:00:00",
        "precipitation": 4.1,
        "temp_max": 15,
        "temp_min": 11.1,
        "weather": "rain",
        "wind": 5.4
       },
       {
        "date": "2013-03-02T00:00:00",
        "precipitation": 0.8,
        "temp_max": 13.9,
        "temp_min": 5,
        "weather": "rain",
        "wind": 4.5
       },
       {
        "date": "2013-03-03T00:00:00",
        "precipitation": 0,
        "temp_max": 11.1,
        "temp_min": 2.2,
        "weather": "sun",
        "wind": 2.8
       },
       {
        "date": "2013-03-04T00:00:00",
        "precipitation": 0,
        "temp_max": 13.3,
        "temp_min": 0,
        "weather": "sun",
        "wind": 3.9
       },
       {
        "date": "2013-03-05T00:00:00",
        "precipitation": 0,
        "temp_max": 9.4,
        "temp_min": 6.1,
        "weather": "rain",
        "wind": 2.4
       },
       {
        "date": "2013-03-06T00:00:00",
        "precipitation": 11.9,
        "temp_max": 7.2,
        "temp_min": 5,
        "weather": "rain",
        "wind": 4.1
       },
       {
        "date": "2013-03-07T00:00:00",
        "precipitation": 7.4,
        "temp_max": 12.2,
        "temp_min": 5,
        "weather": "rain",
        "wind": 2.5
       },
       {
        "date": "2013-03-08T00:00:00",
        "precipitation": 0,
        "temp_max": 11.7,
        "temp_min": 2.2,
        "weather": "drizzle",
        "wind": 2.6
       },
       {
        "date": "2013-03-09T00:00:00",
        "precipitation": 0,
        "temp_max": 12.8,
        "temp_min": 1.1,
        "weather": "fog",
        "wind": 1.3
       },
       {
        "date": "2013-03-10T00:00:00",
        "precipitation": 0.8,
        "temp_max": 7.8,
        "temp_min": 3.9,
        "weather": "rain",
        "wind": 1.6
       },
       {
        "date": "2013-03-11T00:00:00",
        "precipitation": 1.3,
        "temp_max": 10.6,
        "temp_min": 6.1,
        "weather": "rain",
        "wind": 1.1
       },
       {
        "date": "2013-03-12T00:00:00",
        "precipitation": 2,
        "temp_max": 12.8,
        "temp_min": 10,
        "weather": "rain",
        "wind": 5.7
       },
       {
        "date": "2013-03-13T00:00:00",
        "precipitation": 2.3,
        "temp_max": 11.7,
        "temp_min": 9.4,
        "weather": "rain",
        "wind": 3.7
       },
       {
        "date": "2013-03-14T00:00:00",
        "precipitation": 2.8,
        "temp_max": 11.7,
        "temp_min": 9.4,
        "weather": "rain",
        "wind": 3
       },
       {
        "date": "2013-03-15T00:00:00",
        "precipitation": 0,
        "temp_max": 14.4,
        "temp_min": 8.9,
        "weather": "rain",
        "wind": 4.3
       },
       {
        "date": "2013-03-16T00:00:00",
        "precipitation": 4.3,
        "temp_max": 10.6,
        "temp_min": 4.4,
        "weather": "rain",
        "wind": 6.4
       },
       {
        "date": "2013-03-17T00:00:00",
        "precipitation": 0,
        "temp_max": 8.9,
        "temp_min": 3.9,
        "weather": "sun",
        "wind": 6.1
       },
       {
        "date": "2013-03-18T00:00:00",
        "precipitation": 0,
        "temp_max": 11.7,
        "temp_min": 3.9,
        "weather": "rain",
        "wind": 5.9
       },
       {
        "date": "2013-03-19T00:00:00",
        "precipitation": 11.7,
        "temp_max": 12.8,
        "temp_min": 1.7,
        "weather": "rain",
        "wind": 3.4
       },
       {
        "date": "2013-03-20T00:00:00",
        "precipitation": 9.9,
        "temp_max": 11.1,
        "temp_min": 4.4,
        "weather": "rain",
        "wind": 7.6
       },
       {
        "date": "2013-03-21T00:00:00",
        "precipitation": 8.1,
        "temp_max": 10,
        "temp_min": 2.2,
        "weather": "snow",
        "wind": 4.9
       },
       {
        "date": "2013-03-22T00:00:00",
        "precipitation": 0,
        "temp_max": 9.4,
        "temp_min": 0.6,
        "weather": "sun",
        "wind": 2.2
       },
       {
        "date": "2013-03-23T00:00:00",
        "precipitation": 0,
        "temp_max": 10,
        "temp_min": 1.1,
        "weather": "sun",
        "wind": 2.6
       },
       {
        "date": "2013-03-24T00:00:00",
        "precipitation": 0,
        "temp_max": 12.2,
        "temp_min": 0.6,
        "weather": "sun",
        "wind": 2.1
       },
       {
        "date": "2013-03-25T00:00:00",
        "precipitation": 0,
        "temp_max": 16.7,
        "temp_min": 4.4,
        "weather": "sun",
        "wind": 2.8
       },
       {
        "date": "2013-03-26T00:00:00",
        "precipitation": 0,
        "temp_max": 16.7,
        "temp_min": 6.1,
        "weather": "sun",
        "wind": 1.7
       },
       {
        "date": "2013-03-27T00:00:00",
        "precipitation": 0.3,
        "temp_max": 13.3,
        "temp_min": 7.2,
        "weather": "rain",
        "wind": 1.6
       },
       {
        "date": "2013-03-28T00:00:00",
        "precipitation": 2,
        "temp_max": 16.1,
        "temp_min": 8.3,
        "weather": "rain",
        "wind": 1.3
       },
       {
        "date": "2013-03-29T00:00:00",
        "precipitation": 0,
        "temp_max": 18.3,
        "temp_min": 7.8,
        "weather": "rain",
        "wind": 2.5
       },
       {
        "date": "2013-03-30T00:00:00",
        "precipitation": 0,
        "temp_max": 20,
        "temp_min": 5.6,
        "weather": "drizzle",
        "wind": 4.4
       },
       {
        "date": "2013-03-31T00:00:00",
        "precipitation": 0,
        "temp_max": 20.6,
        "temp_min": 6.7,
        "weather": "sun",
        "wind": 2.9
       },
       {
        "date": "2013-04-01T00:00:00",
        "precipitation": 0,
        "temp_max": 17.2,
        "temp_min": 8.3,
        "weather": "sun",
        "wind": 3.6
       },
       {
        "date": "2013-04-02T00:00:00",
        "precipitation": 0,
        "temp_max": 13.9,
        "temp_min": 8.9,
        "weather": "sun",
        "wind": 2.2
       },
       {
        "date": "2013-04-03T00:00:00",
        "precipitation": 0,
        "temp_max": 16.7,
        "temp_min": 7.8,
        "weather": "sun",
        "wind": 1.6
       },
       {
        "date": "2013-04-04T00:00:00",
        "precipitation": 8.4,
        "temp_max": 14.4,
        "temp_min": 10,
        "weather": "fog",
        "wind": 3
       },
       {
        "date": "2013-04-05T00:00:00",
        "precipitation": 18.5,
        "temp_max": 13.9,
        "temp_min": 10,
        "weather": "fog",
        "wind": 5.6
       },
       {
        "date": "2013-04-06T00:00:00",
        "precipitation": 12.7,
        "temp_max": 12.2,
        "temp_min": 7.2,
        "weather": "fog",
        "wind": 5
       },
       {
        "date": "2013-04-07T00:00:00",
        "precipitation": 39.1,
        "temp_max": 8.3,
        "temp_min": 5,
        "weather": "fog",
        "wind": 3.9
       },
       {
        "date": "2013-04-08T00:00:00",
        "precipitation": 0.8,
        "temp_max": 13.3,
        "temp_min": 6.1,
        "weather": "fog",
        "wind": 3.1
       },
       {
        "date": "2013-04-09T00:00:00",
        "precipitation": 0,
        "temp_max": 12.2,
        "temp_min": 6.1,
        "weather": "sun",
        "wind": 2.4
       },
       {
        "date": "2013-04-10T00:00:00",
        "precipitation": 9.4,
        "temp_max": 15,
        "temp_min": 8.9,
        "weather": "sun",
        "wind": 6.4
       },
       {
        "date": "2013-04-11T00:00:00",
        "precipitation": 1.5,
        "temp_max": 12.2,
        "temp_min": 6.7,
        "weather": "fog",
        "wind": 3.8
       },
       {
        "date": "2013-04-12T00:00:00",
        "precipitation": 9.7,
        "temp_max": 7.8,
        "temp_min": 4.4,
        "weather": "fog",
        "wind": 4.6
       },
       {
        "date": "2013-04-13T00:00:00",
        "precipitation": 9.4,
        "temp_max": 10.6,
        "temp_min": 3.3,
        "weather": "fog",
        "wind": 5.7
       },
       {
        "date": "2013-04-14T00:00:00",
        "precipitation": 5.8,
        "temp_max": 12.8,
        "temp_min": 4.4,
        "weather": "fog",
        "wind": 2.3
       },
       {
        "date": "2013-04-15T00:00:00",
        "precipitation": 0,
        "temp_max": 13.9,
        "temp_min": 4.4,
        "weather": "fog",
        "wind": 2.4
       },
       {
        "date": "2013-04-16T00:00:00",
        "precipitation": 0.3,
        "temp_max": 13.9,
        "temp_min": 3.3,
        "weather": "sun",
        "wind": 2.6
       },
       {
        "date": "2013-04-17T00:00:00",
        "precipitation": 0,
        "temp_max": 15,
        "temp_min": 3.9,
        "weather": "drizzle",
        "wind": 3.3
       },
       {
        "date": "2013-04-18T00:00:00",
        "precipitation": 5.3,
        "temp_max": 11.7,
        "temp_min": 6.7,
        "weather": "fog",
        "wind": 4
       },
       {
        "date": "2013-04-19T00:00:00",
        "precipitation": 20.6,
        "temp_max": 13.3,
        "temp_min": 9.4,
        "weather": "fog",
        "wind": 4.9
       },
       {
        "date": "2013-04-20T00:00:00",
        "precipitation": 0,
        "temp_max": 13.9,
        "temp_min": 8.3,
        "weather": "sun",
        "wind": 5.8
       },
       {
        "date": "2013-04-21T00:00:00",
        "precipitation": 3.3,
        "temp_max": 12.2,
        "temp_min": 6.7,
        "weather": "sun",
        "wind": 4.1
       },
       {
        "date": "2013-04-22T00:00:00",
        "precipitation": 0,
        "temp_max": 16.1,
        "temp_min": 5,
        "weather": "sun",
        "wind": 4.3
       },
       {
        "date": "2013-04-23T00:00:00",
        "precipitation": 0,
        "temp_max": 17.8,
        "temp_min": 3.9,
        "weather": "sun",
        "wind": 2.8
       },
       {
        "date": "2013-04-24T00:00:00",
        "precipitation": 0,
        "temp_max": 21.1,
        "temp_min": 6.1,
        "weather": "sun",
        "wind": 3
       },
       {
        "date": "2013-04-25T00:00:00",
        "precipitation": 0,
        "temp_max": 21.7,
        "temp_min": 6.7,
        "weather": "sun",
        "wind": 1.1
       },
       {
        "date": "2013-04-26T00:00:00",
        "precipitation": 0,
        "temp_max": 20.6,
        "temp_min": 8.3,
        "weather": "fog",
        "wind": 2.2
       },
       {
        "date": "2013-04-27T00:00:00",
        "precipitation": 0,
        "temp_max": 13.9,
        "temp_min": 10.6,
        "weather": "sun",
        "wind": 5.9
       },
       {
        "date": "2013-04-28T00:00:00",
        "precipitation": 1,
        "temp_max": 15,
        "temp_min": 9.4,
        "weather": "drizzle",
        "wind": 5.2
       },
       {
        "date": "2013-04-29T00:00:00",
        "precipitation": 3.8,
        "temp_max": 13.9,
        "temp_min": 6.7,
        "weather": "fog",
        "wind": 4.2
       },
       {
        "date": "2013-04-30T00:00:00",
        "precipitation": 0,
        "temp_max": 12.8,
        "temp_min": 4.4,
        "weather": "sun",
        "wind": 2.4
       },
       {
        "date": "2013-05-01T00:00:00",
        "precipitation": 0,
        "temp_max": 18.3,
        "temp_min": 3.3,
        "weather": "sun",
        "wind": 3.1
       },
       {
        "date": "2013-05-02T00:00:00",
        "precipitation": 0,
        "temp_max": 20.6,
        "temp_min": 6.7,
        "weather": "sun",
        "wind": 4
       },
       {
        "date": "2013-05-03T00:00:00",
        "precipitation": 0,
        "temp_max": 21.7,
        "temp_min": 9.4,
        "weather": "sun",
        "wind": 4.9
       },
       {
        "date": "2013-05-04T00:00:00",
        "precipitation": 0,
        "temp_max": 25,
        "temp_min": 11.1,
        "weather": "sun",
        "wind": 6.5
       },
       {
        "date": "2013-05-05T00:00:00",
        "precipitation": 0,
        "temp_max": 28.9,
        "temp_min": 11.7,
        "weather": "sun",
        "wind": 5.3
       },
       {
        "date": "2013-05-06T00:00:00",
        "precipitation": 0,
        "temp_max": 30.6,
        "temp_min": 12.2,
        "weather": "sun",
        "wind": 2
       },
       {
        "date": "2013-05-07T00:00:00",
        "precipitation": 0,
        "temp_max": 20.6,
        "temp_min": 11.1,
        "weather": "sun",
        "wind": 3.3
       },
       {
        "date": "2013-05-08T00:00:00",
        "precipitation": 0,
        "temp_max": 19.4,
        "temp_min": 11.1,
        "weather": "sun",
        "wind": 1.9
       },
       {
        "date": "2013-05-09T00:00:00",
        "precipitation": 0,
        "temp_max": 22.8,
        "temp_min": 10,
        "weather": "sun",
        "wind": 1.3
       },
       {
        "date": "2013-05-10T00:00:00",
        "precipitation": 0,
        "temp_max": 26.1,
        "temp_min": 9.4,
        "weather": "sun",
        "wind": 1
       },
       {
        "date": "2013-05-11T00:00:00",
        "precipitation": 0,
        "temp_max": 27.2,
        "temp_min": 12.2,
        "weather": "sun",
        "wind": 2.6
       },
       {
        "date": "2013-05-12T00:00:00",
        "precipitation": 6.6,
        "temp_max": 21.7,
        "temp_min": 13.9,
        "weather": "fog",
        "wind": 3.9
       },
       {
        "date": "2013-05-13T00:00:00",
        "precipitation": 3.3,
        "temp_max": 18.9,
        "temp_min": 9.4,
        "weather": "sun",
        "wind": 5
       },
       {
        "date": "2013-05-14T00:00:00",
        "precipitation": 0,
        "temp_max": 18.3,
        "temp_min": 7.8,
        "weather": "sun",
        "wind": 2.4
       },
       {
        "date": "2013-05-15T00:00:00",
        "precipitation": 1,
        "temp_max": 17.2,
        "temp_min": 8.9,
        "weather": "fog",
        "wind": 2.3
       },
       {
        "date": "2013-05-16T00:00:00",
        "precipitation": 0,
        "temp_max": 21.7,
        "temp_min": 12.2,
        "weather": "fog",
        "wind": 2.7
       },
       {
        "date": "2013-05-17T00:00:00",
        "precipitation": 0.5,
        "temp_max": 17.2,
        "temp_min": 11.7,
        "weather": "sun",
        "wind": 3.7
       },
       {
        "date": "2013-05-18T00:00:00",
        "precipitation": 0,
        "temp_max": 16.7,
        "temp_min": 11.1,
        "weather": "sun",
        "wind": 2.9
       },
       {
        "date": "2013-05-19T00:00:00",
        "precipitation": 0,
        "temp_max": 18.3,
        "temp_min": 10.6,
        "weather": "sun",
        "wind": 2.3
       },
       {
        "date": "2013-05-20T00:00:00",
        "precipitation": 0,
        "temp_max": 19.4,
        "temp_min": 9.4,
        "weather": "sun",
        "wind": 1.8
       },
       {
        "date": "2013-05-21T00:00:00",
        "precipitation": 13.7,
        "temp_max": 15.6,
        "temp_min": 8.3,
        "weather": "fog",
        "wind": 4.8
       },
       {
        "date": "2013-05-22T00:00:00",
        "precipitation": 13.7,
        "temp_max": 11.1,
        "temp_min": 7.2,
        "weather": "fog",
        "wind": 3
       },
       {
        "date": "2013-05-23T00:00:00",
        "precipitation": 4.1,
        "temp_max": 12.2,
        "temp_min": 6.7,
        "weather": "fog",
        "wind": 1.9
       },
       {
        "date": "2013-05-24T00:00:00",
        "precipitation": 0.3,
        "temp_max": 16.7,
        "temp_min": 8.9,
        "weather": "sun",
        "wind": 2.7
       },
       {
        "date": "2013-05-25T00:00:00",
        "precipitation": 0,
        "temp_max": 17.8,
        "temp_min": 10,
        "weather": "sun",
        "wind": 2.7
       },
       {
        "date": "2013-05-26T00:00:00",
        "precipitation": 1.5,
        "temp_max": 18.3,
        "temp_min": 10.6,
        "weather": "fog",
        "wind": 2.2
       },
       {
        "date": "2013-05-27T00:00:00",
        "precipitation": 9.7,
        "temp_max": 16.7,
        "temp_min": 11.1,
        "weather": "fog",
        "wind": 3.1
       },
       {
        "date": "2013-05-28T00:00:00",
        "precipitation": 0.5,
        "temp_max": 17.2,
        "temp_min": 11.7,
        "weather": "fog",
        "wind": 2.8
       },
       {
        "date": "2013-05-29T00:00:00",
        "precipitation": 5.6,
        "temp_max": 16.1,
        "temp_min": 9.4,
        "weather": "fog",
        "wind": 4
       },
       {
        "date": "2013-05-30T00:00:00",
        "precipitation": 0,
        "temp_max": 16.7,
        "temp_min": 9.4,
        "weather": "sun",
        "wind": 5.3
       },
       {
        "date": "2013-05-31T00:00:00",
        "precipitation": 0,
        "temp_max": 19.4,
        "temp_min": 11.1,
        "weather": "sun",
        "wind": 2.5
       },
       {
        "date": "2013-06-01T00:00:00",
        "precipitation": 0,
        "temp_max": 22.8,
        "temp_min": 12.2,
        "weather": "sun",
        "wind": 2.5
       },
       {
        "date": "2013-06-02T00:00:00",
        "precipitation": 1,
        "temp_max": 20.6,
        "temp_min": 12.2,
        "weather": "sun",
        "wind": 3.1
       },
       {
        "date": "2013-06-03T00:00:00",
        "precipitation": 0,
        "temp_max": 22.2,
        "temp_min": 11.1,
        "weather": "sun",
        "wind": 2.9
       },
       {
        "date": "2013-06-04T00:00:00",
        "precipitation": 0,
        "temp_max": 26.1,
        "temp_min": 12.2,
        "weather": "sun",
        "wind": 3.4
       },
       {
        "date": "2013-06-05T00:00:00",
        "precipitation": 0,
        "temp_max": 26.7,
        "temp_min": 14.4,
        "weather": "sun",
        "wind": 3.1
       },
       {
        "date": "2013-06-06T00:00:00",
        "precipitation": 0,
        "temp_max": 26.7,
        "temp_min": 12.2,
        "weather": "sun",
        "wind": 2.5
       },
       {
        "date": "2013-06-07T00:00:00",
        "precipitation": 0,
        "temp_max": 21.7,
        "temp_min": 13.3,
        "weather": "sun",
        "wind": 3.2
       },
       {
        "date": "2013-06-08T00:00:00",
        "precipitation": 0,
        "temp_max": 20.6,
        "temp_min": 12.8,
        "weather": "sun",
        "wind": 3.1
       },
       {
        "date": "2013-06-09T00:00:00",
        "precipitation": 0,
        "temp_max": 20.6,
        "temp_min": 11.1,
        "weather": "sun",
        "wind": 3.7
       },
       {
        "date": "2013-06-10T00:00:00",
        "precipitation": 0,
        "temp_max": 21.7,
        "temp_min": 11.7,
        "weather": "sun",
        "wind": 3.2
       },
       {
        "date": "2013-06-11T00:00:00",
        "precipitation": 0,
        "temp_max": 20,
        "temp_min": 10,
        "weather": "sun",
        "wind": 5.7
       },
       {
        "date": "2013-06-12T00:00:00",
        "precipitation": 0.3,
        "temp_max": 20.6,
        "temp_min": 11.7,
        "weather": "sun",
        "wind": 4.2
       },
       {
        "date": "2013-06-13T00:00:00",
        "precipitation": 0,
        "temp_max": 21.1,
        "temp_min": 11.7,
        "weather": "sun",
        "wind": 2.6
       },
       {
        "date": "2013-06-14T00:00:00",
        "precipitation": 0,
        "temp_max": 20,
        "temp_min": 12.2,
        "weather": "sun",
        "wind": 3.7
       },
       {
        "date": "2013-06-15T00:00:00",
        "precipitation": 0,
        "temp_max": 25.6,
        "temp_min": 10,
        "weather": "sun",
        "wind": 2.9
       },
       {
        "date": "2013-06-16T00:00:00",
        "precipitation": 0,
        "temp_max": 23.9,
        "temp_min": 12.8,
        "weather": "sun",
        "wind": 3.4
       },
       {
        "date": "2013-06-17T00:00:00",
        "precipitation": 0,
        "temp_max": 25.6,
        "temp_min": 13.9,
        "weather": "sun",
        "wind": 3
       },
       {
        "date": "2013-06-18T00:00:00",
        "precipitation": 0.3,
        "temp_max": 23.3,
        "temp_min": 13.3,
        "weather": "fog",
        "wind": 3.4
       },
       {
        "date": "2013-06-19T00:00:00",
        "precipitation": 0,
        "temp_max": 20,
        "temp_min": 12.8,
        "weather": "sun",
        "wind": 3.7
       },
       {
        "date": "2013-06-20T00:00:00",
        "precipitation": 3,
        "temp_max": 17.2,
        "temp_min": 12.8,
        "weather": "sun",
        "wind": 5
       },
       {
        "date": "2013-06-21T00:00:00",
        "precipitation": 0.3,
        "temp_max": 20.6,
        "temp_min": 12.2,
        "weather": "sun",
        "wind": 1.5
       },
       {
        "date": "2013-06-22T00:00:00",
        "precipitation": 0,
        "temp_max": 25.6,
        "temp_min": 11.7,
        "weather": "sun",
        "wind": 1.7
       },
       {
        "date": "2013-06-23T00:00:00",
        "precipitation": 7.9,
        "temp_max": 22.2,
        "temp_min": 15,
        "weather": "fog",
        "wind": 2.1
       },
       {
        "date": "2013-06-24T00:00:00",
        "precipitation": 4.8,
        "temp_max": 21.1,
        "temp_min": 13.9,
        "weather": "fog",
        "wind": 3.7
       },
       {
        "date": "2013-06-25T00:00:00",
        "precipitation": 9.9,
        "temp_max": 23.3,
        "temp_min": 14.4,
        "weather": "sun",
        "wind": 2.8
       },
       {
        "date": "2013-06-26T00:00:00",
        "precipitation": 2,
        "temp_max": 22.2,
        "temp_min": 15,
        "weather": "fog",
        "wind": 2.3
       },
       {
        "date": "2013-06-27T00:00:00",
        "precipitation": 3.6,
        "temp_max": 21.1,
        "temp_min": 16.7,
        "weather": "fog",
        "wind": 1.3
       },
       {
        "date": "2013-06-28T00:00:00",
        "precipitation": 0,
        "temp_max": 30.6,
        "temp_min": 16.1,
        "weather": "sun",
        "wind": 2.2
       },
       {
        "date": "2013-06-29T00:00:00",
        "precipitation": 0,
        "temp_max": 30,
        "temp_min": 18.3,
        "weather": "sun",
        "wind": 1.7
       },
       {
        "date": "2013-06-30T00:00:00",
        "precipitation": 0,
        "temp_max": 33.9,
        "temp_min": 17.2,
        "weather": "sun",
        "wind": 2.5
       },
       {
        "date": "2013-07-01T00:00:00",
        "precipitation": 0,
        "temp_max": 31.7,
        "temp_min": 18.3,
        "weather": "sun",
        "wind": 2.3
       },
       {
        "date": "2013-07-02T00:00:00",
        "precipitation": 0,
        "temp_max": 28.3,
        "temp_min": 15.6,
        "weather": "sun",
        "wind": 3
       },
       {
        "date": "2013-07-03T00:00:00",
        "precipitation": 0,
        "temp_max": 26.1,
        "temp_min": 16.7,
        "weather": "sun",
        "wind": 3.2
       },
       {
        "date": "2013-07-04T00:00:00",
        "precipitation": 0,
        "temp_max": 21.7,
        "temp_min": 13.9,
        "weather": "fog",
        "wind": 2.2
       },
       {
        "date": "2013-07-05T00:00:00",
        "precipitation": 0,
        "temp_max": 23.3,
        "temp_min": 13.9,
        "weather": "sun",
        "wind": 2.6
       },
       {
        "date": "2013-07-06T00:00:00",
        "precipitation": 0,
        "temp_max": 26.1,
        "temp_min": 13.3,
        "weather": "sun",
        "wind": 2.2
       },
       {
        "date": "2013-07-07T00:00:00",
        "precipitation": 0,
        "temp_max": 23.9,
        "temp_min": 13.9,
        "weather": "sun",
        "wind": 2.9
       },
       {
        "date": "2013-07-08T00:00:00",
        "precipitation": 0,
        "temp_max": 26.7,
        "temp_min": 13.3,
        "weather": "sun",
        "wind": 2.8
       },
       {
        "date": "2013-07-09T00:00:00",
        "precipitation": 0,
        "temp_max": 30,
        "temp_min": 15,
        "weather": "sun",
        "wind": 2.5
       },
       {
        "date": "2013-07-10T00:00:00",
        "precipitation": 0,
        "temp_max": 22.2,
        "temp_min": 13.9,
        "weather": "sun",
        "wind": 2.6
       },
       {
        "date": "2013-07-11T00:00:00",
        "precipitation": 0,
        "temp_max": 22.8,
        "temp_min": 12.2,
        "weather": "sun",
        "wind": 3
       },
       {
        "date": "2013-07-12T00:00:00",
        "precipitation": 0,
        "temp_max": 19.4,
        "temp_min": 13.3,
        "weather": "sun",
        "wind": 2.2
       },
       {
        "date": "2013-07-13T00:00:00",
        "precipitation": 0,
        "temp_max": 26.1,
        "temp_min": 11.1,
        "weather": "sun",
        "wind": 3.1
       },
       {
        "date": "2013-07-14T00:00:00",
        "precipitation": 0,
        "temp_max": 27.8,
        "temp_min": 12.8,
        "weather": "sun",
        "wind": 3
       },
       {
        "date": "2013-07-15T00:00:00",
        "precipitation": 0,
        "temp_max": 27.8,
        "temp_min": 14.4,
        "weather": "sun",
        "wind": 4.6
       },
       {
        "date": "2013-07-16T00:00:00",
        "precipitation": 0,
        "temp_max": 31.1,
        "temp_min": 18.3,
        "weather": "sun",
        "wind": 4.1
       },
       {
        "date": "2013-07-17T00:00:00",
        "precipitation": 0,
        "temp_max": 22.2,
        "temp_min": 15,
        "weather": "rain",
        "wind": 3.7
       },
       {
        "date": "2013-07-18T00:00:00",
        "precipitation": 0,
        "temp_max": 26.1,
        "temp_min": 13.9,
        "weather": "sun",
        "wind": 2
       },
       {
        "date": "2013-07-19T00:00:00",
        "precipitation": 0,
        "temp_max": 27.8,
        "temp_min": 13.3,
        "weather": "sun",
        "wind": 1.9
       },
       {
        "date": "2013-07-20T00:00:00",
        "precipitation": 0,
        "temp_max": 25,
        "temp_min": 13.3,
        "weather": "sun",
        "wind": 2
       },
       {
        "date": "2013-07-21T00:00:00",
        "precipitation": 0,
        "temp_max": 23.9,
        "temp_min": 12.8,
        "weather": "sun",
        "wind": 2.3
       },
       {
        "date": "2013-07-22T00:00:00",
        "precipitation": 0,
        "temp_max": 26.1,
        "temp_min": 13.3,
        "weather": "fog",
        "wind": 2.4
       },
       {
        "date": "2013-07-23T00:00:00",
        "precipitation": 0,
        "temp_max": 31.1,
        "temp_min": 13.9,
        "weather": "sun",
        "wind": 3
       },
       {
        "date": "2013-07-24T00:00:00",
        "precipitation": 0,
        "temp_max": 31.1,
        "temp_min": 14.4,
        "weather": "sun",
        "wind": 2.5
       },
       {
        "date": "2013-07-25T00:00:00",
        "precipitation": 0,
        "temp_max": 31.1,
        "temp_min": 12.8,
        "weather": "sun",
        "wind": 2.3
       },
       {
        "date": "2013-07-26T00:00:00",
        "precipitation": 0,
        "temp_max": 31.1,
        "temp_min": 14.4,
        "weather": "sun",
        "wind": 2.9
       },
       {
        "date": "2013-07-27T00:00:00",
        "precipitation": 0,
        "temp_max": 25.6,
        "temp_min": 12.8,
        "weather": "sun",
        "wind": 2.6
       },
       {
        "date": "2013-07-28T00:00:00",
        "precipitation": 0,
        "temp_max": 21.1,
        "temp_min": 12.2,
        "weather": "fog",
        "wind": 3.4
       },
       {
        "date": "2013-07-29T00:00:00",
        "precipitation": 0,
        "temp_max": 25,
        "temp_min": 13.3,
        "weather": "sun",
        "wind": 1.4
       },
       {
        "date": "2013-07-30T00:00:00",
        "precipitation": 0,
        "temp_max": 25,
        "temp_min": 13.3,
        "weather": "sun",
        "wind": 2.8
       },
       {
        "date": "2013-07-31T00:00:00",
        "precipitation": 0,
        "temp_max": 21.7,
        "temp_min": 13.3,
        "weather": "sun",
        "wind": 1.8
       },
       {
        "date": "2013-08-01T00:00:00",
        "precipitation": 0,
        "temp_max": 20.6,
        "temp_min": 13.3,
        "weather": "sun",
        "wind": 3.9
       },
       {
        "date": "2013-08-02T00:00:00",
        "precipitation": 2,
        "temp_max": 17.2,
        "temp_min": 15,
        "weather": "sun",
        "wind": 2
       },
       {
        "date": "2013-08-03T00:00:00",
        "precipitation": 0,
        "temp_max": 25,
        "temp_min": 15.6,
        "weather": "fog",
        "wind": 2.4
       },
       {
        "date": "2013-08-04T00:00:00",
        "precipitation": 0,
        "temp_max": 28.9,
        "temp_min": 15,
        "weather": "sun",
        "wind": 3.4
       },
       {
        "date": "2013-08-05T00:00:00",
        "precipitation": 0,
        "temp_max": 30,
        "temp_min": 15,
        "weather": "sun",
        "wind": 2.1
       },
       {
        "date": "2013-08-06T00:00:00",
        "precipitation": 0,
        "temp_max": 30.6,
        "temp_min": 13.9,
        "weather": "sun",
        "wind": 1.4
       },
       {
        "date": "2013-08-07T00:00:00",
        "precipitation": 0,
        "temp_max": 31.1,
        "temp_min": 13.9,
        "weather": "sun",
        "wind": 1.9
       },
       {
        "date": "2013-08-08T00:00:00",
        "precipitation": 0,
        "temp_max": 28.3,
        "temp_min": 14.4,
        "weather": "sun",
        "wind": 2.5
       },
       {
        "date": "2013-08-09T00:00:00",
        "precipitation": 0,
        "temp_max": 28.3,
        "temp_min": 14.4,
        "weather": "rain",
        "wind": 2.1
       },
       {
        "date": "2013-08-10T00:00:00",
        "precipitation": 2.3,
        "temp_max": 25.6,
        "temp_min": 15,
        "weather": "sun",
        "wind": 2.9
       },
       {
        "date": "2013-08-11T00:00:00",
        "precipitation": 0,
        "temp_max": 25,
        "temp_min": 14.4,
        "weather": "sun",
        "wind": 2.9
       },
       {
        "date": "2013-08-12T00:00:00",
        "precipitation": 0,
        "temp_max": 25.6,
        "temp_min": 16.1,
        "weather": "sun",
        "wind": 1.9
       },
       {
        "date": "2013-08-13T00:00:00",
        "precipitation": 0,
        "temp_max": 27.8,
        "temp_min": 15,
        "weather": "sun",
        "wind": 1.8
       },
       {
        "date": "2013-08-14T00:00:00",
        "precipitation": 0.8,
        "temp_max": 27.2,
        "temp_min": 15,
        "weather": "sun",
        "wind": 2
       },
       {
        "date": "2013-08-15T00:00:00",
        "precipitation": 1.8,
        "temp_max": 21.1,
        "temp_min": 17.2,
        "weather": "sun",
        "wind": 1
       },
       {
        "date": "2013-08-16T00:00:00",
        "precipitation": 0,
        "temp_max": 28.9,
        "temp_min": 16.1,
        "weather": "fog",
        "wind": 2.2
       },
       {
        "date": "2013-08-17T00:00:00",
        "precipitation": 0,
        "temp_max": 25.6,
        "temp_min": 17.2,
        "weather": "sun",
        "wind": 3
       },
       {
        "date": "2013-08-18T00:00:00",
        "precipitation": 0,
        "temp_max": 26.1,
        "temp_min": 15.6,
        "weather": "sun",
        "wind": 3.1
       },
       {
        "date": "2013-08-19T00:00:00",
        "precipitation": 0,
        "temp_max": 26.7,
        "temp_min": 15.6,
        "weather": "sun",
        "wind": 3
       },
       {
        "date": "2013-08-20T00:00:00",
        "precipitation": 0,
        "temp_max": 25.6,
        "temp_min": 16.1,
        "weather": "sun",
        "wind": 4.6
       },
       {
        "date": "2013-08-21T00:00:00",
        "precipitation": 0,
        "temp_max": 27.8,
        "temp_min": 15,
        "weather": "sun",
        "wind": 4.3
       },
       {
        "date": "2013-08-22T00:00:00",
        "precipitation": 0,
        "temp_max": 28.9,
        "temp_min": 15,
        "weather": "sun",
        "wind": 1.9
       },
       {
        "date": "2013-08-23T00:00:00",
        "precipitation": 0,
        "temp_max": 25,
        "temp_min": 16.1,
        "weather": "sun",
        "wind": 4.1
       },
       {
        "date": "2013-08-24T00:00:00",
        "precipitation": 0,
        "temp_max": 25,
        "temp_min": 16.7,
        "weather": "sun",
        "wind": 2.7
       },
       {
        "date": "2013-08-25T00:00:00",
        "precipitation": 0.3,
        "temp_max": 22.2,
        "temp_min": 16.1,
        "weather": "sun",
        "wind": 2.6
       },
       {
        "date": "2013-08-26T00:00:00",
        "precipitation": 1,
        "temp_max": 24.4,
        "temp_min": 16.1,
        "weather": "sun",
        "wind": 1.9
       },
       {
        "date": "2013-08-27T00:00:00",
        "precipitation": 1.3,
        "temp_max": 26.7,
        "temp_min": 17.2,
        "weather": "sun",
        "wind": 1.4
       },
       {
        "date": "2013-08-28T00:00:00",
        "precipitation": 5.6,
        "temp_max": 26.7,
        "temp_min": 15.6,
        "weather": "fog",
        "wind": 1.3
       },
       {
        "date": "2013-08-29T00:00:00",
        "precipitation": 19.3,
        "temp_max": 23.9,
        "temp_min": 18.3,
        "weather": "sun",
        "wind": 3
       },
       {
        "date": "2013-08-30T00:00:00",
        "precipitation": 0,
        "temp_max": 26.1,
        "temp_min": 16.1,
        "weather": "sun",
        "wind": 2.9
       },
       {
        "date": "2013-08-31T00:00:00",
        "precipitation": 0,
        "temp_max": 27.8,
        "temp_min": 13.9,
        "weather": "sun",
        "wind": 2.6
       },
       {
        "date": "2013-09-01T00:00:00",
        "precipitation": 0,
        "temp_max": 27.8,
        "temp_min": 15.6,
        "weather": "sun",
        "wind": 2.5
       },
       {
        "date": "2013-09-02T00:00:00",
        "precipitation": 0,
        "temp_max": 27.8,
        "temp_min": 17.2,
        "weather": "sun",
        "wind": 2.1
       },
       {
        "date": "2013-09-03T00:00:00",
        "precipitation": 2.3,
        "temp_max": 25,
        "temp_min": 16.7,
        "weather": "fog",
        "wind": 1.7
       },
       {
        "date": "2013-09-04T00:00:00",
        "precipitation": 0.3,
        "temp_max": 22.8,
        "temp_min": 16.1,
        "weather": "fog",
        "wind": 2.4
       },
       {
        "date": "2013-09-05T00:00:00",
        "precipitation": 27.7,
        "temp_max": 20,
        "temp_min": 15.6,
        "weather": "sun",
        "wind": 2.5
       },
       {
        "date": "2013-09-06T00:00:00",
        "precipitation": 21.3,
        "temp_max": 21.7,
        "temp_min": 16.1,
        "weather": "fog",
        "wind": 2.6
       },
       {
        "date": "2013-09-07T00:00:00",
        "precipitation": 0,
        "temp_max": 23.3,
        "temp_min": 17.2,
        "weather": "sun",
        "wind": 2
       },
       {
        "date": "2013-09-08T00:00:00",
        "precipitation": 0,
        "temp_max": 26.7,
        "temp_min": 14.4,
        "weather": "fog",
        "wind": 1.5
       },
       {
        "date": "2013-09-09T00:00:00",
        "precipitation": 0,
        "temp_max": 26.1,
        "temp_min": 13.9,
        "weather": "sun",
        "wind": 2.1
       },
       {
        "date": "2013-09-10T00:00:00",
        "precipitation": 0,
        "temp_max": 26.7,
        "temp_min": 15,
        "weather": "sun",
        "wind": 3.7
       },
       {
        "date": "2013-09-11T00:00:00",
        "precipitation": 0,
        "temp_max": 33.9,
        "temp_min": 16.1,
        "weather": "sun",
        "wind": 2.4
       },
       {
        "date": "2013-09-12T00:00:00",
        "precipitation": 0,
        "temp_max": 25.6,
        "temp_min": 15,
        "weather": "sun",
        "wind": 1.7
       },
       {
        "date": "2013-09-13T00:00:00",
        "precipitation": 0,
        "temp_max": 18.9,
        "temp_min": 15.6,
        "weather": "sun",
        "wind": 2
       },
       {
        "date": "2013-09-14T00:00:00",
        "precipitation": 0,
        "temp_max": 21.7,
        "temp_min": 15.6,
        "weather": "fog",
        "wind": 1.4
       },
       {
        "date": "2013-09-15T00:00:00",
        "precipitation": 3.3,
        "temp_max": 18.9,
        "temp_min": 14.4,
        "weather": "sun",
        "wind": 2.2
       },
       {
        "date": "2013-09-16T00:00:00",
        "precipitation": 0.3,
        "temp_max": 21.7,
        "temp_min": 15,
        "weather": "fog",
        "wind": 4.3
       },
       {
        "date": "2013-09-17T00:00:00",
        "precipitation": 0,
        "temp_max": 17.8,
        "temp_min": 13.9,
        "weather": "sun",
        "wind": 2.3
       },
       {
        "date": "2013-09-18T00:00:00",
        "precipitation": 0,
        "temp_max": 21.1,
        "temp_min": 13.3,
        "weather": "sun",
        "wind": 2.5
       },
       {
        "date": "2013-09-19T00:00:00",
        "precipitation": 0,
        "temp_max": 25.6,
        "temp_min": 10,
        "weather": "sun",
        "wind": 1.5
       },
       {
        "date": "2013-09-20T00:00:00",
        "precipitation": 3.6,
        "temp_max": 23.3,
        "temp_min": 13.3,
        "weather": "fog",
        "wind": 3
       },
       {
        "date": "2013-09-21T00:00:00",
        "precipitation": 0,
        "temp_max": 21.1,
        "temp_min": 13.3,
        "weather": "sun",
        "wind": 2.5
       },
       {
        "date": "2013-09-22T00:00:00",
        "precipitation": 13.5,
        "temp_max": 17.2,
        "temp_min": 13.3,
        "weather": "fog",
        "wind": 5.5
       },
       {
        "date": "2013-09-23T00:00:00",
        "precipitation": 2.8,
        "temp_max": 16.1,
        "temp_min": 11.1,
        "weather": "fog",
        "wind": 4.5
       },
       {
        "date": "2013-09-24T00:00:00",
        "precipitation": 0,
        "temp_max": 17.8,
        "temp_min": 10,
        "weather": "sun",
        "wind": 2.6
       },
       {
        "date": "2013-09-25T00:00:00",
        "precipitation": 2,
        "temp_max": 16.1,
        "temp_min": 9.4,
        "weather": "fog",
        "wind": 3
       },
       {
        "date": "2013-09-26T00:00:00",
        "precipitation": 0,
        "temp_max": 17.2,
        "temp_min": 7.2,
        "weather": "sun",
        "wind": 2.2
       },
       {
        "date": "2013-09-27T00:00:00",
        "precipitation": 1,
        "temp_max": 13.9,
        "temp_min": 10.6,
        "weather": "fog",
        "wind": 4.3
       },
       {
        "date": "2013-09-28T00:00:00",
        "precipitation": 43.4,
        "temp_max": 16.7,
        "temp_min": 11.7,
        "weather": "fog",
        "wind": 6
       },
       {
        "date": "2013-09-29T00:00:00",
        "precipitation": 16.8,
        "temp_max": 14.4,
        "temp_min": 11.1,
        "weather": "sun",
        "wind": 7.1
       },
       {
        "date": "2013-09-30T00:00:00",
        "precipitation": 18.5,
        "temp_max": 13.9,
        "temp_min": 10,
        "weather": "fog",
        "wind": 6.3
       },
       {
        "date": "2013-10-01T00:00:00",
        "precipitation": 7.9,
        "temp_max": 14.4,
        "temp_min": 8.9,
        "weather": "fog",
        "wind": 4.7
       },
       {
        "date": "2013-10-02T00:00:00",
        "precipitation": 5.3,
        "temp_max": 12.8,
        "temp_min": 9.4,
        "weather": "fog",
        "wind": 2.4
       },
       {
        "date": "2013-10-03T00:00:00",
        "precipitation": 0.8,
        "temp_max": 14.4,
        "temp_min": 8.9,
        "weather": "fog",
        "wind": 0.9
       },
       {
        "date": "2013-10-04T00:00:00",
        "precipitation": 0,
        "temp_max": 17.8,
        "temp_min": 5.6,
        "weather": "sun",
        "wind": 1.1
       },
       {
        "date": "2013-10-05T00:00:00",
        "precipitation": 0,
        "temp_max": 20,
        "temp_min": 8.3,
        "weather": "sun",
        "wind": 1.6
       },
       {
        "date": "2013-10-06T00:00:00",
        "precipitation": 4.1,
        "temp_max": 22.8,
        "temp_min": 7.8,
        "weather": "fog",
        "wind": 2.6
       },
       {
        "date": "2013-10-07T00:00:00",
        "precipitation": 0.5,
        "temp_max": 16.1,
        "temp_min": 11.7,
        "weather": "fog",
        "wind": 6.3
       },
       {
        "date": "2013-10-08T00:00:00",
        "precipitation": 6.9,
        "temp_max": 13.9,
        "temp_min": 7.8,
        "weather": "rain",
        "wind": 3
       },
       {
        "date": "2013-10-09T00:00:00",
        "precipitation": 0,
        "temp_max": 15,
        "temp_min": 5.6,
        "weather": "sun",
        "wind": 1.6
       },
       {
        "date": "2013-10-10T00:00:00",
        "precipitation": 1,
        "temp_max": 14.4,
        "temp_min": 8.3,
        "weather": "fog",
        "wind": 1.7
       },
       {
        "date": "2013-10-11T00:00:00",
        "precipitation": 9.1,
        "temp_max": 13.9,
        "temp_min": 10.6,
        "weather": "sun",
        "wind": 1
       },
       {
        "date": "2013-10-12T00:00:00",
        "precipitation": 1,
        "temp_max": 14.4,
        "temp_min": 8.9,
        "weather": "fog",
        "wind": 2.2
       },
       {
        "date": "2013-10-13T00:00:00",
        "precipitation": 0,
        "temp_max": 15,
        "temp_min": 6.7,
        "weather": "fog",
        "wind": 1.8
       },
       {
        "date": "2013-10-14T00:00:00",
        "precipitation": 0,
        "temp_max": 15.6,
        "temp_min": 3.9,
        "weather": "sun",
        "wind": 1.6
       },
       {
        "date": "2013-10-15T00:00:00",
        "precipitation": 0,
        "temp_max": 15.6,
        "temp_min": 5,
        "weather": "sun",
        "wind": 0.9
       },
       {
        "date": "2013-10-16T00:00:00",
        "precipitation": 0,
        "temp_max": 12.8,
        "temp_min": 8.9,
        "weather": "fog",
        "wind": 2.7
       },
       {
        "date": "2013-10-17T00:00:00",
        "precipitation": 0,
        "temp_max": 14.4,
        "temp_min": 8.9,
        "weather": "fog",
        "wind": 1.7
       },
       {
        "date": "2013-10-18T00:00:00",
        "precipitation": 0,
        "temp_max": 12.8,
        "temp_min": 7.2,
        "weather": "sun",
        "wind": 1.2
       },
       {
        "date": "2013-10-19T00:00:00",
        "precipitation": 0,
        "temp_max": 10.6,
        "temp_min": 7.8,
        "weather": "sun",
        "wind": 1.4
       },
       {
        "date": "2013-10-20T00:00:00",
        "precipitation": 0,
        "temp_max": 10.6,
        "temp_min": 7.8,
        "weather": "sun",
        "wind": 2.4
       },
       {
        "date": "2013-10-21T00:00:00",
        "precipitation": 0,
        "temp_max": 11.7,
        "temp_min": 8.3,
        "weather": "sun",
        "wind": 2.5
       },
       {
        "date": "2013-10-22T00:00:00",
        "precipitation": 0,
        "temp_max": 14.4,
        "temp_min": 7.2,
        "weather": "sun",
        "wind": 1.9
       },
       {
        "date": "2013-10-23T00:00:00",
        "precipitation": 0,
        "temp_max": 12.8,
        "temp_min": 6.1,
        "weather": "sun",
        "wind": 0.4
       },
       {
        "date": "2013-10-24T00:00:00",
        "precipitation": 0,
        "temp_max": 10,
        "temp_min": 6.1,
        "weather": "sun",
        "wind": 0.6
       },
       {
        "date": "2013-10-25T00:00:00",
        "precipitation": 0,
        "temp_max": 12.2,
        "temp_min": 7.8,
        "weather": "sun",
        "wind": 1.8
       },
       {
        "date": "2013-10-26T00:00:00",
        "precipitation": 0,
        "temp_max": 11.7,
        "temp_min": 8.3,
        "weather": "sun",
        "wind": 2.7
       },
       {
        "date": "2013-10-27T00:00:00",
        "precipitation": 1.8,
        "temp_max": 13.9,
        "temp_min": 8.3,
        "weather": "fog",
        "wind": 4.4
       },
       {
        "date": "2013-10-28T00:00:00",
        "precipitation": 0,
        "temp_max": 14.4,
        "temp_min": 7.2,
        "weather": "sun",
        "wind": 5.1
       },
       {
        "date": "2013-10-29T00:00:00",
        "precipitation": 0,
        "temp_max": 13.3,
        "temp_min": 3.3,
        "weather": "sun",
        "wind": 2.2
       },
       {
        "date": "2013-10-30T00:00:00",
        "precipitation": 0.5,
        "temp_max": 15,
        "temp_min": 5.6,
        "weather": "sun",
        "wind": 3.9
       },
       {
        "date": "2013-10-31T00:00:00",
        "precipitation": 0.3,
        "temp_max": 14.4,
        "temp_min": 10.6,
        "weather": "fog",
        "wind": 2.2
       },
       {
        "date": "2013-11-01T00:00:00",
        "precipitation": 1.3,
        "temp_max": 17.8,
        "temp_min": 11.7,
        "weather": "sun",
        "wind": 1.4
       },
       {
        "date": "2013-11-02T00:00:00",
        "precipitation": 12.7,
        "temp_max": 14.4,
        "temp_min": 8.3,
        "weather": "fog",
        "wind": 7.9
       },
       {
        "date": "2013-11-03T00:00:00",
        "precipitation": 0.5,
        "temp_max": 12.2,
        "temp_min": 4.4,
        "weather": "sun",
        "wind": 2.4
       },
       {
        "date": "2013-11-04T00:00:00",
        "precipitation": 0,
        "temp_max": 10.6,
        "temp_min": 3.9,
        "weather": "drizzle",
        "wind": 1.6
       },
       {
        "date": "2013-11-05T00:00:00",
        "precipitation": 2.5,
        "temp_max": 13.3,
        "temp_min": 7.2,
        "weather": "fog",
        "wind": 3.1
       },
       {
        "date": "2013-11-06T00:00:00",
        "precipitation": 3.8,
        "temp_max": 12.8,
        "temp_min": 7.8,
        "weather": "sun",
        "wind": 1.7
       },
       {
        "date": "2013-11-07T00:00:00",
        "precipitation": 30,
        "temp_max": 11.1,
        "temp_min": 10,
        "weather": "fog",
        "wind": 7.2
       },
       {
        "date": "2013-11-08T00:00:00",
        "precipitation": 0,
        "temp_max": 13.3,
        "temp_min": 7.2,
        "weather": "sun",
        "wind": 4.1
       },
       {
        "date": "2013-11-09T00:00:00",
        "precipitation": 1.8,
        "temp_max": 11.1,
        "temp_min": 5,
        "weather": "sun",
        "wind": 1.4
       },
       {
        "date": "2013-11-10T00:00:00",
        "precipitation": 0,
        "temp_max": 11.1,
        "temp_min": 8.3,
        "weather": "sun",
        "wind": 4.4
       },
       {
        "date": "2013-11-11T00:00:00",
        "precipitation": 0,
        "temp_max": 16.1,
        "temp_min": 6.1,
        "weather": "fog",
        "wind": 2.6
       },
       {
        "date": "2013-11-12T00:00:00",
        "precipitation": 4.1,
        "temp_max": 15.6,
        "temp_min": 8.9,
        "weather": "fog",
        "wind": 2.2
       },
       {
        "date": "2013-11-13T00:00:00",
        "precipitation": 0,
        "temp_max": 13.9,
        "temp_min": 10.6,
        "weather": "sun",
        "wind": 3.8
       },
       {
        "date": "2013-11-14T00:00:00",
        "precipitation": 1.3,
        "temp_max": 11.1,
        "temp_min": 6.1,
        "weather": "fog",
        "wind": 1.1
       },
       {
        "date": "2013-11-15T00:00:00",
        "precipitation": 3,
        "temp_max": 10.6,
        "temp_min": 7.2,
        "weather": "sun",
        "wind": 6
       },
       {
        "date": "2013-11-16T00:00:00",
        "precipitation": 0,
        "temp_max": 10,
        "temp_min": 5,
        "weather": "sun",
        "wind": 4.6
       },
       {
        "date": "2013-11-17T00:00:00",
        "precipitation": 5.3,
        "temp_max": 11.7,
        "temp_min": 7.2,
        "weather": "fog",
        "wind": 5.4
       },
       {
        "date": "2013-11-18T00:00:00",
        "precipitation": 26.2,
        "temp_max": 12.8,
        "temp_min": 9.4,
        "weather": "fog",
        "wind": 3.9
       },
       {
        "date": "2013-11-19T00:00:00",
        "precipitation": 1,
        "temp_max": 13.3,
        "temp_min": 4.4,
        "weather": "fog",
        "wind": 5.1
       },
       {
        "date": "2013-11-20T00:00:00",
        "precipitation": 0,
        "temp_max": 7.8,
        "temp_min": 1.7,
        "weather": "sun",
        "wind": 4.3
       },
       {
        "date": "2013-11-21T00:00:00",
        "precipitation": 0,
        "temp_max": 7.8,
        "temp_min": -0.5,
        "weather": "sun",
        "wind": 3.6
       },
       {
        "date": "2013-11-22T00:00:00",
        "precipitation": 0,
        "temp_max": 9.4,
        "temp_min": 0,
        "weather": "sun",
        "wind": 4.6
       },
       {
        "date": "2013-11-23T00:00:00",
        "precipitation": 0,
        "temp_max": 11.1,
        "temp_min": 1.1,
        "weather": "sun",
        "wind": 2.6
       },
       {
        "date": "2013-11-24T00:00:00",
        "precipitation": 0,
        "temp_max": 11.7,
        "temp_min": 0.6,
        "weather": "fog",
        "wind": 0.9
       },
       {
        "date": "2013-11-25T00:00:00",
        "precipitation": 0,
        "temp_max": 12.2,
        "temp_min": 2.2,
        "weather": "sun",
        "wind": 0.5
       },
       {
        "date": "2013-11-26T00:00:00",
        "precipitation": 0,
        "temp_max": 12.2,
        "temp_min": 2.8,
        "weather": "sun",
        "wind": 1
       },
       {
        "date": "2013-11-27T00:00:00",
        "precipitation": 0,
        "temp_max": 14.4,
        "temp_min": 5.6,
        "weather": "sun",
        "wind": 1.3
       },
       {
        "date": "2013-11-28T00:00:00",
        "precipitation": 0,
        "temp_max": 11.7,
        "temp_min": 3.3,
        "weather": "sun",
        "wind": 0.7
       },
       {
        "date": "2013-11-29T00:00:00",
        "precipitation": 0.5,
        "temp_max": 9.4,
        "temp_min": 5,
        "weather": "fog",
        "wind": 2.1
       },
       {
        "date": "2013-11-30T00:00:00",
        "precipitation": 2.3,
        "temp_max": 11.1,
        "temp_min": 7.2,
        "weather": "fog",
        "wind": 3.9
       },
       {
        "date": "2013-12-01T00:00:00",
        "precipitation": 3,
        "temp_max": 13.3,
        "temp_min": 7.8,
        "weather": "fog",
        "wind": 8.8
       },
       {
        "date": "2013-12-02T00:00:00",
        "precipitation": 4.6,
        "temp_max": 7.8,
        "temp_min": 1.7,
        "weather": "sun",
        "wind": 3.5
       },
       {
        "date": "2013-12-03T00:00:00",
        "precipitation": 0,
        "temp_max": 5,
        "temp_min": -0.5,
        "weather": "sun",
        "wind": 5.6
       },
       {
        "date": "2013-12-04T00:00:00",
        "precipitation": 0,
        "temp_max": 4.4,
        "temp_min": -2.1,
        "weather": "sun",
        "wind": 1.6
       },
       {
        "date": "2013-12-05T00:00:00",
        "precipitation": 0,
        "temp_max": 1.1,
        "temp_min": -4.9,
        "weather": "sun",
        "wind": 2.6
       },
       {
        "date": "2013-12-06T00:00:00",
        "precipitation": 0,
        "temp_max": 1.1,
        "temp_min": -4.3,
        "weather": "sun",
        "wind": 4.7
       },
       {
        "date": "2013-12-07T00:00:00",
        "precipitation": 0,
        "temp_max": 0,
        "temp_min": -7.1,
        "weather": "sun",
        "wind": 3.1
       },
       {
        "date": "2013-12-08T00:00:00",
        "precipitation": 0,
        "temp_max": 2.2,
        "temp_min": -6.6,
        "weather": "sun",
        "wind": 2.2
       },
       {
        "date": "2013-12-09T00:00:00",
        "precipitation": 0,
        "temp_max": 1.1,
        "temp_min": -4.9,
        "weather": "sun",
        "wind": 1.3
       },
       {
        "date": "2013-12-10T00:00:00",
        "precipitation": 0,
        "temp_max": 5.6,
        "temp_min": 0.6,
        "weather": "sun",
        "wind": 1.5
       },
       {
        "date": "2013-12-11T00:00:00",
        "precipitation": 0,
        "temp_max": 5,
        "temp_min": -1.6,
        "weather": "sun",
        "wind": 0.8
       },
       {
        "date": "2013-12-12T00:00:00",
        "precipitation": 6.9,
        "temp_max": 5.6,
        "temp_min": -0.5,
        "weather": "sun",
        "wind": 2.3
       },
       {
        "date": "2013-12-13T00:00:00",
        "precipitation": 0.5,
        "temp_max": 9.4,
        "temp_min": 5.6,
        "weather": "fog",
        "wind": 2.9
       },
       {
        "date": "2013-12-14T00:00:00",
        "precipitation": 0,
        "temp_max": 9.4,
        "temp_min": 6.1,
        "weather": "sun",
        "wind": 3.7
       },
       {
        "date": "2013-12-15T00:00:00",
        "precipitation": 1.3,
        "temp_max": 11.7,
        "temp_min": 8.3,
        "weather": "fog",
        "wind": 3.9
       },
       {
        "date": "2013-12-16T00:00:00",
        "precipitation": 0.3,
        "temp_max": 10,
        "temp_min": 4.4,
        "weather": "sun",
        "wind": 1
       },
       {
        "date": "2013-12-17T00:00:00",
        "precipitation": 0,
        "temp_max": 8.3,
        "temp_min": 4.4,
        "weather": "sun",
        "wind": 2.7
       },
       {
        "date": "2013-12-18T00:00:00",
        "precipitation": 1.3,
        "temp_max": 7.8,
        "temp_min": 2.2,
        "weather": "fog",
        "wind": 2.8
       },
       {
        "date": "2013-12-19T00:00:00",
        "precipitation": 0,
        "temp_max": 5,
        "temp_min": 0,
        "weather": "sun",
        "wind": 2.1
       },
       {
        "date": "2013-12-20T00:00:00",
        "precipitation": 5.6,
        "temp_max": 8.3,
        "temp_min": 0.6,
        "weather": "fog",
        "wind": 3.7
       },
       {
        "date": "2013-12-21T00:00:00",
        "precipitation": 5.6,
        "temp_max": 8.9,
        "temp_min": 5.6,
        "weather": "fog",
        "wind": 2.3
       },
       {
        "date": "2013-12-22T00:00:00",
        "precipitation": 10.7,
        "temp_max": 10.6,
        "temp_min": 8.3,
        "weather": "fog",
        "wind": 4
       },
       {
        "date": "2013-12-23T00:00:00",
        "precipitation": 1.5,
        "temp_max": 11.7,
        "temp_min": 6.1,
        "weather": "fog",
        "wind": 5.9
       },
       {
        "date": "2013-12-24T00:00:00",
        "precipitation": 0,
        "temp_max": 8.3,
        "temp_min": 2.8,
        "weather": "sun",
        "wind": 1.7
       },
       {
        "date": "2013-12-25T00:00:00",
        "precipitation": 0,
        "temp_max": 6.7,
        "temp_min": 1.7,
        "weather": "sun",
        "wind": 0.8
       },
       {
        "date": "2013-12-26T00:00:00",
        "precipitation": 0,
        "temp_max": 6.7,
        "temp_min": 0.6,
        "weather": "sun",
        "wind": 0.5
       },
       {
        "date": "2013-12-27T00:00:00",
        "precipitation": 0.3,
        "temp_max": 8.9,
        "temp_min": 0,
        "weather": "fog",
        "wind": 2.1
       },
       {
        "date": "2013-12-28T00:00:00",
        "precipitation": 0,
        "temp_max": 9.4,
        "temp_min": 3.3,
        "weather": "sun",
        "wind": 1.3
       },
       {
        "date": "2013-12-29T00:00:00",
        "precipitation": 0,
        "temp_max": 7.2,
        "temp_min": 1.7,
        "weather": "sun",
        "wind": 1.1
       },
       {
        "date": "2013-12-30T00:00:00",
        "precipitation": 0.3,
        "temp_max": 8.9,
        "temp_min": 4.4,
        "weather": "sun",
        "wind": 2.6
       },
       {
        "date": "2013-12-31T00:00:00",
        "precipitation": 0.5,
        "temp_max": 8.3,
        "temp_min": 5,
        "weather": "sun",
        "wind": 1.7
       },
       {
        "date": "2014-01-01T00:00:00",
        "precipitation": 0,
        "temp_max": 7.2,
        "temp_min": 3.3,
        "weather": "sun",
        "wind": 1.2
       },
       {
        "date": "2014-01-02T00:00:00",
        "precipitation": 4.1,
        "temp_max": 10.6,
        "temp_min": 6.1,
        "weather": "sun",
        "wind": 3.2
       },
       {
        "date": "2014-01-03T00:00:00",
        "precipitation": 1.5,
        "temp_max": 8.9,
        "temp_min": 2.8,
        "weather": "fog",
        "wind": 2.6
       },
       {
        "date": "2014-01-04T00:00:00",
        "precipitation": 0,
        "temp_max": 7.8,
        "temp_min": 0.6,
        "weather": "fog",
        "wind": 2.7
       },
       {
        "date": "2014-01-05T00:00:00",
        "precipitation": 0,
        "temp_max": 8.3,
        "temp_min": -0.5,
        "weather": "sun",
        "wind": 3.7
       },
       {
        "date": "2014-01-06T00:00:00",
        "precipitation": 0.3,
        "temp_max": 7.8,
        "temp_min": -0.5,
        "weather": "fog",
        "wind": 2.6
       },
       {
        "date": "2014-01-07T00:00:00",
        "precipitation": 12.2,
        "temp_max": 8.3,
        "temp_min": 5,
        "weather": "sun",
        "wind": 1.6
       },
       {
        "date": "2014-01-08T00:00:00",
        "precipitation": 9.7,
        "temp_max": 10,
        "temp_min": 7.2,
        "weather": "fog",
        "wind": 4.6
       },
       {
        "date": "2014-01-09T00:00:00",
        "precipitation": 5.8,
        "temp_max": 9.4,
        "temp_min": 5.6,
        "weather": "fog",
        "wind": 6.3
       },
       {
        "date": "2014-01-10T00:00:00",
        "precipitation": 4.3,
        "temp_max": 12.8,
        "temp_min": 8.3,
        "weather": "sun",
        "wind": 7
       },
       {
        "date": "2014-01-11T00:00:00",
        "precipitation": 21.3,
        "temp_max": 14.4,
        "temp_min": 7.2,
        "weather": "fog",
        "wind": 8.8
       },
       {
        "date": "2014-01-12T00:00:00",
        "precipitation": 1.5,
        "temp_max": 11.1,
        "temp_min": 5.6,
        "weather": "fog",
        "wind": 8.1
       },
       {
        "date": "2014-01-13T00:00:00",
        "precipitation": 0,
        "temp_max": 10.6,
        "temp_min": 10,
        "weather": "sun",
        "wind": 7.1
       },
       {
        "date": "2014-01-14T00:00:00",
        "precipitation": 0,
        "temp_max": 11.1,
        "temp_min": 7.2,
        "weather": "sun",
        "wind": 1.3
       },
       {
        "date": "2014-01-15T00:00:00",
        "precipitation": 0,
        "temp_max": 11.1,
        "temp_min": 5.6,
        "weather": "sun",
        "wind": 2.5
       },
       {
        "date": "2014-01-16T00:00:00",
        "precipitation": 0,
        "temp_max": 6.7,
        "temp_min": 4.4,
        "weather": "sun",
        "wind": 2.7
       },
       {
        "date": "2014-01-17T00:00:00",
        "precipitation": 0,
        "temp_max": 5.6,
        "temp_min": 2.8,
        "weather": "sun",
        "wind": 2.3
       },
       {
        "date": "2014-01-18T00:00:00",
        "precipitation": 0,
        "temp_max": 9.4,
        "temp_min": 0.6,
        "weather": "sun",
        "wind": 2.2
       },
       {
        "date": "2014-01-19T00:00:00",
        "precipitation": 0,
        "temp_max": 6.1,
        "temp_min": 3.3,
        "weather": "sun",
        "wind": 2.5
       },
       {
        "date": "2014-01-20T00:00:00",
        "precipitation": 0,
        "temp_max": 10,
        "temp_min": 2.8,
        "weather": "sun",
        "wind": 2.2
       },
       {
        "date": "2014-01-21T00:00:00",
        "precipitation": 0,
        "temp_max": 10,
        "temp_min": 1.7,
        "weather": "sun",
        "wind": 1.5
       },
       {
        "date": "2014-01-22T00:00:00",
        "precipitation": 0.5,
        "temp_max": 9.4,
        "temp_min": 5.6,
        "weather": "sun",
        "wind": 2.6
       },
       {
        "date": "2014-01-23T00:00:00",
        "precipitation": 0,
        "temp_max": 10,
        "temp_min": 2.8,
        "weather": "fog",
        "wind": 5.2
       },
       {
        "date": "2014-01-24T00:00:00",
        "precipitation": 0,
        "temp_max": 12.8,
        "temp_min": 1.1,
        "weather": "sun",
        "wind": 1.9
       },
       {
        "date": "2014-01-25T00:00:00",
        "precipitation": 0,
        "temp_max": 12.2,
        "temp_min": 1.1,
        "weather": "sun",
        "wind": 0.8
       },
       {
        "date": "2014-01-26T00:00:00",
        "precipitation": 0,
        "temp_max": 8.3,
        "temp_min": 0.6,
        "weather": "sun",
        "wind": 1.3
       },
       {
        "date": "2014-01-27T00:00:00",
        "precipitation": 0,
        "temp_max": 9.4,
        "temp_min": 1.7,
        "weather": "sun",
        "wind": 1.3
       },
       {
        "date": "2014-01-28T00:00:00",
        "precipitation": 8.9,
        "temp_max": 11.1,
        "temp_min": 6.1,
        "weather": "fog",
        "wind": 1.6
       },
       {
        "date": "2014-01-29T00:00:00",
        "precipitation": 21.6,
        "temp_max": 11.1,
        "temp_min": 7.2,
        "weather": "fog",
        "wind": 3.4
       },
       {
        "date": "2014-01-30T00:00:00",
        "precipitation": 0,
        "temp_max": 8.3,
        "temp_min": 6.1,
        "weather": "sun",
        "wind": 6.4
       },
       {
        "date": "2014-01-31T00:00:00",
        "precipitation": 2.3,
        "temp_max": 7.8,
        "temp_min": 5.6,
        "weather": "fog",
        "wind": 2.6
       },
       {
        "date": "2014-02-01T00:00:00",
        "precipitation": 2,
        "temp_max": 7.8,
        "temp_min": 2.8,
        "weather": "sun",
        "wind": 0.8
       },
       {
        "date": "2014-02-02T00:00:00",
        "precipitation": 0,
        "temp_max": 8.9,
        "temp_min": 1.1,
        "weather": "sun",
        "wind": 2.5
       },
       {
        "date": "2014-02-03T00:00:00",
        "precipitation": 0,
        "temp_max": 5,
        "temp_min": 0,
        "weather": "sun",
        "wind": 4.3
       },
       {
        "date": "2014-02-04T00:00:00",
        "precipitation": 0,
        "temp_max": 2.8,
        "temp_min": -2.1,
        "weather": "sun",
        "wind": 4.7
       },
       {
        "date": "2014-02-05T00:00:00",
        "precipitation": 0,
        "temp_max": -0.5,
        "temp_min": -5.5,
        "weather": "sun",
        "wind": 6.6
       },
       {
        "date": "2014-02-06T00:00:00",
        "precipitation": 0,
        "temp_max": -1.6,
        "temp_min": -6,
        "weather": "sun",
        "wind": 4.5
       },
       {
        "date": "2014-02-07T00:00:00",
        "precipitation": 0,
        "temp_max": 3.3,
        "temp_min": -4.9,
        "weather": "sun",
        "wind": 4.2
       },
       {
        "date": "2014-02-08T00:00:00",
        "precipitation": 5.1,
        "temp_max": 5.6,
        "temp_min": -0.5,
        "weather": "fog",
        "wind": 4.6
       },
       {
        "date": "2014-02-09T00:00:00",
        "precipitation": 0.5,
        "temp_max": 3.9,
        "temp_min": 0,
        "weather": "fog",
        "wind": 2.4
       },
       {
        "date": "2014-02-10T00:00:00",
        "precipitation": 18.3,
        "temp_max": 10,
        "temp_min": 2.2,
        "weather": "fog",
        "wind": 4.7
       },
       {
        "date": "2014-02-11T00:00:00",
        "precipitation": 17,
        "temp_max": 12.2,
        "temp_min": 5.6,
        "weather": "fog",
        "wind": 3.8
       },
       {
        "date": "2014-02-12T00:00:00",
        "precipitation": 4.6,
        "temp_max": 12.2,
        "temp_min": 7.2,
        "weather": "fog",
        "wind": 6.4
       },
       {
        "date": "2014-02-13T00:00:00",
        "precipitation": 1.8,
        "temp_max": 12.8,
        "temp_min": 7.8,
        "weather": "fog",
        "wind": 6.3
       },
       {
        "date": "2014-02-14T00:00:00",
        "precipitation": 9.4,
        "temp_max": 11.7,
        "temp_min": 6.1,
        "weather": "fog",
        "wind": 6.4
       },
       {
        "date": "2014-02-15T00:00:00",
        "precipitation": 11.7,
        "temp_max": 11.1,
        "temp_min": 5,
        "weather": "fog",
        "wind": 5.1
       },
       {
        "date": "2014-02-16T00:00:00",
        "precipitation": 26.4,
        "temp_max": 9.4,
        "temp_min": 3.9,
        "weather": "fog",
        "wind": 7.9
       },
       {
        "date": "2014-02-17T00:00:00",
        "precipitation": 14.5,
        "temp_max": 8.3,
        "temp_min": 4.4,
        "weather": "fog",
        "wind": 5.5
       },
       {
        "date": "2014-02-18T00:00:00",
        "precipitation": 15.2,
        "temp_max": 8.9,
        "temp_min": 5,
        "weather": "fog",
        "wind": 6.2
       },
       {
        "date": "2014-02-19T00:00:00",
        "precipitation": 1,
        "temp_max": 8.3,
        "temp_min": 3.9,
        "weather": "sun",
        "wind": 6
       },
       {
        "date": "2014-02-20T00:00:00",
        "precipitation": 3,
        "temp_max": 10,
        "temp_min": 5.6,
        "weather": "fog",
        "wind": 6.9
       },
       {
        "date": "2014-02-21T00:00:00",
        "precipitation": 2.8,
        "temp_max": 6.7,
        "temp_min": 3.9,
        "weather": "fog",
        "wind": 2.9
       },
       {
        "date": "2014-02-22T00:00:00",
        "precipitation": 2.5,
        "temp_max": 5.6,
        "temp_min": 2.8,
        "weather": "fog",
        "wind": 3.1
       },
       {
        "date": "2014-02-23T00:00:00",
        "precipitation": 6.1,
        "temp_max": 7.2,
        "temp_min": 3.9,
        "weather": "fog",
        "wind": 2.6
       },
       {
        "date": "2014-02-24T00:00:00",
        "precipitation": 13,
        "temp_max": 6.7,
        "temp_min": 3.3,
        "weather": "fog",
        "wind": 3.2
       },
       {
        "date": "2014-02-25T00:00:00",
        "precipitation": 0.3,
        "temp_max": 12.2,
        "temp_min": 3.9,
        "weather": "fog",
        "wind": 4.5
       },
       {
        "date": "2014-02-26T00:00:00",
        "precipitation": 0,
        "temp_max": 13.9,
        "temp_min": 5.6,
        "weather": "sun",
        "wind": 2.5
       },
       {
        "date": "2014-02-27T00:00:00",
        "precipitation": 0,
        "temp_max": 12.8,
        "temp_min": 4.4,
        "weather": "sun",
        "wind": 2.3
       },
       {
        "date": "2014-02-28T00:00:00",
        "precipitation": 0,
        "temp_max": 14.4,
        "temp_min": 4.4,
        "weather": "sun",
        "wind": 5.9
       },
       {
        "date": "2014-03-01T00:00:00",
        "precipitation": 0.5,
        "temp_max": 7.2,
        "temp_min": 4.4,
        "weather": "sun",
        "wind": 4.7
       },
       {
        "date": "2014-03-02T00:00:00",
        "precipitation": 19.1,
        "temp_max": 11.1,
        "temp_min": 2.8,
        "weather": "fog",
        "wind": 5.7
       },
       {
        "date": "2014-03-03T00:00:00",
        "precipitation": 10.7,
        "temp_max": 14.4,
        "temp_min": 8.9,
        "weather": "fog",
        "wind": 5.1
       },
       {
        "date": "2014-03-04T00:00:00",
        "precipitation": 16.5,
        "temp_max": 13.9,
        "temp_min": 7.8,
        "weather": "fog",
        "wind": 3.9
       },
       {
        "date": "2014-03-05T00:00:00",
        "precipitation": 46.7,
        "temp_max": 15.6,
        "temp_min": 10.6,
        "weather": "fog",
        "wind": 3.9
       },
       {
        "date": "2014-03-06T00:00:00",
        "precipitation": 3,
        "temp_max": 13.3,
        "temp_min": 10,
        "weather": "fog",
        "wind": 6.2
       },
       {
        "date": "2014-03-07T00:00:00",
        "precipitation": 0,
        "temp_max": 15.6,
        "temp_min": 8.9,
        "weather": "sun",
        "wind": 4.2
       },
       {
        "date": "2014-03-08T00:00:00",
        "precipitation": 32.3,
        "temp_max": 12.8,
        "temp_min": 6.7,
        "weather": "fog",
        "wind": 2.7
       },
       {
        "date": "2014-03-09T00:00:00",
        "precipitation": 4.3,
        "temp_max": 15,
        "temp_min": 9.4,
        "weather": "fog",
        "wind": 4.3
       },
       {
        "date": "2014-03-10T00:00:00",
        "precipitation": 18.8,
        "temp_max": 12.2,
        "temp_min": 6.1,
        "weather": "fog",
        "wind": 2.2
       },
       {
        "date": "2014-03-11T00:00:00",
        "precipitation": 0,
        "temp_max": 14.4,
        "temp_min": 4.4,
        "weather": "fog",
        "wind": 2.3
       },
       {
        "date": "2014-03-12T00:00:00",
        "precipitation": 0,
        "temp_max": 16.1,
        "temp_min": 3.3,
        "weather": "fog",
        "wind": 1.9
       },
       {
        "date": "2014-03-13T00:00:00",
        "precipitation": 0.5,
        "temp_max": 13.9,
        "temp_min": 5,
        "weather": "fog",
        "wind": 2.5
       },
       {
        "date": "2014-03-14T00:00:00",
        "precipitation": 6.9,
        "temp_max": 14.4,
        "temp_min": 8.3,
        "weather": "fog",
        "wind": 6.1
       },
       {
        "date": "2014-03-15T00:00:00",
        "precipitation": 8.1,
        "temp_max": 16.7,
        "temp_min": 4.4,
        "weather": "fog",
        "wind": 3
       },
       {
        "date": "2014-03-16T00:00:00",
        "precipitation": 27.7,
        "temp_max": 10.6,
        "temp_min": 4.4,
        "weather": "fog",
        "wind": 3.8
       },
       {
        "date": "2014-03-17T00:00:00",
        "precipitation": 0.3,
        "temp_max": 10,
        "temp_min": 2.8,
        "weather": "fog",
        "wind": 3.2
       },
       {
        "date": "2014-03-18T00:00:00",
        "precipitation": 0,
        "temp_max": 10,
        "temp_min": 3.3,
        "weather": "sun",
        "wind": 1.6
       },
       {
        "date": "2014-03-19T00:00:00",
        "precipitation": 0.5,
        "temp_max": 11.1,
        "temp_min": 3.3,
        "weather": "sun",
        "wind": 5.1
       },
       {
        "date": "2014-03-20T00:00:00",
        "precipitation": 0,
        "temp_max": 11.1,
        "temp_min": 1.7,
        "weather": "sun",
        "wind": 3
       },
       {
        "date": "2014-03-21T00:00:00",
        "precipitation": 0,
        "temp_max": 10.6,
        "temp_min": 2.8,
        "weather": "sun",
        "wind": 3.8
       },
       {
        "date": "2014-03-22T00:00:00",
        "precipitation": 0,
        "temp_max": 11.1,
        "temp_min": 1.1,
        "weather": "sun",
        "wind": 1.8
       },
       {
        "date": "2014-03-23T00:00:00",
        "precipitation": 0,
        "temp_max": 12.8,
        "temp_min": 4.4,
        "weather": "sun",
        "wind": 3.3
       },
       {
        "date": "2014-03-24T00:00:00",
        "precipitation": 0,
        "temp_max": 18.9,
        "temp_min": 2.8,
        "weather": "sun",
        "wind": 2.2
       },
       {
        "date": "2014-03-25T00:00:00",
        "precipitation": 4.1,
        "temp_max": 13.9,
        "temp_min": 6.7,
        "weather": "fog",
        "wind": 4.4
       },
       {
        "date": "2014-03-26T00:00:00",
        "precipitation": 3.6,
        "temp_max": 11.1,
        "temp_min": 5.6,
        "weather": "fog",
        "wind": 2.4
       },
       {
        "date": "2014-03-27T00:00:00",
        "precipitation": 0.3,
        "temp_max": 12.2,
        "temp_min": 6.7,
        "weather": "fog",
        "wind": 2.8
       },
       {
        "date": "2014-03-28T00:00:00",
        "precipitation": 22.1,
        "temp_max": 11.7,
        "temp_min": 7.2,
        "weather": "fog",
        "wind": 3.9
       },
       {
        "date": "2014-03-29T00:00:00",
        "precipitation": 14,
        "temp_max": 11.7,
        "temp_min": 7.2,
        "weather": "fog",
        "wind": 5.1
       },
       {
        "date": "2014-03-30T00:00:00",
        "precipitation": 0,
        "temp_max": 11.1,
        "temp_min": 5,
        "weather": "sun",
        "wind": 5.1
       },
       {
        "date": "2014-03-31T00:00:00",
        "precipitation": 0,
        "temp_max": 15.6,
        "temp_min": 2.2,
        "weather": "sun",
        "wind": 3.8
       },
       {
        "date": "2014-04-01T00:00:00",
        "precipitation": 0,
        "temp_max": 14.4,
        "temp_min": 6.7,
        "weather": "sun",
        "wind": 2.8
       },
       {
        "date": "2014-04-02T00:00:00",
        "precipitation": 0,
        "temp_max": 14.4,
        "temp_min": 5.6,
        "weather": "sun",
        "wind": 4.2
       },
       {
        "date": "2014-04-03T00:00:00",
        "precipitation": 2.5,
        "temp_max": 13.3,
        "temp_min": 6.1,
        "weather": "sun",
        "wind": 3.9
       },
       {
        "date": "2014-04-04T00:00:00",
        "precipitation": 0,
        "temp_max": 12.8,
        "temp_min": 6.1,
        "weather": "sun",
        "wind": 4.7
       },
       {
        "date": "2014-04-05T00:00:00",
        "precipitation": 4.6,
        "temp_max": 11.7,
        "temp_min": 7.8,
        "weather": "fog",
        "wind": 4.3
       },
       {
        "date": "2014-04-06T00:00:00",
        "precipitation": 0,
        "temp_max": 13.9,
        "temp_min": 8.3,
        "weather": "sun",
        "wind": 2.6
       },
       {
        "date": "2014-04-07T00:00:00",
        "precipitation": 0,
        "temp_max": 21.1,
        "temp_min": 9.4,
        "weather": "sun",
        "wind": 2.5
       },
       {
        "date": "2014-04-08T00:00:00",
        "precipitation": 4.6,
        "temp_max": 15.6,
        "temp_min": 8.3,
        "weather": "fog",
        "wind": 4.2
       },
       {
        "date": "2014-04-09T00:00:00",
        "precipitation": 0,
        "temp_max": 14.4,
        "temp_min": 6.7,
        "weather": "sun",
        "wind": 2.9
       },
       {
        "date": "2014-04-10T00:00:00",
        "precipitation": 0,
        "temp_max": 15,
        "temp_min": 6.7,
        "weather": "sun",
        "wind": 3.6
       },
       {
        "date": "2014-04-11T00:00:00",
        "precipitation": 0,
        "temp_max": 17.2,
        "temp_min": 5,
        "weather": "sun",
        "wind": 2.8
       },
       {
        "date": "2014-04-12T00:00:00",
        "precipitation": 0,
        "temp_max": 16.1,
        "temp_min": 7.8,
        "weather": "sun",
        "wind": 4.4
       },
       {
        "date": "2014-04-13T00:00:00",
        "precipitation": 0,
        "temp_max": 20.6,
        "temp_min": 5.6,
        "weather": "sun",
        "wind": 3.1
       },
       {
        "date": "2014-04-14T00:00:00",
        "precipitation": 0,
        "temp_max": 20,
        "temp_min": 5.6,
        "weather": "sun",
        "wind": 2.6
       },
       {
        "date": "2014-04-15T00:00:00",
        "precipitation": 0.5,
        "temp_max": 14.4,
        "temp_min": 7.8,
        "weather": "sun",
        "wind": 4
       },
       {
        "date": "2014-04-16T00:00:00",
        "precipitation": 10.9,
        "temp_max": 11.1,
        "temp_min": 8.9,
        "weather": "fog",
        "wind": 4.6
       },
       {
        "date": "2014-04-17T00:00:00",
        "precipitation": 18.5,
        "temp_max": 11.7,
        "temp_min": 7.2,
        "weather": "fog",
        "wind": 4.7
       },
       {
        "date": "2014-04-18T00:00:00",
        "precipitation": 0,
        "temp_max": 14.4,
        "temp_min": 5.6,
        "weather": "sun",
        "wind": 3.8
       },
       {
        "date": "2014-04-19T00:00:00",
        "precipitation": 13.7,
        "temp_max": 11.7,
        "temp_min": 5.6,
        "weather": "fog",
        "wind": 4.7
       },
       {
        "date": "2014-04-20T00:00:00",
        "precipitation": 0,
        "temp_max": 15.6,
        "temp_min": 5.6,
        "weather": "sun",
        "wind": 2.7
       },
       {
        "date": "2014-04-21T00:00:00",
        "precipitation": 5.1,
        "temp_max": 17.2,
        "temp_min": 7.8,
        "weather": "fog",
        "wind": 2.5
       },
       {
        "date": "2014-04-22T00:00:00",
        "precipitation": 14.2,
        "temp_max": 12.2,
        "temp_min": 5,
        "weather": "fog",
        "wind": 4.2
       },
       {
        "date": "2014-04-23T00:00:00",
        "precipitation": 8.9,
        "temp_max": 11.7,
        "temp_min": 6.1,
        "weather": "fog",
        "wind": 5
       },
       {
        "date": "2014-04-24T00:00:00",
        "precipitation": 12.4,
        "temp_max": 13.9,
        "temp_min": 6.1,
        "weather": "fog",
        "wind": 5.3
       },
       {
        "date": "2014-04-25T00:00:00",
        "precipitation": 0,
        "temp_max": 14.4,
        "temp_min": 5.6,
        "weather": "sun",
        "wind": 2.3
       },
       {
        "date": "2014-04-26T00:00:00",
        "precipitation": 3.3,
        "temp_max": 15,
        "temp_min": 5.6,
        "weather": "sun",
        "wind": 3.9
       },
       {
        "date": "2014-04-27T00:00:00",
        "precipitation": 6.9,
        "temp_max": 11.1,
        "temp_min": 6.1,
        "weather": "fog",
        "wind": 5.8
       },
       {
        "date": "2014-04-28T00:00:00",
        "precipitation": 0,
        "temp_max": 16.1,
        "temp_min": 4.4,
        "weather": "sun",
        "wind": 2.6
       },
       {
        "date": "2014-04-29T00:00:00",
        "precipitation": 0,
        "temp_max": 25,
        "temp_min": 9.4,
        "weather": "sun",
        "wind": 2.3
       },
       {
        "date": "2014-04-30T00:00:00",
        "precipitation": 0,
        "temp_max": 27.8,
        "temp_min": 9.4,
        "weather": "sun",
        "wind": 3.9
       },
       {
        "date": "2014-05-01T00:00:00",
        "precipitation": 0,
        "temp_max": 29.4,
        "temp_min": 11.1,
        "weather": "sun",
        "wind": 3
       },
       {
        "date": "2014-05-02T00:00:00",
        "precipitation": 0,
        "temp_max": 18.3,
        "temp_min": 10.6,
        "weather": "sun",
        "wind": 4.7
       },
       {
        "date": "2014-05-03T00:00:00",
        "precipitation": 33.3,
        "temp_max": 15,
        "temp_min": 8.9,
        "weather": "fog",
        "wind": 3.4
       },
       {
        "date": "2014-05-04T00:00:00",
        "precipitation": 16,
        "temp_max": 14.4,
        "temp_min": 8.9,
        "weather": "fog",
        "wind": 4.2
       },
       {
        "date": "2014-05-05T00:00:00",
        "precipitation": 5.1,
        "temp_max": 15.6,
        "temp_min": 9.4,
        "weather": "fog",
        "wind": 3.8
       },
       {
        "date": "2014-05-06T00:00:00",
        "precipitation": 0,
        "temp_max": 16.7,
        "temp_min": 8.3,
        "weather": "sun",
        "wind": 2.6
       },
       {
        "date": "2014-05-07T00:00:00",
        "precipitation": 0,
        "temp_max": 18.3,
        "temp_min": 7.2,
        "weather": "sun",
        "wind": 1.7
       },
       {
        "date": "2014-05-08T00:00:00",
        "precipitation": 13.7,
        "temp_max": 13.9,
        "temp_min": 9.4,
        "weather": "fog",
        "wind": 3.4
       },
       {
        "date": "2014-05-09T00:00:00",
        "precipitation": 2,
        "temp_max": 13.3,
        "temp_min": 7.2,
        "weather": "sun",
        "wind": 5.6
       },
       {
        "date": "2014-05-10T00:00:00",
        "precipitation": 0.5,
        "temp_max": 15.6,
        "temp_min": 7.2,
        "weather": "fog",
        "wind": 2.1
       },
       {
        "date": "2014-05-11T00:00:00",
        "precipitation": 0,
        "temp_max": 18.9,
        "temp_min": 8.3,
        "weather": "sun",
        "wind": 1.7
       },
       {
        "date": "2014-05-12T00:00:00",
        "precipitation": 0,
        "temp_max": 24.4,
        "temp_min": 9.4,
        "weather": "sun",
        "wind": 2.7
       },
       {
        "date": "2014-05-13T00:00:00",
        "precipitation": 0,
        "temp_max": 26.7,
        "temp_min": 12.8,
        "weather": "sun",
        "wind": 3.8
       },
       {
        "date": "2014-05-14T00:00:00",
        "precipitation": 0,
        "temp_max": 27.8,
        "temp_min": 13.3,
        "weather": "sun",
        "wind": 3.3
       },
       {
        "date": "2014-05-15T00:00:00",
        "precipitation": 0,
        "temp_max": 26.7,
        "temp_min": 12.8,
        "weather": "sun",
        "wind": 3
       },
       {
        "date": "2014-05-16T00:00:00",
        "precipitation": 0,
        "temp_max": 20,
        "temp_min": 11.7,
        "weather": "sun",
        "wind": 4.1
       },
       {
        "date": "2014-05-17T00:00:00",
        "precipitation": 0,
        "temp_max": 20,
        "temp_min": 11.7,
        "weather": "sun",
        "wind": 3.2
       },
       {
        "date": "2014-05-18T00:00:00",
        "precipitation": 0,
        "temp_max": 20,
        "temp_min": 10.6,
        "weather": "sun",
        "wind": 3.2
       },
       {
        "date": "2014-05-19T00:00:00",
        "precipitation": 0,
        "temp_max": 21.1,
        "temp_min": 10,
        "weather": "sun",
        "wind": 2.2
       },
       {
        "date": "2014-05-20T00:00:00",
        "precipitation": 0,
        "temp_max": 22.2,
        "temp_min": 10,
        "weather": "sun",
        "wind": 2.7
       },
       {
        "date": "2014-05-21T00:00:00",
        "precipitation": 0,
        "temp_max": 20,
        "temp_min": 10.6,
        "weather": "sun",
        "wind": 1.7
       },
       {
        "date": "2014-05-22T00:00:00",
        "precipitation": 0,
        "temp_max": 24.4,
        "temp_min": 11.7,
        "weather": "sun",
        "wind": 2.5
       },
       {
        "date": "2014-05-23T00:00:00",
        "precipitation": 3.8,
        "temp_max": 20,
        "temp_min": 12.8,
        "weather": "fog",
        "wind": 4
       },
       {
        "date": "2014-05-24T00:00:00",
        "precipitation": 0,
        "temp_max": 18.3,
        "temp_min": 11.1,
        "weather": "sun",
        "wind": 2.4
       },
       {
        "date": "2014-05-25T00:00:00",
        "precipitation": 5.6,
        "temp_max": 15,
        "temp_min": 10.6,
        "weather": "fog",
        "wind": 1.4
       },
       {
        "date": "2014-05-26T00:00:00",
        "precipitation": 0,
        "temp_max": 18.3,
        "temp_min": 11.1,
        "weather": "sun",
        "wind": 4.5
       },
       {
        "date": "2014-05-27T00:00:00",
        "precipitation": 0,
        "temp_max": 20,
        "temp_min": 10,
        "weather": "sun",
        "wind": 2.5
       },
       {
        "date": "2014-05-28T00:00:00",
        "precipitation": 0,
        "temp_max": 18.9,
        "temp_min": 10,
        "weather": "sun",
        "wind": 3.4
       },
       {
        "date": "2014-05-29T00:00:00",
        "precipitation": 0,
        "temp_max": 18.9,
        "temp_min": 11.1,
        "weather": "sun",
        "wind": 4.3
       },
       {
        "date": "2014-05-30T00:00:00",
        "precipitation": 0,
        "temp_max": 20.6,
        "temp_min": 8.9,
        "weather": "sun",
        "wind": 4.5
       },
       {
        "date": "2014-05-31T00:00:00",
        "precipitation": 0,
        "temp_max": 23.3,
        "temp_min": 10,
        "weather": "sun",
        "wind": 2.2
       },
       {
        "date": "2014-06-01T00:00:00",
        "precipitation": 0,
        "temp_max": 22.2,
        "temp_min": 10.6,
        "weather": "sun",
        "wind": 2.3
       },
       {
        "date": "2014-06-02T00:00:00",
        "precipitation": 0,
        "temp_max": 23.3,
        "temp_min": 11.1,
        "weather": "sun",
        "wind": 2.4
       },
       {
        "date": "2014-06-03T00:00:00",
        "precipitation": 0,
        "temp_max": 18.3,
        "temp_min": 11.1,
        "weather": "sun",
        "wind": 3.2
       },
       {
        "date": "2014-06-04T00:00:00",
        "precipitation": 0,
        "temp_max": 19.4,
        "temp_min": 10,
        "weather": "sun",
        "wind": 2.6
       },
       {
        "date": "2014-06-05T00:00:00",
        "precipitation": 0,
        "temp_max": 22.2,
        "temp_min": 10,
        "weather": "sun",
        "wind": 2.4
       },
       {
        "date": "2014-06-06T00:00:00",
        "precipitation": 0,
        "temp_max": 25,
        "temp_min": 10.6,
        "weather": "sun",
        "wind": 3.2
       },
       {
        "date": "2014-06-07T00:00:00",
        "precipitation": 0,
        "temp_max": 24.4,
        "temp_min": 13.3,
        "weather": "sun",
        "wind": 3.1
       },
       {
        "date": "2014-06-08T00:00:00",
        "precipitation": 0,
        "temp_max": 23.3,
        "temp_min": 12.2,
        "weather": "sun",
        "wind": 2.1
       },
       {
        "date": "2014-06-09T00:00:00",
        "precipitation": 0,
        "temp_max": 21.1,
        "temp_min": 13.3,
        "weather": "sun",
        "wind": 3.6
       },
       {
        "date": "2014-06-10T00:00:00",
        "precipitation": 0,
        "temp_max": 20,
        "temp_min": 12.2,
        "weather": "sun",
        "wind": 2.9
       },
       {
        "date": "2014-06-11T00:00:00",
        "precipitation": 0,
        "temp_max": 23.9,
        "temp_min": 11.1,
        "weather": "sun",
        "wind": 2.7
       },
       {
        "date": "2014-06-12T00:00:00",
        "precipitation": 1.8,
        "temp_max": 21.7,
        "temp_min": 12.2,
        "weather": "sun",
        "wind": 4
       },
       {
        "date": "2014-06-13T00:00:00",
        "precipitation": 6.4,
        "temp_max": 15.6,
        "temp_min": 11.1,
        "weather": "fog",
        "wind": 5
       },
       {
        "date": "2014-06-14T00:00:00",
        "precipitation": 0,
        "temp_max": 17.8,
        "temp_min": 11.7,
        "weather": "sun",
        "wind": 3.2
       },
       {
        "date": "2014-06-15T00:00:00",
        "precipitation": 0.5,
        "temp_max": 18.3,
        "temp_min": 10,
        "weather": "fog",
        "wind": 3.6
       },
       {
        "date": "2014-06-16T00:00:00",
        "precipitation": 3.6,
        "temp_max": 17.8,
        "temp_min": 8.9,
        "weather": "fog",
        "wind": 2.4
       },
       {
        "date": "2014-06-17T00:00:00",
        "precipitation": 1.3,
        "temp_max": 17.8,
        "temp_min": 10,
        "weather": "fog",
        "wind": 3
       },
       {
        "date": "2014-06-18T00:00:00",
        "precipitation": 0,
        "temp_max": 18.9,
        "temp_min": 11.1,
        "weather": "sun",
        "wind": 2.7
       },
       {
        "date": "2014-06-19T00:00:00",
        "precipitation": 0.8,
        "temp_max": 25.6,
        "temp_min": 11.7,
        "weather": "sun",
        "wind": 3.7
       },
       {
        "date": "2014-06-20T00:00:00",
        "precipitation": 0.3,
        "temp_max": 20,
        "temp_min": 10,
        "weather": "sun",
        "wind": 3.4
       },
       {
        "date": "2014-06-21T00:00:00",
        "precipitation": 0,
        "temp_max": 22.2,
        "temp_min": 10.6,
        "weather": "sun",
        "wind": 3.6
       },
       {
        "date": "2014-06-22T00:00:00",
        "precipitation": 0,
        "temp_max": 25,
        "temp_min": 11.1,
        "weather": "sun",
        "wind": 2.7
       },
       {
        "date": "2014-06-23T00:00:00",
        "precipitation": 0,
        "temp_max": 25,
        "temp_min": 13.3,
        "weather": "sun",
        "wind": 2.5
       },
       {
        "date": "2014-06-24T00:00:00",
        "precipitation": 0,
        "temp_max": 24.4,
        "temp_min": 14.4,
        "weather": "sun",
        "wind": 2.5
       },
       {
        "date": "2014-06-25T00:00:00",
        "precipitation": 0,
        "temp_max": 26.1,
        "temp_min": 13.9,
        "weather": "sun",
        "wind": 2.4
       },
       {
        "date": "2014-06-26T00:00:00",
        "precipitation": 0,
        "temp_max": 21.1,
        "temp_min": 14.4,
        "weather": "sun",
        "wind": 4.1
       },
       {
        "date": "2014-06-27T00:00:00",
        "precipitation": 1.8,
        "temp_max": 21.1,
        "temp_min": 13.9,
        "weather": "fog",
        "wind": 4.5
       },
       {
        "date": "2014-06-28T00:00:00",
        "precipitation": 2.3,
        "temp_max": 20,
        "temp_min": 13.3,
        "weather": "fog",
        "wind": 4.3
       },
       {
        "date": "2014-06-29T00:00:00",
        "precipitation": 0,
        "temp_max": 20.6,
        "temp_min": 12.8,
        "weather": "sun",
        "wind": 3.2
       },
       {
        "date": "2014-06-30T00:00:00",
        "precipitation": 0,
        "temp_max": 25.6,
        "temp_min": 12.8,
        "weather": "sun",
        "wind": 4.4
       },
       {
        "date": "2014-07-01T00:00:00",
        "precipitation": 0,
        "temp_max": 34.4,
        "temp_min": 15.6,
        "weather": "sun",
        "wind": 3.5
       },
       {
        "date": "2014-07-02T00:00:00",
        "precipitation": 0,
        "temp_max": 27.2,
        "temp_min": 14.4,
        "weather": "sun",
        "wind": 3.6
       },
       {
        "date": "2014-07-03T00:00:00",
        "precipitation": 0,
        "temp_max": 21.7,
        "temp_min": 13.9,
        "weather": "sun",
        "wind": 3.1
       },
       {
        "date": "2014-07-04T00:00:00",
        "precipitation": 0,
        "temp_max": 23.9,
        "temp_min": 13.9,
        "weather": "sun",
        "wind": 3.6
       },
       {
        "date": "2014-07-05T00:00:00",
        "precipitation": 0,
        "temp_max": 24.4,
        "temp_min": 13.3,
        "weather": "fog",
        "wind": 2.2
       },
       {
        "date": "2014-07-06T00:00:00",
        "precipitation": 0,
        "temp_max": 28.9,
        "temp_min": 15,
        "weather": "sun",
        "wind": 3
       },
       {
        "date": "2014-07-07T00:00:00",
        "precipitation": 0,
        "temp_max": 27.2,
        "temp_min": 17.8,
        "weather": "fog",
        "wind": 4.1
       },
       {
        "date": "2014-07-08T00:00:00",
        "precipitation": 0,
        "temp_max": 30,
        "temp_min": 15.6,
        "weather": "sun",
        "wind": 3.5
       },
       {
        "date": "2014-07-09T00:00:00",
        "precipitation": 0,
        "temp_max": 26.7,
        "temp_min": 13.9,
        "weather": "sun",
        "wind": 2.3
       },
       {
        "date": "2014-07-10T00:00:00",
        "precipitation": 0,
        "temp_max": 28.9,
        "temp_min": 12.8,
        "weather": "fog",
        "wind": 2.2
       },
       {
        "date": "2014-07-11T00:00:00",
        "precipitation": 0,
        "temp_max": 31.1,
        "temp_min": 15,
        "weather": "sun",
        "wind": 2.2
       },
       {
        "date": "2014-07-12T00:00:00",
        "precipitation": 0,
        "temp_max": 32.2,
        "temp_min": 16.7,
        "weather": "sun",
        "wind": 2.2
       },
       {
        "date": "2014-07-13T00:00:00",
        "precipitation": 0,
        "temp_max": 29.4,
        "temp_min": 15,
        "weather": "rain",
        "wind": 2.6
       },
       {
        "date": "2014-07-14T00:00:00",
        "precipitation": 0,
        "temp_max": 27.8,
        "temp_min": 15,
        "weather": "sun",
        "wind": 2.8
       },
       {
        "date": "2014-07-15T00:00:00",
        "precipitation": 0,
        "temp_max": 31.1,
        "temp_min": 13.9,
        "weather": "sun",
        "wind": 2.3
       },
       {
        "date": "2014-07-16T00:00:00",
        "precipitation": 0,
        "temp_max": 31.1,
        "temp_min": 14.4,
        "weather": "sun",
        "wind": 2.4
       },
       {
        "date": "2014-07-17T00:00:00",
        "precipitation": 0,
        "temp_max": 26.7,
        "temp_min": 13.9,
        "weather": "sun",
        "wind": 3.7
       },
       {
        "date": "2014-07-18T00:00:00",
        "precipitation": 0,
        "temp_max": 23.9,
        "temp_min": 11.7,
        "weather": "sun",
        "wind": 2.8
       },
       {
        "date": "2014-07-19T00:00:00",
        "precipitation": 0,
        "temp_max": 25.6,
        "temp_min": 15,
        "weather": "fog",
        "wind": 5.4
       },
       {
        "date": "2014-07-20T00:00:00",
        "precipitation": 0,
        "temp_max": 19.4,
        "temp_min": 14.4,
        "weather": "sun",
        "wind": 2.8
       },
       {
        "date": "2014-07-21T00:00:00",
        "precipitation": 0,
        "temp_max": 23.9,
        "temp_min": 13.3,
        "weather": "sun",
        "wind": 2.2
       },
       {
        "date": "2014-07-22T00:00:00",
        "precipitation": 0.3,
        "temp_max": 21.1,
        "temp_min": 13.3,
        "weather": "fog",
        "wind": 1.1
       },
       {
        "date": "2014-07-23T00:00:00",
        "precipitation": 19.3,
        "temp_max": 18.9,
        "temp_min": 13.3,
        "weather": "sun",
        "wind": 3.3
       },
       {
        "date": "2014-07-24T00:00:00",
        "precipitation": 0,
        "temp_max": 20.6,
        "temp_min": 12.8,
        "weather": "sun",
        "wind": 4.7
       },
       {
        "date": "2014-07-25T00:00:00",
        "precipitation": 0,
        "temp_max": 22.8,
        "temp_min": 12.2,
        "weather": "sun",
        "wind": 2.7
       },
       {
        "date": "2014-07-26T00:00:00",
        "precipitation": 0,
        "temp_max": 26.1,
        "temp_min": 13.3,
        "weather": "sun",
        "wind": 3.6
       },
       {
        "date": "2014-07-27T00:00:00",
        "precipitation": 0,
        "temp_max": 28.3,
        "temp_min": 15,
        "weather": "sun",
        "wind": 4.1
       },
       {
        "date": "2014-07-28T00:00:00",
        "precipitation": 0,
        "temp_max": 30.6,
        "temp_min": 15,
        "weather": "sun",
        "wind": 3.7
       },
       {
        "date": "2014-07-29T00:00:00",
        "precipitation": 0,
        "temp_max": 30,
        "temp_min": 15.6,
        "weather": "sun",
        "wind": 2.8
       },
       {
        "date": "2014-07-30T00:00:00",
        "precipitation": 0,
        "temp_max": 29.4,
        "temp_min": 14.4,
        "weather": "sun",
        "wind": 3.4
       },
       {
        "date": "2014-07-31T00:00:00",
        "precipitation": 0,
        "temp_max": 30.6,
        "temp_min": 17.8,
        "weather": "sun",
        "wind": 4.1
       },
       {
        "date": "2014-08-01T00:00:00",
        "precipitation": 0,
        "temp_max": 28.9,
        "temp_min": 15,
        "weather": "sun",
        "wind": 3.3
       },
       {
        "date": "2014-08-02T00:00:00",
        "precipitation": 0.5,
        "temp_max": 29.4,
        "temp_min": 15.6,
        "weather": "sun",
        "wind": 1.7
       },
       {
        "date": "2014-08-03T00:00:00",
        "precipitation": 0,
        "temp_max": 31.7,
        "temp_min": 14.4,
        "weather": "sun",
        "wind": 2.6
       },
       {
        "date": "2014-08-04T00:00:00",
        "precipitation": 0,
        "temp_max": 32.8,
        "temp_min": 16.1,
        "weather": "sun",
        "wind": 2.6
       },
       {
        "date": "2014-08-05T00:00:00",
        "precipitation": 0,
        "temp_max": 25,
        "temp_min": 13.9,
        "weather": "sun",
        "wind": 2.7
       },
       {
        "date": "2014-08-06T00:00:00",
        "precipitation": 0,
        "temp_max": 26.1,
        "temp_min": 15,
        "weather": "fog",
        "wind": 2.2
       },
       {
        "date": "2014-08-07T00:00:00",
        "precipitation": 0,
        "temp_max": 25.6,
        "temp_min": 13.3,
        "weather": "fog",
        "wind": 2.4
       },
       {
        "date": "2014-08-08T00:00:00",
        "precipitation": 0,
        "temp_max": 25.6,
        "temp_min": 13.3,
        "weather": "sun",
        "wind": 2.9
       },
       {
        "date": "2014-08-09T00:00:00",
        "precipitation": 0,
        "temp_max": 27.2,
        "temp_min": 15.6,
        "weather": "sun",
        "wind": 4.1
       },
       {
        "date": "2014-08-10T00:00:00",
        "precipitation": 0,
        "temp_max": 30.6,
        "temp_min": 13.9,
        "weather": "sun",
        "wind": 3.4
       },
       {
        "date": "2014-08-11T00:00:00",
        "precipitation": 0.5,
        "temp_max": 35.6,
        "temp_min": 17.8,
        "weather": "rain",
        "wind": 2.6
       },
       {
        "date": "2014-08-12T00:00:00",
        "precipitation": 12.7,
        "temp_max": 27.2,
        "temp_min": 17.2,
        "weather": "fog",
        "wind": 3.1
       },
       {
        "date": "2014-08-13T00:00:00",
        "precipitation": 21.6,
        "temp_max": 23.3,
        "temp_min": 15,
        "weather": "fog",
        "wind": 2.7
       },
       {
        "date": "2014-08-14T00:00:00",
        "precipitation": 0,
        "temp_max": 21.1,
        "temp_min": 17.2,
        "weather": "sun",
        "wind": 0.6
       },
       {
        "date": "2014-08-15T00:00:00",
        "precipitation": 1,
        "temp_max": 24.4,
        "temp_min": 16.7,
        "weather": "fog",
        "wind": 1.5
       },
       {
        "date": "2014-08-16T00:00:00",
        "precipitation": 0,
        "temp_max": 25.6,
        "temp_min": 15.6,
        "weather": "sun",
        "wind": 2.2
       },
       {
        "date": "2014-08-17T00:00:00",
        "precipitation": 0,
        "temp_max": 27.8,
        "temp_min": 15,
        "weather": "sun",
        "wind": 2.8
       },
       {
        "date": "2014-08-18T00:00:00",
        "precipitation": 0,
        "temp_max": 29.4,
        "temp_min": 15.6,
        "weather": "sun",
        "wind": 3.3
       },
       {
        "date": "2014-08-19T00:00:00",
        "precipitation": 0,
        "temp_max": 27.2,
        "temp_min": 15.6,
        "weather": "sun",
        "wind": 2.4
       },
       {
        "date": "2014-08-20T00:00:00",
        "precipitation": 0,
        "temp_max": 21.7,
        "temp_min": 13.9,
        "weather": "sun",
        "wind": 3.6
       },
       {
        "date": "2014-08-21T00:00:00",
        "precipitation": 0,
        "temp_max": 21.1,
        "temp_min": 11.1,
        "weather": "sun",
        "wind": 1.7
       },
       {
        "date": "2014-08-22T00:00:00",
        "precipitation": 0,
        "temp_max": 23.9,
        "temp_min": 13.3,
        "weather": "sun",
        "wind": 2.9
       },
       {
        "date": "2014-08-23T00:00:00",
        "precipitation": 0,
        "temp_max": 27.8,
        "temp_min": 13.9,
        "weather": "sun",
        "wind": 2
       },
       {
        "date": "2014-08-24T00:00:00",
        "precipitation": 0,
        "temp_max": 25,
        "temp_min": 13.3,
        "weather": "sun",
        "wind": 2.3
       },
       {
        "date": "2014-08-25T00:00:00",
        "precipitation": 0,
        "temp_max": 28.9,
        "temp_min": 14.4,
        "weather": "sun",
        "wind": 2
       },
       {
        "date": "2014-08-26T00:00:00",
        "precipitation": 0,
        "temp_max": 31.1,
        "temp_min": 15.6,
        "weather": "sun",
        "wind": 1.8
       },
       {
        "date": "2014-08-27T00:00:00",
        "precipitation": 0,
        "temp_max": 28.9,
        "temp_min": 16.1,
        "weather": "sun",
        "wind": 1.6
       },
       {
        "date": "2014-08-28T00:00:00",
        "precipitation": 0,
        "temp_max": 23.3,
        "temp_min": 14.4,
        "weather": "sun",
        "wind": 2.3
       },
       {
        "date": "2014-08-29T00:00:00",
        "precipitation": 0,
        "temp_max": 22.8,
        "temp_min": 15,
        "weather": "sun",
        "wind": 3.4
       },
       {
        "date": "2014-08-30T00:00:00",
        "precipitation": 8.4,
        "temp_max": 17.8,
        "temp_min": 15,
        "weather": "fog",
        "wind": 2.2
       },
       {
        "date": "2014-08-31T00:00:00",
        "precipitation": 1.3,
        "temp_max": 21.1,
        "temp_min": 13.9,
        "weather": "fog",
        "wind": 1.9
       },
       {
        "date": "2014-09-01T00:00:00",
        "precipitation": 0,
        "temp_max": 23.3,
        "temp_min": 12.8,
        "weather": "sun",
        "wind": 2.5
       },
       {
        "date": "2014-09-02T00:00:00",
        "precipitation": 3,
        "temp_max": 20,
        "temp_min": 13.9,
        "weather": "fog",
        "wind": 4.3
       },
       {
        "date": "2014-09-03T00:00:00",
        "precipitation": 0,
        "temp_max": 20.6,
        "temp_min": 12.8,
        "weather": "sun",
        "wind": 2.7
       },
       {
        "date": "2014-09-04T00:00:00",
        "precipitation": 0,
        "temp_max": 23.9,
        "temp_min": 11.1,
        "weather": "fog",
        "wind": 3.1
       },
       {
        "date": "2014-09-05T00:00:00",
        "precipitation": 0,
        "temp_max": 27.8,
        "temp_min": 13.9,
        "weather": "fog",
        "wind": 6.5
       },
       {
        "date": "2014-09-06T00:00:00",
        "precipitation": 0,
        "temp_max": 32.2,
        "temp_min": 15,
        "weather": "sun",
        "wind": 2.9
       },
       {
        "date": "2014-09-07T00:00:00",
        "precipitation": 0,
        "temp_max": 28.3,
        "temp_min": 13.3,
        "weather": "sun",
        "wind": 2.1
       },
       {
        "date": "2014-09-08T00:00:00",
        "precipitation": 0,
        "temp_max": 21.1,
        "temp_min": 13.3,
        "weather": "sun",
        "wind": 2.8
       },
       {
        "date": "2014-09-09T00:00:00",
        "precipitation": 0,
        "temp_max": 21.7,
        "temp_min": 13.3,
        "weather": "sun",
        "wind": 2.3
       },
       {
        "date": "2014-09-10T00:00:00",
        "precipitation": 0,
        "temp_max": 22.2,
        "temp_min": 12.2,
        "weather": "sun",
        "wind": 3.9
       },
       {
        "date": "2014-09-11T00:00:00",
        "precipitation": 0,
        "temp_max": 24.4,
        "temp_min": 12.8,
        "weather": "sun",
        "wind": 5.3
       },
       {
        "date": "2014-09-12T00:00:00",
        "precipitation": 0,
        "temp_max": 24.4,
        "temp_min": 12.8,
        "weather": "sun",
        "wind": 5.9
       },
       {
        "date": "2014-09-13T00:00:00",
        "precipitation": 0,
        "temp_max": 28.3,
        "temp_min": 10,
        "weather": "sun",
        "wind": 4.2
       },
       {
        "date": "2014-09-14T00:00:00",
        "precipitation": 0,
        "temp_max": 30,
        "temp_min": 11.7,
        "weather": "sun",
        "wind": 1.8
       },
       {
        "date": "2014-09-15T00:00:00",
        "precipitation": 0,
        "temp_max": 30.6,
        "temp_min": 12.2,
        "weather": "sun",
        "wind": 1.2
       },
       {
        "date": "2014-09-16T00:00:00",
        "precipitation": 0,
        "temp_max": 22.2,
        "temp_min": 13.9,
        "weather": "sun",
        "wind": 2.8
       },
       {
        "date": "2014-09-17T00:00:00",
        "precipitation": 0.5,
        "temp_max": 22.8,
        "temp_min": 14.4,
        "weather": "sun",
        "wind": 2.3
       },
       {
        "date": "2014-09-18T00:00:00",
        "precipitation": 0.3,
        "temp_max": 19.4,
        "temp_min": 15,
        "weather": "fog",
        "wind": 3.1
       },
       {
        "date": "2014-09-19T00:00:00",
        "precipitation": 0,
        "temp_max": 23.9,
        "temp_min": 16.1,
        "weather": "sun",
        "wind": 2.8
       },
       {
        "date": "2014-09-20T00:00:00",
        "precipitation": 0,
        "temp_max": 24.4,
        "temp_min": 14.4,
        "weather": "fog",
        "wind": 4.4
       },
       {
        "date": "2014-09-21T00:00:00",
        "precipitation": 0,
        "temp_max": 26.1,
        "temp_min": 12.8,
        "weather": "sun",
        "wind": 3
       },
       {
        "date": "2014-09-22T00:00:00",
        "precipitation": 0.3,
        "temp_max": 22.2,
        "temp_min": 15,
        "weather": "fog",
        "wind": 2.1
       },
       {
        "date": "2014-09-23T00:00:00",
        "precipitation": 18.3,
        "temp_max": 18.9,
        "temp_min": 14.4,
        "weather": "fog",
        "wind": 2.5
       },
       {
        "date": "2014-09-24T00:00:00",
        "precipitation": 20.3,
        "temp_max": 18.9,
        "temp_min": 14.4,
        "weather": "fog",
        "wind": 2.7
       },
       {
        "date": "2014-09-25T00:00:00",
        "precipitation": 4.3,
        "temp_max": 21.7,
        "temp_min": 14.4,
        "weather": "fog",
        "wind": 2.5
       },
       {
        "date": "2014-09-26T00:00:00",
        "precipitation": 8.9,
        "temp_max": 20,
        "temp_min": 13.9,
        "weather": "fog",
        "wind": 3.3
       },
       {
        "date": "2014-09-27T00:00:00",
        "precipitation": 0,
        "temp_max": 20.6,
        "temp_min": 11.7,
        "weather": "fog",
        "wind": 3.2
       },
       {
        "date": "2014-09-28T00:00:00",
        "precipitation": 0,
        "temp_max": 18.9,
        "temp_min": 12.2,
        "weather": "fog",
        "wind": 2
       },
       {
        "date": "2014-09-29T00:00:00",
        "precipitation": 0.8,
        "temp_max": 16.7,
        "temp_min": 11.1,
        "weather": "fog",
        "wind": 3.5
       },
       {
        "date": "2014-09-30T00:00:00",
        "precipitation": 0,
        "temp_max": 19.4,
        "temp_min": 12.2,
        "weather": "sun",
        "wind": 2.6
       },
       {
        "date": "2014-10-01T00:00:00",
        "precipitation": 0,
        "temp_max": 18.3,
        "temp_min": 11.1,
        "weather": "sun",
        "wind": 2.1
       },
       {
        "date": "2014-10-02T00:00:00",
        "precipitation": 0,
        "temp_max": 19.4,
        "temp_min": 10,
        "weather": "sun",
        "wind": 2
       },
       {
        "date": "2014-10-03T00:00:00",
        "precipitation": 0,
        "temp_max": 22.2,
        "temp_min": 8.9,
        "weather": "sun",
        "wind": 1
       },
       {
        "date": "2014-10-04T00:00:00",
        "precipitation": 0,
        "temp_max": 21.7,
        "temp_min": 12.2,
        "weather": "sun",
        "wind": 1.2
       },
       {
        "date": "2014-10-05T00:00:00",
        "precipitation": 0,
        "temp_max": 23.9,
        "temp_min": 11.7,
        "weather": "fog",
        "wind": 1.4
       },
       {
        "date": "2014-10-06T00:00:00",
        "precipitation": 0,
        "temp_max": 25.6,
        "temp_min": 13.3,
        "weather": "fog",
        "wind": 2.5
       },
       {
        "date": "2014-10-07T00:00:00",
        "precipitation": 0,
        "temp_max": 18.9,
        "temp_min": 13.9,
        "weather": "fog",
        "wind": 1
       },
       {
        "date": "2014-10-08T00:00:00",
        "precipitation": 0,
        "temp_max": 20.6,
        "temp_min": 12.8,
        "weather": "fog",
        "wind": 1.8
       },
       {
        "date": "2014-10-09T00:00:00",
        "precipitation": 0,
        "temp_max": 17.2,
        "temp_min": 11.1,
        "weather": "fog",
        "wind": 1
       },
       {
        "date": "2014-10-10T00:00:00",
        "precipitation": 0.3,
        "temp_max": 18.3,
        "temp_min": 10,
        "weather": "fog",
        "wind": 3.8
       },
       {
        "date": "2014-10-11T00:00:00",
        "precipitation": 7.4,
        "temp_max": 18.3,
        "temp_min": 11.7,
        "weather": "rain",
        "wind": 3.5
       },
       {
        "date": "2014-10-12T00:00:00",
        "precipitation": 0,
        "temp_max": 17.8,
        "temp_min": 11.7,
        "weather": "sun",
        "wind": 2.1
       },
       {
        "date": "2014-10-13T00:00:00",
        "precipitation": 7.6,
        "temp_max": 21.1,
        "temp_min": 10,
        "weather": "fog",
        "wind": 3.1
       },
       {
        "date": "2014-10-14T00:00:00",
        "precipitation": 7.1,
        "temp_max": 16.7,
        "temp_min": 11.7,
        "weather": "fog",
        "wind": 2.2
       },
       {
        "date": "2014-10-15T00:00:00",
        "precipitation": 8.6,
        "temp_max": 16.1,
        "temp_min": 11.7,
        "weather": "fog",
        "wind": 4.7
       },
       {
        "date": "2014-10-16T00:00:00",
        "precipitation": 0,
        "temp_max": 20.6,
        "temp_min": 11.1,
        "weather": "sun",
        "wind": 3.3
       },
       {
        "date": "2014-10-17T00:00:00",
        "precipitation": 3.3,
        "temp_max": 16.7,
        "temp_min": 11.7,
        "weather": "fog",
        "wind": 3
       },
       {
        "date": "2014-10-18T00:00:00",
        "precipitation": 15,
        "temp_max": 19.4,
        "temp_min": 13.9,
        "weather": "fog",
        "wind": 1.9
       },
       {
        "date": "2014-10-19T00:00:00",
        "precipitation": 0,
        "temp_max": 22.2,
        "temp_min": 12.8,
        "weather": "sun",
        "wind": 3.2
       },
       {
        "date": "2014-10-20T00:00:00",
        "precipitation": 11.7,
        "temp_max": 16.1,
        "temp_min": 12.2,
        "weather": "fog",
        "wind": 3.1
       },
       {
        "date": "2014-10-21T00:00:00",
        "precipitation": 1,
        "temp_max": 16.1,
        "temp_min": 11.7,
        "weather": "sun",
        "wind": 4.7
       },
       {
        "date": "2014-10-22T00:00:00",
        "precipitation": 32,
        "temp_max": 15.6,
        "temp_min": 11.7,
        "weather": "fog",
        "wind": 5
       },
       {
        "date": "2014-10-23T00:00:00",
        "precipitation": 9.4,
        "temp_max": 14.4,
        "temp_min": 8.3,
        "weather": "sun",
        "wind": 4.6
       },
       {
        "date": "2014-10-24T00:00:00",
        "precipitation": 4.1,
        "temp_max": 14.4,
        "temp_min": 8.9,
        "weather": "sun",
        "wind": 3.2
       },
       {
        "date": "2014-10-25T00:00:00",
        "precipitation": 6.1,
        "temp_max": 16.7,
        "temp_min": 8.3,
        "weather": "fog",
        "wind": 5.4
       },
       {
        "date": "2014-10-26T00:00:00",
        "precipitation": 1.5,
        "temp_max": 12.8,
        "temp_min": 7.8,
        "weather": "fog",
        "wind": 5
       },
       {
        "date": "2014-10-27T00:00:00",
        "precipitation": 0.8,
        "temp_max": 15.6,
        "temp_min": 6.7,
        "weather": "sun",
        "wind": 2.4
       },
       {
        "date": "2014-10-28T00:00:00",
        "precipitation": 12.7,
        "temp_max": 15,
        "temp_min": 9.4,
        "weather": "fog",
        "wind": 3.9
       },
       {
        "date": "2014-10-29T00:00:00",
        "precipitation": 0.5,
        "temp_max": 16.7,
        "temp_min": 11.7,
        "weather": "fog",
        "wind": 3.1
       },
       {
        "date": "2014-10-30T00:00:00",
        "precipitation": 25.4,
        "temp_max": 15.6,
        "temp_min": 11.1,
        "weather": "fog",
        "wind": 3.2
       },
       {
        "date": "2014-10-31T00:00:00",
        "precipitation": 17,
        "temp_max": 12.8,
        "temp_min": 8.3,
        "weather": "fog",
        "wind": 2
       },
       {
        "date": "2014-11-01T00:00:00",
        "precipitation": 0,
        "temp_max": 11.1,
        "temp_min": 7.2,
        "weather": "fog",
        "wind": 1.2
       },
       {
        "date": "2014-11-02T00:00:00",
        "precipitation": 1.8,
        "temp_max": 13.3,
        "temp_min": 7.2,
        "weather": "fog",
        "wind": 2.9
       },
       {
        "date": "2014-11-03T00:00:00",
        "precipitation": 10.9,
        "temp_max": 13.9,
        "temp_min": 11.1,
        "weather": "fog",
        "wind": 4.8
       },
       {
        "date": "2014-11-04T00:00:00",
        "precipitation": 4.1,
        "temp_max": 14.4,
        "temp_min": 10.6,
        "weather": "fog",
        "wind": 3.3
       },
       {
        "date": "2014-11-05T00:00:00",
        "precipitation": 4.8,
        "temp_max": 15,
        "temp_min": 10.6,
        "weather": "fog",
        "wind": 2.1
       },
       {
        "date": "2014-11-06T00:00:00",
        "precipitation": 4.1,
        "temp_max": 16.7,
        "temp_min": 10.6,
        "weather": "fog",
        "wind": 6.7
       },
       {
        "date": "2014-11-07T00:00:00",
        "precipitation": 0,
        "temp_max": 14.4,
        "temp_min": 7.2,
        "weather": "sun",
        "wind": 2.3
       },
       {
        "date": "2014-11-08T00:00:00",
        "precipitation": 0,
        "temp_max": 12.8,
        "temp_min": 3.9,
        "weather": "fog",
        "wind": 0.8
       },
       {
        "date": "2014-11-09T00:00:00",
        "precipitation": 5.1,
        "temp_max": 13.3,
        "temp_min": 7.8,
        "weather": "fog",
        "wind": 3
       },
       {
        "date": "2014-11-10T00:00:00",
        "precipitation": 0,
        "temp_max": 11.1,
        "temp_min": 5.6,
        "weather": "sun",
        "wind": 3.9
       },
       {
        "date": "2014-11-11T00:00:00",
        "precipitation": 0,
        "temp_max": 7.8,
        "temp_min": 1.1,
        "weather": "sun",
        "wind": 7.7
       },
       {
        "date": "2014-11-12T00:00:00",
        "precipitation": 0,
        "temp_max": 6.7,
        "temp_min": 0,
        "weather": "sun",
        "wind": 7.6
       },
       {
        "date": "2014-11-13T00:00:00",
        "precipitation": 0,
        "temp_max": 7.2,
        "temp_min": 0.6,
        "weather": "sun",
        "wind": 4.7
       },
       {
        "date": "2014-11-14T00:00:00",
        "precipitation": 0,
        "temp_max": 7.2,
        "temp_min": -2.1,
        "weather": "sun",
        "wind": 4.5
       },
       {
        "date": "2014-11-15T00:00:00",
        "precipitation": 0,
        "temp_max": 8.3,
        "temp_min": -1.6,
        "weather": "sun",
        "wind": 4.2
       },
       {
        "date": "2014-11-16T00:00:00",
        "precipitation": 0,
        "temp_max": 9.4,
        "temp_min": -2.1,
        "weather": "sun",
        "wind": 4.2
       },
       {
        "date": "2014-11-17T00:00:00",
        "precipitation": 0,
        "temp_max": 10.6,
        "temp_min": -2.1,
        "weather": "sun",
        "wind": 1.9
       },
       {
        "date": "2014-11-18T00:00:00",
        "precipitation": 0,
        "temp_max": 7.2,
        "temp_min": -0.5,
        "weather": "sun",
        "wind": 0.9
       },
       {
        "date": "2014-11-19T00:00:00",
        "precipitation": 0,
        "temp_max": 11.1,
        "temp_min": 2.2,
        "weather": "sun",
        "wind": 1.9
       },
       {
        "date": "2014-11-20T00:00:00",
        "precipitation": 3.6,
        "temp_max": 11.1,
        "temp_min": 5.6,
        "weather": "fog",
        "wind": 2.1
       },
       {
        "date": "2014-11-21T00:00:00",
        "precipitation": 15.2,
        "temp_max": 11.1,
        "temp_min": 8.3,
        "weather": "fog",
        "wind": 4.7
       },
       {
        "date": "2014-11-22T00:00:00",
        "precipitation": 0.5,
        "temp_max": 9.4,
        "temp_min": 6.7,
        "weather": "sun",
        "wind": 4.7
       },
       {
        "date": "2014-11-23T00:00:00",
        "precipitation": 11.9,
        "temp_max": 12.8,
        "temp_min": 5.6,
        "weather": "fog",
        "wind": 5.1
       },
       {
        "date": "2014-11-24T00:00:00",
        "precipitation": 1.3,
        "temp_max": 11.7,
        "temp_min": 4.4,
        "weather": "fog",
        "wind": 3.8
       },
       {
        "date": "2014-11-25T00:00:00",
        "precipitation": 18.3,
        "temp_max": 13.9,
        "temp_min": 9.4,
        "weather": "fog",
        "wind": 4.5
       },
       {
        "date": "2014-11-26T00:00:00",
        "precipitation": 0.3,
        "temp_max": 15,
        "temp_min": 12.2,
        "weather": "sun",
        "wind": 3.9
       },
       {
        "date": "2014-11-27T00:00:00",
        "precipitation": 3.3,
        "temp_max": 14.4,
        "temp_min": 11.7,
        "weather": "fog",
        "wind": 6.6
       },
       {
        "date": "2014-11-28T00:00:00",
        "precipitation": 34.3,
        "temp_max": 12.8,
        "temp_min": 3.3,
        "weather": "fog",
        "wind": 5.8
       },
       {
        "date": "2014-11-29T00:00:00",
        "precipitation": 3.6,
        "temp_max": 4.4,
        "temp_min": -4.3,
        "weather": "fog",
        "wind": 5.3
       },
       {
        "date": "2014-11-30T00:00:00",
        "precipitation": 0,
        "temp_max": 2.8,
        "temp_min": -4.9,
        "weather": "sun",
        "wind": 4.4
       },
       {
        "date": "2014-12-01T00:00:00",
        "precipitation": 0,
        "temp_max": 4.4,
        "temp_min": -3.2,
        "weather": "sun",
        "wind": 2.2
       },
       {
        "date": "2014-12-02T00:00:00",
        "precipitation": 0,
        "temp_max": 5.6,
        "temp_min": -3.2,
        "weather": "fog",
        "wind": 5.7
       },
       {
        "date": "2014-12-03T00:00:00",
        "precipitation": 0,
        "temp_max": 10,
        "temp_min": 0,
        "weather": "sun",
        "wind": 3.6
       },
       {
        "date": "2014-12-04T00:00:00",
        "precipitation": 0.8,
        "temp_max": 8.3,
        "temp_min": 3.9,
        "weather": "fog",
        "wind": 1.1
       },
       {
        "date": "2014-12-05T00:00:00",
        "precipitation": 3,
        "temp_max": 12.8,
        "temp_min": 6.7,
        "weather": "fog",
        "wind": 3.1
       },
       {
        "date": "2014-12-06T00:00:00",
        "precipitation": 7.4,
        "temp_max": 11.7,
        "temp_min": 7.8,
        "weather": "fog",
        "wind": 3.6
       },
       {
        "date": "2014-12-07T00:00:00",
        "precipitation": 0,
        "temp_max": 14.4,
        "temp_min": 6.1,
        "weather": "sun",
        "wind": 2.8
       },
       {
        "date": "2014-12-08T00:00:00",
        "precipitation": 9.1,
        "temp_max": 14.4,
        "temp_min": 8.9,
        "weather": "fog",
        "wind": 4.2
       },
       {
        "date": "2014-12-09T00:00:00",
        "precipitation": 9.9,
        "temp_max": 16.1,
        "temp_min": 10.6,
        "weather": "fog",
        "wind": 5.1
       },
       {
        "date": "2014-12-10T00:00:00",
        "precipitation": 13,
        "temp_max": 18.9,
        "temp_min": 10,
        "weather": "fog",
        "wind": 6.7
       },
       {
        "date": "2014-12-11T00:00:00",
        "precipitation": 6.9,
        "temp_max": 14.4,
        "temp_min": 8.3,
        "weather": "fog",
        "wind": 6.4
       },
       {
        "date": "2014-12-12T00:00:00",
        "precipitation": 0,
        "temp_max": 11.1,
        "temp_min": 7.2,
        "weather": "sun",
        "wind": 3.7
       },
       {
        "date": "2014-12-13T00:00:00",
        "precipitation": 0,
        "temp_max": 10,
        "temp_min": 3.9,
        "weather": "fog",
        "wind": 1.1
       },
       {
        "date": "2014-12-14T00:00:00",
        "precipitation": 0,
        "temp_max": 12.8,
        "temp_min": 1.7,
        "weather": "fog",
        "wind": 3.5
       },
       {
        "date": "2014-12-15T00:00:00",
        "precipitation": 0,
        "temp_max": 12.2,
        "temp_min": 6.7,
        "weather": "sun",
        "wind": 5.9
       },
       {
        "date": "2014-12-16T00:00:00",
        "precipitation": 0,
        "temp_max": 10,
        "temp_min": 8.3,
        "weather": "sun",
        "wind": 4
       },
       {
        "date": "2014-12-17T00:00:00",
        "precipitation": 2.8,
        "temp_max": 8.9,
        "temp_min": 6.1,
        "weather": "fog",
        "wind": 1.6
       },
       {
        "date": "2014-12-18T00:00:00",
        "precipitation": 13,
        "temp_max": 9.4,
        "temp_min": 6.7,
        "weather": "fog",
        "wind": 3.1
       },
       {
        "date": "2014-12-19T00:00:00",
        "precipitation": 3,
        "temp_max": 11.1,
        "temp_min": 7.2,
        "weather": "sun",
        "wind": 4.3
       },
       {
        "date": "2014-12-20T00:00:00",
        "precipitation": 19.6,
        "temp_max": 12.8,
        "temp_min": 6.7,
        "weather": "fog",
        "wind": 5.5
       },
       {
        "date": "2014-12-21T00:00:00",
        "precipitation": 0,
        "temp_max": 12.8,
        "temp_min": 10,
        "weather": "sun",
        "wind": 5.2
       },
       {
        "date": "2014-12-22T00:00:00",
        "precipitation": 0,
        "temp_max": 10.6,
        "temp_min": 6.1,
        "weather": "sun",
        "wind": 1.5
       },
       {
        "date": "2014-12-23T00:00:00",
        "precipitation": 20.6,
        "temp_max": 12.2,
        "temp_min": 5,
        "weather": "fog",
        "wind": 3.8
       },
       {
        "date": "2014-12-24T00:00:00",
        "precipitation": 5.3,
        "temp_max": 7.2,
        "temp_min": 3.9,
        "weather": "fog",
        "wind": 1.8
       },
       {
        "date": "2014-12-25T00:00:00",
        "precipitation": 0,
        "temp_max": 7.8,
        "temp_min": 2.8,
        "weather": "fog",
        "wind": 2.2
       },
       {
        "date": "2014-12-26T00:00:00",
        "precipitation": 0,
        "temp_max": 5.6,
        "temp_min": 1.7,
        "weather": "fog",
        "wind": 1.2
       },
       {
        "date": "2014-12-27T00:00:00",
        "precipitation": 3.3,
        "temp_max": 9.4,
        "temp_min": 4.4,
        "weather": "fog",
        "wind": 4.9
       },
       {
        "date": "2014-12-28T00:00:00",
        "precipitation": 4.1,
        "temp_max": 6.7,
        "temp_min": 2.8,
        "weather": "fog",
        "wind": 1.8
       },
       {
        "date": "2014-12-29T00:00:00",
        "precipitation": 0,
        "temp_max": 6.1,
        "temp_min": 0.6,
        "weather": "fog",
        "wind": 4.3
       },
       {
        "date": "2014-12-30T00:00:00",
        "precipitation": 0,
        "temp_max": 3.3,
        "temp_min": -2.1,
        "weather": "sun",
        "wind": 3.6
       },
       {
        "date": "2014-12-31T00:00:00",
        "precipitation": 0,
        "temp_max": 3.3,
        "temp_min": -2.7,
        "weather": "sun",
        "wind": 3
       },
       {
        "date": "2015-01-01T00:00:00",
        "precipitation": 0,
        "temp_max": 5.6,
        "temp_min": -3.2,
        "weather": "sun",
        "wind": 1.2
       },
       {
        "date": "2015-01-02T00:00:00",
        "precipitation": 1.5,
        "temp_max": 5.6,
        "temp_min": 0,
        "weather": "fog",
        "wind": 2.3
       },
       {
        "date": "2015-01-03T00:00:00",
        "precipitation": 0,
        "temp_max": 5,
        "temp_min": 1.7,
        "weather": "fog",
        "wind": 1.7
       },
       {
        "date": "2015-01-04T00:00:00",
        "precipitation": 10.2,
        "temp_max": 10.6,
        "temp_min": 3.3,
        "weather": "fog",
        "wind": 4.5
       },
       {
        "date": "2015-01-05T00:00:00",
        "precipitation": 8.1,
        "temp_max": 12.2,
        "temp_min": 9.4,
        "weather": "fog",
        "wind": 6.4
       },
       {
        "date": "2015-01-06T00:00:00",
        "precipitation": 0,
        "temp_max": 12.2,
        "temp_min": 6.1,
        "weather": "fog",
        "wind": 1.3
       },
       {
        "date": "2015-01-07T00:00:00",
        "precipitation": 0,
        "temp_max": 7.8,
        "temp_min": 5.6,
        "weather": "fog",
        "wind": 1.6
       },
       {
        "date": "2015-01-08T00:00:00",
        "precipitation": 0,
        "temp_max": 7.8,
        "temp_min": 1.7,
        "weather": "fog",
        "wind": 2.6
       },
       {
        "date": "2015-01-09T00:00:00",
        "precipitation": 0.3,
        "temp_max": 10,
        "temp_min": 3.3,
        "weather": "fog",
        "wind": 0.6
       },
       {
        "date": "2015-01-10T00:00:00",
        "precipitation": 5.8,
        "temp_max": 7.8,
        "temp_min": 6.1,
        "weather": "fog",
        "wind": 0.5
       },
       {
        "date": "2015-01-11T00:00:00",
        "precipitation": 1.5,
        "temp_max": 9.4,
        "temp_min": 7.2,
        "weather": "fog",
        "wind": 1.1
       },
       {
        "date": "2015-01-12T00:00:00",
        "precipitation": 0,
        "temp_max": 11.1,
        "temp_min": 4.4,
        "weather": "fog",
        "wind": 1.6
       },
       {
        "date": "2015-01-13T00:00:00",
        "precipitation": 0,
        "temp_max": 9.4,
        "temp_min": 2.8,
        "weather": "fog",
        "wind": 2.7
       },
       {
        "date": "2015-01-14T00:00:00",
        "precipitation": 0,
        "temp_max": 6.1,
        "temp_min": 0.6,
        "weather": "fog",
        "wind": 2.8
       },
       {
        "date": "2015-01-15T00:00:00",
        "precipitation": 9.7,
        "temp_max": 7.8,
        "temp_min": 1.1,
        "weather": "fog",
        "wind": 3.2
       },
       {
        "date": "2015-01-16T00:00:00",
        "precipitation": 0,
        "temp_max": 11.7,
        "temp_min": 5.6,
        "weather": "fog",
        "wind": 4.5
       },
       {
        "date": "2015-01-17T00:00:00",
        "precipitation": 26.2,
        "temp_max": 13.3,
        "temp_min": 3.3,
        "weather": "fog",
        "wind": 2.8
       },
       {
        "date": "2015-01-18T00:00:00",
        "precipitation": 21.3,
        "temp_max": 13.9,
        "temp_min": 7.2,
        "weather": "rain",
        "wind": 6.6
       },
       {
        "date": "2015-01-19T00:00:00",
        "precipitation": 0.5,
        "temp_max": 10,
        "temp_min": 6.1,
        "weather": "sun",
        "wind": 2.8
       },
       {
        "date": "2015-01-20T00:00:00",
        "precipitation": 0,
        "temp_max": 10,
        "temp_min": 3.3,
        "weather": "fog",
        "wind": 3
       },
       {
        "date": "2015-01-21T00:00:00",
        "precipitation": 0,
        "temp_max": 7.2,
        "temp_min": -0.5,
        "weather": "fog",
        "wind": 1.3
       },
       {
        "date": "2015-01-22T00:00:00",
        "precipitation": 0.8,
        "temp_max": 9.4,
        "temp_min": 6.1,
        "weather": "fog",
        "wind": 1.3
       },
       {
        "date": "2015-01-23T00:00:00",
        "precipitation": 5.8,
        "temp_max": 12.2,
        "temp_min": 8.3,
        "weather": "fog",
        "wind": 2.6
       },
       {
        "date": "2015-01-24T00:00:00",
        "precipitation": 0.5,
        "temp_max": 14.4,
        "temp_min": 11.1,
        "weather": "fog",
        "wind": 3.3
       },
       {
        "date": "2015-01-25T00:00:00",
        "precipitation": 0,
        "temp_max": 17.2,
        "temp_min": 7.2,
        "weather": "fog",
        "wind": 1.4
       },
       {
        "date": "2015-01-26T00:00:00",
        "precipitation": 0,
        "temp_max": 16.1,
        "temp_min": 6.1,
        "weather": "fog",
        "wind": 2.2
       },
       {
        "date": "2015-01-27T00:00:00",
        "precipitation": 0.8,
        "temp_max": 11.1,
        "temp_min": 8.3,
        "weather": "fog",
        "wind": 2
       },
       {
        "date": "2015-01-28T00:00:00",
        "precipitation": 0,
        "temp_max": 12.2,
        "temp_min": 5,
        "weather": "fog",
        "wind": 1.8
       },
       {
        "date": "2015-01-29T00:00:00",
        "precipitation": 0,
        "temp_max": 12.2,
        "temp_min": 3.3,
        "weather": "sun",
        "wind": 2.9
       },
       {
        "date": "2015-01-30T00:00:00",
        "precipitation": 0,
        "temp_max": 8.3,
        "temp_min": 1.1,
        "weather": "fog",
        "wind": 0.8
       },
       {
        "date": "2015-01-31T00:00:00",
        "precipitation": 0,
        "temp_max": 7.2,
        "temp_min": 3.3,
        "weather": "fog",
        "wind": 1.9
       },
       {
        "date": "2015-02-01T00:00:00",
        "precipitation": 1.5,
        "temp_max": 9.4,
        "temp_min": 4.4,
        "weather": "fog",
        "wind": 2.6
       },
       {
        "date": "2015-02-02T00:00:00",
        "precipitation": 7.4,
        "temp_max": 11.1,
        "temp_min": 5,
        "weather": "fog",
        "wind": 4
       },
       {
        "date": "2015-02-03T00:00:00",
        "precipitation": 1.3,
        "temp_max": 10,
        "temp_min": 5.6,
        "weather": "fog",
        "wind": 1.9
       },
       {
        "date": "2015-02-04T00:00:00",
        "precipitation": 8.4,
        "temp_max": 10.6,
        "temp_min": 4.4,
        "weather": "fog",
        "wind": 1.7
       },
       {
        "date": "2015-02-05T00:00:00",
        "precipitation": 26.2,
        "temp_max": 13.3,
        "temp_min": 8.3,
        "weather": "fog",
        "wind": 4.6
       },
       {
        "date": "2015-02-06T00:00:00",
        "precipitation": 17.3,
        "temp_max": 14.4,
        "temp_min": 10,
        "weather": "fog",
        "wind": 4.5
       },
       {
        "date": "2015-02-07T00:00:00",
        "precipitation": 23.6,
        "temp_max": 12.2,
        "temp_min": 9.4,
        "weather": "fog",
        "wind": 4.6
       },
       {
        "date": "2015-02-08T00:00:00",
        "precipitation": 3.6,
        "temp_max": 15,
        "temp_min": 8.3,
        "weather": "fog",
        "wind": 3.9
       },
       {
        "date": "2015-02-09T00:00:00",
        "precipitation": 6.1,
        "temp_max": 13.3,
        "temp_min": 8.3,
        "weather": "fog",
        "wind": 2.5
       },
       {
        "date": "2015-02-10T00:00:00",
        "precipitation": 0.3,
        "temp_max": 12.8,
        "temp_min": 8.3,
        "weather": "fog",
        "wind": 4
       },
       {
        "date": "2015-02-11T00:00:00",
        "precipitation": 0,
        "temp_max": 12.8,
        "temp_min": 5.6,
        "weather": "fog",
        "wind": 1
       },
       {
        "date": "2015-02-12T00:00:00",
        "precipitation": 1,
        "temp_max": 16.7,
        "temp_min": 9.4,
        "weather": "sun",
        "wind": 2.1
       },
       {
        "date": "2015-02-13T00:00:00",
        "precipitation": 0,
        "temp_max": 15.6,
        "temp_min": 6.7,
        "weather": "fog",
        "wind": 1.7
       },
       {
        "date": "2015-02-14T00:00:00",
        "precipitation": 0.3,
        "temp_max": 14.4,
        "temp_min": 6.7,
        "weather": "fog",
        "wind": 2.9
       },
       {
        "date": "2015-02-15T00:00:00",
        "precipitation": 0,
        "temp_max": 12.2,
        "temp_min": 3.9,
        "weather": "sun",
        "wind": 4.8
       },
       {
        "date": "2015-02-16T00:00:00",
        "precipitation": 0,
        "temp_max": 15,
        "temp_min": 5.6,
        "weather": "fog",
        "wind": 6.6
       },
       {
        "date": "2015-02-17T00:00:00",
        "precipitation": 0,
        "temp_max": 16.1,
        "temp_min": 4.4,
        "weather": "sun",
        "wind": 4
       },
       {
        "date": "2015-02-18T00:00:00",
        "precipitation": 0,
        "temp_max": 12.2,
        "temp_min": 4.4,
        "weather": "sun",
        "wind": 2.6
       },
       {
        "date": "2015-02-19T00:00:00",
        "precipitation": 4.6,
        "temp_max": 10.6,
        "temp_min": 8.3,
        "weather": "fog",
        "wind": 2.2
       },
       {
        "date": "2015-02-20T00:00:00",
        "precipitation": 0.8,
        "temp_max": 11.1,
        "temp_min": 7.2,
        "weather": "fog",
        "wind": 0.9
       },
       {
        "date": "2015-02-21T00:00:00",
        "precipitation": 0,
        "temp_max": 12.2,
        "temp_min": 5.6,
        "weather": "sun",
        "wind": 4.5
       },
       {
        "date": "2015-02-22T00:00:00",
        "precipitation": 0,
        "temp_max": 11.7,
        "temp_min": 3.3,
        "weather": "sun",
        "wind": 4.2
       },
       {
        "date": "2015-02-23T00:00:00",
        "precipitation": 0,
        "temp_max": 12.8,
        "temp_min": 0.6,
        "weather": "sun",
        "wind": 1.4
       },
       {
        "date": "2015-02-24T00:00:00",
        "precipitation": 0,
        "temp_max": 11.1,
        "temp_min": 2.2,
        "weather": "sun",
        "wind": 1.5
       },
       {
        "date": "2015-02-25T00:00:00",
        "precipitation": 4.1,
        "temp_max": 10,
        "temp_min": 6.7,
        "weather": "fog",
        "wind": 1
       },
       {
        "date": "2015-02-26T00:00:00",
        "precipitation": 9.4,
        "temp_max": 11.7,
        "temp_min": 7.8,
        "weather": "fog",
        "wind": 1.4
       },
       {
        "date": "2015-02-27T00:00:00",
        "precipitation": 18.3,
        "temp_max": 10,
        "temp_min": 6.7,
        "weather": "fog",
        "wind": 4
       },
       {
        "date": "2015-02-28T00:00:00",
        "precipitation": 0,
        "temp_max": 12.2,
        "temp_min": 3.3,
        "weather": "sun",
        "wind": 5.1
       },
       {
        "date": "2015-03-01T00:00:00",
        "precipitation": 0,
        "temp_max": 11.1,
        "temp_min": 1.1,
        "weather": "sun",
        "wind": 2.2
       },
       {
        "date": "2015-03-02T00:00:00",
        "precipitation": 0,
        "temp_max": 11.1,
        "temp_min": 4.4,
        "weather": "sun",
        "wind": 4.8
       },
       {
        "date": "2015-03-03T00:00:00",
        "precipitation": 0,
        "temp_max": 10.6,
        "temp_min": 0,
        "weather": "sun",
        "wind": 2.1
       },
       {
        "date": "2015-03-04T00:00:00",
        "precipitation": 0,
        "temp_max": 12.8,
        "temp_min": -0.5,
        "weather": "sun",
        "wind": 1.8
       },
       {
        "date": "2015-03-05T00:00:00",
        "precipitation": 0,
        "temp_max": 13.3,
        "temp_min": 2.8,
        "weather": "sun",
        "wind": 1.3
       },
       {
        "date": "2015-03-06T00:00:00",
        "precipitation": 0,
        "temp_max": 15,
        "temp_min": 3.3,
        "weather": "sun",
        "wind": 1.4
       },
       {
        "date": "2015-03-07T00:00:00",
        "precipitation": 0,
        "temp_max": 16.7,
        "temp_min": 3.9,
        "weather": "fog",
        "wind": 2.7
       },
       {
        "date": "2015-03-08T00:00:00",
        "precipitation": 0,
        "temp_max": 17.2,
        "temp_min": 3.9,
        "weather": "fog",
        "wind": 1.7
       },
       {
        "date": "2015-03-09T00:00:00",
        "precipitation": 0,
        "temp_max": 14.4,
        "temp_min": 4.4,
        "weather": "fog",
        "wind": 1.8
       },
       {
        "date": "2015-03-10T00:00:00",
        "precipitation": 0.8,
        "temp_max": 13.3,
        "temp_min": 5,
        "weather": "fog",
        "wind": 2.6
       },
       {
        "date": "2015-03-11T00:00:00",
        "precipitation": 2.5,
        "temp_max": 14.4,
        "temp_min": 8.9,
        "weather": "fog",
        "wind": 3.1
       },
       {
        "date": "2015-03-12T00:00:00",
        "precipitation": 0,
        "temp_max": 17.8,
        "temp_min": 9.4,
        "weather": "sun",
        "wind": 3.2
       },
       {
        "date": "2015-03-13T00:00:00",
        "precipitation": 2,
        "temp_max": 17.2,
        "temp_min": 7.8,
        "weather": "sun",
        "wind": 2.2
       },
       {
        "date": "2015-03-14T00:00:00",
        "precipitation": 17,
        "temp_max": 13.9,
        "temp_min": 9.4,
        "weather": "fog",
        "wind": 3.8
       },
       {
        "date": "2015-03-15T00:00:00",
        "precipitation": 55.9,
        "temp_max": 10.6,
        "temp_min": 6.1,
        "weather": "fog",
        "wind": 4.2
       },
       {
        "date": "2015-03-16T00:00:00",
        "precipitation": 1,
        "temp_max": 13.9,
        "temp_min": 6.1,
        "weather": "fog",
        "wind": 3
       },
       {
        "date": "2015-03-17T00:00:00",
        "precipitation": 0.8,
        "temp_max": 13.3,
        "temp_min": 4.4,
        "weather": "sun",
        "wind": 2.6
       },
       {
        "date": "2015-03-18T00:00:00",
        "precipitation": 0,
        "temp_max": 15.6,
        "temp_min": 7.2,
        "weather": "sun",
        "wind": 2.5
       },
       {
        "date": "2015-03-19T00:00:00",
        "precipitation": 0,
        "temp_max": 15.6,
        "temp_min": 8.3,
        "weather": "sun",
        "wind": 1.9
       },
       {
        "date": "2015-03-20T00:00:00",
        "precipitation": 4.1,
        "temp_max": 13.9,
        "temp_min": 8.9,
        "weather": "sun",
        "wind": 1.9
       },
       {
        "date": "2015-03-21T00:00:00",
        "precipitation": 3.8,
        "temp_max": 13.3,
        "temp_min": 8.3,
        "weather": "fog",
        "wind": 4.7
       },
       {
        "date": "2015-03-22T00:00:00",
        "precipitation": 1,
        "temp_max": 11.7,
        "temp_min": 6.1,
        "weather": "sun",
        "wind": 2.3
       },
       {
        "date": "2015-03-23T00:00:00",
        "precipitation": 8.1,
        "temp_max": 11.1,
        "temp_min": 5.6,
        "weather": "fog",
        "wind": 2.8
       },
       {
        "date": "2015-03-24T00:00:00",
        "precipitation": 7.6,
        "temp_max": 12.8,
        "temp_min": 6.1,
        "weather": "fog",
        "wind": 3.9
       },
       {
        "date": "2015-03-25T00:00:00",
        "precipitation": 5.1,
        "temp_max": 14.4,
        "temp_min": 7.2,
        "weather": "fog",
        "wind": 4.4
       },
       {
        "date": "2015-03-26T00:00:00",
        "precipitation": 0,
        "temp_max": 20.6,
        "temp_min": 10,
        "weather": "sun",
        "wind": 2.2
       },
       {
        "date": "2015-03-27T00:00:00",
        "precipitation": 1,
        "temp_max": 18.3,
        "temp_min": 8.9,
        "weather": "fog",
        "wind": 4
       },
       {
        "date": "2015-03-28T00:00:00",
        "precipitation": 0,
        "temp_max": 15.6,
        "temp_min": 9.4,
        "weather": "sun",
        "wind": 5.7
       },
       {
        "date": "2015-03-29T00:00:00",
        "precipitation": 0,
        "temp_max": 15.6,
        "temp_min": 8.9,
        "weather": "sun",
        "wind": 3
       },
       {
        "date": "2015-03-30T00:00:00",
        "precipitation": 1.8,
        "temp_max": 17.8,
        "temp_min": 10.6,
        "weather": "fog",
        "wind": 2.9
       },
       {
        "date": "2015-03-31T00:00:00",
        "precipitation": 1,
        "temp_max": 12.8,
        "temp_min": 6.1,
        "weather": "fog",
        "wind": 4.2
       },
       {
        "date": "2015-04-01T00:00:00",
        "precipitation": 5.1,
        "temp_max": 12.8,
        "temp_min": 5.6,
        "weather": "rain",
        "wind": 3.2
       },
       {
        "date": "2015-04-02T00:00:00",
        "precipitation": 0,
        "temp_max": 13.3,
        "temp_min": 5.6,
        "weather": "sun",
        "wind": 2.4
       },
       {
        "date": "2015-04-03T00:00:00",
        "precipitation": 1.5,
        "temp_max": 11.1,
        "temp_min": 5,
        "weather": "fog",
        "wind": 3.6
       },
       {
        "date": "2015-04-04T00:00:00",
        "precipitation": 0,
        "temp_max": 12.8,
        "temp_min": 3.9,
        "weather": "sun",
        "wind": 1.7
       },
       {
        "date": "2015-04-05T00:00:00",
        "precipitation": 0,
        "temp_max": 16.7,
        "temp_min": 2.8,
        "weather": "sun",
        "wind": 2.4
       },
       {
        "date": "2015-04-06T00:00:00",
        "precipitation": 1,
        "temp_max": 13.9,
        "temp_min": 6.7,
        "weather": "sun",
        "wind": 3.5
       },
       {
        "date": "2015-04-07T00:00:00",
        "precipitation": 0.5,
        "temp_max": 14.4,
        "temp_min": 6.7,
        "weather": "sun",
        "wind": 3.9
       },
       {
        "date": "2015-04-08T00:00:00",
        "precipitation": 0,
        "temp_max": 17.2,
        "temp_min": 6.1,
        "weather": "sun",
        "wind": 1.7
       },
       {
        "date": "2015-04-09T00:00:00",
        "precipitation": 0,
        "temp_max": 17.2,
        "temp_min": 6.1,
        "weather": "sun",
        "wind": 2.3
       },
       {
        "date": "2015-04-10T00:00:00",
        "precipitation": 10.9,
        "temp_max": 13.9,
        "temp_min": 7.8,
        "weather": "fog",
        "wind": 4.6
       },
       {
        "date": "2015-04-11T00:00:00",
        "precipitation": 0,
        "temp_max": 11.7,
        "temp_min": 5.6,
        "weather": "sun",
        "wind": 6.5
       },
       {
        "date": "2015-04-12T00:00:00",
        "precipitation": 0,
        "temp_max": 13.3,
        "temp_min": 5.6,
        "weather": "sun",
        "wind": 3.6
       },
       {
        "date": "2015-04-13T00:00:00",
        "precipitation": 14,
        "temp_max": 11.7,
        "temp_min": 3.9,
        "weather": "fog",
        "wind": 3.6
       },
       {
        "date": "2015-04-14T00:00:00",
        "precipitation": 3.3,
        "temp_max": 11.7,
        "temp_min": 2.8,
        "weather": "sun",
        "wind": 3.3
       },
       {
        "date": "2015-04-15T00:00:00",
        "precipitation": 0,
        "temp_max": 13.9,
        "temp_min": 3.3,
        "weather": "sun",
        "wind": 2.4
       },
       {
        "date": "2015-04-16T00:00:00",
        "precipitation": 0,
        "temp_max": 17.8,
        "temp_min": 3.9,
        "weather": "sun",
        "wind": 3.1
       },
       {
        "date": "2015-04-17T00:00:00",
        "precipitation": 0,
        "temp_max": 18.9,
        "temp_min": 6.1,
        "weather": "sun",
        "wind": 3.6
       },
       {
        "date": "2015-04-18T00:00:00",
        "precipitation": 0,
        "temp_max": 18.9,
        "temp_min": 8.3,
        "weather": "sun",
        "wind": 3.9
       },
       {
        "date": "2015-04-19T00:00:00",
        "precipitation": 0,
        "temp_max": 21.1,
        "temp_min": 8.3,
        "weather": "sun",
        "wind": 3.6
       },
       {
        "date": "2015-04-20T00:00:00",
        "precipitation": 0,
        "temp_max": 22.8,
        "temp_min": 7.8,
        "weather": "sun",
        "wind": 2.6
       },
       {
        "date": "2015-04-21T00:00:00",
        "precipitation": 5.6,
        "temp_max": 17.2,
        "temp_min": 6.7,
        "weather": "fog",
        "wind": 3.4
       },
       {
        "date": "2015-04-22T00:00:00",
        "precipitation": 0,
        "temp_max": 15.6,
        "temp_min": 5,
        "weather": "sun",
        "wind": 2.3
       },
       {
        "date": "2015-04-23T00:00:00",
        "precipitation": 3,
        "temp_max": 12.2,
        "temp_min": 6.7,
        "weather": "fog",
        "wind": 4.1
       },
       {
        "date": "2015-04-24T00:00:00",
        "precipitation": 3.3,
        "temp_max": 12.2,
        "temp_min": 6.1,
        "weather": "fog",
        "wind": 5
       },
       {
        "date": "2015-04-25T00:00:00",
        "precipitation": 1.3,
        "temp_max": 13.3,
        "temp_min": 5.6,
        "weather": "fog",
        "wind": 3
       },
       {
        "date": "2015-04-26T00:00:00",
        "precipitation": 0,
        "temp_max": 15.6,
        "temp_min": 4.4,
        "weather": "fog",
        "wind": 2.7
       },
       {
        "date": "2015-04-27T00:00:00",
        "precipitation": 0.3,
        "temp_max": 25,
        "temp_min": 10.6,
        "weather": "fog",
        "wind": 2.3
       },
       {
        "date": "2015-04-28T00:00:00",
        "precipitation": 1.8,
        "temp_max": 15.6,
        "temp_min": 8.9,
        "weather": "fog",
        "wind": 4.3
       },
       {
        "date": "2015-04-29T00:00:00",
        "precipitation": 0,
        "temp_max": 16.1,
        "temp_min": 7.2,
        "weather": "sun",
        "wind": 4.7
       },
       {
        "date": "2015-04-30T00:00:00",
        "precipitation": 0,
        "temp_max": 17.2,
        "temp_min": 7.8,
        "weather": "sun",
        "wind": 2.1
       },
       {
        "date": "2015-05-01T00:00:00",
        "precipitation": 0,
        "temp_max": 18.3,
        "temp_min": 8.9,
        "weather": "sun",
        "wind": 3.7
       },
       {
        "date": "2015-05-02T00:00:00",
        "precipitation": 0,
        "temp_max": 18.3,
        "temp_min": 7.8,
        "weather": "sun",
        "wind": 3.7
       },
       {
        "date": "2015-05-03T00:00:00",
        "precipitation": 0,
        "temp_max": 20.6,
        "temp_min": 7.8,
        "weather": "sun",
        "wind": 2.6
       },
       {
        "date": "2015-05-04T00:00:00",
        "precipitation": 0,
        "temp_max": 17.2,
        "temp_min": 7.2,
        "weather": "sun",
        "wind": 5.2
       },
       {
        "date": "2015-05-05T00:00:00",
        "precipitation": 6.1,
        "temp_max": 14.4,
        "temp_min": 7.2,
        "weather": "fog",
        "wind": 5.1
       },
       {
        "date": "2015-05-06T00:00:00",
        "precipitation": 0,
        "temp_max": 16.7,
        "temp_min": 7.2,
        "weather": "fog",
        "wind": 2.6
       },
       {
        "date": "2015-05-07T00:00:00",
        "precipitation": 0,
        "temp_max": 20.6,
        "temp_min": 6.1,
        "weather": "sun",
        "wind": 3
       },
       {
        "date": "2015-05-08T00:00:00",
        "precipitation": 0,
        "temp_max": 23.9,
        "temp_min": 8.3,
        "weather": "sun",
        "wind": 3
       },
       {
        "date": "2015-05-09T00:00:00",
        "precipitation": 0,
        "temp_max": 26.7,
        "temp_min": 9.4,
        "weather": "sun",
        "wind": 2.6
       },
       {
        "date": "2015-05-10T00:00:00",
        "precipitation": 0,
        "temp_max": 19.4,
        "temp_min": 11.1,
        "weather": "sun",
        "wind": 2.8
       },
       {
        "date": "2015-05-11T00:00:00",
        "precipitation": 0,
        "temp_max": 13.9,
        "temp_min": 10,
        "weather": "fog",
        "wind": 2.5
       },
       {
        "date": "2015-05-12T00:00:00",
        "precipitation": 4.3,
        "temp_max": 15.6,
        "temp_min": 10.6,
        "weather": "fog",
        "wind": 3.3
       },
       {
        "date": "2015-05-13T00:00:00",
        "precipitation": 4.1,
        "temp_max": 12.2,
        "temp_min": 10,
        "weather": "fog",
        "wind": 2.8
       },
       {
        "date": "2015-05-14T00:00:00",
        "precipitation": 0.3,
        "temp_max": 17.8,
        "temp_min": 9.4,
        "weather": "fog",
        "wind": 2
       },
       {
        "date": "2015-05-15T00:00:00",
        "precipitation": 0,
        "temp_max": 20,
        "temp_min": 9.4,
        "weather": "fog",
        "wind": 2.8
       },
       {
        "date": "2015-05-16T00:00:00",
        "precipitation": 0,
        "temp_max": 15.6,
        "temp_min": 11.1,
        "weather": "sun",
        "wind": 3
       },
       {
        "date": "2015-05-17T00:00:00",
        "precipitation": 0,
        "temp_max": 19.4,
        "temp_min": 10.6,
        "weather": "sun",
        "wind": 2.1
       },
       {
        "date": "2015-05-18T00:00:00",
        "precipitation": 0,
        "temp_max": 25.6,
        "temp_min": 12.2,
        "weather": "sun",
        "wind": 3
       },
       {
        "date": "2015-05-19T00:00:00",
        "precipitation": 0,
        "temp_max": 21.7,
        "temp_min": 11.7,
        "weather": "sun",
        "wind": 2.6
       },
       {
        "date": "2015-05-20T00:00:00",
        "precipitation": 0,
        "temp_max": 23.3,
        "temp_min": 10.6,
        "weather": "fog",
        "wind": 1.8
       },
       {
        "date": "2015-05-21T00:00:00",
        "precipitation": 0,
        "temp_max": 25.6,
        "temp_min": 11.7,
        "weather": "sun",
        "wind": 2.1
       },
       {
        "date": "2015-05-22T00:00:00",
        "precipitation": 0,
        "temp_max": 16.7,
        "temp_min": 11.7,
        "weather": "sun",
        "wind": 3.7
       },
       {
        "date": "2015-05-23T00:00:00",
        "precipitation": 0,
        "temp_max": 16.1,
        "temp_min": 11.7,
        "weather": "sun",
        "wind": 2.6
       },
       {
        "date": "2015-05-24T00:00:00",
        "precipitation": 0,
        "temp_max": 17.8,
        "temp_min": 11.1,
        "weather": "sun",
        "wind": 2.7
       },
       {
        "date": "2015-05-25T00:00:00",
        "precipitation": 0,
        "temp_max": 15.6,
        "temp_min": 11.1,
        "weather": "sun",
        "wind": 2.7
       },
       {
        "date": "2015-05-26T00:00:00",
        "precipitation": 0,
        "temp_max": 21.7,
        "temp_min": 11.7,
        "weather": "sun",
        "wind": 2.1
       },
       {
        "date": "2015-05-27T00:00:00",
        "precipitation": 0,
        "temp_max": 24.4,
        "temp_min": 11.7,
        "weather": "sun",
        "wind": 1.8
       },
       {
        "date": "2015-05-28T00:00:00",
        "precipitation": 0,
        "temp_max": 27.8,
        "temp_min": 12.2,
        "weather": "sun",
        "wind": 2.1
       },
       {
        "date": "2015-05-29T00:00:00",
        "precipitation": 0,
        "temp_max": 26.1,
        "temp_min": 12.8,
        "weather": "sun",
        "wind": 2.5
       },
       {
        "date": "2015-05-30T00:00:00",
        "precipitation": 0,
        "temp_max": 22.8,
        "temp_min": 10,
        "weather": "sun",
        "wind": 2.5
       },
       {
        "date": "2015-05-31T00:00:00",
        "precipitation": 0,
        "temp_max": 25,
        "temp_min": 11.7,
        "weather": "sun",
        "wind": 2.2
       },
       {
        "date": "2015-06-01T00:00:00",
        "precipitation": 4.6,
        "temp_max": 16.1,
        "temp_min": 11.7,
        "weather": "fog",
        "wind": 3.4
       },
       {
        "date": "2015-06-02T00:00:00",
        "precipitation": 0.5,
        "temp_max": 17.8,
        "temp_min": 12.8,
        "weather": "sun",
        "wind": 5
       },
       {
        "date": "2015-06-03T00:00:00",
        "precipitation": 0,
        "temp_max": 20,
        "temp_min": 11.7,
        "weather": "sun",
        "wind": 3
       },
       {
        "date": "2015-06-04T00:00:00",
        "precipitation": 0,
        "temp_max": 22.8,
        "temp_min": 11.7,
        "weather": "sun",
        "wind": 3.9
       },
       {
        "date": "2015-06-05T00:00:00",
        "precipitation": 0,
        "temp_max": 26.7,
        "temp_min": 12.8,
        "weather": "sun",
        "wind": 4.3
       },
       {
        "date": "2015-06-06T00:00:00",
        "precipitation": 0,
        "temp_max": 29.4,
        "temp_min": 13.3,
        "weather": "sun",
        "wind": 2.6
       },
       {
        "date": "2015-06-07T00:00:00",
        "precipitation": 0,
        "temp_max": 31.1,
        "temp_min": 15.6,
        "weather": "sun",
        "wind": 3.2
       },
       {
        "date": "2015-06-08T00:00:00",
        "precipitation": 0,
        "temp_max": 30.6,
        "temp_min": 14.4,
        "weather": "sun",
        "wind": 3.5
       },
       {
        "date": "2015-06-09T00:00:00",
        "precipitation": 0,
        "temp_max": 28.9,
        "temp_min": 14.4,
        "weather": "sun",
        "wind": 2.7
       },
       {
        "date": "2015-06-10T00:00:00",
        "precipitation": 0,
        "temp_max": 25.6,
        "temp_min": 11.1,
        "weather": "sun",
        "wind": 3
       },
       {
        "date": "2015-06-11T00:00:00",
        "precipitation": 0,
        "temp_max": 24.4,
        "temp_min": 11.1,
        "weather": "sun",
        "wind": 3.5
       },
       {
        "date": "2015-06-12T00:00:00",
        "precipitation": 0,
        "temp_max": 20,
        "temp_min": 11.7,
        "weather": "sun",
        "wind": 2.3
       },
       {
        "date": "2015-06-13T00:00:00",
        "precipitation": 0,
        "temp_max": 23.9,
        "temp_min": 9.4,
        "weather": "sun",
        "wind": 2.6
       },
       {
        "date": "2015-06-14T00:00:00",
        "precipitation": 0,
        "temp_max": 27.8,
        "temp_min": 11.7,
        "weather": "sun",
        "wind": 3.7
       },
       {
        "date": "2015-06-15T00:00:00",
        "precipitation": 0,
        "temp_max": 30,
        "temp_min": 16.1,
        "weather": "drizzle",
        "wind": 3.5
       },
       {
        "date": "2015-06-16T00:00:00",
        "precipitation": 0,
        "temp_max": 22.8,
        "temp_min": 11.1,
        "weather": "sun",
        "wind": 3
       },
       {
        "date": "2015-06-17T00:00:00",
        "precipitation": 0,
        "temp_max": 25,
        "temp_min": 11.1,
        "weather": "sun",
        "wind": 3.1
       },
       {
        "date": "2015-06-18T00:00:00",
        "precipitation": 0,
        "temp_max": 24.4,
        "temp_min": 13.9,
        "weather": "sun",
        "wind": 3
       },
       {
        "date": "2015-06-19T00:00:00",
        "precipitation": 0.5,
        "temp_max": 23.9,
        "temp_min": 13.3,
        "weather": "fog",
        "wind": 3.2
       },
       {
        "date": "2015-06-20T00:00:00",
        "precipitation": 0,
        "temp_max": 25,
        "temp_min": 12.8,
        "weather": "sun",
        "wind": 4.3
       },
       {
        "date": "2015-06-21T00:00:00",
        "precipitation": 0,
        "temp_max": 25.6,
        "temp_min": 13.9,
        "weather": "sun",
        "wind": 3.4
       },
       {
        "date": "2015-06-22T00:00:00",
        "precipitation": 0,
        "temp_max": 25,
        "temp_min": 12.8,
        "weather": "sun",
        "wind": 2.4
       },
       {
        "date": "2015-06-23T00:00:00",
        "precipitation": 0,
        "temp_max": 26.1,
        "temp_min": 11.7,
        "weather": "sun",
        "wind": 2.4
       },
       {
        "date": "2015-06-24T00:00:00",
        "precipitation": 0,
        "temp_max": 25.6,
        "temp_min": 16.1,
        "weather": "sun",
        "wind": 2.6
       },
       {
        "date": "2015-06-25T00:00:00",
        "precipitation": 0,
        "temp_max": 30.6,
        "temp_min": 15.6,
        "weather": "sun",
        "wind": 3
       },
       {
        "date": "2015-06-26T00:00:00",
        "precipitation": 0,
        "temp_max": 31.7,
        "temp_min": 17.8,
        "weather": "sun",
        "wind": 4.7
       },
       {
        "date": "2015-06-27T00:00:00",
        "precipitation": 0,
        "temp_max": 33.3,
        "temp_min": 17.2,
        "weather": "sun",
        "wind": 3.9
       },
       {
        "date": "2015-06-28T00:00:00",
        "precipitation": 0.3,
        "temp_max": 28.3,
        "temp_min": 18.3,
        "weather": "sun",
        "wind": 2.1
       },
       {
        "date": "2015-06-29T00:00:00",
        "precipitation": 0,
        "temp_max": 28.9,
        "temp_min": 17.2,
        "weather": "sun",
        "wind": 2.7
       },
       {
        "date": "2015-06-30T00:00:00",
        "precipitation": 0,
        "temp_max": 30.6,
        "temp_min": 15,
        "weather": "fog",
        "wind": 3.4
       },
       {
        "date": "2015-07-01T00:00:00",
        "precipitation": 0,
        "temp_max": 32.2,
        "temp_min": 17.2,
        "weather": "sun",
        "wind": 4.3
       },
       {
        "date": "2015-07-02T00:00:00",
        "precipitation": 0,
        "temp_max": 33.9,
        "temp_min": 17.8,
        "weather": "sun",
        "wind": 3.4
       },
       {
        "date": "2015-07-03T00:00:00",
        "precipitation": 0,
        "temp_max": 33.3,
        "temp_min": 17.8,
        "weather": "sun",
        "wind": 2.6
       },
       {
        "date": "2015-07-04T00:00:00",
        "precipitation": 0,
        "temp_max": 33.3,
        "temp_min": 15,
        "weather": "sun",
        "wind": 2.9
       },
       {
        "date": "2015-07-05T00:00:00",
        "precipitation": 0,
        "temp_max": 32.8,
        "temp_min": 16.7,
        "weather": "sun",
        "wind": 2.1
       },
       {
        "date": "2015-07-06T00:00:00",
        "precipitation": 0,
        "temp_max": 29.4,
        "temp_min": 15.6,
        "weather": "drizzle",
        "wind": 3.2
       },
       {
        "date": "2015-07-07T00:00:00",
        "precipitation": 0,
        "temp_max": 27.2,
        "temp_min": 13.9,
        "weather": "sun",
        "wind": 2.4
       },
       {
        "date": "2015-07-08T00:00:00",
        "precipitation": 0,
        "temp_max": 30,
        "temp_min": 14.4,
        "weather": "drizzle",
        "wind": 1.9
       },
       {
        "date": "2015-07-09T00:00:00",
        "precipitation": 0,
        "temp_max": 28.9,
        "temp_min": 14.4,
        "weather": "sun",
        "wind": 3.4
       },
       {
        "date": "2015-07-10T00:00:00",
        "precipitation": 0,
        "temp_max": 21.1,
        "temp_min": 16.7,
        "weather": "sun",
        "wind": 3.7
       },
       {
        "date": "2015-07-11T00:00:00",
        "precipitation": 0,
        "temp_max": 22.2,
        "temp_min": 16.7,
        "weather": "sun",
        "wind": 3
       },
       {
        "date": "2015-07-12T00:00:00",
        "precipitation": 0,
        "temp_max": 26.1,
        "temp_min": 16.7,
        "weather": "sun",
        "wind": 2.2
       },
       {
        "date": "2015-07-13T00:00:00",
        "precipitation": 0,
        "temp_max": 25.6,
        "temp_min": 16.1,
        "weather": "sun",
        "wind": 3.1
       },
       {
        "date": "2015-07-14T00:00:00",
        "precipitation": 0,
        "temp_max": 27.8,
        "temp_min": 16.1,
        "weather": "sun",
        "wind": 3.3
       },
       {
        "date": "2015-07-15T00:00:00",
        "precipitation": 0,
        "temp_max": 26.1,
        "temp_min": 14.4,
        "weather": "sun",
        "wind": 3.2
       },
       {
        "date": "2015-07-16T00:00:00",
        "precipitation": 0,
        "temp_max": 26.1,
        "temp_min": 15,
        "weather": "sun",
        "wind": 2.8
       },
       {
        "date": "2015-07-17T00:00:00",
        "precipitation": 0,
        "temp_max": 27.8,
        "temp_min": 13.9,
        "weather": "sun",
        "wind": 3.3
       },
       {
        "date": "2015-07-18T00:00:00",
        "precipitation": 0,
        "temp_max": 33.3,
        "temp_min": 17.8,
        "weather": "sun",
        "wind": 3.4
       },
       {
        "date": "2015-07-19T00:00:00",
        "precipitation": 0,
        "temp_max": 35,
        "temp_min": 17.2,
        "weather": "sun",
        "wind": 3.3
       },
       {
        "date": "2015-07-20T00:00:00",
        "precipitation": 0,
        "temp_max": 26.7,
        "temp_min": 16.7,
        "weather": "sun",
        "wind": 3.9
       },
       {
        "date": "2015-07-21T00:00:00",
        "precipitation": 0,
        "temp_max": 23.9,
        "temp_min": 15,
        "weather": "sun",
        "wind": 2.4
       },
       {
        "date": "2015-07-22T00:00:00",
        "precipitation": 0,
        "temp_max": 23.9,
        "temp_min": 13.9,
        "weather": "sun",
        "wind": 2.8
       },
       {
        "date": "2015-07-23T00:00:00",
        "precipitation": 0,
        "temp_max": 26.1,
        "temp_min": 14.4,
        "weather": "sun",
        "wind": 1.9
       },
       {
        "date": "2015-07-24T00:00:00",
        "precipitation": 0.3,
        "temp_max": 22.8,
        "temp_min": 13.3,
        "weather": "fog",
        "wind": 3.8
       },
       {
        "date": "2015-07-25T00:00:00",
        "precipitation": 0,
        "temp_max": 21.1,
        "temp_min": 14.4,
        "weather": "fog",
        "wind": 2.4
       },
       {
        "date": "2015-07-26T00:00:00",
        "precipitation": 2,
        "temp_max": 22.2,
        "temp_min": 13.9,
        "weather": "fog",
        "wind": 2.6
       },
       {
        "date": "2015-07-27T00:00:00",
        "precipitation": 0,
        "temp_max": 23.3,
        "temp_min": 12.2,
        "weather": "fog",
        "wind": 1.9
       },
       {
        "date": "2015-07-28T00:00:00",
        "precipitation": 0,
        "temp_max": 27.8,
        "temp_min": 13.9,
        "weather": "sun",
        "wind": 3.4
       },
       {
        "date": "2015-07-29T00:00:00",
        "precipitation": 0,
        "temp_max": 32.2,
        "temp_min": 14.4,
        "weather": "sun",
        "wind": 3.8
       },
       {
        "date": "2015-07-30T00:00:00",
        "precipitation": 0,
        "temp_max": 34.4,
        "temp_min": 17.2,
        "weather": "sun",
        "wind": 3.5
       },
       {
        "date": "2015-07-31T00:00:00",
        "precipitation": 0,
        "temp_max": 34.4,
        "temp_min": 17.8,
        "weather": "sun",
        "wind": 2.6
       },
       {
        "date": "2015-08-01T00:00:00",
        "precipitation": 0,
        "temp_max": 33.3,
        "temp_min": 15.6,
        "weather": "sun",
        "wind": 3.1
       },
       {
        "date": "2015-08-02T00:00:00",
        "precipitation": 0,
        "temp_max": 30.6,
        "temp_min": 16.1,
        "weather": "sun",
        "wind": 2
       },
       {
        "date": "2015-08-03T00:00:00",
        "precipitation": 0,
        "temp_max": 28.3,
        "temp_min": 17.2,
        "weather": "sun",
        "wind": 2.3
       },
       {
        "date": "2015-08-04T00:00:00",
        "precipitation": 0,
        "temp_max": 26.1,
        "temp_min": 14.4,
        "weather": "fog",
        "wind": 2.6
       },
       {
        "date": "2015-08-05T00:00:00",
        "precipitation": 0,
        "temp_max": 23.3,
        "temp_min": 12.2,
        "weather": "sun",
        "wind": 3.5
       },
       {
        "date": "2015-08-06T00:00:00",
        "precipitation": 0,
        "temp_max": 25,
        "temp_min": 15,
        "weather": "sun",
        "wind": 2.9
       },
       {
        "date": "2015-08-07T00:00:00",
        "precipitation": 0,
        "temp_max": 28.3,
        "temp_min": 15.6,
        "weather": "sun",
        "wind": 3.7
       },
       {
        "date": "2015-08-08T00:00:00",
        "precipitation": 0,
        "temp_max": 25,
        "temp_min": 15.6,
        "weather": "fog",
        "wind": 3.6
       },
       {
        "date": "2015-08-09T00:00:00",
        "precipitation": 0,
        "temp_max": 28.3,
        "temp_min": 15,
        "weather": "sun",
        "wind": 2.2
       },
       {
        "date": "2015-08-10T00:00:00",
        "precipitation": 0,
        "temp_max": 28.9,
        "temp_min": 16.1,
        "weather": "sun",
        "wind": 2.4
       },
       {
        "date": "2015-08-11T00:00:00",
        "precipitation": 0,
        "temp_max": 30,
        "temp_min": 16.7,
        "weather": "sun",
        "wind": 4.4
       },
       {
        "date": "2015-08-12T00:00:00",
        "precipitation": 7.6,
        "temp_max": 28.3,
        "temp_min": 16.7,
        "weather": "rain",
        "wind": 2.7
       },
       {
        "date": "2015-08-13T00:00:00",
        "precipitation": 0,
        "temp_max": 28.3,
        "temp_min": 15.6,
        "weather": "sun",
        "wind": 2.2
       },
       {
        "date": "2015-08-14T00:00:00",
        "precipitation": 30.5,
        "temp_max": 18.3,
        "temp_min": 15,
        "weather": "rain",
        "wind": 5.2
       },
       {
        "date": "2015-08-15T00:00:00",
        "precipitation": 0,
        "temp_max": 21.7,
        "temp_min": 13.9,
        "weather": "sun",
        "wind": 3.7
       },
       {
        "date": "2015-08-16T00:00:00",
        "precipitation": 0,
        "temp_max": 25,
        "temp_min": 14.4,
        "weather": "sun",
        "wind": 3.7
       },
       {
        "date": "2015-08-17T00:00:00",
        "precipitation": 0,
        "temp_max": 27.2,
        "temp_min": 13.9,
        "weather": "sun",
        "wind": 3
       },
       {
        "date": "2015-08-18T00:00:00",
        "precipitation": 0,
        "temp_max": 30,
        "temp_min": 15,
        "weather": "sun",
        "wind": 3
       },
       {
        "date": "2015-08-19T00:00:00",
        "precipitation": 0,
        "temp_max": 31.7,
        "temp_min": 16.1,
        "weather": "drizzle",
        "wind": 2.1
       },
       {
        "date": "2015-08-20T00:00:00",
        "precipitation": 2,
        "temp_max": 22.8,
        "temp_min": 14.4,
        "weather": "fog",
        "wind": 4.2
       },
       {
        "date": "2015-08-21T00:00:00",
        "precipitation": 0,
        "temp_max": 22.2,
        "temp_min": 14.4,
        "weather": "sun",
        "wind": 2.6
       },
       {
        "date": "2015-08-22T00:00:00",
        "precipitation": 0,
        "temp_max": 26.7,
        "temp_min": 12.2,
        "weather": "drizzle",
        "wind": 2.5
       },
       {
        "date": "2015-08-23T00:00:00",
        "precipitation": 0,
        "temp_max": 27.8,
        "temp_min": 13.9,
        "weather": "drizzle",
        "wind": 1.8
       },
       {
        "date": "2015-08-24T00:00:00",
        "precipitation": 0,
        "temp_max": 23.9,
        "temp_min": 12.2,
        "weather": "sun",
        "wind": 2.3
       },
       {
        "date": "2015-08-25T00:00:00",
        "precipitation": 0,
        "temp_max": 25.6,
        "temp_min": 12.2,
        "weather": "sun",
        "wind": 3.4
       },
       {
        "date": "2015-08-26T00:00:00",
        "precipitation": 0,
        "temp_max": 28.3,
        "temp_min": 13.9,
        "weather": "sun",
        "wind": 1.7
       },
       {
        "date": "2015-08-27T00:00:00",
        "precipitation": 0,
        "temp_max": 29.4,
        "temp_min": 14.4,
        "weather": "sun",
        "wind": 2.1
       },
       {
        "date": "2015-08-28T00:00:00",
        "precipitation": 0.5,
        "temp_max": 23.3,
        "temp_min": 15.6,
        "weather": "fog",
        "wind": 2.6
       },
       {
        "date": "2015-08-29T00:00:00",
        "precipitation": 32.5,
        "temp_max": 22.2,
        "temp_min": 13.3,
        "weather": "fog",
        "wind": 5.8
       },
       {
        "date": "2015-08-30T00:00:00",
        "precipitation": 10.2,
        "temp_max": 20,
        "temp_min": 12.8,
        "weather": "fog",
        "wind": 4.7
       },
       {
        "date": "2015-08-31T00:00:00",
        "precipitation": 0,
        "temp_max": 18.9,
        "temp_min": 16.1,
        "weather": "sun",
        "wind": 5.8
       },
       {
        "date": "2015-09-01T00:00:00",
        "precipitation": 5.8,
        "temp_max": 19.4,
        "temp_min": 13.9,
        "weather": "fog",
        "wind": 5
       },
       {
        "date": "2015-09-02T00:00:00",
        "precipitation": 0,
        "temp_max": 19.4,
        "temp_min": 11.1,
        "weather": "sun",
        "wind": 3.8
       },
       {
        "date": "2015-09-03T00:00:00",
        "precipitation": 0,
        "temp_max": 18.3,
        "temp_min": 10.6,
        "weather": "sun",
        "wind": 2.9
       },
       {
        "date": "2015-09-04T00:00:00",
        "precipitation": 0,
        "temp_max": 18.3,
        "temp_min": 10,
        "weather": "sun",
        "wind": 2.9
       },
       {
        "date": "2015-09-05T00:00:00",
        "precipitation": 0.3,
        "temp_max": 20.6,
        "temp_min": 8.9,
        "weather": "sun",
        "wind": 3.5
       },
       {
        "date": "2015-09-06T00:00:00",
        "precipitation": 5.3,
        "temp_max": 16.1,
        "temp_min": 11.7,
        "weather": "fog",
        "wind": 2.4
       },
       {
        "date": "2015-09-07T00:00:00",
        "precipitation": 0.3,
        "temp_max": 21.1,
        "temp_min": 13.3,
        "weather": "fog",
        "wind": 1.5
       },
       {
        "date": "2015-09-08T00:00:00",
        "precipitation": 0,
        "temp_max": 22.8,
        "temp_min": 13.3,
        "weather": "sun",
        "wind": 2.4
       },
       {
        "date": "2015-09-09T00:00:00",
        "precipitation": 0,
        "temp_max": 24.4,
        "temp_min": 13.9,
        "weather": "sun",
        "wind": 3.3
       },
       {
        "date": "2015-09-10T00:00:00",
        "precipitation": 0,
        "temp_max": 25,
        "temp_min": 14.4,
        "weather": "fog",
        "wind": 3.6
       },
       {
        "date": "2015-09-11T00:00:00",
        "precipitation": 0,
        "temp_max": 27.2,
        "temp_min": 15,
        "weather": "sun",
        "wind": 3.1
       },
       {
        "date": "2015-09-12T00:00:00",
        "precipitation": 0,
        "temp_max": 26.7,
        "temp_min": 14.4,
        "weather": "sun",
        "wind": 2.1
       },
       {
        "date": "2015-09-13T00:00:00",
        "precipitation": 0.5,
        "temp_max": 20.6,
        "temp_min": 12.8,
        "weather": "fog",
        "wind": 3
       },
       {
        "date": "2015-09-14T00:00:00",
        "precipitation": 0,
        "temp_max": 16.7,
        "temp_min": 10.6,
        "weather": "sun",
        "wind": 3.4
       },
       {
        "date": "2015-09-15T00:00:00",
        "precipitation": 0,
        "temp_max": 17.8,
        "temp_min": 10,
        "weather": "sun",
        "wind": 2.8
       },
       {
        "date": "2015-09-16T00:00:00",
        "precipitation": 1,
        "temp_max": 20,
        "temp_min": 10,
        "weather": "sun",
        "wind": 1.9
       },
       {
        "date": "2015-09-17T00:00:00",
        "precipitation": 1.8,
        "temp_max": 18.3,
        "temp_min": 12.8,
        "weather": "fog",
        "wind": 3.8
       },
       {
        "date": "2015-09-18T00:00:00",
        "precipitation": 0,
        "temp_max": 19.4,
        "temp_min": 12.8,
        "weather": "sun",
        "wind": 2.6
       },
       {
        "date": "2015-09-19T00:00:00",
        "precipitation": 0,
        "temp_max": 21.1,
        "temp_min": 14.4,
        "weather": "sun",
        "wind": 4.3
       },
       {
        "date": "2015-09-20T00:00:00",
        "precipitation": 4.1,
        "temp_max": 22.8,
        "temp_min": 12.2,
        "weather": "fog",
        "wind": 6.8
       },
       {
        "date": "2015-09-21T00:00:00",
        "precipitation": 0,
        "temp_max": 18.3,
        "temp_min": 9.4,
        "weather": "fog",
        "wind": 2.7
       },
       {
        "date": "2015-09-22T00:00:00",
        "precipitation": 0,
        "temp_max": 18.9,
        "temp_min": 7.8,
        "weather": "sun",
        "wind": 2
       },
       {
        "date": "2015-09-23T00:00:00",
        "precipitation": 0,
        "temp_max": 20.6,
        "temp_min": 8.3,
        "weather": "sun",
        "wind": 1.8
       },
       {
        "date": "2015-09-24T00:00:00",
        "precipitation": 0,
        "temp_max": 22.2,
        "temp_min": 11.1,
        "weather": "fog",
        "wind": 2.5
       },
       {
        "date": "2015-09-25T00:00:00",
        "precipitation": 2,
        "temp_max": 15.6,
        "temp_min": 12.8,
        "weather": "fog",
        "wind": 2.6
       },
       {
        "date": "2015-09-26T00:00:00",
        "precipitation": 0,
        "temp_max": 18.3,
        "temp_min": 10,
        "weather": "sun",
        "wind": 2.7
       },
       {
        "date": "2015-09-27T00:00:00",
        "precipitation": 0,
        "temp_max": 17.8,
        "temp_min": 7.2,
        "weather": "sun",
        "wind": 3.8
       },
       {
        "date": "2015-09-28T00:00:00",
        "precipitation": 0,
        "temp_max": 21.1,
        "temp_min": 9.4,
        "weather": "sun",
        "wind": 5.1
       },
       {
        "date": "2015-09-29T00:00:00",
        "precipitation": 0,
        "temp_max": 21.7,
        "temp_min": 8.9,
        "weather": "sun",
        "wind": 1.9
       },
       {
        "date": "2015-09-30T00:00:00",
        "precipitation": 0,
        "temp_max": 18.3,
        "temp_min": 10,
        "weather": "fog",
        "wind": 1.3
       },
       {
        "date": "2015-10-01T00:00:00",
        "precipitation": 0,
        "temp_max": 21.1,
        "temp_min": 9.4,
        "weather": "fog",
        "wind": 1.3
       },
       {
        "date": "2015-10-02T00:00:00",
        "precipitation": 0,
        "temp_max": 15.6,
        "temp_min": 10,
        "weather": "fog",
        "wind": 2.9
       },
       {
        "date": "2015-10-03T00:00:00",
        "precipitation": 0,
        "temp_max": 19.4,
        "temp_min": 11.1,
        "weather": "sun",
        "wind": 4.8
       },
       {
        "date": "2015-10-04T00:00:00",
        "precipitation": 0,
        "temp_max": 22.8,
        "temp_min": 10,
        "weather": "sun",
        "wind": 3.7
       },
       {
        "date": "2015-10-05T00:00:00",
        "precipitation": 0,
        "temp_max": 23.3,
        "temp_min": 9.4,
        "weather": "sun",
        "wind": 1.6
       },
       {
        "date": "2015-10-06T00:00:00",
        "precipitation": 0,
        "temp_max": 18.3,
        "temp_min": 10,
        "weather": "drizzle",
        "wind": 2.6
       },
       {
        "date": "2015-10-07T00:00:00",
        "precipitation": 9.9,
        "temp_max": 16.1,
        "temp_min": 13.9,
        "weather": "fog",
        "wind": 2.2
       },
       {
        "date": "2015-10-08T00:00:00",
        "precipitation": 0,
        "temp_max": 18.9,
        "temp_min": 13.3,
        "weather": "fog",
        "wind": 1.1
       },
       {
        "date": "2015-10-09T00:00:00",
        "precipitation": 0.3,
        "temp_max": 19.4,
        "temp_min": 12.2,
        "weather": "fog",
        "wind": 2.6
       },
       {
        "date": "2015-10-10T00:00:00",
        "precipitation": 28.7,
        "temp_max": 21.1,
        "temp_min": 13.3,
        "weather": "fog",
        "wind": 4.7
       },
       {
        "date": "2015-10-11T00:00:00",
        "precipitation": 0,
        "temp_max": 17.8,
        "temp_min": 10.6,
        "weather": "sun",
        "wind": 2.6
       },
       {
        "date": "2015-10-12T00:00:00",
        "precipitation": 4.6,
        "temp_max": 18.3,
        "temp_min": 10.6,
        "weather": "fog",
        "wind": 2.8
       },
       {
        "date": "2015-10-13T00:00:00",
        "precipitation": 1.3,
        "temp_max": 16.7,
        "temp_min": 9.4,
        "weather": "fog",
        "wind": 3.2
       },
       {
        "date": "2015-10-14T00:00:00",
        "precipitation": 0,
        "temp_max": 15,
        "temp_min": 10,
        "weather": "fog",
        "wind": 5
       },
       {
        "date": "2015-10-15T00:00:00",
        "precipitation": 0,
        "temp_max": 21.1,
        "temp_min": 9.4,
        "weather": "fog",
        "wind": 3.4
       },
       {
        "date": "2015-10-16T00:00:00",
        "precipitation": 0,
        "temp_max": 20,
        "temp_min": 8.9,
        "weather": "sun",
        "wind": 1.3
       },
       {
        "date": "2015-10-17T00:00:00",
        "precipitation": 0.3,
        "temp_max": 19.4,
        "temp_min": 11.7,
        "weather": "fog",
        "wind": 1.3
       },
       {
        "date": "2015-10-18T00:00:00",
        "precipitation": 3.8,
        "temp_max": 15,
        "temp_min": 12.8,
        "weather": "fog",
        "wind": 2
       },
       {
        "date": "2015-10-19T00:00:00",
        "precipitation": 0.3,
        "temp_max": 17.2,
        "temp_min": 12.2,
        "weather": "fog",
        "wind": 2.6
       },
       {
        "date": "2015-10-20T00:00:00",
        "precipitation": 0,
        "temp_max": 17.8,
        "temp_min": 10.6,
        "weather": "fog",
        "wind": 1.8
       },
       {
        "date": "2015-10-21T00:00:00",
        "precipitation": 0,
        "temp_max": 16.1,
        "temp_min": 8.3,
        "weather": "fog",
        "wind": 1.3
       },
       {
        "date": "2015-10-22T00:00:00",
        "precipitation": 0,
        "temp_max": 16.1,
        "temp_min": 8.9,
        "weather": "fog",
        "wind": 2.7
       },
       {
        "date": "2015-10-23T00:00:00",
        "precipitation": 0,
        "temp_max": 12.8,
        "temp_min": 7.2,
        "weather": "fog",
        "wind": 2.6
       },
       {
        "date": "2015-10-24T00:00:00",
        "precipitation": 0,
        "temp_max": 15,
        "temp_min": 8.9,
        "weather": "fog",
        "wind": 2.9
       },
       {
        "date": "2015-10-25T00:00:00",
        "precipitation": 8.9,
        "temp_max": 19.4,
        "temp_min": 8.9,
        "weather": "rain",
        "wind": 3.4
       },
       {
        "date": "2015-10-26T00:00:00",
        "precipitation": 6.9,
        "temp_max": 12.2,
        "temp_min": 10,
        "weather": "fog",
        "wind": 4.6
       },
       {
        "date": "2015-10-27T00:00:00",
        "precipitation": 0,
        "temp_max": 16.1,
        "temp_min": 7.8,
        "weather": "fog",
        "wind": 1.7
       },
       {
        "date": "2015-10-28T00:00:00",
        "precipitation": 3.3,
        "temp_max": 13.9,
        "temp_min": 11.1,
        "weather": "fog",
        "wind": 2.8
       },
       {
        "date": "2015-10-29T00:00:00",
        "precipitation": 1.8,
        "temp_max": 15,
        "temp_min": 12.2,
        "weather": "fog",
        "wind": 4.7
       },
       {
        "date": "2015-10-30T00:00:00",
        "precipitation": 19.3,
        "temp_max": 17.2,
        "temp_min": 11.7,
        "weather": "fog",
        "wind": 6.7
       },
       {
        "date": "2015-10-31T00:00:00",
        "precipitation": 33,
        "temp_max": 15.6,
        "temp_min": 11.7,
        "weather": "fog",
        "wind": 7.2
       },
       {
        "date": "2015-11-01T00:00:00",
        "precipitation": 26.2,
        "temp_max": 12.2,
        "temp_min": 8.9,
        "weather": "fog",
        "wind": 6
       },
       {
        "date": "2015-11-02T00:00:00",
        "precipitation": 0.3,
        "temp_max": 11.1,
        "temp_min": 7.2,
        "weather": "fog",
        "wind": 2.8
       },
       {
        "date": "2015-11-03T00:00:00",
        "precipitation": 0.8,
        "temp_max": 10.6,
        "temp_min": 5,
        "weather": "fog",
        "wind": 1.4
       },
       {
        "date": "2015-11-04T00:00:00",
        "precipitation": 0,
        "temp_max": 10,
        "temp_min": 3.3,
        "weather": "sun",
        "wind": 2.2
       },
       {
        "date": "2015-11-05T00:00:00",
        "precipitation": 1.3,
        "temp_max": 11.7,
        "temp_min": 7.8,
        "weather": "fog",
        "wind": 2.3
       },
       {
        "date": "2015-11-06T00:00:00",
        "precipitation": 0,
        "temp_max": 15.6,
        "temp_min": 8.3,
        "weather": "fog",
        "wind": 2.7
       },
       {
        "date": "2015-11-07T00:00:00",
        "precipitation": 12.7,
        "temp_max": 12.2,
        "temp_min": 9.4,
        "weather": "fog",
        "wind": 3
       },
       {
        "date": "2015-11-08T00:00:00",
        "precipitation": 6.6,
        "temp_max": 11.1,
        "temp_min": 7.8,
        "weather": "fog",
        "wind": 1.8
       },
       {
        "date": "2015-11-09T00:00:00",
        "precipitation": 3.3,
        "temp_max": 10,
        "temp_min": 5,
        "weather": "fog",
        "wind": 1.3
       },
       {
        "date": "2015-11-10T00:00:00",
        "precipitation": 1.3,
        "temp_max": 11.1,
        "temp_min": 3.9,
        "weather": "fog",
        "wind": 3.9
       },
       {
        "date": "2015-11-11T00:00:00",
        "precipitation": 1.5,
        "temp_max": 11.1,
        "temp_min": 6.1,
        "weather": "sun",
        "wind": 4.6
       },
       {
        "date": "2015-11-12T00:00:00",
        "precipitation": 9.9,
        "temp_max": 11.1,
        "temp_min": 5,
        "weather": "fog",
        "wind": 5.1
       },
       {
        "date": "2015-11-13T00:00:00",
        "precipitation": 33.5,
        "temp_max": 13.3,
        "temp_min": 9.4,
        "weather": "fog",
        "wind": 6.5
       },
       {
        "date": "2015-11-14T00:00:00",
        "precipitation": 47.2,
        "temp_max": 9.4,
        "temp_min": 6.1,
        "weather": "fog",
        "wind": 4.5
       },
       {
        "date": "2015-11-15T00:00:00",
        "precipitation": 22.4,
        "temp_max": 8.9,
        "temp_min": 2.2,
        "weather": "fog",
        "wind": 4.1
       },
       {
        "date": "2015-11-16T00:00:00",
        "precipitation": 2,
        "temp_max": 8.9,
        "temp_min": 1.7,
        "weather": "fog",
        "wind": 4
       },
       {
        "date": "2015-11-17T00:00:00",
        "precipitation": 29.5,
        "temp_max": 13.3,
        "temp_min": 6.7,
        "weather": "fog",
        "wind": 8
       },
       {
        "date": "2015-11-18T00:00:00",
        "precipitation": 1.5,
        "temp_max": 8.9,
        "temp_min": 3.3,
        "weather": "sun",
        "wind": 3.8
       },
       {
        "date": "2015-11-19T00:00:00",
        "precipitation": 2,
        "temp_max": 8.9,
        "temp_min": 2.8,
        "weather": "sun",
        "wind": 4.2
       },
       {
        "date": "2015-11-20T00:00:00",
        "precipitation": 0,
        "temp_max": 8.3,
        "temp_min": 0.6,
        "weather": "fog",
        "wind": 4
       },
       {
        "date": "2015-11-21T00:00:00",
        "precipitation": 0,
        "temp_max": 8.9,
        "temp_min": 0.6,
        "weather": "sun",
        "wind": 4.7
       },
       {
        "date": "2015-11-22T00:00:00",
        "precipitation": 0,
        "temp_max": 10,
        "temp_min": 1.7,
        "weather": "fog",
        "wind": 3.1
       },
       {
        "date": "2015-11-23T00:00:00",
        "precipitation": 3,
        "temp_max": 6.7,
        "temp_min": 0,
        "weather": "fog",
        "wind": 1.3
       },
       {
        "date": "2015-11-24T00:00:00",
        "precipitation": 7.1,
        "temp_max": 6.7,
        "temp_min": 2.8,
        "weather": "fog",
        "wind": 4.5
       },
       {
        "date": "2015-11-25T00:00:00",
        "precipitation": 0,
        "temp_max": 7.2,
        "temp_min": 0,
        "weather": "sun",
        "wind": 5.7
       },
       {
        "date": "2015-11-26T00:00:00",
        "precipitation": 0,
        "temp_max": 9.4,
        "temp_min": -1,
        "weather": "sun",
        "wind": 4.3
       },
       {
        "date": "2015-11-27T00:00:00",
        "precipitation": 0,
        "temp_max": 9.4,
        "temp_min": -1.6,
        "weather": "sun",
        "wind": 3
       },
       {
        "date": "2015-11-28T00:00:00",
        "precipitation": 0,
        "temp_max": 7.2,
        "temp_min": -2.7,
        "weather": "sun",
        "wind": 1
       },
       {
        "date": "2015-11-29T00:00:00",
        "precipitation": 0,
        "temp_max": 1.7,
        "temp_min": -2.1,
        "weather": "fog",
        "wind": 0.9
       },
       {
        "date": "2015-11-30T00:00:00",
        "precipitation": 0.5,
        "temp_max": 5.6,
        "temp_min": -3.8,
        "weather": "fog",
        "wind": 1.7
       },
       {
        "date": "2015-12-01T00:00:00",
        "precipitation": 12.2,
        "temp_max": 10,
        "temp_min": 3.9,
        "weather": "fog",
        "wind": 3.5
       },
       {
        "date": "2015-12-02T00:00:00",
        "precipitation": 2.5,
        "temp_max": 10.6,
        "temp_min": 4.4,
        "weather": "fog",
        "wind": 5
       },
       {
        "date": "2015-12-03T00:00:00",
        "precipitation": 12.7,
        "temp_max": 15.6,
        "temp_min": 7.8,
        "weather": "fog",
        "wind": 5.9
       },
       {
        "date": "2015-12-04T00:00:00",
        "precipitation": 2,
        "temp_max": 10.6,
        "temp_min": 6.1,
        "weather": "fog",
        "wind": 4.7
       },
       {
        "date": "2015-12-05T00:00:00",
        "precipitation": 15.7,
        "temp_max": 10,
        "temp_min": 6.1,
        "weather": "fog",
        "wind": 4
       },
       {
        "date": "2015-12-06T00:00:00",
        "precipitation": 11.2,
        "temp_max": 12.8,
        "temp_min": 7.2,
        "weather": "fog",
        "wind": 5.9
       },
       {
        "date": "2015-12-07T00:00:00",
        "precipitation": 27.4,
        "temp_max": 11.1,
        "temp_min": 8.3,
        "weather": "fog",
        "wind": 3.4
       },
       {
        "date": "2015-12-08T00:00:00",
        "precipitation": 54.1,
        "temp_max": 15.6,
        "temp_min": 10,
        "weather": "fog",
        "wind": 6.2
       },
       {
        "date": "2015-12-09T00:00:00",
        "precipitation": 13.5,
        "temp_max": 12.2,
        "temp_min": 7.8,
        "weather": "fog",
        "wind": 6.3
       },
       {
        "date": "2015-12-10T00:00:00",
        "precipitation": 9.4,
        "temp_max": 11.7,
        "temp_min": 6.1,
        "weather": "fog",
        "wind": 7.5
       },
       {
        "date": "2015-12-11T00:00:00",
        "precipitation": 0.3,
        "temp_max": 9.4,
        "temp_min": 4.4,
        "weather": "sun",
        "wind": 2.8
       },
       {
        "date": "2015-12-12T00:00:00",
        "precipitation": 16,
        "temp_max": 8.9,
        "temp_min": 5.6,
        "weather": "fog",
        "wind": 5.6
       },
       {
        "date": "2015-12-13T00:00:00",
        "precipitation": 1.3,
        "temp_max": 7.8,
        "temp_min": 6.1,
        "weather": "sun",
        "wind": 6.1
       },
       {
        "date": "2015-12-14T00:00:00",
        "precipitation": 0,
        "temp_max": 7.8,
        "temp_min": 1.7,
        "weather": "sun",
        "wind": 1.7
       },
       {
        "date": "2015-12-15T00:00:00",
        "precipitation": 1.5,
        "temp_max": 6.7,
        "temp_min": 1.1,
        "weather": "fog",
        "wind": 2.9
       },
       {
        "date": "2015-12-16T00:00:00",
        "precipitation": 3.6,
        "temp_max": 6.1,
        "temp_min": 2.8,
        "weather": "fog",
        "wind": 2.3
       },
       {
        "date": "2015-12-17T00:00:00",
        "precipitation": 21.8,
        "temp_max": 6.7,
        "temp_min": 3.9,
        "weather": "fog",
        "wind": 6
       },
       {
        "date": "2015-12-18T00:00:00",
        "precipitation": 18.5,
        "temp_max": 8.9,
        "temp_min": 4.4,
        "weather": "fog",
        "wind": 5.1
       },
       {
        "date": "2015-12-19T00:00:00",
        "precipitation": 0,
        "temp_max": 8.3,
        "temp_min": 2.8,
        "weather": "fog",
        "wind": 4.1
       },
       {
        "date": "2015-12-20T00:00:00",
        "precipitation": 4.3,
        "temp_max": 7.8,
        "temp_min": 4.4,
        "weather": "fog",
        "wind": 6.7
       },
       {
        "date": "2015-12-21T00:00:00",
        "precipitation": 27.4,
        "temp_max": 5.6,
        "temp_min": 2.8,
        "weather": "fog",
        "wind": 4.3
       },
       {
        "date": "2015-12-22T00:00:00",
        "precipitation": 4.6,
        "temp_max": 7.8,
        "temp_min": 2.8,
        "weather": "fog",
        "wind": 5
       },
       {
        "date": "2015-12-23T00:00:00",
        "precipitation": 6.1,
        "temp_max": 5,
        "temp_min": 2.8,
        "weather": "fog",
        "wind": 7.6
       },
       {
        "date": "2015-12-24T00:00:00",
        "precipitation": 2.5,
        "temp_max": 5.6,
        "temp_min": 2.2,
        "weather": "fog",
        "wind": 4.3
       },
       {
        "date": "2015-12-25T00:00:00",
        "precipitation": 5.8,
        "temp_max": 5,
        "temp_min": 2.2,
        "weather": "fog",
        "wind": 1.5
       },
       {
        "date": "2015-12-26T00:00:00",
        "precipitation": 0,
        "temp_max": 4.4,
        "temp_min": 0,
        "weather": "sun",
        "wind": 2.5
       },
       {
        "date": "2015-12-27T00:00:00",
        "precipitation": 8.6,
        "temp_max": 4.4,
        "temp_min": 1.7,
        "weather": "fog",
        "wind": 2.9
       },
       {
        "date": "2015-12-28T00:00:00",
        "precipitation": 1.5,
        "temp_max": 5,
        "temp_min": 1.7,
        "weather": "fog",
        "wind": 1.3
       },
       {
        "date": "2015-12-29T00:00:00",
        "precipitation": 0,
        "temp_max": 7.2,
        "temp_min": 0.6,
        "weather": "fog",
        "wind": 2.6
       },
       {
        "date": "2015-12-30T00:00:00",
        "precipitation": 0,
        "temp_max": 5.6,
        "temp_min": -1,
        "weather": "sun",
        "wind": 3.4
       },
       {
        "date": "2015-12-31T00:00:00",
        "precipitation": 0,
        "temp_max": 5.6,
        "temp_min": -2.1,
        "weather": "sun",
        "wind": 3.5
       }
      ]
     },
     "encoding": {
      "x": {
       "field": "temp_max",
       "type": "quantitative"
      },
      "y": {
       "field": "temp_min",
       "type": "quantitative"
      }
     },
     "mark": {
      "type": "point"
     },
     "name": "sp",
     "params": [
      {
       "name": "b2",
       "select": {
        "type": "interval"
       }
      }
     ]
    },
    "trrack_graph": "ᯡ࠽䈌ʀ匦㢠⹰怶Ǹ΀ᖠ䌡ద〫⟠̠䚝䛀ᣰ䳤ԅ倧ᘂƹ⃐溇〢㎂㞄䨠ዪनᩌ㱥╋⧰㚆懻域Ⴑㄠ㑀ҁ೨ɰ䂠̂ࢆ;䘸ᷤၷ㠌䋰Ð䩒䀡ᱼ䠠洰⨥ᶵ䔩䝦ኂ爂㑬瑴⥇঩䱫䃇∱䥹墤䉴⃋Рை㉒㦹ჩ۔ჼඬਠཆɠ劁ᡉ壸Ნ奀䊰怫ㆡ嬃䑡㢀䡹䶤䈧墦৉ЃⰡ嚳局弘⫀ఈ㉝⺒熈㘨不尪显㎀ԐZ忼繐婝吁i⺏ᇫ䎹䠰੣ᅠ摮ᖩ䊑硦୊䂅⡆ᬡ拑㑮ᚬ⋑ҌὍ䄵ⱴᎪ稸ᾏ䙢棠海䴂昸儸乀䥄⥬㵉䮅㦜僌⪵敪䨳ߙ洖Ꮈ䭄ॾ⍏䆄㥜䃄⢴攪寢ッႰ$ረÎ㡏䀠ᇠ暟喎宙異㷥㗴睕䟌氙İ䎁ॅ⡼ࢊ抑सႬ຃Ȥ䢳Ͱ䱬ʿཱྀ⠲㡭⨹ὃ䗦狨ᠼ¢⎰吺Ẩ惑汎ާ怩䉱ዌ櫕济䎇栬䍬ጭଵ桉䚇ᥣஅ䷆皽ٽ䈠㤼❧䌀夥坻异Რ灉ؠʪ㡴巡甡‰ጘ次矇ങ犅广࿤ì沞ᡂ༪䀰⟦K㹆ⴺ仝嫞ಠ߅剿尲ᣦ䬖㩖墐屯䘗㢏䐒繗堗㢟䘴ᣠ㐩䢢ἠ咜ᴦڄਧ‪䨡炤厢⛤ءኼႥ偰༡䃂Т䅀ᨑ䣘Ү碨䀓Ø᪇幀⬖懬㽦䈌㎯♟怗Ɨh慰倩䡀巂Ӡ㦩ㆌ㷠燲ቩ塨␣纮ɡ䀠ᷡǁࡾ⑤㠥箼兕䓡֢➞㵟篁⁒攜倽剬侠ЊภȎन'☱穄㔫⡖戓纄愥愥ԫ́ˤ䓉⓫┥⟱ⱈ⪀搹ӡɆᛨ斖▁朹書缠ሥ䩥䆡ᰬ䎰秂䑌⨩㝱斶䋍㩍ㄳ䙝⒤ᐬ琔ǖᘭᡈ㜬䱄㑄ౌ㞭⡂㙬ᑊサ剛䜻ƴ榻⥜溬䭢㙈殊㗉♞剕⚥决㛛喱乃噽囋叔Ạ☩⅃撳廖㚵ㄪ✄઺≴⫀坴⊶双㸣ㄉ嵏⠉͐枭ࣁ¸⁔方猠痐䎽刚㭞摙䜩瓘玤䇙宲煽〦狽ழᙝԁ皆孉熘ួថ㞽烓Ⴘ⌳ぬޝ㜢ળ䢛䠢く䠪₿烀牯惁䦈䉊▙⽋ᠦ䲒灸嬂ዡ䪶煼嬠羹ɶ䡊ܫ╚⫫目嶜⌜ࡗ⺄崓匌娪ଅ屠入ᓷȈ䒗䌈崝⼞䱒ứ弖ᜟᾲ憟∯ȁĮ‾弯㪄㵢⁛䦰═䕠䓀䙁璎Ł㲹Ձ┴Վ殗ԁᓟ劁䱭⸑罀ᘥ⹃⺋湋⡰ג䙌樹㓱ᖮ䇌戬珉乄ᐱⳚ㻑姟㿬䨱㕱▦䃍婕㏰ㄍٔ䄿榰㮄椬憡檭ஓٻ⭪㛡䱰  "
   },
   "outputs": [
    {
     "data": {
      "application/vnd.vegalite.v5+json": {
       "$schema": "https://vega.github.io/schema/vega-lite/v5.8.0.json",
       "config": {
        "view": {
         "continuousHeight": 300,
         "continuousWidth": 300
        }
       },
       "data": {
        "name": "data-830c39fec90146253fb06a06c26374ef"
       },
       "datasets": {
        "data-830c39fec90146253fb06a06c26374ef": [
         {
          "date": "2012-01-01T00:00:00",
          "precipitation": 0,
          "temp_max": 12.8,
          "temp_min": 5,
          "weather": "drizzle",
          "wind": 4.7
         },
         {
          "date": "2012-01-02T00:00:00",
          "precipitation": 10.9,
          "temp_max": 10.6,
          "temp_min": 2.8,
          "weather": "rain",
          "wind": 4.5
         },
         {
          "date": "2012-01-03T00:00:00",
          "precipitation": 0.8,
          "temp_max": 11.7,
          "temp_min": 7.2,
          "weather": "rain",
          "wind": 2.3
         },
         {
          "date": "2012-01-04T00:00:00",
          "precipitation": 20.3,
          "temp_max": 12.2,
          "temp_min": 5.6,
          "weather": "rain",
          "wind": 4.7
         },
         {
          "date": "2012-01-05T00:00:00",
          "precipitation": 1.3,
          "temp_max": 8.9,
          "temp_min": 2.8,
          "weather": "rain",
          "wind": 6.1
         },
         {
          "date": "2012-01-06T00:00:00",
          "precipitation": 2.5,
          "temp_max": 4.4,
          "temp_min": 2.2,
          "weather": "rain",
          "wind": 2.2
         },
         {
          "date": "2012-01-07T00:00:00",
          "precipitation": 0,
          "temp_max": 7.2,
          "temp_min": 2.8,
          "weather": "rain",
          "wind": 2.3
         },
         {
          "date": "2012-01-08T00:00:00",
          "precipitation": 0,
          "temp_max": 10,
          "temp_min": 2.8,
          "weather": "sun",
          "wind": 2
         },
         {
          "date": "2012-01-09T00:00:00",
          "precipitation": 4.3,
          "temp_max": 9.4,
          "temp_min": 5,
          "weather": "rain",
          "wind": 3.4
         },
         {
          "date": "2012-01-10T00:00:00",
          "precipitation": 1,
          "temp_max": 6.1,
          "temp_min": 0.6,
          "weather": "rain",
          "wind": 3.4
         },
         {
          "date": "2012-01-11T00:00:00",
          "precipitation": 0,
          "temp_max": 6.1,
          "temp_min": -1.1,
          "weather": "sun",
          "wind": 5.1
         },
         {
          "date": "2012-01-12T00:00:00",
          "precipitation": 0,
          "temp_max": 6.1,
          "temp_min": -1.7,
          "weather": "sun",
          "wind": 1.9
         },
         {
          "date": "2012-01-13T00:00:00",
          "precipitation": 0,
          "temp_max": 5,
          "temp_min": -2.8,
          "weather": "sun",
          "wind": 1.3
         },
         {
          "date": "2012-01-14T00:00:00",
          "precipitation": 4.1,
          "temp_max": 4.4,
          "temp_min": 0.6,
          "weather": "snow",
          "wind": 5.3
         },
         {
          "date": "2012-01-15T00:00:00",
          "precipitation": 5.3,
          "temp_max": 1.1,
          "temp_min": -3.3,
          "weather": "snow",
          "wind": 3.2
         },
         {
          "date": "2012-01-16T00:00:00",
          "precipitation": 2.5,
          "temp_max": 1.7,
          "temp_min": -2.8,
          "weather": "snow",
          "wind": 5
         },
         {
          "date": "2012-01-17T00:00:00",
          "precipitation": 8.1,
          "temp_max": 3.3,
          "temp_min": 0,
          "weather": "snow",
          "wind": 5.6
         },
         {
          "date": "2012-01-18T00:00:00",
          "precipitation": 19.8,
          "temp_max": 0,
          "temp_min": -2.8,
          "weather": "snow",
          "wind": 5
         },
         {
          "date": "2012-01-19T00:00:00",
          "precipitation": 15.2,
          "temp_max": -1.1,
          "temp_min": -2.8,
          "weather": "snow",
          "wind": 1.6
         },
         {
          "date": "2012-01-20T00:00:00",
          "precipitation": 13.5,
          "temp_max": 7.2,
          "temp_min": -1.1,
          "weather": "snow",
          "wind": 2.3
         },
         {
          "date": "2012-01-21T00:00:00",
          "precipitation": 3,
          "temp_max": 8.3,
          "temp_min": 3.3,
          "weather": "rain",
          "wind": 8.2
         },
         {
          "date": "2012-01-22T00:00:00",
          "precipitation": 6.1,
          "temp_max": 6.7,
          "temp_min": 2.2,
          "weather": "rain",
          "wind": 4.8
         },
         {
          "date": "2012-01-23T00:00:00",
          "precipitation": 0,
          "temp_max": 8.3,
          "temp_min": 1.1,
          "weather": "rain",
          "wind": 3.6
         },
         {
          "date": "2012-01-24T00:00:00",
          "precipitation": 8.6,
          "temp_max": 10,
          "temp_min": 2.2,
          "weather": "rain",
          "wind": 5.1
         },
         {
          "date": "2012-01-25T00:00:00",
          "precipitation": 8.1,
          "temp_max": 8.9,
          "temp_min": 4.4,
          "weather": "rain",
          "wind": 5.4
         },
         {
          "date": "2012-01-26T00:00:00",
          "precipitation": 4.8,
          "temp_max": 8.9,
          "temp_min": 1.1,
          "weather": "rain",
          "wind": 4.8
         },
         {
          "date": "2012-01-27T00:00:00",
          "precipitation": 0,
          "temp_max": 6.7,
          "temp_min": -2.2,
          "weather": "drizzle",
          "wind": 1.4
         },
         {
          "date": "2012-01-28T00:00:00",
          "precipitation": 0,
          "temp_max": 6.7,
          "temp_min": 0.6,
          "weather": "rain",
          "wind": 2.2
         },
         {
          "date": "2012-01-29T00:00:00",
          "precipitation": 27.7,
          "temp_max": 9.4,
          "temp_min": 3.9,
          "weather": "rain",
          "wind": 4.5
         },
         {
          "date": "2012-01-30T00:00:00",
          "precipitation": 3.6,
          "temp_max": 8.3,
          "temp_min": 6.1,
          "weather": "rain",
          "wind": 5.1
         },
         {
          "date": "2012-01-31T00:00:00",
          "precipitation": 1.8,
          "temp_max": 9.4,
          "temp_min": 6.1,
          "weather": "rain",
          "wind": 3.9
         },
         {
          "date": "2012-02-01T00:00:00",
          "precipitation": 13.5,
          "temp_max": 8.9,
          "temp_min": 3.3,
          "weather": "rain",
          "wind": 2.7
         },
         {
          "date": "2012-02-02T00:00:00",
          "precipitation": 0,
          "temp_max": 8.3,
          "temp_min": 1.7,
          "weather": "sun",
          "wind": 2.6
         },
         {
          "date": "2012-02-03T00:00:00",
          "precipitation": 0,
          "temp_max": 14.4,
          "temp_min": 2.2,
          "weather": "sun",
          "wind": 5.3
         },
         {
          "date": "2012-02-04T00:00:00",
          "precipitation": 0,
          "temp_max": 15.6,
          "temp_min": 5,
          "weather": "sun",
          "wind": 4.3
         },
         {
          "date": "2012-02-05T00:00:00",
          "precipitation": 0,
          "temp_max": 13.9,
          "temp_min": 1.7,
          "weather": "sun",
          "wind": 2.9
         },
         {
          "date": "2012-02-06T00:00:00",
          "precipitation": 0,
          "temp_max": 16.1,
          "temp_min": 1.7,
          "weather": "sun",
          "wind": 5
         },
         {
          "date": "2012-02-07T00:00:00",
          "precipitation": 0.3,
          "temp_max": 15.6,
          "temp_min": 7.8,
          "weather": "rain",
          "wind": 5.3
         },
         {
          "date": "2012-02-08T00:00:00",
          "precipitation": 2.8,
          "temp_max": 10,
          "temp_min": 5,
          "weather": "rain",
          "wind": 2.7
         },
         {
          "date": "2012-02-09T00:00:00",
          "precipitation": 2.5,
          "temp_max": 11.1,
          "temp_min": 7.8,
          "weather": "rain",
          "wind": 2.4
         },
         {
          "date": "2012-02-10T00:00:00",
          "precipitation": 2.5,
          "temp_max": 12.8,
          "temp_min": 6.7,
          "weather": "rain",
          "wind": 3
         },
         {
          "date": "2012-02-11T00:00:00",
          "precipitation": 0.8,
          "temp_max": 8.9,
          "temp_min": 5.6,
          "weather": "rain",
          "wind": 3.4
         },
         {
          "date": "2012-02-12T00:00:00",
          "precipitation": 1,
          "temp_max": 8.3,
          "temp_min": 5,
          "weather": "rain",
          "wind": 1.3
         },
         {
          "date": "2012-02-13T00:00:00",
          "precipitation": 11.4,
          "temp_max": 7.2,
          "temp_min": 4.4,
          "weather": "rain",
          "wind": 1.4
         },
         {
          "date": "2012-02-14T00:00:00",
          "precipitation": 2.5,
          "temp_max": 6.7,
          "temp_min": 1.1,
          "weather": "rain",
          "wind": 3.1
         },
         {
          "date": "2012-02-15T00:00:00",
          "precipitation": 0,
          "temp_max": 7.2,
          "temp_min": 0.6,
          "weather": "drizzle",
          "wind": 1.8
         },
         {
          "date": "2012-02-16T00:00:00",
          "precipitation": 1.8,
          "temp_max": 7.2,
          "temp_min": 3.3,
          "weather": "rain",
          "wind": 2.1
         },
         {
          "date": "2012-02-17T00:00:00",
          "precipitation": 17.3,
          "temp_max": 10,
          "temp_min": 4.4,
          "weather": "rain",
          "wind": 3.4
         },
         {
          "date": "2012-02-18T00:00:00",
          "precipitation": 6.4,
          "temp_max": 6.7,
          "temp_min": 3.9,
          "weather": "rain",
          "wind": 8.1
         },
         {
          "date": "2012-02-19T00:00:00",
          "precipitation": 0,
          "temp_max": 6.7,
          "temp_min": 2.2,
          "weather": "sun",
          "wind": 4.7
         },
         {
          "date": "2012-02-20T00:00:00",
          "precipitation": 3,
          "temp_max": 7.8,
          "temp_min": 1.7,
          "weather": "rain",
          "wind": 2.9
         },
         {
          "date": "2012-02-21T00:00:00",
          "precipitation": 0.8,
          "temp_max": 10,
          "temp_min": 7.8,
          "weather": "rain",
          "wind": 7.5
         },
         {
          "date": "2012-02-22T00:00:00",
          "precipitation": 8.6,
          "temp_max": 10,
          "temp_min": 2.8,
          "weather": "rain",
          "wind": 5.9
         },
         {
          "date": "2012-02-23T00:00:00",
          "precipitation": 0,
          "temp_max": 8.3,
          "temp_min": 2.8,
          "weather": "sun",
          "wind": 3.9
         },
         {
          "date": "2012-02-24T00:00:00",
          "precipitation": 11.4,
          "temp_max": 6.7,
          "temp_min": 4.4,
          "weather": "rain",
          "wind": 3.5
         },
         {
          "date": "2012-02-25T00:00:00",
          "precipitation": 0,
          "temp_max": 7.2,
          "temp_min": 2.8,
          "weather": "rain",
          "wind": 6.4
         },
         {
          "date": "2012-02-26T00:00:00",
          "precipitation": 1.3,
          "temp_max": 5,
          "temp_min": -1.1,
          "weather": "snow",
          "wind": 3.4
         },
         {
          "date": "2012-02-27T00:00:00",
          "precipitation": 0,
          "temp_max": 6.7,
          "temp_min": -2.2,
          "weather": "sun",
          "wind": 3
         },
         {
          "date": "2012-02-28T00:00:00",
          "precipitation": 3.6,
          "temp_max": 6.7,
          "temp_min": -0.6,
          "weather": "snow",
          "wind": 4.2
         },
         {
          "date": "2012-02-29T00:00:00",
          "precipitation": 0.8,
          "temp_max": 5,
          "temp_min": 1.1,
          "weather": "snow",
          "wind": 7
         },
         {
          "date": "2012-03-01T00:00:00",
          "precipitation": 0,
          "temp_max": 6.1,
          "temp_min": 1.1,
          "weather": "sun",
          "wind": 3.1
         },
         {
          "date": "2012-03-02T00:00:00",
          "precipitation": 2,
          "temp_max": 6.7,
          "temp_min": 3.9,
          "weather": "rain",
          "wind": 5.1
         },
         {
          "date": "2012-03-03T00:00:00",
          "precipitation": 0,
          "temp_max": 12.2,
          "temp_min": 6.7,
          "weather": "sun",
          "wind": 7
         },
         {
          "date": "2012-03-04T00:00:00",
          "precipitation": 0,
          "temp_max": 10.6,
          "temp_min": 6.7,
          "weather": "rain",
          "wind": 5.6
         },
         {
          "date": "2012-03-05T00:00:00",
          "precipitation": 6.9,
          "temp_max": 7.8,
          "temp_min": 1.1,
          "weather": "rain",
          "wind": 6.2
         },
         {
          "date": "2012-03-06T00:00:00",
          "precipitation": 0.5,
          "temp_max": 6.7,
          "temp_min": 0,
          "weather": "snow",
          "wind": 2.7
         },
         {
          "date": "2012-03-07T00:00:00",
          "precipitation": 0,
          "temp_max": 8.9,
          "temp_min": -1.7,
          "weather": "sun",
          "wind": 2.7
         },
         {
          "date": "2012-03-08T00:00:00",
          "precipitation": 0,
          "temp_max": 15.6,
          "temp_min": 0.6,
          "weather": "sun",
          "wind": 2.5
         },
         {
          "date": "2012-03-09T00:00:00",
          "precipitation": 3.6,
          "temp_max": 9.4,
          "temp_min": 5,
          "weather": "rain",
          "wind": 2.8
         },
         {
          "date": "2012-03-10T00:00:00",
          "precipitation": 10.4,
          "temp_max": 7.2,
          "temp_min": 6.1,
          "weather": "rain",
          "wind": 3.4
         },
         {
          "date": "2012-03-11T00:00:00",
          "precipitation": 13.7,
          "temp_max": 6.7,
          "temp_min": 2.8,
          "weather": "rain",
          "wind": 5.8
         },
         {
          "date": "2012-03-12T00:00:00",
          "precipitation": 19.3,
          "temp_max": 8.3,
          "temp_min": 0.6,
          "weather": "snow",
          "wind": 6.2
         },
         {
          "date": "2012-03-13T00:00:00",
          "precipitation": 9.4,
          "temp_max": 5.6,
          "temp_min": 0.6,
          "weather": "snow",
          "wind": 5.3
         },
         {
          "date": "2012-03-14T00:00:00",
          "precipitation": 8.6,
          "temp_max": 7.8,
          "temp_min": 1.1,
          "weather": "rain",
          "wind": 4.7
         },
         {
          "date": "2012-03-15T00:00:00",
          "precipitation": 23.9,
          "temp_max": 11.1,
          "temp_min": 5.6,
          "weather": "snow",
          "wind": 5.8
         },
         {
          "date": "2012-03-16T00:00:00",
          "precipitation": 8.4,
          "temp_max": 8.9,
          "temp_min": 3.9,
          "weather": "rain",
          "wind": 5.1
         },
         {
          "date": "2012-03-17T00:00:00",
          "precipitation": 9.4,
          "temp_max": 10,
          "temp_min": 0.6,
          "weather": "snow",
          "wind": 3.8
         },
         {
          "date": "2012-03-18T00:00:00",
          "precipitation": 3.6,
          "temp_max": 5,
          "temp_min": -0.6,
          "weather": "rain",
          "wind": 2.7
         },
         {
          "date": "2012-03-19T00:00:00",
          "precipitation": 2,
          "temp_max": 7.2,
          "temp_min": -1.1,
          "weather": "rain",
          "wind": 3
         },
         {
          "date": "2012-03-20T00:00:00",
          "precipitation": 3.6,
          "temp_max": 7.8,
          "temp_min": 2.2,
          "weather": "rain",
          "wind": 6.4
         },
         {
          "date": "2012-03-21T00:00:00",
          "precipitation": 1.3,
          "temp_max": 8.9,
          "temp_min": 1.1,
          "weather": "rain",
          "wind": 2.5
         },
         {
          "date": "2012-03-22T00:00:00",
          "precipitation": 4.1,
          "temp_max": 10,
          "temp_min": 1.7,
          "weather": "rain",
          "wind": 2.1
         },
         {
          "date": "2012-03-23T00:00:00",
          "precipitation": 0,
          "temp_max": 12.2,
          "temp_min": 0.6,
          "weather": "sun",
          "wind": 2.8
         },
         {
          "date": "2012-03-24T00:00:00",
          "precipitation": 0,
          "temp_max": 15,
          "temp_min": 3.3,
          "weather": "sun",
          "wind": 5.2
         },
         {
          "date": "2012-03-25T00:00:00",
          "precipitation": 0,
          "temp_max": 13.3,
          "temp_min": 2.2,
          "weather": "rain",
          "wind": 2.7
         },
         {
          "date": "2012-03-26T00:00:00",
          "precipitation": 0,
          "temp_max": 12.8,
          "temp_min": 6.1,
          "weather": "drizzle",
          "wind": 4.3
         },
         {
          "date": "2012-03-27T00:00:00",
          "precipitation": 4.8,
          "temp_max": 14.4,
          "temp_min": 6.7,
          "weather": "rain",
          "wind": 3.8
         },
         {
          "date": "2012-03-28T00:00:00",
          "precipitation": 1.3,
          "temp_max": 10.6,
          "temp_min": 7.2,
          "weather": "rain",
          "wind": 5.9
         },
         {
          "date": "2012-03-29T00:00:00",
          "precipitation": 27.4,
          "temp_max": 10,
          "temp_min": 6.1,
          "weather": "rain",
          "wind": 4.4
         },
         {
          "date": "2012-03-30T00:00:00",
          "precipitation": 5.6,
          "temp_max": 9.4,
          "temp_min": 5,
          "weather": "rain",
          "wind": 4.7
         },
         {
          "date": "2012-03-31T00:00:00",
          "precipitation": 13.2,
          "temp_max": 10,
          "temp_min": 2.8,
          "weather": "rain",
          "wind": 3.4
         },
         {
          "date": "2012-04-01T00:00:00",
          "precipitation": 1.5,
          "temp_max": 8.9,
          "temp_min": 4.4,
          "weather": "rain",
          "wind": 6.8
         },
         {
          "date": "2012-04-02T00:00:00",
          "precipitation": 0,
          "temp_max": 16.7,
          "temp_min": 4.4,
          "weather": "sun",
          "wind": 3.1
         },
         {
          "date": "2012-04-03T00:00:00",
          "precipitation": 1.5,
          "temp_max": 11.7,
          "temp_min": 3.3,
          "weather": "rain",
          "wind": 3.1
         },
         {
          "date": "2012-04-04T00:00:00",
          "precipitation": 0,
          "temp_max": 10.6,
          "temp_min": 2.8,
          "weather": "sun",
          "wind": 2.1
         },
         {
          "date": "2012-04-05T00:00:00",
          "precipitation": 4.6,
          "temp_max": 9.4,
          "temp_min": 2.8,
          "weather": "snow",
          "wind": 1.8
         },
         {
          "date": "2012-04-06T00:00:00",
          "precipitation": 0.3,
          "temp_max": 11.1,
          "temp_min": 3.3,
          "weather": "rain",
          "wind": 2.6
         },
         {
          "date": "2012-04-07T00:00:00",
          "precipitation": 0,
          "temp_max": 16.1,
          "temp_min": 1.7,
          "weather": "sun",
          "wind": 4.3
         },
         {
          "date": "2012-04-08T00:00:00",
          "precipitation": 0,
          "temp_max": 21.1,
          "temp_min": 7.2,
          "weather": "sun",
          "wind": 4.1
         },
         {
          "date": "2012-04-09T00:00:00",
          "precipitation": 0,
          "temp_max": 20,
          "temp_min": 6.1,
          "weather": "sun",
          "wind": 2.1
         },
         {
          "date": "2012-04-10T00:00:00",
          "precipitation": 0,
          "temp_max": 17.8,
          "temp_min": 8.9,
          "weather": "rain",
          "wind": 3.2
         },
         {
          "date": "2012-04-11T00:00:00",
          "precipitation": 2.3,
          "temp_max": 11.1,
          "temp_min": 7.2,
          "weather": "rain",
          "wind": 2.6
         },
         {
          "date": "2012-04-12T00:00:00",
          "precipitation": 0.5,
          "temp_max": 13.9,
          "temp_min": 5.6,
          "weather": "rain",
          "wind": 2.6
         },
         {
          "date": "2012-04-13T00:00:00",
          "precipitation": 0,
          "temp_max": 15,
          "temp_min": 3.9,
          "weather": "drizzle",
          "wind": 4
         },
         {
          "date": "2012-04-14T00:00:00",
          "precipitation": 0,
          "temp_max": 15.6,
          "temp_min": 3.3,
          "weather": "sun",
          "wind": 3
         },
         {
          "date": "2012-04-15T00:00:00",
          "precipitation": 0,
          "temp_max": 16.1,
          "temp_min": 7.2,
          "weather": "rain",
          "wind": 2.9
         },
         {
          "date": "2012-04-16T00:00:00",
          "precipitation": 8.1,
          "temp_max": 13.3,
          "temp_min": 6.7,
          "weather": "rain",
          "wind": 5.8
         },
         {
          "date": "2012-04-17T00:00:00",
          "precipitation": 1.8,
          "temp_max": 10,
          "temp_min": 4.4,
          "weather": "rain",
          "wind": 2
         },
         {
          "date": "2012-04-18T00:00:00",
          "precipitation": 1.8,
          "temp_max": 13.3,
          "temp_min": 7.2,
          "weather": "rain",
          "wind": 3.9
         },
         {
          "date": "2012-04-19T00:00:00",
          "precipitation": 10.9,
          "temp_max": 13.9,
          "temp_min": 5,
          "weather": "rain",
          "wind": 2.6
         },
         {
          "date": "2012-04-20T00:00:00",
          "precipitation": 6.6,
          "temp_max": 13.3,
          "temp_min": 6.7,
          "weather": "rain",
          "wind": 2.7
         },
         {
          "date": "2012-04-21T00:00:00",
          "precipitation": 0,
          "temp_max": 20,
          "temp_min": 4.4,
          "weather": "sun",
          "wind": 2.3
         },
         {
          "date": "2012-04-22T00:00:00",
          "precipitation": 0,
          "temp_max": 23.3,
          "temp_min": 8.3,
          "weather": "rain",
          "wind": 2.6
         },
         {
          "date": "2012-04-23T00:00:00",
          "precipitation": 0,
          "temp_max": 21.7,
          "temp_min": 8.9,
          "weather": "sun",
          "wind": 3.5
         },
         {
          "date": "2012-04-24T00:00:00",
          "precipitation": 4.3,
          "temp_max": 13.9,
          "temp_min": 10,
          "weather": "rain",
          "wind": 2.8
         },
         {
          "date": "2012-04-25T00:00:00",
          "precipitation": 10.7,
          "temp_max": 16.7,
          "temp_min": 8.9,
          "weather": "rain",
          "wind": 2.6
         },
         {
          "date": "2012-04-26T00:00:00",
          "precipitation": 3.8,
          "temp_max": 13.9,
          "temp_min": 6.7,
          "weather": "rain",
          "wind": 5.2
         },
         {
          "date": "2012-04-27T00:00:00",
          "precipitation": 0.8,
          "temp_max": 13.3,
          "temp_min": 6.1,
          "weather": "rain",
          "wind": 4.8
         },
         {
          "date": "2012-04-28T00:00:00",
          "precipitation": 0,
          "temp_max": 16.1,
          "temp_min": 8.3,
          "weather": "drizzle",
          "wind": 2.5
         },
         {
          "date": "2012-04-29T00:00:00",
          "precipitation": 4.3,
          "temp_max": 15.6,
          "temp_min": 8.9,
          "weather": "rain",
          "wind": 1.6
         },
         {
          "date": "2012-04-30T00:00:00",
          "precipitation": 4.3,
          "temp_max": 12.8,
          "temp_min": 7.2,
          "weather": "rain",
          "wind": 8
         },
         {
          "date": "2012-05-01T00:00:00",
          "precipitation": 0.5,
          "temp_max": 11.7,
          "temp_min": 6.1,
          "weather": "rain",
          "wind": 6.4
         },
         {
          "date": "2012-05-02T00:00:00",
          "precipitation": 0.5,
          "temp_max": 13.3,
          "temp_min": 5.6,
          "weather": "rain",
          "wind": 2.5
         },
         {
          "date": "2012-05-03T00:00:00",
          "precipitation": 18.5,
          "temp_max": 11.1,
          "temp_min": 7.2,
          "weather": "rain",
          "wind": 3.4
         },
         {
          "date": "2012-05-04T00:00:00",
          "precipitation": 1.8,
          "temp_max": 12.2,
          "temp_min": 6.1,
          "weather": "rain",
          "wind": 4.6
         },
         {
          "date": "2012-05-05T00:00:00",
          "precipitation": 0,
          "temp_max": 13.3,
          "temp_min": 5,
          "weather": "sun",
          "wind": 2.3
         },
         {
          "date": "2012-05-06T00:00:00",
          "precipitation": 0,
          "temp_max": 17.8,
          "temp_min": 5,
          "weather": "sun",
          "wind": 2.4
         },
         {
          "date": "2012-05-07T00:00:00",
          "precipitation": 0,
          "temp_max": 23.9,
          "temp_min": 6.1,
          "weather": "sun",
          "wind": 2.2
         },
         {
          "date": "2012-05-08T00:00:00",
          "precipitation": 0,
          "temp_max": 18.3,
          "temp_min": 9.4,
          "weather": "sun",
          "wind": 3
         },
         {
          "date": "2012-05-09T00:00:00",
          "precipitation": 0,
          "temp_max": 13.3,
          "temp_min": 6.7,
          "weather": "rain",
          "wind": 3.9
         },
         {
          "date": "2012-05-10T00:00:00",
          "precipitation": 0,
          "temp_max": 14.4,
          "temp_min": 3.9,
          "weather": "sun",
          "wind": 3
         },
         {
          "date": "2012-05-11T00:00:00",
          "precipitation": 0,
          "temp_max": 18.3,
          "temp_min": 4.4,
          "weather": "sun",
          "wind": 4.3
         },
         {
          "date": "2012-05-12T00:00:00",
          "precipitation": 0,
          "temp_max": 24.4,
          "temp_min": 6.7,
          "weather": "sun",
          "wind": 3.4
         },
         {
          "date": "2012-05-13T00:00:00",
          "precipitation": 0,
          "temp_max": 25.6,
          "temp_min": 9.4,
          "weather": "sun",
          "wind": 4.2
         },
         {
          "date": "2012-05-14T00:00:00",
          "precipitation": 0,
          "temp_max": 26.7,
          "temp_min": 12.8,
          "weather": "sun",
          "wind": 3.8
         },
         {
          "date": "2012-05-15T00:00:00",
          "precipitation": 0,
          "temp_max": 24.4,
          "temp_min": 9.4,
          "weather": "drizzle",
          "wind": 4.1
         },
         {
          "date": "2012-05-16T00:00:00",
          "precipitation": 0,
          "temp_max": 19.4,
          "temp_min": 9.4,
          "weather": "sun",
          "wind": 3.5
         },
         {
          "date": "2012-05-17T00:00:00",
          "precipitation": 0,
          "temp_max": 17.8,
          "temp_min": 6.7,
          "weather": "rain",
          "wind": 2.9
         },
         {
          "date": "2012-05-18T00:00:00",
          "precipitation": 0,
          "temp_max": 15.6,
          "temp_min": 7.8,
          "weather": "rain",
          "wind": 3.1
         },
         {
          "date": "2012-05-19T00:00:00",
          "precipitation": 0,
          "temp_max": 19.4,
          "temp_min": 7.2,
          "weather": "sun",
          "wind": 1.5
         },
         {
          "date": "2012-05-20T00:00:00",
          "precipitation": 6.4,
          "temp_max": 14.4,
          "temp_min": 11.7,
          "weather": "rain",
          "wind": 1.3
         },
         {
          "date": "2012-05-21T00:00:00",
          "precipitation": 14,
          "temp_max": 16.7,
          "temp_min": 10,
          "weather": "rain",
          "wind": 4
         },
         {
          "date": "2012-05-22T00:00:00",
          "precipitation": 6.1,
          "temp_max": 12.8,
          "temp_min": 8.9,
          "weather": "rain",
          "wind": 4.8
         },
         {
          "date": "2012-05-23T00:00:00",
          "precipitation": 0.3,
          "temp_max": 14.4,
          "temp_min": 8.9,
          "weather": "rain",
          "wind": 6.3
         },
         {
          "date": "2012-05-24T00:00:00",
          "precipitation": 0,
          "temp_max": 17.2,
          "temp_min": 8.9,
          "weather": "rain",
          "wind": 3.3
         },
         {
          "date": "2012-05-25T00:00:00",
          "precipitation": 0,
          "temp_max": 22.2,
          "temp_min": 8.9,
          "weather": "rain",
          "wind": 3.1
         },
         {
          "date": "2012-05-26T00:00:00",
          "precipitation": 0,
          "temp_max": 22.2,
          "temp_min": 8.9,
          "weather": "sun",
          "wind": 3.6
         },
         {
          "date": "2012-05-27T00:00:00",
          "precipitation": 0,
          "temp_max": 17.2,
          "temp_min": 11.7,
          "weather": "sun",
          "wind": 3.7
         },
         {
          "date": "2012-05-28T00:00:00",
          "precipitation": 0,
          "temp_max": 16.7,
          "temp_min": 10,
          "weather": "rain",
          "wind": 3.4
         },
         {
          "date": "2012-05-29T00:00:00",
          "precipitation": 0,
          "temp_max": 16.1,
          "temp_min": 7.8,
          "weather": "sun",
          "wind": 1.8
         },
         {
          "date": "2012-05-30T00:00:00",
          "precipitation": 0.3,
          "temp_max": 18.9,
          "temp_min": 11.1,
          "weather": "rain",
          "wind": 1.5
         },
         {
          "date": "2012-05-31T00:00:00",
          "precipitation": 3.8,
          "temp_max": 17.8,
          "temp_min": 12.2,
          "weather": "rain",
          "wind": 2.7
         },
         {
          "date": "2012-06-01T00:00:00",
          "precipitation": 6.6,
          "temp_max": 20,
          "temp_min": 12.8,
          "weather": "rain",
          "wind": 3.7
         },
         {
          "date": "2012-06-02T00:00:00",
          "precipitation": 0.3,
          "temp_max": 18.9,
          "temp_min": 10.6,
          "weather": "rain",
          "wind": 3.7
         },
         {
          "date": "2012-06-03T00:00:00",
          "precipitation": 0,
          "temp_max": 17.2,
          "temp_min": 9.4,
          "weather": "sun",
          "wind": 2.9
         },
         {
          "date": "2012-06-04T00:00:00",
          "precipitation": 1.3,
          "temp_max": 12.8,
          "temp_min": 8.9,
          "weather": "rain",
          "wind": 3.1
         },
         {
          "date": "2012-06-05T00:00:00",
          "precipitation": 16,
          "temp_max": 13.3,
          "temp_min": 8.3,
          "weather": "rain",
          "wind": 3.3
         },
         {
          "date": "2012-06-06T00:00:00",
          "precipitation": 0,
          "temp_max": 16.1,
          "temp_min": 6.1,
          "weather": "sun",
          "wind": 3.4
         },
         {
          "date": "2012-06-07T00:00:00",
          "precipitation": 16.5,
          "temp_max": 16.1,
          "temp_min": 8.9,
          "weather": "rain",
          "wind": 3.5
         },
         {
          "date": "2012-06-08T00:00:00",
          "precipitation": 1.5,
          "temp_max": 15,
          "temp_min": 8.3,
          "weather": "rain",
          "wind": 3
         },
         {
          "date": "2012-06-09T00:00:00",
          "precipitation": 0,
          "temp_max": 17.2,
          "temp_min": 8.3,
          "weather": "rain",
          "wind": 4.7
         },
         {
          "date": "2012-06-10T00:00:00",
          "precipitation": 0,
          "temp_max": 18.9,
          "temp_min": 10,
          "weather": "sun",
          "wind": 2.9
         },
         {
          "date": "2012-06-11T00:00:00",
          "precipitation": 0,
          "temp_max": 23.3,
          "temp_min": 10,
          "weather": "rain",
          "wind": 1.8
         },
         {
          "date": "2012-06-12T00:00:00",
          "precipitation": 0.8,
          "temp_max": 18.3,
          "temp_min": 12.8,
          "weather": "rain",
          "wind": 3.9
         },
         {
          "date": "2012-06-13T00:00:00",
          "precipitation": 0,
          "temp_max": 16.1,
          "temp_min": 11.1,
          "weather": "sun",
          "wind": 4.3
         },
         {
          "date": "2012-06-14T00:00:00",
          "precipitation": 0,
          "temp_max": 17.2,
          "temp_min": 10,
          "weather": "sun",
          "wind": 2.7
         },
         {
          "date": "2012-06-15T00:00:00",
          "precipitation": 0,
          "temp_max": 22.2,
          "temp_min": 9.4,
          "weather": "sun",
          "wind": 1.7
         },
         {
          "date": "2012-06-16T00:00:00",
          "precipitation": 0,
          "temp_max": 21.1,
          "temp_min": 15,
          "weather": "rain",
          "wind": 4.1
         },
         {
          "date": "2012-06-17T00:00:00",
          "precipitation": 0,
          "temp_max": 18.9,
          "temp_min": 11.7,
          "weather": "sun",
          "wind": 6.4
         },
         {
          "date": "2012-06-18T00:00:00",
          "precipitation": 3,
          "temp_max": 17.2,
          "temp_min": 10,
          "weather": "rain",
          "wind": 3.8
         },
         {
          "date": "2012-06-19T00:00:00",
          "precipitation": 1,
          "temp_max": 19.4,
          "temp_min": 10,
          "weather": "rain",
          "wind": 3
         },
         {
          "date": "2012-06-20T00:00:00",
          "precipitation": 0,
          "temp_max": 24.4,
          "temp_min": 10,
          "weather": "sun",
          "wind": 3
         },
         {
          "date": "2012-06-21T00:00:00",
          "precipitation": 0,
          "temp_max": 23.9,
          "temp_min": 11.7,
          "weather": "sun",
          "wind": 2.1
         },
         {
          "date": "2012-06-22T00:00:00",
          "precipitation": 15.7,
          "temp_max": 13.9,
          "temp_min": 11.7,
          "weather": "rain",
          "wind": 1.9
         },
         {
          "date": "2012-06-23T00:00:00",
          "precipitation": 8.6,
          "temp_max": 15.6,
          "temp_min": 9.4,
          "weather": "rain",
          "wind": 2.5
         },
         {
          "date": "2012-06-24T00:00:00",
          "precipitation": 0,
          "temp_max": 19.4,
          "temp_min": 9.4,
          "weather": "drizzle",
          "wind": 2
         },
         {
          "date": "2012-06-25T00:00:00",
          "precipitation": 0.5,
          "temp_max": 19.4,
          "temp_min": 11.1,
          "weather": "rain",
          "wind": 3.1
         },
         {
          "date": "2012-06-26T00:00:00",
          "precipitation": 0,
          "temp_max": 18.3,
          "temp_min": 10.6,
          "weather": "rain",
          "wind": 3.4
         },
         {
          "date": "2012-06-27T00:00:00",
          "precipitation": 0,
          "temp_max": 22.8,
          "temp_min": 8.9,
          "weather": "sun",
          "wind": 1.8
         },
         {
          "date": "2012-06-28T00:00:00",
          "precipitation": 0,
          "temp_max": 22.2,
          "temp_min": 11.7,
          "weather": "rain",
          "wind": 2.5
         },
         {
          "date": "2012-06-29T00:00:00",
          "precipitation": 0.3,
          "temp_max": 21.7,
          "temp_min": 15,
          "weather": "rain",
          "wind": 1.9
         },
         {
          "date": "2012-06-30T00:00:00",
          "precipitation": 3,
          "temp_max": 20,
          "temp_min": 13.3,
          "weather": "rain",
          "wind": 2.4
         },
         {
          "date": "2012-07-01T00:00:00",
          "precipitation": 0,
          "temp_max": 20,
          "temp_min": 12.2,
          "weather": "rain",
          "wind": 2.3
         },
         {
          "date": "2012-07-02T00:00:00",
          "precipitation": 2,
          "temp_max": 18.9,
          "temp_min": 11.7,
          "weather": "rain",
          "wind": 2.1
         },
         {
          "date": "2012-07-03T00:00:00",
          "precipitation": 5.8,
          "temp_max": 18.3,
          "temp_min": 10.6,
          "weather": "rain",
          "wind": 6
         },
         {
          "date": "2012-07-04T00:00:00",
          "precipitation": 0,
          "temp_max": 20.6,
          "temp_min": 9.4,
          "weather": "sun",
          "wind": 3.8
         },
         {
          "date": "2012-07-05T00:00:00",
          "precipitation": 0,
          "temp_max": 24.4,
          "temp_min": 10.6,
          "weather": "drizzle",
          "wind": 3.1
         },
         {
          "date": "2012-07-06T00:00:00",
          "precipitation": 0,
          "temp_max": 25,
          "temp_min": 11.1,
          "weather": "sun",
          "wind": 2.1
         },
         {
          "date": "2012-07-07T00:00:00",
          "precipitation": 0,
          "temp_max": 26.7,
          "temp_min": 12.8,
          "weather": "sun",
          "wind": 3.8
         },
         {
          "date": "2012-07-08T00:00:00",
          "precipitation": 0,
          "temp_max": 28.3,
          "temp_min": 14.4,
          "weather": "rain",
          "wind": 2.8
         },
         {
          "date": "2012-07-09T00:00:00",
          "precipitation": 1.5,
          "temp_max": 25,
          "temp_min": 12.8,
          "weather": "rain",
          "wind": 2
         },
         {
          "date": "2012-07-10T00:00:00",
          "precipitation": 0,
          "temp_max": 23.9,
          "temp_min": 11.1,
          "weather": "drizzle",
          "wind": 2.3
         },
         {
          "date": "2012-07-11T00:00:00",
          "precipitation": 0,
          "temp_max": 27.8,
          "temp_min": 13.3,
          "weather": "fog",
          "wind": 2.9
         },
         {
          "date": "2012-07-12T00:00:00",
          "precipitation": 0,
          "temp_max": 25.6,
          "temp_min": 13.3,
          "weather": "drizzle",
          "wind": 2.7
         },
         {
          "date": "2012-07-13T00:00:00",
          "precipitation": 0.5,
          "temp_max": 23.3,
          "temp_min": 13.9,
          "weather": "rain",
          "wind": 2.2
         },
         {
          "date": "2012-07-14T00:00:00",
          "precipitation": 0,
          "temp_max": 25,
          "temp_min": 15,
          "weather": "rain",
          "wind": 2.2
         },
         {
          "date": "2012-07-15T00:00:00",
          "precipitation": 0,
          "temp_max": 18.9,
          "temp_min": 13.3,
          "weather": "rain",
          "wind": 3.8
         },
         {
          "date": "2012-07-16T00:00:00",
          "precipitation": 0.3,
          "temp_max": 26.1,
          "temp_min": 13.3,
          "weather": "rain",
          "wind": 2.5
         },
         {
          "date": "2012-07-17T00:00:00",
          "precipitation": 0,
          "temp_max": 21.7,
          "temp_min": 15,
          "weather": "sun",
          "wind": 2.6
         },
         {
          "date": "2012-07-18T00:00:00",
          "precipitation": 0,
          "temp_max": 21.1,
          "temp_min": 14.4,
          "weather": "sun",
          "wind": 2.9
         },
         {
          "date": "2012-07-19T00:00:00",
          "precipitation": 0,
          "temp_max": 25,
          "temp_min": 14.4,
          "weather": "sun",
          "wind": 2.2
         },
         {
          "date": "2012-07-20T00:00:00",
          "precipitation": 15.2,
          "temp_max": 19.4,
          "temp_min": 13.9,
          "weather": "rain",
          "wind": 4
         },
         {
          "date": "2012-07-21T00:00:00",
          "precipitation": 0,
          "temp_max": 23.9,
          "temp_min": 13.9,
          "weather": "sun",
          "wind": 2.3
         },
         {
          "date": "2012-07-22T00:00:00",
          "precipitation": 1,
          "temp_max": 20.6,
          "temp_min": 12.2,
          "weather": "rain",
          "wind": 3.9
         },
         {
          "date": "2012-07-23T00:00:00",
          "precipitation": 0,
          "temp_max": 18.9,
          "temp_min": 11.1,
          "weather": "rain",
          "wind": 3.3
         },
         {
          "date": "2012-07-24T00:00:00",
          "precipitation": 0,
          "temp_max": 23.3,
          "temp_min": 12.2,
          "weather": "sun",
          "wind": 4.3
         },
         {
          "date": "2012-07-25T00:00:00",
          "precipitation": 0,
          "temp_max": 26.7,
          "temp_min": 12.8,
          "weather": "sun",
          "wind": 2.6
         },
         {
          "date": "2012-07-26T00:00:00",
          "precipitation": 0,
          "temp_max": 25.6,
          "temp_min": 12.8,
          "weather": "drizzle",
          "wind": 2.2
         },
         {
          "date": "2012-07-27T00:00:00",
          "precipitation": 0,
          "temp_max": 18.9,
          "temp_min": 13.9,
          "weather": "drizzle",
          "wind": 2.8
         },
         {
          "date": "2012-07-28T00:00:00",
          "precipitation": 0,
          "temp_max": 22.2,
          "temp_min": 13.3,
          "weather": "drizzle",
          "wind": 1.7
         },
         {
          "date": "2012-07-29T00:00:00",
          "precipitation": 0,
          "temp_max": 22.8,
          "temp_min": 15,
          "weather": "sun",
          "wind": 2
         },
         {
          "date": "2012-07-30T00:00:00",
          "precipitation": 0,
          "temp_max": 19.4,
          "temp_min": 13.3,
          "weather": "sun",
          "wind": 3
         },
         {
          "date": "2012-07-31T00:00:00",
          "precipitation": 0,
          "temp_max": 22.8,
          "temp_min": 13.9,
          "weather": "sun",
          "wind": 2.8
         },
         {
          "date": "2012-08-01T00:00:00",
          "precipitation": 0,
          "temp_max": 23.9,
          "temp_min": 13.3,
          "weather": "drizzle",
          "wind": 2.2
         },
         {
          "date": "2012-08-02T00:00:00",
          "precipitation": 0,
          "temp_max": 23.3,
          "temp_min": 12.2,
          "weather": "sun",
          "wind": 2.5
         },
         {
          "date": "2012-08-03T00:00:00",
          "precipitation": 0,
          "temp_max": 27.2,
          "temp_min": 12.8,
          "weather": "sun",
          "wind": 3.9
         },
         {
          "date": "2012-08-04T00:00:00",
          "precipitation": 0,
          "temp_max": 33.9,
          "temp_min": 16.7,
          "weather": "sun",
          "wind": 3.7
         },
         {
          "date": "2012-08-05T00:00:00",
          "precipitation": 0,
          "temp_max": 33.9,
          "temp_min": 17.8,
          "weather": "sun",
          "wind": 1.9
         },
         {
          "date": "2012-08-06T00:00:00",
          "precipitation": 0,
          "temp_max": 28.3,
          "temp_min": 15.6,
          "weather": "rain",
          "wind": 2.5
         },
         {
          "date": "2012-08-07T00:00:00",
          "precipitation": 0,
          "temp_max": 21.1,
          "temp_min": 15,
          "weather": "drizzle",
          "wind": 2.6
         },
         {
          "date": "2012-08-08T00:00:00",
          "precipitation": 0,
          "temp_max": 22.2,
          "temp_min": 15,
          "weather": "sun",
          "wind": 3.1
         },
         {
          "date": "2012-08-09T00:00:00",
          "precipitation": 0,
          "temp_max": 24.4,
          "temp_min": 14.4,
          "weather": "drizzle",
          "wind": 3.8
         },
         {
          "date": "2012-08-10T00:00:00",
          "precipitation": 0,
          "temp_max": 25.6,
          "temp_min": 12.2,
          "weather": "sun",
          "wind": 2.3
         },
         {
          "date": "2012-08-11T00:00:00",
          "precipitation": 0,
          "temp_max": 28.3,
          "temp_min": 13.3,
          "weather": "sun",
          "wind": 2.5
         },
         {
          "date": "2012-08-12T00:00:00",
          "precipitation": 0,
          "temp_max": 30.6,
          "temp_min": 15,
          "weather": "sun",
          "wind": 3
         },
         {
          "date": "2012-08-13T00:00:00",
          "precipitation": 0,
          "temp_max": 30.6,
          "temp_min": 15,
          "weather": "sun",
          "wind": 2.8
         },
         {
          "date": "2012-08-14T00:00:00",
          "precipitation": 0,
          "temp_max": 28.9,
          "temp_min": 13.9,
          "weather": "sun",
          "wind": 2.8
         },
         {
          "date": "2012-08-15T00:00:00",
          "precipitation": 0,
          "temp_max": 31.1,
          "temp_min": 16.7,
          "weather": "sun",
          "wind": 4.7
         },
         {
          "date": "2012-08-16T00:00:00",
          "precipitation": 0,
          "temp_max": 34.4,
          "temp_min": 18.3,
          "weather": "sun",
          "wind": 2.8
         },
         {
          "date": "2012-08-17T00:00:00",
          "precipitation": 0,
          "temp_max": 32.8,
          "temp_min": 16.1,
          "weather": "sun",
          "wind": 1.8
         },
         {
          "date": "2012-08-18T00:00:00",
          "precipitation": 0,
          "temp_max": 21.7,
          "temp_min": 14.4,
          "weather": "drizzle",
          "wind": 3
         },
         {
          "date": "2012-08-19T00:00:00",
          "precipitation": 0,
          "temp_max": 23.3,
          "temp_min": 15,
          "weather": "drizzle",
          "wind": 2.7
         },
         {
          "date": "2012-08-20T00:00:00",
          "precipitation": 0,
          "temp_max": 25.6,
          "temp_min": 15,
          "weather": "sun",
          "wind": 1.9
         },
         {
          "date": "2012-08-21T00:00:00",
          "precipitation": 0,
          "temp_max": 23.3,
          "temp_min": 13.3,
          "weather": "rain",
          "wind": 3
         },
         {
          "date": "2012-08-22T00:00:00",
          "precipitation": 0,
          "temp_max": 22.2,
          "temp_min": 13.3,
          "weather": "sun",
          "wind": 2.3
         },
         {
          "date": "2012-08-23T00:00:00",
          "precipitation": 0,
          "temp_max": 21.1,
          "temp_min": 13.9,
          "weather": "sun",
          "wind": 3.8
         },
         {
          "date": "2012-08-24T00:00:00",
          "precipitation": 0,
          "temp_max": 22.2,
          "temp_min": 10,
          "weather": "sun",
          "wind": 3.3
         },
         {
          "date": "2012-08-25T00:00:00",
          "precipitation": 0,
          "temp_max": 26.1,
          "temp_min": 11.7,
          "weather": "sun",
          "wind": 3.2
         },
         {
          "date": "2012-08-26T00:00:00",
          "precipitation": 0,
          "temp_max": 21.1,
          "temp_min": 12.2,
          "weather": "sun",
          "wind": 3.4
         },
         {
          "date": "2012-08-27T00:00:00",
          "precipitation": 0,
          "temp_max": 23.9,
          "temp_min": 13.3,
          "weather": "sun",
          "wind": 1.8
         },
         {
          "date": "2012-08-28T00:00:00",
          "precipitation": 0,
          "temp_max": 22.8,
          "temp_min": 12.2,
          "weather": "sun",
          "wind": 3.2
         },
         {
          "date": "2012-08-29T00:00:00",
          "precipitation": 0,
          "temp_max": 22.8,
          "temp_min": 13.3,
          "weather": "sun",
          "wind": 2.4
         },
         {
          "date": "2012-08-30T00:00:00",
          "precipitation": 0,
          "temp_max": 22.8,
          "temp_min": 12.8,
          "weather": "sun",
          "wind": 1.9
         },
         {
          "date": "2012-08-31T00:00:00",
          "precipitation": 0,
          "temp_max": 22.2,
          "temp_min": 10.6,
          "weather": "sun",
          "wind": 2.9
         },
         {
          "date": "2012-09-01T00:00:00",
          "precipitation": 0,
          "temp_max": 21.7,
          "temp_min": 10.6,
          "weather": "sun",
          "wind": 2.1
         },
         {
          "date": "2012-09-02T00:00:00",
          "precipitation": 0,
          "temp_max": 21.1,
          "temp_min": 10,
          "weather": "sun",
          "wind": 2
         },
         {
          "date": "2012-09-03T00:00:00",
          "precipitation": 0,
          "temp_max": 22.8,
          "temp_min": 12.8,
          "weather": "sun",
          "wind": 3.3
         },
         {
          "date": "2012-09-04T00:00:00",
          "precipitation": 0,
          "temp_max": 24.4,
          "temp_min": 11.1,
          "weather": "sun",
          "wind": 3.1
         },
         {
          "date": "2012-09-05T00:00:00",
          "precipitation": 0,
          "temp_max": 26.1,
          "temp_min": 11.7,
          "weather": "sun",
          "wind": 2.6
         },
         {
          "date": "2012-09-06T00:00:00",
          "precipitation": 0,
          "temp_max": 28.3,
          "temp_min": 14.4,
          "weather": "sun",
          "wind": 4.2
         },
         {
          "date": "2012-09-07T00:00:00",
          "precipitation": 0,
          "temp_max": 32.2,
          "temp_min": 13.3,
          "weather": "sun",
          "wind": 3.1
         },
         {
          "date": "2012-09-08T00:00:00",
          "precipitation": 0,
          "temp_max": 25,
          "temp_min": 13.3,
          "weather": "sun",
          "wind": 3
         },
         {
          "date": "2012-09-09T00:00:00",
          "precipitation": 0.3,
          "temp_max": 18.9,
          "temp_min": 13.9,
          "weather": "rain",
          "wind": 5
         },
         {
          "date": "2012-09-10T00:00:00",
          "precipitation": 0.3,
          "temp_max": 20,
          "temp_min": 11.7,
          "weather": "rain",
          "wind": 3.9
         },
         {
          "date": "2012-09-11T00:00:00",
          "precipitation": 0,
          "temp_max": 20,
          "temp_min": 8.9,
          "weather": "sun",
          "wind": 4.2
         },
         {
          "date": "2012-09-12T00:00:00",
          "precipitation": 0,
          "temp_max": 22.2,
          "temp_min": 10,
          "weather": "sun",
          "wind": 5.6
         },
         {
          "date": "2012-09-13T00:00:00",
          "precipitation": 0,
          "temp_max": 27.8,
          "temp_min": 11.7,
          "weather": "sun",
          "wind": 3.6
         },
         {
          "date": "2012-09-14T00:00:00",
          "precipitation": 0,
          "temp_max": 26.1,
          "temp_min": 11.1,
          "weather": "sun",
          "wind": 1.5
         },
         {
          "date": "2012-09-15T00:00:00",
          "precipitation": 0,
          "temp_max": 22.2,
          "temp_min": 11.1,
          "weather": "sun",
          "wind": 1.9
         },
         {
          "date": "2012-09-16T00:00:00",
          "precipitation": 0,
          "temp_max": 24.4,
          "temp_min": 9.4,
          "weather": "sun",
          "wind": 2.3
         },
         {
          "date": "2012-09-17T00:00:00",
          "precipitation": 0,
          "temp_max": 27.8,
          "temp_min": 11.7,
          "weather": "fog",
          "wind": 2.2
         },
         {
          "date": "2012-09-18T00:00:00",
          "precipitation": 0,
          "temp_max": 27.8,
          "temp_min": 11.7,
          "weather": "sun",
          "wind": 1.4
         },
         {
          "date": "2012-09-19T00:00:00",
          "precipitation": 0,
          "temp_max": 23.9,
          "temp_min": 11.7,
          "weather": "drizzle",
          "wind": 1.9
         },
         {
          "date": "2012-09-20T00:00:00",
          "precipitation": 0,
          "temp_max": 19.4,
          "temp_min": 10,
          "weather": "drizzle",
          "wind": 2.5
         },
         {
          "date": "2012-09-21T00:00:00",
          "precipitation": 0,
          "temp_max": 16.1,
          "temp_min": 12.8,
          "weather": "drizzle",
          "wind": 2.1
         },
         {
          "date": "2012-09-22T00:00:00",
          "precipitation": 0.3,
          "temp_max": 19.4,
          "temp_min": 11.7,
          "weather": "rain",
          "wind": 1.1
         },
         {
          "date": "2012-09-23T00:00:00",
          "precipitation": 0,
          "temp_max": 19.4,
          "temp_min": 10,
          "weather": "fog",
          "wind": 1.4
         },
         {
          "date": "2012-09-24T00:00:00",
          "precipitation": 0,
          "temp_max": 21.1,
          "temp_min": 10,
          "weather": "fog",
          "wind": 1.8
         },
         {
          "date": "2012-09-25T00:00:00",
          "precipitation": 0,
          "temp_max": 19.4,
          "temp_min": 11.1,
          "weather": "sun",
          "wind": 1.7
         },
         {
          "date": "2012-09-26T00:00:00",
          "precipitation": 0,
          "temp_max": 19.4,
          "temp_min": 9.4,
          "weather": "drizzle",
          "wind": 1.7
         },
         {
          "date": "2012-09-27T00:00:00",
          "precipitation": 0,
          "temp_max": 22.8,
          "temp_min": 10,
          "weather": "drizzle",
          "wind": 1.7
         },
         {
          "date": "2012-09-28T00:00:00",
          "precipitation": 0,
          "temp_max": 25,
          "temp_min": 12.2,
          "weather": "rain",
          "wind": 1.1
         },
         {
          "date": "2012-09-29T00:00:00",
          "precipitation": 0,
          "temp_max": 20.6,
          "temp_min": 12.2,
          "weather": "sun",
          "wind": 4.3
         },
         {
          "date": "2012-09-30T00:00:00",
          "precipitation": 0,
          "temp_max": 21.1,
          "temp_min": 7.8,
          "weather": "sun",
          "wind": 3.1
         },
         {
          "date": "2012-10-01T00:00:00",
          "precipitation": 0,
          "temp_max": 23.3,
          "temp_min": 8.9,
          "weather": "sun",
          "wind": 3
         },
         {
          "date": "2012-10-02T00:00:00",
          "precipitation": 0,
          "temp_max": 17.8,
          "temp_min": 10,
          "weather": "sun",
          "wind": 4.1
         },
         {
          "date": "2012-10-03T00:00:00",
          "precipitation": 0,
          "temp_max": 18.9,
          "temp_min": 7.8,
          "weather": "sun",
          "wind": 7.3
         },
         {
          "date": "2012-10-04T00:00:00",
          "precipitation": 0,
          "temp_max": 18.9,
          "temp_min": 8.3,
          "weather": "sun",
          "wind": 6.5
         },
         {
          "date": "2012-10-05T00:00:00",
          "precipitation": 0,
          "temp_max": 21.7,
          "temp_min": 8.9,
          "weather": "sun",
          "wind": 5.7
         },
         {
          "date": "2012-10-06T00:00:00",
          "precipitation": 0,
          "temp_max": 23.9,
          "temp_min": 7.8,
          "weather": "sun",
          "wind": 5.1
         },
         {
          "date": "2012-10-07T00:00:00",
          "precipitation": 0,
          "temp_max": 23.9,
          "temp_min": 7.8,
          "weather": "sun",
          "wind": 1.3
         },
         {
          "date": "2012-10-08T00:00:00",
          "precipitation": 0,
          "temp_max": 21.1,
          "temp_min": 7.8,
          "weather": "sun",
          "wind": 1.9
         },
         {
          "date": "2012-10-09T00:00:00",
          "precipitation": 0,
          "temp_max": 16.1,
          "temp_min": 8.9,
          "weather": "drizzle",
          "wind": 1.6
         },
         {
          "date": "2012-10-10T00:00:00",
          "precipitation": 0,
          "temp_max": 12.2,
          "temp_min": 8.3,
          "weather": "drizzle",
          "wind": 1.4
         },
         {
          "date": "2012-10-11T00:00:00",
          "precipitation": 0,
          "temp_max": 13.9,
          "temp_min": 7.2,
          "weather": "drizzle",
          "wind": 1.3
         },
         {
          "date": "2012-10-12T00:00:00",
          "precipitation": 2,
          "temp_max": 13.9,
          "temp_min": 8.9,
          "weather": "rain",
          "wind": 4.6
         },
         {
          "date": "2012-10-13T00:00:00",
          "precipitation": 4.8,
          "temp_max": 15.6,
          "temp_min": 12.2,
          "weather": "rain",
          "wind": 3.9
         },
         {
          "date": "2012-10-14T00:00:00",
          "precipitation": 16.5,
          "temp_max": 17.8,
          "temp_min": 13.3,
          "weather": "rain",
          "wind": 3.4
         },
         {
          "date": "2012-10-15T00:00:00",
          "precipitation": 7.9,
          "temp_max": 17.2,
          "temp_min": 11.1,
          "weather": "rain",
          "wind": 4.6
         },
         {
          "date": "2012-10-16T00:00:00",
          "precipitation": 0,
          "temp_max": 16.1,
          "temp_min": 8.3,
          "weather": "sun",
          "wind": 5.5
         },
         {
          "date": "2012-10-17T00:00:00",
          "precipitation": 0,
          "temp_max": 14.4,
          "temp_min": 6.1,
          "weather": "sun",
          "wind": 1.6
         },
         {
          "date": "2012-10-18T00:00:00",
          "precipitation": 20.8,
          "temp_max": 17.8,
          "temp_min": 6.7,
          "weather": "rain",
          "wind": 2
         },
         {
          "date": "2012-10-19T00:00:00",
          "precipitation": 4.8,
          "temp_max": 15,
          "temp_min": 9.4,
          "weather": "rain",
          "wind": 5.3
         },
         {
          "date": "2012-10-20T00:00:00",
          "precipitation": 0.5,
          "temp_max": 11.1,
          "temp_min": 6.1,
          "weather": "rain",
          "wind": 5.7
         },
         {
          "date": "2012-10-21T00:00:00",
          "precipitation": 6.4,
          "temp_max": 11.7,
          "temp_min": 4.4,
          "weather": "rain",
          "wind": 2.7
         },
         {
          "date": "2012-10-22T00:00:00",
          "precipitation": 8.9,
          "temp_max": 7.8,
          "temp_min": 3.3,
          "weather": "rain",
          "wind": 2.6
         },
         {
          "date": "2012-10-23T00:00:00",
          "precipitation": 0,
          "temp_max": 11.1,
          "temp_min": 5.6,
          "weather": "rain",
          "wind": 3
         },
         {
          "date": "2012-10-24T00:00:00",
          "precipitation": 7.1,
          "temp_max": 11.7,
          "temp_min": 6.1,
          "weather": "rain",
          "wind": 2.1
         },
         {
          "date": "2012-10-25T00:00:00",
          "precipitation": 0,
          "temp_max": 11.7,
          "temp_min": 6.7,
          "weather": "sun",
          "wind": 1.5
         },
         {
          "date": "2012-10-26T00:00:00",
          "precipitation": 1.5,
          "temp_max": 11.1,
          "temp_min": 7.2,
          "weather": "rain",
          "wind": 2.5
         },
         {
          "date": "2012-10-27T00:00:00",
          "precipitation": 23.1,
          "temp_max": 14.4,
          "temp_min": 9.4,
          "weather": "rain",
          "wind": 5.1
         },
         {
          "date": "2012-10-28T00:00:00",
          "precipitation": 6.1,
          "temp_max": 14.4,
          "temp_min": 10,
          "weather": "rain",
          "wind": 3.8
         },
         {
          "date": "2012-10-29T00:00:00",
          "precipitation": 10.9,
          "temp_max": 15.6,
          "temp_min": 10,
          "weather": "rain",
          "wind": 4.9
         },
         {
          "date": "2012-10-30T00:00:00",
          "precipitation": 34.5,
          "temp_max": 15,
          "temp_min": 12.2,
          "weather": "rain",
          "wind": 2.8
         },
         {
          "date": "2012-10-31T00:00:00",
          "precipitation": 14.5,
          "temp_max": 15.6,
          "temp_min": 11.1,
          "weather": "rain",
          "wind": 2.7
         },
         {
          "date": "2012-11-01T00:00:00",
          "precipitation": 9.7,
          "temp_max": 15,
          "temp_min": 10.6,
          "weather": "rain",
          "wind": 3
         },
         {
          "date": "2012-11-02T00:00:00",
          "precipitation": 5.6,
          "temp_max": 15,
          "temp_min": 10.6,
          "weather": "rain",
          "wind": 1
         },
         {
          "date": "2012-11-03T00:00:00",
          "precipitation": 0.5,
          "temp_max": 15.6,
          "temp_min": 11.1,
          "weather": "rain",
          "wind": 3.6
         },
         {
          "date": "2012-11-04T00:00:00",
          "precipitation": 8.1,
          "temp_max": 17.8,
          "temp_min": 12.8,
          "weather": "rain",
          "wind": 3.8
         },
         {
          "date": "2012-11-05T00:00:00",
          "precipitation": 0.8,
          "temp_max": 15,
          "temp_min": 7.8,
          "weather": "rain",
          "wind": 4
         },
         {
          "date": "2012-11-06T00:00:00",
          "precipitation": 0.3,
          "temp_max": 12.8,
          "temp_min": 6.7,
          "weather": "rain",
          "wind": 3.5
         },
         {
          "date": "2012-11-07T00:00:00",
          "precipitation": 0,
          "temp_max": 12.2,
          "temp_min": 3.9,
          "weather": "rain",
          "wind": 3.4
         },
         {
          "date": "2012-11-08T00:00:00",
          "precipitation": 0,
          "temp_max": 10,
          "temp_min": 1.1,
          "weather": "rain",
          "wind": 3.4
         },
         {
          "date": "2012-11-09T00:00:00",
          "precipitation": 0,
          "temp_max": 8.9,
          "temp_min": 1.1,
          "weather": "rain",
          "wind": 2
         },
         {
          "date": "2012-11-10T00:00:00",
          "precipitation": 0,
          "temp_max": 7.8,
          "temp_min": -0.6,
          "weather": "sun",
          "wind": 2.2
         },
         {
          "date": "2012-11-11T00:00:00",
          "precipitation": 15.2,
          "temp_max": 8.9,
          "temp_min": 1.1,
          "weather": "rain",
          "wind": 3
         },
         {
          "date": "2012-11-12T00:00:00",
          "precipitation": 3.6,
          "temp_max": 12.8,
          "temp_min": 6.1,
          "weather": "rain",
          "wind": 3
         },
         {
          "date": "2012-11-13T00:00:00",
          "precipitation": 5.3,
          "temp_max": 11.1,
          "temp_min": 7.8,
          "weather": "rain",
          "wind": 2.5
         },
         {
          "date": "2012-11-14T00:00:00",
          "precipitation": 0.8,
          "temp_max": 11.1,
          "temp_min": 5,
          "weather": "rain",
          "wind": 2.6
         },
         {
          "date": "2012-11-15T00:00:00",
          "precipitation": 0,
          "temp_max": 9.4,
          "temp_min": 2.8,
          "weather": "drizzle",
          "wind": 2.4
         },
         {
          "date": "2012-11-16T00:00:00",
          "precipitation": 5.6,
          "temp_max": 9.4,
          "temp_min": 2.2,
          "weather": "rain",
          "wind": 1.6
         },
         {
          "date": "2012-11-17T00:00:00",
          "precipitation": 6.1,
          "temp_max": 12.2,
          "temp_min": 6.1,
          "weather": "rain",
          "wind": 5.3
         },
         {
          "date": "2012-11-18T00:00:00",
          "precipitation": 7.9,
          "temp_max": 10,
          "temp_min": 6.1,
          "weather": "rain",
          "wind": 4.9
         },
         {
          "date": "2012-11-19T00:00:00",
          "precipitation": 54.1,
          "temp_max": 13.3,
          "temp_min": 8.3,
          "weather": "rain",
          "wind": 6
         },
         {
          "date": "2012-11-20T00:00:00",
          "precipitation": 3.8,
          "temp_max": 11.1,
          "temp_min": 7.2,
          "weather": "rain",
          "wind": 4.2
         },
         {
          "date": "2012-11-21T00:00:00",
          "precipitation": 11.2,
          "temp_max": 8.3,
          "temp_min": 3.9,
          "weather": "rain",
          "wind": 5.5
         },
         {
          "date": "2012-11-22T00:00:00",
          "precipitation": 0,
          "temp_max": 8.9,
          "temp_min": 2.8,
          "weather": "rain",
          "wind": 1.5
         },
         {
          "date": "2012-11-23T00:00:00",
          "precipitation": 32,
          "temp_max": 9.4,
          "temp_min": 6.1,
          "weather": "rain",
          "wind": 2.4
         },
         {
          "date": "2012-11-24T00:00:00",
          "precipitation": 0,
          "temp_max": 8.9,
          "temp_min": 3.9,
          "weather": "rain",
          "wind": 1.2
         },
         {
          "date": "2012-11-25T00:00:00",
          "precipitation": 0,
          "temp_max": 8.3,
          "temp_min": 1.1,
          "weather": "drizzle",
          "wind": 3.6
         },
         {
          "date": "2012-11-26T00:00:00",
          "precipitation": 0,
          "temp_max": 9.4,
          "temp_min": 1.7,
          "weather": "fog",
          "wind": 3.8
         },
         {
          "date": "2012-11-27T00:00:00",
          "precipitation": 0,
          "temp_max": 10,
          "temp_min": 1.7,
          "weather": "sun",
          "wind": 1.5
         },
         {
          "date": "2012-11-28T00:00:00",
          "precipitation": 2.8,
          "temp_max": 9.4,
          "temp_min": 2.2,
          "weather": "rain",
          "wind": 2.9
         },
         {
          "date": "2012-11-29T00:00:00",
          "precipitation": 1.5,
          "temp_max": 12.8,
          "temp_min": 7.8,
          "weather": "rain",
          "wind": 4.2
         },
         {
          "date": "2012-11-30T00:00:00",
          "precipitation": 35.6,
          "temp_max": 15,
          "temp_min": 7.8,
          "weather": "rain",
          "wind": 4.6
         },
         {
          "date": "2012-12-01T00:00:00",
          "precipitation": 4.1,
          "temp_max": 13.3,
          "temp_min": 8.3,
          "weather": "rain",
          "wind": 5.5
         },
         {
          "date": "2012-12-02T00:00:00",
          "precipitation": 19.6,
          "temp_max": 8.3,
          "temp_min": 7.2,
          "weather": "rain",
          "wind": 6.2
         },
         {
          "date": "2012-12-03T00:00:00",
          "precipitation": 13,
          "temp_max": 9.4,
          "temp_min": 7.2,
          "weather": "rain",
          "wind": 4.4
         },
         {
          "date": "2012-12-04T00:00:00",
          "precipitation": 14.2,
          "temp_max": 11.7,
          "temp_min": 7.2,
          "weather": "rain",
          "wind": 6.2
         },
         {
          "date": "2012-12-05T00:00:00",
          "precipitation": 1.5,
          "temp_max": 8.9,
          "temp_min": 4.4,
          "weather": "rain",
          "wind": 5
         },
         {
          "date": "2012-12-06T00:00:00",
          "precipitation": 1.5,
          "temp_max": 7.2,
          "temp_min": 6.1,
          "weather": "rain",
          "wind": 5.1
         },
         {
          "date": "2012-12-07T00:00:00",
          "precipitation": 1,
          "temp_max": 7.8,
          "temp_min": 3.3,
          "weather": "rain",
          "wind": 4.6
         },
         {
          "date": "2012-12-08T00:00:00",
          "precipitation": 0,
          "temp_max": 6.7,
          "temp_min": 3.3,
          "weather": "sun",
          "wind": 2
         },
         {
          "date": "2012-12-09T00:00:00",
          "precipitation": 1.5,
          "temp_max": 6.7,
          "temp_min": 2.8,
          "weather": "rain",
          "wind": 2.1
         },
         {
          "date": "2012-12-10T00:00:00",
          "precipitation": 0.5,
          "temp_max": 7.2,
          "temp_min": 5.6,
          "weather": "rain",
          "wind": 1.8
         },
         {
          "date": "2012-12-11T00:00:00",
          "precipitation": 3,
          "temp_max": 7.8,
          "temp_min": 5.6,
          "weather": "rain",
          "wind": 4.5
         },
         {
          "date": "2012-12-12T00:00:00",
          "precipitation": 8.1,
          "temp_max": 6.7,
          "temp_min": 4.4,
          "weather": "rain",
          "wind": 2
         },
         {
          "date": "2012-12-13T00:00:00",
          "precipitation": 2.3,
          "temp_max": 7.2,
          "temp_min": 3.3,
          "weather": "rain",
          "wind": 2.8
         },
         {
          "date": "2012-12-14T00:00:00",
          "precipitation": 7.9,
          "temp_max": 6.1,
          "temp_min": 1.1,
          "weather": "rain",
          "wind": 1.7
         },
         {
          "date": "2012-12-15T00:00:00",
          "precipitation": 5.3,
          "temp_max": 4.4,
          "temp_min": 0.6,
          "weather": "snow",
          "wind": 5.1
         },
         {
          "date": "2012-12-16T00:00:00",
          "precipitation": 22.6,
          "temp_max": 6.7,
          "temp_min": 3.3,
          "weather": "snow",
          "wind": 5.5
         },
         {
          "date": "2012-12-17T00:00:00",
          "precipitation": 2,
          "temp_max": 8.3,
          "temp_min": 1.7,
          "weather": "rain",
          "wind": 9.5
         },
         {
          "date": "2012-12-18T00:00:00",
          "precipitation": 3.3,
          "temp_max": 3.9,
          "temp_min": 0.6,
          "weather": "snow",
          "wind": 5.3
         },
         {
          "date": "2012-12-19T00:00:00",
          "precipitation": 13.7,
          "temp_max": 8.3,
          "temp_min": 1.7,
          "weather": "snow",
          "wind": 5.8
         },
         {
          "date": "2012-12-20T00:00:00",
          "precipitation": 13.2,
          "temp_max": 7.2,
          "temp_min": 0.6,
          "weather": "rain",
          "wind": 3.7
         },
         {
          "date": "2012-12-21T00:00:00",
          "precipitation": 1.8,
          "temp_max": 8.3,
          "temp_min": -1.7,
          "weather": "rain",
          "wind": 1.7
         },
         {
          "date": "2012-12-22T00:00:00",
          "precipitation": 3.3,
          "temp_max": 8.3,
          "temp_min": 3.9,
          "weather": "rain",
          "wind": 3.5
         },
         {
          "date": "2012-12-23T00:00:00",
          "precipitation": 6.6,
          "temp_max": 7.2,
          "temp_min": 3.3,
          "weather": "rain",
          "wind": 2.5
         },
         {
          "date": "2012-12-24T00:00:00",
          "precipitation": 0.3,
          "temp_max": 5.6,
          "temp_min": 2.8,
          "weather": "rain",
          "wind": 2.8
         },
         {
          "date": "2012-12-25T00:00:00",
          "precipitation": 13.5,
          "temp_max": 5.6,
          "temp_min": 2.8,
          "weather": "snow",
          "wind": 4.2
         },
         {
          "date": "2012-12-26T00:00:00",
          "precipitation": 4.6,
          "temp_max": 6.7,
          "temp_min": 3.3,
          "weather": "rain",
          "wind": 4.9
         },
         {
          "date": "2012-12-27T00:00:00",
          "precipitation": 4.1,
          "temp_max": 7.8,
          "temp_min": 3.3,
          "weather": "rain",
          "wind": 3.2
         },
         {
          "date": "2012-12-28T00:00:00",
          "precipitation": 0,
          "temp_max": 8.3,
          "temp_min": 3.9,
          "weather": "rain",
          "wind": 1.7
         },
         {
          "date": "2012-12-29T00:00:00",
          "precipitation": 1.5,
          "temp_max": 5,
          "temp_min": 3.3,
          "weather": "rain",
          "wind": 1.7
         },
         {
          "date": "2012-12-30T00:00:00",
          "precipitation": 0,
          "temp_max": 4.4,
          "temp_min": 0,
          "weather": "drizzle",
          "wind": 1.8
         },
         {
          "date": "2012-12-31T00:00:00",
          "precipitation": 0,
          "temp_max": 3.3,
          "temp_min": -1.1,
          "weather": "drizzle",
          "wind": 2
         },
         {
          "date": "2013-01-01T00:00:00",
          "precipitation": 0,
          "temp_max": 5,
          "temp_min": -2.8,
          "weather": "sun",
          "wind": 2.7
         },
         {
          "date": "2013-01-02T00:00:00",
          "precipitation": 0,
          "temp_max": 6.1,
          "temp_min": -1.1,
          "weather": "sun",
          "wind": 3.2
         },
         {
          "date": "2013-01-03T00:00:00",
          "precipitation": 4.1,
          "temp_max": 6.7,
          "temp_min": -1.7,
          "weather": "rain",
          "wind": 3
         },
         {
          "date": "2013-01-04T00:00:00",
          "precipitation": 2.5,
          "temp_max": 10,
          "temp_min": 2.2,
          "weather": "rain",
          "wind": 2.8
         },
         {
          "date": "2013-01-05T00:00:00",
          "precipitation": 3,
          "temp_max": 6.7,
          "temp_min": 4.4,
          "weather": "rain",
          "wind": 3.1
         },
         {
          "date": "2013-01-06T00:00:00",
          "precipitation": 2,
          "temp_max": 7.2,
          "temp_min": 2.8,
          "weather": "rain",
          "wind": 3
         },
         {
          "date": "2013-01-07T00:00:00",
          "precipitation": 2.3,
          "temp_max": 10,
          "temp_min": 4.4,
          "weather": "rain",
          "wind": 7.3
         },
         {
          "date": "2013-01-08T00:00:00",
          "precipitation": 16.3,
          "temp_max": 11.7,
          "temp_min": 5.6,
          "weather": "rain",
          "wind": 6.3
         },
         {
          "date": "2013-01-09T00:00:00",
          "precipitation": 38.4,
          "temp_max": 10,
          "temp_min": 1.7,
          "weather": "rain",
          "wind": 5.1
         },
         {
          "date": "2013-01-10T00:00:00",
          "precipitation": 0.3,
          "temp_max": 3.3,
          "temp_min": -0.6,
          "weather": "snow",
          "wind": 2.1
         },
         {
          "date": "2013-01-11T00:00:00",
          "precipitation": 0,
          "temp_max": 2.8,
          "temp_min": -2.8,
          "weather": "drizzle",
          "wind": 1.9
         },
         {
          "date": "2013-01-12T00:00:00",
          "precipitation": 0,
          "temp_max": 2.8,
          "temp_min": -3.9,
          "weather": "sun",
          "wind": 2
         },
         {
          "date": "2013-01-13T00:00:00",
          "precipitation": 0,
          "temp_max": 2.2,
          "temp_min": -4.4,
          "weather": "sun",
          "wind": 1.5
         },
         {
          "date": "2013-01-14T00:00:00",
          "precipitation": 0,
          "temp_max": 3.3,
          "temp_min": -2.2,
          "weather": "sun",
          "wind": 1.3
         },
         {
          "date": "2013-01-15T00:00:00",
          "precipitation": 0,
          "temp_max": 6.7,
          "temp_min": -0.6,
          "weather": "sun",
          "wind": 2.3
         },
         {
          "date": "2013-01-16T00:00:00",
          "precipitation": 0,
          "temp_max": 6.1,
          "temp_min": -3.9,
          "weather": "drizzle",
          "wind": 1.8
         },
         {
          "date": "2013-01-17T00:00:00",
          "precipitation": 0,
          "temp_max": 3.9,
          "temp_min": -2.8,
          "weather": "drizzle",
          "wind": 1
         },
         {
          "date": "2013-01-18T00:00:00",
          "precipitation": 0,
          "temp_max": 3.3,
          "temp_min": -1.1,
          "weather": "drizzle",
          "wind": 1.3
         },
         {
          "date": "2013-01-19T00:00:00",
          "precipitation": 0,
          "temp_max": 1.1,
          "temp_min": -0.6,
          "weather": "drizzle",
          "wind": 1.9
         },
         {
          "date": "2013-01-20T00:00:00",
          "precipitation": 0,
          "temp_max": 3.3,
          "temp_min": -0.6,
          "weather": "drizzle",
          "wind": 2.1
         },
         {
          "date": "2013-01-21T00:00:00",
          "precipitation": 0,
          "temp_max": 2.2,
          "temp_min": -1.7,
          "weather": "drizzle",
          "wind": 1.1
         },
         {
          "date": "2013-01-22T00:00:00",
          "precipitation": 0,
          "temp_max": 3.3,
          "temp_min": -1.7,
          "weather": "drizzle",
          "wind": 0.6
         },
         {
          "date": "2013-01-23T00:00:00",
          "precipitation": 5.1,
          "temp_max": 7.2,
          "temp_min": 2.2,
          "weather": "rain",
          "wind": 3.1
         },
         {
          "date": "2013-01-24T00:00:00",
          "precipitation": 5.8,
          "temp_max": 7.2,
          "temp_min": 1.1,
          "weather": "rain",
          "wind": 2.6
         },
         {
          "date": "2013-01-25T00:00:00",
          "precipitation": 3,
          "temp_max": 10.6,
          "temp_min": 2.8,
          "weather": "rain",
          "wind": 2.1
         },
         {
          "date": "2013-01-26T00:00:00",
          "precipitation": 2.3,
          "temp_max": 8.3,
          "temp_min": 3.9,
          "weather": "rain",
          "wind": 4.5
         },
         {
          "date": "2013-01-27T00:00:00",
          "precipitation": 1.8,
          "temp_max": 5.6,
          "temp_min": 3.9,
          "weather": "rain",
          "wind": 4.5
         },
         {
          "date": "2013-01-28T00:00:00",
          "precipitation": 7.9,
          "temp_max": 6.1,
          "temp_min": 3.3,
          "weather": "rain",
          "wind": 3.2
         },
         {
          "date": "2013-01-29T00:00:00",
          "precipitation": 4.3,
          "temp_max": 8.3,
          "temp_min": 5,
          "weather": "rain",
          "wind": 3.9
         },
         {
          "date": "2013-01-30T00:00:00",
          "precipitation": 3.6,
          "temp_max": 8.9,
          "temp_min": 6.7,
          "weather": "rain",
          "wind": 3.9
         },
         {
          "date": "2013-01-31T00:00:00",
          "precipitation": 3,
          "temp_max": 9.4,
          "temp_min": 7.2,
          "weather": "rain",
          "wind": 4
         },
         {
          "date": "2013-02-01T00:00:00",
          "precipitation": 0.3,
          "temp_max": 11.7,
          "temp_min": 5,
          "weather": "rain",
          "wind": 2.9
         },
         {
          "date": "2013-02-02T00:00:00",
          "precipitation": 0,
          "temp_max": 6.1,
          "temp_min": 2.8,
          "weather": "drizzle",
          "wind": 2
         },
         {
          "date": "2013-02-03T00:00:00",
          "precipitation": 2.3,
          "temp_max": 8.9,
          "temp_min": 2.8,
          "weather": "rain",
          "wind": 2.9
         },
         {
          "date": "2013-02-04T00:00:00",
          "precipitation": 0,
          "temp_max": 10.6,
          "temp_min": 6.7,
          "weather": "rain",
          "wind": 2.6
         },
         {
          "date": "2013-02-05T00:00:00",
          "precipitation": 3.3,
          "temp_max": 10,
          "temp_min": 6.7,
          "weather": "rain",
          "wind": 5.1
         },
         {
          "date": "2013-02-06T00:00:00",
          "precipitation": 1,
          "temp_max": 10.6,
          "temp_min": 6.1,
          "weather": "rain",
          "wind": 4.5
         },
         {
          "date": "2013-02-07T00:00:00",
          "precipitation": 1.3,
          "temp_max": 9.4,
          "temp_min": 3.3,
          "weather": "rain",
          "wind": 4.1
         },
         {
          "date": "2013-02-08T00:00:00",
          "precipitation": 0,
          "temp_max": 7.8,
          "temp_min": 2.2,
          "weather": "sun",
          "wind": 1.3
         },
         {
          "date": "2013-02-09T00:00:00",
          "precipitation": 0.3,
          "temp_max": 8.3,
          "temp_min": 4.4,
          "weather": "rain",
          "wind": 1.3
         },
         {
          "date": "2013-02-10T00:00:00",
          "precipitation": 0,
          "temp_max": 8.9,
          "temp_min": 1.7,
          "weather": "drizzle",
          "wind": 2
         },
         {
          "date": "2013-02-11T00:00:00",
          "precipitation": 0.3,
          "temp_max": 8.3,
          "temp_min": 4.4,
          "weather": "rain",
          "wind": 1.4
         },
         {
          "date": "2013-02-12T00:00:00",
          "precipitation": 1,
          "temp_max": 11.1,
          "temp_min": 7.2,
          "weather": "rain",
          "wind": 5.6
         },
         {
          "date": "2013-02-13T00:00:00",
          "precipitation": 2.3,
          "temp_max": 9.4,
          "temp_min": 7.2,
          "weather": "rain",
          "wind": 4.1
         },
         {
          "date": "2013-02-14T00:00:00",
          "precipitation": 1,
          "temp_max": 9.4,
          "temp_min": 5.6,
          "weather": "rain",
          "wind": 2.2
         },
         {
          "date": "2013-02-15T00:00:00",
          "precipitation": 0,
          "temp_max": 13.3,
          "temp_min": 5,
          "weather": "drizzle",
          "wind": 2.4
         },
         {
          "date": "2013-02-16T00:00:00",
          "precipitation": 0,
          "temp_max": 11.1,
          "temp_min": 3.9,
          "weather": "rain",
          "wind": 5.6
         },
         {
          "date": "2013-02-17T00:00:00",
          "precipitation": 0,
          "temp_max": 9.4,
          "temp_min": 4.4,
          "weather": "rain",
          "wind": 3.4
         },
         {
          "date": "2013-02-18T00:00:00",
          "precipitation": 0,
          "temp_max": 7.8,
          "temp_min": 3.9,
          "weather": "rain",
          "wind": 1.9
         },
         {
          "date": "2013-02-19T00:00:00",
          "precipitation": 0,
          "temp_max": 10.6,
          "temp_min": 1.7,
          "weather": "sun",
          "wind": 3.4
         },
         {
          "date": "2013-02-20T00:00:00",
          "precipitation": 1.5,
          "temp_max": 7.8,
          "temp_min": 1.1,
          "weather": "rain",
          "wind": 2.1
         },
         {
          "date": "2013-02-21T00:00:00",
          "precipitation": 0.5,
          "temp_max": 6.7,
          "temp_min": 3.9,
          "weather": "rain",
          "wind": 6.2
         },
         {
          "date": "2013-02-22T00:00:00",
          "precipitation": 9.4,
          "temp_max": 7.8,
          "temp_min": 3.9,
          "weather": "rain",
          "wind": 8.1
         },
         {
          "date": "2013-02-23T00:00:00",
          "precipitation": 0.3,
          "temp_max": 10,
          "temp_min": 3.9,
          "weather": "rain",
          "wind": 4.6
         },
         {
          "date": "2013-02-24T00:00:00",
          "precipitation": 0,
          "temp_max": 8.9,
          "temp_min": 5,
          "weather": "rain",
          "wind": 5.5
         },
         {
          "date": "2013-02-25T00:00:00",
          "precipitation": 2.3,
          "temp_max": 10.6,
          "temp_min": 3.3,
          "weather": "rain",
          "wind": 7.1
         },
         {
          "date": "2013-02-26T00:00:00",
          "precipitation": 0.5,
          "temp_max": 8.9,
          "temp_min": 3.9,
          "weather": "rain",
          "wind": 3.8
         },
         {
          "date": "2013-02-27T00:00:00",
          "precipitation": 4.6,
          "temp_max": 10,
          "temp_min": 4.4,
          "weather": "rain",
          "wind": 1.8
         },
         {
          "date": "2013-02-28T00:00:00",
          "precipitation": 8.1,
          "temp_max": 11.7,
          "temp_min": 6.7,
          "weather": "rain",
          "wind": 3.8
         },
         {
          "date": "2013-03-01T00:00:00",
          "precipitation": 4.1,
          "temp_max": 15,
          "temp_min": 11.1,
          "weather": "rain",
          "wind": 5.4
         },
         {
          "date": "2013-03-02T00:00:00",
          "precipitation": 0.8,
          "temp_max": 13.9,
          "temp_min": 5,
          "weather": "rain",
          "wind": 4.5
         },
         {
          "date": "2013-03-03T00:00:00",
          "precipitation": 0,
          "temp_max": 11.1,
          "temp_min": 2.2,
          "weather": "sun",
          "wind": 2.8
         },
         {
          "date": "2013-03-04T00:00:00",
          "precipitation": 0,
          "temp_max": 13.3,
          "temp_min": 0,
          "weather": "sun",
          "wind": 3.9
         },
         {
          "date": "2013-03-05T00:00:00",
          "precipitation": 0,
          "temp_max": 9.4,
          "temp_min": 6.1,
          "weather": "rain",
          "wind": 2.4
         },
         {
          "date": "2013-03-06T00:00:00",
          "precipitation": 11.9,
          "temp_max": 7.2,
          "temp_min": 5,
          "weather": "rain",
          "wind": 4.1
         },
         {
          "date": "2013-03-07T00:00:00",
          "precipitation": 7.4,
          "temp_max": 12.2,
          "temp_min": 5,
          "weather": "rain",
          "wind": 2.5
         },
         {
          "date": "2013-03-08T00:00:00",
          "precipitation": 0,
          "temp_max": 11.7,
          "temp_min": 2.2,
          "weather": "drizzle",
          "wind": 2.6
         },
         {
          "date": "2013-03-09T00:00:00",
          "precipitation": 0,
          "temp_max": 12.8,
          "temp_min": 1.1,
          "weather": "fog",
          "wind": 1.3
         },
         {
          "date": "2013-03-10T00:00:00",
          "precipitation": 0.8,
          "temp_max": 7.8,
          "temp_min": 3.9,
          "weather": "rain",
          "wind": 1.6
         },
         {
          "date": "2013-03-11T00:00:00",
          "precipitation": 1.3,
          "temp_max": 10.6,
          "temp_min": 6.1,
          "weather": "rain",
          "wind": 1.1
         },
         {
          "date": "2013-03-12T00:00:00",
          "precipitation": 2,
          "temp_max": 12.8,
          "temp_min": 10,
          "weather": "rain",
          "wind": 5.7
         },
         {
          "date": "2013-03-13T00:00:00",
          "precipitation": 2.3,
          "temp_max": 11.7,
          "temp_min": 9.4,
          "weather": "rain",
          "wind": 3.7
         },
         {
          "date": "2013-03-14T00:00:00",
          "precipitation": 2.8,
          "temp_max": 11.7,
          "temp_min": 9.4,
          "weather": "rain",
          "wind": 3
         },
         {
          "date": "2013-03-15T00:00:00",
          "precipitation": 0,
          "temp_max": 14.4,
          "temp_min": 8.9,
          "weather": "rain",
          "wind": 4.3
         },
         {
          "date": "2013-03-16T00:00:00",
          "precipitation": 4.3,
          "temp_max": 10.6,
          "temp_min": 4.4,
          "weather": "rain",
          "wind": 6.4
         },
         {
          "date": "2013-03-17T00:00:00",
          "precipitation": 0,
          "temp_max": 8.9,
          "temp_min": 3.9,
          "weather": "sun",
          "wind": 6.1
         },
         {
          "date": "2013-03-18T00:00:00",
          "precipitation": 0,
          "temp_max": 11.7,
          "temp_min": 3.9,
          "weather": "rain",
          "wind": 5.9
         },
         {
          "date": "2013-03-19T00:00:00",
          "precipitation": 11.7,
          "temp_max": 12.8,
          "temp_min": 1.7,
          "weather": "rain",
          "wind": 3.4
         },
         {
          "date": "2013-03-20T00:00:00",
          "precipitation": 9.9,
          "temp_max": 11.1,
          "temp_min": 4.4,
          "weather": "rain",
          "wind": 7.6
         },
         {
          "date": "2013-03-21T00:00:00",
          "precipitation": 8.1,
          "temp_max": 10,
          "temp_min": 2.2,
          "weather": "snow",
          "wind": 4.9
         },
         {
          "date": "2013-03-22T00:00:00",
          "precipitation": 0,
          "temp_max": 9.4,
          "temp_min": 0.6,
          "weather": "sun",
          "wind": 2.2
         },
         {
          "date": "2013-03-23T00:00:00",
          "precipitation": 0,
          "temp_max": 10,
          "temp_min": 1.1,
          "weather": "sun",
          "wind": 2.6
         },
         {
          "date": "2013-03-24T00:00:00",
          "precipitation": 0,
          "temp_max": 12.2,
          "temp_min": 0.6,
          "weather": "sun",
          "wind": 2.1
         },
         {
          "date": "2013-03-25T00:00:00",
          "precipitation": 0,
          "temp_max": 16.7,
          "temp_min": 4.4,
          "weather": "sun",
          "wind": 2.8
         },
         {
          "date": "2013-03-26T00:00:00",
          "precipitation": 0,
          "temp_max": 16.7,
          "temp_min": 6.1,
          "weather": "sun",
          "wind": 1.7
         },
         {
          "date": "2013-03-27T00:00:00",
          "precipitation": 0.3,
          "temp_max": 13.3,
          "temp_min": 7.2,
          "weather": "rain",
          "wind": 1.6
         },
         {
          "date": "2013-03-28T00:00:00",
          "precipitation": 2,
          "temp_max": 16.1,
          "temp_min": 8.3,
          "weather": "rain",
          "wind": 1.3
         },
         {
          "date": "2013-03-29T00:00:00",
          "precipitation": 0,
          "temp_max": 18.3,
          "temp_min": 7.8,
          "weather": "rain",
          "wind": 2.5
         },
         {
          "date": "2013-03-30T00:00:00",
          "precipitation": 0,
          "temp_max": 20,
          "temp_min": 5.6,
          "weather": "drizzle",
          "wind": 4.4
         },
         {
          "date": "2013-03-31T00:00:00",
          "precipitation": 0,
          "temp_max": 20.6,
          "temp_min": 6.7,
          "weather": "sun",
          "wind": 2.9
         },
         {
          "date": "2013-04-01T00:00:00",
          "precipitation": 0,
          "temp_max": 17.2,
          "temp_min": 8.3,
          "weather": "sun",
          "wind": 3.6
         },
         {
          "date": "2013-04-02T00:00:00",
          "precipitation": 0,
          "temp_max": 13.9,
          "temp_min": 8.9,
          "weather": "sun",
          "wind": 2.2
         },
         {
          "date": "2013-04-03T00:00:00",
          "precipitation": 0,
          "temp_max": 16.7,
          "temp_min": 7.8,
          "weather": "sun",
          "wind": 1.6
         },
         {
          "date": "2013-04-04T00:00:00",
          "precipitation": 8.4,
          "temp_max": 14.4,
          "temp_min": 10,
          "weather": "fog",
          "wind": 3
         },
         {
          "date": "2013-04-05T00:00:00",
          "precipitation": 18.5,
          "temp_max": 13.9,
          "temp_min": 10,
          "weather": "fog",
          "wind": 5.6
         },
         {
          "date": "2013-04-06T00:00:00",
          "precipitation": 12.7,
          "temp_max": 12.2,
          "temp_min": 7.2,
          "weather": "fog",
          "wind": 5
         },
         {
          "date": "2013-04-07T00:00:00",
          "precipitation": 39.1,
          "temp_max": 8.3,
          "temp_min": 5,
          "weather": "fog",
          "wind": 3.9
         },
         {
          "date": "2013-04-08T00:00:00",
          "precipitation": 0.8,
          "temp_max": 13.3,
          "temp_min": 6.1,
          "weather": "fog",
          "wind": 3.1
         },
         {
          "date": "2013-04-09T00:00:00",
          "precipitation": 0,
          "temp_max": 12.2,
          "temp_min": 6.1,
          "weather": "sun",
          "wind": 2.4
         },
         {
          "date": "2013-04-10T00:00:00",
          "precipitation": 9.4,
          "temp_max": 15,
          "temp_min": 8.9,
          "weather": "sun",
          "wind": 6.4
         },
         {
          "date": "2013-04-11T00:00:00",
          "precipitation": 1.5,
          "temp_max": 12.2,
          "temp_min": 6.7,
          "weather": "fog",
          "wind": 3.8
         },
         {
          "date": "2013-04-12T00:00:00",
          "precipitation": 9.7,
          "temp_max": 7.8,
          "temp_min": 4.4,
          "weather": "fog",
          "wind": 4.6
         },
         {
          "date": "2013-04-13T00:00:00",
          "precipitation": 9.4,
          "temp_max": 10.6,
          "temp_min": 3.3,
          "weather": "fog",
          "wind": 5.7
         },
         {
          "date": "2013-04-14T00:00:00",
          "precipitation": 5.8,
          "temp_max": 12.8,
          "temp_min": 4.4,
          "weather": "fog",
          "wind": 2.3
         },
         {
          "date": "2013-04-15T00:00:00",
          "precipitation": 0,
          "temp_max": 13.9,
          "temp_min": 4.4,
          "weather": "fog",
          "wind": 2.4
         },
         {
          "date": "2013-04-16T00:00:00",
          "precipitation": 0.3,
          "temp_max": 13.9,
          "temp_min": 3.3,
          "weather": "sun",
          "wind": 2.6
         },
         {
          "date": "2013-04-17T00:00:00",
          "precipitation": 0,
          "temp_max": 15,
          "temp_min": 3.9,
          "weather": "drizzle",
          "wind": 3.3
         },
         {
          "date": "2013-04-18T00:00:00",
          "precipitation": 5.3,
          "temp_max": 11.7,
          "temp_min": 6.7,
          "weather": "fog",
          "wind": 4
         },
         {
          "date": "2013-04-19T00:00:00",
          "precipitation": 20.6,
          "temp_max": 13.3,
          "temp_min": 9.4,
          "weather": "fog",
          "wind": 4.9
         },
         {
          "date": "2013-04-20T00:00:00",
          "precipitation": 0,
          "temp_max": 13.9,
          "temp_min": 8.3,
          "weather": "sun",
          "wind": 5.8
         },
         {
          "date": "2013-04-21T00:00:00",
          "precipitation": 3.3,
          "temp_max": 12.2,
          "temp_min": 6.7,
          "weather": "sun",
          "wind": 4.1
         },
         {
          "date": "2013-04-22T00:00:00",
          "precipitation": 0,
          "temp_max": 16.1,
          "temp_min": 5,
          "weather": "sun",
          "wind": 4.3
         },
         {
          "date": "2013-04-23T00:00:00",
          "precipitation": 0,
          "temp_max": 17.8,
          "temp_min": 3.9,
          "weather": "sun",
          "wind": 2.8
         },
         {
          "date": "2013-04-24T00:00:00",
          "precipitation": 0,
          "temp_max": 21.1,
          "temp_min": 6.1,
          "weather": "sun",
          "wind": 3
         },
         {
          "date": "2013-04-25T00:00:00",
          "precipitation": 0,
          "temp_max": 21.7,
          "temp_min": 6.7,
          "weather": "sun",
          "wind": 1.1
         },
         {
          "date": "2013-04-26T00:00:00",
          "precipitation": 0,
          "temp_max": 20.6,
          "temp_min": 8.3,
          "weather": "fog",
          "wind": 2.2
         },
         {
          "date": "2013-04-27T00:00:00",
          "precipitation": 0,
          "temp_max": 13.9,
          "temp_min": 10.6,
          "weather": "sun",
          "wind": 5.9
         },
         {
          "date": "2013-04-28T00:00:00",
          "precipitation": 1,
          "temp_max": 15,
          "temp_min": 9.4,
          "weather": "drizzle",
          "wind": 5.2
         },
         {
          "date": "2013-04-29T00:00:00",
          "precipitation": 3.8,
          "temp_max": 13.9,
          "temp_min": 6.7,
          "weather": "fog",
          "wind": 4.2
         },
         {
          "date": "2013-04-30T00:00:00",
          "precipitation": 0,
          "temp_max": 12.8,
          "temp_min": 4.4,
          "weather": "sun",
          "wind": 2.4
         },
         {
          "date": "2013-05-01T00:00:00",
          "precipitation": 0,
          "temp_max": 18.3,
          "temp_min": 3.3,
          "weather": "sun",
          "wind": 3.1
         },
         {
          "date": "2013-05-02T00:00:00",
          "precipitation": 0,
          "temp_max": 20.6,
          "temp_min": 6.7,
          "weather": "sun",
          "wind": 4
         },
         {
          "date": "2013-05-03T00:00:00",
          "precipitation": 0,
          "temp_max": 21.7,
          "temp_min": 9.4,
          "weather": "sun",
          "wind": 4.9
         },
         {
          "date": "2013-05-04T00:00:00",
          "precipitation": 0,
          "temp_max": 25,
          "temp_min": 11.1,
          "weather": "sun",
          "wind": 6.5
         },
         {
          "date": "2013-05-05T00:00:00",
          "precipitation": 0,
          "temp_max": 28.9,
          "temp_min": 11.7,
          "weather": "sun",
          "wind": 5.3
         },
         {
          "date": "2013-05-06T00:00:00",
          "precipitation": 0,
          "temp_max": 30.6,
          "temp_min": 12.2,
          "weather": "sun",
          "wind": 2
         },
         {
          "date": "2013-05-07T00:00:00",
          "precipitation": 0,
          "temp_max": 20.6,
          "temp_min": 11.1,
          "weather": "sun",
          "wind": 3.3
         },
         {
          "date": "2013-05-08T00:00:00",
          "precipitation": 0,
          "temp_max": 19.4,
          "temp_min": 11.1,
          "weather": "sun",
          "wind": 1.9
         },
         {
          "date": "2013-05-09T00:00:00",
          "precipitation": 0,
          "temp_max": 22.8,
          "temp_min": 10,
          "weather": "sun",
          "wind": 1.3
         },
         {
          "date": "2013-05-10T00:00:00",
          "precipitation": 0,
          "temp_max": 26.1,
          "temp_min": 9.4,
          "weather": "sun",
          "wind": 1
         },
         {
          "date": "2013-05-11T00:00:00",
          "precipitation": 0,
          "temp_max": 27.2,
          "temp_min": 12.2,
          "weather": "sun",
          "wind": 2.6
         },
         {
          "date": "2013-05-12T00:00:00",
          "precipitation": 6.6,
          "temp_max": 21.7,
          "temp_min": 13.9,
          "weather": "fog",
          "wind": 3.9
         },
         {
          "date": "2013-05-13T00:00:00",
          "precipitation": 3.3,
          "temp_max": 18.9,
          "temp_min": 9.4,
          "weather": "sun",
          "wind": 5
         },
         {
          "date": "2013-05-14T00:00:00",
          "precipitation": 0,
          "temp_max": 18.3,
          "temp_min": 7.8,
          "weather": "sun",
          "wind": 2.4
         },
         {
          "date": "2013-05-15T00:00:00",
          "precipitation": 1,
          "temp_max": 17.2,
          "temp_min": 8.9,
          "weather": "fog",
          "wind": 2.3
         },
         {
          "date": "2013-05-16T00:00:00",
          "precipitation": 0,
          "temp_max": 21.7,
          "temp_min": 12.2,
          "weather": "fog",
          "wind": 2.7
         },
         {
          "date": "2013-05-17T00:00:00",
          "precipitation": 0.5,
          "temp_max": 17.2,
          "temp_min": 11.7,
          "weather": "sun",
          "wind": 3.7
         },
         {
          "date": "2013-05-18T00:00:00",
          "precipitation": 0,
          "temp_max": 16.7,
          "temp_min": 11.1,
          "weather": "sun",
          "wind": 2.9
         },
         {
          "date": "2013-05-19T00:00:00",
          "precipitation": 0,
          "temp_max": 18.3,
          "temp_min": 10.6,
          "weather": "sun",
          "wind": 2.3
         },
         {
          "date": "2013-05-20T00:00:00",
          "precipitation": 0,
          "temp_max": 19.4,
          "temp_min": 9.4,
          "weather": "sun",
          "wind": 1.8
         },
         {
          "date": "2013-05-21T00:00:00",
          "precipitation": 13.7,
          "temp_max": 15.6,
          "temp_min": 8.3,
          "weather": "fog",
          "wind": 4.8
         },
         {
          "date": "2013-05-22T00:00:00",
          "precipitation": 13.7,
          "temp_max": 11.1,
          "temp_min": 7.2,
          "weather": "fog",
          "wind": 3
         },
         {
          "date": "2013-05-23T00:00:00",
          "precipitation": 4.1,
          "temp_max": 12.2,
          "temp_min": 6.7,
          "weather": "fog",
          "wind": 1.9
         },
         {
          "date": "2013-05-24T00:00:00",
          "precipitation": 0.3,
          "temp_max": 16.7,
          "temp_min": 8.9,
          "weather": "sun",
          "wind": 2.7
         },
         {
          "date": "2013-05-25T00:00:00",
          "precipitation": 0,
          "temp_max": 17.8,
          "temp_min": 10,
          "weather": "sun",
          "wind": 2.7
         },
         {
          "date": "2013-05-26T00:00:00",
          "precipitation": 1.5,
          "temp_max": 18.3,
          "temp_min": 10.6,
          "weather": "fog",
          "wind": 2.2
         },
         {
          "date": "2013-05-27T00:00:00",
          "precipitation": 9.7,
          "temp_max": 16.7,
          "temp_min": 11.1,
          "weather": "fog",
          "wind": 3.1
         },
         {
          "date": "2013-05-28T00:00:00",
          "precipitation": 0.5,
          "temp_max": 17.2,
          "temp_min": 11.7,
          "weather": "fog",
          "wind": 2.8
         },
         {
          "date": "2013-05-29T00:00:00",
          "precipitation": 5.6,
          "temp_max": 16.1,
          "temp_min": 9.4,
          "weather": "fog",
          "wind": 4
         },
         {
          "date": "2013-05-30T00:00:00",
          "precipitation": 0,
          "temp_max": 16.7,
          "temp_min": 9.4,
          "weather": "sun",
          "wind": 5.3
         },
         {
          "date": "2013-05-31T00:00:00",
          "precipitation": 0,
          "temp_max": 19.4,
          "temp_min": 11.1,
          "weather": "sun",
          "wind": 2.5
         },
         {
          "date": "2013-06-01T00:00:00",
          "precipitation": 0,
          "temp_max": 22.8,
          "temp_min": 12.2,
          "weather": "sun",
          "wind": 2.5
         },
         {
          "date": "2013-06-02T00:00:00",
          "precipitation": 1,
          "temp_max": 20.6,
          "temp_min": 12.2,
          "weather": "sun",
          "wind": 3.1
         },
         {
          "date": "2013-06-03T00:00:00",
          "precipitation": 0,
          "temp_max": 22.2,
          "temp_min": 11.1,
          "weather": "sun",
          "wind": 2.9
         },
         {
          "date": "2013-06-04T00:00:00",
          "precipitation": 0,
          "temp_max": 26.1,
          "temp_min": 12.2,
          "weather": "sun",
          "wind": 3.4
         },
         {
          "date": "2013-06-05T00:00:00",
          "precipitation": 0,
          "temp_max": 26.7,
          "temp_min": 14.4,
          "weather": "sun",
          "wind": 3.1
         },
         {
          "date": "2013-06-06T00:00:00",
          "precipitation": 0,
          "temp_max": 26.7,
          "temp_min": 12.2,
          "weather": "sun",
          "wind": 2.5
         },
         {
          "date": "2013-06-07T00:00:00",
          "precipitation": 0,
          "temp_max": 21.7,
          "temp_min": 13.3,
          "weather": "sun",
          "wind": 3.2
         },
         {
          "date": "2013-06-08T00:00:00",
          "precipitation": 0,
          "temp_max": 20.6,
          "temp_min": 12.8,
          "weather": "sun",
          "wind": 3.1
         },
         {
          "date": "2013-06-09T00:00:00",
          "precipitation": 0,
          "temp_max": 20.6,
          "temp_min": 11.1,
          "weather": "sun",
          "wind": 3.7
         },
         {
          "date": "2013-06-10T00:00:00",
          "precipitation": 0,
          "temp_max": 21.7,
          "temp_min": 11.7,
          "weather": "sun",
          "wind": 3.2
         },
         {
          "date": "2013-06-11T00:00:00",
          "precipitation": 0,
          "temp_max": 20,
          "temp_min": 10,
          "weather": "sun",
          "wind": 5.7
         },
         {
          "date": "2013-06-12T00:00:00",
          "precipitation": 0.3,
          "temp_max": 20.6,
          "temp_min": 11.7,
          "weather": "sun",
          "wind": 4.2
         },
         {
          "date": "2013-06-13T00:00:00",
          "precipitation": 0,
          "temp_max": 21.1,
          "temp_min": 11.7,
          "weather": "sun",
          "wind": 2.6
         },
         {
          "date": "2013-06-14T00:00:00",
          "precipitation": 0,
          "temp_max": 20,
          "temp_min": 12.2,
          "weather": "sun",
          "wind": 3.7
         },
         {
          "date": "2013-06-15T00:00:00",
          "precipitation": 0,
          "temp_max": 25.6,
          "temp_min": 10,
          "weather": "sun",
          "wind": 2.9
         },
         {
          "date": "2013-06-16T00:00:00",
          "precipitation": 0,
          "temp_max": 23.9,
          "temp_min": 12.8,
          "weather": "sun",
          "wind": 3.4
         },
         {
          "date": "2013-06-17T00:00:00",
          "precipitation": 0,
          "temp_max": 25.6,
          "temp_min": 13.9,
          "weather": "sun",
          "wind": 3
         },
         {
          "date": "2013-06-18T00:00:00",
          "precipitation": 0.3,
          "temp_max": 23.3,
          "temp_min": 13.3,
          "weather": "fog",
          "wind": 3.4
         },
         {
          "date": "2013-06-19T00:00:00",
          "precipitation": 0,
          "temp_max": 20,
          "temp_min": 12.8,
          "weather": "sun",
          "wind": 3.7
         },
         {
          "date": "2013-06-20T00:00:00",
          "precipitation": 3,
          "temp_max": 17.2,
          "temp_min": 12.8,
          "weather": "sun",
          "wind": 5
         },
         {
          "date": "2013-06-21T00:00:00",
          "precipitation": 0.3,
          "temp_max": 20.6,
          "temp_min": 12.2,
          "weather": "sun",
          "wind": 1.5
         },
         {
          "date": "2013-06-22T00:00:00",
          "precipitation": 0,
          "temp_max": 25.6,
          "temp_min": 11.7,
          "weather": "sun",
          "wind": 1.7
         },
         {
          "date": "2013-06-23T00:00:00",
          "precipitation": 7.9,
          "temp_max": 22.2,
          "temp_min": 15,
          "weather": "fog",
          "wind": 2.1
         },
         {
          "date": "2013-06-24T00:00:00",
          "precipitation": 4.8,
          "temp_max": 21.1,
          "temp_min": 13.9,
          "weather": "fog",
          "wind": 3.7
         },
         {
          "date": "2013-06-25T00:00:00",
          "precipitation": 9.9,
          "temp_max": 23.3,
          "temp_min": 14.4,
          "weather": "sun",
          "wind": 2.8
         },
         {
          "date": "2013-06-26T00:00:00",
          "precipitation": 2,
          "temp_max": 22.2,
          "temp_min": 15,
          "weather": "fog",
          "wind": 2.3
         },
         {
          "date": "2013-06-27T00:00:00",
          "precipitation": 3.6,
          "temp_max": 21.1,
          "temp_min": 16.7,
          "weather": "fog",
          "wind": 1.3
         },
         {
          "date": "2013-06-28T00:00:00",
          "precipitation": 0,
          "temp_max": 30.6,
          "temp_min": 16.1,
          "weather": "sun",
          "wind": 2.2
         },
         {
          "date": "2013-06-29T00:00:00",
          "precipitation": 0,
          "temp_max": 30,
          "temp_min": 18.3,
          "weather": "sun",
          "wind": 1.7
         },
         {
          "date": "2013-06-30T00:00:00",
          "precipitation": 0,
          "temp_max": 33.9,
          "temp_min": 17.2,
          "weather": "sun",
          "wind": 2.5
         },
         {
          "date": "2013-07-01T00:00:00",
          "precipitation": 0,
          "temp_max": 31.7,
          "temp_min": 18.3,
          "weather": "sun",
          "wind": 2.3
         },
         {
          "date": "2013-07-02T00:00:00",
          "precipitation": 0,
          "temp_max": 28.3,
          "temp_min": 15.6,
          "weather": "sun",
          "wind": 3
         },
         {
          "date": "2013-07-03T00:00:00",
          "precipitation": 0,
          "temp_max": 26.1,
          "temp_min": 16.7,
          "weather": "sun",
          "wind": 3.2
         },
         {
          "date": "2013-07-04T00:00:00",
          "precipitation": 0,
          "temp_max": 21.7,
          "temp_min": 13.9,
          "weather": "fog",
          "wind": 2.2
         },
         {
          "date": "2013-07-05T00:00:00",
          "precipitation": 0,
          "temp_max": 23.3,
          "temp_min": 13.9,
          "weather": "sun",
          "wind": 2.6
         },
         {
          "date": "2013-07-06T00:00:00",
          "precipitation": 0,
          "temp_max": 26.1,
          "temp_min": 13.3,
          "weather": "sun",
          "wind": 2.2
         },
         {
          "date": "2013-07-07T00:00:00",
          "precipitation": 0,
          "temp_max": 23.9,
          "temp_min": 13.9,
          "weather": "sun",
          "wind": 2.9
         },
         {
          "date": "2013-07-08T00:00:00",
          "precipitation": 0,
          "temp_max": 26.7,
          "temp_min": 13.3,
          "weather": "sun",
          "wind": 2.8
         },
         {
          "date": "2013-07-09T00:00:00",
          "precipitation": 0,
          "temp_max": 30,
          "temp_min": 15,
          "weather": "sun",
          "wind": 2.5
         },
         {
          "date": "2013-07-10T00:00:00",
          "precipitation": 0,
          "temp_max": 22.2,
          "temp_min": 13.9,
          "weather": "sun",
          "wind": 2.6
         },
         {
          "date": "2013-07-11T00:00:00",
          "precipitation": 0,
          "temp_max": 22.8,
          "temp_min": 12.2,
          "weather": "sun",
          "wind": 3
         },
         {
          "date": "2013-07-12T00:00:00",
          "precipitation": 0,
          "temp_max": 19.4,
          "temp_min": 13.3,
          "weather": "sun",
          "wind": 2.2
         },
         {
          "date": "2013-07-13T00:00:00",
          "precipitation": 0,
          "temp_max": 26.1,
          "temp_min": 11.1,
          "weather": "sun",
          "wind": 3.1
         },
         {
          "date": "2013-07-14T00:00:00",
          "precipitation": 0,
          "temp_max": 27.8,
          "temp_min": 12.8,
          "weather": "sun",
          "wind": 3
         },
         {
          "date": "2013-07-15T00:00:00",
          "precipitation": 0,
          "temp_max": 27.8,
          "temp_min": 14.4,
          "weather": "sun",
          "wind": 4.6
         },
         {
          "date": "2013-07-16T00:00:00",
          "precipitation": 0,
          "temp_max": 31.1,
          "temp_min": 18.3,
          "weather": "sun",
          "wind": 4.1
         },
         {
          "date": "2013-07-17T00:00:00",
          "precipitation": 0,
          "temp_max": 22.2,
          "temp_min": 15,
          "weather": "rain",
          "wind": 3.7
         },
         {
          "date": "2013-07-18T00:00:00",
          "precipitation": 0,
          "temp_max": 26.1,
          "temp_min": 13.9,
          "weather": "sun",
          "wind": 2
         },
         {
          "date": "2013-07-19T00:00:00",
          "precipitation": 0,
          "temp_max": 27.8,
          "temp_min": 13.3,
          "weather": "sun",
          "wind": 1.9
         },
         {
          "date": "2013-07-20T00:00:00",
          "precipitation": 0,
          "temp_max": 25,
          "temp_min": 13.3,
          "weather": "sun",
          "wind": 2
         },
         {
          "date": "2013-07-21T00:00:00",
          "precipitation": 0,
          "temp_max": 23.9,
          "temp_min": 12.8,
          "weather": "sun",
          "wind": 2.3
         },
         {
          "date": "2013-07-22T00:00:00",
          "precipitation": 0,
          "temp_max": 26.1,
          "temp_min": 13.3,
          "weather": "fog",
          "wind": 2.4
         },
         {
          "date": "2013-07-23T00:00:00",
          "precipitation": 0,
          "temp_max": 31.1,
          "temp_min": 13.9,
          "weather": "sun",
          "wind": 3
         },
         {
          "date": "2013-07-24T00:00:00",
          "precipitation": 0,
          "temp_max": 31.1,
          "temp_min": 14.4,
          "weather": "sun",
          "wind": 2.5
         },
         {
          "date": "2013-07-25T00:00:00",
          "precipitation": 0,
          "temp_max": 31.1,
          "temp_min": 12.8,
          "weather": "sun",
          "wind": 2.3
         },
         {
          "date": "2013-07-26T00:00:00",
          "precipitation": 0,
          "temp_max": 31.1,
          "temp_min": 14.4,
          "weather": "sun",
          "wind": 2.9
         },
         {
          "date": "2013-07-27T00:00:00",
          "precipitation": 0,
          "temp_max": 25.6,
          "temp_min": 12.8,
          "weather": "sun",
          "wind": 2.6
         },
         {
          "date": "2013-07-28T00:00:00",
          "precipitation": 0,
          "temp_max": 21.1,
          "temp_min": 12.2,
          "weather": "fog",
          "wind": 3.4
         },
         {
          "date": "2013-07-29T00:00:00",
          "precipitation": 0,
          "temp_max": 25,
          "temp_min": 13.3,
          "weather": "sun",
          "wind": 1.4
         },
         {
          "date": "2013-07-30T00:00:00",
          "precipitation": 0,
          "temp_max": 25,
          "temp_min": 13.3,
          "weather": "sun",
          "wind": 2.8
         },
         {
          "date": "2013-07-31T00:00:00",
          "precipitation": 0,
          "temp_max": 21.7,
          "temp_min": 13.3,
          "weather": "sun",
          "wind": 1.8
         },
         {
          "date": "2013-08-01T00:00:00",
          "precipitation": 0,
          "temp_max": 20.6,
          "temp_min": 13.3,
          "weather": "sun",
          "wind": 3.9
         },
         {
          "date": "2013-08-02T00:00:00",
          "precipitation": 2,
          "temp_max": 17.2,
          "temp_min": 15,
          "weather": "sun",
          "wind": 2
         },
         {
          "date": "2013-08-03T00:00:00",
          "precipitation": 0,
          "temp_max": 25,
          "temp_min": 15.6,
          "weather": "fog",
          "wind": 2.4
         },
         {
          "date": "2013-08-04T00:00:00",
          "precipitation": 0,
          "temp_max": 28.9,
          "temp_min": 15,
          "weather": "sun",
          "wind": 3.4
         },
         {
          "date": "2013-08-05T00:00:00",
          "precipitation": 0,
          "temp_max": 30,
          "temp_min": 15,
          "weather": "sun",
          "wind": 2.1
         },
         {
          "date": "2013-08-06T00:00:00",
          "precipitation": 0,
          "temp_max": 30.6,
          "temp_min": 13.9,
          "weather": "sun",
          "wind": 1.4
         },
         {
          "date": "2013-08-07T00:00:00",
          "precipitation": 0,
          "temp_max": 31.1,
          "temp_min": 13.9,
          "weather": "sun",
          "wind": 1.9
         },
         {
          "date": "2013-08-08T00:00:00",
          "precipitation": 0,
          "temp_max": 28.3,
          "temp_min": 14.4,
          "weather": "sun",
          "wind": 2.5
         },
         {
          "date": "2013-08-09T00:00:00",
          "precipitation": 0,
          "temp_max": 28.3,
          "temp_min": 14.4,
          "weather": "rain",
          "wind": 2.1
         },
         {
          "date": "2013-08-10T00:00:00",
          "precipitation": 2.3,
          "temp_max": 25.6,
          "temp_min": 15,
          "weather": "sun",
          "wind": 2.9
         },
         {
          "date": "2013-08-11T00:00:00",
          "precipitation": 0,
          "temp_max": 25,
          "temp_min": 14.4,
          "weather": "sun",
          "wind": 2.9
         },
         {
          "date": "2013-08-12T00:00:00",
          "precipitation": 0,
          "temp_max": 25.6,
          "temp_min": 16.1,
          "weather": "sun",
          "wind": 1.9
         },
         {
          "date": "2013-08-13T00:00:00",
          "precipitation": 0,
          "temp_max": 27.8,
          "temp_min": 15,
          "weather": "sun",
          "wind": 1.8
         },
         {
          "date": "2013-08-14T00:00:00",
          "precipitation": 0.8,
          "temp_max": 27.2,
          "temp_min": 15,
          "weather": "sun",
          "wind": 2
         },
         {
          "date": "2013-08-15T00:00:00",
          "precipitation": 1.8,
          "temp_max": 21.1,
          "temp_min": 17.2,
          "weather": "sun",
          "wind": 1
         },
         {
          "date": "2013-08-16T00:00:00",
          "precipitation": 0,
          "temp_max": 28.9,
          "temp_min": 16.1,
          "weather": "fog",
          "wind": 2.2
         },
         {
          "date": "2013-08-17T00:00:00",
          "precipitation": 0,
          "temp_max": 25.6,
          "temp_min": 17.2,
          "weather": "sun",
          "wind": 3
         },
         {
          "date": "2013-08-18T00:00:00",
          "precipitation": 0,
          "temp_max": 26.1,
          "temp_min": 15.6,
          "weather": "sun",
          "wind": 3.1
         },
         {
          "date": "2013-08-19T00:00:00",
          "precipitation": 0,
          "temp_max": 26.7,
          "temp_min": 15.6,
          "weather": "sun",
          "wind": 3
         },
         {
          "date": "2013-08-20T00:00:00",
          "precipitation": 0,
          "temp_max": 25.6,
          "temp_min": 16.1,
          "weather": "sun",
          "wind": 4.6
         },
         {
          "date": "2013-08-21T00:00:00",
          "precipitation": 0,
          "temp_max": 27.8,
          "temp_min": 15,
          "weather": "sun",
          "wind": 4.3
         },
         {
          "date": "2013-08-22T00:00:00",
          "precipitation": 0,
          "temp_max": 28.9,
          "temp_min": 15,
          "weather": "sun",
          "wind": 1.9
         },
         {
          "date": "2013-08-23T00:00:00",
          "precipitation": 0,
          "temp_max": 25,
          "temp_min": 16.1,
          "weather": "sun",
          "wind": 4.1
         },
         {
          "date": "2013-08-24T00:00:00",
          "precipitation": 0,
          "temp_max": 25,
          "temp_min": 16.7,
          "weather": "sun",
          "wind": 2.7
         },
         {
          "date": "2013-08-25T00:00:00",
          "precipitation": 0.3,
          "temp_max": 22.2,
          "temp_min": 16.1,
          "weather": "sun",
          "wind": 2.6
         },
         {
          "date": "2013-08-26T00:00:00",
          "precipitation": 1,
          "temp_max": 24.4,
          "temp_min": 16.1,
          "weather": "sun",
          "wind": 1.9
         },
         {
          "date": "2013-08-27T00:00:00",
          "precipitation": 1.3,
          "temp_max": 26.7,
          "temp_min": 17.2,
          "weather": "sun",
          "wind": 1.4
         },
         {
          "date": "2013-08-28T00:00:00",
          "precipitation": 5.6,
          "temp_max": 26.7,
          "temp_min": 15.6,
          "weather": "fog",
          "wind": 1.3
         },
         {
          "date": "2013-08-29T00:00:00",
          "precipitation": 19.3,
          "temp_max": 23.9,
          "temp_min": 18.3,
          "weather": "sun",
          "wind": 3
         },
         {
          "date": "2013-08-30T00:00:00",
          "precipitation": 0,
          "temp_max": 26.1,
          "temp_min": 16.1,
          "weather": "sun",
          "wind": 2.9
         },
         {
          "date": "2013-08-31T00:00:00",
          "precipitation": 0,
          "temp_max": 27.8,
          "temp_min": 13.9,
          "weather": "sun",
          "wind": 2.6
         },
         {
          "date": "2013-09-01T00:00:00",
          "precipitation": 0,
          "temp_max": 27.8,
          "temp_min": 15.6,
          "weather": "sun",
          "wind": 2.5
         },
         {
          "date": "2013-09-02T00:00:00",
          "precipitation": 0,
          "temp_max": 27.8,
          "temp_min": 17.2,
          "weather": "sun",
          "wind": 2.1
         },
         {
          "date": "2013-09-03T00:00:00",
          "precipitation": 2.3,
          "temp_max": 25,
          "temp_min": 16.7,
          "weather": "fog",
          "wind": 1.7
         },
         {
          "date": "2013-09-04T00:00:00",
          "precipitation": 0.3,
          "temp_max": 22.8,
          "temp_min": 16.1,
          "weather": "fog",
          "wind": 2.4
         },
         {
          "date": "2013-09-05T00:00:00",
          "precipitation": 27.7,
          "temp_max": 20,
          "temp_min": 15.6,
          "weather": "sun",
          "wind": 2.5
         },
         {
          "date": "2013-09-06T00:00:00",
          "precipitation": 21.3,
          "temp_max": 21.7,
          "temp_min": 16.1,
          "weather": "fog",
          "wind": 2.6
         },
         {
          "date": "2013-09-07T00:00:00",
          "precipitation": 0,
          "temp_max": 23.3,
          "temp_min": 17.2,
          "weather": "sun",
          "wind": 2
         },
         {
          "date": "2013-09-08T00:00:00",
          "precipitation": 0,
          "temp_max": 26.7,
          "temp_min": 14.4,
          "weather": "fog",
          "wind": 1.5
         },
         {
          "date": "2013-09-09T00:00:00",
          "precipitation": 0,
          "temp_max": 26.1,
          "temp_min": 13.9,
          "weather": "sun",
          "wind": 2.1
         },
         {
          "date": "2013-09-10T00:00:00",
          "precipitation": 0,
          "temp_max": 26.7,
          "temp_min": 15,
          "weather": "sun",
          "wind": 3.7
         },
         {
          "date": "2013-09-11T00:00:00",
          "precipitation": 0,
          "temp_max": 33.9,
          "temp_min": 16.1,
          "weather": "sun",
          "wind": 2.4
         },
         {
          "date": "2013-09-12T00:00:00",
          "precipitation": 0,
          "temp_max": 25.6,
          "temp_min": 15,
          "weather": "sun",
          "wind": 1.7
         },
         {
          "date": "2013-09-13T00:00:00",
          "precipitation": 0,
          "temp_max": 18.9,
          "temp_min": 15.6,
          "weather": "sun",
          "wind": 2
         },
         {
          "date": "2013-09-14T00:00:00",
          "precipitation": 0,
          "temp_max": 21.7,
          "temp_min": 15.6,
          "weather": "fog",
          "wind": 1.4
         },
         {
          "date": "2013-09-15T00:00:00",
          "precipitation": 3.3,
          "temp_max": 18.9,
          "temp_min": 14.4,
          "weather": "sun",
          "wind": 2.2
         },
         {
          "date": "2013-09-16T00:00:00",
          "precipitation": 0.3,
          "temp_max": 21.7,
          "temp_min": 15,
          "weather": "fog",
          "wind": 4.3
         },
         {
          "date": "2013-09-17T00:00:00",
          "precipitation": 0,
          "temp_max": 17.8,
          "temp_min": 13.9,
          "weather": "sun",
          "wind": 2.3
         },
         {
          "date": "2013-09-18T00:00:00",
          "precipitation": 0,
          "temp_max": 21.1,
          "temp_min": 13.3,
          "weather": "sun",
          "wind": 2.5
         },
         {
          "date": "2013-09-19T00:00:00",
          "precipitation": 0,
          "temp_max": 25.6,
          "temp_min": 10,
          "weather": "sun",
          "wind": 1.5
         },
         {
          "date": "2013-09-20T00:00:00",
          "precipitation": 3.6,
          "temp_max": 23.3,
          "temp_min": 13.3,
          "weather": "fog",
          "wind": 3
         },
         {
          "date": "2013-09-21T00:00:00",
          "precipitation": 0,
          "temp_max": 21.1,
          "temp_min": 13.3,
          "weather": "sun",
          "wind": 2.5
         },
         {
          "date": "2013-09-22T00:00:00",
          "precipitation": 13.5,
          "temp_max": 17.2,
          "temp_min": 13.3,
          "weather": "fog",
          "wind": 5.5
         },
         {
          "date": "2013-09-23T00:00:00",
          "precipitation": 2.8,
          "temp_max": 16.1,
          "temp_min": 11.1,
          "weather": "fog",
          "wind": 4.5
         },
         {
          "date": "2013-09-24T00:00:00",
          "precipitation": 0,
          "temp_max": 17.8,
          "temp_min": 10,
          "weather": "sun",
          "wind": 2.6
         },
         {
          "date": "2013-09-25T00:00:00",
          "precipitation": 2,
          "temp_max": 16.1,
          "temp_min": 9.4,
          "weather": "fog",
          "wind": 3
         },
         {
          "date": "2013-09-26T00:00:00",
          "precipitation": 0,
          "temp_max": 17.2,
          "temp_min": 7.2,
          "weather": "sun",
          "wind": 2.2
         },
         {
          "date": "2013-09-27T00:00:00",
          "precipitation": 1,
          "temp_max": 13.9,
          "temp_min": 10.6,
          "weather": "fog",
          "wind": 4.3
         },
         {
          "date": "2013-09-28T00:00:00",
          "precipitation": 43.4,
          "temp_max": 16.7,
          "temp_min": 11.7,
          "weather": "fog",
          "wind": 6
         },
         {
          "date": "2013-09-29T00:00:00",
          "precipitation": 16.8,
          "temp_max": 14.4,
          "temp_min": 11.1,
          "weather": "sun",
          "wind": 7.1
         },
         {
          "date": "2013-09-30T00:00:00",
          "precipitation": 18.5,
          "temp_max": 13.9,
          "temp_min": 10,
          "weather": "fog",
          "wind": 6.3
         },
         {
          "date": "2013-10-01T00:00:00",
          "precipitation": 7.9,
          "temp_max": 14.4,
          "temp_min": 8.9,
          "weather": "fog",
          "wind": 4.7
         },
         {
          "date": "2013-10-02T00:00:00",
          "precipitation": 5.3,
          "temp_max": 12.8,
          "temp_min": 9.4,
          "weather": "fog",
          "wind": 2.4
         },
         {
          "date": "2013-10-03T00:00:00",
          "precipitation": 0.8,
          "temp_max": 14.4,
          "temp_min": 8.9,
          "weather": "fog",
          "wind": 0.9
         },
         {
          "date": "2013-10-04T00:00:00",
          "precipitation": 0,
          "temp_max": 17.8,
          "temp_min": 5.6,
          "weather": "sun",
          "wind": 1.1
         },
         {
          "date": "2013-10-05T00:00:00",
          "precipitation": 0,
          "temp_max": 20,
          "temp_min": 8.3,
          "weather": "sun",
          "wind": 1.6
         },
         {
          "date": "2013-10-06T00:00:00",
          "precipitation": 4.1,
          "temp_max": 22.8,
          "temp_min": 7.8,
          "weather": "fog",
          "wind": 2.6
         },
         {
          "date": "2013-10-07T00:00:00",
          "precipitation": 0.5,
          "temp_max": 16.1,
          "temp_min": 11.7,
          "weather": "fog",
          "wind": 6.3
         },
         {
          "date": "2013-10-08T00:00:00",
          "precipitation": 6.9,
          "temp_max": 13.9,
          "temp_min": 7.8,
          "weather": "rain",
          "wind": 3
         },
         {
          "date": "2013-10-09T00:00:00",
          "precipitation": 0,
          "temp_max": 15,
          "temp_min": 5.6,
          "weather": "sun",
          "wind": 1.6
         },
         {
          "date": "2013-10-10T00:00:00",
          "precipitation": 1,
          "temp_max": 14.4,
          "temp_min": 8.3,
          "weather": "fog",
          "wind": 1.7
         },
         {
          "date": "2013-10-11T00:00:00",
          "precipitation": 9.1,
          "temp_max": 13.9,
          "temp_min": 10.6,
          "weather": "sun",
          "wind": 1
         },
         {
          "date": "2013-10-12T00:00:00",
          "precipitation": 1,
          "temp_max": 14.4,
          "temp_min": 8.9,
          "weather": "fog",
          "wind": 2.2
         },
         {
          "date": "2013-10-13T00:00:00",
          "precipitation": 0,
          "temp_max": 15,
          "temp_min": 6.7,
          "weather": "fog",
          "wind": 1.8
         },
         {
          "date": "2013-10-14T00:00:00",
          "precipitation": 0,
          "temp_max": 15.6,
          "temp_min": 3.9,
          "weather": "sun",
          "wind": 1.6
         },
         {
          "date": "2013-10-15T00:00:00",
          "precipitation": 0,
          "temp_max": 15.6,
          "temp_min": 5,
          "weather": "sun",
          "wind": 0.9
         },
         {
          "date": "2013-10-16T00:00:00",
          "precipitation": 0,
          "temp_max": 12.8,
          "temp_min": 8.9,
          "weather": "fog",
          "wind": 2.7
         },
         {
          "date": "2013-10-17T00:00:00",
          "precipitation": 0,
          "temp_max": 14.4,
          "temp_min": 8.9,
          "weather": "fog",
          "wind": 1.7
         },
         {
          "date": "2013-10-18T00:00:00",
          "precipitation": 0,
          "temp_max": 12.8,
          "temp_min": 7.2,
          "weather": "sun",
          "wind": 1.2
         },
         {
          "date": "2013-10-19T00:00:00",
          "precipitation": 0,
          "temp_max": 10.6,
          "temp_min": 7.8,
          "weather": "sun",
          "wind": 1.4
         },
         {
          "date": "2013-10-20T00:00:00",
          "precipitation": 0,
          "temp_max": 10.6,
          "temp_min": 7.8,
          "weather": "sun",
          "wind": 2.4
         },
         {
          "date": "2013-10-21T00:00:00",
          "precipitation": 0,
          "temp_max": 11.7,
          "temp_min": 8.3,
          "weather": "sun",
          "wind": 2.5
         },
         {
          "date": "2013-10-22T00:00:00",
          "precipitation": 0,
          "temp_max": 14.4,
          "temp_min": 7.2,
          "weather": "sun",
          "wind": 1.9
         },
         {
          "date": "2013-10-23T00:00:00",
          "precipitation": 0,
          "temp_max": 12.8,
          "temp_min": 6.1,
          "weather": "sun",
          "wind": 0.4
         },
         {
          "date": "2013-10-24T00:00:00",
          "precipitation": 0,
          "temp_max": 10,
          "temp_min": 6.1,
          "weather": "sun",
          "wind": 0.6
         },
         {
          "date": "2013-10-25T00:00:00",
          "precipitation": 0,
          "temp_max": 12.2,
          "temp_min": 7.8,
          "weather": "sun",
          "wind": 1.8
         },
         {
          "date": "2013-10-26T00:00:00",
          "precipitation": 0,
          "temp_max": 11.7,
          "temp_min": 8.3,
          "weather": "sun",
          "wind": 2.7
         },
         {
          "date": "2013-10-27T00:00:00",
          "precipitation": 1.8,
          "temp_max": 13.9,
          "temp_min": 8.3,
          "weather": "fog",
          "wind": 4.4
         },
         {
          "date": "2013-10-28T00:00:00",
          "precipitation": 0,
          "temp_max": 14.4,
          "temp_min": 7.2,
          "weather": "sun",
          "wind": 5.1
         },
         {
          "date": "2013-10-29T00:00:00",
          "precipitation": 0,
          "temp_max": 13.3,
          "temp_min": 3.3,
          "weather": "sun",
          "wind": 2.2
         },
         {
          "date": "2013-10-30T00:00:00",
          "precipitation": 0.5,
          "temp_max": 15,
          "temp_min": 5.6,
          "weather": "sun",
          "wind": 3.9
         },
         {
          "date": "2013-10-31T00:00:00",
          "precipitation": 0.3,
          "temp_max": 14.4,
          "temp_min": 10.6,
          "weather": "fog",
          "wind": 2.2
         },
         {
          "date": "2013-11-01T00:00:00",
          "precipitation": 1.3,
          "temp_max": 17.8,
          "temp_min": 11.7,
          "weather": "sun",
          "wind": 1.4
         },
         {
          "date": "2013-11-02T00:00:00",
          "precipitation": 12.7,
          "temp_max": 14.4,
          "temp_min": 8.3,
          "weather": "fog",
          "wind": 7.9
         },
         {
          "date": "2013-11-03T00:00:00",
          "precipitation": 0.5,
          "temp_max": 12.2,
          "temp_min": 4.4,
          "weather": "sun",
          "wind": 2.4
         },
         {
          "date": "2013-11-04T00:00:00",
          "precipitation": 0,
          "temp_max": 10.6,
          "temp_min": 3.9,
          "weather": "drizzle",
          "wind": 1.6
         },
         {
          "date": "2013-11-05T00:00:00",
          "precipitation": 2.5,
          "temp_max": 13.3,
          "temp_min": 7.2,
          "weather": "fog",
          "wind": 3.1
         },
         {
          "date": "2013-11-06T00:00:00",
          "precipitation": 3.8,
          "temp_max": 12.8,
          "temp_min": 7.8,
          "weather": "sun",
          "wind": 1.7
         },
         {
          "date": "2013-11-07T00:00:00",
          "precipitation": 30,
          "temp_max": 11.1,
          "temp_min": 10,
          "weather": "fog",
          "wind": 7.2
         },
         {
          "date": "2013-11-08T00:00:00",
          "precipitation": 0,
          "temp_max": 13.3,
          "temp_min": 7.2,
          "weather": "sun",
          "wind": 4.1
         },
         {
          "date": "2013-11-09T00:00:00",
          "precipitation": 1.8,
          "temp_max": 11.1,
          "temp_min": 5,
          "weather": "sun",
          "wind": 1.4
         },
         {
          "date": "2013-11-10T00:00:00",
          "precipitation": 0,
          "temp_max": 11.1,
          "temp_min": 8.3,
          "weather": "sun",
          "wind": 4.4
         },
         {
          "date": "2013-11-11T00:00:00",
          "precipitation": 0,
          "temp_max": 16.1,
          "temp_min": 6.1,
          "weather": "fog",
          "wind": 2.6
         },
         {
          "date": "2013-11-12T00:00:00",
          "precipitation": 4.1,
          "temp_max": 15.6,
          "temp_min": 8.9,
          "weather": "fog",
          "wind": 2.2
         },
         {
          "date": "2013-11-13T00:00:00",
          "precipitation": 0,
          "temp_max": 13.9,
          "temp_min": 10.6,
          "weather": "sun",
          "wind": 3.8
         },
         {
          "date": "2013-11-14T00:00:00",
          "precipitation": 1.3,
          "temp_max": 11.1,
          "temp_min": 6.1,
          "weather": "fog",
          "wind": 1.1
         },
         {
          "date": "2013-11-15T00:00:00",
          "precipitation": 3,
          "temp_max": 10.6,
          "temp_min": 7.2,
          "weather": "sun",
          "wind": 6
         },
         {
          "date": "2013-11-16T00:00:00",
          "precipitation": 0,
          "temp_max": 10,
          "temp_min": 5,
          "weather": "sun",
          "wind": 4.6
         },
         {
          "date": "2013-11-17T00:00:00",
          "precipitation": 5.3,
          "temp_max": 11.7,
          "temp_min": 7.2,
          "weather": "fog",
          "wind": 5.4
         },
         {
          "date": "2013-11-18T00:00:00",
          "precipitation": 26.2,
          "temp_max": 12.8,
          "temp_min": 9.4,
          "weather": "fog",
          "wind": 3.9
         },
         {
          "date": "2013-11-19T00:00:00",
          "precipitation": 1,
          "temp_max": 13.3,
          "temp_min": 4.4,
          "weather": "fog",
          "wind": 5.1
         },
         {
          "date": "2013-11-20T00:00:00",
          "precipitation": 0,
          "temp_max": 7.8,
          "temp_min": 1.7,
          "weather": "sun",
          "wind": 4.3
         },
         {
          "date": "2013-11-21T00:00:00",
          "precipitation": 0,
          "temp_max": 7.8,
          "temp_min": -0.5,
          "weather": "sun",
          "wind": 3.6
         },
         {
          "date": "2013-11-22T00:00:00",
          "precipitation": 0,
          "temp_max": 9.4,
          "temp_min": 0,
          "weather": "sun",
          "wind": 4.6
         },
         {
          "date": "2013-11-23T00:00:00",
          "precipitation": 0,
          "temp_max": 11.1,
          "temp_min": 1.1,
          "weather": "sun",
          "wind": 2.6
         },
         {
          "date": "2013-11-24T00:00:00",
          "precipitation": 0,
          "temp_max": 11.7,
          "temp_min": 0.6,
          "weather": "fog",
          "wind": 0.9
         },
         {
          "date": "2013-11-25T00:00:00",
          "precipitation": 0,
          "temp_max": 12.2,
          "temp_min": 2.2,
          "weather": "sun",
          "wind": 0.5
         },
         {
          "date": "2013-11-26T00:00:00",
          "precipitation": 0,
          "temp_max": 12.2,
          "temp_min": 2.8,
          "weather": "sun",
          "wind": 1
         },
         {
          "date": "2013-11-27T00:00:00",
          "precipitation": 0,
          "temp_max": 14.4,
          "temp_min": 5.6,
          "weather": "sun",
          "wind": 1.3
         },
         {
          "date": "2013-11-28T00:00:00",
          "precipitation": 0,
          "temp_max": 11.7,
          "temp_min": 3.3,
          "weather": "sun",
          "wind": 0.7
         },
         {
          "date": "2013-11-29T00:00:00",
          "precipitation": 0.5,
          "temp_max": 9.4,
          "temp_min": 5,
          "weather": "fog",
          "wind": 2.1
         },
         {
          "date": "2013-11-30T00:00:00",
          "precipitation": 2.3,
          "temp_max": 11.1,
          "temp_min": 7.2,
          "weather": "fog",
          "wind": 3.9
         },
         {
          "date": "2013-12-01T00:00:00",
          "precipitation": 3,
          "temp_max": 13.3,
          "temp_min": 7.8,
          "weather": "fog",
          "wind": 8.8
         },
         {
          "date": "2013-12-02T00:00:00",
          "precipitation": 4.6,
          "temp_max": 7.8,
          "temp_min": 1.7,
          "weather": "sun",
          "wind": 3.5
         },
         {
          "date": "2013-12-03T00:00:00",
          "precipitation": 0,
          "temp_max": 5,
          "temp_min": -0.5,
          "weather": "sun",
          "wind": 5.6
         },
         {
          "date": "2013-12-04T00:00:00",
          "precipitation": 0,
          "temp_max": 4.4,
          "temp_min": -2.1,
          "weather": "sun",
          "wind": 1.6
         },
         {
          "date": "2013-12-05T00:00:00",
          "precipitation": 0,
          "temp_max": 1.1,
          "temp_min": -4.9,
          "weather": "sun",
          "wind": 2.6
         },
         {
          "date": "2013-12-06T00:00:00",
          "precipitation": 0,
          "temp_max": 1.1,
          "temp_min": -4.3,
          "weather": "sun",
          "wind": 4.7
         },
         {
          "date": "2013-12-07T00:00:00",
          "precipitation": 0,
          "temp_max": 0,
          "temp_min": -7.1,
          "weather": "sun",
          "wind": 3.1
         },
         {
          "date": "2013-12-08T00:00:00",
          "precipitation": 0,
          "temp_max": 2.2,
          "temp_min": -6.6,
          "weather": "sun",
          "wind": 2.2
         },
         {
          "date": "2013-12-09T00:00:00",
          "precipitation": 0,
          "temp_max": 1.1,
          "temp_min": -4.9,
          "weather": "sun",
          "wind": 1.3
         },
         {
          "date": "2013-12-10T00:00:00",
          "precipitation": 0,
          "temp_max": 5.6,
          "temp_min": 0.6,
          "weather": "sun",
          "wind": 1.5
         },
         {
          "date": "2013-12-11T00:00:00",
          "precipitation": 0,
          "temp_max": 5,
          "temp_min": -1.6,
          "weather": "sun",
          "wind": 0.8
         },
         {
          "date": "2013-12-12T00:00:00",
          "precipitation": 6.9,
          "temp_max": 5.6,
          "temp_min": -0.5,
          "weather": "sun",
          "wind": 2.3
         },
         {
          "date": "2013-12-13T00:00:00",
          "precipitation": 0.5,
          "temp_max": 9.4,
          "temp_min": 5.6,
          "weather": "fog",
          "wind": 2.9
         },
         {
          "date": "2013-12-14T00:00:00",
          "precipitation": 0,
          "temp_max": 9.4,
          "temp_min": 6.1,
          "weather": "sun",
          "wind": 3.7
         },
         {
          "date": "2013-12-15T00:00:00",
          "precipitation": 1.3,
          "temp_max": 11.7,
          "temp_min": 8.3,
          "weather": "fog",
          "wind": 3.9
         },
         {
          "date": "2013-12-16T00:00:00",
          "precipitation": 0.3,
          "temp_max": 10,
          "temp_min": 4.4,
          "weather": "sun",
          "wind": 1
         },
         {
          "date": "2013-12-17T00:00:00",
          "precipitation": 0,
          "temp_max": 8.3,
          "temp_min": 4.4,
          "weather": "sun",
          "wind": 2.7
         },
         {
          "date": "2013-12-18T00:00:00",
          "precipitation": 1.3,
          "temp_max": 7.8,
          "temp_min": 2.2,
          "weather": "fog",
          "wind": 2.8
         },
         {
          "date": "2013-12-19T00:00:00",
          "precipitation": 0,
          "temp_max": 5,
          "temp_min": 0,
          "weather": "sun",
          "wind": 2.1
         },
         {
          "date": "2013-12-20T00:00:00",
          "precipitation": 5.6,
          "temp_max": 8.3,
          "temp_min": 0.6,
          "weather": "fog",
          "wind": 3.7
         },
         {
          "date": "2013-12-21T00:00:00",
          "precipitation": 5.6,
          "temp_max": 8.9,
          "temp_min": 5.6,
          "weather": "fog",
          "wind": 2.3
         },
         {
          "date": "2013-12-22T00:00:00",
          "precipitation": 10.7,
          "temp_max": 10.6,
          "temp_min": 8.3,
          "weather": "fog",
          "wind": 4
         },
         {
          "date": "2013-12-23T00:00:00",
          "precipitation": 1.5,
          "temp_max": 11.7,
          "temp_min": 6.1,
          "weather": "fog",
          "wind": 5.9
         },
         {
          "date": "2013-12-24T00:00:00",
          "precipitation": 0,
          "temp_max": 8.3,
          "temp_min": 2.8,
          "weather": "sun",
          "wind": 1.7
         },
         {
          "date": "2013-12-25T00:00:00",
          "precipitation": 0,
          "temp_max": 6.7,
          "temp_min": 1.7,
          "weather": "sun",
          "wind": 0.8
         },
         {
          "date": "2013-12-26T00:00:00",
          "precipitation": 0,
          "temp_max": 6.7,
          "temp_min": 0.6,
          "weather": "sun",
          "wind": 0.5
         },
         {
          "date": "2013-12-27T00:00:00",
          "precipitation": 0.3,
          "temp_max": 8.9,
          "temp_min": 0,
          "weather": "fog",
          "wind": 2.1
         },
         {
          "date": "2013-12-28T00:00:00",
          "precipitation": 0,
          "temp_max": 9.4,
          "temp_min": 3.3,
          "weather": "sun",
          "wind": 1.3
         },
         {
          "date": "2013-12-29T00:00:00",
          "precipitation": 0,
          "temp_max": 7.2,
          "temp_min": 1.7,
          "weather": "sun",
          "wind": 1.1
         },
         {
          "date": "2013-12-30T00:00:00",
          "precipitation": 0.3,
          "temp_max": 8.9,
          "temp_min": 4.4,
          "weather": "sun",
          "wind": 2.6
         },
         {
          "date": "2013-12-31T00:00:00",
          "precipitation": 0.5,
          "temp_max": 8.3,
          "temp_min": 5,
          "weather": "sun",
          "wind": 1.7
         },
         {
          "date": "2014-01-01T00:00:00",
          "precipitation": 0,
          "temp_max": 7.2,
          "temp_min": 3.3,
          "weather": "sun",
          "wind": 1.2
         },
         {
          "date": "2014-01-02T00:00:00",
          "precipitation": 4.1,
          "temp_max": 10.6,
          "temp_min": 6.1,
          "weather": "sun",
          "wind": 3.2
         },
         {
          "date": "2014-01-03T00:00:00",
          "precipitation": 1.5,
          "temp_max": 8.9,
          "temp_min": 2.8,
          "weather": "fog",
          "wind": 2.6
         },
         {
          "date": "2014-01-04T00:00:00",
          "precipitation": 0,
          "temp_max": 7.8,
          "temp_min": 0.6,
          "weather": "fog",
          "wind": 2.7
         },
         {
          "date": "2014-01-05T00:00:00",
          "precipitation": 0,
          "temp_max": 8.3,
          "temp_min": -0.5,
          "weather": "sun",
          "wind": 3.7
         },
         {
          "date": "2014-01-06T00:00:00",
          "precipitation": 0.3,
          "temp_max": 7.8,
          "temp_min": -0.5,
          "weather": "fog",
          "wind": 2.6
         },
         {
          "date": "2014-01-07T00:00:00",
          "precipitation": 12.2,
          "temp_max": 8.3,
          "temp_min": 5,
          "weather": "sun",
          "wind": 1.6
         },
         {
          "date": "2014-01-08T00:00:00",
          "precipitation": 9.7,
          "temp_max": 10,
          "temp_min": 7.2,
          "weather": "fog",
          "wind": 4.6
         },
         {
          "date": "2014-01-09T00:00:00",
          "precipitation": 5.8,
          "temp_max": 9.4,
          "temp_min": 5.6,
          "weather": "fog",
          "wind": 6.3
         },
         {
          "date": "2014-01-10T00:00:00",
          "precipitation": 4.3,
          "temp_max": 12.8,
          "temp_min": 8.3,
          "weather": "sun",
          "wind": 7
         },
         {
          "date": "2014-01-11T00:00:00",
          "precipitation": 21.3,
          "temp_max": 14.4,
          "temp_min": 7.2,
          "weather": "fog",
          "wind": 8.8
         },
         {
          "date": "2014-01-12T00:00:00",
          "precipitation": 1.5,
          "temp_max": 11.1,
          "temp_min": 5.6,
          "weather": "fog",
          "wind": 8.1
         },
         {
          "date": "2014-01-13T00:00:00",
          "precipitation": 0,
          "temp_max": 10.6,
          "temp_min": 10,
          "weather": "sun",
          "wind": 7.1
         },
         {
          "date": "2014-01-14T00:00:00",
          "precipitation": 0,
          "temp_max": 11.1,
          "temp_min": 7.2,
          "weather": "sun",
          "wind": 1.3
         },
         {
          "date": "2014-01-15T00:00:00",
          "precipitation": 0,
          "temp_max": 11.1,
          "temp_min": 5.6,
          "weather": "sun",
          "wind": 2.5
         },
         {
          "date": "2014-01-16T00:00:00",
          "precipitation": 0,
          "temp_max": 6.7,
          "temp_min": 4.4,
          "weather": "sun",
          "wind": 2.7
         },
         {
          "date": "2014-01-17T00:00:00",
          "precipitation": 0,
          "temp_max": 5.6,
          "temp_min": 2.8,
          "weather": "sun",
          "wind": 2.3
         },
         {
          "date": "2014-01-18T00:00:00",
          "precipitation": 0,
          "temp_max": 9.4,
          "temp_min": 0.6,
          "weather": "sun",
          "wind": 2.2
         },
         {
          "date": "2014-01-19T00:00:00",
          "precipitation": 0,
          "temp_max": 6.1,
          "temp_min": 3.3,
          "weather": "sun",
          "wind": 2.5
         },
         {
          "date": "2014-01-20T00:00:00",
          "precipitation": 0,
          "temp_max": 10,
          "temp_min": 2.8,
          "weather": "sun",
          "wind": 2.2
         },
         {
          "date": "2014-01-21T00:00:00",
          "precipitation": 0,
          "temp_max": 10,
          "temp_min": 1.7,
          "weather": "sun",
          "wind": 1.5
         },
         {
          "date": "2014-01-22T00:00:00",
          "precipitation": 0.5,
          "temp_max": 9.4,
          "temp_min": 5.6,
          "weather": "sun",
          "wind": 2.6
         },
         {
          "date": "2014-01-23T00:00:00",
          "precipitation": 0,
          "temp_max": 10,
          "temp_min": 2.8,
          "weather": "fog",
          "wind": 5.2
         },
         {
          "date": "2014-01-24T00:00:00",
          "precipitation": 0,
          "temp_max": 12.8,
          "temp_min": 1.1,
          "weather": "sun",
          "wind": 1.9
         },
         {
          "date": "2014-01-25T00:00:00",
          "precipitation": 0,
          "temp_max": 12.2,
          "temp_min": 1.1,
          "weather": "sun",
          "wind": 0.8
         },
         {
          "date": "2014-01-26T00:00:00",
          "precipitation": 0,
          "temp_max": 8.3,
          "temp_min": 0.6,
          "weather": "sun",
          "wind": 1.3
         },
         {
          "date": "2014-01-27T00:00:00",
          "precipitation": 0,
          "temp_max": 9.4,
          "temp_min": 1.7,
          "weather": "sun",
          "wind": 1.3
         },
         {
          "date": "2014-01-28T00:00:00",
          "precipitation": 8.9,
          "temp_max": 11.1,
          "temp_min": 6.1,
          "weather": "fog",
          "wind": 1.6
         },
         {
          "date": "2014-01-29T00:00:00",
          "precipitation": 21.6,
          "temp_max": 11.1,
          "temp_min": 7.2,
          "weather": "fog",
          "wind": 3.4
         },
         {
          "date": "2014-01-30T00:00:00",
          "precipitation": 0,
          "temp_max": 8.3,
          "temp_min": 6.1,
          "weather": "sun",
          "wind": 6.4
         },
         {
          "date": "2014-01-31T00:00:00",
          "precipitation": 2.3,
          "temp_max": 7.8,
          "temp_min": 5.6,
          "weather": "fog",
          "wind": 2.6
         },
         {
          "date": "2014-02-01T00:00:00",
          "precipitation": 2,
          "temp_max": 7.8,
          "temp_min": 2.8,
          "weather": "sun",
          "wind": 0.8
         },
         {
          "date": "2014-02-02T00:00:00",
          "precipitation": 0,
          "temp_max": 8.9,
          "temp_min": 1.1,
          "weather": "sun",
          "wind": 2.5
         },
         {
          "date": "2014-02-03T00:00:00",
          "precipitation": 0,
          "temp_max": 5,
          "temp_min": 0,
          "weather": "sun",
          "wind": 4.3
         },
         {
          "date": "2014-02-04T00:00:00",
          "precipitation": 0,
          "temp_max": 2.8,
          "temp_min": -2.1,
          "weather": "sun",
          "wind": 4.7
         },
         {
          "date": "2014-02-05T00:00:00",
          "precipitation": 0,
          "temp_max": -0.5,
          "temp_min": -5.5,
          "weather": "sun",
          "wind": 6.6
         },
         {
          "date": "2014-02-06T00:00:00",
          "precipitation": 0,
          "temp_max": -1.6,
          "temp_min": -6,
          "weather": "sun",
          "wind": 4.5
         },
         {
          "date": "2014-02-07T00:00:00",
          "precipitation": 0,
          "temp_max": 3.3,
          "temp_min": -4.9,
          "weather": "sun",
          "wind": 4.2
         },
         {
          "date": "2014-02-08T00:00:00",
          "precipitation": 5.1,
          "temp_max": 5.6,
          "temp_min": -0.5,
          "weather": "fog",
          "wind": 4.6
         },
         {
          "date": "2014-02-09T00:00:00",
          "precipitation": 0.5,
          "temp_max": 3.9,
          "temp_min": 0,
          "weather": "fog",
          "wind": 2.4
         },
         {
          "date": "2014-02-10T00:00:00",
          "precipitation": 18.3,
          "temp_max": 10,
          "temp_min": 2.2,
          "weather": "fog",
          "wind": 4.7
         },
         {
          "date": "2014-02-11T00:00:00",
          "precipitation": 17,
          "temp_max": 12.2,
          "temp_min": 5.6,
          "weather": "fog",
          "wind": 3.8
         },
         {
          "date": "2014-02-12T00:00:00",
          "precipitation": 4.6,
          "temp_max": 12.2,
          "temp_min": 7.2,
          "weather": "fog",
          "wind": 6.4
         },
         {
          "date": "2014-02-13T00:00:00",
          "precipitation": 1.8,
          "temp_max": 12.8,
          "temp_min": 7.8,
          "weather": "fog",
          "wind": 6.3
         },
         {
          "date": "2014-02-14T00:00:00",
          "precipitation": 9.4,
          "temp_max": 11.7,
          "temp_min": 6.1,
          "weather": "fog",
          "wind": 6.4
         },
         {
          "date": "2014-02-15T00:00:00",
          "precipitation": 11.7,
          "temp_max": 11.1,
          "temp_min": 5,
          "weather": "fog",
          "wind": 5.1
         },
         {
          "date": "2014-02-16T00:00:00",
          "precipitation": 26.4,
          "temp_max": 9.4,
          "temp_min": 3.9,
          "weather": "fog",
          "wind": 7.9
         },
         {
          "date": "2014-02-17T00:00:00",
          "precipitation": 14.5,
          "temp_max": 8.3,
          "temp_min": 4.4,
          "weather": "fog",
          "wind": 5.5
         },
         {
          "date": "2014-02-18T00:00:00",
          "precipitation": 15.2,
          "temp_max": 8.9,
          "temp_min": 5,
          "weather": "fog",
          "wind": 6.2
         },
         {
          "date": "2014-02-19T00:00:00",
          "precipitation": 1,
          "temp_max": 8.3,
          "temp_min": 3.9,
          "weather": "sun",
          "wind": 6
         },
         {
          "date": "2014-02-20T00:00:00",
          "precipitation": 3,
          "temp_max": 10,
          "temp_min": 5.6,
          "weather": "fog",
          "wind": 6.9
         },
         {
          "date": "2014-02-21T00:00:00",
          "precipitation": 2.8,
          "temp_max": 6.7,
          "temp_min": 3.9,
          "weather": "fog",
          "wind": 2.9
         },
         {
          "date": "2014-02-22T00:00:00",
          "precipitation": 2.5,
          "temp_max": 5.6,
          "temp_min": 2.8,
          "weather": "fog",
          "wind": 3.1
         },
         {
          "date": "2014-02-23T00:00:00",
          "precipitation": 6.1,
          "temp_max": 7.2,
          "temp_min": 3.9,
          "weather": "fog",
          "wind": 2.6
         },
         {
          "date": "2014-02-24T00:00:00",
          "precipitation": 13,
          "temp_max": 6.7,
          "temp_min": 3.3,
          "weather": "fog",
          "wind": 3.2
         },
         {
          "date": "2014-02-25T00:00:00",
          "precipitation": 0.3,
          "temp_max": 12.2,
          "temp_min": 3.9,
          "weather": "fog",
          "wind": 4.5
         },
         {
          "date": "2014-02-26T00:00:00",
          "precipitation": 0,
          "temp_max": 13.9,
          "temp_min": 5.6,
          "weather": "sun",
          "wind": 2.5
         },
         {
          "date": "2014-02-27T00:00:00",
          "precipitation": 0,
          "temp_max": 12.8,
          "temp_min": 4.4,
          "weather": "sun",
          "wind": 2.3
         },
         {
          "date": "2014-02-28T00:00:00",
          "precipitation": 0,
          "temp_max": 14.4,
          "temp_min": 4.4,
          "weather": "sun",
          "wind": 5.9
         },
         {
          "date": "2014-03-01T00:00:00",
          "precipitation": 0.5,
          "temp_max": 7.2,
          "temp_min": 4.4,
          "weather": "sun",
          "wind": 4.7
         },
         {
          "date": "2014-03-02T00:00:00",
          "precipitation": 19.1,
          "temp_max": 11.1,
          "temp_min": 2.8,
          "weather": "fog",
          "wind": 5.7
         },
         {
          "date": "2014-03-03T00:00:00",
          "precipitation": 10.7,
          "temp_max": 14.4,
          "temp_min": 8.9,
          "weather": "fog",
          "wind": 5.1
         },
         {
          "date": "2014-03-04T00:00:00",
          "precipitation": 16.5,
          "temp_max": 13.9,
          "temp_min": 7.8,
          "weather": "fog",
          "wind": 3.9
         },
         {
          "date": "2014-03-05T00:00:00",
          "precipitation": 46.7,
          "temp_max": 15.6,
          "temp_min": 10.6,
          "weather": "fog",
          "wind": 3.9
         },
         {
          "date": "2014-03-06T00:00:00",
          "precipitation": 3,
          "temp_max": 13.3,
          "temp_min": 10,
          "weather": "fog",
          "wind": 6.2
         },
         {
          "date": "2014-03-07T00:00:00",
          "precipitation": 0,
          "temp_max": 15.6,
          "temp_min": 8.9,
          "weather": "sun",
          "wind": 4.2
         },
         {
          "date": "2014-03-08T00:00:00",
          "precipitation": 32.3,
          "temp_max": 12.8,
          "temp_min": 6.7,
          "weather": "fog",
          "wind": 2.7
         },
         {
          "date": "2014-03-09T00:00:00",
          "precipitation": 4.3,
          "temp_max": 15,
          "temp_min": 9.4,
          "weather": "fog",
          "wind": 4.3
         },
         {
          "date": "2014-03-10T00:00:00",
          "precipitation": 18.8,
          "temp_max": 12.2,
          "temp_min": 6.1,
          "weather": "fog",
          "wind": 2.2
         },
         {
          "date": "2014-03-11T00:00:00",
          "precipitation": 0,
          "temp_max": 14.4,
          "temp_min": 4.4,
          "weather": "fog",
          "wind": 2.3
         },
         {
          "date": "2014-03-12T00:00:00",
          "precipitation": 0,
          "temp_max": 16.1,
          "temp_min": 3.3,
          "weather": "fog",
          "wind": 1.9
         },
         {
          "date": "2014-03-13T00:00:00",
          "precipitation": 0.5,
          "temp_max": 13.9,
          "temp_min": 5,
          "weather": "fog",
          "wind": 2.5
         },
         {
          "date": "2014-03-14T00:00:00",
          "precipitation": 6.9,
          "temp_max": 14.4,
          "temp_min": 8.3,
          "weather": "fog",
          "wind": 6.1
         },
         {
          "date": "2014-03-15T00:00:00",
          "precipitation": 8.1,
          "temp_max": 16.7,
          "temp_min": 4.4,
          "weather": "fog",
          "wind": 3
         },
         {
          "date": "2014-03-16T00:00:00",
          "precipitation": 27.7,
          "temp_max": 10.6,
          "temp_min": 4.4,
          "weather": "fog",
          "wind": 3.8
         },
         {
          "date": "2014-03-17T00:00:00",
          "precipitation": 0.3,
          "temp_max": 10,
          "temp_min": 2.8,
          "weather": "fog",
          "wind": 3.2
         },
         {
          "date": "2014-03-18T00:00:00",
          "precipitation": 0,
          "temp_max": 10,
          "temp_min": 3.3,
          "weather": "sun",
          "wind": 1.6
         },
         {
          "date": "2014-03-19T00:00:00",
          "precipitation": 0.5,
          "temp_max": 11.1,
          "temp_min": 3.3,
          "weather": "sun",
          "wind": 5.1
         },
         {
          "date": "2014-03-20T00:00:00",
          "precipitation": 0,
          "temp_max": 11.1,
          "temp_min": 1.7,
          "weather": "sun",
          "wind": 3
         },
         {
          "date": "2014-03-21T00:00:00",
          "precipitation": 0,
          "temp_max": 10.6,
          "temp_min": 2.8,
          "weather": "sun",
          "wind": 3.8
         },
         {
          "date": "2014-03-22T00:00:00",
          "precipitation": 0,
          "temp_max": 11.1,
          "temp_min": 1.1,
          "weather": "sun",
          "wind": 1.8
         },
         {
          "date": "2014-03-23T00:00:00",
          "precipitation": 0,
          "temp_max": 12.8,
          "temp_min": 4.4,
          "weather": "sun",
          "wind": 3.3
         },
         {
          "date": "2014-03-24T00:00:00",
          "precipitation": 0,
          "temp_max": 18.9,
          "temp_min": 2.8,
          "weather": "sun",
          "wind": 2.2
         },
         {
          "date": "2014-03-25T00:00:00",
          "precipitation": 4.1,
          "temp_max": 13.9,
          "temp_min": 6.7,
          "weather": "fog",
          "wind": 4.4
         },
         {
          "date": "2014-03-26T00:00:00",
          "precipitation": 3.6,
          "temp_max": 11.1,
          "temp_min": 5.6,
          "weather": "fog",
          "wind": 2.4
         },
         {
          "date": "2014-03-27T00:00:00",
          "precipitation": 0.3,
          "temp_max": 12.2,
          "temp_min": 6.7,
          "weather": "fog",
          "wind": 2.8
         },
         {
          "date": "2014-03-28T00:00:00",
          "precipitation": 22.1,
          "temp_max": 11.7,
          "temp_min": 7.2,
          "weather": "fog",
          "wind": 3.9
         },
         {
          "date": "2014-03-29T00:00:00",
          "precipitation": 14,
          "temp_max": 11.7,
          "temp_min": 7.2,
          "weather": "fog",
          "wind": 5.1
         },
         {
          "date": "2014-03-30T00:00:00",
          "precipitation": 0,
          "temp_max": 11.1,
          "temp_min": 5,
          "weather": "sun",
          "wind": 5.1
         },
         {
          "date": "2014-03-31T00:00:00",
          "precipitation": 0,
          "temp_max": 15.6,
          "temp_min": 2.2,
          "weather": "sun",
          "wind": 3.8
         },
         {
          "date": "2014-04-01T00:00:00",
          "precipitation": 0,
          "temp_max": 14.4,
          "temp_min": 6.7,
          "weather": "sun",
          "wind": 2.8
         },
         {
          "date": "2014-04-02T00:00:00",
          "precipitation": 0,
          "temp_max": 14.4,
          "temp_min": 5.6,
          "weather": "sun",
          "wind": 4.2
         },
         {
          "date": "2014-04-03T00:00:00",
          "precipitation": 2.5,
          "temp_max": 13.3,
          "temp_min": 6.1,
          "weather": "sun",
          "wind": 3.9
         },
         {
          "date": "2014-04-04T00:00:00",
          "precipitation": 0,
          "temp_max": 12.8,
          "temp_min": 6.1,
          "weather": "sun",
          "wind": 4.7
         },
         {
          "date": "2014-04-05T00:00:00",
          "precipitation": 4.6,
          "temp_max": 11.7,
          "temp_min": 7.8,
          "weather": "fog",
          "wind": 4.3
         },
         {
          "date": "2014-04-06T00:00:00",
          "precipitation": 0,
          "temp_max": 13.9,
          "temp_min": 8.3,
          "weather": "sun",
          "wind": 2.6
         },
         {
          "date": "2014-04-07T00:00:00",
          "precipitation": 0,
          "temp_max": 21.1,
          "temp_min": 9.4,
          "weather": "sun",
          "wind": 2.5
         },
         {
          "date": "2014-04-08T00:00:00",
          "precipitation": 4.6,
          "temp_max": 15.6,
          "temp_min": 8.3,
          "weather": "fog",
          "wind": 4.2
         },
         {
          "date": "2014-04-09T00:00:00",
          "precipitation": 0,
          "temp_max": 14.4,
          "temp_min": 6.7,
          "weather": "sun",
          "wind": 2.9
         },
         {
          "date": "2014-04-10T00:00:00",
          "precipitation": 0,
          "temp_max": 15,
          "temp_min": 6.7,
          "weather": "sun",
          "wind": 3.6
         },
         {
          "date": "2014-04-11T00:00:00",
          "precipitation": 0,
          "temp_max": 17.2,
          "temp_min": 5,
          "weather": "sun",
          "wind": 2.8
         },
         {
          "date": "2014-04-12T00:00:00",
          "precipitation": 0,
          "temp_max": 16.1,
          "temp_min": 7.8,
          "weather": "sun",
          "wind": 4.4
         },
         {
          "date": "2014-04-13T00:00:00",
          "precipitation": 0,
          "temp_max": 20.6,
          "temp_min": 5.6,
          "weather": "sun",
          "wind": 3.1
         },
         {
          "date": "2014-04-14T00:00:00",
          "precipitation": 0,
          "temp_max": 20,
          "temp_min": 5.6,
          "weather": "sun",
          "wind": 2.6
         },
         {
          "date": "2014-04-15T00:00:00",
          "precipitation": 0.5,
          "temp_max": 14.4,
          "temp_min": 7.8,
          "weather": "sun",
          "wind": 4
         },
         {
          "date": "2014-04-16T00:00:00",
          "precipitation": 10.9,
          "temp_max": 11.1,
          "temp_min": 8.9,
          "weather": "fog",
          "wind": 4.6
         },
         {
          "date": "2014-04-17T00:00:00",
          "precipitation": 18.5,
          "temp_max": 11.7,
          "temp_min": 7.2,
          "weather": "fog",
          "wind": 4.7
         },
         {
          "date": "2014-04-18T00:00:00",
          "precipitation": 0,
          "temp_max": 14.4,
          "temp_min": 5.6,
          "weather": "sun",
          "wind": 3.8
         },
         {
          "date": "2014-04-19T00:00:00",
          "precipitation": 13.7,
          "temp_max": 11.7,
          "temp_min": 5.6,
          "weather": "fog",
          "wind": 4.7
         },
         {
          "date": "2014-04-20T00:00:00",
          "precipitation": 0,
          "temp_max": 15.6,
          "temp_min": 5.6,
          "weather": "sun",
          "wind": 2.7
         },
         {
          "date": "2014-04-21T00:00:00",
          "precipitation": 5.1,
          "temp_max": 17.2,
          "temp_min": 7.8,
          "weather": "fog",
          "wind": 2.5
         },
         {
          "date": "2014-04-22T00:00:00",
          "precipitation": 14.2,
          "temp_max": 12.2,
          "temp_min": 5,
          "weather": "fog",
          "wind": 4.2
         },
         {
          "date": "2014-04-23T00:00:00",
          "precipitation": 8.9,
          "temp_max": 11.7,
          "temp_min": 6.1,
          "weather": "fog",
          "wind": 5
         },
         {
          "date": "2014-04-24T00:00:00",
          "precipitation": 12.4,
          "temp_max": 13.9,
          "temp_min": 6.1,
          "weather": "fog",
          "wind": 5.3
         },
         {
          "date": "2014-04-25T00:00:00",
          "precipitation": 0,
          "temp_max": 14.4,
          "temp_min": 5.6,
          "weather": "sun",
          "wind": 2.3
         },
         {
          "date": "2014-04-26T00:00:00",
          "precipitation": 3.3,
          "temp_max": 15,
          "temp_min": 5.6,
          "weather": "sun",
          "wind": 3.9
         },
         {
          "date": "2014-04-27T00:00:00",
          "precipitation": 6.9,
          "temp_max": 11.1,
          "temp_min": 6.1,
          "weather": "fog",
          "wind": 5.8
         },
         {
          "date": "2014-04-28T00:00:00",
          "precipitation": 0,
          "temp_max": 16.1,
          "temp_min": 4.4,
          "weather": "sun",
          "wind": 2.6
         },
         {
          "date": "2014-04-29T00:00:00",
          "precipitation": 0,
          "temp_max": 25,
          "temp_min": 9.4,
          "weather": "sun",
          "wind": 2.3
         },
         {
          "date": "2014-04-30T00:00:00",
          "precipitation": 0,
          "temp_max": 27.8,
          "temp_min": 9.4,
          "weather": "sun",
          "wind": 3.9
         },
         {
          "date": "2014-05-01T00:00:00",
          "precipitation": 0,
          "temp_max": 29.4,
          "temp_min": 11.1,
          "weather": "sun",
          "wind": 3
         },
         {
          "date": "2014-05-02T00:00:00",
          "precipitation": 0,
          "temp_max": 18.3,
          "temp_min": 10.6,
          "weather": "sun",
          "wind": 4.7
         },
         {
          "date": "2014-05-03T00:00:00",
          "precipitation": 33.3,
          "temp_max": 15,
          "temp_min": 8.9,
          "weather": "fog",
          "wind": 3.4
         },
         {
          "date": "2014-05-04T00:00:00",
          "precipitation": 16,
          "temp_max": 14.4,
          "temp_min": 8.9,
          "weather": "fog",
          "wind": 4.2
         },
         {
          "date": "2014-05-05T00:00:00",
          "precipitation": 5.1,
          "temp_max": 15.6,
          "temp_min": 9.4,
          "weather": "fog",
          "wind": 3.8
         },
         {
          "date": "2014-05-06T00:00:00",
          "precipitation": 0,
          "temp_max": 16.7,
          "temp_min": 8.3,
          "weather": "sun",
          "wind": 2.6
         },
         {
          "date": "2014-05-07T00:00:00",
          "precipitation": 0,
          "temp_max": 18.3,
          "temp_min": 7.2,
          "weather": "sun",
          "wind": 1.7
         },
         {
          "date": "2014-05-08T00:00:00",
          "precipitation": 13.7,
          "temp_max": 13.9,
          "temp_min": 9.4,
          "weather": "fog",
          "wind": 3.4
         },
         {
          "date": "2014-05-09T00:00:00",
          "precipitation": 2,
          "temp_max": 13.3,
          "temp_min": 7.2,
          "weather": "sun",
          "wind": 5.6
         },
         {
          "date": "2014-05-10T00:00:00",
          "precipitation": 0.5,
          "temp_max": 15.6,
          "temp_min": 7.2,
          "weather": "fog",
          "wind": 2.1
         },
         {
          "date": "2014-05-11T00:00:00",
          "precipitation": 0,
          "temp_max": 18.9,
          "temp_min": 8.3,
          "weather": "sun",
          "wind": 1.7
         },
         {
          "date": "2014-05-12T00:00:00",
          "precipitation": 0,
          "temp_max": 24.4,
          "temp_min": 9.4,
          "weather": "sun",
          "wind": 2.7
         },
         {
          "date": "2014-05-13T00:00:00",
          "precipitation": 0,
          "temp_max": 26.7,
          "temp_min": 12.8,
          "weather": "sun",
          "wind": 3.8
         },
         {
          "date": "2014-05-14T00:00:00",
          "precipitation": 0,
          "temp_max": 27.8,
          "temp_min": 13.3,
          "weather": "sun",
          "wind": 3.3
         },
         {
          "date": "2014-05-15T00:00:00",
          "precipitation": 0,
          "temp_max": 26.7,
          "temp_min": 12.8,
          "weather": "sun",
          "wind": 3
         },
         {
          "date": "2014-05-16T00:00:00",
          "precipitation": 0,
          "temp_max": 20,
          "temp_min": 11.7,
          "weather": "sun",
          "wind": 4.1
         },
         {
          "date": "2014-05-17T00:00:00",
          "precipitation": 0,
          "temp_max": 20,
          "temp_min": 11.7,
          "weather": "sun",
          "wind": 3.2
         },
         {
          "date": "2014-05-18T00:00:00",
          "precipitation": 0,
          "temp_max": 20,
          "temp_min": 10.6,
          "weather": "sun",
          "wind": 3.2
         },
         {
          "date": "2014-05-19T00:00:00",
          "precipitation": 0,
          "temp_max": 21.1,
          "temp_min": 10,
          "weather": "sun",
          "wind": 2.2
         },
         {
          "date": "2014-05-20T00:00:00",
          "precipitation": 0,
          "temp_max": 22.2,
          "temp_min": 10,
          "weather": "sun",
          "wind": 2.7
         },
         {
          "date": "2014-05-21T00:00:00",
          "precipitation": 0,
          "temp_max": 20,
          "temp_min": 10.6,
          "weather": "sun",
          "wind": 1.7
         },
         {
          "date": "2014-05-22T00:00:00",
          "precipitation": 0,
          "temp_max": 24.4,
          "temp_min": 11.7,
          "weather": "sun",
          "wind": 2.5
         },
         {
          "date": "2014-05-23T00:00:00",
          "precipitation": 3.8,
          "temp_max": 20,
          "temp_min": 12.8,
          "weather": "fog",
          "wind": 4
         },
         {
          "date": "2014-05-24T00:00:00",
          "precipitation": 0,
          "temp_max": 18.3,
          "temp_min": 11.1,
          "weather": "sun",
          "wind": 2.4
         },
         {
          "date": "2014-05-25T00:00:00",
          "precipitation": 5.6,
          "temp_max": 15,
          "temp_min": 10.6,
          "weather": "fog",
          "wind": 1.4
         },
         {
          "date": "2014-05-26T00:00:00",
          "precipitation": 0,
          "temp_max": 18.3,
          "temp_min": 11.1,
          "weather": "sun",
          "wind": 4.5
         },
         {
          "date": "2014-05-27T00:00:00",
          "precipitation": 0,
          "temp_max": 20,
          "temp_min": 10,
          "weather": "sun",
          "wind": 2.5
         },
         {
          "date": "2014-05-28T00:00:00",
          "precipitation": 0,
          "temp_max": 18.9,
          "temp_min": 10,
          "weather": "sun",
          "wind": 3.4
         },
         {
          "date": "2014-05-29T00:00:00",
          "precipitation": 0,
          "temp_max": 18.9,
          "temp_min": 11.1,
          "weather": "sun",
          "wind": 4.3
         },
         {
          "date": "2014-05-30T00:00:00",
          "precipitation": 0,
          "temp_max": 20.6,
          "temp_min": 8.9,
          "weather": "sun",
          "wind": 4.5
         },
         {
          "date": "2014-05-31T00:00:00",
          "precipitation": 0,
          "temp_max": 23.3,
          "temp_min": 10,
          "weather": "sun",
          "wind": 2.2
         },
         {
          "date": "2014-06-01T00:00:00",
          "precipitation": 0,
          "temp_max": 22.2,
          "temp_min": 10.6,
          "weather": "sun",
          "wind": 2.3
         },
         {
          "date": "2014-06-02T00:00:00",
          "precipitation": 0,
          "temp_max": 23.3,
          "temp_min": 11.1,
          "weather": "sun",
          "wind": 2.4
         },
         {
          "date": "2014-06-03T00:00:00",
          "precipitation": 0,
          "temp_max": 18.3,
          "temp_min": 11.1,
          "weather": "sun",
          "wind": 3.2
         },
         {
          "date": "2014-06-04T00:00:00",
          "precipitation": 0,
          "temp_max": 19.4,
          "temp_min": 10,
          "weather": "sun",
          "wind": 2.6
         },
         {
          "date": "2014-06-05T00:00:00",
          "precipitation": 0,
          "temp_max": 22.2,
          "temp_min": 10,
          "weather": "sun",
          "wind": 2.4
         },
         {
          "date": "2014-06-06T00:00:00",
          "precipitation": 0,
          "temp_max": 25,
          "temp_min": 10.6,
          "weather": "sun",
          "wind": 3.2
         },
         {
          "date": "2014-06-07T00:00:00",
          "precipitation": 0,
          "temp_max": 24.4,
          "temp_min": 13.3,
          "weather": "sun",
          "wind": 3.1
         },
         {
          "date": "2014-06-08T00:00:00",
          "precipitation": 0,
          "temp_max": 23.3,
          "temp_min": 12.2,
          "weather": "sun",
          "wind": 2.1
         },
         {
          "date": "2014-06-09T00:00:00",
          "precipitation": 0,
          "temp_max": 21.1,
          "temp_min": 13.3,
          "weather": "sun",
          "wind": 3.6
         },
         {
          "date": "2014-06-10T00:00:00",
          "precipitation": 0,
          "temp_max": 20,
          "temp_min": 12.2,
          "weather": "sun",
          "wind": 2.9
         },
         {
          "date": "2014-06-11T00:00:00",
          "precipitation": 0,
          "temp_max": 23.9,
          "temp_min": 11.1,
          "weather": "sun",
          "wind": 2.7
         },
         {
          "date": "2014-06-12T00:00:00",
          "precipitation": 1.8,
          "temp_max": 21.7,
          "temp_min": 12.2,
          "weather": "sun",
          "wind": 4
         },
         {
          "date": "2014-06-13T00:00:00",
          "precipitation": 6.4,
          "temp_max": 15.6,
          "temp_min": 11.1,
          "weather": "fog",
          "wind": 5
         },
         {
          "date": "2014-06-14T00:00:00",
          "precipitation": 0,
          "temp_max": 17.8,
          "temp_min": 11.7,
          "weather": "sun",
          "wind": 3.2
         },
         {
          "date": "2014-06-15T00:00:00",
          "precipitation": 0.5,
          "temp_max": 18.3,
          "temp_min": 10,
          "weather": "fog",
          "wind": 3.6
         },
         {
          "date": "2014-06-16T00:00:00",
          "precipitation": 3.6,
          "temp_max": 17.8,
          "temp_min": 8.9,
          "weather": "fog",
          "wind": 2.4
         },
         {
          "date": "2014-06-17T00:00:00",
          "precipitation": 1.3,
          "temp_max": 17.8,
          "temp_min": 10,
          "weather": "fog",
          "wind": 3
         },
         {
          "date": "2014-06-18T00:00:00",
          "precipitation": 0,
          "temp_max": 18.9,
          "temp_min": 11.1,
          "weather": "sun",
          "wind": 2.7
         },
         {
          "date": "2014-06-19T00:00:00",
          "precipitation": 0.8,
          "temp_max": 25.6,
          "temp_min": 11.7,
          "weather": "sun",
          "wind": 3.7
         },
         {
          "date": "2014-06-20T00:00:00",
          "precipitation": 0.3,
          "temp_max": 20,
          "temp_min": 10,
          "weather": "sun",
          "wind": 3.4
         },
         {
          "date": "2014-06-21T00:00:00",
          "precipitation": 0,
          "temp_max": 22.2,
          "temp_min": 10.6,
          "weather": "sun",
          "wind": 3.6
         },
         {
          "date": "2014-06-22T00:00:00",
          "precipitation": 0,
          "temp_max": 25,
          "temp_min": 11.1,
          "weather": "sun",
          "wind": 2.7
         },
         {
          "date": "2014-06-23T00:00:00",
          "precipitation": 0,
          "temp_max": 25,
          "temp_min": 13.3,
          "weather": "sun",
          "wind": 2.5
         },
         {
          "date": "2014-06-24T00:00:00",
          "precipitation": 0,
          "temp_max": 24.4,
          "temp_min": 14.4,
          "weather": "sun",
          "wind": 2.5
         },
         {
          "date": "2014-06-25T00:00:00",
          "precipitation": 0,
          "temp_max": 26.1,
          "temp_min": 13.9,
          "weather": "sun",
          "wind": 2.4
         },
         {
          "date": "2014-06-26T00:00:00",
          "precipitation": 0,
          "temp_max": 21.1,
          "temp_min": 14.4,
          "weather": "sun",
          "wind": 4.1
         },
         {
          "date": "2014-06-27T00:00:00",
          "precipitation": 1.8,
          "temp_max": 21.1,
          "temp_min": 13.9,
          "weather": "fog",
          "wind": 4.5
         },
         {
          "date": "2014-06-28T00:00:00",
          "precipitation": 2.3,
          "temp_max": 20,
          "temp_min": 13.3,
          "weather": "fog",
          "wind": 4.3
         },
         {
          "date": "2014-06-29T00:00:00",
          "precipitation": 0,
          "temp_max": 20.6,
          "temp_min": 12.8,
          "weather": "sun",
          "wind": 3.2
         },
         {
          "date": "2014-06-30T00:00:00",
          "precipitation": 0,
          "temp_max": 25.6,
          "temp_min": 12.8,
          "weather": "sun",
          "wind": 4.4
         },
         {
          "date": "2014-07-01T00:00:00",
          "precipitation": 0,
          "temp_max": 34.4,
          "temp_min": 15.6,
          "weather": "sun",
          "wind": 3.5
         },
         {
          "date": "2014-07-02T00:00:00",
          "precipitation": 0,
          "temp_max": 27.2,
          "temp_min": 14.4,
          "weather": "sun",
          "wind": 3.6
         },
         {
          "date": "2014-07-03T00:00:00",
          "precipitation": 0,
          "temp_max": 21.7,
          "temp_min": 13.9,
          "weather": "sun",
          "wind": 3.1
         },
         {
          "date": "2014-07-04T00:00:00",
          "precipitation": 0,
          "temp_max": 23.9,
          "temp_min": 13.9,
          "weather": "sun",
          "wind": 3.6
         },
         {
          "date": "2014-07-05T00:00:00",
          "precipitation": 0,
          "temp_max": 24.4,
          "temp_min": 13.3,
          "weather": "fog",
          "wind": 2.2
         },
         {
          "date": "2014-07-06T00:00:00",
          "precipitation": 0,
          "temp_max": 28.9,
          "temp_min": 15,
          "weather": "sun",
          "wind": 3
         },
         {
          "date": "2014-07-07T00:00:00",
          "precipitation": 0,
          "temp_max": 27.2,
          "temp_min": 17.8,
          "weather": "fog",
          "wind": 4.1
         },
         {
          "date": "2014-07-08T00:00:00",
          "precipitation": 0,
          "temp_max": 30,
          "temp_min": 15.6,
          "weather": "sun",
          "wind": 3.5
         },
         {
          "date": "2014-07-09T00:00:00",
          "precipitation": 0,
          "temp_max": 26.7,
          "temp_min": 13.9,
          "weather": "sun",
          "wind": 2.3
         },
         {
          "date": "2014-07-10T00:00:00",
          "precipitation": 0,
          "temp_max": 28.9,
          "temp_min": 12.8,
          "weather": "fog",
          "wind": 2.2
         },
         {
          "date": "2014-07-11T00:00:00",
          "precipitation": 0,
          "temp_max": 31.1,
          "temp_min": 15,
          "weather": "sun",
          "wind": 2.2
         },
         {
          "date": "2014-07-12T00:00:00",
          "precipitation": 0,
          "temp_max": 32.2,
          "temp_min": 16.7,
          "weather": "sun",
          "wind": 2.2
         },
         {
          "date": "2014-07-13T00:00:00",
          "precipitation": 0,
          "temp_max": 29.4,
          "temp_min": 15,
          "weather": "rain",
          "wind": 2.6
         },
         {
          "date": "2014-07-14T00:00:00",
          "precipitation": 0,
          "temp_max": 27.8,
          "temp_min": 15,
          "weather": "sun",
          "wind": 2.8
         },
         {
          "date": "2014-07-15T00:00:00",
          "precipitation": 0,
          "temp_max": 31.1,
          "temp_min": 13.9,
          "weather": "sun",
          "wind": 2.3
         },
         {
          "date": "2014-07-16T00:00:00",
          "precipitation": 0,
          "temp_max": 31.1,
          "temp_min": 14.4,
          "weather": "sun",
          "wind": 2.4
         },
         {
          "date": "2014-07-17T00:00:00",
          "precipitation": 0,
          "temp_max": 26.7,
          "temp_min": 13.9,
          "weather": "sun",
          "wind": 3.7
         },
         {
          "date": "2014-07-18T00:00:00",
          "precipitation": 0,
          "temp_max": 23.9,
          "temp_min": 11.7,
          "weather": "sun",
          "wind": 2.8
         },
         {
          "date": "2014-07-19T00:00:00",
          "precipitation": 0,
          "temp_max": 25.6,
          "temp_min": 15,
          "weather": "fog",
          "wind": 5.4
         },
         {
          "date": "2014-07-20T00:00:00",
          "precipitation": 0,
          "temp_max": 19.4,
          "temp_min": 14.4,
          "weather": "sun",
          "wind": 2.8
         },
         {
          "date": "2014-07-21T00:00:00",
          "precipitation": 0,
          "temp_max": 23.9,
          "temp_min": 13.3,
          "weather": "sun",
          "wind": 2.2
         },
         {
          "date": "2014-07-22T00:00:00",
          "precipitation": 0.3,
          "temp_max": 21.1,
          "temp_min": 13.3,
          "weather": "fog",
          "wind": 1.1
         },
         {
          "date": "2014-07-23T00:00:00",
          "precipitation": 19.3,
          "temp_max": 18.9,
          "temp_min": 13.3,
          "weather": "sun",
          "wind": 3.3
         },
         {
          "date": "2014-07-24T00:00:00",
          "precipitation": 0,
          "temp_max": 20.6,
          "temp_min": 12.8,
          "weather": "sun",
          "wind": 4.7
         },
         {
          "date": "2014-07-25T00:00:00",
          "precipitation": 0,
          "temp_max": 22.8,
          "temp_min": 12.2,
          "weather": "sun",
          "wind": 2.7
         },
         {
          "date": "2014-07-26T00:00:00",
          "precipitation": 0,
          "temp_max": 26.1,
          "temp_min": 13.3,
          "weather": "sun",
          "wind": 3.6
         },
         {
          "date": "2014-07-27T00:00:00",
          "precipitation": 0,
          "temp_max": 28.3,
          "temp_min": 15,
          "weather": "sun",
          "wind": 4.1
         },
         {
          "date": "2014-07-28T00:00:00",
          "precipitation": 0,
          "temp_max": 30.6,
          "temp_min": 15,
          "weather": "sun",
          "wind": 3.7
         },
         {
          "date": "2014-07-29T00:00:00",
          "precipitation": 0,
          "temp_max": 30,
          "temp_min": 15.6,
          "weather": "sun",
          "wind": 2.8
         },
         {
          "date": "2014-07-30T00:00:00",
          "precipitation": 0,
          "temp_max": 29.4,
          "temp_min": 14.4,
          "weather": "sun",
          "wind": 3.4
         },
         {
          "date": "2014-07-31T00:00:00",
          "precipitation": 0,
          "temp_max": 30.6,
          "temp_min": 17.8,
          "weather": "sun",
          "wind": 4.1
         },
         {
          "date": "2014-08-01T00:00:00",
          "precipitation": 0,
          "temp_max": 28.9,
          "temp_min": 15,
          "weather": "sun",
          "wind": 3.3
         },
         {
          "date": "2014-08-02T00:00:00",
          "precipitation": 0.5,
          "temp_max": 29.4,
          "temp_min": 15.6,
          "weather": "sun",
          "wind": 1.7
         },
         {
          "date": "2014-08-03T00:00:00",
          "precipitation": 0,
          "temp_max": 31.7,
          "temp_min": 14.4,
          "weather": "sun",
          "wind": 2.6
         },
         {
          "date": "2014-08-04T00:00:00",
          "precipitation": 0,
          "temp_max": 32.8,
          "temp_min": 16.1,
          "weather": "sun",
          "wind": 2.6
         },
         {
          "date": "2014-08-05T00:00:00",
          "precipitation": 0,
          "temp_max": 25,
          "temp_min": 13.9,
          "weather": "sun",
          "wind": 2.7
         },
         {
          "date": "2014-08-06T00:00:00",
          "precipitation": 0,
          "temp_max": 26.1,
          "temp_min": 15,
          "weather": "fog",
          "wind": 2.2
         },
         {
          "date": "2014-08-07T00:00:00",
          "precipitation": 0,
          "temp_max": 25.6,
          "temp_min": 13.3,
          "weather": "fog",
          "wind": 2.4
         },
         {
          "date": "2014-08-08T00:00:00",
          "precipitation": 0,
          "temp_max": 25.6,
          "temp_min": 13.3,
          "weather": "sun",
          "wind": 2.9
         },
         {
          "date": "2014-08-09T00:00:00",
          "precipitation": 0,
          "temp_max": 27.2,
          "temp_min": 15.6,
          "weather": "sun",
          "wind": 4.1
         },
         {
          "date": "2014-08-10T00:00:00",
          "precipitation": 0,
          "temp_max": 30.6,
          "temp_min": 13.9,
          "weather": "sun",
          "wind": 3.4
         },
         {
          "date": "2014-08-11T00:00:00",
          "precipitation": 0.5,
          "temp_max": 35.6,
          "temp_min": 17.8,
          "weather": "rain",
          "wind": 2.6
         },
         {
          "date": "2014-08-12T00:00:00",
          "precipitation": 12.7,
          "temp_max": 27.2,
          "temp_min": 17.2,
          "weather": "fog",
          "wind": 3.1
         },
         {
          "date": "2014-08-13T00:00:00",
          "precipitation": 21.6,
          "temp_max": 23.3,
          "temp_min": 15,
          "weather": "fog",
          "wind": 2.7
         },
         {
          "date": "2014-08-14T00:00:00",
          "precipitation": 0,
          "temp_max": 21.1,
          "temp_min": 17.2,
          "weather": "sun",
          "wind": 0.6
         },
         {
          "date": "2014-08-15T00:00:00",
          "precipitation": 1,
          "temp_max": 24.4,
          "temp_min": 16.7,
          "weather": "fog",
          "wind": 1.5
         },
         {
          "date": "2014-08-16T00:00:00",
          "precipitation": 0,
          "temp_max": 25.6,
          "temp_min": 15.6,
          "weather": "sun",
          "wind": 2.2
         },
         {
          "date": "2014-08-17T00:00:00",
          "precipitation": 0,
          "temp_max": 27.8,
          "temp_min": 15,
          "weather": "sun",
          "wind": 2.8
         },
         {
          "date": "2014-08-18T00:00:00",
          "precipitation": 0,
          "temp_max": 29.4,
          "temp_min": 15.6,
          "weather": "sun",
          "wind": 3.3
         },
         {
          "date": "2014-08-19T00:00:00",
          "precipitation": 0,
          "temp_max": 27.2,
          "temp_min": 15.6,
          "weather": "sun",
          "wind": 2.4
         },
         {
          "date": "2014-08-20T00:00:00",
          "precipitation": 0,
          "temp_max": 21.7,
          "temp_min": 13.9,
          "weather": "sun",
          "wind": 3.6
         },
         {
          "date": "2014-08-21T00:00:00",
          "precipitation": 0,
          "temp_max": 21.1,
          "temp_min": 11.1,
          "weather": "sun",
          "wind": 1.7
         },
         {
          "date": "2014-08-22T00:00:00",
          "precipitation": 0,
          "temp_max": 23.9,
          "temp_min": 13.3,
          "weather": "sun",
          "wind": 2.9
         },
         {
          "date": "2014-08-23T00:00:00",
          "precipitation": 0,
          "temp_max": 27.8,
          "temp_min": 13.9,
          "weather": "sun",
          "wind": 2
         },
         {
          "date": "2014-08-24T00:00:00",
          "precipitation": 0,
          "temp_max": 25,
          "temp_min": 13.3,
          "weather": "sun",
          "wind": 2.3
         },
         {
          "date": "2014-08-25T00:00:00",
          "precipitation": 0,
          "temp_max": 28.9,
          "temp_min": 14.4,
          "weather": "sun",
          "wind": 2
         },
         {
          "date": "2014-08-26T00:00:00",
          "precipitation": 0,
          "temp_max": 31.1,
          "temp_min": 15.6,
          "weather": "sun",
          "wind": 1.8
         },
         {
          "date": "2014-08-27T00:00:00",
          "precipitation": 0,
          "temp_max": 28.9,
          "temp_min": 16.1,
          "weather": "sun",
          "wind": 1.6
         },
         {
          "date": "2014-08-28T00:00:00",
          "precipitation": 0,
          "temp_max": 23.3,
          "temp_min": 14.4,
          "weather": "sun",
          "wind": 2.3
         },
         {
          "date": "2014-08-29T00:00:00",
          "precipitation": 0,
          "temp_max": 22.8,
          "temp_min": 15,
          "weather": "sun",
          "wind": 3.4
         },
         {
          "date": "2014-08-30T00:00:00",
          "precipitation": 8.4,
          "temp_max": 17.8,
          "temp_min": 15,
          "weather": "fog",
          "wind": 2.2
         },
         {
          "date": "2014-08-31T00:00:00",
          "precipitation": 1.3,
          "temp_max": 21.1,
          "temp_min": 13.9,
          "weather": "fog",
          "wind": 1.9
         },
         {
          "date": "2014-09-01T00:00:00",
          "precipitation": 0,
          "temp_max": 23.3,
          "temp_min": 12.8,
          "weather": "sun",
          "wind": 2.5
         },
         {
          "date": "2014-09-02T00:00:00",
          "precipitation": 3,
          "temp_max": 20,
          "temp_min": 13.9,
          "weather": "fog",
          "wind": 4.3
         },
         {
          "date": "2014-09-03T00:00:00",
          "precipitation": 0,
          "temp_max": 20.6,
          "temp_min": 12.8,
          "weather": "sun",
          "wind": 2.7
         },
         {
          "date": "2014-09-04T00:00:00",
          "precipitation": 0,
          "temp_max": 23.9,
          "temp_min": 11.1,
          "weather": "fog",
          "wind": 3.1
         },
         {
          "date": "2014-09-05T00:00:00",
          "precipitation": 0,
          "temp_max": 27.8,
          "temp_min": 13.9,
          "weather": "fog",
          "wind": 6.5
         },
         {
          "date": "2014-09-06T00:00:00",
          "precipitation": 0,
          "temp_max": 32.2,
          "temp_min": 15,
          "weather": "sun",
          "wind": 2.9
         },
         {
          "date": "2014-09-07T00:00:00",
          "precipitation": 0,
          "temp_max": 28.3,
          "temp_min": 13.3,
          "weather": "sun",
          "wind": 2.1
         },
         {
          "date": "2014-09-08T00:00:00",
          "precipitation": 0,
          "temp_max": 21.1,
          "temp_min": 13.3,
          "weather": "sun",
          "wind": 2.8
         },
         {
          "date": "2014-09-09T00:00:00",
          "precipitation": 0,
          "temp_max": 21.7,
          "temp_min": 13.3,
          "weather": "sun",
          "wind": 2.3
         },
         {
          "date": "2014-09-10T00:00:00",
          "precipitation": 0,
          "temp_max": 22.2,
          "temp_min": 12.2,
          "weather": "sun",
          "wind": 3.9
         },
         {
          "date": "2014-09-11T00:00:00",
          "precipitation": 0,
          "temp_max": 24.4,
          "temp_min": 12.8,
          "weather": "sun",
          "wind": 5.3
         },
         {
          "date": "2014-09-12T00:00:00",
          "precipitation": 0,
          "temp_max": 24.4,
          "temp_min": 12.8,
          "weather": "sun",
          "wind": 5.9
         },
         {
          "date": "2014-09-13T00:00:00",
          "precipitation": 0,
          "temp_max": 28.3,
          "temp_min": 10,
          "weather": "sun",
          "wind": 4.2
         },
         {
          "date": "2014-09-14T00:00:00",
          "precipitation": 0,
          "temp_max": 30,
          "temp_min": 11.7,
          "weather": "sun",
          "wind": 1.8
         },
         {
          "date": "2014-09-15T00:00:00",
          "precipitation": 0,
          "temp_max": 30.6,
          "temp_min": 12.2,
          "weather": "sun",
          "wind": 1.2
         },
         {
          "date": "2014-09-16T00:00:00",
          "precipitation": 0,
          "temp_max": 22.2,
          "temp_min": 13.9,
          "weather": "sun",
          "wind": 2.8
         },
         {
          "date": "2014-09-17T00:00:00",
          "precipitation": 0.5,
          "temp_max": 22.8,
          "temp_min": 14.4,
          "weather": "sun",
          "wind": 2.3
         },
         {
          "date": "2014-09-18T00:00:00",
          "precipitation": 0.3,
          "temp_max": 19.4,
          "temp_min": 15,
          "weather": "fog",
          "wind": 3.1
         },
         {
          "date": "2014-09-19T00:00:00",
          "precipitation": 0,
          "temp_max": 23.9,
          "temp_min": 16.1,
          "weather": "sun",
          "wind": 2.8
         },
         {
          "date": "2014-09-20T00:00:00",
          "precipitation": 0,
          "temp_max": 24.4,
          "temp_min": 14.4,
          "weather": "fog",
          "wind": 4.4
         },
         {
          "date": "2014-09-21T00:00:00",
          "precipitation": 0,
          "temp_max": 26.1,
          "temp_min": 12.8,
          "weather": "sun",
          "wind": 3
         },
         {
          "date": "2014-09-22T00:00:00",
          "precipitation": 0.3,
          "temp_max": 22.2,
          "temp_min": 15,
          "weather": "fog",
          "wind": 2.1
         },
         {
          "date": "2014-09-23T00:00:00",
          "precipitation": 18.3,
          "temp_max": 18.9,
          "temp_min": 14.4,
          "weather": "fog",
          "wind": 2.5
         },
         {
          "date": "2014-09-24T00:00:00",
          "precipitation": 20.3,
          "temp_max": 18.9,
          "temp_min": 14.4,
          "weather": "fog",
          "wind": 2.7
         },
         {
          "date": "2014-09-25T00:00:00",
          "precipitation": 4.3,
          "temp_max": 21.7,
          "temp_min": 14.4,
          "weather": "fog",
          "wind": 2.5
         },
         {
          "date": "2014-09-26T00:00:00",
          "precipitation": 8.9,
          "temp_max": 20,
          "temp_min": 13.9,
          "weather": "fog",
          "wind": 3.3
         },
         {
          "date": "2014-09-27T00:00:00",
          "precipitation": 0,
          "temp_max": 20.6,
          "temp_min": 11.7,
          "weather": "fog",
          "wind": 3.2
         },
         {
          "date": "2014-09-28T00:00:00",
          "precipitation": 0,
          "temp_max": 18.9,
          "temp_min": 12.2,
          "weather": "fog",
          "wind": 2
         },
         {
          "date": "2014-09-29T00:00:00",
          "precipitation": 0.8,
          "temp_max": 16.7,
          "temp_min": 11.1,
          "weather": "fog",
          "wind": 3.5
         },
         {
          "date": "2014-09-30T00:00:00",
          "precipitation": 0,
          "temp_max": 19.4,
          "temp_min": 12.2,
          "weather": "sun",
          "wind": 2.6
         },
         {
          "date": "2014-10-01T00:00:00",
          "precipitation": 0,
          "temp_max": 18.3,
          "temp_min": 11.1,
          "weather": "sun",
          "wind": 2.1
         },
         {
          "date": "2014-10-02T00:00:00",
          "precipitation": 0,
          "temp_max": 19.4,
          "temp_min": 10,
          "weather": "sun",
          "wind": 2
         },
         {
          "date": "2014-10-03T00:00:00",
          "precipitation": 0,
          "temp_max": 22.2,
          "temp_min": 8.9,
          "weather": "sun",
          "wind": 1
         },
         {
          "date": "2014-10-04T00:00:00",
          "precipitation": 0,
          "temp_max": 21.7,
          "temp_min": 12.2,
          "weather": "sun",
          "wind": 1.2
         },
         {
          "date": "2014-10-05T00:00:00",
          "precipitation": 0,
          "temp_max": 23.9,
          "temp_min": 11.7,
          "weather": "fog",
          "wind": 1.4
         },
         {
          "date": "2014-10-06T00:00:00",
          "precipitation": 0,
          "temp_max": 25.6,
          "temp_min": 13.3,
          "weather": "fog",
          "wind": 2.5
         },
         {
          "date": "2014-10-07T00:00:00",
          "precipitation": 0,
          "temp_max": 18.9,
          "temp_min": 13.9,
          "weather": "fog",
          "wind": 1
         },
         {
          "date": "2014-10-08T00:00:00",
          "precipitation": 0,
          "temp_max": 20.6,
          "temp_min": 12.8,
          "weather": "fog",
          "wind": 1.8
         },
         {
          "date": "2014-10-09T00:00:00",
          "precipitation": 0,
          "temp_max": 17.2,
          "temp_min": 11.1,
          "weather": "fog",
          "wind": 1
         },
         {
          "date": "2014-10-10T00:00:00",
          "precipitation": 0.3,
          "temp_max": 18.3,
          "temp_min": 10,
          "weather": "fog",
          "wind": 3.8
         },
         {
          "date": "2014-10-11T00:00:00",
          "precipitation": 7.4,
          "temp_max": 18.3,
          "temp_min": 11.7,
          "weather": "rain",
          "wind": 3.5
         },
         {
          "date": "2014-10-12T00:00:00",
          "precipitation": 0,
          "temp_max": 17.8,
          "temp_min": 11.7,
          "weather": "sun",
          "wind": 2.1
         },
         {
          "date": "2014-10-13T00:00:00",
          "precipitation": 7.6,
          "temp_max": 21.1,
          "temp_min": 10,
          "weather": "fog",
          "wind": 3.1
         },
         {
          "date": "2014-10-14T00:00:00",
          "precipitation": 7.1,
          "temp_max": 16.7,
          "temp_min": 11.7,
          "weather": "fog",
          "wind": 2.2
         },
         {
          "date": "2014-10-15T00:00:00",
          "precipitation": 8.6,
          "temp_max": 16.1,
          "temp_min": 11.7,
          "weather": "fog",
          "wind": 4.7
         },
         {
          "date": "2014-10-16T00:00:00",
          "precipitation": 0,
          "temp_max": 20.6,
          "temp_min": 11.1,
          "weather": "sun",
          "wind": 3.3
         },
         {
          "date": "2014-10-17T00:00:00",
          "precipitation": 3.3,
          "temp_max": 16.7,
          "temp_min": 11.7,
          "weather": "fog",
          "wind": 3
         },
         {
          "date": "2014-10-18T00:00:00",
          "precipitation": 15,
          "temp_max": 19.4,
          "temp_min": 13.9,
          "weather": "fog",
          "wind": 1.9
         },
         {
          "date": "2014-10-19T00:00:00",
          "precipitation": 0,
          "temp_max": 22.2,
          "temp_min": 12.8,
          "weather": "sun",
          "wind": 3.2
         },
         {
          "date": "2014-10-20T00:00:00",
          "precipitation": 11.7,
          "temp_max": 16.1,
          "temp_min": 12.2,
          "weather": "fog",
          "wind": 3.1
         },
         {
          "date": "2014-10-21T00:00:00",
          "precipitation": 1,
          "temp_max": 16.1,
          "temp_min": 11.7,
          "weather": "sun",
          "wind": 4.7
         },
         {
          "date": "2014-10-22T00:00:00",
          "precipitation": 32,
          "temp_max": 15.6,
          "temp_min": 11.7,
          "weather": "fog",
          "wind": 5
         },
         {
          "date": "2014-10-23T00:00:00",
          "precipitation": 9.4,
          "temp_max": 14.4,
          "temp_min": 8.3,
          "weather": "sun",
          "wind": 4.6
         },
         {
          "date": "2014-10-24T00:00:00",
          "precipitation": 4.1,
          "temp_max": 14.4,
          "temp_min": 8.9,
          "weather": "sun",
          "wind": 3.2
         },
         {
          "date": "2014-10-25T00:00:00",
          "precipitation": 6.1,
          "temp_max": 16.7,
          "temp_min": 8.3,
          "weather": "fog",
          "wind": 5.4
         },
         {
          "date": "2014-10-26T00:00:00",
          "precipitation": 1.5,
          "temp_max": 12.8,
          "temp_min": 7.8,
          "weather": "fog",
          "wind": 5
         },
         {
          "date": "2014-10-27T00:00:00",
          "precipitation": 0.8,
          "temp_max": 15.6,
          "temp_min": 6.7,
          "weather": "sun",
          "wind": 2.4
         },
         {
          "date": "2014-10-28T00:00:00",
          "precipitation": 12.7,
          "temp_max": 15,
          "temp_min": 9.4,
          "weather": "fog",
          "wind": 3.9
         },
         {
          "date": "2014-10-29T00:00:00",
          "precipitation": 0.5,
          "temp_max": 16.7,
          "temp_min": 11.7,
          "weather": "fog",
          "wind": 3.1
         },
         {
          "date": "2014-10-30T00:00:00",
          "precipitation": 25.4,
          "temp_max": 15.6,
          "temp_min": 11.1,
          "weather": "fog",
          "wind": 3.2
         },
         {
          "date": "2014-10-31T00:00:00",
          "precipitation": 17,
          "temp_max": 12.8,
          "temp_min": 8.3,
          "weather": "fog",
          "wind": 2
         },
         {
          "date": "2014-11-01T00:00:00",
          "precipitation": 0,
          "temp_max": 11.1,
          "temp_min": 7.2,
          "weather": "fog",
          "wind": 1.2
         },
         {
          "date": "2014-11-02T00:00:00",
          "precipitation": 1.8,
          "temp_max": 13.3,
          "temp_min": 7.2,
          "weather": "fog",
          "wind": 2.9
         },
         {
          "date": "2014-11-03T00:00:00",
          "precipitation": 10.9,
          "temp_max": 13.9,
          "temp_min": 11.1,
          "weather": "fog",
          "wind": 4.8
         },
         {
          "date": "2014-11-04T00:00:00",
          "precipitation": 4.1,
          "temp_max": 14.4,
          "temp_min": 10.6,
          "weather": "fog",
          "wind": 3.3
         },
         {
          "date": "2014-11-05T00:00:00",
          "precipitation": 4.8,
          "temp_max": 15,
          "temp_min": 10.6,
          "weather": "fog",
          "wind": 2.1
         },
         {
          "date": "2014-11-06T00:00:00",
          "precipitation": 4.1,
          "temp_max": 16.7,
          "temp_min": 10.6,
          "weather": "fog",
          "wind": 6.7
         },
         {
          "date": "2014-11-07T00:00:00",
          "precipitation": 0,
          "temp_max": 14.4,
          "temp_min": 7.2,
          "weather": "sun",
          "wind": 2.3
         },
         {
          "date": "2014-11-08T00:00:00",
          "precipitation": 0,
          "temp_max": 12.8,
          "temp_min": 3.9,
          "weather": "fog",
          "wind": 0.8
         },
         {
          "date": "2014-11-09T00:00:00",
          "precipitation": 5.1,
          "temp_max": 13.3,
          "temp_min": 7.8,
          "weather": "fog",
          "wind": 3
         },
         {
          "date": "2014-11-10T00:00:00",
          "precipitation": 0,
          "temp_max": 11.1,
          "temp_min": 5.6,
          "weather": "sun",
          "wind": 3.9
         },
         {
          "date": "2014-11-11T00:00:00",
          "precipitation": 0,
          "temp_max": 7.8,
          "temp_min": 1.1,
          "weather": "sun",
          "wind": 7.7
         },
         {
          "date": "2014-11-12T00:00:00",
          "precipitation": 0,
          "temp_max": 6.7,
          "temp_min": 0,
          "weather": "sun",
          "wind": 7.6
         },
         {
          "date": "2014-11-13T00:00:00",
          "precipitation": 0,
          "temp_max": 7.2,
          "temp_min": 0.6,
          "weather": "sun",
          "wind": 4.7
         },
         {
          "date": "2014-11-14T00:00:00",
          "precipitation": 0,
          "temp_max": 7.2,
          "temp_min": -2.1,
          "weather": "sun",
          "wind": 4.5
         },
         {
          "date": "2014-11-15T00:00:00",
          "precipitation": 0,
          "temp_max": 8.3,
          "temp_min": -1.6,
          "weather": "sun",
          "wind": 4.2
         },
         {
          "date": "2014-11-16T00:00:00",
          "precipitation": 0,
          "temp_max": 9.4,
          "temp_min": -2.1,
          "weather": "sun",
          "wind": 4.2
         },
         {
          "date": "2014-11-17T00:00:00",
          "precipitation": 0,
          "temp_max": 10.6,
          "temp_min": -2.1,
          "weather": "sun",
          "wind": 1.9
         },
         {
          "date": "2014-11-18T00:00:00",
          "precipitation": 0,
          "temp_max": 7.2,
          "temp_min": -0.5,
          "weather": "sun",
          "wind": 0.9
         },
         {
          "date": "2014-11-19T00:00:00",
          "precipitation": 0,
          "temp_max": 11.1,
          "temp_min": 2.2,
          "weather": "sun",
          "wind": 1.9
         },
         {
          "date": "2014-11-20T00:00:00",
          "precipitation": 3.6,
          "temp_max": 11.1,
          "temp_min": 5.6,
          "weather": "fog",
          "wind": 2.1
         },
         {
          "date": "2014-11-21T00:00:00",
          "precipitation": 15.2,
          "temp_max": 11.1,
          "temp_min": 8.3,
          "weather": "fog",
          "wind": 4.7
         },
         {
          "date": "2014-11-22T00:00:00",
          "precipitation": 0.5,
          "temp_max": 9.4,
          "temp_min": 6.7,
          "weather": "sun",
          "wind": 4.7
         },
         {
          "date": "2014-11-23T00:00:00",
          "precipitation": 11.9,
          "temp_max": 12.8,
          "temp_min": 5.6,
          "weather": "fog",
          "wind": 5.1
         },
         {
          "date": "2014-11-24T00:00:00",
          "precipitation": 1.3,
          "temp_max": 11.7,
          "temp_min": 4.4,
          "weather": "fog",
          "wind": 3.8
         },
         {
          "date": "2014-11-25T00:00:00",
          "precipitation": 18.3,
          "temp_max": 13.9,
          "temp_min": 9.4,
          "weather": "fog",
          "wind": 4.5
         },
         {
          "date": "2014-11-26T00:00:00",
          "precipitation": 0.3,
          "temp_max": 15,
          "temp_min": 12.2,
          "weather": "sun",
          "wind": 3.9
         },
         {
          "date": "2014-11-27T00:00:00",
          "precipitation": 3.3,
          "temp_max": 14.4,
          "temp_min": 11.7,
          "weather": "fog",
          "wind": 6.6
         },
         {
          "date": "2014-11-28T00:00:00",
          "precipitation": 34.3,
          "temp_max": 12.8,
          "temp_min": 3.3,
          "weather": "fog",
          "wind": 5.8
         },
         {
          "date": "2014-11-29T00:00:00",
          "precipitation": 3.6,
          "temp_max": 4.4,
          "temp_min": -4.3,
          "weather": "fog",
          "wind": 5.3
         },
         {
          "date": "2014-11-30T00:00:00",
          "precipitation": 0,
          "temp_max": 2.8,
          "temp_min": -4.9,
          "weather": "sun",
          "wind": 4.4
         },
         {
          "date": "2014-12-01T00:00:00",
          "precipitation": 0,
          "temp_max": 4.4,
          "temp_min": -3.2,
          "weather": "sun",
          "wind": 2.2
         },
         {
          "date": "2014-12-02T00:00:00",
          "precipitation": 0,
          "temp_max": 5.6,
          "temp_min": -3.2,
          "weather": "fog",
          "wind": 5.7
         },
         {
          "date": "2014-12-03T00:00:00",
          "precipitation": 0,
          "temp_max": 10,
          "temp_min": 0,
          "weather": "sun",
          "wind": 3.6
         },
         {
          "date": "2014-12-04T00:00:00",
          "precipitation": 0.8,
          "temp_max": 8.3,
          "temp_min": 3.9,
          "weather": "fog",
          "wind": 1.1
         },
         {
          "date": "2014-12-05T00:00:00",
          "precipitation": 3,
          "temp_max": 12.8,
          "temp_min": 6.7,
          "weather": "fog",
          "wind": 3.1
         },
         {
          "date": "2014-12-06T00:00:00",
          "precipitation": 7.4,
          "temp_max": 11.7,
          "temp_min": 7.8,
          "weather": "fog",
          "wind": 3.6
         },
         {
          "date": "2014-12-07T00:00:00",
          "precipitation": 0,
          "temp_max": 14.4,
          "temp_min": 6.1,
          "weather": "sun",
          "wind": 2.8
         },
         {
          "date": "2014-12-08T00:00:00",
          "precipitation": 9.1,
          "temp_max": 14.4,
          "temp_min": 8.9,
          "weather": "fog",
          "wind": 4.2
         },
         {
          "date": "2014-12-09T00:00:00",
          "precipitation": 9.9,
          "temp_max": 16.1,
          "temp_min": 10.6,
          "weather": "fog",
          "wind": 5.1
         },
         {
          "date": "2014-12-10T00:00:00",
          "precipitation": 13,
          "temp_max": 18.9,
          "temp_min": 10,
          "weather": "fog",
          "wind": 6.7
         },
         {
          "date": "2014-12-11T00:00:00",
          "precipitation": 6.9,
          "temp_max": 14.4,
          "temp_min": 8.3,
          "weather": "fog",
          "wind": 6.4
         },
         {
          "date": "2014-12-12T00:00:00",
          "precipitation": 0,
          "temp_max": 11.1,
          "temp_min": 7.2,
          "weather": "sun",
          "wind": 3.7
         },
         {
          "date": "2014-12-13T00:00:00",
          "precipitation": 0,
          "temp_max": 10,
          "temp_min": 3.9,
          "weather": "fog",
          "wind": 1.1
         },
         {
          "date": "2014-12-14T00:00:00",
          "precipitation": 0,
          "temp_max": 12.8,
          "temp_min": 1.7,
          "weather": "fog",
          "wind": 3.5
         },
         {
          "date": "2014-12-15T00:00:00",
          "precipitation": 0,
          "temp_max": 12.2,
          "temp_min": 6.7,
          "weather": "sun",
          "wind": 5.9
         },
         {
          "date": "2014-12-16T00:00:00",
          "precipitation": 0,
          "temp_max": 10,
          "temp_min": 8.3,
          "weather": "sun",
          "wind": 4
         },
         {
          "date": "2014-12-17T00:00:00",
          "precipitation": 2.8,
          "temp_max": 8.9,
          "temp_min": 6.1,
          "weather": "fog",
          "wind": 1.6
         },
         {
          "date": "2014-12-18T00:00:00",
          "precipitation": 13,
          "temp_max": 9.4,
          "temp_min": 6.7,
          "weather": "fog",
          "wind": 3.1
         },
         {
          "date": "2014-12-19T00:00:00",
          "precipitation": 3,
          "temp_max": 11.1,
          "temp_min": 7.2,
          "weather": "sun",
          "wind": 4.3
         },
         {
          "date": "2014-12-20T00:00:00",
          "precipitation": 19.6,
          "temp_max": 12.8,
          "temp_min": 6.7,
          "weather": "fog",
          "wind": 5.5
         },
         {
          "date": "2014-12-21T00:00:00",
          "precipitation": 0,
          "temp_max": 12.8,
          "temp_min": 10,
          "weather": "sun",
          "wind": 5.2
         },
         {
          "date": "2014-12-22T00:00:00",
          "precipitation": 0,
          "temp_max": 10.6,
          "temp_min": 6.1,
          "weather": "sun",
          "wind": 1.5
         },
         {
          "date": "2014-12-23T00:00:00",
          "precipitation": 20.6,
          "temp_max": 12.2,
          "temp_min": 5,
          "weather": "fog",
          "wind": 3.8
         },
         {
          "date": "2014-12-24T00:00:00",
          "precipitation": 5.3,
          "temp_max": 7.2,
          "temp_min": 3.9,
          "weather": "fog",
          "wind": 1.8
         },
         {
          "date": "2014-12-25T00:00:00",
          "precipitation": 0,
          "temp_max": 7.8,
          "temp_min": 2.8,
          "weather": "fog",
          "wind": 2.2
         },
         {
          "date": "2014-12-26T00:00:00",
          "precipitation": 0,
          "temp_max": 5.6,
          "temp_min": 1.7,
          "weather": "fog",
          "wind": 1.2
         },
         {
          "date": "2014-12-27T00:00:00",
          "precipitation": 3.3,
          "temp_max": 9.4,
          "temp_min": 4.4,
          "weather": "fog",
          "wind": 4.9
         },
         {
          "date": "2014-12-28T00:00:00",
          "precipitation": 4.1,
          "temp_max": 6.7,
          "temp_min": 2.8,
          "weather": "fog",
          "wind": 1.8
         },
         {
          "date": "2014-12-29T00:00:00",
          "precipitation": 0,
          "temp_max": 6.1,
          "temp_min": 0.6,
          "weather": "fog",
          "wind": 4.3
         },
         {
          "date": "2014-12-30T00:00:00",
          "precipitation": 0,
          "temp_max": 3.3,
          "temp_min": -2.1,
          "weather": "sun",
          "wind": 3.6
         },
         {
          "date": "2014-12-31T00:00:00",
          "precipitation": 0,
          "temp_max": 3.3,
          "temp_min": -2.7,
          "weather": "sun",
          "wind": 3
         },
         {
          "date": "2015-01-01T00:00:00",
          "precipitation": 0,
          "temp_max": 5.6,
          "temp_min": -3.2,
          "weather": "sun",
          "wind": 1.2
         },
         {
          "date": "2015-01-02T00:00:00",
          "precipitation": 1.5,
          "temp_max": 5.6,
          "temp_min": 0,
          "weather": "fog",
          "wind": 2.3
         },
         {
          "date": "2015-01-03T00:00:00",
          "precipitation": 0,
          "temp_max": 5,
          "temp_min": 1.7,
          "weather": "fog",
          "wind": 1.7
         },
         {
          "date": "2015-01-04T00:00:00",
          "precipitation": 10.2,
          "temp_max": 10.6,
          "temp_min": 3.3,
          "weather": "fog",
          "wind": 4.5
         },
         {
          "date": "2015-01-05T00:00:00",
          "precipitation": 8.1,
          "temp_max": 12.2,
          "temp_min": 9.4,
          "weather": "fog",
          "wind": 6.4
         },
         {
          "date": "2015-01-06T00:00:00",
          "precipitation": 0,
          "temp_max": 12.2,
          "temp_min": 6.1,
          "weather": "fog",
          "wind": 1.3
         },
         {
          "date": "2015-01-07T00:00:00",
          "precipitation": 0,
          "temp_max": 7.8,
          "temp_min": 5.6,
          "weather": "fog",
          "wind": 1.6
         },
         {
          "date": "2015-01-08T00:00:00",
          "precipitation": 0,
          "temp_max": 7.8,
          "temp_min": 1.7,
          "weather": "fog",
          "wind": 2.6
         },
         {
          "date": "2015-01-09T00:00:00",
          "precipitation": 0.3,
          "temp_max": 10,
          "temp_min": 3.3,
          "weather": "fog",
          "wind": 0.6
         },
         {
          "date": "2015-01-10T00:00:00",
          "precipitation": 5.8,
          "temp_max": 7.8,
          "temp_min": 6.1,
          "weather": "fog",
          "wind": 0.5
         },
         {
          "date": "2015-01-11T00:00:00",
          "precipitation": 1.5,
          "temp_max": 9.4,
          "temp_min": 7.2,
          "weather": "fog",
          "wind": 1.1
         },
         {
          "date": "2015-01-12T00:00:00",
          "precipitation": 0,
          "temp_max": 11.1,
          "temp_min": 4.4,
          "weather": "fog",
          "wind": 1.6
         },
         {
          "date": "2015-01-13T00:00:00",
          "precipitation": 0,
          "temp_max": 9.4,
          "temp_min": 2.8,
          "weather": "fog",
          "wind": 2.7
         },
         {
          "date": "2015-01-14T00:00:00",
          "precipitation": 0,
          "temp_max": 6.1,
          "temp_min": 0.6,
          "weather": "fog",
          "wind": 2.8
         },
         {
          "date": "2015-01-15T00:00:00",
          "precipitation": 9.7,
          "temp_max": 7.8,
          "temp_min": 1.1,
          "weather": "fog",
          "wind": 3.2
         },
         {
          "date": "2015-01-16T00:00:00",
          "precipitation": 0,
          "temp_max": 11.7,
          "temp_min": 5.6,
          "weather": "fog",
          "wind": 4.5
         },
         {
          "date": "2015-01-17T00:00:00",
          "precipitation": 26.2,
          "temp_max": 13.3,
          "temp_min": 3.3,
          "weather": "fog",
          "wind": 2.8
         },
         {
          "date": "2015-01-18T00:00:00",
          "precipitation": 21.3,
          "temp_max": 13.9,
          "temp_min": 7.2,
          "weather": "rain",
          "wind": 6.6
         },
         {
          "date": "2015-01-19T00:00:00",
          "precipitation": 0.5,
          "temp_max": 10,
          "temp_min": 6.1,
          "weather": "sun",
          "wind": 2.8
         },
         {
          "date": "2015-01-20T00:00:00",
          "precipitation": 0,
          "temp_max": 10,
          "temp_min": 3.3,
          "weather": "fog",
          "wind": 3
         },
         {
          "date": "2015-01-21T00:00:00",
          "precipitation": 0,
          "temp_max": 7.2,
          "temp_min": -0.5,
          "weather": "fog",
          "wind": 1.3
         },
         {
          "date": "2015-01-22T00:00:00",
          "precipitation": 0.8,
          "temp_max": 9.4,
          "temp_min": 6.1,
          "weather": "fog",
          "wind": 1.3
         },
         {
          "date": "2015-01-23T00:00:00",
          "precipitation": 5.8,
          "temp_max": 12.2,
          "temp_min": 8.3,
          "weather": "fog",
          "wind": 2.6
         },
         {
          "date": "2015-01-24T00:00:00",
          "precipitation": 0.5,
          "temp_max": 14.4,
          "temp_min": 11.1,
          "weather": "fog",
          "wind": 3.3
         },
         {
          "date": "2015-01-25T00:00:00",
          "precipitation": 0,
          "temp_max": 17.2,
          "temp_min": 7.2,
          "weather": "fog",
          "wind": 1.4
         },
         {
          "date": "2015-01-26T00:00:00",
          "precipitation": 0,
          "temp_max": 16.1,
          "temp_min": 6.1,
          "weather": "fog",
          "wind": 2.2
         },
         {
          "date": "2015-01-27T00:00:00",
          "precipitation": 0.8,
          "temp_max": 11.1,
          "temp_min": 8.3,
          "weather": "fog",
          "wind": 2
         },
         {
          "date": "2015-01-28T00:00:00",
          "precipitation": 0,
          "temp_max": 12.2,
          "temp_min": 5,
          "weather": "fog",
          "wind": 1.8
         },
         {
          "date": "2015-01-29T00:00:00",
          "precipitation": 0,
          "temp_max": 12.2,
          "temp_min": 3.3,
          "weather": "sun",
          "wind": 2.9
         },
         {
          "date": "2015-01-30T00:00:00",
          "precipitation": 0,
          "temp_max": 8.3,
          "temp_min": 1.1,
          "weather": "fog",
          "wind": 0.8
         },
         {
          "date": "2015-01-31T00:00:00",
          "precipitation": 0,
          "temp_max": 7.2,
          "temp_min": 3.3,
          "weather": "fog",
          "wind": 1.9
         },
         {
          "date": "2015-02-01T00:00:00",
          "precipitation": 1.5,
          "temp_max": 9.4,
          "temp_min": 4.4,
          "weather": "fog",
          "wind": 2.6
         },
         {
          "date": "2015-02-02T00:00:00",
          "precipitation": 7.4,
          "temp_max": 11.1,
          "temp_min": 5,
          "weather": "fog",
          "wind": 4
         },
         {
          "date": "2015-02-03T00:00:00",
          "precipitation": 1.3,
          "temp_max": 10,
          "temp_min": 5.6,
          "weather": "fog",
          "wind": 1.9
         },
         {
          "date": "2015-02-04T00:00:00",
          "precipitation": 8.4,
          "temp_max": 10.6,
          "temp_min": 4.4,
          "weather": "fog",
          "wind": 1.7
         },
         {
          "date": "2015-02-05T00:00:00",
          "precipitation": 26.2,
          "temp_max": 13.3,
          "temp_min": 8.3,
          "weather": "fog",
          "wind": 4.6
         },
         {
          "date": "2015-02-06T00:00:00",
          "precipitation": 17.3,
          "temp_max": 14.4,
          "temp_min": 10,
          "weather": "fog",
          "wind": 4.5
         },
         {
          "date": "2015-02-07T00:00:00",
          "precipitation": 23.6,
          "temp_max": 12.2,
          "temp_min": 9.4,
          "weather": "fog",
          "wind": 4.6
         },
         {
          "date": "2015-02-08T00:00:00",
          "precipitation": 3.6,
          "temp_max": 15,
          "temp_min": 8.3,
          "weather": "fog",
          "wind": 3.9
         },
         {
          "date": "2015-02-09T00:00:00",
          "precipitation": 6.1,
          "temp_max": 13.3,
          "temp_min": 8.3,
          "weather": "fog",
          "wind": 2.5
         },
         {
          "date": "2015-02-10T00:00:00",
          "precipitation": 0.3,
          "temp_max": 12.8,
          "temp_min": 8.3,
          "weather": "fog",
          "wind": 4
         },
         {
          "date": "2015-02-11T00:00:00",
          "precipitation": 0,
          "temp_max": 12.8,
          "temp_min": 5.6,
          "weather": "fog",
          "wind": 1
         },
         {
          "date": "2015-02-12T00:00:00",
          "precipitation": 1,
          "temp_max": 16.7,
          "temp_min": 9.4,
          "weather": "sun",
          "wind": 2.1
         },
         {
          "date": "2015-02-13T00:00:00",
          "precipitation": 0,
          "temp_max": 15.6,
          "temp_min": 6.7,
          "weather": "fog",
          "wind": 1.7
         },
         {
          "date": "2015-02-14T00:00:00",
          "precipitation": 0.3,
          "temp_max": 14.4,
          "temp_min": 6.7,
          "weather": "fog",
          "wind": 2.9
         },
         {
          "date": "2015-02-15T00:00:00",
          "precipitation": 0,
          "temp_max": 12.2,
          "temp_min": 3.9,
          "weather": "sun",
          "wind": 4.8
         },
         {
          "date": "2015-02-16T00:00:00",
          "precipitation": 0,
          "temp_max": 15,
          "temp_min": 5.6,
          "weather": "fog",
          "wind": 6.6
         },
         {
          "date": "2015-02-17T00:00:00",
          "precipitation": 0,
          "temp_max": 16.1,
          "temp_min": 4.4,
          "weather": "sun",
          "wind": 4
         },
         {
          "date": "2015-02-18T00:00:00",
          "precipitation": 0,
          "temp_max": 12.2,
          "temp_min": 4.4,
          "weather": "sun",
          "wind": 2.6
         },
         {
          "date": "2015-02-19T00:00:00",
          "precipitation": 4.6,
          "temp_max": 10.6,
          "temp_min": 8.3,
          "weather": "fog",
          "wind": 2.2
         },
         {
          "date": "2015-02-20T00:00:00",
          "precipitation": 0.8,
          "temp_max": 11.1,
          "temp_min": 7.2,
          "weather": "fog",
          "wind": 0.9
         },
         {
          "date": "2015-02-21T00:00:00",
          "precipitation": 0,
          "temp_max": 12.2,
          "temp_min": 5.6,
          "weather": "sun",
          "wind": 4.5
         },
         {
          "date": "2015-02-22T00:00:00",
          "precipitation": 0,
          "temp_max": 11.7,
          "temp_min": 3.3,
          "weather": "sun",
          "wind": 4.2
         },
         {
          "date": "2015-02-23T00:00:00",
          "precipitation": 0,
          "temp_max": 12.8,
          "temp_min": 0.6,
          "weather": "sun",
          "wind": 1.4
         },
         {
          "date": "2015-02-24T00:00:00",
          "precipitation": 0,
          "temp_max": 11.1,
          "temp_min": 2.2,
          "weather": "sun",
          "wind": 1.5
         },
         {
          "date": "2015-02-25T00:00:00",
          "precipitation": 4.1,
          "temp_max": 10,
          "temp_min": 6.7,
          "weather": "fog",
          "wind": 1
         },
         {
          "date": "2015-02-26T00:00:00",
          "precipitation": 9.4,
          "temp_max": 11.7,
          "temp_min": 7.8,
          "weather": "fog",
          "wind": 1.4
         },
         {
          "date": "2015-02-27T00:00:00",
          "precipitation": 18.3,
          "temp_max": 10,
          "temp_min": 6.7,
          "weather": "fog",
          "wind": 4
         },
         {
          "date": "2015-02-28T00:00:00",
          "precipitation": 0,
          "temp_max": 12.2,
          "temp_min": 3.3,
          "weather": "sun",
          "wind": 5.1
         },
         {
          "date": "2015-03-01T00:00:00",
          "precipitation": 0,
          "temp_max": 11.1,
          "temp_min": 1.1,
          "weather": "sun",
          "wind": 2.2
         },
         {
          "date": "2015-03-02T00:00:00",
          "precipitation": 0,
          "temp_max": 11.1,
          "temp_min": 4.4,
          "weather": "sun",
          "wind": 4.8
         },
         {
          "date": "2015-03-03T00:00:00",
          "precipitation": 0,
          "temp_max": 10.6,
          "temp_min": 0,
          "weather": "sun",
          "wind": 2.1
         },
         {
          "date": "2015-03-04T00:00:00",
          "precipitation": 0,
          "temp_max": 12.8,
          "temp_min": -0.5,
          "weather": "sun",
          "wind": 1.8
         },
         {
          "date": "2015-03-05T00:00:00",
          "precipitation": 0,
          "temp_max": 13.3,
          "temp_min": 2.8,
          "weather": "sun",
          "wind": 1.3
         },
         {
          "date": "2015-03-06T00:00:00",
          "precipitation": 0,
          "temp_max": 15,
          "temp_min": 3.3,
          "weather": "sun",
          "wind": 1.4
         },
         {
          "date": "2015-03-07T00:00:00",
          "precipitation": 0,
          "temp_max": 16.7,
          "temp_min": 3.9,
          "weather": "fog",
          "wind": 2.7
         },
         {
          "date": "2015-03-08T00:00:00",
          "precipitation": 0,
          "temp_max": 17.2,
          "temp_min": 3.9,
          "weather": "fog",
          "wind": 1.7
         },
         {
          "date": "2015-03-09T00:00:00",
          "precipitation": 0,
          "temp_max": 14.4,
          "temp_min": 4.4,
          "weather": "fog",
          "wind": 1.8
         },
         {
          "date": "2015-03-10T00:00:00",
          "precipitation": 0.8,
          "temp_max": 13.3,
          "temp_min": 5,
          "weather": "fog",
          "wind": 2.6
         },
         {
          "date": "2015-03-11T00:00:00",
          "precipitation": 2.5,
          "temp_max": 14.4,
          "temp_min": 8.9,
          "weather": "fog",
          "wind": 3.1
         },
         {
          "date": "2015-03-12T00:00:00",
          "precipitation": 0,
          "temp_max": 17.8,
          "temp_min": 9.4,
          "weather": "sun",
          "wind": 3.2
         },
         {
          "date": "2015-03-13T00:00:00",
          "precipitation": 2,
          "temp_max": 17.2,
          "temp_min": 7.8,
          "weather": "sun",
          "wind": 2.2
         },
         {
          "date": "2015-03-14T00:00:00",
          "precipitation": 17,
          "temp_max": 13.9,
          "temp_min": 9.4,
          "weather": "fog",
          "wind": 3.8
         },
         {
          "date": "2015-03-15T00:00:00",
          "precipitation": 55.9,
          "temp_max": 10.6,
          "temp_min": 6.1,
          "weather": "fog",
          "wind": 4.2
         },
         {
          "date": "2015-03-16T00:00:00",
          "precipitation": 1,
          "temp_max": 13.9,
          "temp_min": 6.1,
          "weather": "fog",
          "wind": 3
         },
         {
          "date": "2015-03-17T00:00:00",
          "precipitation": 0.8,
          "temp_max": 13.3,
          "temp_min": 4.4,
          "weather": "sun",
          "wind": 2.6
         },
         {
          "date": "2015-03-18T00:00:00",
          "precipitation": 0,
          "temp_max": 15.6,
          "temp_min": 7.2,
          "weather": "sun",
          "wind": 2.5
         },
         {
          "date": "2015-03-19T00:00:00",
          "precipitation": 0,
          "temp_max": 15.6,
          "temp_min": 8.3,
          "weather": "sun",
          "wind": 1.9
         },
         {
          "date": "2015-03-20T00:00:00",
          "precipitation": 4.1,
          "temp_max": 13.9,
          "temp_min": 8.9,
          "weather": "sun",
          "wind": 1.9
         },
         {
          "date": "2015-03-21T00:00:00",
          "precipitation": 3.8,
          "temp_max": 13.3,
          "temp_min": 8.3,
          "weather": "fog",
          "wind": 4.7
         },
         {
          "date": "2015-03-22T00:00:00",
          "precipitation": 1,
          "temp_max": 11.7,
          "temp_min": 6.1,
          "weather": "sun",
          "wind": 2.3
         },
         {
          "date": "2015-03-23T00:00:00",
          "precipitation": 8.1,
          "temp_max": 11.1,
          "temp_min": 5.6,
          "weather": "fog",
          "wind": 2.8
         },
         {
          "date": "2015-03-24T00:00:00",
          "precipitation": 7.6,
          "temp_max": 12.8,
          "temp_min": 6.1,
          "weather": "fog",
          "wind": 3.9
         },
         {
          "date": "2015-03-25T00:00:00",
          "precipitation": 5.1,
          "temp_max": 14.4,
          "temp_min": 7.2,
          "weather": "fog",
          "wind": 4.4
         },
         {
          "date": "2015-03-26T00:00:00",
          "precipitation": 0,
          "temp_max": 20.6,
          "temp_min": 10,
          "weather": "sun",
          "wind": 2.2
         },
         {
          "date": "2015-03-27T00:00:00",
          "precipitation": 1,
          "temp_max": 18.3,
          "temp_min": 8.9,
          "weather": "fog",
          "wind": 4
         },
         {
          "date": "2015-03-28T00:00:00",
          "precipitation": 0,
          "temp_max": 15.6,
          "temp_min": 9.4,
          "weather": "sun",
          "wind": 5.7
         },
         {
          "date": "2015-03-29T00:00:00",
          "precipitation": 0,
          "temp_max": 15.6,
          "temp_min": 8.9,
          "weather": "sun",
          "wind": 3
         },
         {
          "date": "2015-03-30T00:00:00",
          "precipitation": 1.8,
          "temp_max": 17.8,
          "temp_min": 10.6,
          "weather": "fog",
          "wind": 2.9
         },
         {
          "date": "2015-03-31T00:00:00",
          "precipitation": 1,
          "temp_max": 12.8,
          "temp_min": 6.1,
          "weather": "fog",
          "wind": 4.2
         },
         {
          "date": "2015-04-01T00:00:00",
          "precipitation": 5.1,
          "temp_max": 12.8,
          "temp_min": 5.6,
          "weather": "rain",
          "wind": 3.2
         },
         {
          "date": "2015-04-02T00:00:00",
          "precipitation": 0,
          "temp_max": 13.3,
          "temp_min": 5.6,
          "weather": "sun",
          "wind": 2.4
         },
         {
          "date": "2015-04-03T00:00:00",
          "precipitation": 1.5,
          "temp_max": 11.1,
          "temp_min": 5,
          "weather": "fog",
          "wind": 3.6
         },
         {
          "date": "2015-04-04T00:00:00",
          "precipitation": 0,
          "temp_max": 12.8,
          "temp_min": 3.9,
          "weather": "sun",
          "wind": 1.7
         },
         {
          "date": "2015-04-05T00:00:00",
          "precipitation": 0,
          "temp_max": 16.7,
          "temp_min": 2.8,
          "weather": "sun",
          "wind": 2.4
         },
         {
          "date": "2015-04-06T00:00:00",
          "precipitation": 1,
          "temp_max": 13.9,
          "temp_min": 6.7,
          "weather": "sun",
          "wind": 3.5
         },
         {
          "date": "2015-04-07T00:00:00",
          "precipitation": 0.5,
          "temp_max": 14.4,
          "temp_min": 6.7,
          "weather": "sun",
          "wind": 3.9
         },
         {
          "date": "2015-04-08T00:00:00",
          "precipitation": 0,
          "temp_max": 17.2,
          "temp_min": 6.1,
          "weather": "sun",
          "wind": 1.7
         },
         {
          "date": "2015-04-09T00:00:00",
          "precipitation": 0,
          "temp_max": 17.2,
          "temp_min": 6.1,
          "weather": "sun",
          "wind": 2.3
         },
         {
          "date": "2015-04-10T00:00:00",
          "precipitation": 10.9,
          "temp_max": 13.9,
          "temp_min": 7.8,
          "weather": "fog",
          "wind": 4.6
         },
         {
          "date": "2015-04-11T00:00:00",
          "precipitation": 0,
          "temp_max": 11.7,
          "temp_min": 5.6,
          "weather": "sun",
          "wind": 6.5
         },
         {
          "date": "2015-04-12T00:00:00",
          "precipitation": 0,
          "temp_max": 13.3,
          "temp_min": 5.6,
          "weather": "sun",
          "wind": 3.6
         },
         {
          "date": "2015-04-13T00:00:00",
          "precipitation": 14,
          "temp_max": 11.7,
          "temp_min": 3.9,
          "weather": "fog",
          "wind": 3.6
         },
         {
          "date": "2015-04-14T00:00:00",
          "precipitation": 3.3,
          "temp_max": 11.7,
          "temp_min": 2.8,
          "weather": "sun",
          "wind": 3.3
         },
         {
          "date": "2015-04-15T00:00:00",
          "precipitation": 0,
          "temp_max": 13.9,
          "temp_min": 3.3,
          "weather": "sun",
          "wind": 2.4
         },
         {
          "date": "2015-04-16T00:00:00",
          "precipitation": 0,
          "temp_max": 17.8,
          "temp_min": 3.9,
          "weather": "sun",
          "wind": 3.1
         },
         {
          "date": "2015-04-17T00:00:00",
          "precipitation": 0,
          "temp_max": 18.9,
          "temp_min": 6.1,
          "weather": "sun",
          "wind": 3.6
         },
         {
          "date": "2015-04-18T00:00:00",
          "precipitation": 0,
          "temp_max": 18.9,
          "temp_min": 8.3,
          "weather": "sun",
          "wind": 3.9
         },
         {
          "date": "2015-04-19T00:00:00",
          "precipitation": 0,
          "temp_max": 21.1,
          "temp_min": 8.3,
          "weather": "sun",
          "wind": 3.6
         },
         {
          "date": "2015-04-20T00:00:00",
          "precipitation": 0,
          "temp_max": 22.8,
          "temp_min": 7.8,
          "weather": "sun",
          "wind": 2.6
         },
         {
          "date": "2015-04-21T00:00:00",
          "precipitation": 5.6,
          "temp_max": 17.2,
          "temp_min": 6.7,
          "weather": "fog",
          "wind": 3.4
         },
         {
          "date": "2015-04-22T00:00:00",
          "precipitation": 0,
          "temp_max": 15.6,
          "temp_min": 5,
          "weather": "sun",
          "wind": 2.3
         },
         {
          "date": "2015-04-23T00:00:00",
          "precipitation": 3,
          "temp_max": 12.2,
          "temp_min": 6.7,
          "weather": "fog",
          "wind": 4.1
         },
         {
          "date": "2015-04-24T00:00:00",
          "precipitation": 3.3,
          "temp_max": 12.2,
          "temp_min": 6.1,
          "weather": "fog",
          "wind": 5
         },
         {
          "date": "2015-04-25T00:00:00",
          "precipitation": 1.3,
          "temp_max": 13.3,
          "temp_min": 5.6,
          "weather": "fog",
          "wind": 3
         },
         {
          "date": "2015-04-26T00:00:00",
          "precipitation": 0,
          "temp_max": 15.6,
          "temp_min": 4.4,
          "weather": "fog",
          "wind": 2.7
         },
         {
          "date": "2015-04-27T00:00:00",
          "precipitation": 0.3,
          "temp_max": 25,
          "temp_min": 10.6,
          "weather": "fog",
          "wind": 2.3
         },
         {
          "date": "2015-04-28T00:00:00",
          "precipitation": 1.8,
          "temp_max": 15.6,
          "temp_min": 8.9,
          "weather": "fog",
          "wind": 4.3
         },
         {
          "date": "2015-04-29T00:00:00",
          "precipitation": 0,
          "temp_max": 16.1,
          "temp_min": 7.2,
          "weather": "sun",
          "wind": 4.7
         },
         {
          "date": "2015-04-30T00:00:00",
          "precipitation": 0,
          "temp_max": 17.2,
          "temp_min": 7.8,
          "weather": "sun",
          "wind": 2.1
         },
         {
          "date": "2015-05-01T00:00:00",
          "precipitation": 0,
          "temp_max": 18.3,
          "temp_min": 8.9,
          "weather": "sun",
          "wind": 3.7
         },
         {
          "date": "2015-05-02T00:00:00",
          "precipitation": 0,
          "temp_max": 18.3,
          "temp_min": 7.8,
          "weather": "sun",
          "wind": 3.7
         },
         {
          "date": "2015-05-03T00:00:00",
          "precipitation": 0,
          "temp_max": 20.6,
          "temp_min": 7.8,
          "weather": "sun",
          "wind": 2.6
         },
         {
          "date": "2015-05-04T00:00:00",
          "precipitation": 0,
          "temp_max": 17.2,
          "temp_min": 7.2,
          "weather": "sun",
          "wind": 5.2
         },
         {
          "date": "2015-05-05T00:00:00",
          "precipitation": 6.1,
          "temp_max": 14.4,
          "temp_min": 7.2,
          "weather": "fog",
          "wind": 5.1
         },
         {
          "date": "2015-05-06T00:00:00",
          "precipitation": 0,
          "temp_max": 16.7,
          "temp_min": 7.2,
          "weather": "fog",
          "wind": 2.6
         },
         {
          "date": "2015-05-07T00:00:00",
          "precipitation": 0,
          "temp_max": 20.6,
          "temp_min": 6.1,
          "weather": "sun",
          "wind": 3
         },
         {
          "date": "2015-05-08T00:00:00",
          "precipitation": 0,
          "temp_max": 23.9,
          "temp_min": 8.3,
          "weather": "sun",
          "wind": 3
         },
         {
          "date": "2015-05-09T00:00:00",
          "precipitation": 0,
          "temp_max": 26.7,
          "temp_min": 9.4,
          "weather": "sun",
          "wind": 2.6
         },
         {
          "date": "2015-05-10T00:00:00",
          "precipitation": 0,
          "temp_max": 19.4,
          "temp_min": 11.1,
          "weather": "sun",
          "wind": 2.8
         },
         {
          "date": "2015-05-11T00:00:00",
          "precipitation": 0,
          "temp_max": 13.9,
          "temp_min": 10,
          "weather": "fog",
          "wind": 2.5
         },
         {
          "date": "2015-05-12T00:00:00",
          "precipitation": 4.3,
          "temp_max": 15.6,
          "temp_min": 10.6,
          "weather": "fog",
          "wind": 3.3
         },
         {
          "date": "2015-05-13T00:00:00",
          "precipitation": 4.1,
          "temp_max": 12.2,
          "temp_min": 10,
          "weather": "fog",
          "wind": 2.8
         },
         {
          "date": "2015-05-14T00:00:00",
          "precipitation": 0.3,
          "temp_max": 17.8,
          "temp_min": 9.4,
          "weather": "fog",
          "wind": 2
         },
         {
          "date": "2015-05-15T00:00:00",
          "precipitation": 0,
          "temp_max": 20,
          "temp_min": 9.4,
          "weather": "fog",
          "wind": 2.8
         },
         {
          "date": "2015-05-16T00:00:00",
          "precipitation": 0,
          "temp_max": 15.6,
          "temp_min": 11.1,
          "weather": "sun",
          "wind": 3
         },
         {
          "date": "2015-05-17T00:00:00",
          "precipitation": 0,
          "temp_max": 19.4,
          "temp_min": 10.6,
          "weather": "sun",
          "wind": 2.1
         },
         {
          "date": "2015-05-18T00:00:00",
          "precipitation": 0,
          "temp_max": 25.6,
          "temp_min": 12.2,
          "weather": "sun",
          "wind": 3
         },
         {
          "date": "2015-05-19T00:00:00",
          "precipitation": 0,
          "temp_max": 21.7,
          "temp_min": 11.7,
          "weather": "sun",
          "wind": 2.6
         },
         {
          "date": "2015-05-20T00:00:00",
          "precipitation": 0,
          "temp_max": 23.3,
          "temp_min": 10.6,
          "weather": "fog",
          "wind": 1.8
         },
         {
          "date": "2015-05-21T00:00:00",
          "precipitation": 0,
          "temp_max": 25.6,
          "temp_min": 11.7,
          "weather": "sun",
          "wind": 2.1
         },
         {
          "date": "2015-05-22T00:00:00",
          "precipitation": 0,
          "temp_max": 16.7,
          "temp_min": 11.7,
          "weather": "sun",
          "wind": 3.7
         },
         {
          "date": "2015-05-23T00:00:00",
          "precipitation": 0,
          "temp_max": 16.1,
          "temp_min": 11.7,
          "weather": "sun",
          "wind": 2.6
         },
         {
          "date": "2015-05-24T00:00:00",
          "precipitation": 0,
          "temp_max": 17.8,
          "temp_min": 11.1,
          "weather": "sun",
          "wind": 2.7
         },
         {
          "date": "2015-05-25T00:00:00",
          "precipitation": 0,
          "temp_max": 15.6,
          "temp_min": 11.1,
          "weather": "sun",
          "wind": 2.7
         },
         {
          "date": "2015-05-26T00:00:00",
          "precipitation": 0,
          "temp_max": 21.7,
          "temp_min": 11.7,
          "weather": "sun",
          "wind": 2.1
         },
         {
          "date": "2015-05-27T00:00:00",
          "precipitation": 0,
          "temp_max": 24.4,
          "temp_min": 11.7,
          "weather": "sun",
          "wind": 1.8
         },
         {
          "date": "2015-05-28T00:00:00",
          "precipitation": 0,
          "temp_max": 27.8,
          "temp_min": 12.2,
          "weather": "sun",
          "wind": 2.1
         },
         {
          "date": "2015-05-29T00:00:00",
          "precipitation": 0,
          "temp_max": 26.1,
          "temp_min": 12.8,
          "weather": "sun",
          "wind": 2.5
         },
         {
          "date": "2015-05-30T00:00:00",
          "precipitation": 0,
          "temp_max": 22.8,
          "temp_min": 10,
          "weather": "sun",
          "wind": 2.5
         },
         {
          "date": "2015-05-31T00:00:00",
          "precipitation": 0,
          "temp_max": 25,
          "temp_min": 11.7,
          "weather": "sun",
          "wind": 2.2
         },
         {
          "date": "2015-06-01T00:00:00",
          "precipitation": 4.6,
          "temp_max": 16.1,
          "temp_min": 11.7,
          "weather": "fog",
          "wind": 3.4
         },
         {
          "date": "2015-06-02T00:00:00",
          "precipitation": 0.5,
          "temp_max": 17.8,
          "temp_min": 12.8,
          "weather": "sun",
          "wind": 5
         },
         {
          "date": "2015-06-03T00:00:00",
          "precipitation": 0,
          "temp_max": 20,
          "temp_min": 11.7,
          "weather": "sun",
          "wind": 3
         },
         {
          "date": "2015-06-04T00:00:00",
          "precipitation": 0,
          "temp_max": 22.8,
          "temp_min": 11.7,
          "weather": "sun",
          "wind": 3.9
         },
         {
          "date": "2015-06-05T00:00:00",
          "precipitation": 0,
          "temp_max": 26.7,
          "temp_min": 12.8,
          "weather": "sun",
          "wind": 4.3
         },
         {
          "date": "2015-06-06T00:00:00",
          "precipitation": 0,
          "temp_max": 29.4,
          "temp_min": 13.3,
          "weather": "sun",
          "wind": 2.6
         },
         {
          "date": "2015-06-07T00:00:00",
          "precipitation": 0,
          "temp_max": 31.1,
          "temp_min": 15.6,
          "weather": "sun",
          "wind": 3.2
         },
         {
          "date": "2015-06-08T00:00:00",
          "precipitation": 0,
          "temp_max": 30.6,
          "temp_min": 14.4,
          "weather": "sun",
          "wind": 3.5
         },
         {
          "date": "2015-06-09T00:00:00",
          "precipitation": 0,
          "temp_max": 28.9,
          "temp_min": 14.4,
          "weather": "sun",
          "wind": 2.7
         },
         {
          "date": "2015-06-10T00:00:00",
          "precipitation": 0,
          "temp_max": 25.6,
          "temp_min": 11.1,
          "weather": "sun",
          "wind": 3
         },
         {
          "date": "2015-06-11T00:00:00",
          "precipitation": 0,
          "temp_max": 24.4,
          "temp_min": 11.1,
          "weather": "sun",
          "wind": 3.5
         },
         {
          "date": "2015-06-12T00:00:00",
          "precipitation": 0,
          "temp_max": 20,
          "temp_min": 11.7,
          "weather": "sun",
          "wind": 2.3
         },
         {
          "date": "2015-06-13T00:00:00",
          "precipitation": 0,
          "temp_max": 23.9,
          "temp_min": 9.4,
          "weather": "sun",
          "wind": 2.6
         },
         {
          "date": "2015-06-14T00:00:00",
          "precipitation": 0,
          "temp_max": 27.8,
          "temp_min": 11.7,
          "weather": "sun",
          "wind": 3.7
         },
         {
          "date": "2015-06-15T00:00:00",
          "precipitation": 0,
          "temp_max": 30,
          "temp_min": 16.1,
          "weather": "drizzle",
          "wind": 3.5
         },
         {
          "date": "2015-06-16T00:00:00",
          "precipitation": 0,
          "temp_max": 22.8,
          "temp_min": 11.1,
          "weather": "sun",
          "wind": 3
         },
         {
          "date": "2015-06-17T00:00:00",
          "precipitation": 0,
          "temp_max": 25,
          "temp_min": 11.1,
          "weather": "sun",
          "wind": 3.1
         },
         {
          "date": "2015-06-18T00:00:00",
          "precipitation": 0,
          "temp_max": 24.4,
          "temp_min": 13.9,
          "weather": "sun",
          "wind": 3
         },
         {
          "date": "2015-06-19T00:00:00",
          "precipitation": 0.5,
          "temp_max": 23.9,
          "temp_min": 13.3,
          "weather": "fog",
          "wind": 3.2
         },
         {
          "date": "2015-06-20T00:00:00",
          "precipitation": 0,
          "temp_max": 25,
          "temp_min": 12.8,
          "weather": "sun",
          "wind": 4.3
         },
         {
          "date": "2015-06-21T00:00:00",
          "precipitation": 0,
          "temp_max": 25.6,
          "temp_min": 13.9,
          "weather": "sun",
          "wind": 3.4
         },
         {
          "date": "2015-06-22T00:00:00",
          "precipitation": 0,
          "temp_max": 25,
          "temp_min": 12.8,
          "weather": "sun",
          "wind": 2.4
         },
         {
          "date": "2015-06-23T00:00:00",
          "precipitation": 0,
          "temp_max": 26.1,
          "temp_min": 11.7,
          "weather": "sun",
          "wind": 2.4
         },
         {
          "date": "2015-06-24T00:00:00",
          "precipitation": 0,
          "temp_max": 25.6,
          "temp_min": 16.1,
          "weather": "sun",
          "wind": 2.6
         },
         {
          "date": "2015-06-25T00:00:00",
          "precipitation": 0,
          "temp_max": 30.6,
          "temp_min": 15.6,
          "weather": "sun",
          "wind": 3
         },
         {
          "date": "2015-06-26T00:00:00",
          "precipitation": 0,
          "temp_max": 31.7,
          "temp_min": 17.8,
          "weather": "sun",
          "wind": 4.7
         },
         {
          "date": "2015-06-27T00:00:00",
          "precipitation": 0,
          "temp_max": 33.3,
          "temp_min": 17.2,
          "weather": "sun",
          "wind": 3.9
         },
         {
          "date": "2015-06-28T00:00:00",
          "precipitation": 0.3,
          "temp_max": 28.3,
          "temp_min": 18.3,
          "weather": "sun",
          "wind": 2.1
         },
         {
          "date": "2015-06-29T00:00:00",
          "precipitation": 0,
          "temp_max": 28.9,
          "temp_min": 17.2,
          "weather": "sun",
          "wind": 2.7
         },
         {
          "date": "2015-06-30T00:00:00",
          "precipitation": 0,
          "temp_max": 30.6,
          "temp_min": 15,
          "weather": "fog",
          "wind": 3.4
         },
         {
          "date": "2015-07-01T00:00:00",
          "precipitation": 0,
          "temp_max": 32.2,
          "temp_min": 17.2,
          "weather": "sun",
          "wind": 4.3
         },
         {
          "date": "2015-07-02T00:00:00",
          "precipitation": 0,
          "temp_max": 33.9,
          "temp_min": 17.8,
          "weather": "sun",
          "wind": 3.4
         },
         {
          "date": "2015-07-03T00:00:00",
          "precipitation": 0,
          "temp_max": 33.3,
          "temp_min": 17.8,
          "weather": "sun",
          "wind": 2.6
         },
         {
          "date": "2015-07-04T00:00:00",
          "precipitation": 0,
          "temp_max": 33.3,
          "temp_min": 15,
          "weather": "sun",
          "wind": 2.9
         },
         {
          "date": "2015-07-05T00:00:00",
          "precipitation": 0,
          "temp_max": 32.8,
          "temp_min": 16.7,
          "weather": "sun",
          "wind": 2.1
         },
         {
          "date": "2015-07-06T00:00:00",
          "precipitation": 0,
          "temp_max": 29.4,
          "temp_min": 15.6,
          "weather": "drizzle",
          "wind": 3.2
         },
         {
          "date": "2015-07-07T00:00:00",
          "precipitation": 0,
          "temp_max": 27.2,
          "temp_min": 13.9,
          "weather": "sun",
          "wind": 2.4
         },
         {
          "date": "2015-07-08T00:00:00",
          "precipitation": 0,
          "temp_max": 30,
          "temp_min": 14.4,
          "weather": "drizzle",
          "wind": 1.9
         },
         {
          "date": "2015-07-09T00:00:00",
          "precipitation": 0,
          "temp_max": 28.9,
          "temp_min": 14.4,
          "weather": "sun",
          "wind": 3.4
         },
         {
          "date": "2015-07-10T00:00:00",
          "precipitation": 0,
          "temp_max": 21.1,
          "temp_min": 16.7,
          "weather": "sun",
          "wind": 3.7
         },
         {
          "date": "2015-07-11T00:00:00",
          "precipitation": 0,
          "temp_max": 22.2,
          "temp_min": 16.7,
          "weather": "sun",
          "wind": 3
         },
         {
          "date": "2015-07-12T00:00:00",
          "precipitation": 0,
          "temp_max": 26.1,
          "temp_min": 16.7,
          "weather": "sun",
          "wind": 2.2
         },
         {
          "date": "2015-07-13T00:00:00",
          "precipitation": 0,
          "temp_max": 25.6,
          "temp_min": 16.1,
          "weather": "sun",
          "wind": 3.1
         },
         {
          "date": "2015-07-14T00:00:00",
          "precipitation": 0,
          "temp_max": 27.8,
          "temp_min": 16.1,
          "weather": "sun",
          "wind": 3.3
         },
         {
          "date": "2015-07-15T00:00:00",
          "precipitation": 0,
          "temp_max": 26.1,
          "temp_min": 14.4,
          "weather": "sun",
          "wind": 3.2
         },
         {
          "date": "2015-07-16T00:00:00",
          "precipitation": 0,
          "temp_max": 26.1,
          "temp_min": 15,
          "weather": "sun",
          "wind": 2.8
         },
         {
          "date": "2015-07-17T00:00:00",
          "precipitation": 0,
          "temp_max": 27.8,
          "temp_min": 13.9,
          "weather": "sun",
          "wind": 3.3
         },
         {
          "date": "2015-07-18T00:00:00",
          "precipitation": 0,
          "temp_max": 33.3,
          "temp_min": 17.8,
          "weather": "sun",
          "wind": 3.4
         },
         {
          "date": "2015-07-19T00:00:00",
          "precipitation": 0,
          "temp_max": 35,
          "temp_min": 17.2,
          "weather": "sun",
          "wind": 3.3
         },
         {
          "date": "2015-07-20T00:00:00",
          "precipitation": 0,
          "temp_max": 26.7,
          "temp_min": 16.7,
          "weather": "sun",
          "wind": 3.9
         },
         {
          "date": "2015-07-21T00:00:00",
          "precipitation": 0,
          "temp_max": 23.9,
          "temp_min": 15,
          "weather": "sun",
          "wind": 2.4
         },
         {
          "date": "2015-07-22T00:00:00",
          "precipitation": 0,
          "temp_max": 23.9,
          "temp_min": 13.9,
          "weather": "sun",
          "wind": 2.8
         },
         {
          "date": "2015-07-23T00:00:00",
          "precipitation": 0,
          "temp_max": 26.1,
          "temp_min": 14.4,
          "weather": "sun",
          "wind": 1.9
         },
         {
          "date": "2015-07-24T00:00:00",
          "precipitation": 0.3,
          "temp_max": 22.8,
          "temp_min": 13.3,
          "weather": "fog",
          "wind": 3.8
         },
         {
          "date": "2015-07-25T00:00:00",
          "precipitation": 0,
          "temp_max": 21.1,
          "temp_min": 14.4,
          "weather": "fog",
          "wind": 2.4
         },
         {
          "date": "2015-07-26T00:00:00",
          "precipitation": 2,
          "temp_max": 22.2,
          "temp_min": 13.9,
          "weather": "fog",
          "wind": 2.6
         },
         {
          "date": "2015-07-27T00:00:00",
          "precipitation": 0,
          "temp_max": 23.3,
          "temp_min": 12.2,
          "weather": "fog",
          "wind": 1.9
         },
         {
          "date": "2015-07-28T00:00:00",
          "precipitation": 0,
          "temp_max": 27.8,
          "temp_min": 13.9,
          "weather": "sun",
          "wind": 3.4
         },
         {
          "date": "2015-07-29T00:00:00",
          "precipitation": 0,
          "temp_max": 32.2,
          "temp_min": 14.4,
          "weather": "sun",
          "wind": 3.8
         },
         {
          "date": "2015-07-30T00:00:00",
          "precipitation": 0,
          "temp_max": 34.4,
          "temp_min": 17.2,
          "weather": "sun",
          "wind": 3.5
         },
         {
          "date": "2015-07-31T00:00:00",
          "precipitation": 0,
          "temp_max": 34.4,
          "temp_min": 17.8,
          "weather": "sun",
          "wind": 2.6
         },
         {
          "date": "2015-08-01T00:00:00",
          "precipitation": 0,
          "temp_max": 33.3,
          "temp_min": 15.6,
          "weather": "sun",
          "wind": 3.1
         },
         {
          "date": "2015-08-02T00:00:00",
          "precipitation": 0,
          "temp_max": 30.6,
          "temp_min": 16.1,
          "weather": "sun",
          "wind": 2
         },
         {
          "date": "2015-08-03T00:00:00",
          "precipitation": 0,
          "temp_max": 28.3,
          "temp_min": 17.2,
          "weather": "sun",
          "wind": 2.3
         },
         {
          "date": "2015-08-04T00:00:00",
          "precipitation": 0,
          "temp_max": 26.1,
          "temp_min": 14.4,
          "weather": "fog",
          "wind": 2.6
         },
         {
          "date": "2015-08-05T00:00:00",
          "precipitation": 0,
          "temp_max": 23.3,
          "temp_min": 12.2,
          "weather": "sun",
          "wind": 3.5
         },
         {
          "date": "2015-08-06T00:00:00",
          "precipitation": 0,
          "temp_max": 25,
          "temp_min": 15,
          "weather": "sun",
          "wind": 2.9
         },
         {
          "date": "2015-08-07T00:00:00",
          "precipitation": 0,
          "temp_max": 28.3,
          "temp_min": 15.6,
          "weather": "sun",
          "wind": 3.7
         },
         {
          "date": "2015-08-08T00:00:00",
          "precipitation": 0,
          "temp_max": 25,
          "temp_min": 15.6,
          "weather": "fog",
          "wind": 3.6
         },
         {
          "date": "2015-08-09T00:00:00",
          "precipitation": 0,
          "temp_max": 28.3,
          "temp_min": 15,
          "weather": "sun",
          "wind": 2.2
         },
         {
          "date": "2015-08-10T00:00:00",
          "precipitation": 0,
          "temp_max": 28.9,
          "temp_min": 16.1,
          "weather": "sun",
          "wind": 2.4
         },
         {
          "date": "2015-08-11T00:00:00",
          "precipitation": 0,
          "temp_max": 30,
          "temp_min": 16.7,
          "weather": "sun",
          "wind": 4.4
         },
         {
          "date": "2015-08-12T00:00:00",
          "precipitation": 7.6,
          "temp_max": 28.3,
          "temp_min": 16.7,
          "weather": "rain",
          "wind": 2.7
         },
         {
          "date": "2015-08-13T00:00:00",
          "precipitation": 0,
          "temp_max": 28.3,
          "temp_min": 15.6,
          "weather": "sun",
          "wind": 2.2
         },
         {
          "date": "2015-08-14T00:00:00",
          "precipitation": 30.5,
          "temp_max": 18.3,
          "temp_min": 15,
          "weather": "rain",
          "wind": 5.2
         },
         {
          "date": "2015-08-15T00:00:00",
          "precipitation": 0,
          "temp_max": 21.7,
          "temp_min": 13.9,
          "weather": "sun",
          "wind": 3.7
         },
         {
          "date": "2015-08-16T00:00:00",
          "precipitation": 0,
          "temp_max": 25,
          "temp_min": 14.4,
          "weather": "sun",
          "wind": 3.7
         },
         {
          "date": "2015-08-17T00:00:00",
          "precipitation": 0,
          "temp_max": 27.2,
          "temp_min": 13.9,
          "weather": "sun",
          "wind": 3
         },
         {
          "date": "2015-08-18T00:00:00",
          "precipitation": 0,
          "temp_max": 30,
          "temp_min": 15,
          "weather": "sun",
          "wind": 3
         },
         {
          "date": "2015-08-19T00:00:00",
          "precipitation": 0,
          "temp_max": 31.7,
          "temp_min": 16.1,
          "weather": "drizzle",
          "wind": 2.1
         },
         {
          "date": "2015-08-20T00:00:00",
          "precipitation": 2,
          "temp_max": 22.8,
          "temp_min": 14.4,
          "weather": "fog",
          "wind": 4.2
         },
         {
          "date": "2015-08-21T00:00:00",
          "precipitation": 0,
          "temp_max": 22.2,
          "temp_min": 14.4,
          "weather": "sun",
          "wind": 2.6
         },
         {
          "date": "2015-08-22T00:00:00",
          "precipitation": 0,
          "temp_max": 26.7,
          "temp_min": 12.2,
          "weather": "drizzle",
          "wind": 2.5
         },
         {
          "date": "2015-08-23T00:00:00",
          "precipitation": 0,
          "temp_max": 27.8,
          "temp_min": 13.9,
          "weather": "drizzle",
          "wind": 1.8
         },
         {
          "date": "2015-08-24T00:00:00",
          "precipitation": 0,
          "temp_max": 23.9,
          "temp_min": 12.2,
          "weather": "sun",
          "wind": 2.3
         },
         {
          "date": "2015-08-25T00:00:00",
          "precipitation": 0,
          "temp_max": 25.6,
          "temp_min": 12.2,
          "weather": "sun",
          "wind": 3.4
         },
         {
          "date": "2015-08-26T00:00:00",
          "precipitation": 0,
          "temp_max": 28.3,
          "temp_min": 13.9,
          "weather": "sun",
          "wind": 1.7
         },
         {
          "date": "2015-08-27T00:00:00",
          "precipitation": 0,
          "temp_max": 29.4,
          "temp_min": 14.4,
          "weather": "sun",
          "wind": 2.1
         },
         {
          "date": "2015-08-28T00:00:00",
          "precipitation": 0.5,
          "temp_max": 23.3,
          "temp_min": 15.6,
          "weather": "fog",
          "wind": 2.6
         },
         {
          "date": "2015-08-29T00:00:00",
          "precipitation": 32.5,
          "temp_max": 22.2,
          "temp_min": 13.3,
          "weather": "fog",
          "wind": 5.8
         },
         {
          "date": "2015-08-30T00:00:00",
          "precipitation": 10.2,
          "temp_max": 20,
          "temp_min": 12.8,
          "weather": "fog",
          "wind": 4.7
         },
         {
          "date": "2015-08-31T00:00:00",
          "precipitation": 0,
          "temp_max": 18.9,
          "temp_min": 16.1,
          "weather": "sun",
          "wind": 5.8
         },
         {
          "date": "2015-09-01T00:00:00",
          "precipitation": 5.8,
          "temp_max": 19.4,
          "temp_min": 13.9,
          "weather": "fog",
          "wind": 5
         },
         {
          "date": "2015-09-02T00:00:00",
          "precipitation": 0,
          "temp_max": 19.4,
          "temp_min": 11.1,
          "weather": "sun",
          "wind": 3.8
         },
         {
          "date": "2015-09-03T00:00:00",
          "precipitation": 0,
          "temp_max": 18.3,
          "temp_min": 10.6,
          "weather": "sun",
          "wind": 2.9
         },
         {
          "date": "2015-09-04T00:00:00",
          "precipitation": 0,
          "temp_max": 18.3,
          "temp_min": 10,
          "weather": "sun",
          "wind": 2.9
         },
         {
          "date": "2015-09-05T00:00:00",
          "precipitation": 0.3,
          "temp_max": 20.6,
          "temp_min": 8.9,
          "weather": "sun",
          "wind": 3.5
         },
         {
          "date": "2015-09-06T00:00:00",
          "precipitation": 5.3,
          "temp_max": 16.1,
          "temp_min": 11.7,
          "weather": "fog",
          "wind": 2.4
         },
         {
          "date": "2015-09-07T00:00:00",
          "precipitation": 0.3,
          "temp_max": 21.1,
          "temp_min": 13.3,
          "weather": "fog",
          "wind": 1.5
         },
         {
          "date": "2015-09-08T00:00:00",
          "precipitation": 0,
          "temp_max": 22.8,
          "temp_min": 13.3,
          "weather": "sun",
          "wind": 2.4
         },
         {
          "date": "2015-09-09T00:00:00",
          "precipitation": 0,
          "temp_max": 24.4,
          "temp_min": 13.9,
          "weather": "sun",
          "wind": 3.3
         },
         {
          "date": "2015-09-10T00:00:00",
          "precipitation": 0,
          "temp_max": 25,
          "temp_min": 14.4,
          "weather": "fog",
          "wind": 3.6
         },
         {
          "date": "2015-09-11T00:00:00",
          "precipitation": 0,
          "temp_max": 27.2,
          "temp_min": 15,
          "weather": "sun",
          "wind": 3.1
         },
         {
          "date": "2015-09-12T00:00:00",
          "precipitation": 0,
          "temp_max": 26.7,
          "temp_min": 14.4,
          "weather": "sun",
          "wind": 2.1
         },
         {
          "date": "2015-09-13T00:00:00",
          "precipitation": 0.5,
          "temp_max": 20.6,
          "temp_min": 12.8,
          "weather": "fog",
          "wind": 3
         },
         {
          "date": "2015-09-14T00:00:00",
          "precipitation": 0,
          "temp_max": 16.7,
          "temp_min": 10.6,
          "weather": "sun",
          "wind": 3.4
         },
         {
          "date": "2015-09-15T00:00:00",
          "precipitation": 0,
          "temp_max": 17.8,
          "temp_min": 10,
          "weather": "sun",
          "wind": 2.8
         },
         {
          "date": "2015-09-16T00:00:00",
          "precipitation": 1,
          "temp_max": 20,
          "temp_min": 10,
          "weather": "sun",
          "wind": 1.9
         },
         {
          "date": "2015-09-17T00:00:00",
          "precipitation": 1.8,
          "temp_max": 18.3,
          "temp_min": 12.8,
          "weather": "fog",
          "wind": 3.8
         },
         {
          "date": "2015-09-18T00:00:00",
          "precipitation": 0,
          "temp_max": 19.4,
          "temp_min": 12.8,
          "weather": "sun",
          "wind": 2.6
         },
         {
          "date": "2015-09-19T00:00:00",
          "precipitation": 0,
          "temp_max": 21.1,
          "temp_min": 14.4,
          "weather": "sun",
          "wind": 4.3
         },
         {
          "date": "2015-09-20T00:00:00",
          "precipitation": 4.1,
          "temp_max": 22.8,
          "temp_min": 12.2,
          "weather": "fog",
          "wind": 6.8
         },
         {
          "date": "2015-09-21T00:00:00",
          "precipitation": 0,
          "temp_max": 18.3,
          "temp_min": 9.4,
          "weather": "fog",
          "wind": 2.7
         },
         {
          "date": "2015-09-22T00:00:00",
          "precipitation": 0,
          "temp_max": 18.9,
          "temp_min": 7.8,
          "weather": "sun",
          "wind": 2
         },
         {
          "date": "2015-09-23T00:00:00",
          "precipitation": 0,
          "temp_max": 20.6,
          "temp_min": 8.3,
          "weather": "sun",
          "wind": 1.8
         },
         {
          "date": "2015-09-24T00:00:00",
          "precipitation": 0,
          "temp_max": 22.2,
          "temp_min": 11.1,
          "weather": "fog",
          "wind": 2.5
         },
         {
          "date": "2015-09-25T00:00:00",
          "precipitation": 2,
          "temp_max": 15.6,
          "temp_min": 12.8,
          "weather": "fog",
          "wind": 2.6
         },
         {
          "date": "2015-09-26T00:00:00",
          "precipitation": 0,
          "temp_max": 18.3,
          "temp_min": 10,
          "weather": "sun",
          "wind": 2.7
         },
         {
          "date": "2015-09-27T00:00:00",
          "precipitation": 0,
          "temp_max": 17.8,
          "temp_min": 7.2,
          "weather": "sun",
          "wind": 3.8
         },
         {
          "date": "2015-09-28T00:00:00",
          "precipitation": 0,
          "temp_max": 21.1,
          "temp_min": 9.4,
          "weather": "sun",
          "wind": 5.1
         },
         {
          "date": "2015-09-29T00:00:00",
          "precipitation": 0,
          "temp_max": 21.7,
          "temp_min": 8.9,
          "weather": "sun",
          "wind": 1.9
         },
         {
          "date": "2015-09-30T00:00:00",
          "precipitation": 0,
          "temp_max": 18.3,
          "temp_min": 10,
          "weather": "fog",
          "wind": 1.3
         },
         {
          "date": "2015-10-01T00:00:00",
          "precipitation": 0,
          "temp_max": 21.1,
          "temp_min": 9.4,
          "weather": "fog",
          "wind": 1.3
         },
         {
          "date": "2015-10-02T00:00:00",
          "precipitation": 0,
          "temp_max": 15.6,
          "temp_min": 10,
          "weather": "fog",
          "wind": 2.9
         },
         {
          "date": "2015-10-03T00:00:00",
          "precipitation": 0,
          "temp_max": 19.4,
          "temp_min": 11.1,
          "weather": "sun",
          "wind": 4.8
         },
         {
          "date": "2015-10-04T00:00:00",
          "precipitation": 0,
          "temp_max": 22.8,
          "temp_min": 10,
          "weather": "sun",
          "wind": 3.7
         },
         {
          "date": "2015-10-05T00:00:00",
          "precipitation": 0,
          "temp_max": 23.3,
          "temp_min": 9.4,
          "weather": "sun",
          "wind": 1.6
         },
         {
          "date": "2015-10-06T00:00:00",
          "precipitation": 0,
          "temp_max": 18.3,
          "temp_min": 10,
          "weather": "drizzle",
          "wind": 2.6
         },
         {
          "date": "2015-10-07T00:00:00",
          "precipitation": 9.9,
          "temp_max": 16.1,
          "temp_min": 13.9,
          "weather": "fog",
          "wind": 2.2
         },
         {
          "date": "2015-10-08T00:00:00",
          "precipitation": 0,
          "temp_max": 18.9,
          "temp_min": 13.3,
          "weather": "fog",
          "wind": 1.1
         },
         {
          "date": "2015-10-09T00:00:00",
          "precipitation": 0.3,
          "temp_max": 19.4,
          "temp_min": 12.2,
          "weather": "fog",
          "wind": 2.6
         },
         {
          "date": "2015-10-10T00:00:00",
          "precipitation": 28.7,
          "temp_max": 21.1,
          "temp_min": 13.3,
          "weather": "fog",
          "wind": 4.7
         },
         {
          "date": "2015-10-11T00:00:00",
          "precipitation": 0,
          "temp_max": 17.8,
          "temp_min": 10.6,
          "weather": "sun",
          "wind": 2.6
         },
         {
          "date": "2015-10-12T00:00:00",
          "precipitation": 4.6,
          "temp_max": 18.3,
          "temp_min": 10.6,
          "weather": "fog",
          "wind": 2.8
         },
         {
          "date": "2015-10-13T00:00:00",
          "precipitation": 1.3,
          "temp_max": 16.7,
          "temp_min": 9.4,
          "weather": "fog",
          "wind": 3.2
         },
         {
          "date": "2015-10-14T00:00:00",
          "precipitation": 0,
          "temp_max": 15,
          "temp_min": 10,
          "weather": "fog",
          "wind": 5
         },
         {
          "date": "2015-10-15T00:00:00",
          "precipitation": 0,
          "temp_max": 21.1,
          "temp_min": 9.4,
          "weather": "fog",
          "wind": 3.4
         },
         {
          "date": "2015-10-16T00:00:00",
          "precipitation": 0,
          "temp_max": 20,
          "temp_min": 8.9,
          "weather": "sun",
          "wind": 1.3
         },
         {
          "date": "2015-10-17T00:00:00",
          "precipitation": 0.3,
          "temp_max": 19.4,
          "temp_min": 11.7,
          "weather": "fog",
          "wind": 1.3
         },
         {
          "date": "2015-10-18T00:00:00",
          "precipitation": 3.8,
          "temp_max": 15,
          "temp_min": 12.8,
          "weather": "fog",
          "wind": 2
         },
         {
          "date": "2015-10-19T00:00:00",
          "precipitation": 0.3,
          "temp_max": 17.2,
          "temp_min": 12.2,
          "weather": "fog",
          "wind": 2.6
         },
         {
          "date": "2015-10-20T00:00:00",
          "precipitation": 0,
          "temp_max": 17.8,
          "temp_min": 10.6,
          "weather": "fog",
          "wind": 1.8
         },
         {
          "date": "2015-10-21T00:00:00",
          "precipitation": 0,
          "temp_max": 16.1,
          "temp_min": 8.3,
          "weather": "fog",
          "wind": 1.3
         },
         {
          "date": "2015-10-22T00:00:00",
          "precipitation": 0,
          "temp_max": 16.1,
          "temp_min": 8.9,
          "weather": "fog",
          "wind": 2.7
         },
         {
          "date": "2015-10-23T00:00:00",
          "precipitation": 0,
          "temp_max": 12.8,
          "temp_min": 7.2,
          "weather": "fog",
          "wind": 2.6
         },
         {
          "date": "2015-10-24T00:00:00",
          "precipitation": 0,
          "temp_max": 15,
          "temp_min": 8.9,
          "weather": "fog",
          "wind": 2.9
         },
         {
          "date": "2015-10-25T00:00:00",
          "precipitation": 8.9,
          "temp_max": 19.4,
          "temp_min": 8.9,
          "weather": "rain",
          "wind": 3.4
         },
         {
          "date": "2015-10-26T00:00:00",
          "precipitation": 6.9,
          "temp_max": 12.2,
          "temp_min": 10,
          "weather": "fog",
          "wind": 4.6
         },
         {
          "date": "2015-10-27T00:00:00",
          "precipitation": 0,
          "temp_max": 16.1,
          "temp_min": 7.8,
          "weather": "fog",
          "wind": 1.7
         },
         {
          "date": "2015-10-28T00:00:00",
          "precipitation": 3.3,
          "temp_max": 13.9,
          "temp_min": 11.1,
          "weather": "fog",
          "wind": 2.8
         },
         {
          "date": "2015-10-29T00:00:00",
          "precipitation": 1.8,
          "temp_max": 15,
          "temp_min": 12.2,
          "weather": "fog",
          "wind": 4.7
         },
         {
          "date": "2015-10-30T00:00:00",
          "precipitation": 19.3,
          "temp_max": 17.2,
          "temp_min": 11.7,
          "weather": "fog",
          "wind": 6.7
         },
         {
          "date": "2015-10-31T00:00:00",
          "precipitation": 33,
          "temp_max": 15.6,
          "temp_min": 11.7,
          "weather": "fog",
          "wind": 7.2
         },
         {
          "date": "2015-11-01T00:00:00",
          "precipitation": 26.2,
          "temp_max": 12.2,
          "temp_min": 8.9,
          "weather": "fog",
          "wind": 6
         },
         {
          "date": "2015-11-02T00:00:00",
          "precipitation": 0.3,
          "temp_max": 11.1,
          "temp_min": 7.2,
          "weather": "fog",
          "wind": 2.8
         },
         {
          "date": "2015-11-03T00:00:00",
          "precipitation": 0.8,
          "temp_max": 10.6,
          "temp_min": 5,
          "weather": "fog",
          "wind": 1.4
         },
         {
          "date": "2015-11-04T00:00:00",
          "precipitation": 0,
          "temp_max": 10,
          "temp_min": 3.3,
          "weather": "sun",
          "wind": 2.2
         },
         {
          "date": "2015-11-05T00:00:00",
          "precipitation": 1.3,
          "temp_max": 11.7,
          "temp_min": 7.8,
          "weather": "fog",
          "wind": 2.3
         },
         {
          "date": "2015-11-06T00:00:00",
          "precipitation": 0,
          "temp_max": 15.6,
          "temp_min": 8.3,
          "weather": "fog",
          "wind": 2.7
         },
         {
          "date": "2015-11-07T00:00:00",
          "precipitation": 12.7,
          "temp_max": 12.2,
          "temp_min": 9.4,
          "weather": "fog",
          "wind": 3
         },
         {
          "date": "2015-11-08T00:00:00",
          "precipitation": 6.6,
          "temp_max": 11.1,
          "temp_min": 7.8,
          "weather": "fog",
          "wind": 1.8
         },
         {
          "date": "2015-11-09T00:00:00",
          "precipitation": 3.3,
          "temp_max": 10,
          "temp_min": 5,
          "weather": "fog",
          "wind": 1.3
         },
         {
          "date": "2015-11-10T00:00:00",
          "precipitation": 1.3,
          "temp_max": 11.1,
          "temp_min": 3.9,
          "weather": "fog",
          "wind": 3.9
         },
         {
          "date": "2015-11-11T00:00:00",
          "precipitation": 1.5,
          "temp_max": 11.1,
          "temp_min": 6.1,
          "weather": "sun",
          "wind": 4.6
         },
         {
          "date": "2015-11-12T00:00:00",
          "precipitation": 9.9,
          "temp_max": 11.1,
          "temp_min": 5,
          "weather": "fog",
          "wind": 5.1
         },
         {
          "date": "2015-11-13T00:00:00",
          "precipitation": 33.5,
          "temp_max": 13.3,
          "temp_min": 9.4,
          "weather": "fog",
          "wind": 6.5
         },
         {
          "date": "2015-11-14T00:00:00",
          "precipitation": 47.2,
          "temp_max": 9.4,
          "temp_min": 6.1,
          "weather": "fog",
          "wind": 4.5
         },
         {
          "date": "2015-11-15T00:00:00",
          "precipitation": 22.4,
          "temp_max": 8.9,
          "temp_min": 2.2,
          "weather": "fog",
          "wind": 4.1
         },
         {
          "date": "2015-11-16T00:00:00",
          "precipitation": 2,
          "temp_max": 8.9,
          "temp_min": 1.7,
          "weather": "fog",
          "wind": 4
         },
         {
          "date": "2015-11-17T00:00:00",
          "precipitation": 29.5,
          "temp_max": 13.3,
          "temp_min": 6.7,
          "weather": "fog",
          "wind": 8
         },
         {
          "date": "2015-11-18T00:00:00",
          "precipitation": 1.5,
          "temp_max": 8.9,
          "temp_min": 3.3,
          "weather": "sun",
          "wind": 3.8
         },
         {
          "date": "2015-11-19T00:00:00",
          "precipitation": 2,
          "temp_max": 8.9,
          "temp_min": 2.8,
          "weather": "sun",
          "wind": 4.2
         },
         {
          "date": "2015-11-20T00:00:00",
          "precipitation": 0,
          "temp_max": 8.3,
          "temp_min": 0.6,
          "weather": "fog",
          "wind": 4
         },
         {
          "date": "2015-11-21T00:00:00",
          "precipitation": 0,
          "temp_max": 8.9,
          "temp_min": 0.6,
          "weather": "sun",
          "wind": 4.7
         },
         {
          "date": "2015-11-22T00:00:00",
          "precipitation": 0,
          "temp_max": 10,
          "temp_min": 1.7,
          "weather": "fog",
          "wind": 3.1
         },
         {
          "date": "2015-11-23T00:00:00",
          "precipitation": 3,
          "temp_max": 6.7,
          "temp_min": 0,
          "weather": "fog",
          "wind": 1.3
         },
         {
          "date": "2015-11-24T00:00:00",
          "precipitation": 7.1,
          "temp_max": 6.7,
          "temp_min": 2.8,
          "weather": "fog",
          "wind": 4.5
         },
         {
          "date": "2015-11-25T00:00:00",
          "precipitation": 0,
          "temp_max": 7.2,
          "temp_min": 0,
          "weather": "sun",
          "wind": 5.7
         },
         {
          "date": "2015-11-26T00:00:00",
          "precipitation": 0,
          "temp_max": 9.4,
          "temp_min": -1,
          "weather": "sun",
          "wind": 4.3
         },
         {
          "date": "2015-11-27T00:00:00",
          "precipitation": 0,
          "temp_max": 9.4,
          "temp_min": -1.6,
          "weather": "sun",
          "wind": 3
         },
         {
          "date": "2015-11-28T00:00:00",
          "precipitation": 0,
          "temp_max": 7.2,
          "temp_min": -2.7,
          "weather": "sun",
          "wind": 1
         },
         {
          "date": "2015-11-29T00:00:00",
          "precipitation": 0,
          "temp_max": 1.7,
          "temp_min": -2.1,
          "weather": "fog",
          "wind": 0.9
         },
         {
          "date": "2015-11-30T00:00:00",
          "precipitation": 0.5,
          "temp_max": 5.6,
          "temp_min": -3.8,
          "weather": "fog",
          "wind": 1.7
         },
         {
          "date": "2015-12-01T00:00:00",
          "precipitation": 12.2,
          "temp_max": 10,
          "temp_min": 3.9,
          "weather": "fog",
          "wind": 3.5
         },
         {
          "date": "2015-12-02T00:00:00",
          "precipitation": 2.5,
          "temp_max": 10.6,
          "temp_min": 4.4,
          "weather": "fog",
          "wind": 5
         },
         {
          "date": "2015-12-03T00:00:00",
          "precipitation": 12.7,
          "temp_max": 15.6,
          "temp_min": 7.8,
          "weather": "fog",
          "wind": 5.9
         },
         {
          "date": "2015-12-04T00:00:00",
          "precipitation": 2,
          "temp_max": 10.6,
          "temp_min": 6.1,
          "weather": "fog",
          "wind": 4.7
         },
         {
          "date": "2015-12-05T00:00:00",
          "precipitation": 15.7,
          "temp_max": 10,
          "temp_min": 6.1,
          "weather": "fog",
          "wind": 4
         },
         {
          "date": "2015-12-06T00:00:00",
          "precipitation": 11.2,
          "temp_max": 12.8,
          "temp_min": 7.2,
          "weather": "fog",
          "wind": 5.9
         },
         {
          "date": "2015-12-07T00:00:00",
          "precipitation": 27.4,
          "temp_max": 11.1,
          "temp_min": 8.3,
          "weather": "fog",
          "wind": 3.4
         },
         {
          "date": "2015-12-08T00:00:00",
          "precipitation": 54.1,
          "temp_max": 15.6,
          "temp_min": 10,
          "weather": "fog",
          "wind": 6.2
         },
         {
          "date": "2015-12-09T00:00:00",
          "precipitation": 13.5,
          "temp_max": 12.2,
          "temp_min": 7.8,
          "weather": "fog",
          "wind": 6.3
         },
         {
          "date": "2015-12-10T00:00:00",
          "precipitation": 9.4,
          "temp_max": 11.7,
          "temp_min": 6.1,
          "weather": "fog",
          "wind": 7.5
         },
         {
          "date": "2015-12-11T00:00:00",
          "precipitation": 0.3,
          "temp_max": 9.4,
          "temp_min": 4.4,
          "weather": "sun",
          "wind": 2.8
         },
         {
          "date": "2015-12-12T00:00:00",
          "precipitation": 16,
          "temp_max": 8.9,
          "temp_min": 5.6,
          "weather": "fog",
          "wind": 5.6
         },
         {
          "date": "2015-12-13T00:00:00",
          "precipitation": 1.3,
          "temp_max": 7.8,
          "temp_min": 6.1,
          "weather": "sun",
          "wind": 6.1
         },
         {
          "date": "2015-12-14T00:00:00",
          "precipitation": 0,
          "temp_max": 7.8,
          "temp_min": 1.7,
          "weather": "sun",
          "wind": 1.7
         },
         {
          "date": "2015-12-15T00:00:00",
          "precipitation": 1.5,
          "temp_max": 6.7,
          "temp_min": 1.1,
          "weather": "fog",
          "wind": 2.9
         },
         {
          "date": "2015-12-16T00:00:00",
          "precipitation": 3.6,
          "temp_max": 6.1,
          "temp_min": 2.8,
          "weather": "fog",
          "wind": 2.3
         },
         {
          "date": "2015-12-17T00:00:00",
          "precipitation": 21.8,
          "temp_max": 6.7,
          "temp_min": 3.9,
          "weather": "fog",
          "wind": 6
         },
         {
          "date": "2015-12-18T00:00:00",
          "precipitation": 18.5,
          "temp_max": 8.9,
          "temp_min": 4.4,
          "weather": "fog",
          "wind": 5.1
         },
         {
          "date": "2015-12-19T00:00:00",
          "precipitation": 0,
          "temp_max": 8.3,
          "temp_min": 2.8,
          "weather": "fog",
          "wind": 4.1
         },
         {
          "date": "2015-12-20T00:00:00",
          "precipitation": 4.3,
          "temp_max": 7.8,
          "temp_min": 4.4,
          "weather": "fog",
          "wind": 6.7
         },
         {
          "date": "2015-12-21T00:00:00",
          "precipitation": 27.4,
          "temp_max": 5.6,
          "temp_min": 2.8,
          "weather": "fog",
          "wind": 4.3
         },
         {
          "date": "2015-12-22T00:00:00",
          "precipitation": 4.6,
          "temp_max": 7.8,
          "temp_min": 2.8,
          "weather": "fog",
          "wind": 5
         },
         {
          "date": "2015-12-23T00:00:00",
          "precipitation": 6.1,
          "temp_max": 5,
          "temp_min": 2.8,
          "weather": "fog",
          "wind": 7.6
         },
         {
          "date": "2015-12-24T00:00:00",
          "precipitation": 2.5,
          "temp_max": 5.6,
          "temp_min": 2.2,
          "weather": "fog",
          "wind": 4.3
         },
         {
          "date": "2015-12-25T00:00:00",
          "precipitation": 5.8,
          "temp_max": 5,
          "temp_min": 2.2,
          "weather": "fog",
          "wind": 1.5
         },
         {
          "date": "2015-12-26T00:00:00",
          "precipitation": 0,
          "temp_max": 4.4,
          "temp_min": 0,
          "weather": "sun",
          "wind": 2.5
         },
         {
          "date": "2015-12-27T00:00:00",
          "precipitation": 8.6,
          "temp_max": 4.4,
          "temp_min": 1.7,
          "weather": "fog",
          "wind": 2.9
         },
         {
          "date": "2015-12-28T00:00:00",
          "precipitation": 1.5,
          "temp_max": 5,
          "temp_min": 1.7,
          "weather": "fog",
          "wind": 1.3
         },
         {
          "date": "2015-12-29T00:00:00",
          "precipitation": 0,
          "temp_max": 7.2,
          "temp_min": 0.6,
          "weather": "fog",
          "wind": 2.6
         },
         {
          "date": "2015-12-30T00:00:00",
          "precipitation": 0,
          "temp_max": 5.6,
          "temp_min": -1,
          "weather": "sun",
          "wind": 3.4
         },
         {
          "date": "2015-12-31T00:00:00",
          "precipitation": 0,
          "temp_max": 5.6,
          "temp_min": -2.1,
          "weather": "sun",
          "wind": 3.5
         }
        ]
       },
       "encoding": {
        "x": {
         "field": "temp_max",
         "type": "quantitative"
        },
        "y": {
         "field": "temp_min",
         "type": "quantitative"
        }
       },
       "mark": {
        "type": "point"
       },
       "name": "sp",
       "params": [
        {
         "name": "b2",
         "select": {
          "type": "interval"
         }
        }
       ]
      },
      "text/plain": [
       "<VegaLite 5 object>\n",
       "\n",
       "If you see this message, it means the renderer has not been properly enabled\n",
       "for the frontend that you are using. For more information, see\n",
       "https://altair-viz.github.io/user_guide/display_frontends.html#troubleshooting\n"
      ]
     },
     "execution_count": 4,
     "metadata": {},
     "output_type": "execute_result"
    }
   ],
   "source": [
    "brush2 = alt.selection_interval(name=\"b2\")\n",
    "\n",
    "alt.Chart(weather, name=\"sp\").mark_point().encode(\n",
    "    x='temp_max:Q',\n",
    "    y='temp_min:Q',\n",
    ").add_params(brush2)"
   ]
  }
 ],
 "metadata": {
  "__ACTIVE_CATEGORY__": "Cool Status",
  "__CATEGORIES__": {
   "Cool Status": {
    "name": "Cool Status",
    "options": {
     "Somewhat Cool": {
      "name": "Somewhat Cool"
     },
     "Ultra Cool": {
      "name": "Ultra Cool"
     },
     "Very Cool": {
      "name": "Very Cool"
     },
     "_None": {
      "name": "None"
     }
    }
   }
  },
  "kernelspec": {
   "display_name": "Python 3 (ipykernel)",
   "language": "python",
   "name": "python3"
  },
  "language_info": {
   "codemirror_mode": {
    "name": "ipython",
    "version": 3
   },
   "file_extension": ".py",
   "mimetype": "text/x-python",
   "name": "python",
   "nbconvert_exporter": "python",
   "pygments_lexer": "ipython3",
   "version": "3.8.16"
  }
 },
 "nbformat": 4,
 "nbformat_minor": 5
}
