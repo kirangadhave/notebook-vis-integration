{
 "cells": [
  {
   "cell_type": "code",
   "execution_count": 1,
   "metadata": {
    "trrack_graph": "ᯡࡑ䅼ԅՐᶠ⹀தÐǠ⌠治3Ô堤狩唕寀ᦴ䔡ౌᩱ戣᫠ƻጥԠ嘪ဠ㑁瀣氠䶀͚劢揠≼䪭ᵦ暌᳚砪ാኴA䩂k㝫ォ䩰Έ̉■Õ堣㎳䏢停庐䭤ⰼ䀾ⰲ䝳ࡳ㈈≂᱉Ⱐ෡ದ䀢⣨新勖㥴خἫ䗍◇兒姹᱄捡ジ剤ࠉㆅ䈛䨪䖽㽌徊ྪ‫㖤≸呡ᜐ她嶬乔ሢ摈ͺ⟍孁眠⾴入㬯ᱠʘ<ឈὸᡖ朆⮄䔌晻穌⃅狪଩䀩ひྠ炑株ጣ≸犌ྮ↡吱ᘨ⌁䑬᢫䊕坛峆ΥᄰऊⒼ⁈჋䡵檊劫⬈ണᧃ搐浓Ҵ  "
   },
   "outputs": [
    {
     "ename": "NameError",
     "evalue": "name 'IDE' is not defined",
     "output_type": "error",
     "traceback": [
      "\u001b[0;31m---------------------------------------------------------------------------\u001b[0m",
      "\u001b[0;31mNameError\u001b[0m                                 Traceback (most recent call last)",
      "Cell \u001b[0;32mIn[1], line 1\u001b[0m\n\u001b[0;32m----> 1\u001b[0m \u001b[43mIDE\u001b[49m\n",
      "\u001b[0;31mNameError\u001b[0m: name 'IDE' is not defined"
     ]
    }
   ],
   "source": [
    "IDE"
   ]
  },
  {
   "cell_type": "code",
   "execution_count": 1,
   "metadata": {
    "id": "HqC4Y2bSGBHG",
    "trrack_graph": "ᯡࡑ䅼ԅՐᶠ⹀தĸàᭆڀ˦fÔlƸʄ婡氤ᦪ⁮ㆮ柚处փ栋r嘨:࢘Ė狐ƽ⥡㌄ᅁ⍮䇓ᬮ⸤㸚ؖഴ刱䩂k▆䒪⠣㐢畅䀠學ǗᎯપ瞓䉒ᆁ搠礠䩑ᬠǧ曠ኁ戸磤㹩Ⱐ෡ದ䀢⭫▱ዶ牴خἨ䙥◇児姹᳼帡Ⴈ䱲⸈来䎚⪪┲ႏ๠申ीו䉂᧭ഐᤥ䷔婈ᆬ⠦壮ⲗŎⓜ䶌⊪Ѡʘ=᠀ླྀᠮ漚ⶄ䔾晒ێ℅╠䐁拴ᱽᝢ䢀ᱬƃĢ⤱䀲ㄔᠱ䒃ゴᠳӃ゘ᱴ㗘ẵᠤጨ䃧╔無⃥㹪啲樺ͻ⚉璍ᆳ卓๠  "
   },
   "outputs": [],
   "source": [
    "import altair as alt\n",
    "import numpy as np\n",
    "import pandas as pd\n",
    "from vega_datasets import data"
   ]
  },
  {
   "cell_type": "markdown",
   "metadata": {
    "id": "_4GWs0kYHQzj"
   },
   "source": [
    "## Interactive Average"
   ]
  },
  {
   "cell_type": "code",
   "execution_count": 2,
   "metadata": {
    "colab": {
     "base_uri": "https://localhost:8080/",
     "height": 368
    },
    "id": "OqLIdQP-HSgR",
    "outputId": "f6d5c647-ede9-460a-b2f4-eae66d0317b8",
    "trrack_graph": "ᯡࡑ䅼ԅՐᶠ⹀தĸڀ㌡洈ˠᖽÔĭᦠᎴ䄢ᧈᅠ㙸º䬳㤡ᥔ无î䑿Рന㰠箖堡仉⃑爱Ⴥ⭡䧋ݎἝɥ䟆⤮┱E䞸≅ᐡ娡㩲怠ⷌû姧䕥㯙懩࠼jấ䀡扁〱ւь沌Ⴔ嘠܀䙣‡ᒄ㋨⦋㭊̧ྫྷ⍄僱椹䴄㙮㜿x⩎኶箳冁庵⊲撨ᯧᡚ䓩\"涁ऄ玒㱌円捅ਨ挴Ǎ㎶巠䮠៪⃎嶧ᩀŜ.⯔⟌ష㞓ᛒ↯㏨䍈傒勍䋠Ⲓࢮ捱Გᶮ憠璙ࡡ⌑氶ᒥ䎰҈Ⱔℱへ䡦᫼ཪ䰢ত″劶㢠傂彅⧉㕭ǃ单ⴣό㎔昳䠠 "
   },
   "outputs": [
    {
     "name": "stderr",
     "output_type": "stream",
     "text": [
      "/Users/zacharycutler/miniconda3/envs/jupyterlab-ext/lib/python3.11/site-packages/altair/utils/deprecation.py:65: AltairDeprecationWarning: 'selection' is deprecated.\n",
      "   Use 'selection_point()' or 'selection_interval()' instead; these functions also include more helpful docstrings.\n",
      "  warnings.warn(message, AltairDeprecationWarning, stacklevel=1)\n",
      "/Users/zacharycutler/miniconda3/envs/jupyterlab-ext/lib/python3.11/site-packages/altair/utils/deprecation.py:65: AltairDeprecationWarning: 'add_selection' is deprecated. Use 'add_params' instead.\n",
      "  warnings.warn(message, AltairDeprecationWarning, stacklevel=1)\n"
     ]
    },
    {
     "data": {
      "text/html": [
       "\n",
       "<style>\n",
       "  #altair-viz-c1ce0f199d4c447e9f688a278c16757b.vega-embed {\n",
       "    width: 100%;\n",
       "    display: flex;\n",
       "  }\n",
       "\n",
       "  #altair-viz-c1ce0f199d4c447e9f688a278c16757b.vega-embed details,\n",
       "  #altair-viz-c1ce0f199d4c447e9f688a278c16757b.vega-embed details summary {\n",
       "    position: relative;\n",
       "  }\n",
       "</style>\n",
       "<div id=\"altair-viz-c1ce0f199d4c447e9f688a278c16757b\"></div>\n",
       "<script type=\"text/javascript\">\n",
       "  var VEGA_DEBUG = (typeof VEGA_DEBUG == \"undefined\") ? {} : VEGA_DEBUG;\n",
       "  (function(spec, embedOpt){\n",
       "    let outputDiv = document.currentScript.previousElementSibling;\n",
       "    if (outputDiv.id !== \"altair-viz-c1ce0f199d4c447e9f688a278c16757b\") {\n",
       "      outputDiv = document.getElementById(\"altair-viz-c1ce0f199d4c447e9f688a278c16757b\");\n",
       "    }\n",
       "    const paths = {\n",
       "      \"vega\": \"https://cdn.jsdelivr.net/npm/vega@5?noext\",\n",
       "      \"vega-lib\": \"https://cdn.jsdelivr.net/npm/vega-lib?noext\",\n",
       "      \"vega-lite\": \"https://cdn.jsdelivr.net/npm/vega-lite@5.8.0?noext\",\n",
       "      \"vega-embed\": \"https://cdn.jsdelivr.net/npm/vega-embed@6?noext\",\n",
       "    };\n",
       "\n",
       "    function maybeLoadScript(lib, version) {\n",
       "      var key = `${lib.replace(\"-\", \"\")}_version`;\n",
       "      return (VEGA_DEBUG[key] == version) ?\n",
       "        Promise.resolve(paths[lib]) :\n",
       "        new Promise(function(resolve, reject) {\n",
       "          var s = document.createElement('script');\n",
       "          document.getElementsByTagName(\"head\")[0].appendChild(s);\n",
       "          s.async = true;\n",
       "          s.onload = () => {\n",
       "            VEGA_DEBUG[key] = version;\n",
       "            return resolve(paths[lib]);\n",
       "          };\n",
       "          s.onerror = () => reject(`Error loading script: ${paths[lib]}`);\n",
       "          s.src = paths[lib];\n",
       "        });\n",
       "    }\n",
       "\n",
       "    function showError(err) {\n",
       "      outputDiv.innerHTML = `<div class=\"error\" style=\"color:red;\">${err}</div>`;\n",
       "      throw err;\n",
       "    }\n",
       "\n",
       "    function displayChart(vegaEmbed) {\n",
       "      vegaEmbed(outputDiv, spec, embedOpt)\n",
       "        .catch(err => showError(`Javascript Error: ${err.message}<br>This usually means there's a typo in your chart specification. See the javascript console for the full traceback.`));\n",
       "    }\n",
       "\n",
       "    if(typeof define === \"function\" && define.amd) {\n",
       "      requirejs.config({paths});\n",
       "      require([\"vega-embed\"], displayChart, err => showError(`Error loading script: ${err.message}`));\n",
       "    } else {\n",
       "      maybeLoadScript(\"vega\", \"5\")\n",
       "        .then(() => maybeLoadScript(\"vega-lite\", \"5.8.0\"))\n",
       "        .then(() => maybeLoadScript(\"vega-embed\", \"6\"))\n",
       "        .catch(showError)\n",
       "        .then(() => displayChart(vegaEmbed));\n",
       "    }\n",
       "  })({\"config\": {\"view\": {\"continuousWidth\": 300, \"continuousHeight\": 300}}, \"layer\": [{\"mark\": {\"type\": \"bar\"}, \"encoding\": {\"opacity\": {\"condition\": {\"param\": \"param_1\", \"value\": 1}, \"value\": 0.7}, \"x\": {\"field\": \"date\", \"timeUnit\": \"month\", \"type\": \"ordinal\"}, \"y\": {\"aggregate\": \"mean\", \"field\": \"precipitation\", \"type\": \"quantitative\"}}, \"name\": \"view_1\"}, {\"mark\": {\"type\": \"rule\", \"color\": \"firebrick\"}, \"encoding\": {\"size\": {\"value\": 3}, \"y\": {\"aggregate\": \"mean\", \"field\": \"precipitation\", \"type\": \"quantitative\"}}, \"transform\": [{\"filter\": {\"param\": \"param_1\"}}]}], \"data\": {\"name\": \"data-830c39fec90146253fb06a06c26374ef\"}, \"params\": [{\"name\": \"param_1\", \"select\": {\"type\": \"interval\", \"encodings\": [\"x\"]}, \"views\": [\"view_1\"]}], \"$schema\": \"https://vega.github.io/schema/vega-lite/v5.8.0.json\", \"datasets\": {\"data-830c39fec90146253fb06a06c26374ef\": [{\"date\": \"2012-01-01T00:00:00\", \"precipitation\": 0.0, \"temp_max\": 12.8, \"temp_min\": 5.0, \"wind\": 4.7, \"weather\": \"drizzle\"}, {\"date\": \"2012-01-02T00:00:00\", \"precipitation\": 10.9, \"temp_max\": 10.6, \"temp_min\": 2.8, \"wind\": 4.5, \"weather\": \"rain\"}, {\"date\": \"2012-01-03T00:00:00\", \"precipitation\": 0.8, \"temp_max\": 11.7, \"temp_min\": 7.2, \"wind\": 2.3, \"weather\": \"rain\"}, {\"date\": \"2012-01-04T00:00:00\", \"precipitation\": 20.3, \"temp_max\": 12.2, \"temp_min\": 5.6, \"wind\": 4.7, \"weather\": \"rain\"}, {\"date\": \"2012-01-05T00:00:00\", \"precipitation\": 1.3, \"temp_max\": 8.9, \"temp_min\": 2.8, \"wind\": 6.1, \"weather\": \"rain\"}, {\"date\": \"2012-01-06T00:00:00\", \"precipitation\": 2.5, \"temp_max\": 4.4, \"temp_min\": 2.2, \"wind\": 2.2, \"weather\": \"rain\"}, {\"date\": \"2012-01-07T00:00:00\", \"precipitation\": 0.0, \"temp_max\": 7.2, \"temp_min\": 2.8, \"wind\": 2.3, \"weather\": \"rain\"}, {\"date\": \"2012-01-08T00:00:00\", \"precipitation\": 0.0, \"temp_max\": 10.0, \"temp_min\": 2.8, \"wind\": 2.0, \"weather\": \"sun\"}, {\"date\": \"2012-01-09T00:00:00\", \"precipitation\": 4.3, \"temp_max\": 9.4, \"temp_min\": 5.0, \"wind\": 3.4, \"weather\": \"rain\"}, {\"date\": \"2012-01-10T00:00:00\", \"precipitation\": 1.0, \"temp_max\": 6.1, \"temp_min\": 0.6, \"wind\": 3.4, \"weather\": \"rain\"}, {\"date\": \"2012-01-11T00:00:00\", \"precipitation\": 0.0, \"temp_max\": 6.1, \"temp_min\": -1.1, \"wind\": 5.1, \"weather\": \"sun\"}, {\"date\": \"2012-01-12T00:00:00\", \"precipitation\": 0.0, \"temp_max\": 6.1, \"temp_min\": -1.7, \"wind\": 1.9, \"weather\": \"sun\"}, {\"date\": \"2012-01-13T00:00:00\", \"precipitation\": 0.0, \"temp_max\": 5.0, \"temp_min\": -2.8, \"wind\": 1.3, \"weather\": \"sun\"}, {\"date\": \"2012-01-14T00:00:00\", \"precipitation\": 4.1, \"temp_max\": 4.4, \"temp_min\": 0.6, \"wind\": 5.3, \"weather\": \"snow\"}, {\"date\": \"2012-01-15T00:00:00\", \"precipitation\": 5.3, \"temp_max\": 1.1, \"temp_min\": -3.3, \"wind\": 3.2, \"weather\": \"snow\"}, {\"date\": \"2012-01-16T00:00:00\", \"precipitation\": 2.5, \"temp_max\": 1.7, \"temp_min\": -2.8, \"wind\": 5.0, \"weather\": \"snow\"}, {\"date\": \"2012-01-17T00:00:00\", \"precipitation\": 8.1, \"temp_max\": 3.3, \"temp_min\": 0.0, \"wind\": 5.6, \"weather\": \"snow\"}, {\"date\": \"2012-01-18T00:00:00\", \"precipitation\": 19.8, \"temp_max\": 0.0, \"temp_min\": -2.8, \"wind\": 5.0, \"weather\": \"snow\"}, {\"date\": \"2012-01-19T00:00:00\", \"precipitation\": 15.2, \"temp_max\": -1.1, \"temp_min\": -2.8, \"wind\": 1.6, \"weather\": \"snow\"}, {\"date\": \"2012-01-20T00:00:00\", \"precipitation\": 13.5, \"temp_max\": 7.2, \"temp_min\": -1.1, \"wind\": 2.3, \"weather\": \"snow\"}, {\"date\": \"2012-01-21T00:00:00\", \"precipitation\": 3.0, \"temp_max\": 8.3, \"temp_min\": 3.3, \"wind\": 8.2, \"weather\": \"rain\"}, {\"date\": \"2012-01-22T00:00:00\", \"precipitation\": 6.1, \"temp_max\": 6.7, \"temp_min\": 2.2, \"wind\": 4.8, \"weather\": \"rain\"}, {\"date\": \"2012-01-23T00:00:00\", \"precipitation\": 0.0, \"temp_max\": 8.3, \"temp_min\": 1.1, \"wind\": 3.6, \"weather\": \"rain\"}, {\"date\": \"2012-01-24T00:00:00\", \"precipitation\": 8.6, \"temp_max\": 10.0, \"temp_min\": 2.2, \"wind\": 5.1, \"weather\": \"rain\"}, {\"date\": \"2012-01-25T00:00:00\", \"precipitation\": 8.1, \"temp_max\": 8.9, \"temp_min\": 4.4, \"wind\": 5.4, \"weather\": \"rain\"}, {\"date\": \"2012-01-26T00:00:00\", \"precipitation\": 4.8, \"temp_max\": 8.9, \"temp_min\": 1.1, \"wind\": 4.8, \"weather\": \"rain\"}, {\"date\": \"2012-01-27T00:00:00\", \"precipitation\": 0.0, \"temp_max\": 6.7, \"temp_min\": -2.2, \"wind\": 1.4, \"weather\": \"drizzle\"}, {\"date\": \"2012-01-28T00:00:00\", \"precipitation\": 0.0, \"temp_max\": 6.7, \"temp_min\": 0.6, \"wind\": 2.2, \"weather\": \"rain\"}, {\"date\": \"2012-01-29T00:00:00\", \"precipitation\": 27.7, \"temp_max\": 9.4, \"temp_min\": 3.9, \"wind\": 4.5, \"weather\": \"rain\"}, {\"date\": \"2012-01-30T00:00:00\", \"precipitation\": 3.6, \"temp_max\": 8.3, \"temp_min\": 6.1, \"wind\": 5.1, \"weather\": \"rain\"}, {\"date\": \"2012-01-31T00:00:00\", \"precipitation\": 1.8, \"temp_max\": 9.4, \"temp_min\": 6.1, \"wind\": 3.9, \"weather\": \"rain\"}, {\"date\": \"2012-02-01T00:00:00\", \"precipitation\": 13.5, \"temp_max\": 8.9, \"temp_min\": 3.3, \"wind\": 2.7, \"weather\": \"rain\"}, {\"date\": \"2012-02-02T00:00:00\", \"precipitation\": 0.0, \"temp_max\": 8.3, \"temp_min\": 1.7, \"wind\": 2.6, \"weather\": \"sun\"}, {\"date\": \"2012-02-03T00:00:00\", \"precipitation\": 0.0, \"temp_max\": 14.4, \"temp_min\": 2.2, \"wind\": 5.3, \"weather\": \"sun\"}, {\"date\": \"2012-02-04T00:00:00\", \"precipitation\": 0.0, \"temp_max\": 15.6, \"temp_min\": 5.0, \"wind\": 4.3, \"weather\": \"sun\"}, {\"date\": \"2012-02-05T00:00:00\", \"precipitation\": 0.0, \"temp_max\": 13.9, \"temp_min\": 1.7, \"wind\": 2.9, \"weather\": \"sun\"}, {\"date\": \"2012-02-06T00:00:00\", \"precipitation\": 0.0, \"temp_max\": 16.1, \"temp_min\": 1.7, \"wind\": 5.0, \"weather\": \"sun\"}, {\"date\": \"2012-02-07T00:00:00\", \"precipitation\": 0.3, \"temp_max\": 15.6, \"temp_min\": 7.8, \"wind\": 5.3, \"weather\": \"rain\"}, {\"date\": \"2012-02-08T00:00:00\", \"precipitation\": 2.8, \"temp_max\": 10.0, \"temp_min\": 5.0, \"wind\": 2.7, \"weather\": \"rain\"}, {\"date\": \"2012-02-09T00:00:00\", \"precipitation\": 2.5, \"temp_max\": 11.1, \"temp_min\": 7.8, \"wind\": 2.4, \"weather\": \"rain\"}, {\"date\": \"2012-02-10T00:00:00\", \"precipitation\": 2.5, \"temp_max\": 12.8, \"temp_min\": 6.7, \"wind\": 3.0, \"weather\": \"rain\"}, {\"date\": \"2012-02-11T00:00:00\", \"precipitation\": 0.8, \"temp_max\": 8.9, \"temp_min\": 5.6, \"wind\": 3.4, \"weather\": \"rain\"}, {\"date\": \"2012-02-12T00:00:00\", \"precipitation\": 1.0, \"temp_max\": 8.3, \"temp_min\": 5.0, \"wind\": 1.3, \"weather\": \"rain\"}, {\"date\": \"2012-02-13T00:00:00\", \"precipitation\": 11.4, \"temp_max\": 7.2, \"temp_min\": 4.4, \"wind\": 1.4, \"weather\": \"rain\"}, {\"date\": \"2012-02-14T00:00:00\", \"precipitation\": 2.5, \"temp_max\": 6.7, \"temp_min\": 1.1, \"wind\": 3.1, \"weather\": \"rain\"}, {\"date\": \"2012-02-15T00:00:00\", \"precipitation\": 0.0, \"temp_max\": 7.2, \"temp_min\": 0.6, \"wind\": 1.8, \"weather\": \"drizzle\"}, {\"date\": \"2012-02-16T00:00:00\", \"precipitation\": 1.8, \"temp_max\": 7.2, \"temp_min\": 3.3, \"wind\": 2.1, \"weather\": \"rain\"}, {\"date\": \"2012-02-17T00:00:00\", \"precipitation\": 17.3, \"temp_max\": 10.0, \"temp_min\": 4.4, \"wind\": 3.4, \"weather\": \"rain\"}, {\"date\": \"2012-02-18T00:00:00\", \"precipitation\": 6.4, \"temp_max\": 6.7, \"temp_min\": 3.9, \"wind\": 8.1, \"weather\": \"rain\"}, {\"date\": \"2012-02-19T00:00:00\", \"precipitation\": 0.0, \"temp_max\": 6.7, \"temp_min\": 2.2, \"wind\": 4.7, \"weather\": \"sun\"}, {\"date\": \"2012-02-20T00:00:00\", \"precipitation\": 3.0, \"temp_max\": 7.8, \"temp_min\": 1.7, \"wind\": 2.9, \"weather\": \"rain\"}, {\"date\": \"2012-02-21T00:00:00\", \"precipitation\": 0.8, \"temp_max\": 10.0, \"temp_min\": 7.8, \"wind\": 7.5, \"weather\": \"rain\"}, {\"date\": \"2012-02-22T00:00:00\", \"precipitation\": 8.6, \"temp_max\": 10.0, \"temp_min\": 2.8, \"wind\": 5.9, \"weather\": \"rain\"}, {\"date\": \"2012-02-23T00:00:00\", \"precipitation\": 0.0, \"temp_max\": 8.3, \"temp_min\": 2.8, \"wind\": 3.9, \"weather\": \"sun\"}, {\"date\": \"2012-02-24T00:00:00\", \"precipitation\": 11.4, \"temp_max\": 6.7, \"temp_min\": 4.4, \"wind\": 3.5, \"weather\": \"rain\"}, {\"date\": \"2012-02-25T00:00:00\", \"precipitation\": 0.0, \"temp_max\": 7.2, \"temp_min\": 2.8, \"wind\": 6.4, \"weather\": \"rain\"}, {\"date\": \"2012-02-26T00:00:00\", \"precipitation\": 1.3, \"temp_max\": 5.0, \"temp_min\": -1.1, \"wind\": 3.4, \"weather\": \"snow\"}, {\"date\": \"2012-02-27T00:00:00\", \"precipitation\": 0.0, \"temp_max\": 6.7, \"temp_min\": -2.2, \"wind\": 3.0, \"weather\": \"sun\"}, {\"date\": \"2012-02-28T00:00:00\", \"precipitation\": 3.6, \"temp_max\": 6.7, \"temp_min\": -0.6, \"wind\": 4.2, \"weather\": \"snow\"}, {\"date\": \"2012-02-29T00:00:00\", \"precipitation\": 0.8, \"temp_max\": 5.0, \"temp_min\": 1.1, \"wind\": 7.0, \"weather\": \"snow\"}, {\"date\": \"2012-03-01T00:00:00\", \"precipitation\": 0.0, \"temp_max\": 6.1, \"temp_min\": 1.1, \"wind\": 3.1, \"weather\": \"sun\"}, {\"date\": \"2012-03-02T00:00:00\", \"precipitation\": 2.0, \"temp_max\": 6.7, \"temp_min\": 3.9, \"wind\": 5.1, \"weather\": \"rain\"}, {\"date\": \"2012-03-03T00:00:00\", \"precipitation\": 0.0, \"temp_max\": 12.2, \"temp_min\": 6.7, \"wind\": 7.0, \"weather\": \"sun\"}, {\"date\": \"2012-03-04T00:00:00\", \"precipitation\": 0.0, \"temp_max\": 10.6, \"temp_min\": 6.7, \"wind\": 5.6, \"weather\": \"rain\"}, {\"date\": \"2012-03-05T00:00:00\", \"precipitation\": 6.9, \"temp_max\": 7.8, \"temp_min\": 1.1, \"wind\": 6.2, \"weather\": \"rain\"}, {\"date\": \"2012-03-06T00:00:00\", \"precipitation\": 0.5, \"temp_max\": 6.7, \"temp_min\": 0.0, \"wind\": 2.7, \"weather\": \"snow\"}, {\"date\": \"2012-03-07T00:00:00\", \"precipitation\": 0.0, \"temp_max\": 8.9, \"temp_min\": -1.7, \"wind\": 2.7, \"weather\": \"sun\"}, {\"date\": \"2012-03-08T00:00:00\", \"precipitation\": 0.0, \"temp_max\": 15.6, \"temp_min\": 0.6, \"wind\": 2.5, \"weather\": \"sun\"}, {\"date\": \"2012-03-09T00:00:00\", \"precipitation\": 3.6, \"temp_max\": 9.4, \"temp_min\": 5.0, \"wind\": 2.8, \"weather\": \"rain\"}, {\"date\": \"2012-03-10T00:00:00\", \"precipitation\": 10.4, \"temp_max\": 7.2, \"temp_min\": 6.1, \"wind\": 3.4, \"weather\": \"rain\"}, {\"date\": \"2012-03-11T00:00:00\", \"precipitation\": 13.7, \"temp_max\": 6.7, \"temp_min\": 2.8, \"wind\": 5.8, \"weather\": \"rain\"}, {\"date\": \"2012-03-12T00:00:00\", \"precipitation\": 19.3, \"temp_max\": 8.3, \"temp_min\": 0.6, \"wind\": 6.2, \"weather\": \"snow\"}, {\"date\": \"2012-03-13T00:00:00\", \"precipitation\": 9.4, \"temp_max\": 5.6, \"temp_min\": 0.6, \"wind\": 5.3, \"weather\": \"snow\"}, {\"date\": \"2012-03-14T00:00:00\", \"precipitation\": 8.6, \"temp_max\": 7.8, \"temp_min\": 1.1, \"wind\": 4.7, \"weather\": \"rain\"}, {\"date\": \"2012-03-15T00:00:00\", \"precipitation\": 23.9, \"temp_max\": 11.1, \"temp_min\": 5.6, \"wind\": 5.8, \"weather\": \"snow\"}, {\"date\": \"2012-03-16T00:00:00\", \"precipitation\": 8.4, \"temp_max\": 8.9, \"temp_min\": 3.9, \"wind\": 5.1, \"weather\": \"rain\"}, {\"date\": \"2012-03-17T00:00:00\", \"precipitation\": 9.4, \"temp_max\": 10.0, \"temp_min\": 0.6, \"wind\": 3.8, \"weather\": \"snow\"}, {\"date\": \"2012-03-18T00:00:00\", \"precipitation\": 3.6, \"temp_max\": 5.0, \"temp_min\": -0.6, \"wind\": 2.7, \"weather\": \"rain\"}, {\"date\": \"2012-03-19T00:00:00\", \"precipitation\": 2.0, \"temp_max\": 7.2, \"temp_min\": -1.1, \"wind\": 3.0, \"weather\": \"rain\"}, {\"date\": \"2012-03-20T00:00:00\", \"precipitation\": 3.6, \"temp_max\": 7.8, \"temp_min\": 2.2, \"wind\": 6.4, \"weather\": \"rain\"}, {\"date\": \"2012-03-21T00:00:00\", \"precipitation\": 1.3, \"temp_max\": 8.9, \"temp_min\": 1.1, \"wind\": 2.5, \"weather\": \"rain\"}, {\"date\": \"2012-03-22T00:00:00\", \"precipitation\": 4.1, \"temp_max\": 10.0, \"temp_min\": 1.7, \"wind\": 2.1, \"weather\": \"rain\"}, {\"date\": \"2012-03-23T00:00:00\", \"precipitation\": 0.0, \"temp_max\": 12.2, \"temp_min\": 0.6, \"wind\": 2.8, \"weather\": \"sun\"}, {\"date\": \"2012-03-24T00:00:00\", \"precipitation\": 0.0, \"temp_max\": 15.0, \"temp_min\": 3.3, \"wind\": 5.2, \"weather\": \"sun\"}, {\"date\": \"2012-03-25T00:00:00\", \"precipitation\": 0.0, \"temp_max\": 13.3, \"temp_min\": 2.2, \"wind\": 2.7, \"weather\": \"rain\"}, {\"date\": \"2012-03-26T00:00:00\", \"precipitation\": 0.0, \"temp_max\": 12.8, \"temp_min\": 6.1, \"wind\": 4.3, \"weather\": \"drizzle\"}, {\"date\": \"2012-03-27T00:00:00\", \"precipitation\": 4.8, \"temp_max\": 14.4, \"temp_min\": 6.7, \"wind\": 3.8, \"weather\": \"rain\"}, {\"date\": \"2012-03-28T00:00:00\", \"precipitation\": 1.3, \"temp_max\": 10.6, \"temp_min\": 7.2, \"wind\": 5.9, \"weather\": \"rain\"}, {\"date\": \"2012-03-29T00:00:00\", \"precipitation\": 27.4, \"temp_max\": 10.0, \"temp_min\": 6.1, \"wind\": 4.4, \"weather\": \"rain\"}, {\"date\": \"2012-03-30T00:00:00\", \"precipitation\": 5.6, \"temp_max\": 9.4, \"temp_min\": 5.0, \"wind\": 4.7, \"weather\": \"rain\"}, {\"date\": \"2012-03-31T00:00:00\", \"precipitation\": 13.2, \"temp_max\": 10.0, \"temp_min\": 2.8, \"wind\": 3.4, \"weather\": \"rain\"}, {\"date\": \"2012-04-01T00:00:00\", \"precipitation\": 1.5, \"temp_max\": 8.9, \"temp_min\": 4.4, \"wind\": 6.8, \"weather\": \"rain\"}, {\"date\": \"2012-04-02T00:00:00\", \"precipitation\": 0.0, \"temp_max\": 16.7, \"temp_min\": 4.4, \"wind\": 3.1, \"weather\": \"sun\"}, {\"date\": \"2012-04-03T00:00:00\", \"precipitation\": 1.5, \"temp_max\": 11.7, \"temp_min\": 3.3, \"wind\": 3.1, \"weather\": \"rain\"}, {\"date\": \"2012-04-04T00:00:00\", \"precipitation\": 0.0, \"temp_max\": 10.6, \"temp_min\": 2.8, \"wind\": 2.1, \"weather\": \"sun\"}, {\"date\": \"2012-04-05T00:00:00\", \"precipitation\": 4.6, \"temp_max\": 9.4, \"temp_min\": 2.8, \"wind\": 1.8, \"weather\": \"snow\"}, {\"date\": \"2012-04-06T00:00:00\", \"precipitation\": 0.3, \"temp_max\": 11.1, \"temp_min\": 3.3, \"wind\": 2.6, \"weather\": \"rain\"}, {\"date\": \"2012-04-07T00:00:00\", \"precipitation\": 0.0, \"temp_max\": 16.1, \"temp_min\": 1.7, \"wind\": 4.3, \"weather\": \"sun\"}, {\"date\": \"2012-04-08T00:00:00\", \"precipitation\": 0.0, \"temp_max\": 21.1, \"temp_min\": 7.2, \"wind\": 4.1, \"weather\": \"sun\"}, {\"date\": \"2012-04-09T00:00:00\", \"precipitation\": 0.0, \"temp_max\": 20.0, \"temp_min\": 6.1, \"wind\": 2.1, \"weather\": \"sun\"}, {\"date\": \"2012-04-10T00:00:00\", \"precipitation\": 0.0, \"temp_max\": 17.8, \"temp_min\": 8.9, \"wind\": 3.2, \"weather\": \"rain\"}, {\"date\": \"2012-04-11T00:00:00\", \"precipitation\": 2.3, \"temp_max\": 11.1, \"temp_min\": 7.2, \"wind\": 2.6, \"weather\": \"rain\"}, {\"date\": \"2012-04-12T00:00:00\", \"precipitation\": 0.5, \"temp_max\": 13.9, \"temp_min\": 5.6, \"wind\": 2.6, \"weather\": \"rain\"}, {\"date\": \"2012-04-13T00:00:00\", \"precipitation\": 0.0, \"temp_max\": 15.0, \"temp_min\": 3.9, \"wind\": 4.0, \"weather\": \"drizzle\"}, {\"date\": \"2012-04-14T00:00:00\", \"precipitation\": 0.0, \"temp_max\": 15.6, \"temp_min\": 3.3, \"wind\": 3.0, \"weather\": \"sun\"}, {\"date\": \"2012-04-15T00:00:00\", \"precipitation\": 0.0, \"temp_max\": 16.1, \"temp_min\": 7.2, \"wind\": 2.9, \"weather\": \"rain\"}, {\"date\": \"2012-04-16T00:00:00\", \"precipitation\": 8.1, \"temp_max\": 13.3, \"temp_min\": 6.7, \"wind\": 5.8, \"weather\": \"rain\"}, {\"date\": \"2012-04-17T00:00:00\", \"precipitation\": 1.8, \"temp_max\": 10.0, \"temp_min\": 4.4, \"wind\": 2.0, \"weather\": \"rain\"}, {\"date\": \"2012-04-18T00:00:00\", \"precipitation\": 1.8, \"temp_max\": 13.3, \"temp_min\": 7.2, \"wind\": 3.9, \"weather\": \"rain\"}, {\"date\": \"2012-04-19T00:00:00\", \"precipitation\": 10.9, \"temp_max\": 13.9, \"temp_min\": 5.0, \"wind\": 2.6, \"weather\": \"rain\"}, {\"date\": \"2012-04-20T00:00:00\", \"precipitation\": 6.6, \"temp_max\": 13.3, \"temp_min\": 6.7, \"wind\": 2.7, \"weather\": \"rain\"}, {\"date\": \"2012-04-21T00:00:00\", \"precipitation\": 0.0, \"temp_max\": 20.0, \"temp_min\": 4.4, \"wind\": 2.3, \"weather\": \"sun\"}, {\"date\": \"2012-04-22T00:00:00\", \"precipitation\": 0.0, \"temp_max\": 23.3, \"temp_min\": 8.3, \"wind\": 2.6, \"weather\": \"rain\"}, {\"date\": \"2012-04-23T00:00:00\", \"precipitation\": 0.0, \"temp_max\": 21.7, \"temp_min\": 8.9, \"wind\": 3.5, \"weather\": \"sun\"}, {\"date\": \"2012-04-24T00:00:00\", \"precipitation\": 4.3, \"temp_max\": 13.9, \"temp_min\": 10.0, \"wind\": 2.8, \"weather\": \"rain\"}, {\"date\": \"2012-04-25T00:00:00\", \"precipitation\": 10.7, \"temp_max\": 16.7, \"temp_min\": 8.9, \"wind\": 2.6, \"weather\": \"rain\"}, {\"date\": \"2012-04-26T00:00:00\", \"precipitation\": 3.8, \"temp_max\": 13.9, \"temp_min\": 6.7, \"wind\": 5.2, \"weather\": \"rain\"}, {\"date\": \"2012-04-27T00:00:00\", \"precipitation\": 0.8, \"temp_max\": 13.3, \"temp_min\": 6.1, \"wind\": 4.8, \"weather\": \"rain\"}, {\"date\": \"2012-04-28T00:00:00\", \"precipitation\": 0.0, \"temp_max\": 16.1, \"temp_min\": 8.3, \"wind\": 2.5, \"weather\": \"drizzle\"}, {\"date\": \"2012-04-29T00:00:00\", \"precipitation\": 4.3, \"temp_max\": 15.6, \"temp_min\": 8.9, \"wind\": 1.6, \"weather\": \"rain\"}, {\"date\": \"2012-04-30T00:00:00\", \"precipitation\": 4.3, \"temp_max\": 12.8, \"temp_min\": 7.2, \"wind\": 8.0, \"weather\": \"rain\"}, {\"date\": \"2012-05-01T00:00:00\", \"precipitation\": 0.5, \"temp_max\": 11.7, \"temp_min\": 6.1, \"wind\": 6.4, \"weather\": \"rain\"}, {\"date\": \"2012-05-02T00:00:00\", \"precipitation\": 0.5, \"temp_max\": 13.3, \"temp_min\": 5.6, \"wind\": 2.5, \"weather\": \"rain\"}, {\"date\": \"2012-05-03T00:00:00\", \"precipitation\": 18.5, \"temp_max\": 11.1, \"temp_min\": 7.2, \"wind\": 3.4, \"weather\": \"rain\"}, {\"date\": \"2012-05-04T00:00:00\", \"precipitation\": 1.8, \"temp_max\": 12.2, \"temp_min\": 6.1, \"wind\": 4.6, \"weather\": \"rain\"}, {\"date\": \"2012-05-05T00:00:00\", \"precipitation\": 0.0, \"temp_max\": 13.3, \"temp_min\": 5.0, \"wind\": 2.3, \"weather\": \"sun\"}, {\"date\": \"2012-05-06T00:00:00\", \"precipitation\": 0.0, \"temp_max\": 17.8, \"temp_min\": 5.0, \"wind\": 2.4, \"weather\": \"sun\"}, {\"date\": \"2012-05-07T00:00:00\", \"precipitation\": 0.0, \"temp_max\": 23.9, \"temp_min\": 6.1, \"wind\": 2.2, \"weather\": \"sun\"}, {\"date\": \"2012-05-08T00:00:00\", \"precipitation\": 0.0, \"temp_max\": 18.3, \"temp_min\": 9.4, \"wind\": 3.0, \"weather\": \"sun\"}, {\"date\": \"2012-05-09T00:00:00\", \"precipitation\": 0.0, \"temp_max\": 13.3, \"temp_min\": 6.7, \"wind\": 3.9, \"weather\": \"rain\"}, {\"date\": \"2012-05-10T00:00:00\", \"precipitation\": 0.0, \"temp_max\": 14.4, \"temp_min\": 3.9, \"wind\": 3.0, \"weather\": \"sun\"}, {\"date\": \"2012-05-11T00:00:00\", \"precipitation\": 0.0, \"temp_max\": 18.3, \"temp_min\": 4.4, \"wind\": 4.3, \"weather\": \"sun\"}, {\"date\": \"2012-05-12T00:00:00\", \"precipitation\": 0.0, \"temp_max\": 24.4, \"temp_min\": 6.7, \"wind\": 3.4, \"weather\": \"sun\"}, {\"date\": \"2012-05-13T00:00:00\", \"precipitation\": 0.0, \"temp_max\": 25.6, \"temp_min\": 9.4, \"wind\": 4.2, \"weather\": \"sun\"}, {\"date\": \"2012-05-14T00:00:00\", \"precipitation\": 0.0, \"temp_max\": 26.7, \"temp_min\": 12.8, \"wind\": 3.8, \"weather\": \"sun\"}, {\"date\": \"2012-05-15T00:00:00\", \"precipitation\": 0.0, \"temp_max\": 24.4, \"temp_min\": 9.4, \"wind\": 4.1, \"weather\": \"drizzle\"}, {\"date\": \"2012-05-16T00:00:00\", \"precipitation\": 0.0, \"temp_max\": 19.4, \"temp_min\": 9.4, \"wind\": 3.5, \"weather\": \"sun\"}, {\"date\": \"2012-05-17T00:00:00\", \"precipitation\": 0.0, \"temp_max\": 17.8, \"temp_min\": 6.7, \"wind\": 2.9, \"weather\": \"rain\"}, {\"date\": \"2012-05-18T00:00:00\", \"precipitation\": 0.0, \"temp_max\": 15.6, \"temp_min\": 7.8, \"wind\": 3.1, \"weather\": \"rain\"}, {\"date\": \"2012-05-19T00:00:00\", \"precipitation\": 0.0, \"temp_max\": 19.4, \"temp_min\": 7.2, \"wind\": 1.5, \"weather\": \"sun\"}, {\"date\": \"2012-05-20T00:00:00\", \"precipitation\": 6.4, \"temp_max\": 14.4, \"temp_min\": 11.7, \"wind\": 1.3, \"weather\": \"rain\"}, {\"date\": \"2012-05-21T00:00:00\", \"precipitation\": 14.0, \"temp_max\": 16.7, \"temp_min\": 10.0, \"wind\": 4.0, \"weather\": \"rain\"}, {\"date\": \"2012-05-22T00:00:00\", \"precipitation\": 6.1, \"temp_max\": 12.8, \"temp_min\": 8.9, \"wind\": 4.8, \"weather\": \"rain\"}, {\"date\": \"2012-05-23T00:00:00\", \"precipitation\": 0.3, \"temp_max\": 14.4, \"temp_min\": 8.9, \"wind\": 6.3, \"weather\": \"rain\"}, {\"date\": \"2012-05-24T00:00:00\", \"precipitation\": 0.0, \"temp_max\": 17.2, \"temp_min\": 8.9, \"wind\": 3.3, \"weather\": \"rain\"}, {\"date\": \"2012-05-25T00:00:00\", \"precipitation\": 0.0, \"temp_max\": 22.2, \"temp_min\": 8.9, \"wind\": 3.1, \"weather\": \"rain\"}, {\"date\": \"2012-05-26T00:00:00\", \"precipitation\": 0.0, \"temp_max\": 22.2, \"temp_min\": 8.9, \"wind\": 3.6, \"weather\": \"sun\"}, {\"date\": \"2012-05-27T00:00:00\", \"precipitation\": 0.0, \"temp_max\": 17.2, \"temp_min\": 11.7, \"wind\": 3.7, \"weather\": \"sun\"}, {\"date\": \"2012-05-28T00:00:00\", \"precipitation\": 0.0, \"temp_max\": 16.7, \"temp_min\": 10.0, \"wind\": 3.4, \"weather\": \"rain\"}, {\"date\": \"2012-05-29T00:00:00\", \"precipitation\": 0.0, \"temp_max\": 16.1, \"temp_min\": 7.8, \"wind\": 1.8, \"weather\": \"sun\"}, {\"date\": \"2012-05-30T00:00:00\", \"precipitation\": 0.3, \"temp_max\": 18.9, \"temp_min\": 11.1, \"wind\": 1.5, \"weather\": \"rain\"}, {\"date\": \"2012-05-31T00:00:00\", \"precipitation\": 3.8, \"temp_max\": 17.8, \"temp_min\": 12.2, \"wind\": 2.7, \"weather\": \"rain\"}, {\"date\": \"2012-06-01T00:00:00\", \"precipitation\": 6.6, \"temp_max\": 20.0, \"temp_min\": 12.8, \"wind\": 3.7, \"weather\": \"rain\"}, {\"date\": \"2012-06-02T00:00:00\", \"precipitation\": 0.3, \"temp_max\": 18.9, \"temp_min\": 10.6, \"wind\": 3.7, \"weather\": \"rain\"}, {\"date\": \"2012-06-03T00:00:00\", \"precipitation\": 0.0, \"temp_max\": 17.2, \"temp_min\": 9.4, \"wind\": 2.9, \"weather\": \"sun\"}, {\"date\": \"2012-06-04T00:00:00\", \"precipitation\": 1.3, \"temp_max\": 12.8, \"temp_min\": 8.9, \"wind\": 3.1, \"weather\": \"rain\"}, {\"date\": \"2012-06-05T00:00:00\", \"precipitation\": 16.0, \"temp_max\": 13.3, \"temp_min\": 8.3, \"wind\": 3.3, \"weather\": \"rain\"}, {\"date\": \"2012-06-06T00:00:00\", \"precipitation\": 0.0, \"temp_max\": 16.1, \"temp_min\": 6.1, \"wind\": 3.4, \"weather\": \"sun\"}, {\"date\": \"2012-06-07T00:00:00\", \"precipitation\": 16.5, \"temp_max\": 16.1, \"temp_min\": 8.9, \"wind\": 3.5, \"weather\": \"rain\"}, {\"date\": \"2012-06-08T00:00:00\", \"precipitation\": 1.5, \"temp_max\": 15.0, \"temp_min\": 8.3, \"wind\": 3.0, \"weather\": \"rain\"}, {\"date\": \"2012-06-09T00:00:00\", \"precipitation\": 0.0, \"temp_max\": 17.2, \"temp_min\": 8.3, \"wind\": 4.7, \"weather\": \"rain\"}, {\"date\": \"2012-06-10T00:00:00\", \"precipitation\": 0.0, \"temp_max\": 18.9, \"temp_min\": 10.0, \"wind\": 2.9, \"weather\": \"sun\"}, {\"date\": \"2012-06-11T00:00:00\", \"precipitation\": 0.0, \"temp_max\": 23.3, \"temp_min\": 10.0, \"wind\": 1.8, \"weather\": \"rain\"}, {\"date\": \"2012-06-12T00:00:00\", \"precipitation\": 0.8, \"temp_max\": 18.3, \"temp_min\": 12.8, \"wind\": 3.9, \"weather\": \"rain\"}, {\"date\": \"2012-06-13T00:00:00\", \"precipitation\": 0.0, \"temp_max\": 16.1, \"temp_min\": 11.1, \"wind\": 4.3, \"weather\": \"sun\"}, {\"date\": \"2012-06-14T00:00:00\", \"precipitation\": 0.0, \"temp_max\": 17.2, \"temp_min\": 10.0, \"wind\": 2.7, \"weather\": \"sun\"}, {\"date\": \"2012-06-15T00:00:00\", \"precipitation\": 0.0, \"temp_max\": 22.2, \"temp_min\": 9.4, \"wind\": 1.7, \"weather\": \"sun\"}, {\"date\": \"2012-06-16T00:00:00\", \"precipitation\": 0.0, \"temp_max\": 21.1, \"temp_min\": 15.0, \"wind\": 4.1, \"weather\": \"rain\"}, {\"date\": \"2012-06-17T00:00:00\", \"precipitation\": 0.0, \"temp_max\": 18.9, \"temp_min\": 11.7, \"wind\": 6.4, \"weather\": \"sun\"}, {\"date\": \"2012-06-18T00:00:00\", \"precipitation\": 3.0, \"temp_max\": 17.2, \"temp_min\": 10.0, \"wind\": 3.8, \"weather\": \"rain\"}, {\"date\": \"2012-06-19T00:00:00\", \"precipitation\": 1.0, \"temp_max\": 19.4, \"temp_min\": 10.0, \"wind\": 3.0, \"weather\": \"rain\"}, {\"date\": \"2012-06-20T00:00:00\", \"precipitation\": 0.0, \"temp_max\": 24.4, \"temp_min\": 10.0, \"wind\": 3.0, \"weather\": \"sun\"}, {\"date\": \"2012-06-21T00:00:00\", \"precipitation\": 0.0, \"temp_max\": 23.9, \"temp_min\": 11.7, \"wind\": 2.1, \"weather\": \"sun\"}, {\"date\": \"2012-06-22T00:00:00\", \"precipitation\": 15.7, \"temp_max\": 13.9, \"temp_min\": 11.7, \"wind\": 1.9, \"weather\": \"rain\"}, {\"date\": \"2012-06-23T00:00:00\", \"precipitation\": 8.6, \"temp_max\": 15.6, \"temp_min\": 9.4, \"wind\": 2.5, \"weather\": \"rain\"}, {\"date\": \"2012-06-24T00:00:00\", \"precipitation\": 0.0, \"temp_max\": 19.4, \"temp_min\": 9.4, \"wind\": 2.0, \"weather\": \"drizzle\"}, {\"date\": \"2012-06-25T00:00:00\", \"precipitation\": 0.5, \"temp_max\": 19.4, \"temp_min\": 11.1, \"wind\": 3.1, \"weather\": \"rain\"}, {\"date\": \"2012-06-26T00:00:00\", \"precipitation\": 0.0, \"temp_max\": 18.3, \"temp_min\": 10.6, \"wind\": 3.4, \"weather\": \"rain\"}, {\"date\": \"2012-06-27T00:00:00\", \"precipitation\": 0.0, \"temp_max\": 22.8, \"temp_min\": 8.9, \"wind\": 1.8, \"weather\": \"sun\"}, {\"date\": \"2012-06-28T00:00:00\", \"precipitation\": 0.0, \"temp_max\": 22.2, \"temp_min\": 11.7, \"wind\": 2.5, \"weather\": \"rain\"}, {\"date\": \"2012-06-29T00:00:00\", \"precipitation\": 0.3, \"temp_max\": 21.7, \"temp_min\": 15.0, \"wind\": 1.9, \"weather\": \"rain\"}, {\"date\": \"2012-06-30T00:00:00\", \"precipitation\": 3.0, \"temp_max\": 20.0, \"temp_min\": 13.3, \"wind\": 2.4, \"weather\": \"rain\"}, {\"date\": \"2012-07-01T00:00:00\", \"precipitation\": 0.0, \"temp_max\": 20.0, \"temp_min\": 12.2, \"wind\": 2.3, \"weather\": \"rain\"}, {\"date\": \"2012-07-02T00:00:00\", \"precipitation\": 2.0, \"temp_max\": 18.9, \"temp_min\": 11.7, \"wind\": 2.1, \"weather\": \"rain\"}, {\"date\": \"2012-07-03T00:00:00\", \"precipitation\": 5.8, \"temp_max\": 18.3, \"temp_min\": 10.6, \"wind\": 6.0, \"weather\": \"rain\"}, {\"date\": \"2012-07-04T00:00:00\", \"precipitation\": 0.0, \"temp_max\": 20.6, \"temp_min\": 9.4, \"wind\": 3.8, \"weather\": \"sun\"}, {\"date\": \"2012-07-05T00:00:00\", \"precipitation\": 0.0, \"temp_max\": 24.4, \"temp_min\": 10.6, \"wind\": 3.1, \"weather\": \"drizzle\"}, {\"date\": \"2012-07-06T00:00:00\", \"precipitation\": 0.0, \"temp_max\": 25.0, \"temp_min\": 11.1, \"wind\": 2.1, \"weather\": \"sun\"}, {\"date\": \"2012-07-07T00:00:00\", \"precipitation\": 0.0, \"temp_max\": 26.7, \"temp_min\": 12.8, \"wind\": 3.8, \"weather\": \"sun\"}, {\"date\": \"2012-07-08T00:00:00\", \"precipitation\": 0.0, \"temp_max\": 28.3, \"temp_min\": 14.4, \"wind\": 2.8, \"weather\": \"rain\"}, {\"date\": \"2012-07-09T00:00:00\", \"precipitation\": 1.5, \"temp_max\": 25.0, \"temp_min\": 12.8, \"wind\": 2.0, \"weather\": \"rain\"}, {\"date\": \"2012-07-10T00:00:00\", \"precipitation\": 0.0, \"temp_max\": 23.9, \"temp_min\": 11.1, \"wind\": 2.3, \"weather\": \"drizzle\"}, {\"date\": \"2012-07-11T00:00:00\", \"precipitation\": 0.0, \"temp_max\": 27.8, \"temp_min\": 13.3, \"wind\": 2.9, \"weather\": \"fog\"}, {\"date\": \"2012-07-12T00:00:00\", \"precipitation\": 0.0, \"temp_max\": 25.6, \"temp_min\": 13.3, \"wind\": 2.7, \"weather\": \"drizzle\"}, {\"date\": \"2012-07-13T00:00:00\", \"precipitation\": 0.5, \"temp_max\": 23.3, \"temp_min\": 13.9, \"wind\": 2.2, \"weather\": \"rain\"}, {\"date\": \"2012-07-14T00:00:00\", \"precipitation\": 0.0, \"temp_max\": 25.0, \"temp_min\": 15.0, \"wind\": 2.2, \"weather\": \"rain\"}, {\"date\": \"2012-07-15T00:00:00\", \"precipitation\": 0.0, \"temp_max\": 18.9, \"temp_min\": 13.3, \"wind\": 3.8, \"weather\": \"rain\"}, {\"date\": \"2012-07-16T00:00:00\", \"precipitation\": 0.3, \"temp_max\": 26.1, \"temp_min\": 13.3, \"wind\": 2.5, \"weather\": \"rain\"}, {\"date\": \"2012-07-17T00:00:00\", \"precipitation\": 0.0, \"temp_max\": 21.7, \"temp_min\": 15.0, \"wind\": 2.6, \"weather\": \"sun\"}, {\"date\": \"2012-07-18T00:00:00\", \"precipitation\": 0.0, \"temp_max\": 21.1, \"temp_min\": 14.4, \"wind\": 2.9, \"weather\": \"sun\"}, {\"date\": \"2012-07-19T00:00:00\", \"precipitation\": 0.0, \"temp_max\": 25.0, \"temp_min\": 14.4, \"wind\": 2.2, \"weather\": \"sun\"}, {\"date\": \"2012-07-20T00:00:00\", \"precipitation\": 15.2, \"temp_max\": 19.4, \"temp_min\": 13.9, \"wind\": 4.0, \"weather\": \"rain\"}, {\"date\": \"2012-07-21T00:00:00\", \"precipitation\": 0.0, \"temp_max\": 23.9, \"temp_min\": 13.9, \"wind\": 2.3, \"weather\": \"sun\"}, {\"date\": \"2012-07-22T00:00:00\", \"precipitation\": 1.0, \"temp_max\": 20.6, \"temp_min\": 12.2, \"wind\": 3.9, \"weather\": \"rain\"}, {\"date\": \"2012-07-23T00:00:00\", \"precipitation\": 0.0, \"temp_max\": 18.9, \"temp_min\": 11.1, \"wind\": 3.3, \"weather\": \"rain\"}, {\"date\": \"2012-07-24T00:00:00\", \"precipitation\": 0.0, \"temp_max\": 23.3, \"temp_min\": 12.2, \"wind\": 4.3, \"weather\": \"sun\"}, {\"date\": \"2012-07-25T00:00:00\", \"precipitation\": 0.0, \"temp_max\": 26.7, \"temp_min\": 12.8, \"wind\": 2.6, \"weather\": \"sun\"}, {\"date\": \"2012-07-26T00:00:00\", \"precipitation\": 0.0, \"temp_max\": 25.6, \"temp_min\": 12.8, \"wind\": 2.2, \"weather\": \"drizzle\"}, {\"date\": \"2012-07-27T00:00:00\", \"precipitation\": 0.0, \"temp_max\": 18.9, \"temp_min\": 13.9, \"wind\": 2.8, \"weather\": \"drizzle\"}, {\"date\": \"2012-07-28T00:00:00\", \"precipitation\": 0.0, \"temp_max\": 22.2, \"temp_min\": 13.3, \"wind\": 1.7, \"weather\": \"drizzle\"}, {\"date\": \"2012-07-29T00:00:00\", \"precipitation\": 0.0, \"temp_max\": 22.8, \"temp_min\": 15.0, \"wind\": 2.0, \"weather\": \"sun\"}, {\"date\": \"2012-07-30T00:00:00\", \"precipitation\": 0.0, \"temp_max\": 19.4, \"temp_min\": 13.3, \"wind\": 3.0, \"weather\": \"sun\"}, {\"date\": \"2012-07-31T00:00:00\", \"precipitation\": 0.0, \"temp_max\": 22.8, \"temp_min\": 13.9, \"wind\": 2.8, \"weather\": \"sun\"}, {\"date\": \"2012-08-01T00:00:00\", \"precipitation\": 0.0, \"temp_max\": 23.9, \"temp_min\": 13.3, \"wind\": 2.2, \"weather\": \"drizzle\"}, {\"date\": \"2012-08-02T00:00:00\", \"precipitation\": 0.0, \"temp_max\": 23.3, \"temp_min\": 12.2, \"wind\": 2.5, \"weather\": \"sun\"}, {\"date\": \"2012-08-03T00:00:00\", \"precipitation\": 0.0, \"temp_max\": 27.2, \"temp_min\": 12.8, \"wind\": 3.9, \"weather\": \"sun\"}, {\"date\": \"2012-08-04T00:00:00\", \"precipitation\": 0.0, \"temp_max\": 33.9, \"temp_min\": 16.7, \"wind\": 3.7, \"weather\": \"sun\"}, {\"date\": \"2012-08-05T00:00:00\", \"precipitation\": 0.0, \"temp_max\": 33.9, \"temp_min\": 17.8, \"wind\": 1.9, \"weather\": \"sun\"}, {\"date\": \"2012-08-06T00:00:00\", \"precipitation\": 0.0, \"temp_max\": 28.3, \"temp_min\": 15.6, \"wind\": 2.5, \"weather\": \"rain\"}, {\"date\": \"2012-08-07T00:00:00\", \"precipitation\": 0.0, \"temp_max\": 21.1, \"temp_min\": 15.0, \"wind\": 2.6, \"weather\": \"drizzle\"}, {\"date\": \"2012-08-08T00:00:00\", \"precipitation\": 0.0, \"temp_max\": 22.2, \"temp_min\": 15.0, \"wind\": 3.1, \"weather\": \"sun\"}, {\"date\": \"2012-08-09T00:00:00\", \"precipitation\": 0.0, \"temp_max\": 24.4, \"temp_min\": 14.4, \"wind\": 3.8, \"weather\": \"drizzle\"}, {\"date\": \"2012-08-10T00:00:00\", \"precipitation\": 0.0, \"temp_max\": 25.6, \"temp_min\": 12.2, \"wind\": 2.3, \"weather\": \"sun\"}, {\"date\": \"2012-08-11T00:00:00\", \"precipitation\": 0.0, \"temp_max\": 28.3, \"temp_min\": 13.3, \"wind\": 2.5, \"weather\": \"sun\"}, {\"date\": \"2012-08-12T00:00:00\", \"precipitation\": 0.0, \"temp_max\": 30.6, \"temp_min\": 15.0, \"wind\": 3.0, \"weather\": \"sun\"}, {\"date\": \"2012-08-13T00:00:00\", \"precipitation\": 0.0, \"temp_max\": 30.6, \"temp_min\": 15.0, \"wind\": 2.8, \"weather\": \"sun\"}, {\"date\": \"2012-08-14T00:00:00\", \"precipitation\": 0.0, \"temp_max\": 28.9, \"temp_min\": 13.9, \"wind\": 2.8, \"weather\": \"sun\"}, {\"date\": \"2012-08-15T00:00:00\", \"precipitation\": 0.0, \"temp_max\": 31.1, \"temp_min\": 16.7, \"wind\": 4.7, \"weather\": \"sun\"}, {\"date\": \"2012-08-16T00:00:00\", \"precipitation\": 0.0, \"temp_max\": 34.4, \"temp_min\": 18.3, \"wind\": 2.8, \"weather\": \"sun\"}, {\"date\": \"2012-08-17T00:00:00\", \"precipitation\": 0.0, \"temp_max\": 32.8, \"temp_min\": 16.1, \"wind\": 1.8, \"weather\": \"sun\"}, {\"date\": \"2012-08-18T00:00:00\", \"precipitation\": 0.0, \"temp_max\": 21.7, \"temp_min\": 14.4, \"wind\": 3.0, \"weather\": \"drizzle\"}, {\"date\": \"2012-08-19T00:00:00\", \"precipitation\": 0.0, \"temp_max\": 23.3, \"temp_min\": 15.0, \"wind\": 2.7, \"weather\": \"drizzle\"}, {\"date\": \"2012-08-20T00:00:00\", \"precipitation\": 0.0, \"temp_max\": 25.6, \"temp_min\": 15.0, \"wind\": 1.9, \"weather\": \"sun\"}, {\"date\": \"2012-08-21T00:00:00\", \"precipitation\": 0.0, \"temp_max\": 23.3, \"temp_min\": 13.3, \"wind\": 3.0, \"weather\": \"rain\"}, {\"date\": \"2012-08-22T00:00:00\", \"precipitation\": 0.0, \"temp_max\": 22.2, \"temp_min\": 13.3, \"wind\": 2.3, \"weather\": \"sun\"}, {\"date\": \"2012-08-23T00:00:00\", \"precipitation\": 0.0, \"temp_max\": 21.1, \"temp_min\": 13.9, \"wind\": 3.8, \"weather\": \"sun\"}, {\"date\": \"2012-08-24T00:00:00\", \"precipitation\": 0.0, \"temp_max\": 22.2, \"temp_min\": 10.0, \"wind\": 3.3, \"weather\": \"sun\"}, {\"date\": \"2012-08-25T00:00:00\", \"precipitation\": 0.0, \"temp_max\": 26.1, \"temp_min\": 11.7, \"wind\": 3.2, \"weather\": \"sun\"}, {\"date\": \"2012-08-26T00:00:00\", \"precipitation\": 0.0, \"temp_max\": 21.1, \"temp_min\": 12.2, \"wind\": 3.4, \"weather\": \"sun\"}, {\"date\": \"2012-08-27T00:00:00\", \"precipitation\": 0.0, \"temp_max\": 23.9, \"temp_min\": 13.3, \"wind\": 1.8, \"weather\": \"sun\"}, {\"date\": \"2012-08-28T00:00:00\", \"precipitation\": 0.0, \"temp_max\": 22.8, \"temp_min\": 12.2, \"wind\": 3.2, \"weather\": \"sun\"}, {\"date\": \"2012-08-29T00:00:00\", \"precipitation\": 0.0, \"temp_max\": 22.8, \"temp_min\": 13.3, \"wind\": 2.4, \"weather\": \"sun\"}, {\"date\": \"2012-08-30T00:00:00\", \"precipitation\": 0.0, \"temp_max\": 22.8, \"temp_min\": 12.8, \"wind\": 1.9, \"weather\": \"sun\"}, {\"date\": \"2012-08-31T00:00:00\", \"precipitation\": 0.0, \"temp_max\": 22.2, \"temp_min\": 10.6, \"wind\": 2.9, \"weather\": \"sun\"}, {\"date\": \"2012-09-01T00:00:00\", \"precipitation\": 0.0, \"temp_max\": 21.7, \"temp_min\": 10.6, \"wind\": 2.1, \"weather\": \"sun\"}, {\"date\": \"2012-09-02T00:00:00\", \"precipitation\": 0.0, \"temp_max\": 21.1, \"temp_min\": 10.0, \"wind\": 2.0, \"weather\": \"sun\"}, {\"date\": \"2012-09-03T00:00:00\", \"precipitation\": 0.0, \"temp_max\": 22.8, \"temp_min\": 12.8, \"wind\": 3.3, \"weather\": \"sun\"}, {\"date\": \"2012-09-04T00:00:00\", \"precipitation\": 0.0, \"temp_max\": 24.4, \"temp_min\": 11.1, \"wind\": 3.1, \"weather\": \"sun\"}, {\"date\": \"2012-09-05T00:00:00\", \"precipitation\": 0.0, \"temp_max\": 26.1, \"temp_min\": 11.7, \"wind\": 2.6, \"weather\": \"sun\"}, {\"date\": \"2012-09-06T00:00:00\", \"precipitation\": 0.0, \"temp_max\": 28.3, \"temp_min\": 14.4, \"wind\": 4.2, \"weather\": \"sun\"}, {\"date\": \"2012-09-07T00:00:00\", \"precipitation\": 0.0, \"temp_max\": 32.2, \"temp_min\": 13.3, \"wind\": 3.1, \"weather\": \"sun\"}, {\"date\": \"2012-09-08T00:00:00\", \"precipitation\": 0.0, \"temp_max\": 25.0, \"temp_min\": 13.3, \"wind\": 3.0, \"weather\": \"sun\"}, {\"date\": \"2012-09-09T00:00:00\", \"precipitation\": 0.3, \"temp_max\": 18.9, \"temp_min\": 13.9, \"wind\": 5.0, \"weather\": \"rain\"}, {\"date\": \"2012-09-10T00:00:00\", \"precipitation\": 0.3, \"temp_max\": 20.0, \"temp_min\": 11.7, \"wind\": 3.9, \"weather\": \"rain\"}, {\"date\": \"2012-09-11T00:00:00\", \"precipitation\": 0.0, \"temp_max\": 20.0, \"temp_min\": 8.9, \"wind\": 4.2, \"weather\": \"sun\"}, {\"date\": \"2012-09-12T00:00:00\", \"precipitation\": 0.0, \"temp_max\": 22.2, \"temp_min\": 10.0, \"wind\": 5.6, \"weather\": \"sun\"}, {\"date\": \"2012-09-13T00:00:00\", \"precipitation\": 0.0, \"temp_max\": 27.8, \"temp_min\": 11.7, \"wind\": 3.6, \"weather\": \"sun\"}, {\"date\": \"2012-09-14T00:00:00\", \"precipitation\": 0.0, \"temp_max\": 26.1, \"temp_min\": 11.1, \"wind\": 1.5, \"weather\": \"sun\"}, {\"date\": \"2012-09-15T00:00:00\", \"precipitation\": 0.0, \"temp_max\": 22.2, \"temp_min\": 11.1, \"wind\": 1.9, \"weather\": \"sun\"}, {\"date\": \"2012-09-16T00:00:00\", \"precipitation\": 0.0, \"temp_max\": 24.4, \"temp_min\": 9.4, \"wind\": 2.3, \"weather\": \"sun\"}, {\"date\": \"2012-09-17T00:00:00\", \"precipitation\": 0.0, \"temp_max\": 27.8, \"temp_min\": 11.7, \"wind\": 2.2, \"weather\": \"fog\"}, {\"date\": \"2012-09-18T00:00:00\", \"precipitation\": 0.0, \"temp_max\": 27.8, \"temp_min\": 11.7, \"wind\": 1.4, \"weather\": \"sun\"}, {\"date\": \"2012-09-19T00:00:00\", \"precipitation\": 0.0, \"temp_max\": 23.9, \"temp_min\": 11.7, \"wind\": 1.9, \"weather\": \"drizzle\"}, {\"date\": \"2012-09-20T00:00:00\", \"precipitation\": 0.0, \"temp_max\": 19.4, \"temp_min\": 10.0, \"wind\": 2.5, \"weather\": \"drizzle\"}, {\"date\": \"2012-09-21T00:00:00\", \"precipitation\": 0.0, \"temp_max\": 16.1, \"temp_min\": 12.8, \"wind\": 2.1, \"weather\": \"drizzle\"}, {\"date\": \"2012-09-22T00:00:00\", \"precipitation\": 0.3, \"temp_max\": 19.4, \"temp_min\": 11.7, \"wind\": 1.1, \"weather\": \"rain\"}, {\"date\": \"2012-09-23T00:00:00\", \"precipitation\": 0.0, \"temp_max\": 19.4, \"temp_min\": 10.0, \"wind\": 1.4, \"weather\": \"fog\"}, {\"date\": \"2012-09-24T00:00:00\", \"precipitation\": 0.0, \"temp_max\": 21.1, \"temp_min\": 10.0, \"wind\": 1.8, \"weather\": \"fog\"}, {\"date\": \"2012-09-25T00:00:00\", \"precipitation\": 0.0, \"temp_max\": 19.4, \"temp_min\": 11.1, \"wind\": 1.7, \"weather\": \"sun\"}, {\"date\": \"2012-09-26T00:00:00\", \"precipitation\": 0.0, \"temp_max\": 19.4, \"temp_min\": 9.4, \"wind\": 1.7, \"weather\": \"drizzle\"}, {\"date\": \"2012-09-27T00:00:00\", \"precipitation\": 0.0, \"temp_max\": 22.8, \"temp_min\": 10.0, \"wind\": 1.7, \"weather\": \"drizzle\"}, {\"date\": \"2012-09-28T00:00:00\", \"precipitation\": 0.0, \"temp_max\": 25.0, \"temp_min\": 12.2, \"wind\": 1.1, \"weather\": \"rain\"}, {\"date\": \"2012-09-29T00:00:00\", \"precipitation\": 0.0, \"temp_max\": 20.6, \"temp_min\": 12.2, \"wind\": 4.3, \"weather\": \"sun\"}, {\"date\": \"2012-09-30T00:00:00\", \"precipitation\": 0.0, \"temp_max\": 21.1, \"temp_min\": 7.8, \"wind\": 3.1, \"weather\": \"sun\"}, {\"date\": \"2012-10-01T00:00:00\", \"precipitation\": 0.0, \"temp_max\": 23.3, \"temp_min\": 8.9, \"wind\": 3.0, \"weather\": \"sun\"}, {\"date\": \"2012-10-02T00:00:00\", \"precipitation\": 0.0, \"temp_max\": 17.8, \"temp_min\": 10.0, \"wind\": 4.1, \"weather\": \"sun\"}, {\"date\": \"2012-10-03T00:00:00\", \"precipitation\": 0.0, \"temp_max\": 18.9, \"temp_min\": 7.8, \"wind\": 7.3, \"weather\": \"sun\"}, {\"date\": \"2012-10-04T00:00:00\", \"precipitation\": 0.0, \"temp_max\": 18.9, \"temp_min\": 8.3, \"wind\": 6.5, \"weather\": \"sun\"}, {\"date\": \"2012-10-05T00:00:00\", \"precipitation\": 0.0, \"temp_max\": 21.7, \"temp_min\": 8.9, \"wind\": 5.7, \"weather\": \"sun\"}, {\"date\": \"2012-10-06T00:00:00\", \"precipitation\": 0.0, \"temp_max\": 23.9, \"temp_min\": 7.8, \"wind\": 5.1, \"weather\": \"sun\"}, {\"date\": \"2012-10-07T00:00:00\", \"precipitation\": 0.0, \"temp_max\": 23.9, \"temp_min\": 7.8, \"wind\": 1.3, \"weather\": \"sun\"}, {\"date\": \"2012-10-08T00:00:00\", \"precipitation\": 0.0, \"temp_max\": 21.1, \"temp_min\": 7.8, \"wind\": 1.9, \"weather\": \"sun\"}, {\"date\": \"2012-10-09T00:00:00\", \"precipitation\": 0.0, \"temp_max\": 16.1, \"temp_min\": 8.9, \"wind\": 1.6, \"weather\": \"drizzle\"}, {\"date\": \"2012-10-10T00:00:00\", \"precipitation\": 0.0, \"temp_max\": 12.2, \"temp_min\": 8.3, \"wind\": 1.4, \"weather\": \"drizzle\"}, {\"date\": \"2012-10-11T00:00:00\", \"precipitation\": 0.0, \"temp_max\": 13.9, \"temp_min\": 7.2, \"wind\": 1.3, \"weather\": \"drizzle\"}, {\"date\": \"2012-10-12T00:00:00\", \"precipitation\": 2.0, \"temp_max\": 13.9, \"temp_min\": 8.9, \"wind\": 4.6, \"weather\": \"rain\"}, {\"date\": \"2012-10-13T00:00:00\", \"precipitation\": 4.8, \"temp_max\": 15.6, \"temp_min\": 12.2, \"wind\": 3.9, \"weather\": \"rain\"}, {\"date\": \"2012-10-14T00:00:00\", \"precipitation\": 16.5, \"temp_max\": 17.8, \"temp_min\": 13.3, \"wind\": 3.4, \"weather\": \"rain\"}, {\"date\": \"2012-10-15T00:00:00\", \"precipitation\": 7.9, \"temp_max\": 17.2, \"temp_min\": 11.1, \"wind\": 4.6, \"weather\": \"rain\"}, {\"date\": \"2012-10-16T00:00:00\", \"precipitation\": 0.0, \"temp_max\": 16.1, \"temp_min\": 8.3, \"wind\": 5.5, \"weather\": \"sun\"}, {\"date\": \"2012-10-17T00:00:00\", \"precipitation\": 0.0, \"temp_max\": 14.4, \"temp_min\": 6.1, \"wind\": 1.6, \"weather\": \"sun\"}, {\"date\": \"2012-10-18T00:00:00\", \"precipitation\": 20.8, \"temp_max\": 17.8, \"temp_min\": 6.7, \"wind\": 2.0, \"weather\": \"rain\"}, {\"date\": \"2012-10-19T00:00:00\", \"precipitation\": 4.8, \"temp_max\": 15.0, \"temp_min\": 9.4, \"wind\": 5.3, \"weather\": \"rain\"}, {\"date\": \"2012-10-20T00:00:00\", \"precipitation\": 0.5, \"temp_max\": 11.1, \"temp_min\": 6.1, \"wind\": 5.7, \"weather\": \"rain\"}, {\"date\": \"2012-10-21T00:00:00\", \"precipitation\": 6.4, \"temp_max\": 11.7, \"temp_min\": 4.4, \"wind\": 2.7, \"weather\": \"rain\"}, {\"date\": \"2012-10-22T00:00:00\", \"precipitation\": 8.9, \"temp_max\": 7.8, \"temp_min\": 3.3, \"wind\": 2.6, \"weather\": \"rain\"}, {\"date\": \"2012-10-23T00:00:00\", \"precipitation\": 0.0, \"temp_max\": 11.1, \"temp_min\": 5.6, \"wind\": 3.0, \"weather\": \"rain\"}, {\"date\": \"2012-10-24T00:00:00\", \"precipitation\": 7.1, \"temp_max\": 11.7, \"temp_min\": 6.1, \"wind\": 2.1, \"weather\": \"rain\"}, {\"date\": \"2012-10-25T00:00:00\", \"precipitation\": 0.0, \"temp_max\": 11.7, \"temp_min\": 6.7, \"wind\": 1.5, \"weather\": \"sun\"}, {\"date\": \"2012-10-26T00:00:00\", \"precipitation\": 1.5, \"temp_max\": 11.1, \"temp_min\": 7.2, \"wind\": 2.5, \"weather\": \"rain\"}, {\"date\": \"2012-10-27T00:00:00\", \"precipitation\": 23.1, \"temp_max\": 14.4, \"temp_min\": 9.4, \"wind\": 5.1, \"weather\": \"rain\"}, {\"date\": \"2012-10-28T00:00:00\", \"precipitation\": 6.1, \"temp_max\": 14.4, \"temp_min\": 10.0, \"wind\": 3.8, \"weather\": \"rain\"}, {\"date\": \"2012-10-29T00:00:00\", \"precipitation\": 10.9, \"temp_max\": 15.6, \"temp_min\": 10.0, \"wind\": 4.9, \"weather\": \"rain\"}, {\"date\": \"2012-10-30T00:00:00\", \"precipitation\": 34.5, \"temp_max\": 15.0, \"temp_min\": 12.2, \"wind\": 2.8, \"weather\": \"rain\"}, {\"date\": \"2012-10-31T00:00:00\", \"precipitation\": 14.5, \"temp_max\": 15.6, \"temp_min\": 11.1, \"wind\": 2.7, \"weather\": \"rain\"}, {\"date\": \"2012-11-01T00:00:00\", \"precipitation\": 9.7, \"temp_max\": 15.0, \"temp_min\": 10.6, \"wind\": 3.0, \"weather\": \"rain\"}, {\"date\": \"2012-11-02T00:00:00\", \"precipitation\": 5.6, \"temp_max\": 15.0, \"temp_min\": 10.6, \"wind\": 1.0, \"weather\": \"rain\"}, {\"date\": \"2012-11-03T00:00:00\", \"precipitation\": 0.5, \"temp_max\": 15.6, \"temp_min\": 11.1, \"wind\": 3.6, \"weather\": \"rain\"}, {\"date\": \"2012-11-04T00:00:00\", \"precipitation\": 8.1, \"temp_max\": 17.8, \"temp_min\": 12.8, \"wind\": 3.8, \"weather\": \"rain\"}, {\"date\": \"2012-11-05T00:00:00\", \"precipitation\": 0.8, \"temp_max\": 15.0, \"temp_min\": 7.8, \"wind\": 4.0, \"weather\": \"rain\"}, {\"date\": \"2012-11-06T00:00:00\", \"precipitation\": 0.3, \"temp_max\": 12.8, \"temp_min\": 6.7, \"wind\": 3.5, \"weather\": \"rain\"}, {\"date\": \"2012-11-07T00:00:00\", \"precipitation\": 0.0, \"temp_max\": 12.2, \"temp_min\": 3.9, \"wind\": 3.4, \"weather\": \"rain\"}, {\"date\": \"2012-11-08T00:00:00\", \"precipitation\": 0.0, \"temp_max\": 10.0, \"temp_min\": 1.1, \"wind\": 3.4, \"weather\": \"rain\"}, {\"date\": \"2012-11-09T00:00:00\", \"precipitation\": 0.0, \"temp_max\": 8.9, \"temp_min\": 1.1, \"wind\": 2.0, \"weather\": \"rain\"}, {\"date\": \"2012-11-10T00:00:00\", \"precipitation\": 0.0, \"temp_max\": 7.8, \"temp_min\": -0.6, \"wind\": 2.2, \"weather\": \"sun\"}, {\"date\": \"2012-11-11T00:00:00\", \"precipitation\": 15.2, \"temp_max\": 8.9, \"temp_min\": 1.1, \"wind\": 3.0, \"weather\": \"rain\"}, {\"date\": \"2012-11-12T00:00:00\", \"precipitation\": 3.6, \"temp_max\": 12.8, \"temp_min\": 6.1, \"wind\": 3.0, \"weather\": \"rain\"}, {\"date\": \"2012-11-13T00:00:00\", \"precipitation\": 5.3, \"temp_max\": 11.1, \"temp_min\": 7.8, \"wind\": 2.5, \"weather\": \"rain\"}, {\"date\": \"2012-11-14T00:00:00\", \"precipitation\": 0.8, \"temp_max\": 11.1, \"temp_min\": 5.0, \"wind\": 2.6, \"weather\": \"rain\"}, {\"date\": \"2012-11-15T00:00:00\", \"precipitation\": 0.0, \"temp_max\": 9.4, \"temp_min\": 2.8, \"wind\": 2.4, \"weather\": \"drizzle\"}, {\"date\": \"2012-11-16T00:00:00\", \"precipitation\": 5.6, \"temp_max\": 9.4, \"temp_min\": 2.2, \"wind\": 1.6, \"weather\": \"rain\"}, {\"date\": \"2012-11-17T00:00:00\", \"precipitation\": 6.1, \"temp_max\": 12.2, \"temp_min\": 6.1, \"wind\": 5.3, \"weather\": \"rain\"}, {\"date\": \"2012-11-18T00:00:00\", \"precipitation\": 7.9, \"temp_max\": 10.0, \"temp_min\": 6.1, \"wind\": 4.9, \"weather\": \"rain\"}, {\"date\": \"2012-11-19T00:00:00\", \"precipitation\": 54.1, \"temp_max\": 13.3, \"temp_min\": 8.3, \"wind\": 6.0, \"weather\": \"rain\"}, {\"date\": \"2012-11-20T00:00:00\", \"precipitation\": 3.8, \"temp_max\": 11.1, \"temp_min\": 7.2, \"wind\": 4.2, \"weather\": \"rain\"}, {\"date\": \"2012-11-21T00:00:00\", \"precipitation\": 11.2, \"temp_max\": 8.3, \"temp_min\": 3.9, \"wind\": 5.5, \"weather\": \"rain\"}, {\"date\": \"2012-11-22T00:00:00\", \"precipitation\": 0.0, \"temp_max\": 8.9, \"temp_min\": 2.8, \"wind\": 1.5, \"weather\": \"rain\"}, {\"date\": \"2012-11-23T00:00:00\", \"precipitation\": 32.0, \"temp_max\": 9.4, \"temp_min\": 6.1, \"wind\": 2.4, \"weather\": \"rain\"}, {\"date\": \"2012-11-24T00:00:00\", \"precipitation\": 0.0, \"temp_max\": 8.9, \"temp_min\": 3.9, \"wind\": 1.2, \"weather\": \"rain\"}, {\"date\": \"2012-11-25T00:00:00\", \"precipitation\": 0.0, \"temp_max\": 8.3, \"temp_min\": 1.1, \"wind\": 3.6, \"weather\": \"drizzle\"}, {\"date\": \"2012-11-26T00:00:00\", \"precipitation\": 0.0, \"temp_max\": 9.4, \"temp_min\": 1.7, \"wind\": 3.8, \"weather\": \"fog\"}, {\"date\": \"2012-11-27T00:00:00\", \"precipitation\": 0.0, \"temp_max\": 10.0, \"temp_min\": 1.7, \"wind\": 1.5, \"weather\": \"sun\"}, {\"date\": \"2012-11-28T00:00:00\", \"precipitation\": 2.8, \"temp_max\": 9.4, \"temp_min\": 2.2, \"wind\": 2.9, \"weather\": \"rain\"}, {\"date\": \"2012-11-29T00:00:00\", \"precipitation\": 1.5, \"temp_max\": 12.8, \"temp_min\": 7.8, \"wind\": 4.2, \"weather\": \"rain\"}, {\"date\": \"2012-11-30T00:00:00\", \"precipitation\": 35.6, \"temp_max\": 15.0, \"temp_min\": 7.8, \"wind\": 4.6, \"weather\": \"rain\"}, {\"date\": \"2012-12-01T00:00:00\", \"precipitation\": 4.1, \"temp_max\": 13.3, \"temp_min\": 8.3, \"wind\": 5.5, \"weather\": \"rain\"}, {\"date\": \"2012-12-02T00:00:00\", \"precipitation\": 19.6, \"temp_max\": 8.3, \"temp_min\": 7.2, \"wind\": 6.2, \"weather\": \"rain\"}, {\"date\": \"2012-12-03T00:00:00\", \"precipitation\": 13.0, \"temp_max\": 9.4, \"temp_min\": 7.2, \"wind\": 4.4, \"weather\": \"rain\"}, {\"date\": \"2012-12-04T00:00:00\", \"precipitation\": 14.2, \"temp_max\": 11.7, \"temp_min\": 7.2, \"wind\": 6.2, \"weather\": \"rain\"}, {\"date\": \"2012-12-05T00:00:00\", \"precipitation\": 1.5, \"temp_max\": 8.9, \"temp_min\": 4.4, \"wind\": 5.0, \"weather\": \"rain\"}, {\"date\": \"2012-12-06T00:00:00\", \"precipitation\": 1.5, \"temp_max\": 7.2, \"temp_min\": 6.1, \"wind\": 5.1, \"weather\": \"rain\"}, {\"date\": \"2012-12-07T00:00:00\", \"precipitation\": 1.0, \"temp_max\": 7.8, \"temp_min\": 3.3, \"wind\": 4.6, \"weather\": \"rain\"}, {\"date\": \"2012-12-08T00:00:00\", \"precipitation\": 0.0, \"temp_max\": 6.7, \"temp_min\": 3.3, \"wind\": 2.0, \"weather\": \"sun\"}, {\"date\": \"2012-12-09T00:00:00\", \"precipitation\": 1.5, \"temp_max\": 6.7, \"temp_min\": 2.8, \"wind\": 2.1, \"weather\": \"rain\"}, {\"date\": \"2012-12-10T00:00:00\", \"precipitation\": 0.5, \"temp_max\": 7.2, \"temp_min\": 5.6, \"wind\": 1.8, \"weather\": \"rain\"}, {\"date\": \"2012-12-11T00:00:00\", \"precipitation\": 3.0, \"temp_max\": 7.8, \"temp_min\": 5.6, \"wind\": 4.5, \"weather\": \"rain\"}, {\"date\": \"2012-12-12T00:00:00\", \"precipitation\": 8.1, \"temp_max\": 6.7, \"temp_min\": 4.4, \"wind\": 2.0, \"weather\": \"rain\"}, {\"date\": \"2012-12-13T00:00:00\", \"precipitation\": 2.3, \"temp_max\": 7.2, \"temp_min\": 3.3, \"wind\": 2.8, \"weather\": \"rain\"}, {\"date\": \"2012-12-14T00:00:00\", \"precipitation\": 7.9, \"temp_max\": 6.1, \"temp_min\": 1.1, \"wind\": 1.7, \"weather\": \"rain\"}, {\"date\": \"2012-12-15T00:00:00\", \"precipitation\": 5.3, \"temp_max\": 4.4, \"temp_min\": 0.6, \"wind\": 5.1, \"weather\": \"snow\"}, {\"date\": \"2012-12-16T00:00:00\", \"precipitation\": 22.6, \"temp_max\": 6.7, \"temp_min\": 3.3, \"wind\": 5.5, \"weather\": \"snow\"}, {\"date\": \"2012-12-17T00:00:00\", \"precipitation\": 2.0, \"temp_max\": 8.3, \"temp_min\": 1.7, \"wind\": 9.5, \"weather\": \"rain\"}, {\"date\": \"2012-12-18T00:00:00\", \"precipitation\": 3.3, \"temp_max\": 3.9, \"temp_min\": 0.6, \"wind\": 5.3, \"weather\": \"snow\"}, {\"date\": \"2012-12-19T00:00:00\", \"precipitation\": 13.7, \"temp_max\": 8.3, \"temp_min\": 1.7, \"wind\": 5.8, \"weather\": \"snow\"}, {\"date\": \"2012-12-20T00:00:00\", \"precipitation\": 13.2, \"temp_max\": 7.2, \"temp_min\": 0.6, \"wind\": 3.7, \"weather\": \"rain\"}, {\"date\": \"2012-12-21T00:00:00\", \"precipitation\": 1.8, \"temp_max\": 8.3, \"temp_min\": -1.7, \"wind\": 1.7, \"weather\": \"rain\"}, {\"date\": \"2012-12-22T00:00:00\", \"precipitation\": 3.3, \"temp_max\": 8.3, \"temp_min\": 3.9, \"wind\": 3.5, \"weather\": \"rain\"}, {\"date\": \"2012-12-23T00:00:00\", \"precipitation\": 6.6, \"temp_max\": 7.2, \"temp_min\": 3.3, \"wind\": 2.5, \"weather\": \"rain\"}, {\"date\": \"2012-12-24T00:00:00\", \"precipitation\": 0.3, \"temp_max\": 5.6, \"temp_min\": 2.8, \"wind\": 2.8, \"weather\": \"rain\"}, {\"date\": \"2012-12-25T00:00:00\", \"precipitation\": 13.5, \"temp_max\": 5.6, \"temp_min\": 2.8, \"wind\": 4.2, \"weather\": \"snow\"}, {\"date\": \"2012-12-26T00:00:00\", \"precipitation\": 4.6, \"temp_max\": 6.7, \"temp_min\": 3.3, \"wind\": 4.9, \"weather\": \"rain\"}, {\"date\": \"2012-12-27T00:00:00\", \"precipitation\": 4.1, \"temp_max\": 7.8, \"temp_min\": 3.3, \"wind\": 3.2, \"weather\": \"rain\"}, {\"date\": \"2012-12-28T00:00:00\", \"precipitation\": 0.0, \"temp_max\": 8.3, \"temp_min\": 3.9, \"wind\": 1.7, \"weather\": \"rain\"}, {\"date\": \"2012-12-29T00:00:00\", \"precipitation\": 1.5, \"temp_max\": 5.0, \"temp_min\": 3.3, \"wind\": 1.7, \"weather\": \"rain\"}, {\"date\": \"2012-12-30T00:00:00\", \"precipitation\": 0.0, \"temp_max\": 4.4, \"temp_min\": 0.0, \"wind\": 1.8, \"weather\": \"drizzle\"}, {\"date\": \"2012-12-31T00:00:00\", \"precipitation\": 0.0, \"temp_max\": 3.3, \"temp_min\": -1.1, \"wind\": 2.0, \"weather\": \"drizzle\"}, {\"date\": \"2013-01-01T00:00:00\", \"precipitation\": 0.0, \"temp_max\": 5.0, \"temp_min\": -2.8, \"wind\": 2.7, \"weather\": \"sun\"}, {\"date\": \"2013-01-02T00:00:00\", \"precipitation\": 0.0, \"temp_max\": 6.1, \"temp_min\": -1.1, \"wind\": 3.2, \"weather\": \"sun\"}, {\"date\": \"2013-01-03T00:00:00\", \"precipitation\": 4.1, \"temp_max\": 6.7, \"temp_min\": -1.7, \"wind\": 3.0, \"weather\": \"rain\"}, {\"date\": \"2013-01-04T00:00:00\", \"precipitation\": 2.5, \"temp_max\": 10.0, \"temp_min\": 2.2, \"wind\": 2.8, \"weather\": \"rain\"}, {\"date\": \"2013-01-05T00:00:00\", \"precipitation\": 3.0, \"temp_max\": 6.7, \"temp_min\": 4.4, \"wind\": 3.1, \"weather\": \"rain\"}, {\"date\": \"2013-01-06T00:00:00\", \"precipitation\": 2.0, \"temp_max\": 7.2, \"temp_min\": 2.8, \"wind\": 3.0, \"weather\": \"rain\"}, {\"date\": \"2013-01-07T00:00:00\", \"precipitation\": 2.3, \"temp_max\": 10.0, \"temp_min\": 4.4, \"wind\": 7.3, \"weather\": \"rain\"}, {\"date\": \"2013-01-08T00:00:00\", \"precipitation\": 16.3, \"temp_max\": 11.7, \"temp_min\": 5.6, \"wind\": 6.3, \"weather\": \"rain\"}, {\"date\": \"2013-01-09T00:00:00\", \"precipitation\": 38.4, \"temp_max\": 10.0, \"temp_min\": 1.7, \"wind\": 5.1, \"weather\": \"rain\"}, {\"date\": \"2013-01-10T00:00:00\", \"precipitation\": 0.3, \"temp_max\": 3.3, \"temp_min\": -0.6, \"wind\": 2.1, \"weather\": \"snow\"}, {\"date\": \"2013-01-11T00:00:00\", \"precipitation\": 0.0, \"temp_max\": 2.8, \"temp_min\": -2.8, \"wind\": 1.9, \"weather\": \"drizzle\"}, {\"date\": \"2013-01-12T00:00:00\", \"precipitation\": 0.0, \"temp_max\": 2.8, \"temp_min\": -3.9, \"wind\": 2.0, \"weather\": \"sun\"}, {\"date\": \"2013-01-13T00:00:00\", \"precipitation\": 0.0, \"temp_max\": 2.2, \"temp_min\": -4.4, \"wind\": 1.5, \"weather\": \"sun\"}, {\"date\": \"2013-01-14T00:00:00\", \"precipitation\": 0.0, \"temp_max\": 3.3, \"temp_min\": -2.2, \"wind\": 1.3, \"weather\": \"sun\"}, {\"date\": \"2013-01-15T00:00:00\", \"precipitation\": 0.0, \"temp_max\": 6.7, \"temp_min\": -0.6, \"wind\": 2.3, \"weather\": \"sun\"}, {\"date\": \"2013-01-16T00:00:00\", \"precipitation\": 0.0, \"temp_max\": 6.1, \"temp_min\": -3.9, \"wind\": 1.8, \"weather\": \"drizzle\"}, {\"date\": \"2013-01-17T00:00:00\", \"precipitation\": 0.0, \"temp_max\": 3.9, \"temp_min\": -2.8, \"wind\": 1.0, \"weather\": \"drizzle\"}, {\"date\": \"2013-01-18T00:00:00\", \"precipitation\": 0.0, \"temp_max\": 3.3, \"temp_min\": -1.1, \"wind\": 1.3, \"weather\": \"drizzle\"}, {\"date\": \"2013-01-19T00:00:00\", \"precipitation\": 0.0, \"temp_max\": 1.1, \"temp_min\": -0.6, \"wind\": 1.9, \"weather\": \"drizzle\"}, {\"date\": \"2013-01-20T00:00:00\", \"precipitation\": 0.0, \"temp_max\": 3.3, \"temp_min\": -0.6, \"wind\": 2.1, \"weather\": \"drizzle\"}, {\"date\": \"2013-01-21T00:00:00\", \"precipitation\": 0.0, \"temp_max\": 2.2, \"temp_min\": -1.7, \"wind\": 1.1, \"weather\": \"drizzle\"}, {\"date\": \"2013-01-22T00:00:00\", \"precipitation\": 0.0, \"temp_max\": 3.3, \"temp_min\": -1.7, \"wind\": 0.6, \"weather\": \"drizzle\"}, {\"date\": \"2013-01-23T00:00:00\", \"precipitation\": 5.1, \"temp_max\": 7.2, \"temp_min\": 2.2, \"wind\": 3.1, \"weather\": \"rain\"}, {\"date\": \"2013-01-24T00:00:00\", \"precipitation\": 5.8, \"temp_max\": 7.2, \"temp_min\": 1.1, \"wind\": 2.6, \"weather\": \"rain\"}, {\"date\": \"2013-01-25T00:00:00\", \"precipitation\": 3.0, \"temp_max\": 10.6, \"temp_min\": 2.8, \"wind\": 2.1, \"weather\": \"rain\"}, {\"date\": \"2013-01-26T00:00:00\", \"precipitation\": 2.3, \"temp_max\": 8.3, \"temp_min\": 3.9, \"wind\": 4.5, \"weather\": \"rain\"}, {\"date\": \"2013-01-27T00:00:00\", \"precipitation\": 1.8, \"temp_max\": 5.6, \"temp_min\": 3.9, \"wind\": 4.5, \"weather\": \"rain\"}, {\"date\": \"2013-01-28T00:00:00\", \"precipitation\": 7.9, \"temp_max\": 6.1, \"temp_min\": 3.3, \"wind\": 3.2, \"weather\": \"rain\"}, {\"date\": \"2013-01-29T00:00:00\", \"precipitation\": 4.3, \"temp_max\": 8.3, \"temp_min\": 5.0, \"wind\": 3.9, \"weather\": \"rain\"}, {\"date\": \"2013-01-30T00:00:00\", \"precipitation\": 3.6, \"temp_max\": 8.9, \"temp_min\": 6.7, \"wind\": 3.9, \"weather\": \"rain\"}, {\"date\": \"2013-01-31T00:00:00\", \"precipitation\": 3.0, \"temp_max\": 9.4, \"temp_min\": 7.2, \"wind\": 4.0, \"weather\": \"rain\"}, {\"date\": \"2013-02-01T00:00:00\", \"precipitation\": 0.3, \"temp_max\": 11.7, \"temp_min\": 5.0, \"wind\": 2.9, \"weather\": \"rain\"}, {\"date\": \"2013-02-02T00:00:00\", \"precipitation\": 0.0, \"temp_max\": 6.1, \"temp_min\": 2.8, \"wind\": 2.0, \"weather\": \"drizzle\"}, {\"date\": \"2013-02-03T00:00:00\", \"precipitation\": 2.3, \"temp_max\": 8.9, \"temp_min\": 2.8, \"wind\": 2.9, \"weather\": \"rain\"}, {\"date\": \"2013-02-04T00:00:00\", \"precipitation\": 0.0, \"temp_max\": 10.6, \"temp_min\": 6.7, \"wind\": 2.6, \"weather\": \"rain\"}, {\"date\": \"2013-02-05T00:00:00\", \"precipitation\": 3.3, \"temp_max\": 10.0, \"temp_min\": 6.7, \"wind\": 5.1, \"weather\": \"rain\"}, {\"date\": \"2013-02-06T00:00:00\", \"precipitation\": 1.0, \"temp_max\": 10.6, \"temp_min\": 6.1, \"wind\": 4.5, \"weather\": \"rain\"}, {\"date\": \"2013-02-07T00:00:00\", \"precipitation\": 1.3, \"temp_max\": 9.4, \"temp_min\": 3.3, \"wind\": 4.1, \"weather\": \"rain\"}, {\"date\": \"2013-02-08T00:00:00\", \"precipitation\": 0.0, \"temp_max\": 7.8, \"temp_min\": 2.2, \"wind\": 1.3, \"weather\": \"sun\"}, {\"date\": \"2013-02-09T00:00:00\", \"precipitation\": 0.3, \"temp_max\": 8.3, \"temp_min\": 4.4, \"wind\": 1.3, \"weather\": \"rain\"}, {\"date\": \"2013-02-10T00:00:00\", \"precipitation\": 0.0, \"temp_max\": 8.9, \"temp_min\": 1.7, \"wind\": 2.0, \"weather\": \"drizzle\"}, {\"date\": \"2013-02-11T00:00:00\", \"precipitation\": 0.3, \"temp_max\": 8.3, \"temp_min\": 4.4, \"wind\": 1.4, \"weather\": \"rain\"}, {\"date\": \"2013-02-12T00:00:00\", \"precipitation\": 1.0, \"temp_max\": 11.1, \"temp_min\": 7.2, \"wind\": 5.6, \"weather\": \"rain\"}, {\"date\": \"2013-02-13T00:00:00\", \"precipitation\": 2.3, \"temp_max\": 9.4, \"temp_min\": 7.2, \"wind\": 4.1, \"weather\": \"rain\"}, {\"date\": \"2013-02-14T00:00:00\", \"precipitation\": 1.0, \"temp_max\": 9.4, \"temp_min\": 5.6, \"wind\": 2.2, \"weather\": \"rain\"}, {\"date\": \"2013-02-15T00:00:00\", \"precipitation\": 0.0, \"temp_max\": 13.3, \"temp_min\": 5.0, \"wind\": 2.4, \"weather\": \"drizzle\"}, {\"date\": \"2013-02-16T00:00:00\", \"precipitation\": 0.0, \"temp_max\": 11.1, \"temp_min\": 3.9, \"wind\": 5.6, \"weather\": \"rain\"}, {\"date\": \"2013-02-17T00:00:00\", \"precipitation\": 0.0, \"temp_max\": 9.4, \"temp_min\": 4.4, \"wind\": 3.4, \"weather\": \"rain\"}, {\"date\": \"2013-02-18T00:00:00\", \"precipitation\": 0.0, \"temp_max\": 7.8, \"temp_min\": 3.9, \"wind\": 1.9, \"weather\": \"rain\"}, {\"date\": \"2013-02-19T00:00:00\", \"precipitation\": 0.0, \"temp_max\": 10.6, \"temp_min\": 1.7, \"wind\": 3.4, \"weather\": \"sun\"}, {\"date\": \"2013-02-20T00:00:00\", \"precipitation\": 1.5, \"temp_max\": 7.8, \"temp_min\": 1.1, \"wind\": 2.1, \"weather\": \"rain\"}, {\"date\": \"2013-02-21T00:00:00\", \"precipitation\": 0.5, \"temp_max\": 6.7, \"temp_min\": 3.9, \"wind\": 6.2, \"weather\": \"rain\"}, {\"date\": \"2013-02-22T00:00:00\", \"precipitation\": 9.4, \"temp_max\": 7.8, \"temp_min\": 3.9, \"wind\": 8.1, \"weather\": \"rain\"}, {\"date\": \"2013-02-23T00:00:00\", \"precipitation\": 0.3, \"temp_max\": 10.0, \"temp_min\": 3.9, \"wind\": 4.6, \"weather\": \"rain\"}, {\"date\": \"2013-02-24T00:00:00\", \"precipitation\": 0.0, \"temp_max\": 8.9, \"temp_min\": 5.0, \"wind\": 5.5, \"weather\": \"rain\"}, {\"date\": \"2013-02-25T00:00:00\", \"precipitation\": 2.3, \"temp_max\": 10.6, \"temp_min\": 3.3, \"wind\": 7.1, \"weather\": \"rain\"}, {\"date\": \"2013-02-26T00:00:00\", \"precipitation\": 0.5, \"temp_max\": 8.9, \"temp_min\": 3.9, \"wind\": 3.8, \"weather\": \"rain\"}, {\"date\": \"2013-02-27T00:00:00\", \"precipitation\": 4.6, \"temp_max\": 10.0, \"temp_min\": 4.4, \"wind\": 1.8, \"weather\": \"rain\"}, {\"date\": \"2013-02-28T00:00:00\", \"precipitation\": 8.1, \"temp_max\": 11.7, \"temp_min\": 6.7, \"wind\": 3.8, \"weather\": \"rain\"}, {\"date\": \"2013-03-01T00:00:00\", \"precipitation\": 4.1, \"temp_max\": 15.0, \"temp_min\": 11.1, \"wind\": 5.4, \"weather\": \"rain\"}, {\"date\": \"2013-03-02T00:00:00\", \"precipitation\": 0.8, \"temp_max\": 13.9, \"temp_min\": 5.0, \"wind\": 4.5, \"weather\": \"rain\"}, {\"date\": \"2013-03-03T00:00:00\", \"precipitation\": 0.0, \"temp_max\": 11.1, \"temp_min\": 2.2, \"wind\": 2.8, \"weather\": \"sun\"}, {\"date\": \"2013-03-04T00:00:00\", \"precipitation\": 0.0, \"temp_max\": 13.3, \"temp_min\": 0.0, \"wind\": 3.9, \"weather\": \"sun\"}, {\"date\": \"2013-03-05T00:00:00\", \"precipitation\": 0.0, \"temp_max\": 9.4, \"temp_min\": 6.1, \"wind\": 2.4, \"weather\": \"rain\"}, {\"date\": \"2013-03-06T00:00:00\", \"precipitation\": 11.9, \"temp_max\": 7.2, \"temp_min\": 5.0, \"wind\": 4.1, \"weather\": \"rain\"}, {\"date\": \"2013-03-07T00:00:00\", \"precipitation\": 7.4, \"temp_max\": 12.2, \"temp_min\": 5.0, \"wind\": 2.5, \"weather\": \"rain\"}, {\"date\": \"2013-03-08T00:00:00\", \"precipitation\": 0.0, \"temp_max\": 11.7, \"temp_min\": 2.2, \"wind\": 2.6, \"weather\": \"drizzle\"}, {\"date\": \"2013-03-09T00:00:00\", \"precipitation\": 0.0, \"temp_max\": 12.8, \"temp_min\": 1.1, \"wind\": 1.3, \"weather\": \"fog\"}, {\"date\": \"2013-03-10T00:00:00\", \"precipitation\": 0.8, \"temp_max\": 7.8, \"temp_min\": 3.9, \"wind\": 1.6, \"weather\": \"rain\"}, {\"date\": \"2013-03-11T00:00:00\", \"precipitation\": 1.3, \"temp_max\": 10.6, \"temp_min\": 6.1, \"wind\": 1.1, \"weather\": \"rain\"}, {\"date\": \"2013-03-12T00:00:00\", \"precipitation\": 2.0, \"temp_max\": 12.8, \"temp_min\": 10.0, \"wind\": 5.7, \"weather\": \"rain\"}, {\"date\": \"2013-03-13T00:00:00\", \"precipitation\": 2.3, \"temp_max\": 11.7, \"temp_min\": 9.4, \"wind\": 3.7, \"weather\": \"rain\"}, {\"date\": \"2013-03-14T00:00:00\", \"precipitation\": 2.8, \"temp_max\": 11.7, \"temp_min\": 9.4, \"wind\": 3.0, \"weather\": \"rain\"}, {\"date\": \"2013-03-15T00:00:00\", \"precipitation\": 0.0, \"temp_max\": 14.4, \"temp_min\": 8.9, \"wind\": 4.3, \"weather\": \"rain\"}, {\"date\": \"2013-03-16T00:00:00\", \"precipitation\": 4.3, \"temp_max\": 10.6, \"temp_min\": 4.4, \"wind\": 6.4, \"weather\": \"rain\"}, {\"date\": \"2013-03-17T00:00:00\", \"precipitation\": 0.0, \"temp_max\": 8.9, \"temp_min\": 3.9, \"wind\": 6.1, \"weather\": \"sun\"}, {\"date\": \"2013-03-18T00:00:00\", \"precipitation\": 0.0, \"temp_max\": 11.7, \"temp_min\": 3.9, \"wind\": 5.9, \"weather\": \"rain\"}, {\"date\": \"2013-03-19T00:00:00\", \"precipitation\": 11.7, \"temp_max\": 12.8, \"temp_min\": 1.7, \"wind\": 3.4, \"weather\": \"rain\"}, {\"date\": \"2013-03-20T00:00:00\", \"precipitation\": 9.9, \"temp_max\": 11.1, \"temp_min\": 4.4, \"wind\": 7.6, \"weather\": \"rain\"}, {\"date\": \"2013-03-21T00:00:00\", \"precipitation\": 8.1, \"temp_max\": 10.0, \"temp_min\": 2.2, \"wind\": 4.9, \"weather\": \"snow\"}, {\"date\": \"2013-03-22T00:00:00\", \"precipitation\": 0.0, \"temp_max\": 9.4, \"temp_min\": 0.6, \"wind\": 2.2, \"weather\": \"sun\"}, {\"date\": \"2013-03-23T00:00:00\", \"precipitation\": 0.0, \"temp_max\": 10.0, \"temp_min\": 1.1, \"wind\": 2.6, \"weather\": \"sun\"}, {\"date\": \"2013-03-24T00:00:00\", \"precipitation\": 0.0, \"temp_max\": 12.2, \"temp_min\": 0.6, \"wind\": 2.1, \"weather\": \"sun\"}, {\"date\": \"2013-03-25T00:00:00\", \"precipitation\": 0.0, \"temp_max\": 16.7, \"temp_min\": 4.4, \"wind\": 2.8, \"weather\": \"sun\"}, {\"date\": \"2013-03-26T00:00:00\", \"precipitation\": 0.0, \"temp_max\": 16.7, \"temp_min\": 6.1, \"wind\": 1.7, \"weather\": \"sun\"}, {\"date\": \"2013-03-27T00:00:00\", \"precipitation\": 0.3, \"temp_max\": 13.3, \"temp_min\": 7.2, \"wind\": 1.6, \"weather\": \"rain\"}, {\"date\": \"2013-03-28T00:00:00\", \"precipitation\": 2.0, \"temp_max\": 16.1, \"temp_min\": 8.3, \"wind\": 1.3, \"weather\": \"rain\"}, {\"date\": \"2013-03-29T00:00:00\", \"precipitation\": 0.0, \"temp_max\": 18.3, \"temp_min\": 7.8, \"wind\": 2.5, \"weather\": \"rain\"}, {\"date\": \"2013-03-30T00:00:00\", \"precipitation\": 0.0, \"temp_max\": 20.0, \"temp_min\": 5.6, \"wind\": 4.4, \"weather\": \"drizzle\"}, {\"date\": \"2013-03-31T00:00:00\", \"precipitation\": 0.0, \"temp_max\": 20.6, \"temp_min\": 6.7, \"wind\": 2.9, \"weather\": \"sun\"}, {\"date\": \"2013-04-01T00:00:00\", \"precipitation\": 0.0, \"temp_max\": 17.2, \"temp_min\": 8.3, \"wind\": 3.6, \"weather\": \"sun\"}, {\"date\": \"2013-04-02T00:00:00\", \"precipitation\": 0.0, \"temp_max\": 13.9, \"temp_min\": 8.9, \"wind\": 2.2, \"weather\": \"sun\"}, {\"date\": \"2013-04-03T00:00:00\", \"precipitation\": 0.0, \"temp_max\": 16.7, \"temp_min\": 7.8, \"wind\": 1.6, \"weather\": \"sun\"}, {\"date\": \"2013-04-04T00:00:00\", \"precipitation\": 8.4, \"temp_max\": 14.4, \"temp_min\": 10.0, \"wind\": 3.0, \"weather\": \"fog\"}, {\"date\": \"2013-04-05T00:00:00\", \"precipitation\": 18.5, \"temp_max\": 13.9, \"temp_min\": 10.0, \"wind\": 5.6, \"weather\": \"fog\"}, {\"date\": \"2013-04-06T00:00:00\", \"precipitation\": 12.7, \"temp_max\": 12.2, \"temp_min\": 7.2, \"wind\": 5.0, \"weather\": \"fog\"}, {\"date\": \"2013-04-07T00:00:00\", \"precipitation\": 39.1, \"temp_max\": 8.3, \"temp_min\": 5.0, \"wind\": 3.9, \"weather\": \"fog\"}, {\"date\": \"2013-04-08T00:00:00\", \"precipitation\": 0.8, \"temp_max\": 13.3, \"temp_min\": 6.1, \"wind\": 3.1, \"weather\": \"fog\"}, {\"date\": \"2013-04-09T00:00:00\", \"precipitation\": 0.0, \"temp_max\": 12.2, \"temp_min\": 6.1, \"wind\": 2.4, \"weather\": \"sun\"}, {\"date\": \"2013-04-10T00:00:00\", \"precipitation\": 9.4, \"temp_max\": 15.0, \"temp_min\": 8.9, \"wind\": 6.4, \"weather\": \"sun\"}, {\"date\": \"2013-04-11T00:00:00\", \"precipitation\": 1.5, \"temp_max\": 12.2, \"temp_min\": 6.7, \"wind\": 3.8, \"weather\": \"fog\"}, {\"date\": \"2013-04-12T00:00:00\", \"precipitation\": 9.7, \"temp_max\": 7.8, \"temp_min\": 4.4, \"wind\": 4.6, \"weather\": \"fog\"}, {\"date\": \"2013-04-13T00:00:00\", \"precipitation\": 9.4, \"temp_max\": 10.6, \"temp_min\": 3.3, \"wind\": 5.7, \"weather\": \"fog\"}, {\"date\": \"2013-04-14T00:00:00\", \"precipitation\": 5.8, \"temp_max\": 12.8, \"temp_min\": 4.4, \"wind\": 2.3, \"weather\": \"fog\"}, {\"date\": \"2013-04-15T00:00:00\", \"precipitation\": 0.0, \"temp_max\": 13.9, \"temp_min\": 4.4, \"wind\": 2.4, \"weather\": \"fog\"}, {\"date\": \"2013-04-16T00:00:00\", \"precipitation\": 0.3, \"temp_max\": 13.9, \"temp_min\": 3.3, \"wind\": 2.6, \"weather\": \"sun\"}, {\"date\": \"2013-04-17T00:00:00\", \"precipitation\": 0.0, \"temp_max\": 15.0, \"temp_min\": 3.9, \"wind\": 3.3, \"weather\": \"drizzle\"}, {\"date\": \"2013-04-18T00:00:00\", \"precipitation\": 5.3, \"temp_max\": 11.7, \"temp_min\": 6.7, \"wind\": 4.0, \"weather\": \"fog\"}, {\"date\": \"2013-04-19T00:00:00\", \"precipitation\": 20.6, \"temp_max\": 13.3, \"temp_min\": 9.4, \"wind\": 4.9, \"weather\": \"fog\"}, {\"date\": \"2013-04-20T00:00:00\", \"precipitation\": 0.0, \"temp_max\": 13.9, \"temp_min\": 8.3, \"wind\": 5.8, \"weather\": \"sun\"}, {\"date\": \"2013-04-21T00:00:00\", \"precipitation\": 3.3, \"temp_max\": 12.2, \"temp_min\": 6.7, \"wind\": 4.1, \"weather\": \"sun\"}, {\"date\": \"2013-04-22T00:00:00\", \"precipitation\": 0.0, \"temp_max\": 16.1, \"temp_min\": 5.0, \"wind\": 4.3, \"weather\": \"sun\"}, {\"date\": \"2013-04-23T00:00:00\", \"precipitation\": 0.0, \"temp_max\": 17.8, \"temp_min\": 3.9, \"wind\": 2.8, \"weather\": \"sun\"}, {\"date\": \"2013-04-24T00:00:00\", \"precipitation\": 0.0, \"temp_max\": 21.1, \"temp_min\": 6.1, \"wind\": 3.0, \"weather\": \"sun\"}, {\"date\": \"2013-04-25T00:00:00\", \"precipitation\": 0.0, \"temp_max\": 21.7, \"temp_min\": 6.7, \"wind\": 1.1, \"weather\": \"sun\"}, {\"date\": \"2013-04-26T00:00:00\", \"precipitation\": 0.0, \"temp_max\": 20.6, \"temp_min\": 8.3, \"wind\": 2.2, \"weather\": \"fog\"}, {\"date\": \"2013-04-27T00:00:00\", \"precipitation\": 0.0, \"temp_max\": 13.9, \"temp_min\": 10.6, \"wind\": 5.9, \"weather\": \"sun\"}, {\"date\": \"2013-04-28T00:00:00\", \"precipitation\": 1.0, \"temp_max\": 15.0, \"temp_min\": 9.4, \"wind\": 5.2, \"weather\": \"drizzle\"}, {\"date\": \"2013-04-29T00:00:00\", \"precipitation\": 3.8, \"temp_max\": 13.9, \"temp_min\": 6.7, \"wind\": 4.2, \"weather\": \"fog\"}, {\"date\": \"2013-04-30T00:00:00\", \"precipitation\": 0.0, \"temp_max\": 12.8, \"temp_min\": 4.4, \"wind\": 2.4, \"weather\": \"sun\"}, {\"date\": \"2013-05-01T00:00:00\", \"precipitation\": 0.0, \"temp_max\": 18.3, \"temp_min\": 3.3, \"wind\": 3.1, \"weather\": \"sun\"}, {\"date\": \"2013-05-02T00:00:00\", \"precipitation\": 0.0, \"temp_max\": 20.6, \"temp_min\": 6.7, \"wind\": 4.0, \"weather\": \"sun\"}, {\"date\": \"2013-05-03T00:00:00\", \"precipitation\": 0.0, \"temp_max\": 21.7, \"temp_min\": 9.4, \"wind\": 4.9, \"weather\": \"sun\"}, {\"date\": \"2013-05-04T00:00:00\", \"precipitation\": 0.0, \"temp_max\": 25.0, \"temp_min\": 11.1, \"wind\": 6.5, \"weather\": \"sun\"}, {\"date\": \"2013-05-05T00:00:00\", \"precipitation\": 0.0, \"temp_max\": 28.9, \"temp_min\": 11.7, \"wind\": 5.3, \"weather\": \"sun\"}, {\"date\": \"2013-05-06T00:00:00\", \"precipitation\": 0.0, \"temp_max\": 30.6, \"temp_min\": 12.2, \"wind\": 2.0, \"weather\": \"sun\"}, {\"date\": \"2013-05-07T00:00:00\", \"precipitation\": 0.0, \"temp_max\": 20.6, \"temp_min\": 11.1, \"wind\": 3.3, \"weather\": \"sun\"}, {\"date\": \"2013-05-08T00:00:00\", \"precipitation\": 0.0, \"temp_max\": 19.4, \"temp_min\": 11.1, \"wind\": 1.9, \"weather\": \"sun\"}, {\"date\": \"2013-05-09T00:00:00\", \"precipitation\": 0.0, \"temp_max\": 22.8, \"temp_min\": 10.0, \"wind\": 1.3, \"weather\": \"sun\"}, {\"date\": \"2013-05-10T00:00:00\", \"precipitation\": 0.0, \"temp_max\": 26.1, \"temp_min\": 9.4, \"wind\": 1.0, \"weather\": \"sun\"}, {\"date\": \"2013-05-11T00:00:00\", \"precipitation\": 0.0, \"temp_max\": 27.2, \"temp_min\": 12.2, \"wind\": 2.6, \"weather\": \"sun\"}, {\"date\": \"2013-05-12T00:00:00\", \"precipitation\": 6.6, \"temp_max\": 21.7, \"temp_min\": 13.9, \"wind\": 3.9, \"weather\": \"fog\"}, {\"date\": \"2013-05-13T00:00:00\", \"precipitation\": 3.3, \"temp_max\": 18.9, \"temp_min\": 9.4, \"wind\": 5.0, \"weather\": \"sun\"}, {\"date\": \"2013-05-14T00:00:00\", \"precipitation\": 0.0, \"temp_max\": 18.3, \"temp_min\": 7.8, \"wind\": 2.4, \"weather\": \"sun\"}, {\"date\": \"2013-05-15T00:00:00\", \"precipitation\": 1.0, \"temp_max\": 17.2, \"temp_min\": 8.9, \"wind\": 2.3, \"weather\": \"fog\"}, {\"date\": \"2013-05-16T00:00:00\", \"precipitation\": 0.0, \"temp_max\": 21.7, \"temp_min\": 12.2, \"wind\": 2.7, \"weather\": \"fog\"}, {\"date\": \"2013-05-17T00:00:00\", \"precipitation\": 0.5, \"temp_max\": 17.2, \"temp_min\": 11.7, \"wind\": 3.7, \"weather\": \"sun\"}, {\"date\": \"2013-05-18T00:00:00\", \"precipitation\": 0.0, \"temp_max\": 16.7, \"temp_min\": 11.1, \"wind\": 2.9, \"weather\": \"sun\"}, {\"date\": \"2013-05-19T00:00:00\", \"precipitation\": 0.0, \"temp_max\": 18.3, \"temp_min\": 10.6, \"wind\": 2.3, \"weather\": \"sun\"}, {\"date\": \"2013-05-20T00:00:00\", \"precipitation\": 0.0, \"temp_max\": 19.4, \"temp_min\": 9.4, \"wind\": 1.8, \"weather\": \"sun\"}, {\"date\": \"2013-05-21T00:00:00\", \"precipitation\": 13.7, \"temp_max\": 15.6, \"temp_min\": 8.3, \"wind\": 4.8, \"weather\": \"fog\"}, {\"date\": \"2013-05-22T00:00:00\", \"precipitation\": 13.7, \"temp_max\": 11.1, \"temp_min\": 7.2, \"wind\": 3.0, \"weather\": \"fog\"}, {\"date\": \"2013-05-23T00:00:00\", \"precipitation\": 4.1, \"temp_max\": 12.2, \"temp_min\": 6.7, \"wind\": 1.9, \"weather\": \"fog\"}, {\"date\": \"2013-05-24T00:00:00\", \"precipitation\": 0.3, \"temp_max\": 16.7, \"temp_min\": 8.9, \"wind\": 2.7, \"weather\": \"sun\"}, {\"date\": \"2013-05-25T00:00:00\", \"precipitation\": 0.0, \"temp_max\": 17.8, \"temp_min\": 10.0, \"wind\": 2.7, \"weather\": \"sun\"}, {\"date\": \"2013-05-26T00:00:00\", \"precipitation\": 1.5, \"temp_max\": 18.3, \"temp_min\": 10.6, \"wind\": 2.2, \"weather\": \"fog\"}, {\"date\": \"2013-05-27T00:00:00\", \"precipitation\": 9.7, \"temp_max\": 16.7, \"temp_min\": 11.1, \"wind\": 3.1, \"weather\": \"fog\"}, {\"date\": \"2013-05-28T00:00:00\", \"precipitation\": 0.5, \"temp_max\": 17.2, \"temp_min\": 11.7, \"wind\": 2.8, \"weather\": \"fog\"}, {\"date\": \"2013-05-29T00:00:00\", \"precipitation\": 5.6, \"temp_max\": 16.1, \"temp_min\": 9.4, \"wind\": 4.0, \"weather\": \"fog\"}, {\"date\": \"2013-05-30T00:00:00\", \"precipitation\": 0.0, \"temp_max\": 16.7, \"temp_min\": 9.4, \"wind\": 5.3, \"weather\": \"sun\"}, {\"date\": \"2013-05-31T00:00:00\", \"precipitation\": 0.0, \"temp_max\": 19.4, \"temp_min\": 11.1, \"wind\": 2.5, \"weather\": \"sun\"}, {\"date\": \"2013-06-01T00:00:00\", \"precipitation\": 0.0, \"temp_max\": 22.8, \"temp_min\": 12.2, \"wind\": 2.5, \"weather\": \"sun\"}, {\"date\": \"2013-06-02T00:00:00\", \"precipitation\": 1.0, \"temp_max\": 20.6, \"temp_min\": 12.2, \"wind\": 3.1, \"weather\": \"sun\"}, {\"date\": \"2013-06-03T00:00:00\", \"precipitation\": 0.0, \"temp_max\": 22.2, \"temp_min\": 11.1, \"wind\": 2.9, \"weather\": \"sun\"}, {\"date\": \"2013-06-04T00:00:00\", \"precipitation\": 0.0, \"temp_max\": 26.1, \"temp_min\": 12.2, \"wind\": 3.4, \"weather\": \"sun\"}, {\"date\": \"2013-06-05T00:00:00\", \"precipitation\": 0.0, \"temp_max\": 26.7, \"temp_min\": 14.4, \"wind\": 3.1, \"weather\": \"sun\"}, {\"date\": \"2013-06-06T00:00:00\", \"precipitation\": 0.0, \"temp_max\": 26.7, \"temp_min\": 12.2, \"wind\": 2.5, \"weather\": \"sun\"}, {\"date\": \"2013-06-07T00:00:00\", \"precipitation\": 0.0, \"temp_max\": 21.7, \"temp_min\": 13.3, \"wind\": 3.2, \"weather\": \"sun\"}, {\"date\": \"2013-06-08T00:00:00\", \"precipitation\": 0.0, \"temp_max\": 20.6, \"temp_min\": 12.8, \"wind\": 3.1, \"weather\": \"sun\"}, {\"date\": \"2013-06-09T00:00:00\", \"precipitation\": 0.0, \"temp_max\": 20.6, \"temp_min\": 11.1, \"wind\": 3.7, \"weather\": \"sun\"}, {\"date\": \"2013-06-10T00:00:00\", \"precipitation\": 0.0, \"temp_max\": 21.7, \"temp_min\": 11.7, \"wind\": 3.2, \"weather\": \"sun\"}, {\"date\": \"2013-06-11T00:00:00\", \"precipitation\": 0.0, \"temp_max\": 20.0, \"temp_min\": 10.0, \"wind\": 5.7, \"weather\": \"sun\"}, {\"date\": \"2013-06-12T00:00:00\", \"precipitation\": 0.3, \"temp_max\": 20.6, \"temp_min\": 11.7, \"wind\": 4.2, \"weather\": \"sun\"}, {\"date\": \"2013-06-13T00:00:00\", \"precipitation\": 0.0, \"temp_max\": 21.1, \"temp_min\": 11.7, \"wind\": 2.6, \"weather\": \"sun\"}, {\"date\": \"2013-06-14T00:00:00\", \"precipitation\": 0.0, \"temp_max\": 20.0, \"temp_min\": 12.2, \"wind\": 3.7, \"weather\": \"sun\"}, {\"date\": \"2013-06-15T00:00:00\", \"precipitation\": 0.0, \"temp_max\": 25.6, \"temp_min\": 10.0, \"wind\": 2.9, \"weather\": \"sun\"}, {\"date\": \"2013-06-16T00:00:00\", \"precipitation\": 0.0, \"temp_max\": 23.9, \"temp_min\": 12.8, \"wind\": 3.4, \"weather\": \"sun\"}, {\"date\": \"2013-06-17T00:00:00\", \"precipitation\": 0.0, \"temp_max\": 25.6, \"temp_min\": 13.9, \"wind\": 3.0, \"weather\": \"sun\"}, {\"date\": \"2013-06-18T00:00:00\", \"precipitation\": 0.3, \"temp_max\": 23.3, \"temp_min\": 13.3, \"wind\": 3.4, \"weather\": \"fog\"}, {\"date\": \"2013-06-19T00:00:00\", \"precipitation\": 0.0, \"temp_max\": 20.0, \"temp_min\": 12.8, \"wind\": 3.7, \"weather\": \"sun\"}, {\"date\": \"2013-06-20T00:00:00\", \"precipitation\": 3.0, \"temp_max\": 17.2, \"temp_min\": 12.8, \"wind\": 5.0, \"weather\": \"sun\"}, {\"date\": \"2013-06-21T00:00:00\", \"precipitation\": 0.3, \"temp_max\": 20.6, \"temp_min\": 12.2, \"wind\": 1.5, \"weather\": \"sun\"}, {\"date\": \"2013-06-22T00:00:00\", \"precipitation\": 0.0, \"temp_max\": 25.6, \"temp_min\": 11.7, \"wind\": 1.7, \"weather\": \"sun\"}, {\"date\": \"2013-06-23T00:00:00\", \"precipitation\": 7.9, \"temp_max\": 22.2, \"temp_min\": 15.0, \"wind\": 2.1, \"weather\": \"fog\"}, {\"date\": \"2013-06-24T00:00:00\", \"precipitation\": 4.8, \"temp_max\": 21.1, \"temp_min\": 13.9, \"wind\": 3.7, \"weather\": \"fog\"}, {\"date\": \"2013-06-25T00:00:00\", \"precipitation\": 9.9, \"temp_max\": 23.3, \"temp_min\": 14.4, \"wind\": 2.8, \"weather\": \"sun\"}, {\"date\": \"2013-06-26T00:00:00\", \"precipitation\": 2.0, \"temp_max\": 22.2, \"temp_min\": 15.0, \"wind\": 2.3, \"weather\": \"fog\"}, {\"date\": \"2013-06-27T00:00:00\", \"precipitation\": 3.6, \"temp_max\": 21.1, \"temp_min\": 16.7, \"wind\": 1.3, \"weather\": \"fog\"}, {\"date\": \"2013-06-28T00:00:00\", \"precipitation\": 0.0, \"temp_max\": 30.6, \"temp_min\": 16.1, \"wind\": 2.2, \"weather\": \"sun\"}, {\"date\": \"2013-06-29T00:00:00\", \"precipitation\": 0.0, \"temp_max\": 30.0, \"temp_min\": 18.3, \"wind\": 1.7, \"weather\": \"sun\"}, {\"date\": \"2013-06-30T00:00:00\", \"precipitation\": 0.0, \"temp_max\": 33.9, \"temp_min\": 17.2, \"wind\": 2.5, \"weather\": \"sun\"}, {\"date\": \"2013-07-01T00:00:00\", \"precipitation\": 0.0, \"temp_max\": 31.7, \"temp_min\": 18.3, \"wind\": 2.3, \"weather\": \"sun\"}, {\"date\": \"2013-07-02T00:00:00\", \"precipitation\": 0.0, \"temp_max\": 28.3, \"temp_min\": 15.6, \"wind\": 3.0, \"weather\": \"sun\"}, {\"date\": \"2013-07-03T00:00:00\", \"precipitation\": 0.0, \"temp_max\": 26.1, \"temp_min\": 16.7, \"wind\": 3.2, \"weather\": \"sun\"}, {\"date\": \"2013-07-04T00:00:00\", \"precipitation\": 0.0, \"temp_max\": 21.7, \"temp_min\": 13.9, \"wind\": 2.2, \"weather\": \"fog\"}, {\"date\": \"2013-07-05T00:00:00\", \"precipitation\": 0.0, \"temp_max\": 23.3, \"temp_min\": 13.9, \"wind\": 2.6, \"weather\": \"sun\"}, {\"date\": \"2013-07-06T00:00:00\", \"precipitation\": 0.0, \"temp_max\": 26.1, \"temp_min\": 13.3, \"wind\": 2.2, \"weather\": \"sun\"}, {\"date\": \"2013-07-07T00:00:00\", \"precipitation\": 0.0, \"temp_max\": 23.9, \"temp_min\": 13.9, \"wind\": 2.9, \"weather\": \"sun\"}, {\"date\": \"2013-07-08T00:00:00\", \"precipitation\": 0.0, \"temp_max\": 26.7, \"temp_min\": 13.3, \"wind\": 2.8, \"weather\": \"sun\"}, {\"date\": \"2013-07-09T00:00:00\", \"precipitation\": 0.0, \"temp_max\": 30.0, \"temp_min\": 15.0, \"wind\": 2.5, \"weather\": \"sun\"}, {\"date\": \"2013-07-10T00:00:00\", \"precipitation\": 0.0, \"temp_max\": 22.2, \"temp_min\": 13.9, \"wind\": 2.6, \"weather\": \"sun\"}, {\"date\": \"2013-07-11T00:00:00\", \"precipitation\": 0.0, \"temp_max\": 22.8, \"temp_min\": 12.2, \"wind\": 3.0, \"weather\": \"sun\"}, {\"date\": \"2013-07-12T00:00:00\", \"precipitation\": 0.0, \"temp_max\": 19.4, \"temp_min\": 13.3, \"wind\": 2.2, \"weather\": \"sun\"}, {\"date\": \"2013-07-13T00:00:00\", \"precipitation\": 0.0, \"temp_max\": 26.1, \"temp_min\": 11.1, \"wind\": 3.1, \"weather\": \"sun\"}, {\"date\": \"2013-07-14T00:00:00\", \"precipitation\": 0.0, \"temp_max\": 27.8, \"temp_min\": 12.8, \"wind\": 3.0, \"weather\": \"sun\"}, {\"date\": \"2013-07-15T00:00:00\", \"precipitation\": 0.0, \"temp_max\": 27.8, \"temp_min\": 14.4, \"wind\": 4.6, \"weather\": \"sun\"}, {\"date\": \"2013-07-16T00:00:00\", \"precipitation\": 0.0, \"temp_max\": 31.1, \"temp_min\": 18.3, \"wind\": 4.1, \"weather\": \"sun\"}, {\"date\": \"2013-07-17T00:00:00\", \"precipitation\": 0.0, \"temp_max\": 22.2, \"temp_min\": 15.0, \"wind\": 3.7, \"weather\": \"rain\"}, {\"date\": \"2013-07-18T00:00:00\", \"precipitation\": 0.0, \"temp_max\": 26.1, \"temp_min\": 13.9, \"wind\": 2.0, \"weather\": \"sun\"}, {\"date\": \"2013-07-19T00:00:00\", \"precipitation\": 0.0, \"temp_max\": 27.8, \"temp_min\": 13.3, \"wind\": 1.9, \"weather\": \"sun\"}, {\"date\": \"2013-07-20T00:00:00\", \"precipitation\": 0.0, \"temp_max\": 25.0, \"temp_min\": 13.3, \"wind\": 2.0, \"weather\": \"sun\"}, {\"date\": \"2013-07-21T00:00:00\", \"precipitation\": 0.0, \"temp_max\": 23.9, \"temp_min\": 12.8, \"wind\": 2.3, \"weather\": \"sun\"}, {\"date\": \"2013-07-22T00:00:00\", \"precipitation\": 0.0, \"temp_max\": 26.1, \"temp_min\": 13.3, \"wind\": 2.4, \"weather\": \"fog\"}, {\"date\": \"2013-07-23T00:00:00\", \"precipitation\": 0.0, \"temp_max\": 31.1, \"temp_min\": 13.9, \"wind\": 3.0, \"weather\": \"sun\"}, {\"date\": \"2013-07-24T00:00:00\", \"precipitation\": 0.0, \"temp_max\": 31.1, \"temp_min\": 14.4, \"wind\": 2.5, \"weather\": \"sun\"}, {\"date\": \"2013-07-25T00:00:00\", \"precipitation\": 0.0, \"temp_max\": 31.1, \"temp_min\": 12.8, \"wind\": 2.3, \"weather\": \"sun\"}, {\"date\": \"2013-07-26T00:00:00\", \"precipitation\": 0.0, \"temp_max\": 31.1, \"temp_min\": 14.4, \"wind\": 2.9, \"weather\": \"sun\"}, {\"date\": \"2013-07-27T00:00:00\", \"precipitation\": 0.0, \"temp_max\": 25.6, \"temp_min\": 12.8, \"wind\": 2.6, \"weather\": \"sun\"}, {\"date\": \"2013-07-28T00:00:00\", \"precipitation\": 0.0, \"temp_max\": 21.1, \"temp_min\": 12.2, \"wind\": 3.4, \"weather\": \"fog\"}, {\"date\": \"2013-07-29T00:00:00\", \"precipitation\": 0.0, \"temp_max\": 25.0, \"temp_min\": 13.3, \"wind\": 1.4, \"weather\": \"sun\"}, {\"date\": \"2013-07-30T00:00:00\", \"precipitation\": 0.0, \"temp_max\": 25.0, \"temp_min\": 13.3, \"wind\": 2.8, \"weather\": \"sun\"}, {\"date\": \"2013-07-31T00:00:00\", \"precipitation\": 0.0, \"temp_max\": 21.7, \"temp_min\": 13.3, \"wind\": 1.8, \"weather\": \"sun\"}, {\"date\": \"2013-08-01T00:00:00\", \"precipitation\": 0.0, \"temp_max\": 20.6, \"temp_min\": 13.3, \"wind\": 3.9, \"weather\": \"sun\"}, {\"date\": \"2013-08-02T00:00:00\", \"precipitation\": 2.0, \"temp_max\": 17.2, \"temp_min\": 15.0, \"wind\": 2.0, \"weather\": \"sun\"}, {\"date\": \"2013-08-03T00:00:00\", \"precipitation\": 0.0, \"temp_max\": 25.0, \"temp_min\": 15.6, \"wind\": 2.4, \"weather\": \"fog\"}, {\"date\": \"2013-08-04T00:00:00\", \"precipitation\": 0.0, \"temp_max\": 28.9, \"temp_min\": 15.0, \"wind\": 3.4, \"weather\": \"sun\"}, {\"date\": \"2013-08-05T00:00:00\", \"precipitation\": 0.0, \"temp_max\": 30.0, \"temp_min\": 15.0, \"wind\": 2.1, \"weather\": \"sun\"}, {\"date\": \"2013-08-06T00:00:00\", \"precipitation\": 0.0, \"temp_max\": 30.6, \"temp_min\": 13.9, \"wind\": 1.4, \"weather\": \"sun\"}, {\"date\": \"2013-08-07T00:00:00\", \"precipitation\": 0.0, \"temp_max\": 31.1, \"temp_min\": 13.9, \"wind\": 1.9, \"weather\": \"sun\"}, {\"date\": \"2013-08-08T00:00:00\", \"precipitation\": 0.0, \"temp_max\": 28.3, \"temp_min\": 14.4, \"wind\": 2.5, \"weather\": \"sun\"}, {\"date\": \"2013-08-09T00:00:00\", \"precipitation\": 0.0, \"temp_max\": 28.3, \"temp_min\": 14.4, \"wind\": 2.1, \"weather\": \"rain\"}, {\"date\": \"2013-08-10T00:00:00\", \"precipitation\": 2.3, \"temp_max\": 25.6, \"temp_min\": 15.0, \"wind\": 2.9, \"weather\": \"sun\"}, {\"date\": \"2013-08-11T00:00:00\", \"precipitation\": 0.0, \"temp_max\": 25.0, \"temp_min\": 14.4, \"wind\": 2.9, \"weather\": \"sun\"}, {\"date\": \"2013-08-12T00:00:00\", \"precipitation\": 0.0, \"temp_max\": 25.6, \"temp_min\": 16.1, \"wind\": 1.9, \"weather\": \"sun\"}, {\"date\": \"2013-08-13T00:00:00\", \"precipitation\": 0.0, \"temp_max\": 27.8, \"temp_min\": 15.0, \"wind\": 1.8, \"weather\": \"sun\"}, {\"date\": \"2013-08-14T00:00:00\", \"precipitation\": 0.8, \"temp_max\": 27.2, \"temp_min\": 15.0, \"wind\": 2.0, \"weather\": \"sun\"}, {\"date\": \"2013-08-15T00:00:00\", \"precipitation\": 1.8, \"temp_max\": 21.1, \"temp_min\": 17.2, \"wind\": 1.0, \"weather\": \"sun\"}, {\"date\": \"2013-08-16T00:00:00\", \"precipitation\": 0.0, \"temp_max\": 28.9, \"temp_min\": 16.1, \"wind\": 2.2, \"weather\": \"fog\"}, {\"date\": \"2013-08-17T00:00:00\", \"precipitation\": 0.0, \"temp_max\": 25.6, \"temp_min\": 17.2, \"wind\": 3.0, \"weather\": \"sun\"}, {\"date\": \"2013-08-18T00:00:00\", \"precipitation\": 0.0, \"temp_max\": 26.1, \"temp_min\": 15.6, \"wind\": 3.1, \"weather\": \"sun\"}, {\"date\": \"2013-08-19T00:00:00\", \"precipitation\": 0.0, \"temp_max\": 26.7, \"temp_min\": 15.6, \"wind\": 3.0, \"weather\": \"sun\"}, {\"date\": \"2013-08-20T00:00:00\", \"precipitation\": 0.0, \"temp_max\": 25.6, \"temp_min\": 16.1, \"wind\": 4.6, \"weather\": \"sun\"}, {\"date\": \"2013-08-21T00:00:00\", \"precipitation\": 0.0, \"temp_max\": 27.8, \"temp_min\": 15.0, \"wind\": 4.3, \"weather\": \"sun\"}, {\"date\": \"2013-08-22T00:00:00\", \"precipitation\": 0.0, \"temp_max\": 28.9, \"temp_min\": 15.0, \"wind\": 1.9, \"weather\": \"sun\"}, {\"date\": \"2013-08-23T00:00:00\", \"precipitation\": 0.0, \"temp_max\": 25.0, \"temp_min\": 16.1, \"wind\": 4.1, \"weather\": \"sun\"}, {\"date\": \"2013-08-24T00:00:00\", \"precipitation\": 0.0, \"temp_max\": 25.0, \"temp_min\": 16.7, \"wind\": 2.7, \"weather\": \"sun\"}, {\"date\": \"2013-08-25T00:00:00\", \"precipitation\": 0.3, \"temp_max\": 22.2, \"temp_min\": 16.1, \"wind\": 2.6, \"weather\": \"sun\"}, {\"date\": \"2013-08-26T00:00:00\", \"precipitation\": 1.0, \"temp_max\": 24.4, \"temp_min\": 16.1, \"wind\": 1.9, \"weather\": \"sun\"}, {\"date\": \"2013-08-27T00:00:00\", \"precipitation\": 1.3, \"temp_max\": 26.7, \"temp_min\": 17.2, \"wind\": 1.4, \"weather\": \"sun\"}, {\"date\": \"2013-08-28T00:00:00\", \"precipitation\": 5.6, \"temp_max\": 26.7, \"temp_min\": 15.6, \"wind\": 1.3, \"weather\": \"fog\"}, {\"date\": \"2013-08-29T00:00:00\", \"precipitation\": 19.3, \"temp_max\": 23.9, \"temp_min\": 18.3, \"wind\": 3.0, \"weather\": \"sun\"}, {\"date\": \"2013-08-30T00:00:00\", \"precipitation\": 0.0, \"temp_max\": 26.1, \"temp_min\": 16.1, \"wind\": 2.9, \"weather\": \"sun\"}, {\"date\": \"2013-08-31T00:00:00\", \"precipitation\": 0.0, \"temp_max\": 27.8, \"temp_min\": 13.9, \"wind\": 2.6, \"weather\": \"sun\"}, {\"date\": \"2013-09-01T00:00:00\", \"precipitation\": 0.0, \"temp_max\": 27.8, \"temp_min\": 15.6, \"wind\": 2.5, \"weather\": \"sun\"}, {\"date\": \"2013-09-02T00:00:00\", \"precipitation\": 0.0, \"temp_max\": 27.8, \"temp_min\": 17.2, \"wind\": 2.1, \"weather\": \"sun\"}, {\"date\": \"2013-09-03T00:00:00\", \"precipitation\": 2.3, \"temp_max\": 25.0, \"temp_min\": 16.7, \"wind\": 1.7, \"weather\": \"fog\"}, {\"date\": \"2013-09-04T00:00:00\", \"precipitation\": 0.3, \"temp_max\": 22.8, \"temp_min\": 16.1, \"wind\": 2.4, \"weather\": \"fog\"}, {\"date\": \"2013-09-05T00:00:00\", \"precipitation\": 27.7, \"temp_max\": 20.0, \"temp_min\": 15.6, \"wind\": 2.5, \"weather\": \"sun\"}, {\"date\": \"2013-09-06T00:00:00\", \"precipitation\": 21.3, \"temp_max\": 21.7, \"temp_min\": 16.1, \"wind\": 2.6, \"weather\": \"fog\"}, {\"date\": \"2013-09-07T00:00:00\", \"precipitation\": 0.0, \"temp_max\": 23.3, \"temp_min\": 17.2, \"wind\": 2.0, \"weather\": \"sun\"}, {\"date\": \"2013-09-08T00:00:00\", \"precipitation\": 0.0, \"temp_max\": 26.7, \"temp_min\": 14.4, \"wind\": 1.5, \"weather\": \"fog\"}, {\"date\": \"2013-09-09T00:00:00\", \"precipitation\": 0.0, \"temp_max\": 26.1, \"temp_min\": 13.9, \"wind\": 2.1, \"weather\": \"sun\"}, {\"date\": \"2013-09-10T00:00:00\", \"precipitation\": 0.0, \"temp_max\": 26.7, \"temp_min\": 15.0, \"wind\": 3.7, \"weather\": \"sun\"}, {\"date\": \"2013-09-11T00:00:00\", \"precipitation\": 0.0, \"temp_max\": 33.9, \"temp_min\": 16.1, \"wind\": 2.4, \"weather\": \"sun\"}, {\"date\": \"2013-09-12T00:00:00\", \"precipitation\": 0.0, \"temp_max\": 25.6, \"temp_min\": 15.0, \"wind\": 1.7, \"weather\": \"sun\"}, {\"date\": \"2013-09-13T00:00:00\", \"precipitation\": 0.0, \"temp_max\": 18.9, \"temp_min\": 15.6, \"wind\": 2.0, \"weather\": \"sun\"}, {\"date\": \"2013-09-14T00:00:00\", \"precipitation\": 0.0, \"temp_max\": 21.7, \"temp_min\": 15.6, \"wind\": 1.4, \"weather\": \"fog\"}, {\"date\": \"2013-09-15T00:00:00\", \"precipitation\": 3.3, \"temp_max\": 18.9, \"temp_min\": 14.4, \"wind\": 2.2, \"weather\": \"sun\"}, {\"date\": \"2013-09-16T00:00:00\", \"precipitation\": 0.3, \"temp_max\": 21.7, \"temp_min\": 15.0, \"wind\": 4.3, \"weather\": \"fog\"}, {\"date\": \"2013-09-17T00:00:00\", \"precipitation\": 0.0, \"temp_max\": 17.8, \"temp_min\": 13.9, \"wind\": 2.3, \"weather\": \"sun\"}, {\"date\": \"2013-09-18T00:00:00\", \"precipitation\": 0.0, \"temp_max\": 21.1, \"temp_min\": 13.3, \"wind\": 2.5, \"weather\": \"sun\"}, {\"date\": \"2013-09-19T00:00:00\", \"precipitation\": 0.0, \"temp_max\": 25.6, \"temp_min\": 10.0, \"wind\": 1.5, \"weather\": \"sun\"}, {\"date\": \"2013-09-20T00:00:00\", \"precipitation\": 3.6, \"temp_max\": 23.3, \"temp_min\": 13.3, \"wind\": 3.0, \"weather\": \"fog\"}, {\"date\": \"2013-09-21T00:00:00\", \"precipitation\": 0.0, \"temp_max\": 21.1, \"temp_min\": 13.3, \"wind\": 2.5, \"weather\": \"sun\"}, {\"date\": \"2013-09-22T00:00:00\", \"precipitation\": 13.5, \"temp_max\": 17.2, \"temp_min\": 13.3, \"wind\": 5.5, \"weather\": \"fog\"}, {\"date\": \"2013-09-23T00:00:00\", \"precipitation\": 2.8, \"temp_max\": 16.1, \"temp_min\": 11.1, \"wind\": 4.5, \"weather\": \"fog\"}, {\"date\": \"2013-09-24T00:00:00\", \"precipitation\": 0.0, \"temp_max\": 17.8, \"temp_min\": 10.0, \"wind\": 2.6, \"weather\": \"sun\"}, {\"date\": \"2013-09-25T00:00:00\", \"precipitation\": 2.0, \"temp_max\": 16.1, \"temp_min\": 9.4, \"wind\": 3.0, \"weather\": \"fog\"}, {\"date\": \"2013-09-26T00:00:00\", \"precipitation\": 0.0, \"temp_max\": 17.2, \"temp_min\": 7.2, \"wind\": 2.2, \"weather\": \"sun\"}, {\"date\": \"2013-09-27T00:00:00\", \"precipitation\": 1.0, \"temp_max\": 13.9, \"temp_min\": 10.6, \"wind\": 4.3, \"weather\": \"fog\"}, {\"date\": \"2013-09-28T00:00:00\", \"precipitation\": 43.4, \"temp_max\": 16.7, \"temp_min\": 11.7, \"wind\": 6.0, \"weather\": \"fog\"}, {\"date\": \"2013-09-29T00:00:00\", \"precipitation\": 16.8, \"temp_max\": 14.4, \"temp_min\": 11.1, \"wind\": 7.1, \"weather\": \"sun\"}, {\"date\": \"2013-09-30T00:00:00\", \"precipitation\": 18.5, \"temp_max\": 13.9, \"temp_min\": 10.0, \"wind\": 6.3, \"weather\": \"fog\"}, {\"date\": \"2013-10-01T00:00:00\", \"precipitation\": 7.9, \"temp_max\": 14.4, \"temp_min\": 8.9, \"wind\": 4.7, \"weather\": \"fog\"}, {\"date\": \"2013-10-02T00:00:00\", \"precipitation\": 5.3, \"temp_max\": 12.8, \"temp_min\": 9.4, \"wind\": 2.4, \"weather\": \"fog\"}, {\"date\": \"2013-10-03T00:00:00\", \"precipitation\": 0.8, \"temp_max\": 14.4, \"temp_min\": 8.9, \"wind\": 0.9, \"weather\": \"fog\"}, {\"date\": \"2013-10-04T00:00:00\", \"precipitation\": 0.0, \"temp_max\": 17.8, \"temp_min\": 5.6, \"wind\": 1.1, \"weather\": \"sun\"}, {\"date\": \"2013-10-05T00:00:00\", \"precipitation\": 0.0, \"temp_max\": 20.0, \"temp_min\": 8.3, \"wind\": 1.6, \"weather\": \"sun\"}, {\"date\": \"2013-10-06T00:00:00\", \"precipitation\": 4.1, \"temp_max\": 22.8, \"temp_min\": 7.8, \"wind\": 2.6, \"weather\": \"fog\"}, {\"date\": \"2013-10-07T00:00:00\", \"precipitation\": 0.5, \"temp_max\": 16.1, \"temp_min\": 11.7, \"wind\": 6.3, \"weather\": \"fog\"}, {\"date\": \"2013-10-08T00:00:00\", \"precipitation\": 6.9, \"temp_max\": 13.9, \"temp_min\": 7.8, \"wind\": 3.0, \"weather\": \"rain\"}, {\"date\": \"2013-10-09T00:00:00\", \"precipitation\": 0.0, \"temp_max\": 15.0, \"temp_min\": 5.6, \"wind\": 1.6, \"weather\": \"sun\"}, {\"date\": \"2013-10-10T00:00:00\", \"precipitation\": 1.0, \"temp_max\": 14.4, \"temp_min\": 8.3, \"wind\": 1.7, \"weather\": \"fog\"}, {\"date\": \"2013-10-11T00:00:00\", \"precipitation\": 9.1, \"temp_max\": 13.9, \"temp_min\": 10.6, \"wind\": 1.0, \"weather\": \"sun\"}, {\"date\": \"2013-10-12T00:00:00\", \"precipitation\": 1.0, \"temp_max\": 14.4, \"temp_min\": 8.9, \"wind\": 2.2, \"weather\": \"fog\"}, {\"date\": \"2013-10-13T00:00:00\", \"precipitation\": 0.0, \"temp_max\": 15.0, \"temp_min\": 6.7, \"wind\": 1.8, \"weather\": \"fog\"}, {\"date\": \"2013-10-14T00:00:00\", \"precipitation\": 0.0, \"temp_max\": 15.6, \"temp_min\": 3.9, \"wind\": 1.6, \"weather\": \"sun\"}, {\"date\": \"2013-10-15T00:00:00\", \"precipitation\": 0.0, \"temp_max\": 15.6, \"temp_min\": 5.0, \"wind\": 0.9, \"weather\": \"sun\"}, {\"date\": \"2013-10-16T00:00:00\", \"precipitation\": 0.0, \"temp_max\": 12.8, \"temp_min\": 8.9, \"wind\": 2.7, \"weather\": \"fog\"}, {\"date\": \"2013-10-17T00:00:00\", \"precipitation\": 0.0, \"temp_max\": 14.4, \"temp_min\": 8.9, \"wind\": 1.7, \"weather\": \"fog\"}, {\"date\": \"2013-10-18T00:00:00\", \"precipitation\": 0.0, \"temp_max\": 12.8, \"temp_min\": 7.2, \"wind\": 1.2, \"weather\": \"sun\"}, {\"date\": \"2013-10-19T00:00:00\", \"precipitation\": 0.0, \"temp_max\": 10.6, \"temp_min\": 7.8, \"wind\": 1.4, \"weather\": \"sun\"}, {\"date\": \"2013-10-20T00:00:00\", \"precipitation\": 0.0, \"temp_max\": 10.6, \"temp_min\": 7.8, \"wind\": 2.4, \"weather\": \"sun\"}, {\"date\": \"2013-10-21T00:00:00\", \"precipitation\": 0.0, \"temp_max\": 11.7, \"temp_min\": 8.3, \"wind\": 2.5, \"weather\": \"sun\"}, {\"date\": \"2013-10-22T00:00:00\", \"precipitation\": 0.0, \"temp_max\": 14.4, \"temp_min\": 7.2, \"wind\": 1.9, \"weather\": \"sun\"}, {\"date\": \"2013-10-23T00:00:00\", \"precipitation\": 0.0, \"temp_max\": 12.8, \"temp_min\": 6.1, \"wind\": 0.4, \"weather\": \"sun\"}, {\"date\": \"2013-10-24T00:00:00\", \"precipitation\": 0.0, \"temp_max\": 10.0, \"temp_min\": 6.1, \"wind\": 0.6, \"weather\": \"sun\"}, {\"date\": \"2013-10-25T00:00:00\", \"precipitation\": 0.0, \"temp_max\": 12.2, \"temp_min\": 7.8, \"wind\": 1.8, \"weather\": \"sun\"}, {\"date\": \"2013-10-26T00:00:00\", \"precipitation\": 0.0, \"temp_max\": 11.7, \"temp_min\": 8.3, \"wind\": 2.7, \"weather\": \"sun\"}, {\"date\": \"2013-10-27T00:00:00\", \"precipitation\": 1.8, \"temp_max\": 13.9, \"temp_min\": 8.3, \"wind\": 4.4, \"weather\": \"fog\"}, {\"date\": \"2013-10-28T00:00:00\", \"precipitation\": 0.0, \"temp_max\": 14.4, \"temp_min\": 7.2, \"wind\": 5.1, \"weather\": \"sun\"}, {\"date\": \"2013-10-29T00:00:00\", \"precipitation\": 0.0, \"temp_max\": 13.3, \"temp_min\": 3.3, \"wind\": 2.2, \"weather\": \"sun\"}, {\"date\": \"2013-10-30T00:00:00\", \"precipitation\": 0.5, \"temp_max\": 15.0, \"temp_min\": 5.6, \"wind\": 3.9, \"weather\": \"sun\"}, {\"date\": \"2013-10-31T00:00:00\", \"precipitation\": 0.3, \"temp_max\": 14.4, \"temp_min\": 10.6, \"wind\": 2.2, \"weather\": \"fog\"}, {\"date\": \"2013-11-01T00:00:00\", \"precipitation\": 1.3, \"temp_max\": 17.8, \"temp_min\": 11.7, \"wind\": 1.4, \"weather\": \"sun\"}, {\"date\": \"2013-11-02T00:00:00\", \"precipitation\": 12.7, \"temp_max\": 14.4, \"temp_min\": 8.3, \"wind\": 7.9, \"weather\": \"fog\"}, {\"date\": \"2013-11-03T00:00:00\", \"precipitation\": 0.5, \"temp_max\": 12.2, \"temp_min\": 4.4, \"wind\": 2.4, \"weather\": \"sun\"}, {\"date\": \"2013-11-04T00:00:00\", \"precipitation\": 0.0, \"temp_max\": 10.6, \"temp_min\": 3.9, \"wind\": 1.6, \"weather\": \"drizzle\"}, {\"date\": \"2013-11-05T00:00:00\", \"precipitation\": 2.5, \"temp_max\": 13.3, \"temp_min\": 7.2, \"wind\": 3.1, \"weather\": \"fog\"}, {\"date\": \"2013-11-06T00:00:00\", \"precipitation\": 3.8, \"temp_max\": 12.8, \"temp_min\": 7.8, \"wind\": 1.7, \"weather\": \"sun\"}, {\"date\": \"2013-11-07T00:00:00\", \"precipitation\": 30.0, \"temp_max\": 11.1, \"temp_min\": 10.0, \"wind\": 7.2, \"weather\": \"fog\"}, {\"date\": \"2013-11-08T00:00:00\", \"precipitation\": 0.0, \"temp_max\": 13.3, \"temp_min\": 7.2, \"wind\": 4.1, \"weather\": \"sun\"}, {\"date\": \"2013-11-09T00:00:00\", \"precipitation\": 1.8, \"temp_max\": 11.1, \"temp_min\": 5.0, \"wind\": 1.4, \"weather\": \"sun\"}, {\"date\": \"2013-11-10T00:00:00\", \"precipitation\": 0.0, \"temp_max\": 11.1, \"temp_min\": 8.3, \"wind\": 4.4, \"weather\": \"sun\"}, {\"date\": \"2013-11-11T00:00:00\", \"precipitation\": 0.0, \"temp_max\": 16.1, \"temp_min\": 6.1, \"wind\": 2.6, \"weather\": \"fog\"}, {\"date\": \"2013-11-12T00:00:00\", \"precipitation\": 4.1, \"temp_max\": 15.6, \"temp_min\": 8.9, \"wind\": 2.2, \"weather\": \"fog\"}, {\"date\": \"2013-11-13T00:00:00\", \"precipitation\": 0.0, \"temp_max\": 13.9, \"temp_min\": 10.6, \"wind\": 3.8, \"weather\": \"sun\"}, {\"date\": \"2013-11-14T00:00:00\", \"precipitation\": 1.3, \"temp_max\": 11.1, \"temp_min\": 6.1, \"wind\": 1.1, \"weather\": \"fog\"}, {\"date\": \"2013-11-15T00:00:00\", \"precipitation\": 3.0, \"temp_max\": 10.6, \"temp_min\": 7.2, \"wind\": 6.0, \"weather\": \"sun\"}, {\"date\": \"2013-11-16T00:00:00\", \"precipitation\": 0.0, \"temp_max\": 10.0, \"temp_min\": 5.0, \"wind\": 4.6, \"weather\": \"sun\"}, {\"date\": \"2013-11-17T00:00:00\", \"precipitation\": 5.3, \"temp_max\": 11.7, \"temp_min\": 7.2, \"wind\": 5.4, \"weather\": \"fog\"}, {\"date\": \"2013-11-18T00:00:00\", \"precipitation\": 26.2, \"temp_max\": 12.8, \"temp_min\": 9.4, \"wind\": 3.9, \"weather\": \"fog\"}, {\"date\": \"2013-11-19T00:00:00\", \"precipitation\": 1.0, \"temp_max\": 13.3, \"temp_min\": 4.4, \"wind\": 5.1, \"weather\": \"fog\"}, {\"date\": \"2013-11-20T00:00:00\", \"precipitation\": 0.0, \"temp_max\": 7.8, \"temp_min\": 1.7, \"wind\": 4.3, \"weather\": \"sun\"}, {\"date\": \"2013-11-21T00:00:00\", \"precipitation\": 0.0, \"temp_max\": 7.8, \"temp_min\": -0.5, \"wind\": 3.6, \"weather\": \"sun\"}, {\"date\": \"2013-11-22T00:00:00\", \"precipitation\": 0.0, \"temp_max\": 9.4, \"temp_min\": 0.0, \"wind\": 4.6, \"weather\": \"sun\"}, {\"date\": \"2013-11-23T00:00:00\", \"precipitation\": 0.0, \"temp_max\": 11.1, \"temp_min\": 1.1, \"wind\": 2.6, \"weather\": \"sun\"}, {\"date\": \"2013-11-24T00:00:00\", \"precipitation\": 0.0, \"temp_max\": 11.7, \"temp_min\": 0.6, \"wind\": 0.9, \"weather\": \"fog\"}, {\"date\": \"2013-11-25T00:00:00\", \"precipitation\": 0.0, \"temp_max\": 12.2, \"temp_min\": 2.2, \"wind\": 0.5, \"weather\": \"sun\"}, {\"date\": \"2013-11-26T00:00:00\", \"precipitation\": 0.0, \"temp_max\": 12.2, \"temp_min\": 2.8, \"wind\": 1.0, \"weather\": \"sun\"}, {\"date\": \"2013-11-27T00:00:00\", \"precipitation\": 0.0, \"temp_max\": 14.4, \"temp_min\": 5.6, \"wind\": 1.3, \"weather\": \"sun\"}, {\"date\": \"2013-11-28T00:00:00\", \"precipitation\": 0.0, \"temp_max\": 11.7, \"temp_min\": 3.3, \"wind\": 0.7, \"weather\": \"sun\"}, {\"date\": \"2013-11-29T00:00:00\", \"precipitation\": 0.5, \"temp_max\": 9.4, \"temp_min\": 5.0, \"wind\": 2.1, \"weather\": \"fog\"}, {\"date\": \"2013-11-30T00:00:00\", \"precipitation\": 2.3, \"temp_max\": 11.1, \"temp_min\": 7.2, \"wind\": 3.9, \"weather\": \"fog\"}, {\"date\": \"2013-12-01T00:00:00\", \"precipitation\": 3.0, \"temp_max\": 13.3, \"temp_min\": 7.8, \"wind\": 8.8, \"weather\": \"fog\"}, {\"date\": \"2013-12-02T00:00:00\", \"precipitation\": 4.6, \"temp_max\": 7.8, \"temp_min\": 1.7, \"wind\": 3.5, \"weather\": \"sun\"}, {\"date\": \"2013-12-03T00:00:00\", \"precipitation\": 0.0, \"temp_max\": 5.0, \"temp_min\": -0.5, \"wind\": 5.6, \"weather\": \"sun\"}, {\"date\": \"2013-12-04T00:00:00\", \"precipitation\": 0.0, \"temp_max\": 4.4, \"temp_min\": -2.1, \"wind\": 1.6, \"weather\": \"sun\"}, {\"date\": \"2013-12-05T00:00:00\", \"precipitation\": 0.0, \"temp_max\": 1.1, \"temp_min\": -4.9, \"wind\": 2.6, \"weather\": \"sun\"}, {\"date\": \"2013-12-06T00:00:00\", \"precipitation\": 0.0, \"temp_max\": 1.1, \"temp_min\": -4.3, \"wind\": 4.7, \"weather\": \"sun\"}, {\"date\": \"2013-12-07T00:00:00\", \"precipitation\": 0.0, \"temp_max\": 0.0, \"temp_min\": -7.1, \"wind\": 3.1, \"weather\": \"sun\"}, {\"date\": \"2013-12-08T00:00:00\", \"precipitation\": 0.0, \"temp_max\": 2.2, \"temp_min\": -6.6, \"wind\": 2.2, \"weather\": \"sun\"}, {\"date\": \"2013-12-09T00:00:00\", \"precipitation\": 0.0, \"temp_max\": 1.1, \"temp_min\": -4.9, \"wind\": 1.3, \"weather\": \"sun\"}, {\"date\": \"2013-12-10T00:00:00\", \"precipitation\": 0.0, \"temp_max\": 5.6, \"temp_min\": 0.6, \"wind\": 1.5, \"weather\": \"sun\"}, {\"date\": \"2013-12-11T00:00:00\", \"precipitation\": 0.0, \"temp_max\": 5.0, \"temp_min\": -1.6, \"wind\": 0.8, \"weather\": \"sun\"}, {\"date\": \"2013-12-12T00:00:00\", \"precipitation\": 6.9, \"temp_max\": 5.6, \"temp_min\": -0.5, \"wind\": 2.3, \"weather\": \"sun\"}, {\"date\": \"2013-12-13T00:00:00\", \"precipitation\": 0.5, \"temp_max\": 9.4, \"temp_min\": 5.6, \"wind\": 2.9, \"weather\": \"fog\"}, {\"date\": \"2013-12-14T00:00:00\", \"precipitation\": 0.0, \"temp_max\": 9.4, \"temp_min\": 6.1, \"wind\": 3.7, \"weather\": \"sun\"}, {\"date\": \"2013-12-15T00:00:00\", \"precipitation\": 1.3, \"temp_max\": 11.7, \"temp_min\": 8.3, \"wind\": 3.9, \"weather\": \"fog\"}, {\"date\": \"2013-12-16T00:00:00\", \"precipitation\": 0.3, \"temp_max\": 10.0, \"temp_min\": 4.4, \"wind\": 1.0, \"weather\": \"sun\"}, {\"date\": \"2013-12-17T00:00:00\", \"precipitation\": 0.0, \"temp_max\": 8.3, \"temp_min\": 4.4, \"wind\": 2.7, \"weather\": \"sun\"}, {\"date\": \"2013-12-18T00:00:00\", \"precipitation\": 1.3, \"temp_max\": 7.8, \"temp_min\": 2.2, \"wind\": 2.8, \"weather\": \"fog\"}, {\"date\": \"2013-12-19T00:00:00\", \"precipitation\": 0.0, \"temp_max\": 5.0, \"temp_min\": 0.0, \"wind\": 2.1, \"weather\": \"sun\"}, {\"date\": \"2013-12-20T00:00:00\", \"precipitation\": 5.6, \"temp_max\": 8.3, \"temp_min\": 0.6, \"wind\": 3.7, \"weather\": \"fog\"}, {\"date\": \"2013-12-21T00:00:00\", \"precipitation\": 5.6, \"temp_max\": 8.9, \"temp_min\": 5.6, \"wind\": 2.3, \"weather\": \"fog\"}, {\"date\": \"2013-12-22T00:00:00\", \"precipitation\": 10.7, \"temp_max\": 10.6, \"temp_min\": 8.3, \"wind\": 4.0, \"weather\": \"fog\"}, {\"date\": \"2013-12-23T00:00:00\", \"precipitation\": 1.5, \"temp_max\": 11.7, \"temp_min\": 6.1, \"wind\": 5.9, \"weather\": \"fog\"}, {\"date\": \"2013-12-24T00:00:00\", \"precipitation\": 0.0, \"temp_max\": 8.3, \"temp_min\": 2.8, \"wind\": 1.7, \"weather\": \"sun\"}, {\"date\": \"2013-12-25T00:00:00\", \"precipitation\": 0.0, \"temp_max\": 6.7, \"temp_min\": 1.7, \"wind\": 0.8, \"weather\": \"sun\"}, {\"date\": \"2013-12-26T00:00:00\", \"precipitation\": 0.0, \"temp_max\": 6.7, \"temp_min\": 0.6, \"wind\": 0.5, \"weather\": \"sun\"}, {\"date\": \"2013-12-27T00:00:00\", \"precipitation\": 0.3, \"temp_max\": 8.9, \"temp_min\": 0.0, \"wind\": 2.1, \"weather\": \"fog\"}, {\"date\": \"2013-12-28T00:00:00\", \"precipitation\": 0.0, \"temp_max\": 9.4, \"temp_min\": 3.3, \"wind\": 1.3, \"weather\": \"sun\"}, {\"date\": \"2013-12-29T00:00:00\", \"precipitation\": 0.0, \"temp_max\": 7.2, \"temp_min\": 1.7, \"wind\": 1.1, \"weather\": \"sun\"}, {\"date\": \"2013-12-30T00:00:00\", \"precipitation\": 0.3, \"temp_max\": 8.9, \"temp_min\": 4.4, \"wind\": 2.6, \"weather\": \"sun\"}, {\"date\": \"2013-12-31T00:00:00\", \"precipitation\": 0.5, \"temp_max\": 8.3, \"temp_min\": 5.0, \"wind\": 1.7, \"weather\": \"sun\"}, {\"date\": \"2014-01-01T00:00:00\", \"precipitation\": 0.0, \"temp_max\": 7.2, \"temp_min\": 3.3, \"wind\": 1.2, \"weather\": \"sun\"}, {\"date\": \"2014-01-02T00:00:00\", \"precipitation\": 4.1, \"temp_max\": 10.6, \"temp_min\": 6.1, \"wind\": 3.2, \"weather\": \"sun\"}, {\"date\": \"2014-01-03T00:00:00\", \"precipitation\": 1.5, \"temp_max\": 8.9, \"temp_min\": 2.8, \"wind\": 2.6, \"weather\": \"fog\"}, {\"date\": \"2014-01-04T00:00:00\", \"precipitation\": 0.0, \"temp_max\": 7.8, \"temp_min\": 0.6, \"wind\": 2.7, \"weather\": \"fog\"}, {\"date\": \"2014-01-05T00:00:00\", \"precipitation\": 0.0, \"temp_max\": 8.3, \"temp_min\": -0.5, \"wind\": 3.7, \"weather\": \"sun\"}, {\"date\": \"2014-01-06T00:00:00\", \"precipitation\": 0.3, \"temp_max\": 7.8, \"temp_min\": -0.5, \"wind\": 2.6, \"weather\": \"fog\"}, {\"date\": \"2014-01-07T00:00:00\", \"precipitation\": 12.2, \"temp_max\": 8.3, \"temp_min\": 5.0, \"wind\": 1.6, \"weather\": \"sun\"}, {\"date\": \"2014-01-08T00:00:00\", \"precipitation\": 9.7, \"temp_max\": 10.0, \"temp_min\": 7.2, \"wind\": 4.6, \"weather\": \"fog\"}, {\"date\": \"2014-01-09T00:00:00\", \"precipitation\": 5.8, \"temp_max\": 9.4, \"temp_min\": 5.6, \"wind\": 6.3, \"weather\": \"fog\"}, {\"date\": \"2014-01-10T00:00:00\", \"precipitation\": 4.3, \"temp_max\": 12.8, \"temp_min\": 8.3, \"wind\": 7.0, \"weather\": \"sun\"}, {\"date\": \"2014-01-11T00:00:00\", \"precipitation\": 21.3, \"temp_max\": 14.4, \"temp_min\": 7.2, \"wind\": 8.8, \"weather\": \"fog\"}, {\"date\": \"2014-01-12T00:00:00\", \"precipitation\": 1.5, \"temp_max\": 11.1, \"temp_min\": 5.6, \"wind\": 8.1, \"weather\": \"fog\"}, {\"date\": \"2014-01-13T00:00:00\", \"precipitation\": 0.0, \"temp_max\": 10.6, \"temp_min\": 10.0, \"wind\": 7.1, \"weather\": \"sun\"}, {\"date\": \"2014-01-14T00:00:00\", \"precipitation\": 0.0, \"temp_max\": 11.1, \"temp_min\": 7.2, \"wind\": 1.3, \"weather\": \"sun\"}, {\"date\": \"2014-01-15T00:00:00\", \"precipitation\": 0.0, \"temp_max\": 11.1, \"temp_min\": 5.6, \"wind\": 2.5, \"weather\": \"sun\"}, {\"date\": \"2014-01-16T00:00:00\", \"precipitation\": 0.0, \"temp_max\": 6.7, \"temp_min\": 4.4, \"wind\": 2.7, \"weather\": \"sun\"}, {\"date\": \"2014-01-17T00:00:00\", \"precipitation\": 0.0, \"temp_max\": 5.6, \"temp_min\": 2.8, \"wind\": 2.3, \"weather\": \"sun\"}, {\"date\": \"2014-01-18T00:00:00\", \"precipitation\": 0.0, \"temp_max\": 9.4, \"temp_min\": 0.6, \"wind\": 2.2, \"weather\": \"sun\"}, {\"date\": \"2014-01-19T00:00:00\", \"precipitation\": 0.0, \"temp_max\": 6.1, \"temp_min\": 3.3, \"wind\": 2.5, \"weather\": \"sun\"}, {\"date\": \"2014-01-20T00:00:00\", \"precipitation\": 0.0, \"temp_max\": 10.0, \"temp_min\": 2.8, \"wind\": 2.2, \"weather\": \"sun\"}, {\"date\": \"2014-01-21T00:00:00\", \"precipitation\": 0.0, \"temp_max\": 10.0, \"temp_min\": 1.7, \"wind\": 1.5, \"weather\": \"sun\"}, {\"date\": \"2014-01-22T00:00:00\", \"precipitation\": 0.5, \"temp_max\": 9.4, \"temp_min\": 5.6, \"wind\": 2.6, \"weather\": \"sun\"}, {\"date\": \"2014-01-23T00:00:00\", \"precipitation\": 0.0, \"temp_max\": 10.0, \"temp_min\": 2.8, \"wind\": 5.2, \"weather\": \"fog\"}, {\"date\": \"2014-01-24T00:00:00\", \"precipitation\": 0.0, \"temp_max\": 12.8, \"temp_min\": 1.1, \"wind\": 1.9, \"weather\": \"sun\"}, {\"date\": \"2014-01-25T00:00:00\", \"precipitation\": 0.0, \"temp_max\": 12.2, \"temp_min\": 1.1, \"wind\": 0.8, \"weather\": \"sun\"}, {\"date\": \"2014-01-26T00:00:00\", \"precipitation\": 0.0, \"temp_max\": 8.3, \"temp_min\": 0.6, \"wind\": 1.3, \"weather\": \"sun\"}, {\"date\": \"2014-01-27T00:00:00\", \"precipitation\": 0.0, \"temp_max\": 9.4, \"temp_min\": 1.7, \"wind\": 1.3, \"weather\": \"sun\"}, {\"date\": \"2014-01-28T00:00:00\", \"precipitation\": 8.9, \"temp_max\": 11.1, \"temp_min\": 6.1, \"wind\": 1.6, \"weather\": \"fog\"}, {\"date\": \"2014-01-29T00:00:00\", \"precipitation\": 21.6, \"temp_max\": 11.1, \"temp_min\": 7.2, \"wind\": 3.4, \"weather\": \"fog\"}, {\"date\": \"2014-01-30T00:00:00\", \"precipitation\": 0.0, \"temp_max\": 8.3, \"temp_min\": 6.1, \"wind\": 6.4, \"weather\": \"sun\"}, {\"date\": \"2014-01-31T00:00:00\", \"precipitation\": 2.3, \"temp_max\": 7.8, \"temp_min\": 5.6, \"wind\": 2.6, \"weather\": \"fog\"}, {\"date\": \"2014-02-01T00:00:00\", \"precipitation\": 2.0, \"temp_max\": 7.8, \"temp_min\": 2.8, \"wind\": 0.8, \"weather\": \"sun\"}, {\"date\": \"2014-02-02T00:00:00\", \"precipitation\": 0.0, \"temp_max\": 8.9, \"temp_min\": 1.1, \"wind\": 2.5, \"weather\": \"sun\"}, {\"date\": \"2014-02-03T00:00:00\", \"precipitation\": 0.0, \"temp_max\": 5.0, \"temp_min\": 0.0, \"wind\": 4.3, \"weather\": \"sun\"}, {\"date\": \"2014-02-04T00:00:00\", \"precipitation\": 0.0, \"temp_max\": 2.8, \"temp_min\": -2.1, \"wind\": 4.7, \"weather\": \"sun\"}, {\"date\": \"2014-02-05T00:00:00\", \"precipitation\": 0.0, \"temp_max\": -0.5, \"temp_min\": -5.5, \"wind\": 6.6, \"weather\": \"sun\"}, {\"date\": \"2014-02-06T00:00:00\", \"precipitation\": 0.0, \"temp_max\": -1.6, \"temp_min\": -6.0, \"wind\": 4.5, \"weather\": \"sun\"}, {\"date\": \"2014-02-07T00:00:00\", \"precipitation\": 0.0, \"temp_max\": 3.3, \"temp_min\": -4.9, \"wind\": 4.2, \"weather\": \"sun\"}, {\"date\": \"2014-02-08T00:00:00\", \"precipitation\": 5.1, \"temp_max\": 5.6, \"temp_min\": -0.5, \"wind\": 4.6, \"weather\": \"fog\"}, {\"date\": \"2014-02-09T00:00:00\", \"precipitation\": 0.5, \"temp_max\": 3.9, \"temp_min\": 0.0, \"wind\": 2.4, \"weather\": \"fog\"}, {\"date\": \"2014-02-10T00:00:00\", \"precipitation\": 18.3, \"temp_max\": 10.0, \"temp_min\": 2.2, \"wind\": 4.7, \"weather\": \"fog\"}, {\"date\": \"2014-02-11T00:00:00\", \"precipitation\": 17.0, \"temp_max\": 12.2, \"temp_min\": 5.6, \"wind\": 3.8, \"weather\": \"fog\"}, {\"date\": \"2014-02-12T00:00:00\", \"precipitation\": 4.6, \"temp_max\": 12.2, \"temp_min\": 7.2, \"wind\": 6.4, \"weather\": \"fog\"}, {\"date\": \"2014-02-13T00:00:00\", \"precipitation\": 1.8, \"temp_max\": 12.8, \"temp_min\": 7.8, \"wind\": 6.3, \"weather\": \"fog\"}, {\"date\": \"2014-02-14T00:00:00\", \"precipitation\": 9.4, \"temp_max\": 11.7, \"temp_min\": 6.1, \"wind\": 6.4, \"weather\": \"fog\"}, {\"date\": \"2014-02-15T00:00:00\", \"precipitation\": 11.7, \"temp_max\": 11.1, \"temp_min\": 5.0, \"wind\": 5.1, \"weather\": \"fog\"}, {\"date\": \"2014-02-16T00:00:00\", \"precipitation\": 26.4, \"temp_max\": 9.4, \"temp_min\": 3.9, \"wind\": 7.9, \"weather\": \"fog\"}, {\"date\": \"2014-02-17T00:00:00\", \"precipitation\": 14.5, \"temp_max\": 8.3, \"temp_min\": 4.4, \"wind\": 5.5, \"weather\": \"fog\"}, {\"date\": \"2014-02-18T00:00:00\", \"precipitation\": 15.2, \"temp_max\": 8.9, \"temp_min\": 5.0, \"wind\": 6.2, \"weather\": \"fog\"}, {\"date\": \"2014-02-19T00:00:00\", \"precipitation\": 1.0, \"temp_max\": 8.3, \"temp_min\": 3.9, \"wind\": 6.0, \"weather\": \"sun\"}, {\"date\": \"2014-02-20T00:00:00\", \"precipitation\": 3.0, \"temp_max\": 10.0, \"temp_min\": 5.6, \"wind\": 6.9, \"weather\": \"fog\"}, {\"date\": \"2014-02-21T00:00:00\", \"precipitation\": 2.8, \"temp_max\": 6.7, \"temp_min\": 3.9, \"wind\": 2.9, \"weather\": \"fog\"}, {\"date\": \"2014-02-22T00:00:00\", \"precipitation\": 2.5, \"temp_max\": 5.6, \"temp_min\": 2.8, \"wind\": 3.1, \"weather\": \"fog\"}, {\"date\": \"2014-02-23T00:00:00\", \"precipitation\": 6.1, \"temp_max\": 7.2, \"temp_min\": 3.9, \"wind\": 2.6, \"weather\": \"fog\"}, {\"date\": \"2014-02-24T00:00:00\", \"precipitation\": 13.0, \"temp_max\": 6.7, \"temp_min\": 3.3, \"wind\": 3.2, \"weather\": \"fog\"}, {\"date\": \"2014-02-25T00:00:00\", \"precipitation\": 0.3, \"temp_max\": 12.2, \"temp_min\": 3.9, \"wind\": 4.5, \"weather\": \"fog\"}, {\"date\": \"2014-02-26T00:00:00\", \"precipitation\": 0.0, \"temp_max\": 13.9, \"temp_min\": 5.6, \"wind\": 2.5, \"weather\": \"sun\"}, {\"date\": \"2014-02-27T00:00:00\", \"precipitation\": 0.0, \"temp_max\": 12.8, \"temp_min\": 4.4, \"wind\": 2.3, \"weather\": \"sun\"}, {\"date\": \"2014-02-28T00:00:00\", \"precipitation\": 0.0, \"temp_max\": 14.4, \"temp_min\": 4.4, \"wind\": 5.9, \"weather\": \"sun\"}, {\"date\": \"2014-03-01T00:00:00\", \"precipitation\": 0.5, \"temp_max\": 7.2, \"temp_min\": 4.4, \"wind\": 4.7, \"weather\": \"sun\"}, {\"date\": \"2014-03-02T00:00:00\", \"precipitation\": 19.1, \"temp_max\": 11.1, \"temp_min\": 2.8, \"wind\": 5.7, \"weather\": \"fog\"}, {\"date\": \"2014-03-03T00:00:00\", \"precipitation\": 10.7, \"temp_max\": 14.4, \"temp_min\": 8.9, \"wind\": 5.1, \"weather\": \"fog\"}, {\"date\": \"2014-03-04T00:00:00\", \"precipitation\": 16.5, \"temp_max\": 13.9, \"temp_min\": 7.8, \"wind\": 3.9, \"weather\": \"fog\"}, {\"date\": \"2014-03-05T00:00:00\", \"precipitation\": 46.7, \"temp_max\": 15.6, \"temp_min\": 10.6, \"wind\": 3.9, \"weather\": \"fog\"}, {\"date\": \"2014-03-06T00:00:00\", \"precipitation\": 3.0, \"temp_max\": 13.3, \"temp_min\": 10.0, \"wind\": 6.2, \"weather\": \"fog\"}, {\"date\": \"2014-03-07T00:00:00\", \"precipitation\": 0.0, \"temp_max\": 15.6, \"temp_min\": 8.9, \"wind\": 4.2, \"weather\": \"sun\"}, {\"date\": \"2014-03-08T00:00:00\", \"precipitation\": 32.3, \"temp_max\": 12.8, \"temp_min\": 6.7, \"wind\": 2.7, \"weather\": \"fog\"}, {\"date\": \"2014-03-09T00:00:00\", \"precipitation\": 4.3, \"temp_max\": 15.0, \"temp_min\": 9.4, \"wind\": 4.3, \"weather\": \"fog\"}, {\"date\": \"2014-03-10T00:00:00\", \"precipitation\": 18.8, \"temp_max\": 12.2, \"temp_min\": 6.1, \"wind\": 2.2, \"weather\": \"fog\"}, {\"date\": \"2014-03-11T00:00:00\", \"precipitation\": 0.0, \"temp_max\": 14.4, \"temp_min\": 4.4, \"wind\": 2.3, \"weather\": \"fog\"}, {\"date\": \"2014-03-12T00:00:00\", \"precipitation\": 0.0, \"temp_max\": 16.1, \"temp_min\": 3.3, \"wind\": 1.9, \"weather\": \"fog\"}, {\"date\": \"2014-03-13T00:00:00\", \"precipitation\": 0.5, \"temp_max\": 13.9, \"temp_min\": 5.0, \"wind\": 2.5, \"weather\": \"fog\"}, {\"date\": \"2014-03-14T00:00:00\", \"precipitation\": 6.9, \"temp_max\": 14.4, \"temp_min\": 8.3, \"wind\": 6.1, \"weather\": \"fog\"}, {\"date\": \"2014-03-15T00:00:00\", \"precipitation\": 8.1, \"temp_max\": 16.7, \"temp_min\": 4.4, \"wind\": 3.0, \"weather\": \"fog\"}, {\"date\": \"2014-03-16T00:00:00\", \"precipitation\": 27.7, \"temp_max\": 10.6, \"temp_min\": 4.4, \"wind\": 3.8, \"weather\": \"fog\"}, {\"date\": \"2014-03-17T00:00:00\", \"precipitation\": 0.3, \"temp_max\": 10.0, \"temp_min\": 2.8, \"wind\": 3.2, \"weather\": \"fog\"}, {\"date\": \"2014-03-18T00:00:00\", \"precipitation\": 0.0, \"temp_max\": 10.0, \"temp_min\": 3.3, \"wind\": 1.6, \"weather\": \"sun\"}, {\"date\": \"2014-03-19T00:00:00\", \"precipitation\": 0.5, \"temp_max\": 11.1, \"temp_min\": 3.3, \"wind\": 5.1, \"weather\": \"sun\"}, {\"date\": \"2014-03-20T00:00:00\", \"precipitation\": 0.0, \"temp_max\": 11.1, \"temp_min\": 1.7, \"wind\": 3.0, \"weather\": \"sun\"}, {\"date\": \"2014-03-21T00:00:00\", \"precipitation\": 0.0, \"temp_max\": 10.6, \"temp_min\": 2.8, \"wind\": 3.8, \"weather\": \"sun\"}, {\"date\": \"2014-03-22T00:00:00\", \"precipitation\": 0.0, \"temp_max\": 11.1, \"temp_min\": 1.1, \"wind\": 1.8, \"weather\": \"sun\"}, {\"date\": \"2014-03-23T00:00:00\", \"precipitation\": 0.0, \"temp_max\": 12.8, \"temp_min\": 4.4, \"wind\": 3.3, \"weather\": \"sun\"}, {\"date\": \"2014-03-24T00:00:00\", \"precipitation\": 0.0, \"temp_max\": 18.9, \"temp_min\": 2.8, \"wind\": 2.2, \"weather\": \"sun\"}, {\"date\": \"2014-03-25T00:00:00\", \"precipitation\": 4.1, \"temp_max\": 13.9, \"temp_min\": 6.7, \"wind\": 4.4, \"weather\": \"fog\"}, {\"date\": \"2014-03-26T00:00:00\", \"precipitation\": 3.6, \"temp_max\": 11.1, \"temp_min\": 5.6, \"wind\": 2.4, \"weather\": \"fog\"}, {\"date\": \"2014-03-27T00:00:00\", \"precipitation\": 0.3, \"temp_max\": 12.2, \"temp_min\": 6.7, \"wind\": 2.8, \"weather\": \"fog\"}, {\"date\": \"2014-03-28T00:00:00\", \"precipitation\": 22.1, \"temp_max\": 11.7, \"temp_min\": 7.2, \"wind\": 3.9, \"weather\": \"fog\"}, {\"date\": \"2014-03-29T00:00:00\", \"precipitation\": 14.0, \"temp_max\": 11.7, \"temp_min\": 7.2, \"wind\": 5.1, \"weather\": \"fog\"}, {\"date\": \"2014-03-30T00:00:00\", \"precipitation\": 0.0, \"temp_max\": 11.1, \"temp_min\": 5.0, \"wind\": 5.1, \"weather\": \"sun\"}, {\"date\": \"2014-03-31T00:00:00\", \"precipitation\": 0.0, \"temp_max\": 15.6, \"temp_min\": 2.2, \"wind\": 3.8, \"weather\": \"sun\"}, {\"date\": \"2014-04-01T00:00:00\", \"precipitation\": 0.0, \"temp_max\": 14.4, \"temp_min\": 6.7, \"wind\": 2.8, \"weather\": \"sun\"}, {\"date\": \"2014-04-02T00:00:00\", \"precipitation\": 0.0, \"temp_max\": 14.4, \"temp_min\": 5.6, \"wind\": 4.2, \"weather\": \"sun\"}, {\"date\": \"2014-04-03T00:00:00\", \"precipitation\": 2.5, \"temp_max\": 13.3, \"temp_min\": 6.1, \"wind\": 3.9, \"weather\": \"sun\"}, {\"date\": \"2014-04-04T00:00:00\", \"precipitation\": 0.0, \"temp_max\": 12.8, \"temp_min\": 6.1, \"wind\": 4.7, \"weather\": \"sun\"}, {\"date\": \"2014-04-05T00:00:00\", \"precipitation\": 4.6, \"temp_max\": 11.7, \"temp_min\": 7.8, \"wind\": 4.3, \"weather\": \"fog\"}, {\"date\": \"2014-04-06T00:00:00\", \"precipitation\": 0.0, \"temp_max\": 13.9, \"temp_min\": 8.3, \"wind\": 2.6, \"weather\": \"sun\"}, {\"date\": \"2014-04-07T00:00:00\", \"precipitation\": 0.0, \"temp_max\": 21.1, \"temp_min\": 9.4, \"wind\": 2.5, \"weather\": \"sun\"}, {\"date\": \"2014-04-08T00:00:00\", \"precipitation\": 4.6, \"temp_max\": 15.6, \"temp_min\": 8.3, \"wind\": 4.2, \"weather\": \"fog\"}, {\"date\": \"2014-04-09T00:00:00\", \"precipitation\": 0.0, \"temp_max\": 14.4, \"temp_min\": 6.7, \"wind\": 2.9, \"weather\": \"sun\"}, {\"date\": \"2014-04-10T00:00:00\", \"precipitation\": 0.0, \"temp_max\": 15.0, \"temp_min\": 6.7, \"wind\": 3.6, \"weather\": \"sun\"}, {\"date\": \"2014-04-11T00:00:00\", \"precipitation\": 0.0, \"temp_max\": 17.2, \"temp_min\": 5.0, \"wind\": 2.8, \"weather\": \"sun\"}, {\"date\": \"2014-04-12T00:00:00\", \"precipitation\": 0.0, \"temp_max\": 16.1, \"temp_min\": 7.8, \"wind\": 4.4, \"weather\": \"sun\"}, {\"date\": \"2014-04-13T00:00:00\", \"precipitation\": 0.0, \"temp_max\": 20.6, \"temp_min\": 5.6, \"wind\": 3.1, \"weather\": \"sun\"}, {\"date\": \"2014-04-14T00:00:00\", \"precipitation\": 0.0, \"temp_max\": 20.0, \"temp_min\": 5.6, \"wind\": 2.6, \"weather\": \"sun\"}, {\"date\": \"2014-04-15T00:00:00\", \"precipitation\": 0.5, \"temp_max\": 14.4, \"temp_min\": 7.8, \"wind\": 4.0, \"weather\": \"sun\"}, {\"date\": \"2014-04-16T00:00:00\", \"precipitation\": 10.9, \"temp_max\": 11.1, \"temp_min\": 8.9, \"wind\": 4.6, \"weather\": \"fog\"}, {\"date\": \"2014-04-17T00:00:00\", \"precipitation\": 18.5, \"temp_max\": 11.7, \"temp_min\": 7.2, \"wind\": 4.7, \"weather\": \"fog\"}, {\"date\": \"2014-04-18T00:00:00\", \"precipitation\": 0.0, \"temp_max\": 14.4, \"temp_min\": 5.6, \"wind\": 3.8, \"weather\": \"sun\"}, {\"date\": \"2014-04-19T00:00:00\", \"precipitation\": 13.7, \"temp_max\": 11.7, \"temp_min\": 5.6, \"wind\": 4.7, \"weather\": \"fog\"}, {\"date\": \"2014-04-20T00:00:00\", \"precipitation\": 0.0, \"temp_max\": 15.6, \"temp_min\": 5.6, \"wind\": 2.7, \"weather\": \"sun\"}, {\"date\": \"2014-04-21T00:00:00\", \"precipitation\": 5.1, \"temp_max\": 17.2, \"temp_min\": 7.8, \"wind\": 2.5, \"weather\": \"fog\"}, {\"date\": \"2014-04-22T00:00:00\", \"precipitation\": 14.2, \"temp_max\": 12.2, \"temp_min\": 5.0, \"wind\": 4.2, \"weather\": \"fog\"}, {\"date\": \"2014-04-23T00:00:00\", \"precipitation\": 8.9, \"temp_max\": 11.7, \"temp_min\": 6.1, \"wind\": 5.0, \"weather\": \"fog\"}, {\"date\": \"2014-04-24T00:00:00\", \"precipitation\": 12.4, \"temp_max\": 13.9, \"temp_min\": 6.1, \"wind\": 5.3, \"weather\": \"fog\"}, {\"date\": \"2014-04-25T00:00:00\", \"precipitation\": 0.0, \"temp_max\": 14.4, \"temp_min\": 5.6, \"wind\": 2.3, \"weather\": \"sun\"}, {\"date\": \"2014-04-26T00:00:00\", \"precipitation\": 3.3, \"temp_max\": 15.0, \"temp_min\": 5.6, \"wind\": 3.9, \"weather\": \"sun\"}, {\"date\": \"2014-04-27T00:00:00\", \"precipitation\": 6.9, \"temp_max\": 11.1, \"temp_min\": 6.1, \"wind\": 5.8, \"weather\": \"fog\"}, {\"date\": \"2014-04-28T00:00:00\", \"precipitation\": 0.0, \"temp_max\": 16.1, \"temp_min\": 4.4, \"wind\": 2.6, \"weather\": \"sun\"}, {\"date\": \"2014-04-29T00:00:00\", \"precipitation\": 0.0, \"temp_max\": 25.0, \"temp_min\": 9.4, \"wind\": 2.3, \"weather\": \"sun\"}, {\"date\": \"2014-04-30T00:00:00\", \"precipitation\": 0.0, \"temp_max\": 27.8, \"temp_min\": 9.4, \"wind\": 3.9, \"weather\": \"sun\"}, {\"date\": \"2014-05-01T00:00:00\", \"precipitation\": 0.0, \"temp_max\": 29.4, \"temp_min\": 11.1, \"wind\": 3.0, \"weather\": \"sun\"}, {\"date\": \"2014-05-02T00:00:00\", \"precipitation\": 0.0, \"temp_max\": 18.3, \"temp_min\": 10.6, \"wind\": 4.7, \"weather\": \"sun\"}, {\"date\": \"2014-05-03T00:00:00\", \"precipitation\": 33.3, \"temp_max\": 15.0, \"temp_min\": 8.9, \"wind\": 3.4, \"weather\": \"fog\"}, {\"date\": \"2014-05-04T00:00:00\", \"precipitation\": 16.0, \"temp_max\": 14.4, \"temp_min\": 8.9, \"wind\": 4.2, \"weather\": \"fog\"}, {\"date\": \"2014-05-05T00:00:00\", \"precipitation\": 5.1, \"temp_max\": 15.6, \"temp_min\": 9.4, \"wind\": 3.8, \"weather\": \"fog\"}, {\"date\": \"2014-05-06T00:00:00\", \"precipitation\": 0.0, \"temp_max\": 16.7, \"temp_min\": 8.3, \"wind\": 2.6, \"weather\": \"sun\"}, {\"date\": \"2014-05-07T00:00:00\", \"precipitation\": 0.0, \"temp_max\": 18.3, \"temp_min\": 7.2, \"wind\": 1.7, \"weather\": \"sun\"}, {\"date\": \"2014-05-08T00:00:00\", \"precipitation\": 13.7, \"temp_max\": 13.9, \"temp_min\": 9.4, \"wind\": 3.4, \"weather\": \"fog\"}, {\"date\": \"2014-05-09T00:00:00\", \"precipitation\": 2.0, \"temp_max\": 13.3, \"temp_min\": 7.2, \"wind\": 5.6, \"weather\": \"sun\"}, {\"date\": \"2014-05-10T00:00:00\", \"precipitation\": 0.5, \"temp_max\": 15.6, \"temp_min\": 7.2, \"wind\": 2.1, \"weather\": \"fog\"}, {\"date\": \"2014-05-11T00:00:00\", \"precipitation\": 0.0, \"temp_max\": 18.9, \"temp_min\": 8.3, \"wind\": 1.7, \"weather\": \"sun\"}, {\"date\": \"2014-05-12T00:00:00\", \"precipitation\": 0.0, \"temp_max\": 24.4, \"temp_min\": 9.4, \"wind\": 2.7, \"weather\": \"sun\"}, {\"date\": \"2014-05-13T00:00:00\", \"precipitation\": 0.0, \"temp_max\": 26.7, \"temp_min\": 12.8, \"wind\": 3.8, \"weather\": \"sun\"}, {\"date\": \"2014-05-14T00:00:00\", \"precipitation\": 0.0, \"temp_max\": 27.8, \"temp_min\": 13.3, \"wind\": 3.3, \"weather\": \"sun\"}, {\"date\": \"2014-05-15T00:00:00\", \"precipitation\": 0.0, \"temp_max\": 26.7, \"temp_min\": 12.8, \"wind\": 3.0, \"weather\": \"sun\"}, {\"date\": \"2014-05-16T00:00:00\", \"precipitation\": 0.0, \"temp_max\": 20.0, \"temp_min\": 11.7, \"wind\": 4.1, \"weather\": \"sun\"}, {\"date\": \"2014-05-17T00:00:00\", \"precipitation\": 0.0, \"temp_max\": 20.0, \"temp_min\": 11.7, \"wind\": 3.2, \"weather\": \"sun\"}, {\"date\": \"2014-05-18T00:00:00\", \"precipitation\": 0.0, \"temp_max\": 20.0, \"temp_min\": 10.6, \"wind\": 3.2, \"weather\": \"sun\"}, {\"date\": \"2014-05-19T00:00:00\", \"precipitation\": 0.0, \"temp_max\": 21.1, \"temp_min\": 10.0, \"wind\": 2.2, \"weather\": \"sun\"}, {\"date\": \"2014-05-20T00:00:00\", \"precipitation\": 0.0, \"temp_max\": 22.2, \"temp_min\": 10.0, \"wind\": 2.7, \"weather\": \"sun\"}, {\"date\": \"2014-05-21T00:00:00\", \"precipitation\": 0.0, \"temp_max\": 20.0, \"temp_min\": 10.6, \"wind\": 1.7, \"weather\": \"sun\"}, {\"date\": \"2014-05-22T00:00:00\", \"precipitation\": 0.0, \"temp_max\": 24.4, \"temp_min\": 11.7, \"wind\": 2.5, \"weather\": \"sun\"}, {\"date\": \"2014-05-23T00:00:00\", \"precipitation\": 3.8, \"temp_max\": 20.0, \"temp_min\": 12.8, \"wind\": 4.0, \"weather\": \"fog\"}, {\"date\": \"2014-05-24T00:00:00\", \"precipitation\": 0.0, \"temp_max\": 18.3, \"temp_min\": 11.1, \"wind\": 2.4, \"weather\": \"sun\"}, {\"date\": \"2014-05-25T00:00:00\", \"precipitation\": 5.6, \"temp_max\": 15.0, \"temp_min\": 10.6, \"wind\": 1.4, \"weather\": \"fog\"}, {\"date\": \"2014-05-26T00:00:00\", \"precipitation\": 0.0, \"temp_max\": 18.3, \"temp_min\": 11.1, \"wind\": 4.5, \"weather\": \"sun\"}, {\"date\": \"2014-05-27T00:00:00\", \"precipitation\": 0.0, \"temp_max\": 20.0, \"temp_min\": 10.0, \"wind\": 2.5, \"weather\": \"sun\"}, {\"date\": \"2014-05-28T00:00:00\", \"precipitation\": 0.0, \"temp_max\": 18.9, \"temp_min\": 10.0, \"wind\": 3.4, \"weather\": \"sun\"}, {\"date\": \"2014-05-29T00:00:00\", \"precipitation\": 0.0, \"temp_max\": 18.9, \"temp_min\": 11.1, \"wind\": 4.3, \"weather\": \"sun\"}, {\"date\": \"2014-05-30T00:00:00\", \"precipitation\": 0.0, \"temp_max\": 20.6, \"temp_min\": 8.9, \"wind\": 4.5, \"weather\": \"sun\"}, {\"date\": \"2014-05-31T00:00:00\", \"precipitation\": 0.0, \"temp_max\": 23.3, \"temp_min\": 10.0, \"wind\": 2.2, \"weather\": \"sun\"}, {\"date\": \"2014-06-01T00:00:00\", \"precipitation\": 0.0, \"temp_max\": 22.2, \"temp_min\": 10.6, \"wind\": 2.3, \"weather\": \"sun\"}, {\"date\": \"2014-06-02T00:00:00\", \"precipitation\": 0.0, \"temp_max\": 23.3, \"temp_min\": 11.1, \"wind\": 2.4, \"weather\": \"sun\"}, {\"date\": \"2014-06-03T00:00:00\", \"precipitation\": 0.0, \"temp_max\": 18.3, \"temp_min\": 11.1, \"wind\": 3.2, \"weather\": \"sun\"}, {\"date\": \"2014-06-04T00:00:00\", \"precipitation\": 0.0, \"temp_max\": 19.4, \"temp_min\": 10.0, \"wind\": 2.6, \"weather\": \"sun\"}, {\"date\": \"2014-06-05T00:00:00\", \"precipitation\": 0.0, \"temp_max\": 22.2, \"temp_min\": 10.0, \"wind\": 2.4, \"weather\": \"sun\"}, {\"date\": \"2014-06-06T00:00:00\", \"precipitation\": 0.0, \"temp_max\": 25.0, \"temp_min\": 10.6, \"wind\": 3.2, \"weather\": \"sun\"}, {\"date\": \"2014-06-07T00:00:00\", \"precipitation\": 0.0, \"temp_max\": 24.4, \"temp_min\": 13.3, \"wind\": 3.1, \"weather\": \"sun\"}, {\"date\": \"2014-06-08T00:00:00\", \"precipitation\": 0.0, \"temp_max\": 23.3, \"temp_min\": 12.2, \"wind\": 2.1, \"weather\": \"sun\"}, {\"date\": \"2014-06-09T00:00:00\", \"precipitation\": 0.0, \"temp_max\": 21.1, \"temp_min\": 13.3, \"wind\": 3.6, \"weather\": \"sun\"}, {\"date\": \"2014-06-10T00:00:00\", \"precipitation\": 0.0, \"temp_max\": 20.0, \"temp_min\": 12.2, \"wind\": 2.9, \"weather\": \"sun\"}, {\"date\": \"2014-06-11T00:00:00\", \"precipitation\": 0.0, \"temp_max\": 23.9, \"temp_min\": 11.1, \"wind\": 2.7, \"weather\": \"sun\"}, {\"date\": \"2014-06-12T00:00:00\", \"precipitation\": 1.8, \"temp_max\": 21.7, \"temp_min\": 12.2, \"wind\": 4.0, \"weather\": \"sun\"}, {\"date\": \"2014-06-13T00:00:00\", \"precipitation\": 6.4, \"temp_max\": 15.6, \"temp_min\": 11.1, \"wind\": 5.0, \"weather\": \"fog\"}, {\"date\": \"2014-06-14T00:00:00\", \"precipitation\": 0.0, \"temp_max\": 17.8, \"temp_min\": 11.7, \"wind\": 3.2, \"weather\": \"sun\"}, {\"date\": \"2014-06-15T00:00:00\", \"precipitation\": 0.5, \"temp_max\": 18.3, \"temp_min\": 10.0, \"wind\": 3.6, \"weather\": \"fog\"}, {\"date\": \"2014-06-16T00:00:00\", \"precipitation\": 3.6, \"temp_max\": 17.8, \"temp_min\": 8.9, \"wind\": 2.4, \"weather\": \"fog\"}, {\"date\": \"2014-06-17T00:00:00\", \"precipitation\": 1.3, \"temp_max\": 17.8, \"temp_min\": 10.0, \"wind\": 3.0, \"weather\": \"fog\"}, {\"date\": \"2014-06-18T00:00:00\", \"precipitation\": 0.0, \"temp_max\": 18.9, \"temp_min\": 11.1, \"wind\": 2.7, \"weather\": \"sun\"}, {\"date\": \"2014-06-19T00:00:00\", \"precipitation\": 0.8, \"temp_max\": 25.6, \"temp_min\": 11.7, \"wind\": 3.7, \"weather\": \"sun\"}, {\"date\": \"2014-06-20T00:00:00\", \"precipitation\": 0.3, \"temp_max\": 20.0, \"temp_min\": 10.0, \"wind\": 3.4, \"weather\": \"sun\"}, {\"date\": \"2014-06-21T00:00:00\", \"precipitation\": 0.0, \"temp_max\": 22.2, \"temp_min\": 10.6, \"wind\": 3.6, \"weather\": \"sun\"}, {\"date\": \"2014-06-22T00:00:00\", \"precipitation\": 0.0, \"temp_max\": 25.0, \"temp_min\": 11.1, \"wind\": 2.7, \"weather\": \"sun\"}, {\"date\": \"2014-06-23T00:00:00\", \"precipitation\": 0.0, \"temp_max\": 25.0, \"temp_min\": 13.3, \"wind\": 2.5, \"weather\": \"sun\"}, {\"date\": \"2014-06-24T00:00:00\", \"precipitation\": 0.0, \"temp_max\": 24.4, \"temp_min\": 14.4, \"wind\": 2.5, \"weather\": \"sun\"}, {\"date\": \"2014-06-25T00:00:00\", \"precipitation\": 0.0, \"temp_max\": 26.1, \"temp_min\": 13.9, \"wind\": 2.4, \"weather\": \"sun\"}, {\"date\": \"2014-06-26T00:00:00\", \"precipitation\": 0.0, \"temp_max\": 21.1, \"temp_min\": 14.4, \"wind\": 4.1, \"weather\": \"sun\"}, {\"date\": \"2014-06-27T00:00:00\", \"precipitation\": 1.8, \"temp_max\": 21.1, \"temp_min\": 13.9, \"wind\": 4.5, \"weather\": \"fog\"}, {\"date\": \"2014-06-28T00:00:00\", \"precipitation\": 2.3, \"temp_max\": 20.0, \"temp_min\": 13.3, \"wind\": 4.3, \"weather\": \"fog\"}, {\"date\": \"2014-06-29T00:00:00\", \"precipitation\": 0.0, \"temp_max\": 20.6, \"temp_min\": 12.8, \"wind\": 3.2, \"weather\": \"sun\"}, {\"date\": \"2014-06-30T00:00:00\", \"precipitation\": 0.0, \"temp_max\": 25.6, \"temp_min\": 12.8, \"wind\": 4.4, \"weather\": \"sun\"}, {\"date\": \"2014-07-01T00:00:00\", \"precipitation\": 0.0, \"temp_max\": 34.4, \"temp_min\": 15.6, \"wind\": 3.5, \"weather\": \"sun\"}, {\"date\": \"2014-07-02T00:00:00\", \"precipitation\": 0.0, \"temp_max\": 27.2, \"temp_min\": 14.4, \"wind\": 3.6, \"weather\": \"sun\"}, {\"date\": \"2014-07-03T00:00:00\", \"precipitation\": 0.0, \"temp_max\": 21.7, \"temp_min\": 13.9, \"wind\": 3.1, \"weather\": \"sun\"}, {\"date\": \"2014-07-04T00:00:00\", \"precipitation\": 0.0, \"temp_max\": 23.9, \"temp_min\": 13.9, \"wind\": 3.6, \"weather\": \"sun\"}, {\"date\": \"2014-07-05T00:00:00\", \"precipitation\": 0.0, \"temp_max\": 24.4, \"temp_min\": 13.3, \"wind\": 2.2, \"weather\": \"fog\"}, {\"date\": \"2014-07-06T00:00:00\", \"precipitation\": 0.0, \"temp_max\": 28.9, \"temp_min\": 15.0, \"wind\": 3.0, \"weather\": \"sun\"}, {\"date\": \"2014-07-07T00:00:00\", \"precipitation\": 0.0, \"temp_max\": 27.2, \"temp_min\": 17.8, \"wind\": 4.1, \"weather\": \"fog\"}, {\"date\": \"2014-07-08T00:00:00\", \"precipitation\": 0.0, \"temp_max\": 30.0, \"temp_min\": 15.6, \"wind\": 3.5, \"weather\": \"sun\"}, {\"date\": \"2014-07-09T00:00:00\", \"precipitation\": 0.0, \"temp_max\": 26.7, \"temp_min\": 13.9, \"wind\": 2.3, \"weather\": \"sun\"}, {\"date\": \"2014-07-10T00:00:00\", \"precipitation\": 0.0, \"temp_max\": 28.9, \"temp_min\": 12.8, \"wind\": 2.2, \"weather\": \"fog\"}, {\"date\": \"2014-07-11T00:00:00\", \"precipitation\": 0.0, \"temp_max\": 31.1, \"temp_min\": 15.0, \"wind\": 2.2, \"weather\": \"sun\"}, {\"date\": \"2014-07-12T00:00:00\", \"precipitation\": 0.0, \"temp_max\": 32.2, \"temp_min\": 16.7, \"wind\": 2.2, \"weather\": \"sun\"}, {\"date\": \"2014-07-13T00:00:00\", \"precipitation\": 0.0, \"temp_max\": 29.4, \"temp_min\": 15.0, \"wind\": 2.6, \"weather\": \"rain\"}, {\"date\": \"2014-07-14T00:00:00\", \"precipitation\": 0.0, \"temp_max\": 27.8, \"temp_min\": 15.0, \"wind\": 2.8, \"weather\": \"sun\"}, {\"date\": \"2014-07-15T00:00:00\", \"precipitation\": 0.0, \"temp_max\": 31.1, \"temp_min\": 13.9, \"wind\": 2.3, \"weather\": \"sun\"}, {\"date\": \"2014-07-16T00:00:00\", \"precipitation\": 0.0, \"temp_max\": 31.1, \"temp_min\": 14.4, \"wind\": 2.4, \"weather\": \"sun\"}, {\"date\": \"2014-07-17T00:00:00\", \"precipitation\": 0.0, \"temp_max\": 26.7, \"temp_min\": 13.9, \"wind\": 3.7, \"weather\": \"sun\"}, {\"date\": \"2014-07-18T00:00:00\", \"precipitation\": 0.0, \"temp_max\": 23.9, \"temp_min\": 11.7, \"wind\": 2.8, \"weather\": \"sun\"}, {\"date\": \"2014-07-19T00:00:00\", \"precipitation\": 0.0, \"temp_max\": 25.6, \"temp_min\": 15.0, \"wind\": 5.4, \"weather\": \"fog\"}, {\"date\": \"2014-07-20T00:00:00\", \"precipitation\": 0.0, \"temp_max\": 19.4, \"temp_min\": 14.4, \"wind\": 2.8, \"weather\": \"sun\"}, {\"date\": \"2014-07-21T00:00:00\", \"precipitation\": 0.0, \"temp_max\": 23.9, \"temp_min\": 13.3, \"wind\": 2.2, \"weather\": \"sun\"}, {\"date\": \"2014-07-22T00:00:00\", \"precipitation\": 0.3, \"temp_max\": 21.1, \"temp_min\": 13.3, \"wind\": 1.1, \"weather\": \"fog\"}, {\"date\": \"2014-07-23T00:00:00\", \"precipitation\": 19.3, \"temp_max\": 18.9, \"temp_min\": 13.3, \"wind\": 3.3, \"weather\": \"sun\"}, {\"date\": \"2014-07-24T00:00:00\", \"precipitation\": 0.0, \"temp_max\": 20.6, \"temp_min\": 12.8, \"wind\": 4.7, \"weather\": \"sun\"}, {\"date\": \"2014-07-25T00:00:00\", \"precipitation\": 0.0, \"temp_max\": 22.8, \"temp_min\": 12.2, \"wind\": 2.7, \"weather\": \"sun\"}, {\"date\": \"2014-07-26T00:00:00\", \"precipitation\": 0.0, \"temp_max\": 26.1, \"temp_min\": 13.3, \"wind\": 3.6, \"weather\": \"sun\"}, {\"date\": \"2014-07-27T00:00:00\", \"precipitation\": 0.0, \"temp_max\": 28.3, \"temp_min\": 15.0, \"wind\": 4.1, \"weather\": \"sun\"}, {\"date\": \"2014-07-28T00:00:00\", \"precipitation\": 0.0, \"temp_max\": 30.6, \"temp_min\": 15.0, \"wind\": 3.7, \"weather\": \"sun\"}, {\"date\": \"2014-07-29T00:00:00\", \"precipitation\": 0.0, \"temp_max\": 30.0, \"temp_min\": 15.6, \"wind\": 2.8, \"weather\": \"sun\"}, {\"date\": \"2014-07-30T00:00:00\", \"precipitation\": 0.0, \"temp_max\": 29.4, \"temp_min\": 14.4, \"wind\": 3.4, \"weather\": \"sun\"}, {\"date\": \"2014-07-31T00:00:00\", \"precipitation\": 0.0, \"temp_max\": 30.6, \"temp_min\": 17.8, \"wind\": 4.1, \"weather\": \"sun\"}, {\"date\": \"2014-08-01T00:00:00\", \"precipitation\": 0.0, \"temp_max\": 28.9, \"temp_min\": 15.0, \"wind\": 3.3, \"weather\": \"sun\"}, {\"date\": \"2014-08-02T00:00:00\", \"precipitation\": 0.5, \"temp_max\": 29.4, \"temp_min\": 15.6, \"wind\": 1.7, \"weather\": \"sun\"}, {\"date\": \"2014-08-03T00:00:00\", \"precipitation\": 0.0, \"temp_max\": 31.7, \"temp_min\": 14.4, \"wind\": 2.6, \"weather\": \"sun\"}, {\"date\": \"2014-08-04T00:00:00\", \"precipitation\": 0.0, \"temp_max\": 32.8, \"temp_min\": 16.1, \"wind\": 2.6, \"weather\": \"sun\"}, {\"date\": \"2014-08-05T00:00:00\", \"precipitation\": 0.0, \"temp_max\": 25.0, \"temp_min\": 13.9, \"wind\": 2.7, \"weather\": \"sun\"}, {\"date\": \"2014-08-06T00:00:00\", \"precipitation\": 0.0, \"temp_max\": 26.1, \"temp_min\": 15.0, \"wind\": 2.2, \"weather\": \"fog\"}, {\"date\": \"2014-08-07T00:00:00\", \"precipitation\": 0.0, \"temp_max\": 25.6, \"temp_min\": 13.3, \"wind\": 2.4, \"weather\": \"fog\"}, {\"date\": \"2014-08-08T00:00:00\", \"precipitation\": 0.0, \"temp_max\": 25.6, \"temp_min\": 13.3, \"wind\": 2.9, \"weather\": \"sun\"}, {\"date\": \"2014-08-09T00:00:00\", \"precipitation\": 0.0, \"temp_max\": 27.2, \"temp_min\": 15.6, \"wind\": 4.1, \"weather\": \"sun\"}, {\"date\": \"2014-08-10T00:00:00\", \"precipitation\": 0.0, \"temp_max\": 30.6, \"temp_min\": 13.9, \"wind\": 3.4, \"weather\": \"sun\"}, {\"date\": \"2014-08-11T00:00:00\", \"precipitation\": 0.5, \"temp_max\": 35.6, \"temp_min\": 17.8, \"wind\": 2.6, \"weather\": \"rain\"}, {\"date\": \"2014-08-12T00:00:00\", \"precipitation\": 12.7, \"temp_max\": 27.2, \"temp_min\": 17.2, \"wind\": 3.1, \"weather\": \"fog\"}, {\"date\": \"2014-08-13T00:00:00\", \"precipitation\": 21.6, \"temp_max\": 23.3, \"temp_min\": 15.0, \"wind\": 2.7, \"weather\": \"fog\"}, {\"date\": \"2014-08-14T00:00:00\", \"precipitation\": 0.0, \"temp_max\": 21.1, \"temp_min\": 17.2, \"wind\": 0.6, \"weather\": \"sun\"}, {\"date\": \"2014-08-15T00:00:00\", \"precipitation\": 1.0, \"temp_max\": 24.4, \"temp_min\": 16.7, \"wind\": 1.5, \"weather\": \"fog\"}, {\"date\": \"2014-08-16T00:00:00\", \"precipitation\": 0.0, \"temp_max\": 25.6, \"temp_min\": 15.6, \"wind\": 2.2, \"weather\": \"sun\"}, {\"date\": \"2014-08-17T00:00:00\", \"precipitation\": 0.0, \"temp_max\": 27.8, \"temp_min\": 15.0, \"wind\": 2.8, \"weather\": \"sun\"}, {\"date\": \"2014-08-18T00:00:00\", \"precipitation\": 0.0, \"temp_max\": 29.4, \"temp_min\": 15.6, \"wind\": 3.3, \"weather\": \"sun\"}, {\"date\": \"2014-08-19T00:00:00\", \"precipitation\": 0.0, \"temp_max\": 27.2, \"temp_min\": 15.6, \"wind\": 2.4, \"weather\": \"sun\"}, {\"date\": \"2014-08-20T00:00:00\", \"precipitation\": 0.0, \"temp_max\": 21.7, \"temp_min\": 13.9, \"wind\": 3.6, \"weather\": \"sun\"}, {\"date\": \"2014-08-21T00:00:00\", \"precipitation\": 0.0, \"temp_max\": 21.1, \"temp_min\": 11.1, \"wind\": 1.7, \"weather\": \"sun\"}, {\"date\": \"2014-08-22T00:00:00\", \"precipitation\": 0.0, \"temp_max\": 23.9, \"temp_min\": 13.3, \"wind\": 2.9, \"weather\": \"sun\"}, {\"date\": \"2014-08-23T00:00:00\", \"precipitation\": 0.0, \"temp_max\": 27.8, \"temp_min\": 13.9, \"wind\": 2.0, \"weather\": \"sun\"}, {\"date\": \"2014-08-24T00:00:00\", \"precipitation\": 0.0, \"temp_max\": 25.0, \"temp_min\": 13.3, \"wind\": 2.3, \"weather\": \"sun\"}, {\"date\": \"2014-08-25T00:00:00\", \"precipitation\": 0.0, \"temp_max\": 28.9, \"temp_min\": 14.4, \"wind\": 2.0, \"weather\": \"sun\"}, {\"date\": \"2014-08-26T00:00:00\", \"precipitation\": 0.0, \"temp_max\": 31.1, \"temp_min\": 15.6, \"wind\": 1.8, \"weather\": \"sun\"}, {\"date\": \"2014-08-27T00:00:00\", \"precipitation\": 0.0, \"temp_max\": 28.9, \"temp_min\": 16.1, \"wind\": 1.6, \"weather\": \"sun\"}, {\"date\": \"2014-08-28T00:00:00\", \"precipitation\": 0.0, \"temp_max\": 23.3, \"temp_min\": 14.4, \"wind\": 2.3, \"weather\": \"sun\"}, {\"date\": \"2014-08-29T00:00:00\", \"precipitation\": 0.0, \"temp_max\": 22.8, \"temp_min\": 15.0, \"wind\": 3.4, \"weather\": \"sun\"}, {\"date\": \"2014-08-30T00:00:00\", \"precipitation\": 8.4, \"temp_max\": 17.8, \"temp_min\": 15.0, \"wind\": 2.2, \"weather\": \"fog\"}, {\"date\": \"2014-08-31T00:00:00\", \"precipitation\": 1.3, \"temp_max\": 21.1, \"temp_min\": 13.9, \"wind\": 1.9, \"weather\": \"fog\"}, {\"date\": \"2014-09-01T00:00:00\", \"precipitation\": 0.0, \"temp_max\": 23.3, \"temp_min\": 12.8, \"wind\": 2.5, \"weather\": \"sun\"}, {\"date\": \"2014-09-02T00:00:00\", \"precipitation\": 3.0, \"temp_max\": 20.0, \"temp_min\": 13.9, \"wind\": 4.3, \"weather\": \"fog\"}, {\"date\": \"2014-09-03T00:00:00\", \"precipitation\": 0.0, \"temp_max\": 20.6, \"temp_min\": 12.8, \"wind\": 2.7, \"weather\": \"sun\"}, {\"date\": \"2014-09-04T00:00:00\", \"precipitation\": 0.0, \"temp_max\": 23.9, \"temp_min\": 11.1, \"wind\": 3.1, \"weather\": \"fog\"}, {\"date\": \"2014-09-05T00:00:00\", \"precipitation\": 0.0, \"temp_max\": 27.8, \"temp_min\": 13.9, \"wind\": 6.5, \"weather\": \"fog\"}, {\"date\": \"2014-09-06T00:00:00\", \"precipitation\": 0.0, \"temp_max\": 32.2, \"temp_min\": 15.0, \"wind\": 2.9, \"weather\": \"sun\"}, {\"date\": \"2014-09-07T00:00:00\", \"precipitation\": 0.0, \"temp_max\": 28.3, \"temp_min\": 13.3, \"wind\": 2.1, \"weather\": \"sun\"}, {\"date\": \"2014-09-08T00:00:00\", \"precipitation\": 0.0, \"temp_max\": 21.1, \"temp_min\": 13.3, \"wind\": 2.8, \"weather\": \"sun\"}, {\"date\": \"2014-09-09T00:00:00\", \"precipitation\": 0.0, \"temp_max\": 21.7, \"temp_min\": 13.3, \"wind\": 2.3, \"weather\": \"sun\"}, {\"date\": \"2014-09-10T00:00:00\", \"precipitation\": 0.0, \"temp_max\": 22.2, \"temp_min\": 12.2, \"wind\": 3.9, \"weather\": \"sun\"}, {\"date\": \"2014-09-11T00:00:00\", \"precipitation\": 0.0, \"temp_max\": 24.4, \"temp_min\": 12.8, \"wind\": 5.3, \"weather\": \"sun\"}, {\"date\": \"2014-09-12T00:00:00\", \"precipitation\": 0.0, \"temp_max\": 24.4, \"temp_min\": 12.8, \"wind\": 5.9, \"weather\": \"sun\"}, {\"date\": \"2014-09-13T00:00:00\", \"precipitation\": 0.0, \"temp_max\": 28.3, \"temp_min\": 10.0, \"wind\": 4.2, \"weather\": \"sun\"}, {\"date\": \"2014-09-14T00:00:00\", \"precipitation\": 0.0, \"temp_max\": 30.0, \"temp_min\": 11.7, \"wind\": 1.8, \"weather\": \"sun\"}, {\"date\": \"2014-09-15T00:00:00\", \"precipitation\": 0.0, \"temp_max\": 30.6, \"temp_min\": 12.2, \"wind\": 1.2, \"weather\": \"sun\"}, {\"date\": \"2014-09-16T00:00:00\", \"precipitation\": 0.0, \"temp_max\": 22.2, \"temp_min\": 13.9, \"wind\": 2.8, \"weather\": \"sun\"}, {\"date\": \"2014-09-17T00:00:00\", \"precipitation\": 0.5, \"temp_max\": 22.8, \"temp_min\": 14.4, \"wind\": 2.3, \"weather\": \"sun\"}, {\"date\": \"2014-09-18T00:00:00\", \"precipitation\": 0.3, \"temp_max\": 19.4, \"temp_min\": 15.0, \"wind\": 3.1, \"weather\": \"fog\"}, {\"date\": \"2014-09-19T00:00:00\", \"precipitation\": 0.0, \"temp_max\": 23.9, \"temp_min\": 16.1, \"wind\": 2.8, \"weather\": \"sun\"}, {\"date\": \"2014-09-20T00:00:00\", \"precipitation\": 0.0, \"temp_max\": 24.4, \"temp_min\": 14.4, \"wind\": 4.4, \"weather\": \"fog\"}, {\"date\": \"2014-09-21T00:00:00\", \"precipitation\": 0.0, \"temp_max\": 26.1, \"temp_min\": 12.8, \"wind\": 3.0, \"weather\": \"sun\"}, {\"date\": \"2014-09-22T00:00:00\", \"precipitation\": 0.3, \"temp_max\": 22.2, \"temp_min\": 15.0, \"wind\": 2.1, \"weather\": \"fog\"}, {\"date\": \"2014-09-23T00:00:00\", \"precipitation\": 18.3, \"temp_max\": 18.9, \"temp_min\": 14.4, \"wind\": 2.5, \"weather\": \"fog\"}, {\"date\": \"2014-09-24T00:00:00\", \"precipitation\": 20.3, \"temp_max\": 18.9, \"temp_min\": 14.4, \"wind\": 2.7, \"weather\": \"fog\"}, {\"date\": \"2014-09-25T00:00:00\", \"precipitation\": 4.3, \"temp_max\": 21.7, \"temp_min\": 14.4, \"wind\": 2.5, \"weather\": \"fog\"}, {\"date\": \"2014-09-26T00:00:00\", \"precipitation\": 8.9, \"temp_max\": 20.0, \"temp_min\": 13.9, \"wind\": 3.3, \"weather\": \"fog\"}, {\"date\": \"2014-09-27T00:00:00\", \"precipitation\": 0.0, \"temp_max\": 20.6, \"temp_min\": 11.7, \"wind\": 3.2, \"weather\": \"fog\"}, {\"date\": \"2014-09-28T00:00:00\", \"precipitation\": 0.0, \"temp_max\": 18.9, \"temp_min\": 12.2, \"wind\": 2.0, \"weather\": \"fog\"}, {\"date\": \"2014-09-29T00:00:00\", \"precipitation\": 0.8, \"temp_max\": 16.7, \"temp_min\": 11.1, \"wind\": 3.5, \"weather\": \"fog\"}, {\"date\": \"2014-09-30T00:00:00\", \"precipitation\": 0.0, \"temp_max\": 19.4, \"temp_min\": 12.2, \"wind\": 2.6, \"weather\": \"sun\"}, {\"date\": \"2014-10-01T00:00:00\", \"precipitation\": 0.0, \"temp_max\": 18.3, \"temp_min\": 11.1, \"wind\": 2.1, \"weather\": \"sun\"}, {\"date\": \"2014-10-02T00:00:00\", \"precipitation\": 0.0, \"temp_max\": 19.4, \"temp_min\": 10.0, \"wind\": 2.0, \"weather\": \"sun\"}, {\"date\": \"2014-10-03T00:00:00\", \"precipitation\": 0.0, \"temp_max\": 22.2, \"temp_min\": 8.9, \"wind\": 1.0, \"weather\": \"sun\"}, {\"date\": \"2014-10-04T00:00:00\", \"precipitation\": 0.0, \"temp_max\": 21.7, \"temp_min\": 12.2, \"wind\": 1.2, \"weather\": \"sun\"}, {\"date\": \"2014-10-05T00:00:00\", \"precipitation\": 0.0, \"temp_max\": 23.9, \"temp_min\": 11.7, \"wind\": 1.4, \"weather\": \"fog\"}, {\"date\": \"2014-10-06T00:00:00\", \"precipitation\": 0.0, \"temp_max\": 25.6, \"temp_min\": 13.3, \"wind\": 2.5, \"weather\": \"fog\"}, {\"date\": \"2014-10-07T00:00:00\", \"precipitation\": 0.0, \"temp_max\": 18.9, \"temp_min\": 13.9, \"wind\": 1.0, \"weather\": \"fog\"}, {\"date\": \"2014-10-08T00:00:00\", \"precipitation\": 0.0, \"temp_max\": 20.6, \"temp_min\": 12.8, \"wind\": 1.8, \"weather\": \"fog\"}, {\"date\": \"2014-10-09T00:00:00\", \"precipitation\": 0.0, \"temp_max\": 17.2, \"temp_min\": 11.1, \"wind\": 1.0, \"weather\": \"fog\"}, {\"date\": \"2014-10-10T00:00:00\", \"precipitation\": 0.3, \"temp_max\": 18.3, \"temp_min\": 10.0, \"wind\": 3.8, \"weather\": \"fog\"}, {\"date\": \"2014-10-11T00:00:00\", \"precipitation\": 7.4, \"temp_max\": 18.3, \"temp_min\": 11.7, \"wind\": 3.5, \"weather\": \"rain\"}, {\"date\": \"2014-10-12T00:00:00\", \"precipitation\": 0.0, \"temp_max\": 17.8, \"temp_min\": 11.7, \"wind\": 2.1, \"weather\": \"sun\"}, {\"date\": \"2014-10-13T00:00:00\", \"precipitation\": 7.6, \"temp_max\": 21.1, \"temp_min\": 10.0, \"wind\": 3.1, \"weather\": \"fog\"}, {\"date\": \"2014-10-14T00:00:00\", \"precipitation\": 7.1, \"temp_max\": 16.7, \"temp_min\": 11.7, \"wind\": 2.2, \"weather\": \"fog\"}, {\"date\": \"2014-10-15T00:00:00\", \"precipitation\": 8.6, \"temp_max\": 16.1, \"temp_min\": 11.7, \"wind\": 4.7, \"weather\": \"fog\"}, {\"date\": \"2014-10-16T00:00:00\", \"precipitation\": 0.0, \"temp_max\": 20.6, \"temp_min\": 11.1, \"wind\": 3.3, \"weather\": \"sun\"}, {\"date\": \"2014-10-17T00:00:00\", \"precipitation\": 3.3, \"temp_max\": 16.7, \"temp_min\": 11.7, \"wind\": 3.0, \"weather\": \"fog\"}, {\"date\": \"2014-10-18T00:00:00\", \"precipitation\": 15.0, \"temp_max\": 19.4, \"temp_min\": 13.9, \"wind\": 1.9, \"weather\": \"fog\"}, {\"date\": \"2014-10-19T00:00:00\", \"precipitation\": 0.0, \"temp_max\": 22.2, \"temp_min\": 12.8, \"wind\": 3.2, \"weather\": \"sun\"}, {\"date\": \"2014-10-20T00:00:00\", \"precipitation\": 11.7, \"temp_max\": 16.1, \"temp_min\": 12.2, \"wind\": 3.1, \"weather\": \"fog\"}, {\"date\": \"2014-10-21T00:00:00\", \"precipitation\": 1.0, \"temp_max\": 16.1, \"temp_min\": 11.7, \"wind\": 4.7, \"weather\": \"sun\"}, {\"date\": \"2014-10-22T00:00:00\", \"precipitation\": 32.0, \"temp_max\": 15.6, \"temp_min\": 11.7, \"wind\": 5.0, \"weather\": \"fog\"}, {\"date\": \"2014-10-23T00:00:00\", \"precipitation\": 9.4, \"temp_max\": 14.4, \"temp_min\": 8.3, \"wind\": 4.6, \"weather\": \"sun\"}, {\"date\": \"2014-10-24T00:00:00\", \"precipitation\": 4.1, \"temp_max\": 14.4, \"temp_min\": 8.9, \"wind\": 3.2, \"weather\": \"sun\"}, {\"date\": \"2014-10-25T00:00:00\", \"precipitation\": 6.1, \"temp_max\": 16.7, \"temp_min\": 8.3, \"wind\": 5.4, \"weather\": \"fog\"}, {\"date\": \"2014-10-26T00:00:00\", \"precipitation\": 1.5, \"temp_max\": 12.8, \"temp_min\": 7.8, \"wind\": 5.0, \"weather\": \"fog\"}, {\"date\": \"2014-10-27T00:00:00\", \"precipitation\": 0.8, \"temp_max\": 15.6, \"temp_min\": 6.7, \"wind\": 2.4, \"weather\": \"sun\"}, {\"date\": \"2014-10-28T00:00:00\", \"precipitation\": 12.7, \"temp_max\": 15.0, \"temp_min\": 9.4, \"wind\": 3.9, \"weather\": \"fog\"}, {\"date\": \"2014-10-29T00:00:00\", \"precipitation\": 0.5, \"temp_max\": 16.7, \"temp_min\": 11.7, \"wind\": 3.1, \"weather\": \"fog\"}, {\"date\": \"2014-10-30T00:00:00\", \"precipitation\": 25.4, \"temp_max\": 15.6, \"temp_min\": 11.1, \"wind\": 3.2, \"weather\": \"fog\"}, {\"date\": \"2014-10-31T00:00:00\", \"precipitation\": 17.0, \"temp_max\": 12.8, \"temp_min\": 8.3, \"wind\": 2.0, \"weather\": \"fog\"}, {\"date\": \"2014-11-01T00:00:00\", \"precipitation\": 0.0, \"temp_max\": 11.1, \"temp_min\": 7.2, \"wind\": 1.2, \"weather\": \"fog\"}, {\"date\": \"2014-11-02T00:00:00\", \"precipitation\": 1.8, \"temp_max\": 13.3, \"temp_min\": 7.2, \"wind\": 2.9, \"weather\": \"fog\"}, {\"date\": \"2014-11-03T00:00:00\", \"precipitation\": 10.9, \"temp_max\": 13.9, \"temp_min\": 11.1, \"wind\": 4.8, \"weather\": \"fog\"}, {\"date\": \"2014-11-04T00:00:00\", \"precipitation\": 4.1, \"temp_max\": 14.4, \"temp_min\": 10.6, \"wind\": 3.3, \"weather\": \"fog\"}, {\"date\": \"2014-11-05T00:00:00\", \"precipitation\": 4.8, \"temp_max\": 15.0, \"temp_min\": 10.6, \"wind\": 2.1, \"weather\": \"fog\"}, {\"date\": \"2014-11-06T00:00:00\", \"precipitation\": 4.1, \"temp_max\": 16.7, \"temp_min\": 10.6, \"wind\": 6.7, \"weather\": \"fog\"}, {\"date\": \"2014-11-07T00:00:00\", \"precipitation\": 0.0, \"temp_max\": 14.4, \"temp_min\": 7.2, \"wind\": 2.3, \"weather\": \"sun\"}, {\"date\": \"2014-11-08T00:00:00\", \"precipitation\": 0.0, \"temp_max\": 12.8, \"temp_min\": 3.9, \"wind\": 0.8, \"weather\": \"fog\"}, {\"date\": \"2014-11-09T00:00:00\", \"precipitation\": 5.1, \"temp_max\": 13.3, \"temp_min\": 7.8, \"wind\": 3.0, \"weather\": \"fog\"}, {\"date\": \"2014-11-10T00:00:00\", \"precipitation\": 0.0, \"temp_max\": 11.1, \"temp_min\": 5.6, \"wind\": 3.9, \"weather\": \"sun\"}, {\"date\": \"2014-11-11T00:00:00\", \"precipitation\": 0.0, \"temp_max\": 7.8, \"temp_min\": 1.1, \"wind\": 7.7, \"weather\": \"sun\"}, {\"date\": \"2014-11-12T00:00:00\", \"precipitation\": 0.0, \"temp_max\": 6.7, \"temp_min\": 0.0, \"wind\": 7.6, \"weather\": \"sun\"}, {\"date\": \"2014-11-13T00:00:00\", \"precipitation\": 0.0, \"temp_max\": 7.2, \"temp_min\": 0.6, \"wind\": 4.7, \"weather\": \"sun\"}, {\"date\": \"2014-11-14T00:00:00\", \"precipitation\": 0.0, \"temp_max\": 7.2, \"temp_min\": -2.1, \"wind\": 4.5, \"weather\": \"sun\"}, {\"date\": \"2014-11-15T00:00:00\", \"precipitation\": 0.0, \"temp_max\": 8.3, \"temp_min\": -1.6, \"wind\": 4.2, \"weather\": \"sun\"}, {\"date\": \"2014-11-16T00:00:00\", \"precipitation\": 0.0, \"temp_max\": 9.4, \"temp_min\": -2.1, \"wind\": 4.2, \"weather\": \"sun\"}, {\"date\": \"2014-11-17T00:00:00\", \"precipitation\": 0.0, \"temp_max\": 10.6, \"temp_min\": -2.1, \"wind\": 1.9, \"weather\": \"sun\"}, {\"date\": \"2014-11-18T00:00:00\", \"precipitation\": 0.0, \"temp_max\": 7.2, \"temp_min\": -0.5, \"wind\": 0.9, \"weather\": \"sun\"}, {\"date\": \"2014-11-19T00:00:00\", \"precipitation\": 0.0, \"temp_max\": 11.1, \"temp_min\": 2.2, \"wind\": 1.9, \"weather\": \"sun\"}, {\"date\": \"2014-11-20T00:00:00\", \"precipitation\": 3.6, \"temp_max\": 11.1, \"temp_min\": 5.6, \"wind\": 2.1, \"weather\": \"fog\"}, {\"date\": \"2014-11-21T00:00:00\", \"precipitation\": 15.2, \"temp_max\": 11.1, \"temp_min\": 8.3, \"wind\": 4.7, \"weather\": \"fog\"}, {\"date\": \"2014-11-22T00:00:00\", \"precipitation\": 0.5, \"temp_max\": 9.4, \"temp_min\": 6.7, \"wind\": 4.7, \"weather\": \"sun\"}, {\"date\": \"2014-11-23T00:00:00\", \"precipitation\": 11.9, \"temp_max\": 12.8, \"temp_min\": 5.6, \"wind\": 5.1, \"weather\": \"fog\"}, {\"date\": \"2014-11-24T00:00:00\", \"precipitation\": 1.3, \"temp_max\": 11.7, \"temp_min\": 4.4, \"wind\": 3.8, \"weather\": \"fog\"}, {\"date\": \"2014-11-25T00:00:00\", \"precipitation\": 18.3, \"temp_max\": 13.9, \"temp_min\": 9.4, \"wind\": 4.5, \"weather\": \"fog\"}, {\"date\": \"2014-11-26T00:00:00\", \"precipitation\": 0.3, \"temp_max\": 15.0, \"temp_min\": 12.2, \"wind\": 3.9, \"weather\": \"sun\"}, {\"date\": \"2014-11-27T00:00:00\", \"precipitation\": 3.3, \"temp_max\": 14.4, \"temp_min\": 11.7, \"wind\": 6.6, \"weather\": \"fog\"}, {\"date\": \"2014-11-28T00:00:00\", \"precipitation\": 34.3, \"temp_max\": 12.8, \"temp_min\": 3.3, \"wind\": 5.8, \"weather\": \"fog\"}, {\"date\": \"2014-11-29T00:00:00\", \"precipitation\": 3.6, \"temp_max\": 4.4, \"temp_min\": -4.3, \"wind\": 5.3, \"weather\": \"fog\"}, {\"date\": \"2014-11-30T00:00:00\", \"precipitation\": 0.0, \"temp_max\": 2.8, \"temp_min\": -4.9, \"wind\": 4.4, \"weather\": \"sun\"}, {\"date\": \"2014-12-01T00:00:00\", \"precipitation\": 0.0, \"temp_max\": 4.4, \"temp_min\": -3.2, \"wind\": 2.2, \"weather\": \"sun\"}, {\"date\": \"2014-12-02T00:00:00\", \"precipitation\": 0.0, \"temp_max\": 5.6, \"temp_min\": -3.2, \"wind\": 5.7, \"weather\": \"fog\"}, {\"date\": \"2014-12-03T00:00:00\", \"precipitation\": 0.0, \"temp_max\": 10.0, \"temp_min\": 0.0, \"wind\": 3.6, \"weather\": \"sun\"}, {\"date\": \"2014-12-04T00:00:00\", \"precipitation\": 0.8, \"temp_max\": 8.3, \"temp_min\": 3.9, \"wind\": 1.1, \"weather\": \"fog\"}, {\"date\": \"2014-12-05T00:00:00\", \"precipitation\": 3.0, \"temp_max\": 12.8, \"temp_min\": 6.7, \"wind\": 3.1, \"weather\": \"fog\"}, {\"date\": \"2014-12-06T00:00:00\", \"precipitation\": 7.4, \"temp_max\": 11.7, \"temp_min\": 7.8, \"wind\": 3.6, \"weather\": \"fog\"}, {\"date\": \"2014-12-07T00:00:00\", \"precipitation\": 0.0, \"temp_max\": 14.4, \"temp_min\": 6.1, \"wind\": 2.8, \"weather\": \"sun\"}, {\"date\": \"2014-12-08T00:00:00\", \"precipitation\": 9.1, \"temp_max\": 14.4, \"temp_min\": 8.9, \"wind\": 4.2, \"weather\": \"fog\"}, {\"date\": \"2014-12-09T00:00:00\", \"precipitation\": 9.9, \"temp_max\": 16.1, \"temp_min\": 10.6, \"wind\": 5.1, \"weather\": \"fog\"}, {\"date\": \"2014-12-10T00:00:00\", \"precipitation\": 13.0, \"temp_max\": 18.9, \"temp_min\": 10.0, \"wind\": 6.7, \"weather\": \"fog\"}, {\"date\": \"2014-12-11T00:00:00\", \"precipitation\": 6.9, \"temp_max\": 14.4, \"temp_min\": 8.3, \"wind\": 6.4, \"weather\": \"fog\"}, {\"date\": \"2014-12-12T00:00:00\", \"precipitation\": 0.0, \"temp_max\": 11.1, \"temp_min\": 7.2, \"wind\": 3.7, \"weather\": \"sun\"}, {\"date\": \"2014-12-13T00:00:00\", \"precipitation\": 0.0, \"temp_max\": 10.0, \"temp_min\": 3.9, \"wind\": 1.1, \"weather\": \"fog\"}, {\"date\": \"2014-12-14T00:00:00\", \"precipitation\": 0.0, \"temp_max\": 12.8, \"temp_min\": 1.7, \"wind\": 3.5, \"weather\": \"fog\"}, {\"date\": \"2014-12-15T00:00:00\", \"precipitation\": 0.0, \"temp_max\": 12.2, \"temp_min\": 6.7, \"wind\": 5.9, \"weather\": \"sun\"}, {\"date\": \"2014-12-16T00:00:00\", \"precipitation\": 0.0, \"temp_max\": 10.0, \"temp_min\": 8.3, \"wind\": 4.0, \"weather\": \"sun\"}, {\"date\": \"2014-12-17T00:00:00\", \"precipitation\": 2.8, \"temp_max\": 8.9, \"temp_min\": 6.1, \"wind\": 1.6, \"weather\": \"fog\"}, {\"date\": \"2014-12-18T00:00:00\", \"precipitation\": 13.0, \"temp_max\": 9.4, \"temp_min\": 6.7, \"wind\": 3.1, \"weather\": \"fog\"}, {\"date\": \"2014-12-19T00:00:00\", \"precipitation\": 3.0, \"temp_max\": 11.1, \"temp_min\": 7.2, \"wind\": 4.3, \"weather\": \"sun\"}, {\"date\": \"2014-12-20T00:00:00\", \"precipitation\": 19.6, \"temp_max\": 12.8, \"temp_min\": 6.7, \"wind\": 5.5, \"weather\": \"fog\"}, {\"date\": \"2014-12-21T00:00:00\", \"precipitation\": 0.0, \"temp_max\": 12.8, \"temp_min\": 10.0, \"wind\": 5.2, \"weather\": \"sun\"}, {\"date\": \"2014-12-22T00:00:00\", \"precipitation\": 0.0, \"temp_max\": 10.6, \"temp_min\": 6.1, \"wind\": 1.5, \"weather\": \"sun\"}, {\"date\": \"2014-12-23T00:00:00\", \"precipitation\": 20.6, \"temp_max\": 12.2, \"temp_min\": 5.0, \"wind\": 3.8, \"weather\": \"fog\"}, {\"date\": \"2014-12-24T00:00:00\", \"precipitation\": 5.3, \"temp_max\": 7.2, \"temp_min\": 3.9, \"wind\": 1.8, \"weather\": \"fog\"}, {\"date\": \"2014-12-25T00:00:00\", \"precipitation\": 0.0, \"temp_max\": 7.8, \"temp_min\": 2.8, \"wind\": 2.2, \"weather\": \"fog\"}, {\"date\": \"2014-12-26T00:00:00\", \"precipitation\": 0.0, \"temp_max\": 5.6, \"temp_min\": 1.7, \"wind\": 1.2, \"weather\": \"fog\"}, {\"date\": \"2014-12-27T00:00:00\", \"precipitation\": 3.3, \"temp_max\": 9.4, \"temp_min\": 4.4, \"wind\": 4.9, \"weather\": \"fog\"}, {\"date\": \"2014-12-28T00:00:00\", \"precipitation\": 4.1, \"temp_max\": 6.7, \"temp_min\": 2.8, \"wind\": 1.8, \"weather\": \"fog\"}, {\"date\": \"2014-12-29T00:00:00\", \"precipitation\": 0.0, \"temp_max\": 6.1, \"temp_min\": 0.6, \"wind\": 4.3, \"weather\": \"fog\"}, {\"date\": \"2014-12-30T00:00:00\", \"precipitation\": 0.0, \"temp_max\": 3.3, \"temp_min\": -2.1, \"wind\": 3.6, \"weather\": \"sun\"}, {\"date\": \"2014-12-31T00:00:00\", \"precipitation\": 0.0, \"temp_max\": 3.3, \"temp_min\": -2.7, \"wind\": 3.0, \"weather\": \"sun\"}, {\"date\": \"2015-01-01T00:00:00\", \"precipitation\": 0.0, \"temp_max\": 5.6, \"temp_min\": -3.2, \"wind\": 1.2, \"weather\": \"sun\"}, {\"date\": \"2015-01-02T00:00:00\", \"precipitation\": 1.5, \"temp_max\": 5.6, \"temp_min\": 0.0, \"wind\": 2.3, \"weather\": \"fog\"}, {\"date\": \"2015-01-03T00:00:00\", \"precipitation\": 0.0, \"temp_max\": 5.0, \"temp_min\": 1.7, \"wind\": 1.7, \"weather\": \"fog\"}, {\"date\": \"2015-01-04T00:00:00\", \"precipitation\": 10.2, \"temp_max\": 10.6, \"temp_min\": 3.3, \"wind\": 4.5, \"weather\": \"fog\"}, {\"date\": \"2015-01-05T00:00:00\", \"precipitation\": 8.1, \"temp_max\": 12.2, \"temp_min\": 9.4, \"wind\": 6.4, \"weather\": \"fog\"}, {\"date\": \"2015-01-06T00:00:00\", \"precipitation\": 0.0, \"temp_max\": 12.2, \"temp_min\": 6.1, \"wind\": 1.3, \"weather\": \"fog\"}, {\"date\": \"2015-01-07T00:00:00\", \"precipitation\": 0.0, \"temp_max\": 7.8, \"temp_min\": 5.6, \"wind\": 1.6, \"weather\": \"fog\"}, {\"date\": \"2015-01-08T00:00:00\", \"precipitation\": 0.0, \"temp_max\": 7.8, \"temp_min\": 1.7, \"wind\": 2.6, \"weather\": \"fog\"}, {\"date\": \"2015-01-09T00:00:00\", \"precipitation\": 0.3, \"temp_max\": 10.0, \"temp_min\": 3.3, \"wind\": 0.6, \"weather\": \"fog\"}, {\"date\": \"2015-01-10T00:00:00\", \"precipitation\": 5.8, \"temp_max\": 7.8, \"temp_min\": 6.1, \"wind\": 0.5, \"weather\": \"fog\"}, {\"date\": \"2015-01-11T00:00:00\", \"precipitation\": 1.5, \"temp_max\": 9.4, \"temp_min\": 7.2, \"wind\": 1.1, \"weather\": \"fog\"}, {\"date\": \"2015-01-12T00:00:00\", \"precipitation\": 0.0, \"temp_max\": 11.1, \"temp_min\": 4.4, \"wind\": 1.6, \"weather\": \"fog\"}, {\"date\": \"2015-01-13T00:00:00\", \"precipitation\": 0.0, \"temp_max\": 9.4, \"temp_min\": 2.8, \"wind\": 2.7, \"weather\": \"fog\"}, {\"date\": \"2015-01-14T00:00:00\", \"precipitation\": 0.0, \"temp_max\": 6.1, \"temp_min\": 0.6, \"wind\": 2.8, \"weather\": \"fog\"}, {\"date\": \"2015-01-15T00:00:00\", \"precipitation\": 9.7, \"temp_max\": 7.8, \"temp_min\": 1.1, \"wind\": 3.2, \"weather\": \"fog\"}, {\"date\": \"2015-01-16T00:00:00\", \"precipitation\": 0.0, \"temp_max\": 11.7, \"temp_min\": 5.6, \"wind\": 4.5, \"weather\": \"fog\"}, {\"date\": \"2015-01-17T00:00:00\", \"precipitation\": 26.2, \"temp_max\": 13.3, \"temp_min\": 3.3, \"wind\": 2.8, \"weather\": \"fog\"}, {\"date\": \"2015-01-18T00:00:00\", \"precipitation\": 21.3, \"temp_max\": 13.9, \"temp_min\": 7.2, \"wind\": 6.6, \"weather\": \"rain\"}, {\"date\": \"2015-01-19T00:00:00\", \"precipitation\": 0.5, \"temp_max\": 10.0, \"temp_min\": 6.1, \"wind\": 2.8, \"weather\": \"sun\"}, {\"date\": \"2015-01-20T00:00:00\", \"precipitation\": 0.0, \"temp_max\": 10.0, \"temp_min\": 3.3, \"wind\": 3.0, \"weather\": \"fog\"}, {\"date\": \"2015-01-21T00:00:00\", \"precipitation\": 0.0, \"temp_max\": 7.2, \"temp_min\": -0.5, \"wind\": 1.3, \"weather\": \"fog\"}, {\"date\": \"2015-01-22T00:00:00\", \"precipitation\": 0.8, \"temp_max\": 9.4, \"temp_min\": 6.1, \"wind\": 1.3, \"weather\": \"fog\"}, {\"date\": \"2015-01-23T00:00:00\", \"precipitation\": 5.8, \"temp_max\": 12.2, \"temp_min\": 8.3, \"wind\": 2.6, \"weather\": \"fog\"}, {\"date\": \"2015-01-24T00:00:00\", \"precipitation\": 0.5, \"temp_max\": 14.4, \"temp_min\": 11.1, \"wind\": 3.3, \"weather\": \"fog\"}, {\"date\": \"2015-01-25T00:00:00\", \"precipitation\": 0.0, \"temp_max\": 17.2, \"temp_min\": 7.2, \"wind\": 1.4, \"weather\": \"fog\"}, {\"date\": \"2015-01-26T00:00:00\", \"precipitation\": 0.0, \"temp_max\": 16.1, \"temp_min\": 6.1, \"wind\": 2.2, \"weather\": \"fog\"}, {\"date\": \"2015-01-27T00:00:00\", \"precipitation\": 0.8, \"temp_max\": 11.1, \"temp_min\": 8.3, \"wind\": 2.0, \"weather\": \"fog\"}, {\"date\": \"2015-01-28T00:00:00\", \"precipitation\": 0.0, \"temp_max\": 12.2, \"temp_min\": 5.0, \"wind\": 1.8, \"weather\": \"fog\"}, {\"date\": \"2015-01-29T00:00:00\", \"precipitation\": 0.0, \"temp_max\": 12.2, \"temp_min\": 3.3, \"wind\": 2.9, \"weather\": \"sun\"}, {\"date\": \"2015-01-30T00:00:00\", \"precipitation\": 0.0, \"temp_max\": 8.3, \"temp_min\": 1.1, \"wind\": 0.8, \"weather\": \"fog\"}, {\"date\": \"2015-01-31T00:00:00\", \"precipitation\": 0.0, \"temp_max\": 7.2, \"temp_min\": 3.3, \"wind\": 1.9, \"weather\": \"fog\"}, {\"date\": \"2015-02-01T00:00:00\", \"precipitation\": 1.5, \"temp_max\": 9.4, \"temp_min\": 4.4, \"wind\": 2.6, \"weather\": \"fog\"}, {\"date\": \"2015-02-02T00:00:00\", \"precipitation\": 7.4, \"temp_max\": 11.1, \"temp_min\": 5.0, \"wind\": 4.0, \"weather\": \"fog\"}, {\"date\": \"2015-02-03T00:00:00\", \"precipitation\": 1.3, \"temp_max\": 10.0, \"temp_min\": 5.6, \"wind\": 1.9, \"weather\": \"fog\"}, {\"date\": \"2015-02-04T00:00:00\", \"precipitation\": 8.4, \"temp_max\": 10.6, \"temp_min\": 4.4, \"wind\": 1.7, \"weather\": \"fog\"}, {\"date\": \"2015-02-05T00:00:00\", \"precipitation\": 26.2, \"temp_max\": 13.3, \"temp_min\": 8.3, \"wind\": 4.6, \"weather\": \"fog\"}, {\"date\": \"2015-02-06T00:00:00\", \"precipitation\": 17.3, \"temp_max\": 14.4, \"temp_min\": 10.0, \"wind\": 4.5, \"weather\": \"fog\"}, {\"date\": \"2015-02-07T00:00:00\", \"precipitation\": 23.6, \"temp_max\": 12.2, \"temp_min\": 9.4, \"wind\": 4.6, \"weather\": \"fog\"}, {\"date\": \"2015-02-08T00:00:00\", \"precipitation\": 3.6, \"temp_max\": 15.0, \"temp_min\": 8.3, \"wind\": 3.9, \"weather\": \"fog\"}, {\"date\": \"2015-02-09T00:00:00\", \"precipitation\": 6.1, \"temp_max\": 13.3, \"temp_min\": 8.3, \"wind\": 2.5, \"weather\": \"fog\"}, {\"date\": \"2015-02-10T00:00:00\", \"precipitation\": 0.3, \"temp_max\": 12.8, \"temp_min\": 8.3, \"wind\": 4.0, \"weather\": \"fog\"}, {\"date\": \"2015-02-11T00:00:00\", \"precipitation\": 0.0, \"temp_max\": 12.8, \"temp_min\": 5.6, \"wind\": 1.0, \"weather\": \"fog\"}, {\"date\": \"2015-02-12T00:00:00\", \"precipitation\": 1.0, \"temp_max\": 16.7, \"temp_min\": 9.4, \"wind\": 2.1, \"weather\": \"sun\"}, {\"date\": \"2015-02-13T00:00:00\", \"precipitation\": 0.0, \"temp_max\": 15.6, \"temp_min\": 6.7, \"wind\": 1.7, \"weather\": \"fog\"}, {\"date\": \"2015-02-14T00:00:00\", \"precipitation\": 0.3, \"temp_max\": 14.4, \"temp_min\": 6.7, \"wind\": 2.9, \"weather\": \"fog\"}, {\"date\": \"2015-02-15T00:00:00\", \"precipitation\": 0.0, \"temp_max\": 12.2, \"temp_min\": 3.9, \"wind\": 4.8, \"weather\": \"sun\"}, {\"date\": \"2015-02-16T00:00:00\", \"precipitation\": 0.0, \"temp_max\": 15.0, \"temp_min\": 5.6, \"wind\": 6.6, \"weather\": \"fog\"}, {\"date\": \"2015-02-17T00:00:00\", \"precipitation\": 0.0, \"temp_max\": 16.1, \"temp_min\": 4.4, \"wind\": 4.0, \"weather\": \"sun\"}, {\"date\": \"2015-02-18T00:00:00\", \"precipitation\": 0.0, \"temp_max\": 12.2, \"temp_min\": 4.4, \"wind\": 2.6, \"weather\": \"sun\"}, {\"date\": \"2015-02-19T00:00:00\", \"precipitation\": 4.6, \"temp_max\": 10.6, \"temp_min\": 8.3, \"wind\": 2.2, \"weather\": \"fog\"}, {\"date\": \"2015-02-20T00:00:00\", \"precipitation\": 0.8, \"temp_max\": 11.1, \"temp_min\": 7.2, \"wind\": 0.9, \"weather\": \"fog\"}, {\"date\": \"2015-02-21T00:00:00\", \"precipitation\": 0.0, \"temp_max\": 12.2, \"temp_min\": 5.6, \"wind\": 4.5, \"weather\": \"sun\"}, {\"date\": \"2015-02-22T00:00:00\", \"precipitation\": 0.0, \"temp_max\": 11.7, \"temp_min\": 3.3, \"wind\": 4.2, \"weather\": \"sun\"}, {\"date\": \"2015-02-23T00:00:00\", \"precipitation\": 0.0, \"temp_max\": 12.8, \"temp_min\": 0.6, \"wind\": 1.4, \"weather\": \"sun\"}, {\"date\": \"2015-02-24T00:00:00\", \"precipitation\": 0.0, \"temp_max\": 11.1, \"temp_min\": 2.2, \"wind\": 1.5, \"weather\": \"sun\"}, {\"date\": \"2015-02-25T00:00:00\", \"precipitation\": 4.1, \"temp_max\": 10.0, \"temp_min\": 6.7, \"wind\": 1.0, \"weather\": \"fog\"}, {\"date\": \"2015-02-26T00:00:00\", \"precipitation\": 9.4, \"temp_max\": 11.7, \"temp_min\": 7.8, \"wind\": 1.4, \"weather\": \"fog\"}, {\"date\": \"2015-02-27T00:00:00\", \"precipitation\": 18.3, \"temp_max\": 10.0, \"temp_min\": 6.7, \"wind\": 4.0, \"weather\": \"fog\"}, {\"date\": \"2015-02-28T00:00:00\", \"precipitation\": 0.0, \"temp_max\": 12.2, \"temp_min\": 3.3, \"wind\": 5.1, \"weather\": \"sun\"}, {\"date\": \"2015-03-01T00:00:00\", \"precipitation\": 0.0, \"temp_max\": 11.1, \"temp_min\": 1.1, \"wind\": 2.2, \"weather\": \"sun\"}, {\"date\": \"2015-03-02T00:00:00\", \"precipitation\": 0.0, \"temp_max\": 11.1, \"temp_min\": 4.4, \"wind\": 4.8, \"weather\": \"sun\"}, {\"date\": \"2015-03-03T00:00:00\", \"precipitation\": 0.0, \"temp_max\": 10.6, \"temp_min\": 0.0, \"wind\": 2.1, \"weather\": \"sun\"}, {\"date\": \"2015-03-04T00:00:00\", \"precipitation\": 0.0, \"temp_max\": 12.8, \"temp_min\": -0.5, \"wind\": 1.8, \"weather\": \"sun\"}, {\"date\": \"2015-03-05T00:00:00\", \"precipitation\": 0.0, \"temp_max\": 13.3, \"temp_min\": 2.8, \"wind\": 1.3, \"weather\": \"sun\"}, {\"date\": \"2015-03-06T00:00:00\", \"precipitation\": 0.0, \"temp_max\": 15.0, \"temp_min\": 3.3, \"wind\": 1.4, \"weather\": \"sun\"}, {\"date\": \"2015-03-07T00:00:00\", \"precipitation\": 0.0, \"temp_max\": 16.7, \"temp_min\": 3.9, \"wind\": 2.7, \"weather\": \"fog\"}, {\"date\": \"2015-03-08T00:00:00\", \"precipitation\": 0.0, \"temp_max\": 17.2, \"temp_min\": 3.9, \"wind\": 1.7, \"weather\": \"fog\"}, {\"date\": \"2015-03-09T00:00:00\", \"precipitation\": 0.0, \"temp_max\": 14.4, \"temp_min\": 4.4, \"wind\": 1.8, \"weather\": \"fog\"}, {\"date\": \"2015-03-10T00:00:00\", \"precipitation\": 0.8, \"temp_max\": 13.3, \"temp_min\": 5.0, \"wind\": 2.6, \"weather\": \"fog\"}, {\"date\": \"2015-03-11T00:00:00\", \"precipitation\": 2.5, \"temp_max\": 14.4, \"temp_min\": 8.9, \"wind\": 3.1, \"weather\": \"fog\"}, {\"date\": \"2015-03-12T00:00:00\", \"precipitation\": 0.0, \"temp_max\": 17.8, \"temp_min\": 9.4, \"wind\": 3.2, \"weather\": \"sun\"}, {\"date\": \"2015-03-13T00:00:00\", \"precipitation\": 2.0, \"temp_max\": 17.2, \"temp_min\": 7.8, \"wind\": 2.2, \"weather\": \"sun\"}, {\"date\": \"2015-03-14T00:00:00\", \"precipitation\": 17.0, \"temp_max\": 13.9, \"temp_min\": 9.4, \"wind\": 3.8, \"weather\": \"fog\"}, {\"date\": \"2015-03-15T00:00:00\", \"precipitation\": 55.9, \"temp_max\": 10.6, \"temp_min\": 6.1, \"wind\": 4.2, \"weather\": \"fog\"}, {\"date\": \"2015-03-16T00:00:00\", \"precipitation\": 1.0, \"temp_max\": 13.9, \"temp_min\": 6.1, \"wind\": 3.0, \"weather\": \"fog\"}, {\"date\": \"2015-03-17T00:00:00\", \"precipitation\": 0.8, \"temp_max\": 13.3, \"temp_min\": 4.4, \"wind\": 2.6, \"weather\": \"sun\"}, {\"date\": \"2015-03-18T00:00:00\", \"precipitation\": 0.0, \"temp_max\": 15.6, \"temp_min\": 7.2, \"wind\": 2.5, \"weather\": \"sun\"}, {\"date\": \"2015-03-19T00:00:00\", \"precipitation\": 0.0, \"temp_max\": 15.6, \"temp_min\": 8.3, \"wind\": 1.9, \"weather\": \"sun\"}, {\"date\": \"2015-03-20T00:00:00\", \"precipitation\": 4.1, \"temp_max\": 13.9, \"temp_min\": 8.9, \"wind\": 1.9, \"weather\": \"sun\"}, {\"date\": \"2015-03-21T00:00:00\", \"precipitation\": 3.8, \"temp_max\": 13.3, \"temp_min\": 8.3, \"wind\": 4.7, \"weather\": \"fog\"}, {\"date\": \"2015-03-22T00:00:00\", \"precipitation\": 1.0, \"temp_max\": 11.7, \"temp_min\": 6.1, \"wind\": 2.3, \"weather\": \"sun\"}, {\"date\": \"2015-03-23T00:00:00\", \"precipitation\": 8.1, \"temp_max\": 11.1, \"temp_min\": 5.6, \"wind\": 2.8, \"weather\": \"fog\"}, {\"date\": \"2015-03-24T00:00:00\", \"precipitation\": 7.6, \"temp_max\": 12.8, \"temp_min\": 6.1, \"wind\": 3.9, \"weather\": \"fog\"}, {\"date\": \"2015-03-25T00:00:00\", \"precipitation\": 5.1, \"temp_max\": 14.4, \"temp_min\": 7.2, \"wind\": 4.4, \"weather\": \"fog\"}, {\"date\": \"2015-03-26T00:00:00\", \"precipitation\": 0.0, \"temp_max\": 20.6, \"temp_min\": 10.0, \"wind\": 2.2, \"weather\": \"sun\"}, {\"date\": \"2015-03-27T00:00:00\", \"precipitation\": 1.0, \"temp_max\": 18.3, \"temp_min\": 8.9, \"wind\": 4.0, \"weather\": \"fog\"}, {\"date\": \"2015-03-28T00:00:00\", \"precipitation\": 0.0, \"temp_max\": 15.6, \"temp_min\": 9.4, \"wind\": 5.7, \"weather\": \"sun\"}, {\"date\": \"2015-03-29T00:00:00\", \"precipitation\": 0.0, \"temp_max\": 15.6, \"temp_min\": 8.9, \"wind\": 3.0, \"weather\": \"sun\"}, {\"date\": \"2015-03-30T00:00:00\", \"precipitation\": 1.8, \"temp_max\": 17.8, \"temp_min\": 10.6, \"wind\": 2.9, \"weather\": \"fog\"}, {\"date\": \"2015-03-31T00:00:00\", \"precipitation\": 1.0, \"temp_max\": 12.8, \"temp_min\": 6.1, \"wind\": 4.2, \"weather\": \"fog\"}, {\"date\": \"2015-04-01T00:00:00\", \"precipitation\": 5.1, \"temp_max\": 12.8, \"temp_min\": 5.6, \"wind\": 3.2, \"weather\": \"rain\"}, {\"date\": \"2015-04-02T00:00:00\", \"precipitation\": 0.0, \"temp_max\": 13.3, \"temp_min\": 5.6, \"wind\": 2.4, \"weather\": \"sun\"}, {\"date\": \"2015-04-03T00:00:00\", \"precipitation\": 1.5, \"temp_max\": 11.1, \"temp_min\": 5.0, \"wind\": 3.6, \"weather\": \"fog\"}, {\"date\": \"2015-04-04T00:00:00\", \"precipitation\": 0.0, \"temp_max\": 12.8, \"temp_min\": 3.9, \"wind\": 1.7, \"weather\": \"sun\"}, {\"date\": \"2015-04-05T00:00:00\", \"precipitation\": 0.0, \"temp_max\": 16.7, \"temp_min\": 2.8, \"wind\": 2.4, \"weather\": \"sun\"}, {\"date\": \"2015-04-06T00:00:00\", \"precipitation\": 1.0, \"temp_max\": 13.9, \"temp_min\": 6.7, \"wind\": 3.5, \"weather\": \"sun\"}, {\"date\": \"2015-04-07T00:00:00\", \"precipitation\": 0.5, \"temp_max\": 14.4, \"temp_min\": 6.7, \"wind\": 3.9, \"weather\": \"sun\"}, {\"date\": \"2015-04-08T00:00:00\", \"precipitation\": 0.0, \"temp_max\": 17.2, \"temp_min\": 6.1, \"wind\": 1.7, \"weather\": \"sun\"}, {\"date\": \"2015-04-09T00:00:00\", \"precipitation\": 0.0, \"temp_max\": 17.2, \"temp_min\": 6.1, \"wind\": 2.3, \"weather\": \"sun\"}, {\"date\": \"2015-04-10T00:00:00\", \"precipitation\": 10.9, \"temp_max\": 13.9, \"temp_min\": 7.8, \"wind\": 4.6, \"weather\": \"fog\"}, {\"date\": \"2015-04-11T00:00:00\", \"precipitation\": 0.0, \"temp_max\": 11.7, \"temp_min\": 5.6, \"wind\": 6.5, \"weather\": \"sun\"}, {\"date\": \"2015-04-12T00:00:00\", \"precipitation\": 0.0, \"temp_max\": 13.3, \"temp_min\": 5.6, \"wind\": 3.6, \"weather\": \"sun\"}, {\"date\": \"2015-04-13T00:00:00\", \"precipitation\": 14.0, \"temp_max\": 11.7, \"temp_min\": 3.9, \"wind\": 3.6, \"weather\": \"fog\"}, {\"date\": \"2015-04-14T00:00:00\", \"precipitation\": 3.3, \"temp_max\": 11.7, \"temp_min\": 2.8, \"wind\": 3.3, \"weather\": \"sun\"}, {\"date\": \"2015-04-15T00:00:00\", \"precipitation\": 0.0, \"temp_max\": 13.9, \"temp_min\": 3.3, \"wind\": 2.4, \"weather\": \"sun\"}, {\"date\": \"2015-04-16T00:00:00\", \"precipitation\": 0.0, \"temp_max\": 17.8, \"temp_min\": 3.9, \"wind\": 3.1, \"weather\": \"sun\"}, {\"date\": \"2015-04-17T00:00:00\", \"precipitation\": 0.0, \"temp_max\": 18.9, \"temp_min\": 6.1, \"wind\": 3.6, \"weather\": \"sun\"}, {\"date\": \"2015-04-18T00:00:00\", \"precipitation\": 0.0, \"temp_max\": 18.9, \"temp_min\": 8.3, \"wind\": 3.9, \"weather\": \"sun\"}, {\"date\": \"2015-04-19T00:00:00\", \"precipitation\": 0.0, \"temp_max\": 21.1, \"temp_min\": 8.3, \"wind\": 3.6, \"weather\": \"sun\"}, {\"date\": \"2015-04-20T00:00:00\", \"precipitation\": 0.0, \"temp_max\": 22.8, \"temp_min\": 7.8, \"wind\": 2.6, \"weather\": \"sun\"}, {\"date\": \"2015-04-21T00:00:00\", \"precipitation\": 5.6, \"temp_max\": 17.2, \"temp_min\": 6.7, \"wind\": 3.4, \"weather\": \"fog\"}, {\"date\": \"2015-04-22T00:00:00\", \"precipitation\": 0.0, \"temp_max\": 15.6, \"temp_min\": 5.0, \"wind\": 2.3, \"weather\": \"sun\"}, {\"date\": \"2015-04-23T00:00:00\", \"precipitation\": 3.0, \"temp_max\": 12.2, \"temp_min\": 6.7, \"wind\": 4.1, \"weather\": \"fog\"}, {\"date\": \"2015-04-24T00:00:00\", \"precipitation\": 3.3, \"temp_max\": 12.2, \"temp_min\": 6.1, \"wind\": 5.0, \"weather\": \"fog\"}, {\"date\": \"2015-04-25T00:00:00\", \"precipitation\": 1.3, \"temp_max\": 13.3, \"temp_min\": 5.6, \"wind\": 3.0, \"weather\": \"fog\"}, {\"date\": \"2015-04-26T00:00:00\", \"precipitation\": 0.0, \"temp_max\": 15.6, \"temp_min\": 4.4, \"wind\": 2.7, \"weather\": \"fog\"}, {\"date\": \"2015-04-27T00:00:00\", \"precipitation\": 0.3, \"temp_max\": 25.0, \"temp_min\": 10.6, \"wind\": 2.3, \"weather\": \"fog\"}, {\"date\": \"2015-04-28T00:00:00\", \"precipitation\": 1.8, \"temp_max\": 15.6, \"temp_min\": 8.9, \"wind\": 4.3, \"weather\": \"fog\"}, {\"date\": \"2015-04-29T00:00:00\", \"precipitation\": 0.0, \"temp_max\": 16.1, \"temp_min\": 7.2, \"wind\": 4.7, \"weather\": \"sun\"}, {\"date\": \"2015-04-30T00:00:00\", \"precipitation\": 0.0, \"temp_max\": 17.2, \"temp_min\": 7.8, \"wind\": 2.1, \"weather\": \"sun\"}, {\"date\": \"2015-05-01T00:00:00\", \"precipitation\": 0.0, \"temp_max\": 18.3, \"temp_min\": 8.9, \"wind\": 3.7, \"weather\": \"sun\"}, {\"date\": \"2015-05-02T00:00:00\", \"precipitation\": 0.0, \"temp_max\": 18.3, \"temp_min\": 7.8, \"wind\": 3.7, \"weather\": \"sun\"}, {\"date\": \"2015-05-03T00:00:00\", \"precipitation\": 0.0, \"temp_max\": 20.6, \"temp_min\": 7.8, \"wind\": 2.6, \"weather\": \"sun\"}, {\"date\": \"2015-05-04T00:00:00\", \"precipitation\": 0.0, \"temp_max\": 17.2, \"temp_min\": 7.2, \"wind\": 5.2, \"weather\": \"sun\"}, {\"date\": \"2015-05-05T00:00:00\", \"precipitation\": 6.1, \"temp_max\": 14.4, \"temp_min\": 7.2, \"wind\": 5.1, \"weather\": \"fog\"}, {\"date\": \"2015-05-06T00:00:00\", \"precipitation\": 0.0, \"temp_max\": 16.7, \"temp_min\": 7.2, \"wind\": 2.6, \"weather\": \"fog\"}, {\"date\": \"2015-05-07T00:00:00\", \"precipitation\": 0.0, \"temp_max\": 20.6, \"temp_min\": 6.1, \"wind\": 3.0, \"weather\": \"sun\"}, {\"date\": \"2015-05-08T00:00:00\", \"precipitation\": 0.0, \"temp_max\": 23.9, \"temp_min\": 8.3, \"wind\": 3.0, \"weather\": \"sun\"}, {\"date\": \"2015-05-09T00:00:00\", \"precipitation\": 0.0, \"temp_max\": 26.7, \"temp_min\": 9.4, \"wind\": 2.6, \"weather\": \"sun\"}, {\"date\": \"2015-05-10T00:00:00\", \"precipitation\": 0.0, \"temp_max\": 19.4, \"temp_min\": 11.1, \"wind\": 2.8, \"weather\": \"sun\"}, {\"date\": \"2015-05-11T00:00:00\", \"precipitation\": 0.0, \"temp_max\": 13.9, \"temp_min\": 10.0, \"wind\": 2.5, \"weather\": \"fog\"}, {\"date\": \"2015-05-12T00:00:00\", \"precipitation\": 4.3, \"temp_max\": 15.6, \"temp_min\": 10.6, \"wind\": 3.3, \"weather\": \"fog\"}, {\"date\": \"2015-05-13T00:00:00\", \"precipitation\": 4.1, \"temp_max\": 12.2, \"temp_min\": 10.0, \"wind\": 2.8, \"weather\": \"fog\"}, {\"date\": \"2015-05-14T00:00:00\", \"precipitation\": 0.3, \"temp_max\": 17.8, \"temp_min\": 9.4, \"wind\": 2.0, \"weather\": \"fog\"}, {\"date\": \"2015-05-15T00:00:00\", \"precipitation\": 0.0, \"temp_max\": 20.0, \"temp_min\": 9.4, \"wind\": 2.8, \"weather\": \"fog\"}, {\"date\": \"2015-05-16T00:00:00\", \"precipitation\": 0.0, \"temp_max\": 15.6, \"temp_min\": 11.1, \"wind\": 3.0, \"weather\": \"sun\"}, {\"date\": \"2015-05-17T00:00:00\", \"precipitation\": 0.0, \"temp_max\": 19.4, \"temp_min\": 10.6, \"wind\": 2.1, \"weather\": \"sun\"}, {\"date\": \"2015-05-18T00:00:00\", \"precipitation\": 0.0, \"temp_max\": 25.6, \"temp_min\": 12.2, \"wind\": 3.0, \"weather\": \"sun\"}, {\"date\": \"2015-05-19T00:00:00\", \"precipitation\": 0.0, \"temp_max\": 21.7, \"temp_min\": 11.7, \"wind\": 2.6, \"weather\": \"sun\"}, {\"date\": \"2015-05-20T00:00:00\", \"precipitation\": 0.0, \"temp_max\": 23.3, \"temp_min\": 10.6, \"wind\": 1.8, \"weather\": \"fog\"}, {\"date\": \"2015-05-21T00:00:00\", \"precipitation\": 0.0, \"temp_max\": 25.6, \"temp_min\": 11.7, \"wind\": 2.1, \"weather\": \"sun\"}, {\"date\": \"2015-05-22T00:00:00\", \"precipitation\": 0.0, \"temp_max\": 16.7, \"temp_min\": 11.7, \"wind\": 3.7, \"weather\": \"sun\"}, {\"date\": \"2015-05-23T00:00:00\", \"precipitation\": 0.0, \"temp_max\": 16.1, \"temp_min\": 11.7, \"wind\": 2.6, \"weather\": \"sun\"}, {\"date\": \"2015-05-24T00:00:00\", \"precipitation\": 0.0, \"temp_max\": 17.8, \"temp_min\": 11.1, \"wind\": 2.7, \"weather\": \"sun\"}, {\"date\": \"2015-05-25T00:00:00\", \"precipitation\": 0.0, \"temp_max\": 15.6, \"temp_min\": 11.1, \"wind\": 2.7, \"weather\": \"sun\"}, {\"date\": \"2015-05-26T00:00:00\", \"precipitation\": 0.0, \"temp_max\": 21.7, \"temp_min\": 11.7, \"wind\": 2.1, \"weather\": \"sun\"}, {\"date\": \"2015-05-27T00:00:00\", \"precipitation\": 0.0, \"temp_max\": 24.4, \"temp_min\": 11.7, \"wind\": 1.8, \"weather\": \"sun\"}, {\"date\": \"2015-05-28T00:00:00\", \"precipitation\": 0.0, \"temp_max\": 27.8, \"temp_min\": 12.2, \"wind\": 2.1, \"weather\": \"sun\"}, {\"date\": \"2015-05-29T00:00:00\", \"precipitation\": 0.0, \"temp_max\": 26.1, \"temp_min\": 12.8, \"wind\": 2.5, \"weather\": \"sun\"}, {\"date\": \"2015-05-30T00:00:00\", \"precipitation\": 0.0, \"temp_max\": 22.8, \"temp_min\": 10.0, \"wind\": 2.5, \"weather\": \"sun\"}, {\"date\": \"2015-05-31T00:00:00\", \"precipitation\": 0.0, \"temp_max\": 25.0, \"temp_min\": 11.7, \"wind\": 2.2, \"weather\": \"sun\"}, {\"date\": \"2015-06-01T00:00:00\", \"precipitation\": 4.6, \"temp_max\": 16.1, \"temp_min\": 11.7, \"wind\": 3.4, \"weather\": \"fog\"}, {\"date\": \"2015-06-02T00:00:00\", \"precipitation\": 0.5, \"temp_max\": 17.8, \"temp_min\": 12.8, \"wind\": 5.0, \"weather\": \"sun\"}, {\"date\": \"2015-06-03T00:00:00\", \"precipitation\": 0.0, \"temp_max\": 20.0, \"temp_min\": 11.7, \"wind\": 3.0, \"weather\": \"sun\"}, {\"date\": \"2015-06-04T00:00:00\", \"precipitation\": 0.0, \"temp_max\": 22.8, \"temp_min\": 11.7, \"wind\": 3.9, \"weather\": \"sun\"}, {\"date\": \"2015-06-05T00:00:00\", \"precipitation\": 0.0, \"temp_max\": 26.7, \"temp_min\": 12.8, \"wind\": 4.3, \"weather\": \"sun\"}, {\"date\": \"2015-06-06T00:00:00\", \"precipitation\": 0.0, \"temp_max\": 29.4, \"temp_min\": 13.3, \"wind\": 2.6, \"weather\": \"sun\"}, {\"date\": \"2015-06-07T00:00:00\", \"precipitation\": 0.0, \"temp_max\": 31.1, \"temp_min\": 15.6, \"wind\": 3.2, \"weather\": \"sun\"}, {\"date\": \"2015-06-08T00:00:00\", \"precipitation\": 0.0, \"temp_max\": 30.6, \"temp_min\": 14.4, \"wind\": 3.5, \"weather\": \"sun\"}, {\"date\": \"2015-06-09T00:00:00\", \"precipitation\": 0.0, \"temp_max\": 28.9, \"temp_min\": 14.4, \"wind\": 2.7, \"weather\": \"sun\"}, {\"date\": \"2015-06-10T00:00:00\", \"precipitation\": 0.0, \"temp_max\": 25.6, \"temp_min\": 11.1, \"wind\": 3.0, \"weather\": \"sun\"}, {\"date\": \"2015-06-11T00:00:00\", \"precipitation\": 0.0, \"temp_max\": 24.4, \"temp_min\": 11.1, \"wind\": 3.5, \"weather\": \"sun\"}, {\"date\": \"2015-06-12T00:00:00\", \"precipitation\": 0.0, \"temp_max\": 20.0, \"temp_min\": 11.7, \"wind\": 2.3, \"weather\": \"sun\"}, {\"date\": \"2015-06-13T00:00:00\", \"precipitation\": 0.0, \"temp_max\": 23.9, \"temp_min\": 9.4, \"wind\": 2.6, \"weather\": \"sun\"}, {\"date\": \"2015-06-14T00:00:00\", \"precipitation\": 0.0, \"temp_max\": 27.8, \"temp_min\": 11.7, \"wind\": 3.7, \"weather\": \"sun\"}, {\"date\": \"2015-06-15T00:00:00\", \"precipitation\": 0.0, \"temp_max\": 30.0, \"temp_min\": 16.1, \"wind\": 3.5, \"weather\": \"drizzle\"}, {\"date\": \"2015-06-16T00:00:00\", \"precipitation\": 0.0, \"temp_max\": 22.8, \"temp_min\": 11.1, \"wind\": 3.0, \"weather\": \"sun\"}, {\"date\": \"2015-06-17T00:00:00\", \"precipitation\": 0.0, \"temp_max\": 25.0, \"temp_min\": 11.1, \"wind\": 3.1, \"weather\": \"sun\"}, {\"date\": \"2015-06-18T00:00:00\", \"precipitation\": 0.0, \"temp_max\": 24.4, \"temp_min\": 13.9, \"wind\": 3.0, \"weather\": \"sun\"}, {\"date\": \"2015-06-19T00:00:00\", \"precipitation\": 0.5, \"temp_max\": 23.9, \"temp_min\": 13.3, \"wind\": 3.2, \"weather\": \"fog\"}, {\"date\": \"2015-06-20T00:00:00\", \"precipitation\": 0.0, \"temp_max\": 25.0, \"temp_min\": 12.8, \"wind\": 4.3, \"weather\": \"sun\"}, {\"date\": \"2015-06-21T00:00:00\", \"precipitation\": 0.0, \"temp_max\": 25.6, \"temp_min\": 13.9, \"wind\": 3.4, \"weather\": \"sun\"}, {\"date\": \"2015-06-22T00:00:00\", \"precipitation\": 0.0, \"temp_max\": 25.0, \"temp_min\": 12.8, \"wind\": 2.4, \"weather\": \"sun\"}, {\"date\": \"2015-06-23T00:00:00\", \"precipitation\": 0.0, \"temp_max\": 26.1, \"temp_min\": 11.7, \"wind\": 2.4, \"weather\": \"sun\"}, {\"date\": \"2015-06-24T00:00:00\", \"precipitation\": 0.0, \"temp_max\": 25.6, \"temp_min\": 16.1, \"wind\": 2.6, \"weather\": \"sun\"}, {\"date\": \"2015-06-25T00:00:00\", \"precipitation\": 0.0, \"temp_max\": 30.6, \"temp_min\": 15.6, \"wind\": 3.0, \"weather\": \"sun\"}, {\"date\": \"2015-06-26T00:00:00\", \"precipitation\": 0.0, \"temp_max\": 31.7, \"temp_min\": 17.8, \"wind\": 4.7, \"weather\": \"sun\"}, {\"date\": \"2015-06-27T00:00:00\", \"precipitation\": 0.0, \"temp_max\": 33.3, \"temp_min\": 17.2, \"wind\": 3.9, \"weather\": \"sun\"}, {\"date\": \"2015-06-28T00:00:00\", \"precipitation\": 0.3, \"temp_max\": 28.3, \"temp_min\": 18.3, \"wind\": 2.1, \"weather\": \"sun\"}, {\"date\": \"2015-06-29T00:00:00\", \"precipitation\": 0.0, \"temp_max\": 28.9, \"temp_min\": 17.2, \"wind\": 2.7, \"weather\": \"sun\"}, {\"date\": \"2015-06-30T00:00:00\", \"precipitation\": 0.0, \"temp_max\": 30.6, \"temp_min\": 15.0, \"wind\": 3.4, \"weather\": \"fog\"}, {\"date\": \"2015-07-01T00:00:00\", \"precipitation\": 0.0, \"temp_max\": 32.2, \"temp_min\": 17.2, \"wind\": 4.3, \"weather\": \"sun\"}, {\"date\": \"2015-07-02T00:00:00\", \"precipitation\": 0.0, \"temp_max\": 33.9, \"temp_min\": 17.8, \"wind\": 3.4, \"weather\": \"sun\"}, {\"date\": \"2015-07-03T00:00:00\", \"precipitation\": 0.0, \"temp_max\": 33.3, \"temp_min\": 17.8, \"wind\": 2.6, \"weather\": \"sun\"}, {\"date\": \"2015-07-04T00:00:00\", \"precipitation\": 0.0, \"temp_max\": 33.3, \"temp_min\": 15.0, \"wind\": 2.9, \"weather\": \"sun\"}, {\"date\": \"2015-07-05T00:00:00\", \"precipitation\": 0.0, \"temp_max\": 32.8, \"temp_min\": 16.7, \"wind\": 2.1, \"weather\": \"sun\"}, {\"date\": \"2015-07-06T00:00:00\", \"precipitation\": 0.0, \"temp_max\": 29.4, \"temp_min\": 15.6, \"wind\": 3.2, \"weather\": \"drizzle\"}, {\"date\": \"2015-07-07T00:00:00\", \"precipitation\": 0.0, \"temp_max\": 27.2, \"temp_min\": 13.9, \"wind\": 2.4, \"weather\": \"sun\"}, {\"date\": \"2015-07-08T00:00:00\", \"precipitation\": 0.0, \"temp_max\": 30.0, \"temp_min\": 14.4, \"wind\": 1.9, \"weather\": \"drizzle\"}, {\"date\": \"2015-07-09T00:00:00\", \"precipitation\": 0.0, \"temp_max\": 28.9, \"temp_min\": 14.4, \"wind\": 3.4, \"weather\": \"sun\"}, {\"date\": \"2015-07-10T00:00:00\", \"precipitation\": 0.0, \"temp_max\": 21.1, \"temp_min\": 16.7, \"wind\": 3.7, \"weather\": \"sun\"}, {\"date\": \"2015-07-11T00:00:00\", \"precipitation\": 0.0, \"temp_max\": 22.2, \"temp_min\": 16.7, \"wind\": 3.0, \"weather\": \"sun\"}, {\"date\": \"2015-07-12T00:00:00\", \"precipitation\": 0.0, \"temp_max\": 26.1, \"temp_min\": 16.7, \"wind\": 2.2, \"weather\": \"sun\"}, {\"date\": \"2015-07-13T00:00:00\", \"precipitation\": 0.0, \"temp_max\": 25.6, \"temp_min\": 16.1, \"wind\": 3.1, \"weather\": \"sun\"}, {\"date\": \"2015-07-14T00:00:00\", \"precipitation\": 0.0, \"temp_max\": 27.8, \"temp_min\": 16.1, \"wind\": 3.3, \"weather\": \"sun\"}, {\"date\": \"2015-07-15T00:00:00\", \"precipitation\": 0.0, \"temp_max\": 26.1, \"temp_min\": 14.4, \"wind\": 3.2, \"weather\": \"sun\"}, {\"date\": \"2015-07-16T00:00:00\", \"precipitation\": 0.0, \"temp_max\": 26.1, \"temp_min\": 15.0, \"wind\": 2.8, \"weather\": \"sun\"}, {\"date\": \"2015-07-17T00:00:00\", \"precipitation\": 0.0, \"temp_max\": 27.8, \"temp_min\": 13.9, \"wind\": 3.3, \"weather\": \"sun\"}, {\"date\": \"2015-07-18T00:00:00\", \"precipitation\": 0.0, \"temp_max\": 33.3, \"temp_min\": 17.8, \"wind\": 3.4, \"weather\": \"sun\"}, {\"date\": \"2015-07-19T00:00:00\", \"precipitation\": 0.0, \"temp_max\": 35.0, \"temp_min\": 17.2, \"wind\": 3.3, \"weather\": \"sun\"}, {\"date\": \"2015-07-20T00:00:00\", \"precipitation\": 0.0, \"temp_max\": 26.7, \"temp_min\": 16.7, \"wind\": 3.9, \"weather\": \"sun\"}, {\"date\": \"2015-07-21T00:00:00\", \"precipitation\": 0.0, \"temp_max\": 23.9, \"temp_min\": 15.0, \"wind\": 2.4, \"weather\": \"sun\"}, {\"date\": \"2015-07-22T00:00:00\", \"precipitation\": 0.0, \"temp_max\": 23.9, \"temp_min\": 13.9, \"wind\": 2.8, \"weather\": \"sun\"}, {\"date\": \"2015-07-23T00:00:00\", \"precipitation\": 0.0, \"temp_max\": 26.1, \"temp_min\": 14.4, \"wind\": 1.9, \"weather\": \"sun\"}, {\"date\": \"2015-07-24T00:00:00\", \"precipitation\": 0.3, \"temp_max\": 22.8, \"temp_min\": 13.3, \"wind\": 3.8, \"weather\": \"fog\"}, {\"date\": \"2015-07-25T00:00:00\", \"precipitation\": 0.0, \"temp_max\": 21.1, \"temp_min\": 14.4, \"wind\": 2.4, \"weather\": \"fog\"}, {\"date\": \"2015-07-26T00:00:00\", \"precipitation\": 2.0, \"temp_max\": 22.2, \"temp_min\": 13.9, \"wind\": 2.6, \"weather\": \"fog\"}, {\"date\": \"2015-07-27T00:00:00\", \"precipitation\": 0.0, \"temp_max\": 23.3, \"temp_min\": 12.2, \"wind\": 1.9, \"weather\": \"fog\"}, {\"date\": \"2015-07-28T00:00:00\", \"precipitation\": 0.0, \"temp_max\": 27.8, \"temp_min\": 13.9, \"wind\": 3.4, \"weather\": \"sun\"}, {\"date\": \"2015-07-29T00:00:00\", \"precipitation\": 0.0, \"temp_max\": 32.2, \"temp_min\": 14.4, \"wind\": 3.8, \"weather\": \"sun\"}, {\"date\": \"2015-07-30T00:00:00\", \"precipitation\": 0.0, \"temp_max\": 34.4, \"temp_min\": 17.2, \"wind\": 3.5, \"weather\": \"sun\"}, {\"date\": \"2015-07-31T00:00:00\", \"precipitation\": 0.0, \"temp_max\": 34.4, \"temp_min\": 17.8, \"wind\": 2.6, \"weather\": \"sun\"}, {\"date\": \"2015-08-01T00:00:00\", \"precipitation\": 0.0, \"temp_max\": 33.3, \"temp_min\": 15.6, \"wind\": 3.1, \"weather\": \"sun\"}, {\"date\": \"2015-08-02T00:00:00\", \"precipitation\": 0.0, \"temp_max\": 30.6, \"temp_min\": 16.1, \"wind\": 2.0, \"weather\": \"sun\"}, {\"date\": \"2015-08-03T00:00:00\", \"precipitation\": 0.0, \"temp_max\": 28.3, \"temp_min\": 17.2, \"wind\": 2.3, \"weather\": \"sun\"}, {\"date\": \"2015-08-04T00:00:00\", \"precipitation\": 0.0, \"temp_max\": 26.1, \"temp_min\": 14.4, \"wind\": 2.6, \"weather\": \"fog\"}, {\"date\": \"2015-08-05T00:00:00\", \"precipitation\": 0.0, \"temp_max\": 23.3, \"temp_min\": 12.2, \"wind\": 3.5, \"weather\": \"sun\"}, {\"date\": \"2015-08-06T00:00:00\", \"precipitation\": 0.0, \"temp_max\": 25.0, \"temp_min\": 15.0, \"wind\": 2.9, \"weather\": \"sun\"}, {\"date\": \"2015-08-07T00:00:00\", \"precipitation\": 0.0, \"temp_max\": 28.3, \"temp_min\": 15.6, \"wind\": 3.7, \"weather\": \"sun\"}, {\"date\": \"2015-08-08T00:00:00\", \"precipitation\": 0.0, \"temp_max\": 25.0, \"temp_min\": 15.6, \"wind\": 3.6, \"weather\": \"fog\"}, {\"date\": \"2015-08-09T00:00:00\", \"precipitation\": 0.0, \"temp_max\": 28.3, \"temp_min\": 15.0, \"wind\": 2.2, \"weather\": \"sun\"}, {\"date\": \"2015-08-10T00:00:00\", \"precipitation\": 0.0, \"temp_max\": 28.9, \"temp_min\": 16.1, \"wind\": 2.4, \"weather\": \"sun\"}, {\"date\": \"2015-08-11T00:00:00\", \"precipitation\": 0.0, \"temp_max\": 30.0, \"temp_min\": 16.7, \"wind\": 4.4, \"weather\": \"sun\"}, {\"date\": \"2015-08-12T00:00:00\", \"precipitation\": 7.6, \"temp_max\": 28.3, \"temp_min\": 16.7, \"wind\": 2.7, \"weather\": \"rain\"}, {\"date\": \"2015-08-13T00:00:00\", \"precipitation\": 0.0, \"temp_max\": 28.3, \"temp_min\": 15.6, \"wind\": 2.2, \"weather\": \"sun\"}, {\"date\": \"2015-08-14T00:00:00\", \"precipitation\": 30.5, \"temp_max\": 18.3, \"temp_min\": 15.0, \"wind\": 5.2, \"weather\": \"rain\"}, {\"date\": \"2015-08-15T00:00:00\", \"precipitation\": 0.0, \"temp_max\": 21.7, \"temp_min\": 13.9, \"wind\": 3.7, \"weather\": \"sun\"}, {\"date\": \"2015-08-16T00:00:00\", \"precipitation\": 0.0, \"temp_max\": 25.0, \"temp_min\": 14.4, \"wind\": 3.7, \"weather\": \"sun\"}, {\"date\": \"2015-08-17T00:00:00\", \"precipitation\": 0.0, \"temp_max\": 27.2, \"temp_min\": 13.9, \"wind\": 3.0, \"weather\": \"sun\"}, {\"date\": \"2015-08-18T00:00:00\", \"precipitation\": 0.0, \"temp_max\": 30.0, \"temp_min\": 15.0, \"wind\": 3.0, \"weather\": \"sun\"}, {\"date\": \"2015-08-19T00:00:00\", \"precipitation\": 0.0, \"temp_max\": 31.7, \"temp_min\": 16.1, \"wind\": 2.1, \"weather\": \"drizzle\"}, {\"date\": \"2015-08-20T00:00:00\", \"precipitation\": 2.0, \"temp_max\": 22.8, \"temp_min\": 14.4, \"wind\": 4.2, \"weather\": \"fog\"}, {\"date\": \"2015-08-21T00:00:00\", \"precipitation\": 0.0, \"temp_max\": 22.2, \"temp_min\": 14.4, \"wind\": 2.6, \"weather\": \"sun\"}, {\"date\": \"2015-08-22T00:00:00\", \"precipitation\": 0.0, \"temp_max\": 26.7, \"temp_min\": 12.2, \"wind\": 2.5, \"weather\": \"drizzle\"}, {\"date\": \"2015-08-23T00:00:00\", \"precipitation\": 0.0, \"temp_max\": 27.8, \"temp_min\": 13.9, \"wind\": 1.8, \"weather\": \"drizzle\"}, {\"date\": \"2015-08-24T00:00:00\", \"precipitation\": 0.0, \"temp_max\": 23.9, \"temp_min\": 12.2, \"wind\": 2.3, \"weather\": \"sun\"}, {\"date\": \"2015-08-25T00:00:00\", \"precipitation\": 0.0, \"temp_max\": 25.6, \"temp_min\": 12.2, \"wind\": 3.4, \"weather\": \"sun\"}, {\"date\": \"2015-08-26T00:00:00\", \"precipitation\": 0.0, \"temp_max\": 28.3, \"temp_min\": 13.9, \"wind\": 1.7, \"weather\": \"sun\"}, {\"date\": \"2015-08-27T00:00:00\", \"precipitation\": 0.0, \"temp_max\": 29.4, \"temp_min\": 14.4, \"wind\": 2.1, \"weather\": \"sun\"}, {\"date\": \"2015-08-28T00:00:00\", \"precipitation\": 0.5, \"temp_max\": 23.3, \"temp_min\": 15.6, \"wind\": 2.6, \"weather\": \"fog\"}, {\"date\": \"2015-08-29T00:00:00\", \"precipitation\": 32.5, \"temp_max\": 22.2, \"temp_min\": 13.3, \"wind\": 5.8, \"weather\": \"fog\"}, {\"date\": \"2015-08-30T00:00:00\", \"precipitation\": 10.2, \"temp_max\": 20.0, \"temp_min\": 12.8, \"wind\": 4.7, \"weather\": \"fog\"}, {\"date\": \"2015-08-31T00:00:00\", \"precipitation\": 0.0, \"temp_max\": 18.9, \"temp_min\": 16.1, \"wind\": 5.8, \"weather\": \"sun\"}, {\"date\": \"2015-09-01T00:00:00\", \"precipitation\": 5.8, \"temp_max\": 19.4, \"temp_min\": 13.9, \"wind\": 5.0, \"weather\": \"fog\"}, {\"date\": \"2015-09-02T00:00:00\", \"precipitation\": 0.0, \"temp_max\": 19.4, \"temp_min\": 11.1, \"wind\": 3.8, \"weather\": \"sun\"}, {\"date\": \"2015-09-03T00:00:00\", \"precipitation\": 0.0, \"temp_max\": 18.3, \"temp_min\": 10.6, \"wind\": 2.9, \"weather\": \"sun\"}, {\"date\": \"2015-09-04T00:00:00\", \"precipitation\": 0.0, \"temp_max\": 18.3, \"temp_min\": 10.0, \"wind\": 2.9, \"weather\": \"sun\"}, {\"date\": \"2015-09-05T00:00:00\", \"precipitation\": 0.3, \"temp_max\": 20.6, \"temp_min\": 8.9, \"wind\": 3.5, \"weather\": \"sun\"}, {\"date\": \"2015-09-06T00:00:00\", \"precipitation\": 5.3, \"temp_max\": 16.1, \"temp_min\": 11.7, \"wind\": 2.4, \"weather\": \"fog\"}, {\"date\": \"2015-09-07T00:00:00\", \"precipitation\": 0.3, \"temp_max\": 21.1, \"temp_min\": 13.3, \"wind\": 1.5, \"weather\": \"fog\"}, {\"date\": \"2015-09-08T00:00:00\", \"precipitation\": 0.0, \"temp_max\": 22.8, \"temp_min\": 13.3, \"wind\": 2.4, \"weather\": \"sun\"}, {\"date\": \"2015-09-09T00:00:00\", \"precipitation\": 0.0, \"temp_max\": 24.4, \"temp_min\": 13.9, \"wind\": 3.3, \"weather\": \"sun\"}, {\"date\": \"2015-09-10T00:00:00\", \"precipitation\": 0.0, \"temp_max\": 25.0, \"temp_min\": 14.4, \"wind\": 3.6, \"weather\": \"fog\"}, {\"date\": \"2015-09-11T00:00:00\", \"precipitation\": 0.0, \"temp_max\": 27.2, \"temp_min\": 15.0, \"wind\": 3.1, \"weather\": \"sun\"}, {\"date\": \"2015-09-12T00:00:00\", \"precipitation\": 0.0, \"temp_max\": 26.7, \"temp_min\": 14.4, \"wind\": 2.1, \"weather\": \"sun\"}, {\"date\": \"2015-09-13T00:00:00\", \"precipitation\": 0.5, \"temp_max\": 20.6, \"temp_min\": 12.8, \"wind\": 3.0, \"weather\": \"fog\"}, {\"date\": \"2015-09-14T00:00:00\", \"precipitation\": 0.0, \"temp_max\": 16.7, \"temp_min\": 10.6, \"wind\": 3.4, \"weather\": \"sun\"}, {\"date\": \"2015-09-15T00:00:00\", \"precipitation\": 0.0, \"temp_max\": 17.8, \"temp_min\": 10.0, \"wind\": 2.8, \"weather\": \"sun\"}, {\"date\": \"2015-09-16T00:00:00\", \"precipitation\": 1.0, \"temp_max\": 20.0, \"temp_min\": 10.0, \"wind\": 1.9, \"weather\": \"sun\"}, {\"date\": \"2015-09-17T00:00:00\", \"precipitation\": 1.8, \"temp_max\": 18.3, \"temp_min\": 12.8, \"wind\": 3.8, \"weather\": \"fog\"}, {\"date\": \"2015-09-18T00:00:00\", \"precipitation\": 0.0, \"temp_max\": 19.4, \"temp_min\": 12.8, \"wind\": 2.6, \"weather\": \"sun\"}, {\"date\": \"2015-09-19T00:00:00\", \"precipitation\": 0.0, \"temp_max\": 21.1, \"temp_min\": 14.4, \"wind\": 4.3, \"weather\": \"sun\"}, {\"date\": \"2015-09-20T00:00:00\", \"precipitation\": 4.1, \"temp_max\": 22.8, \"temp_min\": 12.2, \"wind\": 6.8, \"weather\": \"fog\"}, {\"date\": \"2015-09-21T00:00:00\", \"precipitation\": 0.0, \"temp_max\": 18.3, \"temp_min\": 9.4, \"wind\": 2.7, \"weather\": \"fog\"}, {\"date\": \"2015-09-22T00:00:00\", \"precipitation\": 0.0, \"temp_max\": 18.9, \"temp_min\": 7.8, \"wind\": 2.0, \"weather\": \"sun\"}, {\"date\": \"2015-09-23T00:00:00\", \"precipitation\": 0.0, \"temp_max\": 20.6, \"temp_min\": 8.3, \"wind\": 1.8, \"weather\": \"sun\"}, {\"date\": \"2015-09-24T00:00:00\", \"precipitation\": 0.0, \"temp_max\": 22.2, \"temp_min\": 11.1, \"wind\": 2.5, \"weather\": \"fog\"}, {\"date\": \"2015-09-25T00:00:00\", \"precipitation\": 2.0, \"temp_max\": 15.6, \"temp_min\": 12.8, \"wind\": 2.6, \"weather\": \"fog\"}, {\"date\": \"2015-09-26T00:00:00\", \"precipitation\": 0.0, \"temp_max\": 18.3, \"temp_min\": 10.0, \"wind\": 2.7, \"weather\": \"sun\"}, {\"date\": \"2015-09-27T00:00:00\", \"precipitation\": 0.0, \"temp_max\": 17.8, \"temp_min\": 7.2, \"wind\": 3.8, \"weather\": \"sun\"}, {\"date\": \"2015-09-28T00:00:00\", \"precipitation\": 0.0, \"temp_max\": 21.1, \"temp_min\": 9.4, \"wind\": 5.1, \"weather\": \"sun\"}, {\"date\": \"2015-09-29T00:00:00\", \"precipitation\": 0.0, \"temp_max\": 21.7, \"temp_min\": 8.9, \"wind\": 1.9, \"weather\": \"sun\"}, {\"date\": \"2015-09-30T00:00:00\", \"precipitation\": 0.0, \"temp_max\": 18.3, \"temp_min\": 10.0, \"wind\": 1.3, \"weather\": \"fog\"}, {\"date\": \"2015-10-01T00:00:00\", \"precipitation\": 0.0, \"temp_max\": 21.1, \"temp_min\": 9.4, \"wind\": 1.3, \"weather\": \"fog\"}, {\"date\": \"2015-10-02T00:00:00\", \"precipitation\": 0.0, \"temp_max\": 15.6, \"temp_min\": 10.0, \"wind\": 2.9, \"weather\": \"fog\"}, {\"date\": \"2015-10-03T00:00:00\", \"precipitation\": 0.0, \"temp_max\": 19.4, \"temp_min\": 11.1, \"wind\": 4.8, \"weather\": \"sun\"}, {\"date\": \"2015-10-04T00:00:00\", \"precipitation\": 0.0, \"temp_max\": 22.8, \"temp_min\": 10.0, \"wind\": 3.7, \"weather\": \"sun\"}, {\"date\": \"2015-10-05T00:00:00\", \"precipitation\": 0.0, \"temp_max\": 23.3, \"temp_min\": 9.4, \"wind\": 1.6, \"weather\": \"sun\"}, {\"date\": \"2015-10-06T00:00:00\", \"precipitation\": 0.0, \"temp_max\": 18.3, \"temp_min\": 10.0, \"wind\": 2.6, \"weather\": \"drizzle\"}, {\"date\": \"2015-10-07T00:00:00\", \"precipitation\": 9.9, \"temp_max\": 16.1, \"temp_min\": 13.9, \"wind\": 2.2, \"weather\": \"fog\"}, {\"date\": \"2015-10-08T00:00:00\", \"precipitation\": 0.0, \"temp_max\": 18.9, \"temp_min\": 13.3, \"wind\": 1.1, \"weather\": \"fog\"}, {\"date\": \"2015-10-09T00:00:00\", \"precipitation\": 0.3, \"temp_max\": 19.4, \"temp_min\": 12.2, \"wind\": 2.6, \"weather\": \"fog\"}, {\"date\": \"2015-10-10T00:00:00\", \"precipitation\": 28.7, \"temp_max\": 21.1, \"temp_min\": 13.3, \"wind\": 4.7, \"weather\": \"fog\"}, {\"date\": \"2015-10-11T00:00:00\", \"precipitation\": 0.0, \"temp_max\": 17.8, \"temp_min\": 10.6, \"wind\": 2.6, \"weather\": \"sun\"}, {\"date\": \"2015-10-12T00:00:00\", \"precipitation\": 4.6, \"temp_max\": 18.3, \"temp_min\": 10.6, \"wind\": 2.8, \"weather\": \"fog\"}, {\"date\": \"2015-10-13T00:00:00\", \"precipitation\": 1.3, \"temp_max\": 16.7, \"temp_min\": 9.4, \"wind\": 3.2, \"weather\": \"fog\"}, {\"date\": \"2015-10-14T00:00:00\", \"precipitation\": 0.0, \"temp_max\": 15.0, \"temp_min\": 10.0, \"wind\": 5.0, \"weather\": \"fog\"}, {\"date\": \"2015-10-15T00:00:00\", \"precipitation\": 0.0, \"temp_max\": 21.1, \"temp_min\": 9.4, \"wind\": 3.4, \"weather\": \"fog\"}, {\"date\": \"2015-10-16T00:00:00\", \"precipitation\": 0.0, \"temp_max\": 20.0, \"temp_min\": 8.9, \"wind\": 1.3, \"weather\": \"sun\"}, {\"date\": \"2015-10-17T00:00:00\", \"precipitation\": 0.3, \"temp_max\": 19.4, \"temp_min\": 11.7, \"wind\": 1.3, \"weather\": \"fog\"}, {\"date\": \"2015-10-18T00:00:00\", \"precipitation\": 3.8, \"temp_max\": 15.0, \"temp_min\": 12.8, \"wind\": 2.0, \"weather\": \"fog\"}, {\"date\": \"2015-10-19T00:00:00\", \"precipitation\": 0.3, \"temp_max\": 17.2, \"temp_min\": 12.2, \"wind\": 2.6, \"weather\": \"fog\"}, {\"date\": \"2015-10-20T00:00:00\", \"precipitation\": 0.0, \"temp_max\": 17.8, \"temp_min\": 10.6, \"wind\": 1.8, \"weather\": \"fog\"}, {\"date\": \"2015-10-21T00:00:00\", \"precipitation\": 0.0, \"temp_max\": 16.1, \"temp_min\": 8.3, \"wind\": 1.3, \"weather\": \"fog\"}, {\"date\": \"2015-10-22T00:00:00\", \"precipitation\": 0.0, \"temp_max\": 16.1, \"temp_min\": 8.9, \"wind\": 2.7, \"weather\": \"fog\"}, {\"date\": \"2015-10-23T00:00:00\", \"precipitation\": 0.0, \"temp_max\": 12.8, \"temp_min\": 7.2, \"wind\": 2.6, \"weather\": \"fog\"}, {\"date\": \"2015-10-24T00:00:00\", \"precipitation\": 0.0, \"temp_max\": 15.0, \"temp_min\": 8.9, \"wind\": 2.9, \"weather\": \"fog\"}, {\"date\": \"2015-10-25T00:00:00\", \"precipitation\": 8.9, \"temp_max\": 19.4, \"temp_min\": 8.9, \"wind\": 3.4, \"weather\": \"rain\"}, {\"date\": \"2015-10-26T00:00:00\", \"precipitation\": 6.9, \"temp_max\": 12.2, \"temp_min\": 10.0, \"wind\": 4.6, \"weather\": \"fog\"}, {\"date\": \"2015-10-27T00:00:00\", \"precipitation\": 0.0, \"temp_max\": 16.1, \"temp_min\": 7.8, \"wind\": 1.7, \"weather\": \"fog\"}, {\"date\": \"2015-10-28T00:00:00\", \"precipitation\": 3.3, \"temp_max\": 13.9, \"temp_min\": 11.1, \"wind\": 2.8, \"weather\": \"fog\"}, {\"date\": \"2015-10-29T00:00:00\", \"precipitation\": 1.8, \"temp_max\": 15.0, \"temp_min\": 12.2, \"wind\": 4.7, \"weather\": \"fog\"}, {\"date\": \"2015-10-30T00:00:00\", \"precipitation\": 19.3, \"temp_max\": 17.2, \"temp_min\": 11.7, \"wind\": 6.7, \"weather\": \"fog\"}, {\"date\": \"2015-10-31T00:00:00\", \"precipitation\": 33.0, \"temp_max\": 15.6, \"temp_min\": 11.7, \"wind\": 7.2, \"weather\": \"fog\"}, {\"date\": \"2015-11-01T00:00:00\", \"precipitation\": 26.2, \"temp_max\": 12.2, \"temp_min\": 8.9, \"wind\": 6.0, \"weather\": \"fog\"}, {\"date\": \"2015-11-02T00:00:00\", \"precipitation\": 0.3, \"temp_max\": 11.1, \"temp_min\": 7.2, \"wind\": 2.8, \"weather\": \"fog\"}, {\"date\": \"2015-11-03T00:00:00\", \"precipitation\": 0.8, \"temp_max\": 10.6, \"temp_min\": 5.0, \"wind\": 1.4, \"weather\": \"fog\"}, {\"date\": \"2015-11-04T00:00:00\", \"precipitation\": 0.0, \"temp_max\": 10.0, \"temp_min\": 3.3, \"wind\": 2.2, \"weather\": \"sun\"}, {\"date\": \"2015-11-05T00:00:00\", \"precipitation\": 1.3, \"temp_max\": 11.7, \"temp_min\": 7.8, \"wind\": 2.3, \"weather\": \"fog\"}, {\"date\": \"2015-11-06T00:00:00\", \"precipitation\": 0.0, \"temp_max\": 15.6, \"temp_min\": 8.3, \"wind\": 2.7, \"weather\": \"fog\"}, {\"date\": \"2015-11-07T00:00:00\", \"precipitation\": 12.7, \"temp_max\": 12.2, \"temp_min\": 9.4, \"wind\": 3.0, \"weather\": \"fog\"}, {\"date\": \"2015-11-08T00:00:00\", \"precipitation\": 6.6, \"temp_max\": 11.1, \"temp_min\": 7.8, \"wind\": 1.8, \"weather\": \"fog\"}, {\"date\": \"2015-11-09T00:00:00\", \"precipitation\": 3.3, \"temp_max\": 10.0, \"temp_min\": 5.0, \"wind\": 1.3, \"weather\": \"fog\"}, {\"date\": \"2015-11-10T00:00:00\", \"precipitation\": 1.3, \"temp_max\": 11.1, \"temp_min\": 3.9, \"wind\": 3.9, \"weather\": \"fog\"}, {\"date\": \"2015-11-11T00:00:00\", \"precipitation\": 1.5, \"temp_max\": 11.1, \"temp_min\": 6.1, \"wind\": 4.6, \"weather\": \"sun\"}, {\"date\": \"2015-11-12T00:00:00\", \"precipitation\": 9.9, \"temp_max\": 11.1, \"temp_min\": 5.0, \"wind\": 5.1, \"weather\": \"fog\"}, {\"date\": \"2015-11-13T00:00:00\", \"precipitation\": 33.5, \"temp_max\": 13.3, \"temp_min\": 9.4, \"wind\": 6.5, \"weather\": \"fog\"}, {\"date\": \"2015-11-14T00:00:00\", \"precipitation\": 47.2, \"temp_max\": 9.4, \"temp_min\": 6.1, \"wind\": 4.5, \"weather\": \"fog\"}, {\"date\": \"2015-11-15T00:00:00\", \"precipitation\": 22.4, \"temp_max\": 8.9, \"temp_min\": 2.2, \"wind\": 4.1, \"weather\": \"fog\"}, {\"date\": \"2015-11-16T00:00:00\", \"precipitation\": 2.0, \"temp_max\": 8.9, \"temp_min\": 1.7, \"wind\": 4.0, \"weather\": \"fog\"}, {\"date\": \"2015-11-17T00:00:00\", \"precipitation\": 29.5, \"temp_max\": 13.3, \"temp_min\": 6.7, \"wind\": 8.0, \"weather\": \"fog\"}, {\"date\": \"2015-11-18T00:00:00\", \"precipitation\": 1.5, \"temp_max\": 8.9, \"temp_min\": 3.3, \"wind\": 3.8, \"weather\": \"sun\"}, {\"date\": \"2015-11-19T00:00:00\", \"precipitation\": 2.0, \"temp_max\": 8.9, \"temp_min\": 2.8, \"wind\": 4.2, \"weather\": \"sun\"}, {\"date\": \"2015-11-20T00:00:00\", \"precipitation\": 0.0, \"temp_max\": 8.3, \"temp_min\": 0.6, \"wind\": 4.0, \"weather\": \"fog\"}, {\"date\": \"2015-11-21T00:00:00\", \"precipitation\": 0.0, \"temp_max\": 8.9, \"temp_min\": 0.6, \"wind\": 4.7, \"weather\": \"sun\"}, {\"date\": \"2015-11-22T00:00:00\", \"precipitation\": 0.0, \"temp_max\": 10.0, \"temp_min\": 1.7, \"wind\": 3.1, \"weather\": \"fog\"}, {\"date\": \"2015-11-23T00:00:00\", \"precipitation\": 3.0, \"temp_max\": 6.7, \"temp_min\": 0.0, \"wind\": 1.3, \"weather\": \"fog\"}, {\"date\": \"2015-11-24T00:00:00\", \"precipitation\": 7.1, \"temp_max\": 6.7, \"temp_min\": 2.8, \"wind\": 4.5, \"weather\": \"fog\"}, {\"date\": \"2015-11-25T00:00:00\", \"precipitation\": 0.0, \"temp_max\": 7.2, \"temp_min\": 0.0, \"wind\": 5.7, \"weather\": \"sun\"}, {\"date\": \"2015-11-26T00:00:00\", \"precipitation\": 0.0, \"temp_max\": 9.4, \"temp_min\": -1.0, \"wind\": 4.3, \"weather\": \"sun\"}, {\"date\": \"2015-11-27T00:00:00\", \"precipitation\": 0.0, \"temp_max\": 9.4, \"temp_min\": -1.6, \"wind\": 3.0, \"weather\": \"sun\"}, {\"date\": \"2015-11-28T00:00:00\", \"precipitation\": 0.0, \"temp_max\": 7.2, \"temp_min\": -2.7, \"wind\": 1.0, \"weather\": \"sun\"}, {\"date\": \"2015-11-29T00:00:00\", \"precipitation\": 0.0, \"temp_max\": 1.7, \"temp_min\": -2.1, \"wind\": 0.9, \"weather\": \"fog\"}, {\"date\": \"2015-11-30T00:00:00\", \"precipitation\": 0.5, \"temp_max\": 5.6, \"temp_min\": -3.8, \"wind\": 1.7, \"weather\": \"fog\"}, {\"date\": \"2015-12-01T00:00:00\", \"precipitation\": 12.2, \"temp_max\": 10.0, \"temp_min\": 3.9, \"wind\": 3.5, \"weather\": \"fog\"}, {\"date\": \"2015-12-02T00:00:00\", \"precipitation\": 2.5, \"temp_max\": 10.6, \"temp_min\": 4.4, \"wind\": 5.0, \"weather\": \"fog\"}, {\"date\": \"2015-12-03T00:00:00\", \"precipitation\": 12.7, \"temp_max\": 15.6, \"temp_min\": 7.8, \"wind\": 5.9, \"weather\": \"fog\"}, {\"date\": \"2015-12-04T00:00:00\", \"precipitation\": 2.0, \"temp_max\": 10.6, \"temp_min\": 6.1, \"wind\": 4.7, \"weather\": \"fog\"}, {\"date\": \"2015-12-05T00:00:00\", \"precipitation\": 15.7, \"temp_max\": 10.0, \"temp_min\": 6.1, \"wind\": 4.0, \"weather\": \"fog\"}, {\"date\": \"2015-12-06T00:00:00\", \"precipitation\": 11.2, \"temp_max\": 12.8, \"temp_min\": 7.2, \"wind\": 5.9, \"weather\": \"fog\"}, {\"date\": \"2015-12-07T00:00:00\", \"precipitation\": 27.4, \"temp_max\": 11.1, \"temp_min\": 8.3, \"wind\": 3.4, \"weather\": \"fog\"}, {\"date\": \"2015-12-08T00:00:00\", \"precipitation\": 54.1, \"temp_max\": 15.6, \"temp_min\": 10.0, \"wind\": 6.2, \"weather\": \"fog\"}, {\"date\": \"2015-12-09T00:00:00\", \"precipitation\": 13.5, \"temp_max\": 12.2, \"temp_min\": 7.8, \"wind\": 6.3, \"weather\": \"fog\"}, {\"date\": \"2015-12-10T00:00:00\", \"precipitation\": 9.4, \"temp_max\": 11.7, \"temp_min\": 6.1, \"wind\": 7.5, \"weather\": \"fog\"}, {\"date\": \"2015-12-11T00:00:00\", \"precipitation\": 0.3, \"temp_max\": 9.4, \"temp_min\": 4.4, \"wind\": 2.8, \"weather\": \"sun\"}, {\"date\": \"2015-12-12T00:00:00\", \"precipitation\": 16.0, \"temp_max\": 8.9, \"temp_min\": 5.6, \"wind\": 5.6, \"weather\": \"fog\"}, {\"date\": \"2015-12-13T00:00:00\", \"precipitation\": 1.3, \"temp_max\": 7.8, \"temp_min\": 6.1, \"wind\": 6.1, \"weather\": \"sun\"}, {\"date\": \"2015-12-14T00:00:00\", \"precipitation\": 0.0, \"temp_max\": 7.8, \"temp_min\": 1.7, \"wind\": 1.7, \"weather\": \"sun\"}, {\"date\": \"2015-12-15T00:00:00\", \"precipitation\": 1.5, \"temp_max\": 6.7, \"temp_min\": 1.1, \"wind\": 2.9, \"weather\": \"fog\"}, {\"date\": \"2015-12-16T00:00:00\", \"precipitation\": 3.6, \"temp_max\": 6.1, \"temp_min\": 2.8, \"wind\": 2.3, \"weather\": \"fog\"}, {\"date\": \"2015-12-17T00:00:00\", \"precipitation\": 21.8, \"temp_max\": 6.7, \"temp_min\": 3.9, \"wind\": 6.0, \"weather\": \"fog\"}, {\"date\": \"2015-12-18T00:00:00\", \"precipitation\": 18.5, \"temp_max\": 8.9, \"temp_min\": 4.4, \"wind\": 5.1, \"weather\": \"fog\"}, {\"date\": \"2015-12-19T00:00:00\", \"precipitation\": 0.0, \"temp_max\": 8.3, \"temp_min\": 2.8, \"wind\": 4.1, \"weather\": \"fog\"}, {\"date\": \"2015-12-20T00:00:00\", \"precipitation\": 4.3, \"temp_max\": 7.8, \"temp_min\": 4.4, \"wind\": 6.7, \"weather\": \"fog\"}, {\"date\": \"2015-12-21T00:00:00\", \"precipitation\": 27.4, \"temp_max\": 5.6, \"temp_min\": 2.8, \"wind\": 4.3, \"weather\": \"fog\"}, {\"date\": \"2015-12-22T00:00:00\", \"precipitation\": 4.6, \"temp_max\": 7.8, \"temp_min\": 2.8, \"wind\": 5.0, \"weather\": \"fog\"}, {\"date\": \"2015-12-23T00:00:00\", \"precipitation\": 6.1, \"temp_max\": 5.0, \"temp_min\": 2.8, \"wind\": 7.6, \"weather\": \"fog\"}, {\"date\": \"2015-12-24T00:00:00\", \"precipitation\": 2.5, \"temp_max\": 5.6, \"temp_min\": 2.2, \"wind\": 4.3, \"weather\": \"fog\"}, {\"date\": \"2015-12-25T00:00:00\", \"precipitation\": 5.8, \"temp_max\": 5.0, \"temp_min\": 2.2, \"wind\": 1.5, \"weather\": \"fog\"}, {\"date\": \"2015-12-26T00:00:00\", \"precipitation\": 0.0, \"temp_max\": 4.4, \"temp_min\": 0.0, \"wind\": 2.5, \"weather\": \"sun\"}, {\"date\": \"2015-12-27T00:00:00\", \"precipitation\": 8.6, \"temp_max\": 4.4, \"temp_min\": 1.7, \"wind\": 2.9, \"weather\": \"fog\"}, {\"date\": \"2015-12-28T00:00:00\", \"precipitation\": 1.5, \"temp_max\": 5.0, \"temp_min\": 1.7, \"wind\": 1.3, \"weather\": \"fog\"}, {\"date\": \"2015-12-29T00:00:00\", \"precipitation\": 0.0, \"temp_max\": 7.2, \"temp_min\": 0.6, \"wind\": 2.6, \"weather\": \"fog\"}, {\"date\": \"2015-12-30T00:00:00\", \"precipitation\": 0.0, \"temp_max\": 5.6, \"temp_min\": -1.0, \"wind\": 3.4, \"weather\": \"sun\"}, {\"date\": \"2015-12-31T00:00:00\", \"precipitation\": 0.0, \"temp_max\": 5.6, \"temp_min\": -2.1, \"wind\": 3.5, \"weather\": \"sun\"}]}}, {\"mode\": \"vega-lite\"});\n",
       "</script>"
      ],
      "text/plain": [
       "alt.LayerChart(...)"
      ]
     },
     "execution_count": 2,
     "metadata": {},
     "output_type": "execute_result"
    }
   ],
   "source": [
    "source = data.seattle_weather()\n",
    "brush = alt.selection(type='interval', encodings=['x'])\n",
    "\n",
    "bars = alt.Chart().mark_bar().encode(\n",
    "    x='month(date):O',\n",
    "    y='mean(precipitation):Q',\n",
    "    opacity=alt.condition(brush, alt.OpacityValue(1), alt.OpacityValue(0.7)),\n",
    ").add_selection(\n",
    "    brush\n",
    ")\n",
    "\n",
    "line = alt.Chart().mark_rule(color='firebrick').encode(\n",
    "    y='mean(precipitation):Q',\n",
    "    size=alt.SizeValue(3)\n",
    ").transform_filter(\n",
    "    brush\n",
    ")\n",
    "\n",
    "alt.layer(bars, line, data=source)"
   ]
  },
  {
   "cell_type": "markdown",
   "metadata": {
    "id": "wf9_yaeCHbEG"
   },
   "source": [
    "## Interactive Chart with Cross-Highlight\n",
    "\n",
    "This example shows an interactive chart where selections in one portion of the chart affect what is shown in other panels. Click on the bar chart to see a detail of the distribution in the upper panel."
   ]
  },
  {
   "cell_type": "code",
   "execution_count": 5,
   "metadata": {
    "colab": {
     "base_uri": "https://localhost:8080/",
     "height": 715
    },
    "id": "BIuMmUWgHS3e",
    "outputId": "79e11fc3-859c-489e-9fc1-956eae50194d",
    "trrack_graph": "ᯡࡑ䅼ԅՐᶠ⹀த࣠⬸ŕ䀳ጡ㔈Ƈ⺩爤犎Ⲡ䜊楀ᬠ㍑Ḇ።窽池ð䏠ߐာ番ַÑᥪ檔ය墖瘏桓ᢜ䠠䍈䐡ᚼ⛢ᇩ‭倫圶\"憀ۯ๜⪇坘ূᘯ/ᐑ⊃姱夌爠̥ᶠ೩✵䀡就䢈EⓄ夼ↇ䕠愃炩␴⨺㵃ᴥ䛥戃瀩ѥ抾ፆⱇ峀呶ᄤ禇筰ਂ{ⱂӸ抏ʷ乺╂ŀ♢䁕媌揟犐̛䒅⯐捤G䀡榖䞕䆠瞏ሶ␱晩䂅ਪ⽉ᢼ=䬧ᇐ䈪≡┨恳ͧ⇸瘩୥瘁汇ଡ᧸㰢⧠□䰢≑帎犸бѠ掭᪑À䋎ⅲ⧊唽⇄㖺ᴻ⿄痉† "
   },
   "outputs": [
    {
     "name": "stderr",
     "output_type": "stream",
     "text": [
      "/Users/zacharycutler/miniconda3/envs/jupyterlab-ext/lib/python3.11/site-packages/altair/utils/deprecation.py:65: AltairDeprecationWarning: 'selection' is deprecated.\n",
      "   Use 'selection_point()' or 'selection_interval()' instead; these functions also include more helpful docstrings.\n",
      "  warnings.warn(message, AltairDeprecationWarning, stacklevel=1)\n",
      "/Users/zacharycutler/miniconda3/envs/jupyterlab-ext/lib/python3.11/site-packages/altair/vegalite/v5/api.py:425: AltairDeprecationWarning: The types 'single' and 'multi' are now\n",
      "        combined and should be specified using \"selection_point()\".\n",
      "  warnings.warn(\n",
      "/Users/zacharycutler/miniconda3/envs/jupyterlab-ext/lib/python3.11/site-packages/altair/utils/deprecation.py:65: AltairDeprecationWarning: 'add_selection' is deprecated. Use 'add_params' instead.\n",
      "  warnings.warn(message, AltairDeprecationWarning, stacklevel=1)\n"
     ]
    },
    {
     "data": {
      "text/html": [
       "\n",
       "<style>\n",
       "  #altair-viz-9c0cc81d64a1434eb8f66c9149d7b928.vega-embed {\n",
       "    width: 100%;\n",
       "    display: flex;\n",
       "  }\n",
       "\n",
       "  #altair-viz-9c0cc81d64a1434eb8f66c9149d7b928.vega-embed details,\n",
       "  #altair-viz-9c0cc81d64a1434eb8f66c9149d7b928.vega-embed details summary {\n",
       "    position: relative;\n",
       "  }\n",
       "</style>\n",
       "<div id=\"altair-viz-9c0cc81d64a1434eb8f66c9149d7b928\"></div>\n",
       "<script type=\"text/javascript\">\n",
       "  var VEGA_DEBUG = (typeof VEGA_DEBUG == \"undefined\") ? {} : VEGA_DEBUG;\n",
       "  (function(spec, embedOpt){\n",
       "    let outputDiv = document.currentScript.previousElementSibling;\n",
       "    if (outputDiv.id !== \"altair-viz-9c0cc81d64a1434eb8f66c9149d7b928\") {\n",
       "      outputDiv = document.getElementById(\"altair-viz-9c0cc81d64a1434eb8f66c9149d7b928\");\n",
       "    }\n",
       "    const paths = {\n",
       "      \"vega\": \"https://cdn.jsdelivr.net/npm/vega@5?noext\",\n",
       "      \"vega-lib\": \"https://cdn.jsdelivr.net/npm/vega-lib?noext\",\n",
       "      \"vega-lite\": \"https://cdn.jsdelivr.net/npm/vega-lite@5.8.0?noext\",\n",
       "      \"vega-embed\": \"https://cdn.jsdelivr.net/npm/vega-embed@6?noext\",\n",
       "    };\n",
       "\n",
       "    function maybeLoadScript(lib, version) {\n",
       "      var key = `${lib.replace(\"-\", \"\")}_version`;\n",
       "      return (VEGA_DEBUG[key] == version) ?\n",
       "        Promise.resolve(paths[lib]) :\n",
       "        new Promise(function(resolve, reject) {\n",
       "          var s = document.createElement('script');\n",
       "          document.getElementsByTagName(\"head\")[0].appendChild(s);\n",
       "          s.async = true;\n",
       "          s.onload = () => {\n",
       "            VEGA_DEBUG[key] = version;\n",
       "            return resolve(paths[lib]);\n",
       "          };\n",
       "          s.onerror = () => reject(`Error loading script: ${paths[lib]}`);\n",
       "          s.src = paths[lib];\n",
       "        });\n",
       "    }\n",
       "\n",
       "    function showError(err) {\n",
       "      outputDiv.innerHTML = `<div class=\"error\" style=\"color:red;\">${err}</div>`;\n",
       "      throw err;\n",
       "    }\n",
       "\n",
       "    function displayChart(vegaEmbed) {\n",
       "      vegaEmbed(outputDiv, spec, embedOpt)\n",
       "        .catch(err => showError(`Javascript Error: ${err.message}<br>This usually means there's a typo in your chart specification. See the javascript console for the full traceback.`));\n",
       "    }\n",
       "\n",
       "    if(typeof define === \"function\" && define.amd) {\n",
       "      requirejs.config({paths});\n",
       "      require([\"vega-embed\"], displayChart, err => showError(`Error loading script: ${err.message}`));\n",
       "    } else {\n",
       "      maybeLoadScript(\"vega\", \"5\")\n",
       "        .then(() => maybeLoadScript(\"vega-lite\", \"5.8.0\"))\n",
       "        .then(() => maybeLoadScript(\"vega-embed\", \"6\"))\n",
       "        .catch(showError)\n",
       "        .then(() => displayChart(vegaEmbed));\n",
       "    }\n",
       "  })({\"config\": {\"view\": {\"continuousWidth\": 300, \"continuousHeight\": 300}}, \"vconcat\": [{\"layer\": [{\"mark\": {\"type\": \"rect\"}, \"encoding\": {\"color\": {\"aggregate\": \"count\", \"legend\": {\"title\": \"Total Records\"}, \"scale\": {\"scheme\": \"greenblue\"}, \"type\": \"quantitative\"}, \"x\": {\"bin\": true, \"field\": \"IMDB_Rating\", \"type\": \"quantitative\"}, \"y\": {\"bin\": true, \"field\": \"Rotten_Tomatoes_Rating\", \"type\": \"quantitative\"}}}, {\"mark\": {\"type\": \"point\"}, \"encoding\": {\"color\": {\"value\": \"grey\"}, \"size\": {\"aggregate\": \"count\", \"legend\": {\"title\": \"Records in Selection\"}, \"type\": \"quantitative\"}, \"x\": {\"bin\": true, \"field\": \"IMDB_Rating\", \"type\": \"quantitative\"}, \"y\": {\"bin\": true, \"field\": \"Rotten_Tomatoes_Rating\", \"type\": \"quantitative\"}}, \"transform\": [{\"filter\": {\"param\": \"param_2\"}}]}], \"data\": {\"url\": \"https://cdn.jsdelivr.net/npm/vega-datasets@v1.29.0/data/movies.json\"}}, {\"data\": {\"url\": \"https://cdn.jsdelivr.net/npm/vega-datasets@v1.29.0/data/movies.json\"}, \"mark\": {\"type\": \"bar\"}, \"encoding\": {\"color\": {\"condition\": {\"param\": \"param_2\", \"value\": \"steelblue\"}, \"value\": \"grey\"}, \"x\": {\"field\": \"Major_Genre\", \"type\": \"nominal\"}, \"y\": {\"aggregate\": \"count\", \"type\": \"quantitative\"}}, \"height\": 200, \"name\": \"view_2\", \"width\": 550}], \"params\": [{\"name\": \"param_2\", \"select\": {\"type\": \"point\", \"encodings\": [\"x\"]}, \"views\": [\"view_2\"]}], \"resolve\": {\"legend\": {\"color\": \"independent\", \"size\": \"independent\"}}, \"$schema\": \"https://vega.github.io/schema/vega-lite/v5.8.0.json\"}, {\"mode\": \"vega-lite\"});\n",
       "</script>"
      ],
      "text/plain": [
       "alt.VConcatChart(...)"
      ]
     },
     "execution_count": 5,
     "metadata": {},
     "output_type": "execute_result"
    }
   ],
   "source": [
    "source = data.movies.url\n",
    "\n",
    "pts = alt.selection(type=\"single\", encodings=['x'])\n",
    "\n",
    "rect = alt.Chart(data.movies.url).mark_rect().encode(\n",
    "    alt.X('IMDB_Rating:Q', bin=True),\n",
    "    alt.Y('Rotten_Tomatoes_Rating:Q', bin=True),\n",
    "    alt.Color('count()',\n",
    "        scale=alt.Scale(scheme='greenblue'),\n",
    "        legend=alt.Legend(title='Total Records')\n",
    "    )\n",
    ")\n",
    "\n",
    "circ = rect.mark_point().encode(\n",
    "    alt.ColorValue('grey'),\n",
    "    alt.Size('count()',\n",
    "        legend=alt.Legend(title='Records in Selection')\n",
    "    )\n",
    ").transform_filter(\n",
    "    pts\n",
    ")\n",
    "\n",
    "bar = alt.Chart(source).mark_bar().encode(\n",
    "    x='Major_Genre:N',\n",
    "    y='count()',\n",
    "    color=alt.condition(pts, alt.ColorValue(\"steelblue\"), alt.ColorValue(\"grey\"))\n",
    ").properties(\n",
    "    width=550,\n",
    "    height=200\n",
    ").add_selection(pts)\n",
    "\n",
    "alt.vconcat(\n",
    "    rect + circ,\n",
    "    bar\n",
    ").resolve_legend(\n",
    "    color=\"independent\",\n",
    "    size=\"independent\"\n",
    ")"
   ]
  },
  {
   "cell_type": "markdown",
   "metadata": {
    "id": "zRjOEaClHhwU"
   },
   "source": [
    "## Interactive Crossfilter\n",
    "\n",
    "This example shows a multi-panel view of the same data, where you can interactively select a portion of the data in any of the panels to highlight that portion in any of the other panels."
   ]
  },
  {
   "cell_type": "code",
   "execution_count": 6,
   "metadata": {
    "colab": {
     "base_uri": "https://localhost:8080/",
     "height": 200
    },
    "id": "YjrxuDFHHfez",
    "outputId": "a52b70be-c76c-477b-b558-934fb703657c",
    "trrack_graph": "ᯡࡑ䅼ԅՐᶠ⹀தˠ↠䜈࣠Ơ㌠娡ᳺ斬映䰣ᤶ㮕滟⁖Եࣉ坖㘰Tᄐȍ疀͚劢揨⩲嫍Ά圍楘稐಄ቅᑖᑤ¶䛸愳擀۰׷ଠƉ〦潮Ṋ஻主ࢫ߀ϫ籰Ѽ琠⬷ጨ䖥慃䔳䖀҄ᨠॲ⥌䜴寲偐㤘抒ᔭຩ䋦愆排稙ˢ㄰ើᘫ慸⹎疛㐛⠹ဠⷌᄤ暏ʳ䵺Ⓝŀ层䁕䪜旐ຐ̛䖅䯐԰∠ᏠĎ㭠竡䃖㞲䭄㝶㬠㪂͈唰屸Ҫ⋸搢ᜫ䏰琠ᶷ̢⡐昮ፀl尷࣠偨報೧凪煕析哠惈∤᳉推Ԣᔒ䫒䍳⨊䴳⏃槺䍑䥪  "
   },
   "outputs": [
    {
     "data": {
      "text/html": [
       "\n",
       "<style>\n",
       "  #altair-viz-e76e8ea51d484ebeb6f0d56dab38b68c.vega-embed {\n",
       "    width: 100%;\n",
       "    display: flex;\n",
       "  }\n",
       "\n",
       "  #altair-viz-e76e8ea51d484ebeb6f0d56dab38b68c.vega-embed details,\n",
       "  #altair-viz-e76e8ea51d484ebeb6f0d56dab38b68c.vega-embed details summary {\n",
       "    position: relative;\n",
       "  }\n",
       "</style>\n",
       "<div id=\"altair-viz-e76e8ea51d484ebeb6f0d56dab38b68c\"></div>\n",
       "<script type=\"text/javascript\">\n",
       "  var VEGA_DEBUG = (typeof VEGA_DEBUG == \"undefined\") ? {} : VEGA_DEBUG;\n",
       "  (function(spec, embedOpt){\n",
       "    let outputDiv = document.currentScript.previousElementSibling;\n",
       "    if (outputDiv.id !== \"altair-viz-e76e8ea51d484ebeb6f0d56dab38b68c\") {\n",
       "      outputDiv = document.getElementById(\"altair-viz-e76e8ea51d484ebeb6f0d56dab38b68c\");\n",
       "    }\n",
       "    const paths = {\n",
       "      \"vega\": \"https://cdn.jsdelivr.net/npm/vega@5?noext\",\n",
       "      \"vega-lib\": \"https://cdn.jsdelivr.net/npm/vega-lib?noext\",\n",
       "      \"vega-lite\": \"https://cdn.jsdelivr.net/npm/vega-lite@5.8.0?noext\",\n",
       "      \"vega-embed\": \"https://cdn.jsdelivr.net/npm/vega-embed@6?noext\",\n",
       "    };\n",
       "\n",
       "    function maybeLoadScript(lib, version) {\n",
       "      var key = `${lib.replace(\"-\", \"\")}_version`;\n",
       "      return (VEGA_DEBUG[key] == version) ?\n",
       "        Promise.resolve(paths[lib]) :\n",
       "        new Promise(function(resolve, reject) {\n",
       "          var s = document.createElement('script');\n",
       "          document.getElementsByTagName(\"head\")[0].appendChild(s);\n",
       "          s.async = true;\n",
       "          s.onload = () => {\n",
       "            VEGA_DEBUG[key] = version;\n",
       "            return resolve(paths[lib]);\n",
       "          };\n",
       "          s.onerror = () => reject(`Error loading script: ${paths[lib]}`);\n",
       "          s.src = paths[lib];\n",
       "        });\n",
       "    }\n",
       "\n",
       "    function showError(err) {\n",
       "      outputDiv.innerHTML = `<div class=\"error\" style=\"color:red;\">${err}</div>`;\n",
       "      throw err;\n",
       "    }\n",
       "\n",
       "    function displayChart(vegaEmbed) {\n",
       "      vegaEmbed(outputDiv, spec, embedOpt)\n",
       "        .catch(err => showError(`Javascript Error: ${err.message}<br>This usually means there's a typo in your chart specification. See the javascript console for the full traceback.`));\n",
       "    }\n",
       "\n",
       "    if(typeof define === \"function\" && define.amd) {\n",
       "      requirejs.config({paths});\n",
       "      require([\"vega-embed\"], displayChart, err => showError(`Error loading script: ${err.message}`));\n",
       "    } else {\n",
       "      maybeLoadScript(\"vega\", \"5\")\n",
       "        .then(() => maybeLoadScript(\"vega-lite\", \"5.8.0\"))\n",
       "        .then(() => maybeLoadScript(\"vega-embed\", \"6\"))\n",
       "        .catch(showError)\n",
       "        .then(() => displayChart(vegaEmbed));\n",
       "    }\n",
       "  })({\"config\": {\"view\": {\"continuousWidth\": 300, \"continuousHeight\": 300}}, \"repeat\": {\"column\": [\"distance\", \"delay\", \"time\"]}, \"spec\": {\"layer\": [{\"mark\": {\"type\": \"bar\"}, \"encoding\": {\"color\": {\"value\": \"#ddd\"}, \"x\": {\"bin\": {\"maxbins\": 20}, \"field\": {\"repeat\": \"column\"}, \"type\": \"quantitative\"}, \"y\": {\"aggregate\": \"count\", \"type\": \"quantitative\"}}, \"name\": \"view_3\"}, {\"mark\": {\"type\": \"bar\"}, \"encoding\": {\"x\": {\"bin\": {\"maxbins\": 20}, \"field\": {\"repeat\": \"column\"}, \"type\": \"quantitative\"}, \"y\": {\"aggregate\": \"count\", \"type\": \"quantitative\"}}, \"transform\": [{\"filter\": {\"param\": \"param_3\"}}]}], \"data\": {\"url\": \"https://cdn.jsdelivr.net/npm/vega-datasets@v1.29.0/data/flights-2k.json\", \"format\": {\"parse\": {\"date\": \"date\"}}}, \"height\": 130, \"transform\": [{\"calculate\": \"hours(datum.date)\", \"as\": \"time\"}], \"width\": 160}, \"params\": [{\"name\": \"param_3\", \"select\": {\"type\": \"interval\", \"encodings\": [\"x\"]}, \"views\": [\"child__column_distance_view_3\", \"child__column_delay_view_3\", \"child__column_time_view_3\"]}], \"$schema\": \"https://vega.github.io/schema/vega-lite/v5.8.0.json\"}, {\"mode\": \"vega-lite\"});\n",
       "</script>"
      ],
      "text/plain": [
       "alt.RepeatChart(...)"
      ]
     },
     "execution_count": 6,
     "metadata": {},
     "output_type": "execute_result"
    }
   ],
   "source": [
    "source = alt.UrlData(\n",
    "    data.flights_2k.url,\n",
    "    format={'parse': {'date': 'date'}}\n",
    ")\n",
    "\n",
    "brush = alt.selection(type='interval', encodings=['x'])\n",
    "\n",
    "# Define the base chart, with the common parts of the\n",
    "# background and highlights\n",
    "base = alt.Chart().mark_bar().encode(\n",
    "    x=alt.X(alt.repeat('column'), type='quantitative', bin=alt.Bin(maxbins=20)),\n",
    "    y='count()'\n",
    ").properties(\n",
    "    width=160,\n",
    "    height=130\n",
    ")\n",
    "\n",
    "# gray background with selection\n",
    "background = base.encode(\n",
    "    color=alt.value('#ddd')\n",
    ").add_selection(brush)\n",
    "\n",
    "# blue highlights on the transformed data\n",
    "highlight = base.transform_filter(brush)\n",
    "\n",
    "# layer the two charts & repeat\n",
    "alt.layer(\n",
    "    background,\n",
    "    highlight,\n",
    "    data=source\n",
    ").transform_calculate(\n",
    "    \"time\",\n",
    "    \"hours(datum.date)\"\n",
    ").repeat(column=[\"distance\", \"delay\", \"time\"])"
   ]
  },
  {
   "cell_type": "markdown",
   "metadata": {
    "id": "ETFx17bMHslS"
   },
   "source": [
    "## Interactive Legend\n",
    "\n",
    "The following shows how to create a chart with an interactive legend, by binding the selection to \"legend\". Such a binding only works with selection_single or selection_multi when projected over a single field or encoding. "
   ]
  },
  {
   "cell_type": "code",
   "execution_count": 7,
   "metadata": {
    "colab": {
     "base_uri": "https://localhost:8080/",
     "height": 358
    },
    "id": "FkReSYW1HoPe",
    "outputId": "0644fed4-c55e-4a89-b0ac-1052ae34e21d",
    "trrack_graph": "ᯡࡑ䅼ԅՐᶠ⹀தɐҀଡ۸໠ᎬÔ堦ぴ㔌¸婱䳥䪆Xᐦ斀ন坆Ⱑဠ㑁瀣洊怦㫅˧䡤岵ක♌汛㨔ฺṅᑎᑤ¶岁ࢴ倦栥楫!㛐·✯է㪙憑࣐㨠㲰┽௥急㌓〸峸帪≠䩶&灦⇀´㉒摉㖽ᔣί䙃ታ⦉೬嚖✯ᾳтጴ䢢紛㹕匒䄏彖ɒ䂂䠢涁ࣘ攰⹜ᙹ㎃ᖩҢリö秫∐ⷠఅၲ滢地¾'᷺᯶ب㪙䭹ဦ秘೴ˈ檔¶؃倢Ĺ䀰⠤☶䌡䂨䢮䛢䣘 ♤ࠢ㘽ѫ栣⏥燉䂁ѤØ楷͉ࠪ૕᪡哳ᩚ᭿┉ౝি僙  "
   },
   "outputs": [
    {
     "name": "stderr",
     "output_type": "stream",
     "text": [
      "/Users/zacharycutler/miniconda3/envs/jupyterlab-ext/lib/python3.11/site-packages/altair/utils/deprecation.py:65: AltairDeprecationWarning: 'selection_multi' is deprecated.  Use 'selection_point'\n",
      "  warnings.warn(message, AltairDeprecationWarning, stacklevel=1)\n"
     ]
    },
    {
     "data": {
      "text/html": [
       "\n",
       "<style>\n",
       "  #altair-viz-cbceab1cee15444fab09dd995faaeebf.vega-embed {\n",
       "    width: 100%;\n",
       "    display: flex;\n",
       "  }\n",
       "\n",
       "  #altair-viz-cbceab1cee15444fab09dd995faaeebf.vega-embed details,\n",
       "  #altair-viz-cbceab1cee15444fab09dd995faaeebf.vega-embed details summary {\n",
       "    position: relative;\n",
       "  }\n",
       "</style>\n",
       "<div id=\"altair-viz-cbceab1cee15444fab09dd995faaeebf\"></div>\n",
       "<script type=\"text/javascript\">\n",
       "  var VEGA_DEBUG = (typeof VEGA_DEBUG == \"undefined\") ? {} : VEGA_DEBUG;\n",
       "  (function(spec, embedOpt){\n",
       "    let outputDiv = document.currentScript.previousElementSibling;\n",
       "    if (outputDiv.id !== \"altair-viz-cbceab1cee15444fab09dd995faaeebf\") {\n",
       "      outputDiv = document.getElementById(\"altair-viz-cbceab1cee15444fab09dd995faaeebf\");\n",
       "    }\n",
       "    const paths = {\n",
       "      \"vega\": \"https://cdn.jsdelivr.net/npm/vega@5?noext\",\n",
       "      \"vega-lib\": \"https://cdn.jsdelivr.net/npm/vega-lib?noext\",\n",
       "      \"vega-lite\": \"https://cdn.jsdelivr.net/npm/vega-lite@5.8.0?noext\",\n",
       "      \"vega-embed\": \"https://cdn.jsdelivr.net/npm/vega-embed@6?noext\",\n",
       "    };\n",
       "\n",
       "    function maybeLoadScript(lib, version) {\n",
       "      var key = `${lib.replace(\"-\", \"\")}_version`;\n",
       "      return (VEGA_DEBUG[key] == version) ?\n",
       "        Promise.resolve(paths[lib]) :\n",
       "        new Promise(function(resolve, reject) {\n",
       "          var s = document.createElement('script');\n",
       "          document.getElementsByTagName(\"head\")[0].appendChild(s);\n",
       "          s.async = true;\n",
       "          s.onload = () => {\n",
       "            VEGA_DEBUG[key] = version;\n",
       "            return resolve(paths[lib]);\n",
       "          };\n",
       "          s.onerror = () => reject(`Error loading script: ${paths[lib]}`);\n",
       "          s.src = paths[lib];\n",
       "        });\n",
       "    }\n",
       "\n",
       "    function showError(err) {\n",
       "      outputDiv.innerHTML = `<div class=\"error\" style=\"color:red;\">${err}</div>`;\n",
       "      throw err;\n",
       "    }\n",
       "\n",
       "    function displayChart(vegaEmbed) {\n",
       "      vegaEmbed(outputDiv, spec, embedOpt)\n",
       "        .catch(err => showError(`Javascript Error: ${err.message}<br>This usually means there's a typo in your chart specification. See the javascript console for the full traceback.`));\n",
       "    }\n",
       "\n",
       "    if(typeof define === \"function\" && define.amd) {\n",
       "      requirejs.config({paths});\n",
       "      require([\"vega-embed\"], displayChart, err => showError(`Error loading script: ${err.message}`));\n",
       "    } else {\n",
       "      maybeLoadScript(\"vega\", \"5\")\n",
       "        .then(() => maybeLoadScript(\"vega-lite\", \"5.8.0\"))\n",
       "        .then(() => maybeLoadScript(\"vega-embed\", \"6\"))\n",
       "        .catch(showError)\n",
       "        .then(() => displayChart(vegaEmbed));\n",
       "    }\n",
       "  })({\"config\": {\"view\": {\"continuousWidth\": 300, \"continuousHeight\": 300}}, \"data\": {\"url\": \"https://cdn.jsdelivr.net/npm/vega-datasets@v1.29.0/data/unemployment-across-industries.json\"}, \"mark\": {\"type\": \"area\"}, \"encoding\": {\"color\": {\"field\": \"series\", \"scale\": {\"scheme\": \"category20b\"}, \"type\": \"nominal\"}, \"opacity\": {\"condition\": {\"param\": \"param_4\", \"value\": 1}, \"value\": 0.2}, \"x\": {\"axis\": {\"domain\": false, \"format\": \"%Y\", \"tickSize\": 0}, \"field\": \"date\", \"timeUnit\": \"yearmonth\", \"type\": \"temporal\"}, \"y\": {\"aggregate\": \"sum\", \"axis\": null, \"field\": \"count\", \"stack\": \"center\", \"type\": \"quantitative\"}}, \"params\": [{\"name\": \"param_4\", \"select\": {\"type\": \"point\", \"fields\": [\"series\"]}, \"bind\": \"legend\"}], \"$schema\": \"https://vega.github.io/schema/vega-lite/v5.8.0.json\"}, {\"mode\": \"vega-lite\"});\n",
       "</script>"
      ],
      "text/plain": [
       "alt.Chart(...)"
      ]
     },
     "execution_count": 7,
     "metadata": {},
     "output_type": "execute_result"
    }
   ],
   "source": [
    "source = data.unemployment_across_industries.url\n",
    "\n",
    "selection = alt.selection_multi(fields=['series'], bind='legend')\n",
    "\n",
    "alt.Chart(source).mark_area().encode(\n",
    "    alt.X('yearmonth(date):T', axis=alt.Axis(domain=False, format='%Y', tickSize=0)),\n",
    "    alt.Y('sum(count):Q', stack='center', axis=None),\n",
    "    alt.Color('series:N', scale=alt.Scale(scheme='category20b')),\n",
    "    opacity=alt.condition(selection, alt.value(1), alt.value(0.2))\n",
    ").add_selection(\n",
    "    selection\n",
    ")"
   ]
  },
  {
   "cell_type": "markdown",
   "metadata": {
    "id": "xrQ5KWYEHwdC"
   },
   "source": [
    "## Interactive Rectangular Brush\n",
    "\n",
    "This example shows how to add a simple rectangular brush to a scatter plot. By clicking and dragging on the plot, you can highlight points within the range."
   ]
  },
  {
   "cell_type": "code",
   "execution_count": null,
   "metadata": {
    "colab": {
     "base_uri": "https://localhost:8080/",
     "height": 368
    },
    "id": "o535q7vkHu9W",
    "outputId": "bc1777f7-0f28-4b34-9458-7fd2ed69390b",
    "trrack_graph": "ᯡࡑ䅼ԅՐᶠ⹀த˒悆¬͐àবÔř搢恔唡堯ⅸⰤ᧿‮㨉㯠ӽࢠ㬾ࠠᨰ砡瘣〣ᵲ䊅摂ⅺ嚣ጶ皼㴚ܫ๲۪ᄠ▾᭐䑪⠣㐢瓅䀠奸ǐயપ瞓䇒ᆀȠ礠䨠ᆻ亯⇂灑ㇰ呲堠ᮢ᤭$冱䭁Ⓦˈಌ㹑ಲ䍩旷ዐ㠹ܜⅱ㢴寭䎫ܗᐵୄ⃾Ⳟ模੠஋ѣㆹ威㊓欹㑰␧ࡰے䱻㜢⸠彉ʪ瘬梠ԐX⻱Ốろ䷬䫩ౙ䮇瓂䅫數㤩䐲᫄īࠁ桂⽴䎃偂౮䏢怤ᜫƫ䈄౨䘻⺗㥬ĩ䉀ᇴ䥘䁰ⅷ჉哵⚮凳᢭㺥嘁婆㢨爠 "
   },
   "outputs": [],
   "source": [
    "source = data.cars()\n",
    "brush = alt.selection(type='interval')\n",
    "\n",
    "alt.Chart(source).mark_point().encode(\n",
    "    x='Horsepower:Q',\n",
    "    y='Miles_per_Gallon:Q',\n",
    "    color=alt.condition(brush, 'Cylinders:O', alt.value('grey')),\n",
    ").add_selection(brush)"
   ]
  },
  {
   "cell_type": "markdown",
   "metadata": {
    "id": "9QyLkK2PH2MJ"
   },
   "source": [
    "## Interactive Scatter Plot and Linked Layered Histogram\n",
    "\n",
    "This example shows how to link a scatter plot and a histogram together such that clicking on a point in the scatter plot will isolate the distribution corresponding to that point, and vice versa."
   ]
  },
  {
   "cell_type": "code",
   "execution_count": null,
   "metadata": {
    "colab": {
     "base_uri": "https://localhost:8080/",
     "height": 320
    },
    "id": "EPX7WwGsH04v",
    "outputId": "0bc4810d-c11f-439d-dc8d-873642e7abe6",
    "trrack_graph": "ᯡࡑ䅼ԅՐᶠ⹀தȹ䀳8ą䀱䜡㑘ʇ⹩x寀ᦤ稢墋歫Ǹ揉䖠㘡〡ీ∀Ϲ㋠ڕ┩䮠墹▊㪭䳸㣶瘏摔⥦ᑤ¶䲩ੰΈ̊■Ô堣㋧༵׭朮䑥䆀ȅ繈ᄡṀ䚿͠ႁ〢㥅〠㜤㈺)ⵍᙤ䩹ㅰ᣸籂⤥શ佤文㊐礘悢慑Ⓑ崰䬥睈ᔴ①幹维ไ䀶欨䝣ᯃ悅獶楈恨Ⴐ倭㚿Ⅰ瘣丠彩㳊瘬梠ԐY⻰Ố〽帔勩ə你ೂ䅪犸ଧₐط๡偨塕䂅冀⹌೧懈ᙕ䶃懸㱙ଧᅁᇍ愒΢储ʗዮဴࡵ摊啕⇃嗔䚾䋲᧺ጸ䊒  "
   },
   "outputs": [],
   "source": [
    "# generate fake data\n",
    "source = pd.DataFrame({'gender': ['M']*1000 + ['F']*1000,\n",
    "               'height':np.concatenate((np.random.normal(69, 7, 1000),\n",
    "                                       np.random.normal(64, 6, 1000))),\n",
    "               'weight': np.concatenate((np.random.normal(195.8, 144, 1000),\n",
    "                                        np.random.normal(167, 100, 1000))),\n",
    "               'age': np.concatenate((np.random.normal(45, 8, 1000),\n",
    "                                        np.random.normal(51, 6, 1000)))\n",
    "        })\n",
    "\n",
    "selector = alt.selection_single(empty='all', fields=['gender'])\n",
    "\n",
    "color_scale = alt.Scale(domain=['M', 'F'],\n",
    "                        range=['#1FC3AA', '#8624F5'])\n",
    "\n",
    "base = alt.Chart(source).properties(\n",
    "    width=250,\n",
    "    height=250\n",
    ").add_selection(selector)\n",
    "\n",
    "points = base.mark_point(filled=True, size=200).encode(\n",
    "    x=alt.X('mean(height):Q',\n",
    "            scale=alt.Scale(domain=[0,84])),\n",
    "    y=alt.Y('mean(weight):Q',\n",
    "            scale=alt.Scale(domain=[0,250])),\n",
    "    color=alt.condition(selector,\n",
    "                        'gender:N',\n",
    "                        alt.value('lightgray'),\n",
    "                        scale=color_scale),\n",
    ")\n",
    "\n",
    "hists = base.mark_bar(opacity=0.5, thickness=100).encode(\n",
    "    x=alt.X('age',\n",
    "            bin=alt.Bin(step=5), # step keeps bin size the same\n",
    "            scale=alt.Scale(domain=[0,100])),\n",
    "    y=alt.Y('count()',\n",
    "            stack=None,\n",
    "            scale=alt.Scale(domain=[0,350])),\n",
    "    color=alt.Color('gender:N',\n",
    "                    scale=color_scale)\n",
    ").transform_filter(\n",
    "    selector\n",
    ")\n",
    "\n",
    "\n",
    "points | hists"
   ]
  },
  {
   "cell_type": "markdown",
   "metadata": {
    "id": "IORIJfrzIy_J"
   },
   "source": [
    "## Multi-Line Highlight\n",
    "\n",
    "This multi-line chart uses an invisible Voronoi tessellation to handle mouseover to identify the nearest point and then highlight the line on which the point falls. It is adapted from the Vega-Lite example found at https://bl.ocks.org/amitkaps/fe4238e716db53930b2f1a70d3401701 "
   ]
  },
  {
   "cell_type": "code",
   "execution_count": null,
   "metadata": {
    "colab": {
     "base_uri": "https://localhost:8080/",
     "height": 368
    },
    "id": "S_EESQGeIv33",
    "outputId": "53eb8d5d-c201-48ad-ffaa-638e5f451f0d",
    "trrack_graph": "ᯡࡑ䅼ԅՐᶠ⹀தʐೠ㬠䰡ᠤ㟳ÔĸǓ俴䁌Ÿƻ㕀⇌嵻ԙ氼擋ݮ䧞ࠠᨰ砡眙〣ᵲ䆃扂ⅺ囃஖份㸚ܭ༲䨭䩂kፖエ䩰Έ̉■Ö堣㟧༪䎐秡失ㄘ⁪ઠǠ擃倠ᤂ璴䅚ᓌ-悬䍠ň撅䡲歓خ¸䙥⇇卒塘峄Ṟ°䑬⥂ȓ㈲悝⡀拲潯坈㪬䪰˺愰泪ၖ㱌䦆捃ษȰ䨡嚓䬣傋䀷敀哽䃎အḠݻ娷嘬禶奂窒泣㦤È䜈㤮杁墸ⰴ䗠᣸┾䌣ゔ⤰䏁抑ᩝΩ夈ᬲ䏓ዘጷ傛ṃᠴᜨ䄇ᵒ無⁅Ū卲檺ͧ⚋璍↳児笇ဠ "
   },
   "outputs": [],
   "source": [
    "source = data.stocks()\n",
    "\n",
    "highlight = alt.selection(type='single', on='mouseover',\n",
    "                          fields=['symbol'], nearest=True)\n",
    "\n",
    "base = alt.Chart(source).encode(\n",
    "    x='date:T',\n",
    "    y='price:Q',\n",
    "    color='symbol:N'\n",
    ")\n",
    "\n",
    "points = base.mark_circle().encode(\n",
    "    opacity=alt.value(0)\n",
    ").add_selection(\n",
    "    highlight\n",
    ").properties(\n",
    "    width=600\n",
    ")\n",
    "\n",
    "lines = base.mark_line().encode(\n",
    "    size=alt.condition(~highlight, alt.value(1), alt.value(3))\n",
    ")\n",
    "\n",
    "points + lines"
   ]
  },
  {
   "cell_type": "markdown",
   "metadata": {
    "id": "UhFUcHXnI6Dp"
   },
   "source": [
    "## Multi-Line Tooltip\n",
    "\n",
    "This example shows how you can use selections and layers to create a tooltip-like behavior tied to the x position of the cursor. If you are looking for more standard tooltips, it is recommended to use the tooltip encoding channel as shown in the Scatter Plot With Tooltips example.\n",
    "\n",
    "The following example employs a little trick to isolate the x-position of the cursor: we add some transparent points with only an x encoding (no y encoding) and tie a nearest selection to these, tied to the “x” field."
   ]
  },
  {
   "cell_type": "code",
   "execution_count": null,
   "metadata": {
    "colab": {
     "base_uri": "https://localhost:8080/",
     "height": 368
    },
    "id": "P7DquiO0I1on",
    "outputId": "c2c99718-aa8c-4d68-8446-8b304f9f4608",
    "trrack_graph": "ᯡࡑ䅼ԅՐᶠ⹀தƸࢀড䰤〡怭䡠娡⳸噠ᙑ砆⁃ד⭟᣻僐噋Ŭ䉀∀ϻ㋠ڕ┥䞨哅൚䛬汙㤓瀴ቌ╈♈䐡ᙸ愲ᓀ۰״䬠ƅ〦涮Ṋ஻丳ࢫ۠ϫ籱磄ં㵕Ⴞ䱫䙆ቪ怠渨摔2婺ⲩዖ拀ゐф牊ⴣথ仩朅琒֥磂रំᖶ؎⡊ផ㳒ψ橩M嘱ত儤揠昇囲⣠䡋Ⴠඍᣕ氧ᰡ㺲祕求焠਀巀㶀惛㰉ᖲᯓᦨ᭑ʵ敢ᬪᏁ碊)捃⡘ㄡ䆩㣌㔺䖣↢㔾䀣姸䉁̶疎ߙ☦բဩ慫ᱠ⡁⮰啴檦䝶椺㴫⢇㑬牰  "
   },
   "outputs": [],
   "source": [
    "np.random.seed(42)\n",
    "source = pd.DataFrame(np.cumsum(np.random.randn(100, 3), 0).round(2),\n",
    "                    columns=['A', 'B', 'C'], index=pd.RangeIndex(100, name='x'))\n",
    "source = source.reset_index().melt('x', var_name='category', value_name='y')\n",
    "\n",
    "# Create a selection that chooses the nearest point & selects based on x-value\n",
    "nearest = alt.selection(type='single', nearest=True, on='mouseover',\n",
    "                        fields=['x'], empty='none')\n",
    "\n",
    "# The basic line\n",
    "line = alt.Chart(source).mark_line(interpolate='basis').encode(\n",
    "    x='x:Q',\n",
    "    y='y:Q',\n",
    "    color='category:N'\n",
    ")\n",
    "\n",
    "# Transparent selectors across the chart. This is what tells us\n",
    "# the x-value of the cursor\n",
    "selectors = alt.Chart(source).mark_point().encode(\n",
    "    x='x:Q',\n",
    "    opacity=alt.value(0),\n",
    ").add_selection(\n",
    "    nearest\n",
    ")\n",
    "\n",
    "# Draw points on the line, and highlight based on selection\n",
    "points = line.mark_point().encode(\n",
    "    opacity=alt.condition(nearest, alt.value(1), alt.value(0))\n",
    ")\n",
    "\n",
    "# Draw text labels near the points, and highlight based on selection\n",
    "text = line.mark_text(align='left', dx=5, dy=-5).encode(\n",
    "    text=alt.condition(nearest, 'y:Q', alt.value(' '))\n",
    ")\n",
    "\n",
    "# Draw a rule at the location of the selection\n",
    "rules = alt.Chart(source).mark_rule(color='gray').encode(\n",
    "    x='x:Q',\n",
    ").transform_filter(\n",
    "    nearest\n",
    ")\n",
    "\n",
    "# Put the five layers into a chart and bind the data\n",
    "alt.layer(\n",
    "    line, selectors, points, rules, text\n",
    ").properties(\n",
    "    width=600, height=300\n",
    ")"
   ]
  },
  {
   "cell_type": "markdown",
   "metadata": {
    "id": "iWyzm4fIJM94"
   },
   "source": [
    "## Multi-panel Scatter Plot with Linked Brushing\n",
    "\n",
    "This is an example of using an interval selection to control the color of points across multiple panels."
   ]
  },
  {
   "cell_type": "code",
   "execution_count": null,
   "metadata": {
    "colab": {
     "base_uri": "https://localhost:8080/",
     "height": 320
    },
    "id": "bKT1PIMgJxrT",
    "outputId": "f5ab2f39-515b-4774-c5f4-ae67ddb219ef",
    "trrack_graph": "ᯡࡑ䅼ԅՐᶠ⹀தŐࢀ㌠☠瀢斿Ôㄬ၃ᔃ᫪⁮㨡ణ᪻坧禥㬠㘠癐夈†档性嬅䀬番֯ࢩ㥪᪔ර媖瘏汔㱪⡬⢨Ō浑䉂⥠ව௅ᘠ˺怭圼㱊෣朩䑥䌀ȅň⨡㸠ᖠ⡠ါイ⥲堠ᮢ᤭$冱䭁◍㣈఼őಢ䵫▧兒塘屜㹡ࢸ剤Љ䆅䄛⩪昝὜䤊᭄+㖤⊃ᑡᤐ妅䶬䙘ሢ效ͻ杍ݡ圠⾴䅫㬪屠ʘ<瞈⽸ᡁ樆ⶄ䠍暁⎓Щ⭴水䪢戰僐ᒦ戁塺໨⊱硤匪ⅱ碁Ἣ䈁Ѧᬨ搕༷嫆ʥ愰̃╼⁈ᓈ⣴檚卤椈涝Ꮔㄕ⚊⠠ "
   },
   "outputs": [],
   "source": [
    "source = data.cars()\n",
    "\n",
    "brush = alt.selection(type='interval', resolve='global')\n",
    "\n",
    "base = alt.Chart(source).mark_point().encode(\n",
    "    y='Miles_per_Gallon',\n",
    "    color=alt.condition(brush, 'Origin', alt.ColorValue('gray')),\n",
    ").add_selection(\n",
    "    brush\n",
    ").properties(\n",
    "    width=250,\n",
    "    height=250\n",
    ")\n",
    "\n",
    "base.encode(x='Horsepower') | base.encode(x='Acceleration')"
   ]
  },
  {
   "cell_type": "markdown",
   "metadata": {
    "id": "q9U2NvEYJPqk"
   },
   "source": [
    "## Multiple Interactions\n",
    "\n",
    "This example shows how multiple user inputs can be layered onto a chart. The four inputs have functionality as follows:\n",
    "- Dropdown: Filters the movies by genre\n",
    "- Radio Buttons: Highlights certain films by Worldwide Gross\n",
    "- Mouse Drag and Scroll: Zooms the x and y scales to allow for panning."
   ]
  },
  {
   "cell_type": "code",
   "execution_count": null,
   "metadata": {
    "colab": {
     "base_uri": "https://localhost:8080/",
     "height": 653
    },
    "id": "MVI1NGTAJyNg",
    "outputId": "92a8f6d3-712f-40e6-b8a1-7e51f9835767",
    "trrack_graph": "ᯡࡑ䅼ԅՐᶠ⹀தƸۮ䀸Ŕ恁䁃ÔŹᤎ咠Ⱒ㦀೪㺽瓶ᴠᲃ䱓ᬻfࠠᨰ砡皙〣ᵲ䆅恂Ⅺ䚣㍶皼㴘ԩ攲䨰䩂k㩢エੰΈ̈■Ô堣㏧༵׭木⑥䈀ȅ繈慬㝅ᚧ෫ⓢ〣墸ዐWɒഠӅ኶⁪ⴑ⠸沜ᄹኺ䝨憃を䣙㴜䆔ࣘ䐫扫̐嘷ચ廹Ǵฤ䀶欨䑄⢢ਁ匓⭉ᒀ␸䑰ۖ侺瘣丠弩Ჺ瘱㢠ԐY⻰Ốぽ巴勩ϵ䱄ຸ䃪ૌΥ儘穁ࡥᄐ爳˥儨哊⩦ᆡ穉ϥ憨繐䞦傸ọ愐哠惈∡᱉㎨Ԣᔒ䪪䍷⨊ⴳ⯅㘔ັ䩁Რ  "
   },
   "outputs": [],
   "source": [
    "movies = alt.UrlData(\n",
    "    data.movies.url,\n",
    "    format=alt.DataFormat(parse={\"Release_Date\":\"date\"})\n",
    ")\n",
    "ratings = ['G', 'NC-17', 'PG', 'PG-13', 'R']\n",
    "genres = ['Action', 'Adventure', 'Black Comedy', 'Comedy',\n",
    "       'Concert/Performance', 'Documentary', 'Drama', 'Horror', 'Musical',\n",
    "       'Romantic Comedy', 'Thriller/Suspense', 'Western']\n",
    "\n",
    "base = alt.Chart(movies, width=200, height=200).mark_point(filled=True).transform_calculate(\n",
    "    Rounded_IMDB_Rating = \"floor(datum.IMDB_Rating)\",\n",
    "    Hundred_Million_Production =  \"datum.Production_Budget > 100000000.0 ? 100 : 10\",\n",
    "    Release_Year = \"year(datum.Release_Date)\"\n",
    ").transform_filter(\n",
    "    alt.datum.IMDB_Rating > 0\n",
    ").transform_filter(\n",
    "    alt.FieldOneOfPredicate(field='MPAA_Rating', oneOf=ratings)\n",
    ").encode(\n",
    "    x=alt.X('Worldwide_Gross:Q', scale=alt.Scale(domain=(100000,10**9), clamp=True)),\n",
    "    y='IMDB_Rating:Q',\n",
    "    tooltip=\"Title:N\"\n",
    ")\n",
    "\n",
    "# A slider filter\n",
    "year_slider = alt.binding_range(min=1969, max=2018, step=1)\n",
    "slider_selection = alt.selection_single(bind=year_slider, fields=['Release_Year'], name=\"Release Year_\")\n",
    "\n",
    "\n",
    "filter_year = base.add_selection(\n",
    "    slider_selection\n",
    ").transform_filter(\n",
    "    slider_selection\n",
    ").properties(title=\"Slider Filtering\")\n",
    "\n",
    "# A dropdown filter\n",
    "genre_dropdown = alt.binding_select(options=genres)\n",
    "genre_select = alt.selection_single(fields=['Major_Genre'], bind=genre_dropdown, name=\"Genre\")\n",
    "\n",
    "filter_genres = base.add_selection(\n",
    "    genre_select\n",
    ").transform_filter(\n",
    "    genre_select\n",
    ").properties(title=\"Dropdown Filtering\")\n",
    "\n",
    "#color changing marks\n",
    "rating_radio = alt.binding_radio(options=ratings)\n",
    "\n",
    "rating_select = alt.selection_single(fields=['MPAA_Rating'], bind=rating_radio, name=\"Rating\")\n",
    "rating_color_condition = alt.condition(rating_select,\n",
    "                      alt.Color('MPAA_Rating:N', legend=None),\n",
    "                      alt.value('lightgray'))\n",
    "\n",
    "highlight_ratings = base.add_selection(\n",
    "    rating_select\n",
    ").encode(\n",
    "    color=rating_color_condition\n",
    ").properties(title=\"Radio Button Highlighting\")\n",
    "\n",
    "# Boolean selection for format changes\n",
    "input_checkbox = alt.binding_checkbox()\n",
    "checkbox_selection = alt.selection_single(bind=input_checkbox, name=\"Big Budget Films\")\n",
    "\n",
    "size_checkbox_condition = alt.condition(checkbox_selection,\n",
    "                                        alt.SizeValue(25),\n",
    "                                        alt.Size('Hundred_Million_Production:Q')\n",
    "                                       )\n",
    "\n",
    "budget_sizing = base.add_selection(\n",
    "    checkbox_selection\n",
    ").encode(\n",
    "    size=size_checkbox_condition\n",
    ").properties(title=\"Checkbox Formatting\")\n",
    "\n",
    "( filter_year | filter_genres) &  (highlight_ratings | budget_sizing  )"
   ]
  },
  {
   "cell_type": "markdown",
   "metadata": {
    "id": "XLs-9DRKJPie"
   },
   "source": [
    "## Scatter Plot and Histogram with Interval Selection\n",
    "\n",
    "This example shows how to link a scatter plot and a histogram together such that an interval selection in the histogram will plot the selected values in the scatter plot.\n",
    "\n",
    "Note that both subplots need to know about the mbin field created by the transform_bin method. In order to achieve this, the data is not passed to the Chart() instances creating the subplots, but directly in the hconcat() function, which joins the two plots together."
   ]
  },
  {
   "cell_type": "code",
   "execution_count": null,
   "metadata": {
    "colab": {
     "base_uri": "https://localhost:8080/",
     "height": 380
    },
    "id": "F6ArrUx1Jyp0",
    "outputId": "e022ec73-40ba-4475-82e8-ffa5a076becf",
    "trrack_graph": "ᯡࡑ䅼ԅՐᶠ⹀தQ䁃Ⱑ怩䂆ᘢ栢〮擄䁌ø拢⁮紉᫥痻Kێc㪁ဠ㑁瀣渒怦㫅ӣ䁸岵պ٬汙㤓琲ᙙ⑐呤¶团愱ᓀ۰ײ䬠ƍ〦澮ḵ܁玦ੂ成Ē䂴Cື࿧⇇⌃椨ᔜ⥸;䄹ڠɱ䣫Ⴥ團听㘾ࢴ䥭⟄ビ奙峜簡჈屪␌ᇡ祷୫ቀὼ氰攽Հו䉃䑱⃢硹ይ䙦ᰲˡᐣⴇᘧ⃷O䩡⧛ݔ•㰠໗㑏ⰸđ獍㉣ഇ׆倥╳⧐かءᆂ㉟೥偈堳ౄრ㈩຦㆐壎ئࢲ塟௱>枵☥עၙ浬屠⠩⁶哴㫆䣵桺͛Ⲇ瓬现  "
   },
   "outputs": [],
   "source": [
    "x = np.random.normal(size=100)\n",
    "y = np.random.normal(size=100)\n",
    "\n",
    "m = np.random.normal(15, 1, size=100)\n",
    "\n",
    "source = pd.DataFrame({\"x\": x, \"y\":y, \"m\":m})\n",
    "\n",
    "# interval selection in the scatter plot\n",
    "pts = alt.selection(type=\"interval\", encodings=[\"x\"])\n",
    "\n",
    "# left panel: scatter plot\n",
    "points = alt.Chart().mark_point(filled=True, color=\"black\").encode(\n",
    "    x='x',\n",
    "    y='y'\n",
    ").transform_filter(\n",
    "    pts\n",
    ").properties(\n",
    "    width=300,\n",
    "    height=300\n",
    ")\n",
    "\n",
    "# right panel: histogram\n",
    "mag = alt.Chart().mark_bar().encode(\n",
    "    x='mbin:N',\n",
    "    y=\"count()\",\n",
    "    color=alt.condition(pts, alt.value(\"black\"), alt.value(\"lightgray\"))\n",
    ").properties(\n",
    "    width=300,\n",
    "    height=300\n",
    ").add_selection(pts)\n",
    "\n",
    "# build the chart:\n",
    "alt.hconcat(\n",
    "    points,\n",
    "    mag,\n",
    "    data=source\n",
    ").transform_bin(\n",
    "    \"mbin\",\n",
    "    field=\"m\",\n",
    "    bin=alt.Bin(maxbins=20)\n",
    ")"
   ]
  },
  {
   "cell_type": "markdown",
   "metadata": {
    "id": "9vIGqG4iJPgE"
   },
   "source": [
    "## Selection Detail Example\n",
    "\n",
    "This example shows a selection that links two views of data: the left panel contains one point per object, and the right panel contains one line per object. Clicking on either the points or lines will select the corresponding objects in both views of the data.\n",
    "\n",
    "The challenge lies in expressing such hierarchical data in a way that Altair can handle. We do this by merging the data into a “long form” dataframe, and aggregating identical metadata for the final plot."
   ]
  },
  {
   "cell_type": "code",
   "execution_count": null,
   "metadata": {
    "colab": {
     "base_uri": "https://localhost:8080/",
     "height": 320
    },
    "id": "tYrR1wzAJzQ-",
    "outputId": "685327be-2d4e-48e6-c2d3-dabe132e031d",
    "trrack_graph": "ᯡࡑ䅼ԅՐᶠ⹀தϐӠ↠ᴎ恃ᬡ㓒疠ᦩyᠠ曀ᇖᙯ⬵䰍恋V㩢䱀∀ϸº怦㫅˧䁸䲥㕚䙄⳸㦑瀴ቅᑖᑤ¶䫸愰ᓀ۰׷ଠƉ〦济Ṋ஻主ࢫڰϫ籱Ԝ㺞യڿ䀬杧⎪怠渨摔2割Ⲯᓖ䫀ゑ硤劒ᕍƹ䫪⟴厑掬所⽶ⰷ峀呹欒朖刉戠學≖ᅤදʱ䵺Ⓝŀ♢䁕䊜旐ຐ̛䔅䯐㧤G䀡準䄕䆡㟏኶⑮暖࿔截⽊㌐塬ឯ⏀⑾ফ䍅㐠Ꮀ䗠䣸ⰳƤ䣲㴿䓁䀠璲䠁ᆽᗶ睉䃡⡤њ⧧ࠪъ爵઺坱橺⍯│媦₸⃅  "
   },
   "outputs": [],
   "source": [
    "np.random.seed(0)\n",
    "\n",
    "n_objects = 20\n",
    "n_times = 50\n",
    "\n",
    "# Create one (x, y) pair of metadata per object\n",
    "locations = pd.DataFrame({\n",
    "    'id': range(n_objects),\n",
    "    'x': np.random.randn(n_objects),\n",
    "    'y': np.random.randn(n_objects)\n",
    "})\n",
    "\n",
    "# Create a 50-element time-series for each object\n",
    "timeseries = pd.DataFrame(np.random.randn(n_times, n_objects).cumsum(0),\n",
    "                          columns=locations['id'],\n",
    "                          index=pd.RangeIndex(0, n_times, name='time'))\n",
    "\n",
    "# Melt the wide-form timeseries into a long-form view\n",
    "timeseries = timeseries.reset_index().melt('time')\n",
    "\n",
    "# Merge the (x, y) metadata into the long-form view\n",
    "timeseries['id'] = timeseries['id'].astype(int)  # make merge not complain\n",
    "dataset = pd.merge(timeseries, locations, on='id')\n",
    "\n",
    "# Data is prepared, now make a chart\n",
    "\n",
    "selector = alt.selection_single(empty='all', fields=['id'])\n",
    "\n",
    "base = alt.Chart(dataset).properties(\n",
    "    width=250,\n",
    "    height=250\n",
    ").add_selection(selector)\n",
    "\n",
    "points = base.mark_point(filled=True, size=200).encode(\n",
    "    x='mean(x)',\n",
    "    y='mean(y)',\n",
    "    color=alt.condition(selector, 'id:O', alt.value('lightgray'), legend=None),\n",
    ")\n",
    "\n",
    "timeseries = base.mark_line().encode(\n",
    "    x='time',\n",
    "    y=alt.Y('value', scale=alt.Scale(domain=(-15, 15))),\n",
    "    color=alt.Color('id:O', legend=None)\n",
    ").transform_filter(\n",
    "    selector\n",
    ")\n",
    "\n",
    "points | timeseries"
   ]
  },
  {
   "cell_type": "markdown",
   "metadata": {
    "id": "brUcAzENJPc0"
   },
   "source": [
    "## Selection Histogram\n",
    "\n",
    "This chart shows an example of using an interval selection to filter the contents of an attached histogram, allowing the user to see the proportion of items in each category within the selection."
   ]
  },
  {
   "cell_type": "code",
   "execution_count": null,
   "metadata": {
    "colab": {
     "base_uri": "https://localhost:8080/",
     "height": 484
    },
    "id": "iSad9L_hJz3O",
    "outputId": "5ccc07fa-c3e6-47e0-f5ea-4334a8fe9d1c",
    "trrack_graph": "ᯡࡑ䅼ԅՐᶠ⹀தĸʀ↠ᰡ〠怵䦠媔ǐ͗ᾠ䙽瑹庡䲄ԇ榮奓㖮䀩䱤-ќ♸î哀夑ર凇⣹䭛᜾㸢䍥ᒦ抨䀲浻ూ⊴úÚ䦀Mᘠ浑揥↓㧣ㄱ簠禟੝኷౩≀ቱ妑䊲堠ᮢ᤭$嚶䭂╍ᣈ఼ĩᲪ䭦₂パ痙㳸繡ࢸ剫涮䖢窵爪ቀ⼬澊Ⴒ‫㖤⎂䷑灒始㓄ぃྰ۔侺㘣丠彩㳒瘴梠ԐY仰Ốね嘔勩ў代瓂䆫▌穮ᬩ慱ђ᛫΁㔠㘦⌀Ⱗ❣棂⸺䋁墼᱈㓘滅ᠸᔨ䀧ै無ℙ㙬啲⨺൮凲堼፰授䰧ဠ "
   },
   "outputs": [],
   "source": [
    "source = data.cars()\n",
    "\n",
    "brush = alt.selection(type='interval')\n",
    "\n",
    "points = alt.Chart(source).mark_point().encode(\n",
    "    x='Horsepower:Q',\n",
    "    y='Miles_per_Gallon:Q',\n",
    "    color=alt.condition(brush, 'Origin:N', alt.value('lightgray'))\n",
    ").add_selection(\n",
    "    brush\n",
    ")\n",
    "\n",
    "bars = alt.Chart(source).mark_bar().encode(\n",
    "    y='Origin:N',\n",
    "    color='Origin:N',\n",
    "    x='count(Origin):Q'\n",
    ").transform_filter(\n",
    "    brush\n",
    ")\n",
    "\n",
    "points & bars"
   ]
  },
  {
   "cell_type": "markdown",
   "metadata": {
    "id": "eSjjWdbAJPbI"
   },
   "source": [
    "## Simple Interactive Colored Scatterplot\n",
    "\n",
    "This example shows how to make an interactive scatterplot."
   ]
  },
  {
   "cell_type": "code",
   "execution_count": null,
   "metadata": {
    "colab": {
     "base_uri": "https://localhost:8080/",
     "height": 368
    },
    "id": "8UuJISKVJ0TF",
    "outputId": "3770987e-f953-472a-b483-609278621e14",
    "trrack_graph": "ᯡࡑ䅼ԅՐᶠ⹀தɐǠ⬸ɐʀƽÔȦ㏁㒠Ⳕ΅䪆Ⱔ犰শ列唏ᙍՂဠ㑁瀣氪怦㫅˫䡤岵ක♍泘稐ਲᣄA䩂kS⧐䐪⠣㐢瑅䀠婸ǐᎯપ瞓䊺ᆀР礠䩚Ƨã擤ひ〸ዐWɒഠӅ኶⁪Ⱙ⠸Ნㄹኺ䝨暅㊀㧙㳔繡ト䉻檈ᜓ᠆௤⃾䳸㽪ࢢ‫㖤⊸䵭烲秋ᓔ⡄ޠ⠦孯䲗ŎҼ喖ʈ䀤砠ᵎ梾塐།橲撬ᣭᡮ䁪旐㏷䖣ピ⤭䉂怬ᴨ䀣壨㰥۠ᅨ瑌ඇ≈く⃤燌憭澓ᓠႸ∦᱉厨Ԡᒒ犪䕷⦊ⴣ⯁㐬໑䲒  "
   },
   "outputs": [],
   "source": [
    "source = data.cars()\n",
    "\n",
    "alt.Chart(source).mark_circle().encode(\n",
    "    x='Horsepower',\n",
    "    y='Miles_per_Gallon',\n",
    "    color='Origin',\n",
    ").interactive()"
   ]
  },
  {
   "cell_type": "markdown",
   "metadata": {
    "id": "O5eIyeS0JPYo"
   },
   "source": [
    "## Using Selection Interval with mark_area\n",
    "\n",
    "Because area is considered one object, just using the plain selector will select the entire area instead of just one part of it.\n",
    "\n",
    "This example shows how to use two areas, one on top of the other, and a transform_filter to fake out this effect. "
   ]
  },
  {
   "cell_type": "code",
   "execution_count": null,
   "metadata": {
    "colab": {
     "base_uri": "https://localhost:8080/",
     "height": 368
    },
    "id": "i9VEeiZkJ07x",
    "outputId": "46addb60-8816-47d4-db10-17cc630a8d29",
    "trrack_graph": "ᯡࡑ䅼ԅՐᶠ⹀தP࣠ᆠⲀ૫VÔ¹㫮㓼ƻ倰橠乧槺ₖᵍ䀣䱡䖡㩸ဠ㑁瀣氠䶀͚劢揨≢䪭㵆圍Კ種ാኴᆴ∠䭚䚁঴倦栥楫!㇐·ᜯէ㪙愹࣐㤠㲰┳౯恆ጃ则㣤㽟੶&灦⇀´㉒摉඼唣ί䉃ታ⦈೬㘮㝏h⺢ጴ䢢紹壐强榙ₗ澺ᵧⅨƍエ䘵ࡃḶ⋛ㆵ䒤䇐攠欥喱硍怫犴⮏䵡ࠠ传ϙ尫欦ɞ㳨沰Ι⌬バ䁵൷ࠂㄈᜳᇃむ⌠䗁㠤☴䒀㊚㘡ↂ㉼᜼䎰夜é疘檀ᡢᄢ⻔痤ʡ䩥⵽₉㓭⺭偒㫦཯圲⹠  "
   },
   "outputs": [],
   "source": [
    "source = data.unemployment_across_industries.url\n",
    "\n",
    "base = alt.Chart(source).mark_area(\n",
    "    color='goldenrod',\n",
    "    opacity=0.3\n",
    ").encode(\n",
    "    x='yearmonth(date):T',\n",
    "    y='sum(count):Q',\n",
    ")\n",
    "\n",
    "brush = alt.selection_interval(encodings=['x'],empty='all')\n",
    "background = base.add_selection(brush)\n",
    "selected = base.transform_filter(brush).mark_area(color='goldenrod')\n",
    "\n",
    "background + selected"
   ]
  }
 ],
 "metadata": {
  "NB_UUID": "a82bce7f-b64c-4128-9bc5-d2b2de6eba55",
  "__CATEGORIES__": {},
  "colab": {
   "provenance": []
  },
  "kernelspec": {
   "display_name": "Python 3 (ipykernel)",
   "language": "python",
   "name": "python3"
  },
  "language_info": {
   "codemirror_mode": {
    "name": "ipython",
    "version": 3
   },
   "file_extension": ".py",
   "mimetype": "text/x-python",
   "name": "python",
   "nbconvert_exporter": "python",
   "pygments_lexer": "ipython3",
   "version": "3.11.4"
  },
  "vscode": {
   "interpreter": {
    "hash": "31f2aee4e71d21fbe5cf8b01ff0e069b9275f58929596ceb00d14d90e3e16cd6"
   }
  }
 },
 "nbformat": 4,
 "nbformat_minor": 4
}
