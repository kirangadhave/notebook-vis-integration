{
 "cells": [
  {
   "cell_type": "code",
   "execution_count": 1,
   "id": "1088dc38-d4cc-422b-8e55-7967c5fb15e5",
   "metadata": {
    "trrack_graph": {
     "current": "d8ab023e-f434-43cc-89b4-a82a0e0f1fb4",
     "nodes": {
      "d8ab023e-f434-43cc-89b4-a82a0e0f1fb4": {
       "artifacts": [],
       "children": [],
       "createdOn": 1680551193339,
       "event": "Root",
       "id": "d8ab023e-f434-43cc-89b4-a82a0e0f1fb4",
       "label": "Root",
       "level": 0,
       "meta": {
        "annotation": [],
        "bookmark": []
       },
       "state": {
        "type": "checkpoint",
        "val": {
         "interactions": []
        }
       }
      }
     },
     "root": "d8ab023e-f434-43cc-89b4-a82a0e0f1fb4"
    }
   },
   "outputs": [
    {
     "name": "stdout",
     "output_type": "stream",
     "text": [
      "Loaded InteractiveDE extension version 1.0.1a0\n",
      "Extension enabled for altair\n"
     ]
    }
   ],
   "source": [
    "import altair as alt\n",
    "import pandas as pd\n",
    "\n",
    "import interactivede.ide as IDE # Our library\n",
    "\n",
    "IDE.enable('altair') # Call this to enable integration with altair"
   ]
  },
  {
   "cell_type": "code",
   "execution_count": 2,
   "id": "eb7f681b-cd56-4846-8ff6-88a4813aa48b",
   "metadata": {
    "trrack_graph": {
     "current": "672e2c47-d773-4720-a61e-48a51aeac67e",
     "nodes": {
      "672e2c47-d773-4720-a61e-48a51aeac67e": {
       "artifacts": [],
       "children": [],
       "createdOn": 1680551244719,
       "event": "Root",
       "id": "672e2c47-d773-4720-a61e-48a51aeac67e",
       "label": "Root",
       "level": 0,
       "meta": {
        "annotation": [],
        "bookmark": []
       },
       "state": {
        "type": "checkpoint",
        "val": {
         "interactions": []
        }
       }
      }
     },
     "root": "672e2c47-d773-4720-a61e-48a51aeac67e"
    }
   },
   "outputs": [],
   "source": [
    "penguins_url = \"https://raw.githubusercontent.com/vega/vega/master/docs/data/penguins.json\""
   ]
  },
  {
   "cell_type": "code",
   "execution_count": 3,
   "id": "162272bd-88a2-43fe-86c2-f14c4c1cd2f3",
   "metadata": {
    "tags": [],
    "trrack_execution_spec": {
     "$schema": "https://vega.github.io/schema/vega-lite/v4.17.0.json",
     "config": {
      "view": {
       "continuousHeight": 300,
       "continuousWidth": 400
      }
     },
     "data": {
      "url": "https://raw.githubusercontent.com/vega/vega/master/docs/data/penguins.json"
     },
     "encoding": {
      "color": {
       "condition": {
        "field": "Species",
        "selection": "brush",
        "type": "nominal"
       },
       "value": "lightgray"
      },
      "x": {
       "field": "Beak Length (mm)",
       "scale": {
        "zero": false
       },
       "type": "quantitative"
      },
      "y": {
       "field": "Beak Depth (mm)",
       "scale": {
        "zero": false
       },
       "type": "quantitative"
      }
     },
     "height": 400,
     "mark": "point",
     "selection": {
      "brush": {
       "type": "interval"
      }
     },
     "width": 400
    },
    "trrack_graph": {
     "current": "861237ac-4d82-4743-82be-644b3adeec37",
     "nodes": {
      "2e18b870-4fd6-41c6-bd88-a74f67a88995": {
       "artifacts": [],
       "children": [
        "9d2fd9e0-959f-44a3-ba8e-4551c7c42b7f"
       ],
       "createdOn": 1680639208472,
       "event": "Root",
       "id": "2e18b870-4fd6-41c6-bd88-a74f67a88995",
       "label": "Root",
       "level": 0,
       "meta": {
        "annotation": [],
        "bookmark": [],
        "df_name": [
         {
          "createdOn": 1680639208502,
          "id": "3517b79e-4d32-4a52-b6f7-0ac4d2419a10",
          "type": "df_name",
          "val": "data_root_2e18b870"
         }
        ]
       },
       "state": {
        "type": "checkpoint",
        "val": {
         "interactions": []
        }
       }
      },
      "861237ac-4d82-4743-82be-644b3adeec37": {
       "artifacts": [],
       "children": [],
       "createdOn": 1680642758073,
       "event": "interaction",
       "id": "861237ac-4d82-4743-82be-644b3adeec37",
       "label": "filter",
       "level": 2,
       "meta": {
        "annotation": [],
        "bookmark": [],
        "df_name": [
         {
          "createdOn": 1680642758102,
          "id": "2a989fd6-c5c9-44ac-b9b4-f92e6a601b06",
          "type": "df_name",
          "val": "data_filter_861237ac"
         }
        ]
       },
       "parent": "9d2fd9e0-959f-44a3-ba8e-4551c7c42b7f",
       "sideEffects": {
        "do": [],
        "undo": []
       },
       "state": {
        "type": "checkpoint",
        "val": {
         "interactions": [
          {
           "id": "562f389a-dbdf-4bc7-b8d7-3a584daa421b",
           "name": "brush",
           "params": {
            "selection": {
             "Beak Depth (mm)": [
              17.8375,
              20.267500000000002
             ],
             "Beak Length (mm)": [
              36.06,
              45.3
             ]
            },
            "x": [
             58,
             190
            ],
            "y": [
             77,
             185
            ]
           },
           "path": "/selection/brush",
           "type": "selection_interval"
          },
          {
           "id": "ca86d5ff-7f74-46f8-9910-3ecb645c1d20",
           "path": "",
           "type": "filter"
          }
         ]
        }
       }
      },
      "9d2fd9e0-959f-44a3-ba8e-4551c7c42b7f": {
       "artifacts": [],
       "children": [
        "861237ac-4d82-4743-82be-644b3adeec37"
       ],
       "createdOn": 1680642753882,
       "event": "interaction",
       "id": "9d2fd9e0-959f-44a3-ba8e-4551c7c42b7f",
       "label": "selection_interval",
       "level": 1,
       "meta": {
        "annotation": [],
        "bookmark": [],
        "df_name": [
         {
          "createdOn": 1680642753900,
          "id": "2a1d82d2-83b3-4b65-9141-44018e42db7d",
          "type": "df_name",
          "val": "data_selection_9d2fd9e0"
         }
        ]
       },
       "parent": "2e18b870-4fd6-41c6-bd88-a74f67a88995",
       "sideEffects": {
        "do": [],
        "undo": []
       },
       "state": {
        "type": "checkpoint",
        "val": {
         "interactions": [
          {
           "id": "562f389a-dbdf-4bc7-b8d7-3a584daa421b",
           "name": "brush",
           "params": {
            "selection": {
             "Beak Depth (mm)": [
              17.8375,
              20.267500000000002
             ],
             "Beak Length (mm)": [
              36.06,
              45.3
             ]
            },
            "x": [
             58,
             190
            ],
            "y": [
             77,
             185
            ]
           },
           "path": "/selection/brush",
           "type": "selection_interval"
          }
         ]
        }
       }
      }
     },
     "root": "2e18b870-4fd6-41c6-bd88-a74f67a88995"
    }
   },
   "outputs": [
    {
     "data": {
      "application/vnd.trrack+json": {
       "application/vnd.trrack.graph+json": "162272bd-88a2-43fe-86c2-f14c4c1cd2f3",
       "application/vnd.vegalite.v4+json": {
        "$schema": "https://vega.github.io/schema/vega-lite/v4.17.0.json",
        "config": {
         "view": {
          "continuousHeight": 300,
          "continuousWidth": 400
         }
        },
        "data": {
         "url": "https://raw.githubusercontent.com/vega/vega/master/docs/data/penguins.json"
        },
        "encoding": {
         "color": {
          "condition": {
           "field": "Species",
           "selection": "brush",
           "type": "nominal"
          },
          "value": "lightgray"
         },
         "x": {
          "field": "Beak Length (mm)",
          "scale": {
           "zero": false
          },
          "type": "quantitative"
         },
         "y": {
          "field": "Beak Depth (mm)",
          "scale": {
           "zero": false
          },
          "type": "quantitative"
         }
        },
        "height": 400,
        "mark": "point",
        "selection": {
         "brush": {
          "type": "interval"
         }
        },
        "transform": [
         {
          "filter": {
           "and": [
            {
             "not": {
              "and": [
               {
                "field": "Beak Length (mm)",
                "range": [
                 36.06,
                 45.3
                ]
               },
               {
                "field": "Beak Depth (mm)",
                "range": [
                 17.8375,
                 20.267500000000002
                ]
               }
              ]
             }
            }
           ]
          }
         }
        ],
        "width": 400
       }
      }
     },
     "execution_count": 3,
     "metadata": {},
     "output_type": "execute_result"
    }
   ],
   "source": [
    "# All of the code here is pure altair. The library does not need any custom syntax\n",
    "\n",
    "brush = alt.selection_interval(name='brush') # define a type of selection\n",
    "\n",
    "# create a scatterplot\n",
    "chart = alt.Chart(penguins_url).mark_point().encode(\n",
    "    x=alt.X('Beak Length (mm):Q', scale=alt.Scale(zero=False)),\n",
    "    y=alt.Y('Beak Depth (mm):Q', scale=alt.Scale(zero=False)),\n",
    "    color=alt.condition(brush, 'Species:N', alt.value('lightgray'))\n",
    ").properties(\n",
    "    width=400,\n",
    "    height=400\n",
    ").add_selection(\n",
    "    brush # Connect the brush selection to scatterplot\n",
    ")\n",
    "\n",
    "chart"
   ]
  }
 ],
 "metadata": {
  "NB_UUID": "56ee9583-b360-4fc8-993c-4a68765003a0",
  "kernelspec": {
   "display_name": "Python 3 (ipykernel)",
   "language": "python",
   "name": "python3"
  },
  "language_info": {
   "codemirror_mode": {
    "name": "ipython",
    "version": 3
   },
   "file_extension": ".py",
   "mimetype": "text/x-python",
   "name": "python",
   "nbconvert_exporter": "python",
   "pygments_lexer": "ipython3",
   "version": "3.8.16"
  },
  "toc-autonumbering": false,
  "toc-showtags": false
 },
 "nbformat": 4,
 "nbformat_minor": 5
}
