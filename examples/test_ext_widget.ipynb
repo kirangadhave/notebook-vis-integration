{
 "cells": [
  {
   "cell_type": "code",
   "execution_count": 1,
   "id": "2594b5d1-f285-46e7-bb20-55c0d04f9037",
   "metadata": {
    "trrack_graph": "໢尭䲠 "
   },
   "outputs": [],
   "source": [
    "from vega_datasets import data\n",
    "import persist_ext as PR\n",
    "import altair as alt"
   ]
  },
  {
   "cell_type": "code",
   "execution_count": 2,
   "id": "1f157780-d9d6-4cdb-9710-5a89a4c97325",
   "metadata": {
    "__GENERATED_DATAFRAMES__": "ᯡࡓ䁼ࢁӐㆠ≒䂆ř⁻Ŭ愠⺀̘ǁ)䁯氶⴦洔፠圠㚿ਠ ",
    "trrack_graph": "ᯡ࠽䈌ʀ匦㢠⹰۠⌡䰢リᐥ䁍n¦X㈿䩔ː䠽䊶䋗匠捕೦ⴠ⍄倡ᙰ䡣厅恂Ⅺ䛝ጶ㘽嶛礨ǁ#㕀ጷ≠ኤРᜰᵐüメ⹁͙㶄Ꭰ֨滈n݄V䐸䌠͓劒ᣀᢤ丬Ǖ਴䔨‰P㈸ʬ炴㍞̓Ƨ↡\"璕㪖⍄ٮ厠ᩡ㗠ϩ䂰案扢礡ᆱ䱦䇰˸恍ⓢၲᡄኂ扁Ԍ℥⩠̆⤉࿫㰱⠥礉眷懄丫Ɋ綎Þ⹡xŜ.䞯➷஍焢ᒓ峖⤸抙䐲سᜨ悈ఱ䑂⻘㔽ւ䢄ٰ䁁ㄘ⌣ዠшᐮ䒃峏ߢ⊈恍㥨痄璁⑺ᖫ抩¹ᕫ剹๯၈ࣥ⥱申䓮͊ᆩ戩ቦ䄆㋹㩧䱋禅㮿⑒䅎Ⳡݑ䀠ɘࣥ才䬽∯㈘Z◝旊ǮU吒⹦東園簡૤፧䌁ᘴ䟡抸ਲ਼䛂ᢼㄾ⥠倨炋ᝀ㈢Ʈ䃢⩚ᯯゑᲲ☧ϡࢄ┹ቲ穊㬬坱磄₽擇⥰ݫ刉穈ᴿˠ境Ӫ㊚朓୩㔗嚻Ч㏸໗০㐓乮䷭ㇱ悂ఠԱ笭ᯈԠ䄮ᴠଆƏݩ缍❬擯嵑㆘䂰㡊`漩F簉Გ䵒檘ሠẼ秞瓛吇橕ଁGἔ㻮ᨕ㼏䐤广姦缀䝦Ƞ㐅္ᘱ䀢cℑᲢᓴᲦႌ墤䑤ᆣ₈厥းᆧဢ䰪栰≥│А堨␦终〯纜⨅೫ᎨĚᒵ匤䰮䄐簸䃀ⲡ█⥀ᰀ㨫IⲸ玡အ竑⠽䗡俧禠刼㐑⁀楼࠯慑ᙙ懑眾Ԟ箺曡幑焤倿㢨⳶您ᠠϘ䓚༃䊟ᰁ杰صಁ∡ӧਁ䓳權筚䴀/⥎神㌆϶㮷Ტᒳጄ䚰榴䘪叴䚱⦮ᵺ璞`㑬ѡჄ⺋ါʫ‸ঊ惫ᜣ態㖉ᲊ㶪Ӱ┍疝㿈౐り෣⒍൨ⲁ䨃⊀ᆳ㓮،夳ᨣℤౣไ宒ᒃ൘ᲀ䲳ઍ⠬ᩲ 㒬Ơ漾哓ⴴǴ㹬Ը࠭䟑㚨ߔぃ勘έ㎕繀◘ᾧ勭⊳Ⴕⳛ፩㋗៩઩♵൓⌚ෂ܈◞ࠈ瑔䣩䑇㒹协㓑緒懼᭖旹笱留厨䃘圼珘䯊皤㴔摜烨߼⋺晜༹盪ቅ盜⢍畸癨(䊝䒒䚂঒ō䧳ႊ尛⛌ઓࡩ䭓媎䪢䛦夂屯त粅塗傂ᓷᱯ琝ૺࢰ憎䂔竵屖⾻寖㿒ड湤䙅మQ禡௣⪚檁ޚ乀堾ǡ絎మۣ䬯ࡴİĤᲇ廠䤧ᴱ杸幃〙ห⼨浮ㆱ秜䉍㶓ࠊ樰泰䱾䗉₶υ⬙䋭浻㮱ׂ䌏●㣰嗖䄑㮿䁦ሲἴⲴ兩棷឴壿ᇦ㒰  "
   },
   "outputs": [
    {
     "data": {
      "application/vnd.jupyter.widget-view+json": {
       "model_id": "16b9ee8d4e7c42d3bea7c37568dfd7c5",
       "version_major": 2,
       "version_minor": 0
      },
      "text/plain": [
       "OutputWithTrrackWidget(body_widget=VegaLiteChartWidget(debounce_wait=200.0, df_columns=['date', 'precipitation…"
      ]
     },
     "execution_count": 2,
     "metadata": {},
     "output_type": "execute_result"
    }
   ],
   "source": [
    "source = data.seattle_weather()\n",
    "brush = alt.selection_interval(name=\"selector\", encodings=['x'])\n",
    "\n",
    "bars = alt.Chart().mark_bar().encode(\n",
    "    x='month(date):O',\n",
    "    y='mean(precipitation):Q',\n",
    "    opacity=alt.condition(brush, alt.OpacityValue(1), alt.OpacityValue(0.7)),\n",
    ").add_params(\n",
    "    brush\n",
    ")\n",
    "\n",
    "line = alt.Chart().mark_rule(color='firebrick').encode(\n",
    "    y='mean(precipitation):Q',\n",
    "    size=alt.SizeValue(3)\n",
    ").transform_filter(\n",
    "    brush\n",
    ")\n",
    "\n",
    "vis = PR.vis.TrrackableChart(alt.layer(bars, line, data=source))\n",
    "vis"
   ]
  },
  {
   "cell_type": "code",
   "execution_count": 3,
   "id": "4bad6f96-60a4-4a27-9c15-1fdad2109d72",
   "metadata": {
    "__GENERATED_DATAFRAMES__": "ᯡࡓ䁼ࢁӐㆠ≒䂆ř⁻Ŭ愠⺀̘ǁ)䁯氶⴦洔፠圠㚿ਠ ",
    "trrack_graph": "ᯡ࠽䈌ʀ匦㢠⹰໣Ÿ栻,͐׀ಀ֤䂼ɨ࣯䂡ء䱨Ҁ㪸坼侙ୱ㉪2攩к☸岥⑉⫴ኊ滫䞿㨡⅀†済壤ᲰӁĠ׿␬W౐㮨⃎濺အ㔸㔠ʑ㥀ǔ₼F㴶Ꮃ䆬⒪ᅡ⨃栤ᚊ㕝«ޮ䒬䓂㧩ᇐ稰N䃰攆㉡怹ণ瑖ᡈ\\䰩൥䐂恳獘夈ሣM䘦慼䄧冢⇆㛂ࢎ扈㫄˭〦宯椢㮁䪠⾡䄙㣯≁塃坖火ᠱ࠭䀳怠皟㬘您㬿д▓沮㴼斻䒲ḥ䇢ᡐܥऍᔫۂ∬㤾䇢牄⑤䅠炱ଫʢㄖ㯫璳ᩐ⭹煚ᤦᑦᎨቤብᅁ刹ᙧᏨ੥६叄幰箥䶨礼牵ၪ㋹⹿ᑋૅ㥾晒䰰䞾〣䲀!ฦ㈝䭵䃱͙Ġຶ濑橀箸ஊ˷᧛劉簡ね㜪㡰㤵䉀傌फ͡⡥♜䝠悸朰䦃䢬㔳䝣冼ᕠ愘๎᮪⃣ゔʲ䇁棊ᬣ䜂礜₸⊈媍❭㘋窣⸧۰♳೴޺ᛍ૷泻㘰Ỡ牛溇ᳰᓙ嶗۠掣䑐4⣧䊎㯈Ԡ䆮̠ଆ̏䞉爏ⓜ唏䐣䳹㹰㰶ઠု剬࢝䘴㻫㴙ሠẪ硞䌠签捶僼ာ獞埽揞俹玆嚷篘㿪࠸へݾ∯ΰ⠧İ∲䊖๪䏰ᐨ䀰擱䏄㰲ᏆⰦ̲硥䂰䡏⍡䤾䅠ऱӸ摄Ȟౄԡ慖〠न࠳ൠ‣岀⁦ৈⴹ堠ⳟ䞠^䰄к‧஢䌵ㆤ婚检䶱戸!␪ᶇ惇噰ŅⒸେ撾䭤ౕ᭱恍ὅ璣ᒆဳአ乳䓨㤗פ碻撧罐ར☱ᨤ䴻䥅墨坓㤏欴僧䥄Ⴐч㹰䨡ཱྺᱱ̠播ᤳ汦մȥ樠᫓Ń屇ᵄ⁙჆㶞潳尠ȉ╞㘊已䠪樢⒥獔皿猬↱瑠⾯毕ᯢᯉ㮮᭢稾Ѡ䌄卂Ậ୮᧹甞C㊌֣ĸ⒭Ⴋ㲦Ⅻ㊠憸▁傋㚧⳸冧⡁㔭ḝ₂憣⢎ಀ⒂䇃ⲏള㊊䷳⪆ᗺ䑠ಣࢆ䑃㹃݈屐″࢈䛳ځ呬ó哠㻄㑲篁㓍ⷍ㘍㎨瑠㏏ዽᄍ烝ၢ৶᛬ᡨ⌣恲㔢䁅唨揃⸾䧥䨫䁸ভ⃀⌧⭖຃瘓Ⓠ旲೅撙ˏ斵჆啥·Ⓕᝣ椚˞沐ᅂ䇛㓢稛ⶨᴢ挅妖㻨㥯㧫ᵤᗥ帗ࠬ嶀㬉嶎௢㸎∌㴗ᔄ岾☊᭄⸏㴖䑂⩠ఉ拒漿挟Ṽट㔤䩾ᥱ⫊䵷⨬ᓵƺ擸櫱杲珚宷樶╜ᨬ‽婆䎓᯴便ᰔ拴㋛堩♖徖丧滸Ⱆ簨又㨧儈塾掓䰹䯂倏粪悵㏎怉ያ䖞ፄ坳檚ᬙ牧澳叧勴䄈硳怓缓䨤创᭧徱㽵䃞ⴊጏ淜秲ᐫ䙉磁筏 㝷ᐨဴ庸➝株՟嘨峜அⰩ⅔ᕡ兂ÔຠѯôŹ′Ⴐᐦ慢㟀㈸♘ס䰩ᅂ༣੄ઌ⿧籠⚔寏㬎क㈸塾䥣䬧毈㖂栽ذ槫⣮ĩᄺ㡸ࡸ䗚ƫӑ儉㓂妎怲棍䫵ⴊ刱冺䐬ڪ棩ㅀ崾ℚὌ䙓ၬ㲹㕅䈊⇃ų∼ڏቬ括禲⁙嗰湗᪚㾣玁摢ⶉ၀榬ყೃἹ捁ᡃઅጴブ穬汖曹搯Ǳቂ穓嬖᳠ⲗ㞔儊ᴃ䠌䧦㤇љ掸㣎⒕᪍愠夅癧䧳✹ᱏᚃ箬ڇ⨪㹌௾㰴⹅挠羮岨㰂䪸ε⒤喊嗊竂湭摜ᵺ緻圙➯㪍ᣴ༶瘾潄縫⬝筝㔮㉠盙䭏̇ၦ䉉⸁䩱⅒灓֯嫫ᴹ筀泪ᔷ䑡༏㉯ᄜ杌㰢䶁੧穠磬ᝯ䤢㿯缇ᐢ怦㍏䘴₎篜䉉⅃瘥ề䗀Ḑ体́⸫⸡⠿Į䕠⾐╅拃ऱఠ䅛༡㥉ጂ०屢ㅤƮ桃Ǩᔱ㶘⬈ѽ桝ↅइ呰㋢偲ᕹᨶ妔ŤƲȀፁ`䛐糢ᆒౡ扞⯾䵡ᖗ槨瞠Ṡ䆩眡㇢橌ن挌⇦౮ŋ㎫⭨ሠ  "
   },
   "outputs": [
    {
     "data": {
      "application/vnd.jupyter.widget-view+json": {
       "model_id": "4c20e57a53804f039d153195d83381f4",
       "version_major": 2,
       "version_minor": 0
      },
      "text/plain": [
       "OutputWithTrrackWidget(body_widget=VegaLiteChartWidget(debounce_wait=200.0, df_columns=['Name', 'Miles_per_Gal…"
      ]
     },
     "execution_count": 3,
     "metadata": {},
     "output_type": "execute_result"
    }
   ],
   "source": [
    "source = data.cars()\n",
    "\n",
    "brush = alt.selection_point(name=\"selector\", encodings=[\"x\", \"y\"])\n",
    "\n",
    "points = alt.Chart(source).mark_point().encode(\n",
    "    x='Horsepower:Q',\n",
    "    y='Miles_per_Gallon:Q',\n",
    "    opacity=alt.condition(brush, alt.value(1), alt.value(0.3))\n",
    ").add_params(\n",
    "    brush\n",
    ")\n",
    "\n",
    "bars = alt.Chart(source).mark_bar().encode(\n",
    "    y='Origin:N',\n",
    "    color='Origin:N',\n",
    "    x='count(Origin):Q'\n",
    ").transform_filter(\n",
    "    brush\n",
    ")\n",
    "\n",
    "vis2 = PR.vis.TrrackableChart(points & bars)\n",
    "vis2"
   ]
  },
  {
   "cell_type": "code",
   "execution_count": 6,
   "id": "72e2fda1-daad-448f-bec1-f698b48ccd52",
   "metadata": {
    "trrack_graph": "ᯡ࠽䈌ʀ匦㢠⹰ڀ↡ధ〳䊡堦〫Ⅰᆠ捍䐢捥૤熥熄〣䙴ภ㈲䎠ᖣैkᑄᄉ夑઴囇⃩䖬᭮溜Φ䐡傠Ǔ⍃Қ′䈤7ࡣᠠ湐戎Ⴆ寐爢䀥屨攠ʕ㥀ǔÚ䍃㏙䤷䢁┫⋸惀Ēいٞܫ$懁吃烐ᠸ䉣M䘶暦ᄣ↢∋㜂ࢌ戴レ䎀ۖ嗃Кᆱ⇐緝ūて睤䄀浐䛻G䀡曑砑䁳竖ᄂ㜿Ꮊ˹ȩᚲ䈰焩㱢紂╰垶䚨℃㇁Ъ戡⡡঒హ௠䎘὆揖䦲ᡊ⛗౱䦨ఱ姼᥆஠ၨ爵ؕ⦸噛ס爘䄨䐀倠垀呆㢙㉼Ⅰ❉瑦ұ决婪⽢ά䀠 "
   },
   "outputs": [
    {
     "data": {
      "application/vnd.jupyter.widget-view+json": {
       "model_id": "4e3728f5e1944199a46dd17d904904f3",
       "version_major": 2,
       "version_minor": 0
      },
      "text/plain": [
       "Output(layout=Layout(border_bottom='1px solid black', border_left='1px solid black', border_right='1px solid b…"
      ]
     },
     "metadata": {},
     "output_type": "display_data"
    }
   ],
   "source": [
    "PR.Out().show_logs()"
   ]
  }
 ],
 "metadata": {
  "__CATEGORIES__": "{\"categories\":{\"coolness_factor\":{\"name\":\"coolness_factor\",\"options\":{\"_None\":{\"name\":\"None\"},\"cool\":{\"name\":\"cool\"},\"not cool\":{\"name\":\"not cool\"},\"alright\":{\"name\":\"alright\"}}}},\"activeCategoryName\":\"coolness_factor\"}",
  "__persist_nb_uuid__": "15b6440c-b112-4dd1-bff1-41461f6ea5c3",
  "kernelspec": {
   "display_name": "Python 3 (ipykernel)",
   "language": "python",
   "name": "python3"
  },
  "language_info": {
   "codemirror_mode": {
    "name": "ipython",
    "version": 3
   },
   "file_extension": ".py",
   "mimetype": "text/x-python",
   "name": "python",
   "nbconvert_exporter": "python",
   "pygments_lexer": "ipython3",
   "version": "3.8.16"
  }
 },
 "nbformat": 4,
 "nbformat_minor": 5
}
