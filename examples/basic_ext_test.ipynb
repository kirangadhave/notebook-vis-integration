{
 "cells": [
  {
   "cell_type": "code",
   "execution_count": 39,
   "id": "9992eeb6-4642-47ab-b365-162385d0362e",
   "metadata": {
    "trrack_graph": {
     "current": "16365eaf-61dc-4d1e-af4a-88727c13d4f9",
     "nodes": {
      "16365eaf-61dc-4d1e-af4a-88727c13d4f9": {
       "artifacts": [],
       "children": [],
       "createdOn": 1680750958567,
       "event": "Root",
       "id": "16365eaf-61dc-4d1e-af4a-88727c13d4f9",
       "label": "Root",
       "level": 0,
       "meta": {
        "annotation": [],
        "bookmark": []
       },
       "state": {
        "type": "checkpoint",
        "val": {
         "interactions": []
        }
       }
      }
     },
     "root": "16365eaf-61dc-4d1e-af4a-88727c13d4f9"
    }
   },
   "outputs": [
    {
     "name": "stdout",
     "output_type": "stream",
     "text": [
      "Loaded InteractiveDE extension version 1.0.1a0\n",
      "Extension enabled for altair\n"
     ]
    }
   ],
   "source": [
    "import altair as alt\n",
    "import pandas as pd\n",
    "\n",
    "import interactivede.ide as IDE # Our library\n",
    "\n",
    "IDE.enable('altair') # Call this to enable integration with altair"
   ]
  },
  {
   "cell_type": "code",
   "execution_count": 40,
   "id": "adc9a6fd-e1c2-4ca7-a977-12ad210eadeb",
   "metadata": {
    "trrack_graph": {
     "current": "cbd78920-67b8-4628-974d-550222e3e93b",
     "nodes": {
      "cbd78920-67b8-4628-974d-550222e3e93b": {
       "artifacts": [],
       "children": [],
       "createdOn": 1680750953361,
       "event": "Root",
       "id": "cbd78920-67b8-4628-974d-550222e3e93b",
       "label": "Root",
       "level": 0,
       "meta": {
        "annotation": [],
        "bookmark": []
       },
       "state": {
        "type": "checkpoint",
        "val": {
         "interactions": []
        }
       }
      }
     },
     "root": "cbd78920-67b8-4628-974d-550222e3e93b"
    }
   },
   "outputs": [],
   "source": [
    "penguins_url = \"https://raw.githubusercontent.com/vega/vega/master/docs/data/penguins.json\""
   ]
  },
  {
   "cell_type": "code",
   "execution_count": 41,
   "id": "c3ff1373-0a53-4324-b6fc-5f24be4f25e6",
   "metadata": {
    "tags": [],
    "trrack_execution_spec": {
     "$schema": "https://vega.github.io/schema/vega-lite/v4.17.0.json",
     "config": {
      "view": {
       "continuousHeight": 300,
       "continuousWidth": 400
      }
     },
     "data": {
      "url": "https://raw.githubusercontent.com/vega/vega/master/docs/data/penguins.json"
     },
     "encoding": {
      "color": {
       "condition": {
        "field": "Species",
        "selection": "brush",
        "type": "nominal"
       },
       "value": "lightgray"
      },
      "x": {
       "field": "Beak Length (mm)",
       "scale": {
        "zero": false
       },
       "type": "quantitative"
      },
      "y": {
       "field": "Beak Depth (mm)",
       "scale": {
        "zero": false
       },
       "type": "quantitative"
      }
     },
     "height": 400,
     "mark": "point",
     "selection": {
      "brush": {
       "type": "interval"
      }
     },
     "width": 400
    },
    "trrack_graph": {
     "current": "481eaa9b-843d-44cc-9260-1adf1485e692",
     "nodes": {
      "481eaa9b-843d-44cc-9260-1adf1485e692": {
       "artifacts": [],
       "children": [],
       "createdOn": 1681767722287,
       "event": "interaction",
       "id": "481eaa9b-843d-44cc-9260-1adf1485e692",
       "label": "Filter",
       "level": 4,
       "meta": {
        "annotation": [],
        "bookmark": []
       },
       "parent": "d92d987c-9c07-440e-8fe4-72002538bcf6",
       "sideEffects": {
        "do": [],
        "undo": []
       },
       "state": {
        "type": "checkpoint",
        "val": {
         "interactions": [
          {
           "id": "566bc2a0-1eb0-4729-afbb-4e582714dbfa",
           "name": "brush",
           "params": {
            "x": {
             "domain": [
              41.94,
              55.45
             ],
             "field": "Beak Length (mm)",
             "pixel": [
              142,
              335
             ]
            },
            "y": {
             "domain": [
              13.8325,
              15.5425
             ],
             "field": "Beak Depth (mm)",
             "pixel": [
              287,
              363
             ]
            }
           },
           "path": "/selection/brush",
           "type": "selection_interval"
          },
          {
           "id": "5b5d6869-a49f-411b-8f4d-480f39f0655e",
           "path": "",
           "type": "filter"
          },
          {
           "id": "7b8ced9f-d137-45f4-b9db-b10e392876ca",
           "name": "brush",
           "params": {
            "x": {
             "domain": [
              33.33,
              41.59
             ],
             "field": "Beak Length (mm)",
             "pixel": [
              19,
              137
             ]
            },
            "y": {
             "domain": [
              17.9725,
              19.7725
             ],
             "field": "Beak Depth (mm)",
             "pixel": [
              99,
              179
             ]
            }
           },
           "path": "/selection/brush",
           "type": "selection_interval"
          },
          {
           "id": "f0e31943-33dc-40ac-bc4d-bcf72ba312e5",
           "path": "",
           "type": "filter"
          }
         ]
        }
       }
      },
      "4d1c2584-bc42-4702-9eb0-2305562cb88a": {
       "artifacts": [],
       "children": [
        "fda1f2e4-c710-407a-881e-06b446e0ac61"
       ],
       "createdOn": 1681767108684,
       "event": "Root",
       "id": "4d1c2584-bc42-4702-9eb0-2305562cb88a",
       "label": "Root",
       "level": 0,
       "meta": {
        "annotation": [],
        "bookmark": []
       },
       "state": {
        "type": "checkpoint",
        "val": {
         "interactions": []
        }
       }
      },
      "d92d987c-9c07-440e-8fe4-72002538bcf6": {
       "artifacts": [],
       "children": [
        "481eaa9b-843d-44cc-9260-1adf1485e692"
       ],
       "createdOn": 1681767714981,
       "event": "interaction",
       "id": "d92d987c-9c07-440e-8fe4-72002538bcf6",
       "label": "Brush selection",
       "level": 3,
       "meta": {
        "annotation": [],
        "bookmark": []
       },
       "parent": "de9cbdf2-8fa9-464a-a8c2-9b501ce088c8",
       "sideEffects": {
        "do": [],
        "undo": []
       },
       "state": {
        "type": "checkpoint",
        "val": {
         "interactions": [
          {
           "id": "566bc2a0-1eb0-4729-afbb-4e582714dbfa",
           "name": "brush",
           "params": {
            "x": {
             "domain": [
              41.94,
              55.45
             ],
             "field": "Beak Length (mm)",
             "pixel": [
              142,
              335
             ]
            },
            "y": {
             "domain": [
              13.8325,
              15.5425
             ],
             "field": "Beak Depth (mm)",
             "pixel": [
              287,
              363
             ]
            }
           },
           "path": "/selection/brush",
           "type": "selection_interval"
          },
          {
           "id": "5b5d6869-a49f-411b-8f4d-480f39f0655e",
           "path": "",
           "type": "filter"
          },
          {
           "id": "7b8ced9f-d137-45f4-b9db-b10e392876ca",
           "name": "brush",
           "params": {
            "x": {
             "domain": [
              33.33,
              41.59
             ],
             "field": "Beak Length (mm)",
             "pixel": [
              19,
              137
             ]
            },
            "y": {
             "domain": [
              17.9725,
              19.7725
             ],
             "field": "Beak Depth (mm)",
             "pixel": [
              99,
              179
             ]
            }
           },
           "path": "/selection/brush",
           "type": "selection_interval"
          }
         ]
        }
       }
      },
      "de9cbdf2-8fa9-464a-a8c2-9b501ce088c8": {
       "artifacts": [],
       "children": [
        "d92d987c-9c07-440e-8fe4-72002538bcf6"
       ],
       "createdOn": 1681767113275,
       "event": "interaction",
       "id": "de9cbdf2-8fa9-464a-a8c2-9b501ce088c8",
       "label": "Filter",
       "level": 2,
       "meta": {
        "annotation": [],
        "bookmark": []
       },
       "parent": "fda1f2e4-c710-407a-881e-06b446e0ac61",
       "sideEffects": {
        "do": [],
        "undo": []
       },
       "state": {
        "type": "checkpoint",
        "val": {
         "interactions": [
          {
           "id": "566bc2a0-1eb0-4729-afbb-4e582714dbfa",
           "name": "brush",
           "params": {
            "x": {
             "domain": [
              41.94,
              55.45
             ],
             "field": "Beak Length (mm)",
             "pixel": [
              142,
              335
             ]
            },
            "y": {
             "domain": [
              13.8325,
              15.5425
             ],
             "field": "Beak Depth (mm)",
             "pixel": [
              287,
              363
             ]
            }
           },
           "path": "/selection/brush",
           "type": "selection_interval"
          },
          {
           "id": "5b5d6869-a49f-411b-8f4d-480f39f0655e",
           "path": "",
           "type": "filter"
          }
         ]
        }
       }
      },
      "fda1f2e4-c710-407a-881e-06b446e0ac61": {
       "artifacts": [],
       "children": [
        "de9cbdf2-8fa9-464a-a8c2-9b501ce088c8"
       ],
       "createdOn": 1681767112510,
       "event": "interaction",
       "id": "fda1f2e4-c710-407a-881e-06b446e0ac61",
       "label": "Brush selection",
       "level": 1,
       "meta": {
        "annotation": [],
        "bookmark": []
       },
       "parent": "4d1c2584-bc42-4702-9eb0-2305562cb88a",
       "sideEffects": {
        "do": [],
        "undo": []
       },
       "state": {
        "type": "checkpoint",
        "val": {
         "interactions": [
          {
           "id": "566bc2a0-1eb0-4729-afbb-4e582714dbfa",
           "name": "brush",
           "params": {
            "x": {
             "domain": [
              41.94,
              55.45
             ],
             "field": "Beak Length (mm)",
             "pixel": [
              142,
              335
             ]
            },
            "y": {
             "domain": [
              13.8325,
              15.5425
             ],
             "field": "Beak Depth (mm)",
             "pixel": [
              287,
              363
             ]
            }
           },
           "path": "/selection/brush",
           "type": "selection_interval"
          }
         ]
        }
       }
      }
     },
     "root": "4d1c2584-bc42-4702-9eb0-2305562cb88a"
    }
   },
   "outputs": [
    {
     "data": {
      "application/vnd.vegalite.v4+json": {
       "$schema": "https://vega.github.io/schema/vega-lite/v4.17.0.json",
       "config": {
        "view": {
         "continuousHeight": 300,
         "continuousWidth": 400
        }
       },
       "data": {
        "url": "https://raw.githubusercontent.com/vega/vega/master/docs/data/penguins.json"
       },
       "encoding": {
        "color": {
         "condition": {
          "field": "Species",
          "selection": "brush",
          "type": "nominal"
         },
         "value": "lightgray"
        },
        "x": {
         "field": "Beak Length (mm)",
         "scale": {
          "zero": false
         },
         "type": "quantitative"
        },
        "y": {
         "field": "Beak Depth (mm)",
         "scale": {
          "zero": false
         },
         "type": "quantitative"
        }
       },
       "height": 400,
       "mark": "point",
       "selection": {
        "brush": {
         "type": "interval"
        }
       },
       "transform": [
        {
         "filter": {
          "not": {
           "and": [
            {
             "field": "Beak Length (mm)",
             "range": [
              41.94,
              55.45
             ]
            },
            {
             "field": "Beak Depth (mm)",
             "range": [
              13.8325,
              15.5425
             ]
            }
           ]
          }
         }
        },
        {
         "filter": {
          "not": {
           "and": [
            {
             "field": "Beak Length (mm)",
             "range": [
              33.33,
              41.59
             ]
            },
            {
             "field": "Beak Depth (mm)",
             "range": [
              17.9725,
              19.7725
             ]
            }
           ]
          }
         }
        }
       ],
       "width": 400
      },
      "image/png": "[encoded data removed]"
     },
     "execution_count": 41,
     "metadata": {
      "cellId": "c3ff1373-0a53-4324-b6fc-5f24be4f25e6",
      "trigger": "traversal"
     },
     "output_type": "execute_result"
    }
   ],
   "source": [
    "# All of the code here is pure altair. The library does not need any custom syntax\n",
    "\n",
    "brush = alt.selection_interval(name='brush') # define a type of selection\n",
    "\n",
    "# create a scatterplot\n",
    "chart = alt.Chart(penguins_url).mark_point().encode(\n",
    "    x=alt.X('Beak Length (mm):Q', scale=alt.Scale(zero=False)),\n",
    "    y=alt.Y('Beak Depth (mm):Q', scale=alt.Scale(zero=False)),\n",
    "    color=alt.condition(brush, 'Species:N', alt.value('lightgray'))\n",
    ").properties(\n",
    "    width=400,\n",
    "    height=400\n",
    ").add_selection(\n",
    "    brush # Connect the brush selection to scatterplot\n",
    ")\n",
    "\n",
    "chart"
   ]
  }
 ],
 "metadata": {
  "NB_UUID": "56ee9583-b360-4fc8-993c-4a68765003a0",
  "kernelspec": {
   "display_name": "Python 3 (ipykernel)",
   "language": "python",
   "name": "python3"
  },
  "language_info": {
   "codemirror_mode": {
    "name": "ipython",
    "version": 3
   },
   "file_extension": ".py",
   "mimetype": "text/x-python",
   "name": "python",
   "nbconvert_exporter": "python",
   "pygments_lexer": "ipython3",
   "version": "3.8.16"
  },
  "toc-autonumbering": false,
  "toc-showtags": false
 },
 "nbformat": 4,
 "nbformat_minor": 5
}
