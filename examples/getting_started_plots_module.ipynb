{
 "cells": [
  {
   "cell_type": "code",
   "execution_count": 8,
   "id": "29438e80-4b74-4689-9c38-1e50d5fb6fd7",
   "metadata": {},
   "outputs": [],
   "source": [
    "from vega_datasets import data # Load vega_datasets\n",
    "import persist_ext as PR # Load Persist Extension"
   ]
  },
  {
   "cell_type": "code",
   "execution_count": 9,
   "id": "3d60ad97-bfcf-4e0b-9689-4cea5ed25702",
   "metadata": {},
   "outputs": [
    {
     "data": {
      "text/html": [
       "<div>\n",
       "<style scoped>\n",
       "    .dataframe tbody tr th:only-of-type {\n",
       "        vertical-align: middle;\n",
       "    }\n",
       "\n",
       "    .dataframe tbody tr th {\n",
       "        vertical-align: top;\n",
       "    }\n",
       "\n",
       "    .dataframe thead th {\n",
       "        text-align: right;\n",
       "    }\n",
       "</style>\n",
       "<table border=\"1\" class=\"dataframe\">\n",
       "  <thead>\n",
       "    <tr style=\"text-align: right;\">\n",
       "      <th></th>\n",
       "      <th>Name</th>\n",
       "      <th>Miles_per_Gallon</th>\n",
       "      <th>Cylinders</th>\n",
       "      <th>Displacement</th>\n",
       "      <th>Horsepower</th>\n",
       "      <th>Weight_in_lbs</th>\n",
       "      <th>Acceleration</th>\n",
       "      <th>Year</th>\n",
       "      <th>Origin</th>\n",
       "    </tr>\n",
       "  </thead>\n",
       "  <tbody>\n",
       "    <tr>\n",
       "      <th>0</th>\n",
       "      <td>chevrolet chevelle malibu</td>\n",
       "      <td>18.0</td>\n",
       "      <td>8</td>\n",
       "      <td>307.0</td>\n",
       "      <td>130.0</td>\n",
       "      <td>3504</td>\n",
       "      <td>12.0</td>\n",
       "      <td>1970-01-01</td>\n",
       "      <td>USA</td>\n",
       "    </tr>\n",
       "    <tr>\n",
       "      <th>1</th>\n",
       "      <td>buick skylark 320</td>\n",
       "      <td>15.0</td>\n",
       "      <td>8</td>\n",
       "      <td>350.0</td>\n",
       "      <td>165.0</td>\n",
       "      <td>3693</td>\n",
       "      <td>11.5</td>\n",
       "      <td>1970-01-01</td>\n",
       "      <td>USA</td>\n",
       "    </tr>\n",
       "    <tr>\n",
       "      <th>2</th>\n",
       "      <td>plymouth satellite</td>\n",
       "      <td>18.0</td>\n",
       "      <td>8</td>\n",
       "      <td>318.0</td>\n",
       "      <td>150.0</td>\n",
       "      <td>3436</td>\n",
       "      <td>11.0</td>\n",
       "      <td>1970-01-01</td>\n",
       "      <td>USA</td>\n",
       "    </tr>\n",
       "    <tr>\n",
       "      <th>3</th>\n",
       "      <td>amc rebel sst</td>\n",
       "      <td>16.0</td>\n",
       "      <td>8</td>\n",
       "      <td>304.0</td>\n",
       "      <td>150.0</td>\n",
       "      <td>3433</td>\n",
       "      <td>12.0</td>\n",
       "      <td>1970-01-01</td>\n",
       "      <td>USA</td>\n",
       "    </tr>\n",
       "    <tr>\n",
       "      <th>4</th>\n",
       "      <td>ford torino</td>\n",
       "      <td>17.0</td>\n",
       "      <td>8</td>\n",
       "      <td>302.0</td>\n",
       "      <td>140.0</td>\n",
       "      <td>3449</td>\n",
       "      <td>10.5</td>\n",
       "      <td>1970-01-01</td>\n",
       "      <td>USA</td>\n",
       "    </tr>\n",
       "  </tbody>\n",
       "</table>\n",
       "</div>"
      ],
      "text/plain": [
       "                        Name  Miles_per_Gallon  Cylinders  Displacement  \\\n",
       "0  chevrolet chevelle malibu              18.0          8         307.0   \n",
       "1          buick skylark 320              15.0          8         350.0   \n",
       "2         plymouth satellite              18.0          8         318.0   \n",
       "3              amc rebel sst              16.0          8         304.0   \n",
       "4                ford torino              17.0          8         302.0   \n",
       "\n",
       "   Horsepower  Weight_in_lbs  Acceleration       Year Origin  \n",
       "0       130.0           3504          12.0 1970-01-01    USA  \n",
       "1       165.0           3693          11.5 1970-01-01    USA  \n",
       "2       150.0           3436          11.0 1970-01-01    USA  \n",
       "3       150.0           3433          12.0 1970-01-01    USA  \n",
       "4       140.0           3449          10.5 1970-01-01    USA  "
      ]
     },
     "execution_count": 9,
     "metadata": {},
     "output_type": "execute_result"
    }
   ],
   "source": [
    "cars_df = data.cars() # Get the cars dataset as Pandas dataframe\n",
    "\n",
    "cars_df.head()"
   ]
  },
  {
   "cell_type": "code",
   "execution_count": 18,
   "id": "7021283b-5e75-45a1-a3b1-38f5099a1230",
   "metadata": {
    "__GENERATED_DATAFRAMES__": "ᯢ粠 ",
    "__has_persist_output": true,
    "trrack_graph": "ᯡ࠽䈌ʀ匦㢠⹰ҀᬡⰧ〡䖢㢐ୠრㆹĸ䐢捀㌦勂䱬ᢈǦ傠䱅㉷剪2攩њ㙜䋄ᗉ橖㖄⻫䞮㽡愠㑀⑰怼䠤傡%房☠ᮬ᡻䑁ᚍ沣အ㔰㔠ʖ㥀ǔ₴ሠ᦬ܧ̥䉅熱ジ㐸ᑮ⥒⭆䉥߁䏲恰傔ဠ⻞䃱檄䇧榳ɩ噐⠠㲸ल䡆䇄凂㤹璘素ⶬ᫤䉂Ńɡ⟍∰⻤⡵⩪怭㌹ሥ㛢ᔠ徝Ỳ橜䶀䍸淢 ㏶o#䈍氃͂泜Ⅴ⹾Τ䍓၀㢲⅀〹Ⴊᙃ棜ి׀ᡔ⤶ᅁࡸ㴳䇡⊼㸣ǃ灈㓿⚙庲፦ƈṧᵟ⒨抑ɩᅩ刹ᙤ䇪椙ⅸ冢䬅⡜ஒ᧑㱱ᙪ勔ݛፂ狜兤卉䡾ᆤ愤䀠㋉䘕㓀!+᠓怠㺻栳ᨠ熀⃢堺*┲䁗ⰰǞ䟀´崡倧⣡∠᳧曑丟ᧀ慡恮漦䛥崾罦䘃㵾ⵠ஑惚夶撉簡ふ㜩⊈᤿̀ࣔᨲ䙀棐ᑴ䃠灨含؂欸ᤪߨ悈ឭţ॔ᨰ剀傴✥׀焒儿Eᣜ㼤䓀僜ำ䊢㡸╿↙目⮪ⓢ瀤ㄼ䋃ᇪ㹵❳㢜¨⌑⥔䝵㈈ܝ⃫䏢㤃ኆ䳀亀ⱍᦁᘻԦ泛ᾄ᱇ᚄԇጆ崋ὣ䄂ؠÂ⢦ሆ殴Š࠰琈5昡घầ湧䬓帰࢛ⱿࠫŐ䨠‷䥃ȷ䒁䠧䂘娿ी㥏扠၀ㅨ紳䲊Ẃn㬹拼㜻揤挴ዼゾؔⒽፄㅠ䑐ఫ岨ح䖒ɃḒ㽦㎑ᘫج◨ʻ傴䑂惜ڲጔ碷犆ৃ⤀׃Íⷀ㈍ইⰠᴡɅ㰴畩㨷冪㠺йᗙ䳁㰦ùƨ㌬ᆸʬㆸ➭琶ƪ䍆矀㥦װ⧅ۊ⺦؁琢㕩䝂䤠ᲇ䢰ʕ䓲⁐䬠␤憂剬䷭滀⎒ṻ䏝庀䤲眤ة᎞䭹⁙ര➷䊩≉䊡⢈ћ䞄䈫曅凔皪斜㹈ை渠Ē碂⋧䵀ᴈҲÍ܁剖䘨Ò㶺䨇㶔㐊᰻࿭⇁ᙏ䘘ᅍ渭㕏▹㵃嗙⫅ѭ◌傍⏌唭⋊啕✦掙㤆ᴎ㟎⧓௬෣㡩₡ᒫ䁞೰線㠲涀䗣ֲⅨ沿ᰅ紟᫧ᡐ੄䣲ᴓ䡷兠ぬ༓〼ሒ棯塠⅕ৡʴīᘵ䫒⋃仕傭姕㙤ᷔ皤染瘣塰䢎᣼四䳽圕䫼䉖滺皮瘠໵ᣦ㷺䚋㓦哱՗≊䖑䌢☦䮥稡䡐ϥ㓍䛮䅗惩滈✉廢㡹䐥䦚䈏硡с尢㣑Ẃ妴䪌䙴撒䅰ᑪ䁱⫏姇檽ᯅ瑟厡㙺തųڅŖᰯ嶕玀䁛ྀ᱗ī᳂̇慄㳜慘⼪屓ከ〄㤟Ⱘ⼁勔⊳㢬㦭獀呀ⵀᕯᄊ▊榋㡆क़ᡫ䏢㊠毜┣杔勠䄥悽⑩砳䂚俈咬đᰖⵁ啺姃_栜糾 ⠛rȷ㴣┬êᨮ䫙✰乾ȹ嘙磊ӓ᠔惿砞怉․ᢠ㐪啲ࢁ戶ʐ㵱僎ቡ㕀戈ổ䱛ˆ両の湱䔭ޤĻ䩢ᢣ䡞䎹埨炐䰝ᅲ̸戡ࠅ婤ቢ摂䋧媥榢ӟࢩ⃍૲㽋儹濂╸ฐ㣤䁸؀␬炈౼㠽㇔ឃᩁ䑟䒉ᱵ櫧ᡵ嵨典⌱ቘᒠ屎ᑐឧ罀䔤炨椗獡䜳共ᨵ慮瓠Ϧቴ楀ʪ⣾űద凖Ꮂ手⒔峇禡Ɏลô⋠㈬ピ±⫿hጓᆹŤᤢ炲ȸणإ䘐㼯灼᩺斻䏫Ⲥ帥ǜ喂愊懀侧⃼僢樨ጐȲั挼ᠡᱳ䍙摞㤷਱ቊ珎✆湽憸ᅢćኡ⎼㥇᪒杝敎Ꮹၕ惼ⷣ岛䨼᪲ₕ๫畔㬥ᅭ䒤璔┎琦䯠堭ᴔ〹屬ㅚݱ唄烠Ω䰹䩼➢帄䃓⯑ㄏ∀㝩ʎ४擲亱淫䨇ཁ㯟ሪ⫄㒞玈䈈䁿䟰̴㶘᤻灄笡⠡佥䂢ḍɫ欥⯼絮प㞪एص䂝珴ɂ懑⟸䓷媩⿈ႝ⸑㒛睉㙏⛹ᩂไ㒸⬧翀ߐ枬ჴ朁縿Ҵ潴焮勒㵤嵸☄寈悯⧡ᤸƒᐋ࠴䬊啇碆❟ᴭ擦ভᘷ൸ḋⵝ烑♊ᠳ䪯㸡᎚䫭⚽ലᬻ剖≘⌣䂗Ʋ浮嚰仭洵᫮ᡴ磛ᰲ⁋፰䍕⩧⛵ଭڱ൞⾳㷗૓左፱㜚䦈䂪㋆ჹ涭ᬊ剚▤僅掩┮剬′歍㒼牵啚㗗㭂♛ᆜ㯤猎ຶ瀜嫬儹唋懞捃▸媐璠✤╼០ᠤ惤䚠坁姛ࢢ㠩ǀᎇ恊ȸሥ恐୴⋮㏥内▬姫ᨇⴙۜ┭娗䇍ᨻⁿ᝻຅⟲ఒ堳捹௬⏪殘㭍⁈羄彃⊱⁢㋗ܙ徵㨟ᮒ玫ှ㦓ẘᗜ异᱀  "
   },
   "outputs": [
    {
     "data": {
      "application/vnd.jupyter.widget-view+json": {
       "model_id": "314519ef7d054a858c69887ceb6a85b6",
       "version_major": 2,
       "version_minor": 1
      },
      "text/plain": [
       "PersistWidget(data_values=[{'__id_column': '1', 'Name': 'chevrolet chevelle malibu', 'Miles_per_Gallon': 18.0,…"
      ]
     },
     "execution_count": 18,
     "metadata": {},
     "output_type": "execute_result"
    }
   ],
   "source": [
    "PR.plot.scatterplot(data=cars_df, x=\"Miles_per_Gallon:Q\", y=\"Weight_in_lbs:Q\", color=\"Origin:N\")"
   ]
  },
  {
   "cell_type": "code",
   "execution_count": 19,
   "id": "fdcf84fe-438a-4651-ae30-a3a1545a3073",
   "metadata": {
    "__GENERATED_DATAFRAMES__": "ᯡࠣ䅬Ԁ朤壠ᜣ琢〹大゠⹰〮⁁䁻қ䚾ኊ㇠നСࠩ瀮晼Ƭ穅5愠៤⠠ ",
    "__has_persist_output": true,
    "trrack_graph": "ᯡ࠽䈌ʀ匦㢠⹰ࢅ઀ୗᡍæ琠猉䀦¬㎐০䒡Ⱑ壩♬ì㑲䢡䱩•ⳁႣ⃣䞰埉▊㩱౹媖瘀ဦ䈠ۥ1䘮墠┨ࠠ⹁媀ǘ憢屢ڒ竨㸠ୁᵰ¼๨࠳ἣ䑢䇇悰¸⣑ቬ[᥃䮯噪ტ炩穔ᨮݒ⊡䅣Ɂ\"痔㪖⍄ᥖ张ኡㆢ䀣擠䠴዆☥ি䲹䜆栢沀ᙈ䆑ᡄڂ摁Ȍℤ橡笆Ӫ࿧㰵⠥箈ྶ᱈簫ɚ玎ӓθ堢㰠໯杏౞ޝ焢़睍䊦ᦰဨ䙁‸ٞ䅣灘樿଱䂈剞ߣ恐噎ಳ炨㈤⍠ユ経淃㵞ㄫ⌣㖾Ꮓ᷃т⢬⮧䔲削⺴旒峞⡶ᕪ狅K䎼ᚄⴳ䐲⒯ᆲ撒㲡⑱ᓪ૛䟄᧡ဠೄ㌝浈 ⃀䴠偂慗⺞ЮΠ䴠ニ揂΀㼢·妡朼ࢉ巼⼯倄׶္ରヒ硳஡灰ᑉວ榈≚஠咸墧ʶ▂牭൶槾Σ䔇ৰⰮfᄄ⩍ཥ憸噛ס爘ℋⲎ疚绀汔憂ɣॖ䶆ࡪÔ壺ᖺ懖槖࠾悒Ḏ㏘䠄巎寑淃䁤ᠠ੄⤺睰ਡȎ†ᗬӟ฻揾䦘㹿࠴壑㱀塘ᔠℏౠԏཧ惯ӓ㒾ౠĔ⩼Ҡ偧⃾矿槴䃬琞䁙挡偞ڞ⡙捡⡻≁摌ₔ∿P⠼ጀ⠶᐀撹ᣂ尭䎰娣䏱≯䉑ᨪ(ౄ!桪ʨࡂ怱်ڱ硆◬᝭毾ᠳ欤䰳㋸ᴠJſ〙籟戠ᔗⳅ湬ʒ乆⦤䓑ሚ₸ᘠ偉䐙ႴးⰨ࿆ԁᴁ倻ᾤ惧䈆擐♧噰ޙЪ漀㡁ҁ⁛䐲䀸圵䑃ᓄ唆䨁❐óᰠȎ焀墤㱠㦲≢簪卮⧩僌侺ᏼ㾸␔ᾣ㴀➠Ȕ䖙⦒扅嘤敧䔑㽟懲ᘩ䔀⊄䇌㈲➱඲䚌⨻㝱ᶦ珉癘Ⴠᯄ㚬礰枭ল㓠⦺レ妮㏬ִ⎸ኤ㊬ㆡ桭䞉槁榲ホ㧊⛚䗍⁑㦞厒ᴩ喨ᚸ沕㛝咔楧匔⁝☔⁊੔䇗䘐Ŝ瓹▦ᣌ劻ᖴ岾㘄䪠啵䊦哉䵗ㄉ㷂Ј䌠牁堣Ӏ掬掹奬癹⭕牼⯁撝朶爰圭恪ཁ煜᰹玸࿝曰瞼壸侳斝哓䔝徯⡓庅㐒皁పŔࣁ予⼪恄⬱册⸐ॲ⷗≓䆦⚊ỪáⳄ濑ⵋ橥⡪䰥䷊䉶௷ൡ媲㊔䫲掔ऒ⛹嬙‫女࠳Ӓ∕伮ቬમ⧼n㶈⽯䈎姣圾ࢮ䑭䮳乌∽┧ʀ偓㉁痦ሀ᤹9峒Ⅰᱞ䌣硋ᬯ搙綘治疔满㗌䝀ෂ䙱ⶺ䄌ʍ⟉惌⊄‽厐㐕㎿㎝ば䶫㕱润䈬㞿䇦扎沚燓湬ع椚䑖㌛私㕊䀠 "
   },
   "outputs": [
    {
     "data": {
      "application/vnd.jupyter.widget-view+json": {
       "model_id": "850e3d9071a84f989c9137fb8e76c126",
       "version_major": 2,
       "version_minor": 1
      },
      "text/plain": [
       "PersistWidget(data_values=[{'__id_column': '1', 'Name': 'chevrolet chevelle malibu', 'Miles_per_Gallon': 18.0,…"
      ]
     },
     "execution_count": 19,
     "metadata": {},
     "output_type": "execute_result"
    }
   ],
   "source": [
    "PR.plot.barchart(data=cars_df, x=\"Cylinders:N\", y=\"count()\")"
   ]
  }
 ],
 "metadata": {
  "__persist_keys_record": [
   "__GENERATED_DATAFRAMES__",
   "__persist_nb_uuid__",
   "trrack_graph"
  ],
  "__persist_nb_uuid__": "71bbd9f0-dd59-46c9-9e0f-7194b6f50588",
  "kernelspec": {
   "display_name": "Python 3 (ipykernel)",
   "language": "python",
   "name": "python3"
  },
  "language_info": {
   "codemirror_mode": {
    "name": "ipython",
    "version": 3
   },
   "file_extension": ".py",
   "mimetype": "text/x-python",
   "name": "python",
   "nbconvert_exporter": "python",
   "pygments_lexer": "ipython3",
   "version": "3.12.3"
  }
 },
 "nbformat": 4,
 "nbformat_minor": 5
}
