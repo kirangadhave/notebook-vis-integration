{
 "cells": [
  {
   "cell_type": "code",
   "execution_count": 1,
   "id": "9c930f8c-7612-4e28-bc80-439c3cfcd7b4",
   "metadata": {
    "trrack_graph": "໢尭䲠 "
   },
   "outputs": [],
   "source": [
    "##### import pandas as pd\n",
    "import persist_ext as PR\n",
    "import altair as alt\n",
    "from vega_datasets import data\n",
    "import pandas as pd\n",
    "\n",
    "PR.dev.DEV = True"
   ]
  },
  {
   "cell_type": "code",
   "execution_count": 5,
   "id": "7ea56cd8-7c40-45a8-b448-3b08857d8283",
   "metadata": {
    "__GENERATED_DATAFRAMES__": "ᯢ粠 ",
    "trrack_graph": "ᯡ࠽䈌ʀ匦㢠⹰Ҁ㬠ᰤ烅͑瀶䀳V⤠ᤨˣᢡಥャÌ✕ၑ䋶⡵暷䥈kᑄᄉ妐ࢷዋ⃩䗛᙮ẜʦ墠ǁ#〨ㅣ࢒′䈤7㺰ᠠ湐戎Ⴆ寐痠˴リ$疒‣㐡㨦䎇㦲ʠ既๕壡‡犀⒚⥓ଭޯ⃅朳⠬Ö᡻ㆨ䐸昩ۍ媨⃓ࢱ̴ච᫼岄༏ѤƜܝ暠᧑䮶悮檩ǡ᪁㗖o#䖃栃̆璌Ⅴ渮➃גм⥊拢䋐૰⢤厊ᘭʊԤ憠佞娈ؽ憣惰㐬ൠ㧶ⷄ䒱䁲ᗐ播ౠ₭伂䥐ᱞѣᅈᨽࣦヸ๗௧焤慂‥㤤ℳ䏭ᎂ牜ㅨⓈ┕ವ剳㪁䠠 "
   },
   "outputs": [],
   "source": [
    "def get_chart(df):\n",
    "    selection = alt.selection_interval(name=\"selector\", encodings=[\"x\", \"y\"])\n",
    "    \n",
    "    \n",
    "    return alt.Chart(df).mark_point().encode(\n",
    "        x=\"Miles_per_Gallon\",\n",
    "        y=\"Weight_in_lbs\",\n",
    "        color=alt.condition(selection, \"Origin:O\", alt.value(\"gray\")),\n",
    "        opacity=alt.condition(selection, alt.value(0.7), alt.value(0.2))\n",
    "    ).add_params(selection)\n",
    "\n",
    "def get_df(df):\n",
    "    return df\n",
    "\n",
    "def get_vis(df = False):\n",
    "    cars = data.cars()\n",
    "    if df:\n",
    "        return get_df(cars)\n",
    "    return get_chart(cars)"
   ]
  },
  {
   "cell_type": "code",
   "execution_count": 6,
   "id": "0c1cc488-2a38-4ba3-a911-79c96702a8ef",
   "metadata": {
    "__GENERATED_DATAFRAMES__": "ᯢ粠 ",
    "trrack_graph": "ᯡ࠽䈌ʀ匦㢠⹰Ǡ↡䱐ᣪĸ΀୧䴡氹ࠥ䔠ظ䐩斬円ᠱ䣾㏐灠ጠ᦬ተ¶⡨⇱㌄ᅎ⥦庳ୖ份㸛ڨǁ#㍧䌰穠ኤРᜰ͐üメ湁˛㾄ᬠט憴)挄䀦栢琭ٮ㍄ⴡ嬤ᚣㆢ䀣擠䤜䙦¡Զ䙨ⴀᠢ沀㚈㄰ᨸሪ厎Ⴂ時∬磶᥺ࡋ帱ࠥ砹窺䊈氻Ȼ⩄ܨ洶₠氡Ḡ݅俏䜫廑ܵ㮚ᳱ曫䦉ㅵപA斀惰׉搬峮㕁ⴷၭ䍢僠ҏඉ孨䤸Պᄭ傱䐤୸渹ጣ䐁䑲ʭ⇰澕ᶥ愐籡ѭ玀wၤቛ峒ੁ❧ᑸ媦ւ煺ŗ℡٠  "
   },
   "outputs": [
    {
     "name": "stdout",
     "output_type": "stream",
     "text": [
      "Displaying an interactive Vega-Altair Chart\n",
      "{'Int64': ['__id_column', 'Cylinders', 'Weight_in_lbs', 'Year'], 'string': ['Name', '__annotations'], 'float64': ['Miles_per_Gallon', 'Displacement', 'Horsepower', 'Acceleration'], 'int64': ['__id_column', 'Cylinders', 'Weight_in_lbs', 'Year'], 'category': ['Origin'], 'bool': ['__selected', '__selected_intent']}\n",
      "['Origin']\n"
     ]
    },
    {
     "data": {
      "application/vnd.jupyter.widget-view+json": {
       "model_id": "46bdf3d6cabd4940b5e6091b50c8f05d",
       "version_major": 2,
       "version_minor": 0
      },
      "text/plain": [
       "PersistWidget(data_values=[{'__id_column': 1, 'Name': 'chevrolet chevelle malibu', 'Miles_per_Gallon': 18.0, '…"
      ]
     },
     "execution_count": 6,
     "metadata": {},
     "output_type": "execute_result"
    }
   ],
   "source": [
    "c = get_vis()\n",
    "PR.Persist(c)\n",
    "# PR.Persist(data=get_vis(True))"
   ]
  },
  {
   "cell_type": "code",
   "execution_count": 4,
   "id": "a1ab8430-7e1c-4c0e-a139-63f2c7be6d0d",
   "metadata": {
    "trrack_graph": "ᯡ࠽䈌ʀ匦㢠⹰ಀ㌠ᰡ〽䖡堠〫⏧㻥ロf戤瀪怩䛑ĸᥦ䁓ᬗ爩䚄䨠ዪन㪌㱥▐⥵傂曳宿Áᄠ㑀Ĭ㒀൨ɰ䂠࿆̂;䘸ᷤၷ㠏␠妨᪠Ř岰ú}㺡䧬撨⟱⌥ಌばᠲᶿ཯⚂ᆁㆹӬ皝M䘦撊ᄢᦢ⇊㚂࡬戤㽦䶀ۗᔺϚ戁㻟㧇䒂䇐⏖≠灭᡺䶠ᏠČ徑℘恱帋ࡑ⯗凨溌䄠䥨稈墬㺌ㄱ䜹䔩⒂᧑നい䘬ԡ䍐瞆ࣣñ沏ඉ奩स᥌嬭䣱䐨୸溉ጫ䀰⑒७⇰䱶Υ挑籡Ἤ᎘⠠ᗰᘨ任㙎⏦ᒴ⅕⅄㔄皪䤳٠  "
   },
   "outputs": [],
   "source": [
    "cars = data.cars()\n",
    "cars[\"Test\"] = None\n",
    "cars.Test = cars.Test.astype('category')"
   ]
  },
  {
   "cell_type": "code",
   "execution_count": null,
   "id": "ec318485-5519-4a61-8f19-f8b13e710069",
   "metadata": {
    "trrack_graph": "ᯡ࠽䈌ʀ匦㢠⹰ˠᬡؤ〸悖ఠ㠥冀ঠᆮ扳ᔩŘ旆㢠ౙ䭁昸͐摁⒴E䨲࢔洘䕪⭵埌ⓥ巇㝾Ţ†桠øぱ䁙ဩ™+佨ఠ㜸プࡢ⳻姠Ɗႊ)洄䀦栢瘔ڮ卄᭞䜨ᆭㆢ䀣擠䡸㐦⪻ԥࡣ䱇栢沁嘸ᄰظሢ嶊Ⴀ晃䐔ᑶ०C娶ࠥ簈稺ɘ欤୤␮ཱིˎ堢㰠༓㜿మϙㄪᆓ塘ロ䡀煩ἣԠ૧怦㈰冨ᢘ㨺ᗦᜉ監Άᅾ࢐䉗ୠ悀ਸ਼ނ⵶䤢⌢☆ǂᑑ\"⭋䕄憐ȩ๢傈㩃೥じⸯƧ焤慜‥㠤䆝䷭ᆂ牼ㅠⓈ䔕ᒵ割‡䠠 "
   },
   "outputs": [],
   "source": []
  }
 ],
 "metadata": {
  "__CATEGORIES__": "{\"categories\":{\"A\":{\"name\":\"A\",\"options\":{\"1\":{\"name\":\"1\"},\"2\":{\"name\":\"2\"},\"3\":{\"name\":\"3\"},\"_None\":{\"name\":\"None\"}}}},\"activeCategoryName\":\"A\"}",
  "__USER_ADDED_CATEGORIES__": "{\"__version\":\"1\",\"categories\":[],\"activeCategoryName\":\"\"}",
  "__persist_nb_uuid__": "15b6440c-b112-4dd1-bff1-41461f6ea5c3",
  "kernelspec": {
   "display_name": "Python 3 (ipykernel)",
   "language": "python",
   "name": "python3"
  },
  "language_info": {
   "codemirror_mode": {
    "name": "ipython",
    "version": 3
   },
   "file_extension": ".py",
   "mimetype": "text/x-python",
   "name": "python",
   "nbconvert_exporter": "python",
   "pygments_lexer": "ipython3",
   "version": "3.8.16"
  }
 },
 "nbformat": 4,
 "nbformat_minor": 5
}
