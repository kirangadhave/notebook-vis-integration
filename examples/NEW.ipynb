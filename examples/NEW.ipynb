{
 "cells": [
  {
   "cell_type": "code",
   "execution_count": 2,
   "id": "0221fabc-37b3-401e-b082-ffff4eed5f74",
   "metadata": {
    "__GENERATED_DATAFRAMES__": "ᯡࠣ䅬Ԁ朤壠ᜣ琢〹夤゠⹰〮⁁䁻қ䚾ኊ㇠നСࠩ瀮晼Ƭ穅5愠៤⠠ ",
    "__has_persist_output": true,
    "trrack_graph": "ᯡ࠽䈌ʀ匦㢠⹰ࢀ㌠ᰠヶĸ׀૦䁓ؤƄ偑䔢ᤰᶠፑ☤メ槔稃ʫैkᑄᄉ妐戱ᝅ⭾凋㭎ẜʤ䀡傠Ǒ‰㥀ॢȠா䠸ᢀ㜰䁾巓•橀樠Ꮃ䤠ෂąჀ梘れn݅Ϊ䖩↠Ⴡᤐ䐤V㝗ڨ䇢䕁摫瑹䱌భㄭᒫժⓅဲ批栬ᒌⱦഹ䎸⤠̋琬๐卤ᙞ䚰እ㗠ϩ䂰㰼ᳪ੫ֳ㓤⟰˸惌⡂⥐⑉櫴K屦ڬ䄑ᘠ正䩟嘄᱐ؗ檜㜨䚥぀ཇ中㣡杋)瀠᷁块䌡兾硤੆㦌笪Փࡄ圡⩠烰ᨭâ䂊⩆櫵䖬㐻➡摚㰳޴僉嬼᢬䤆䅂戥綥絘⤶䔂Ҳ◕◲䳖➰椪拉⡨ፄㅴⓡ䓺⦒⭈擒峞⇦⩪㋍䒁᥄R劊䙌倠£䊔ㅸ䶿₻㇎᰾椦㱞ᾰ៚䉸ᤴ䉃⪤⧅䚵゘⭤凁ᢍᛃρ瀸ୣĻ甐柩憑Ⓒ฿ف䠴㔮䂁⬊㜷䠂Ӣ⳾㒔嚋✳ム娛ᅣ䉘亇㈢狘ᛗ⢉熘ℏ⟻眧繲㾨ಪ䅟㺮ܰ怠⣉੠㫡倴ħ⹠K䰬㴝௨ↄ䚠㳄␠⵹帼⼲ઠ႘㉨௢䘺ഫ猥䘂␠ཨ緿Ʀ㲿῎ᠣ㿥粟⮧簠值籠砾Ⴠ䰱呰㱢愈┦楨᥅⁘ᄥ(ḥH湨≐ጥ¸Ᵽ䁨჋傰撢䃀㥡䋌⠺烠湍ϰ䢻䈾ࠦ䁦∲ǟ㜻掌ఈበᠶp㇣䊿/図扖䧀ၔౙ⭌侳ⸯః䪘ತ၀⋳埇ள䡴䑳䁠伢硟䍜瀷䛳႞䜲俄̠у䀡暇᠂㱈䴷㫮ೡ䃄ᮭᛒṤ噪ە⢌ᦠ梭学ࢫ岄㡳Τ⼁侒䘸ّ傑奄✉ᒡ⚉䞠曦᭗ᄇᬭ㠵㉖䘤ᙗ䘭㥕⛑ᵔ昽㝓೦ኅ嬞凲㩌෴拮Ģ窮߱⇴۞BҲ⬡搱Υ䓼¥䂴Ⴆ偷㪩擑Ⴁぐଡレ⹕၌㙃昸⑖ᚺ䉵檩έ⒦䅱᪆啴碍妇崋ᯕ癙΁䱀ᤅᴇԤ島Დ峇媕乿ᇪ⹋䐳ʯΒ滛徑ᐇଗ̚̕厯ܒ䉐䄲㹏且Կ䈂然ⷯ煊㡫扐Ⱘ瀮㗤值㞹È㉇⇶⡮慼瑫狥ࢦ僑ᆷ汐ᕔ僧⊵䔑݀ွڤ愝Τㅐቾ䗓௥⌈䖊墩㥈姉㳐⡵奥嚊ᝈ㙺᧐熦ʂ䱌᳎ᵈᔏᶷ㬎傤ᦰ㵆稍㷌᱄絽ケg┋ᵩٚ⣗⅜㷩渋➦狱䵳෡䂧Ȥ㣮安˘৵ࢫᄃⶖΎᛄ៤ⴞណا㑁摸Τ吭ᆴㄸᗄ僝ᇇ㑤᣽ၹഢ灉妫悲樀ᛟ㉥畵⛋啻ᢊ㗃㲏㕙䨸੐珐沴ߑぬȘ᱈梗⎸笀付渀簤憐˫䩁䂭㤉䮈⦾瀾൑Ṱࢆ栴昻䋬⎲ռκ䃒媞㎵縺珎禉䉢☄㹯敀䳨峀⋷⎢⥜൲孏㉄ᖣ摗ɜ䡫哆䧰䨶悪ྒ䆄ੲ榣江礅劥ᢊ䠥ࠡ烷Ȏ̧滜Ẅ㋦$〩Ҁ奋᢮େ摈☨⡈கㄴ䃮䪠橊ㆆㇲ偤抠烡䄃挠彭䍼䫩⡸ॠ⢤а⌞斁ኒ⚘㘶池ᙊᶧ僛ੱ䠯リ櫢傕䠍ᨩ墔ࣈ䎲ǀ⌁ད牀਀息捜班兊ঘ垺祑♤䬱朊ဤ䨃游楚㳈ፄឮ⒰Ṩ潩㚺歪炩⋢〩椬壩䀳倠㝂⮥Ԃ㩋 ❯榎᧼䖫˺⃩ಹ点ė浰愠劣L䬰㤾䆀ᧃ䢴ɒ㸲恦䅈⠥䠸ಀ㑸珞䞚♯⡧ᒓ枋㖮䌏㫥挕◣痫嗓⾴∣䎛熄భ䲈଱έ౧̹䜭愃⠫捿瞼破♠᫙ⓢৠ⪸䁱燠句䃢㗜䅤䆌楁⡊ѐ㙥䡮Ո砲㢷થ卄犄彂桲䪤呧䑼䝬杫䳚⺶妈兼ᖤ籭䩈䇃⪾⏄ᐥᑊ͠掻ⴔ䊍ѭŊ༣娪⍩ⶬ妆⵲ს剐!䋓ኄ6⊠㾽搏С穬,瑎型ⵒἷ爑ⴌ䥨ያ๠⭂䆤俑敮ࠖ梸⪃ܳ࠲䄷օ噦摽ቶᅤ䗹璪抧ᩡ䝈䅮㾢碾⒣ڶݹ䶵൛៓燑咳╗亚㕔泱㓇ǵະ㗽Ᏺ%、∼ᗢ䘣簰撬掎㛶瀎痍㨌及㍋制⑒伵暍⥩┒䪾ಽ䁹ᣜй㴊㔳犆祿Ḇ糸㌌羽䵌ڡᰴ஧ᔠ㿖ᩮ㺥䋙摆䁤䗴樣᮶ŉ判䝃ᮂ昂挆㏜嚋摈ბᳵ⋆ᡀ祧ِ惖欃䟵⺼㘐䘥ᛎ檄◨㖟ᔩᠻ櫺檣ᡕ浍囻拤Ő柗惶ш䠸઼ᣠ幋⋔⣰撜䣈ᩣ制≔⻩⒆⌀Ყ䁑ጵ目ᒽ偅巐⟚柔斐世彵थ␽䕢媨ᆒ⩋ô㧲ႚ䒈ᚢ桹᧱❇儚ر⚇Ⲿ呺䑳ڤ棊㻱檛僐ៃ穛ᄬ㦊坶仍乲㋝ᙒ眣学⫷䚗匶਺໎⤽∂dс⚲჈劢ᓷ子᭠䬌䄀⠢⣸ऽᐮᢸጆ୆歨ᯏ╯⼖泏Ⲃ㠽ὃ㪞〄筜≑ᇴ἗璥〃՟榛翱஠┷䦣瑠渌拳懥⛗䘆岣籯穤咶䢃ᘨ刹࣢⭕⦸ᵮ㷪籎⊨獵䂪䗒滤㆕㕳ሂ㆚摡夯ŧ傢⏊枊⇐䗂䁃㺏㇢ᘤ⢂ۙ⨯䗈ˡ嵽嫏瘴乐癮實▿䚒毹㊤⚩繴ݸ䥊㖨峡㩜琦䇢牍ᑔ⻤ⱸത彀Ⱜ䯉ㆻ⸪ར瘽⡜ὰ≞␘屫璐䢸瞆獾ж嗱ᶍ䎙撤㝯☑⃨奁Ƞ䰧Ƙᒡ檳⨬ᔥ喃㇂Წ㙈ྤ᭟䁲⎀牚⼏⮧標ᩨ⍜叭ݨᴲ㱌櫯㓱ώ箂滛睋㣪抈൷惄箉㰘朼ᕾ怩㗳柝ᷡ欸删⿞䳿㜶ၣ爲倍㹔ဝᇟℴ兗㞊寠洬䶅湍华߶⭱䚟᪱篫䒑ⴥ⹜⒉⇴瑻ቒ䊈䔍ḩ䁡噕ᇩዎ刴⯲䈿猥㕲ḽ᮲⋠㉢帴嬎ֻ━溷楙岯䑐ᙖⱓ癮怀㩸簕㶡ĭ禟ኻ翱煁☴囊ᕞ箬ɫ嘑癸窠㸳ί䨡挳ǜ༰౛瑇ᴋᤥ玺ࠇ娫壴┠⌝ᇥ洅◨嶃䝚珳穨㺑Ⓑ瑎㠔』牼䤳絉欀㭦叓㢶䔊ༀ㏏倳枌㷅ໄ䣸旐映㕎愈䗐ᐦᭅ䓰ಌᨣᆼ䂨̠ᠦずᶅ濺Ბ䎼ᶐႮ准ᏊᲲ湮ḥ殭禞ⷚ䎖妳ŭ沚嫖䊹ᦾö䀀⋕甍枚㑲㺷Ⲁ⼎廔箨&汪琱猢河泖⃃ī㇇攘ㆇ⪵㰼⋁ㆃ垨;殂┮ߊ泳氂喰ᷕనݠ丢倳ਈ໦噂瑞痓⠤⠅䐮尽◦缰┪綞曞䅒竞ⵂ∮帖ݞ簲⿀䐪恒ͺડ沧₆̗⎡㰪摁Ψᒚဦᓔ⎂ኌ䒀⒚Ჲᶡ欭②ʨ᧮㎢㠸⃼秆㝋㢋䤡⼄曏㧐次䈃ắ樛Ⲟ溓ᾥ紥涞尓ம㘟济☬滍稁仰䨧㈨ᕿ䘪⸪挥帊斎䛔ࢍ嶱⾎儬疫峑✎៰绞ᓝ渚䇓篐水ცضⷘ粨⡪⌮ǒ沈⴨箪岐㳻挑ℕ瞰䢘⾑◑䞴糹⥂椵粔㳞᫄匩⬤墸ৠᘥ伥ڠ嘅ᣂᲈ໒䌗ᾢ㡸೨㰢శ䉻敪朰㩘擹℠⼲ੂ粜ᴊ垇硺⧷摆潰ᗈ∣⸱૱ۂ爜ঀ拢旍ጢាₖ濟啜ژ缣䮩╗䌱䲣䒞⎲ơئ⑩␐ٱಪਰ  "
   },
   "outputs": [
    {
     "name": "stdout",
     "output_type": "stream",
     "text": [
      "Dev mode enabled!\n"
     ]
    },
    {
     "data": {
      "application/vnd.jupyter.widget-view+json": {
       "model_id": "cebb06ddd209401aaa90f11d9c4a0fa2",
       "version_major": 2,
       "version_minor": 1
      },
      "text/plain": [
       "PersistWidget(data_values=[{'__id_column': '1', ';Region': 'Salt Lake', 'Year': 2012, ';Trigger': 'Snowboarder…"
      ]
     },
     "execution_count": 2,
     "metadata": {},
     "output_type": "execute_result"
    }
   ],
   "source": [
    "import pandas as pd\n",
    "import altair as alt\n",
    "import persist_ext as PR\n",
    "PR.enable_dev_mode()\n",
    "\n",
    "data = pd.read_csv(\"avalanche_data.csv\")\n",
    "data.head()\n",
    "\n",
    "PR.PersistTable(data)"
   ]
  },
  {
   "cell_type": "code",
   "execution_count": null,
   "id": "33795983-471d-48e5-a7b8-adbe12630a81",
   "metadata": {},
   "outputs": [],
   "source": [
    "def create_persist_df_1(df):\n",
    "    df = df.copy(deep=True)\n",
    "\n",
    "    # Add \"__id_column\" as the ID column\n",
    "    df.insert(0, \"__id_column\", df.index + 1)\n",
    "    df[\"__id_column\"] = df[\"__id_column\"].astype(str)\n",
    "\n",
    "    # Add selection column\n",
    "    df[\"__selected\"] = False\n",
    "\n",
    "    # Rename column\n",
    "    df = df.rename(columns={';Region': 'Region'})\n",
    "    df.loc[df[\"__id_column\"].isin(['2']), \"__selected\"] = True\n",
    "    df.loc[df[\"__id_column\"].isin(['1', '2']), \"__selected\"] = True\n",
    "    # Filter data\n",
    "    df = df[~df[\"__selected\"]]\n",
    "    df[\"__selected\"] = False\n",
    "\n",
    "    return df"
   ]
  }
 ],
 "metadata": {
  "__persist_keys_record": [
   "__GENERATED_DATAFRAMES__",
   "__persist_nb_uuid__",
   "trrack_graph"
  ],
  "__persist_nb_uuid__": "747414a8-b617-4746-b620-527f7a62720d",
  "kernelspec": {
   "display_name": "Python 3 (ipykernel)",
   "language": "python",
   "name": "python3"
  },
  "language_info": {
   "codemirror_mode": {
    "name": "ipython",
    "version": 3
   },
   "file_extension": ".py",
   "mimetype": "text/x-python",
   "name": "python",
   "nbconvert_exporter": "python",
   "pygments_lexer": "ipython3",
   "version": "3.12.3"
  }
 },
 "nbformat": 4,
 "nbformat_minor": 5
}
