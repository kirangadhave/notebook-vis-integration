{
 "cells": [
  {
   "cell_type": "code",
   "execution_count": 1,
   "id": "2594b5d1-f285-46e7-bb20-55c0d04f9037",
   "metadata": {
    "trrack_graph": "໢尭䲠 "
   },
   "outputs": [],
   "source": [
    "from vega_datasets import data\n",
    "import persist_ext as PR\n",
    "import altair as alt"
   ]
  },
  {
   "cell_type": "code",
   "execution_count": 2,
   "id": "654024a0-4a13-4609-bfa7-65810997ae3c",
   "metadata": {
    "trrack_graph": "໢尭䲠 "
   },
   "outputs": [
    {
     "data": {
      "text/html": [
       "<div>\n",
       "<style scoped>\n",
       "    .dataframe tbody tr th:only-of-type {\n",
       "        vertical-align: middle;\n",
       "    }\n",
       "\n",
       "    .dataframe tbody tr th {\n",
       "        vertical-align: top;\n",
       "    }\n",
       "\n",
       "    .dataframe thead th {\n",
       "        text-align: right;\n",
       "    }\n",
       "</style>\n",
       "<table border=\"1\" class=\"dataframe\">\n",
       "  <thead>\n",
       "    <tr style=\"text-align: right;\">\n",
       "      <th></th>\n",
       "      <th>index</th>\n",
       "      <th>Name</th>\n",
       "      <th>Miles_per_Gallon</th>\n",
       "      <th>Cylinders</th>\n",
       "      <th>Displacement</th>\n",
       "      <th>Horsepower</th>\n",
       "      <th>Weight_in_lbs</th>\n",
       "      <th>Acceleration</th>\n",
       "      <th>Year</th>\n",
       "      <th>Origin</th>\n",
       "    </tr>\n",
       "  </thead>\n",
       "  <tbody>\n",
       "    <tr>\n",
       "      <th>0</th>\n",
       "      <td>1</td>\n",
       "      <td>chevrolet chevelle malibu</td>\n",
       "      <td>18.0</td>\n",
       "      <td>8</td>\n",
       "      <td>307.0</td>\n",
       "      <td>130.0</td>\n",
       "      <td>3504</td>\n",
       "      <td>12.0</td>\n",
       "      <td>1970-01-01</td>\n",
       "      <td>USA</td>\n",
       "    </tr>\n",
       "    <tr>\n",
       "      <th>1</th>\n",
       "      <td>2</td>\n",
       "      <td>buick skylark 320</td>\n",
       "      <td>15.0</td>\n",
       "      <td>8</td>\n",
       "      <td>350.0</td>\n",
       "      <td>165.0</td>\n",
       "      <td>3693</td>\n",
       "      <td>11.5</td>\n",
       "      <td>1970-01-01</td>\n",
       "      <td>USA</td>\n",
       "    </tr>\n",
       "    <tr>\n",
       "      <th>2</th>\n",
       "      <td>3</td>\n",
       "      <td>plymouth satellite</td>\n",
       "      <td>18.0</td>\n",
       "      <td>8</td>\n",
       "      <td>318.0</td>\n",
       "      <td>150.0</td>\n",
       "      <td>3436</td>\n",
       "      <td>11.0</td>\n",
       "      <td>1970-01-01</td>\n",
       "      <td>USA</td>\n",
       "    </tr>\n",
       "    <tr>\n",
       "      <th>3</th>\n",
       "      <td>4</td>\n",
       "      <td>amc rebel sst</td>\n",
       "      <td>16.0</td>\n",
       "      <td>8</td>\n",
       "      <td>304.0</td>\n",
       "      <td>150.0</td>\n",
       "      <td>3433</td>\n",
       "      <td>12.0</td>\n",
       "      <td>1970-01-01</td>\n",
       "      <td>USA</td>\n",
       "    </tr>\n",
       "    <tr>\n",
       "      <th>4</th>\n",
       "      <td>5</td>\n",
       "      <td>ford torino</td>\n",
       "      <td>17.0</td>\n",
       "      <td>8</td>\n",
       "      <td>302.0</td>\n",
       "      <td>140.0</td>\n",
       "      <td>3449</td>\n",
       "      <td>10.5</td>\n",
       "      <td>1970-01-01</td>\n",
       "      <td>USA</td>\n",
       "    </tr>\n",
       "  </tbody>\n",
       "</table>\n",
       "</div>"
      ],
      "text/plain": [
       "   index                       Name  Miles_per_Gallon  Cylinders  \\\n",
       "0      1  chevrolet chevelle malibu              18.0          8   \n",
       "1      2          buick skylark 320              15.0          8   \n",
       "2      3         plymouth satellite              18.0          8   \n",
       "3      4              amc rebel sst              16.0          8   \n",
       "4      5                ford torino              17.0          8   \n",
       "\n",
       "   Displacement  Horsepower  Weight_in_lbs  Acceleration       Year Origin  \n",
       "0         307.0       130.0           3504          12.0 1970-01-01    USA  \n",
       "1         350.0       165.0           3693          11.5 1970-01-01    USA  \n",
       "2         318.0       150.0           3436          11.0 1970-01-01    USA  \n",
       "3         304.0       150.0           3433          12.0 1970-01-01    USA  \n",
       "4         302.0       140.0           3449          10.5 1970-01-01    USA  "
      ]
     },
     "execution_count": 2,
     "metadata": {},
     "output_type": "execute_result"
    }
   ],
   "source": [
    "cars = data.cars()\n",
    "df = PR.data.prepare(cars)\n",
    "df.head()"
   ]
  },
  {
   "cell_type": "code",
   "execution_count": 8,
   "id": "1ec2ad73-abd2-4836-a3a0-38525ee6c7d9",
   "metadata": {
    "__GENERATED_DATAFRAMES__": "ᯡࡓ䁼ࢁӐㆠ≒䂆ř⁻Ŭ愠⹰ːɕျ&¼¸含♘糆ᠥ䬛笈ʈ橵ʭfὲᩴƹ⌨䀣⢠ؐǁЀ਀ލ䂹ᨦ㙜䋚ż坵  ",
    "trrack_graph": "ᯡ࠽䈌ʀ匦㢠⹰ૠᆺ΀Ơ両᧐ୢ䔡䚉ࠥ亅В䑺íᬀᶠ⌴㖖恓ᶲ⠠䭈⑁棑爱ᗍ⽞冫᭎ẝɠð䀡堤ᧁ䗱ဩ™+孨ఠ㜸ヷࡣ䵹孀Ƃᯊ3凩-倥椊瘍䙨氽ᤠ㽲挥'䦡ᅘ沸ᑮ㹟᾿ன极栢沁᜚愰㺸ሢ如Ⴃ♂䊔栶ঞ俣尲ࠥ礈稻䴚㉫ȫⱄܯ⦢噸Ŝ.ַឬಣ勑Ĳ㣹渔⛨ၑӓ#䚥ࠇ氒⥑䱴亊❟ጩ䔩䋂ᐂㅎ尵̧ト瘯ڡ妶㖤䜱䀲֠撪ౠ㼥䴄䡐ᰡ౥၈՞ᓂㅸ๗௠ࢤ墠ଇ瀤ܷ੭䛨磪ڨ⠀ಂ㕦⒈䈡䠠 "
   },
   "outputs": [
    {
     "data": {
      "application/vnd.jupyter.widget-view+json": {
       "model_id": "ef3d57406e35428b9b0e6df135664e92",
       "version_major": 2,
       "version_minor": 0
      },
      "text/plain": [
       "TrrackableOutputWidget(body_widget=VegaLiteChartWidget(debounce_wait=200.0, df_columns=['Name', 'Miles_per_Gal…"
      ]
     },
     "execution_count": 8,
     "metadata": {},
     "output_type": "execute_result"
    }
   ],
   "source": [
    "w = PR.vis.scatterplot(df, x=\"Miles_per_Gallon:Q\", y=\"Weight_in_lbs\")\n",
    "# # w = PR.vis.barchart(df, x=\"Origin\", y=\"mean(Miles_per_Gallon)\")\n",
    "# w\n",
    "# w = PR.vis.interactive_table(df)A\n",
    "w"
   ]
  },
  {
   "cell_type": "code",
   "execution_count": 4,
   "id": "609c07c3-6262-4774-8076-191629183246",
   "metadata": {
    "editable": true,
    "slideshow": {
     "slide_type": ""
    },
    "tags": [],
    "trrack_graph": "໢尭䲠 "
   },
   "outputs": [
    {
     "data": {
      "application/vnd.jupyter.widget-view+json": {
       "model_id": "59c279a1bb484121808c725a31a6b43f",
       "version_major": 2,
       "version_minor": 0
      },
      "text/plain": [
       "Output(layout=Layout(border_bottom='1px solid black', border_left='1px solid black', border_right='1px solid b…"
      ]
     },
     "metadata": {},
     "output_type": "display_data"
    }
   ],
   "source": [
    "PR.Out().clear_logs()\n",
    "PR.Out().show_logs()"
   ]
  },
  {
   "cell_type": "code",
   "execution_count": 5,
   "id": "f541b69f-cf9a-46c0-8519-9843a71257d1",
   "metadata": {
    "trrack_graph": "໢尭䲠 "
   },
   "outputs": [],
   "source": [
    "# # import altair with an abbreviated alias\n",
    "# import altair as alt\n",
    "\n",
    "# # load a sample dataset as a pandas DataFrame\n",
    "# from vega_datasets import data\n",
    "# cars = data.cars()\n",
    "# cars2 = cars.query(\"10.75 <= Miles_per_Gallon <= 23.5 and 2972.5781250000005 <= Weight_in_lbs <= 4388.828125\")\n",
    "# # make the chart\n",
    "# a = alt.Chart(cars2).mark_point().encode(\n",
    "#     x='Horsepower:Q',\n",
    "#     y='Miles_per_Gallon:Q',\n",
    "#     color='Origin:N',\n",
    "# )\n",
    "\n",
    "# cars2"
   ]
  },
  {
   "cell_type": "code",
   "execution_count": 6,
   "id": "3ebfdd7b-1601-4ddb-ba6b-d67234711052",
   "metadata": {
    "trrack_graph": "໢尭䲠 "
   },
   "outputs": [],
   "source": [
    "# cars_sub = cars.sample(n = 100)\n",
    "\n",
    "# c = cars_sub.reset_index(drop=True)\n",
    "# c"
   ]
  },
  {
   "cell_type": "code",
   "execution_count": 7,
   "id": "8dcec4c8-554b-4860-9716-d14d7be51bea",
   "metadata": {
    "trrack_graph": "ᯡ࠽䈌ʀ匦㢠⹰ۥĹ檠Ⱖ㌀ⴠ挴ĸѐᶬ汰၇ᒡⱤষ<ᖐӡ槾Čᑩ•ⳁႣⓣ侸䳅㕺ۭⷹ㬗爲ဦ䈠ۼ咬ǉj࠰|∔怣㣣ט䈲曽䡂6ㄦ倠➇ሠ᭠௏偔㪹ဠച⊀祕䘪/ጢ⏀刈⣸䆔᱾┻俀ב䍻䥤℄と㖕䱢ָ䂯檱Ⱑ圅牠睸㱀ఏ堎㐡䷨䓶Җ摨ษ匫⻐ʘ<⮎弸ᅗ⎂ق猐㮱䶰′⥆㘴ၯϡᡄ࡯兹墬⠢⤱Ⴠ䏢ႀጧཧᆎ㶷仒泄⒬ʱⶦ⒈戤ӌ坔䆢愐䈩Ţ傈㩃ˣㅘ渿A熤⼱%㨥䄳䷣ᎃ牜⥨⛈⒭Ჽ兲⊁䠠 "
   },
   "outputs": [],
   "source": [
    "# w.body_widget.data = cars"
   ]
  }
 ],
 "metadata": {
  "__CATEGORIES__": "{\"categories\":{\"A\":{\"name\":\"A\",\"options\":{\"_None\":{\"name\":\"None\"},\"VC\":{\"name\":\"VC\"},\"ASD\":{\"name\":\"ASD\"}}},\"B\":{\"name\":\"B\",\"options\":{\"_None\":{\"name\":\"None\"}}}},\"activeCategoryName\":\"A\"}",
  "__persist_nb_uuid__": "15b6440c-b112-4dd1-bff1-41461f6ea5c3",
  "kernelspec": {
   "display_name": "Python 3 (ipykernel)",
   "language": "python",
   "name": "python3"
  },
  "language_info": {
   "codemirror_mode": {
    "name": "ipython",
    "version": 3
   },
   "file_extension": ".py",
   "mimetype": "text/x-python",
   "name": "python",
   "nbconvert_exporter": "python",
   "pygments_lexer": "ipython3",
   "version": "3.8.16"
  }
 },
 "nbformat": 4,
 "nbformat_minor": 5
}
