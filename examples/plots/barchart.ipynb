{
 "cells": [
  {
   "cell_type": "code",
   "execution_count": 1,
   "id": "5b9ad0eb-0a78-4657-9c49-f490baee9c9a",
   "metadata": {
    "trrack_graph": "ᯡ࠽䈌ʀ匦㢠⹰۠ଠఢᠩ䁓¬Ƹ˰ђ䔾ደǤ⬲ʑ◖䥥‵䥠捔屑䢃≪2攩њ㚜挅ᗉ桖㖎槧䩟℁儠㑀擐愾䠤傡%戰映ᮬᢛ䑁圌Ქ瀡㜲ᥠ½⹨N僨洎㉠戺祢擖ᡈ\\䰩b䊀ᅐ傐ᡬ䋔ᅁ䀶挫㍃ࢡ䣡ვ宑іㄪᢅ䇐ͺ⫩䇝ࣨ䁏僰㫷䍅狸ᅛ兀㠶䱝㛠਀ⲛ粁㳝䶨㢻䟩晡㙡ɫ█╸⠢[ತ䁭劙兰燨撄癔¥䂴䐸ت⧀砿΍孩䤸ᕊ媭䤑䐬ࣹ渹ጫ䈱␪ણ⏱శඡ掐簡ࡢᄙ㰠ᗸᔪ举ⲧࡳ燪ᅍ╆㐴溺䴹  "
   },
   "outputs": [
    {
     "name": "stdout",
     "output_type": "stream",
     "text": [
      "Loaded PersIst extension version 1.1.0\n",
      "Extension enabled for altair\n"
     ]
    }
   ],
   "source": [
    "import altair as alt\n",
    "from vega_datasets import data\n",
    "import persist_ext as PR\n",
    "\n",
    "PR.enable('altair')"
   ]
  },
  {
   "cell_type": "code",
   "execution_count": 2,
   "id": "e6a3c17c-eee4-4088-a99e-c753d7c2481d",
   "metadata": {
    "trrack_graph": "ᯡ࠽䈌ʀ匦㢠⹰Ǣ䇸こԠ〥䁍وː҄ᾠ䎜㈽┸ƺཚ竬柠ᆪ簢㦐祅)㊤䈭ጮƂ㊴㔈ᥕ㞉淯傐䠠ᨰV橜ㄭ␢⡠䀢矲̠෦ఽ戰⯗瘣ఠ⳦ೀnᝄV䀷₈㊓᥂瀭幁樻ठṬҮ‣〫䠥娘洔㹚᭜䂀ב䃻⥤⃴と⵭䱢স䒨ᤓⰡ嚵橀澘≀ఀ㐽㝓⧜㘨仈䠼׆ཱི〤砠ᵷ溞ᢏ⾆戬⬏㒖去ၠቲ᚜੗䨹䏨•㍓䧜哄籶㕉e祡㢒ᓠᅡ幌n䋝瘭宅ᅄ〴喊ᧃ挰ࡍ㇙刬ᬧ䄰␪ફ⏱శඡ憑㲞ࡢቄwၤᕛ屒㹞≅ᓄ檢䣳⧺ᵄԹ  "
   },
   "outputs": [
    {
     "data": {
      "text/html": [
       "<div>\n",
       "<style scoped>\n",
       "    .dataframe tbody tr th:only-of-type {\n",
       "        vertical-align: middle;\n",
       "    }\n",
       "\n",
       "    .dataframe tbody tr th {\n",
       "        vertical-align: top;\n",
       "    }\n",
       "\n",
       "    .dataframe thead th {\n",
       "        text-align: right;\n",
       "    }\n",
       "</style>\n",
       "<table border=\"1\" class=\"dataframe\">\n",
       "  <thead>\n",
       "    <tr style=\"text-align: right;\">\n",
       "      <th></th>\n",
       "      <th>Date new</th>\n",
       "      <th>precipitation</th>\n",
       "      <th>temp_max</th>\n",
       "      <th>temp_min</th>\n",
       "      <th>wind</th>\n",
       "      <th>weather</th>\n",
       "    </tr>\n",
       "  </thead>\n",
       "  <tbody>\n",
       "    <tr>\n",
       "      <th>0</th>\n",
       "      <td>2012-01-01</td>\n",
       "      <td>0.0</td>\n",
       "      <td>12.8</td>\n",
       "      <td>5.0</td>\n",
       "      <td>4.7</td>\n",
       "      <td>drizzle</td>\n",
       "    </tr>\n",
       "    <tr>\n",
       "      <th>1</th>\n",
       "      <td>2012-01-02</td>\n",
       "      <td>10.9</td>\n",
       "      <td>10.6</td>\n",
       "      <td>2.8</td>\n",
       "      <td>4.5</td>\n",
       "      <td>rain</td>\n",
       "    </tr>\n",
       "    <tr>\n",
       "      <th>2</th>\n",
       "      <td>2012-01-03</td>\n",
       "      <td>0.8</td>\n",
       "      <td>11.7</td>\n",
       "      <td>7.2</td>\n",
       "      <td>2.3</td>\n",
       "      <td>rain</td>\n",
       "    </tr>\n",
       "    <tr>\n",
       "      <th>3</th>\n",
       "      <td>2012-01-04</td>\n",
       "      <td>20.3</td>\n",
       "      <td>12.2</td>\n",
       "      <td>5.6</td>\n",
       "      <td>4.7</td>\n",
       "      <td>rain</td>\n",
       "    </tr>\n",
       "    <tr>\n",
       "      <th>4</th>\n",
       "      <td>2012-01-05</td>\n",
       "      <td>1.3</td>\n",
       "      <td>8.9</td>\n",
       "      <td>2.8</td>\n",
       "      <td>6.1</td>\n",
       "      <td>rain</td>\n",
       "    </tr>\n",
       "  </tbody>\n",
       "</table>\n",
       "</div>"
      ],
      "text/plain": [
       "    Date new  precipitation  temp_max  temp_min  wind  weather\n",
       "0 2012-01-01            0.0      12.8       5.0   4.7  drizzle\n",
       "1 2012-01-02           10.9      10.6       2.8   4.5     rain\n",
       "2 2012-01-03            0.8      11.7       7.2   2.3     rain\n",
       "3 2012-01-04           20.3      12.2       5.6   4.7     rain\n",
       "4 2012-01-05            1.3       8.9       2.8   6.1     rain"
      ]
     },
     "execution_count": 2,
     "metadata": {},
     "output_type": "execute_result"
    }
   ],
   "source": [
    "source = data.seattle_weather()\n",
    "source = source.rename(columns={'date': \"Date new\"})\n",
    "source.head()"
   ]
  },
  {
   "cell_type": "code",
   "execution_count": 3,
   "id": "17eda4dd-cc93-4576-8d8d-2557e666ed03",
   "metadata": {
    "trrack_execution_spec": {
     "$schema": "https://vega.github.io/schema/vega-lite/v5.8.0.json",
     "config": {
      "view": {
       "continuousHeight": 300,
       "continuousWidth": 300
      }
     },
     "data": {
      "name": "data-fab4d0dc70c428ed98849ee69896f54a"
     },
     "datasets": {
      "data-fab4d0dc70c428ed98849ee69896f54a": [
       {
        "Date new": "2012-01-01T00:00:00",
        "precipitation": 0,
        "temp_max": 12.8,
        "temp_min": 5,
        "weather": "drizzle",
        "wind": 4.7
       },
       {
        "Date new": "2012-01-02T00:00:00",
        "precipitation": 10.9,
        "temp_max": 10.6,
        "temp_min": 2.8,
        "weather": "rain",
        "wind": 4.5
       },
       {
        "Date new": "2012-01-03T00:00:00",
        "precipitation": 0.8,
        "temp_max": 11.7,
        "temp_min": 7.2,
        "weather": "rain",
        "wind": 2.3
       },
       {
        "Date new": "2012-01-04T00:00:00",
        "precipitation": 20.3,
        "temp_max": 12.2,
        "temp_min": 5.6,
        "weather": "rain",
        "wind": 4.7
       },
       {
        "Date new": "2012-01-05T00:00:00",
        "precipitation": 1.3,
        "temp_max": 8.9,
        "temp_min": 2.8,
        "weather": "rain",
        "wind": 6.1
       },
       {
        "Date new": "2012-01-06T00:00:00",
        "precipitation": 2.5,
        "temp_max": 4.4,
        "temp_min": 2.2,
        "weather": "rain",
        "wind": 2.2
       },
       {
        "Date new": "2012-01-07T00:00:00",
        "precipitation": 0,
        "temp_max": 7.2,
        "temp_min": 2.8,
        "weather": "rain",
        "wind": 2.3
       },
       {
        "Date new": "2012-01-08T00:00:00",
        "precipitation": 0,
        "temp_max": 10,
        "temp_min": 2.8,
        "weather": "sun",
        "wind": 2
       },
       {
        "Date new": "2012-01-09T00:00:00",
        "precipitation": 4.3,
        "temp_max": 9.4,
        "temp_min": 5,
        "weather": "rain",
        "wind": 3.4
       },
       {
        "Date new": "2012-01-10T00:00:00",
        "precipitation": 1,
        "temp_max": 6.1,
        "temp_min": 0.6,
        "weather": "rain",
        "wind": 3.4
       },
       {
        "Date new": "2012-01-11T00:00:00",
        "precipitation": 0,
        "temp_max": 6.1,
        "temp_min": -1.1,
        "weather": "sun",
        "wind": 5.1
       },
       {
        "Date new": "2012-01-12T00:00:00",
        "precipitation": 0,
        "temp_max": 6.1,
        "temp_min": -1.7,
        "weather": "sun",
        "wind": 1.9
       },
       {
        "Date new": "2012-01-13T00:00:00",
        "precipitation": 0,
        "temp_max": 5,
        "temp_min": -2.8,
        "weather": "sun",
        "wind": 1.3
       },
       {
        "Date new": "2012-01-14T00:00:00",
        "precipitation": 4.1,
        "temp_max": 4.4,
        "temp_min": 0.6,
        "weather": "snow",
        "wind": 5.3
       },
       {
        "Date new": "2012-01-15T00:00:00",
        "precipitation": 5.3,
        "temp_max": 1.1,
        "temp_min": -3.3,
        "weather": "snow",
        "wind": 3.2
       },
       {
        "Date new": "2012-01-16T00:00:00",
        "precipitation": 2.5,
        "temp_max": 1.7,
        "temp_min": -2.8,
        "weather": "snow",
        "wind": 5
       },
       {
        "Date new": "2012-01-17T00:00:00",
        "precipitation": 8.1,
        "temp_max": 3.3,
        "temp_min": 0,
        "weather": "snow",
        "wind": 5.6
       },
       {
        "Date new": "2012-01-18T00:00:00",
        "precipitation": 19.8,
        "temp_max": 0,
        "temp_min": -2.8,
        "weather": "snow",
        "wind": 5
       },
       {
        "Date new": "2012-01-19T00:00:00",
        "precipitation": 15.2,
        "temp_max": -1.1,
        "temp_min": -2.8,
        "weather": "snow",
        "wind": 1.6
       },
       {
        "Date new": "2012-01-20T00:00:00",
        "precipitation": 13.5,
        "temp_max": 7.2,
        "temp_min": -1.1,
        "weather": "snow",
        "wind": 2.3
       },
       {
        "Date new": "2012-01-21T00:00:00",
        "precipitation": 3,
        "temp_max": 8.3,
        "temp_min": 3.3,
        "weather": "rain",
        "wind": 8.2
       },
       {
        "Date new": "2012-01-22T00:00:00",
        "precipitation": 6.1,
        "temp_max": 6.7,
        "temp_min": 2.2,
        "weather": "rain",
        "wind": 4.8
       },
       {
        "Date new": "2012-01-23T00:00:00",
        "precipitation": 0,
        "temp_max": 8.3,
        "temp_min": 1.1,
        "weather": "rain",
        "wind": 3.6
       },
       {
        "Date new": "2012-01-24T00:00:00",
        "precipitation": 8.6,
        "temp_max": 10,
        "temp_min": 2.2,
        "weather": "rain",
        "wind": 5.1
       },
       {
        "Date new": "2012-01-25T00:00:00",
        "precipitation": 8.1,
        "temp_max": 8.9,
        "temp_min": 4.4,
        "weather": "rain",
        "wind": 5.4
       },
       {
        "Date new": "2012-01-26T00:00:00",
        "precipitation": 4.8,
        "temp_max": 8.9,
        "temp_min": 1.1,
        "weather": "rain",
        "wind": 4.8
       },
       {
        "Date new": "2012-01-27T00:00:00",
        "precipitation": 0,
        "temp_max": 6.7,
        "temp_min": -2.2,
        "weather": "drizzle",
        "wind": 1.4
       },
       {
        "Date new": "2012-01-28T00:00:00",
        "precipitation": 0,
        "temp_max": 6.7,
        "temp_min": 0.6,
        "weather": "rain",
        "wind": 2.2
       },
       {
        "Date new": "2012-01-29T00:00:00",
        "precipitation": 27.7,
        "temp_max": 9.4,
        "temp_min": 3.9,
        "weather": "rain",
        "wind": 4.5
       },
       {
        "Date new": "2012-01-30T00:00:00",
        "precipitation": 3.6,
        "temp_max": 8.3,
        "temp_min": 6.1,
        "weather": "rain",
        "wind": 5.1
       },
       {
        "Date new": "2012-01-31T00:00:00",
        "precipitation": 1.8,
        "temp_max": 9.4,
        "temp_min": 6.1,
        "weather": "rain",
        "wind": 3.9
       },
       {
        "Date new": "2012-02-01T00:00:00",
        "precipitation": 13.5,
        "temp_max": 8.9,
        "temp_min": 3.3,
        "weather": "rain",
        "wind": 2.7
       },
       {
        "Date new": "2012-02-02T00:00:00",
        "precipitation": 0,
        "temp_max": 8.3,
        "temp_min": 1.7,
        "weather": "sun",
        "wind": 2.6
       },
       {
        "Date new": "2012-02-03T00:00:00",
        "precipitation": 0,
        "temp_max": 14.4,
        "temp_min": 2.2,
        "weather": "sun",
        "wind": 5.3
       },
       {
        "Date new": "2012-02-04T00:00:00",
        "precipitation": 0,
        "temp_max": 15.6,
        "temp_min": 5,
        "weather": "sun",
        "wind": 4.3
       },
       {
        "Date new": "2012-02-05T00:00:00",
        "precipitation": 0,
        "temp_max": 13.9,
        "temp_min": 1.7,
        "weather": "sun",
        "wind": 2.9
       },
       {
        "Date new": "2012-02-06T00:00:00",
        "precipitation": 0,
        "temp_max": 16.1,
        "temp_min": 1.7,
        "weather": "sun",
        "wind": 5
       },
       {
        "Date new": "2012-02-07T00:00:00",
        "precipitation": 0.3,
        "temp_max": 15.6,
        "temp_min": 7.8,
        "weather": "rain",
        "wind": 5.3
       },
       {
        "Date new": "2012-02-08T00:00:00",
        "precipitation": 2.8,
        "temp_max": 10,
        "temp_min": 5,
        "weather": "rain",
        "wind": 2.7
       },
       {
        "Date new": "2012-02-09T00:00:00",
        "precipitation": 2.5,
        "temp_max": 11.1,
        "temp_min": 7.8,
        "weather": "rain",
        "wind": 2.4
       },
       {
        "Date new": "2012-02-10T00:00:00",
        "precipitation": 2.5,
        "temp_max": 12.8,
        "temp_min": 6.7,
        "weather": "rain",
        "wind": 3
       },
       {
        "Date new": "2012-02-11T00:00:00",
        "precipitation": 0.8,
        "temp_max": 8.9,
        "temp_min": 5.6,
        "weather": "rain",
        "wind": 3.4
       },
       {
        "Date new": "2012-02-12T00:00:00",
        "precipitation": 1,
        "temp_max": 8.3,
        "temp_min": 5,
        "weather": "rain",
        "wind": 1.3
       },
       {
        "Date new": "2012-02-13T00:00:00",
        "precipitation": 11.4,
        "temp_max": 7.2,
        "temp_min": 4.4,
        "weather": "rain",
        "wind": 1.4
       },
       {
        "Date new": "2012-02-14T00:00:00",
        "precipitation": 2.5,
        "temp_max": 6.7,
        "temp_min": 1.1,
        "weather": "rain",
        "wind": 3.1
       },
       {
        "Date new": "2012-02-15T00:00:00",
        "precipitation": 0,
        "temp_max": 7.2,
        "temp_min": 0.6,
        "weather": "drizzle",
        "wind": 1.8
       },
       {
        "Date new": "2012-02-16T00:00:00",
        "precipitation": 1.8,
        "temp_max": 7.2,
        "temp_min": 3.3,
        "weather": "rain",
        "wind": 2.1
       },
       {
        "Date new": "2012-02-17T00:00:00",
        "precipitation": 17.3,
        "temp_max": 10,
        "temp_min": 4.4,
        "weather": "rain",
        "wind": 3.4
       },
       {
        "Date new": "2012-02-18T00:00:00",
        "precipitation": 6.4,
        "temp_max": 6.7,
        "temp_min": 3.9,
        "weather": "rain",
        "wind": 8.1
       },
       {
        "Date new": "2012-02-19T00:00:00",
        "precipitation": 0,
        "temp_max": 6.7,
        "temp_min": 2.2,
        "weather": "sun",
        "wind": 4.7
       },
       {
        "Date new": "2012-02-20T00:00:00",
        "precipitation": 3,
        "temp_max": 7.8,
        "temp_min": 1.7,
        "weather": "rain",
        "wind": 2.9
       },
       {
        "Date new": "2012-02-21T00:00:00",
        "precipitation": 0.8,
        "temp_max": 10,
        "temp_min": 7.8,
        "weather": "rain",
        "wind": 7.5
       },
       {
        "Date new": "2012-02-22T00:00:00",
        "precipitation": 8.6,
        "temp_max": 10,
        "temp_min": 2.8,
        "weather": "rain",
        "wind": 5.9
       },
       {
        "Date new": "2012-02-23T00:00:00",
        "precipitation": 0,
        "temp_max": 8.3,
        "temp_min": 2.8,
        "weather": "sun",
        "wind": 3.9
       },
       {
        "Date new": "2012-02-24T00:00:00",
        "precipitation": 11.4,
        "temp_max": 6.7,
        "temp_min": 4.4,
        "weather": "rain",
        "wind": 3.5
       },
       {
        "Date new": "2012-02-25T00:00:00",
        "precipitation": 0,
        "temp_max": 7.2,
        "temp_min": 2.8,
        "weather": "rain",
        "wind": 6.4
       },
       {
        "Date new": "2012-02-26T00:00:00",
        "precipitation": 1.3,
        "temp_max": 5,
        "temp_min": -1.1,
        "weather": "snow",
        "wind": 3.4
       },
       {
        "Date new": "2012-02-27T00:00:00",
        "precipitation": 0,
        "temp_max": 6.7,
        "temp_min": -2.2,
        "weather": "sun",
        "wind": 3
       },
       {
        "Date new": "2012-02-28T00:00:00",
        "precipitation": 3.6,
        "temp_max": 6.7,
        "temp_min": -0.6,
        "weather": "snow",
        "wind": 4.2
       },
       {
        "Date new": "2012-02-29T00:00:00",
        "precipitation": 0.8,
        "temp_max": 5,
        "temp_min": 1.1,
        "weather": "snow",
        "wind": 7
       },
       {
        "Date new": "2012-03-01T00:00:00",
        "precipitation": 0,
        "temp_max": 6.1,
        "temp_min": 1.1,
        "weather": "sun",
        "wind": 3.1
       },
       {
        "Date new": "2012-03-02T00:00:00",
        "precipitation": 2,
        "temp_max": 6.7,
        "temp_min": 3.9,
        "weather": "rain",
        "wind": 5.1
       },
       {
        "Date new": "2012-03-03T00:00:00",
        "precipitation": 0,
        "temp_max": 12.2,
        "temp_min": 6.7,
        "weather": "sun",
        "wind": 7
       },
       {
        "Date new": "2012-03-04T00:00:00",
        "precipitation": 0,
        "temp_max": 10.6,
        "temp_min": 6.7,
        "weather": "rain",
        "wind": 5.6
       },
       {
        "Date new": "2012-03-05T00:00:00",
        "precipitation": 6.9,
        "temp_max": 7.8,
        "temp_min": 1.1,
        "weather": "rain",
        "wind": 6.2
       },
       {
        "Date new": "2012-03-06T00:00:00",
        "precipitation": 0.5,
        "temp_max": 6.7,
        "temp_min": 0,
        "weather": "snow",
        "wind": 2.7
       },
       {
        "Date new": "2012-03-07T00:00:00",
        "precipitation": 0,
        "temp_max": 8.9,
        "temp_min": -1.7,
        "weather": "sun",
        "wind": 2.7
       },
       {
        "Date new": "2012-03-08T00:00:00",
        "precipitation": 0,
        "temp_max": 15.6,
        "temp_min": 0.6,
        "weather": "sun",
        "wind": 2.5
       },
       {
        "Date new": "2012-03-09T00:00:00",
        "precipitation": 3.6,
        "temp_max": 9.4,
        "temp_min": 5,
        "weather": "rain",
        "wind": 2.8
       },
       {
        "Date new": "2012-03-10T00:00:00",
        "precipitation": 10.4,
        "temp_max": 7.2,
        "temp_min": 6.1,
        "weather": "rain",
        "wind": 3.4
       },
       {
        "Date new": "2012-03-11T00:00:00",
        "precipitation": 13.7,
        "temp_max": 6.7,
        "temp_min": 2.8,
        "weather": "rain",
        "wind": 5.8
       },
       {
        "Date new": "2012-03-12T00:00:00",
        "precipitation": 19.3,
        "temp_max": 8.3,
        "temp_min": 0.6,
        "weather": "snow",
        "wind": 6.2
       },
       {
        "Date new": "2012-03-13T00:00:00",
        "precipitation": 9.4,
        "temp_max": 5.6,
        "temp_min": 0.6,
        "weather": "snow",
        "wind": 5.3
       },
       {
        "Date new": "2012-03-14T00:00:00",
        "precipitation": 8.6,
        "temp_max": 7.8,
        "temp_min": 1.1,
        "weather": "rain",
        "wind": 4.7
       },
       {
        "Date new": "2012-03-15T00:00:00",
        "precipitation": 23.9,
        "temp_max": 11.1,
        "temp_min": 5.6,
        "weather": "snow",
        "wind": 5.8
       },
       {
        "Date new": "2012-03-16T00:00:00",
        "precipitation": 8.4,
        "temp_max": 8.9,
        "temp_min": 3.9,
        "weather": "rain",
        "wind": 5.1
       },
       {
        "Date new": "2012-03-17T00:00:00",
        "precipitation": 9.4,
        "temp_max": 10,
        "temp_min": 0.6,
        "weather": "snow",
        "wind": 3.8
       },
       {
        "Date new": "2012-03-18T00:00:00",
        "precipitation": 3.6,
        "temp_max": 5,
        "temp_min": -0.6,
        "weather": "rain",
        "wind": 2.7
       },
       {
        "Date new": "2012-03-19T00:00:00",
        "precipitation": 2,
        "temp_max": 7.2,
        "temp_min": -1.1,
        "weather": "rain",
        "wind": 3
       },
       {
        "Date new": "2012-03-20T00:00:00",
        "precipitation": 3.6,
        "temp_max": 7.8,
        "temp_min": 2.2,
        "weather": "rain",
        "wind": 6.4
       },
       {
        "Date new": "2012-03-21T00:00:00",
        "precipitation": 1.3,
        "temp_max": 8.9,
        "temp_min": 1.1,
        "weather": "rain",
        "wind": 2.5
       },
       {
        "Date new": "2012-03-22T00:00:00",
        "precipitation": 4.1,
        "temp_max": 10,
        "temp_min": 1.7,
        "weather": "rain",
        "wind": 2.1
       },
       {
        "Date new": "2012-03-23T00:00:00",
        "precipitation": 0,
        "temp_max": 12.2,
        "temp_min": 0.6,
        "weather": "sun",
        "wind": 2.8
       },
       {
        "Date new": "2012-03-24T00:00:00",
        "precipitation": 0,
        "temp_max": 15,
        "temp_min": 3.3,
        "weather": "sun",
        "wind": 5.2
       },
       {
        "Date new": "2012-03-25T00:00:00",
        "precipitation": 0,
        "temp_max": 13.3,
        "temp_min": 2.2,
        "weather": "rain",
        "wind": 2.7
       },
       {
        "Date new": "2012-03-26T00:00:00",
        "precipitation": 0,
        "temp_max": 12.8,
        "temp_min": 6.1,
        "weather": "drizzle",
        "wind": 4.3
       },
       {
        "Date new": "2012-03-27T00:00:00",
        "precipitation": 4.8,
        "temp_max": 14.4,
        "temp_min": 6.7,
        "weather": "rain",
        "wind": 3.8
       },
       {
        "Date new": "2012-03-28T00:00:00",
        "precipitation": 1.3,
        "temp_max": 10.6,
        "temp_min": 7.2,
        "weather": "rain",
        "wind": 5.9
       },
       {
        "Date new": "2012-03-29T00:00:00",
        "precipitation": 27.4,
        "temp_max": 10,
        "temp_min": 6.1,
        "weather": "rain",
        "wind": 4.4
       },
       {
        "Date new": "2012-03-30T00:00:00",
        "precipitation": 5.6,
        "temp_max": 9.4,
        "temp_min": 5,
        "weather": "rain",
        "wind": 4.7
       },
       {
        "Date new": "2012-03-31T00:00:00",
        "precipitation": 13.2,
        "temp_max": 10,
        "temp_min": 2.8,
        "weather": "rain",
        "wind": 3.4
       },
       {
        "Date new": "2012-04-01T00:00:00",
        "precipitation": 1.5,
        "temp_max": 8.9,
        "temp_min": 4.4,
        "weather": "rain",
        "wind": 6.8
       },
       {
        "Date new": "2012-04-02T00:00:00",
        "precipitation": 0,
        "temp_max": 16.7,
        "temp_min": 4.4,
        "weather": "sun",
        "wind": 3.1
       },
       {
        "Date new": "2012-04-03T00:00:00",
        "precipitation": 1.5,
        "temp_max": 11.7,
        "temp_min": 3.3,
        "weather": "rain",
        "wind": 3.1
       },
       {
        "Date new": "2012-04-04T00:00:00",
        "precipitation": 0,
        "temp_max": 10.6,
        "temp_min": 2.8,
        "weather": "sun",
        "wind": 2.1
       },
       {
        "Date new": "2012-04-05T00:00:00",
        "precipitation": 4.6,
        "temp_max": 9.4,
        "temp_min": 2.8,
        "weather": "snow",
        "wind": 1.8
       },
       {
        "Date new": "2012-04-06T00:00:00",
        "precipitation": 0.3,
        "temp_max": 11.1,
        "temp_min": 3.3,
        "weather": "rain",
        "wind": 2.6
       },
       {
        "Date new": "2012-04-07T00:00:00",
        "precipitation": 0,
        "temp_max": 16.1,
        "temp_min": 1.7,
        "weather": "sun",
        "wind": 4.3
       },
       {
        "Date new": "2012-04-08T00:00:00",
        "precipitation": 0,
        "temp_max": 21.1,
        "temp_min": 7.2,
        "weather": "sun",
        "wind": 4.1
       },
       {
        "Date new": "2012-04-09T00:00:00",
        "precipitation": 0,
        "temp_max": 20,
        "temp_min": 6.1,
        "weather": "sun",
        "wind": 2.1
       },
       {
        "Date new": "2012-04-10T00:00:00",
        "precipitation": 0,
        "temp_max": 17.8,
        "temp_min": 8.9,
        "weather": "rain",
        "wind": 3.2
       },
       {
        "Date new": "2012-04-11T00:00:00",
        "precipitation": 2.3,
        "temp_max": 11.1,
        "temp_min": 7.2,
        "weather": "rain",
        "wind": 2.6
       },
       {
        "Date new": "2012-04-12T00:00:00",
        "precipitation": 0.5,
        "temp_max": 13.9,
        "temp_min": 5.6,
        "weather": "rain",
        "wind": 2.6
       },
       {
        "Date new": "2012-04-13T00:00:00",
        "precipitation": 0,
        "temp_max": 15,
        "temp_min": 3.9,
        "weather": "drizzle",
        "wind": 4
       },
       {
        "Date new": "2012-04-14T00:00:00",
        "precipitation": 0,
        "temp_max": 15.6,
        "temp_min": 3.3,
        "weather": "sun",
        "wind": 3
       },
       {
        "Date new": "2012-04-15T00:00:00",
        "precipitation": 0,
        "temp_max": 16.1,
        "temp_min": 7.2,
        "weather": "rain",
        "wind": 2.9
       },
       {
        "Date new": "2012-04-16T00:00:00",
        "precipitation": 8.1,
        "temp_max": 13.3,
        "temp_min": 6.7,
        "weather": "rain",
        "wind": 5.8
       },
       {
        "Date new": "2012-04-17T00:00:00",
        "precipitation": 1.8,
        "temp_max": 10,
        "temp_min": 4.4,
        "weather": "rain",
        "wind": 2
       },
       {
        "Date new": "2012-04-18T00:00:00",
        "precipitation": 1.8,
        "temp_max": 13.3,
        "temp_min": 7.2,
        "weather": "rain",
        "wind": 3.9
       },
       {
        "Date new": "2012-04-19T00:00:00",
        "precipitation": 10.9,
        "temp_max": 13.9,
        "temp_min": 5,
        "weather": "rain",
        "wind": 2.6
       },
       {
        "Date new": "2012-04-20T00:00:00",
        "precipitation": 6.6,
        "temp_max": 13.3,
        "temp_min": 6.7,
        "weather": "rain",
        "wind": 2.7
       },
       {
        "Date new": "2012-04-21T00:00:00",
        "precipitation": 0,
        "temp_max": 20,
        "temp_min": 4.4,
        "weather": "sun",
        "wind": 2.3
       },
       {
        "Date new": "2012-04-22T00:00:00",
        "precipitation": 0,
        "temp_max": 23.3,
        "temp_min": 8.3,
        "weather": "rain",
        "wind": 2.6
       },
       {
        "Date new": "2012-04-23T00:00:00",
        "precipitation": 0,
        "temp_max": 21.7,
        "temp_min": 8.9,
        "weather": "sun",
        "wind": 3.5
       },
       {
        "Date new": "2012-04-24T00:00:00",
        "precipitation": 4.3,
        "temp_max": 13.9,
        "temp_min": 10,
        "weather": "rain",
        "wind": 2.8
       },
       {
        "Date new": "2012-04-25T00:00:00",
        "precipitation": 10.7,
        "temp_max": 16.7,
        "temp_min": 8.9,
        "weather": "rain",
        "wind": 2.6
       },
       {
        "Date new": "2012-04-26T00:00:00",
        "precipitation": 3.8,
        "temp_max": 13.9,
        "temp_min": 6.7,
        "weather": "rain",
        "wind": 5.2
       },
       {
        "Date new": "2012-04-27T00:00:00",
        "precipitation": 0.8,
        "temp_max": 13.3,
        "temp_min": 6.1,
        "weather": "rain",
        "wind": 4.8
       },
       {
        "Date new": "2012-04-28T00:00:00",
        "precipitation": 0,
        "temp_max": 16.1,
        "temp_min": 8.3,
        "weather": "drizzle",
        "wind": 2.5
       },
       {
        "Date new": "2012-04-29T00:00:00",
        "precipitation": 4.3,
        "temp_max": 15.6,
        "temp_min": 8.9,
        "weather": "rain",
        "wind": 1.6
       },
       {
        "Date new": "2012-04-30T00:00:00",
        "precipitation": 4.3,
        "temp_max": 12.8,
        "temp_min": 7.2,
        "weather": "rain",
        "wind": 8
       },
       {
        "Date new": "2012-05-01T00:00:00",
        "precipitation": 0.5,
        "temp_max": 11.7,
        "temp_min": 6.1,
        "weather": "rain",
        "wind": 6.4
       },
       {
        "Date new": "2012-05-02T00:00:00",
        "precipitation": 0.5,
        "temp_max": 13.3,
        "temp_min": 5.6,
        "weather": "rain",
        "wind": 2.5
       },
       {
        "Date new": "2012-05-03T00:00:00",
        "precipitation": 18.5,
        "temp_max": 11.1,
        "temp_min": 7.2,
        "weather": "rain",
        "wind": 3.4
       },
       {
        "Date new": "2012-05-04T00:00:00",
        "precipitation": 1.8,
        "temp_max": 12.2,
        "temp_min": 6.1,
        "weather": "rain",
        "wind": 4.6
       },
       {
        "Date new": "2012-05-05T00:00:00",
        "precipitation": 0,
        "temp_max": 13.3,
        "temp_min": 5,
        "weather": "sun",
        "wind": 2.3
       },
       {
        "Date new": "2012-05-06T00:00:00",
        "precipitation": 0,
        "temp_max": 17.8,
        "temp_min": 5,
        "weather": "sun",
        "wind": 2.4
       },
       {
        "Date new": "2012-05-07T00:00:00",
        "precipitation": 0,
        "temp_max": 23.9,
        "temp_min": 6.1,
        "weather": "sun",
        "wind": 2.2
       },
       {
        "Date new": "2012-05-08T00:00:00",
        "precipitation": 0,
        "temp_max": 18.3,
        "temp_min": 9.4,
        "weather": "sun",
        "wind": 3
       },
       {
        "Date new": "2012-05-09T00:00:00",
        "precipitation": 0,
        "temp_max": 13.3,
        "temp_min": 6.7,
        "weather": "rain",
        "wind": 3.9
       },
       {
        "Date new": "2012-05-10T00:00:00",
        "precipitation": 0,
        "temp_max": 14.4,
        "temp_min": 3.9,
        "weather": "sun",
        "wind": 3
       },
       {
        "Date new": "2012-05-11T00:00:00",
        "precipitation": 0,
        "temp_max": 18.3,
        "temp_min": 4.4,
        "weather": "sun",
        "wind": 4.3
       },
       {
        "Date new": "2012-05-12T00:00:00",
        "precipitation": 0,
        "temp_max": 24.4,
        "temp_min": 6.7,
        "weather": "sun",
        "wind": 3.4
       },
       {
        "Date new": "2012-05-13T00:00:00",
        "precipitation": 0,
        "temp_max": 25.6,
        "temp_min": 9.4,
        "weather": "sun",
        "wind": 4.2
       },
       {
        "Date new": "2012-05-14T00:00:00",
        "precipitation": 0,
        "temp_max": 26.7,
        "temp_min": 12.8,
        "weather": "sun",
        "wind": 3.8
       },
       {
        "Date new": "2012-05-15T00:00:00",
        "precipitation": 0,
        "temp_max": 24.4,
        "temp_min": 9.4,
        "weather": "drizzle",
        "wind": 4.1
       },
       {
        "Date new": "2012-05-16T00:00:00",
        "precipitation": 0,
        "temp_max": 19.4,
        "temp_min": 9.4,
        "weather": "sun",
        "wind": 3.5
       },
       {
        "Date new": "2012-05-17T00:00:00",
        "precipitation": 0,
        "temp_max": 17.8,
        "temp_min": 6.7,
        "weather": "rain",
        "wind": 2.9
       },
       {
        "Date new": "2012-05-18T00:00:00",
        "precipitation": 0,
        "temp_max": 15.6,
        "temp_min": 7.8,
        "weather": "rain",
        "wind": 3.1
       },
       {
        "Date new": "2012-05-19T00:00:00",
        "precipitation": 0,
        "temp_max": 19.4,
        "temp_min": 7.2,
        "weather": "sun",
        "wind": 1.5
       },
       {
        "Date new": "2012-05-20T00:00:00",
        "precipitation": 6.4,
        "temp_max": 14.4,
        "temp_min": 11.7,
        "weather": "rain",
        "wind": 1.3
       },
       {
        "Date new": "2012-05-21T00:00:00",
        "precipitation": 14,
        "temp_max": 16.7,
        "temp_min": 10,
        "weather": "rain",
        "wind": 4
       },
       {
        "Date new": "2012-05-22T00:00:00",
        "precipitation": 6.1,
        "temp_max": 12.8,
        "temp_min": 8.9,
        "weather": "rain",
        "wind": 4.8
       },
       {
        "Date new": "2012-05-23T00:00:00",
        "precipitation": 0.3,
        "temp_max": 14.4,
        "temp_min": 8.9,
        "weather": "rain",
        "wind": 6.3
       },
       {
        "Date new": "2012-05-24T00:00:00",
        "precipitation": 0,
        "temp_max": 17.2,
        "temp_min": 8.9,
        "weather": "rain",
        "wind": 3.3
       },
       {
        "Date new": "2012-05-25T00:00:00",
        "precipitation": 0,
        "temp_max": 22.2,
        "temp_min": 8.9,
        "weather": "rain",
        "wind": 3.1
       },
       {
        "Date new": "2012-05-26T00:00:00",
        "precipitation": 0,
        "temp_max": 22.2,
        "temp_min": 8.9,
        "weather": "sun",
        "wind": 3.6
       },
       {
        "Date new": "2012-05-27T00:00:00",
        "precipitation": 0,
        "temp_max": 17.2,
        "temp_min": 11.7,
        "weather": "sun",
        "wind": 3.7
       },
       {
        "Date new": "2012-05-28T00:00:00",
        "precipitation": 0,
        "temp_max": 16.7,
        "temp_min": 10,
        "weather": "rain",
        "wind": 3.4
       },
       {
        "Date new": "2012-05-29T00:00:00",
        "precipitation": 0,
        "temp_max": 16.1,
        "temp_min": 7.8,
        "weather": "sun",
        "wind": 1.8
       },
       {
        "Date new": "2012-05-30T00:00:00",
        "precipitation": 0.3,
        "temp_max": 18.9,
        "temp_min": 11.1,
        "weather": "rain",
        "wind": 1.5
       },
       {
        "Date new": "2012-05-31T00:00:00",
        "precipitation": 3.8,
        "temp_max": 17.8,
        "temp_min": 12.2,
        "weather": "rain",
        "wind": 2.7
       },
       {
        "Date new": "2012-06-01T00:00:00",
        "precipitation": 6.6,
        "temp_max": 20,
        "temp_min": 12.8,
        "weather": "rain",
        "wind": 3.7
       },
       {
        "Date new": "2012-06-02T00:00:00",
        "precipitation": 0.3,
        "temp_max": 18.9,
        "temp_min": 10.6,
        "weather": "rain",
        "wind": 3.7
       },
       {
        "Date new": "2012-06-03T00:00:00",
        "precipitation": 0,
        "temp_max": 17.2,
        "temp_min": 9.4,
        "weather": "sun",
        "wind": 2.9
       },
       {
        "Date new": "2012-06-04T00:00:00",
        "precipitation": 1.3,
        "temp_max": 12.8,
        "temp_min": 8.9,
        "weather": "rain",
        "wind": 3.1
       },
       {
        "Date new": "2012-06-05T00:00:00",
        "precipitation": 16,
        "temp_max": 13.3,
        "temp_min": 8.3,
        "weather": "rain",
        "wind": 3.3
       },
       {
        "Date new": "2012-06-06T00:00:00",
        "precipitation": 0,
        "temp_max": 16.1,
        "temp_min": 6.1,
        "weather": "sun",
        "wind": 3.4
       },
       {
        "Date new": "2012-06-07T00:00:00",
        "precipitation": 16.5,
        "temp_max": 16.1,
        "temp_min": 8.9,
        "weather": "rain",
        "wind": 3.5
       },
       {
        "Date new": "2012-06-08T00:00:00",
        "precipitation": 1.5,
        "temp_max": 15,
        "temp_min": 8.3,
        "weather": "rain",
        "wind": 3
       },
       {
        "Date new": "2012-06-09T00:00:00",
        "precipitation": 0,
        "temp_max": 17.2,
        "temp_min": 8.3,
        "weather": "rain",
        "wind": 4.7
       },
       {
        "Date new": "2012-06-10T00:00:00",
        "precipitation": 0,
        "temp_max": 18.9,
        "temp_min": 10,
        "weather": "sun",
        "wind": 2.9
       },
       {
        "Date new": "2012-06-11T00:00:00",
        "precipitation": 0,
        "temp_max": 23.3,
        "temp_min": 10,
        "weather": "rain",
        "wind": 1.8
       },
       {
        "Date new": "2012-06-12T00:00:00",
        "precipitation": 0.8,
        "temp_max": 18.3,
        "temp_min": 12.8,
        "weather": "rain",
        "wind": 3.9
       },
       {
        "Date new": "2012-06-13T00:00:00",
        "precipitation": 0,
        "temp_max": 16.1,
        "temp_min": 11.1,
        "weather": "sun",
        "wind": 4.3
       },
       {
        "Date new": "2012-06-14T00:00:00",
        "precipitation": 0,
        "temp_max": 17.2,
        "temp_min": 10,
        "weather": "sun",
        "wind": 2.7
       },
       {
        "Date new": "2012-06-15T00:00:00",
        "precipitation": 0,
        "temp_max": 22.2,
        "temp_min": 9.4,
        "weather": "sun",
        "wind": 1.7
       },
       {
        "Date new": "2012-06-16T00:00:00",
        "precipitation": 0,
        "temp_max": 21.1,
        "temp_min": 15,
        "weather": "rain",
        "wind": 4.1
       },
       {
        "Date new": "2012-06-17T00:00:00",
        "precipitation": 0,
        "temp_max": 18.9,
        "temp_min": 11.7,
        "weather": "sun",
        "wind": 6.4
       },
       {
        "Date new": "2012-06-18T00:00:00",
        "precipitation": 3,
        "temp_max": 17.2,
        "temp_min": 10,
        "weather": "rain",
        "wind": 3.8
       },
       {
        "Date new": "2012-06-19T00:00:00",
        "precipitation": 1,
        "temp_max": 19.4,
        "temp_min": 10,
        "weather": "rain",
        "wind": 3
       },
       {
        "Date new": "2012-06-20T00:00:00",
        "precipitation": 0,
        "temp_max": 24.4,
        "temp_min": 10,
        "weather": "sun",
        "wind": 3
       },
       {
        "Date new": "2012-06-21T00:00:00",
        "precipitation": 0,
        "temp_max": 23.9,
        "temp_min": 11.7,
        "weather": "sun",
        "wind": 2.1
       },
       {
        "Date new": "2012-06-22T00:00:00",
        "precipitation": 15.7,
        "temp_max": 13.9,
        "temp_min": 11.7,
        "weather": "rain",
        "wind": 1.9
       },
       {
        "Date new": "2012-06-23T00:00:00",
        "precipitation": 8.6,
        "temp_max": 15.6,
        "temp_min": 9.4,
        "weather": "rain",
        "wind": 2.5
       },
       {
        "Date new": "2012-06-24T00:00:00",
        "precipitation": 0,
        "temp_max": 19.4,
        "temp_min": 9.4,
        "weather": "drizzle",
        "wind": 2
       },
       {
        "Date new": "2012-06-25T00:00:00",
        "precipitation": 0.5,
        "temp_max": 19.4,
        "temp_min": 11.1,
        "weather": "rain",
        "wind": 3.1
       },
       {
        "Date new": "2012-06-26T00:00:00",
        "precipitation": 0,
        "temp_max": 18.3,
        "temp_min": 10.6,
        "weather": "rain",
        "wind": 3.4
       },
       {
        "Date new": "2012-06-27T00:00:00",
        "precipitation": 0,
        "temp_max": 22.8,
        "temp_min": 8.9,
        "weather": "sun",
        "wind": 1.8
       },
       {
        "Date new": "2012-06-28T00:00:00",
        "precipitation": 0,
        "temp_max": 22.2,
        "temp_min": 11.7,
        "weather": "rain",
        "wind": 2.5
       },
       {
        "Date new": "2012-06-29T00:00:00",
        "precipitation": 0.3,
        "temp_max": 21.7,
        "temp_min": 15,
        "weather": "rain",
        "wind": 1.9
       },
       {
        "Date new": "2012-06-30T00:00:00",
        "precipitation": 3,
        "temp_max": 20,
        "temp_min": 13.3,
        "weather": "rain",
        "wind": 2.4
       },
       {
        "Date new": "2012-07-01T00:00:00",
        "precipitation": 0,
        "temp_max": 20,
        "temp_min": 12.2,
        "weather": "rain",
        "wind": 2.3
       },
       {
        "Date new": "2012-07-02T00:00:00",
        "precipitation": 2,
        "temp_max": 18.9,
        "temp_min": 11.7,
        "weather": "rain",
        "wind": 2.1
       },
       {
        "Date new": "2012-07-03T00:00:00",
        "precipitation": 5.8,
        "temp_max": 18.3,
        "temp_min": 10.6,
        "weather": "rain",
        "wind": 6
       },
       {
        "Date new": "2012-07-04T00:00:00",
        "precipitation": 0,
        "temp_max": 20.6,
        "temp_min": 9.4,
        "weather": "sun",
        "wind": 3.8
       },
       {
        "Date new": "2012-07-05T00:00:00",
        "precipitation": 0,
        "temp_max": 24.4,
        "temp_min": 10.6,
        "weather": "drizzle",
        "wind": 3.1
       },
       {
        "Date new": "2012-07-06T00:00:00",
        "precipitation": 0,
        "temp_max": 25,
        "temp_min": 11.1,
        "weather": "sun",
        "wind": 2.1
       },
       {
        "Date new": "2012-07-07T00:00:00",
        "precipitation": 0,
        "temp_max": 26.7,
        "temp_min": 12.8,
        "weather": "sun",
        "wind": 3.8
       },
       {
        "Date new": "2012-07-08T00:00:00",
        "precipitation": 0,
        "temp_max": 28.3,
        "temp_min": 14.4,
        "weather": "rain",
        "wind": 2.8
       },
       {
        "Date new": "2012-07-09T00:00:00",
        "precipitation": 1.5,
        "temp_max": 25,
        "temp_min": 12.8,
        "weather": "rain",
        "wind": 2
       },
       {
        "Date new": "2012-07-10T00:00:00",
        "precipitation": 0,
        "temp_max": 23.9,
        "temp_min": 11.1,
        "weather": "drizzle",
        "wind": 2.3
       },
       {
        "Date new": "2012-07-11T00:00:00",
        "precipitation": 0,
        "temp_max": 27.8,
        "temp_min": 13.3,
        "weather": "fog",
        "wind": 2.9
       },
       {
        "Date new": "2012-07-12T00:00:00",
        "precipitation": 0,
        "temp_max": 25.6,
        "temp_min": 13.3,
        "weather": "drizzle",
        "wind": 2.7
       },
       {
        "Date new": "2012-07-13T00:00:00",
        "precipitation": 0.5,
        "temp_max": 23.3,
        "temp_min": 13.9,
        "weather": "rain",
        "wind": 2.2
       },
       {
        "Date new": "2012-07-14T00:00:00",
        "precipitation": 0,
        "temp_max": 25,
        "temp_min": 15,
        "weather": "rain",
        "wind": 2.2
       },
       {
        "Date new": "2012-07-15T00:00:00",
        "precipitation": 0,
        "temp_max": 18.9,
        "temp_min": 13.3,
        "weather": "rain",
        "wind": 3.8
       },
       {
        "Date new": "2012-07-16T00:00:00",
        "precipitation": 0.3,
        "temp_max": 26.1,
        "temp_min": 13.3,
        "weather": "rain",
        "wind": 2.5
       },
       {
        "Date new": "2012-07-17T00:00:00",
        "precipitation": 0,
        "temp_max": 21.7,
        "temp_min": 15,
        "weather": "sun",
        "wind": 2.6
       },
       {
        "Date new": "2012-07-18T00:00:00",
        "precipitation": 0,
        "temp_max": 21.1,
        "temp_min": 14.4,
        "weather": "sun",
        "wind": 2.9
       },
       {
        "Date new": "2012-07-19T00:00:00",
        "precipitation": 0,
        "temp_max": 25,
        "temp_min": 14.4,
        "weather": "sun",
        "wind": 2.2
       },
       {
        "Date new": "2012-07-20T00:00:00",
        "precipitation": 15.2,
        "temp_max": 19.4,
        "temp_min": 13.9,
        "weather": "rain",
        "wind": 4
       },
       {
        "Date new": "2012-07-21T00:00:00",
        "precipitation": 0,
        "temp_max": 23.9,
        "temp_min": 13.9,
        "weather": "sun",
        "wind": 2.3
       },
       {
        "Date new": "2012-07-22T00:00:00",
        "precipitation": 1,
        "temp_max": 20.6,
        "temp_min": 12.2,
        "weather": "rain",
        "wind": 3.9
       },
       {
        "Date new": "2012-07-23T00:00:00",
        "precipitation": 0,
        "temp_max": 18.9,
        "temp_min": 11.1,
        "weather": "rain",
        "wind": 3.3
       },
       {
        "Date new": "2012-07-24T00:00:00",
        "precipitation": 0,
        "temp_max": 23.3,
        "temp_min": 12.2,
        "weather": "sun",
        "wind": 4.3
       },
       {
        "Date new": "2012-07-25T00:00:00",
        "precipitation": 0,
        "temp_max": 26.7,
        "temp_min": 12.8,
        "weather": "sun",
        "wind": 2.6
       },
       {
        "Date new": "2012-07-26T00:00:00",
        "precipitation": 0,
        "temp_max": 25.6,
        "temp_min": 12.8,
        "weather": "drizzle",
        "wind": 2.2
       },
       {
        "Date new": "2012-07-27T00:00:00",
        "precipitation": 0,
        "temp_max": 18.9,
        "temp_min": 13.9,
        "weather": "drizzle",
        "wind": 2.8
       },
       {
        "Date new": "2012-07-28T00:00:00",
        "precipitation": 0,
        "temp_max": 22.2,
        "temp_min": 13.3,
        "weather": "drizzle",
        "wind": 1.7
       },
       {
        "Date new": "2012-07-29T00:00:00",
        "precipitation": 0,
        "temp_max": 22.8,
        "temp_min": 15,
        "weather": "sun",
        "wind": 2
       },
       {
        "Date new": "2012-07-30T00:00:00",
        "precipitation": 0,
        "temp_max": 19.4,
        "temp_min": 13.3,
        "weather": "sun",
        "wind": 3
       },
       {
        "Date new": "2012-07-31T00:00:00",
        "precipitation": 0,
        "temp_max": 22.8,
        "temp_min": 13.9,
        "weather": "sun",
        "wind": 2.8
       },
       {
        "Date new": "2012-08-01T00:00:00",
        "precipitation": 0,
        "temp_max": 23.9,
        "temp_min": 13.3,
        "weather": "drizzle",
        "wind": 2.2
       },
       {
        "Date new": "2012-08-02T00:00:00",
        "precipitation": 0,
        "temp_max": 23.3,
        "temp_min": 12.2,
        "weather": "sun",
        "wind": 2.5
       },
       {
        "Date new": "2012-08-03T00:00:00",
        "precipitation": 0,
        "temp_max": 27.2,
        "temp_min": 12.8,
        "weather": "sun",
        "wind": 3.9
       },
       {
        "Date new": "2012-08-04T00:00:00",
        "precipitation": 0,
        "temp_max": 33.9,
        "temp_min": 16.7,
        "weather": "sun",
        "wind": 3.7
       },
       {
        "Date new": "2012-08-05T00:00:00",
        "precipitation": 0,
        "temp_max": 33.9,
        "temp_min": 17.8,
        "weather": "sun",
        "wind": 1.9
       },
       {
        "Date new": "2012-08-06T00:00:00",
        "precipitation": 0,
        "temp_max": 28.3,
        "temp_min": 15.6,
        "weather": "rain",
        "wind": 2.5
       },
       {
        "Date new": "2012-08-07T00:00:00",
        "precipitation": 0,
        "temp_max": 21.1,
        "temp_min": 15,
        "weather": "drizzle",
        "wind": 2.6
       },
       {
        "Date new": "2012-08-08T00:00:00",
        "precipitation": 0,
        "temp_max": 22.2,
        "temp_min": 15,
        "weather": "sun",
        "wind": 3.1
       },
       {
        "Date new": "2012-08-09T00:00:00",
        "precipitation": 0,
        "temp_max": 24.4,
        "temp_min": 14.4,
        "weather": "drizzle",
        "wind": 3.8
       },
       {
        "Date new": "2012-08-10T00:00:00",
        "precipitation": 0,
        "temp_max": 25.6,
        "temp_min": 12.2,
        "weather": "sun",
        "wind": 2.3
       },
       {
        "Date new": "2012-08-11T00:00:00",
        "precipitation": 0,
        "temp_max": 28.3,
        "temp_min": 13.3,
        "weather": "sun",
        "wind": 2.5
       },
       {
        "Date new": "2012-08-12T00:00:00",
        "precipitation": 0,
        "temp_max": 30.6,
        "temp_min": 15,
        "weather": "sun",
        "wind": 3
       },
       {
        "Date new": "2012-08-13T00:00:00",
        "precipitation": 0,
        "temp_max": 30.6,
        "temp_min": 15,
        "weather": "sun",
        "wind": 2.8
       },
       {
        "Date new": "2012-08-14T00:00:00",
        "precipitation": 0,
        "temp_max": 28.9,
        "temp_min": 13.9,
        "weather": "sun",
        "wind": 2.8
       },
       {
        "Date new": "2012-08-15T00:00:00",
        "precipitation": 0,
        "temp_max": 31.1,
        "temp_min": 16.7,
        "weather": "sun",
        "wind": 4.7
       },
       {
        "Date new": "2012-08-16T00:00:00",
        "precipitation": 0,
        "temp_max": 34.4,
        "temp_min": 18.3,
        "weather": "sun",
        "wind": 2.8
       },
       {
        "Date new": "2012-08-17T00:00:00",
        "precipitation": 0,
        "temp_max": 32.8,
        "temp_min": 16.1,
        "weather": "sun",
        "wind": 1.8
       },
       {
        "Date new": "2012-08-18T00:00:00",
        "precipitation": 0,
        "temp_max": 21.7,
        "temp_min": 14.4,
        "weather": "drizzle",
        "wind": 3
       },
       {
        "Date new": "2012-08-19T00:00:00",
        "precipitation": 0,
        "temp_max": 23.3,
        "temp_min": 15,
        "weather": "drizzle",
        "wind": 2.7
       },
       {
        "Date new": "2012-08-20T00:00:00",
        "precipitation": 0,
        "temp_max": 25.6,
        "temp_min": 15,
        "weather": "sun",
        "wind": 1.9
       },
       {
        "Date new": "2012-08-21T00:00:00",
        "precipitation": 0,
        "temp_max": 23.3,
        "temp_min": 13.3,
        "weather": "rain",
        "wind": 3
       },
       {
        "Date new": "2012-08-22T00:00:00",
        "precipitation": 0,
        "temp_max": 22.2,
        "temp_min": 13.3,
        "weather": "sun",
        "wind": 2.3
       },
       {
        "Date new": "2012-08-23T00:00:00",
        "precipitation": 0,
        "temp_max": 21.1,
        "temp_min": 13.9,
        "weather": "sun",
        "wind": 3.8
       },
       {
        "Date new": "2012-08-24T00:00:00",
        "precipitation": 0,
        "temp_max": 22.2,
        "temp_min": 10,
        "weather": "sun",
        "wind": 3.3
       },
       {
        "Date new": "2012-08-25T00:00:00",
        "precipitation": 0,
        "temp_max": 26.1,
        "temp_min": 11.7,
        "weather": "sun",
        "wind": 3.2
       },
       {
        "Date new": "2012-08-26T00:00:00",
        "precipitation": 0,
        "temp_max": 21.1,
        "temp_min": 12.2,
        "weather": "sun",
        "wind": 3.4
       },
       {
        "Date new": "2012-08-27T00:00:00",
        "precipitation": 0,
        "temp_max": 23.9,
        "temp_min": 13.3,
        "weather": "sun",
        "wind": 1.8
       },
       {
        "Date new": "2012-08-28T00:00:00",
        "precipitation": 0,
        "temp_max": 22.8,
        "temp_min": 12.2,
        "weather": "sun",
        "wind": 3.2
       },
       {
        "Date new": "2012-08-29T00:00:00",
        "precipitation": 0,
        "temp_max": 22.8,
        "temp_min": 13.3,
        "weather": "sun",
        "wind": 2.4
       },
       {
        "Date new": "2012-08-30T00:00:00",
        "precipitation": 0,
        "temp_max": 22.8,
        "temp_min": 12.8,
        "weather": "sun",
        "wind": 1.9
       },
       {
        "Date new": "2012-08-31T00:00:00",
        "precipitation": 0,
        "temp_max": 22.2,
        "temp_min": 10.6,
        "weather": "sun",
        "wind": 2.9
       },
       {
        "Date new": "2012-09-01T00:00:00",
        "precipitation": 0,
        "temp_max": 21.7,
        "temp_min": 10.6,
        "weather": "sun",
        "wind": 2.1
       },
       {
        "Date new": "2012-09-02T00:00:00",
        "precipitation": 0,
        "temp_max": 21.1,
        "temp_min": 10,
        "weather": "sun",
        "wind": 2
       },
       {
        "Date new": "2012-09-03T00:00:00",
        "precipitation": 0,
        "temp_max": 22.8,
        "temp_min": 12.8,
        "weather": "sun",
        "wind": 3.3
       },
       {
        "Date new": "2012-09-04T00:00:00",
        "precipitation": 0,
        "temp_max": 24.4,
        "temp_min": 11.1,
        "weather": "sun",
        "wind": 3.1
       },
       {
        "Date new": "2012-09-05T00:00:00",
        "precipitation": 0,
        "temp_max": 26.1,
        "temp_min": 11.7,
        "weather": "sun",
        "wind": 2.6
       },
       {
        "Date new": "2012-09-06T00:00:00",
        "precipitation": 0,
        "temp_max": 28.3,
        "temp_min": 14.4,
        "weather": "sun",
        "wind": 4.2
       },
       {
        "Date new": "2012-09-07T00:00:00",
        "precipitation": 0,
        "temp_max": 32.2,
        "temp_min": 13.3,
        "weather": "sun",
        "wind": 3.1
       },
       {
        "Date new": "2012-09-08T00:00:00",
        "precipitation": 0,
        "temp_max": 25,
        "temp_min": 13.3,
        "weather": "sun",
        "wind": 3
       },
       {
        "Date new": "2012-09-09T00:00:00",
        "precipitation": 0.3,
        "temp_max": 18.9,
        "temp_min": 13.9,
        "weather": "rain",
        "wind": 5
       },
       {
        "Date new": "2012-09-10T00:00:00",
        "precipitation": 0.3,
        "temp_max": 20,
        "temp_min": 11.7,
        "weather": "rain",
        "wind": 3.9
       },
       {
        "Date new": "2012-09-11T00:00:00",
        "precipitation": 0,
        "temp_max": 20,
        "temp_min": 8.9,
        "weather": "sun",
        "wind": 4.2
       },
       {
        "Date new": "2012-09-12T00:00:00",
        "precipitation": 0,
        "temp_max": 22.2,
        "temp_min": 10,
        "weather": "sun",
        "wind": 5.6
       },
       {
        "Date new": "2012-09-13T00:00:00",
        "precipitation": 0,
        "temp_max": 27.8,
        "temp_min": 11.7,
        "weather": "sun",
        "wind": 3.6
       },
       {
        "Date new": "2012-09-14T00:00:00",
        "precipitation": 0,
        "temp_max": 26.1,
        "temp_min": 11.1,
        "weather": "sun",
        "wind": 1.5
       },
       {
        "Date new": "2012-09-15T00:00:00",
        "precipitation": 0,
        "temp_max": 22.2,
        "temp_min": 11.1,
        "weather": "sun",
        "wind": 1.9
       },
       {
        "Date new": "2012-09-16T00:00:00",
        "precipitation": 0,
        "temp_max": 24.4,
        "temp_min": 9.4,
        "weather": "sun",
        "wind": 2.3
       },
       {
        "Date new": "2012-09-17T00:00:00",
        "precipitation": 0,
        "temp_max": 27.8,
        "temp_min": 11.7,
        "weather": "fog",
        "wind": 2.2
       },
       {
        "Date new": "2012-09-18T00:00:00",
        "precipitation": 0,
        "temp_max": 27.8,
        "temp_min": 11.7,
        "weather": "sun",
        "wind": 1.4
       },
       {
        "Date new": "2012-09-19T00:00:00",
        "precipitation": 0,
        "temp_max": 23.9,
        "temp_min": 11.7,
        "weather": "drizzle",
        "wind": 1.9
       },
       {
        "Date new": "2012-09-20T00:00:00",
        "precipitation": 0,
        "temp_max": 19.4,
        "temp_min": 10,
        "weather": "drizzle",
        "wind": 2.5
       },
       {
        "Date new": "2012-09-21T00:00:00",
        "precipitation": 0,
        "temp_max": 16.1,
        "temp_min": 12.8,
        "weather": "drizzle",
        "wind": 2.1
       },
       {
        "Date new": "2012-09-22T00:00:00",
        "precipitation": 0.3,
        "temp_max": 19.4,
        "temp_min": 11.7,
        "weather": "rain",
        "wind": 1.1
       },
       {
        "Date new": "2012-09-23T00:00:00",
        "precipitation": 0,
        "temp_max": 19.4,
        "temp_min": 10,
        "weather": "fog",
        "wind": 1.4
       },
       {
        "Date new": "2012-09-24T00:00:00",
        "precipitation": 0,
        "temp_max": 21.1,
        "temp_min": 10,
        "weather": "fog",
        "wind": 1.8
       },
       {
        "Date new": "2012-09-25T00:00:00",
        "precipitation": 0,
        "temp_max": 19.4,
        "temp_min": 11.1,
        "weather": "sun",
        "wind": 1.7
       },
       {
        "Date new": "2012-09-26T00:00:00",
        "precipitation": 0,
        "temp_max": 19.4,
        "temp_min": 9.4,
        "weather": "drizzle",
        "wind": 1.7
       },
       {
        "Date new": "2012-09-27T00:00:00",
        "precipitation": 0,
        "temp_max": 22.8,
        "temp_min": 10,
        "weather": "drizzle",
        "wind": 1.7
       },
       {
        "Date new": "2012-09-28T00:00:00",
        "precipitation": 0,
        "temp_max": 25,
        "temp_min": 12.2,
        "weather": "rain",
        "wind": 1.1
       },
       {
        "Date new": "2012-09-29T00:00:00",
        "precipitation": 0,
        "temp_max": 20.6,
        "temp_min": 12.2,
        "weather": "sun",
        "wind": 4.3
       },
       {
        "Date new": "2012-09-30T00:00:00",
        "precipitation": 0,
        "temp_max": 21.1,
        "temp_min": 7.8,
        "weather": "sun",
        "wind": 3.1
       },
       {
        "Date new": "2012-10-01T00:00:00",
        "precipitation": 0,
        "temp_max": 23.3,
        "temp_min": 8.9,
        "weather": "sun",
        "wind": 3
       },
       {
        "Date new": "2012-10-02T00:00:00",
        "precipitation": 0,
        "temp_max": 17.8,
        "temp_min": 10,
        "weather": "sun",
        "wind": 4.1
       },
       {
        "Date new": "2012-10-03T00:00:00",
        "precipitation": 0,
        "temp_max": 18.9,
        "temp_min": 7.8,
        "weather": "sun",
        "wind": 7.3
       },
       {
        "Date new": "2012-10-04T00:00:00",
        "precipitation": 0,
        "temp_max": 18.9,
        "temp_min": 8.3,
        "weather": "sun",
        "wind": 6.5
       },
       {
        "Date new": "2012-10-05T00:00:00",
        "precipitation": 0,
        "temp_max": 21.7,
        "temp_min": 8.9,
        "weather": "sun",
        "wind": 5.7
       },
       {
        "Date new": "2012-10-06T00:00:00",
        "precipitation": 0,
        "temp_max": 23.9,
        "temp_min": 7.8,
        "weather": "sun",
        "wind": 5.1
       },
       {
        "Date new": "2012-10-07T00:00:00",
        "precipitation": 0,
        "temp_max": 23.9,
        "temp_min": 7.8,
        "weather": "sun",
        "wind": 1.3
       },
       {
        "Date new": "2012-10-08T00:00:00",
        "precipitation": 0,
        "temp_max": 21.1,
        "temp_min": 7.8,
        "weather": "sun",
        "wind": 1.9
       },
       {
        "Date new": "2012-10-09T00:00:00",
        "precipitation": 0,
        "temp_max": 16.1,
        "temp_min": 8.9,
        "weather": "drizzle",
        "wind": 1.6
       },
       {
        "Date new": "2012-10-10T00:00:00",
        "precipitation": 0,
        "temp_max": 12.2,
        "temp_min": 8.3,
        "weather": "drizzle",
        "wind": 1.4
       },
       {
        "Date new": "2012-10-11T00:00:00",
        "precipitation": 0,
        "temp_max": 13.9,
        "temp_min": 7.2,
        "weather": "drizzle",
        "wind": 1.3
       },
       {
        "Date new": "2012-10-12T00:00:00",
        "precipitation": 2,
        "temp_max": 13.9,
        "temp_min": 8.9,
        "weather": "rain",
        "wind": 4.6
       },
       {
        "Date new": "2012-10-13T00:00:00",
        "precipitation": 4.8,
        "temp_max": 15.6,
        "temp_min": 12.2,
        "weather": "rain",
        "wind": 3.9
       },
       {
        "Date new": "2012-10-14T00:00:00",
        "precipitation": 16.5,
        "temp_max": 17.8,
        "temp_min": 13.3,
        "weather": "rain",
        "wind": 3.4
       },
       {
        "Date new": "2012-10-15T00:00:00",
        "precipitation": 7.9,
        "temp_max": 17.2,
        "temp_min": 11.1,
        "weather": "rain",
        "wind": 4.6
       },
       {
        "Date new": "2012-10-16T00:00:00",
        "precipitation": 0,
        "temp_max": 16.1,
        "temp_min": 8.3,
        "weather": "sun",
        "wind": 5.5
       },
       {
        "Date new": "2012-10-17T00:00:00",
        "precipitation": 0,
        "temp_max": 14.4,
        "temp_min": 6.1,
        "weather": "sun",
        "wind": 1.6
       },
       {
        "Date new": "2012-10-18T00:00:00",
        "precipitation": 20.8,
        "temp_max": 17.8,
        "temp_min": 6.7,
        "weather": "rain",
        "wind": 2
       },
       {
        "Date new": "2012-10-19T00:00:00",
        "precipitation": 4.8,
        "temp_max": 15,
        "temp_min": 9.4,
        "weather": "rain",
        "wind": 5.3
       },
       {
        "Date new": "2012-10-20T00:00:00",
        "precipitation": 0.5,
        "temp_max": 11.1,
        "temp_min": 6.1,
        "weather": "rain",
        "wind": 5.7
       },
       {
        "Date new": "2012-10-21T00:00:00",
        "precipitation": 6.4,
        "temp_max": 11.7,
        "temp_min": 4.4,
        "weather": "rain",
        "wind": 2.7
       },
       {
        "Date new": "2012-10-22T00:00:00",
        "precipitation": 8.9,
        "temp_max": 7.8,
        "temp_min": 3.3,
        "weather": "rain",
        "wind": 2.6
       },
       {
        "Date new": "2012-10-23T00:00:00",
        "precipitation": 0,
        "temp_max": 11.1,
        "temp_min": 5.6,
        "weather": "rain",
        "wind": 3
       },
       {
        "Date new": "2012-10-24T00:00:00",
        "precipitation": 7.1,
        "temp_max": 11.7,
        "temp_min": 6.1,
        "weather": "rain",
        "wind": 2.1
       },
       {
        "Date new": "2012-10-25T00:00:00",
        "precipitation": 0,
        "temp_max": 11.7,
        "temp_min": 6.7,
        "weather": "sun",
        "wind": 1.5
       },
       {
        "Date new": "2012-10-26T00:00:00",
        "precipitation": 1.5,
        "temp_max": 11.1,
        "temp_min": 7.2,
        "weather": "rain",
        "wind": 2.5
       },
       {
        "Date new": "2012-10-27T00:00:00",
        "precipitation": 23.1,
        "temp_max": 14.4,
        "temp_min": 9.4,
        "weather": "rain",
        "wind": 5.1
       },
       {
        "Date new": "2012-10-28T00:00:00",
        "precipitation": 6.1,
        "temp_max": 14.4,
        "temp_min": 10,
        "weather": "rain",
        "wind": 3.8
       },
       {
        "Date new": "2012-10-29T00:00:00",
        "precipitation": 10.9,
        "temp_max": 15.6,
        "temp_min": 10,
        "weather": "rain",
        "wind": 4.9
       },
       {
        "Date new": "2012-10-30T00:00:00",
        "precipitation": 34.5,
        "temp_max": 15,
        "temp_min": 12.2,
        "weather": "rain",
        "wind": 2.8
       },
       {
        "Date new": "2012-10-31T00:00:00",
        "precipitation": 14.5,
        "temp_max": 15.6,
        "temp_min": 11.1,
        "weather": "rain",
        "wind": 2.7
       },
       {
        "Date new": "2012-11-01T00:00:00",
        "precipitation": 9.7,
        "temp_max": 15,
        "temp_min": 10.6,
        "weather": "rain",
        "wind": 3
       },
       {
        "Date new": "2012-11-02T00:00:00",
        "precipitation": 5.6,
        "temp_max": 15,
        "temp_min": 10.6,
        "weather": "rain",
        "wind": 1
       },
       {
        "Date new": "2012-11-03T00:00:00",
        "precipitation": 0.5,
        "temp_max": 15.6,
        "temp_min": 11.1,
        "weather": "rain",
        "wind": 3.6
       },
       {
        "Date new": "2012-11-04T00:00:00",
        "precipitation": 8.1,
        "temp_max": 17.8,
        "temp_min": 12.8,
        "weather": "rain",
        "wind": 3.8
       },
       {
        "Date new": "2012-11-05T00:00:00",
        "precipitation": 0.8,
        "temp_max": 15,
        "temp_min": 7.8,
        "weather": "rain",
        "wind": 4
       },
       {
        "Date new": "2012-11-06T00:00:00",
        "precipitation": 0.3,
        "temp_max": 12.8,
        "temp_min": 6.7,
        "weather": "rain",
        "wind": 3.5
       },
       {
        "Date new": "2012-11-07T00:00:00",
        "precipitation": 0,
        "temp_max": 12.2,
        "temp_min": 3.9,
        "weather": "rain",
        "wind": 3.4
       },
       {
        "Date new": "2012-11-08T00:00:00",
        "precipitation": 0,
        "temp_max": 10,
        "temp_min": 1.1,
        "weather": "rain",
        "wind": 3.4
       },
       {
        "Date new": "2012-11-09T00:00:00",
        "precipitation": 0,
        "temp_max": 8.9,
        "temp_min": 1.1,
        "weather": "rain",
        "wind": 2
       },
       {
        "Date new": "2012-11-10T00:00:00",
        "precipitation": 0,
        "temp_max": 7.8,
        "temp_min": -0.6,
        "weather": "sun",
        "wind": 2.2
       },
       {
        "Date new": "2012-11-11T00:00:00",
        "precipitation": 15.2,
        "temp_max": 8.9,
        "temp_min": 1.1,
        "weather": "rain",
        "wind": 3
       },
       {
        "Date new": "2012-11-12T00:00:00",
        "precipitation": 3.6,
        "temp_max": 12.8,
        "temp_min": 6.1,
        "weather": "rain",
        "wind": 3
       },
       {
        "Date new": "2012-11-13T00:00:00",
        "precipitation": 5.3,
        "temp_max": 11.1,
        "temp_min": 7.8,
        "weather": "rain",
        "wind": 2.5
       },
       {
        "Date new": "2012-11-14T00:00:00",
        "precipitation": 0.8,
        "temp_max": 11.1,
        "temp_min": 5,
        "weather": "rain",
        "wind": 2.6
       },
       {
        "Date new": "2012-11-15T00:00:00",
        "precipitation": 0,
        "temp_max": 9.4,
        "temp_min": 2.8,
        "weather": "drizzle",
        "wind": 2.4
       },
       {
        "Date new": "2012-11-16T00:00:00",
        "precipitation": 5.6,
        "temp_max": 9.4,
        "temp_min": 2.2,
        "weather": "rain",
        "wind": 1.6
       },
       {
        "Date new": "2012-11-17T00:00:00",
        "precipitation": 6.1,
        "temp_max": 12.2,
        "temp_min": 6.1,
        "weather": "rain",
        "wind": 5.3
       },
       {
        "Date new": "2012-11-18T00:00:00",
        "precipitation": 7.9,
        "temp_max": 10,
        "temp_min": 6.1,
        "weather": "rain",
        "wind": 4.9
       },
       {
        "Date new": "2012-11-19T00:00:00",
        "precipitation": 54.1,
        "temp_max": 13.3,
        "temp_min": 8.3,
        "weather": "rain",
        "wind": 6
       },
       {
        "Date new": "2012-11-20T00:00:00",
        "precipitation": 3.8,
        "temp_max": 11.1,
        "temp_min": 7.2,
        "weather": "rain",
        "wind": 4.2
       },
       {
        "Date new": "2012-11-21T00:00:00",
        "precipitation": 11.2,
        "temp_max": 8.3,
        "temp_min": 3.9,
        "weather": "rain",
        "wind": 5.5
       },
       {
        "Date new": "2012-11-22T00:00:00",
        "precipitation": 0,
        "temp_max": 8.9,
        "temp_min": 2.8,
        "weather": "rain",
        "wind": 1.5
       },
       {
        "Date new": "2012-11-23T00:00:00",
        "precipitation": 32,
        "temp_max": 9.4,
        "temp_min": 6.1,
        "weather": "rain",
        "wind": 2.4
       },
       {
        "Date new": "2012-11-24T00:00:00",
        "precipitation": 0,
        "temp_max": 8.9,
        "temp_min": 3.9,
        "weather": "rain",
        "wind": 1.2
       },
       {
        "Date new": "2012-11-25T00:00:00",
        "precipitation": 0,
        "temp_max": 8.3,
        "temp_min": 1.1,
        "weather": "drizzle",
        "wind": 3.6
       },
       {
        "Date new": "2012-11-26T00:00:00",
        "precipitation": 0,
        "temp_max": 9.4,
        "temp_min": 1.7,
        "weather": "fog",
        "wind": 3.8
       },
       {
        "Date new": "2012-11-27T00:00:00",
        "precipitation": 0,
        "temp_max": 10,
        "temp_min": 1.7,
        "weather": "sun",
        "wind": 1.5
       },
       {
        "Date new": "2012-11-28T00:00:00",
        "precipitation": 2.8,
        "temp_max": 9.4,
        "temp_min": 2.2,
        "weather": "rain",
        "wind": 2.9
       },
       {
        "Date new": "2012-11-29T00:00:00",
        "precipitation": 1.5,
        "temp_max": 12.8,
        "temp_min": 7.8,
        "weather": "rain",
        "wind": 4.2
       },
       {
        "Date new": "2012-11-30T00:00:00",
        "precipitation": 35.6,
        "temp_max": 15,
        "temp_min": 7.8,
        "weather": "rain",
        "wind": 4.6
       },
       {
        "Date new": "2012-12-01T00:00:00",
        "precipitation": 4.1,
        "temp_max": 13.3,
        "temp_min": 8.3,
        "weather": "rain",
        "wind": 5.5
       },
       {
        "Date new": "2012-12-02T00:00:00",
        "precipitation": 19.6,
        "temp_max": 8.3,
        "temp_min": 7.2,
        "weather": "rain",
        "wind": 6.2
       },
       {
        "Date new": "2012-12-03T00:00:00",
        "precipitation": 13,
        "temp_max": 9.4,
        "temp_min": 7.2,
        "weather": "rain",
        "wind": 4.4
       },
       {
        "Date new": "2012-12-04T00:00:00",
        "precipitation": 14.2,
        "temp_max": 11.7,
        "temp_min": 7.2,
        "weather": "rain",
        "wind": 6.2
       },
       {
        "Date new": "2012-12-05T00:00:00",
        "precipitation": 1.5,
        "temp_max": 8.9,
        "temp_min": 4.4,
        "weather": "rain",
        "wind": 5
       },
       {
        "Date new": "2012-12-06T00:00:00",
        "precipitation": 1.5,
        "temp_max": 7.2,
        "temp_min": 6.1,
        "weather": "rain",
        "wind": 5.1
       },
       {
        "Date new": "2012-12-07T00:00:00",
        "precipitation": 1,
        "temp_max": 7.8,
        "temp_min": 3.3,
        "weather": "rain",
        "wind": 4.6
       },
       {
        "Date new": "2012-12-08T00:00:00",
        "precipitation": 0,
        "temp_max": 6.7,
        "temp_min": 3.3,
        "weather": "sun",
        "wind": 2
       },
       {
        "Date new": "2012-12-09T00:00:00",
        "precipitation": 1.5,
        "temp_max": 6.7,
        "temp_min": 2.8,
        "weather": "rain",
        "wind": 2.1
       },
       {
        "Date new": "2012-12-10T00:00:00",
        "precipitation": 0.5,
        "temp_max": 7.2,
        "temp_min": 5.6,
        "weather": "rain",
        "wind": 1.8
       },
       {
        "Date new": "2012-12-11T00:00:00",
        "precipitation": 3,
        "temp_max": 7.8,
        "temp_min": 5.6,
        "weather": "rain",
        "wind": 4.5
       },
       {
        "Date new": "2012-12-12T00:00:00",
        "precipitation": 8.1,
        "temp_max": 6.7,
        "temp_min": 4.4,
        "weather": "rain",
        "wind": 2
       },
       {
        "Date new": "2012-12-13T00:00:00",
        "precipitation": 2.3,
        "temp_max": 7.2,
        "temp_min": 3.3,
        "weather": "rain",
        "wind": 2.8
       },
       {
        "Date new": "2012-12-14T00:00:00",
        "precipitation": 7.9,
        "temp_max": 6.1,
        "temp_min": 1.1,
        "weather": "rain",
        "wind": 1.7
       },
       {
        "Date new": "2012-12-15T00:00:00",
        "precipitation": 5.3,
        "temp_max": 4.4,
        "temp_min": 0.6,
        "weather": "snow",
        "wind": 5.1
       },
       {
        "Date new": "2012-12-16T00:00:00",
        "precipitation": 22.6,
        "temp_max": 6.7,
        "temp_min": 3.3,
        "weather": "snow",
        "wind": 5.5
       },
       {
        "Date new": "2012-12-17T00:00:00",
        "precipitation": 2,
        "temp_max": 8.3,
        "temp_min": 1.7,
        "weather": "rain",
        "wind": 9.5
       },
       {
        "Date new": "2012-12-18T00:00:00",
        "precipitation": 3.3,
        "temp_max": 3.9,
        "temp_min": 0.6,
        "weather": "snow",
        "wind": 5.3
       },
       {
        "Date new": "2012-12-19T00:00:00",
        "precipitation": 13.7,
        "temp_max": 8.3,
        "temp_min": 1.7,
        "weather": "snow",
        "wind": 5.8
       },
       {
        "Date new": "2012-12-20T00:00:00",
        "precipitation": 13.2,
        "temp_max": 7.2,
        "temp_min": 0.6,
        "weather": "rain",
        "wind": 3.7
       },
       {
        "Date new": "2012-12-21T00:00:00",
        "precipitation": 1.8,
        "temp_max": 8.3,
        "temp_min": -1.7,
        "weather": "rain",
        "wind": 1.7
       },
       {
        "Date new": "2012-12-22T00:00:00",
        "precipitation": 3.3,
        "temp_max": 8.3,
        "temp_min": 3.9,
        "weather": "rain",
        "wind": 3.5
       },
       {
        "Date new": "2012-12-23T00:00:00",
        "precipitation": 6.6,
        "temp_max": 7.2,
        "temp_min": 3.3,
        "weather": "rain",
        "wind": 2.5
       },
       {
        "Date new": "2012-12-24T00:00:00",
        "precipitation": 0.3,
        "temp_max": 5.6,
        "temp_min": 2.8,
        "weather": "rain",
        "wind": 2.8
       },
       {
        "Date new": "2012-12-25T00:00:00",
        "precipitation": 13.5,
        "temp_max": 5.6,
        "temp_min": 2.8,
        "weather": "snow",
        "wind": 4.2
       },
       {
        "Date new": "2012-12-26T00:00:00",
        "precipitation": 4.6,
        "temp_max": 6.7,
        "temp_min": 3.3,
        "weather": "rain",
        "wind": 4.9
       },
       {
        "Date new": "2012-12-27T00:00:00",
        "precipitation": 4.1,
        "temp_max": 7.8,
        "temp_min": 3.3,
        "weather": "rain",
        "wind": 3.2
       },
       {
        "Date new": "2012-12-28T00:00:00",
        "precipitation": 0,
        "temp_max": 8.3,
        "temp_min": 3.9,
        "weather": "rain",
        "wind": 1.7
       },
       {
        "Date new": "2012-12-29T00:00:00",
        "precipitation": 1.5,
        "temp_max": 5,
        "temp_min": 3.3,
        "weather": "rain",
        "wind": 1.7
       },
       {
        "Date new": "2012-12-30T00:00:00",
        "precipitation": 0,
        "temp_max": 4.4,
        "temp_min": 0,
        "weather": "drizzle",
        "wind": 1.8
       },
       {
        "Date new": "2012-12-31T00:00:00",
        "precipitation": 0,
        "temp_max": 3.3,
        "temp_min": -1.1,
        "weather": "drizzle",
        "wind": 2
       },
       {
        "Date new": "2013-01-01T00:00:00",
        "precipitation": 0,
        "temp_max": 5,
        "temp_min": -2.8,
        "weather": "sun",
        "wind": 2.7
       },
       {
        "Date new": "2013-01-02T00:00:00",
        "precipitation": 0,
        "temp_max": 6.1,
        "temp_min": -1.1,
        "weather": "sun",
        "wind": 3.2
       },
       {
        "Date new": "2013-01-03T00:00:00",
        "precipitation": 4.1,
        "temp_max": 6.7,
        "temp_min": -1.7,
        "weather": "rain",
        "wind": 3
       },
       {
        "Date new": "2013-01-04T00:00:00",
        "precipitation": 2.5,
        "temp_max": 10,
        "temp_min": 2.2,
        "weather": "rain",
        "wind": 2.8
       },
       {
        "Date new": "2013-01-05T00:00:00",
        "precipitation": 3,
        "temp_max": 6.7,
        "temp_min": 4.4,
        "weather": "rain",
        "wind": 3.1
       },
       {
        "Date new": "2013-01-06T00:00:00",
        "precipitation": 2,
        "temp_max": 7.2,
        "temp_min": 2.8,
        "weather": "rain",
        "wind": 3
       },
       {
        "Date new": "2013-01-07T00:00:00",
        "precipitation": 2.3,
        "temp_max": 10,
        "temp_min": 4.4,
        "weather": "rain",
        "wind": 7.3
       },
       {
        "Date new": "2013-01-08T00:00:00",
        "precipitation": 16.3,
        "temp_max": 11.7,
        "temp_min": 5.6,
        "weather": "rain",
        "wind": 6.3
       },
       {
        "Date new": "2013-01-09T00:00:00",
        "precipitation": 38.4,
        "temp_max": 10,
        "temp_min": 1.7,
        "weather": "rain",
        "wind": 5.1
       },
       {
        "Date new": "2013-01-10T00:00:00",
        "precipitation": 0.3,
        "temp_max": 3.3,
        "temp_min": -0.6,
        "weather": "snow",
        "wind": 2.1
       },
       {
        "Date new": "2013-01-11T00:00:00",
        "precipitation": 0,
        "temp_max": 2.8,
        "temp_min": -2.8,
        "weather": "drizzle",
        "wind": 1.9
       },
       {
        "Date new": "2013-01-12T00:00:00",
        "precipitation": 0,
        "temp_max": 2.8,
        "temp_min": -3.9,
        "weather": "sun",
        "wind": 2
       },
       {
        "Date new": "2013-01-13T00:00:00",
        "precipitation": 0,
        "temp_max": 2.2,
        "temp_min": -4.4,
        "weather": "sun",
        "wind": 1.5
       },
       {
        "Date new": "2013-01-14T00:00:00",
        "precipitation": 0,
        "temp_max": 3.3,
        "temp_min": -2.2,
        "weather": "sun",
        "wind": 1.3
       },
       {
        "Date new": "2013-01-15T00:00:00",
        "precipitation": 0,
        "temp_max": 6.7,
        "temp_min": -0.6,
        "weather": "sun",
        "wind": 2.3
       },
       {
        "Date new": "2013-01-16T00:00:00",
        "precipitation": 0,
        "temp_max": 6.1,
        "temp_min": -3.9,
        "weather": "drizzle",
        "wind": 1.8
       },
       {
        "Date new": "2013-01-17T00:00:00",
        "precipitation": 0,
        "temp_max": 3.9,
        "temp_min": -2.8,
        "weather": "drizzle",
        "wind": 1
       },
       {
        "Date new": "2013-01-18T00:00:00",
        "precipitation": 0,
        "temp_max": 3.3,
        "temp_min": -1.1,
        "weather": "drizzle",
        "wind": 1.3
       },
       {
        "Date new": "2013-01-19T00:00:00",
        "precipitation": 0,
        "temp_max": 1.1,
        "temp_min": -0.6,
        "weather": "drizzle",
        "wind": 1.9
       },
       {
        "Date new": "2013-01-20T00:00:00",
        "precipitation": 0,
        "temp_max": 3.3,
        "temp_min": -0.6,
        "weather": "drizzle",
        "wind": 2.1
       },
       {
        "Date new": "2013-01-21T00:00:00",
        "precipitation": 0,
        "temp_max": 2.2,
        "temp_min": -1.7,
        "weather": "drizzle",
        "wind": 1.1
       },
       {
        "Date new": "2013-01-22T00:00:00",
        "precipitation": 0,
        "temp_max": 3.3,
        "temp_min": -1.7,
        "weather": "drizzle",
        "wind": 0.6
       },
       {
        "Date new": "2013-01-23T00:00:00",
        "precipitation": 5.1,
        "temp_max": 7.2,
        "temp_min": 2.2,
        "weather": "rain",
        "wind": 3.1
       },
       {
        "Date new": "2013-01-24T00:00:00",
        "precipitation": 5.8,
        "temp_max": 7.2,
        "temp_min": 1.1,
        "weather": "rain",
        "wind": 2.6
       },
       {
        "Date new": "2013-01-25T00:00:00",
        "precipitation": 3,
        "temp_max": 10.6,
        "temp_min": 2.8,
        "weather": "rain",
        "wind": 2.1
       },
       {
        "Date new": "2013-01-26T00:00:00",
        "precipitation": 2.3,
        "temp_max": 8.3,
        "temp_min": 3.9,
        "weather": "rain",
        "wind": 4.5
       },
       {
        "Date new": "2013-01-27T00:00:00",
        "precipitation": 1.8,
        "temp_max": 5.6,
        "temp_min": 3.9,
        "weather": "rain",
        "wind": 4.5
       },
       {
        "Date new": "2013-01-28T00:00:00",
        "precipitation": 7.9,
        "temp_max": 6.1,
        "temp_min": 3.3,
        "weather": "rain",
        "wind": 3.2
       },
       {
        "Date new": "2013-01-29T00:00:00",
        "precipitation": 4.3,
        "temp_max": 8.3,
        "temp_min": 5,
        "weather": "rain",
        "wind": 3.9
       },
       {
        "Date new": "2013-01-30T00:00:00",
        "precipitation": 3.6,
        "temp_max": 8.9,
        "temp_min": 6.7,
        "weather": "rain",
        "wind": 3.9
       },
       {
        "Date new": "2013-01-31T00:00:00",
        "precipitation": 3,
        "temp_max": 9.4,
        "temp_min": 7.2,
        "weather": "rain",
        "wind": 4
       },
       {
        "Date new": "2013-02-01T00:00:00",
        "precipitation": 0.3,
        "temp_max": 11.7,
        "temp_min": 5,
        "weather": "rain",
        "wind": 2.9
       },
       {
        "Date new": "2013-02-02T00:00:00",
        "precipitation": 0,
        "temp_max": 6.1,
        "temp_min": 2.8,
        "weather": "drizzle",
        "wind": 2
       },
       {
        "Date new": "2013-02-03T00:00:00",
        "precipitation": 2.3,
        "temp_max": 8.9,
        "temp_min": 2.8,
        "weather": "rain",
        "wind": 2.9
       },
       {
        "Date new": "2013-02-04T00:00:00",
        "precipitation": 0,
        "temp_max": 10.6,
        "temp_min": 6.7,
        "weather": "rain",
        "wind": 2.6
       },
       {
        "Date new": "2013-02-05T00:00:00",
        "precipitation": 3.3,
        "temp_max": 10,
        "temp_min": 6.7,
        "weather": "rain",
        "wind": 5.1
       },
       {
        "Date new": "2013-02-06T00:00:00",
        "precipitation": 1,
        "temp_max": 10.6,
        "temp_min": 6.1,
        "weather": "rain",
        "wind": 4.5
       },
       {
        "Date new": "2013-02-07T00:00:00",
        "precipitation": 1.3,
        "temp_max": 9.4,
        "temp_min": 3.3,
        "weather": "rain",
        "wind": 4.1
       },
       {
        "Date new": "2013-02-08T00:00:00",
        "precipitation": 0,
        "temp_max": 7.8,
        "temp_min": 2.2,
        "weather": "sun",
        "wind": 1.3
       },
       {
        "Date new": "2013-02-09T00:00:00",
        "precipitation": 0.3,
        "temp_max": 8.3,
        "temp_min": 4.4,
        "weather": "rain",
        "wind": 1.3
       },
       {
        "Date new": "2013-02-10T00:00:00",
        "precipitation": 0,
        "temp_max": 8.9,
        "temp_min": 1.7,
        "weather": "drizzle",
        "wind": 2
       },
       {
        "Date new": "2013-02-11T00:00:00",
        "precipitation": 0.3,
        "temp_max": 8.3,
        "temp_min": 4.4,
        "weather": "rain",
        "wind": 1.4
       },
       {
        "Date new": "2013-02-12T00:00:00",
        "precipitation": 1,
        "temp_max": 11.1,
        "temp_min": 7.2,
        "weather": "rain",
        "wind": 5.6
       },
       {
        "Date new": "2013-02-13T00:00:00",
        "precipitation": 2.3,
        "temp_max": 9.4,
        "temp_min": 7.2,
        "weather": "rain",
        "wind": 4.1
       },
       {
        "Date new": "2013-02-14T00:00:00",
        "precipitation": 1,
        "temp_max": 9.4,
        "temp_min": 5.6,
        "weather": "rain",
        "wind": 2.2
       },
       {
        "Date new": "2013-02-15T00:00:00",
        "precipitation": 0,
        "temp_max": 13.3,
        "temp_min": 5,
        "weather": "drizzle",
        "wind": 2.4
       },
       {
        "Date new": "2013-02-16T00:00:00",
        "precipitation": 0,
        "temp_max": 11.1,
        "temp_min": 3.9,
        "weather": "rain",
        "wind": 5.6
       },
       {
        "Date new": "2013-02-17T00:00:00",
        "precipitation": 0,
        "temp_max": 9.4,
        "temp_min": 4.4,
        "weather": "rain",
        "wind": 3.4
       },
       {
        "Date new": "2013-02-18T00:00:00",
        "precipitation": 0,
        "temp_max": 7.8,
        "temp_min": 3.9,
        "weather": "rain",
        "wind": 1.9
       },
       {
        "Date new": "2013-02-19T00:00:00",
        "precipitation": 0,
        "temp_max": 10.6,
        "temp_min": 1.7,
        "weather": "sun",
        "wind": 3.4
       },
       {
        "Date new": "2013-02-20T00:00:00",
        "precipitation": 1.5,
        "temp_max": 7.8,
        "temp_min": 1.1,
        "weather": "rain",
        "wind": 2.1
       },
       {
        "Date new": "2013-02-21T00:00:00",
        "precipitation": 0.5,
        "temp_max": 6.7,
        "temp_min": 3.9,
        "weather": "rain",
        "wind": 6.2
       },
       {
        "Date new": "2013-02-22T00:00:00",
        "precipitation": 9.4,
        "temp_max": 7.8,
        "temp_min": 3.9,
        "weather": "rain",
        "wind": 8.1
       },
       {
        "Date new": "2013-02-23T00:00:00",
        "precipitation": 0.3,
        "temp_max": 10,
        "temp_min": 3.9,
        "weather": "rain",
        "wind": 4.6
       },
       {
        "Date new": "2013-02-24T00:00:00",
        "precipitation": 0,
        "temp_max": 8.9,
        "temp_min": 5,
        "weather": "rain",
        "wind": 5.5
       },
       {
        "Date new": "2013-02-25T00:00:00",
        "precipitation": 2.3,
        "temp_max": 10.6,
        "temp_min": 3.3,
        "weather": "rain",
        "wind": 7.1
       },
       {
        "Date new": "2013-02-26T00:00:00",
        "precipitation": 0.5,
        "temp_max": 8.9,
        "temp_min": 3.9,
        "weather": "rain",
        "wind": 3.8
       },
       {
        "Date new": "2013-02-27T00:00:00",
        "precipitation": 4.6,
        "temp_max": 10,
        "temp_min": 4.4,
        "weather": "rain",
        "wind": 1.8
       },
       {
        "Date new": "2013-02-28T00:00:00",
        "precipitation": 8.1,
        "temp_max": 11.7,
        "temp_min": 6.7,
        "weather": "rain",
        "wind": 3.8
       },
       {
        "Date new": "2013-03-01T00:00:00",
        "precipitation": 4.1,
        "temp_max": 15,
        "temp_min": 11.1,
        "weather": "rain",
        "wind": 5.4
       },
       {
        "Date new": "2013-03-02T00:00:00",
        "precipitation": 0.8,
        "temp_max": 13.9,
        "temp_min": 5,
        "weather": "rain",
        "wind": 4.5
       },
       {
        "Date new": "2013-03-03T00:00:00",
        "precipitation": 0,
        "temp_max": 11.1,
        "temp_min": 2.2,
        "weather": "sun",
        "wind": 2.8
       },
       {
        "Date new": "2013-03-04T00:00:00",
        "precipitation": 0,
        "temp_max": 13.3,
        "temp_min": 0,
        "weather": "sun",
        "wind": 3.9
       },
       {
        "Date new": "2013-03-05T00:00:00",
        "precipitation": 0,
        "temp_max": 9.4,
        "temp_min": 6.1,
        "weather": "rain",
        "wind": 2.4
       },
       {
        "Date new": "2013-03-06T00:00:00",
        "precipitation": 11.9,
        "temp_max": 7.2,
        "temp_min": 5,
        "weather": "rain",
        "wind": 4.1
       },
       {
        "Date new": "2013-03-07T00:00:00",
        "precipitation": 7.4,
        "temp_max": 12.2,
        "temp_min": 5,
        "weather": "rain",
        "wind": 2.5
       },
       {
        "Date new": "2013-03-08T00:00:00",
        "precipitation": 0,
        "temp_max": 11.7,
        "temp_min": 2.2,
        "weather": "drizzle",
        "wind": 2.6
       },
       {
        "Date new": "2013-03-09T00:00:00",
        "precipitation": 0,
        "temp_max": 12.8,
        "temp_min": 1.1,
        "weather": "fog",
        "wind": 1.3
       },
       {
        "Date new": "2013-03-10T00:00:00",
        "precipitation": 0.8,
        "temp_max": 7.8,
        "temp_min": 3.9,
        "weather": "rain",
        "wind": 1.6
       },
       {
        "Date new": "2013-03-11T00:00:00",
        "precipitation": 1.3,
        "temp_max": 10.6,
        "temp_min": 6.1,
        "weather": "rain",
        "wind": 1.1
       },
       {
        "Date new": "2013-03-12T00:00:00",
        "precipitation": 2,
        "temp_max": 12.8,
        "temp_min": 10,
        "weather": "rain",
        "wind": 5.7
       },
       {
        "Date new": "2013-03-13T00:00:00",
        "precipitation": 2.3,
        "temp_max": 11.7,
        "temp_min": 9.4,
        "weather": "rain",
        "wind": 3.7
       },
       {
        "Date new": "2013-03-14T00:00:00",
        "precipitation": 2.8,
        "temp_max": 11.7,
        "temp_min": 9.4,
        "weather": "rain",
        "wind": 3
       },
       {
        "Date new": "2013-03-15T00:00:00",
        "precipitation": 0,
        "temp_max": 14.4,
        "temp_min": 8.9,
        "weather": "rain",
        "wind": 4.3
       },
       {
        "Date new": "2013-03-16T00:00:00",
        "precipitation": 4.3,
        "temp_max": 10.6,
        "temp_min": 4.4,
        "weather": "rain",
        "wind": 6.4
       },
       {
        "Date new": "2013-03-17T00:00:00",
        "precipitation": 0,
        "temp_max": 8.9,
        "temp_min": 3.9,
        "weather": "sun",
        "wind": 6.1
       },
       {
        "Date new": "2013-03-18T00:00:00",
        "precipitation": 0,
        "temp_max": 11.7,
        "temp_min": 3.9,
        "weather": "rain",
        "wind": 5.9
       },
       {
        "Date new": "2013-03-19T00:00:00",
        "precipitation": 11.7,
        "temp_max": 12.8,
        "temp_min": 1.7,
        "weather": "rain",
        "wind": 3.4
       },
       {
        "Date new": "2013-03-20T00:00:00",
        "precipitation": 9.9,
        "temp_max": 11.1,
        "temp_min": 4.4,
        "weather": "rain",
        "wind": 7.6
       },
       {
        "Date new": "2013-03-21T00:00:00",
        "precipitation": 8.1,
        "temp_max": 10,
        "temp_min": 2.2,
        "weather": "snow",
        "wind": 4.9
       },
       {
        "Date new": "2013-03-22T00:00:00",
        "precipitation": 0,
        "temp_max": 9.4,
        "temp_min": 0.6,
        "weather": "sun",
        "wind": 2.2
       },
       {
        "Date new": "2013-03-23T00:00:00",
        "precipitation": 0,
        "temp_max": 10,
        "temp_min": 1.1,
        "weather": "sun",
        "wind": 2.6
       },
       {
        "Date new": "2013-03-24T00:00:00",
        "precipitation": 0,
        "temp_max": 12.2,
        "temp_min": 0.6,
        "weather": "sun",
        "wind": 2.1
       },
       {
        "Date new": "2013-03-25T00:00:00",
        "precipitation": 0,
        "temp_max": 16.7,
        "temp_min": 4.4,
        "weather": "sun",
        "wind": 2.8
       },
       {
        "Date new": "2013-03-26T00:00:00",
        "precipitation": 0,
        "temp_max": 16.7,
        "temp_min": 6.1,
        "weather": "sun",
        "wind": 1.7
       },
       {
        "Date new": "2013-03-27T00:00:00",
        "precipitation": 0.3,
        "temp_max": 13.3,
        "temp_min": 7.2,
        "weather": "rain",
        "wind": 1.6
       },
       {
        "Date new": "2013-03-28T00:00:00",
        "precipitation": 2,
        "temp_max": 16.1,
        "temp_min": 8.3,
        "weather": "rain",
        "wind": 1.3
       },
       {
        "Date new": "2013-03-29T00:00:00",
        "precipitation": 0,
        "temp_max": 18.3,
        "temp_min": 7.8,
        "weather": "rain",
        "wind": 2.5
       },
       {
        "Date new": "2013-03-30T00:00:00",
        "precipitation": 0,
        "temp_max": 20,
        "temp_min": 5.6,
        "weather": "drizzle",
        "wind": 4.4
       },
       {
        "Date new": "2013-03-31T00:00:00",
        "precipitation": 0,
        "temp_max": 20.6,
        "temp_min": 6.7,
        "weather": "sun",
        "wind": 2.9
       },
       {
        "Date new": "2013-04-01T00:00:00",
        "precipitation": 0,
        "temp_max": 17.2,
        "temp_min": 8.3,
        "weather": "sun",
        "wind": 3.6
       },
       {
        "Date new": "2013-04-02T00:00:00",
        "precipitation": 0,
        "temp_max": 13.9,
        "temp_min": 8.9,
        "weather": "sun",
        "wind": 2.2
       },
       {
        "Date new": "2013-04-03T00:00:00",
        "precipitation": 0,
        "temp_max": 16.7,
        "temp_min": 7.8,
        "weather": "sun",
        "wind": 1.6
       },
       {
        "Date new": "2013-04-04T00:00:00",
        "precipitation": 8.4,
        "temp_max": 14.4,
        "temp_min": 10,
        "weather": "fog",
        "wind": 3
       },
       {
        "Date new": "2013-04-05T00:00:00",
        "precipitation": 18.5,
        "temp_max": 13.9,
        "temp_min": 10,
        "weather": "fog",
        "wind": 5.6
       },
       {
        "Date new": "2013-04-06T00:00:00",
        "precipitation": 12.7,
        "temp_max": 12.2,
        "temp_min": 7.2,
        "weather": "fog",
        "wind": 5
       },
       {
        "Date new": "2013-04-07T00:00:00",
        "precipitation": 39.1,
        "temp_max": 8.3,
        "temp_min": 5,
        "weather": "fog",
        "wind": 3.9
       },
       {
        "Date new": "2013-04-08T00:00:00",
        "precipitation": 0.8,
        "temp_max": 13.3,
        "temp_min": 6.1,
        "weather": "fog",
        "wind": 3.1
       },
       {
        "Date new": "2013-04-09T00:00:00",
        "precipitation": 0,
        "temp_max": 12.2,
        "temp_min": 6.1,
        "weather": "sun",
        "wind": 2.4
       },
       {
        "Date new": "2013-04-10T00:00:00",
        "precipitation": 9.4,
        "temp_max": 15,
        "temp_min": 8.9,
        "weather": "sun",
        "wind": 6.4
       },
       {
        "Date new": "2013-04-11T00:00:00",
        "precipitation": 1.5,
        "temp_max": 12.2,
        "temp_min": 6.7,
        "weather": "fog",
        "wind": 3.8
       },
       {
        "Date new": "2013-04-12T00:00:00",
        "precipitation": 9.7,
        "temp_max": 7.8,
        "temp_min": 4.4,
        "weather": "fog",
        "wind": 4.6
       },
       {
        "Date new": "2013-04-13T00:00:00",
        "precipitation": 9.4,
        "temp_max": 10.6,
        "temp_min": 3.3,
        "weather": "fog",
        "wind": 5.7
       },
       {
        "Date new": "2013-04-14T00:00:00",
        "precipitation": 5.8,
        "temp_max": 12.8,
        "temp_min": 4.4,
        "weather": "fog",
        "wind": 2.3
       },
       {
        "Date new": "2013-04-15T00:00:00",
        "precipitation": 0,
        "temp_max": 13.9,
        "temp_min": 4.4,
        "weather": "fog",
        "wind": 2.4
       },
       {
        "Date new": "2013-04-16T00:00:00",
        "precipitation": 0.3,
        "temp_max": 13.9,
        "temp_min": 3.3,
        "weather": "sun",
        "wind": 2.6
       },
       {
        "Date new": "2013-04-17T00:00:00",
        "precipitation": 0,
        "temp_max": 15,
        "temp_min": 3.9,
        "weather": "drizzle",
        "wind": 3.3
       },
       {
        "Date new": "2013-04-18T00:00:00",
        "precipitation": 5.3,
        "temp_max": 11.7,
        "temp_min": 6.7,
        "weather": "fog",
        "wind": 4
       },
       {
        "Date new": "2013-04-19T00:00:00",
        "precipitation": 20.6,
        "temp_max": 13.3,
        "temp_min": 9.4,
        "weather": "fog",
        "wind": 4.9
       },
       {
        "Date new": "2013-04-20T00:00:00",
        "precipitation": 0,
        "temp_max": 13.9,
        "temp_min": 8.3,
        "weather": "sun",
        "wind": 5.8
       },
       {
        "Date new": "2013-04-21T00:00:00",
        "precipitation": 3.3,
        "temp_max": 12.2,
        "temp_min": 6.7,
        "weather": "sun",
        "wind": 4.1
       },
       {
        "Date new": "2013-04-22T00:00:00",
        "precipitation": 0,
        "temp_max": 16.1,
        "temp_min": 5,
        "weather": "sun",
        "wind": 4.3
       },
       {
        "Date new": "2013-04-23T00:00:00",
        "precipitation": 0,
        "temp_max": 17.8,
        "temp_min": 3.9,
        "weather": "sun",
        "wind": 2.8
       },
       {
        "Date new": "2013-04-24T00:00:00",
        "precipitation": 0,
        "temp_max": 21.1,
        "temp_min": 6.1,
        "weather": "sun",
        "wind": 3
       },
       {
        "Date new": "2013-04-25T00:00:00",
        "precipitation": 0,
        "temp_max": 21.7,
        "temp_min": 6.7,
        "weather": "sun",
        "wind": 1.1
       },
       {
        "Date new": "2013-04-26T00:00:00",
        "precipitation": 0,
        "temp_max": 20.6,
        "temp_min": 8.3,
        "weather": "fog",
        "wind": 2.2
       },
       {
        "Date new": "2013-04-27T00:00:00",
        "precipitation": 0,
        "temp_max": 13.9,
        "temp_min": 10.6,
        "weather": "sun",
        "wind": 5.9
       },
       {
        "Date new": "2013-04-28T00:00:00",
        "precipitation": 1,
        "temp_max": 15,
        "temp_min": 9.4,
        "weather": "drizzle",
        "wind": 5.2
       },
       {
        "Date new": "2013-04-29T00:00:00",
        "precipitation": 3.8,
        "temp_max": 13.9,
        "temp_min": 6.7,
        "weather": "fog",
        "wind": 4.2
       },
       {
        "Date new": "2013-04-30T00:00:00",
        "precipitation": 0,
        "temp_max": 12.8,
        "temp_min": 4.4,
        "weather": "sun",
        "wind": 2.4
       },
       {
        "Date new": "2013-05-01T00:00:00",
        "precipitation": 0,
        "temp_max": 18.3,
        "temp_min": 3.3,
        "weather": "sun",
        "wind": 3.1
       },
       {
        "Date new": "2013-05-02T00:00:00",
        "precipitation": 0,
        "temp_max": 20.6,
        "temp_min": 6.7,
        "weather": "sun",
        "wind": 4
       },
       {
        "Date new": "2013-05-03T00:00:00",
        "precipitation": 0,
        "temp_max": 21.7,
        "temp_min": 9.4,
        "weather": "sun",
        "wind": 4.9
       },
       {
        "Date new": "2013-05-04T00:00:00",
        "precipitation": 0,
        "temp_max": 25,
        "temp_min": 11.1,
        "weather": "sun",
        "wind": 6.5
       },
       {
        "Date new": "2013-05-05T00:00:00",
        "precipitation": 0,
        "temp_max": 28.9,
        "temp_min": 11.7,
        "weather": "sun",
        "wind": 5.3
       },
       {
        "Date new": "2013-05-06T00:00:00",
        "precipitation": 0,
        "temp_max": 30.6,
        "temp_min": 12.2,
        "weather": "sun",
        "wind": 2
       },
       {
        "Date new": "2013-05-07T00:00:00",
        "precipitation": 0,
        "temp_max": 20.6,
        "temp_min": 11.1,
        "weather": "sun",
        "wind": 3.3
       },
       {
        "Date new": "2013-05-08T00:00:00",
        "precipitation": 0,
        "temp_max": 19.4,
        "temp_min": 11.1,
        "weather": "sun",
        "wind": 1.9
       },
       {
        "Date new": "2013-05-09T00:00:00",
        "precipitation": 0,
        "temp_max": 22.8,
        "temp_min": 10,
        "weather": "sun",
        "wind": 1.3
       },
       {
        "Date new": "2013-05-10T00:00:00",
        "precipitation": 0,
        "temp_max": 26.1,
        "temp_min": 9.4,
        "weather": "sun",
        "wind": 1
       },
       {
        "Date new": "2013-05-11T00:00:00",
        "precipitation": 0,
        "temp_max": 27.2,
        "temp_min": 12.2,
        "weather": "sun",
        "wind": 2.6
       },
       {
        "Date new": "2013-05-12T00:00:00",
        "precipitation": 6.6,
        "temp_max": 21.7,
        "temp_min": 13.9,
        "weather": "fog",
        "wind": 3.9
       },
       {
        "Date new": "2013-05-13T00:00:00",
        "precipitation": 3.3,
        "temp_max": 18.9,
        "temp_min": 9.4,
        "weather": "sun",
        "wind": 5
       },
       {
        "Date new": "2013-05-14T00:00:00",
        "precipitation": 0,
        "temp_max": 18.3,
        "temp_min": 7.8,
        "weather": "sun",
        "wind": 2.4
       },
       {
        "Date new": "2013-05-15T00:00:00",
        "precipitation": 1,
        "temp_max": 17.2,
        "temp_min": 8.9,
        "weather": "fog",
        "wind": 2.3
       },
       {
        "Date new": "2013-05-16T00:00:00",
        "precipitation": 0,
        "temp_max": 21.7,
        "temp_min": 12.2,
        "weather": "fog",
        "wind": 2.7
       },
       {
        "Date new": "2013-05-17T00:00:00",
        "precipitation": 0.5,
        "temp_max": 17.2,
        "temp_min": 11.7,
        "weather": "sun",
        "wind": 3.7
       },
       {
        "Date new": "2013-05-18T00:00:00",
        "precipitation": 0,
        "temp_max": 16.7,
        "temp_min": 11.1,
        "weather": "sun",
        "wind": 2.9
       },
       {
        "Date new": "2013-05-19T00:00:00",
        "precipitation": 0,
        "temp_max": 18.3,
        "temp_min": 10.6,
        "weather": "sun",
        "wind": 2.3
       },
       {
        "Date new": "2013-05-20T00:00:00",
        "precipitation": 0,
        "temp_max": 19.4,
        "temp_min": 9.4,
        "weather": "sun",
        "wind": 1.8
       },
       {
        "Date new": "2013-05-21T00:00:00",
        "precipitation": 13.7,
        "temp_max": 15.6,
        "temp_min": 8.3,
        "weather": "fog",
        "wind": 4.8
       },
       {
        "Date new": "2013-05-22T00:00:00",
        "precipitation": 13.7,
        "temp_max": 11.1,
        "temp_min": 7.2,
        "weather": "fog",
        "wind": 3
       },
       {
        "Date new": "2013-05-23T00:00:00",
        "precipitation": 4.1,
        "temp_max": 12.2,
        "temp_min": 6.7,
        "weather": "fog",
        "wind": 1.9
       },
       {
        "Date new": "2013-05-24T00:00:00",
        "precipitation": 0.3,
        "temp_max": 16.7,
        "temp_min": 8.9,
        "weather": "sun",
        "wind": 2.7
       },
       {
        "Date new": "2013-05-25T00:00:00",
        "precipitation": 0,
        "temp_max": 17.8,
        "temp_min": 10,
        "weather": "sun",
        "wind": 2.7
       },
       {
        "Date new": "2013-05-26T00:00:00",
        "precipitation": 1.5,
        "temp_max": 18.3,
        "temp_min": 10.6,
        "weather": "fog",
        "wind": 2.2
       },
       {
        "Date new": "2013-05-27T00:00:00",
        "precipitation": 9.7,
        "temp_max": 16.7,
        "temp_min": 11.1,
        "weather": "fog",
        "wind": 3.1
       },
       {
        "Date new": "2013-05-28T00:00:00",
        "precipitation": 0.5,
        "temp_max": 17.2,
        "temp_min": 11.7,
        "weather": "fog",
        "wind": 2.8
       },
       {
        "Date new": "2013-05-29T00:00:00",
        "precipitation": 5.6,
        "temp_max": 16.1,
        "temp_min": 9.4,
        "weather": "fog",
        "wind": 4
       },
       {
        "Date new": "2013-05-30T00:00:00",
        "precipitation": 0,
        "temp_max": 16.7,
        "temp_min": 9.4,
        "weather": "sun",
        "wind": 5.3
       },
       {
        "Date new": "2013-05-31T00:00:00",
        "precipitation": 0,
        "temp_max": 19.4,
        "temp_min": 11.1,
        "weather": "sun",
        "wind": 2.5
       },
       {
        "Date new": "2013-06-01T00:00:00",
        "precipitation": 0,
        "temp_max": 22.8,
        "temp_min": 12.2,
        "weather": "sun",
        "wind": 2.5
       },
       {
        "Date new": "2013-06-02T00:00:00",
        "precipitation": 1,
        "temp_max": 20.6,
        "temp_min": 12.2,
        "weather": "sun",
        "wind": 3.1
       },
       {
        "Date new": "2013-06-03T00:00:00",
        "precipitation": 0,
        "temp_max": 22.2,
        "temp_min": 11.1,
        "weather": "sun",
        "wind": 2.9
       },
       {
        "Date new": "2013-06-04T00:00:00",
        "precipitation": 0,
        "temp_max": 26.1,
        "temp_min": 12.2,
        "weather": "sun",
        "wind": 3.4
       },
       {
        "Date new": "2013-06-05T00:00:00",
        "precipitation": 0,
        "temp_max": 26.7,
        "temp_min": 14.4,
        "weather": "sun",
        "wind": 3.1
       },
       {
        "Date new": "2013-06-06T00:00:00",
        "precipitation": 0,
        "temp_max": 26.7,
        "temp_min": 12.2,
        "weather": "sun",
        "wind": 2.5
       },
       {
        "Date new": "2013-06-07T00:00:00",
        "precipitation": 0,
        "temp_max": 21.7,
        "temp_min": 13.3,
        "weather": "sun",
        "wind": 3.2
       },
       {
        "Date new": "2013-06-08T00:00:00",
        "precipitation": 0,
        "temp_max": 20.6,
        "temp_min": 12.8,
        "weather": "sun",
        "wind": 3.1
       },
       {
        "Date new": "2013-06-09T00:00:00",
        "precipitation": 0,
        "temp_max": 20.6,
        "temp_min": 11.1,
        "weather": "sun",
        "wind": 3.7
       },
       {
        "Date new": "2013-06-10T00:00:00",
        "precipitation": 0,
        "temp_max": 21.7,
        "temp_min": 11.7,
        "weather": "sun",
        "wind": 3.2
       },
       {
        "Date new": "2013-06-11T00:00:00",
        "precipitation": 0,
        "temp_max": 20,
        "temp_min": 10,
        "weather": "sun",
        "wind": 5.7
       },
       {
        "Date new": "2013-06-12T00:00:00",
        "precipitation": 0.3,
        "temp_max": 20.6,
        "temp_min": 11.7,
        "weather": "sun",
        "wind": 4.2
       },
       {
        "Date new": "2013-06-13T00:00:00",
        "precipitation": 0,
        "temp_max": 21.1,
        "temp_min": 11.7,
        "weather": "sun",
        "wind": 2.6
       },
       {
        "Date new": "2013-06-14T00:00:00",
        "precipitation": 0,
        "temp_max": 20,
        "temp_min": 12.2,
        "weather": "sun",
        "wind": 3.7
       },
       {
        "Date new": "2013-06-15T00:00:00",
        "precipitation": 0,
        "temp_max": 25.6,
        "temp_min": 10,
        "weather": "sun",
        "wind": 2.9
       },
       {
        "Date new": "2013-06-16T00:00:00",
        "precipitation": 0,
        "temp_max": 23.9,
        "temp_min": 12.8,
        "weather": "sun",
        "wind": 3.4
       },
       {
        "Date new": "2013-06-17T00:00:00",
        "precipitation": 0,
        "temp_max": 25.6,
        "temp_min": 13.9,
        "weather": "sun",
        "wind": 3
       },
       {
        "Date new": "2013-06-18T00:00:00",
        "precipitation": 0.3,
        "temp_max": 23.3,
        "temp_min": 13.3,
        "weather": "fog",
        "wind": 3.4
       },
       {
        "Date new": "2013-06-19T00:00:00",
        "precipitation": 0,
        "temp_max": 20,
        "temp_min": 12.8,
        "weather": "sun",
        "wind": 3.7
       },
       {
        "Date new": "2013-06-20T00:00:00",
        "precipitation": 3,
        "temp_max": 17.2,
        "temp_min": 12.8,
        "weather": "sun",
        "wind": 5
       },
       {
        "Date new": "2013-06-21T00:00:00",
        "precipitation": 0.3,
        "temp_max": 20.6,
        "temp_min": 12.2,
        "weather": "sun",
        "wind": 1.5
       },
       {
        "Date new": "2013-06-22T00:00:00",
        "precipitation": 0,
        "temp_max": 25.6,
        "temp_min": 11.7,
        "weather": "sun",
        "wind": 1.7
       },
       {
        "Date new": "2013-06-23T00:00:00",
        "precipitation": 7.9,
        "temp_max": 22.2,
        "temp_min": 15,
        "weather": "fog",
        "wind": 2.1
       },
       {
        "Date new": "2013-06-24T00:00:00",
        "precipitation": 4.8,
        "temp_max": 21.1,
        "temp_min": 13.9,
        "weather": "fog",
        "wind": 3.7
       },
       {
        "Date new": "2013-06-25T00:00:00",
        "precipitation": 9.9,
        "temp_max": 23.3,
        "temp_min": 14.4,
        "weather": "sun",
        "wind": 2.8
       },
       {
        "Date new": "2013-06-26T00:00:00",
        "precipitation": 2,
        "temp_max": 22.2,
        "temp_min": 15,
        "weather": "fog",
        "wind": 2.3
       },
       {
        "Date new": "2013-06-27T00:00:00",
        "precipitation": 3.6,
        "temp_max": 21.1,
        "temp_min": 16.7,
        "weather": "fog",
        "wind": 1.3
       },
       {
        "Date new": "2013-06-28T00:00:00",
        "precipitation": 0,
        "temp_max": 30.6,
        "temp_min": 16.1,
        "weather": "sun",
        "wind": 2.2
       },
       {
        "Date new": "2013-06-29T00:00:00",
        "precipitation": 0,
        "temp_max": 30,
        "temp_min": 18.3,
        "weather": "sun",
        "wind": 1.7
       },
       {
        "Date new": "2013-06-30T00:00:00",
        "precipitation": 0,
        "temp_max": 33.9,
        "temp_min": 17.2,
        "weather": "sun",
        "wind": 2.5
       },
       {
        "Date new": "2013-07-01T00:00:00",
        "precipitation": 0,
        "temp_max": 31.7,
        "temp_min": 18.3,
        "weather": "sun",
        "wind": 2.3
       },
       {
        "Date new": "2013-07-02T00:00:00",
        "precipitation": 0,
        "temp_max": 28.3,
        "temp_min": 15.6,
        "weather": "sun",
        "wind": 3
       },
       {
        "Date new": "2013-07-03T00:00:00",
        "precipitation": 0,
        "temp_max": 26.1,
        "temp_min": 16.7,
        "weather": "sun",
        "wind": 3.2
       },
       {
        "Date new": "2013-07-04T00:00:00",
        "precipitation": 0,
        "temp_max": 21.7,
        "temp_min": 13.9,
        "weather": "fog",
        "wind": 2.2
       },
       {
        "Date new": "2013-07-05T00:00:00",
        "precipitation": 0,
        "temp_max": 23.3,
        "temp_min": 13.9,
        "weather": "sun",
        "wind": 2.6
       },
       {
        "Date new": "2013-07-06T00:00:00",
        "precipitation": 0,
        "temp_max": 26.1,
        "temp_min": 13.3,
        "weather": "sun",
        "wind": 2.2
       },
       {
        "Date new": "2013-07-07T00:00:00",
        "precipitation": 0,
        "temp_max": 23.9,
        "temp_min": 13.9,
        "weather": "sun",
        "wind": 2.9
       },
       {
        "Date new": "2013-07-08T00:00:00",
        "precipitation": 0,
        "temp_max": 26.7,
        "temp_min": 13.3,
        "weather": "sun",
        "wind": 2.8
       },
       {
        "Date new": "2013-07-09T00:00:00",
        "precipitation": 0,
        "temp_max": 30,
        "temp_min": 15,
        "weather": "sun",
        "wind": 2.5
       },
       {
        "Date new": "2013-07-10T00:00:00",
        "precipitation": 0,
        "temp_max": 22.2,
        "temp_min": 13.9,
        "weather": "sun",
        "wind": 2.6
       },
       {
        "Date new": "2013-07-11T00:00:00",
        "precipitation": 0,
        "temp_max": 22.8,
        "temp_min": 12.2,
        "weather": "sun",
        "wind": 3
       },
       {
        "Date new": "2013-07-12T00:00:00",
        "precipitation": 0,
        "temp_max": 19.4,
        "temp_min": 13.3,
        "weather": "sun",
        "wind": 2.2
       },
       {
        "Date new": "2013-07-13T00:00:00",
        "precipitation": 0,
        "temp_max": 26.1,
        "temp_min": 11.1,
        "weather": "sun",
        "wind": 3.1
       },
       {
        "Date new": "2013-07-14T00:00:00",
        "precipitation": 0,
        "temp_max": 27.8,
        "temp_min": 12.8,
        "weather": "sun",
        "wind": 3
       },
       {
        "Date new": "2013-07-15T00:00:00",
        "precipitation": 0,
        "temp_max": 27.8,
        "temp_min": 14.4,
        "weather": "sun",
        "wind": 4.6
       },
       {
        "Date new": "2013-07-16T00:00:00",
        "precipitation": 0,
        "temp_max": 31.1,
        "temp_min": 18.3,
        "weather": "sun",
        "wind": 4.1
       },
       {
        "Date new": "2013-07-17T00:00:00",
        "precipitation": 0,
        "temp_max": 22.2,
        "temp_min": 15,
        "weather": "rain",
        "wind": 3.7
       },
       {
        "Date new": "2013-07-18T00:00:00",
        "precipitation": 0,
        "temp_max": 26.1,
        "temp_min": 13.9,
        "weather": "sun",
        "wind": 2
       },
       {
        "Date new": "2013-07-19T00:00:00",
        "precipitation": 0,
        "temp_max": 27.8,
        "temp_min": 13.3,
        "weather": "sun",
        "wind": 1.9
       },
       {
        "Date new": "2013-07-20T00:00:00",
        "precipitation": 0,
        "temp_max": 25,
        "temp_min": 13.3,
        "weather": "sun",
        "wind": 2
       },
       {
        "Date new": "2013-07-21T00:00:00",
        "precipitation": 0,
        "temp_max": 23.9,
        "temp_min": 12.8,
        "weather": "sun",
        "wind": 2.3
       },
       {
        "Date new": "2013-07-22T00:00:00",
        "precipitation": 0,
        "temp_max": 26.1,
        "temp_min": 13.3,
        "weather": "fog",
        "wind": 2.4
       },
       {
        "Date new": "2013-07-23T00:00:00",
        "precipitation": 0,
        "temp_max": 31.1,
        "temp_min": 13.9,
        "weather": "sun",
        "wind": 3
       },
       {
        "Date new": "2013-07-24T00:00:00",
        "precipitation": 0,
        "temp_max": 31.1,
        "temp_min": 14.4,
        "weather": "sun",
        "wind": 2.5
       },
       {
        "Date new": "2013-07-25T00:00:00",
        "precipitation": 0,
        "temp_max": 31.1,
        "temp_min": 12.8,
        "weather": "sun",
        "wind": 2.3
       },
       {
        "Date new": "2013-07-26T00:00:00",
        "precipitation": 0,
        "temp_max": 31.1,
        "temp_min": 14.4,
        "weather": "sun",
        "wind": 2.9
       },
       {
        "Date new": "2013-07-27T00:00:00",
        "precipitation": 0,
        "temp_max": 25.6,
        "temp_min": 12.8,
        "weather": "sun",
        "wind": 2.6
       },
       {
        "Date new": "2013-07-28T00:00:00",
        "precipitation": 0,
        "temp_max": 21.1,
        "temp_min": 12.2,
        "weather": "fog",
        "wind": 3.4
       },
       {
        "Date new": "2013-07-29T00:00:00",
        "precipitation": 0,
        "temp_max": 25,
        "temp_min": 13.3,
        "weather": "sun",
        "wind": 1.4
       },
       {
        "Date new": "2013-07-30T00:00:00",
        "precipitation": 0,
        "temp_max": 25,
        "temp_min": 13.3,
        "weather": "sun",
        "wind": 2.8
       },
       {
        "Date new": "2013-07-31T00:00:00",
        "precipitation": 0,
        "temp_max": 21.7,
        "temp_min": 13.3,
        "weather": "sun",
        "wind": 1.8
       },
       {
        "Date new": "2013-08-01T00:00:00",
        "precipitation": 0,
        "temp_max": 20.6,
        "temp_min": 13.3,
        "weather": "sun",
        "wind": 3.9
       },
       {
        "Date new": "2013-08-02T00:00:00",
        "precipitation": 2,
        "temp_max": 17.2,
        "temp_min": 15,
        "weather": "sun",
        "wind": 2
       },
       {
        "Date new": "2013-08-03T00:00:00",
        "precipitation": 0,
        "temp_max": 25,
        "temp_min": 15.6,
        "weather": "fog",
        "wind": 2.4
       },
       {
        "Date new": "2013-08-04T00:00:00",
        "precipitation": 0,
        "temp_max": 28.9,
        "temp_min": 15,
        "weather": "sun",
        "wind": 3.4
       },
       {
        "Date new": "2013-08-05T00:00:00",
        "precipitation": 0,
        "temp_max": 30,
        "temp_min": 15,
        "weather": "sun",
        "wind": 2.1
       },
       {
        "Date new": "2013-08-06T00:00:00",
        "precipitation": 0,
        "temp_max": 30.6,
        "temp_min": 13.9,
        "weather": "sun",
        "wind": 1.4
       },
       {
        "Date new": "2013-08-07T00:00:00",
        "precipitation": 0,
        "temp_max": 31.1,
        "temp_min": 13.9,
        "weather": "sun",
        "wind": 1.9
       },
       {
        "Date new": "2013-08-08T00:00:00",
        "precipitation": 0,
        "temp_max": 28.3,
        "temp_min": 14.4,
        "weather": "sun",
        "wind": 2.5
       },
       {
        "Date new": "2013-08-09T00:00:00",
        "precipitation": 0,
        "temp_max": 28.3,
        "temp_min": 14.4,
        "weather": "rain",
        "wind": 2.1
       },
       {
        "Date new": "2013-08-10T00:00:00",
        "precipitation": 2.3,
        "temp_max": 25.6,
        "temp_min": 15,
        "weather": "sun",
        "wind": 2.9
       },
       {
        "Date new": "2013-08-11T00:00:00",
        "precipitation": 0,
        "temp_max": 25,
        "temp_min": 14.4,
        "weather": "sun",
        "wind": 2.9
       },
       {
        "Date new": "2013-08-12T00:00:00",
        "precipitation": 0,
        "temp_max": 25.6,
        "temp_min": 16.1,
        "weather": "sun",
        "wind": 1.9
       },
       {
        "Date new": "2013-08-13T00:00:00",
        "precipitation": 0,
        "temp_max": 27.8,
        "temp_min": 15,
        "weather": "sun",
        "wind": 1.8
       },
       {
        "Date new": "2013-08-14T00:00:00",
        "precipitation": 0.8,
        "temp_max": 27.2,
        "temp_min": 15,
        "weather": "sun",
        "wind": 2
       },
       {
        "Date new": "2013-08-15T00:00:00",
        "precipitation": 1.8,
        "temp_max": 21.1,
        "temp_min": 17.2,
        "weather": "sun",
        "wind": 1
       },
       {
        "Date new": "2013-08-16T00:00:00",
        "precipitation": 0,
        "temp_max": 28.9,
        "temp_min": 16.1,
        "weather": "fog",
        "wind": 2.2
       },
       {
        "Date new": "2013-08-17T00:00:00",
        "precipitation": 0,
        "temp_max": 25.6,
        "temp_min": 17.2,
        "weather": "sun",
        "wind": 3
       },
       {
        "Date new": "2013-08-18T00:00:00",
        "precipitation": 0,
        "temp_max": 26.1,
        "temp_min": 15.6,
        "weather": "sun",
        "wind": 3.1
       },
       {
        "Date new": "2013-08-19T00:00:00",
        "precipitation": 0,
        "temp_max": 26.7,
        "temp_min": 15.6,
        "weather": "sun",
        "wind": 3
       },
       {
        "Date new": "2013-08-20T00:00:00",
        "precipitation": 0,
        "temp_max": 25.6,
        "temp_min": 16.1,
        "weather": "sun",
        "wind": 4.6
       },
       {
        "Date new": "2013-08-21T00:00:00",
        "precipitation": 0,
        "temp_max": 27.8,
        "temp_min": 15,
        "weather": "sun",
        "wind": 4.3
       },
       {
        "Date new": "2013-08-22T00:00:00",
        "precipitation": 0,
        "temp_max": 28.9,
        "temp_min": 15,
        "weather": "sun",
        "wind": 1.9
       },
       {
        "Date new": "2013-08-23T00:00:00",
        "precipitation": 0,
        "temp_max": 25,
        "temp_min": 16.1,
        "weather": "sun",
        "wind": 4.1
       },
       {
        "Date new": "2013-08-24T00:00:00",
        "precipitation": 0,
        "temp_max": 25,
        "temp_min": 16.7,
        "weather": "sun",
        "wind": 2.7
       },
       {
        "Date new": "2013-08-25T00:00:00",
        "precipitation": 0.3,
        "temp_max": 22.2,
        "temp_min": 16.1,
        "weather": "sun",
        "wind": 2.6
       },
       {
        "Date new": "2013-08-26T00:00:00",
        "precipitation": 1,
        "temp_max": 24.4,
        "temp_min": 16.1,
        "weather": "sun",
        "wind": 1.9
       },
       {
        "Date new": "2013-08-27T00:00:00",
        "precipitation": 1.3,
        "temp_max": 26.7,
        "temp_min": 17.2,
        "weather": "sun",
        "wind": 1.4
       },
       {
        "Date new": "2013-08-28T00:00:00",
        "precipitation": 5.6,
        "temp_max": 26.7,
        "temp_min": 15.6,
        "weather": "fog",
        "wind": 1.3
       },
       {
        "Date new": "2013-08-29T00:00:00",
        "precipitation": 19.3,
        "temp_max": 23.9,
        "temp_min": 18.3,
        "weather": "sun",
        "wind": 3
       },
       {
        "Date new": "2013-08-30T00:00:00",
        "precipitation": 0,
        "temp_max": 26.1,
        "temp_min": 16.1,
        "weather": "sun",
        "wind": 2.9
       },
       {
        "Date new": "2013-08-31T00:00:00",
        "precipitation": 0,
        "temp_max": 27.8,
        "temp_min": 13.9,
        "weather": "sun",
        "wind": 2.6
       },
       {
        "Date new": "2013-09-01T00:00:00",
        "precipitation": 0,
        "temp_max": 27.8,
        "temp_min": 15.6,
        "weather": "sun",
        "wind": 2.5
       },
       {
        "Date new": "2013-09-02T00:00:00",
        "precipitation": 0,
        "temp_max": 27.8,
        "temp_min": 17.2,
        "weather": "sun",
        "wind": 2.1
       },
       {
        "Date new": "2013-09-03T00:00:00",
        "precipitation": 2.3,
        "temp_max": 25,
        "temp_min": 16.7,
        "weather": "fog",
        "wind": 1.7
       },
       {
        "Date new": "2013-09-04T00:00:00",
        "precipitation": 0.3,
        "temp_max": 22.8,
        "temp_min": 16.1,
        "weather": "fog",
        "wind": 2.4
       },
       {
        "Date new": "2013-09-05T00:00:00",
        "precipitation": 27.7,
        "temp_max": 20,
        "temp_min": 15.6,
        "weather": "sun",
        "wind": 2.5
       },
       {
        "Date new": "2013-09-06T00:00:00",
        "precipitation": 21.3,
        "temp_max": 21.7,
        "temp_min": 16.1,
        "weather": "fog",
        "wind": 2.6
       },
       {
        "Date new": "2013-09-07T00:00:00",
        "precipitation": 0,
        "temp_max": 23.3,
        "temp_min": 17.2,
        "weather": "sun",
        "wind": 2
       },
       {
        "Date new": "2013-09-08T00:00:00",
        "precipitation": 0,
        "temp_max": 26.7,
        "temp_min": 14.4,
        "weather": "fog",
        "wind": 1.5
       },
       {
        "Date new": "2013-09-09T00:00:00",
        "precipitation": 0,
        "temp_max": 26.1,
        "temp_min": 13.9,
        "weather": "sun",
        "wind": 2.1
       },
       {
        "Date new": "2013-09-10T00:00:00",
        "precipitation": 0,
        "temp_max": 26.7,
        "temp_min": 15,
        "weather": "sun",
        "wind": 3.7
       },
       {
        "Date new": "2013-09-11T00:00:00",
        "precipitation": 0,
        "temp_max": 33.9,
        "temp_min": 16.1,
        "weather": "sun",
        "wind": 2.4
       },
       {
        "Date new": "2013-09-12T00:00:00",
        "precipitation": 0,
        "temp_max": 25.6,
        "temp_min": 15,
        "weather": "sun",
        "wind": 1.7
       },
       {
        "Date new": "2013-09-13T00:00:00",
        "precipitation": 0,
        "temp_max": 18.9,
        "temp_min": 15.6,
        "weather": "sun",
        "wind": 2
       },
       {
        "Date new": "2013-09-14T00:00:00",
        "precipitation": 0,
        "temp_max": 21.7,
        "temp_min": 15.6,
        "weather": "fog",
        "wind": 1.4
       },
       {
        "Date new": "2013-09-15T00:00:00",
        "precipitation": 3.3,
        "temp_max": 18.9,
        "temp_min": 14.4,
        "weather": "sun",
        "wind": 2.2
       },
       {
        "Date new": "2013-09-16T00:00:00",
        "precipitation": 0.3,
        "temp_max": 21.7,
        "temp_min": 15,
        "weather": "fog",
        "wind": 4.3
       },
       {
        "Date new": "2013-09-17T00:00:00",
        "precipitation": 0,
        "temp_max": 17.8,
        "temp_min": 13.9,
        "weather": "sun",
        "wind": 2.3
       },
       {
        "Date new": "2013-09-18T00:00:00",
        "precipitation": 0,
        "temp_max": 21.1,
        "temp_min": 13.3,
        "weather": "sun",
        "wind": 2.5
       },
       {
        "Date new": "2013-09-19T00:00:00",
        "precipitation": 0,
        "temp_max": 25.6,
        "temp_min": 10,
        "weather": "sun",
        "wind": 1.5
       },
       {
        "Date new": "2013-09-20T00:00:00",
        "precipitation": 3.6,
        "temp_max": 23.3,
        "temp_min": 13.3,
        "weather": "fog",
        "wind": 3
       },
       {
        "Date new": "2013-09-21T00:00:00",
        "precipitation": 0,
        "temp_max": 21.1,
        "temp_min": 13.3,
        "weather": "sun",
        "wind": 2.5
       },
       {
        "Date new": "2013-09-22T00:00:00",
        "precipitation": 13.5,
        "temp_max": 17.2,
        "temp_min": 13.3,
        "weather": "fog",
        "wind": 5.5
       },
       {
        "Date new": "2013-09-23T00:00:00",
        "precipitation": 2.8,
        "temp_max": 16.1,
        "temp_min": 11.1,
        "weather": "fog",
        "wind": 4.5
       },
       {
        "Date new": "2013-09-24T00:00:00",
        "precipitation": 0,
        "temp_max": 17.8,
        "temp_min": 10,
        "weather": "sun",
        "wind": 2.6
       },
       {
        "Date new": "2013-09-25T00:00:00",
        "precipitation": 2,
        "temp_max": 16.1,
        "temp_min": 9.4,
        "weather": "fog",
        "wind": 3
       },
       {
        "Date new": "2013-09-26T00:00:00",
        "precipitation": 0,
        "temp_max": 17.2,
        "temp_min": 7.2,
        "weather": "sun",
        "wind": 2.2
       },
       {
        "Date new": "2013-09-27T00:00:00",
        "precipitation": 1,
        "temp_max": 13.9,
        "temp_min": 10.6,
        "weather": "fog",
        "wind": 4.3
       },
       {
        "Date new": "2013-09-28T00:00:00",
        "precipitation": 43.4,
        "temp_max": 16.7,
        "temp_min": 11.7,
        "weather": "fog",
        "wind": 6
       },
       {
        "Date new": "2013-09-29T00:00:00",
        "precipitation": 16.8,
        "temp_max": 14.4,
        "temp_min": 11.1,
        "weather": "sun",
        "wind": 7.1
       },
       {
        "Date new": "2013-09-30T00:00:00",
        "precipitation": 18.5,
        "temp_max": 13.9,
        "temp_min": 10,
        "weather": "fog",
        "wind": 6.3
       },
       {
        "Date new": "2013-10-01T00:00:00",
        "precipitation": 7.9,
        "temp_max": 14.4,
        "temp_min": 8.9,
        "weather": "fog",
        "wind": 4.7
       },
       {
        "Date new": "2013-10-02T00:00:00",
        "precipitation": 5.3,
        "temp_max": 12.8,
        "temp_min": 9.4,
        "weather": "fog",
        "wind": 2.4
       },
       {
        "Date new": "2013-10-03T00:00:00",
        "precipitation": 0.8,
        "temp_max": 14.4,
        "temp_min": 8.9,
        "weather": "fog",
        "wind": 0.9
       },
       {
        "Date new": "2013-10-04T00:00:00",
        "precipitation": 0,
        "temp_max": 17.8,
        "temp_min": 5.6,
        "weather": "sun",
        "wind": 1.1
       },
       {
        "Date new": "2013-10-05T00:00:00",
        "precipitation": 0,
        "temp_max": 20,
        "temp_min": 8.3,
        "weather": "sun",
        "wind": 1.6
       },
       {
        "Date new": "2013-10-06T00:00:00",
        "precipitation": 4.1,
        "temp_max": 22.8,
        "temp_min": 7.8,
        "weather": "fog",
        "wind": 2.6
       },
       {
        "Date new": "2013-10-07T00:00:00",
        "precipitation": 0.5,
        "temp_max": 16.1,
        "temp_min": 11.7,
        "weather": "fog",
        "wind": 6.3
       },
       {
        "Date new": "2013-10-08T00:00:00",
        "precipitation": 6.9,
        "temp_max": 13.9,
        "temp_min": 7.8,
        "weather": "rain",
        "wind": 3
       },
       {
        "Date new": "2013-10-09T00:00:00",
        "precipitation": 0,
        "temp_max": 15,
        "temp_min": 5.6,
        "weather": "sun",
        "wind": 1.6
       },
       {
        "Date new": "2013-10-10T00:00:00",
        "precipitation": 1,
        "temp_max": 14.4,
        "temp_min": 8.3,
        "weather": "fog",
        "wind": 1.7
       },
       {
        "Date new": "2013-10-11T00:00:00",
        "precipitation": 9.1,
        "temp_max": 13.9,
        "temp_min": 10.6,
        "weather": "sun",
        "wind": 1
       },
       {
        "Date new": "2013-10-12T00:00:00",
        "precipitation": 1,
        "temp_max": 14.4,
        "temp_min": 8.9,
        "weather": "fog",
        "wind": 2.2
       },
       {
        "Date new": "2013-10-13T00:00:00",
        "precipitation": 0,
        "temp_max": 15,
        "temp_min": 6.7,
        "weather": "fog",
        "wind": 1.8
       },
       {
        "Date new": "2013-10-14T00:00:00",
        "precipitation": 0,
        "temp_max": 15.6,
        "temp_min": 3.9,
        "weather": "sun",
        "wind": 1.6
       },
       {
        "Date new": "2013-10-15T00:00:00",
        "precipitation": 0,
        "temp_max": 15.6,
        "temp_min": 5,
        "weather": "sun",
        "wind": 0.9
       },
       {
        "Date new": "2013-10-16T00:00:00",
        "precipitation": 0,
        "temp_max": 12.8,
        "temp_min": 8.9,
        "weather": "fog",
        "wind": 2.7
       },
       {
        "Date new": "2013-10-17T00:00:00",
        "precipitation": 0,
        "temp_max": 14.4,
        "temp_min": 8.9,
        "weather": "fog",
        "wind": 1.7
       },
       {
        "Date new": "2013-10-18T00:00:00",
        "precipitation": 0,
        "temp_max": 12.8,
        "temp_min": 7.2,
        "weather": "sun",
        "wind": 1.2
       },
       {
        "Date new": "2013-10-19T00:00:00",
        "precipitation": 0,
        "temp_max": 10.6,
        "temp_min": 7.8,
        "weather": "sun",
        "wind": 1.4
       },
       {
        "Date new": "2013-10-20T00:00:00",
        "precipitation": 0,
        "temp_max": 10.6,
        "temp_min": 7.8,
        "weather": "sun",
        "wind": 2.4
       },
       {
        "Date new": "2013-10-21T00:00:00",
        "precipitation": 0,
        "temp_max": 11.7,
        "temp_min": 8.3,
        "weather": "sun",
        "wind": 2.5
       },
       {
        "Date new": "2013-10-22T00:00:00",
        "precipitation": 0,
        "temp_max": 14.4,
        "temp_min": 7.2,
        "weather": "sun",
        "wind": 1.9
       },
       {
        "Date new": "2013-10-23T00:00:00",
        "precipitation": 0,
        "temp_max": 12.8,
        "temp_min": 6.1,
        "weather": "sun",
        "wind": 0.4
       },
       {
        "Date new": "2013-10-24T00:00:00",
        "precipitation": 0,
        "temp_max": 10,
        "temp_min": 6.1,
        "weather": "sun",
        "wind": 0.6
       },
       {
        "Date new": "2013-10-25T00:00:00",
        "precipitation": 0,
        "temp_max": 12.2,
        "temp_min": 7.8,
        "weather": "sun",
        "wind": 1.8
       },
       {
        "Date new": "2013-10-26T00:00:00",
        "precipitation": 0,
        "temp_max": 11.7,
        "temp_min": 8.3,
        "weather": "sun",
        "wind": 2.7
       },
       {
        "Date new": "2013-10-27T00:00:00",
        "precipitation": 1.8,
        "temp_max": 13.9,
        "temp_min": 8.3,
        "weather": "fog",
        "wind": 4.4
       },
       {
        "Date new": "2013-10-28T00:00:00",
        "precipitation": 0,
        "temp_max": 14.4,
        "temp_min": 7.2,
        "weather": "sun",
        "wind": 5.1
       },
       {
        "Date new": "2013-10-29T00:00:00",
        "precipitation": 0,
        "temp_max": 13.3,
        "temp_min": 3.3,
        "weather": "sun",
        "wind": 2.2
       },
       {
        "Date new": "2013-10-30T00:00:00",
        "precipitation": 0.5,
        "temp_max": 15,
        "temp_min": 5.6,
        "weather": "sun",
        "wind": 3.9
       },
       {
        "Date new": "2013-10-31T00:00:00",
        "precipitation": 0.3,
        "temp_max": 14.4,
        "temp_min": 10.6,
        "weather": "fog",
        "wind": 2.2
       },
       {
        "Date new": "2013-11-01T00:00:00",
        "precipitation": 1.3,
        "temp_max": 17.8,
        "temp_min": 11.7,
        "weather": "sun",
        "wind": 1.4
       },
       {
        "Date new": "2013-11-02T00:00:00",
        "precipitation": 12.7,
        "temp_max": 14.4,
        "temp_min": 8.3,
        "weather": "fog",
        "wind": 7.9
       },
       {
        "Date new": "2013-11-03T00:00:00",
        "precipitation": 0.5,
        "temp_max": 12.2,
        "temp_min": 4.4,
        "weather": "sun",
        "wind": 2.4
       },
       {
        "Date new": "2013-11-04T00:00:00",
        "precipitation": 0,
        "temp_max": 10.6,
        "temp_min": 3.9,
        "weather": "drizzle",
        "wind": 1.6
       },
       {
        "Date new": "2013-11-05T00:00:00",
        "precipitation": 2.5,
        "temp_max": 13.3,
        "temp_min": 7.2,
        "weather": "fog",
        "wind": 3.1
       },
       {
        "Date new": "2013-11-06T00:00:00",
        "precipitation": 3.8,
        "temp_max": 12.8,
        "temp_min": 7.8,
        "weather": "sun",
        "wind": 1.7
       },
       {
        "Date new": "2013-11-07T00:00:00",
        "precipitation": 30,
        "temp_max": 11.1,
        "temp_min": 10,
        "weather": "fog",
        "wind": 7.2
       },
       {
        "Date new": "2013-11-08T00:00:00",
        "precipitation": 0,
        "temp_max": 13.3,
        "temp_min": 7.2,
        "weather": "sun",
        "wind": 4.1
       },
       {
        "Date new": "2013-11-09T00:00:00",
        "precipitation": 1.8,
        "temp_max": 11.1,
        "temp_min": 5,
        "weather": "sun",
        "wind": 1.4
       },
       {
        "Date new": "2013-11-10T00:00:00",
        "precipitation": 0,
        "temp_max": 11.1,
        "temp_min": 8.3,
        "weather": "sun",
        "wind": 4.4
       },
       {
        "Date new": "2013-11-11T00:00:00",
        "precipitation": 0,
        "temp_max": 16.1,
        "temp_min": 6.1,
        "weather": "fog",
        "wind": 2.6
       },
       {
        "Date new": "2013-11-12T00:00:00",
        "precipitation": 4.1,
        "temp_max": 15.6,
        "temp_min": 8.9,
        "weather": "fog",
        "wind": 2.2
       },
       {
        "Date new": "2013-11-13T00:00:00",
        "precipitation": 0,
        "temp_max": 13.9,
        "temp_min": 10.6,
        "weather": "sun",
        "wind": 3.8
       },
       {
        "Date new": "2013-11-14T00:00:00",
        "precipitation": 1.3,
        "temp_max": 11.1,
        "temp_min": 6.1,
        "weather": "fog",
        "wind": 1.1
       },
       {
        "Date new": "2013-11-15T00:00:00",
        "precipitation": 3,
        "temp_max": 10.6,
        "temp_min": 7.2,
        "weather": "sun",
        "wind": 6
       },
       {
        "Date new": "2013-11-16T00:00:00",
        "precipitation": 0,
        "temp_max": 10,
        "temp_min": 5,
        "weather": "sun",
        "wind": 4.6
       },
       {
        "Date new": "2013-11-17T00:00:00",
        "precipitation": 5.3,
        "temp_max": 11.7,
        "temp_min": 7.2,
        "weather": "fog",
        "wind": 5.4
       },
       {
        "Date new": "2013-11-18T00:00:00",
        "precipitation": 26.2,
        "temp_max": 12.8,
        "temp_min": 9.4,
        "weather": "fog",
        "wind": 3.9
       },
       {
        "Date new": "2013-11-19T00:00:00",
        "precipitation": 1,
        "temp_max": 13.3,
        "temp_min": 4.4,
        "weather": "fog",
        "wind": 5.1
       },
       {
        "Date new": "2013-11-20T00:00:00",
        "precipitation": 0,
        "temp_max": 7.8,
        "temp_min": 1.7,
        "weather": "sun",
        "wind": 4.3
       },
       {
        "Date new": "2013-11-21T00:00:00",
        "precipitation": 0,
        "temp_max": 7.8,
        "temp_min": -0.5,
        "weather": "sun",
        "wind": 3.6
       },
       {
        "Date new": "2013-11-22T00:00:00",
        "precipitation": 0,
        "temp_max": 9.4,
        "temp_min": 0,
        "weather": "sun",
        "wind": 4.6
       },
       {
        "Date new": "2013-11-23T00:00:00",
        "precipitation": 0,
        "temp_max": 11.1,
        "temp_min": 1.1,
        "weather": "sun",
        "wind": 2.6
       },
       {
        "Date new": "2013-11-24T00:00:00",
        "precipitation": 0,
        "temp_max": 11.7,
        "temp_min": 0.6,
        "weather": "fog",
        "wind": 0.9
       },
       {
        "Date new": "2013-11-25T00:00:00",
        "precipitation": 0,
        "temp_max": 12.2,
        "temp_min": 2.2,
        "weather": "sun",
        "wind": 0.5
       },
       {
        "Date new": "2013-11-26T00:00:00",
        "precipitation": 0,
        "temp_max": 12.2,
        "temp_min": 2.8,
        "weather": "sun",
        "wind": 1
       },
       {
        "Date new": "2013-11-27T00:00:00",
        "precipitation": 0,
        "temp_max": 14.4,
        "temp_min": 5.6,
        "weather": "sun",
        "wind": 1.3
       },
       {
        "Date new": "2013-11-28T00:00:00",
        "precipitation": 0,
        "temp_max": 11.7,
        "temp_min": 3.3,
        "weather": "sun",
        "wind": 0.7
       },
       {
        "Date new": "2013-11-29T00:00:00",
        "precipitation": 0.5,
        "temp_max": 9.4,
        "temp_min": 5,
        "weather": "fog",
        "wind": 2.1
       },
       {
        "Date new": "2013-11-30T00:00:00",
        "precipitation": 2.3,
        "temp_max": 11.1,
        "temp_min": 7.2,
        "weather": "fog",
        "wind": 3.9
       },
       {
        "Date new": "2013-12-01T00:00:00",
        "precipitation": 3,
        "temp_max": 13.3,
        "temp_min": 7.8,
        "weather": "fog",
        "wind": 8.8
       },
       {
        "Date new": "2013-12-02T00:00:00",
        "precipitation": 4.6,
        "temp_max": 7.8,
        "temp_min": 1.7,
        "weather": "sun",
        "wind": 3.5
       },
       {
        "Date new": "2013-12-03T00:00:00",
        "precipitation": 0,
        "temp_max": 5,
        "temp_min": -0.5,
        "weather": "sun",
        "wind": 5.6
       },
       {
        "Date new": "2013-12-04T00:00:00",
        "precipitation": 0,
        "temp_max": 4.4,
        "temp_min": -2.1,
        "weather": "sun",
        "wind": 1.6
       },
       {
        "Date new": "2013-12-05T00:00:00",
        "precipitation": 0,
        "temp_max": 1.1,
        "temp_min": -4.9,
        "weather": "sun",
        "wind": 2.6
       },
       {
        "Date new": "2013-12-06T00:00:00",
        "precipitation": 0,
        "temp_max": 1.1,
        "temp_min": -4.3,
        "weather": "sun",
        "wind": 4.7
       },
       {
        "Date new": "2013-12-07T00:00:00",
        "precipitation": 0,
        "temp_max": 0,
        "temp_min": -7.1,
        "weather": "sun",
        "wind": 3.1
       },
       {
        "Date new": "2013-12-08T00:00:00",
        "precipitation": 0,
        "temp_max": 2.2,
        "temp_min": -6.6,
        "weather": "sun",
        "wind": 2.2
       },
       {
        "Date new": "2013-12-09T00:00:00",
        "precipitation": 0,
        "temp_max": 1.1,
        "temp_min": -4.9,
        "weather": "sun",
        "wind": 1.3
       },
       {
        "Date new": "2013-12-10T00:00:00",
        "precipitation": 0,
        "temp_max": 5.6,
        "temp_min": 0.6,
        "weather": "sun",
        "wind": 1.5
       },
       {
        "Date new": "2013-12-11T00:00:00",
        "precipitation": 0,
        "temp_max": 5,
        "temp_min": -1.6,
        "weather": "sun",
        "wind": 0.8
       },
       {
        "Date new": "2013-12-12T00:00:00",
        "precipitation": 6.9,
        "temp_max": 5.6,
        "temp_min": -0.5,
        "weather": "sun",
        "wind": 2.3
       },
       {
        "Date new": "2013-12-13T00:00:00",
        "precipitation": 0.5,
        "temp_max": 9.4,
        "temp_min": 5.6,
        "weather": "fog",
        "wind": 2.9
       },
       {
        "Date new": "2013-12-14T00:00:00",
        "precipitation": 0,
        "temp_max": 9.4,
        "temp_min": 6.1,
        "weather": "sun",
        "wind": 3.7
       },
       {
        "Date new": "2013-12-15T00:00:00",
        "precipitation": 1.3,
        "temp_max": 11.7,
        "temp_min": 8.3,
        "weather": "fog",
        "wind": 3.9
       },
       {
        "Date new": "2013-12-16T00:00:00",
        "precipitation": 0.3,
        "temp_max": 10,
        "temp_min": 4.4,
        "weather": "sun",
        "wind": 1
       },
       {
        "Date new": "2013-12-17T00:00:00",
        "precipitation": 0,
        "temp_max": 8.3,
        "temp_min": 4.4,
        "weather": "sun",
        "wind": 2.7
       },
       {
        "Date new": "2013-12-18T00:00:00",
        "precipitation": 1.3,
        "temp_max": 7.8,
        "temp_min": 2.2,
        "weather": "fog",
        "wind": 2.8
       },
       {
        "Date new": "2013-12-19T00:00:00",
        "precipitation": 0,
        "temp_max": 5,
        "temp_min": 0,
        "weather": "sun",
        "wind": 2.1
       },
       {
        "Date new": "2013-12-20T00:00:00",
        "precipitation": 5.6,
        "temp_max": 8.3,
        "temp_min": 0.6,
        "weather": "fog",
        "wind": 3.7
       },
       {
        "Date new": "2013-12-21T00:00:00",
        "precipitation": 5.6,
        "temp_max": 8.9,
        "temp_min": 5.6,
        "weather": "fog",
        "wind": 2.3
       },
       {
        "Date new": "2013-12-22T00:00:00",
        "precipitation": 10.7,
        "temp_max": 10.6,
        "temp_min": 8.3,
        "weather": "fog",
        "wind": 4
       },
       {
        "Date new": "2013-12-23T00:00:00",
        "precipitation": 1.5,
        "temp_max": 11.7,
        "temp_min": 6.1,
        "weather": "fog",
        "wind": 5.9
       },
       {
        "Date new": "2013-12-24T00:00:00",
        "precipitation": 0,
        "temp_max": 8.3,
        "temp_min": 2.8,
        "weather": "sun",
        "wind": 1.7
       },
       {
        "Date new": "2013-12-25T00:00:00",
        "precipitation": 0,
        "temp_max": 6.7,
        "temp_min": 1.7,
        "weather": "sun",
        "wind": 0.8
       },
       {
        "Date new": "2013-12-26T00:00:00",
        "precipitation": 0,
        "temp_max": 6.7,
        "temp_min": 0.6,
        "weather": "sun",
        "wind": 0.5
       },
       {
        "Date new": "2013-12-27T00:00:00",
        "precipitation": 0.3,
        "temp_max": 8.9,
        "temp_min": 0,
        "weather": "fog",
        "wind": 2.1
       },
       {
        "Date new": "2013-12-28T00:00:00",
        "precipitation": 0,
        "temp_max": 9.4,
        "temp_min": 3.3,
        "weather": "sun",
        "wind": 1.3
       },
       {
        "Date new": "2013-12-29T00:00:00",
        "precipitation": 0,
        "temp_max": 7.2,
        "temp_min": 1.7,
        "weather": "sun",
        "wind": 1.1
       },
       {
        "Date new": "2013-12-30T00:00:00",
        "precipitation": 0.3,
        "temp_max": 8.9,
        "temp_min": 4.4,
        "weather": "sun",
        "wind": 2.6
       },
       {
        "Date new": "2013-12-31T00:00:00",
        "precipitation": 0.5,
        "temp_max": 8.3,
        "temp_min": 5,
        "weather": "sun",
        "wind": 1.7
       },
       {
        "Date new": "2014-01-01T00:00:00",
        "precipitation": 0,
        "temp_max": 7.2,
        "temp_min": 3.3,
        "weather": "sun",
        "wind": 1.2
       },
       {
        "Date new": "2014-01-02T00:00:00",
        "precipitation": 4.1,
        "temp_max": 10.6,
        "temp_min": 6.1,
        "weather": "sun",
        "wind": 3.2
       },
       {
        "Date new": "2014-01-03T00:00:00",
        "precipitation": 1.5,
        "temp_max": 8.9,
        "temp_min": 2.8,
        "weather": "fog",
        "wind": 2.6
       },
       {
        "Date new": "2014-01-04T00:00:00",
        "precipitation": 0,
        "temp_max": 7.8,
        "temp_min": 0.6,
        "weather": "fog",
        "wind": 2.7
       },
       {
        "Date new": "2014-01-05T00:00:00",
        "precipitation": 0,
        "temp_max": 8.3,
        "temp_min": -0.5,
        "weather": "sun",
        "wind": 3.7
       },
       {
        "Date new": "2014-01-06T00:00:00",
        "precipitation": 0.3,
        "temp_max": 7.8,
        "temp_min": -0.5,
        "weather": "fog",
        "wind": 2.6
       },
       {
        "Date new": "2014-01-07T00:00:00",
        "precipitation": 12.2,
        "temp_max": 8.3,
        "temp_min": 5,
        "weather": "sun",
        "wind": 1.6
       },
       {
        "Date new": "2014-01-08T00:00:00",
        "precipitation": 9.7,
        "temp_max": 10,
        "temp_min": 7.2,
        "weather": "fog",
        "wind": 4.6
       },
       {
        "Date new": "2014-01-09T00:00:00",
        "precipitation": 5.8,
        "temp_max": 9.4,
        "temp_min": 5.6,
        "weather": "fog",
        "wind": 6.3
       },
       {
        "Date new": "2014-01-10T00:00:00",
        "precipitation": 4.3,
        "temp_max": 12.8,
        "temp_min": 8.3,
        "weather": "sun",
        "wind": 7
       },
       {
        "Date new": "2014-01-11T00:00:00",
        "precipitation": 21.3,
        "temp_max": 14.4,
        "temp_min": 7.2,
        "weather": "fog",
        "wind": 8.8
       },
       {
        "Date new": "2014-01-12T00:00:00",
        "precipitation": 1.5,
        "temp_max": 11.1,
        "temp_min": 5.6,
        "weather": "fog",
        "wind": 8.1
       },
       {
        "Date new": "2014-01-13T00:00:00",
        "precipitation": 0,
        "temp_max": 10.6,
        "temp_min": 10,
        "weather": "sun",
        "wind": 7.1
       },
       {
        "Date new": "2014-01-14T00:00:00",
        "precipitation": 0,
        "temp_max": 11.1,
        "temp_min": 7.2,
        "weather": "sun",
        "wind": 1.3
       },
       {
        "Date new": "2014-01-15T00:00:00",
        "precipitation": 0,
        "temp_max": 11.1,
        "temp_min": 5.6,
        "weather": "sun",
        "wind": 2.5
       },
       {
        "Date new": "2014-01-16T00:00:00",
        "precipitation": 0,
        "temp_max": 6.7,
        "temp_min": 4.4,
        "weather": "sun",
        "wind": 2.7
       },
       {
        "Date new": "2014-01-17T00:00:00",
        "precipitation": 0,
        "temp_max": 5.6,
        "temp_min": 2.8,
        "weather": "sun",
        "wind": 2.3
       },
       {
        "Date new": "2014-01-18T00:00:00",
        "precipitation": 0,
        "temp_max": 9.4,
        "temp_min": 0.6,
        "weather": "sun",
        "wind": 2.2
       },
       {
        "Date new": "2014-01-19T00:00:00",
        "precipitation": 0,
        "temp_max": 6.1,
        "temp_min": 3.3,
        "weather": "sun",
        "wind": 2.5
       },
       {
        "Date new": "2014-01-20T00:00:00",
        "precipitation": 0,
        "temp_max": 10,
        "temp_min": 2.8,
        "weather": "sun",
        "wind": 2.2
       },
       {
        "Date new": "2014-01-21T00:00:00",
        "precipitation": 0,
        "temp_max": 10,
        "temp_min": 1.7,
        "weather": "sun",
        "wind": 1.5
       },
       {
        "Date new": "2014-01-22T00:00:00",
        "precipitation": 0.5,
        "temp_max": 9.4,
        "temp_min": 5.6,
        "weather": "sun",
        "wind": 2.6
       },
       {
        "Date new": "2014-01-23T00:00:00",
        "precipitation": 0,
        "temp_max": 10,
        "temp_min": 2.8,
        "weather": "fog",
        "wind": 5.2
       },
       {
        "Date new": "2014-01-24T00:00:00",
        "precipitation": 0,
        "temp_max": 12.8,
        "temp_min": 1.1,
        "weather": "sun",
        "wind": 1.9
       },
       {
        "Date new": "2014-01-25T00:00:00",
        "precipitation": 0,
        "temp_max": 12.2,
        "temp_min": 1.1,
        "weather": "sun",
        "wind": 0.8
       },
       {
        "Date new": "2014-01-26T00:00:00",
        "precipitation": 0,
        "temp_max": 8.3,
        "temp_min": 0.6,
        "weather": "sun",
        "wind": 1.3
       },
       {
        "Date new": "2014-01-27T00:00:00",
        "precipitation": 0,
        "temp_max": 9.4,
        "temp_min": 1.7,
        "weather": "sun",
        "wind": 1.3
       },
       {
        "Date new": "2014-01-28T00:00:00",
        "precipitation": 8.9,
        "temp_max": 11.1,
        "temp_min": 6.1,
        "weather": "fog",
        "wind": 1.6
       },
       {
        "Date new": "2014-01-29T00:00:00",
        "precipitation": 21.6,
        "temp_max": 11.1,
        "temp_min": 7.2,
        "weather": "fog",
        "wind": 3.4
       },
       {
        "Date new": "2014-01-30T00:00:00",
        "precipitation": 0,
        "temp_max": 8.3,
        "temp_min": 6.1,
        "weather": "sun",
        "wind": 6.4
       },
       {
        "Date new": "2014-01-31T00:00:00",
        "precipitation": 2.3,
        "temp_max": 7.8,
        "temp_min": 5.6,
        "weather": "fog",
        "wind": 2.6
       },
       {
        "Date new": "2014-02-01T00:00:00",
        "precipitation": 2,
        "temp_max": 7.8,
        "temp_min": 2.8,
        "weather": "sun",
        "wind": 0.8
       },
       {
        "Date new": "2014-02-02T00:00:00",
        "precipitation": 0,
        "temp_max": 8.9,
        "temp_min": 1.1,
        "weather": "sun",
        "wind": 2.5
       },
       {
        "Date new": "2014-02-03T00:00:00",
        "precipitation": 0,
        "temp_max": 5,
        "temp_min": 0,
        "weather": "sun",
        "wind": 4.3
       },
       {
        "Date new": "2014-02-04T00:00:00",
        "precipitation": 0,
        "temp_max": 2.8,
        "temp_min": -2.1,
        "weather": "sun",
        "wind": 4.7
       },
       {
        "Date new": "2014-02-05T00:00:00",
        "precipitation": 0,
        "temp_max": -0.5,
        "temp_min": -5.5,
        "weather": "sun",
        "wind": 6.6
       },
       {
        "Date new": "2014-02-06T00:00:00",
        "precipitation": 0,
        "temp_max": -1.6,
        "temp_min": -6,
        "weather": "sun",
        "wind": 4.5
       },
       {
        "Date new": "2014-02-07T00:00:00",
        "precipitation": 0,
        "temp_max": 3.3,
        "temp_min": -4.9,
        "weather": "sun",
        "wind": 4.2
       },
       {
        "Date new": "2014-02-08T00:00:00",
        "precipitation": 5.1,
        "temp_max": 5.6,
        "temp_min": -0.5,
        "weather": "fog",
        "wind": 4.6
       },
       {
        "Date new": "2014-02-09T00:00:00",
        "precipitation": 0.5,
        "temp_max": 3.9,
        "temp_min": 0,
        "weather": "fog",
        "wind": 2.4
       },
       {
        "Date new": "2014-02-10T00:00:00",
        "precipitation": 18.3,
        "temp_max": 10,
        "temp_min": 2.2,
        "weather": "fog",
        "wind": 4.7
       },
       {
        "Date new": "2014-02-11T00:00:00",
        "precipitation": 17,
        "temp_max": 12.2,
        "temp_min": 5.6,
        "weather": "fog",
        "wind": 3.8
       },
       {
        "Date new": "2014-02-12T00:00:00",
        "precipitation": 4.6,
        "temp_max": 12.2,
        "temp_min": 7.2,
        "weather": "fog",
        "wind": 6.4
       },
       {
        "Date new": "2014-02-13T00:00:00",
        "precipitation": 1.8,
        "temp_max": 12.8,
        "temp_min": 7.8,
        "weather": "fog",
        "wind": 6.3
       },
       {
        "Date new": "2014-02-14T00:00:00",
        "precipitation": 9.4,
        "temp_max": 11.7,
        "temp_min": 6.1,
        "weather": "fog",
        "wind": 6.4
       },
       {
        "Date new": "2014-02-15T00:00:00",
        "precipitation": 11.7,
        "temp_max": 11.1,
        "temp_min": 5,
        "weather": "fog",
        "wind": 5.1
       },
       {
        "Date new": "2014-02-16T00:00:00",
        "precipitation": 26.4,
        "temp_max": 9.4,
        "temp_min": 3.9,
        "weather": "fog",
        "wind": 7.9
       },
       {
        "Date new": "2014-02-17T00:00:00",
        "precipitation": 14.5,
        "temp_max": 8.3,
        "temp_min": 4.4,
        "weather": "fog",
        "wind": 5.5
       },
       {
        "Date new": "2014-02-18T00:00:00",
        "precipitation": 15.2,
        "temp_max": 8.9,
        "temp_min": 5,
        "weather": "fog",
        "wind": 6.2
       },
       {
        "Date new": "2014-02-19T00:00:00",
        "precipitation": 1,
        "temp_max": 8.3,
        "temp_min": 3.9,
        "weather": "sun",
        "wind": 6
       },
       {
        "Date new": "2014-02-20T00:00:00",
        "precipitation": 3,
        "temp_max": 10,
        "temp_min": 5.6,
        "weather": "fog",
        "wind": 6.9
       },
       {
        "Date new": "2014-02-21T00:00:00",
        "precipitation": 2.8,
        "temp_max": 6.7,
        "temp_min": 3.9,
        "weather": "fog",
        "wind": 2.9
       },
       {
        "Date new": "2014-02-22T00:00:00",
        "precipitation": 2.5,
        "temp_max": 5.6,
        "temp_min": 2.8,
        "weather": "fog",
        "wind": 3.1
       },
       {
        "Date new": "2014-02-23T00:00:00",
        "precipitation": 6.1,
        "temp_max": 7.2,
        "temp_min": 3.9,
        "weather": "fog",
        "wind": 2.6
       },
       {
        "Date new": "2014-02-24T00:00:00",
        "precipitation": 13,
        "temp_max": 6.7,
        "temp_min": 3.3,
        "weather": "fog",
        "wind": 3.2
       },
       {
        "Date new": "2014-02-25T00:00:00",
        "precipitation": 0.3,
        "temp_max": 12.2,
        "temp_min": 3.9,
        "weather": "fog",
        "wind": 4.5
       },
       {
        "Date new": "2014-02-26T00:00:00",
        "precipitation": 0,
        "temp_max": 13.9,
        "temp_min": 5.6,
        "weather": "sun",
        "wind": 2.5
       },
       {
        "Date new": "2014-02-27T00:00:00",
        "precipitation": 0,
        "temp_max": 12.8,
        "temp_min": 4.4,
        "weather": "sun",
        "wind": 2.3
       },
       {
        "Date new": "2014-02-28T00:00:00",
        "precipitation": 0,
        "temp_max": 14.4,
        "temp_min": 4.4,
        "weather": "sun",
        "wind": 5.9
       },
       {
        "Date new": "2014-03-01T00:00:00",
        "precipitation": 0.5,
        "temp_max": 7.2,
        "temp_min": 4.4,
        "weather": "sun",
        "wind": 4.7
       },
       {
        "Date new": "2014-03-02T00:00:00",
        "precipitation": 19.1,
        "temp_max": 11.1,
        "temp_min": 2.8,
        "weather": "fog",
        "wind": 5.7
       },
       {
        "Date new": "2014-03-03T00:00:00",
        "precipitation": 10.7,
        "temp_max": 14.4,
        "temp_min": 8.9,
        "weather": "fog",
        "wind": 5.1
       },
       {
        "Date new": "2014-03-04T00:00:00",
        "precipitation": 16.5,
        "temp_max": 13.9,
        "temp_min": 7.8,
        "weather": "fog",
        "wind": 3.9
       },
       {
        "Date new": "2014-03-05T00:00:00",
        "precipitation": 46.7,
        "temp_max": 15.6,
        "temp_min": 10.6,
        "weather": "fog",
        "wind": 3.9
       },
       {
        "Date new": "2014-03-06T00:00:00",
        "precipitation": 3,
        "temp_max": 13.3,
        "temp_min": 10,
        "weather": "fog",
        "wind": 6.2
       },
       {
        "Date new": "2014-03-07T00:00:00",
        "precipitation": 0,
        "temp_max": 15.6,
        "temp_min": 8.9,
        "weather": "sun",
        "wind": 4.2
       },
       {
        "Date new": "2014-03-08T00:00:00",
        "precipitation": 32.3,
        "temp_max": 12.8,
        "temp_min": 6.7,
        "weather": "fog",
        "wind": 2.7
       },
       {
        "Date new": "2014-03-09T00:00:00",
        "precipitation": 4.3,
        "temp_max": 15,
        "temp_min": 9.4,
        "weather": "fog",
        "wind": 4.3
       },
       {
        "Date new": "2014-03-10T00:00:00",
        "precipitation": 18.8,
        "temp_max": 12.2,
        "temp_min": 6.1,
        "weather": "fog",
        "wind": 2.2
       },
       {
        "Date new": "2014-03-11T00:00:00",
        "precipitation": 0,
        "temp_max": 14.4,
        "temp_min": 4.4,
        "weather": "fog",
        "wind": 2.3
       },
       {
        "Date new": "2014-03-12T00:00:00",
        "precipitation": 0,
        "temp_max": 16.1,
        "temp_min": 3.3,
        "weather": "fog",
        "wind": 1.9
       },
       {
        "Date new": "2014-03-13T00:00:00",
        "precipitation": 0.5,
        "temp_max": 13.9,
        "temp_min": 5,
        "weather": "fog",
        "wind": 2.5
       },
       {
        "Date new": "2014-03-14T00:00:00",
        "precipitation": 6.9,
        "temp_max": 14.4,
        "temp_min": 8.3,
        "weather": "fog",
        "wind": 6.1
       },
       {
        "Date new": "2014-03-15T00:00:00",
        "precipitation": 8.1,
        "temp_max": 16.7,
        "temp_min": 4.4,
        "weather": "fog",
        "wind": 3
       },
       {
        "Date new": "2014-03-16T00:00:00",
        "precipitation": 27.7,
        "temp_max": 10.6,
        "temp_min": 4.4,
        "weather": "fog",
        "wind": 3.8
       },
       {
        "Date new": "2014-03-17T00:00:00",
        "precipitation": 0.3,
        "temp_max": 10,
        "temp_min": 2.8,
        "weather": "fog",
        "wind": 3.2
       },
       {
        "Date new": "2014-03-18T00:00:00",
        "precipitation": 0,
        "temp_max": 10,
        "temp_min": 3.3,
        "weather": "sun",
        "wind": 1.6
       },
       {
        "Date new": "2014-03-19T00:00:00",
        "precipitation": 0.5,
        "temp_max": 11.1,
        "temp_min": 3.3,
        "weather": "sun",
        "wind": 5.1
       },
       {
        "Date new": "2014-03-20T00:00:00",
        "precipitation": 0,
        "temp_max": 11.1,
        "temp_min": 1.7,
        "weather": "sun",
        "wind": 3
       },
       {
        "Date new": "2014-03-21T00:00:00",
        "precipitation": 0,
        "temp_max": 10.6,
        "temp_min": 2.8,
        "weather": "sun",
        "wind": 3.8
       },
       {
        "Date new": "2014-03-22T00:00:00",
        "precipitation": 0,
        "temp_max": 11.1,
        "temp_min": 1.1,
        "weather": "sun",
        "wind": 1.8
       },
       {
        "Date new": "2014-03-23T00:00:00",
        "precipitation": 0,
        "temp_max": 12.8,
        "temp_min": 4.4,
        "weather": "sun",
        "wind": 3.3
       },
       {
        "Date new": "2014-03-24T00:00:00",
        "precipitation": 0,
        "temp_max": 18.9,
        "temp_min": 2.8,
        "weather": "sun",
        "wind": 2.2
       },
       {
        "Date new": "2014-03-25T00:00:00",
        "precipitation": 4.1,
        "temp_max": 13.9,
        "temp_min": 6.7,
        "weather": "fog",
        "wind": 4.4
       },
       {
        "Date new": "2014-03-26T00:00:00",
        "precipitation": 3.6,
        "temp_max": 11.1,
        "temp_min": 5.6,
        "weather": "fog",
        "wind": 2.4
       },
       {
        "Date new": "2014-03-27T00:00:00",
        "precipitation": 0.3,
        "temp_max": 12.2,
        "temp_min": 6.7,
        "weather": "fog",
        "wind": 2.8
       },
       {
        "Date new": "2014-03-28T00:00:00",
        "precipitation": 22.1,
        "temp_max": 11.7,
        "temp_min": 7.2,
        "weather": "fog",
        "wind": 3.9
       },
       {
        "Date new": "2014-03-29T00:00:00",
        "precipitation": 14,
        "temp_max": 11.7,
        "temp_min": 7.2,
        "weather": "fog",
        "wind": 5.1
       },
       {
        "Date new": "2014-03-30T00:00:00",
        "precipitation": 0,
        "temp_max": 11.1,
        "temp_min": 5,
        "weather": "sun",
        "wind": 5.1
       },
       {
        "Date new": "2014-03-31T00:00:00",
        "precipitation": 0,
        "temp_max": 15.6,
        "temp_min": 2.2,
        "weather": "sun",
        "wind": 3.8
       },
       {
        "Date new": "2014-04-01T00:00:00",
        "precipitation": 0,
        "temp_max": 14.4,
        "temp_min": 6.7,
        "weather": "sun",
        "wind": 2.8
       },
       {
        "Date new": "2014-04-02T00:00:00",
        "precipitation": 0,
        "temp_max": 14.4,
        "temp_min": 5.6,
        "weather": "sun",
        "wind": 4.2
       },
       {
        "Date new": "2014-04-03T00:00:00",
        "precipitation": 2.5,
        "temp_max": 13.3,
        "temp_min": 6.1,
        "weather": "sun",
        "wind": 3.9
       },
       {
        "Date new": "2014-04-04T00:00:00",
        "precipitation": 0,
        "temp_max": 12.8,
        "temp_min": 6.1,
        "weather": "sun",
        "wind": 4.7
       },
       {
        "Date new": "2014-04-05T00:00:00",
        "precipitation": 4.6,
        "temp_max": 11.7,
        "temp_min": 7.8,
        "weather": "fog",
        "wind": 4.3
       },
       {
        "Date new": "2014-04-06T00:00:00",
        "precipitation": 0,
        "temp_max": 13.9,
        "temp_min": 8.3,
        "weather": "sun",
        "wind": 2.6
       },
       {
        "Date new": "2014-04-07T00:00:00",
        "precipitation": 0,
        "temp_max": 21.1,
        "temp_min": 9.4,
        "weather": "sun",
        "wind": 2.5
       },
       {
        "Date new": "2014-04-08T00:00:00",
        "precipitation": 4.6,
        "temp_max": 15.6,
        "temp_min": 8.3,
        "weather": "fog",
        "wind": 4.2
       },
       {
        "Date new": "2014-04-09T00:00:00",
        "precipitation": 0,
        "temp_max": 14.4,
        "temp_min": 6.7,
        "weather": "sun",
        "wind": 2.9
       },
       {
        "Date new": "2014-04-10T00:00:00",
        "precipitation": 0,
        "temp_max": 15,
        "temp_min": 6.7,
        "weather": "sun",
        "wind": 3.6
       },
       {
        "Date new": "2014-04-11T00:00:00",
        "precipitation": 0,
        "temp_max": 17.2,
        "temp_min": 5,
        "weather": "sun",
        "wind": 2.8
       },
       {
        "Date new": "2014-04-12T00:00:00",
        "precipitation": 0,
        "temp_max": 16.1,
        "temp_min": 7.8,
        "weather": "sun",
        "wind": 4.4
       },
       {
        "Date new": "2014-04-13T00:00:00",
        "precipitation": 0,
        "temp_max": 20.6,
        "temp_min": 5.6,
        "weather": "sun",
        "wind": 3.1
       },
       {
        "Date new": "2014-04-14T00:00:00",
        "precipitation": 0,
        "temp_max": 20,
        "temp_min": 5.6,
        "weather": "sun",
        "wind": 2.6
       },
       {
        "Date new": "2014-04-15T00:00:00",
        "precipitation": 0.5,
        "temp_max": 14.4,
        "temp_min": 7.8,
        "weather": "sun",
        "wind": 4
       },
       {
        "Date new": "2014-04-16T00:00:00",
        "precipitation": 10.9,
        "temp_max": 11.1,
        "temp_min": 8.9,
        "weather": "fog",
        "wind": 4.6
       },
       {
        "Date new": "2014-04-17T00:00:00",
        "precipitation": 18.5,
        "temp_max": 11.7,
        "temp_min": 7.2,
        "weather": "fog",
        "wind": 4.7
       },
       {
        "Date new": "2014-04-18T00:00:00",
        "precipitation": 0,
        "temp_max": 14.4,
        "temp_min": 5.6,
        "weather": "sun",
        "wind": 3.8
       },
       {
        "Date new": "2014-04-19T00:00:00",
        "precipitation": 13.7,
        "temp_max": 11.7,
        "temp_min": 5.6,
        "weather": "fog",
        "wind": 4.7
       },
       {
        "Date new": "2014-04-20T00:00:00",
        "precipitation": 0,
        "temp_max": 15.6,
        "temp_min": 5.6,
        "weather": "sun",
        "wind": 2.7
       },
       {
        "Date new": "2014-04-21T00:00:00",
        "precipitation": 5.1,
        "temp_max": 17.2,
        "temp_min": 7.8,
        "weather": "fog",
        "wind": 2.5
       },
       {
        "Date new": "2014-04-22T00:00:00",
        "precipitation": 14.2,
        "temp_max": 12.2,
        "temp_min": 5,
        "weather": "fog",
        "wind": 4.2
       },
       {
        "Date new": "2014-04-23T00:00:00",
        "precipitation": 8.9,
        "temp_max": 11.7,
        "temp_min": 6.1,
        "weather": "fog",
        "wind": 5
       },
       {
        "Date new": "2014-04-24T00:00:00",
        "precipitation": 12.4,
        "temp_max": 13.9,
        "temp_min": 6.1,
        "weather": "fog",
        "wind": 5.3
       },
       {
        "Date new": "2014-04-25T00:00:00",
        "precipitation": 0,
        "temp_max": 14.4,
        "temp_min": 5.6,
        "weather": "sun",
        "wind": 2.3
       },
       {
        "Date new": "2014-04-26T00:00:00",
        "precipitation": 3.3,
        "temp_max": 15,
        "temp_min": 5.6,
        "weather": "sun",
        "wind": 3.9
       },
       {
        "Date new": "2014-04-27T00:00:00",
        "precipitation": 6.9,
        "temp_max": 11.1,
        "temp_min": 6.1,
        "weather": "fog",
        "wind": 5.8
       },
       {
        "Date new": "2014-04-28T00:00:00",
        "precipitation": 0,
        "temp_max": 16.1,
        "temp_min": 4.4,
        "weather": "sun",
        "wind": 2.6
       },
       {
        "Date new": "2014-04-29T00:00:00",
        "precipitation": 0,
        "temp_max": 25,
        "temp_min": 9.4,
        "weather": "sun",
        "wind": 2.3
       },
       {
        "Date new": "2014-04-30T00:00:00",
        "precipitation": 0,
        "temp_max": 27.8,
        "temp_min": 9.4,
        "weather": "sun",
        "wind": 3.9
       },
       {
        "Date new": "2014-05-01T00:00:00",
        "precipitation": 0,
        "temp_max": 29.4,
        "temp_min": 11.1,
        "weather": "sun",
        "wind": 3
       },
       {
        "Date new": "2014-05-02T00:00:00",
        "precipitation": 0,
        "temp_max": 18.3,
        "temp_min": 10.6,
        "weather": "sun",
        "wind": 4.7
       },
       {
        "Date new": "2014-05-03T00:00:00",
        "precipitation": 33.3,
        "temp_max": 15,
        "temp_min": 8.9,
        "weather": "fog",
        "wind": 3.4
       },
       {
        "Date new": "2014-05-04T00:00:00",
        "precipitation": 16,
        "temp_max": 14.4,
        "temp_min": 8.9,
        "weather": "fog",
        "wind": 4.2
       },
       {
        "Date new": "2014-05-05T00:00:00",
        "precipitation": 5.1,
        "temp_max": 15.6,
        "temp_min": 9.4,
        "weather": "fog",
        "wind": 3.8
       },
       {
        "Date new": "2014-05-06T00:00:00",
        "precipitation": 0,
        "temp_max": 16.7,
        "temp_min": 8.3,
        "weather": "sun",
        "wind": 2.6
       },
       {
        "Date new": "2014-05-07T00:00:00",
        "precipitation": 0,
        "temp_max": 18.3,
        "temp_min": 7.2,
        "weather": "sun",
        "wind": 1.7
       },
       {
        "Date new": "2014-05-08T00:00:00",
        "precipitation": 13.7,
        "temp_max": 13.9,
        "temp_min": 9.4,
        "weather": "fog",
        "wind": 3.4
       },
       {
        "Date new": "2014-05-09T00:00:00",
        "precipitation": 2,
        "temp_max": 13.3,
        "temp_min": 7.2,
        "weather": "sun",
        "wind": 5.6
       },
       {
        "Date new": "2014-05-10T00:00:00",
        "precipitation": 0.5,
        "temp_max": 15.6,
        "temp_min": 7.2,
        "weather": "fog",
        "wind": 2.1
       },
       {
        "Date new": "2014-05-11T00:00:00",
        "precipitation": 0,
        "temp_max": 18.9,
        "temp_min": 8.3,
        "weather": "sun",
        "wind": 1.7
       },
       {
        "Date new": "2014-05-12T00:00:00",
        "precipitation": 0,
        "temp_max": 24.4,
        "temp_min": 9.4,
        "weather": "sun",
        "wind": 2.7
       },
       {
        "Date new": "2014-05-13T00:00:00",
        "precipitation": 0,
        "temp_max": 26.7,
        "temp_min": 12.8,
        "weather": "sun",
        "wind": 3.8
       },
       {
        "Date new": "2014-05-14T00:00:00",
        "precipitation": 0,
        "temp_max": 27.8,
        "temp_min": 13.3,
        "weather": "sun",
        "wind": 3.3
       },
       {
        "Date new": "2014-05-15T00:00:00",
        "precipitation": 0,
        "temp_max": 26.7,
        "temp_min": 12.8,
        "weather": "sun",
        "wind": 3
       },
       {
        "Date new": "2014-05-16T00:00:00",
        "precipitation": 0,
        "temp_max": 20,
        "temp_min": 11.7,
        "weather": "sun",
        "wind": 4.1
       },
       {
        "Date new": "2014-05-17T00:00:00",
        "precipitation": 0,
        "temp_max": 20,
        "temp_min": 11.7,
        "weather": "sun",
        "wind": 3.2
       },
       {
        "Date new": "2014-05-18T00:00:00",
        "precipitation": 0,
        "temp_max": 20,
        "temp_min": 10.6,
        "weather": "sun",
        "wind": 3.2
       },
       {
        "Date new": "2014-05-19T00:00:00",
        "precipitation": 0,
        "temp_max": 21.1,
        "temp_min": 10,
        "weather": "sun",
        "wind": 2.2
       },
       {
        "Date new": "2014-05-20T00:00:00",
        "precipitation": 0,
        "temp_max": 22.2,
        "temp_min": 10,
        "weather": "sun",
        "wind": 2.7
       },
       {
        "Date new": "2014-05-21T00:00:00",
        "precipitation": 0,
        "temp_max": 20,
        "temp_min": 10.6,
        "weather": "sun",
        "wind": 1.7
       },
       {
        "Date new": "2014-05-22T00:00:00",
        "precipitation": 0,
        "temp_max": 24.4,
        "temp_min": 11.7,
        "weather": "sun",
        "wind": 2.5
       },
       {
        "Date new": "2014-05-23T00:00:00",
        "precipitation": 3.8,
        "temp_max": 20,
        "temp_min": 12.8,
        "weather": "fog",
        "wind": 4
       },
       {
        "Date new": "2014-05-24T00:00:00",
        "precipitation": 0,
        "temp_max": 18.3,
        "temp_min": 11.1,
        "weather": "sun",
        "wind": 2.4
       },
       {
        "Date new": "2014-05-25T00:00:00",
        "precipitation": 5.6,
        "temp_max": 15,
        "temp_min": 10.6,
        "weather": "fog",
        "wind": 1.4
       },
       {
        "Date new": "2014-05-26T00:00:00",
        "precipitation": 0,
        "temp_max": 18.3,
        "temp_min": 11.1,
        "weather": "sun",
        "wind": 4.5
       },
       {
        "Date new": "2014-05-27T00:00:00",
        "precipitation": 0,
        "temp_max": 20,
        "temp_min": 10,
        "weather": "sun",
        "wind": 2.5
       },
       {
        "Date new": "2014-05-28T00:00:00",
        "precipitation": 0,
        "temp_max": 18.9,
        "temp_min": 10,
        "weather": "sun",
        "wind": 3.4
       },
       {
        "Date new": "2014-05-29T00:00:00",
        "precipitation": 0,
        "temp_max": 18.9,
        "temp_min": 11.1,
        "weather": "sun",
        "wind": 4.3
       },
       {
        "Date new": "2014-05-30T00:00:00",
        "precipitation": 0,
        "temp_max": 20.6,
        "temp_min": 8.9,
        "weather": "sun",
        "wind": 4.5
       },
       {
        "Date new": "2014-05-31T00:00:00",
        "precipitation": 0,
        "temp_max": 23.3,
        "temp_min": 10,
        "weather": "sun",
        "wind": 2.2
       },
       {
        "Date new": "2014-06-01T00:00:00",
        "precipitation": 0,
        "temp_max": 22.2,
        "temp_min": 10.6,
        "weather": "sun",
        "wind": 2.3
       },
       {
        "Date new": "2014-06-02T00:00:00",
        "precipitation": 0,
        "temp_max": 23.3,
        "temp_min": 11.1,
        "weather": "sun",
        "wind": 2.4
       },
       {
        "Date new": "2014-06-03T00:00:00",
        "precipitation": 0,
        "temp_max": 18.3,
        "temp_min": 11.1,
        "weather": "sun",
        "wind": 3.2
       },
       {
        "Date new": "2014-06-04T00:00:00",
        "precipitation": 0,
        "temp_max": 19.4,
        "temp_min": 10,
        "weather": "sun",
        "wind": 2.6
       },
       {
        "Date new": "2014-06-05T00:00:00",
        "precipitation": 0,
        "temp_max": 22.2,
        "temp_min": 10,
        "weather": "sun",
        "wind": 2.4
       },
       {
        "Date new": "2014-06-06T00:00:00",
        "precipitation": 0,
        "temp_max": 25,
        "temp_min": 10.6,
        "weather": "sun",
        "wind": 3.2
       },
       {
        "Date new": "2014-06-07T00:00:00",
        "precipitation": 0,
        "temp_max": 24.4,
        "temp_min": 13.3,
        "weather": "sun",
        "wind": 3.1
       },
       {
        "Date new": "2014-06-08T00:00:00",
        "precipitation": 0,
        "temp_max": 23.3,
        "temp_min": 12.2,
        "weather": "sun",
        "wind": 2.1
       },
       {
        "Date new": "2014-06-09T00:00:00",
        "precipitation": 0,
        "temp_max": 21.1,
        "temp_min": 13.3,
        "weather": "sun",
        "wind": 3.6
       },
       {
        "Date new": "2014-06-10T00:00:00",
        "precipitation": 0,
        "temp_max": 20,
        "temp_min": 12.2,
        "weather": "sun",
        "wind": 2.9
       },
       {
        "Date new": "2014-06-11T00:00:00",
        "precipitation": 0,
        "temp_max": 23.9,
        "temp_min": 11.1,
        "weather": "sun",
        "wind": 2.7
       },
       {
        "Date new": "2014-06-12T00:00:00",
        "precipitation": 1.8,
        "temp_max": 21.7,
        "temp_min": 12.2,
        "weather": "sun",
        "wind": 4
       },
       {
        "Date new": "2014-06-13T00:00:00",
        "precipitation": 6.4,
        "temp_max": 15.6,
        "temp_min": 11.1,
        "weather": "fog",
        "wind": 5
       },
       {
        "Date new": "2014-06-14T00:00:00",
        "precipitation": 0,
        "temp_max": 17.8,
        "temp_min": 11.7,
        "weather": "sun",
        "wind": 3.2
       },
       {
        "Date new": "2014-06-15T00:00:00",
        "precipitation": 0.5,
        "temp_max": 18.3,
        "temp_min": 10,
        "weather": "fog",
        "wind": 3.6
       },
       {
        "Date new": "2014-06-16T00:00:00",
        "precipitation": 3.6,
        "temp_max": 17.8,
        "temp_min": 8.9,
        "weather": "fog",
        "wind": 2.4
       },
       {
        "Date new": "2014-06-17T00:00:00",
        "precipitation": 1.3,
        "temp_max": 17.8,
        "temp_min": 10,
        "weather": "fog",
        "wind": 3
       },
       {
        "Date new": "2014-06-18T00:00:00",
        "precipitation": 0,
        "temp_max": 18.9,
        "temp_min": 11.1,
        "weather": "sun",
        "wind": 2.7
       },
       {
        "Date new": "2014-06-19T00:00:00",
        "precipitation": 0.8,
        "temp_max": 25.6,
        "temp_min": 11.7,
        "weather": "sun",
        "wind": 3.7
       },
       {
        "Date new": "2014-06-20T00:00:00",
        "precipitation": 0.3,
        "temp_max": 20,
        "temp_min": 10,
        "weather": "sun",
        "wind": 3.4
       },
       {
        "Date new": "2014-06-21T00:00:00",
        "precipitation": 0,
        "temp_max": 22.2,
        "temp_min": 10.6,
        "weather": "sun",
        "wind": 3.6
       },
       {
        "Date new": "2014-06-22T00:00:00",
        "precipitation": 0,
        "temp_max": 25,
        "temp_min": 11.1,
        "weather": "sun",
        "wind": 2.7
       },
       {
        "Date new": "2014-06-23T00:00:00",
        "precipitation": 0,
        "temp_max": 25,
        "temp_min": 13.3,
        "weather": "sun",
        "wind": 2.5
       },
       {
        "Date new": "2014-06-24T00:00:00",
        "precipitation": 0,
        "temp_max": 24.4,
        "temp_min": 14.4,
        "weather": "sun",
        "wind": 2.5
       },
       {
        "Date new": "2014-06-25T00:00:00",
        "precipitation": 0,
        "temp_max": 26.1,
        "temp_min": 13.9,
        "weather": "sun",
        "wind": 2.4
       },
       {
        "Date new": "2014-06-26T00:00:00",
        "precipitation": 0,
        "temp_max": 21.1,
        "temp_min": 14.4,
        "weather": "sun",
        "wind": 4.1
       },
       {
        "Date new": "2014-06-27T00:00:00",
        "precipitation": 1.8,
        "temp_max": 21.1,
        "temp_min": 13.9,
        "weather": "fog",
        "wind": 4.5
       },
       {
        "Date new": "2014-06-28T00:00:00",
        "precipitation": 2.3,
        "temp_max": 20,
        "temp_min": 13.3,
        "weather": "fog",
        "wind": 4.3
       },
       {
        "Date new": "2014-06-29T00:00:00",
        "precipitation": 0,
        "temp_max": 20.6,
        "temp_min": 12.8,
        "weather": "sun",
        "wind": 3.2
       },
       {
        "Date new": "2014-06-30T00:00:00",
        "precipitation": 0,
        "temp_max": 25.6,
        "temp_min": 12.8,
        "weather": "sun",
        "wind": 4.4
       },
       {
        "Date new": "2014-07-01T00:00:00",
        "precipitation": 0,
        "temp_max": 34.4,
        "temp_min": 15.6,
        "weather": "sun",
        "wind": 3.5
       },
       {
        "Date new": "2014-07-02T00:00:00",
        "precipitation": 0,
        "temp_max": 27.2,
        "temp_min": 14.4,
        "weather": "sun",
        "wind": 3.6
       },
       {
        "Date new": "2014-07-03T00:00:00",
        "precipitation": 0,
        "temp_max": 21.7,
        "temp_min": 13.9,
        "weather": "sun",
        "wind": 3.1
       },
       {
        "Date new": "2014-07-04T00:00:00",
        "precipitation": 0,
        "temp_max": 23.9,
        "temp_min": 13.9,
        "weather": "sun",
        "wind": 3.6
       },
       {
        "Date new": "2014-07-05T00:00:00",
        "precipitation": 0,
        "temp_max": 24.4,
        "temp_min": 13.3,
        "weather": "fog",
        "wind": 2.2
       },
       {
        "Date new": "2014-07-06T00:00:00",
        "precipitation": 0,
        "temp_max": 28.9,
        "temp_min": 15,
        "weather": "sun",
        "wind": 3
       },
       {
        "Date new": "2014-07-07T00:00:00",
        "precipitation": 0,
        "temp_max": 27.2,
        "temp_min": 17.8,
        "weather": "fog",
        "wind": 4.1
       },
       {
        "Date new": "2014-07-08T00:00:00",
        "precipitation": 0,
        "temp_max": 30,
        "temp_min": 15.6,
        "weather": "sun",
        "wind": 3.5
       },
       {
        "Date new": "2014-07-09T00:00:00",
        "precipitation": 0,
        "temp_max": 26.7,
        "temp_min": 13.9,
        "weather": "sun",
        "wind": 2.3
       },
       {
        "Date new": "2014-07-10T00:00:00",
        "precipitation": 0,
        "temp_max": 28.9,
        "temp_min": 12.8,
        "weather": "fog",
        "wind": 2.2
       },
       {
        "Date new": "2014-07-11T00:00:00",
        "precipitation": 0,
        "temp_max": 31.1,
        "temp_min": 15,
        "weather": "sun",
        "wind": 2.2
       },
       {
        "Date new": "2014-07-12T00:00:00",
        "precipitation": 0,
        "temp_max": 32.2,
        "temp_min": 16.7,
        "weather": "sun",
        "wind": 2.2
       },
       {
        "Date new": "2014-07-13T00:00:00",
        "precipitation": 0,
        "temp_max": 29.4,
        "temp_min": 15,
        "weather": "rain",
        "wind": 2.6
       },
       {
        "Date new": "2014-07-14T00:00:00",
        "precipitation": 0,
        "temp_max": 27.8,
        "temp_min": 15,
        "weather": "sun",
        "wind": 2.8
       },
       {
        "Date new": "2014-07-15T00:00:00",
        "precipitation": 0,
        "temp_max": 31.1,
        "temp_min": 13.9,
        "weather": "sun",
        "wind": 2.3
       },
       {
        "Date new": "2014-07-16T00:00:00",
        "precipitation": 0,
        "temp_max": 31.1,
        "temp_min": 14.4,
        "weather": "sun",
        "wind": 2.4
       },
       {
        "Date new": "2014-07-17T00:00:00",
        "precipitation": 0,
        "temp_max": 26.7,
        "temp_min": 13.9,
        "weather": "sun",
        "wind": 3.7
       },
       {
        "Date new": "2014-07-18T00:00:00",
        "precipitation": 0,
        "temp_max": 23.9,
        "temp_min": 11.7,
        "weather": "sun",
        "wind": 2.8
       },
       {
        "Date new": "2014-07-19T00:00:00",
        "precipitation": 0,
        "temp_max": 25.6,
        "temp_min": 15,
        "weather": "fog",
        "wind": 5.4
       },
       {
        "Date new": "2014-07-20T00:00:00",
        "precipitation": 0,
        "temp_max": 19.4,
        "temp_min": 14.4,
        "weather": "sun",
        "wind": 2.8
       },
       {
        "Date new": "2014-07-21T00:00:00",
        "precipitation": 0,
        "temp_max": 23.9,
        "temp_min": 13.3,
        "weather": "sun",
        "wind": 2.2
       },
       {
        "Date new": "2014-07-22T00:00:00",
        "precipitation": 0.3,
        "temp_max": 21.1,
        "temp_min": 13.3,
        "weather": "fog",
        "wind": 1.1
       },
       {
        "Date new": "2014-07-23T00:00:00",
        "precipitation": 19.3,
        "temp_max": 18.9,
        "temp_min": 13.3,
        "weather": "sun",
        "wind": 3.3
       },
       {
        "Date new": "2014-07-24T00:00:00",
        "precipitation": 0,
        "temp_max": 20.6,
        "temp_min": 12.8,
        "weather": "sun",
        "wind": 4.7
       },
       {
        "Date new": "2014-07-25T00:00:00",
        "precipitation": 0,
        "temp_max": 22.8,
        "temp_min": 12.2,
        "weather": "sun",
        "wind": 2.7
       },
       {
        "Date new": "2014-07-26T00:00:00",
        "precipitation": 0,
        "temp_max": 26.1,
        "temp_min": 13.3,
        "weather": "sun",
        "wind": 3.6
       },
       {
        "Date new": "2014-07-27T00:00:00",
        "precipitation": 0,
        "temp_max": 28.3,
        "temp_min": 15,
        "weather": "sun",
        "wind": 4.1
       },
       {
        "Date new": "2014-07-28T00:00:00",
        "precipitation": 0,
        "temp_max": 30.6,
        "temp_min": 15,
        "weather": "sun",
        "wind": 3.7
       },
       {
        "Date new": "2014-07-29T00:00:00",
        "precipitation": 0,
        "temp_max": 30,
        "temp_min": 15.6,
        "weather": "sun",
        "wind": 2.8
       },
       {
        "Date new": "2014-07-30T00:00:00",
        "precipitation": 0,
        "temp_max": 29.4,
        "temp_min": 14.4,
        "weather": "sun",
        "wind": 3.4
       },
       {
        "Date new": "2014-07-31T00:00:00",
        "precipitation": 0,
        "temp_max": 30.6,
        "temp_min": 17.8,
        "weather": "sun",
        "wind": 4.1
       },
       {
        "Date new": "2014-08-01T00:00:00",
        "precipitation": 0,
        "temp_max": 28.9,
        "temp_min": 15,
        "weather": "sun",
        "wind": 3.3
       },
       {
        "Date new": "2014-08-02T00:00:00",
        "precipitation": 0.5,
        "temp_max": 29.4,
        "temp_min": 15.6,
        "weather": "sun",
        "wind": 1.7
       },
       {
        "Date new": "2014-08-03T00:00:00",
        "precipitation": 0,
        "temp_max": 31.7,
        "temp_min": 14.4,
        "weather": "sun",
        "wind": 2.6
       },
       {
        "Date new": "2014-08-04T00:00:00",
        "precipitation": 0,
        "temp_max": 32.8,
        "temp_min": 16.1,
        "weather": "sun",
        "wind": 2.6
       },
       {
        "Date new": "2014-08-05T00:00:00",
        "precipitation": 0,
        "temp_max": 25,
        "temp_min": 13.9,
        "weather": "sun",
        "wind": 2.7
       },
       {
        "Date new": "2014-08-06T00:00:00",
        "precipitation": 0,
        "temp_max": 26.1,
        "temp_min": 15,
        "weather": "fog",
        "wind": 2.2
       },
       {
        "Date new": "2014-08-07T00:00:00",
        "precipitation": 0,
        "temp_max": 25.6,
        "temp_min": 13.3,
        "weather": "fog",
        "wind": 2.4
       },
       {
        "Date new": "2014-08-08T00:00:00",
        "precipitation": 0,
        "temp_max": 25.6,
        "temp_min": 13.3,
        "weather": "sun",
        "wind": 2.9
       },
       {
        "Date new": "2014-08-09T00:00:00",
        "precipitation": 0,
        "temp_max": 27.2,
        "temp_min": 15.6,
        "weather": "sun",
        "wind": 4.1
       },
       {
        "Date new": "2014-08-10T00:00:00",
        "precipitation": 0,
        "temp_max": 30.6,
        "temp_min": 13.9,
        "weather": "sun",
        "wind": 3.4
       },
       {
        "Date new": "2014-08-11T00:00:00",
        "precipitation": 0.5,
        "temp_max": 35.6,
        "temp_min": 17.8,
        "weather": "rain",
        "wind": 2.6
       },
       {
        "Date new": "2014-08-12T00:00:00",
        "precipitation": 12.7,
        "temp_max": 27.2,
        "temp_min": 17.2,
        "weather": "fog",
        "wind": 3.1
       },
       {
        "Date new": "2014-08-13T00:00:00",
        "precipitation": 21.6,
        "temp_max": 23.3,
        "temp_min": 15,
        "weather": "fog",
        "wind": 2.7
       },
       {
        "Date new": "2014-08-14T00:00:00",
        "precipitation": 0,
        "temp_max": 21.1,
        "temp_min": 17.2,
        "weather": "sun",
        "wind": 0.6
       },
       {
        "Date new": "2014-08-15T00:00:00",
        "precipitation": 1,
        "temp_max": 24.4,
        "temp_min": 16.7,
        "weather": "fog",
        "wind": 1.5
       },
       {
        "Date new": "2014-08-16T00:00:00",
        "precipitation": 0,
        "temp_max": 25.6,
        "temp_min": 15.6,
        "weather": "sun",
        "wind": 2.2
       },
       {
        "Date new": "2014-08-17T00:00:00",
        "precipitation": 0,
        "temp_max": 27.8,
        "temp_min": 15,
        "weather": "sun",
        "wind": 2.8
       },
       {
        "Date new": "2014-08-18T00:00:00",
        "precipitation": 0,
        "temp_max": 29.4,
        "temp_min": 15.6,
        "weather": "sun",
        "wind": 3.3
       },
       {
        "Date new": "2014-08-19T00:00:00",
        "precipitation": 0,
        "temp_max": 27.2,
        "temp_min": 15.6,
        "weather": "sun",
        "wind": 2.4
       },
       {
        "Date new": "2014-08-20T00:00:00",
        "precipitation": 0,
        "temp_max": 21.7,
        "temp_min": 13.9,
        "weather": "sun",
        "wind": 3.6
       },
       {
        "Date new": "2014-08-21T00:00:00",
        "precipitation": 0,
        "temp_max": 21.1,
        "temp_min": 11.1,
        "weather": "sun",
        "wind": 1.7
       },
       {
        "Date new": "2014-08-22T00:00:00",
        "precipitation": 0,
        "temp_max": 23.9,
        "temp_min": 13.3,
        "weather": "sun",
        "wind": 2.9
       },
       {
        "Date new": "2014-08-23T00:00:00",
        "precipitation": 0,
        "temp_max": 27.8,
        "temp_min": 13.9,
        "weather": "sun",
        "wind": 2
       },
       {
        "Date new": "2014-08-24T00:00:00",
        "precipitation": 0,
        "temp_max": 25,
        "temp_min": 13.3,
        "weather": "sun",
        "wind": 2.3
       },
       {
        "Date new": "2014-08-25T00:00:00",
        "precipitation": 0,
        "temp_max": 28.9,
        "temp_min": 14.4,
        "weather": "sun",
        "wind": 2
       },
       {
        "Date new": "2014-08-26T00:00:00",
        "precipitation": 0,
        "temp_max": 31.1,
        "temp_min": 15.6,
        "weather": "sun",
        "wind": 1.8
       },
       {
        "Date new": "2014-08-27T00:00:00",
        "precipitation": 0,
        "temp_max": 28.9,
        "temp_min": 16.1,
        "weather": "sun",
        "wind": 1.6
       },
       {
        "Date new": "2014-08-28T00:00:00",
        "precipitation": 0,
        "temp_max": 23.3,
        "temp_min": 14.4,
        "weather": "sun",
        "wind": 2.3
       },
       {
        "Date new": "2014-08-29T00:00:00",
        "precipitation": 0,
        "temp_max": 22.8,
        "temp_min": 15,
        "weather": "sun",
        "wind": 3.4
       },
       {
        "Date new": "2014-08-30T00:00:00",
        "precipitation": 8.4,
        "temp_max": 17.8,
        "temp_min": 15,
        "weather": "fog",
        "wind": 2.2
       },
       {
        "Date new": "2014-08-31T00:00:00",
        "precipitation": 1.3,
        "temp_max": 21.1,
        "temp_min": 13.9,
        "weather": "fog",
        "wind": 1.9
       },
       {
        "Date new": "2014-09-01T00:00:00",
        "precipitation": 0,
        "temp_max": 23.3,
        "temp_min": 12.8,
        "weather": "sun",
        "wind": 2.5
       },
       {
        "Date new": "2014-09-02T00:00:00",
        "precipitation": 3,
        "temp_max": 20,
        "temp_min": 13.9,
        "weather": "fog",
        "wind": 4.3
       },
       {
        "Date new": "2014-09-03T00:00:00",
        "precipitation": 0,
        "temp_max": 20.6,
        "temp_min": 12.8,
        "weather": "sun",
        "wind": 2.7
       },
       {
        "Date new": "2014-09-04T00:00:00",
        "precipitation": 0,
        "temp_max": 23.9,
        "temp_min": 11.1,
        "weather": "fog",
        "wind": 3.1
       },
       {
        "Date new": "2014-09-05T00:00:00",
        "precipitation": 0,
        "temp_max": 27.8,
        "temp_min": 13.9,
        "weather": "fog",
        "wind": 6.5
       },
       {
        "Date new": "2014-09-06T00:00:00",
        "precipitation": 0,
        "temp_max": 32.2,
        "temp_min": 15,
        "weather": "sun",
        "wind": 2.9
       },
       {
        "Date new": "2014-09-07T00:00:00",
        "precipitation": 0,
        "temp_max": 28.3,
        "temp_min": 13.3,
        "weather": "sun",
        "wind": 2.1
       },
       {
        "Date new": "2014-09-08T00:00:00",
        "precipitation": 0,
        "temp_max": 21.1,
        "temp_min": 13.3,
        "weather": "sun",
        "wind": 2.8
       },
       {
        "Date new": "2014-09-09T00:00:00",
        "precipitation": 0,
        "temp_max": 21.7,
        "temp_min": 13.3,
        "weather": "sun",
        "wind": 2.3
       },
       {
        "Date new": "2014-09-10T00:00:00",
        "precipitation": 0,
        "temp_max": 22.2,
        "temp_min": 12.2,
        "weather": "sun",
        "wind": 3.9
       },
       {
        "Date new": "2014-09-11T00:00:00",
        "precipitation": 0,
        "temp_max": 24.4,
        "temp_min": 12.8,
        "weather": "sun",
        "wind": 5.3
       },
       {
        "Date new": "2014-09-12T00:00:00",
        "precipitation": 0,
        "temp_max": 24.4,
        "temp_min": 12.8,
        "weather": "sun",
        "wind": 5.9
       },
       {
        "Date new": "2014-09-13T00:00:00",
        "precipitation": 0,
        "temp_max": 28.3,
        "temp_min": 10,
        "weather": "sun",
        "wind": 4.2
       },
       {
        "Date new": "2014-09-14T00:00:00",
        "precipitation": 0,
        "temp_max": 30,
        "temp_min": 11.7,
        "weather": "sun",
        "wind": 1.8
       },
       {
        "Date new": "2014-09-15T00:00:00",
        "precipitation": 0,
        "temp_max": 30.6,
        "temp_min": 12.2,
        "weather": "sun",
        "wind": 1.2
       },
       {
        "Date new": "2014-09-16T00:00:00",
        "precipitation": 0,
        "temp_max": 22.2,
        "temp_min": 13.9,
        "weather": "sun",
        "wind": 2.8
       },
       {
        "Date new": "2014-09-17T00:00:00",
        "precipitation": 0.5,
        "temp_max": 22.8,
        "temp_min": 14.4,
        "weather": "sun",
        "wind": 2.3
       },
       {
        "Date new": "2014-09-18T00:00:00",
        "precipitation": 0.3,
        "temp_max": 19.4,
        "temp_min": 15,
        "weather": "fog",
        "wind": 3.1
       },
       {
        "Date new": "2014-09-19T00:00:00",
        "precipitation": 0,
        "temp_max": 23.9,
        "temp_min": 16.1,
        "weather": "sun",
        "wind": 2.8
       },
       {
        "Date new": "2014-09-20T00:00:00",
        "precipitation": 0,
        "temp_max": 24.4,
        "temp_min": 14.4,
        "weather": "fog",
        "wind": 4.4
       },
       {
        "Date new": "2014-09-21T00:00:00",
        "precipitation": 0,
        "temp_max": 26.1,
        "temp_min": 12.8,
        "weather": "sun",
        "wind": 3
       },
       {
        "Date new": "2014-09-22T00:00:00",
        "precipitation": 0.3,
        "temp_max": 22.2,
        "temp_min": 15,
        "weather": "fog",
        "wind": 2.1
       },
       {
        "Date new": "2014-09-23T00:00:00",
        "precipitation": 18.3,
        "temp_max": 18.9,
        "temp_min": 14.4,
        "weather": "fog",
        "wind": 2.5
       },
       {
        "Date new": "2014-09-24T00:00:00",
        "precipitation": 20.3,
        "temp_max": 18.9,
        "temp_min": 14.4,
        "weather": "fog",
        "wind": 2.7
       },
       {
        "Date new": "2014-09-25T00:00:00",
        "precipitation": 4.3,
        "temp_max": 21.7,
        "temp_min": 14.4,
        "weather": "fog",
        "wind": 2.5
       },
       {
        "Date new": "2014-09-26T00:00:00",
        "precipitation": 8.9,
        "temp_max": 20,
        "temp_min": 13.9,
        "weather": "fog",
        "wind": 3.3
       },
       {
        "Date new": "2014-09-27T00:00:00",
        "precipitation": 0,
        "temp_max": 20.6,
        "temp_min": 11.7,
        "weather": "fog",
        "wind": 3.2
       },
       {
        "Date new": "2014-09-28T00:00:00",
        "precipitation": 0,
        "temp_max": 18.9,
        "temp_min": 12.2,
        "weather": "fog",
        "wind": 2
       },
       {
        "Date new": "2014-09-29T00:00:00",
        "precipitation": 0.8,
        "temp_max": 16.7,
        "temp_min": 11.1,
        "weather": "fog",
        "wind": 3.5
       },
       {
        "Date new": "2014-09-30T00:00:00",
        "precipitation": 0,
        "temp_max": 19.4,
        "temp_min": 12.2,
        "weather": "sun",
        "wind": 2.6
       },
       {
        "Date new": "2014-10-01T00:00:00",
        "precipitation": 0,
        "temp_max": 18.3,
        "temp_min": 11.1,
        "weather": "sun",
        "wind": 2.1
       },
       {
        "Date new": "2014-10-02T00:00:00",
        "precipitation": 0,
        "temp_max": 19.4,
        "temp_min": 10,
        "weather": "sun",
        "wind": 2
       },
       {
        "Date new": "2014-10-03T00:00:00",
        "precipitation": 0,
        "temp_max": 22.2,
        "temp_min": 8.9,
        "weather": "sun",
        "wind": 1
       },
       {
        "Date new": "2014-10-04T00:00:00",
        "precipitation": 0,
        "temp_max": 21.7,
        "temp_min": 12.2,
        "weather": "sun",
        "wind": 1.2
       },
       {
        "Date new": "2014-10-05T00:00:00",
        "precipitation": 0,
        "temp_max": 23.9,
        "temp_min": 11.7,
        "weather": "fog",
        "wind": 1.4
       },
       {
        "Date new": "2014-10-06T00:00:00",
        "precipitation": 0,
        "temp_max": 25.6,
        "temp_min": 13.3,
        "weather": "fog",
        "wind": 2.5
       },
       {
        "Date new": "2014-10-07T00:00:00",
        "precipitation": 0,
        "temp_max": 18.9,
        "temp_min": 13.9,
        "weather": "fog",
        "wind": 1
       },
       {
        "Date new": "2014-10-08T00:00:00",
        "precipitation": 0,
        "temp_max": 20.6,
        "temp_min": 12.8,
        "weather": "fog",
        "wind": 1.8
       },
       {
        "Date new": "2014-10-09T00:00:00",
        "precipitation": 0,
        "temp_max": 17.2,
        "temp_min": 11.1,
        "weather": "fog",
        "wind": 1
       },
       {
        "Date new": "2014-10-10T00:00:00",
        "precipitation": 0.3,
        "temp_max": 18.3,
        "temp_min": 10,
        "weather": "fog",
        "wind": 3.8
       },
       {
        "Date new": "2014-10-11T00:00:00",
        "precipitation": 7.4,
        "temp_max": 18.3,
        "temp_min": 11.7,
        "weather": "rain",
        "wind": 3.5
       },
       {
        "Date new": "2014-10-12T00:00:00",
        "precipitation": 0,
        "temp_max": 17.8,
        "temp_min": 11.7,
        "weather": "sun",
        "wind": 2.1
       },
       {
        "Date new": "2014-10-13T00:00:00",
        "precipitation": 7.6,
        "temp_max": 21.1,
        "temp_min": 10,
        "weather": "fog",
        "wind": 3.1
       },
       {
        "Date new": "2014-10-14T00:00:00",
        "precipitation": 7.1,
        "temp_max": 16.7,
        "temp_min": 11.7,
        "weather": "fog",
        "wind": 2.2
       },
       {
        "Date new": "2014-10-15T00:00:00",
        "precipitation": 8.6,
        "temp_max": 16.1,
        "temp_min": 11.7,
        "weather": "fog",
        "wind": 4.7
       },
       {
        "Date new": "2014-10-16T00:00:00",
        "precipitation": 0,
        "temp_max": 20.6,
        "temp_min": 11.1,
        "weather": "sun",
        "wind": 3.3
       },
       {
        "Date new": "2014-10-17T00:00:00",
        "precipitation": 3.3,
        "temp_max": 16.7,
        "temp_min": 11.7,
        "weather": "fog",
        "wind": 3
       },
       {
        "Date new": "2014-10-18T00:00:00",
        "precipitation": 15,
        "temp_max": 19.4,
        "temp_min": 13.9,
        "weather": "fog",
        "wind": 1.9
       },
       {
        "Date new": "2014-10-19T00:00:00",
        "precipitation": 0,
        "temp_max": 22.2,
        "temp_min": 12.8,
        "weather": "sun",
        "wind": 3.2
       },
       {
        "Date new": "2014-10-20T00:00:00",
        "precipitation": 11.7,
        "temp_max": 16.1,
        "temp_min": 12.2,
        "weather": "fog",
        "wind": 3.1
       },
       {
        "Date new": "2014-10-21T00:00:00",
        "precipitation": 1,
        "temp_max": 16.1,
        "temp_min": 11.7,
        "weather": "sun",
        "wind": 4.7
       },
       {
        "Date new": "2014-10-22T00:00:00",
        "precipitation": 32,
        "temp_max": 15.6,
        "temp_min": 11.7,
        "weather": "fog",
        "wind": 5
       },
       {
        "Date new": "2014-10-23T00:00:00",
        "precipitation": 9.4,
        "temp_max": 14.4,
        "temp_min": 8.3,
        "weather": "sun",
        "wind": 4.6
       },
       {
        "Date new": "2014-10-24T00:00:00",
        "precipitation": 4.1,
        "temp_max": 14.4,
        "temp_min": 8.9,
        "weather": "sun",
        "wind": 3.2
       },
       {
        "Date new": "2014-10-25T00:00:00",
        "precipitation": 6.1,
        "temp_max": 16.7,
        "temp_min": 8.3,
        "weather": "fog",
        "wind": 5.4
       },
       {
        "Date new": "2014-10-26T00:00:00",
        "precipitation": 1.5,
        "temp_max": 12.8,
        "temp_min": 7.8,
        "weather": "fog",
        "wind": 5
       },
       {
        "Date new": "2014-10-27T00:00:00",
        "precipitation": 0.8,
        "temp_max": 15.6,
        "temp_min": 6.7,
        "weather": "sun",
        "wind": 2.4
       },
       {
        "Date new": "2014-10-28T00:00:00",
        "precipitation": 12.7,
        "temp_max": 15,
        "temp_min": 9.4,
        "weather": "fog",
        "wind": 3.9
       },
       {
        "Date new": "2014-10-29T00:00:00",
        "precipitation": 0.5,
        "temp_max": 16.7,
        "temp_min": 11.7,
        "weather": "fog",
        "wind": 3.1
       },
       {
        "Date new": "2014-10-30T00:00:00",
        "precipitation": 25.4,
        "temp_max": 15.6,
        "temp_min": 11.1,
        "weather": "fog",
        "wind": 3.2
       },
       {
        "Date new": "2014-10-31T00:00:00",
        "precipitation": 17,
        "temp_max": 12.8,
        "temp_min": 8.3,
        "weather": "fog",
        "wind": 2
       },
       {
        "Date new": "2014-11-01T00:00:00",
        "precipitation": 0,
        "temp_max": 11.1,
        "temp_min": 7.2,
        "weather": "fog",
        "wind": 1.2
       },
       {
        "Date new": "2014-11-02T00:00:00",
        "precipitation": 1.8,
        "temp_max": 13.3,
        "temp_min": 7.2,
        "weather": "fog",
        "wind": 2.9
       },
       {
        "Date new": "2014-11-03T00:00:00",
        "precipitation": 10.9,
        "temp_max": 13.9,
        "temp_min": 11.1,
        "weather": "fog",
        "wind": 4.8
       },
       {
        "Date new": "2014-11-04T00:00:00",
        "precipitation": 4.1,
        "temp_max": 14.4,
        "temp_min": 10.6,
        "weather": "fog",
        "wind": 3.3
       },
       {
        "Date new": "2014-11-05T00:00:00",
        "precipitation": 4.8,
        "temp_max": 15,
        "temp_min": 10.6,
        "weather": "fog",
        "wind": 2.1
       },
       {
        "Date new": "2014-11-06T00:00:00",
        "precipitation": 4.1,
        "temp_max": 16.7,
        "temp_min": 10.6,
        "weather": "fog",
        "wind": 6.7
       },
       {
        "Date new": "2014-11-07T00:00:00",
        "precipitation": 0,
        "temp_max": 14.4,
        "temp_min": 7.2,
        "weather": "sun",
        "wind": 2.3
       },
       {
        "Date new": "2014-11-08T00:00:00",
        "precipitation": 0,
        "temp_max": 12.8,
        "temp_min": 3.9,
        "weather": "fog",
        "wind": 0.8
       },
       {
        "Date new": "2014-11-09T00:00:00",
        "precipitation": 5.1,
        "temp_max": 13.3,
        "temp_min": 7.8,
        "weather": "fog",
        "wind": 3
       },
       {
        "Date new": "2014-11-10T00:00:00",
        "precipitation": 0,
        "temp_max": 11.1,
        "temp_min": 5.6,
        "weather": "sun",
        "wind": 3.9
       },
       {
        "Date new": "2014-11-11T00:00:00",
        "precipitation": 0,
        "temp_max": 7.8,
        "temp_min": 1.1,
        "weather": "sun",
        "wind": 7.7
       },
       {
        "Date new": "2014-11-12T00:00:00",
        "precipitation": 0,
        "temp_max": 6.7,
        "temp_min": 0,
        "weather": "sun",
        "wind": 7.6
       },
       {
        "Date new": "2014-11-13T00:00:00",
        "precipitation": 0,
        "temp_max": 7.2,
        "temp_min": 0.6,
        "weather": "sun",
        "wind": 4.7
       },
       {
        "Date new": "2014-11-14T00:00:00",
        "precipitation": 0,
        "temp_max": 7.2,
        "temp_min": -2.1,
        "weather": "sun",
        "wind": 4.5
       },
       {
        "Date new": "2014-11-15T00:00:00",
        "precipitation": 0,
        "temp_max": 8.3,
        "temp_min": -1.6,
        "weather": "sun",
        "wind": 4.2
       },
       {
        "Date new": "2014-11-16T00:00:00",
        "precipitation": 0,
        "temp_max": 9.4,
        "temp_min": -2.1,
        "weather": "sun",
        "wind": 4.2
       },
       {
        "Date new": "2014-11-17T00:00:00",
        "precipitation": 0,
        "temp_max": 10.6,
        "temp_min": -2.1,
        "weather": "sun",
        "wind": 1.9
       },
       {
        "Date new": "2014-11-18T00:00:00",
        "precipitation": 0,
        "temp_max": 7.2,
        "temp_min": -0.5,
        "weather": "sun",
        "wind": 0.9
       },
       {
        "Date new": "2014-11-19T00:00:00",
        "precipitation": 0,
        "temp_max": 11.1,
        "temp_min": 2.2,
        "weather": "sun",
        "wind": 1.9
       },
       {
        "Date new": "2014-11-20T00:00:00",
        "precipitation": 3.6,
        "temp_max": 11.1,
        "temp_min": 5.6,
        "weather": "fog",
        "wind": 2.1
       },
       {
        "Date new": "2014-11-21T00:00:00",
        "precipitation": 15.2,
        "temp_max": 11.1,
        "temp_min": 8.3,
        "weather": "fog",
        "wind": 4.7
       },
       {
        "Date new": "2014-11-22T00:00:00",
        "precipitation": 0.5,
        "temp_max": 9.4,
        "temp_min": 6.7,
        "weather": "sun",
        "wind": 4.7
       },
       {
        "Date new": "2014-11-23T00:00:00",
        "precipitation": 11.9,
        "temp_max": 12.8,
        "temp_min": 5.6,
        "weather": "fog",
        "wind": 5.1
       },
       {
        "Date new": "2014-11-24T00:00:00",
        "precipitation": 1.3,
        "temp_max": 11.7,
        "temp_min": 4.4,
        "weather": "fog",
        "wind": 3.8
       },
       {
        "Date new": "2014-11-25T00:00:00",
        "precipitation": 18.3,
        "temp_max": 13.9,
        "temp_min": 9.4,
        "weather": "fog",
        "wind": 4.5
       },
       {
        "Date new": "2014-11-26T00:00:00",
        "precipitation": 0.3,
        "temp_max": 15,
        "temp_min": 12.2,
        "weather": "sun",
        "wind": 3.9
       },
       {
        "Date new": "2014-11-27T00:00:00",
        "precipitation": 3.3,
        "temp_max": 14.4,
        "temp_min": 11.7,
        "weather": "fog",
        "wind": 6.6
       },
       {
        "Date new": "2014-11-28T00:00:00",
        "precipitation": 34.3,
        "temp_max": 12.8,
        "temp_min": 3.3,
        "weather": "fog",
        "wind": 5.8
       },
       {
        "Date new": "2014-11-29T00:00:00",
        "precipitation": 3.6,
        "temp_max": 4.4,
        "temp_min": -4.3,
        "weather": "fog",
        "wind": 5.3
       },
       {
        "Date new": "2014-11-30T00:00:00",
        "precipitation": 0,
        "temp_max": 2.8,
        "temp_min": -4.9,
        "weather": "sun",
        "wind": 4.4
       },
       {
        "Date new": "2014-12-01T00:00:00",
        "precipitation": 0,
        "temp_max": 4.4,
        "temp_min": -3.2,
        "weather": "sun",
        "wind": 2.2
       },
       {
        "Date new": "2014-12-02T00:00:00",
        "precipitation": 0,
        "temp_max": 5.6,
        "temp_min": -3.2,
        "weather": "fog",
        "wind": 5.7
       },
       {
        "Date new": "2014-12-03T00:00:00",
        "precipitation": 0,
        "temp_max": 10,
        "temp_min": 0,
        "weather": "sun",
        "wind": 3.6
       },
       {
        "Date new": "2014-12-04T00:00:00",
        "precipitation": 0.8,
        "temp_max": 8.3,
        "temp_min": 3.9,
        "weather": "fog",
        "wind": 1.1
       },
       {
        "Date new": "2014-12-05T00:00:00",
        "precipitation": 3,
        "temp_max": 12.8,
        "temp_min": 6.7,
        "weather": "fog",
        "wind": 3.1
       },
       {
        "Date new": "2014-12-06T00:00:00",
        "precipitation": 7.4,
        "temp_max": 11.7,
        "temp_min": 7.8,
        "weather": "fog",
        "wind": 3.6
       },
       {
        "Date new": "2014-12-07T00:00:00",
        "precipitation": 0,
        "temp_max": 14.4,
        "temp_min": 6.1,
        "weather": "sun",
        "wind": 2.8
       },
       {
        "Date new": "2014-12-08T00:00:00",
        "precipitation": 9.1,
        "temp_max": 14.4,
        "temp_min": 8.9,
        "weather": "fog",
        "wind": 4.2
       },
       {
        "Date new": "2014-12-09T00:00:00",
        "precipitation": 9.9,
        "temp_max": 16.1,
        "temp_min": 10.6,
        "weather": "fog",
        "wind": 5.1
       },
       {
        "Date new": "2014-12-10T00:00:00",
        "precipitation": 13,
        "temp_max": 18.9,
        "temp_min": 10,
        "weather": "fog",
        "wind": 6.7
       },
       {
        "Date new": "2014-12-11T00:00:00",
        "precipitation": 6.9,
        "temp_max": 14.4,
        "temp_min": 8.3,
        "weather": "fog",
        "wind": 6.4
       },
       {
        "Date new": "2014-12-12T00:00:00",
        "precipitation": 0,
        "temp_max": 11.1,
        "temp_min": 7.2,
        "weather": "sun",
        "wind": 3.7
       },
       {
        "Date new": "2014-12-13T00:00:00",
        "precipitation": 0,
        "temp_max": 10,
        "temp_min": 3.9,
        "weather": "fog",
        "wind": 1.1
       },
       {
        "Date new": "2014-12-14T00:00:00",
        "precipitation": 0,
        "temp_max": 12.8,
        "temp_min": 1.7,
        "weather": "fog",
        "wind": 3.5
       },
       {
        "Date new": "2014-12-15T00:00:00",
        "precipitation": 0,
        "temp_max": 12.2,
        "temp_min": 6.7,
        "weather": "sun",
        "wind": 5.9
       },
       {
        "Date new": "2014-12-16T00:00:00",
        "precipitation": 0,
        "temp_max": 10,
        "temp_min": 8.3,
        "weather": "sun",
        "wind": 4
       },
       {
        "Date new": "2014-12-17T00:00:00",
        "precipitation": 2.8,
        "temp_max": 8.9,
        "temp_min": 6.1,
        "weather": "fog",
        "wind": 1.6
       },
       {
        "Date new": "2014-12-18T00:00:00",
        "precipitation": 13,
        "temp_max": 9.4,
        "temp_min": 6.7,
        "weather": "fog",
        "wind": 3.1
       },
       {
        "Date new": "2014-12-19T00:00:00",
        "precipitation": 3,
        "temp_max": 11.1,
        "temp_min": 7.2,
        "weather": "sun",
        "wind": 4.3
       },
       {
        "Date new": "2014-12-20T00:00:00",
        "precipitation": 19.6,
        "temp_max": 12.8,
        "temp_min": 6.7,
        "weather": "fog",
        "wind": 5.5
       },
       {
        "Date new": "2014-12-21T00:00:00",
        "precipitation": 0,
        "temp_max": 12.8,
        "temp_min": 10,
        "weather": "sun",
        "wind": 5.2
       },
       {
        "Date new": "2014-12-22T00:00:00",
        "precipitation": 0,
        "temp_max": 10.6,
        "temp_min": 6.1,
        "weather": "sun",
        "wind": 1.5
       },
       {
        "Date new": "2014-12-23T00:00:00",
        "precipitation": 20.6,
        "temp_max": 12.2,
        "temp_min": 5,
        "weather": "fog",
        "wind": 3.8
       },
       {
        "Date new": "2014-12-24T00:00:00",
        "precipitation": 5.3,
        "temp_max": 7.2,
        "temp_min": 3.9,
        "weather": "fog",
        "wind": 1.8
       },
       {
        "Date new": "2014-12-25T00:00:00",
        "precipitation": 0,
        "temp_max": 7.8,
        "temp_min": 2.8,
        "weather": "fog",
        "wind": 2.2
       },
       {
        "Date new": "2014-12-26T00:00:00",
        "precipitation": 0,
        "temp_max": 5.6,
        "temp_min": 1.7,
        "weather": "fog",
        "wind": 1.2
       },
       {
        "Date new": "2014-12-27T00:00:00",
        "precipitation": 3.3,
        "temp_max": 9.4,
        "temp_min": 4.4,
        "weather": "fog",
        "wind": 4.9
       },
       {
        "Date new": "2014-12-28T00:00:00",
        "precipitation": 4.1,
        "temp_max": 6.7,
        "temp_min": 2.8,
        "weather": "fog",
        "wind": 1.8
       },
       {
        "Date new": "2014-12-29T00:00:00",
        "precipitation": 0,
        "temp_max": 6.1,
        "temp_min": 0.6,
        "weather": "fog",
        "wind": 4.3
       },
       {
        "Date new": "2014-12-30T00:00:00",
        "precipitation": 0,
        "temp_max": 3.3,
        "temp_min": -2.1,
        "weather": "sun",
        "wind": 3.6
       },
       {
        "Date new": "2014-12-31T00:00:00",
        "precipitation": 0,
        "temp_max": 3.3,
        "temp_min": -2.7,
        "weather": "sun",
        "wind": 3
       },
       {
        "Date new": "2015-01-01T00:00:00",
        "precipitation": 0,
        "temp_max": 5.6,
        "temp_min": -3.2,
        "weather": "sun",
        "wind": 1.2
       },
       {
        "Date new": "2015-01-02T00:00:00",
        "precipitation": 1.5,
        "temp_max": 5.6,
        "temp_min": 0,
        "weather": "fog",
        "wind": 2.3
       },
       {
        "Date new": "2015-01-03T00:00:00",
        "precipitation": 0,
        "temp_max": 5,
        "temp_min": 1.7,
        "weather": "fog",
        "wind": 1.7
       },
       {
        "Date new": "2015-01-04T00:00:00",
        "precipitation": 10.2,
        "temp_max": 10.6,
        "temp_min": 3.3,
        "weather": "fog",
        "wind": 4.5
       },
       {
        "Date new": "2015-01-05T00:00:00",
        "precipitation": 8.1,
        "temp_max": 12.2,
        "temp_min": 9.4,
        "weather": "fog",
        "wind": 6.4
       },
       {
        "Date new": "2015-01-06T00:00:00",
        "precipitation": 0,
        "temp_max": 12.2,
        "temp_min": 6.1,
        "weather": "fog",
        "wind": 1.3
       },
       {
        "Date new": "2015-01-07T00:00:00",
        "precipitation": 0,
        "temp_max": 7.8,
        "temp_min": 5.6,
        "weather": "fog",
        "wind": 1.6
       },
       {
        "Date new": "2015-01-08T00:00:00",
        "precipitation": 0,
        "temp_max": 7.8,
        "temp_min": 1.7,
        "weather": "fog",
        "wind": 2.6
       },
       {
        "Date new": "2015-01-09T00:00:00",
        "precipitation": 0.3,
        "temp_max": 10,
        "temp_min": 3.3,
        "weather": "fog",
        "wind": 0.6
       },
       {
        "Date new": "2015-01-10T00:00:00",
        "precipitation": 5.8,
        "temp_max": 7.8,
        "temp_min": 6.1,
        "weather": "fog",
        "wind": 0.5
       },
       {
        "Date new": "2015-01-11T00:00:00",
        "precipitation": 1.5,
        "temp_max": 9.4,
        "temp_min": 7.2,
        "weather": "fog",
        "wind": 1.1
       },
       {
        "Date new": "2015-01-12T00:00:00",
        "precipitation": 0,
        "temp_max": 11.1,
        "temp_min": 4.4,
        "weather": "fog",
        "wind": 1.6
       },
       {
        "Date new": "2015-01-13T00:00:00",
        "precipitation": 0,
        "temp_max": 9.4,
        "temp_min": 2.8,
        "weather": "fog",
        "wind": 2.7
       },
       {
        "Date new": "2015-01-14T00:00:00",
        "precipitation": 0,
        "temp_max": 6.1,
        "temp_min": 0.6,
        "weather": "fog",
        "wind": 2.8
       },
       {
        "Date new": "2015-01-15T00:00:00",
        "precipitation": 9.7,
        "temp_max": 7.8,
        "temp_min": 1.1,
        "weather": "fog",
        "wind": 3.2
       },
       {
        "Date new": "2015-01-16T00:00:00",
        "precipitation": 0,
        "temp_max": 11.7,
        "temp_min": 5.6,
        "weather": "fog",
        "wind": 4.5
       },
       {
        "Date new": "2015-01-17T00:00:00",
        "precipitation": 26.2,
        "temp_max": 13.3,
        "temp_min": 3.3,
        "weather": "fog",
        "wind": 2.8
       },
       {
        "Date new": "2015-01-18T00:00:00",
        "precipitation": 21.3,
        "temp_max": 13.9,
        "temp_min": 7.2,
        "weather": "rain",
        "wind": 6.6
       },
       {
        "Date new": "2015-01-19T00:00:00",
        "precipitation": 0.5,
        "temp_max": 10,
        "temp_min": 6.1,
        "weather": "sun",
        "wind": 2.8
       },
       {
        "Date new": "2015-01-20T00:00:00",
        "precipitation": 0,
        "temp_max": 10,
        "temp_min": 3.3,
        "weather": "fog",
        "wind": 3
       },
       {
        "Date new": "2015-01-21T00:00:00",
        "precipitation": 0,
        "temp_max": 7.2,
        "temp_min": -0.5,
        "weather": "fog",
        "wind": 1.3
       },
       {
        "Date new": "2015-01-22T00:00:00",
        "precipitation": 0.8,
        "temp_max": 9.4,
        "temp_min": 6.1,
        "weather": "fog",
        "wind": 1.3
       },
       {
        "Date new": "2015-01-23T00:00:00",
        "precipitation": 5.8,
        "temp_max": 12.2,
        "temp_min": 8.3,
        "weather": "fog",
        "wind": 2.6
       },
       {
        "Date new": "2015-01-24T00:00:00",
        "precipitation": 0.5,
        "temp_max": 14.4,
        "temp_min": 11.1,
        "weather": "fog",
        "wind": 3.3
       },
       {
        "Date new": "2015-01-25T00:00:00",
        "precipitation": 0,
        "temp_max": 17.2,
        "temp_min": 7.2,
        "weather": "fog",
        "wind": 1.4
       },
       {
        "Date new": "2015-01-26T00:00:00",
        "precipitation": 0,
        "temp_max": 16.1,
        "temp_min": 6.1,
        "weather": "fog",
        "wind": 2.2
       },
       {
        "Date new": "2015-01-27T00:00:00",
        "precipitation": 0.8,
        "temp_max": 11.1,
        "temp_min": 8.3,
        "weather": "fog",
        "wind": 2
       },
       {
        "Date new": "2015-01-28T00:00:00",
        "precipitation": 0,
        "temp_max": 12.2,
        "temp_min": 5,
        "weather": "fog",
        "wind": 1.8
       },
       {
        "Date new": "2015-01-29T00:00:00",
        "precipitation": 0,
        "temp_max": 12.2,
        "temp_min": 3.3,
        "weather": "sun",
        "wind": 2.9
       },
       {
        "Date new": "2015-01-30T00:00:00",
        "precipitation": 0,
        "temp_max": 8.3,
        "temp_min": 1.1,
        "weather": "fog",
        "wind": 0.8
       },
       {
        "Date new": "2015-01-31T00:00:00",
        "precipitation": 0,
        "temp_max": 7.2,
        "temp_min": 3.3,
        "weather": "fog",
        "wind": 1.9
       },
       {
        "Date new": "2015-02-01T00:00:00",
        "precipitation": 1.5,
        "temp_max": 9.4,
        "temp_min": 4.4,
        "weather": "fog",
        "wind": 2.6
       },
       {
        "Date new": "2015-02-02T00:00:00",
        "precipitation": 7.4,
        "temp_max": 11.1,
        "temp_min": 5,
        "weather": "fog",
        "wind": 4
       },
       {
        "Date new": "2015-02-03T00:00:00",
        "precipitation": 1.3,
        "temp_max": 10,
        "temp_min": 5.6,
        "weather": "fog",
        "wind": 1.9
       },
       {
        "Date new": "2015-02-04T00:00:00",
        "precipitation": 8.4,
        "temp_max": 10.6,
        "temp_min": 4.4,
        "weather": "fog",
        "wind": 1.7
       },
       {
        "Date new": "2015-02-05T00:00:00",
        "precipitation": 26.2,
        "temp_max": 13.3,
        "temp_min": 8.3,
        "weather": "fog",
        "wind": 4.6
       },
       {
        "Date new": "2015-02-06T00:00:00",
        "precipitation": 17.3,
        "temp_max": 14.4,
        "temp_min": 10,
        "weather": "fog",
        "wind": 4.5
       },
       {
        "Date new": "2015-02-07T00:00:00",
        "precipitation": 23.6,
        "temp_max": 12.2,
        "temp_min": 9.4,
        "weather": "fog",
        "wind": 4.6
       },
       {
        "Date new": "2015-02-08T00:00:00",
        "precipitation": 3.6,
        "temp_max": 15,
        "temp_min": 8.3,
        "weather": "fog",
        "wind": 3.9
       },
       {
        "Date new": "2015-02-09T00:00:00",
        "precipitation": 6.1,
        "temp_max": 13.3,
        "temp_min": 8.3,
        "weather": "fog",
        "wind": 2.5
       },
       {
        "Date new": "2015-02-10T00:00:00",
        "precipitation": 0.3,
        "temp_max": 12.8,
        "temp_min": 8.3,
        "weather": "fog",
        "wind": 4
       },
       {
        "Date new": "2015-02-11T00:00:00",
        "precipitation": 0,
        "temp_max": 12.8,
        "temp_min": 5.6,
        "weather": "fog",
        "wind": 1
       },
       {
        "Date new": "2015-02-12T00:00:00",
        "precipitation": 1,
        "temp_max": 16.7,
        "temp_min": 9.4,
        "weather": "sun",
        "wind": 2.1
       },
       {
        "Date new": "2015-02-13T00:00:00",
        "precipitation": 0,
        "temp_max": 15.6,
        "temp_min": 6.7,
        "weather": "fog",
        "wind": 1.7
       },
       {
        "Date new": "2015-02-14T00:00:00",
        "precipitation": 0.3,
        "temp_max": 14.4,
        "temp_min": 6.7,
        "weather": "fog",
        "wind": 2.9
       },
       {
        "Date new": "2015-02-15T00:00:00",
        "precipitation": 0,
        "temp_max": 12.2,
        "temp_min": 3.9,
        "weather": "sun",
        "wind": 4.8
       },
       {
        "Date new": "2015-02-16T00:00:00",
        "precipitation": 0,
        "temp_max": 15,
        "temp_min": 5.6,
        "weather": "fog",
        "wind": 6.6
       },
       {
        "Date new": "2015-02-17T00:00:00",
        "precipitation": 0,
        "temp_max": 16.1,
        "temp_min": 4.4,
        "weather": "sun",
        "wind": 4
       },
       {
        "Date new": "2015-02-18T00:00:00",
        "precipitation": 0,
        "temp_max": 12.2,
        "temp_min": 4.4,
        "weather": "sun",
        "wind": 2.6
       },
       {
        "Date new": "2015-02-19T00:00:00",
        "precipitation": 4.6,
        "temp_max": 10.6,
        "temp_min": 8.3,
        "weather": "fog",
        "wind": 2.2
       },
       {
        "Date new": "2015-02-20T00:00:00",
        "precipitation": 0.8,
        "temp_max": 11.1,
        "temp_min": 7.2,
        "weather": "fog",
        "wind": 0.9
       },
       {
        "Date new": "2015-02-21T00:00:00",
        "precipitation": 0,
        "temp_max": 12.2,
        "temp_min": 5.6,
        "weather": "sun",
        "wind": 4.5
       },
       {
        "Date new": "2015-02-22T00:00:00",
        "precipitation": 0,
        "temp_max": 11.7,
        "temp_min": 3.3,
        "weather": "sun",
        "wind": 4.2
       },
       {
        "Date new": "2015-02-23T00:00:00",
        "precipitation": 0,
        "temp_max": 12.8,
        "temp_min": 0.6,
        "weather": "sun",
        "wind": 1.4
       },
       {
        "Date new": "2015-02-24T00:00:00",
        "precipitation": 0,
        "temp_max": 11.1,
        "temp_min": 2.2,
        "weather": "sun",
        "wind": 1.5
       },
       {
        "Date new": "2015-02-25T00:00:00",
        "precipitation": 4.1,
        "temp_max": 10,
        "temp_min": 6.7,
        "weather": "fog",
        "wind": 1
       },
       {
        "Date new": "2015-02-26T00:00:00",
        "precipitation": 9.4,
        "temp_max": 11.7,
        "temp_min": 7.8,
        "weather": "fog",
        "wind": 1.4
       },
       {
        "Date new": "2015-02-27T00:00:00",
        "precipitation": 18.3,
        "temp_max": 10,
        "temp_min": 6.7,
        "weather": "fog",
        "wind": 4
       },
       {
        "Date new": "2015-02-28T00:00:00",
        "precipitation": 0,
        "temp_max": 12.2,
        "temp_min": 3.3,
        "weather": "sun",
        "wind": 5.1
       },
       {
        "Date new": "2015-03-01T00:00:00",
        "precipitation": 0,
        "temp_max": 11.1,
        "temp_min": 1.1,
        "weather": "sun",
        "wind": 2.2
       },
       {
        "Date new": "2015-03-02T00:00:00",
        "precipitation": 0,
        "temp_max": 11.1,
        "temp_min": 4.4,
        "weather": "sun",
        "wind": 4.8
       },
       {
        "Date new": "2015-03-03T00:00:00",
        "precipitation": 0,
        "temp_max": 10.6,
        "temp_min": 0,
        "weather": "sun",
        "wind": 2.1
       },
       {
        "Date new": "2015-03-04T00:00:00",
        "precipitation": 0,
        "temp_max": 12.8,
        "temp_min": -0.5,
        "weather": "sun",
        "wind": 1.8
       },
       {
        "Date new": "2015-03-05T00:00:00",
        "precipitation": 0,
        "temp_max": 13.3,
        "temp_min": 2.8,
        "weather": "sun",
        "wind": 1.3
       },
       {
        "Date new": "2015-03-06T00:00:00",
        "precipitation": 0,
        "temp_max": 15,
        "temp_min": 3.3,
        "weather": "sun",
        "wind": 1.4
       },
       {
        "Date new": "2015-03-07T00:00:00",
        "precipitation": 0,
        "temp_max": 16.7,
        "temp_min": 3.9,
        "weather": "fog",
        "wind": 2.7
       },
       {
        "Date new": "2015-03-08T00:00:00",
        "precipitation": 0,
        "temp_max": 17.2,
        "temp_min": 3.9,
        "weather": "fog",
        "wind": 1.7
       },
       {
        "Date new": "2015-03-09T00:00:00",
        "precipitation": 0,
        "temp_max": 14.4,
        "temp_min": 4.4,
        "weather": "fog",
        "wind": 1.8
       },
       {
        "Date new": "2015-03-10T00:00:00",
        "precipitation": 0.8,
        "temp_max": 13.3,
        "temp_min": 5,
        "weather": "fog",
        "wind": 2.6
       },
       {
        "Date new": "2015-03-11T00:00:00",
        "precipitation": 2.5,
        "temp_max": 14.4,
        "temp_min": 8.9,
        "weather": "fog",
        "wind": 3.1
       },
       {
        "Date new": "2015-03-12T00:00:00",
        "precipitation": 0,
        "temp_max": 17.8,
        "temp_min": 9.4,
        "weather": "sun",
        "wind": 3.2
       },
       {
        "Date new": "2015-03-13T00:00:00",
        "precipitation": 2,
        "temp_max": 17.2,
        "temp_min": 7.8,
        "weather": "sun",
        "wind": 2.2
       },
       {
        "Date new": "2015-03-14T00:00:00",
        "precipitation": 17,
        "temp_max": 13.9,
        "temp_min": 9.4,
        "weather": "fog",
        "wind": 3.8
       },
       {
        "Date new": "2015-03-15T00:00:00",
        "precipitation": 55.9,
        "temp_max": 10.6,
        "temp_min": 6.1,
        "weather": "fog",
        "wind": 4.2
       },
       {
        "Date new": "2015-03-16T00:00:00",
        "precipitation": 1,
        "temp_max": 13.9,
        "temp_min": 6.1,
        "weather": "fog",
        "wind": 3
       },
       {
        "Date new": "2015-03-17T00:00:00",
        "precipitation": 0.8,
        "temp_max": 13.3,
        "temp_min": 4.4,
        "weather": "sun",
        "wind": 2.6
       },
       {
        "Date new": "2015-03-18T00:00:00",
        "precipitation": 0,
        "temp_max": 15.6,
        "temp_min": 7.2,
        "weather": "sun",
        "wind": 2.5
       },
       {
        "Date new": "2015-03-19T00:00:00",
        "precipitation": 0,
        "temp_max": 15.6,
        "temp_min": 8.3,
        "weather": "sun",
        "wind": 1.9
       },
       {
        "Date new": "2015-03-20T00:00:00",
        "precipitation": 4.1,
        "temp_max": 13.9,
        "temp_min": 8.9,
        "weather": "sun",
        "wind": 1.9
       },
       {
        "Date new": "2015-03-21T00:00:00",
        "precipitation": 3.8,
        "temp_max": 13.3,
        "temp_min": 8.3,
        "weather": "fog",
        "wind": 4.7
       },
       {
        "Date new": "2015-03-22T00:00:00",
        "precipitation": 1,
        "temp_max": 11.7,
        "temp_min": 6.1,
        "weather": "sun",
        "wind": 2.3
       },
       {
        "Date new": "2015-03-23T00:00:00",
        "precipitation": 8.1,
        "temp_max": 11.1,
        "temp_min": 5.6,
        "weather": "fog",
        "wind": 2.8
       },
       {
        "Date new": "2015-03-24T00:00:00",
        "precipitation": 7.6,
        "temp_max": 12.8,
        "temp_min": 6.1,
        "weather": "fog",
        "wind": 3.9
       },
       {
        "Date new": "2015-03-25T00:00:00",
        "precipitation": 5.1,
        "temp_max": 14.4,
        "temp_min": 7.2,
        "weather": "fog",
        "wind": 4.4
       },
       {
        "Date new": "2015-03-26T00:00:00",
        "precipitation": 0,
        "temp_max": 20.6,
        "temp_min": 10,
        "weather": "sun",
        "wind": 2.2
       },
       {
        "Date new": "2015-03-27T00:00:00",
        "precipitation": 1,
        "temp_max": 18.3,
        "temp_min": 8.9,
        "weather": "fog",
        "wind": 4
       },
       {
        "Date new": "2015-03-28T00:00:00",
        "precipitation": 0,
        "temp_max": 15.6,
        "temp_min": 9.4,
        "weather": "sun",
        "wind": 5.7
       },
       {
        "Date new": "2015-03-29T00:00:00",
        "precipitation": 0,
        "temp_max": 15.6,
        "temp_min": 8.9,
        "weather": "sun",
        "wind": 3
       },
       {
        "Date new": "2015-03-30T00:00:00",
        "precipitation": 1.8,
        "temp_max": 17.8,
        "temp_min": 10.6,
        "weather": "fog",
        "wind": 2.9
       },
       {
        "Date new": "2015-03-31T00:00:00",
        "precipitation": 1,
        "temp_max": 12.8,
        "temp_min": 6.1,
        "weather": "fog",
        "wind": 4.2
       },
       {
        "Date new": "2015-04-01T00:00:00",
        "precipitation": 5.1,
        "temp_max": 12.8,
        "temp_min": 5.6,
        "weather": "rain",
        "wind": 3.2
       },
       {
        "Date new": "2015-04-02T00:00:00",
        "precipitation": 0,
        "temp_max": 13.3,
        "temp_min": 5.6,
        "weather": "sun",
        "wind": 2.4
       },
       {
        "Date new": "2015-04-03T00:00:00",
        "precipitation": 1.5,
        "temp_max": 11.1,
        "temp_min": 5,
        "weather": "fog",
        "wind": 3.6
       },
       {
        "Date new": "2015-04-04T00:00:00",
        "precipitation": 0,
        "temp_max": 12.8,
        "temp_min": 3.9,
        "weather": "sun",
        "wind": 1.7
       },
       {
        "Date new": "2015-04-05T00:00:00",
        "precipitation": 0,
        "temp_max": 16.7,
        "temp_min": 2.8,
        "weather": "sun",
        "wind": 2.4
       },
       {
        "Date new": "2015-04-06T00:00:00",
        "precipitation": 1,
        "temp_max": 13.9,
        "temp_min": 6.7,
        "weather": "sun",
        "wind": 3.5
       },
       {
        "Date new": "2015-04-07T00:00:00",
        "precipitation": 0.5,
        "temp_max": 14.4,
        "temp_min": 6.7,
        "weather": "sun",
        "wind": 3.9
       },
       {
        "Date new": "2015-04-08T00:00:00",
        "precipitation": 0,
        "temp_max": 17.2,
        "temp_min": 6.1,
        "weather": "sun",
        "wind": 1.7
       },
       {
        "Date new": "2015-04-09T00:00:00",
        "precipitation": 0,
        "temp_max": 17.2,
        "temp_min": 6.1,
        "weather": "sun",
        "wind": 2.3
       },
       {
        "Date new": "2015-04-10T00:00:00",
        "precipitation": 10.9,
        "temp_max": 13.9,
        "temp_min": 7.8,
        "weather": "fog",
        "wind": 4.6
       },
       {
        "Date new": "2015-04-11T00:00:00",
        "precipitation": 0,
        "temp_max": 11.7,
        "temp_min": 5.6,
        "weather": "sun",
        "wind": 6.5
       },
       {
        "Date new": "2015-04-12T00:00:00",
        "precipitation": 0,
        "temp_max": 13.3,
        "temp_min": 5.6,
        "weather": "sun",
        "wind": 3.6
       },
       {
        "Date new": "2015-04-13T00:00:00",
        "precipitation": 14,
        "temp_max": 11.7,
        "temp_min": 3.9,
        "weather": "fog",
        "wind": 3.6
       },
       {
        "Date new": "2015-04-14T00:00:00",
        "precipitation": 3.3,
        "temp_max": 11.7,
        "temp_min": 2.8,
        "weather": "sun",
        "wind": 3.3
       },
       {
        "Date new": "2015-04-15T00:00:00",
        "precipitation": 0,
        "temp_max": 13.9,
        "temp_min": 3.3,
        "weather": "sun",
        "wind": 2.4
       },
       {
        "Date new": "2015-04-16T00:00:00",
        "precipitation": 0,
        "temp_max": 17.8,
        "temp_min": 3.9,
        "weather": "sun",
        "wind": 3.1
       },
       {
        "Date new": "2015-04-17T00:00:00",
        "precipitation": 0,
        "temp_max": 18.9,
        "temp_min": 6.1,
        "weather": "sun",
        "wind": 3.6
       },
       {
        "Date new": "2015-04-18T00:00:00",
        "precipitation": 0,
        "temp_max": 18.9,
        "temp_min": 8.3,
        "weather": "sun",
        "wind": 3.9
       },
       {
        "Date new": "2015-04-19T00:00:00",
        "precipitation": 0,
        "temp_max": 21.1,
        "temp_min": 8.3,
        "weather": "sun",
        "wind": 3.6
       },
       {
        "Date new": "2015-04-20T00:00:00",
        "precipitation": 0,
        "temp_max": 22.8,
        "temp_min": 7.8,
        "weather": "sun",
        "wind": 2.6
       },
       {
        "Date new": "2015-04-21T00:00:00",
        "precipitation": 5.6,
        "temp_max": 17.2,
        "temp_min": 6.7,
        "weather": "fog",
        "wind": 3.4
       },
       {
        "Date new": "2015-04-22T00:00:00",
        "precipitation": 0,
        "temp_max": 15.6,
        "temp_min": 5,
        "weather": "sun",
        "wind": 2.3
       },
       {
        "Date new": "2015-04-23T00:00:00",
        "precipitation": 3,
        "temp_max": 12.2,
        "temp_min": 6.7,
        "weather": "fog",
        "wind": 4.1
       },
       {
        "Date new": "2015-04-24T00:00:00",
        "precipitation": 3.3,
        "temp_max": 12.2,
        "temp_min": 6.1,
        "weather": "fog",
        "wind": 5
       },
       {
        "Date new": "2015-04-25T00:00:00",
        "precipitation": 1.3,
        "temp_max": 13.3,
        "temp_min": 5.6,
        "weather": "fog",
        "wind": 3
       },
       {
        "Date new": "2015-04-26T00:00:00",
        "precipitation": 0,
        "temp_max": 15.6,
        "temp_min": 4.4,
        "weather": "fog",
        "wind": 2.7
       },
       {
        "Date new": "2015-04-27T00:00:00",
        "precipitation": 0.3,
        "temp_max": 25,
        "temp_min": 10.6,
        "weather": "fog",
        "wind": 2.3
       },
       {
        "Date new": "2015-04-28T00:00:00",
        "precipitation": 1.8,
        "temp_max": 15.6,
        "temp_min": 8.9,
        "weather": "fog",
        "wind": 4.3
       },
       {
        "Date new": "2015-04-29T00:00:00",
        "precipitation": 0,
        "temp_max": 16.1,
        "temp_min": 7.2,
        "weather": "sun",
        "wind": 4.7
       },
       {
        "Date new": "2015-04-30T00:00:00",
        "precipitation": 0,
        "temp_max": 17.2,
        "temp_min": 7.8,
        "weather": "sun",
        "wind": 2.1
       },
       {
        "Date new": "2015-05-01T00:00:00",
        "precipitation": 0,
        "temp_max": 18.3,
        "temp_min": 8.9,
        "weather": "sun",
        "wind": 3.7
       },
       {
        "Date new": "2015-05-02T00:00:00",
        "precipitation": 0,
        "temp_max": 18.3,
        "temp_min": 7.8,
        "weather": "sun",
        "wind": 3.7
       },
       {
        "Date new": "2015-05-03T00:00:00",
        "precipitation": 0,
        "temp_max": 20.6,
        "temp_min": 7.8,
        "weather": "sun",
        "wind": 2.6
       },
       {
        "Date new": "2015-05-04T00:00:00",
        "precipitation": 0,
        "temp_max": 17.2,
        "temp_min": 7.2,
        "weather": "sun",
        "wind": 5.2
       },
       {
        "Date new": "2015-05-05T00:00:00",
        "precipitation": 6.1,
        "temp_max": 14.4,
        "temp_min": 7.2,
        "weather": "fog",
        "wind": 5.1
       },
       {
        "Date new": "2015-05-06T00:00:00",
        "precipitation": 0,
        "temp_max": 16.7,
        "temp_min": 7.2,
        "weather": "fog",
        "wind": 2.6
       },
       {
        "Date new": "2015-05-07T00:00:00",
        "precipitation": 0,
        "temp_max": 20.6,
        "temp_min": 6.1,
        "weather": "sun",
        "wind": 3
       },
       {
        "Date new": "2015-05-08T00:00:00",
        "precipitation": 0,
        "temp_max": 23.9,
        "temp_min": 8.3,
        "weather": "sun",
        "wind": 3
       },
       {
        "Date new": "2015-05-09T00:00:00",
        "precipitation": 0,
        "temp_max": 26.7,
        "temp_min": 9.4,
        "weather": "sun",
        "wind": 2.6
       },
       {
        "Date new": "2015-05-10T00:00:00",
        "precipitation": 0,
        "temp_max": 19.4,
        "temp_min": 11.1,
        "weather": "sun",
        "wind": 2.8
       },
       {
        "Date new": "2015-05-11T00:00:00",
        "precipitation": 0,
        "temp_max": 13.9,
        "temp_min": 10,
        "weather": "fog",
        "wind": 2.5
       },
       {
        "Date new": "2015-05-12T00:00:00",
        "precipitation": 4.3,
        "temp_max": 15.6,
        "temp_min": 10.6,
        "weather": "fog",
        "wind": 3.3
       },
       {
        "Date new": "2015-05-13T00:00:00",
        "precipitation": 4.1,
        "temp_max": 12.2,
        "temp_min": 10,
        "weather": "fog",
        "wind": 2.8
       },
       {
        "Date new": "2015-05-14T00:00:00",
        "precipitation": 0.3,
        "temp_max": 17.8,
        "temp_min": 9.4,
        "weather": "fog",
        "wind": 2
       },
       {
        "Date new": "2015-05-15T00:00:00",
        "precipitation": 0,
        "temp_max": 20,
        "temp_min": 9.4,
        "weather": "fog",
        "wind": 2.8
       },
       {
        "Date new": "2015-05-16T00:00:00",
        "precipitation": 0,
        "temp_max": 15.6,
        "temp_min": 11.1,
        "weather": "sun",
        "wind": 3
       },
       {
        "Date new": "2015-05-17T00:00:00",
        "precipitation": 0,
        "temp_max": 19.4,
        "temp_min": 10.6,
        "weather": "sun",
        "wind": 2.1
       },
       {
        "Date new": "2015-05-18T00:00:00",
        "precipitation": 0,
        "temp_max": 25.6,
        "temp_min": 12.2,
        "weather": "sun",
        "wind": 3
       },
       {
        "Date new": "2015-05-19T00:00:00",
        "precipitation": 0,
        "temp_max": 21.7,
        "temp_min": 11.7,
        "weather": "sun",
        "wind": 2.6
       },
       {
        "Date new": "2015-05-20T00:00:00",
        "precipitation": 0,
        "temp_max": 23.3,
        "temp_min": 10.6,
        "weather": "fog",
        "wind": 1.8
       },
       {
        "Date new": "2015-05-21T00:00:00",
        "precipitation": 0,
        "temp_max": 25.6,
        "temp_min": 11.7,
        "weather": "sun",
        "wind": 2.1
       },
       {
        "Date new": "2015-05-22T00:00:00",
        "precipitation": 0,
        "temp_max": 16.7,
        "temp_min": 11.7,
        "weather": "sun",
        "wind": 3.7
       },
       {
        "Date new": "2015-05-23T00:00:00",
        "precipitation": 0,
        "temp_max": 16.1,
        "temp_min": 11.7,
        "weather": "sun",
        "wind": 2.6
       },
       {
        "Date new": "2015-05-24T00:00:00",
        "precipitation": 0,
        "temp_max": 17.8,
        "temp_min": 11.1,
        "weather": "sun",
        "wind": 2.7
       },
       {
        "Date new": "2015-05-25T00:00:00",
        "precipitation": 0,
        "temp_max": 15.6,
        "temp_min": 11.1,
        "weather": "sun",
        "wind": 2.7
       },
       {
        "Date new": "2015-05-26T00:00:00",
        "precipitation": 0,
        "temp_max": 21.7,
        "temp_min": 11.7,
        "weather": "sun",
        "wind": 2.1
       },
       {
        "Date new": "2015-05-27T00:00:00",
        "precipitation": 0,
        "temp_max": 24.4,
        "temp_min": 11.7,
        "weather": "sun",
        "wind": 1.8
       },
       {
        "Date new": "2015-05-28T00:00:00",
        "precipitation": 0,
        "temp_max": 27.8,
        "temp_min": 12.2,
        "weather": "sun",
        "wind": 2.1
       },
       {
        "Date new": "2015-05-29T00:00:00",
        "precipitation": 0,
        "temp_max": 26.1,
        "temp_min": 12.8,
        "weather": "sun",
        "wind": 2.5
       },
       {
        "Date new": "2015-05-30T00:00:00",
        "precipitation": 0,
        "temp_max": 22.8,
        "temp_min": 10,
        "weather": "sun",
        "wind": 2.5
       },
       {
        "Date new": "2015-05-31T00:00:00",
        "precipitation": 0,
        "temp_max": 25,
        "temp_min": 11.7,
        "weather": "sun",
        "wind": 2.2
       },
       {
        "Date new": "2015-06-01T00:00:00",
        "precipitation": 4.6,
        "temp_max": 16.1,
        "temp_min": 11.7,
        "weather": "fog",
        "wind": 3.4
       },
       {
        "Date new": "2015-06-02T00:00:00",
        "precipitation": 0.5,
        "temp_max": 17.8,
        "temp_min": 12.8,
        "weather": "sun",
        "wind": 5
       },
       {
        "Date new": "2015-06-03T00:00:00",
        "precipitation": 0,
        "temp_max": 20,
        "temp_min": 11.7,
        "weather": "sun",
        "wind": 3
       },
       {
        "Date new": "2015-06-04T00:00:00",
        "precipitation": 0,
        "temp_max": 22.8,
        "temp_min": 11.7,
        "weather": "sun",
        "wind": 3.9
       },
       {
        "Date new": "2015-06-05T00:00:00",
        "precipitation": 0,
        "temp_max": 26.7,
        "temp_min": 12.8,
        "weather": "sun",
        "wind": 4.3
       },
       {
        "Date new": "2015-06-06T00:00:00",
        "precipitation": 0,
        "temp_max": 29.4,
        "temp_min": 13.3,
        "weather": "sun",
        "wind": 2.6
       },
       {
        "Date new": "2015-06-07T00:00:00",
        "precipitation": 0,
        "temp_max": 31.1,
        "temp_min": 15.6,
        "weather": "sun",
        "wind": 3.2
       },
       {
        "Date new": "2015-06-08T00:00:00",
        "precipitation": 0,
        "temp_max": 30.6,
        "temp_min": 14.4,
        "weather": "sun",
        "wind": 3.5
       },
       {
        "Date new": "2015-06-09T00:00:00",
        "precipitation": 0,
        "temp_max": 28.9,
        "temp_min": 14.4,
        "weather": "sun",
        "wind": 2.7
       },
       {
        "Date new": "2015-06-10T00:00:00",
        "precipitation": 0,
        "temp_max": 25.6,
        "temp_min": 11.1,
        "weather": "sun",
        "wind": 3
       },
       {
        "Date new": "2015-06-11T00:00:00",
        "precipitation": 0,
        "temp_max": 24.4,
        "temp_min": 11.1,
        "weather": "sun",
        "wind": 3.5
       },
       {
        "Date new": "2015-06-12T00:00:00",
        "precipitation": 0,
        "temp_max": 20,
        "temp_min": 11.7,
        "weather": "sun",
        "wind": 2.3
       },
       {
        "Date new": "2015-06-13T00:00:00",
        "precipitation": 0,
        "temp_max": 23.9,
        "temp_min": 9.4,
        "weather": "sun",
        "wind": 2.6
       },
       {
        "Date new": "2015-06-14T00:00:00",
        "precipitation": 0,
        "temp_max": 27.8,
        "temp_min": 11.7,
        "weather": "sun",
        "wind": 3.7
       },
       {
        "Date new": "2015-06-15T00:00:00",
        "precipitation": 0,
        "temp_max": 30,
        "temp_min": 16.1,
        "weather": "drizzle",
        "wind": 3.5
       },
       {
        "Date new": "2015-06-16T00:00:00",
        "precipitation": 0,
        "temp_max": 22.8,
        "temp_min": 11.1,
        "weather": "sun",
        "wind": 3
       },
       {
        "Date new": "2015-06-17T00:00:00",
        "precipitation": 0,
        "temp_max": 25,
        "temp_min": 11.1,
        "weather": "sun",
        "wind": 3.1
       },
       {
        "Date new": "2015-06-18T00:00:00",
        "precipitation": 0,
        "temp_max": 24.4,
        "temp_min": 13.9,
        "weather": "sun",
        "wind": 3
       },
       {
        "Date new": "2015-06-19T00:00:00",
        "precipitation": 0.5,
        "temp_max": 23.9,
        "temp_min": 13.3,
        "weather": "fog",
        "wind": 3.2
       },
       {
        "Date new": "2015-06-20T00:00:00",
        "precipitation": 0,
        "temp_max": 25,
        "temp_min": 12.8,
        "weather": "sun",
        "wind": 4.3
       },
       {
        "Date new": "2015-06-21T00:00:00",
        "precipitation": 0,
        "temp_max": 25.6,
        "temp_min": 13.9,
        "weather": "sun",
        "wind": 3.4
       },
       {
        "Date new": "2015-06-22T00:00:00",
        "precipitation": 0,
        "temp_max": 25,
        "temp_min": 12.8,
        "weather": "sun",
        "wind": 2.4
       },
       {
        "Date new": "2015-06-23T00:00:00",
        "precipitation": 0,
        "temp_max": 26.1,
        "temp_min": 11.7,
        "weather": "sun",
        "wind": 2.4
       },
       {
        "Date new": "2015-06-24T00:00:00",
        "precipitation": 0,
        "temp_max": 25.6,
        "temp_min": 16.1,
        "weather": "sun",
        "wind": 2.6
       },
       {
        "Date new": "2015-06-25T00:00:00",
        "precipitation": 0,
        "temp_max": 30.6,
        "temp_min": 15.6,
        "weather": "sun",
        "wind": 3
       },
       {
        "Date new": "2015-06-26T00:00:00",
        "precipitation": 0,
        "temp_max": 31.7,
        "temp_min": 17.8,
        "weather": "sun",
        "wind": 4.7
       },
       {
        "Date new": "2015-06-27T00:00:00",
        "precipitation": 0,
        "temp_max": 33.3,
        "temp_min": 17.2,
        "weather": "sun",
        "wind": 3.9
       },
       {
        "Date new": "2015-06-28T00:00:00",
        "precipitation": 0.3,
        "temp_max": 28.3,
        "temp_min": 18.3,
        "weather": "sun",
        "wind": 2.1
       },
       {
        "Date new": "2015-06-29T00:00:00",
        "precipitation": 0,
        "temp_max": 28.9,
        "temp_min": 17.2,
        "weather": "sun",
        "wind": 2.7
       },
       {
        "Date new": "2015-06-30T00:00:00",
        "precipitation": 0,
        "temp_max": 30.6,
        "temp_min": 15,
        "weather": "fog",
        "wind": 3.4
       },
       {
        "Date new": "2015-07-01T00:00:00",
        "precipitation": 0,
        "temp_max": 32.2,
        "temp_min": 17.2,
        "weather": "sun",
        "wind": 4.3
       },
       {
        "Date new": "2015-07-02T00:00:00",
        "precipitation": 0,
        "temp_max": 33.9,
        "temp_min": 17.8,
        "weather": "sun",
        "wind": 3.4
       },
       {
        "Date new": "2015-07-03T00:00:00",
        "precipitation": 0,
        "temp_max": 33.3,
        "temp_min": 17.8,
        "weather": "sun",
        "wind": 2.6
       },
       {
        "Date new": "2015-07-04T00:00:00",
        "precipitation": 0,
        "temp_max": 33.3,
        "temp_min": 15,
        "weather": "sun",
        "wind": 2.9
       },
       {
        "Date new": "2015-07-05T00:00:00",
        "precipitation": 0,
        "temp_max": 32.8,
        "temp_min": 16.7,
        "weather": "sun",
        "wind": 2.1
       },
       {
        "Date new": "2015-07-06T00:00:00",
        "precipitation": 0,
        "temp_max": 29.4,
        "temp_min": 15.6,
        "weather": "drizzle",
        "wind": 3.2
       },
       {
        "Date new": "2015-07-07T00:00:00",
        "precipitation": 0,
        "temp_max": 27.2,
        "temp_min": 13.9,
        "weather": "sun",
        "wind": 2.4
       },
       {
        "Date new": "2015-07-08T00:00:00",
        "precipitation": 0,
        "temp_max": 30,
        "temp_min": 14.4,
        "weather": "drizzle",
        "wind": 1.9
       },
       {
        "Date new": "2015-07-09T00:00:00",
        "precipitation": 0,
        "temp_max": 28.9,
        "temp_min": 14.4,
        "weather": "sun",
        "wind": 3.4
       },
       {
        "Date new": "2015-07-10T00:00:00",
        "precipitation": 0,
        "temp_max": 21.1,
        "temp_min": 16.7,
        "weather": "sun",
        "wind": 3.7
       },
       {
        "Date new": "2015-07-11T00:00:00",
        "precipitation": 0,
        "temp_max": 22.2,
        "temp_min": 16.7,
        "weather": "sun",
        "wind": 3
       },
       {
        "Date new": "2015-07-12T00:00:00",
        "precipitation": 0,
        "temp_max": 26.1,
        "temp_min": 16.7,
        "weather": "sun",
        "wind": 2.2
       },
       {
        "Date new": "2015-07-13T00:00:00",
        "precipitation": 0,
        "temp_max": 25.6,
        "temp_min": 16.1,
        "weather": "sun",
        "wind": 3.1
       },
       {
        "Date new": "2015-07-14T00:00:00",
        "precipitation": 0,
        "temp_max": 27.8,
        "temp_min": 16.1,
        "weather": "sun",
        "wind": 3.3
       },
       {
        "Date new": "2015-07-15T00:00:00",
        "precipitation": 0,
        "temp_max": 26.1,
        "temp_min": 14.4,
        "weather": "sun",
        "wind": 3.2
       },
       {
        "Date new": "2015-07-16T00:00:00",
        "precipitation": 0,
        "temp_max": 26.1,
        "temp_min": 15,
        "weather": "sun",
        "wind": 2.8
       },
       {
        "Date new": "2015-07-17T00:00:00",
        "precipitation": 0,
        "temp_max": 27.8,
        "temp_min": 13.9,
        "weather": "sun",
        "wind": 3.3
       },
       {
        "Date new": "2015-07-18T00:00:00",
        "precipitation": 0,
        "temp_max": 33.3,
        "temp_min": 17.8,
        "weather": "sun",
        "wind": 3.4
       },
       {
        "Date new": "2015-07-19T00:00:00",
        "precipitation": 0,
        "temp_max": 35,
        "temp_min": 17.2,
        "weather": "sun",
        "wind": 3.3
       },
       {
        "Date new": "2015-07-20T00:00:00",
        "precipitation": 0,
        "temp_max": 26.7,
        "temp_min": 16.7,
        "weather": "sun",
        "wind": 3.9
       },
       {
        "Date new": "2015-07-21T00:00:00",
        "precipitation": 0,
        "temp_max": 23.9,
        "temp_min": 15,
        "weather": "sun",
        "wind": 2.4
       },
       {
        "Date new": "2015-07-22T00:00:00",
        "precipitation": 0,
        "temp_max": 23.9,
        "temp_min": 13.9,
        "weather": "sun",
        "wind": 2.8
       },
       {
        "Date new": "2015-07-23T00:00:00",
        "precipitation": 0,
        "temp_max": 26.1,
        "temp_min": 14.4,
        "weather": "sun",
        "wind": 1.9
       },
       {
        "Date new": "2015-07-24T00:00:00",
        "precipitation": 0.3,
        "temp_max": 22.8,
        "temp_min": 13.3,
        "weather": "fog",
        "wind": 3.8
       },
       {
        "Date new": "2015-07-25T00:00:00",
        "precipitation": 0,
        "temp_max": 21.1,
        "temp_min": 14.4,
        "weather": "fog",
        "wind": 2.4
       },
       {
        "Date new": "2015-07-26T00:00:00",
        "precipitation": 2,
        "temp_max": 22.2,
        "temp_min": 13.9,
        "weather": "fog",
        "wind": 2.6
       },
       {
        "Date new": "2015-07-27T00:00:00",
        "precipitation": 0,
        "temp_max": 23.3,
        "temp_min": 12.2,
        "weather": "fog",
        "wind": 1.9
       },
       {
        "Date new": "2015-07-28T00:00:00",
        "precipitation": 0,
        "temp_max": 27.8,
        "temp_min": 13.9,
        "weather": "sun",
        "wind": 3.4
       },
       {
        "Date new": "2015-07-29T00:00:00",
        "precipitation": 0,
        "temp_max": 32.2,
        "temp_min": 14.4,
        "weather": "sun",
        "wind": 3.8
       },
       {
        "Date new": "2015-07-30T00:00:00",
        "precipitation": 0,
        "temp_max": 34.4,
        "temp_min": 17.2,
        "weather": "sun",
        "wind": 3.5
       },
       {
        "Date new": "2015-07-31T00:00:00",
        "precipitation": 0,
        "temp_max": 34.4,
        "temp_min": 17.8,
        "weather": "sun",
        "wind": 2.6
       },
       {
        "Date new": "2015-08-01T00:00:00",
        "precipitation": 0,
        "temp_max": 33.3,
        "temp_min": 15.6,
        "weather": "sun",
        "wind": 3.1
       },
       {
        "Date new": "2015-08-02T00:00:00",
        "precipitation": 0,
        "temp_max": 30.6,
        "temp_min": 16.1,
        "weather": "sun",
        "wind": 2
       },
       {
        "Date new": "2015-08-03T00:00:00",
        "precipitation": 0,
        "temp_max": 28.3,
        "temp_min": 17.2,
        "weather": "sun",
        "wind": 2.3
       },
       {
        "Date new": "2015-08-04T00:00:00",
        "precipitation": 0,
        "temp_max": 26.1,
        "temp_min": 14.4,
        "weather": "fog",
        "wind": 2.6
       },
       {
        "Date new": "2015-08-05T00:00:00",
        "precipitation": 0,
        "temp_max": 23.3,
        "temp_min": 12.2,
        "weather": "sun",
        "wind": 3.5
       },
       {
        "Date new": "2015-08-06T00:00:00",
        "precipitation": 0,
        "temp_max": 25,
        "temp_min": 15,
        "weather": "sun",
        "wind": 2.9
       },
       {
        "Date new": "2015-08-07T00:00:00",
        "precipitation": 0,
        "temp_max": 28.3,
        "temp_min": 15.6,
        "weather": "sun",
        "wind": 3.7
       },
       {
        "Date new": "2015-08-08T00:00:00",
        "precipitation": 0,
        "temp_max": 25,
        "temp_min": 15.6,
        "weather": "fog",
        "wind": 3.6
       },
       {
        "Date new": "2015-08-09T00:00:00",
        "precipitation": 0,
        "temp_max": 28.3,
        "temp_min": 15,
        "weather": "sun",
        "wind": 2.2
       },
       {
        "Date new": "2015-08-10T00:00:00",
        "precipitation": 0,
        "temp_max": 28.9,
        "temp_min": 16.1,
        "weather": "sun",
        "wind": 2.4
       },
       {
        "Date new": "2015-08-11T00:00:00",
        "precipitation": 0,
        "temp_max": 30,
        "temp_min": 16.7,
        "weather": "sun",
        "wind": 4.4
       },
       {
        "Date new": "2015-08-12T00:00:00",
        "precipitation": 7.6,
        "temp_max": 28.3,
        "temp_min": 16.7,
        "weather": "rain",
        "wind": 2.7
       },
       {
        "Date new": "2015-08-13T00:00:00",
        "precipitation": 0,
        "temp_max": 28.3,
        "temp_min": 15.6,
        "weather": "sun",
        "wind": 2.2
       },
       {
        "Date new": "2015-08-14T00:00:00",
        "precipitation": 30.5,
        "temp_max": 18.3,
        "temp_min": 15,
        "weather": "rain",
        "wind": 5.2
       },
       {
        "Date new": "2015-08-15T00:00:00",
        "precipitation": 0,
        "temp_max": 21.7,
        "temp_min": 13.9,
        "weather": "sun",
        "wind": 3.7
       },
       {
        "Date new": "2015-08-16T00:00:00",
        "precipitation": 0,
        "temp_max": 25,
        "temp_min": 14.4,
        "weather": "sun",
        "wind": 3.7
       },
       {
        "Date new": "2015-08-17T00:00:00",
        "precipitation": 0,
        "temp_max": 27.2,
        "temp_min": 13.9,
        "weather": "sun",
        "wind": 3
       },
       {
        "Date new": "2015-08-18T00:00:00",
        "precipitation": 0,
        "temp_max": 30,
        "temp_min": 15,
        "weather": "sun",
        "wind": 3
       },
       {
        "Date new": "2015-08-19T00:00:00",
        "precipitation": 0,
        "temp_max": 31.7,
        "temp_min": 16.1,
        "weather": "drizzle",
        "wind": 2.1
       },
       {
        "Date new": "2015-08-20T00:00:00",
        "precipitation": 2,
        "temp_max": 22.8,
        "temp_min": 14.4,
        "weather": "fog",
        "wind": 4.2
       },
       {
        "Date new": "2015-08-21T00:00:00",
        "precipitation": 0,
        "temp_max": 22.2,
        "temp_min": 14.4,
        "weather": "sun",
        "wind": 2.6
       },
       {
        "Date new": "2015-08-22T00:00:00",
        "precipitation": 0,
        "temp_max": 26.7,
        "temp_min": 12.2,
        "weather": "drizzle",
        "wind": 2.5
       },
       {
        "Date new": "2015-08-23T00:00:00",
        "precipitation": 0,
        "temp_max": 27.8,
        "temp_min": 13.9,
        "weather": "drizzle",
        "wind": 1.8
       },
       {
        "Date new": "2015-08-24T00:00:00",
        "precipitation": 0,
        "temp_max": 23.9,
        "temp_min": 12.2,
        "weather": "sun",
        "wind": 2.3
       },
       {
        "Date new": "2015-08-25T00:00:00",
        "precipitation": 0,
        "temp_max": 25.6,
        "temp_min": 12.2,
        "weather": "sun",
        "wind": 3.4
       },
       {
        "Date new": "2015-08-26T00:00:00",
        "precipitation": 0,
        "temp_max": 28.3,
        "temp_min": 13.9,
        "weather": "sun",
        "wind": 1.7
       },
       {
        "Date new": "2015-08-27T00:00:00",
        "precipitation": 0,
        "temp_max": 29.4,
        "temp_min": 14.4,
        "weather": "sun",
        "wind": 2.1
       },
       {
        "Date new": "2015-08-28T00:00:00",
        "precipitation": 0.5,
        "temp_max": 23.3,
        "temp_min": 15.6,
        "weather": "fog",
        "wind": 2.6
       },
       {
        "Date new": "2015-08-29T00:00:00",
        "precipitation": 32.5,
        "temp_max": 22.2,
        "temp_min": 13.3,
        "weather": "fog",
        "wind": 5.8
       },
       {
        "Date new": "2015-08-30T00:00:00",
        "precipitation": 10.2,
        "temp_max": 20,
        "temp_min": 12.8,
        "weather": "fog",
        "wind": 4.7
       },
       {
        "Date new": "2015-08-31T00:00:00",
        "precipitation": 0,
        "temp_max": 18.9,
        "temp_min": 16.1,
        "weather": "sun",
        "wind": 5.8
       },
       {
        "Date new": "2015-09-01T00:00:00",
        "precipitation": 5.8,
        "temp_max": 19.4,
        "temp_min": 13.9,
        "weather": "fog",
        "wind": 5
       },
       {
        "Date new": "2015-09-02T00:00:00",
        "precipitation": 0,
        "temp_max": 19.4,
        "temp_min": 11.1,
        "weather": "sun",
        "wind": 3.8
       },
       {
        "Date new": "2015-09-03T00:00:00",
        "precipitation": 0,
        "temp_max": 18.3,
        "temp_min": 10.6,
        "weather": "sun",
        "wind": 2.9
       },
       {
        "Date new": "2015-09-04T00:00:00",
        "precipitation": 0,
        "temp_max": 18.3,
        "temp_min": 10,
        "weather": "sun",
        "wind": 2.9
       },
       {
        "Date new": "2015-09-05T00:00:00",
        "precipitation": 0.3,
        "temp_max": 20.6,
        "temp_min": 8.9,
        "weather": "sun",
        "wind": 3.5
       },
       {
        "Date new": "2015-09-06T00:00:00",
        "precipitation": 5.3,
        "temp_max": 16.1,
        "temp_min": 11.7,
        "weather": "fog",
        "wind": 2.4
       },
       {
        "Date new": "2015-09-07T00:00:00",
        "precipitation": 0.3,
        "temp_max": 21.1,
        "temp_min": 13.3,
        "weather": "fog",
        "wind": 1.5
       },
       {
        "Date new": "2015-09-08T00:00:00",
        "precipitation": 0,
        "temp_max": 22.8,
        "temp_min": 13.3,
        "weather": "sun",
        "wind": 2.4
       },
       {
        "Date new": "2015-09-09T00:00:00",
        "precipitation": 0,
        "temp_max": 24.4,
        "temp_min": 13.9,
        "weather": "sun",
        "wind": 3.3
       },
       {
        "Date new": "2015-09-10T00:00:00",
        "precipitation": 0,
        "temp_max": 25,
        "temp_min": 14.4,
        "weather": "fog",
        "wind": 3.6
       },
       {
        "Date new": "2015-09-11T00:00:00",
        "precipitation": 0,
        "temp_max": 27.2,
        "temp_min": 15,
        "weather": "sun",
        "wind": 3.1
       },
       {
        "Date new": "2015-09-12T00:00:00",
        "precipitation": 0,
        "temp_max": 26.7,
        "temp_min": 14.4,
        "weather": "sun",
        "wind": 2.1
       },
       {
        "Date new": "2015-09-13T00:00:00",
        "precipitation": 0.5,
        "temp_max": 20.6,
        "temp_min": 12.8,
        "weather": "fog",
        "wind": 3
       },
       {
        "Date new": "2015-09-14T00:00:00",
        "precipitation": 0,
        "temp_max": 16.7,
        "temp_min": 10.6,
        "weather": "sun",
        "wind": 3.4
       },
       {
        "Date new": "2015-09-15T00:00:00",
        "precipitation": 0,
        "temp_max": 17.8,
        "temp_min": 10,
        "weather": "sun",
        "wind": 2.8
       },
       {
        "Date new": "2015-09-16T00:00:00",
        "precipitation": 1,
        "temp_max": 20,
        "temp_min": 10,
        "weather": "sun",
        "wind": 1.9
       },
       {
        "Date new": "2015-09-17T00:00:00",
        "precipitation": 1.8,
        "temp_max": 18.3,
        "temp_min": 12.8,
        "weather": "fog",
        "wind": 3.8
       },
       {
        "Date new": "2015-09-18T00:00:00",
        "precipitation": 0,
        "temp_max": 19.4,
        "temp_min": 12.8,
        "weather": "sun",
        "wind": 2.6
       },
       {
        "Date new": "2015-09-19T00:00:00",
        "precipitation": 0,
        "temp_max": 21.1,
        "temp_min": 14.4,
        "weather": "sun",
        "wind": 4.3
       },
       {
        "Date new": "2015-09-20T00:00:00",
        "precipitation": 4.1,
        "temp_max": 22.8,
        "temp_min": 12.2,
        "weather": "fog",
        "wind": 6.8
       },
       {
        "Date new": "2015-09-21T00:00:00",
        "precipitation": 0,
        "temp_max": 18.3,
        "temp_min": 9.4,
        "weather": "fog",
        "wind": 2.7
       },
       {
        "Date new": "2015-09-22T00:00:00",
        "precipitation": 0,
        "temp_max": 18.9,
        "temp_min": 7.8,
        "weather": "sun",
        "wind": 2
       },
       {
        "Date new": "2015-09-23T00:00:00",
        "precipitation": 0,
        "temp_max": 20.6,
        "temp_min": 8.3,
        "weather": "sun",
        "wind": 1.8
       },
       {
        "Date new": "2015-09-24T00:00:00",
        "precipitation": 0,
        "temp_max": 22.2,
        "temp_min": 11.1,
        "weather": "fog",
        "wind": 2.5
       },
       {
        "Date new": "2015-09-25T00:00:00",
        "precipitation": 2,
        "temp_max": 15.6,
        "temp_min": 12.8,
        "weather": "fog",
        "wind": 2.6
       },
       {
        "Date new": "2015-09-26T00:00:00",
        "precipitation": 0,
        "temp_max": 18.3,
        "temp_min": 10,
        "weather": "sun",
        "wind": 2.7
       },
       {
        "Date new": "2015-09-27T00:00:00",
        "precipitation": 0,
        "temp_max": 17.8,
        "temp_min": 7.2,
        "weather": "sun",
        "wind": 3.8
       },
       {
        "Date new": "2015-09-28T00:00:00",
        "precipitation": 0,
        "temp_max": 21.1,
        "temp_min": 9.4,
        "weather": "sun",
        "wind": 5.1
       },
       {
        "Date new": "2015-09-29T00:00:00",
        "precipitation": 0,
        "temp_max": 21.7,
        "temp_min": 8.9,
        "weather": "sun",
        "wind": 1.9
       },
       {
        "Date new": "2015-09-30T00:00:00",
        "precipitation": 0,
        "temp_max": 18.3,
        "temp_min": 10,
        "weather": "fog",
        "wind": 1.3
       },
       {
        "Date new": "2015-10-01T00:00:00",
        "precipitation": 0,
        "temp_max": 21.1,
        "temp_min": 9.4,
        "weather": "fog",
        "wind": 1.3
       },
       {
        "Date new": "2015-10-02T00:00:00",
        "precipitation": 0,
        "temp_max": 15.6,
        "temp_min": 10,
        "weather": "fog",
        "wind": 2.9
       },
       {
        "Date new": "2015-10-03T00:00:00",
        "precipitation": 0,
        "temp_max": 19.4,
        "temp_min": 11.1,
        "weather": "sun",
        "wind": 4.8
       },
       {
        "Date new": "2015-10-04T00:00:00",
        "precipitation": 0,
        "temp_max": 22.8,
        "temp_min": 10,
        "weather": "sun",
        "wind": 3.7
       },
       {
        "Date new": "2015-10-05T00:00:00",
        "precipitation": 0,
        "temp_max": 23.3,
        "temp_min": 9.4,
        "weather": "sun",
        "wind": 1.6
       },
       {
        "Date new": "2015-10-06T00:00:00",
        "precipitation": 0,
        "temp_max": 18.3,
        "temp_min": 10,
        "weather": "drizzle",
        "wind": 2.6
       },
       {
        "Date new": "2015-10-07T00:00:00",
        "precipitation": 9.9,
        "temp_max": 16.1,
        "temp_min": 13.9,
        "weather": "fog",
        "wind": 2.2
       },
       {
        "Date new": "2015-10-08T00:00:00",
        "precipitation": 0,
        "temp_max": 18.9,
        "temp_min": 13.3,
        "weather": "fog",
        "wind": 1.1
       },
       {
        "Date new": "2015-10-09T00:00:00",
        "precipitation": 0.3,
        "temp_max": 19.4,
        "temp_min": 12.2,
        "weather": "fog",
        "wind": 2.6
       },
       {
        "Date new": "2015-10-10T00:00:00",
        "precipitation": 28.7,
        "temp_max": 21.1,
        "temp_min": 13.3,
        "weather": "fog",
        "wind": 4.7
       },
       {
        "Date new": "2015-10-11T00:00:00",
        "precipitation": 0,
        "temp_max": 17.8,
        "temp_min": 10.6,
        "weather": "sun",
        "wind": 2.6
       },
       {
        "Date new": "2015-10-12T00:00:00",
        "precipitation": 4.6,
        "temp_max": 18.3,
        "temp_min": 10.6,
        "weather": "fog",
        "wind": 2.8
       },
       {
        "Date new": "2015-10-13T00:00:00",
        "precipitation": 1.3,
        "temp_max": 16.7,
        "temp_min": 9.4,
        "weather": "fog",
        "wind": 3.2
       },
       {
        "Date new": "2015-10-14T00:00:00",
        "precipitation": 0,
        "temp_max": 15,
        "temp_min": 10,
        "weather": "fog",
        "wind": 5
       },
       {
        "Date new": "2015-10-15T00:00:00",
        "precipitation": 0,
        "temp_max": 21.1,
        "temp_min": 9.4,
        "weather": "fog",
        "wind": 3.4
       },
       {
        "Date new": "2015-10-16T00:00:00",
        "precipitation": 0,
        "temp_max": 20,
        "temp_min": 8.9,
        "weather": "sun",
        "wind": 1.3
       },
       {
        "Date new": "2015-10-17T00:00:00",
        "precipitation": 0.3,
        "temp_max": 19.4,
        "temp_min": 11.7,
        "weather": "fog",
        "wind": 1.3
       },
       {
        "Date new": "2015-10-18T00:00:00",
        "precipitation": 3.8,
        "temp_max": 15,
        "temp_min": 12.8,
        "weather": "fog",
        "wind": 2
       },
       {
        "Date new": "2015-10-19T00:00:00",
        "precipitation": 0.3,
        "temp_max": 17.2,
        "temp_min": 12.2,
        "weather": "fog",
        "wind": 2.6
       },
       {
        "Date new": "2015-10-20T00:00:00",
        "precipitation": 0,
        "temp_max": 17.8,
        "temp_min": 10.6,
        "weather": "fog",
        "wind": 1.8
       },
       {
        "Date new": "2015-10-21T00:00:00",
        "precipitation": 0,
        "temp_max": 16.1,
        "temp_min": 8.3,
        "weather": "fog",
        "wind": 1.3
       },
       {
        "Date new": "2015-10-22T00:00:00",
        "precipitation": 0,
        "temp_max": 16.1,
        "temp_min": 8.9,
        "weather": "fog",
        "wind": 2.7
       },
       {
        "Date new": "2015-10-23T00:00:00",
        "precipitation": 0,
        "temp_max": 12.8,
        "temp_min": 7.2,
        "weather": "fog",
        "wind": 2.6
       },
       {
        "Date new": "2015-10-24T00:00:00",
        "precipitation": 0,
        "temp_max": 15,
        "temp_min": 8.9,
        "weather": "fog",
        "wind": 2.9
       },
       {
        "Date new": "2015-10-25T00:00:00",
        "precipitation": 8.9,
        "temp_max": 19.4,
        "temp_min": 8.9,
        "weather": "rain",
        "wind": 3.4
       },
       {
        "Date new": "2015-10-26T00:00:00",
        "precipitation": 6.9,
        "temp_max": 12.2,
        "temp_min": 10,
        "weather": "fog",
        "wind": 4.6
       },
       {
        "Date new": "2015-10-27T00:00:00",
        "precipitation": 0,
        "temp_max": 16.1,
        "temp_min": 7.8,
        "weather": "fog",
        "wind": 1.7
       },
       {
        "Date new": "2015-10-28T00:00:00",
        "precipitation": 3.3,
        "temp_max": 13.9,
        "temp_min": 11.1,
        "weather": "fog",
        "wind": 2.8
       },
       {
        "Date new": "2015-10-29T00:00:00",
        "precipitation": 1.8,
        "temp_max": 15,
        "temp_min": 12.2,
        "weather": "fog",
        "wind": 4.7
       },
       {
        "Date new": "2015-10-30T00:00:00",
        "precipitation": 19.3,
        "temp_max": 17.2,
        "temp_min": 11.7,
        "weather": "fog",
        "wind": 6.7
       },
       {
        "Date new": "2015-10-31T00:00:00",
        "precipitation": 33,
        "temp_max": 15.6,
        "temp_min": 11.7,
        "weather": "fog",
        "wind": 7.2
       },
       {
        "Date new": "2015-11-01T00:00:00",
        "precipitation": 26.2,
        "temp_max": 12.2,
        "temp_min": 8.9,
        "weather": "fog",
        "wind": 6
       },
       {
        "Date new": "2015-11-02T00:00:00",
        "precipitation": 0.3,
        "temp_max": 11.1,
        "temp_min": 7.2,
        "weather": "fog",
        "wind": 2.8
       },
       {
        "Date new": "2015-11-03T00:00:00",
        "precipitation": 0.8,
        "temp_max": 10.6,
        "temp_min": 5,
        "weather": "fog",
        "wind": 1.4
       },
       {
        "Date new": "2015-11-04T00:00:00",
        "precipitation": 0,
        "temp_max": 10,
        "temp_min": 3.3,
        "weather": "sun",
        "wind": 2.2
       },
       {
        "Date new": "2015-11-05T00:00:00",
        "precipitation": 1.3,
        "temp_max": 11.7,
        "temp_min": 7.8,
        "weather": "fog",
        "wind": 2.3
       },
       {
        "Date new": "2015-11-06T00:00:00",
        "precipitation": 0,
        "temp_max": 15.6,
        "temp_min": 8.3,
        "weather": "fog",
        "wind": 2.7
       },
       {
        "Date new": "2015-11-07T00:00:00",
        "precipitation": 12.7,
        "temp_max": 12.2,
        "temp_min": 9.4,
        "weather": "fog",
        "wind": 3
       },
       {
        "Date new": "2015-11-08T00:00:00",
        "precipitation": 6.6,
        "temp_max": 11.1,
        "temp_min": 7.8,
        "weather": "fog",
        "wind": 1.8
       },
       {
        "Date new": "2015-11-09T00:00:00",
        "precipitation": 3.3,
        "temp_max": 10,
        "temp_min": 5,
        "weather": "fog",
        "wind": 1.3
       },
       {
        "Date new": "2015-11-10T00:00:00",
        "precipitation": 1.3,
        "temp_max": 11.1,
        "temp_min": 3.9,
        "weather": "fog",
        "wind": 3.9
       },
       {
        "Date new": "2015-11-11T00:00:00",
        "precipitation": 1.5,
        "temp_max": 11.1,
        "temp_min": 6.1,
        "weather": "sun",
        "wind": 4.6
       },
       {
        "Date new": "2015-11-12T00:00:00",
        "precipitation": 9.9,
        "temp_max": 11.1,
        "temp_min": 5,
        "weather": "fog",
        "wind": 5.1
       },
       {
        "Date new": "2015-11-13T00:00:00",
        "precipitation": 33.5,
        "temp_max": 13.3,
        "temp_min": 9.4,
        "weather": "fog",
        "wind": 6.5
       },
       {
        "Date new": "2015-11-14T00:00:00",
        "precipitation": 47.2,
        "temp_max": 9.4,
        "temp_min": 6.1,
        "weather": "fog",
        "wind": 4.5
       },
       {
        "Date new": "2015-11-15T00:00:00",
        "precipitation": 22.4,
        "temp_max": 8.9,
        "temp_min": 2.2,
        "weather": "fog",
        "wind": 4.1
       },
       {
        "Date new": "2015-11-16T00:00:00",
        "precipitation": 2,
        "temp_max": 8.9,
        "temp_min": 1.7,
        "weather": "fog",
        "wind": 4
       },
       {
        "Date new": "2015-11-17T00:00:00",
        "precipitation": 29.5,
        "temp_max": 13.3,
        "temp_min": 6.7,
        "weather": "fog",
        "wind": 8
       },
       {
        "Date new": "2015-11-18T00:00:00",
        "precipitation": 1.5,
        "temp_max": 8.9,
        "temp_min": 3.3,
        "weather": "sun",
        "wind": 3.8
       },
       {
        "Date new": "2015-11-19T00:00:00",
        "precipitation": 2,
        "temp_max": 8.9,
        "temp_min": 2.8,
        "weather": "sun",
        "wind": 4.2
       },
       {
        "Date new": "2015-11-20T00:00:00",
        "precipitation": 0,
        "temp_max": 8.3,
        "temp_min": 0.6,
        "weather": "fog",
        "wind": 4
       },
       {
        "Date new": "2015-11-21T00:00:00",
        "precipitation": 0,
        "temp_max": 8.9,
        "temp_min": 0.6,
        "weather": "sun",
        "wind": 4.7
       },
       {
        "Date new": "2015-11-22T00:00:00",
        "precipitation": 0,
        "temp_max": 10,
        "temp_min": 1.7,
        "weather": "fog",
        "wind": 3.1
       },
       {
        "Date new": "2015-11-23T00:00:00",
        "precipitation": 3,
        "temp_max": 6.7,
        "temp_min": 0,
        "weather": "fog",
        "wind": 1.3
       },
       {
        "Date new": "2015-11-24T00:00:00",
        "precipitation": 7.1,
        "temp_max": 6.7,
        "temp_min": 2.8,
        "weather": "fog",
        "wind": 4.5
       },
       {
        "Date new": "2015-11-25T00:00:00",
        "precipitation": 0,
        "temp_max": 7.2,
        "temp_min": 0,
        "weather": "sun",
        "wind": 5.7
       },
       {
        "Date new": "2015-11-26T00:00:00",
        "precipitation": 0,
        "temp_max": 9.4,
        "temp_min": -1,
        "weather": "sun",
        "wind": 4.3
       },
       {
        "Date new": "2015-11-27T00:00:00",
        "precipitation": 0,
        "temp_max": 9.4,
        "temp_min": -1.6,
        "weather": "sun",
        "wind": 3
       },
       {
        "Date new": "2015-11-28T00:00:00",
        "precipitation": 0,
        "temp_max": 7.2,
        "temp_min": -2.7,
        "weather": "sun",
        "wind": 1
       },
       {
        "Date new": "2015-11-29T00:00:00",
        "precipitation": 0,
        "temp_max": 1.7,
        "temp_min": -2.1,
        "weather": "fog",
        "wind": 0.9
       },
       {
        "Date new": "2015-11-30T00:00:00",
        "precipitation": 0.5,
        "temp_max": 5.6,
        "temp_min": -3.8,
        "weather": "fog",
        "wind": 1.7
       },
       {
        "Date new": "2015-12-01T00:00:00",
        "precipitation": 12.2,
        "temp_max": 10,
        "temp_min": 3.9,
        "weather": "fog",
        "wind": 3.5
       },
       {
        "Date new": "2015-12-02T00:00:00",
        "precipitation": 2.5,
        "temp_max": 10.6,
        "temp_min": 4.4,
        "weather": "fog",
        "wind": 5
       },
       {
        "Date new": "2015-12-03T00:00:00",
        "precipitation": 12.7,
        "temp_max": 15.6,
        "temp_min": 7.8,
        "weather": "fog",
        "wind": 5.9
       },
       {
        "Date new": "2015-12-04T00:00:00",
        "precipitation": 2,
        "temp_max": 10.6,
        "temp_min": 6.1,
        "weather": "fog",
        "wind": 4.7
       },
       {
        "Date new": "2015-12-05T00:00:00",
        "precipitation": 15.7,
        "temp_max": 10,
        "temp_min": 6.1,
        "weather": "fog",
        "wind": 4
       },
       {
        "Date new": "2015-12-06T00:00:00",
        "precipitation": 11.2,
        "temp_max": 12.8,
        "temp_min": 7.2,
        "weather": "fog",
        "wind": 5.9
       },
       {
        "Date new": "2015-12-07T00:00:00",
        "precipitation": 27.4,
        "temp_max": 11.1,
        "temp_min": 8.3,
        "weather": "fog",
        "wind": 3.4
       },
       {
        "Date new": "2015-12-08T00:00:00",
        "precipitation": 54.1,
        "temp_max": 15.6,
        "temp_min": 10,
        "weather": "fog",
        "wind": 6.2
       },
       {
        "Date new": "2015-12-09T00:00:00",
        "precipitation": 13.5,
        "temp_max": 12.2,
        "temp_min": 7.8,
        "weather": "fog",
        "wind": 6.3
       },
       {
        "Date new": "2015-12-10T00:00:00",
        "precipitation": 9.4,
        "temp_max": 11.7,
        "temp_min": 6.1,
        "weather": "fog",
        "wind": 7.5
       },
       {
        "Date new": "2015-12-11T00:00:00",
        "precipitation": 0.3,
        "temp_max": 9.4,
        "temp_min": 4.4,
        "weather": "sun",
        "wind": 2.8
       },
       {
        "Date new": "2015-12-12T00:00:00",
        "precipitation": 16,
        "temp_max": 8.9,
        "temp_min": 5.6,
        "weather": "fog",
        "wind": 5.6
       },
       {
        "Date new": "2015-12-13T00:00:00",
        "precipitation": 1.3,
        "temp_max": 7.8,
        "temp_min": 6.1,
        "weather": "sun",
        "wind": 6.1
       },
       {
        "Date new": "2015-12-14T00:00:00",
        "precipitation": 0,
        "temp_max": 7.8,
        "temp_min": 1.7,
        "weather": "sun",
        "wind": 1.7
       },
       {
        "Date new": "2015-12-15T00:00:00",
        "precipitation": 1.5,
        "temp_max": 6.7,
        "temp_min": 1.1,
        "weather": "fog",
        "wind": 2.9
       },
       {
        "Date new": "2015-12-16T00:00:00",
        "precipitation": 3.6,
        "temp_max": 6.1,
        "temp_min": 2.8,
        "weather": "fog",
        "wind": 2.3
       },
       {
        "Date new": "2015-12-17T00:00:00",
        "precipitation": 21.8,
        "temp_max": 6.7,
        "temp_min": 3.9,
        "weather": "fog",
        "wind": 6
       },
       {
        "Date new": "2015-12-18T00:00:00",
        "precipitation": 18.5,
        "temp_max": 8.9,
        "temp_min": 4.4,
        "weather": "fog",
        "wind": 5.1
       },
       {
        "Date new": "2015-12-19T00:00:00",
        "precipitation": 0,
        "temp_max": 8.3,
        "temp_min": 2.8,
        "weather": "fog",
        "wind": 4.1
       },
       {
        "Date new": "2015-12-20T00:00:00",
        "precipitation": 4.3,
        "temp_max": 7.8,
        "temp_min": 4.4,
        "weather": "fog",
        "wind": 6.7
       },
       {
        "Date new": "2015-12-21T00:00:00",
        "precipitation": 27.4,
        "temp_max": 5.6,
        "temp_min": 2.8,
        "weather": "fog",
        "wind": 4.3
       },
       {
        "Date new": "2015-12-22T00:00:00",
        "precipitation": 4.6,
        "temp_max": 7.8,
        "temp_min": 2.8,
        "weather": "fog",
        "wind": 5
       },
       {
        "Date new": "2015-12-23T00:00:00",
        "precipitation": 6.1,
        "temp_max": 5,
        "temp_min": 2.8,
        "weather": "fog",
        "wind": 7.6
       },
       {
        "Date new": "2015-12-24T00:00:00",
        "precipitation": 2.5,
        "temp_max": 5.6,
        "temp_min": 2.2,
        "weather": "fog",
        "wind": 4.3
       },
       {
        "Date new": "2015-12-25T00:00:00",
        "precipitation": 5.8,
        "temp_max": 5,
        "temp_min": 2.2,
        "weather": "fog",
        "wind": 1.5
       },
       {
        "Date new": "2015-12-26T00:00:00",
        "precipitation": 0,
        "temp_max": 4.4,
        "temp_min": 0,
        "weather": "sun",
        "wind": 2.5
       },
       {
        "Date new": "2015-12-27T00:00:00",
        "precipitation": 8.6,
        "temp_max": 4.4,
        "temp_min": 1.7,
        "weather": "fog",
        "wind": 2.9
       },
       {
        "Date new": "2015-12-28T00:00:00",
        "precipitation": 1.5,
        "temp_max": 5,
        "temp_min": 1.7,
        "weather": "fog",
        "wind": 1.3
       },
       {
        "Date new": "2015-12-29T00:00:00",
        "precipitation": 0,
        "temp_max": 7.2,
        "temp_min": 0.6,
        "weather": "fog",
        "wind": 2.6
       },
       {
        "Date new": "2015-12-30T00:00:00",
        "precipitation": 0,
        "temp_max": 5.6,
        "temp_min": -1,
        "weather": "sun",
        "wind": 3.4
       },
       {
        "Date new": "2015-12-31T00:00:00",
        "precipitation": 0,
        "temp_max": 5.6,
        "temp_min": -2.1,
        "weather": "sun",
        "wind": 3.5
       }
      ]
     },
     "layer": [
      {
       "encoding": {
        "opacity": {
         "condition": {
          "param": "brs",
          "value": 1
         },
         "value": 0.7
        },
        "x": {
         "field": "Date new",
         "timeUnit": "month",
         "type": "ordinal"
        },
        "y": {
         "aggregate": "mean",
         "field": "precipitation",
         "type": "quantitative"
        }
       },
       "mark": {
        "type": "bar"
       },
       "name": "bars"
      },
      {
       "encoding": {
        "size": {
         "value": 3
        },
        "y": {
         "aggregate": "mean",
         "field": "precipitation",
         "type": "quantitative"
        }
       },
       "mark": {
        "color": "firebrick",
        "type": "rule"
       },
       "transform": [
        {
         "filter": {
          "param": "brs"
         }
        }
       ]
      }
     ],
     "params": [
      {
       "name": "brs",
       "select": {
        "encodings": [
         "x"
        ],
        "type": "interval"
       },
       "views": [
        "bars"
       ]
      }
     ]
    },
    "trrack_graph": "ᯡ࠽䈌ʀ匦㢠⹰ಀ㌡ٰΪಀⴠ乔ĺ䡀ଠ癈Ƹཀͅʽ嶪ĸ䰤敊Kல⠠䭈⑁棒理ፁ⍾凉ୖ໼簧Ҡǁ#リ⌰橠ኤРឝၐüメ湁˛㾅%䲁吠৥撠۱ǂ⥈㲱⸢ᘽপ䆫抧䕤ù熢ᐬ儦஻ڨᕀ撠Ɣڦ❓ሳåఱ䇑䅠Ȅ恨⹜漷៍൭ↇ咠ƌざ౱ࠦల॓㌰䊖ᅣᕀ劋U咃࠵嬯ᐢ簬箫㨬ਭ䄵㻗y䍬氡Ḡݧ篏䘥ך碣૙癧̮㍀ ੡䪰塡തᏤ䑎७䄰䥲ឡ䧀Ь䨥戀ま̩⅐璌Ợ篜剦䘬橜䞚⃩୤䱸幏ⅅᐴ䵄♰夬݇䠴䔲䳆ѣ湆♍৓঄啎䬓奼彈⬵▛ᣪ㊢†ࡰဢ崀ἠgƹ彥妏ヵė೽⥼䭮䇇瀥䄵䶀㋜笷෭ኀ㡜Ⴂ⎰呺Ƭ拑氼୯愨∦䧂比⮎䢫氕墊ᬨተڑ劍᫭玆䧸㠹ᬨއ堽㜳䚈஽ឋ峒Ǡሸ*Ꮑ栶䷴ʠ⃍绌о༕緶䪙帿࠻槒籠䡌ᔠ⃏ᒸᖛై⏫溈籲>䅭湠悁俍倍୹㊕⿷睆緝 Л䢘䈬琅畆ࣀ琷ʨнࠁȸ㞥塎š焪ʁ⑅͡䕀䊠䐽Ᏹ瞴䋡ሾ燐澨ќ怦ܸ䮥疽⑀⁠瞨ͽᡴۢ珞牝垵慂㾸ᅜ删ᆉř盔怪ڠ ݑ崁 硴٣ߘⱞ拞⏱憨ᠠϘ၏戩夐䴨⣩ầ⢧捑棙ᣧ徏檙䴉䩓ᙼဣ琠࣍ᙔ怪䬨屄⃨㑚㊁店䯰溅ե吿∓㹻丱吠⣨↝〉ࢅб㱔⹘䝚挘㼿挂ᘬπ咠㎱䇂䜢ᆺ䊭ᨯέ㩝㛉么ጀನЩ嘿冱ǜ䄬䩘㕱橔㔁敮䁭剞吩溿咴Ⳕ偨Ჷၴ粠兵䋚剘䀠 "
   },
   "outputs": [
    {
     "data": {
      "application/vnd.vegalite.v5+json": {
       "$schema": "https://vega.github.io/schema/vega-lite/v5.8.0.json",
       "config": {
        "view": {
         "continuousHeight": 300,
         "continuousWidth": 300
        }
       },
       "data": {
        "name": "data-fab4d0dc70c428ed98849ee69896f54a"
       },
       "datasets": {
        "data-fab4d0dc70c428ed98849ee69896f54a": [
         {
          "Date new": "2012-01-01T00:00:00",
          "precipitation": 0,
          "temp_max": 12.8,
          "temp_min": 5,
          "weather": "drizzle",
          "wind": 4.7
         },
         {
          "Date new": "2012-01-02T00:00:00",
          "precipitation": 10.9,
          "temp_max": 10.6,
          "temp_min": 2.8,
          "weather": "rain",
          "wind": 4.5
         },
         {
          "Date new": "2012-01-03T00:00:00",
          "precipitation": 0.8,
          "temp_max": 11.7,
          "temp_min": 7.2,
          "weather": "rain",
          "wind": 2.3
         },
         {
          "Date new": "2012-01-04T00:00:00",
          "precipitation": 20.3,
          "temp_max": 12.2,
          "temp_min": 5.6,
          "weather": "rain",
          "wind": 4.7
         },
         {
          "Date new": "2012-01-05T00:00:00",
          "precipitation": 1.3,
          "temp_max": 8.9,
          "temp_min": 2.8,
          "weather": "rain",
          "wind": 6.1
         },
         {
          "Date new": "2012-01-06T00:00:00",
          "precipitation": 2.5,
          "temp_max": 4.4,
          "temp_min": 2.2,
          "weather": "rain",
          "wind": 2.2
         },
         {
          "Date new": "2012-01-07T00:00:00",
          "precipitation": 0,
          "temp_max": 7.2,
          "temp_min": 2.8,
          "weather": "rain",
          "wind": 2.3
         },
         {
          "Date new": "2012-01-08T00:00:00",
          "precipitation": 0,
          "temp_max": 10,
          "temp_min": 2.8,
          "weather": "sun",
          "wind": 2
         },
         {
          "Date new": "2012-01-09T00:00:00",
          "precipitation": 4.3,
          "temp_max": 9.4,
          "temp_min": 5,
          "weather": "rain",
          "wind": 3.4
         },
         {
          "Date new": "2012-01-10T00:00:00",
          "precipitation": 1,
          "temp_max": 6.1,
          "temp_min": 0.6,
          "weather": "rain",
          "wind": 3.4
         },
         {
          "Date new": "2012-01-11T00:00:00",
          "precipitation": 0,
          "temp_max": 6.1,
          "temp_min": -1.1,
          "weather": "sun",
          "wind": 5.1
         },
         {
          "Date new": "2012-01-12T00:00:00",
          "precipitation": 0,
          "temp_max": 6.1,
          "temp_min": -1.7,
          "weather": "sun",
          "wind": 1.9
         },
         {
          "Date new": "2012-01-13T00:00:00",
          "precipitation": 0,
          "temp_max": 5,
          "temp_min": -2.8,
          "weather": "sun",
          "wind": 1.3
         },
         {
          "Date new": "2012-01-14T00:00:00",
          "precipitation": 4.1,
          "temp_max": 4.4,
          "temp_min": 0.6,
          "weather": "snow",
          "wind": 5.3
         },
         {
          "Date new": "2012-01-15T00:00:00",
          "precipitation": 5.3,
          "temp_max": 1.1,
          "temp_min": -3.3,
          "weather": "snow",
          "wind": 3.2
         },
         {
          "Date new": "2012-01-16T00:00:00",
          "precipitation": 2.5,
          "temp_max": 1.7,
          "temp_min": -2.8,
          "weather": "snow",
          "wind": 5
         },
         {
          "Date new": "2012-01-17T00:00:00",
          "precipitation": 8.1,
          "temp_max": 3.3,
          "temp_min": 0,
          "weather": "snow",
          "wind": 5.6
         },
         {
          "Date new": "2012-01-18T00:00:00",
          "precipitation": 19.8,
          "temp_max": 0,
          "temp_min": -2.8,
          "weather": "snow",
          "wind": 5
         },
         {
          "Date new": "2012-01-19T00:00:00",
          "precipitation": 15.2,
          "temp_max": -1.1,
          "temp_min": -2.8,
          "weather": "snow",
          "wind": 1.6
         },
         {
          "Date new": "2012-01-20T00:00:00",
          "precipitation": 13.5,
          "temp_max": 7.2,
          "temp_min": -1.1,
          "weather": "snow",
          "wind": 2.3
         },
         {
          "Date new": "2012-01-21T00:00:00",
          "precipitation": 3,
          "temp_max": 8.3,
          "temp_min": 3.3,
          "weather": "rain",
          "wind": 8.2
         },
         {
          "Date new": "2012-01-22T00:00:00",
          "precipitation": 6.1,
          "temp_max": 6.7,
          "temp_min": 2.2,
          "weather": "rain",
          "wind": 4.8
         },
         {
          "Date new": "2012-01-23T00:00:00",
          "precipitation": 0,
          "temp_max": 8.3,
          "temp_min": 1.1,
          "weather": "rain",
          "wind": 3.6
         },
         {
          "Date new": "2012-01-24T00:00:00",
          "precipitation": 8.6,
          "temp_max": 10,
          "temp_min": 2.2,
          "weather": "rain",
          "wind": 5.1
         },
         {
          "Date new": "2012-01-25T00:00:00",
          "precipitation": 8.1,
          "temp_max": 8.9,
          "temp_min": 4.4,
          "weather": "rain",
          "wind": 5.4
         },
         {
          "Date new": "2012-01-26T00:00:00",
          "precipitation": 4.8,
          "temp_max": 8.9,
          "temp_min": 1.1,
          "weather": "rain",
          "wind": 4.8
         },
         {
          "Date new": "2012-01-27T00:00:00",
          "precipitation": 0,
          "temp_max": 6.7,
          "temp_min": -2.2,
          "weather": "drizzle",
          "wind": 1.4
         },
         {
          "Date new": "2012-01-28T00:00:00",
          "precipitation": 0,
          "temp_max": 6.7,
          "temp_min": 0.6,
          "weather": "rain",
          "wind": 2.2
         },
         {
          "Date new": "2012-01-29T00:00:00",
          "precipitation": 27.7,
          "temp_max": 9.4,
          "temp_min": 3.9,
          "weather": "rain",
          "wind": 4.5
         },
         {
          "Date new": "2012-01-30T00:00:00",
          "precipitation": 3.6,
          "temp_max": 8.3,
          "temp_min": 6.1,
          "weather": "rain",
          "wind": 5.1
         },
         {
          "Date new": "2012-01-31T00:00:00",
          "precipitation": 1.8,
          "temp_max": 9.4,
          "temp_min": 6.1,
          "weather": "rain",
          "wind": 3.9
         },
         {
          "Date new": "2012-02-01T00:00:00",
          "precipitation": 13.5,
          "temp_max": 8.9,
          "temp_min": 3.3,
          "weather": "rain",
          "wind": 2.7
         },
         {
          "Date new": "2012-02-02T00:00:00",
          "precipitation": 0,
          "temp_max": 8.3,
          "temp_min": 1.7,
          "weather": "sun",
          "wind": 2.6
         },
         {
          "Date new": "2012-02-03T00:00:00",
          "precipitation": 0,
          "temp_max": 14.4,
          "temp_min": 2.2,
          "weather": "sun",
          "wind": 5.3
         },
         {
          "Date new": "2012-02-04T00:00:00",
          "precipitation": 0,
          "temp_max": 15.6,
          "temp_min": 5,
          "weather": "sun",
          "wind": 4.3
         },
         {
          "Date new": "2012-02-05T00:00:00",
          "precipitation": 0,
          "temp_max": 13.9,
          "temp_min": 1.7,
          "weather": "sun",
          "wind": 2.9
         },
         {
          "Date new": "2012-02-06T00:00:00",
          "precipitation": 0,
          "temp_max": 16.1,
          "temp_min": 1.7,
          "weather": "sun",
          "wind": 5
         },
         {
          "Date new": "2012-02-07T00:00:00",
          "precipitation": 0.3,
          "temp_max": 15.6,
          "temp_min": 7.8,
          "weather": "rain",
          "wind": 5.3
         },
         {
          "Date new": "2012-02-08T00:00:00",
          "precipitation": 2.8,
          "temp_max": 10,
          "temp_min": 5,
          "weather": "rain",
          "wind": 2.7
         },
         {
          "Date new": "2012-02-09T00:00:00",
          "precipitation": 2.5,
          "temp_max": 11.1,
          "temp_min": 7.8,
          "weather": "rain",
          "wind": 2.4
         },
         {
          "Date new": "2012-02-10T00:00:00",
          "precipitation": 2.5,
          "temp_max": 12.8,
          "temp_min": 6.7,
          "weather": "rain",
          "wind": 3
         },
         {
          "Date new": "2012-02-11T00:00:00",
          "precipitation": 0.8,
          "temp_max": 8.9,
          "temp_min": 5.6,
          "weather": "rain",
          "wind": 3.4
         },
         {
          "Date new": "2012-02-12T00:00:00",
          "precipitation": 1,
          "temp_max": 8.3,
          "temp_min": 5,
          "weather": "rain",
          "wind": 1.3
         },
         {
          "Date new": "2012-02-13T00:00:00",
          "precipitation": 11.4,
          "temp_max": 7.2,
          "temp_min": 4.4,
          "weather": "rain",
          "wind": 1.4
         },
         {
          "Date new": "2012-02-14T00:00:00",
          "precipitation": 2.5,
          "temp_max": 6.7,
          "temp_min": 1.1,
          "weather": "rain",
          "wind": 3.1
         },
         {
          "Date new": "2012-02-15T00:00:00",
          "precipitation": 0,
          "temp_max": 7.2,
          "temp_min": 0.6,
          "weather": "drizzle",
          "wind": 1.8
         },
         {
          "Date new": "2012-02-16T00:00:00",
          "precipitation": 1.8,
          "temp_max": 7.2,
          "temp_min": 3.3,
          "weather": "rain",
          "wind": 2.1
         },
         {
          "Date new": "2012-02-17T00:00:00",
          "precipitation": 17.3,
          "temp_max": 10,
          "temp_min": 4.4,
          "weather": "rain",
          "wind": 3.4
         },
         {
          "Date new": "2012-02-18T00:00:00",
          "precipitation": 6.4,
          "temp_max": 6.7,
          "temp_min": 3.9,
          "weather": "rain",
          "wind": 8.1
         },
         {
          "Date new": "2012-02-19T00:00:00",
          "precipitation": 0,
          "temp_max": 6.7,
          "temp_min": 2.2,
          "weather": "sun",
          "wind": 4.7
         },
         {
          "Date new": "2012-02-20T00:00:00",
          "precipitation": 3,
          "temp_max": 7.8,
          "temp_min": 1.7,
          "weather": "rain",
          "wind": 2.9
         },
         {
          "Date new": "2012-02-21T00:00:00",
          "precipitation": 0.8,
          "temp_max": 10,
          "temp_min": 7.8,
          "weather": "rain",
          "wind": 7.5
         },
         {
          "Date new": "2012-02-22T00:00:00",
          "precipitation": 8.6,
          "temp_max": 10,
          "temp_min": 2.8,
          "weather": "rain",
          "wind": 5.9
         },
         {
          "Date new": "2012-02-23T00:00:00",
          "precipitation": 0,
          "temp_max": 8.3,
          "temp_min": 2.8,
          "weather": "sun",
          "wind": 3.9
         },
         {
          "Date new": "2012-02-24T00:00:00",
          "precipitation": 11.4,
          "temp_max": 6.7,
          "temp_min": 4.4,
          "weather": "rain",
          "wind": 3.5
         },
         {
          "Date new": "2012-02-25T00:00:00",
          "precipitation": 0,
          "temp_max": 7.2,
          "temp_min": 2.8,
          "weather": "rain",
          "wind": 6.4
         },
         {
          "Date new": "2012-02-26T00:00:00",
          "precipitation": 1.3,
          "temp_max": 5,
          "temp_min": -1.1,
          "weather": "snow",
          "wind": 3.4
         },
         {
          "Date new": "2012-02-27T00:00:00",
          "precipitation": 0,
          "temp_max": 6.7,
          "temp_min": -2.2,
          "weather": "sun",
          "wind": 3
         },
         {
          "Date new": "2012-02-28T00:00:00",
          "precipitation": 3.6,
          "temp_max": 6.7,
          "temp_min": -0.6,
          "weather": "snow",
          "wind": 4.2
         },
         {
          "Date new": "2012-02-29T00:00:00",
          "precipitation": 0.8,
          "temp_max": 5,
          "temp_min": 1.1,
          "weather": "snow",
          "wind": 7
         },
         {
          "Date new": "2012-03-01T00:00:00",
          "precipitation": 0,
          "temp_max": 6.1,
          "temp_min": 1.1,
          "weather": "sun",
          "wind": 3.1
         },
         {
          "Date new": "2012-03-02T00:00:00",
          "precipitation": 2,
          "temp_max": 6.7,
          "temp_min": 3.9,
          "weather": "rain",
          "wind": 5.1
         },
         {
          "Date new": "2012-03-03T00:00:00",
          "precipitation": 0,
          "temp_max": 12.2,
          "temp_min": 6.7,
          "weather": "sun",
          "wind": 7
         },
         {
          "Date new": "2012-03-04T00:00:00",
          "precipitation": 0,
          "temp_max": 10.6,
          "temp_min": 6.7,
          "weather": "rain",
          "wind": 5.6
         },
         {
          "Date new": "2012-03-05T00:00:00",
          "precipitation": 6.9,
          "temp_max": 7.8,
          "temp_min": 1.1,
          "weather": "rain",
          "wind": 6.2
         },
         {
          "Date new": "2012-03-06T00:00:00",
          "precipitation": 0.5,
          "temp_max": 6.7,
          "temp_min": 0,
          "weather": "snow",
          "wind": 2.7
         },
         {
          "Date new": "2012-03-07T00:00:00",
          "precipitation": 0,
          "temp_max": 8.9,
          "temp_min": -1.7,
          "weather": "sun",
          "wind": 2.7
         },
         {
          "Date new": "2012-03-08T00:00:00",
          "precipitation": 0,
          "temp_max": 15.6,
          "temp_min": 0.6,
          "weather": "sun",
          "wind": 2.5
         },
         {
          "Date new": "2012-03-09T00:00:00",
          "precipitation": 3.6,
          "temp_max": 9.4,
          "temp_min": 5,
          "weather": "rain",
          "wind": 2.8
         },
         {
          "Date new": "2012-03-10T00:00:00",
          "precipitation": 10.4,
          "temp_max": 7.2,
          "temp_min": 6.1,
          "weather": "rain",
          "wind": 3.4
         },
         {
          "Date new": "2012-03-11T00:00:00",
          "precipitation": 13.7,
          "temp_max": 6.7,
          "temp_min": 2.8,
          "weather": "rain",
          "wind": 5.8
         },
         {
          "Date new": "2012-03-12T00:00:00",
          "precipitation": 19.3,
          "temp_max": 8.3,
          "temp_min": 0.6,
          "weather": "snow",
          "wind": 6.2
         },
         {
          "Date new": "2012-03-13T00:00:00",
          "precipitation": 9.4,
          "temp_max": 5.6,
          "temp_min": 0.6,
          "weather": "snow",
          "wind": 5.3
         },
         {
          "Date new": "2012-03-14T00:00:00",
          "precipitation": 8.6,
          "temp_max": 7.8,
          "temp_min": 1.1,
          "weather": "rain",
          "wind": 4.7
         },
         {
          "Date new": "2012-03-15T00:00:00",
          "precipitation": 23.9,
          "temp_max": 11.1,
          "temp_min": 5.6,
          "weather": "snow",
          "wind": 5.8
         },
         {
          "Date new": "2012-03-16T00:00:00",
          "precipitation": 8.4,
          "temp_max": 8.9,
          "temp_min": 3.9,
          "weather": "rain",
          "wind": 5.1
         },
         {
          "Date new": "2012-03-17T00:00:00",
          "precipitation": 9.4,
          "temp_max": 10,
          "temp_min": 0.6,
          "weather": "snow",
          "wind": 3.8
         },
         {
          "Date new": "2012-03-18T00:00:00",
          "precipitation": 3.6,
          "temp_max": 5,
          "temp_min": -0.6,
          "weather": "rain",
          "wind": 2.7
         },
         {
          "Date new": "2012-03-19T00:00:00",
          "precipitation": 2,
          "temp_max": 7.2,
          "temp_min": -1.1,
          "weather": "rain",
          "wind": 3
         },
         {
          "Date new": "2012-03-20T00:00:00",
          "precipitation": 3.6,
          "temp_max": 7.8,
          "temp_min": 2.2,
          "weather": "rain",
          "wind": 6.4
         },
         {
          "Date new": "2012-03-21T00:00:00",
          "precipitation": 1.3,
          "temp_max": 8.9,
          "temp_min": 1.1,
          "weather": "rain",
          "wind": 2.5
         },
         {
          "Date new": "2012-03-22T00:00:00",
          "precipitation": 4.1,
          "temp_max": 10,
          "temp_min": 1.7,
          "weather": "rain",
          "wind": 2.1
         },
         {
          "Date new": "2012-03-23T00:00:00",
          "precipitation": 0,
          "temp_max": 12.2,
          "temp_min": 0.6,
          "weather": "sun",
          "wind": 2.8
         },
         {
          "Date new": "2012-03-24T00:00:00",
          "precipitation": 0,
          "temp_max": 15,
          "temp_min": 3.3,
          "weather": "sun",
          "wind": 5.2
         },
         {
          "Date new": "2012-03-25T00:00:00",
          "precipitation": 0,
          "temp_max": 13.3,
          "temp_min": 2.2,
          "weather": "rain",
          "wind": 2.7
         },
         {
          "Date new": "2012-03-26T00:00:00",
          "precipitation": 0,
          "temp_max": 12.8,
          "temp_min": 6.1,
          "weather": "drizzle",
          "wind": 4.3
         },
         {
          "Date new": "2012-03-27T00:00:00",
          "precipitation": 4.8,
          "temp_max": 14.4,
          "temp_min": 6.7,
          "weather": "rain",
          "wind": 3.8
         },
         {
          "Date new": "2012-03-28T00:00:00",
          "precipitation": 1.3,
          "temp_max": 10.6,
          "temp_min": 7.2,
          "weather": "rain",
          "wind": 5.9
         },
         {
          "Date new": "2012-03-29T00:00:00",
          "precipitation": 27.4,
          "temp_max": 10,
          "temp_min": 6.1,
          "weather": "rain",
          "wind": 4.4
         },
         {
          "Date new": "2012-03-30T00:00:00",
          "precipitation": 5.6,
          "temp_max": 9.4,
          "temp_min": 5,
          "weather": "rain",
          "wind": 4.7
         },
         {
          "Date new": "2012-03-31T00:00:00",
          "precipitation": 13.2,
          "temp_max": 10,
          "temp_min": 2.8,
          "weather": "rain",
          "wind": 3.4
         },
         {
          "Date new": "2012-04-01T00:00:00",
          "precipitation": 1.5,
          "temp_max": 8.9,
          "temp_min": 4.4,
          "weather": "rain",
          "wind": 6.8
         },
         {
          "Date new": "2012-04-02T00:00:00",
          "precipitation": 0,
          "temp_max": 16.7,
          "temp_min": 4.4,
          "weather": "sun",
          "wind": 3.1
         },
         {
          "Date new": "2012-04-03T00:00:00",
          "precipitation": 1.5,
          "temp_max": 11.7,
          "temp_min": 3.3,
          "weather": "rain",
          "wind": 3.1
         },
         {
          "Date new": "2012-04-04T00:00:00",
          "precipitation": 0,
          "temp_max": 10.6,
          "temp_min": 2.8,
          "weather": "sun",
          "wind": 2.1
         },
         {
          "Date new": "2012-04-05T00:00:00",
          "precipitation": 4.6,
          "temp_max": 9.4,
          "temp_min": 2.8,
          "weather": "snow",
          "wind": 1.8
         },
         {
          "Date new": "2012-04-06T00:00:00",
          "precipitation": 0.3,
          "temp_max": 11.1,
          "temp_min": 3.3,
          "weather": "rain",
          "wind": 2.6
         },
         {
          "Date new": "2012-04-07T00:00:00",
          "precipitation": 0,
          "temp_max": 16.1,
          "temp_min": 1.7,
          "weather": "sun",
          "wind": 4.3
         },
         {
          "Date new": "2012-04-08T00:00:00",
          "precipitation": 0,
          "temp_max": 21.1,
          "temp_min": 7.2,
          "weather": "sun",
          "wind": 4.1
         },
         {
          "Date new": "2012-04-09T00:00:00",
          "precipitation": 0,
          "temp_max": 20,
          "temp_min": 6.1,
          "weather": "sun",
          "wind": 2.1
         },
         {
          "Date new": "2012-04-10T00:00:00",
          "precipitation": 0,
          "temp_max": 17.8,
          "temp_min": 8.9,
          "weather": "rain",
          "wind": 3.2
         },
         {
          "Date new": "2012-04-11T00:00:00",
          "precipitation": 2.3,
          "temp_max": 11.1,
          "temp_min": 7.2,
          "weather": "rain",
          "wind": 2.6
         },
         {
          "Date new": "2012-04-12T00:00:00",
          "precipitation": 0.5,
          "temp_max": 13.9,
          "temp_min": 5.6,
          "weather": "rain",
          "wind": 2.6
         },
         {
          "Date new": "2012-04-13T00:00:00",
          "precipitation": 0,
          "temp_max": 15,
          "temp_min": 3.9,
          "weather": "drizzle",
          "wind": 4
         },
         {
          "Date new": "2012-04-14T00:00:00",
          "precipitation": 0,
          "temp_max": 15.6,
          "temp_min": 3.3,
          "weather": "sun",
          "wind": 3
         },
         {
          "Date new": "2012-04-15T00:00:00",
          "precipitation": 0,
          "temp_max": 16.1,
          "temp_min": 7.2,
          "weather": "rain",
          "wind": 2.9
         },
         {
          "Date new": "2012-04-16T00:00:00",
          "precipitation": 8.1,
          "temp_max": 13.3,
          "temp_min": 6.7,
          "weather": "rain",
          "wind": 5.8
         },
         {
          "Date new": "2012-04-17T00:00:00",
          "precipitation": 1.8,
          "temp_max": 10,
          "temp_min": 4.4,
          "weather": "rain",
          "wind": 2
         },
         {
          "Date new": "2012-04-18T00:00:00",
          "precipitation": 1.8,
          "temp_max": 13.3,
          "temp_min": 7.2,
          "weather": "rain",
          "wind": 3.9
         },
         {
          "Date new": "2012-04-19T00:00:00",
          "precipitation": 10.9,
          "temp_max": 13.9,
          "temp_min": 5,
          "weather": "rain",
          "wind": 2.6
         },
         {
          "Date new": "2012-04-20T00:00:00",
          "precipitation": 6.6,
          "temp_max": 13.3,
          "temp_min": 6.7,
          "weather": "rain",
          "wind": 2.7
         },
         {
          "Date new": "2012-04-21T00:00:00",
          "precipitation": 0,
          "temp_max": 20,
          "temp_min": 4.4,
          "weather": "sun",
          "wind": 2.3
         },
         {
          "Date new": "2012-04-22T00:00:00",
          "precipitation": 0,
          "temp_max": 23.3,
          "temp_min": 8.3,
          "weather": "rain",
          "wind": 2.6
         },
         {
          "Date new": "2012-04-23T00:00:00",
          "precipitation": 0,
          "temp_max": 21.7,
          "temp_min": 8.9,
          "weather": "sun",
          "wind": 3.5
         },
         {
          "Date new": "2012-04-24T00:00:00",
          "precipitation": 4.3,
          "temp_max": 13.9,
          "temp_min": 10,
          "weather": "rain",
          "wind": 2.8
         },
         {
          "Date new": "2012-04-25T00:00:00",
          "precipitation": 10.7,
          "temp_max": 16.7,
          "temp_min": 8.9,
          "weather": "rain",
          "wind": 2.6
         },
         {
          "Date new": "2012-04-26T00:00:00",
          "precipitation": 3.8,
          "temp_max": 13.9,
          "temp_min": 6.7,
          "weather": "rain",
          "wind": 5.2
         },
         {
          "Date new": "2012-04-27T00:00:00",
          "precipitation": 0.8,
          "temp_max": 13.3,
          "temp_min": 6.1,
          "weather": "rain",
          "wind": 4.8
         },
         {
          "Date new": "2012-04-28T00:00:00",
          "precipitation": 0,
          "temp_max": 16.1,
          "temp_min": 8.3,
          "weather": "drizzle",
          "wind": 2.5
         },
         {
          "Date new": "2012-04-29T00:00:00",
          "precipitation": 4.3,
          "temp_max": 15.6,
          "temp_min": 8.9,
          "weather": "rain",
          "wind": 1.6
         },
         {
          "Date new": "2012-04-30T00:00:00",
          "precipitation": 4.3,
          "temp_max": 12.8,
          "temp_min": 7.2,
          "weather": "rain",
          "wind": 8
         },
         {
          "Date new": "2012-05-01T00:00:00",
          "precipitation": 0.5,
          "temp_max": 11.7,
          "temp_min": 6.1,
          "weather": "rain",
          "wind": 6.4
         },
         {
          "Date new": "2012-05-02T00:00:00",
          "precipitation": 0.5,
          "temp_max": 13.3,
          "temp_min": 5.6,
          "weather": "rain",
          "wind": 2.5
         },
         {
          "Date new": "2012-05-03T00:00:00",
          "precipitation": 18.5,
          "temp_max": 11.1,
          "temp_min": 7.2,
          "weather": "rain",
          "wind": 3.4
         },
         {
          "Date new": "2012-05-04T00:00:00",
          "precipitation": 1.8,
          "temp_max": 12.2,
          "temp_min": 6.1,
          "weather": "rain",
          "wind": 4.6
         },
         {
          "Date new": "2012-05-05T00:00:00",
          "precipitation": 0,
          "temp_max": 13.3,
          "temp_min": 5,
          "weather": "sun",
          "wind": 2.3
         },
         {
          "Date new": "2012-05-06T00:00:00",
          "precipitation": 0,
          "temp_max": 17.8,
          "temp_min": 5,
          "weather": "sun",
          "wind": 2.4
         },
         {
          "Date new": "2012-05-07T00:00:00",
          "precipitation": 0,
          "temp_max": 23.9,
          "temp_min": 6.1,
          "weather": "sun",
          "wind": 2.2
         },
         {
          "Date new": "2012-05-08T00:00:00",
          "precipitation": 0,
          "temp_max": 18.3,
          "temp_min": 9.4,
          "weather": "sun",
          "wind": 3
         },
         {
          "Date new": "2012-05-09T00:00:00",
          "precipitation": 0,
          "temp_max": 13.3,
          "temp_min": 6.7,
          "weather": "rain",
          "wind": 3.9
         },
         {
          "Date new": "2012-05-10T00:00:00",
          "precipitation": 0,
          "temp_max": 14.4,
          "temp_min": 3.9,
          "weather": "sun",
          "wind": 3
         },
         {
          "Date new": "2012-05-11T00:00:00",
          "precipitation": 0,
          "temp_max": 18.3,
          "temp_min": 4.4,
          "weather": "sun",
          "wind": 4.3
         },
         {
          "Date new": "2012-05-12T00:00:00",
          "precipitation": 0,
          "temp_max": 24.4,
          "temp_min": 6.7,
          "weather": "sun",
          "wind": 3.4
         },
         {
          "Date new": "2012-05-13T00:00:00",
          "precipitation": 0,
          "temp_max": 25.6,
          "temp_min": 9.4,
          "weather": "sun",
          "wind": 4.2
         },
         {
          "Date new": "2012-05-14T00:00:00",
          "precipitation": 0,
          "temp_max": 26.7,
          "temp_min": 12.8,
          "weather": "sun",
          "wind": 3.8
         },
         {
          "Date new": "2012-05-15T00:00:00",
          "precipitation": 0,
          "temp_max": 24.4,
          "temp_min": 9.4,
          "weather": "drizzle",
          "wind": 4.1
         },
         {
          "Date new": "2012-05-16T00:00:00",
          "precipitation": 0,
          "temp_max": 19.4,
          "temp_min": 9.4,
          "weather": "sun",
          "wind": 3.5
         },
         {
          "Date new": "2012-05-17T00:00:00",
          "precipitation": 0,
          "temp_max": 17.8,
          "temp_min": 6.7,
          "weather": "rain",
          "wind": 2.9
         },
         {
          "Date new": "2012-05-18T00:00:00",
          "precipitation": 0,
          "temp_max": 15.6,
          "temp_min": 7.8,
          "weather": "rain",
          "wind": 3.1
         },
         {
          "Date new": "2012-05-19T00:00:00",
          "precipitation": 0,
          "temp_max": 19.4,
          "temp_min": 7.2,
          "weather": "sun",
          "wind": 1.5
         },
         {
          "Date new": "2012-05-20T00:00:00",
          "precipitation": 6.4,
          "temp_max": 14.4,
          "temp_min": 11.7,
          "weather": "rain",
          "wind": 1.3
         },
         {
          "Date new": "2012-05-21T00:00:00",
          "precipitation": 14,
          "temp_max": 16.7,
          "temp_min": 10,
          "weather": "rain",
          "wind": 4
         },
         {
          "Date new": "2012-05-22T00:00:00",
          "precipitation": 6.1,
          "temp_max": 12.8,
          "temp_min": 8.9,
          "weather": "rain",
          "wind": 4.8
         },
         {
          "Date new": "2012-05-23T00:00:00",
          "precipitation": 0.3,
          "temp_max": 14.4,
          "temp_min": 8.9,
          "weather": "rain",
          "wind": 6.3
         },
         {
          "Date new": "2012-05-24T00:00:00",
          "precipitation": 0,
          "temp_max": 17.2,
          "temp_min": 8.9,
          "weather": "rain",
          "wind": 3.3
         },
         {
          "Date new": "2012-05-25T00:00:00",
          "precipitation": 0,
          "temp_max": 22.2,
          "temp_min": 8.9,
          "weather": "rain",
          "wind": 3.1
         },
         {
          "Date new": "2012-05-26T00:00:00",
          "precipitation": 0,
          "temp_max": 22.2,
          "temp_min": 8.9,
          "weather": "sun",
          "wind": 3.6
         },
         {
          "Date new": "2012-05-27T00:00:00",
          "precipitation": 0,
          "temp_max": 17.2,
          "temp_min": 11.7,
          "weather": "sun",
          "wind": 3.7
         },
         {
          "Date new": "2012-05-28T00:00:00",
          "precipitation": 0,
          "temp_max": 16.7,
          "temp_min": 10,
          "weather": "rain",
          "wind": 3.4
         },
         {
          "Date new": "2012-05-29T00:00:00",
          "precipitation": 0,
          "temp_max": 16.1,
          "temp_min": 7.8,
          "weather": "sun",
          "wind": 1.8
         },
         {
          "Date new": "2012-05-30T00:00:00",
          "precipitation": 0.3,
          "temp_max": 18.9,
          "temp_min": 11.1,
          "weather": "rain",
          "wind": 1.5
         },
         {
          "Date new": "2012-05-31T00:00:00",
          "precipitation": 3.8,
          "temp_max": 17.8,
          "temp_min": 12.2,
          "weather": "rain",
          "wind": 2.7
         },
         {
          "Date new": "2012-06-01T00:00:00",
          "precipitation": 6.6,
          "temp_max": 20,
          "temp_min": 12.8,
          "weather": "rain",
          "wind": 3.7
         },
         {
          "Date new": "2012-06-02T00:00:00",
          "precipitation": 0.3,
          "temp_max": 18.9,
          "temp_min": 10.6,
          "weather": "rain",
          "wind": 3.7
         },
         {
          "Date new": "2012-06-03T00:00:00",
          "precipitation": 0,
          "temp_max": 17.2,
          "temp_min": 9.4,
          "weather": "sun",
          "wind": 2.9
         },
         {
          "Date new": "2012-06-04T00:00:00",
          "precipitation": 1.3,
          "temp_max": 12.8,
          "temp_min": 8.9,
          "weather": "rain",
          "wind": 3.1
         },
         {
          "Date new": "2012-06-05T00:00:00",
          "precipitation": 16,
          "temp_max": 13.3,
          "temp_min": 8.3,
          "weather": "rain",
          "wind": 3.3
         },
         {
          "Date new": "2012-06-06T00:00:00",
          "precipitation": 0,
          "temp_max": 16.1,
          "temp_min": 6.1,
          "weather": "sun",
          "wind": 3.4
         },
         {
          "Date new": "2012-06-07T00:00:00",
          "precipitation": 16.5,
          "temp_max": 16.1,
          "temp_min": 8.9,
          "weather": "rain",
          "wind": 3.5
         },
         {
          "Date new": "2012-06-08T00:00:00",
          "precipitation": 1.5,
          "temp_max": 15,
          "temp_min": 8.3,
          "weather": "rain",
          "wind": 3
         },
         {
          "Date new": "2012-06-09T00:00:00",
          "precipitation": 0,
          "temp_max": 17.2,
          "temp_min": 8.3,
          "weather": "rain",
          "wind": 4.7
         },
         {
          "Date new": "2012-06-10T00:00:00",
          "precipitation": 0,
          "temp_max": 18.9,
          "temp_min": 10,
          "weather": "sun",
          "wind": 2.9
         },
         {
          "Date new": "2012-06-11T00:00:00",
          "precipitation": 0,
          "temp_max": 23.3,
          "temp_min": 10,
          "weather": "rain",
          "wind": 1.8
         },
         {
          "Date new": "2012-06-12T00:00:00",
          "precipitation": 0.8,
          "temp_max": 18.3,
          "temp_min": 12.8,
          "weather": "rain",
          "wind": 3.9
         },
         {
          "Date new": "2012-06-13T00:00:00",
          "precipitation": 0,
          "temp_max": 16.1,
          "temp_min": 11.1,
          "weather": "sun",
          "wind": 4.3
         },
         {
          "Date new": "2012-06-14T00:00:00",
          "precipitation": 0,
          "temp_max": 17.2,
          "temp_min": 10,
          "weather": "sun",
          "wind": 2.7
         },
         {
          "Date new": "2012-06-15T00:00:00",
          "precipitation": 0,
          "temp_max": 22.2,
          "temp_min": 9.4,
          "weather": "sun",
          "wind": 1.7
         },
         {
          "Date new": "2012-06-16T00:00:00",
          "precipitation": 0,
          "temp_max": 21.1,
          "temp_min": 15,
          "weather": "rain",
          "wind": 4.1
         },
         {
          "Date new": "2012-06-17T00:00:00",
          "precipitation": 0,
          "temp_max": 18.9,
          "temp_min": 11.7,
          "weather": "sun",
          "wind": 6.4
         },
         {
          "Date new": "2012-06-18T00:00:00",
          "precipitation": 3,
          "temp_max": 17.2,
          "temp_min": 10,
          "weather": "rain",
          "wind": 3.8
         },
         {
          "Date new": "2012-06-19T00:00:00",
          "precipitation": 1,
          "temp_max": 19.4,
          "temp_min": 10,
          "weather": "rain",
          "wind": 3
         },
         {
          "Date new": "2012-06-20T00:00:00",
          "precipitation": 0,
          "temp_max": 24.4,
          "temp_min": 10,
          "weather": "sun",
          "wind": 3
         },
         {
          "Date new": "2012-06-21T00:00:00",
          "precipitation": 0,
          "temp_max": 23.9,
          "temp_min": 11.7,
          "weather": "sun",
          "wind": 2.1
         },
         {
          "Date new": "2012-06-22T00:00:00",
          "precipitation": 15.7,
          "temp_max": 13.9,
          "temp_min": 11.7,
          "weather": "rain",
          "wind": 1.9
         },
         {
          "Date new": "2012-06-23T00:00:00",
          "precipitation": 8.6,
          "temp_max": 15.6,
          "temp_min": 9.4,
          "weather": "rain",
          "wind": 2.5
         },
         {
          "Date new": "2012-06-24T00:00:00",
          "precipitation": 0,
          "temp_max": 19.4,
          "temp_min": 9.4,
          "weather": "drizzle",
          "wind": 2
         },
         {
          "Date new": "2012-06-25T00:00:00",
          "precipitation": 0.5,
          "temp_max": 19.4,
          "temp_min": 11.1,
          "weather": "rain",
          "wind": 3.1
         },
         {
          "Date new": "2012-06-26T00:00:00",
          "precipitation": 0,
          "temp_max": 18.3,
          "temp_min": 10.6,
          "weather": "rain",
          "wind": 3.4
         },
         {
          "Date new": "2012-06-27T00:00:00",
          "precipitation": 0,
          "temp_max": 22.8,
          "temp_min": 8.9,
          "weather": "sun",
          "wind": 1.8
         },
         {
          "Date new": "2012-06-28T00:00:00",
          "precipitation": 0,
          "temp_max": 22.2,
          "temp_min": 11.7,
          "weather": "rain",
          "wind": 2.5
         },
         {
          "Date new": "2012-06-29T00:00:00",
          "precipitation": 0.3,
          "temp_max": 21.7,
          "temp_min": 15,
          "weather": "rain",
          "wind": 1.9
         },
         {
          "Date new": "2012-06-30T00:00:00",
          "precipitation": 3,
          "temp_max": 20,
          "temp_min": 13.3,
          "weather": "rain",
          "wind": 2.4
         },
         {
          "Date new": "2012-07-01T00:00:00",
          "precipitation": 0,
          "temp_max": 20,
          "temp_min": 12.2,
          "weather": "rain",
          "wind": 2.3
         },
         {
          "Date new": "2012-07-02T00:00:00",
          "precipitation": 2,
          "temp_max": 18.9,
          "temp_min": 11.7,
          "weather": "rain",
          "wind": 2.1
         },
         {
          "Date new": "2012-07-03T00:00:00",
          "precipitation": 5.8,
          "temp_max": 18.3,
          "temp_min": 10.6,
          "weather": "rain",
          "wind": 6
         },
         {
          "Date new": "2012-07-04T00:00:00",
          "precipitation": 0,
          "temp_max": 20.6,
          "temp_min": 9.4,
          "weather": "sun",
          "wind": 3.8
         },
         {
          "Date new": "2012-07-05T00:00:00",
          "precipitation": 0,
          "temp_max": 24.4,
          "temp_min": 10.6,
          "weather": "drizzle",
          "wind": 3.1
         },
         {
          "Date new": "2012-07-06T00:00:00",
          "precipitation": 0,
          "temp_max": 25,
          "temp_min": 11.1,
          "weather": "sun",
          "wind": 2.1
         },
         {
          "Date new": "2012-07-07T00:00:00",
          "precipitation": 0,
          "temp_max": 26.7,
          "temp_min": 12.8,
          "weather": "sun",
          "wind": 3.8
         },
         {
          "Date new": "2012-07-08T00:00:00",
          "precipitation": 0,
          "temp_max": 28.3,
          "temp_min": 14.4,
          "weather": "rain",
          "wind": 2.8
         },
         {
          "Date new": "2012-07-09T00:00:00",
          "precipitation": 1.5,
          "temp_max": 25,
          "temp_min": 12.8,
          "weather": "rain",
          "wind": 2
         },
         {
          "Date new": "2012-07-10T00:00:00",
          "precipitation": 0,
          "temp_max": 23.9,
          "temp_min": 11.1,
          "weather": "drizzle",
          "wind": 2.3
         },
         {
          "Date new": "2012-07-11T00:00:00",
          "precipitation": 0,
          "temp_max": 27.8,
          "temp_min": 13.3,
          "weather": "fog",
          "wind": 2.9
         },
         {
          "Date new": "2012-07-12T00:00:00",
          "precipitation": 0,
          "temp_max": 25.6,
          "temp_min": 13.3,
          "weather": "drizzle",
          "wind": 2.7
         },
         {
          "Date new": "2012-07-13T00:00:00",
          "precipitation": 0.5,
          "temp_max": 23.3,
          "temp_min": 13.9,
          "weather": "rain",
          "wind": 2.2
         },
         {
          "Date new": "2012-07-14T00:00:00",
          "precipitation": 0,
          "temp_max": 25,
          "temp_min": 15,
          "weather": "rain",
          "wind": 2.2
         },
         {
          "Date new": "2012-07-15T00:00:00",
          "precipitation": 0,
          "temp_max": 18.9,
          "temp_min": 13.3,
          "weather": "rain",
          "wind": 3.8
         },
         {
          "Date new": "2012-07-16T00:00:00",
          "precipitation": 0.3,
          "temp_max": 26.1,
          "temp_min": 13.3,
          "weather": "rain",
          "wind": 2.5
         },
         {
          "Date new": "2012-07-17T00:00:00",
          "precipitation": 0,
          "temp_max": 21.7,
          "temp_min": 15,
          "weather": "sun",
          "wind": 2.6
         },
         {
          "Date new": "2012-07-18T00:00:00",
          "precipitation": 0,
          "temp_max": 21.1,
          "temp_min": 14.4,
          "weather": "sun",
          "wind": 2.9
         },
         {
          "Date new": "2012-07-19T00:00:00",
          "precipitation": 0,
          "temp_max": 25,
          "temp_min": 14.4,
          "weather": "sun",
          "wind": 2.2
         },
         {
          "Date new": "2012-07-20T00:00:00",
          "precipitation": 15.2,
          "temp_max": 19.4,
          "temp_min": 13.9,
          "weather": "rain",
          "wind": 4
         },
         {
          "Date new": "2012-07-21T00:00:00",
          "precipitation": 0,
          "temp_max": 23.9,
          "temp_min": 13.9,
          "weather": "sun",
          "wind": 2.3
         },
         {
          "Date new": "2012-07-22T00:00:00",
          "precipitation": 1,
          "temp_max": 20.6,
          "temp_min": 12.2,
          "weather": "rain",
          "wind": 3.9
         },
         {
          "Date new": "2012-07-23T00:00:00",
          "precipitation": 0,
          "temp_max": 18.9,
          "temp_min": 11.1,
          "weather": "rain",
          "wind": 3.3
         },
         {
          "Date new": "2012-07-24T00:00:00",
          "precipitation": 0,
          "temp_max": 23.3,
          "temp_min": 12.2,
          "weather": "sun",
          "wind": 4.3
         },
         {
          "Date new": "2012-07-25T00:00:00",
          "precipitation": 0,
          "temp_max": 26.7,
          "temp_min": 12.8,
          "weather": "sun",
          "wind": 2.6
         },
         {
          "Date new": "2012-07-26T00:00:00",
          "precipitation": 0,
          "temp_max": 25.6,
          "temp_min": 12.8,
          "weather": "drizzle",
          "wind": 2.2
         },
         {
          "Date new": "2012-07-27T00:00:00",
          "precipitation": 0,
          "temp_max": 18.9,
          "temp_min": 13.9,
          "weather": "drizzle",
          "wind": 2.8
         },
         {
          "Date new": "2012-07-28T00:00:00",
          "precipitation": 0,
          "temp_max": 22.2,
          "temp_min": 13.3,
          "weather": "drizzle",
          "wind": 1.7
         },
         {
          "Date new": "2012-07-29T00:00:00",
          "precipitation": 0,
          "temp_max": 22.8,
          "temp_min": 15,
          "weather": "sun",
          "wind": 2
         },
         {
          "Date new": "2012-07-30T00:00:00",
          "precipitation": 0,
          "temp_max": 19.4,
          "temp_min": 13.3,
          "weather": "sun",
          "wind": 3
         },
         {
          "Date new": "2012-07-31T00:00:00",
          "precipitation": 0,
          "temp_max": 22.8,
          "temp_min": 13.9,
          "weather": "sun",
          "wind": 2.8
         },
         {
          "Date new": "2012-08-01T00:00:00",
          "precipitation": 0,
          "temp_max": 23.9,
          "temp_min": 13.3,
          "weather": "drizzle",
          "wind": 2.2
         },
         {
          "Date new": "2012-08-02T00:00:00",
          "precipitation": 0,
          "temp_max": 23.3,
          "temp_min": 12.2,
          "weather": "sun",
          "wind": 2.5
         },
         {
          "Date new": "2012-08-03T00:00:00",
          "precipitation": 0,
          "temp_max": 27.2,
          "temp_min": 12.8,
          "weather": "sun",
          "wind": 3.9
         },
         {
          "Date new": "2012-08-04T00:00:00",
          "precipitation": 0,
          "temp_max": 33.9,
          "temp_min": 16.7,
          "weather": "sun",
          "wind": 3.7
         },
         {
          "Date new": "2012-08-05T00:00:00",
          "precipitation": 0,
          "temp_max": 33.9,
          "temp_min": 17.8,
          "weather": "sun",
          "wind": 1.9
         },
         {
          "Date new": "2012-08-06T00:00:00",
          "precipitation": 0,
          "temp_max": 28.3,
          "temp_min": 15.6,
          "weather": "rain",
          "wind": 2.5
         },
         {
          "Date new": "2012-08-07T00:00:00",
          "precipitation": 0,
          "temp_max": 21.1,
          "temp_min": 15,
          "weather": "drizzle",
          "wind": 2.6
         },
         {
          "Date new": "2012-08-08T00:00:00",
          "precipitation": 0,
          "temp_max": 22.2,
          "temp_min": 15,
          "weather": "sun",
          "wind": 3.1
         },
         {
          "Date new": "2012-08-09T00:00:00",
          "precipitation": 0,
          "temp_max": 24.4,
          "temp_min": 14.4,
          "weather": "drizzle",
          "wind": 3.8
         },
         {
          "Date new": "2012-08-10T00:00:00",
          "precipitation": 0,
          "temp_max": 25.6,
          "temp_min": 12.2,
          "weather": "sun",
          "wind": 2.3
         },
         {
          "Date new": "2012-08-11T00:00:00",
          "precipitation": 0,
          "temp_max": 28.3,
          "temp_min": 13.3,
          "weather": "sun",
          "wind": 2.5
         },
         {
          "Date new": "2012-08-12T00:00:00",
          "precipitation": 0,
          "temp_max": 30.6,
          "temp_min": 15,
          "weather": "sun",
          "wind": 3
         },
         {
          "Date new": "2012-08-13T00:00:00",
          "precipitation": 0,
          "temp_max": 30.6,
          "temp_min": 15,
          "weather": "sun",
          "wind": 2.8
         },
         {
          "Date new": "2012-08-14T00:00:00",
          "precipitation": 0,
          "temp_max": 28.9,
          "temp_min": 13.9,
          "weather": "sun",
          "wind": 2.8
         },
         {
          "Date new": "2012-08-15T00:00:00",
          "precipitation": 0,
          "temp_max": 31.1,
          "temp_min": 16.7,
          "weather": "sun",
          "wind": 4.7
         },
         {
          "Date new": "2012-08-16T00:00:00",
          "precipitation": 0,
          "temp_max": 34.4,
          "temp_min": 18.3,
          "weather": "sun",
          "wind": 2.8
         },
         {
          "Date new": "2012-08-17T00:00:00",
          "precipitation": 0,
          "temp_max": 32.8,
          "temp_min": 16.1,
          "weather": "sun",
          "wind": 1.8
         },
         {
          "Date new": "2012-08-18T00:00:00",
          "precipitation": 0,
          "temp_max": 21.7,
          "temp_min": 14.4,
          "weather": "drizzle",
          "wind": 3
         },
         {
          "Date new": "2012-08-19T00:00:00",
          "precipitation": 0,
          "temp_max": 23.3,
          "temp_min": 15,
          "weather": "drizzle",
          "wind": 2.7
         },
         {
          "Date new": "2012-08-20T00:00:00",
          "precipitation": 0,
          "temp_max": 25.6,
          "temp_min": 15,
          "weather": "sun",
          "wind": 1.9
         },
         {
          "Date new": "2012-08-21T00:00:00",
          "precipitation": 0,
          "temp_max": 23.3,
          "temp_min": 13.3,
          "weather": "rain",
          "wind": 3
         },
         {
          "Date new": "2012-08-22T00:00:00",
          "precipitation": 0,
          "temp_max": 22.2,
          "temp_min": 13.3,
          "weather": "sun",
          "wind": 2.3
         },
         {
          "Date new": "2012-08-23T00:00:00",
          "precipitation": 0,
          "temp_max": 21.1,
          "temp_min": 13.9,
          "weather": "sun",
          "wind": 3.8
         },
         {
          "Date new": "2012-08-24T00:00:00",
          "precipitation": 0,
          "temp_max": 22.2,
          "temp_min": 10,
          "weather": "sun",
          "wind": 3.3
         },
         {
          "Date new": "2012-08-25T00:00:00",
          "precipitation": 0,
          "temp_max": 26.1,
          "temp_min": 11.7,
          "weather": "sun",
          "wind": 3.2
         },
         {
          "Date new": "2012-08-26T00:00:00",
          "precipitation": 0,
          "temp_max": 21.1,
          "temp_min": 12.2,
          "weather": "sun",
          "wind": 3.4
         },
         {
          "Date new": "2012-08-27T00:00:00",
          "precipitation": 0,
          "temp_max": 23.9,
          "temp_min": 13.3,
          "weather": "sun",
          "wind": 1.8
         },
         {
          "Date new": "2012-08-28T00:00:00",
          "precipitation": 0,
          "temp_max": 22.8,
          "temp_min": 12.2,
          "weather": "sun",
          "wind": 3.2
         },
         {
          "Date new": "2012-08-29T00:00:00",
          "precipitation": 0,
          "temp_max": 22.8,
          "temp_min": 13.3,
          "weather": "sun",
          "wind": 2.4
         },
         {
          "Date new": "2012-08-30T00:00:00",
          "precipitation": 0,
          "temp_max": 22.8,
          "temp_min": 12.8,
          "weather": "sun",
          "wind": 1.9
         },
         {
          "Date new": "2012-08-31T00:00:00",
          "precipitation": 0,
          "temp_max": 22.2,
          "temp_min": 10.6,
          "weather": "sun",
          "wind": 2.9
         },
         {
          "Date new": "2012-09-01T00:00:00",
          "precipitation": 0,
          "temp_max": 21.7,
          "temp_min": 10.6,
          "weather": "sun",
          "wind": 2.1
         },
         {
          "Date new": "2012-09-02T00:00:00",
          "precipitation": 0,
          "temp_max": 21.1,
          "temp_min": 10,
          "weather": "sun",
          "wind": 2
         },
         {
          "Date new": "2012-09-03T00:00:00",
          "precipitation": 0,
          "temp_max": 22.8,
          "temp_min": 12.8,
          "weather": "sun",
          "wind": 3.3
         },
         {
          "Date new": "2012-09-04T00:00:00",
          "precipitation": 0,
          "temp_max": 24.4,
          "temp_min": 11.1,
          "weather": "sun",
          "wind": 3.1
         },
         {
          "Date new": "2012-09-05T00:00:00",
          "precipitation": 0,
          "temp_max": 26.1,
          "temp_min": 11.7,
          "weather": "sun",
          "wind": 2.6
         },
         {
          "Date new": "2012-09-06T00:00:00",
          "precipitation": 0,
          "temp_max": 28.3,
          "temp_min": 14.4,
          "weather": "sun",
          "wind": 4.2
         },
         {
          "Date new": "2012-09-07T00:00:00",
          "precipitation": 0,
          "temp_max": 32.2,
          "temp_min": 13.3,
          "weather": "sun",
          "wind": 3.1
         },
         {
          "Date new": "2012-09-08T00:00:00",
          "precipitation": 0,
          "temp_max": 25,
          "temp_min": 13.3,
          "weather": "sun",
          "wind": 3
         },
         {
          "Date new": "2012-09-09T00:00:00",
          "precipitation": 0.3,
          "temp_max": 18.9,
          "temp_min": 13.9,
          "weather": "rain",
          "wind": 5
         },
         {
          "Date new": "2012-09-10T00:00:00",
          "precipitation": 0.3,
          "temp_max": 20,
          "temp_min": 11.7,
          "weather": "rain",
          "wind": 3.9
         },
         {
          "Date new": "2012-09-11T00:00:00",
          "precipitation": 0,
          "temp_max": 20,
          "temp_min": 8.9,
          "weather": "sun",
          "wind": 4.2
         },
         {
          "Date new": "2012-09-12T00:00:00",
          "precipitation": 0,
          "temp_max": 22.2,
          "temp_min": 10,
          "weather": "sun",
          "wind": 5.6
         },
         {
          "Date new": "2012-09-13T00:00:00",
          "precipitation": 0,
          "temp_max": 27.8,
          "temp_min": 11.7,
          "weather": "sun",
          "wind": 3.6
         },
         {
          "Date new": "2012-09-14T00:00:00",
          "precipitation": 0,
          "temp_max": 26.1,
          "temp_min": 11.1,
          "weather": "sun",
          "wind": 1.5
         },
         {
          "Date new": "2012-09-15T00:00:00",
          "precipitation": 0,
          "temp_max": 22.2,
          "temp_min": 11.1,
          "weather": "sun",
          "wind": 1.9
         },
         {
          "Date new": "2012-09-16T00:00:00",
          "precipitation": 0,
          "temp_max": 24.4,
          "temp_min": 9.4,
          "weather": "sun",
          "wind": 2.3
         },
         {
          "Date new": "2012-09-17T00:00:00",
          "precipitation": 0,
          "temp_max": 27.8,
          "temp_min": 11.7,
          "weather": "fog",
          "wind": 2.2
         },
         {
          "Date new": "2012-09-18T00:00:00",
          "precipitation": 0,
          "temp_max": 27.8,
          "temp_min": 11.7,
          "weather": "sun",
          "wind": 1.4
         },
         {
          "Date new": "2012-09-19T00:00:00",
          "precipitation": 0,
          "temp_max": 23.9,
          "temp_min": 11.7,
          "weather": "drizzle",
          "wind": 1.9
         },
         {
          "Date new": "2012-09-20T00:00:00",
          "precipitation": 0,
          "temp_max": 19.4,
          "temp_min": 10,
          "weather": "drizzle",
          "wind": 2.5
         },
         {
          "Date new": "2012-09-21T00:00:00",
          "precipitation": 0,
          "temp_max": 16.1,
          "temp_min": 12.8,
          "weather": "drizzle",
          "wind": 2.1
         },
         {
          "Date new": "2012-09-22T00:00:00",
          "precipitation": 0.3,
          "temp_max": 19.4,
          "temp_min": 11.7,
          "weather": "rain",
          "wind": 1.1
         },
         {
          "Date new": "2012-09-23T00:00:00",
          "precipitation": 0,
          "temp_max": 19.4,
          "temp_min": 10,
          "weather": "fog",
          "wind": 1.4
         },
         {
          "Date new": "2012-09-24T00:00:00",
          "precipitation": 0,
          "temp_max": 21.1,
          "temp_min": 10,
          "weather": "fog",
          "wind": 1.8
         },
         {
          "Date new": "2012-09-25T00:00:00",
          "precipitation": 0,
          "temp_max": 19.4,
          "temp_min": 11.1,
          "weather": "sun",
          "wind": 1.7
         },
         {
          "Date new": "2012-09-26T00:00:00",
          "precipitation": 0,
          "temp_max": 19.4,
          "temp_min": 9.4,
          "weather": "drizzle",
          "wind": 1.7
         },
         {
          "Date new": "2012-09-27T00:00:00",
          "precipitation": 0,
          "temp_max": 22.8,
          "temp_min": 10,
          "weather": "drizzle",
          "wind": 1.7
         },
         {
          "Date new": "2012-09-28T00:00:00",
          "precipitation": 0,
          "temp_max": 25,
          "temp_min": 12.2,
          "weather": "rain",
          "wind": 1.1
         },
         {
          "Date new": "2012-09-29T00:00:00",
          "precipitation": 0,
          "temp_max": 20.6,
          "temp_min": 12.2,
          "weather": "sun",
          "wind": 4.3
         },
         {
          "Date new": "2012-09-30T00:00:00",
          "precipitation": 0,
          "temp_max": 21.1,
          "temp_min": 7.8,
          "weather": "sun",
          "wind": 3.1
         },
         {
          "Date new": "2012-10-01T00:00:00",
          "precipitation": 0,
          "temp_max": 23.3,
          "temp_min": 8.9,
          "weather": "sun",
          "wind": 3
         },
         {
          "Date new": "2012-10-02T00:00:00",
          "precipitation": 0,
          "temp_max": 17.8,
          "temp_min": 10,
          "weather": "sun",
          "wind": 4.1
         },
         {
          "Date new": "2012-10-03T00:00:00",
          "precipitation": 0,
          "temp_max": 18.9,
          "temp_min": 7.8,
          "weather": "sun",
          "wind": 7.3
         },
         {
          "Date new": "2012-10-04T00:00:00",
          "precipitation": 0,
          "temp_max": 18.9,
          "temp_min": 8.3,
          "weather": "sun",
          "wind": 6.5
         },
         {
          "Date new": "2012-10-05T00:00:00",
          "precipitation": 0,
          "temp_max": 21.7,
          "temp_min": 8.9,
          "weather": "sun",
          "wind": 5.7
         },
         {
          "Date new": "2012-10-06T00:00:00",
          "precipitation": 0,
          "temp_max": 23.9,
          "temp_min": 7.8,
          "weather": "sun",
          "wind": 5.1
         },
         {
          "Date new": "2012-10-07T00:00:00",
          "precipitation": 0,
          "temp_max": 23.9,
          "temp_min": 7.8,
          "weather": "sun",
          "wind": 1.3
         },
         {
          "Date new": "2012-10-08T00:00:00",
          "precipitation": 0,
          "temp_max": 21.1,
          "temp_min": 7.8,
          "weather": "sun",
          "wind": 1.9
         },
         {
          "Date new": "2012-10-09T00:00:00",
          "precipitation": 0,
          "temp_max": 16.1,
          "temp_min": 8.9,
          "weather": "drizzle",
          "wind": 1.6
         },
         {
          "Date new": "2012-10-10T00:00:00",
          "precipitation": 0,
          "temp_max": 12.2,
          "temp_min": 8.3,
          "weather": "drizzle",
          "wind": 1.4
         },
         {
          "Date new": "2012-10-11T00:00:00",
          "precipitation": 0,
          "temp_max": 13.9,
          "temp_min": 7.2,
          "weather": "drizzle",
          "wind": 1.3
         },
         {
          "Date new": "2012-10-12T00:00:00",
          "precipitation": 2,
          "temp_max": 13.9,
          "temp_min": 8.9,
          "weather": "rain",
          "wind": 4.6
         },
         {
          "Date new": "2012-10-13T00:00:00",
          "precipitation": 4.8,
          "temp_max": 15.6,
          "temp_min": 12.2,
          "weather": "rain",
          "wind": 3.9
         },
         {
          "Date new": "2012-10-14T00:00:00",
          "precipitation": 16.5,
          "temp_max": 17.8,
          "temp_min": 13.3,
          "weather": "rain",
          "wind": 3.4
         },
         {
          "Date new": "2012-10-15T00:00:00",
          "precipitation": 7.9,
          "temp_max": 17.2,
          "temp_min": 11.1,
          "weather": "rain",
          "wind": 4.6
         },
         {
          "Date new": "2012-10-16T00:00:00",
          "precipitation": 0,
          "temp_max": 16.1,
          "temp_min": 8.3,
          "weather": "sun",
          "wind": 5.5
         },
         {
          "Date new": "2012-10-17T00:00:00",
          "precipitation": 0,
          "temp_max": 14.4,
          "temp_min": 6.1,
          "weather": "sun",
          "wind": 1.6
         },
         {
          "Date new": "2012-10-18T00:00:00",
          "precipitation": 20.8,
          "temp_max": 17.8,
          "temp_min": 6.7,
          "weather": "rain",
          "wind": 2
         },
         {
          "Date new": "2012-10-19T00:00:00",
          "precipitation": 4.8,
          "temp_max": 15,
          "temp_min": 9.4,
          "weather": "rain",
          "wind": 5.3
         },
         {
          "Date new": "2012-10-20T00:00:00",
          "precipitation": 0.5,
          "temp_max": 11.1,
          "temp_min": 6.1,
          "weather": "rain",
          "wind": 5.7
         },
         {
          "Date new": "2012-10-21T00:00:00",
          "precipitation": 6.4,
          "temp_max": 11.7,
          "temp_min": 4.4,
          "weather": "rain",
          "wind": 2.7
         },
         {
          "Date new": "2012-10-22T00:00:00",
          "precipitation": 8.9,
          "temp_max": 7.8,
          "temp_min": 3.3,
          "weather": "rain",
          "wind": 2.6
         },
         {
          "Date new": "2012-10-23T00:00:00",
          "precipitation": 0,
          "temp_max": 11.1,
          "temp_min": 5.6,
          "weather": "rain",
          "wind": 3
         },
         {
          "Date new": "2012-10-24T00:00:00",
          "precipitation": 7.1,
          "temp_max": 11.7,
          "temp_min": 6.1,
          "weather": "rain",
          "wind": 2.1
         },
         {
          "Date new": "2012-10-25T00:00:00",
          "precipitation": 0,
          "temp_max": 11.7,
          "temp_min": 6.7,
          "weather": "sun",
          "wind": 1.5
         },
         {
          "Date new": "2012-10-26T00:00:00",
          "precipitation": 1.5,
          "temp_max": 11.1,
          "temp_min": 7.2,
          "weather": "rain",
          "wind": 2.5
         },
         {
          "Date new": "2012-10-27T00:00:00",
          "precipitation": 23.1,
          "temp_max": 14.4,
          "temp_min": 9.4,
          "weather": "rain",
          "wind": 5.1
         },
         {
          "Date new": "2012-10-28T00:00:00",
          "precipitation": 6.1,
          "temp_max": 14.4,
          "temp_min": 10,
          "weather": "rain",
          "wind": 3.8
         },
         {
          "Date new": "2012-10-29T00:00:00",
          "precipitation": 10.9,
          "temp_max": 15.6,
          "temp_min": 10,
          "weather": "rain",
          "wind": 4.9
         },
         {
          "Date new": "2012-10-30T00:00:00",
          "precipitation": 34.5,
          "temp_max": 15,
          "temp_min": 12.2,
          "weather": "rain",
          "wind": 2.8
         },
         {
          "Date new": "2012-10-31T00:00:00",
          "precipitation": 14.5,
          "temp_max": 15.6,
          "temp_min": 11.1,
          "weather": "rain",
          "wind": 2.7
         },
         {
          "Date new": "2012-11-01T00:00:00",
          "precipitation": 9.7,
          "temp_max": 15,
          "temp_min": 10.6,
          "weather": "rain",
          "wind": 3
         },
         {
          "Date new": "2012-11-02T00:00:00",
          "precipitation": 5.6,
          "temp_max": 15,
          "temp_min": 10.6,
          "weather": "rain",
          "wind": 1
         },
         {
          "Date new": "2012-11-03T00:00:00",
          "precipitation": 0.5,
          "temp_max": 15.6,
          "temp_min": 11.1,
          "weather": "rain",
          "wind": 3.6
         },
         {
          "Date new": "2012-11-04T00:00:00",
          "precipitation": 8.1,
          "temp_max": 17.8,
          "temp_min": 12.8,
          "weather": "rain",
          "wind": 3.8
         },
         {
          "Date new": "2012-11-05T00:00:00",
          "precipitation": 0.8,
          "temp_max": 15,
          "temp_min": 7.8,
          "weather": "rain",
          "wind": 4
         },
         {
          "Date new": "2012-11-06T00:00:00",
          "precipitation": 0.3,
          "temp_max": 12.8,
          "temp_min": 6.7,
          "weather": "rain",
          "wind": 3.5
         },
         {
          "Date new": "2012-11-07T00:00:00",
          "precipitation": 0,
          "temp_max": 12.2,
          "temp_min": 3.9,
          "weather": "rain",
          "wind": 3.4
         },
         {
          "Date new": "2012-11-08T00:00:00",
          "precipitation": 0,
          "temp_max": 10,
          "temp_min": 1.1,
          "weather": "rain",
          "wind": 3.4
         },
         {
          "Date new": "2012-11-09T00:00:00",
          "precipitation": 0,
          "temp_max": 8.9,
          "temp_min": 1.1,
          "weather": "rain",
          "wind": 2
         },
         {
          "Date new": "2012-11-10T00:00:00",
          "precipitation": 0,
          "temp_max": 7.8,
          "temp_min": -0.6,
          "weather": "sun",
          "wind": 2.2
         },
         {
          "Date new": "2012-11-11T00:00:00",
          "precipitation": 15.2,
          "temp_max": 8.9,
          "temp_min": 1.1,
          "weather": "rain",
          "wind": 3
         },
         {
          "Date new": "2012-11-12T00:00:00",
          "precipitation": 3.6,
          "temp_max": 12.8,
          "temp_min": 6.1,
          "weather": "rain",
          "wind": 3
         },
         {
          "Date new": "2012-11-13T00:00:00",
          "precipitation": 5.3,
          "temp_max": 11.1,
          "temp_min": 7.8,
          "weather": "rain",
          "wind": 2.5
         },
         {
          "Date new": "2012-11-14T00:00:00",
          "precipitation": 0.8,
          "temp_max": 11.1,
          "temp_min": 5,
          "weather": "rain",
          "wind": 2.6
         },
         {
          "Date new": "2012-11-15T00:00:00",
          "precipitation": 0,
          "temp_max": 9.4,
          "temp_min": 2.8,
          "weather": "drizzle",
          "wind": 2.4
         },
         {
          "Date new": "2012-11-16T00:00:00",
          "precipitation": 5.6,
          "temp_max": 9.4,
          "temp_min": 2.2,
          "weather": "rain",
          "wind": 1.6
         },
         {
          "Date new": "2012-11-17T00:00:00",
          "precipitation": 6.1,
          "temp_max": 12.2,
          "temp_min": 6.1,
          "weather": "rain",
          "wind": 5.3
         },
         {
          "Date new": "2012-11-18T00:00:00",
          "precipitation": 7.9,
          "temp_max": 10,
          "temp_min": 6.1,
          "weather": "rain",
          "wind": 4.9
         },
         {
          "Date new": "2012-11-19T00:00:00",
          "precipitation": 54.1,
          "temp_max": 13.3,
          "temp_min": 8.3,
          "weather": "rain",
          "wind": 6
         },
         {
          "Date new": "2012-11-20T00:00:00",
          "precipitation": 3.8,
          "temp_max": 11.1,
          "temp_min": 7.2,
          "weather": "rain",
          "wind": 4.2
         },
         {
          "Date new": "2012-11-21T00:00:00",
          "precipitation": 11.2,
          "temp_max": 8.3,
          "temp_min": 3.9,
          "weather": "rain",
          "wind": 5.5
         },
         {
          "Date new": "2012-11-22T00:00:00",
          "precipitation": 0,
          "temp_max": 8.9,
          "temp_min": 2.8,
          "weather": "rain",
          "wind": 1.5
         },
         {
          "Date new": "2012-11-23T00:00:00",
          "precipitation": 32,
          "temp_max": 9.4,
          "temp_min": 6.1,
          "weather": "rain",
          "wind": 2.4
         },
         {
          "Date new": "2012-11-24T00:00:00",
          "precipitation": 0,
          "temp_max": 8.9,
          "temp_min": 3.9,
          "weather": "rain",
          "wind": 1.2
         },
         {
          "Date new": "2012-11-25T00:00:00",
          "precipitation": 0,
          "temp_max": 8.3,
          "temp_min": 1.1,
          "weather": "drizzle",
          "wind": 3.6
         },
         {
          "Date new": "2012-11-26T00:00:00",
          "precipitation": 0,
          "temp_max": 9.4,
          "temp_min": 1.7,
          "weather": "fog",
          "wind": 3.8
         },
         {
          "Date new": "2012-11-27T00:00:00",
          "precipitation": 0,
          "temp_max": 10,
          "temp_min": 1.7,
          "weather": "sun",
          "wind": 1.5
         },
         {
          "Date new": "2012-11-28T00:00:00",
          "precipitation": 2.8,
          "temp_max": 9.4,
          "temp_min": 2.2,
          "weather": "rain",
          "wind": 2.9
         },
         {
          "Date new": "2012-11-29T00:00:00",
          "precipitation": 1.5,
          "temp_max": 12.8,
          "temp_min": 7.8,
          "weather": "rain",
          "wind": 4.2
         },
         {
          "Date new": "2012-11-30T00:00:00",
          "precipitation": 35.6,
          "temp_max": 15,
          "temp_min": 7.8,
          "weather": "rain",
          "wind": 4.6
         },
         {
          "Date new": "2012-12-01T00:00:00",
          "precipitation": 4.1,
          "temp_max": 13.3,
          "temp_min": 8.3,
          "weather": "rain",
          "wind": 5.5
         },
         {
          "Date new": "2012-12-02T00:00:00",
          "precipitation": 19.6,
          "temp_max": 8.3,
          "temp_min": 7.2,
          "weather": "rain",
          "wind": 6.2
         },
         {
          "Date new": "2012-12-03T00:00:00",
          "precipitation": 13,
          "temp_max": 9.4,
          "temp_min": 7.2,
          "weather": "rain",
          "wind": 4.4
         },
         {
          "Date new": "2012-12-04T00:00:00",
          "precipitation": 14.2,
          "temp_max": 11.7,
          "temp_min": 7.2,
          "weather": "rain",
          "wind": 6.2
         },
         {
          "Date new": "2012-12-05T00:00:00",
          "precipitation": 1.5,
          "temp_max": 8.9,
          "temp_min": 4.4,
          "weather": "rain",
          "wind": 5
         },
         {
          "Date new": "2012-12-06T00:00:00",
          "precipitation": 1.5,
          "temp_max": 7.2,
          "temp_min": 6.1,
          "weather": "rain",
          "wind": 5.1
         },
         {
          "Date new": "2012-12-07T00:00:00",
          "precipitation": 1,
          "temp_max": 7.8,
          "temp_min": 3.3,
          "weather": "rain",
          "wind": 4.6
         },
         {
          "Date new": "2012-12-08T00:00:00",
          "precipitation": 0,
          "temp_max": 6.7,
          "temp_min": 3.3,
          "weather": "sun",
          "wind": 2
         },
         {
          "Date new": "2012-12-09T00:00:00",
          "precipitation": 1.5,
          "temp_max": 6.7,
          "temp_min": 2.8,
          "weather": "rain",
          "wind": 2.1
         },
         {
          "Date new": "2012-12-10T00:00:00",
          "precipitation": 0.5,
          "temp_max": 7.2,
          "temp_min": 5.6,
          "weather": "rain",
          "wind": 1.8
         },
         {
          "Date new": "2012-12-11T00:00:00",
          "precipitation": 3,
          "temp_max": 7.8,
          "temp_min": 5.6,
          "weather": "rain",
          "wind": 4.5
         },
         {
          "Date new": "2012-12-12T00:00:00",
          "precipitation": 8.1,
          "temp_max": 6.7,
          "temp_min": 4.4,
          "weather": "rain",
          "wind": 2
         },
         {
          "Date new": "2012-12-13T00:00:00",
          "precipitation": 2.3,
          "temp_max": 7.2,
          "temp_min": 3.3,
          "weather": "rain",
          "wind": 2.8
         },
         {
          "Date new": "2012-12-14T00:00:00",
          "precipitation": 7.9,
          "temp_max": 6.1,
          "temp_min": 1.1,
          "weather": "rain",
          "wind": 1.7
         },
         {
          "Date new": "2012-12-15T00:00:00",
          "precipitation": 5.3,
          "temp_max": 4.4,
          "temp_min": 0.6,
          "weather": "snow",
          "wind": 5.1
         },
         {
          "Date new": "2012-12-16T00:00:00",
          "precipitation": 22.6,
          "temp_max": 6.7,
          "temp_min": 3.3,
          "weather": "snow",
          "wind": 5.5
         },
         {
          "Date new": "2012-12-17T00:00:00",
          "precipitation": 2,
          "temp_max": 8.3,
          "temp_min": 1.7,
          "weather": "rain",
          "wind": 9.5
         },
         {
          "Date new": "2012-12-18T00:00:00",
          "precipitation": 3.3,
          "temp_max": 3.9,
          "temp_min": 0.6,
          "weather": "snow",
          "wind": 5.3
         },
         {
          "Date new": "2012-12-19T00:00:00",
          "precipitation": 13.7,
          "temp_max": 8.3,
          "temp_min": 1.7,
          "weather": "snow",
          "wind": 5.8
         },
         {
          "Date new": "2012-12-20T00:00:00",
          "precipitation": 13.2,
          "temp_max": 7.2,
          "temp_min": 0.6,
          "weather": "rain",
          "wind": 3.7
         },
         {
          "Date new": "2012-12-21T00:00:00",
          "precipitation": 1.8,
          "temp_max": 8.3,
          "temp_min": -1.7,
          "weather": "rain",
          "wind": 1.7
         },
         {
          "Date new": "2012-12-22T00:00:00",
          "precipitation": 3.3,
          "temp_max": 8.3,
          "temp_min": 3.9,
          "weather": "rain",
          "wind": 3.5
         },
         {
          "Date new": "2012-12-23T00:00:00",
          "precipitation": 6.6,
          "temp_max": 7.2,
          "temp_min": 3.3,
          "weather": "rain",
          "wind": 2.5
         },
         {
          "Date new": "2012-12-24T00:00:00",
          "precipitation": 0.3,
          "temp_max": 5.6,
          "temp_min": 2.8,
          "weather": "rain",
          "wind": 2.8
         },
         {
          "Date new": "2012-12-25T00:00:00",
          "precipitation": 13.5,
          "temp_max": 5.6,
          "temp_min": 2.8,
          "weather": "snow",
          "wind": 4.2
         },
         {
          "Date new": "2012-12-26T00:00:00",
          "precipitation": 4.6,
          "temp_max": 6.7,
          "temp_min": 3.3,
          "weather": "rain",
          "wind": 4.9
         },
         {
          "Date new": "2012-12-27T00:00:00",
          "precipitation": 4.1,
          "temp_max": 7.8,
          "temp_min": 3.3,
          "weather": "rain",
          "wind": 3.2
         },
         {
          "Date new": "2012-12-28T00:00:00",
          "precipitation": 0,
          "temp_max": 8.3,
          "temp_min": 3.9,
          "weather": "rain",
          "wind": 1.7
         },
         {
          "Date new": "2012-12-29T00:00:00",
          "precipitation": 1.5,
          "temp_max": 5,
          "temp_min": 3.3,
          "weather": "rain",
          "wind": 1.7
         },
         {
          "Date new": "2012-12-30T00:00:00",
          "precipitation": 0,
          "temp_max": 4.4,
          "temp_min": 0,
          "weather": "drizzle",
          "wind": 1.8
         },
         {
          "Date new": "2012-12-31T00:00:00",
          "precipitation": 0,
          "temp_max": 3.3,
          "temp_min": -1.1,
          "weather": "drizzle",
          "wind": 2
         },
         {
          "Date new": "2013-01-01T00:00:00",
          "precipitation": 0,
          "temp_max": 5,
          "temp_min": -2.8,
          "weather": "sun",
          "wind": 2.7
         },
         {
          "Date new": "2013-01-02T00:00:00",
          "precipitation": 0,
          "temp_max": 6.1,
          "temp_min": -1.1,
          "weather": "sun",
          "wind": 3.2
         },
         {
          "Date new": "2013-01-03T00:00:00",
          "precipitation": 4.1,
          "temp_max": 6.7,
          "temp_min": -1.7,
          "weather": "rain",
          "wind": 3
         },
         {
          "Date new": "2013-01-04T00:00:00",
          "precipitation": 2.5,
          "temp_max": 10,
          "temp_min": 2.2,
          "weather": "rain",
          "wind": 2.8
         },
         {
          "Date new": "2013-01-05T00:00:00",
          "precipitation": 3,
          "temp_max": 6.7,
          "temp_min": 4.4,
          "weather": "rain",
          "wind": 3.1
         },
         {
          "Date new": "2013-01-06T00:00:00",
          "precipitation": 2,
          "temp_max": 7.2,
          "temp_min": 2.8,
          "weather": "rain",
          "wind": 3
         },
         {
          "Date new": "2013-01-07T00:00:00",
          "precipitation": 2.3,
          "temp_max": 10,
          "temp_min": 4.4,
          "weather": "rain",
          "wind": 7.3
         },
         {
          "Date new": "2013-01-08T00:00:00",
          "precipitation": 16.3,
          "temp_max": 11.7,
          "temp_min": 5.6,
          "weather": "rain",
          "wind": 6.3
         },
         {
          "Date new": "2013-01-09T00:00:00",
          "precipitation": 38.4,
          "temp_max": 10,
          "temp_min": 1.7,
          "weather": "rain",
          "wind": 5.1
         },
         {
          "Date new": "2013-01-10T00:00:00",
          "precipitation": 0.3,
          "temp_max": 3.3,
          "temp_min": -0.6,
          "weather": "snow",
          "wind": 2.1
         },
         {
          "Date new": "2013-01-11T00:00:00",
          "precipitation": 0,
          "temp_max": 2.8,
          "temp_min": -2.8,
          "weather": "drizzle",
          "wind": 1.9
         },
         {
          "Date new": "2013-01-12T00:00:00",
          "precipitation": 0,
          "temp_max": 2.8,
          "temp_min": -3.9,
          "weather": "sun",
          "wind": 2
         },
         {
          "Date new": "2013-01-13T00:00:00",
          "precipitation": 0,
          "temp_max": 2.2,
          "temp_min": -4.4,
          "weather": "sun",
          "wind": 1.5
         },
         {
          "Date new": "2013-01-14T00:00:00",
          "precipitation": 0,
          "temp_max": 3.3,
          "temp_min": -2.2,
          "weather": "sun",
          "wind": 1.3
         },
         {
          "Date new": "2013-01-15T00:00:00",
          "precipitation": 0,
          "temp_max": 6.7,
          "temp_min": -0.6,
          "weather": "sun",
          "wind": 2.3
         },
         {
          "Date new": "2013-01-16T00:00:00",
          "precipitation": 0,
          "temp_max": 6.1,
          "temp_min": -3.9,
          "weather": "drizzle",
          "wind": 1.8
         },
         {
          "Date new": "2013-01-17T00:00:00",
          "precipitation": 0,
          "temp_max": 3.9,
          "temp_min": -2.8,
          "weather": "drizzle",
          "wind": 1
         },
         {
          "Date new": "2013-01-18T00:00:00",
          "precipitation": 0,
          "temp_max": 3.3,
          "temp_min": -1.1,
          "weather": "drizzle",
          "wind": 1.3
         },
         {
          "Date new": "2013-01-19T00:00:00",
          "precipitation": 0,
          "temp_max": 1.1,
          "temp_min": -0.6,
          "weather": "drizzle",
          "wind": 1.9
         },
         {
          "Date new": "2013-01-20T00:00:00",
          "precipitation": 0,
          "temp_max": 3.3,
          "temp_min": -0.6,
          "weather": "drizzle",
          "wind": 2.1
         },
         {
          "Date new": "2013-01-21T00:00:00",
          "precipitation": 0,
          "temp_max": 2.2,
          "temp_min": -1.7,
          "weather": "drizzle",
          "wind": 1.1
         },
         {
          "Date new": "2013-01-22T00:00:00",
          "precipitation": 0,
          "temp_max": 3.3,
          "temp_min": -1.7,
          "weather": "drizzle",
          "wind": 0.6
         },
         {
          "Date new": "2013-01-23T00:00:00",
          "precipitation": 5.1,
          "temp_max": 7.2,
          "temp_min": 2.2,
          "weather": "rain",
          "wind": 3.1
         },
         {
          "Date new": "2013-01-24T00:00:00",
          "precipitation": 5.8,
          "temp_max": 7.2,
          "temp_min": 1.1,
          "weather": "rain",
          "wind": 2.6
         },
         {
          "Date new": "2013-01-25T00:00:00",
          "precipitation": 3,
          "temp_max": 10.6,
          "temp_min": 2.8,
          "weather": "rain",
          "wind": 2.1
         },
         {
          "Date new": "2013-01-26T00:00:00",
          "precipitation": 2.3,
          "temp_max": 8.3,
          "temp_min": 3.9,
          "weather": "rain",
          "wind": 4.5
         },
         {
          "Date new": "2013-01-27T00:00:00",
          "precipitation": 1.8,
          "temp_max": 5.6,
          "temp_min": 3.9,
          "weather": "rain",
          "wind": 4.5
         },
         {
          "Date new": "2013-01-28T00:00:00",
          "precipitation": 7.9,
          "temp_max": 6.1,
          "temp_min": 3.3,
          "weather": "rain",
          "wind": 3.2
         },
         {
          "Date new": "2013-01-29T00:00:00",
          "precipitation": 4.3,
          "temp_max": 8.3,
          "temp_min": 5,
          "weather": "rain",
          "wind": 3.9
         },
         {
          "Date new": "2013-01-30T00:00:00",
          "precipitation": 3.6,
          "temp_max": 8.9,
          "temp_min": 6.7,
          "weather": "rain",
          "wind": 3.9
         },
         {
          "Date new": "2013-01-31T00:00:00",
          "precipitation": 3,
          "temp_max": 9.4,
          "temp_min": 7.2,
          "weather": "rain",
          "wind": 4
         },
         {
          "Date new": "2013-02-01T00:00:00",
          "precipitation": 0.3,
          "temp_max": 11.7,
          "temp_min": 5,
          "weather": "rain",
          "wind": 2.9
         },
         {
          "Date new": "2013-02-02T00:00:00",
          "precipitation": 0,
          "temp_max": 6.1,
          "temp_min": 2.8,
          "weather": "drizzle",
          "wind": 2
         },
         {
          "Date new": "2013-02-03T00:00:00",
          "precipitation": 2.3,
          "temp_max": 8.9,
          "temp_min": 2.8,
          "weather": "rain",
          "wind": 2.9
         },
         {
          "Date new": "2013-02-04T00:00:00",
          "precipitation": 0,
          "temp_max": 10.6,
          "temp_min": 6.7,
          "weather": "rain",
          "wind": 2.6
         },
         {
          "Date new": "2013-02-05T00:00:00",
          "precipitation": 3.3,
          "temp_max": 10,
          "temp_min": 6.7,
          "weather": "rain",
          "wind": 5.1
         },
         {
          "Date new": "2013-02-06T00:00:00",
          "precipitation": 1,
          "temp_max": 10.6,
          "temp_min": 6.1,
          "weather": "rain",
          "wind": 4.5
         },
         {
          "Date new": "2013-02-07T00:00:00",
          "precipitation": 1.3,
          "temp_max": 9.4,
          "temp_min": 3.3,
          "weather": "rain",
          "wind": 4.1
         },
         {
          "Date new": "2013-02-08T00:00:00",
          "precipitation": 0,
          "temp_max": 7.8,
          "temp_min": 2.2,
          "weather": "sun",
          "wind": 1.3
         },
         {
          "Date new": "2013-02-09T00:00:00",
          "precipitation": 0.3,
          "temp_max": 8.3,
          "temp_min": 4.4,
          "weather": "rain",
          "wind": 1.3
         },
         {
          "Date new": "2013-02-10T00:00:00",
          "precipitation": 0,
          "temp_max": 8.9,
          "temp_min": 1.7,
          "weather": "drizzle",
          "wind": 2
         },
         {
          "Date new": "2013-02-11T00:00:00",
          "precipitation": 0.3,
          "temp_max": 8.3,
          "temp_min": 4.4,
          "weather": "rain",
          "wind": 1.4
         },
         {
          "Date new": "2013-02-12T00:00:00",
          "precipitation": 1,
          "temp_max": 11.1,
          "temp_min": 7.2,
          "weather": "rain",
          "wind": 5.6
         },
         {
          "Date new": "2013-02-13T00:00:00",
          "precipitation": 2.3,
          "temp_max": 9.4,
          "temp_min": 7.2,
          "weather": "rain",
          "wind": 4.1
         },
         {
          "Date new": "2013-02-14T00:00:00",
          "precipitation": 1,
          "temp_max": 9.4,
          "temp_min": 5.6,
          "weather": "rain",
          "wind": 2.2
         },
         {
          "Date new": "2013-02-15T00:00:00",
          "precipitation": 0,
          "temp_max": 13.3,
          "temp_min": 5,
          "weather": "drizzle",
          "wind": 2.4
         },
         {
          "Date new": "2013-02-16T00:00:00",
          "precipitation": 0,
          "temp_max": 11.1,
          "temp_min": 3.9,
          "weather": "rain",
          "wind": 5.6
         },
         {
          "Date new": "2013-02-17T00:00:00",
          "precipitation": 0,
          "temp_max": 9.4,
          "temp_min": 4.4,
          "weather": "rain",
          "wind": 3.4
         },
         {
          "Date new": "2013-02-18T00:00:00",
          "precipitation": 0,
          "temp_max": 7.8,
          "temp_min": 3.9,
          "weather": "rain",
          "wind": 1.9
         },
         {
          "Date new": "2013-02-19T00:00:00",
          "precipitation": 0,
          "temp_max": 10.6,
          "temp_min": 1.7,
          "weather": "sun",
          "wind": 3.4
         },
         {
          "Date new": "2013-02-20T00:00:00",
          "precipitation": 1.5,
          "temp_max": 7.8,
          "temp_min": 1.1,
          "weather": "rain",
          "wind": 2.1
         },
         {
          "Date new": "2013-02-21T00:00:00",
          "precipitation": 0.5,
          "temp_max": 6.7,
          "temp_min": 3.9,
          "weather": "rain",
          "wind": 6.2
         },
         {
          "Date new": "2013-02-22T00:00:00",
          "precipitation": 9.4,
          "temp_max": 7.8,
          "temp_min": 3.9,
          "weather": "rain",
          "wind": 8.1
         },
         {
          "Date new": "2013-02-23T00:00:00",
          "precipitation": 0.3,
          "temp_max": 10,
          "temp_min": 3.9,
          "weather": "rain",
          "wind": 4.6
         },
         {
          "Date new": "2013-02-24T00:00:00",
          "precipitation": 0,
          "temp_max": 8.9,
          "temp_min": 5,
          "weather": "rain",
          "wind": 5.5
         },
         {
          "Date new": "2013-02-25T00:00:00",
          "precipitation": 2.3,
          "temp_max": 10.6,
          "temp_min": 3.3,
          "weather": "rain",
          "wind": 7.1
         },
         {
          "Date new": "2013-02-26T00:00:00",
          "precipitation": 0.5,
          "temp_max": 8.9,
          "temp_min": 3.9,
          "weather": "rain",
          "wind": 3.8
         },
         {
          "Date new": "2013-02-27T00:00:00",
          "precipitation": 4.6,
          "temp_max": 10,
          "temp_min": 4.4,
          "weather": "rain",
          "wind": 1.8
         },
         {
          "Date new": "2013-02-28T00:00:00",
          "precipitation": 8.1,
          "temp_max": 11.7,
          "temp_min": 6.7,
          "weather": "rain",
          "wind": 3.8
         },
         {
          "Date new": "2013-03-01T00:00:00",
          "precipitation": 4.1,
          "temp_max": 15,
          "temp_min": 11.1,
          "weather": "rain",
          "wind": 5.4
         },
         {
          "Date new": "2013-03-02T00:00:00",
          "precipitation": 0.8,
          "temp_max": 13.9,
          "temp_min": 5,
          "weather": "rain",
          "wind": 4.5
         },
         {
          "Date new": "2013-03-03T00:00:00",
          "precipitation": 0,
          "temp_max": 11.1,
          "temp_min": 2.2,
          "weather": "sun",
          "wind": 2.8
         },
         {
          "Date new": "2013-03-04T00:00:00",
          "precipitation": 0,
          "temp_max": 13.3,
          "temp_min": 0,
          "weather": "sun",
          "wind": 3.9
         },
         {
          "Date new": "2013-03-05T00:00:00",
          "precipitation": 0,
          "temp_max": 9.4,
          "temp_min": 6.1,
          "weather": "rain",
          "wind": 2.4
         },
         {
          "Date new": "2013-03-06T00:00:00",
          "precipitation": 11.9,
          "temp_max": 7.2,
          "temp_min": 5,
          "weather": "rain",
          "wind": 4.1
         },
         {
          "Date new": "2013-03-07T00:00:00",
          "precipitation": 7.4,
          "temp_max": 12.2,
          "temp_min": 5,
          "weather": "rain",
          "wind": 2.5
         },
         {
          "Date new": "2013-03-08T00:00:00",
          "precipitation": 0,
          "temp_max": 11.7,
          "temp_min": 2.2,
          "weather": "drizzle",
          "wind": 2.6
         },
         {
          "Date new": "2013-03-09T00:00:00",
          "precipitation": 0,
          "temp_max": 12.8,
          "temp_min": 1.1,
          "weather": "fog",
          "wind": 1.3
         },
         {
          "Date new": "2013-03-10T00:00:00",
          "precipitation": 0.8,
          "temp_max": 7.8,
          "temp_min": 3.9,
          "weather": "rain",
          "wind": 1.6
         },
         {
          "Date new": "2013-03-11T00:00:00",
          "precipitation": 1.3,
          "temp_max": 10.6,
          "temp_min": 6.1,
          "weather": "rain",
          "wind": 1.1
         },
         {
          "Date new": "2013-03-12T00:00:00",
          "precipitation": 2,
          "temp_max": 12.8,
          "temp_min": 10,
          "weather": "rain",
          "wind": 5.7
         },
         {
          "Date new": "2013-03-13T00:00:00",
          "precipitation": 2.3,
          "temp_max": 11.7,
          "temp_min": 9.4,
          "weather": "rain",
          "wind": 3.7
         },
         {
          "Date new": "2013-03-14T00:00:00",
          "precipitation": 2.8,
          "temp_max": 11.7,
          "temp_min": 9.4,
          "weather": "rain",
          "wind": 3
         },
         {
          "Date new": "2013-03-15T00:00:00",
          "precipitation": 0,
          "temp_max": 14.4,
          "temp_min": 8.9,
          "weather": "rain",
          "wind": 4.3
         },
         {
          "Date new": "2013-03-16T00:00:00",
          "precipitation": 4.3,
          "temp_max": 10.6,
          "temp_min": 4.4,
          "weather": "rain",
          "wind": 6.4
         },
         {
          "Date new": "2013-03-17T00:00:00",
          "precipitation": 0,
          "temp_max": 8.9,
          "temp_min": 3.9,
          "weather": "sun",
          "wind": 6.1
         },
         {
          "Date new": "2013-03-18T00:00:00",
          "precipitation": 0,
          "temp_max": 11.7,
          "temp_min": 3.9,
          "weather": "rain",
          "wind": 5.9
         },
         {
          "Date new": "2013-03-19T00:00:00",
          "precipitation": 11.7,
          "temp_max": 12.8,
          "temp_min": 1.7,
          "weather": "rain",
          "wind": 3.4
         },
         {
          "Date new": "2013-03-20T00:00:00",
          "precipitation": 9.9,
          "temp_max": 11.1,
          "temp_min": 4.4,
          "weather": "rain",
          "wind": 7.6
         },
         {
          "Date new": "2013-03-21T00:00:00",
          "precipitation": 8.1,
          "temp_max": 10,
          "temp_min": 2.2,
          "weather": "snow",
          "wind": 4.9
         },
         {
          "Date new": "2013-03-22T00:00:00",
          "precipitation": 0,
          "temp_max": 9.4,
          "temp_min": 0.6,
          "weather": "sun",
          "wind": 2.2
         },
         {
          "Date new": "2013-03-23T00:00:00",
          "precipitation": 0,
          "temp_max": 10,
          "temp_min": 1.1,
          "weather": "sun",
          "wind": 2.6
         },
         {
          "Date new": "2013-03-24T00:00:00",
          "precipitation": 0,
          "temp_max": 12.2,
          "temp_min": 0.6,
          "weather": "sun",
          "wind": 2.1
         },
         {
          "Date new": "2013-03-25T00:00:00",
          "precipitation": 0,
          "temp_max": 16.7,
          "temp_min": 4.4,
          "weather": "sun",
          "wind": 2.8
         },
         {
          "Date new": "2013-03-26T00:00:00",
          "precipitation": 0,
          "temp_max": 16.7,
          "temp_min": 6.1,
          "weather": "sun",
          "wind": 1.7
         },
         {
          "Date new": "2013-03-27T00:00:00",
          "precipitation": 0.3,
          "temp_max": 13.3,
          "temp_min": 7.2,
          "weather": "rain",
          "wind": 1.6
         },
         {
          "Date new": "2013-03-28T00:00:00",
          "precipitation": 2,
          "temp_max": 16.1,
          "temp_min": 8.3,
          "weather": "rain",
          "wind": 1.3
         },
         {
          "Date new": "2013-03-29T00:00:00",
          "precipitation": 0,
          "temp_max": 18.3,
          "temp_min": 7.8,
          "weather": "rain",
          "wind": 2.5
         },
         {
          "Date new": "2013-03-30T00:00:00",
          "precipitation": 0,
          "temp_max": 20,
          "temp_min": 5.6,
          "weather": "drizzle",
          "wind": 4.4
         },
         {
          "Date new": "2013-03-31T00:00:00",
          "precipitation": 0,
          "temp_max": 20.6,
          "temp_min": 6.7,
          "weather": "sun",
          "wind": 2.9
         },
         {
          "Date new": "2013-04-01T00:00:00",
          "precipitation": 0,
          "temp_max": 17.2,
          "temp_min": 8.3,
          "weather": "sun",
          "wind": 3.6
         },
         {
          "Date new": "2013-04-02T00:00:00",
          "precipitation": 0,
          "temp_max": 13.9,
          "temp_min": 8.9,
          "weather": "sun",
          "wind": 2.2
         },
         {
          "Date new": "2013-04-03T00:00:00",
          "precipitation": 0,
          "temp_max": 16.7,
          "temp_min": 7.8,
          "weather": "sun",
          "wind": 1.6
         },
         {
          "Date new": "2013-04-04T00:00:00",
          "precipitation": 8.4,
          "temp_max": 14.4,
          "temp_min": 10,
          "weather": "fog",
          "wind": 3
         },
         {
          "Date new": "2013-04-05T00:00:00",
          "precipitation": 18.5,
          "temp_max": 13.9,
          "temp_min": 10,
          "weather": "fog",
          "wind": 5.6
         },
         {
          "Date new": "2013-04-06T00:00:00",
          "precipitation": 12.7,
          "temp_max": 12.2,
          "temp_min": 7.2,
          "weather": "fog",
          "wind": 5
         },
         {
          "Date new": "2013-04-07T00:00:00",
          "precipitation": 39.1,
          "temp_max": 8.3,
          "temp_min": 5,
          "weather": "fog",
          "wind": 3.9
         },
         {
          "Date new": "2013-04-08T00:00:00",
          "precipitation": 0.8,
          "temp_max": 13.3,
          "temp_min": 6.1,
          "weather": "fog",
          "wind": 3.1
         },
         {
          "Date new": "2013-04-09T00:00:00",
          "precipitation": 0,
          "temp_max": 12.2,
          "temp_min": 6.1,
          "weather": "sun",
          "wind": 2.4
         },
         {
          "Date new": "2013-04-10T00:00:00",
          "precipitation": 9.4,
          "temp_max": 15,
          "temp_min": 8.9,
          "weather": "sun",
          "wind": 6.4
         },
         {
          "Date new": "2013-04-11T00:00:00",
          "precipitation": 1.5,
          "temp_max": 12.2,
          "temp_min": 6.7,
          "weather": "fog",
          "wind": 3.8
         },
         {
          "Date new": "2013-04-12T00:00:00",
          "precipitation": 9.7,
          "temp_max": 7.8,
          "temp_min": 4.4,
          "weather": "fog",
          "wind": 4.6
         },
         {
          "Date new": "2013-04-13T00:00:00",
          "precipitation": 9.4,
          "temp_max": 10.6,
          "temp_min": 3.3,
          "weather": "fog",
          "wind": 5.7
         },
         {
          "Date new": "2013-04-14T00:00:00",
          "precipitation": 5.8,
          "temp_max": 12.8,
          "temp_min": 4.4,
          "weather": "fog",
          "wind": 2.3
         },
         {
          "Date new": "2013-04-15T00:00:00",
          "precipitation": 0,
          "temp_max": 13.9,
          "temp_min": 4.4,
          "weather": "fog",
          "wind": 2.4
         },
         {
          "Date new": "2013-04-16T00:00:00",
          "precipitation": 0.3,
          "temp_max": 13.9,
          "temp_min": 3.3,
          "weather": "sun",
          "wind": 2.6
         },
         {
          "Date new": "2013-04-17T00:00:00",
          "precipitation": 0,
          "temp_max": 15,
          "temp_min": 3.9,
          "weather": "drizzle",
          "wind": 3.3
         },
         {
          "Date new": "2013-04-18T00:00:00",
          "precipitation": 5.3,
          "temp_max": 11.7,
          "temp_min": 6.7,
          "weather": "fog",
          "wind": 4
         },
         {
          "Date new": "2013-04-19T00:00:00",
          "precipitation": 20.6,
          "temp_max": 13.3,
          "temp_min": 9.4,
          "weather": "fog",
          "wind": 4.9
         },
         {
          "Date new": "2013-04-20T00:00:00",
          "precipitation": 0,
          "temp_max": 13.9,
          "temp_min": 8.3,
          "weather": "sun",
          "wind": 5.8
         },
         {
          "Date new": "2013-04-21T00:00:00",
          "precipitation": 3.3,
          "temp_max": 12.2,
          "temp_min": 6.7,
          "weather": "sun",
          "wind": 4.1
         },
         {
          "Date new": "2013-04-22T00:00:00",
          "precipitation": 0,
          "temp_max": 16.1,
          "temp_min": 5,
          "weather": "sun",
          "wind": 4.3
         },
         {
          "Date new": "2013-04-23T00:00:00",
          "precipitation": 0,
          "temp_max": 17.8,
          "temp_min": 3.9,
          "weather": "sun",
          "wind": 2.8
         },
         {
          "Date new": "2013-04-24T00:00:00",
          "precipitation": 0,
          "temp_max": 21.1,
          "temp_min": 6.1,
          "weather": "sun",
          "wind": 3
         },
         {
          "Date new": "2013-04-25T00:00:00",
          "precipitation": 0,
          "temp_max": 21.7,
          "temp_min": 6.7,
          "weather": "sun",
          "wind": 1.1
         },
         {
          "Date new": "2013-04-26T00:00:00",
          "precipitation": 0,
          "temp_max": 20.6,
          "temp_min": 8.3,
          "weather": "fog",
          "wind": 2.2
         },
         {
          "Date new": "2013-04-27T00:00:00",
          "precipitation": 0,
          "temp_max": 13.9,
          "temp_min": 10.6,
          "weather": "sun",
          "wind": 5.9
         },
         {
          "Date new": "2013-04-28T00:00:00",
          "precipitation": 1,
          "temp_max": 15,
          "temp_min": 9.4,
          "weather": "drizzle",
          "wind": 5.2
         },
         {
          "Date new": "2013-04-29T00:00:00",
          "precipitation": 3.8,
          "temp_max": 13.9,
          "temp_min": 6.7,
          "weather": "fog",
          "wind": 4.2
         },
         {
          "Date new": "2013-04-30T00:00:00",
          "precipitation": 0,
          "temp_max": 12.8,
          "temp_min": 4.4,
          "weather": "sun",
          "wind": 2.4
         },
         {
          "Date new": "2013-05-01T00:00:00",
          "precipitation": 0,
          "temp_max": 18.3,
          "temp_min": 3.3,
          "weather": "sun",
          "wind": 3.1
         },
         {
          "Date new": "2013-05-02T00:00:00",
          "precipitation": 0,
          "temp_max": 20.6,
          "temp_min": 6.7,
          "weather": "sun",
          "wind": 4
         },
         {
          "Date new": "2013-05-03T00:00:00",
          "precipitation": 0,
          "temp_max": 21.7,
          "temp_min": 9.4,
          "weather": "sun",
          "wind": 4.9
         },
         {
          "Date new": "2013-05-04T00:00:00",
          "precipitation": 0,
          "temp_max": 25,
          "temp_min": 11.1,
          "weather": "sun",
          "wind": 6.5
         },
         {
          "Date new": "2013-05-05T00:00:00",
          "precipitation": 0,
          "temp_max": 28.9,
          "temp_min": 11.7,
          "weather": "sun",
          "wind": 5.3
         },
         {
          "Date new": "2013-05-06T00:00:00",
          "precipitation": 0,
          "temp_max": 30.6,
          "temp_min": 12.2,
          "weather": "sun",
          "wind": 2
         },
         {
          "Date new": "2013-05-07T00:00:00",
          "precipitation": 0,
          "temp_max": 20.6,
          "temp_min": 11.1,
          "weather": "sun",
          "wind": 3.3
         },
         {
          "Date new": "2013-05-08T00:00:00",
          "precipitation": 0,
          "temp_max": 19.4,
          "temp_min": 11.1,
          "weather": "sun",
          "wind": 1.9
         },
         {
          "Date new": "2013-05-09T00:00:00",
          "precipitation": 0,
          "temp_max": 22.8,
          "temp_min": 10,
          "weather": "sun",
          "wind": 1.3
         },
         {
          "Date new": "2013-05-10T00:00:00",
          "precipitation": 0,
          "temp_max": 26.1,
          "temp_min": 9.4,
          "weather": "sun",
          "wind": 1
         },
         {
          "Date new": "2013-05-11T00:00:00",
          "precipitation": 0,
          "temp_max": 27.2,
          "temp_min": 12.2,
          "weather": "sun",
          "wind": 2.6
         },
         {
          "Date new": "2013-05-12T00:00:00",
          "precipitation": 6.6,
          "temp_max": 21.7,
          "temp_min": 13.9,
          "weather": "fog",
          "wind": 3.9
         },
         {
          "Date new": "2013-05-13T00:00:00",
          "precipitation": 3.3,
          "temp_max": 18.9,
          "temp_min": 9.4,
          "weather": "sun",
          "wind": 5
         },
         {
          "Date new": "2013-05-14T00:00:00",
          "precipitation": 0,
          "temp_max": 18.3,
          "temp_min": 7.8,
          "weather": "sun",
          "wind": 2.4
         },
         {
          "Date new": "2013-05-15T00:00:00",
          "precipitation": 1,
          "temp_max": 17.2,
          "temp_min": 8.9,
          "weather": "fog",
          "wind": 2.3
         },
         {
          "Date new": "2013-05-16T00:00:00",
          "precipitation": 0,
          "temp_max": 21.7,
          "temp_min": 12.2,
          "weather": "fog",
          "wind": 2.7
         },
         {
          "Date new": "2013-05-17T00:00:00",
          "precipitation": 0.5,
          "temp_max": 17.2,
          "temp_min": 11.7,
          "weather": "sun",
          "wind": 3.7
         },
         {
          "Date new": "2013-05-18T00:00:00",
          "precipitation": 0,
          "temp_max": 16.7,
          "temp_min": 11.1,
          "weather": "sun",
          "wind": 2.9
         },
         {
          "Date new": "2013-05-19T00:00:00",
          "precipitation": 0,
          "temp_max": 18.3,
          "temp_min": 10.6,
          "weather": "sun",
          "wind": 2.3
         },
         {
          "Date new": "2013-05-20T00:00:00",
          "precipitation": 0,
          "temp_max": 19.4,
          "temp_min": 9.4,
          "weather": "sun",
          "wind": 1.8
         },
         {
          "Date new": "2013-05-21T00:00:00",
          "precipitation": 13.7,
          "temp_max": 15.6,
          "temp_min": 8.3,
          "weather": "fog",
          "wind": 4.8
         },
         {
          "Date new": "2013-05-22T00:00:00",
          "precipitation": 13.7,
          "temp_max": 11.1,
          "temp_min": 7.2,
          "weather": "fog",
          "wind": 3
         },
         {
          "Date new": "2013-05-23T00:00:00",
          "precipitation": 4.1,
          "temp_max": 12.2,
          "temp_min": 6.7,
          "weather": "fog",
          "wind": 1.9
         },
         {
          "Date new": "2013-05-24T00:00:00",
          "precipitation": 0.3,
          "temp_max": 16.7,
          "temp_min": 8.9,
          "weather": "sun",
          "wind": 2.7
         },
         {
          "Date new": "2013-05-25T00:00:00",
          "precipitation": 0,
          "temp_max": 17.8,
          "temp_min": 10,
          "weather": "sun",
          "wind": 2.7
         },
         {
          "Date new": "2013-05-26T00:00:00",
          "precipitation": 1.5,
          "temp_max": 18.3,
          "temp_min": 10.6,
          "weather": "fog",
          "wind": 2.2
         },
         {
          "Date new": "2013-05-27T00:00:00",
          "precipitation": 9.7,
          "temp_max": 16.7,
          "temp_min": 11.1,
          "weather": "fog",
          "wind": 3.1
         },
         {
          "Date new": "2013-05-28T00:00:00",
          "precipitation": 0.5,
          "temp_max": 17.2,
          "temp_min": 11.7,
          "weather": "fog",
          "wind": 2.8
         },
         {
          "Date new": "2013-05-29T00:00:00",
          "precipitation": 5.6,
          "temp_max": 16.1,
          "temp_min": 9.4,
          "weather": "fog",
          "wind": 4
         },
         {
          "Date new": "2013-05-30T00:00:00",
          "precipitation": 0,
          "temp_max": 16.7,
          "temp_min": 9.4,
          "weather": "sun",
          "wind": 5.3
         },
         {
          "Date new": "2013-05-31T00:00:00",
          "precipitation": 0,
          "temp_max": 19.4,
          "temp_min": 11.1,
          "weather": "sun",
          "wind": 2.5
         },
         {
          "Date new": "2013-06-01T00:00:00",
          "precipitation": 0,
          "temp_max": 22.8,
          "temp_min": 12.2,
          "weather": "sun",
          "wind": 2.5
         },
         {
          "Date new": "2013-06-02T00:00:00",
          "precipitation": 1,
          "temp_max": 20.6,
          "temp_min": 12.2,
          "weather": "sun",
          "wind": 3.1
         },
         {
          "Date new": "2013-06-03T00:00:00",
          "precipitation": 0,
          "temp_max": 22.2,
          "temp_min": 11.1,
          "weather": "sun",
          "wind": 2.9
         },
         {
          "Date new": "2013-06-04T00:00:00",
          "precipitation": 0,
          "temp_max": 26.1,
          "temp_min": 12.2,
          "weather": "sun",
          "wind": 3.4
         },
         {
          "Date new": "2013-06-05T00:00:00",
          "precipitation": 0,
          "temp_max": 26.7,
          "temp_min": 14.4,
          "weather": "sun",
          "wind": 3.1
         },
         {
          "Date new": "2013-06-06T00:00:00",
          "precipitation": 0,
          "temp_max": 26.7,
          "temp_min": 12.2,
          "weather": "sun",
          "wind": 2.5
         },
         {
          "Date new": "2013-06-07T00:00:00",
          "precipitation": 0,
          "temp_max": 21.7,
          "temp_min": 13.3,
          "weather": "sun",
          "wind": 3.2
         },
         {
          "Date new": "2013-06-08T00:00:00",
          "precipitation": 0,
          "temp_max": 20.6,
          "temp_min": 12.8,
          "weather": "sun",
          "wind": 3.1
         },
         {
          "Date new": "2013-06-09T00:00:00",
          "precipitation": 0,
          "temp_max": 20.6,
          "temp_min": 11.1,
          "weather": "sun",
          "wind": 3.7
         },
         {
          "Date new": "2013-06-10T00:00:00",
          "precipitation": 0,
          "temp_max": 21.7,
          "temp_min": 11.7,
          "weather": "sun",
          "wind": 3.2
         },
         {
          "Date new": "2013-06-11T00:00:00",
          "precipitation": 0,
          "temp_max": 20,
          "temp_min": 10,
          "weather": "sun",
          "wind": 5.7
         },
         {
          "Date new": "2013-06-12T00:00:00",
          "precipitation": 0.3,
          "temp_max": 20.6,
          "temp_min": 11.7,
          "weather": "sun",
          "wind": 4.2
         },
         {
          "Date new": "2013-06-13T00:00:00",
          "precipitation": 0,
          "temp_max": 21.1,
          "temp_min": 11.7,
          "weather": "sun",
          "wind": 2.6
         },
         {
          "Date new": "2013-06-14T00:00:00",
          "precipitation": 0,
          "temp_max": 20,
          "temp_min": 12.2,
          "weather": "sun",
          "wind": 3.7
         },
         {
          "Date new": "2013-06-15T00:00:00",
          "precipitation": 0,
          "temp_max": 25.6,
          "temp_min": 10,
          "weather": "sun",
          "wind": 2.9
         },
         {
          "Date new": "2013-06-16T00:00:00",
          "precipitation": 0,
          "temp_max": 23.9,
          "temp_min": 12.8,
          "weather": "sun",
          "wind": 3.4
         },
         {
          "Date new": "2013-06-17T00:00:00",
          "precipitation": 0,
          "temp_max": 25.6,
          "temp_min": 13.9,
          "weather": "sun",
          "wind": 3
         },
         {
          "Date new": "2013-06-18T00:00:00",
          "precipitation": 0.3,
          "temp_max": 23.3,
          "temp_min": 13.3,
          "weather": "fog",
          "wind": 3.4
         },
         {
          "Date new": "2013-06-19T00:00:00",
          "precipitation": 0,
          "temp_max": 20,
          "temp_min": 12.8,
          "weather": "sun",
          "wind": 3.7
         },
         {
          "Date new": "2013-06-20T00:00:00",
          "precipitation": 3,
          "temp_max": 17.2,
          "temp_min": 12.8,
          "weather": "sun",
          "wind": 5
         },
         {
          "Date new": "2013-06-21T00:00:00",
          "precipitation": 0.3,
          "temp_max": 20.6,
          "temp_min": 12.2,
          "weather": "sun",
          "wind": 1.5
         },
         {
          "Date new": "2013-06-22T00:00:00",
          "precipitation": 0,
          "temp_max": 25.6,
          "temp_min": 11.7,
          "weather": "sun",
          "wind": 1.7
         },
         {
          "Date new": "2013-06-23T00:00:00",
          "precipitation": 7.9,
          "temp_max": 22.2,
          "temp_min": 15,
          "weather": "fog",
          "wind": 2.1
         },
         {
          "Date new": "2013-06-24T00:00:00",
          "precipitation": 4.8,
          "temp_max": 21.1,
          "temp_min": 13.9,
          "weather": "fog",
          "wind": 3.7
         },
         {
          "Date new": "2013-06-25T00:00:00",
          "precipitation": 9.9,
          "temp_max": 23.3,
          "temp_min": 14.4,
          "weather": "sun",
          "wind": 2.8
         },
         {
          "Date new": "2013-06-26T00:00:00",
          "precipitation": 2,
          "temp_max": 22.2,
          "temp_min": 15,
          "weather": "fog",
          "wind": 2.3
         },
         {
          "Date new": "2013-06-27T00:00:00",
          "precipitation": 3.6,
          "temp_max": 21.1,
          "temp_min": 16.7,
          "weather": "fog",
          "wind": 1.3
         },
         {
          "Date new": "2013-06-28T00:00:00",
          "precipitation": 0,
          "temp_max": 30.6,
          "temp_min": 16.1,
          "weather": "sun",
          "wind": 2.2
         },
         {
          "Date new": "2013-06-29T00:00:00",
          "precipitation": 0,
          "temp_max": 30,
          "temp_min": 18.3,
          "weather": "sun",
          "wind": 1.7
         },
         {
          "Date new": "2013-06-30T00:00:00",
          "precipitation": 0,
          "temp_max": 33.9,
          "temp_min": 17.2,
          "weather": "sun",
          "wind": 2.5
         },
         {
          "Date new": "2013-07-01T00:00:00",
          "precipitation": 0,
          "temp_max": 31.7,
          "temp_min": 18.3,
          "weather": "sun",
          "wind": 2.3
         },
         {
          "Date new": "2013-07-02T00:00:00",
          "precipitation": 0,
          "temp_max": 28.3,
          "temp_min": 15.6,
          "weather": "sun",
          "wind": 3
         },
         {
          "Date new": "2013-07-03T00:00:00",
          "precipitation": 0,
          "temp_max": 26.1,
          "temp_min": 16.7,
          "weather": "sun",
          "wind": 3.2
         },
         {
          "Date new": "2013-07-04T00:00:00",
          "precipitation": 0,
          "temp_max": 21.7,
          "temp_min": 13.9,
          "weather": "fog",
          "wind": 2.2
         },
         {
          "Date new": "2013-07-05T00:00:00",
          "precipitation": 0,
          "temp_max": 23.3,
          "temp_min": 13.9,
          "weather": "sun",
          "wind": 2.6
         },
         {
          "Date new": "2013-07-06T00:00:00",
          "precipitation": 0,
          "temp_max": 26.1,
          "temp_min": 13.3,
          "weather": "sun",
          "wind": 2.2
         },
         {
          "Date new": "2013-07-07T00:00:00",
          "precipitation": 0,
          "temp_max": 23.9,
          "temp_min": 13.9,
          "weather": "sun",
          "wind": 2.9
         },
         {
          "Date new": "2013-07-08T00:00:00",
          "precipitation": 0,
          "temp_max": 26.7,
          "temp_min": 13.3,
          "weather": "sun",
          "wind": 2.8
         },
         {
          "Date new": "2013-07-09T00:00:00",
          "precipitation": 0,
          "temp_max": 30,
          "temp_min": 15,
          "weather": "sun",
          "wind": 2.5
         },
         {
          "Date new": "2013-07-10T00:00:00",
          "precipitation": 0,
          "temp_max": 22.2,
          "temp_min": 13.9,
          "weather": "sun",
          "wind": 2.6
         },
         {
          "Date new": "2013-07-11T00:00:00",
          "precipitation": 0,
          "temp_max": 22.8,
          "temp_min": 12.2,
          "weather": "sun",
          "wind": 3
         },
         {
          "Date new": "2013-07-12T00:00:00",
          "precipitation": 0,
          "temp_max": 19.4,
          "temp_min": 13.3,
          "weather": "sun",
          "wind": 2.2
         },
         {
          "Date new": "2013-07-13T00:00:00",
          "precipitation": 0,
          "temp_max": 26.1,
          "temp_min": 11.1,
          "weather": "sun",
          "wind": 3.1
         },
         {
          "Date new": "2013-07-14T00:00:00",
          "precipitation": 0,
          "temp_max": 27.8,
          "temp_min": 12.8,
          "weather": "sun",
          "wind": 3
         },
         {
          "Date new": "2013-07-15T00:00:00",
          "precipitation": 0,
          "temp_max": 27.8,
          "temp_min": 14.4,
          "weather": "sun",
          "wind": 4.6
         },
         {
          "Date new": "2013-07-16T00:00:00",
          "precipitation": 0,
          "temp_max": 31.1,
          "temp_min": 18.3,
          "weather": "sun",
          "wind": 4.1
         },
         {
          "Date new": "2013-07-17T00:00:00",
          "precipitation": 0,
          "temp_max": 22.2,
          "temp_min": 15,
          "weather": "rain",
          "wind": 3.7
         },
         {
          "Date new": "2013-07-18T00:00:00",
          "precipitation": 0,
          "temp_max": 26.1,
          "temp_min": 13.9,
          "weather": "sun",
          "wind": 2
         },
         {
          "Date new": "2013-07-19T00:00:00",
          "precipitation": 0,
          "temp_max": 27.8,
          "temp_min": 13.3,
          "weather": "sun",
          "wind": 1.9
         },
         {
          "Date new": "2013-07-20T00:00:00",
          "precipitation": 0,
          "temp_max": 25,
          "temp_min": 13.3,
          "weather": "sun",
          "wind": 2
         },
         {
          "Date new": "2013-07-21T00:00:00",
          "precipitation": 0,
          "temp_max": 23.9,
          "temp_min": 12.8,
          "weather": "sun",
          "wind": 2.3
         },
         {
          "Date new": "2013-07-22T00:00:00",
          "precipitation": 0,
          "temp_max": 26.1,
          "temp_min": 13.3,
          "weather": "fog",
          "wind": 2.4
         },
         {
          "Date new": "2013-07-23T00:00:00",
          "precipitation": 0,
          "temp_max": 31.1,
          "temp_min": 13.9,
          "weather": "sun",
          "wind": 3
         },
         {
          "Date new": "2013-07-24T00:00:00",
          "precipitation": 0,
          "temp_max": 31.1,
          "temp_min": 14.4,
          "weather": "sun",
          "wind": 2.5
         },
         {
          "Date new": "2013-07-25T00:00:00",
          "precipitation": 0,
          "temp_max": 31.1,
          "temp_min": 12.8,
          "weather": "sun",
          "wind": 2.3
         },
         {
          "Date new": "2013-07-26T00:00:00",
          "precipitation": 0,
          "temp_max": 31.1,
          "temp_min": 14.4,
          "weather": "sun",
          "wind": 2.9
         },
         {
          "Date new": "2013-07-27T00:00:00",
          "precipitation": 0,
          "temp_max": 25.6,
          "temp_min": 12.8,
          "weather": "sun",
          "wind": 2.6
         },
         {
          "Date new": "2013-07-28T00:00:00",
          "precipitation": 0,
          "temp_max": 21.1,
          "temp_min": 12.2,
          "weather": "fog",
          "wind": 3.4
         },
         {
          "Date new": "2013-07-29T00:00:00",
          "precipitation": 0,
          "temp_max": 25,
          "temp_min": 13.3,
          "weather": "sun",
          "wind": 1.4
         },
         {
          "Date new": "2013-07-30T00:00:00",
          "precipitation": 0,
          "temp_max": 25,
          "temp_min": 13.3,
          "weather": "sun",
          "wind": 2.8
         },
         {
          "Date new": "2013-07-31T00:00:00",
          "precipitation": 0,
          "temp_max": 21.7,
          "temp_min": 13.3,
          "weather": "sun",
          "wind": 1.8
         },
         {
          "Date new": "2013-08-01T00:00:00",
          "precipitation": 0,
          "temp_max": 20.6,
          "temp_min": 13.3,
          "weather": "sun",
          "wind": 3.9
         },
         {
          "Date new": "2013-08-02T00:00:00",
          "precipitation": 2,
          "temp_max": 17.2,
          "temp_min": 15,
          "weather": "sun",
          "wind": 2
         },
         {
          "Date new": "2013-08-03T00:00:00",
          "precipitation": 0,
          "temp_max": 25,
          "temp_min": 15.6,
          "weather": "fog",
          "wind": 2.4
         },
         {
          "Date new": "2013-08-04T00:00:00",
          "precipitation": 0,
          "temp_max": 28.9,
          "temp_min": 15,
          "weather": "sun",
          "wind": 3.4
         },
         {
          "Date new": "2013-08-05T00:00:00",
          "precipitation": 0,
          "temp_max": 30,
          "temp_min": 15,
          "weather": "sun",
          "wind": 2.1
         },
         {
          "Date new": "2013-08-06T00:00:00",
          "precipitation": 0,
          "temp_max": 30.6,
          "temp_min": 13.9,
          "weather": "sun",
          "wind": 1.4
         },
         {
          "Date new": "2013-08-07T00:00:00",
          "precipitation": 0,
          "temp_max": 31.1,
          "temp_min": 13.9,
          "weather": "sun",
          "wind": 1.9
         },
         {
          "Date new": "2013-08-08T00:00:00",
          "precipitation": 0,
          "temp_max": 28.3,
          "temp_min": 14.4,
          "weather": "sun",
          "wind": 2.5
         },
         {
          "Date new": "2013-08-09T00:00:00",
          "precipitation": 0,
          "temp_max": 28.3,
          "temp_min": 14.4,
          "weather": "rain",
          "wind": 2.1
         },
         {
          "Date new": "2013-08-10T00:00:00",
          "precipitation": 2.3,
          "temp_max": 25.6,
          "temp_min": 15,
          "weather": "sun",
          "wind": 2.9
         },
         {
          "Date new": "2013-08-11T00:00:00",
          "precipitation": 0,
          "temp_max": 25,
          "temp_min": 14.4,
          "weather": "sun",
          "wind": 2.9
         },
         {
          "Date new": "2013-08-12T00:00:00",
          "precipitation": 0,
          "temp_max": 25.6,
          "temp_min": 16.1,
          "weather": "sun",
          "wind": 1.9
         },
         {
          "Date new": "2013-08-13T00:00:00",
          "precipitation": 0,
          "temp_max": 27.8,
          "temp_min": 15,
          "weather": "sun",
          "wind": 1.8
         },
         {
          "Date new": "2013-08-14T00:00:00",
          "precipitation": 0.8,
          "temp_max": 27.2,
          "temp_min": 15,
          "weather": "sun",
          "wind": 2
         },
         {
          "Date new": "2013-08-15T00:00:00",
          "precipitation": 1.8,
          "temp_max": 21.1,
          "temp_min": 17.2,
          "weather": "sun",
          "wind": 1
         },
         {
          "Date new": "2013-08-16T00:00:00",
          "precipitation": 0,
          "temp_max": 28.9,
          "temp_min": 16.1,
          "weather": "fog",
          "wind": 2.2
         },
         {
          "Date new": "2013-08-17T00:00:00",
          "precipitation": 0,
          "temp_max": 25.6,
          "temp_min": 17.2,
          "weather": "sun",
          "wind": 3
         },
         {
          "Date new": "2013-08-18T00:00:00",
          "precipitation": 0,
          "temp_max": 26.1,
          "temp_min": 15.6,
          "weather": "sun",
          "wind": 3.1
         },
         {
          "Date new": "2013-08-19T00:00:00",
          "precipitation": 0,
          "temp_max": 26.7,
          "temp_min": 15.6,
          "weather": "sun",
          "wind": 3
         },
         {
          "Date new": "2013-08-20T00:00:00",
          "precipitation": 0,
          "temp_max": 25.6,
          "temp_min": 16.1,
          "weather": "sun",
          "wind": 4.6
         },
         {
          "Date new": "2013-08-21T00:00:00",
          "precipitation": 0,
          "temp_max": 27.8,
          "temp_min": 15,
          "weather": "sun",
          "wind": 4.3
         },
         {
          "Date new": "2013-08-22T00:00:00",
          "precipitation": 0,
          "temp_max": 28.9,
          "temp_min": 15,
          "weather": "sun",
          "wind": 1.9
         },
         {
          "Date new": "2013-08-23T00:00:00",
          "precipitation": 0,
          "temp_max": 25,
          "temp_min": 16.1,
          "weather": "sun",
          "wind": 4.1
         },
         {
          "Date new": "2013-08-24T00:00:00",
          "precipitation": 0,
          "temp_max": 25,
          "temp_min": 16.7,
          "weather": "sun",
          "wind": 2.7
         },
         {
          "Date new": "2013-08-25T00:00:00",
          "precipitation": 0.3,
          "temp_max": 22.2,
          "temp_min": 16.1,
          "weather": "sun",
          "wind": 2.6
         },
         {
          "Date new": "2013-08-26T00:00:00",
          "precipitation": 1,
          "temp_max": 24.4,
          "temp_min": 16.1,
          "weather": "sun",
          "wind": 1.9
         },
         {
          "Date new": "2013-08-27T00:00:00",
          "precipitation": 1.3,
          "temp_max": 26.7,
          "temp_min": 17.2,
          "weather": "sun",
          "wind": 1.4
         },
         {
          "Date new": "2013-08-28T00:00:00",
          "precipitation": 5.6,
          "temp_max": 26.7,
          "temp_min": 15.6,
          "weather": "fog",
          "wind": 1.3
         },
         {
          "Date new": "2013-08-29T00:00:00",
          "precipitation": 19.3,
          "temp_max": 23.9,
          "temp_min": 18.3,
          "weather": "sun",
          "wind": 3
         },
         {
          "Date new": "2013-08-30T00:00:00",
          "precipitation": 0,
          "temp_max": 26.1,
          "temp_min": 16.1,
          "weather": "sun",
          "wind": 2.9
         },
         {
          "Date new": "2013-08-31T00:00:00",
          "precipitation": 0,
          "temp_max": 27.8,
          "temp_min": 13.9,
          "weather": "sun",
          "wind": 2.6
         },
         {
          "Date new": "2013-09-01T00:00:00",
          "precipitation": 0,
          "temp_max": 27.8,
          "temp_min": 15.6,
          "weather": "sun",
          "wind": 2.5
         },
         {
          "Date new": "2013-09-02T00:00:00",
          "precipitation": 0,
          "temp_max": 27.8,
          "temp_min": 17.2,
          "weather": "sun",
          "wind": 2.1
         },
         {
          "Date new": "2013-09-03T00:00:00",
          "precipitation": 2.3,
          "temp_max": 25,
          "temp_min": 16.7,
          "weather": "fog",
          "wind": 1.7
         },
         {
          "Date new": "2013-09-04T00:00:00",
          "precipitation": 0.3,
          "temp_max": 22.8,
          "temp_min": 16.1,
          "weather": "fog",
          "wind": 2.4
         },
         {
          "Date new": "2013-09-05T00:00:00",
          "precipitation": 27.7,
          "temp_max": 20,
          "temp_min": 15.6,
          "weather": "sun",
          "wind": 2.5
         },
         {
          "Date new": "2013-09-06T00:00:00",
          "precipitation": 21.3,
          "temp_max": 21.7,
          "temp_min": 16.1,
          "weather": "fog",
          "wind": 2.6
         },
         {
          "Date new": "2013-09-07T00:00:00",
          "precipitation": 0,
          "temp_max": 23.3,
          "temp_min": 17.2,
          "weather": "sun",
          "wind": 2
         },
         {
          "Date new": "2013-09-08T00:00:00",
          "precipitation": 0,
          "temp_max": 26.7,
          "temp_min": 14.4,
          "weather": "fog",
          "wind": 1.5
         },
         {
          "Date new": "2013-09-09T00:00:00",
          "precipitation": 0,
          "temp_max": 26.1,
          "temp_min": 13.9,
          "weather": "sun",
          "wind": 2.1
         },
         {
          "Date new": "2013-09-10T00:00:00",
          "precipitation": 0,
          "temp_max": 26.7,
          "temp_min": 15,
          "weather": "sun",
          "wind": 3.7
         },
         {
          "Date new": "2013-09-11T00:00:00",
          "precipitation": 0,
          "temp_max": 33.9,
          "temp_min": 16.1,
          "weather": "sun",
          "wind": 2.4
         },
         {
          "Date new": "2013-09-12T00:00:00",
          "precipitation": 0,
          "temp_max": 25.6,
          "temp_min": 15,
          "weather": "sun",
          "wind": 1.7
         },
         {
          "Date new": "2013-09-13T00:00:00",
          "precipitation": 0,
          "temp_max": 18.9,
          "temp_min": 15.6,
          "weather": "sun",
          "wind": 2
         },
         {
          "Date new": "2013-09-14T00:00:00",
          "precipitation": 0,
          "temp_max": 21.7,
          "temp_min": 15.6,
          "weather": "fog",
          "wind": 1.4
         },
         {
          "Date new": "2013-09-15T00:00:00",
          "precipitation": 3.3,
          "temp_max": 18.9,
          "temp_min": 14.4,
          "weather": "sun",
          "wind": 2.2
         },
         {
          "Date new": "2013-09-16T00:00:00",
          "precipitation": 0.3,
          "temp_max": 21.7,
          "temp_min": 15,
          "weather": "fog",
          "wind": 4.3
         },
         {
          "Date new": "2013-09-17T00:00:00",
          "precipitation": 0,
          "temp_max": 17.8,
          "temp_min": 13.9,
          "weather": "sun",
          "wind": 2.3
         },
         {
          "Date new": "2013-09-18T00:00:00",
          "precipitation": 0,
          "temp_max": 21.1,
          "temp_min": 13.3,
          "weather": "sun",
          "wind": 2.5
         },
         {
          "Date new": "2013-09-19T00:00:00",
          "precipitation": 0,
          "temp_max": 25.6,
          "temp_min": 10,
          "weather": "sun",
          "wind": 1.5
         },
         {
          "Date new": "2013-09-20T00:00:00",
          "precipitation": 3.6,
          "temp_max": 23.3,
          "temp_min": 13.3,
          "weather": "fog",
          "wind": 3
         },
         {
          "Date new": "2013-09-21T00:00:00",
          "precipitation": 0,
          "temp_max": 21.1,
          "temp_min": 13.3,
          "weather": "sun",
          "wind": 2.5
         },
         {
          "Date new": "2013-09-22T00:00:00",
          "precipitation": 13.5,
          "temp_max": 17.2,
          "temp_min": 13.3,
          "weather": "fog",
          "wind": 5.5
         },
         {
          "Date new": "2013-09-23T00:00:00",
          "precipitation": 2.8,
          "temp_max": 16.1,
          "temp_min": 11.1,
          "weather": "fog",
          "wind": 4.5
         },
         {
          "Date new": "2013-09-24T00:00:00",
          "precipitation": 0,
          "temp_max": 17.8,
          "temp_min": 10,
          "weather": "sun",
          "wind": 2.6
         },
         {
          "Date new": "2013-09-25T00:00:00",
          "precipitation": 2,
          "temp_max": 16.1,
          "temp_min": 9.4,
          "weather": "fog",
          "wind": 3
         },
         {
          "Date new": "2013-09-26T00:00:00",
          "precipitation": 0,
          "temp_max": 17.2,
          "temp_min": 7.2,
          "weather": "sun",
          "wind": 2.2
         },
         {
          "Date new": "2013-09-27T00:00:00",
          "precipitation": 1,
          "temp_max": 13.9,
          "temp_min": 10.6,
          "weather": "fog",
          "wind": 4.3
         },
         {
          "Date new": "2013-09-28T00:00:00",
          "precipitation": 43.4,
          "temp_max": 16.7,
          "temp_min": 11.7,
          "weather": "fog",
          "wind": 6
         },
         {
          "Date new": "2013-09-29T00:00:00",
          "precipitation": 16.8,
          "temp_max": 14.4,
          "temp_min": 11.1,
          "weather": "sun",
          "wind": 7.1
         },
         {
          "Date new": "2013-09-30T00:00:00",
          "precipitation": 18.5,
          "temp_max": 13.9,
          "temp_min": 10,
          "weather": "fog",
          "wind": 6.3
         },
         {
          "Date new": "2013-10-01T00:00:00",
          "precipitation": 7.9,
          "temp_max": 14.4,
          "temp_min": 8.9,
          "weather": "fog",
          "wind": 4.7
         },
         {
          "Date new": "2013-10-02T00:00:00",
          "precipitation": 5.3,
          "temp_max": 12.8,
          "temp_min": 9.4,
          "weather": "fog",
          "wind": 2.4
         },
         {
          "Date new": "2013-10-03T00:00:00",
          "precipitation": 0.8,
          "temp_max": 14.4,
          "temp_min": 8.9,
          "weather": "fog",
          "wind": 0.9
         },
         {
          "Date new": "2013-10-04T00:00:00",
          "precipitation": 0,
          "temp_max": 17.8,
          "temp_min": 5.6,
          "weather": "sun",
          "wind": 1.1
         },
         {
          "Date new": "2013-10-05T00:00:00",
          "precipitation": 0,
          "temp_max": 20,
          "temp_min": 8.3,
          "weather": "sun",
          "wind": 1.6
         },
         {
          "Date new": "2013-10-06T00:00:00",
          "precipitation": 4.1,
          "temp_max": 22.8,
          "temp_min": 7.8,
          "weather": "fog",
          "wind": 2.6
         },
         {
          "Date new": "2013-10-07T00:00:00",
          "precipitation": 0.5,
          "temp_max": 16.1,
          "temp_min": 11.7,
          "weather": "fog",
          "wind": 6.3
         },
         {
          "Date new": "2013-10-08T00:00:00",
          "precipitation": 6.9,
          "temp_max": 13.9,
          "temp_min": 7.8,
          "weather": "rain",
          "wind": 3
         },
         {
          "Date new": "2013-10-09T00:00:00",
          "precipitation": 0,
          "temp_max": 15,
          "temp_min": 5.6,
          "weather": "sun",
          "wind": 1.6
         },
         {
          "Date new": "2013-10-10T00:00:00",
          "precipitation": 1,
          "temp_max": 14.4,
          "temp_min": 8.3,
          "weather": "fog",
          "wind": 1.7
         },
         {
          "Date new": "2013-10-11T00:00:00",
          "precipitation": 9.1,
          "temp_max": 13.9,
          "temp_min": 10.6,
          "weather": "sun",
          "wind": 1
         },
         {
          "Date new": "2013-10-12T00:00:00",
          "precipitation": 1,
          "temp_max": 14.4,
          "temp_min": 8.9,
          "weather": "fog",
          "wind": 2.2
         },
         {
          "Date new": "2013-10-13T00:00:00",
          "precipitation": 0,
          "temp_max": 15,
          "temp_min": 6.7,
          "weather": "fog",
          "wind": 1.8
         },
         {
          "Date new": "2013-10-14T00:00:00",
          "precipitation": 0,
          "temp_max": 15.6,
          "temp_min": 3.9,
          "weather": "sun",
          "wind": 1.6
         },
         {
          "Date new": "2013-10-15T00:00:00",
          "precipitation": 0,
          "temp_max": 15.6,
          "temp_min": 5,
          "weather": "sun",
          "wind": 0.9
         },
         {
          "Date new": "2013-10-16T00:00:00",
          "precipitation": 0,
          "temp_max": 12.8,
          "temp_min": 8.9,
          "weather": "fog",
          "wind": 2.7
         },
         {
          "Date new": "2013-10-17T00:00:00",
          "precipitation": 0,
          "temp_max": 14.4,
          "temp_min": 8.9,
          "weather": "fog",
          "wind": 1.7
         },
         {
          "Date new": "2013-10-18T00:00:00",
          "precipitation": 0,
          "temp_max": 12.8,
          "temp_min": 7.2,
          "weather": "sun",
          "wind": 1.2
         },
         {
          "Date new": "2013-10-19T00:00:00",
          "precipitation": 0,
          "temp_max": 10.6,
          "temp_min": 7.8,
          "weather": "sun",
          "wind": 1.4
         },
         {
          "Date new": "2013-10-20T00:00:00",
          "precipitation": 0,
          "temp_max": 10.6,
          "temp_min": 7.8,
          "weather": "sun",
          "wind": 2.4
         },
         {
          "Date new": "2013-10-21T00:00:00",
          "precipitation": 0,
          "temp_max": 11.7,
          "temp_min": 8.3,
          "weather": "sun",
          "wind": 2.5
         },
         {
          "Date new": "2013-10-22T00:00:00",
          "precipitation": 0,
          "temp_max": 14.4,
          "temp_min": 7.2,
          "weather": "sun",
          "wind": 1.9
         },
         {
          "Date new": "2013-10-23T00:00:00",
          "precipitation": 0,
          "temp_max": 12.8,
          "temp_min": 6.1,
          "weather": "sun",
          "wind": 0.4
         },
         {
          "Date new": "2013-10-24T00:00:00",
          "precipitation": 0,
          "temp_max": 10,
          "temp_min": 6.1,
          "weather": "sun",
          "wind": 0.6
         },
         {
          "Date new": "2013-10-25T00:00:00",
          "precipitation": 0,
          "temp_max": 12.2,
          "temp_min": 7.8,
          "weather": "sun",
          "wind": 1.8
         },
         {
          "Date new": "2013-10-26T00:00:00",
          "precipitation": 0,
          "temp_max": 11.7,
          "temp_min": 8.3,
          "weather": "sun",
          "wind": 2.7
         },
         {
          "Date new": "2013-10-27T00:00:00",
          "precipitation": 1.8,
          "temp_max": 13.9,
          "temp_min": 8.3,
          "weather": "fog",
          "wind": 4.4
         },
         {
          "Date new": "2013-10-28T00:00:00",
          "precipitation": 0,
          "temp_max": 14.4,
          "temp_min": 7.2,
          "weather": "sun",
          "wind": 5.1
         },
         {
          "Date new": "2013-10-29T00:00:00",
          "precipitation": 0,
          "temp_max": 13.3,
          "temp_min": 3.3,
          "weather": "sun",
          "wind": 2.2
         },
         {
          "Date new": "2013-10-30T00:00:00",
          "precipitation": 0.5,
          "temp_max": 15,
          "temp_min": 5.6,
          "weather": "sun",
          "wind": 3.9
         },
         {
          "Date new": "2013-10-31T00:00:00",
          "precipitation": 0.3,
          "temp_max": 14.4,
          "temp_min": 10.6,
          "weather": "fog",
          "wind": 2.2
         },
         {
          "Date new": "2013-11-01T00:00:00",
          "precipitation": 1.3,
          "temp_max": 17.8,
          "temp_min": 11.7,
          "weather": "sun",
          "wind": 1.4
         },
         {
          "Date new": "2013-11-02T00:00:00",
          "precipitation": 12.7,
          "temp_max": 14.4,
          "temp_min": 8.3,
          "weather": "fog",
          "wind": 7.9
         },
         {
          "Date new": "2013-11-03T00:00:00",
          "precipitation": 0.5,
          "temp_max": 12.2,
          "temp_min": 4.4,
          "weather": "sun",
          "wind": 2.4
         },
         {
          "Date new": "2013-11-04T00:00:00",
          "precipitation": 0,
          "temp_max": 10.6,
          "temp_min": 3.9,
          "weather": "drizzle",
          "wind": 1.6
         },
         {
          "Date new": "2013-11-05T00:00:00",
          "precipitation": 2.5,
          "temp_max": 13.3,
          "temp_min": 7.2,
          "weather": "fog",
          "wind": 3.1
         },
         {
          "Date new": "2013-11-06T00:00:00",
          "precipitation": 3.8,
          "temp_max": 12.8,
          "temp_min": 7.8,
          "weather": "sun",
          "wind": 1.7
         },
         {
          "Date new": "2013-11-07T00:00:00",
          "precipitation": 30,
          "temp_max": 11.1,
          "temp_min": 10,
          "weather": "fog",
          "wind": 7.2
         },
         {
          "Date new": "2013-11-08T00:00:00",
          "precipitation": 0,
          "temp_max": 13.3,
          "temp_min": 7.2,
          "weather": "sun",
          "wind": 4.1
         },
         {
          "Date new": "2013-11-09T00:00:00",
          "precipitation": 1.8,
          "temp_max": 11.1,
          "temp_min": 5,
          "weather": "sun",
          "wind": 1.4
         },
         {
          "Date new": "2013-11-10T00:00:00",
          "precipitation": 0,
          "temp_max": 11.1,
          "temp_min": 8.3,
          "weather": "sun",
          "wind": 4.4
         },
         {
          "Date new": "2013-11-11T00:00:00",
          "precipitation": 0,
          "temp_max": 16.1,
          "temp_min": 6.1,
          "weather": "fog",
          "wind": 2.6
         },
         {
          "Date new": "2013-11-12T00:00:00",
          "precipitation": 4.1,
          "temp_max": 15.6,
          "temp_min": 8.9,
          "weather": "fog",
          "wind": 2.2
         },
         {
          "Date new": "2013-11-13T00:00:00",
          "precipitation": 0,
          "temp_max": 13.9,
          "temp_min": 10.6,
          "weather": "sun",
          "wind": 3.8
         },
         {
          "Date new": "2013-11-14T00:00:00",
          "precipitation": 1.3,
          "temp_max": 11.1,
          "temp_min": 6.1,
          "weather": "fog",
          "wind": 1.1
         },
         {
          "Date new": "2013-11-15T00:00:00",
          "precipitation": 3,
          "temp_max": 10.6,
          "temp_min": 7.2,
          "weather": "sun",
          "wind": 6
         },
         {
          "Date new": "2013-11-16T00:00:00",
          "precipitation": 0,
          "temp_max": 10,
          "temp_min": 5,
          "weather": "sun",
          "wind": 4.6
         },
         {
          "Date new": "2013-11-17T00:00:00",
          "precipitation": 5.3,
          "temp_max": 11.7,
          "temp_min": 7.2,
          "weather": "fog",
          "wind": 5.4
         },
         {
          "Date new": "2013-11-18T00:00:00",
          "precipitation": 26.2,
          "temp_max": 12.8,
          "temp_min": 9.4,
          "weather": "fog",
          "wind": 3.9
         },
         {
          "Date new": "2013-11-19T00:00:00",
          "precipitation": 1,
          "temp_max": 13.3,
          "temp_min": 4.4,
          "weather": "fog",
          "wind": 5.1
         },
         {
          "Date new": "2013-11-20T00:00:00",
          "precipitation": 0,
          "temp_max": 7.8,
          "temp_min": 1.7,
          "weather": "sun",
          "wind": 4.3
         },
         {
          "Date new": "2013-11-21T00:00:00",
          "precipitation": 0,
          "temp_max": 7.8,
          "temp_min": -0.5,
          "weather": "sun",
          "wind": 3.6
         },
         {
          "Date new": "2013-11-22T00:00:00",
          "precipitation": 0,
          "temp_max": 9.4,
          "temp_min": 0,
          "weather": "sun",
          "wind": 4.6
         },
         {
          "Date new": "2013-11-23T00:00:00",
          "precipitation": 0,
          "temp_max": 11.1,
          "temp_min": 1.1,
          "weather": "sun",
          "wind": 2.6
         },
         {
          "Date new": "2013-11-24T00:00:00",
          "precipitation": 0,
          "temp_max": 11.7,
          "temp_min": 0.6,
          "weather": "fog",
          "wind": 0.9
         },
         {
          "Date new": "2013-11-25T00:00:00",
          "precipitation": 0,
          "temp_max": 12.2,
          "temp_min": 2.2,
          "weather": "sun",
          "wind": 0.5
         },
         {
          "Date new": "2013-11-26T00:00:00",
          "precipitation": 0,
          "temp_max": 12.2,
          "temp_min": 2.8,
          "weather": "sun",
          "wind": 1
         },
         {
          "Date new": "2013-11-27T00:00:00",
          "precipitation": 0,
          "temp_max": 14.4,
          "temp_min": 5.6,
          "weather": "sun",
          "wind": 1.3
         },
         {
          "Date new": "2013-11-28T00:00:00",
          "precipitation": 0,
          "temp_max": 11.7,
          "temp_min": 3.3,
          "weather": "sun",
          "wind": 0.7
         },
         {
          "Date new": "2013-11-29T00:00:00",
          "precipitation": 0.5,
          "temp_max": 9.4,
          "temp_min": 5,
          "weather": "fog",
          "wind": 2.1
         },
         {
          "Date new": "2013-11-30T00:00:00",
          "precipitation": 2.3,
          "temp_max": 11.1,
          "temp_min": 7.2,
          "weather": "fog",
          "wind": 3.9
         },
         {
          "Date new": "2013-12-01T00:00:00",
          "precipitation": 3,
          "temp_max": 13.3,
          "temp_min": 7.8,
          "weather": "fog",
          "wind": 8.8
         },
         {
          "Date new": "2013-12-02T00:00:00",
          "precipitation": 4.6,
          "temp_max": 7.8,
          "temp_min": 1.7,
          "weather": "sun",
          "wind": 3.5
         },
         {
          "Date new": "2013-12-03T00:00:00",
          "precipitation": 0,
          "temp_max": 5,
          "temp_min": -0.5,
          "weather": "sun",
          "wind": 5.6
         },
         {
          "Date new": "2013-12-04T00:00:00",
          "precipitation": 0,
          "temp_max": 4.4,
          "temp_min": -2.1,
          "weather": "sun",
          "wind": 1.6
         },
         {
          "Date new": "2013-12-05T00:00:00",
          "precipitation": 0,
          "temp_max": 1.1,
          "temp_min": -4.9,
          "weather": "sun",
          "wind": 2.6
         },
         {
          "Date new": "2013-12-06T00:00:00",
          "precipitation": 0,
          "temp_max": 1.1,
          "temp_min": -4.3,
          "weather": "sun",
          "wind": 4.7
         },
         {
          "Date new": "2013-12-07T00:00:00",
          "precipitation": 0,
          "temp_max": 0,
          "temp_min": -7.1,
          "weather": "sun",
          "wind": 3.1
         },
         {
          "Date new": "2013-12-08T00:00:00",
          "precipitation": 0,
          "temp_max": 2.2,
          "temp_min": -6.6,
          "weather": "sun",
          "wind": 2.2
         },
         {
          "Date new": "2013-12-09T00:00:00",
          "precipitation": 0,
          "temp_max": 1.1,
          "temp_min": -4.9,
          "weather": "sun",
          "wind": 1.3
         },
         {
          "Date new": "2013-12-10T00:00:00",
          "precipitation": 0,
          "temp_max": 5.6,
          "temp_min": 0.6,
          "weather": "sun",
          "wind": 1.5
         },
         {
          "Date new": "2013-12-11T00:00:00",
          "precipitation": 0,
          "temp_max": 5,
          "temp_min": -1.6,
          "weather": "sun",
          "wind": 0.8
         },
         {
          "Date new": "2013-12-12T00:00:00",
          "precipitation": 6.9,
          "temp_max": 5.6,
          "temp_min": -0.5,
          "weather": "sun",
          "wind": 2.3
         },
         {
          "Date new": "2013-12-13T00:00:00",
          "precipitation": 0.5,
          "temp_max": 9.4,
          "temp_min": 5.6,
          "weather": "fog",
          "wind": 2.9
         },
         {
          "Date new": "2013-12-14T00:00:00",
          "precipitation": 0,
          "temp_max": 9.4,
          "temp_min": 6.1,
          "weather": "sun",
          "wind": 3.7
         },
         {
          "Date new": "2013-12-15T00:00:00",
          "precipitation": 1.3,
          "temp_max": 11.7,
          "temp_min": 8.3,
          "weather": "fog",
          "wind": 3.9
         },
         {
          "Date new": "2013-12-16T00:00:00",
          "precipitation": 0.3,
          "temp_max": 10,
          "temp_min": 4.4,
          "weather": "sun",
          "wind": 1
         },
         {
          "Date new": "2013-12-17T00:00:00",
          "precipitation": 0,
          "temp_max": 8.3,
          "temp_min": 4.4,
          "weather": "sun",
          "wind": 2.7
         },
         {
          "Date new": "2013-12-18T00:00:00",
          "precipitation": 1.3,
          "temp_max": 7.8,
          "temp_min": 2.2,
          "weather": "fog",
          "wind": 2.8
         },
         {
          "Date new": "2013-12-19T00:00:00",
          "precipitation": 0,
          "temp_max": 5,
          "temp_min": 0,
          "weather": "sun",
          "wind": 2.1
         },
         {
          "Date new": "2013-12-20T00:00:00",
          "precipitation": 5.6,
          "temp_max": 8.3,
          "temp_min": 0.6,
          "weather": "fog",
          "wind": 3.7
         },
         {
          "Date new": "2013-12-21T00:00:00",
          "precipitation": 5.6,
          "temp_max": 8.9,
          "temp_min": 5.6,
          "weather": "fog",
          "wind": 2.3
         },
         {
          "Date new": "2013-12-22T00:00:00",
          "precipitation": 10.7,
          "temp_max": 10.6,
          "temp_min": 8.3,
          "weather": "fog",
          "wind": 4
         },
         {
          "Date new": "2013-12-23T00:00:00",
          "precipitation": 1.5,
          "temp_max": 11.7,
          "temp_min": 6.1,
          "weather": "fog",
          "wind": 5.9
         },
         {
          "Date new": "2013-12-24T00:00:00",
          "precipitation": 0,
          "temp_max": 8.3,
          "temp_min": 2.8,
          "weather": "sun",
          "wind": 1.7
         },
         {
          "Date new": "2013-12-25T00:00:00",
          "precipitation": 0,
          "temp_max": 6.7,
          "temp_min": 1.7,
          "weather": "sun",
          "wind": 0.8
         },
         {
          "Date new": "2013-12-26T00:00:00",
          "precipitation": 0,
          "temp_max": 6.7,
          "temp_min": 0.6,
          "weather": "sun",
          "wind": 0.5
         },
         {
          "Date new": "2013-12-27T00:00:00",
          "precipitation": 0.3,
          "temp_max": 8.9,
          "temp_min": 0,
          "weather": "fog",
          "wind": 2.1
         },
         {
          "Date new": "2013-12-28T00:00:00",
          "precipitation": 0,
          "temp_max": 9.4,
          "temp_min": 3.3,
          "weather": "sun",
          "wind": 1.3
         },
         {
          "Date new": "2013-12-29T00:00:00",
          "precipitation": 0,
          "temp_max": 7.2,
          "temp_min": 1.7,
          "weather": "sun",
          "wind": 1.1
         },
         {
          "Date new": "2013-12-30T00:00:00",
          "precipitation": 0.3,
          "temp_max": 8.9,
          "temp_min": 4.4,
          "weather": "sun",
          "wind": 2.6
         },
         {
          "Date new": "2013-12-31T00:00:00",
          "precipitation": 0.5,
          "temp_max": 8.3,
          "temp_min": 5,
          "weather": "sun",
          "wind": 1.7
         },
         {
          "Date new": "2014-01-01T00:00:00",
          "precipitation": 0,
          "temp_max": 7.2,
          "temp_min": 3.3,
          "weather": "sun",
          "wind": 1.2
         },
         {
          "Date new": "2014-01-02T00:00:00",
          "precipitation": 4.1,
          "temp_max": 10.6,
          "temp_min": 6.1,
          "weather": "sun",
          "wind": 3.2
         },
         {
          "Date new": "2014-01-03T00:00:00",
          "precipitation": 1.5,
          "temp_max": 8.9,
          "temp_min": 2.8,
          "weather": "fog",
          "wind": 2.6
         },
         {
          "Date new": "2014-01-04T00:00:00",
          "precipitation": 0,
          "temp_max": 7.8,
          "temp_min": 0.6,
          "weather": "fog",
          "wind": 2.7
         },
         {
          "Date new": "2014-01-05T00:00:00",
          "precipitation": 0,
          "temp_max": 8.3,
          "temp_min": -0.5,
          "weather": "sun",
          "wind": 3.7
         },
         {
          "Date new": "2014-01-06T00:00:00",
          "precipitation": 0.3,
          "temp_max": 7.8,
          "temp_min": -0.5,
          "weather": "fog",
          "wind": 2.6
         },
         {
          "Date new": "2014-01-07T00:00:00",
          "precipitation": 12.2,
          "temp_max": 8.3,
          "temp_min": 5,
          "weather": "sun",
          "wind": 1.6
         },
         {
          "Date new": "2014-01-08T00:00:00",
          "precipitation": 9.7,
          "temp_max": 10,
          "temp_min": 7.2,
          "weather": "fog",
          "wind": 4.6
         },
         {
          "Date new": "2014-01-09T00:00:00",
          "precipitation": 5.8,
          "temp_max": 9.4,
          "temp_min": 5.6,
          "weather": "fog",
          "wind": 6.3
         },
         {
          "Date new": "2014-01-10T00:00:00",
          "precipitation": 4.3,
          "temp_max": 12.8,
          "temp_min": 8.3,
          "weather": "sun",
          "wind": 7
         },
         {
          "Date new": "2014-01-11T00:00:00",
          "precipitation": 21.3,
          "temp_max": 14.4,
          "temp_min": 7.2,
          "weather": "fog",
          "wind": 8.8
         },
         {
          "Date new": "2014-01-12T00:00:00",
          "precipitation": 1.5,
          "temp_max": 11.1,
          "temp_min": 5.6,
          "weather": "fog",
          "wind": 8.1
         },
         {
          "Date new": "2014-01-13T00:00:00",
          "precipitation": 0,
          "temp_max": 10.6,
          "temp_min": 10,
          "weather": "sun",
          "wind": 7.1
         },
         {
          "Date new": "2014-01-14T00:00:00",
          "precipitation": 0,
          "temp_max": 11.1,
          "temp_min": 7.2,
          "weather": "sun",
          "wind": 1.3
         },
         {
          "Date new": "2014-01-15T00:00:00",
          "precipitation": 0,
          "temp_max": 11.1,
          "temp_min": 5.6,
          "weather": "sun",
          "wind": 2.5
         },
         {
          "Date new": "2014-01-16T00:00:00",
          "precipitation": 0,
          "temp_max": 6.7,
          "temp_min": 4.4,
          "weather": "sun",
          "wind": 2.7
         },
         {
          "Date new": "2014-01-17T00:00:00",
          "precipitation": 0,
          "temp_max": 5.6,
          "temp_min": 2.8,
          "weather": "sun",
          "wind": 2.3
         },
         {
          "Date new": "2014-01-18T00:00:00",
          "precipitation": 0,
          "temp_max": 9.4,
          "temp_min": 0.6,
          "weather": "sun",
          "wind": 2.2
         },
         {
          "Date new": "2014-01-19T00:00:00",
          "precipitation": 0,
          "temp_max": 6.1,
          "temp_min": 3.3,
          "weather": "sun",
          "wind": 2.5
         },
         {
          "Date new": "2014-01-20T00:00:00",
          "precipitation": 0,
          "temp_max": 10,
          "temp_min": 2.8,
          "weather": "sun",
          "wind": 2.2
         },
         {
          "Date new": "2014-01-21T00:00:00",
          "precipitation": 0,
          "temp_max": 10,
          "temp_min": 1.7,
          "weather": "sun",
          "wind": 1.5
         },
         {
          "Date new": "2014-01-22T00:00:00",
          "precipitation": 0.5,
          "temp_max": 9.4,
          "temp_min": 5.6,
          "weather": "sun",
          "wind": 2.6
         },
         {
          "Date new": "2014-01-23T00:00:00",
          "precipitation": 0,
          "temp_max": 10,
          "temp_min": 2.8,
          "weather": "fog",
          "wind": 5.2
         },
         {
          "Date new": "2014-01-24T00:00:00",
          "precipitation": 0,
          "temp_max": 12.8,
          "temp_min": 1.1,
          "weather": "sun",
          "wind": 1.9
         },
         {
          "Date new": "2014-01-25T00:00:00",
          "precipitation": 0,
          "temp_max": 12.2,
          "temp_min": 1.1,
          "weather": "sun",
          "wind": 0.8
         },
         {
          "Date new": "2014-01-26T00:00:00",
          "precipitation": 0,
          "temp_max": 8.3,
          "temp_min": 0.6,
          "weather": "sun",
          "wind": 1.3
         },
         {
          "Date new": "2014-01-27T00:00:00",
          "precipitation": 0,
          "temp_max": 9.4,
          "temp_min": 1.7,
          "weather": "sun",
          "wind": 1.3
         },
         {
          "Date new": "2014-01-28T00:00:00",
          "precipitation": 8.9,
          "temp_max": 11.1,
          "temp_min": 6.1,
          "weather": "fog",
          "wind": 1.6
         },
         {
          "Date new": "2014-01-29T00:00:00",
          "precipitation": 21.6,
          "temp_max": 11.1,
          "temp_min": 7.2,
          "weather": "fog",
          "wind": 3.4
         },
         {
          "Date new": "2014-01-30T00:00:00",
          "precipitation": 0,
          "temp_max": 8.3,
          "temp_min": 6.1,
          "weather": "sun",
          "wind": 6.4
         },
         {
          "Date new": "2014-01-31T00:00:00",
          "precipitation": 2.3,
          "temp_max": 7.8,
          "temp_min": 5.6,
          "weather": "fog",
          "wind": 2.6
         },
         {
          "Date new": "2014-02-01T00:00:00",
          "precipitation": 2,
          "temp_max": 7.8,
          "temp_min": 2.8,
          "weather": "sun",
          "wind": 0.8
         },
         {
          "Date new": "2014-02-02T00:00:00",
          "precipitation": 0,
          "temp_max": 8.9,
          "temp_min": 1.1,
          "weather": "sun",
          "wind": 2.5
         },
         {
          "Date new": "2014-02-03T00:00:00",
          "precipitation": 0,
          "temp_max": 5,
          "temp_min": 0,
          "weather": "sun",
          "wind": 4.3
         },
         {
          "Date new": "2014-02-04T00:00:00",
          "precipitation": 0,
          "temp_max": 2.8,
          "temp_min": -2.1,
          "weather": "sun",
          "wind": 4.7
         },
         {
          "Date new": "2014-02-05T00:00:00",
          "precipitation": 0,
          "temp_max": -0.5,
          "temp_min": -5.5,
          "weather": "sun",
          "wind": 6.6
         },
         {
          "Date new": "2014-02-06T00:00:00",
          "precipitation": 0,
          "temp_max": -1.6,
          "temp_min": -6,
          "weather": "sun",
          "wind": 4.5
         },
         {
          "Date new": "2014-02-07T00:00:00",
          "precipitation": 0,
          "temp_max": 3.3,
          "temp_min": -4.9,
          "weather": "sun",
          "wind": 4.2
         },
         {
          "Date new": "2014-02-08T00:00:00",
          "precipitation": 5.1,
          "temp_max": 5.6,
          "temp_min": -0.5,
          "weather": "fog",
          "wind": 4.6
         },
         {
          "Date new": "2014-02-09T00:00:00",
          "precipitation": 0.5,
          "temp_max": 3.9,
          "temp_min": 0,
          "weather": "fog",
          "wind": 2.4
         },
         {
          "Date new": "2014-02-10T00:00:00",
          "precipitation": 18.3,
          "temp_max": 10,
          "temp_min": 2.2,
          "weather": "fog",
          "wind": 4.7
         },
         {
          "Date new": "2014-02-11T00:00:00",
          "precipitation": 17,
          "temp_max": 12.2,
          "temp_min": 5.6,
          "weather": "fog",
          "wind": 3.8
         },
         {
          "Date new": "2014-02-12T00:00:00",
          "precipitation": 4.6,
          "temp_max": 12.2,
          "temp_min": 7.2,
          "weather": "fog",
          "wind": 6.4
         },
         {
          "Date new": "2014-02-13T00:00:00",
          "precipitation": 1.8,
          "temp_max": 12.8,
          "temp_min": 7.8,
          "weather": "fog",
          "wind": 6.3
         },
         {
          "Date new": "2014-02-14T00:00:00",
          "precipitation": 9.4,
          "temp_max": 11.7,
          "temp_min": 6.1,
          "weather": "fog",
          "wind": 6.4
         },
         {
          "Date new": "2014-02-15T00:00:00",
          "precipitation": 11.7,
          "temp_max": 11.1,
          "temp_min": 5,
          "weather": "fog",
          "wind": 5.1
         },
         {
          "Date new": "2014-02-16T00:00:00",
          "precipitation": 26.4,
          "temp_max": 9.4,
          "temp_min": 3.9,
          "weather": "fog",
          "wind": 7.9
         },
         {
          "Date new": "2014-02-17T00:00:00",
          "precipitation": 14.5,
          "temp_max": 8.3,
          "temp_min": 4.4,
          "weather": "fog",
          "wind": 5.5
         },
         {
          "Date new": "2014-02-18T00:00:00",
          "precipitation": 15.2,
          "temp_max": 8.9,
          "temp_min": 5,
          "weather": "fog",
          "wind": 6.2
         },
         {
          "Date new": "2014-02-19T00:00:00",
          "precipitation": 1,
          "temp_max": 8.3,
          "temp_min": 3.9,
          "weather": "sun",
          "wind": 6
         },
         {
          "Date new": "2014-02-20T00:00:00",
          "precipitation": 3,
          "temp_max": 10,
          "temp_min": 5.6,
          "weather": "fog",
          "wind": 6.9
         },
         {
          "Date new": "2014-02-21T00:00:00",
          "precipitation": 2.8,
          "temp_max": 6.7,
          "temp_min": 3.9,
          "weather": "fog",
          "wind": 2.9
         },
         {
          "Date new": "2014-02-22T00:00:00",
          "precipitation": 2.5,
          "temp_max": 5.6,
          "temp_min": 2.8,
          "weather": "fog",
          "wind": 3.1
         },
         {
          "Date new": "2014-02-23T00:00:00",
          "precipitation": 6.1,
          "temp_max": 7.2,
          "temp_min": 3.9,
          "weather": "fog",
          "wind": 2.6
         },
         {
          "Date new": "2014-02-24T00:00:00",
          "precipitation": 13,
          "temp_max": 6.7,
          "temp_min": 3.3,
          "weather": "fog",
          "wind": 3.2
         },
         {
          "Date new": "2014-02-25T00:00:00",
          "precipitation": 0.3,
          "temp_max": 12.2,
          "temp_min": 3.9,
          "weather": "fog",
          "wind": 4.5
         },
         {
          "Date new": "2014-02-26T00:00:00",
          "precipitation": 0,
          "temp_max": 13.9,
          "temp_min": 5.6,
          "weather": "sun",
          "wind": 2.5
         },
         {
          "Date new": "2014-02-27T00:00:00",
          "precipitation": 0,
          "temp_max": 12.8,
          "temp_min": 4.4,
          "weather": "sun",
          "wind": 2.3
         },
         {
          "Date new": "2014-02-28T00:00:00",
          "precipitation": 0,
          "temp_max": 14.4,
          "temp_min": 4.4,
          "weather": "sun",
          "wind": 5.9
         },
         {
          "Date new": "2014-03-01T00:00:00",
          "precipitation": 0.5,
          "temp_max": 7.2,
          "temp_min": 4.4,
          "weather": "sun",
          "wind": 4.7
         },
         {
          "Date new": "2014-03-02T00:00:00",
          "precipitation": 19.1,
          "temp_max": 11.1,
          "temp_min": 2.8,
          "weather": "fog",
          "wind": 5.7
         },
         {
          "Date new": "2014-03-03T00:00:00",
          "precipitation": 10.7,
          "temp_max": 14.4,
          "temp_min": 8.9,
          "weather": "fog",
          "wind": 5.1
         },
         {
          "Date new": "2014-03-04T00:00:00",
          "precipitation": 16.5,
          "temp_max": 13.9,
          "temp_min": 7.8,
          "weather": "fog",
          "wind": 3.9
         },
         {
          "Date new": "2014-03-05T00:00:00",
          "precipitation": 46.7,
          "temp_max": 15.6,
          "temp_min": 10.6,
          "weather": "fog",
          "wind": 3.9
         },
         {
          "Date new": "2014-03-06T00:00:00",
          "precipitation": 3,
          "temp_max": 13.3,
          "temp_min": 10,
          "weather": "fog",
          "wind": 6.2
         },
         {
          "Date new": "2014-03-07T00:00:00",
          "precipitation": 0,
          "temp_max": 15.6,
          "temp_min": 8.9,
          "weather": "sun",
          "wind": 4.2
         },
         {
          "Date new": "2014-03-08T00:00:00",
          "precipitation": 32.3,
          "temp_max": 12.8,
          "temp_min": 6.7,
          "weather": "fog",
          "wind": 2.7
         },
         {
          "Date new": "2014-03-09T00:00:00",
          "precipitation": 4.3,
          "temp_max": 15,
          "temp_min": 9.4,
          "weather": "fog",
          "wind": 4.3
         },
         {
          "Date new": "2014-03-10T00:00:00",
          "precipitation": 18.8,
          "temp_max": 12.2,
          "temp_min": 6.1,
          "weather": "fog",
          "wind": 2.2
         },
         {
          "Date new": "2014-03-11T00:00:00",
          "precipitation": 0,
          "temp_max": 14.4,
          "temp_min": 4.4,
          "weather": "fog",
          "wind": 2.3
         },
         {
          "Date new": "2014-03-12T00:00:00",
          "precipitation": 0,
          "temp_max": 16.1,
          "temp_min": 3.3,
          "weather": "fog",
          "wind": 1.9
         },
         {
          "Date new": "2014-03-13T00:00:00",
          "precipitation": 0.5,
          "temp_max": 13.9,
          "temp_min": 5,
          "weather": "fog",
          "wind": 2.5
         },
         {
          "Date new": "2014-03-14T00:00:00",
          "precipitation": 6.9,
          "temp_max": 14.4,
          "temp_min": 8.3,
          "weather": "fog",
          "wind": 6.1
         },
         {
          "Date new": "2014-03-15T00:00:00",
          "precipitation": 8.1,
          "temp_max": 16.7,
          "temp_min": 4.4,
          "weather": "fog",
          "wind": 3
         },
         {
          "Date new": "2014-03-16T00:00:00",
          "precipitation": 27.7,
          "temp_max": 10.6,
          "temp_min": 4.4,
          "weather": "fog",
          "wind": 3.8
         },
         {
          "Date new": "2014-03-17T00:00:00",
          "precipitation": 0.3,
          "temp_max": 10,
          "temp_min": 2.8,
          "weather": "fog",
          "wind": 3.2
         },
         {
          "Date new": "2014-03-18T00:00:00",
          "precipitation": 0,
          "temp_max": 10,
          "temp_min": 3.3,
          "weather": "sun",
          "wind": 1.6
         },
         {
          "Date new": "2014-03-19T00:00:00",
          "precipitation": 0.5,
          "temp_max": 11.1,
          "temp_min": 3.3,
          "weather": "sun",
          "wind": 5.1
         },
         {
          "Date new": "2014-03-20T00:00:00",
          "precipitation": 0,
          "temp_max": 11.1,
          "temp_min": 1.7,
          "weather": "sun",
          "wind": 3
         },
         {
          "Date new": "2014-03-21T00:00:00",
          "precipitation": 0,
          "temp_max": 10.6,
          "temp_min": 2.8,
          "weather": "sun",
          "wind": 3.8
         },
         {
          "Date new": "2014-03-22T00:00:00",
          "precipitation": 0,
          "temp_max": 11.1,
          "temp_min": 1.1,
          "weather": "sun",
          "wind": 1.8
         },
         {
          "Date new": "2014-03-23T00:00:00",
          "precipitation": 0,
          "temp_max": 12.8,
          "temp_min": 4.4,
          "weather": "sun",
          "wind": 3.3
         },
         {
          "Date new": "2014-03-24T00:00:00",
          "precipitation": 0,
          "temp_max": 18.9,
          "temp_min": 2.8,
          "weather": "sun",
          "wind": 2.2
         },
         {
          "Date new": "2014-03-25T00:00:00",
          "precipitation": 4.1,
          "temp_max": 13.9,
          "temp_min": 6.7,
          "weather": "fog",
          "wind": 4.4
         },
         {
          "Date new": "2014-03-26T00:00:00",
          "precipitation": 3.6,
          "temp_max": 11.1,
          "temp_min": 5.6,
          "weather": "fog",
          "wind": 2.4
         },
         {
          "Date new": "2014-03-27T00:00:00",
          "precipitation": 0.3,
          "temp_max": 12.2,
          "temp_min": 6.7,
          "weather": "fog",
          "wind": 2.8
         },
         {
          "Date new": "2014-03-28T00:00:00",
          "precipitation": 22.1,
          "temp_max": 11.7,
          "temp_min": 7.2,
          "weather": "fog",
          "wind": 3.9
         },
         {
          "Date new": "2014-03-29T00:00:00",
          "precipitation": 14,
          "temp_max": 11.7,
          "temp_min": 7.2,
          "weather": "fog",
          "wind": 5.1
         },
         {
          "Date new": "2014-03-30T00:00:00",
          "precipitation": 0,
          "temp_max": 11.1,
          "temp_min": 5,
          "weather": "sun",
          "wind": 5.1
         },
         {
          "Date new": "2014-03-31T00:00:00",
          "precipitation": 0,
          "temp_max": 15.6,
          "temp_min": 2.2,
          "weather": "sun",
          "wind": 3.8
         },
         {
          "Date new": "2014-04-01T00:00:00",
          "precipitation": 0,
          "temp_max": 14.4,
          "temp_min": 6.7,
          "weather": "sun",
          "wind": 2.8
         },
         {
          "Date new": "2014-04-02T00:00:00",
          "precipitation": 0,
          "temp_max": 14.4,
          "temp_min": 5.6,
          "weather": "sun",
          "wind": 4.2
         },
         {
          "Date new": "2014-04-03T00:00:00",
          "precipitation": 2.5,
          "temp_max": 13.3,
          "temp_min": 6.1,
          "weather": "sun",
          "wind": 3.9
         },
         {
          "Date new": "2014-04-04T00:00:00",
          "precipitation": 0,
          "temp_max": 12.8,
          "temp_min": 6.1,
          "weather": "sun",
          "wind": 4.7
         },
         {
          "Date new": "2014-04-05T00:00:00",
          "precipitation": 4.6,
          "temp_max": 11.7,
          "temp_min": 7.8,
          "weather": "fog",
          "wind": 4.3
         },
         {
          "Date new": "2014-04-06T00:00:00",
          "precipitation": 0,
          "temp_max": 13.9,
          "temp_min": 8.3,
          "weather": "sun",
          "wind": 2.6
         },
         {
          "Date new": "2014-04-07T00:00:00",
          "precipitation": 0,
          "temp_max": 21.1,
          "temp_min": 9.4,
          "weather": "sun",
          "wind": 2.5
         },
         {
          "Date new": "2014-04-08T00:00:00",
          "precipitation": 4.6,
          "temp_max": 15.6,
          "temp_min": 8.3,
          "weather": "fog",
          "wind": 4.2
         },
         {
          "Date new": "2014-04-09T00:00:00",
          "precipitation": 0,
          "temp_max": 14.4,
          "temp_min": 6.7,
          "weather": "sun",
          "wind": 2.9
         },
         {
          "Date new": "2014-04-10T00:00:00",
          "precipitation": 0,
          "temp_max": 15,
          "temp_min": 6.7,
          "weather": "sun",
          "wind": 3.6
         },
         {
          "Date new": "2014-04-11T00:00:00",
          "precipitation": 0,
          "temp_max": 17.2,
          "temp_min": 5,
          "weather": "sun",
          "wind": 2.8
         },
         {
          "Date new": "2014-04-12T00:00:00",
          "precipitation": 0,
          "temp_max": 16.1,
          "temp_min": 7.8,
          "weather": "sun",
          "wind": 4.4
         },
         {
          "Date new": "2014-04-13T00:00:00",
          "precipitation": 0,
          "temp_max": 20.6,
          "temp_min": 5.6,
          "weather": "sun",
          "wind": 3.1
         },
         {
          "Date new": "2014-04-14T00:00:00",
          "precipitation": 0,
          "temp_max": 20,
          "temp_min": 5.6,
          "weather": "sun",
          "wind": 2.6
         },
         {
          "Date new": "2014-04-15T00:00:00",
          "precipitation": 0.5,
          "temp_max": 14.4,
          "temp_min": 7.8,
          "weather": "sun",
          "wind": 4
         },
         {
          "Date new": "2014-04-16T00:00:00",
          "precipitation": 10.9,
          "temp_max": 11.1,
          "temp_min": 8.9,
          "weather": "fog",
          "wind": 4.6
         },
         {
          "Date new": "2014-04-17T00:00:00",
          "precipitation": 18.5,
          "temp_max": 11.7,
          "temp_min": 7.2,
          "weather": "fog",
          "wind": 4.7
         },
         {
          "Date new": "2014-04-18T00:00:00",
          "precipitation": 0,
          "temp_max": 14.4,
          "temp_min": 5.6,
          "weather": "sun",
          "wind": 3.8
         },
         {
          "Date new": "2014-04-19T00:00:00",
          "precipitation": 13.7,
          "temp_max": 11.7,
          "temp_min": 5.6,
          "weather": "fog",
          "wind": 4.7
         },
         {
          "Date new": "2014-04-20T00:00:00",
          "precipitation": 0,
          "temp_max": 15.6,
          "temp_min": 5.6,
          "weather": "sun",
          "wind": 2.7
         },
         {
          "Date new": "2014-04-21T00:00:00",
          "precipitation": 5.1,
          "temp_max": 17.2,
          "temp_min": 7.8,
          "weather": "fog",
          "wind": 2.5
         },
         {
          "Date new": "2014-04-22T00:00:00",
          "precipitation": 14.2,
          "temp_max": 12.2,
          "temp_min": 5,
          "weather": "fog",
          "wind": 4.2
         },
         {
          "Date new": "2014-04-23T00:00:00",
          "precipitation": 8.9,
          "temp_max": 11.7,
          "temp_min": 6.1,
          "weather": "fog",
          "wind": 5
         },
         {
          "Date new": "2014-04-24T00:00:00",
          "precipitation": 12.4,
          "temp_max": 13.9,
          "temp_min": 6.1,
          "weather": "fog",
          "wind": 5.3
         },
         {
          "Date new": "2014-04-25T00:00:00",
          "precipitation": 0,
          "temp_max": 14.4,
          "temp_min": 5.6,
          "weather": "sun",
          "wind": 2.3
         },
         {
          "Date new": "2014-04-26T00:00:00",
          "precipitation": 3.3,
          "temp_max": 15,
          "temp_min": 5.6,
          "weather": "sun",
          "wind": 3.9
         },
         {
          "Date new": "2014-04-27T00:00:00",
          "precipitation": 6.9,
          "temp_max": 11.1,
          "temp_min": 6.1,
          "weather": "fog",
          "wind": 5.8
         },
         {
          "Date new": "2014-04-28T00:00:00",
          "precipitation": 0,
          "temp_max": 16.1,
          "temp_min": 4.4,
          "weather": "sun",
          "wind": 2.6
         },
         {
          "Date new": "2014-04-29T00:00:00",
          "precipitation": 0,
          "temp_max": 25,
          "temp_min": 9.4,
          "weather": "sun",
          "wind": 2.3
         },
         {
          "Date new": "2014-04-30T00:00:00",
          "precipitation": 0,
          "temp_max": 27.8,
          "temp_min": 9.4,
          "weather": "sun",
          "wind": 3.9
         },
         {
          "Date new": "2014-05-01T00:00:00",
          "precipitation": 0,
          "temp_max": 29.4,
          "temp_min": 11.1,
          "weather": "sun",
          "wind": 3
         },
         {
          "Date new": "2014-05-02T00:00:00",
          "precipitation": 0,
          "temp_max": 18.3,
          "temp_min": 10.6,
          "weather": "sun",
          "wind": 4.7
         },
         {
          "Date new": "2014-05-03T00:00:00",
          "precipitation": 33.3,
          "temp_max": 15,
          "temp_min": 8.9,
          "weather": "fog",
          "wind": 3.4
         },
         {
          "Date new": "2014-05-04T00:00:00",
          "precipitation": 16,
          "temp_max": 14.4,
          "temp_min": 8.9,
          "weather": "fog",
          "wind": 4.2
         },
         {
          "Date new": "2014-05-05T00:00:00",
          "precipitation": 5.1,
          "temp_max": 15.6,
          "temp_min": 9.4,
          "weather": "fog",
          "wind": 3.8
         },
         {
          "Date new": "2014-05-06T00:00:00",
          "precipitation": 0,
          "temp_max": 16.7,
          "temp_min": 8.3,
          "weather": "sun",
          "wind": 2.6
         },
         {
          "Date new": "2014-05-07T00:00:00",
          "precipitation": 0,
          "temp_max": 18.3,
          "temp_min": 7.2,
          "weather": "sun",
          "wind": 1.7
         },
         {
          "Date new": "2014-05-08T00:00:00",
          "precipitation": 13.7,
          "temp_max": 13.9,
          "temp_min": 9.4,
          "weather": "fog",
          "wind": 3.4
         },
         {
          "Date new": "2014-05-09T00:00:00",
          "precipitation": 2,
          "temp_max": 13.3,
          "temp_min": 7.2,
          "weather": "sun",
          "wind": 5.6
         },
         {
          "Date new": "2014-05-10T00:00:00",
          "precipitation": 0.5,
          "temp_max": 15.6,
          "temp_min": 7.2,
          "weather": "fog",
          "wind": 2.1
         },
         {
          "Date new": "2014-05-11T00:00:00",
          "precipitation": 0,
          "temp_max": 18.9,
          "temp_min": 8.3,
          "weather": "sun",
          "wind": 1.7
         },
         {
          "Date new": "2014-05-12T00:00:00",
          "precipitation": 0,
          "temp_max": 24.4,
          "temp_min": 9.4,
          "weather": "sun",
          "wind": 2.7
         },
         {
          "Date new": "2014-05-13T00:00:00",
          "precipitation": 0,
          "temp_max": 26.7,
          "temp_min": 12.8,
          "weather": "sun",
          "wind": 3.8
         },
         {
          "Date new": "2014-05-14T00:00:00",
          "precipitation": 0,
          "temp_max": 27.8,
          "temp_min": 13.3,
          "weather": "sun",
          "wind": 3.3
         },
         {
          "Date new": "2014-05-15T00:00:00",
          "precipitation": 0,
          "temp_max": 26.7,
          "temp_min": 12.8,
          "weather": "sun",
          "wind": 3
         },
         {
          "Date new": "2014-05-16T00:00:00",
          "precipitation": 0,
          "temp_max": 20,
          "temp_min": 11.7,
          "weather": "sun",
          "wind": 4.1
         },
         {
          "Date new": "2014-05-17T00:00:00",
          "precipitation": 0,
          "temp_max": 20,
          "temp_min": 11.7,
          "weather": "sun",
          "wind": 3.2
         },
         {
          "Date new": "2014-05-18T00:00:00",
          "precipitation": 0,
          "temp_max": 20,
          "temp_min": 10.6,
          "weather": "sun",
          "wind": 3.2
         },
         {
          "Date new": "2014-05-19T00:00:00",
          "precipitation": 0,
          "temp_max": 21.1,
          "temp_min": 10,
          "weather": "sun",
          "wind": 2.2
         },
         {
          "Date new": "2014-05-20T00:00:00",
          "precipitation": 0,
          "temp_max": 22.2,
          "temp_min": 10,
          "weather": "sun",
          "wind": 2.7
         },
         {
          "Date new": "2014-05-21T00:00:00",
          "precipitation": 0,
          "temp_max": 20,
          "temp_min": 10.6,
          "weather": "sun",
          "wind": 1.7
         },
         {
          "Date new": "2014-05-22T00:00:00",
          "precipitation": 0,
          "temp_max": 24.4,
          "temp_min": 11.7,
          "weather": "sun",
          "wind": 2.5
         },
         {
          "Date new": "2014-05-23T00:00:00",
          "precipitation": 3.8,
          "temp_max": 20,
          "temp_min": 12.8,
          "weather": "fog",
          "wind": 4
         },
         {
          "Date new": "2014-05-24T00:00:00",
          "precipitation": 0,
          "temp_max": 18.3,
          "temp_min": 11.1,
          "weather": "sun",
          "wind": 2.4
         },
         {
          "Date new": "2014-05-25T00:00:00",
          "precipitation": 5.6,
          "temp_max": 15,
          "temp_min": 10.6,
          "weather": "fog",
          "wind": 1.4
         },
         {
          "Date new": "2014-05-26T00:00:00",
          "precipitation": 0,
          "temp_max": 18.3,
          "temp_min": 11.1,
          "weather": "sun",
          "wind": 4.5
         },
         {
          "Date new": "2014-05-27T00:00:00",
          "precipitation": 0,
          "temp_max": 20,
          "temp_min": 10,
          "weather": "sun",
          "wind": 2.5
         },
         {
          "Date new": "2014-05-28T00:00:00",
          "precipitation": 0,
          "temp_max": 18.9,
          "temp_min": 10,
          "weather": "sun",
          "wind": 3.4
         },
         {
          "Date new": "2014-05-29T00:00:00",
          "precipitation": 0,
          "temp_max": 18.9,
          "temp_min": 11.1,
          "weather": "sun",
          "wind": 4.3
         },
         {
          "Date new": "2014-05-30T00:00:00",
          "precipitation": 0,
          "temp_max": 20.6,
          "temp_min": 8.9,
          "weather": "sun",
          "wind": 4.5
         },
         {
          "Date new": "2014-05-31T00:00:00",
          "precipitation": 0,
          "temp_max": 23.3,
          "temp_min": 10,
          "weather": "sun",
          "wind": 2.2
         },
         {
          "Date new": "2014-06-01T00:00:00",
          "precipitation": 0,
          "temp_max": 22.2,
          "temp_min": 10.6,
          "weather": "sun",
          "wind": 2.3
         },
         {
          "Date new": "2014-06-02T00:00:00",
          "precipitation": 0,
          "temp_max": 23.3,
          "temp_min": 11.1,
          "weather": "sun",
          "wind": 2.4
         },
         {
          "Date new": "2014-06-03T00:00:00",
          "precipitation": 0,
          "temp_max": 18.3,
          "temp_min": 11.1,
          "weather": "sun",
          "wind": 3.2
         },
         {
          "Date new": "2014-06-04T00:00:00",
          "precipitation": 0,
          "temp_max": 19.4,
          "temp_min": 10,
          "weather": "sun",
          "wind": 2.6
         },
         {
          "Date new": "2014-06-05T00:00:00",
          "precipitation": 0,
          "temp_max": 22.2,
          "temp_min": 10,
          "weather": "sun",
          "wind": 2.4
         },
         {
          "Date new": "2014-06-06T00:00:00",
          "precipitation": 0,
          "temp_max": 25,
          "temp_min": 10.6,
          "weather": "sun",
          "wind": 3.2
         },
         {
          "Date new": "2014-06-07T00:00:00",
          "precipitation": 0,
          "temp_max": 24.4,
          "temp_min": 13.3,
          "weather": "sun",
          "wind": 3.1
         },
         {
          "Date new": "2014-06-08T00:00:00",
          "precipitation": 0,
          "temp_max": 23.3,
          "temp_min": 12.2,
          "weather": "sun",
          "wind": 2.1
         },
         {
          "Date new": "2014-06-09T00:00:00",
          "precipitation": 0,
          "temp_max": 21.1,
          "temp_min": 13.3,
          "weather": "sun",
          "wind": 3.6
         },
         {
          "Date new": "2014-06-10T00:00:00",
          "precipitation": 0,
          "temp_max": 20,
          "temp_min": 12.2,
          "weather": "sun",
          "wind": 2.9
         },
         {
          "Date new": "2014-06-11T00:00:00",
          "precipitation": 0,
          "temp_max": 23.9,
          "temp_min": 11.1,
          "weather": "sun",
          "wind": 2.7
         },
         {
          "Date new": "2014-06-12T00:00:00",
          "precipitation": 1.8,
          "temp_max": 21.7,
          "temp_min": 12.2,
          "weather": "sun",
          "wind": 4
         },
         {
          "Date new": "2014-06-13T00:00:00",
          "precipitation": 6.4,
          "temp_max": 15.6,
          "temp_min": 11.1,
          "weather": "fog",
          "wind": 5
         },
         {
          "Date new": "2014-06-14T00:00:00",
          "precipitation": 0,
          "temp_max": 17.8,
          "temp_min": 11.7,
          "weather": "sun",
          "wind": 3.2
         },
         {
          "Date new": "2014-06-15T00:00:00",
          "precipitation": 0.5,
          "temp_max": 18.3,
          "temp_min": 10,
          "weather": "fog",
          "wind": 3.6
         },
         {
          "Date new": "2014-06-16T00:00:00",
          "precipitation": 3.6,
          "temp_max": 17.8,
          "temp_min": 8.9,
          "weather": "fog",
          "wind": 2.4
         },
         {
          "Date new": "2014-06-17T00:00:00",
          "precipitation": 1.3,
          "temp_max": 17.8,
          "temp_min": 10,
          "weather": "fog",
          "wind": 3
         },
         {
          "Date new": "2014-06-18T00:00:00",
          "precipitation": 0,
          "temp_max": 18.9,
          "temp_min": 11.1,
          "weather": "sun",
          "wind": 2.7
         },
         {
          "Date new": "2014-06-19T00:00:00",
          "precipitation": 0.8,
          "temp_max": 25.6,
          "temp_min": 11.7,
          "weather": "sun",
          "wind": 3.7
         },
         {
          "Date new": "2014-06-20T00:00:00",
          "precipitation": 0.3,
          "temp_max": 20,
          "temp_min": 10,
          "weather": "sun",
          "wind": 3.4
         },
         {
          "Date new": "2014-06-21T00:00:00",
          "precipitation": 0,
          "temp_max": 22.2,
          "temp_min": 10.6,
          "weather": "sun",
          "wind": 3.6
         },
         {
          "Date new": "2014-06-22T00:00:00",
          "precipitation": 0,
          "temp_max": 25,
          "temp_min": 11.1,
          "weather": "sun",
          "wind": 2.7
         },
         {
          "Date new": "2014-06-23T00:00:00",
          "precipitation": 0,
          "temp_max": 25,
          "temp_min": 13.3,
          "weather": "sun",
          "wind": 2.5
         },
         {
          "Date new": "2014-06-24T00:00:00",
          "precipitation": 0,
          "temp_max": 24.4,
          "temp_min": 14.4,
          "weather": "sun",
          "wind": 2.5
         },
         {
          "Date new": "2014-06-25T00:00:00",
          "precipitation": 0,
          "temp_max": 26.1,
          "temp_min": 13.9,
          "weather": "sun",
          "wind": 2.4
         },
         {
          "Date new": "2014-06-26T00:00:00",
          "precipitation": 0,
          "temp_max": 21.1,
          "temp_min": 14.4,
          "weather": "sun",
          "wind": 4.1
         },
         {
          "Date new": "2014-06-27T00:00:00",
          "precipitation": 1.8,
          "temp_max": 21.1,
          "temp_min": 13.9,
          "weather": "fog",
          "wind": 4.5
         },
         {
          "Date new": "2014-06-28T00:00:00",
          "precipitation": 2.3,
          "temp_max": 20,
          "temp_min": 13.3,
          "weather": "fog",
          "wind": 4.3
         },
         {
          "Date new": "2014-06-29T00:00:00",
          "precipitation": 0,
          "temp_max": 20.6,
          "temp_min": 12.8,
          "weather": "sun",
          "wind": 3.2
         },
         {
          "Date new": "2014-06-30T00:00:00",
          "precipitation": 0,
          "temp_max": 25.6,
          "temp_min": 12.8,
          "weather": "sun",
          "wind": 4.4
         },
         {
          "Date new": "2014-07-01T00:00:00",
          "precipitation": 0,
          "temp_max": 34.4,
          "temp_min": 15.6,
          "weather": "sun",
          "wind": 3.5
         },
         {
          "Date new": "2014-07-02T00:00:00",
          "precipitation": 0,
          "temp_max": 27.2,
          "temp_min": 14.4,
          "weather": "sun",
          "wind": 3.6
         },
         {
          "Date new": "2014-07-03T00:00:00",
          "precipitation": 0,
          "temp_max": 21.7,
          "temp_min": 13.9,
          "weather": "sun",
          "wind": 3.1
         },
         {
          "Date new": "2014-07-04T00:00:00",
          "precipitation": 0,
          "temp_max": 23.9,
          "temp_min": 13.9,
          "weather": "sun",
          "wind": 3.6
         },
         {
          "Date new": "2014-07-05T00:00:00",
          "precipitation": 0,
          "temp_max": 24.4,
          "temp_min": 13.3,
          "weather": "fog",
          "wind": 2.2
         },
         {
          "Date new": "2014-07-06T00:00:00",
          "precipitation": 0,
          "temp_max": 28.9,
          "temp_min": 15,
          "weather": "sun",
          "wind": 3
         },
         {
          "Date new": "2014-07-07T00:00:00",
          "precipitation": 0,
          "temp_max": 27.2,
          "temp_min": 17.8,
          "weather": "fog",
          "wind": 4.1
         },
         {
          "Date new": "2014-07-08T00:00:00",
          "precipitation": 0,
          "temp_max": 30,
          "temp_min": 15.6,
          "weather": "sun",
          "wind": 3.5
         },
         {
          "Date new": "2014-07-09T00:00:00",
          "precipitation": 0,
          "temp_max": 26.7,
          "temp_min": 13.9,
          "weather": "sun",
          "wind": 2.3
         },
         {
          "Date new": "2014-07-10T00:00:00",
          "precipitation": 0,
          "temp_max": 28.9,
          "temp_min": 12.8,
          "weather": "fog",
          "wind": 2.2
         },
         {
          "Date new": "2014-07-11T00:00:00",
          "precipitation": 0,
          "temp_max": 31.1,
          "temp_min": 15,
          "weather": "sun",
          "wind": 2.2
         },
         {
          "Date new": "2014-07-12T00:00:00",
          "precipitation": 0,
          "temp_max": 32.2,
          "temp_min": 16.7,
          "weather": "sun",
          "wind": 2.2
         },
         {
          "Date new": "2014-07-13T00:00:00",
          "precipitation": 0,
          "temp_max": 29.4,
          "temp_min": 15,
          "weather": "rain",
          "wind": 2.6
         },
         {
          "Date new": "2014-07-14T00:00:00",
          "precipitation": 0,
          "temp_max": 27.8,
          "temp_min": 15,
          "weather": "sun",
          "wind": 2.8
         },
         {
          "Date new": "2014-07-15T00:00:00",
          "precipitation": 0,
          "temp_max": 31.1,
          "temp_min": 13.9,
          "weather": "sun",
          "wind": 2.3
         },
         {
          "Date new": "2014-07-16T00:00:00",
          "precipitation": 0,
          "temp_max": 31.1,
          "temp_min": 14.4,
          "weather": "sun",
          "wind": 2.4
         },
         {
          "Date new": "2014-07-17T00:00:00",
          "precipitation": 0,
          "temp_max": 26.7,
          "temp_min": 13.9,
          "weather": "sun",
          "wind": 3.7
         },
         {
          "Date new": "2014-07-18T00:00:00",
          "precipitation": 0,
          "temp_max": 23.9,
          "temp_min": 11.7,
          "weather": "sun",
          "wind": 2.8
         },
         {
          "Date new": "2014-07-19T00:00:00",
          "precipitation": 0,
          "temp_max": 25.6,
          "temp_min": 15,
          "weather": "fog",
          "wind": 5.4
         },
         {
          "Date new": "2014-07-20T00:00:00",
          "precipitation": 0,
          "temp_max": 19.4,
          "temp_min": 14.4,
          "weather": "sun",
          "wind": 2.8
         },
         {
          "Date new": "2014-07-21T00:00:00",
          "precipitation": 0,
          "temp_max": 23.9,
          "temp_min": 13.3,
          "weather": "sun",
          "wind": 2.2
         },
         {
          "Date new": "2014-07-22T00:00:00",
          "precipitation": 0.3,
          "temp_max": 21.1,
          "temp_min": 13.3,
          "weather": "fog",
          "wind": 1.1
         },
         {
          "Date new": "2014-07-23T00:00:00",
          "precipitation": 19.3,
          "temp_max": 18.9,
          "temp_min": 13.3,
          "weather": "sun",
          "wind": 3.3
         },
         {
          "Date new": "2014-07-24T00:00:00",
          "precipitation": 0,
          "temp_max": 20.6,
          "temp_min": 12.8,
          "weather": "sun",
          "wind": 4.7
         },
         {
          "Date new": "2014-07-25T00:00:00",
          "precipitation": 0,
          "temp_max": 22.8,
          "temp_min": 12.2,
          "weather": "sun",
          "wind": 2.7
         },
         {
          "Date new": "2014-07-26T00:00:00",
          "precipitation": 0,
          "temp_max": 26.1,
          "temp_min": 13.3,
          "weather": "sun",
          "wind": 3.6
         },
         {
          "Date new": "2014-07-27T00:00:00",
          "precipitation": 0,
          "temp_max": 28.3,
          "temp_min": 15,
          "weather": "sun",
          "wind": 4.1
         },
         {
          "Date new": "2014-07-28T00:00:00",
          "precipitation": 0,
          "temp_max": 30.6,
          "temp_min": 15,
          "weather": "sun",
          "wind": 3.7
         },
         {
          "Date new": "2014-07-29T00:00:00",
          "precipitation": 0,
          "temp_max": 30,
          "temp_min": 15.6,
          "weather": "sun",
          "wind": 2.8
         },
         {
          "Date new": "2014-07-30T00:00:00",
          "precipitation": 0,
          "temp_max": 29.4,
          "temp_min": 14.4,
          "weather": "sun",
          "wind": 3.4
         },
         {
          "Date new": "2014-07-31T00:00:00",
          "precipitation": 0,
          "temp_max": 30.6,
          "temp_min": 17.8,
          "weather": "sun",
          "wind": 4.1
         },
         {
          "Date new": "2014-08-01T00:00:00",
          "precipitation": 0,
          "temp_max": 28.9,
          "temp_min": 15,
          "weather": "sun",
          "wind": 3.3
         },
         {
          "Date new": "2014-08-02T00:00:00",
          "precipitation": 0.5,
          "temp_max": 29.4,
          "temp_min": 15.6,
          "weather": "sun",
          "wind": 1.7
         },
         {
          "Date new": "2014-08-03T00:00:00",
          "precipitation": 0,
          "temp_max": 31.7,
          "temp_min": 14.4,
          "weather": "sun",
          "wind": 2.6
         },
         {
          "Date new": "2014-08-04T00:00:00",
          "precipitation": 0,
          "temp_max": 32.8,
          "temp_min": 16.1,
          "weather": "sun",
          "wind": 2.6
         },
         {
          "Date new": "2014-08-05T00:00:00",
          "precipitation": 0,
          "temp_max": 25,
          "temp_min": 13.9,
          "weather": "sun",
          "wind": 2.7
         },
         {
          "Date new": "2014-08-06T00:00:00",
          "precipitation": 0,
          "temp_max": 26.1,
          "temp_min": 15,
          "weather": "fog",
          "wind": 2.2
         },
         {
          "Date new": "2014-08-07T00:00:00",
          "precipitation": 0,
          "temp_max": 25.6,
          "temp_min": 13.3,
          "weather": "fog",
          "wind": 2.4
         },
         {
          "Date new": "2014-08-08T00:00:00",
          "precipitation": 0,
          "temp_max": 25.6,
          "temp_min": 13.3,
          "weather": "sun",
          "wind": 2.9
         },
         {
          "Date new": "2014-08-09T00:00:00",
          "precipitation": 0,
          "temp_max": 27.2,
          "temp_min": 15.6,
          "weather": "sun",
          "wind": 4.1
         },
         {
          "Date new": "2014-08-10T00:00:00",
          "precipitation": 0,
          "temp_max": 30.6,
          "temp_min": 13.9,
          "weather": "sun",
          "wind": 3.4
         },
         {
          "Date new": "2014-08-11T00:00:00",
          "precipitation": 0.5,
          "temp_max": 35.6,
          "temp_min": 17.8,
          "weather": "rain",
          "wind": 2.6
         },
         {
          "Date new": "2014-08-12T00:00:00",
          "precipitation": 12.7,
          "temp_max": 27.2,
          "temp_min": 17.2,
          "weather": "fog",
          "wind": 3.1
         },
         {
          "Date new": "2014-08-13T00:00:00",
          "precipitation": 21.6,
          "temp_max": 23.3,
          "temp_min": 15,
          "weather": "fog",
          "wind": 2.7
         },
         {
          "Date new": "2014-08-14T00:00:00",
          "precipitation": 0,
          "temp_max": 21.1,
          "temp_min": 17.2,
          "weather": "sun",
          "wind": 0.6
         },
         {
          "Date new": "2014-08-15T00:00:00",
          "precipitation": 1,
          "temp_max": 24.4,
          "temp_min": 16.7,
          "weather": "fog",
          "wind": 1.5
         },
         {
          "Date new": "2014-08-16T00:00:00",
          "precipitation": 0,
          "temp_max": 25.6,
          "temp_min": 15.6,
          "weather": "sun",
          "wind": 2.2
         },
         {
          "Date new": "2014-08-17T00:00:00",
          "precipitation": 0,
          "temp_max": 27.8,
          "temp_min": 15,
          "weather": "sun",
          "wind": 2.8
         },
         {
          "Date new": "2014-08-18T00:00:00",
          "precipitation": 0,
          "temp_max": 29.4,
          "temp_min": 15.6,
          "weather": "sun",
          "wind": 3.3
         },
         {
          "Date new": "2014-08-19T00:00:00",
          "precipitation": 0,
          "temp_max": 27.2,
          "temp_min": 15.6,
          "weather": "sun",
          "wind": 2.4
         },
         {
          "Date new": "2014-08-20T00:00:00",
          "precipitation": 0,
          "temp_max": 21.7,
          "temp_min": 13.9,
          "weather": "sun",
          "wind": 3.6
         },
         {
          "Date new": "2014-08-21T00:00:00",
          "precipitation": 0,
          "temp_max": 21.1,
          "temp_min": 11.1,
          "weather": "sun",
          "wind": 1.7
         },
         {
          "Date new": "2014-08-22T00:00:00",
          "precipitation": 0,
          "temp_max": 23.9,
          "temp_min": 13.3,
          "weather": "sun",
          "wind": 2.9
         },
         {
          "Date new": "2014-08-23T00:00:00",
          "precipitation": 0,
          "temp_max": 27.8,
          "temp_min": 13.9,
          "weather": "sun",
          "wind": 2
         },
         {
          "Date new": "2014-08-24T00:00:00",
          "precipitation": 0,
          "temp_max": 25,
          "temp_min": 13.3,
          "weather": "sun",
          "wind": 2.3
         },
         {
          "Date new": "2014-08-25T00:00:00",
          "precipitation": 0,
          "temp_max": 28.9,
          "temp_min": 14.4,
          "weather": "sun",
          "wind": 2
         },
         {
          "Date new": "2014-08-26T00:00:00",
          "precipitation": 0,
          "temp_max": 31.1,
          "temp_min": 15.6,
          "weather": "sun",
          "wind": 1.8
         },
         {
          "Date new": "2014-08-27T00:00:00",
          "precipitation": 0,
          "temp_max": 28.9,
          "temp_min": 16.1,
          "weather": "sun",
          "wind": 1.6
         },
         {
          "Date new": "2014-08-28T00:00:00",
          "precipitation": 0,
          "temp_max": 23.3,
          "temp_min": 14.4,
          "weather": "sun",
          "wind": 2.3
         },
         {
          "Date new": "2014-08-29T00:00:00",
          "precipitation": 0,
          "temp_max": 22.8,
          "temp_min": 15,
          "weather": "sun",
          "wind": 3.4
         },
         {
          "Date new": "2014-08-30T00:00:00",
          "precipitation": 8.4,
          "temp_max": 17.8,
          "temp_min": 15,
          "weather": "fog",
          "wind": 2.2
         },
         {
          "Date new": "2014-08-31T00:00:00",
          "precipitation": 1.3,
          "temp_max": 21.1,
          "temp_min": 13.9,
          "weather": "fog",
          "wind": 1.9
         },
         {
          "Date new": "2014-09-01T00:00:00",
          "precipitation": 0,
          "temp_max": 23.3,
          "temp_min": 12.8,
          "weather": "sun",
          "wind": 2.5
         },
         {
          "Date new": "2014-09-02T00:00:00",
          "precipitation": 3,
          "temp_max": 20,
          "temp_min": 13.9,
          "weather": "fog",
          "wind": 4.3
         },
         {
          "Date new": "2014-09-03T00:00:00",
          "precipitation": 0,
          "temp_max": 20.6,
          "temp_min": 12.8,
          "weather": "sun",
          "wind": 2.7
         },
         {
          "Date new": "2014-09-04T00:00:00",
          "precipitation": 0,
          "temp_max": 23.9,
          "temp_min": 11.1,
          "weather": "fog",
          "wind": 3.1
         },
         {
          "Date new": "2014-09-05T00:00:00",
          "precipitation": 0,
          "temp_max": 27.8,
          "temp_min": 13.9,
          "weather": "fog",
          "wind": 6.5
         },
         {
          "Date new": "2014-09-06T00:00:00",
          "precipitation": 0,
          "temp_max": 32.2,
          "temp_min": 15,
          "weather": "sun",
          "wind": 2.9
         },
         {
          "Date new": "2014-09-07T00:00:00",
          "precipitation": 0,
          "temp_max": 28.3,
          "temp_min": 13.3,
          "weather": "sun",
          "wind": 2.1
         },
         {
          "Date new": "2014-09-08T00:00:00",
          "precipitation": 0,
          "temp_max": 21.1,
          "temp_min": 13.3,
          "weather": "sun",
          "wind": 2.8
         },
         {
          "Date new": "2014-09-09T00:00:00",
          "precipitation": 0,
          "temp_max": 21.7,
          "temp_min": 13.3,
          "weather": "sun",
          "wind": 2.3
         },
         {
          "Date new": "2014-09-10T00:00:00",
          "precipitation": 0,
          "temp_max": 22.2,
          "temp_min": 12.2,
          "weather": "sun",
          "wind": 3.9
         },
         {
          "Date new": "2014-09-11T00:00:00",
          "precipitation": 0,
          "temp_max": 24.4,
          "temp_min": 12.8,
          "weather": "sun",
          "wind": 5.3
         },
         {
          "Date new": "2014-09-12T00:00:00",
          "precipitation": 0,
          "temp_max": 24.4,
          "temp_min": 12.8,
          "weather": "sun",
          "wind": 5.9
         },
         {
          "Date new": "2014-09-13T00:00:00",
          "precipitation": 0,
          "temp_max": 28.3,
          "temp_min": 10,
          "weather": "sun",
          "wind": 4.2
         },
         {
          "Date new": "2014-09-14T00:00:00",
          "precipitation": 0,
          "temp_max": 30,
          "temp_min": 11.7,
          "weather": "sun",
          "wind": 1.8
         },
         {
          "Date new": "2014-09-15T00:00:00",
          "precipitation": 0,
          "temp_max": 30.6,
          "temp_min": 12.2,
          "weather": "sun",
          "wind": 1.2
         },
         {
          "Date new": "2014-09-16T00:00:00",
          "precipitation": 0,
          "temp_max": 22.2,
          "temp_min": 13.9,
          "weather": "sun",
          "wind": 2.8
         },
         {
          "Date new": "2014-09-17T00:00:00",
          "precipitation": 0.5,
          "temp_max": 22.8,
          "temp_min": 14.4,
          "weather": "sun",
          "wind": 2.3
         },
         {
          "Date new": "2014-09-18T00:00:00",
          "precipitation": 0.3,
          "temp_max": 19.4,
          "temp_min": 15,
          "weather": "fog",
          "wind": 3.1
         },
         {
          "Date new": "2014-09-19T00:00:00",
          "precipitation": 0,
          "temp_max": 23.9,
          "temp_min": 16.1,
          "weather": "sun",
          "wind": 2.8
         },
         {
          "Date new": "2014-09-20T00:00:00",
          "precipitation": 0,
          "temp_max": 24.4,
          "temp_min": 14.4,
          "weather": "fog",
          "wind": 4.4
         },
         {
          "Date new": "2014-09-21T00:00:00",
          "precipitation": 0,
          "temp_max": 26.1,
          "temp_min": 12.8,
          "weather": "sun",
          "wind": 3
         },
         {
          "Date new": "2014-09-22T00:00:00",
          "precipitation": 0.3,
          "temp_max": 22.2,
          "temp_min": 15,
          "weather": "fog",
          "wind": 2.1
         },
         {
          "Date new": "2014-09-23T00:00:00",
          "precipitation": 18.3,
          "temp_max": 18.9,
          "temp_min": 14.4,
          "weather": "fog",
          "wind": 2.5
         },
         {
          "Date new": "2014-09-24T00:00:00",
          "precipitation": 20.3,
          "temp_max": 18.9,
          "temp_min": 14.4,
          "weather": "fog",
          "wind": 2.7
         },
         {
          "Date new": "2014-09-25T00:00:00",
          "precipitation": 4.3,
          "temp_max": 21.7,
          "temp_min": 14.4,
          "weather": "fog",
          "wind": 2.5
         },
         {
          "Date new": "2014-09-26T00:00:00",
          "precipitation": 8.9,
          "temp_max": 20,
          "temp_min": 13.9,
          "weather": "fog",
          "wind": 3.3
         },
         {
          "Date new": "2014-09-27T00:00:00",
          "precipitation": 0,
          "temp_max": 20.6,
          "temp_min": 11.7,
          "weather": "fog",
          "wind": 3.2
         },
         {
          "Date new": "2014-09-28T00:00:00",
          "precipitation": 0,
          "temp_max": 18.9,
          "temp_min": 12.2,
          "weather": "fog",
          "wind": 2
         },
         {
          "Date new": "2014-09-29T00:00:00",
          "precipitation": 0.8,
          "temp_max": 16.7,
          "temp_min": 11.1,
          "weather": "fog",
          "wind": 3.5
         },
         {
          "Date new": "2014-09-30T00:00:00",
          "precipitation": 0,
          "temp_max": 19.4,
          "temp_min": 12.2,
          "weather": "sun",
          "wind": 2.6
         },
         {
          "Date new": "2014-10-01T00:00:00",
          "precipitation": 0,
          "temp_max": 18.3,
          "temp_min": 11.1,
          "weather": "sun",
          "wind": 2.1
         },
         {
          "Date new": "2014-10-02T00:00:00",
          "precipitation": 0,
          "temp_max": 19.4,
          "temp_min": 10,
          "weather": "sun",
          "wind": 2
         },
         {
          "Date new": "2014-10-03T00:00:00",
          "precipitation": 0,
          "temp_max": 22.2,
          "temp_min": 8.9,
          "weather": "sun",
          "wind": 1
         },
         {
          "Date new": "2014-10-04T00:00:00",
          "precipitation": 0,
          "temp_max": 21.7,
          "temp_min": 12.2,
          "weather": "sun",
          "wind": 1.2
         },
         {
          "Date new": "2014-10-05T00:00:00",
          "precipitation": 0,
          "temp_max": 23.9,
          "temp_min": 11.7,
          "weather": "fog",
          "wind": 1.4
         },
         {
          "Date new": "2014-10-06T00:00:00",
          "precipitation": 0,
          "temp_max": 25.6,
          "temp_min": 13.3,
          "weather": "fog",
          "wind": 2.5
         },
         {
          "Date new": "2014-10-07T00:00:00",
          "precipitation": 0,
          "temp_max": 18.9,
          "temp_min": 13.9,
          "weather": "fog",
          "wind": 1
         },
         {
          "Date new": "2014-10-08T00:00:00",
          "precipitation": 0,
          "temp_max": 20.6,
          "temp_min": 12.8,
          "weather": "fog",
          "wind": 1.8
         },
         {
          "Date new": "2014-10-09T00:00:00",
          "precipitation": 0,
          "temp_max": 17.2,
          "temp_min": 11.1,
          "weather": "fog",
          "wind": 1
         },
         {
          "Date new": "2014-10-10T00:00:00",
          "precipitation": 0.3,
          "temp_max": 18.3,
          "temp_min": 10,
          "weather": "fog",
          "wind": 3.8
         },
         {
          "Date new": "2014-10-11T00:00:00",
          "precipitation": 7.4,
          "temp_max": 18.3,
          "temp_min": 11.7,
          "weather": "rain",
          "wind": 3.5
         },
         {
          "Date new": "2014-10-12T00:00:00",
          "precipitation": 0,
          "temp_max": 17.8,
          "temp_min": 11.7,
          "weather": "sun",
          "wind": 2.1
         },
         {
          "Date new": "2014-10-13T00:00:00",
          "precipitation": 7.6,
          "temp_max": 21.1,
          "temp_min": 10,
          "weather": "fog",
          "wind": 3.1
         },
         {
          "Date new": "2014-10-14T00:00:00",
          "precipitation": 7.1,
          "temp_max": 16.7,
          "temp_min": 11.7,
          "weather": "fog",
          "wind": 2.2
         },
         {
          "Date new": "2014-10-15T00:00:00",
          "precipitation": 8.6,
          "temp_max": 16.1,
          "temp_min": 11.7,
          "weather": "fog",
          "wind": 4.7
         },
         {
          "Date new": "2014-10-16T00:00:00",
          "precipitation": 0,
          "temp_max": 20.6,
          "temp_min": 11.1,
          "weather": "sun",
          "wind": 3.3
         },
         {
          "Date new": "2014-10-17T00:00:00",
          "precipitation": 3.3,
          "temp_max": 16.7,
          "temp_min": 11.7,
          "weather": "fog",
          "wind": 3
         },
         {
          "Date new": "2014-10-18T00:00:00",
          "precipitation": 15,
          "temp_max": 19.4,
          "temp_min": 13.9,
          "weather": "fog",
          "wind": 1.9
         },
         {
          "Date new": "2014-10-19T00:00:00",
          "precipitation": 0,
          "temp_max": 22.2,
          "temp_min": 12.8,
          "weather": "sun",
          "wind": 3.2
         },
         {
          "Date new": "2014-10-20T00:00:00",
          "precipitation": 11.7,
          "temp_max": 16.1,
          "temp_min": 12.2,
          "weather": "fog",
          "wind": 3.1
         },
         {
          "Date new": "2014-10-21T00:00:00",
          "precipitation": 1,
          "temp_max": 16.1,
          "temp_min": 11.7,
          "weather": "sun",
          "wind": 4.7
         },
         {
          "Date new": "2014-10-22T00:00:00",
          "precipitation": 32,
          "temp_max": 15.6,
          "temp_min": 11.7,
          "weather": "fog",
          "wind": 5
         },
         {
          "Date new": "2014-10-23T00:00:00",
          "precipitation": 9.4,
          "temp_max": 14.4,
          "temp_min": 8.3,
          "weather": "sun",
          "wind": 4.6
         },
         {
          "Date new": "2014-10-24T00:00:00",
          "precipitation": 4.1,
          "temp_max": 14.4,
          "temp_min": 8.9,
          "weather": "sun",
          "wind": 3.2
         },
         {
          "Date new": "2014-10-25T00:00:00",
          "precipitation": 6.1,
          "temp_max": 16.7,
          "temp_min": 8.3,
          "weather": "fog",
          "wind": 5.4
         },
         {
          "Date new": "2014-10-26T00:00:00",
          "precipitation": 1.5,
          "temp_max": 12.8,
          "temp_min": 7.8,
          "weather": "fog",
          "wind": 5
         },
         {
          "Date new": "2014-10-27T00:00:00",
          "precipitation": 0.8,
          "temp_max": 15.6,
          "temp_min": 6.7,
          "weather": "sun",
          "wind": 2.4
         },
         {
          "Date new": "2014-10-28T00:00:00",
          "precipitation": 12.7,
          "temp_max": 15,
          "temp_min": 9.4,
          "weather": "fog",
          "wind": 3.9
         },
         {
          "Date new": "2014-10-29T00:00:00",
          "precipitation": 0.5,
          "temp_max": 16.7,
          "temp_min": 11.7,
          "weather": "fog",
          "wind": 3.1
         },
         {
          "Date new": "2014-10-30T00:00:00",
          "precipitation": 25.4,
          "temp_max": 15.6,
          "temp_min": 11.1,
          "weather": "fog",
          "wind": 3.2
         },
         {
          "Date new": "2014-10-31T00:00:00",
          "precipitation": 17,
          "temp_max": 12.8,
          "temp_min": 8.3,
          "weather": "fog",
          "wind": 2
         },
         {
          "Date new": "2014-11-01T00:00:00",
          "precipitation": 0,
          "temp_max": 11.1,
          "temp_min": 7.2,
          "weather": "fog",
          "wind": 1.2
         },
         {
          "Date new": "2014-11-02T00:00:00",
          "precipitation": 1.8,
          "temp_max": 13.3,
          "temp_min": 7.2,
          "weather": "fog",
          "wind": 2.9
         },
         {
          "Date new": "2014-11-03T00:00:00",
          "precipitation": 10.9,
          "temp_max": 13.9,
          "temp_min": 11.1,
          "weather": "fog",
          "wind": 4.8
         },
         {
          "Date new": "2014-11-04T00:00:00",
          "precipitation": 4.1,
          "temp_max": 14.4,
          "temp_min": 10.6,
          "weather": "fog",
          "wind": 3.3
         },
         {
          "Date new": "2014-11-05T00:00:00",
          "precipitation": 4.8,
          "temp_max": 15,
          "temp_min": 10.6,
          "weather": "fog",
          "wind": 2.1
         },
         {
          "Date new": "2014-11-06T00:00:00",
          "precipitation": 4.1,
          "temp_max": 16.7,
          "temp_min": 10.6,
          "weather": "fog",
          "wind": 6.7
         },
         {
          "Date new": "2014-11-07T00:00:00",
          "precipitation": 0,
          "temp_max": 14.4,
          "temp_min": 7.2,
          "weather": "sun",
          "wind": 2.3
         },
         {
          "Date new": "2014-11-08T00:00:00",
          "precipitation": 0,
          "temp_max": 12.8,
          "temp_min": 3.9,
          "weather": "fog",
          "wind": 0.8
         },
         {
          "Date new": "2014-11-09T00:00:00",
          "precipitation": 5.1,
          "temp_max": 13.3,
          "temp_min": 7.8,
          "weather": "fog",
          "wind": 3
         },
         {
          "Date new": "2014-11-10T00:00:00",
          "precipitation": 0,
          "temp_max": 11.1,
          "temp_min": 5.6,
          "weather": "sun",
          "wind": 3.9
         },
         {
          "Date new": "2014-11-11T00:00:00",
          "precipitation": 0,
          "temp_max": 7.8,
          "temp_min": 1.1,
          "weather": "sun",
          "wind": 7.7
         },
         {
          "Date new": "2014-11-12T00:00:00",
          "precipitation": 0,
          "temp_max": 6.7,
          "temp_min": 0,
          "weather": "sun",
          "wind": 7.6
         },
         {
          "Date new": "2014-11-13T00:00:00",
          "precipitation": 0,
          "temp_max": 7.2,
          "temp_min": 0.6,
          "weather": "sun",
          "wind": 4.7
         },
         {
          "Date new": "2014-11-14T00:00:00",
          "precipitation": 0,
          "temp_max": 7.2,
          "temp_min": -2.1,
          "weather": "sun",
          "wind": 4.5
         },
         {
          "Date new": "2014-11-15T00:00:00",
          "precipitation": 0,
          "temp_max": 8.3,
          "temp_min": -1.6,
          "weather": "sun",
          "wind": 4.2
         },
         {
          "Date new": "2014-11-16T00:00:00",
          "precipitation": 0,
          "temp_max": 9.4,
          "temp_min": -2.1,
          "weather": "sun",
          "wind": 4.2
         },
         {
          "Date new": "2014-11-17T00:00:00",
          "precipitation": 0,
          "temp_max": 10.6,
          "temp_min": -2.1,
          "weather": "sun",
          "wind": 1.9
         },
         {
          "Date new": "2014-11-18T00:00:00",
          "precipitation": 0,
          "temp_max": 7.2,
          "temp_min": -0.5,
          "weather": "sun",
          "wind": 0.9
         },
         {
          "Date new": "2014-11-19T00:00:00",
          "precipitation": 0,
          "temp_max": 11.1,
          "temp_min": 2.2,
          "weather": "sun",
          "wind": 1.9
         },
         {
          "Date new": "2014-11-20T00:00:00",
          "precipitation": 3.6,
          "temp_max": 11.1,
          "temp_min": 5.6,
          "weather": "fog",
          "wind": 2.1
         },
         {
          "Date new": "2014-11-21T00:00:00",
          "precipitation": 15.2,
          "temp_max": 11.1,
          "temp_min": 8.3,
          "weather": "fog",
          "wind": 4.7
         },
         {
          "Date new": "2014-11-22T00:00:00",
          "precipitation": 0.5,
          "temp_max": 9.4,
          "temp_min": 6.7,
          "weather": "sun",
          "wind": 4.7
         },
         {
          "Date new": "2014-11-23T00:00:00",
          "precipitation": 11.9,
          "temp_max": 12.8,
          "temp_min": 5.6,
          "weather": "fog",
          "wind": 5.1
         },
         {
          "Date new": "2014-11-24T00:00:00",
          "precipitation": 1.3,
          "temp_max": 11.7,
          "temp_min": 4.4,
          "weather": "fog",
          "wind": 3.8
         },
         {
          "Date new": "2014-11-25T00:00:00",
          "precipitation": 18.3,
          "temp_max": 13.9,
          "temp_min": 9.4,
          "weather": "fog",
          "wind": 4.5
         },
         {
          "Date new": "2014-11-26T00:00:00",
          "precipitation": 0.3,
          "temp_max": 15,
          "temp_min": 12.2,
          "weather": "sun",
          "wind": 3.9
         },
         {
          "Date new": "2014-11-27T00:00:00",
          "precipitation": 3.3,
          "temp_max": 14.4,
          "temp_min": 11.7,
          "weather": "fog",
          "wind": 6.6
         },
         {
          "Date new": "2014-11-28T00:00:00",
          "precipitation": 34.3,
          "temp_max": 12.8,
          "temp_min": 3.3,
          "weather": "fog",
          "wind": 5.8
         },
         {
          "Date new": "2014-11-29T00:00:00",
          "precipitation": 3.6,
          "temp_max": 4.4,
          "temp_min": -4.3,
          "weather": "fog",
          "wind": 5.3
         },
         {
          "Date new": "2014-11-30T00:00:00",
          "precipitation": 0,
          "temp_max": 2.8,
          "temp_min": -4.9,
          "weather": "sun",
          "wind": 4.4
         },
         {
          "Date new": "2014-12-01T00:00:00",
          "precipitation": 0,
          "temp_max": 4.4,
          "temp_min": -3.2,
          "weather": "sun",
          "wind": 2.2
         },
         {
          "Date new": "2014-12-02T00:00:00",
          "precipitation": 0,
          "temp_max": 5.6,
          "temp_min": -3.2,
          "weather": "fog",
          "wind": 5.7
         },
         {
          "Date new": "2014-12-03T00:00:00",
          "precipitation": 0,
          "temp_max": 10,
          "temp_min": 0,
          "weather": "sun",
          "wind": 3.6
         },
         {
          "Date new": "2014-12-04T00:00:00",
          "precipitation": 0.8,
          "temp_max": 8.3,
          "temp_min": 3.9,
          "weather": "fog",
          "wind": 1.1
         },
         {
          "Date new": "2014-12-05T00:00:00",
          "precipitation": 3,
          "temp_max": 12.8,
          "temp_min": 6.7,
          "weather": "fog",
          "wind": 3.1
         },
         {
          "Date new": "2014-12-06T00:00:00",
          "precipitation": 7.4,
          "temp_max": 11.7,
          "temp_min": 7.8,
          "weather": "fog",
          "wind": 3.6
         },
         {
          "Date new": "2014-12-07T00:00:00",
          "precipitation": 0,
          "temp_max": 14.4,
          "temp_min": 6.1,
          "weather": "sun",
          "wind": 2.8
         },
         {
          "Date new": "2014-12-08T00:00:00",
          "precipitation": 9.1,
          "temp_max": 14.4,
          "temp_min": 8.9,
          "weather": "fog",
          "wind": 4.2
         },
         {
          "Date new": "2014-12-09T00:00:00",
          "precipitation": 9.9,
          "temp_max": 16.1,
          "temp_min": 10.6,
          "weather": "fog",
          "wind": 5.1
         },
         {
          "Date new": "2014-12-10T00:00:00",
          "precipitation": 13,
          "temp_max": 18.9,
          "temp_min": 10,
          "weather": "fog",
          "wind": 6.7
         },
         {
          "Date new": "2014-12-11T00:00:00",
          "precipitation": 6.9,
          "temp_max": 14.4,
          "temp_min": 8.3,
          "weather": "fog",
          "wind": 6.4
         },
         {
          "Date new": "2014-12-12T00:00:00",
          "precipitation": 0,
          "temp_max": 11.1,
          "temp_min": 7.2,
          "weather": "sun",
          "wind": 3.7
         },
         {
          "Date new": "2014-12-13T00:00:00",
          "precipitation": 0,
          "temp_max": 10,
          "temp_min": 3.9,
          "weather": "fog",
          "wind": 1.1
         },
         {
          "Date new": "2014-12-14T00:00:00",
          "precipitation": 0,
          "temp_max": 12.8,
          "temp_min": 1.7,
          "weather": "fog",
          "wind": 3.5
         },
         {
          "Date new": "2014-12-15T00:00:00",
          "precipitation": 0,
          "temp_max": 12.2,
          "temp_min": 6.7,
          "weather": "sun",
          "wind": 5.9
         },
         {
          "Date new": "2014-12-16T00:00:00",
          "precipitation": 0,
          "temp_max": 10,
          "temp_min": 8.3,
          "weather": "sun",
          "wind": 4
         },
         {
          "Date new": "2014-12-17T00:00:00",
          "precipitation": 2.8,
          "temp_max": 8.9,
          "temp_min": 6.1,
          "weather": "fog",
          "wind": 1.6
         },
         {
          "Date new": "2014-12-18T00:00:00",
          "precipitation": 13,
          "temp_max": 9.4,
          "temp_min": 6.7,
          "weather": "fog",
          "wind": 3.1
         },
         {
          "Date new": "2014-12-19T00:00:00",
          "precipitation": 3,
          "temp_max": 11.1,
          "temp_min": 7.2,
          "weather": "sun",
          "wind": 4.3
         },
         {
          "Date new": "2014-12-20T00:00:00",
          "precipitation": 19.6,
          "temp_max": 12.8,
          "temp_min": 6.7,
          "weather": "fog",
          "wind": 5.5
         },
         {
          "Date new": "2014-12-21T00:00:00",
          "precipitation": 0,
          "temp_max": 12.8,
          "temp_min": 10,
          "weather": "sun",
          "wind": 5.2
         },
         {
          "Date new": "2014-12-22T00:00:00",
          "precipitation": 0,
          "temp_max": 10.6,
          "temp_min": 6.1,
          "weather": "sun",
          "wind": 1.5
         },
         {
          "Date new": "2014-12-23T00:00:00",
          "precipitation": 20.6,
          "temp_max": 12.2,
          "temp_min": 5,
          "weather": "fog",
          "wind": 3.8
         },
         {
          "Date new": "2014-12-24T00:00:00",
          "precipitation": 5.3,
          "temp_max": 7.2,
          "temp_min": 3.9,
          "weather": "fog",
          "wind": 1.8
         },
         {
          "Date new": "2014-12-25T00:00:00",
          "precipitation": 0,
          "temp_max": 7.8,
          "temp_min": 2.8,
          "weather": "fog",
          "wind": 2.2
         },
         {
          "Date new": "2014-12-26T00:00:00",
          "precipitation": 0,
          "temp_max": 5.6,
          "temp_min": 1.7,
          "weather": "fog",
          "wind": 1.2
         },
         {
          "Date new": "2014-12-27T00:00:00",
          "precipitation": 3.3,
          "temp_max": 9.4,
          "temp_min": 4.4,
          "weather": "fog",
          "wind": 4.9
         },
         {
          "Date new": "2014-12-28T00:00:00",
          "precipitation": 4.1,
          "temp_max": 6.7,
          "temp_min": 2.8,
          "weather": "fog",
          "wind": 1.8
         },
         {
          "Date new": "2014-12-29T00:00:00",
          "precipitation": 0,
          "temp_max": 6.1,
          "temp_min": 0.6,
          "weather": "fog",
          "wind": 4.3
         },
         {
          "Date new": "2014-12-30T00:00:00",
          "precipitation": 0,
          "temp_max": 3.3,
          "temp_min": -2.1,
          "weather": "sun",
          "wind": 3.6
         },
         {
          "Date new": "2014-12-31T00:00:00",
          "precipitation": 0,
          "temp_max": 3.3,
          "temp_min": -2.7,
          "weather": "sun",
          "wind": 3
         },
         {
          "Date new": "2015-01-01T00:00:00",
          "precipitation": 0,
          "temp_max": 5.6,
          "temp_min": -3.2,
          "weather": "sun",
          "wind": 1.2
         },
         {
          "Date new": "2015-01-02T00:00:00",
          "precipitation": 1.5,
          "temp_max": 5.6,
          "temp_min": 0,
          "weather": "fog",
          "wind": 2.3
         },
         {
          "Date new": "2015-01-03T00:00:00",
          "precipitation": 0,
          "temp_max": 5,
          "temp_min": 1.7,
          "weather": "fog",
          "wind": 1.7
         },
         {
          "Date new": "2015-01-04T00:00:00",
          "precipitation": 10.2,
          "temp_max": 10.6,
          "temp_min": 3.3,
          "weather": "fog",
          "wind": 4.5
         },
         {
          "Date new": "2015-01-05T00:00:00",
          "precipitation": 8.1,
          "temp_max": 12.2,
          "temp_min": 9.4,
          "weather": "fog",
          "wind": 6.4
         },
         {
          "Date new": "2015-01-06T00:00:00",
          "precipitation": 0,
          "temp_max": 12.2,
          "temp_min": 6.1,
          "weather": "fog",
          "wind": 1.3
         },
         {
          "Date new": "2015-01-07T00:00:00",
          "precipitation": 0,
          "temp_max": 7.8,
          "temp_min": 5.6,
          "weather": "fog",
          "wind": 1.6
         },
         {
          "Date new": "2015-01-08T00:00:00",
          "precipitation": 0,
          "temp_max": 7.8,
          "temp_min": 1.7,
          "weather": "fog",
          "wind": 2.6
         },
         {
          "Date new": "2015-01-09T00:00:00",
          "precipitation": 0.3,
          "temp_max": 10,
          "temp_min": 3.3,
          "weather": "fog",
          "wind": 0.6
         },
         {
          "Date new": "2015-01-10T00:00:00",
          "precipitation": 5.8,
          "temp_max": 7.8,
          "temp_min": 6.1,
          "weather": "fog",
          "wind": 0.5
         },
         {
          "Date new": "2015-01-11T00:00:00",
          "precipitation": 1.5,
          "temp_max": 9.4,
          "temp_min": 7.2,
          "weather": "fog",
          "wind": 1.1
         },
         {
          "Date new": "2015-01-12T00:00:00",
          "precipitation": 0,
          "temp_max": 11.1,
          "temp_min": 4.4,
          "weather": "fog",
          "wind": 1.6
         },
         {
          "Date new": "2015-01-13T00:00:00",
          "precipitation": 0,
          "temp_max": 9.4,
          "temp_min": 2.8,
          "weather": "fog",
          "wind": 2.7
         },
         {
          "Date new": "2015-01-14T00:00:00",
          "precipitation": 0,
          "temp_max": 6.1,
          "temp_min": 0.6,
          "weather": "fog",
          "wind": 2.8
         },
         {
          "Date new": "2015-01-15T00:00:00",
          "precipitation": 9.7,
          "temp_max": 7.8,
          "temp_min": 1.1,
          "weather": "fog",
          "wind": 3.2
         },
         {
          "Date new": "2015-01-16T00:00:00",
          "precipitation": 0,
          "temp_max": 11.7,
          "temp_min": 5.6,
          "weather": "fog",
          "wind": 4.5
         },
         {
          "Date new": "2015-01-17T00:00:00",
          "precipitation": 26.2,
          "temp_max": 13.3,
          "temp_min": 3.3,
          "weather": "fog",
          "wind": 2.8
         },
         {
          "Date new": "2015-01-18T00:00:00",
          "precipitation": 21.3,
          "temp_max": 13.9,
          "temp_min": 7.2,
          "weather": "rain",
          "wind": 6.6
         },
         {
          "Date new": "2015-01-19T00:00:00",
          "precipitation": 0.5,
          "temp_max": 10,
          "temp_min": 6.1,
          "weather": "sun",
          "wind": 2.8
         },
         {
          "Date new": "2015-01-20T00:00:00",
          "precipitation": 0,
          "temp_max": 10,
          "temp_min": 3.3,
          "weather": "fog",
          "wind": 3
         },
         {
          "Date new": "2015-01-21T00:00:00",
          "precipitation": 0,
          "temp_max": 7.2,
          "temp_min": -0.5,
          "weather": "fog",
          "wind": 1.3
         },
         {
          "Date new": "2015-01-22T00:00:00",
          "precipitation": 0.8,
          "temp_max": 9.4,
          "temp_min": 6.1,
          "weather": "fog",
          "wind": 1.3
         },
         {
          "Date new": "2015-01-23T00:00:00",
          "precipitation": 5.8,
          "temp_max": 12.2,
          "temp_min": 8.3,
          "weather": "fog",
          "wind": 2.6
         },
         {
          "Date new": "2015-01-24T00:00:00",
          "precipitation": 0.5,
          "temp_max": 14.4,
          "temp_min": 11.1,
          "weather": "fog",
          "wind": 3.3
         },
         {
          "Date new": "2015-01-25T00:00:00",
          "precipitation": 0,
          "temp_max": 17.2,
          "temp_min": 7.2,
          "weather": "fog",
          "wind": 1.4
         },
         {
          "Date new": "2015-01-26T00:00:00",
          "precipitation": 0,
          "temp_max": 16.1,
          "temp_min": 6.1,
          "weather": "fog",
          "wind": 2.2
         },
         {
          "Date new": "2015-01-27T00:00:00",
          "precipitation": 0.8,
          "temp_max": 11.1,
          "temp_min": 8.3,
          "weather": "fog",
          "wind": 2
         },
         {
          "Date new": "2015-01-28T00:00:00",
          "precipitation": 0,
          "temp_max": 12.2,
          "temp_min": 5,
          "weather": "fog",
          "wind": 1.8
         },
         {
          "Date new": "2015-01-29T00:00:00",
          "precipitation": 0,
          "temp_max": 12.2,
          "temp_min": 3.3,
          "weather": "sun",
          "wind": 2.9
         },
         {
          "Date new": "2015-01-30T00:00:00",
          "precipitation": 0,
          "temp_max": 8.3,
          "temp_min": 1.1,
          "weather": "fog",
          "wind": 0.8
         },
         {
          "Date new": "2015-01-31T00:00:00",
          "precipitation": 0,
          "temp_max": 7.2,
          "temp_min": 3.3,
          "weather": "fog",
          "wind": 1.9
         },
         {
          "Date new": "2015-02-01T00:00:00",
          "precipitation": 1.5,
          "temp_max": 9.4,
          "temp_min": 4.4,
          "weather": "fog",
          "wind": 2.6
         },
         {
          "Date new": "2015-02-02T00:00:00",
          "precipitation": 7.4,
          "temp_max": 11.1,
          "temp_min": 5,
          "weather": "fog",
          "wind": 4
         },
         {
          "Date new": "2015-02-03T00:00:00",
          "precipitation": 1.3,
          "temp_max": 10,
          "temp_min": 5.6,
          "weather": "fog",
          "wind": 1.9
         },
         {
          "Date new": "2015-02-04T00:00:00",
          "precipitation": 8.4,
          "temp_max": 10.6,
          "temp_min": 4.4,
          "weather": "fog",
          "wind": 1.7
         },
         {
          "Date new": "2015-02-05T00:00:00",
          "precipitation": 26.2,
          "temp_max": 13.3,
          "temp_min": 8.3,
          "weather": "fog",
          "wind": 4.6
         },
         {
          "Date new": "2015-02-06T00:00:00",
          "precipitation": 17.3,
          "temp_max": 14.4,
          "temp_min": 10,
          "weather": "fog",
          "wind": 4.5
         },
         {
          "Date new": "2015-02-07T00:00:00",
          "precipitation": 23.6,
          "temp_max": 12.2,
          "temp_min": 9.4,
          "weather": "fog",
          "wind": 4.6
         },
         {
          "Date new": "2015-02-08T00:00:00",
          "precipitation": 3.6,
          "temp_max": 15,
          "temp_min": 8.3,
          "weather": "fog",
          "wind": 3.9
         },
         {
          "Date new": "2015-02-09T00:00:00",
          "precipitation": 6.1,
          "temp_max": 13.3,
          "temp_min": 8.3,
          "weather": "fog",
          "wind": 2.5
         },
         {
          "Date new": "2015-02-10T00:00:00",
          "precipitation": 0.3,
          "temp_max": 12.8,
          "temp_min": 8.3,
          "weather": "fog",
          "wind": 4
         },
         {
          "Date new": "2015-02-11T00:00:00",
          "precipitation": 0,
          "temp_max": 12.8,
          "temp_min": 5.6,
          "weather": "fog",
          "wind": 1
         },
         {
          "Date new": "2015-02-12T00:00:00",
          "precipitation": 1,
          "temp_max": 16.7,
          "temp_min": 9.4,
          "weather": "sun",
          "wind": 2.1
         },
         {
          "Date new": "2015-02-13T00:00:00",
          "precipitation": 0,
          "temp_max": 15.6,
          "temp_min": 6.7,
          "weather": "fog",
          "wind": 1.7
         },
         {
          "Date new": "2015-02-14T00:00:00",
          "precipitation": 0.3,
          "temp_max": 14.4,
          "temp_min": 6.7,
          "weather": "fog",
          "wind": 2.9
         },
         {
          "Date new": "2015-02-15T00:00:00",
          "precipitation": 0,
          "temp_max": 12.2,
          "temp_min": 3.9,
          "weather": "sun",
          "wind": 4.8
         },
         {
          "Date new": "2015-02-16T00:00:00",
          "precipitation": 0,
          "temp_max": 15,
          "temp_min": 5.6,
          "weather": "fog",
          "wind": 6.6
         },
         {
          "Date new": "2015-02-17T00:00:00",
          "precipitation": 0,
          "temp_max": 16.1,
          "temp_min": 4.4,
          "weather": "sun",
          "wind": 4
         },
         {
          "Date new": "2015-02-18T00:00:00",
          "precipitation": 0,
          "temp_max": 12.2,
          "temp_min": 4.4,
          "weather": "sun",
          "wind": 2.6
         },
         {
          "Date new": "2015-02-19T00:00:00",
          "precipitation": 4.6,
          "temp_max": 10.6,
          "temp_min": 8.3,
          "weather": "fog",
          "wind": 2.2
         },
         {
          "Date new": "2015-02-20T00:00:00",
          "precipitation": 0.8,
          "temp_max": 11.1,
          "temp_min": 7.2,
          "weather": "fog",
          "wind": 0.9
         },
         {
          "Date new": "2015-02-21T00:00:00",
          "precipitation": 0,
          "temp_max": 12.2,
          "temp_min": 5.6,
          "weather": "sun",
          "wind": 4.5
         },
         {
          "Date new": "2015-02-22T00:00:00",
          "precipitation": 0,
          "temp_max": 11.7,
          "temp_min": 3.3,
          "weather": "sun",
          "wind": 4.2
         },
         {
          "Date new": "2015-02-23T00:00:00",
          "precipitation": 0,
          "temp_max": 12.8,
          "temp_min": 0.6,
          "weather": "sun",
          "wind": 1.4
         },
         {
          "Date new": "2015-02-24T00:00:00",
          "precipitation": 0,
          "temp_max": 11.1,
          "temp_min": 2.2,
          "weather": "sun",
          "wind": 1.5
         },
         {
          "Date new": "2015-02-25T00:00:00",
          "precipitation": 4.1,
          "temp_max": 10,
          "temp_min": 6.7,
          "weather": "fog",
          "wind": 1
         },
         {
          "Date new": "2015-02-26T00:00:00",
          "precipitation": 9.4,
          "temp_max": 11.7,
          "temp_min": 7.8,
          "weather": "fog",
          "wind": 1.4
         },
         {
          "Date new": "2015-02-27T00:00:00",
          "precipitation": 18.3,
          "temp_max": 10,
          "temp_min": 6.7,
          "weather": "fog",
          "wind": 4
         },
         {
          "Date new": "2015-02-28T00:00:00",
          "precipitation": 0,
          "temp_max": 12.2,
          "temp_min": 3.3,
          "weather": "sun",
          "wind": 5.1
         },
         {
          "Date new": "2015-03-01T00:00:00",
          "precipitation": 0,
          "temp_max": 11.1,
          "temp_min": 1.1,
          "weather": "sun",
          "wind": 2.2
         },
         {
          "Date new": "2015-03-02T00:00:00",
          "precipitation": 0,
          "temp_max": 11.1,
          "temp_min": 4.4,
          "weather": "sun",
          "wind": 4.8
         },
         {
          "Date new": "2015-03-03T00:00:00",
          "precipitation": 0,
          "temp_max": 10.6,
          "temp_min": 0,
          "weather": "sun",
          "wind": 2.1
         },
         {
          "Date new": "2015-03-04T00:00:00",
          "precipitation": 0,
          "temp_max": 12.8,
          "temp_min": -0.5,
          "weather": "sun",
          "wind": 1.8
         },
         {
          "Date new": "2015-03-05T00:00:00",
          "precipitation": 0,
          "temp_max": 13.3,
          "temp_min": 2.8,
          "weather": "sun",
          "wind": 1.3
         },
         {
          "Date new": "2015-03-06T00:00:00",
          "precipitation": 0,
          "temp_max": 15,
          "temp_min": 3.3,
          "weather": "sun",
          "wind": 1.4
         },
         {
          "Date new": "2015-03-07T00:00:00",
          "precipitation": 0,
          "temp_max": 16.7,
          "temp_min": 3.9,
          "weather": "fog",
          "wind": 2.7
         },
         {
          "Date new": "2015-03-08T00:00:00",
          "precipitation": 0,
          "temp_max": 17.2,
          "temp_min": 3.9,
          "weather": "fog",
          "wind": 1.7
         },
         {
          "Date new": "2015-03-09T00:00:00",
          "precipitation": 0,
          "temp_max": 14.4,
          "temp_min": 4.4,
          "weather": "fog",
          "wind": 1.8
         },
         {
          "Date new": "2015-03-10T00:00:00",
          "precipitation": 0.8,
          "temp_max": 13.3,
          "temp_min": 5,
          "weather": "fog",
          "wind": 2.6
         },
         {
          "Date new": "2015-03-11T00:00:00",
          "precipitation": 2.5,
          "temp_max": 14.4,
          "temp_min": 8.9,
          "weather": "fog",
          "wind": 3.1
         },
         {
          "Date new": "2015-03-12T00:00:00",
          "precipitation": 0,
          "temp_max": 17.8,
          "temp_min": 9.4,
          "weather": "sun",
          "wind": 3.2
         },
         {
          "Date new": "2015-03-13T00:00:00",
          "precipitation": 2,
          "temp_max": 17.2,
          "temp_min": 7.8,
          "weather": "sun",
          "wind": 2.2
         },
         {
          "Date new": "2015-03-14T00:00:00",
          "precipitation": 17,
          "temp_max": 13.9,
          "temp_min": 9.4,
          "weather": "fog",
          "wind": 3.8
         },
         {
          "Date new": "2015-03-15T00:00:00",
          "precipitation": 55.9,
          "temp_max": 10.6,
          "temp_min": 6.1,
          "weather": "fog",
          "wind": 4.2
         },
         {
          "Date new": "2015-03-16T00:00:00",
          "precipitation": 1,
          "temp_max": 13.9,
          "temp_min": 6.1,
          "weather": "fog",
          "wind": 3
         },
         {
          "Date new": "2015-03-17T00:00:00",
          "precipitation": 0.8,
          "temp_max": 13.3,
          "temp_min": 4.4,
          "weather": "sun",
          "wind": 2.6
         },
         {
          "Date new": "2015-03-18T00:00:00",
          "precipitation": 0,
          "temp_max": 15.6,
          "temp_min": 7.2,
          "weather": "sun",
          "wind": 2.5
         },
         {
          "Date new": "2015-03-19T00:00:00",
          "precipitation": 0,
          "temp_max": 15.6,
          "temp_min": 8.3,
          "weather": "sun",
          "wind": 1.9
         },
         {
          "Date new": "2015-03-20T00:00:00",
          "precipitation": 4.1,
          "temp_max": 13.9,
          "temp_min": 8.9,
          "weather": "sun",
          "wind": 1.9
         },
         {
          "Date new": "2015-03-21T00:00:00",
          "precipitation": 3.8,
          "temp_max": 13.3,
          "temp_min": 8.3,
          "weather": "fog",
          "wind": 4.7
         },
         {
          "Date new": "2015-03-22T00:00:00",
          "precipitation": 1,
          "temp_max": 11.7,
          "temp_min": 6.1,
          "weather": "sun",
          "wind": 2.3
         },
         {
          "Date new": "2015-03-23T00:00:00",
          "precipitation": 8.1,
          "temp_max": 11.1,
          "temp_min": 5.6,
          "weather": "fog",
          "wind": 2.8
         },
         {
          "Date new": "2015-03-24T00:00:00",
          "precipitation": 7.6,
          "temp_max": 12.8,
          "temp_min": 6.1,
          "weather": "fog",
          "wind": 3.9
         },
         {
          "Date new": "2015-03-25T00:00:00",
          "precipitation": 5.1,
          "temp_max": 14.4,
          "temp_min": 7.2,
          "weather": "fog",
          "wind": 4.4
         },
         {
          "Date new": "2015-03-26T00:00:00",
          "precipitation": 0,
          "temp_max": 20.6,
          "temp_min": 10,
          "weather": "sun",
          "wind": 2.2
         },
         {
          "Date new": "2015-03-27T00:00:00",
          "precipitation": 1,
          "temp_max": 18.3,
          "temp_min": 8.9,
          "weather": "fog",
          "wind": 4
         },
         {
          "Date new": "2015-03-28T00:00:00",
          "precipitation": 0,
          "temp_max": 15.6,
          "temp_min": 9.4,
          "weather": "sun",
          "wind": 5.7
         },
         {
          "Date new": "2015-03-29T00:00:00",
          "precipitation": 0,
          "temp_max": 15.6,
          "temp_min": 8.9,
          "weather": "sun",
          "wind": 3
         },
         {
          "Date new": "2015-03-30T00:00:00",
          "precipitation": 1.8,
          "temp_max": 17.8,
          "temp_min": 10.6,
          "weather": "fog",
          "wind": 2.9
         },
         {
          "Date new": "2015-03-31T00:00:00",
          "precipitation": 1,
          "temp_max": 12.8,
          "temp_min": 6.1,
          "weather": "fog",
          "wind": 4.2
         },
         {
          "Date new": "2015-04-01T00:00:00",
          "precipitation": 5.1,
          "temp_max": 12.8,
          "temp_min": 5.6,
          "weather": "rain",
          "wind": 3.2
         },
         {
          "Date new": "2015-04-02T00:00:00",
          "precipitation": 0,
          "temp_max": 13.3,
          "temp_min": 5.6,
          "weather": "sun",
          "wind": 2.4
         },
         {
          "Date new": "2015-04-03T00:00:00",
          "precipitation": 1.5,
          "temp_max": 11.1,
          "temp_min": 5,
          "weather": "fog",
          "wind": 3.6
         },
         {
          "Date new": "2015-04-04T00:00:00",
          "precipitation": 0,
          "temp_max": 12.8,
          "temp_min": 3.9,
          "weather": "sun",
          "wind": 1.7
         },
         {
          "Date new": "2015-04-05T00:00:00",
          "precipitation": 0,
          "temp_max": 16.7,
          "temp_min": 2.8,
          "weather": "sun",
          "wind": 2.4
         },
         {
          "Date new": "2015-04-06T00:00:00",
          "precipitation": 1,
          "temp_max": 13.9,
          "temp_min": 6.7,
          "weather": "sun",
          "wind": 3.5
         },
         {
          "Date new": "2015-04-07T00:00:00",
          "precipitation": 0.5,
          "temp_max": 14.4,
          "temp_min": 6.7,
          "weather": "sun",
          "wind": 3.9
         },
         {
          "Date new": "2015-04-08T00:00:00",
          "precipitation": 0,
          "temp_max": 17.2,
          "temp_min": 6.1,
          "weather": "sun",
          "wind": 1.7
         },
         {
          "Date new": "2015-04-09T00:00:00",
          "precipitation": 0,
          "temp_max": 17.2,
          "temp_min": 6.1,
          "weather": "sun",
          "wind": 2.3
         },
         {
          "Date new": "2015-04-10T00:00:00",
          "precipitation": 10.9,
          "temp_max": 13.9,
          "temp_min": 7.8,
          "weather": "fog",
          "wind": 4.6
         },
         {
          "Date new": "2015-04-11T00:00:00",
          "precipitation": 0,
          "temp_max": 11.7,
          "temp_min": 5.6,
          "weather": "sun",
          "wind": 6.5
         },
         {
          "Date new": "2015-04-12T00:00:00",
          "precipitation": 0,
          "temp_max": 13.3,
          "temp_min": 5.6,
          "weather": "sun",
          "wind": 3.6
         },
         {
          "Date new": "2015-04-13T00:00:00",
          "precipitation": 14,
          "temp_max": 11.7,
          "temp_min": 3.9,
          "weather": "fog",
          "wind": 3.6
         },
         {
          "Date new": "2015-04-14T00:00:00",
          "precipitation": 3.3,
          "temp_max": 11.7,
          "temp_min": 2.8,
          "weather": "sun",
          "wind": 3.3
         },
         {
          "Date new": "2015-04-15T00:00:00",
          "precipitation": 0,
          "temp_max": 13.9,
          "temp_min": 3.3,
          "weather": "sun",
          "wind": 2.4
         },
         {
          "Date new": "2015-04-16T00:00:00",
          "precipitation": 0,
          "temp_max": 17.8,
          "temp_min": 3.9,
          "weather": "sun",
          "wind": 3.1
         },
         {
          "Date new": "2015-04-17T00:00:00",
          "precipitation": 0,
          "temp_max": 18.9,
          "temp_min": 6.1,
          "weather": "sun",
          "wind": 3.6
         },
         {
          "Date new": "2015-04-18T00:00:00",
          "precipitation": 0,
          "temp_max": 18.9,
          "temp_min": 8.3,
          "weather": "sun",
          "wind": 3.9
         },
         {
          "Date new": "2015-04-19T00:00:00",
          "precipitation": 0,
          "temp_max": 21.1,
          "temp_min": 8.3,
          "weather": "sun",
          "wind": 3.6
         },
         {
          "Date new": "2015-04-20T00:00:00",
          "precipitation": 0,
          "temp_max": 22.8,
          "temp_min": 7.8,
          "weather": "sun",
          "wind": 2.6
         },
         {
          "Date new": "2015-04-21T00:00:00",
          "precipitation": 5.6,
          "temp_max": 17.2,
          "temp_min": 6.7,
          "weather": "fog",
          "wind": 3.4
         },
         {
          "Date new": "2015-04-22T00:00:00",
          "precipitation": 0,
          "temp_max": 15.6,
          "temp_min": 5,
          "weather": "sun",
          "wind": 2.3
         },
         {
          "Date new": "2015-04-23T00:00:00",
          "precipitation": 3,
          "temp_max": 12.2,
          "temp_min": 6.7,
          "weather": "fog",
          "wind": 4.1
         },
         {
          "Date new": "2015-04-24T00:00:00",
          "precipitation": 3.3,
          "temp_max": 12.2,
          "temp_min": 6.1,
          "weather": "fog",
          "wind": 5
         },
         {
          "Date new": "2015-04-25T00:00:00",
          "precipitation": 1.3,
          "temp_max": 13.3,
          "temp_min": 5.6,
          "weather": "fog",
          "wind": 3
         },
         {
          "Date new": "2015-04-26T00:00:00",
          "precipitation": 0,
          "temp_max": 15.6,
          "temp_min": 4.4,
          "weather": "fog",
          "wind": 2.7
         },
         {
          "Date new": "2015-04-27T00:00:00",
          "precipitation": 0.3,
          "temp_max": 25,
          "temp_min": 10.6,
          "weather": "fog",
          "wind": 2.3
         },
         {
          "Date new": "2015-04-28T00:00:00",
          "precipitation": 1.8,
          "temp_max": 15.6,
          "temp_min": 8.9,
          "weather": "fog",
          "wind": 4.3
         },
         {
          "Date new": "2015-04-29T00:00:00",
          "precipitation": 0,
          "temp_max": 16.1,
          "temp_min": 7.2,
          "weather": "sun",
          "wind": 4.7
         },
         {
          "Date new": "2015-04-30T00:00:00",
          "precipitation": 0,
          "temp_max": 17.2,
          "temp_min": 7.8,
          "weather": "sun",
          "wind": 2.1
         },
         {
          "Date new": "2015-05-01T00:00:00",
          "precipitation": 0,
          "temp_max": 18.3,
          "temp_min": 8.9,
          "weather": "sun",
          "wind": 3.7
         },
         {
          "Date new": "2015-05-02T00:00:00",
          "precipitation": 0,
          "temp_max": 18.3,
          "temp_min": 7.8,
          "weather": "sun",
          "wind": 3.7
         },
         {
          "Date new": "2015-05-03T00:00:00",
          "precipitation": 0,
          "temp_max": 20.6,
          "temp_min": 7.8,
          "weather": "sun",
          "wind": 2.6
         },
         {
          "Date new": "2015-05-04T00:00:00",
          "precipitation": 0,
          "temp_max": 17.2,
          "temp_min": 7.2,
          "weather": "sun",
          "wind": 5.2
         },
         {
          "Date new": "2015-05-05T00:00:00",
          "precipitation": 6.1,
          "temp_max": 14.4,
          "temp_min": 7.2,
          "weather": "fog",
          "wind": 5.1
         },
         {
          "Date new": "2015-05-06T00:00:00",
          "precipitation": 0,
          "temp_max": 16.7,
          "temp_min": 7.2,
          "weather": "fog",
          "wind": 2.6
         },
         {
          "Date new": "2015-05-07T00:00:00",
          "precipitation": 0,
          "temp_max": 20.6,
          "temp_min": 6.1,
          "weather": "sun",
          "wind": 3
         },
         {
          "Date new": "2015-05-08T00:00:00",
          "precipitation": 0,
          "temp_max": 23.9,
          "temp_min": 8.3,
          "weather": "sun",
          "wind": 3
         },
         {
          "Date new": "2015-05-09T00:00:00",
          "precipitation": 0,
          "temp_max": 26.7,
          "temp_min": 9.4,
          "weather": "sun",
          "wind": 2.6
         },
         {
          "Date new": "2015-05-10T00:00:00",
          "precipitation": 0,
          "temp_max": 19.4,
          "temp_min": 11.1,
          "weather": "sun",
          "wind": 2.8
         },
         {
          "Date new": "2015-05-11T00:00:00",
          "precipitation": 0,
          "temp_max": 13.9,
          "temp_min": 10,
          "weather": "fog",
          "wind": 2.5
         },
         {
          "Date new": "2015-05-12T00:00:00",
          "precipitation": 4.3,
          "temp_max": 15.6,
          "temp_min": 10.6,
          "weather": "fog",
          "wind": 3.3
         },
         {
          "Date new": "2015-05-13T00:00:00",
          "precipitation": 4.1,
          "temp_max": 12.2,
          "temp_min": 10,
          "weather": "fog",
          "wind": 2.8
         },
         {
          "Date new": "2015-05-14T00:00:00",
          "precipitation": 0.3,
          "temp_max": 17.8,
          "temp_min": 9.4,
          "weather": "fog",
          "wind": 2
         },
         {
          "Date new": "2015-05-15T00:00:00",
          "precipitation": 0,
          "temp_max": 20,
          "temp_min": 9.4,
          "weather": "fog",
          "wind": 2.8
         },
         {
          "Date new": "2015-05-16T00:00:00",
          "precipitation": 0,
          "temp_max": 15.6,
          "temp_min": 11.1,
          "weather": "sun",
          "wind": 3
         },
         {
          "Date new": "2015-05-17T00:00:00",
          "precipitation": 0,
          "temp_max": 19.4,
          "temp_min": 10.6,
          "weather": "sun",
          "wind": 2.1
         },
         {
          "Date new": "2015-05-18T00:00:00",
          "precipitation": 0,
          "temp_max": 25.6,
          "temp_min": 12.2,
          "weather": "sun",
          "wind": 3
         },
         {
          "Date new": "2015-05-19T00:00:00",
          "precipitation": 0,
          "temp_max": 21.7,
          "temp_min": 11.7,
          "weather": "sun",
          "wind": 2.6
         },
         {
          "Date new": "2015-05-20T00:00:00",
          "precipitation": 0,
          "temp_max": 23.3,
          "temp_min": 10.6,
          "weather": "fog",
          "wind": 1.8
         },
         {
          "Date new": "2015-05-21T00:00:00",
          "precipitation": 0,
          "temp_max": 25.6,
          "temp_min": 11.7,
          "weather": "sun",
          "wind": 2.1
         },
         {
          "Date new": "2015-05-22T00:00:00",
          "precipitation": 0,
          "temp_max": 16.7,
          "temp_min": 11.7,
          "weather": "sun",
          "wind": 3.7
         },
         {
          "Date new": "2015-05-23T00:00:00",
          "precipitation": 0,
          "temp_max": 16.1,
          "temp_min": 11.7,
          "weather": "sun",
          "wind": 2.6
         },
         {
          "Date new": "2015-05-24T00:00:00",
          "precipitation": 0,
          "temp_max": 17.8,
          "temp_min": 11.1,
          "weather": "sun",
          "wind": 2.7
         },
         {
          "Date new": "2015-05-25T00:00:00",
          "precipitation": 0,
          "temp_max": 15.6,
          "temp_min": 11.1,
          "weather": "sun",
          "wind": 2.7
         },
         {
          "Date new": "2015-05-26T00:00:00",
          "precipitation": 0,
          "temp_max": 21.7,
          "temp_min": 11.7,
          "weather": "sun",
          "wind": 2.1
         },
         {
          "Date new": "2015-05-27T00:00:00",
          "precipitation": 0,
          "temp_max": 24.4,
          "temp_min": 11.7,
          "weather": "sun",
          "wind": 1.8
         },
         {
          "Date new": "2015-05-28T00:00:00",
          "precipitation": 0,
          "temp_max": 27.8,
          "temp_min": 12.2,
          "weather": "sun",
          "wind": 2.1
         },
         {
          "Date new": "2015-05-29T00:00:00",
          "precipitation": 0,
          "temp_max": 26.1,
          "temp_min": 12.8,
          "weather": "sun",
          "wind": 2.5
         },
         {
          "Date new": "2015-05-30T00:00:00",
          "precipitation": 0,
          "temp_max": 22.8,
          "temp_min": 10,
          "weather": "sun",
          "wind": 2.5
         },
         {
          "Date new": "2015-05-31T00:00:00",
          "precipitation": 0,
          "temp_max": 25,
          "temp_min": 11.7,
          "weather": "sun",
          "wind": 2.2
         },
         {
          "Date new": "2015-06-01T00:00:00",
          "precipitation": 4.6,
          "temp_max": 16.1,
          "temp_min": 11.7,
          "weather": "fog",
          "wind": 3.4
         },
         {
          "Date new": "2015-06-02T00:00:00",
          "precipitation": 0.5,
          "temp_max": 17.8,
          "temp_min": 12.8,
          "weather": "sun",
          "wind": 5
         },
         {
          "Date new": "2015-06-03T00:00:00",
          "precipitation": 0,
          "temp_max": 20,
          "temp_min": 11.7,
          "weather": "sun",
          "wind": 3
         },
         {
          "Date new": "2015-06-04T00:00:00",
          "precipitation": 0,
          "temp_max": 22.8,
          "temp_min": 11.7,
          "weather": "sun",
          "wind": 3.9
         },
         {
          "Date new": "2015-06-05T00:00:00",
          "precipitation": 0,
          "temp_max": 26.7,
          "temp_min": 12.8,
          "weather": "sun",
          "wind": 4.3
         },
         {
          "Date new": "2015-06-06T00:00:00",
          "precipitation": 0,
          "temp_max": 29.4,
          "temp_min": 13.3,
          "weather": "sun",
          "wind": 2.6
         },
         {
          "Date new": "2015-06-07T00:00:00",
          "precipitation": 0,
          "temp_max": 31.1,
          "temp_min": 15.6,
          "weather": "sun",
          "wind": 3.2
         },
         {
          "Date new": "2015-06-08T00:00:00",
          "precipitation": 0,
          "temp_max": 30.6,
          "temp_min": 14.4,
          "weather": "sun",
          "wind": 3.5
         },
         {
          "Date new": "2015-06-09T00:00:00",
          "precipitation": 0,
          "temp_max": 28.9,
          "temp_min": 14.4,
          "weather": "sun",
          "wind": 2.7
         },
         {
          "Date new": "2015-06-10T00:00:00",
          "precipitation": 0,
          "temp_max": 25.6,
          "temp_min": 11.1,
          "weather": "sun",
          "wind": 3
         },
         {
          "Date new": "2015-06-11T00:00:00",
          "precipitation": 0,
          "temp_max": 24.4,
          "temp_min": 11.1,
          "weather": "sun",
          "wind": 3.5
         },
         {
          "Date new": "2015-06-12T00:00:00",
          "precipitation": 0,
          "temp_max": 20,
          "temp_min": 11.7,
          "weather": "sun",
          "wind": 2.3
         },
         {
          "Date new": "2015-06-13T00:00:00",
          "precipitation": 0,
          "temp_max": 23.9,
          "temp_min": 9.4,
          "weather": "sun",
          "wind": 2.6
         },
         {
          "Date new": "2015-06-14T00:00:00",
          "precipitation": 0,
          "temp_max": 27.8,
          "temp_min": 11.7,
          "weather": "sun",
          "wind": 3.7
         },
         {
          "Date new": "2015-06-15T00:00:00",
          "precipitation": 0,
          "temp_max": 30,
          "temp_min": 16.1,
          "weather": "drizzle",
          "wind": 3.5
         },
         {
          "Date new": "2015-06-16T00:00:00",
          "precipitation": 0,
          "temp_max": 22.8,
          "temp_min": 11.1,
          "weather": "sun",
          "wind": 3
         },
         {
          "Date new": "2015-06-17T00:00:00",
          "precipitation": 0,
          "temp_max": 25,
          "temp_min": 11.1,
          "weather": "sun",
          "wind": 3.1
         },
         {
          "Date new": "2015-06-18T00:00:00",
          "precipitation": 0,
          "temp_max": 24.4,
          "temp_min": 13.9,
          "weather": "sun",
          "wind": 3
         },
         {
          "Date new": "2015-06-19T00:00:00",
          "precipitation": 0.5,
          "temp_max": 23.9,
          "temp_min": 13.3,
          "weather": "fog",
          "wind": 3.2
         },
         {
          "Date new": "2015-06-20T00:00:00",
          "precipitation": 0,
          "temp_max": 25,
          "temp_min": 12.8,
          "weather": "sun",
          "wind": 4.3
         },
         {
          "Date new": "2015-06-21T00:00:00",
          "precipitation": 0,
          "temp_max": 25.6,
          "temp_min": 13.9,
          "weather": "sun",
          "wind": 3.4
         },
         {
          "Date new": "2015-06-22T00:00:00",
          "precipitation": 0,
          "temp_max": 25,
          "temp_min": 12.8,
          "weather": "sun",
          "wind": 2.4
         },
         {
          "Date new": "2015-06-23T00:00:00",
          "precipitation": 0,
          "temp_max": 26.1,
          "temp_min": 11.7,
          "weather": "sun",
          "wind": 2.4
         },
         {
          "Date new": "2015-06-24T00:00:00",
          "precipitation": 0,
          "temp_max": 25.6,
          "temp_min": 16.1,
          "weather": "sun",
          "wind": 2.6
         },
         {
          "Date new": "2015-06-25T00:00:00",
          "precipitation": 0,
          "temp_max": 30.6,
          "temp_min": 15.6,
          "weather": "sun",
          "wind": 3
         },
         {
          "Date new": "2015-06-26T00:00:00",
          "precipitation": 0,
          "temp_max": 31.7,
          "temp_min": 17.8,
          "weather": "sun",
          "wind": 4.7
         },
         {
          "Date new": "2015-06-27T00:00:00",
          "precipitation": 0,
          "temp_max": 33.3,
          "temp_min": 17.2,
          "weather": "sun",
          "wind": 3.9
         },
         {
          "Date new": "2015-06-28T00:00:00",
          "precipitation": 0.3,
          "temp_max": 28.3,
          "temp_min": 18.3,
          "weather": "sun",
          "wind": 2.1
         },
         {
          "Date new": "2015-06-29T00:00:00",
          "precipitation": 0,
          "temp_max": 28.9,
          "temp_min": 17.2,
          "weather": "sun",
          "wind": 2.7
         },
         {
          "Date new": "2015-06-30T00:00:00",
          "precipitation": 0,
          "temp_max": 30.6,
          "temp_min": 15,
          "weather": "fog",
          "wind": 3.4
         },
         {
          "Date new": "2015-07-01T00:00:00",
          "precipitation": 0,
          "temp_max": 32.2,
          "temp_min": 17.2,
          "weather": "sun",
          "wind": 4.3
         },
         {
          "Date new": "2015-07-02T00:00:00",
          "precipitation": 0,
          "temp_max": 33.9,
          "temp_min": 17.8,
          "weather": "sun",
          "wind": 3.4
         },
         {
          "Date new": "2015-07-03T00:00:00",
          "precipitation": 0,
          "temp_max": 33.3,
          "temp_min": 17.8,
          "weather": "sun",
          "wind": 2.6
         },
         {
          "Date new": "2015-07-04T00:00:00",
          "precipitation": 0,
          "temp_max": 33.3,
          "temp_min": 15,
          "weather": "sun",
          "wind": 2.9
         },
         {
          "Date new": "2015-07-05T00:00:00",
          "precipitation": 0,
          "temp_max": 32.8,
          "temp_min": 16.7,
          "weather": "sun",
          "wind": 2.1
         },
         {
          "Date new": "2015-07-06T00:00:00",
          "precipitation": 0,
          "temp_max": 29.4,
          "temp_min": 15.6,
          "weather": "drizzle",
          "wind": 3.2
         },
         {
          "Date new": "2015-07-07T00:00:00",
          "precipitation": 0,
          "temp_max": 27.2,
          "temp_min": 13.9,
          "weather": "sun",
          "wind": 2.4
         },
         {
          "Date new": "2015-07-08T00:00:00",
          "precipitation": 0,
          "temp_max": 30,
          "temp_min": 14.4,
          "weather": "drizzle",
          "wind": 1.9
         },
         {
          "Date new": "2015-07-09T00:00:00",
          "precipitation": 0,
          "temp_max": 28.9,
          "temp_min": 14.4,
          "weather": "sun",
          "wind": 3.4
         },
         {
          "Date new": "2015-07-10T00:00:00",
          "precipitation": 0,
          "temp_max": 21.1,
          "temp_min": 16.7,
          "weather": "sun",
          "wind": 3.7
         },
         {
          "Date new": "2015-07-11T00:00:00",
          "precipitation": 0,
          "temp_max": 22.2,
          "temp_min": 16.7,
          "weather": "sun",
          "wind": 3
         },
         {
          "Date new": "2015-07-12T00:00:00",
          "precipitation": 0,
          "temp_max": 26.1,
          "temp_min": 16.7,
          "weather": "sun",
          "wind": 2.2
         },
         {
          "Date new": "2015-07-13T00:00:00",
          "precipitation": 0,
          "temp_max": 25.6,
          "temp_min": 16.1,
          "weather": "sun",
          "wind": 3.1
         },
         {
          "Date new": "2015-07-14T00:00:00",
          "precipitation": 0,
          "temp_max": 27.8,
          "temp_min": 16.1,
          "weather": "sun",
          "wind": 3.3
         },
         {
          "Date new": "2015-07-15T00:00:00",
          "precipitation": 0,
          "temp_max": 26.1,
          "temp_min": 14.4,
          "weather": "sun",
          "wind": 3.2
         },
         {
          "Date new": "2015-07-16T00:00:00",
          "precipitation": 0,
          "temp_max": 26.1,
          "temp_min": 15,
          "weather": "sun",
          "wind": 2.8
         },
         {
          "Date new": "2015-07-17T00:00:00",
          "precipitation": 0,
          "temp_max": 27.8,
          "temp_min": 13.9,
          "weather": "sun",
          "wind": 3.3
         },
         {
          "Date new": "2015-07-18T00:00:00",
          "precipitation": 0,
          "temp_max": 33.3,
          "temp_min": 17.8,
          "weather": "sun",
          "wind": 3.4
         },
         {
          "Date new": "2015-07-19T00:00:00",
          "precipitation": 0,
          "temp_max": 35,
          "temp_min": 17.2,
          "weather": "sun",
          "wind": 3.3
         },
         {
          "Date new": "2015-07-20T00:00:00",
          "precipitation": 0,
          "temp_max": 26.7,
          "temp_min": 16.7,
          "weather": "sun",
          "wind": 3.9
         },
         {
          "Date new": "2015-07-21T00:00:00",
          "precipitation": 0,
          "temp_max": 23.9,
          "temp_min": 15,
          "weather": "sun",
          "wind": 2.4
         },
         {
          "Date new": "2015-07-22T00:00:00",
          "precipitation": 0,
          "temp_max": 23.9,
          "temp_min": 13.9,
          "weather": "sun",
          "wind": 2.8
         },
         {
          "Date new": "2015-07-23T00:00:00",
          "precipitation": 0,
          "temp_max": 26.1,
          "temp_min": 14.4,
          "weather": "sun",
          "wind": 1.9
         },
         {
          "Date new": "2015-07-24T00:00:00",
          "precipitation": 0.3,
          "temp_max": 22.8,
          "temp_min": 13.3,
          "weather": "fog",
          "wind": 3.8
         },
         {
          "Date new": "2015-07-25T00:00:00",
          "precipitation": 0,
          "temp_max": 21.1,
          "temp_min": 14.4,
          "weather": "fog",
          "wind": 2.4
         },
         {
          "Date new": "2015-07-26T00:00:00",
          "precipitation": 2,
          "temp_max": 22.2,
          "temp_min": 13.9,
          "weather": "fog",
          "wind": 2.6
         },
         {
          "Date new": "2015-07-27T00:00:00",
          "precipitation": 0,
          "temp_max": 23.3,
          "temp_min": 12.2,
          "weather": "fog",
          "wind": 1.9
         },
         {
          "Date new": "2015-07-28T00:00:00",
          "precipitation": 0,
          "temp_max": 27.8,
          "temp_min": 13.9,
          "weather": "sun",
          "wind": 3.4
         },
         {
          "Date new": "2015-07-29T00:00:00",
          "precipitation": 0,
          "temp_max": 32.2,
          "temp_min": 14.4,
          "weather": "sun",
          "wind": 3.8
         },
         {
          "Date new": "2015-07-30T00:00:00",
          "precipitation": 0,
          "temp_max": 34.4,
          "temp_min": 17.2,
          "weather": "sun",
          "wind": 3.5
         },
         {
          "Date new": "2015-07-31T00:00:00",
          "precipitation": 0,
          "temp_max": 34.4,
          "temp_min": 17.8,
          "weather": "sun",
          "wind": 2.6
         },
         {
          "Date new": "2015-08-01T00:00:00",
          "precipitation": 0,
          "temp_max": 33.3,
          "temp_min": 15.6,
          "weather": "sun",
          "wind": 3.1
         },
         {
          "Date new": "2015-08-02T00:00:00",
          "precipitation": 0,
          "temp_max": 30.6,
          "temp_min": 16.1,
          "weather": "sun",
          "wind": 2
         },
         {
          "Date new": "2015-08-03T00:00:00",
          "precipitation": 0,
          "temp_max": 28.3,
          "temp_min": 17.2,
          "weather": "sun",
          "wind": 2.3
         },
         {
          "Date new": "2015-08-04T00:00:00",
          "precipitation": 0,
          "temp_max": 26.1,
          "temp_min": 14.4,
          "weather": "fog",
          "wind": 2.6
         },
         {
          "Date new": "2015-08-05T00:00:00",
          "precipitation": 0,
          "temp_max": 23.3,
          "temp_min": 12.2,
          "weather": "sun",
          "wind": 3.5
         },
         {
          "Date new": "2015-08-06T00:00:00",
          "precipitation": 0,
          "temp_max": 25,
          "temp_min": 15,
          "weather": "sun",
          "wind": 2.9
         },
         {
          "Date new": "2015-08-07T00:00:00",
          "precipitation": 0,
          "temp_max": 28.3,
          "temp_min": 15.6,
          "weather": "sun",
          "wind": 3.7
         },
         {
          "Date new": "2015-08-08T00:00:00",
          "precipitation": 0,
          "temp_max": 25,
          "temp_min": 15.6,
          "weather": "fog",
          "wind": 3.6
         },
         {
          "Date new": "2015-08-09T00:00:00",
          "precipitation": 0,
          "temp_max": 28.3,
          "temp_min": 15,
          "weather": "sun",
          "wind": 2.2
         },
         {
          "Date new": "2015-08-10T00:00:00",
          "precipitation": 0,
          "temp_max": 28.9,
          "temp_min": 16.1,
          "weather": "sun",
          "wind": 2.4
         },
         {
          "Date new": "2015-08-11T00:00:00",
          "precipitation": 0,
          "temp_max": 30,
          "temp_min": 16.7,
          "weather": "sun",
          "wind": 4.4
         },
         {
          "Date new": "2015-08-12T00:00:00",
          "precipitation": 7.6,
          "temp_max": 28.3,
          "temp_min": 16.7,
          "weather": "rain",
          "wind": 2.7
         },
         {
          "Date new": "2015-08-13T00:00:00",
          "precipitation": 0,
          "temp_max": 28.3,
          "temp_min": 15.6,
          "weather": "sun",
          "wind": 2.2
         },
         {
          "Date new": "2015-08-14T00:00:00",
          "precipitation": 30.5,
          "temp_max": 18.3,
          "temp_min": 15,
          "weather": "rain",
          "wind": 5.2
         },
         {
          "Date new": "2015-08-15T00:00:00",
          "precipitation": 0,
          "temp_max": 21.7,
          "temp_min": 13.9,
          "weather": "sun",
          "wind": 3.7
         },
         {
          "Date new": "2015-08-16T00:00:00",
          "precipitation": 0,
          "temp_max": 25,
          "temp_min": 14.4,
          "weather": "sun",
          "wind": 3.7
         },
         {
          "Date new": "2015-08-17T00:00:00",
          "precipitation": 0,
          "temp_max": 27.2,
          "temp_min": 13.9,
          "weather": "sun",
          "wind": 3
         },
         {
          "Date new": "2015-08-18T00:00:00",
          "precipitation": 0,
          "temp_max": 30,
          "temp_min": 15,
          "weather": "sun",
          "wind": 3
         },
         {
          "Date new": "2015-08-19T00:00:00",
          "precipitation": 0,
          "temp_max": 31.7,
          "temp_min": 16.1,
          "weather": "drizzle",
          "wind": 2.1
         },
         {
          "Date new": "2015-08-20T00:00:00",
          "precipitation": 2,
          "temp_max": 22.8,
          "temp_min": 14.4,
          "weather": "fog",
          "wind": 4.2
         },
         {
          "Date new": "2015-08-21T00:00:00",
          "precipitation": 0,
          "temp_max": 22.2,
          "temp_min": 14.4,
          "weather": "sun",
          "wind": 2.6
         },
         {
          "Date new": "2015-08-22T00:00:00",
          "precipitation": 0,
          "temp_max": 26.7,
          "temp_min": 12.2,
          "weather": "drizzle",
          "wind": 2.5
         },
         {
          "Date new": "2015-08-23T00:00:00",
          "precipitation": 0,
          "temp_max": 27.8,
          "temp_min": 13.9,
          "weather": "drizzle",
          "wind": 1.8
         },
         {
          "Date new": "2015-08-24T00:00:00",
          "precipitation": 0,
          "temp_max": 23.9,
          "temp_min": 12.2,
          "weather": "sun",
          "wind": 2.3
         },
         {
          "Date new": "2015-08-25T00:00:00",
          "precipitation": 0,
          "temp_max": 25.6,
          "temp_min": 12.2,
          "weather": "sun",
          "wind": 3.4
         },
         {
          "Date new": "2015-08-26T00:00:00",
          "precipitation": 0,
          "temp_max": 28.3,
          "temp_min": 13.9,
          "weather": "sun",
          "wind": 1.7
         },
         {
          "Date new": "2015-08-27T00:00:00",
          "precipitation": 0,
          "temp_max": 29.4,
          "temp_min": 14.4,
          "weather": "sun",
          "wind": 2.1
         },
         {
          "Date new": "2015-08-28T00:00:00",
          "precipitation": 0.5,
          "temp_max": 23.3,
          "temp_min": 15.6,
          "weather": "fog",
          "wind": 2.6
         },
         {
          "Date new": "2015-08-29T00:00:00",
          "precipitation": 32.5,
          "temp_max": 22.2,
          "temp_min": 13.3,
          "weather": "fog",
          "wind": 5.8
         },
         {
          "Date new": "2015-08-30T00:00:00",
          "precipitation": 10.2,
          "temp_max": 20,
          "temp_min": 12.8,
          "weather": "fog",
          "wind": 4.7
         },
         {
          "Date new": "2015-08-31T00:00:00",
          "precipitation": 0,
          "temp_max": 18.9,
          "temp_min": 16.1,
          "weather": "sun",
          "wind": 5.8
         },
         {
          "Date new": "2015-09-01T00:00:00",
          "precipitation": 5.8,
          "temp_max": 19.4,
          "temp_min": 13.9,
          "weather": "fog",
          "wind": 5
         },
         {
          "Date new": "2015-09-02T00:00:00",
          "precipitation": 0,
          "temp_max": 19.4,
          "temp_min": 11.1,
          "weather": "sun",
          "wind": 3.8
         },
         {
          "Date new": "2015-09-03T00:00:00",
          "precipitation": 0,
          "temp_max": 18.3,
          "temp_min": 10.6,
          "weather": "sun",
          "wind": 2.9
         },
         {
          "Date new": "2015-09-04T00:00:00",
          "precipitation": 0,
          "temp_max": 18.3,
          "temp_min": 10,
          "weather": "sun",
          "wind": 2.9
         },
         {
          "Date new": "2015-09-05T00:00:00",
          "precipitation": 0.3,
          "temp_max": 20.6,
          "temp_min": 8.9,
          "weather": "sun",
          "wind": 3.5
         },
         {
          "Date new": "2015-09-06T00:00:00",
          "precipitation": 5.3,
          "temp_max": 16.1,
          "temp_min": 11.7,
          "weather": "fog",
          "wind": 2.4
         },
         {
          "Date new": "2015-09-07T00:00:00",
          "precipitation": 0.3,
          "temp_max": 21.1,
          "temp_min": 13.3,
          "weather": "fog",
          "wind": 1.5
         },
         {
          "Date new": "2015-09-08T00:00:00",
          "precipitation": 0,
          "temp_max": 22.8,
          "temp_min": 13.3,
          "weather": "sun",
          "wind": 2.4
         },
         {
          "Date new": "2015-09-09T00:00:00",
          "precipitation": 0,
          "temp_max": 24.4,
          "temp_min": 13.9,
          "weather": "sun",
          "wind": 3.3
         },
         {
          "Date new": "2015-09-10T00:00:00",
          "precipitation": 0,
          "temp_max": 25,
          "temp_min": 14.4,
          "weather": "fog",
          "wind": 3.6
         },
         {
          "Date new": "2015-09-11T00:00:00",
          "precipitation": 0,
          "temp_max": 27.2,
          "temp_min": 15,
          "weather": "sun",
          "wind": 3.1
         },
         {
          "Date new": "2015-09-12T00:00:00",
          "precipitation": 0,
          "temp_max": 26.7,
          "temp_min": 14.4,
          "weather": "sun",
          "wind": 2.1
         },
         {
          "Date new": "2015-09-13T00:00:00",
          "precipitation": 0.5,
          "temp_max": 20.6,
          "temp_min": 12.8,
          "weather": "fog",
          "wind": 3
         },
         {
          "Date new": "2015-09-14T00:00:00",
          "precipitation": 0,
          "temp_max": 16.7,
          "temp_min": 10.6,
          "weather": "sun",
          "wind": 3.4
         },
         {
          "Date new": "2015-09-15T00:00:00",
          "precipitation": 0,
          "temp_max": 17.8,
          "temp_min": 10,
          "weather": "sun",
          "wind": 2.8
         },
         {
          "Date new": "2015-09-16T00:00:00",
          "precipitation": 1,
          "temp_max": 20,
          "temp_min": 10,
          "weather": "sun",
          "wind": 1.9
         },
         {
          "Date new": "2015-09-17T00:00:00",
          "precipitation": 1.8,
          "temp_max": 18.3,
          "temp_min": 12.8,
          "weather": "fog",
          "wind": 3.8
         },
         {
          "Date new": "2015-09-18T00:00:00",
          "precipitation": 0,
          "temp_max": 19.4,
          "temp_min": 12.8,
          "weather": "sun",
          "wind": 2.6
         },
         {
          "Date new": "2015-09-19T00:00:00",
          "precipitation": 0,
          "temp_max": 21.1,
          "temp_min": 14.4,
          "weather": "sun",
          "wind": 4.3
         },
         {
          "Date new": "2015-09-20T00:00:00",
          "precipitation": 4.1,
          "temp_max": 22.8,
          "temp_min": 12.2,
          "weather": "fog",
          "wind": 6.8
         },
         {
          "Date new": "2015-09-21T00:00:00",
          "precipitation": 0,
          "temp_max": 18.3,
          "temp_min": 9.4,
          "weather": "fog",
          "wind": 2.7
         },
         {
          "Date new": "2015-09-22T00:00:00",
          "precipitation": 0,
          "temp_max": 18.9,
          "temp_min": 7.8,
          "weather": "sun",
          "wind": 2
         },
         {
          "Date new": "2015-09-23T00:00:00",
          "precipitation": 0,
          "temp_max": 20.6,
          "temp_min": 8.3,
          "weather": "sun",
          "wind": 1.8
         },
         {
          "Date new": "2015-09-24T00:00:00",
          "precipitation": 0,
          "temp_max": 22.2,
          "temp_min": 11.1,
          "weather": "fog",
          "wind": 2.5
         },
         {
          "Date new": "2015-09-25T00:00:00",
          "precipitation": 2,
          "temp_max": 15.6,
          "temp_min": 12.8,
          "weather": "fog",
          "wind": 2.6
         },
         {
          "Date new": "2015-09-26T00:00:00",
          "precipitation": 0,
          "temp_max": 18.3,
          "temp_min": 10,
          "weather": "sun",
          "wind": 2.7
         },
         {
          "Date new": "2015-09-27T00:00:00",
          "precipitation": 0,
          "temp_max": 17.8,
          "temp_min": 7.2,
          "weather": "sun",
          "wind": 3.8
         },
         {
          "Date new": "2015-09-28T00:00:00",
          "precipitation": 0,
          "temp_max": 21.1,
          "temp_min": 9.4,
          "weather": "sun",
          "wind": 5.1
         },
         {
          "Date new": "2015-09-29T00:00:00",
          "precipitation": 0,
          "temp_max": 21.7,
          "temp_min": 8.9,
          "weather": "sun",
          "wind": 1.9
         },
         {
          "Date new": "2015-09-30T00:00:00",
          "precipitation": 0,
          "temp_max": 18.3,
          "temp_min": 10,
          "weather": "fog",
          "wind": 1.3
         },
         {
          "Date new": "2015-10-01T00:00:00",
          "precipitation": 0,
          "temp_max": 21.1,
          "temp_min": 9.4,
          "weather": "fog",
          "wind": 1.3
         },
         {
          "Date new": "2015-10-02T00:00:00",
          "precipitation": 0,
          "temp_max": 15.6,
          "temp_min": 10,
          "weather": "fog",
          "wind": 2.9
         },
         {
          "Date new": "2015-10-03T00:00:00",
          "precipitation": 0,
          "temp_max": 19.4,
          "temp_min": 11.1,
          "weather": "sun",
          "wind": 4.8
         },
         {
          "Date new": "2015-10-04T00:00:00",
          "precipitation": 0,
          "temp_max": 22.8,
          "temp_min": 10,
          "weather": "sun",
          "wind": 3.7
         },
         {
          "Date new": "2015-10-05T00:00:00",
          "precipitation": 0,
          "temp_max": 23.3,
          "temp_min": 9.4,
          "weather": "sun",
          "wind": 1.6
         },
         {
          "Date new": "2015-10-06T00:00:00",
          "precipitation": 0,
          "temp_max": 18.3,
          "temp_min": 10,
          "weather": "drizzle",
          "wind": 2.6
         },
         {
          "Date new": "2015-10-07T00:00:00",
          "precipitation": 9.9,
          "temp_max": 16.1,
          "temp_min": 13.9,
          "weather": "fog",
          "wind": 2.2
         },
         {
          "Date new": "2015-10-08T00:00:00",
          "precipitation": 0,
          "temp_max": 18.9,
          "temp_min": 13.3,
          "weather": "fog",
          "wind": 1.1
         },
         {
          "Date new": "2015-10-09T00:00:00",
          "precipitation": 0.3,
          "temp_max": 19.4,
          "temp_min": 12.2,
          "weather": "fog",
          "wind": 2.6
         },
         {
          "Date new": "2015-10-10T00:00:00",
          "precipitation": 28.7,
          "temp_max": 21.1,
          "temp_min": 13.3,
          "weather": "fog",
          "wind": 4.7
         },
         {
          "Date new": "2015-10-11T00:00:00",
          "precipitation": 0,
          "temp_max": 17.8,
          "temp_min": 10.6,
          "weather": "sun",
          "wind": 2.6
         },
         {
          "Date new": "2015-10-12T00:00:00",
          "precipitation": 4.6,
          "temp_max": 18.3,
          "temp_min": 10.6,
          "weather": "fog",
          "wind": 2.8
         },
         {
          "Date new": "2015-10-13T00:00:00",
          "precipitation": 1.3,
          "temp_max": 16.7,
          "temp_min": 9.4,
          "weather": "fog",
          "wind": 3.2
         },
         {
          "Date new": "2015-10-14T00:00:00",
          "precipitation": 0,
          "temp_max": 15,
          "temp_min": 10,
          "weather": "fog",
          "wind": 5
         },
         {
          "Date new": "2015-10-15T00:00:00",
          "precipitation": 0,
          "temp_max": 21.1,
          "temp_min": 9.4,
          "weather": "fog",
          "wind": 3.4
         },
         {
          "Date new": "2015-10-16T00:00:00",
          "precipitation": 0,
          "temp_max": 20,
          "temp_min": 8.9,
          "weather": "sun",
          "wind": 1.3
         },
         {
          "Date new": "2015-10-17T00:00:00",
          "precipitation": 0.3,
          "temp_max": 19.4,
          "temp_min": 11.7,
          "weather": "fog",
          "wind": 1.3
         },
         {
          "Date new": "2015-10-18T00:00:00",
          "precipitation": 3.8,
          "temp_max": 15,
          "temp_min": 12.8,
          "weather": "fog",
          "wind": 2
         },
         {
          "Date new": "2015-10-19T00:00:00",
          "precipitation": 0.3,
          "temp_max": 17.2,
          "temp_min": 12.2,
          "weather": "fog",
          "wind": 2.6
         },
         {
          "Date new": "2015-10-20T00:00:00",
          "precipitation": 0,
          "temp_max": 17.8,
          "temp_min": 10.6,
          "weather": "fog",
          "wind": 1.8
         },
         {
          "Date new": "2015-10-21T00:00:00",
          "precipitation": 0,
          "temp_max": 16.1,
          "temp_min": 8.3,
          "weather": "fog",
          "wind": 1.3
         },
         {
          "Date new": "2015-10-22T00:00:00",
          "precipitation": 0,
          "temp_max": 16.1,
          "temp_min": 8.9,
          "weather": "fog",
          "wind": 2.7
         },
         {
          "Date new": "2015-10-23T00:00:00",
          "precipitation": 0,
          "temp_max": 12.8,
          "temp_min": 7.2,
          "weather": "fog",
          "wind": 2.6
         },
         {
          "Date new": "2015-10-24T00:00:00",
          "precipitation": 0,
          "temp_max": 15,
          "temp_min": 8.9,
          "weather": "fog",
          "wind": 2.9
         },
         {
          "Date new": "2015-10-25T00:00:00",
          "precipitation": 8.9,
          "temp_max": 19.4,
          "temp_min": 8.9,
          "weather": "rain",
          "wind": 3.4
         },
         {
          "Date new": "2015-10-26T00:00:00",
          "precipitation": 6.9,
          "temp_max": 12.2,
          "temp_min": 10,
          "weather": "fog",
          "wind": 4.6
         },
         {
          "Date new": "2015-10-27T00:00:00",
          "precipitation": 0,
          "temp_max": 16.1,
          "temp_min": 7.8,
          "weather": "fog",
          "wind": 1.7
         },
         {
          "Date new": "2015-10-28T00:00:00",
          "precipitation": 3.3,
          "temp_max": 13.9,
          "temp_min": 11.1,
          "weather": "fog",
          "wind": 2.8
         },
         {
          "Date new": "2015-10-29T00:00:00",
          "precipitation": 1.8,
          "temp_max": 15,
          "temp_min": 12.2,
          "weather": "fog",
          "wind": 4.7
         },
         {
          "Date new": "2015-10-30T00:00:00",
          "precipitation": 19.3,
          "temp_max": 17.2,
          "temp_min": 11.7,
          "weather": "fog",
          "wind": 6.7
         },
         {
          "Date new": "2015-10-31T00:00:00",
          "precipitation": 33,
          "temp_max": 15.6,
          "temp_min": 11.7,
          "weather": "fog",
          "wind": 7.2
         },
         {
          "Date new": "2015-11-01T00:00:00",
          "precipitation": 26.2,
          "temp_max": 12.2,
          "temp_min": 8.9,
          "weather": "fog",
          "wind": 6
         },
         {
          "Date new": "2015-11-02T00:00:00",
          "precipitation": 0.3,
          "temp_max": 11.1,
          "temp_min": 7.2,
          "weather": "fog",
          "wind": 2.8
         },
         {
          "Date new": "2015-11-03T00:00:00",
          "precipitation": 0.8,
          "temp_max": 10.6,
          "temp_min": 5,
          "weather": "fog",
          "wind": 1.4
         },
         {
          "Date new": "2015-11-04T00:00:00",
          "precipitation": 0,
          "temp_max": 10,
          "temp_min": 3.3,
          "weather": "sun",
          "wind": 2.2
         },
         {
          "Date new": "2015-11-05T00:00:00",
          "precipitation": 1.3,
          "temp_max": 11.7,
          "temp_min": 7.8,
          "weather": "fog",
          "wind": 2.3
         },
         {
          "Date new": "2015-11-06T00:00:00",
          "precipitation": 0,
          "temp_max": 15.6,
          "temp_min": 8.3,
          "weather": "fog",
          "wind": 2.7
         },
         {
          "Date new": "2015-11-07T00:00:00",
          "precipitation": 12.7,
          "temp_max": 12.2,
          "temp_min": 9.4,
          "weather": "fog",
          "wind": 3
         },
         {
          "Date new": "2015-11-08T00:00:00",
          "precipitation": 6.6,
          "temp_max": 11.1,
          "temp_min": 7.8,
          "weather": "fog",
          "wind": 1.8
         },
         {
          "Date new": "2015-11-09T00:00:00",
          "precipitation": 3.3,
          "temp_max": 10,
          "temp_min": 5,
          "weather": "fog",
          "wind": 1.3
         },
         {
          "Date new": "2015-11-10T00:00:00",
          "precipitation": 1.3,
          "temp_max": 11.1,
          "temp_min": 3.9,
          "weather": "fog",
          "wind": 3.9
         },
         {
          "Date new": "2015-11-11T00:00:00",
          "precipitation": 1.5,
          "temp_max": 11.1,
          "temp_min": 6.1,
          "weather": "sun",
          "wind": 4.6
         },
         {
          "Date new": "2015-11-12T00:00:00",
          "precipitation": 9.9,
          "temp_max": 11.1,
          "temp_min": 5,
          "weather": "fog",
          "wind": 5.1
         },
         {
          "Date new": "2015-11-13T00:00:00",
          "precipitation": 33.5,
          "temp_max": 13.3,
          "temp_min": 9.4,
          "weather": "fog",
          "wind": 6.5
         },
         {
          "Date new": "2015-11-14T00:00:00",
          "precipitation": 47.2,
          "temp_max": 9.4,
          "temp_min": 6.1,
          "weather": "fog",
          "wind": 4.5
         },
         {
          "Date new": "2015-11-15T00:00:00",
          "precipitation": 22.4,
          "temp_max": 8.9,
          "temp_min": 2.2,
          "weather": "fog",
          "wind": 4.1
         },
         {
          "Date new": "2015-11-16T00:00:00",
          "precipitation": 2,
          "temp_max": 8.9,
          "temp_min": 1.7,
          "weather": "fog",
          "wind": 4
         },
         {
          "Date new": "2015-11-17T00:00:00",
          "precipitation": 29.5,
          "temp_max": 13.3,
          "temp_min": 6.7,
          "weather": "fog",
          "wind": 8
         },
         {
          "Date new": "2015-11-18T00:00:00",
          "precipitation": 1.5,
          "temp_max": 8.9,
          "temp_min": 3.3,
          "weather": "sun",
          "wind": 3.8
         },
         {
          "Date new": "2015-11-19T00:00:00",
          "precipitation": 2,
          "temp_max": 8.9,
          "temp_min": 2.8,
          "weather": "sun",
          "wind": 4.2
         },
         {
          "Date new": "2015-11-20T00:00:00",
          "precipitation": 0,
          "temp_max": 8.3,
          "temp_min": 0.6,
          "weather": "fog",
          "wind": 4
         },
         {
          "Date new": "2015-11-21T00:00:00",
          "precipitation": 0,
          "temp_max": 8.9,
          "temp_min": 0.6,
          "weather": "sun",
          "wind": 4.7
         },
         {
          "Date new": "2015-11-22T00:00:00",
          "precipitation": 0,
          "temp_max": 10,
          "temp_min": 1.7,
          "weather": "fog",
          "wind": 3.1
         },
         {
          "Date new": "2015-11-23T00:00:00",
          "precipitation": 3,
          "temp_max": 6.7,
          "temp_min": 0,
          "weather": "fog",
          "wind": 1.3
         },
         {
          "Date new": "2015-11-24T00:00:00",
          "precipitation": 7.1,
          "temp_max": 6.7,
          "temp_min": 2.8,
          "weather": "fog",
          "wind": 4.5
         },
         {
          "Date new": "2015-11-25T00:00:00",
          "precipitation": 0,
          "temp_max": 7.2,
          "temp_min": 0,
          "weather": "sun",
          "wind": 5.7
         },
         {
          "Date new": "2015-11-26T00:00:00",
          "precipitation": 0,
          "temp_max": 9.4,
          "temp_min": -1,
          "weather": "sun",
          "wind": 4.3
         },
         {
          "Date new": "2015-11-27T00:00:00",
          "precipitation": 0,
          "temp_max": 9.4,
          "temp_min": -1.6,
          "weather": "sun",
          "wind": 3
         },
         {
          "Date new": "2015-11-28T00:00:00",
          "precipitation": 0,
          "temp_max": 7.2,
          "temp_min": -2.7,
          "weather": "sun",
          "wind": 1
         },
         {
          "Date new": "2015-11-29T00:00:00",
          "precipitation": 0,
          "temp_max": 1.7,
          "temp_min": -2.1,
          "weather": "fog",
          "wind": 0.9
         },
         {
          "Date new": "2015-11-30T00:00:00",
          "precipitation": 0.5,
          "temp_max": 5.6,
          "temp_min": -3.8,
          "weather": "fog",
          "wind": 1.7
         },
         {
          "Date new": "2015-12-01T00:00:00",
          "precipitation": 12.2,
          "temp_max": 10,
          "temp_min": 3.9,
          "weather": "fog",
          "wind": 3.5
         },
         {
          "Date new": "2015-12-02T00:00:00",
          "precipitation": 2.5,
          "temp_max": 10.6,
          "temp_min": 4.4,
          "weather": "fog",
          "wind": 5
         },
         {
          "Date new": "2015-12-03T00:00:00",
          "precipitation": 12.7,
          "temp_max": 15.6,
          "temp_min": 7.8,
          "weather": "fog",
          "wind": 5.9
         },
         {
          "Date new": "2015-12-04T00:00:00",
          "precipitation": 2,
          "temp_max": 10.6,
          "temp_min": 6.1,
          "weather": "fog",
          "wind": 4.7
         },
         {
          "Date new": "2015-12-05T00:00:00",
          "precipitation": 15.7,
          "temp_max": 10,
          "temp_min": 6.1,
          "weather": "fog",
          "wind": 4
         },
         {
          "Date new": "2015-12-06T00:00:00",
          "precipitation": 11.2,
          "temp_max": 12.8,
          "temp_min": 7.2,
          "weather": "fog",
          "wind": 5.9
         },
         {
          "Date new": "2015-12-07T00:00:00",
          "precipitation": 27.4,
          "temp_max": 11.1,
          "temp_min": 8.3,
          "weather": "fog",
          "wind": 3.4
         },
         {
          "Date new": "2015-12-08T00:00:00",
          "precipitation": 54.1,
          "temp_max": 15.6,
          "temp_min": 10,
          "weather": "fog",
          "wind": 6.2
         },
         {
          "Date new": "2015-12-09T00:00:00",
          "precipitation": 13.5,
          "temp_max": 12.2,
          "temp_min": 7.8,
          "weather": "fog",
          "wind": 6.3
         },
         {
          "Date new": "2015-12-10T00:00:00",
          "precipitation": 9.4,
          "temp_max": 11.7,
          "temp_min": 6.1,
          "weather": "fog",
          "wind": 7.5
         },
         {
          "Date new": "2015-12-11T00:00:00",
          "precipitation": 0.3,
          "temp_max": 9.4,
          "temp_min": 4.4,
          "weather": "sun",
          "wind": 2.8
         },
         {
          "Date new": "2015-12-12T00:00:00",
          "precipitation": 16,
          "temp_max": 8.9,
          "temp_min": 5.6,
          "weather": "fog",
          "wind": 5.6
         },
         {
          "Date new": "2015-12-13T00:00:00",
          "precipitation": 1.3,
          "temp_max": 7.8,
          "temp_min": 6.1,
          "weather": "sun",
          "wind": 6.1
         },
         {
          "Date new": "2015-12-14T00:00:00",
          "precipitation": 0,
          "temp_max": 7.8,
          "temp_min": 1.7,
          "weather": "sun",
          "wind": 1.7
         },
         {
          "Date new": "2015-12-15T00:00:00",
          "precipitation": 1.5,
          "temp_max": 6.7,
          "temp_min": 1.1,
          "weather": "fog",
          "wind": 2.9
         },
         {
          "Date new": "2015-12-16T00:00:00",
          "precipitation": 3.6,
          "temp_max": 6.1,
          "temp_min": 2.8,
          "weather": "fog",
          "wind": 2.3
         },
         {
          "Date new": "2015-12-17T00:00:00",
          "precipitation": 21.8,
          "temp_max": 6.7,
          "temp_min": 3.9,
          "weather": "fog",
          "wind": 6
         },
         {
          "Date new": "2015-12-18T00:00:00",
          "precipitation": 18.5,
          "temp_max": 8.9,
          "temp_min": 4.4,
          "weather": "fog",
          "wind": 5.1
         },
         {
          "Date new": "2015-12-19T00:00:00",
          "precipitation": 0,
          "temp_max": 8.3,
          "temp_min": 2.8,
          "weather": "fog",
          "wind": 4.1
         },
         {
          "Date new": "2015-12-20T00:00:00",
          "precipitation": 4.3,
          "temp_max": 7.8,
          "temp_min": 4.4,
          "weather": "fog",
          "wind": 6.7
         },
         {
          "Date new": "2015-12-21T00:00:00",
          "precipitation": 27.4,
          "temp_max": 5.6,
          "temp_min": 2.8,
          "weather": "fog",
          "wind": 4.3
         },
         {
          "Date new": "2015-12-22T00:00:00",
          "precipitation": 4.6,
          "temp_max": 7.8,
          "temp_min": 2.8,
          "weather": "fog",
          "wind": 5
         },
         {
          "Date new": "2015-12-23T00:00:00",
          "precipitation": 6.1,
          "temp_max": 5,
          "temp_min": 2.8,
          "weather": "fog",
          "wind": 7.6
         },
         {
          "Date new": "2015-12-24T00:00:00",
          "precipitation": 2.5,
          "temp_max": 5.6,
          "temp_min": 2.2,
          "weather": "fog",
          "wind": 4.3
         },
         {
          "Date new": "2015-12-25T00:00:00",
          "precipitation": 5.8,
          "temp_max": 5,
          "temp_min": 2.2,
          "weather": "fog",
          "wind": 1.5
         },
         {
          "Date new": "2015-12-26T00:00:00",
          "precipitation": 0,
          "temp_max": 4.4,
          "temp_min": 0,
          "weather": "sun",
          "wind": 2.5
         },
         {
          "Date new": "2015-12-27T00:00:00",
          "precipitation": 8.6,
          "temp_max": 4.4,
          "temp_min": 1.7,
          "weather": "fog",
          "wind": 2.9
         },
         {
          "Date new": "2015-12-28T00:00:00",
          "precipitation": 1.5,
          "temp_max": 5,
          "temp_min": 1.7,
          "weather": "fog",
          "wind": 1.3
         },
         {
          "Date new": "2015-12-29T00:00:00",
          "precipitation": 0,
          "temp_max": 7.2,
          "temp_min": 0.6,
          "weather": "fog",
          "wind": 2.6
         },
         {
          "Date new": "2015-12-30T00:00:00",
          "precipitation": 0,
          "temp_max": 5.6,
          "temp_min": -1,
          "weather": "sun",
          "wind": 3.4
         },
         {
          "Date new": "2015-12-31T00:00:00",
          "precipitation": 0,
          "temp_max": 5.6,
          "temp_min": -2.1,
          "weather": "sun",
          "wind": 3.5
         }
        ]
       },
       "layer": [
        {
         "layer": [
          {
           "encoding": {
            "opacity": {
             "condition": {
              "param": "brs",
              "value": 1
             },
             "value": 0.7
            },
            "x": {
             "field": "Date new",
             "timeUnit": "month",
             "type": "ordinal"
            },
            "y": {
             "aggregate": "mean",
             "field": "precipitation",
             "type": "quantitative"
            }
           },
           "mark": {
            "type": "bar"
           },
           "name": "bars"
          }
         ]
        },
        {
         "layer": [
          {
           "encoding": {
            "size": {
             "value": 3
            },
            "y": {
             "aggregate": "mean",
             "field": "precipitation",
             "type": "quantitative"
            }
           },
           "mark": {
            "color": "firebrick",
            "type": "rule"
           },
           "transform": [
            {
             "filter": {
              "param": "brs"
             }
            }
           ]
          }
         ]
        }
       ],
       "params": [
        {
         "name": "brs",
         "select": {
          "encodings": [
           "x"
          ],
          "type": "interval"
         },
         "value": {
          "month_Date new": [
           1346479200000,
           1349071200000,
           1351749600000,
           1354345200000
          ]
         },
         "views": [
          "bars"
         ]
        }
       ]
      },
      "image/png": "[encoded data removed]"
     },
     "execution_count": 3,
     "metadata": {
      "cellId": "17eda4dd-cc93-4576-8d8d-2557e666ed03"
     },
     "output_type": "execute_result"
    }
   ],
   "source": [
    "brush = alt.selection_interval(encodings=['x'], name=\"brs\")\n",
    "\n",
    "\n",
    "bars = alt.Chart(name=\"bars\").mark_bar().encode(\n",
    "    x='month(Date new):O',\n",
    "    y='mean(precipitation):Q',\n",
    "    opacity=alt.condition(brush, alt.OpacityValue(1), alt.OpacityValue(0.7)),\n",
    ").add_params(\n",
    "    brush\n",
    ")\n",
    "\n",
    "line = alt.Chart().mark_rule(color='firebrick').encode(\n",
    "    y='mean(precipitation):Q',\n",
    "    size=alt.SizeValue(3)\n",
    ").transform_filter(\n",
    "    brush\n",
    ")\n",
    "\n",
    "alt.layer(bars, line, data=source)"
   ]
  },
  {
   "cell_type": "code",
   "execution_count": null,
   "id": "c3173bad-d76e-40ab-9fc6-ee519f5d1bfa",
   "metadata": {
    "trrack_graph": "ᯡ࠽䈌ʀ匦㢠⹰ಀᆡⰤ瀬押ހୠᆶì∡ㅥ⍂怰攱8梵崒őㆃ熥䒴E䨲࢔沙ը⭵埄櫣䮯㽡懂†涹僤ẰӁĠפìW౐㮨⃎濹䠡㜸㔠ʑ㥀ǔÚͣᎹ䤽䂂䘮ヸ惀Ēいठඨ≧柨ឳ姨ؠ嬸ී౤೦Ң哻䑁ᦨࢣᩕ䀺晼搪疧䈡㸦㻆乓Ԧ悦沩Ǣ᪀㕖o#䦝抣熡↕噁拎潧㍙夤्ᗡဳ䠸紌∼ऺ᭚䶰␂ᆁ⠨ワĭ湬़䚀ࣾ⫣㚲ቌ੤Ȼᅃ࠰ᛑ屒☷ߣࢄల䇁梬ଭ䔃㣜¨ℳ㱈5栶֮ⷖὃ抴⊊䩨桉浕ᩂಠ  "
   },
   "outputs": [],
   "source": []
  }
 ],
 "metadata": {
  "__CATEGORIES_META__": "{\"categories\":{},\"activeCategoryName\":\"\"}",
  "kernelspec": {
   "display_name": "Python 3 (ipykernel)",
   "language": "python",
   "name": "python3"
  },
  "language_info": {
   "codemirror_mode": {
    "name": "ipython",
    "version": 3
   },
   "file_extension": ".py",
   "mimetype": "text/x-python",
   "name": "python",
   "nbconvert_exporter": "python",
   "pygments_lexer": "ipython3",
   "version": "3.8.17"
  }
 },
 "nbformat": 4,
 "nbformat_minor": 5
}
